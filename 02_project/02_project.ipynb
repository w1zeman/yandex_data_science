{
  "cells": [
    {
      "cell_type": "markdown",
      "metadata": {
        "id": "v5RaAPE_zg_2"
      },
      "source": [
        "# Исследование надёжности заёмщиков\n",
        "\n",
        "Заказчик — кредитный отдел банка. Нужно разобраться, влияет ли семейное положение и количество детей клиента на факт погашения кредита в срок. Входные данные от банка — статистика о платёжеспособности клиентов.\n",
        "\n",
        "Результаты исследования будут учтены при построении модели **кредитного скоринга** — специальной системы, которая оценивает способность потенциального заёмщика вернуть кредит банку."
      ]
    },
    {
      "cell_type": "markdown",
      "metadata": {
        "id": "BEAMeHFozg_3"
      },
      "source": [
        "## Шаг 1. Откройте файл с данными и изучите общую информацию"
      ]
    },
    {
      "cell_type": "code",
      "execution_count": null,
      "metadata": {
        "id": "dzKL5mr_zg_4",
        "outputId": "d43b75d3-3693-41ee-845b-120c7293ee70"
      },
      "outputs": [
        {
          "data": {
            "text/html": [
              "<div>\n",
              "<style scoped>\n",
              "    .dataframe tbody tr th:only-of-type {\n",
              "        vertical-align: middle;\n",
              "    }\n",
              "\n",
              "    .dataframe tbody tr th {\n",
              "        vertical-align: top;\n",
              "    }\n",
              "\n",
              "    .dataframe thead th {\n",
              "        text-align: right;\n",
              "    }\n",
              "</style>\n",
              "<table border=\"1\" class=\"dataframe\">\n",
              "  <thead>\n",
              "    <tr style=\"text-align: right;\">\n",
              "      <th></th>\n",
              "      <th>children</th>\n",
              "      <th>days_employed</th>\n",
              "      <th>dob_years</th>\n",
              "      <th>education</th>\n",
              "      <th>education_id</th>\n",
              "      <th>family_status</th>\n",
              "      <th>family_status_id</th>\n",
              "      <th>gender</th>\n",
              "      <th>income_type</th>\n",
              "      <th>debt</th>\n",
              "      <th>total_income</th>\n",
              "      <th>purpose</th>\n",
              "    </tr>\n",
              "  </thead>\n",
              "  <tbody>\n",
              "    <tr>\n",
              "      <td>0</td>\n",
              "      <td>1</td>\n",
              "      <td>-8437.673028</td>\n",
              "      <td>42</td>\n",
              "      <td>высшее</td>\n",
              "      <td>0</td>\n",
              "      <td>женат / замужем</td>\n",
              "      <td>0</td>\n",
              "      <td>F</td>\n",
              "      <td>сотрудник</td>\n",
              "      <td>0</td>\n",
              "      <td>253875.639453</td>\n",
              "      <td>покупка жилья</td>\n",
              "    </tr>\n",
              "    <tr>\n",
              "      <td>1</td>\n",
              "      <td>1</td>\n",
              "      <td>-4024.803754</td>\n",
              "      <td>36</td>\n",
              "      <td>среднее</td>\n",
              "      <td>1</td>\n",
              "      <td>женат / замужем</td>\n",
              "      <td>0</td>\n",
              "      <td>F</td>\n",
              "      <td>сотрудник</td>\n",
              "      <td>0</td>\n",
              "      <td>112080.014102</td>\n",
              "      <td>приобретение автомобиля</td>\n",
              "    </tr>\n",
              "    <tr>\n",
              "      <td>2</td>\n",
              "      <td>0</td>\n",
              "      <td>-5623.422610</td>\n",
              "      <td>33</td>\n",
              "      <td>Среднее</td>\n",
              "      <td>1</td>\n",
              "      <td>женат / замужем</td>\n",
              "      <td>0</td>\n",
              "      <td>M</td>\n",
              "      <td>сотрудник</td>\n",
              "      <td>0</td>\n",
              "      <td>145885.952297</td>\n",
              "      <td>покупка жилья</td>\n",
              "    </tr>\n",
              "    <tr>\n",
              "      <td>3</td>\n",
              "      <td>3</td>\n",
              "      <td>-4124.747207</td>\n",
              "      <td>32</td>\n",
              "      <td>среднее</td>\n",
              "      <td>1</td>\n",
              "      <td>женат / замужем</td>\n",
              "      <td>0</td>\n",
              "      <td>M</td>\n",
              "      <td>сотрудник</td>\n",
              "      <td>0</td>\n",
              "      <td>267628.550329</td>\n",
              "      <td>дополнительное образование</td>\n",
              "    </tr>\n",
              "    <tr>\n",
              "      <td>4</td>\n",
              "      <td>0</td>\n",
              "      <td>340266.072047</td>\n",
              "      <td>53</td>\n",
              "      <td>среднее</td>\n",
              "      <td>1</td>\n",
              "      <td>гражданский брак</td>\n",
              "      <td>1</td>\n",
              "      <td>F</td>\n",
              "      <td>пенсионер</td>\n",
              "      <td>0</td>\n",
              "      <td>158616.077870</td>\n",
              "      <td>сыграть свадьбу</td>\n",
              "    </tr>\n",
              "    <tr>\n",
              "      <td>5</td>\n",
              "      <td>0</td>\n",
              "      <td>-926.185831</td>\n",
              "      <td>27</td>\n",
              "      <td>высшее</td>\n",
              "      <td>0</td>\n",
              "      <td>гражданский брак</td>\n",
              "      <td>1</td>\n",
              "      <td>M</td>\n",
              "      <td>компаньон</td>\n",
              "      <td>0</td>\n",
              "      <td>255763.565419</td>\n",
              "      <td>покупка жилья</td>\n",
              "    </tr>\n",
              "    <tr>\n",
              "      <td>6</td>\n",
              "      <td>0</td>\n",
              "      <td>-2879.202052</td>\n",
              "      <td>43</td>\n",
              "      <td>высшее</td>\n",
              "      <td>0</td>\n",
              "      <td>женат / замужем</td>\n",
              "      <td>0</td>\n",
              "      <td>F</td>\n",
              "      <td>компаньон</td>\n",
              "      <td>0</td>\n",
              "      <td>240525.971920</td>\n",
              "      <td>операции с жильем</td>\n",
              "    </tr>\n",
              "    <tr>\n",
              "      <td>7</td>\n",
              "      <td>0</td>\n",
              "      <td>-152.779569</td>\n",
              "      <td>50</td>\n",
              "      <td>СРЕДНЕЕ</td>\n",
              "      <td>1</td>\n",
              "      <td>женат / замужем</td>\n",
              "      <td>0</td>\n",
              "      <td>M</td>\n",
              "      <td>сотрудник</td>\n",
              "      <td>0</td>\n",
              "      <td>135823.934197</td>\n",
              "      <td>образование</td>\n",
              "    </tr>\n",
              "    <tr>\n",
              "      <td>8</td>\n",
              "      <td>2</td>\n",
              "      <td>-6929.865299</td>\n",
              "      <td>35</td>\n",
              "      <td>ВЫСШЕЕ</td>\n",
              "      <td>0</td>\n",
              "      <td>гражданский брак</td>\n",
              "      <td>1</td>\n",
              "      <td>F</td>\n",
              "      <td>сотрудник</td>\n",
              "      <td>0</td>\n",
              "      <td>95856.832424</td>\n",
              "      <td>на проведение свадьбы</td>\n",
              "    </tr>\n",
              "    <tr>\n",
              "      <td>9</td>\n",
              "      <td>0</td>\n",
              "      <td>-2188.756445</td>\n",
              "      <td>41</td>\n",
              "      <td>среднее</td>\n",
              "      <td>1</td>\n",
              "      <td>женат / замужем</td>\n",
              "      <td>0</td>\n",
              "      <td>M</td>\n",
              "      <td>сотрудник</td>\n",
              "      <td>0</td>\n",
              "      <td>144425.938277</td>\n",
              "      <td>покупка жилья для семьи</td>\n",
              "    </tr>\n",
              "  </tbody>\n",
              "</table>\n",
              "</div>"
            ],
            "text/plain": [
              "   children  days_employed  dob_years education  education_id  \\\n",
              "0         1   -8437.673028         42    высшее             0   \n",
              "1         1   -4024.803754         36   среднее             1   \n",
              "2         0   -5623.422610         33   Среднее             1   \n",
              "3         3   -4124.747207         32   среднее             1   \n",
              "4         0  340266.072047         53   среднее             1   \n",
              "5         0    -926.185831         27    высшее             0   \n",
              "6         0   -2879.202052         43    высшее             0   \n",
              "7         0    -152.779569         50   СРЕДНЕЕ             1   \n",
              "8         2   -6929.865299         35    ВЫСШЕЕ             0   \n",
              "9         0   -2188.756445         41   среднее             1   \n",
              "\n",
              "      family_status  family_status_id gender income_type  debt   total_income  \\\n",
              "0   женат / замужем                 0      F   сотрудник     0  253875.639453   \n",
              "1   женат / замужем                 0      F   сотрудник     0  112080.014102   \n",
              "2   женат / замужем                 0      M   сотрудник     0  145885.952297   \n",
              "3   женат / замужем                 0      M   сотрудник     0  267628.550329   \n",
              "4  гражданский брак                 1      F   пенсионер     0  158616.077870   \n",
              "5  гражданский брак                 1      M   компаньон     0  255763.565419   \n",
              "6   женат / замужем                 0      F   компаньон     0  240525.971920   \n",
              "7   женат / замужем                 0      M   сотрудник     0  135823.934197   \n",
              "8  гражданский брак                 1      F   сотрудник     0   95856.832424   \n",
              "9   женат / замужем                 0      M   сотрудник     0  144425.938277   \n",
              "\n",
              "                      purpose  \n",
              "0               покупка жилья  \n",
              "1     приобретение автомобиля  \n",
              "2               покупка жилья  \n",
              "3  дополнительное образование  \n",
              "4             сыграть свадьбу  \n",
              "5               покупка жилья  \n",
              "6           операции с жильем  \n",
              "7                 образование  \n",
              "8       на проведение свадьбы  \n",
              "9     покупка жилья для семьи  "
            ]
          },
          "execution_count": 1,
          "metadata": {},
          "output_type": "execute_result"
        }
      ],
      "source": [
        "# импорт библиотеки pandas\n",
        "import pandas as pd\n",
        "\n",
        "# импорт контейнера SnowballStemmer из модуля nltk.stem\n",
        "from nltk.stem import SnowballStemmer\n",
        "\n",
        "# Передаём стеммеру как аргумент значение 'russian', чтобы включить лингвистический анализ именно русского языка\n",
        "russian_stemmer = SnowballStemmer('russian')\n",
        "\n",
        "# импорт контейнера Mystem из модуля pymystem3\n",
        "from pymystem3 import Mystem\n",
        "m = Mystem()\n",
        "\n",
        "# импорт контейнера Counter из модуля collections\n",
        "from collections import Counter\n",
        "\n",
        "# чтение файла с данными и сохранение в data\n",
        "data = pd.read_csv('/datasets/data.csv')\n",
        "\n",
        "# получение первых 10 строк таблицы data\n",
        "data.head(10)"
      ]
    },
    {
      "cell_type": "code",
      "execution_count": null,
      "metadata": {
        "id": "eUSzBkxQzg_7",
        "outputId": "c06ec984-9003-4dae-df3d-a5e09744cb99"
      },
      "outputs": [
        {
          "name": "stdout",
          "output_type": "stream",
          "text": [
            "<class 'pandas.core.frame.DataFrame'>\n",
            "RangeIndex: 21525 entries, 0 to 21524\n",
            "Data columns (total 12 columns):\n",
            "children            21525 non-null int64\n",
            "days_employed       19351 non-null float64\n",
            "dob_years           21525 non-null int64\n",
            "education           21525 non-null object\n",
            "education_id        21525 non-null int64\n",
            "family_status       21525 non-null object\n",
            "family_status_id    21525 non-null int64\n",
            "gender              21525 non-null object\n",
            "income_type         21525 non-null object\n",
            "debt                21525 non-null int64\n",
            "total_income        19351 non-null float64\n",
            "purpose             21525 non-null object\n",
            "dtypes: float64(2), int64(5), object(5)\n",
            "memory usage: 2.0+ MB\n"
          ]
        }
      ],
      "source": [
        "# получение первых 10 строк таблицы data\n",
        "data.info()"
      ]
    },
    {
      "cell_type": "markdown",
      "metadata": {
        "id": "yWy9zIDhzg_7"
      },
      "source": [
        "Итак, в таблице 12 столбцов. Типы данных во всех столбцах — `float64`, `int64`, `object`.\n",
        "\n",
        "Согласно документации к данным:\n",
        "\n",
        "* `children` — количество детей в семье\n",
        "* `days_employed` — общий трудовой стаж в днях\n",
        "* `dob_years` — возраст клиента в годах\n",
        "* `education` — уровень образования клиента\n",
        "* `education_id` — идентификатор уровня образования\n",
        "* `family_status` — семейное положение\n",
        "* `family_status_id` — идентификатор семейного положения\n",
        "* `gender` — пол клиента\n",
        "* `income_type` — тип занятости\n",
        "* `debt` — имел ли задолженность по возврату кредитов\n",
        "* `total_income` — ежемесячный доход\n",
        "* `purpose` — цель получения кредита\n",
        "\n",
        "В названиях колонок не видны нарушения стиля:\n",
        "\n",
        "В данных видны проблемы:\n",
        "1. Количество значений в столбцах различается. В данных `days_employed` и `total_income` - есть пропущенные значения.\n",
        "2. Колонка `days_employed`(стаж в днях) имеет тип данных - `float64`, трудовой стаж должен быть в целых днях. Значит в данной колонке есть ошибки.\n",
        "3. В колонке `education` - неявные дубликаты названия образования заемщика. Это могут быть названия образований с ошибками, символы в разном регистре или альтернативные названия того же жанра.\n",
        "4. В колонке `purpose` - неявные дубликаты."
      ]
    },
    {
      "cell_type": "code",
      "execution_count": null,
      "metadata": {
        "id": "cjDu3qxpzg_9",
        "outputId": "b06a2646-20eb-4842-9764-199f0a3380a5"
      },
      "outputs": [
        {
          "data": {
            "text/plain": [
              "array([-1,  0,  1,  2,  3,  4,  5, 20])"
            ]
          },
          "execution_count": 3,
          "metadata": {},
          "output_type": "execute_result"
        }
      ],
      "source": [
        "# поиск артефактов в столбце children\n",
        "data['children'].sort_values().unique()"
      ]
    },
    {
      "cell_type": "markdown",
      "metadata": {
        "id": "wZGj5gZyzg_9"
      },
      "source": [
        "Артефакты найдены: \"-1\" и \"20\" детей заёмщик иметь не может."
      ]
    },
    {
      "cell_type": "code",
      "execution_count": null,
      "metadata": {
        "id": "QAMYkBImzg_-",
        "outputId": "6a622331-70d3-4a4d-ee59-4612c08e8c26"
      },
      "outputs": [
        {
          "data": {
            "text/plain": [
              "array([ 0, 19, 20, 21, 22, 23, 24, 25, 26, 27, 28, 29, 30, 31, 32, 33, 34,\n",
              "       35, 36, 37, 38, 39, 40, 41, 42, 43, 44, 45, 46, 47, 48, 49, 50, 51,\n",
              "       52, 53, 54, 55, 56, 57, 58, 59, 60, 61, 62, 63, 64, 65, 66, 67, 68,\n",
              "       69, 70, 71, 72, 73, 74, 75])"
            ]
          },
          "execution_count": 4,
          "metadata": {},
          "output_type": "execute_result"
        }
      ],
      "source": [
        "# поиск артефактов в столбце dob_years\n",
        "data['dob_years'].sort_values().unique()"
      ]
    },
    {
      "cell_type": "markdown",
      "metadata": {
        "id": "yFJUPnAXzg_-"
      },
      "source": [
        "Артефакт найден. Возраст заёмщика не может быть нулем."
      ]
    },
    {
      "cell_type": "code",
      "execution_count": null,
      "metadata": {
        "id": "tTt4sqYQzg_-",
        "outputId": "b09c37f5-7c2d-4c8b-8622-9ddfeb1411ce"
      },
      "outputs": [
        {
          "data": {
            "text/plain": [
              "array(['ВЫСШЕЕ', 'Высшее', 'НАЧАЛЬНОЕ', 'НЕОКОНЧЕННОЕ ВЫСШЕЕ',\n",
              "       'Начальное', 'Неоконченное высшее', 'СРЕДНЕЕ', 'Среднее',\n",
              "       'УЧЕНАЯ СТЕПЕНЬ', 'Ученая степень', 'высшее', 'начальное',\n",
              "       'неоконченное высшее', 'среднее', 'ученая степень'], dtype=object)"
            ]
          },
          "execution_count": 5,
          "metadata": {},
          "output_type": "execute_result"
        }
      ],
      "source": [
        "# поиск артефактов в столбце education\n",
        "data['education'].sort_values().unique()"
      ]
    },
    {
      "cell_type": "code",
      "execution_count": null,
      "metadata": {
        "id": "vk8T8eKBzg__",
        "outputId": "93a53e19-1d88-4f80-8922-a867a216bdb5"
      },
      "outputs": [
        {
          "name": "stdout",
          "output_type": "stream",
          "text": [
            "Уникальные значения столбца education\n",
            "['высшее' 'начальное' 'неоконченное высшее' 'среднее' 'ученая степень'] \n",
            "\n",
            "Уникальные значения столбца family_status\n",
            "['в разводе' 'вдовец / вдова' 'гражданский брак' 'женат / замужем'\n",
            " 'не женат / не замужем'] \n",
            "\n",
            "Уникальные значения столбца gender\n",
            "['F' 'M' 'XNA'] \n",
            "\n",
            "Уникальные значения столбца income_type\n",
            "['безработный' 'в декрете' 'госслужащий' 'компаньон' 'пенсионер'\n",
            " 'предприниматель' 'сотрудник' 'студент'] \n",
            "\n",
            "Уникальные значения столбца purpose\n",
            "['автомобили' 'автомобиль' 'высшее образование'\n",
            " 'дополнительное образование' 'жилье' 'заняться высшим образованием'\n",
            " 'заняться образованием' 'на покупку автомобиля'\n",
            " 'на покупку подержанного автомобиля' 'на покупку своего автомобиля'\n",
            " 'на проведение свадьбы' 'недвижимость' 'образование' 'операции с жильем'\n",
            " 'операции с коммерческой недвижимостью' 'операции с недвижимостью'\n",
            " 'операции со своей недвижимостью' 'покупка жилой недвижимости'\n",
            " 'покупка жилья' 'покупка жилья для сдачи' 'покупка жилья для семьи'\n",
            " 'покупка коммерческой недвижимости' 'покупка недвижимости'\n",
            " 'покупка своего жилья' 'получение высшего образования'\n",
            " 'получение дополнительного образования' 'получение образования'\n",
            " 'приобретение автомобиля' 'профильное образование' 'ремонт жилью'\n",
            " 'свадьба' 'свой автомобиль' 'сделка с автомобилем'\n",
            " 'сделка с подержанным автомобилем' 'строительство жилой недвижимости'\n",
            " 'строительство недвижимости' 'строительство собственной недвижимости'\n",
            " 'сыграть свадьбу'] \n",
            "\n",
            "Уникальные значения столбца purpose_type\n",
            "['автомобиль' 'недвижимость' 'образование' 'свадьба'] \n",
            "\n",
            "Уникальные значения столбца children_status\n",
            "['да' 'нет'] \n",
            "\n",
            "Уникальные значения столбца total_income_group_status\n",
            "['высокий' 'низкий' 'средний'] \n",
            "\n"
          ]
        }
      ],
      "source": [
        "for col in data.select_dtypes(include='object').columns:\n",
        "    print('Уникальные значения столбца', col)\n",
        "    print(data[col].sort_values().unique(), '\\n')"
      ]
    },
    {
      "cell_type": "markdown",
      "metadata": {
        "id": "TD4PrScNzg__"
      },
      "source": [
        "Артефактов нет. Только дупликаты."
      ]
    },
    {
      "cell_type": "code",
      "execution_count": null,
      "metadata": {
        "id": "zrV2nRdIzhAA",
        "outputId": "7800a241-e2b9-4343-828c-3631e31b0193"
      },
      "outputs": [
        {
          "data": {
            "text/plain": [
              "array([0, 1, 2, 3, 4])"
            ]
          },
          "execution_count": 6,
          "metadata": {},
          "output_type": "execute_result"
        }
      ],
      "source": [
        "# поиск артефактов в столбце education_id\n",
        "data['education_id'].sort_values().unique()"
      ]
    },
    {
      "cell_type": "markdown",
      "metadata": {
        "id": "GvGEQ7vpzhAA"
      },
      "source": [
        "Артефактов нет."
      ]
    },
    {
      "cell_type": "code",
      "execution_count": null,
      "metadata": {
        "id": "NIhpAaBczhAA",
        "outputId": "a3ccdfe8-6ae7-41dc-8a9e-09d28e8ccf8c"
      },
      "outputs": [
        {
          "data": {
            "text/plain": [
              "array(['Не женат / не замужем', 'в разводе', 'вдовец / вдова',\n",
              "       'гражданский брак', 'женат / замужем'], dtype=object)"
            ]
          },
          "execution_count": 7,
          "metadata": {},
          "output_type": "execute_result"
        }
      ],
      "source": [
        "# поиск артефактов в столбце family_status\n",
        "data['family_status'].sort_values().unique()"
      ]
    },
    {
      "cell_type": "markdown",
      "metadata": {
        "id": "eoaYd0JnzhAA"
      },
      "source": [
        "Артефактов нет. Но есть проблема стиля записи 'Не женат / не замужем'."
      ]
    },
    {
      "cell_type": "code",
      "execution_count": null,
      "metadata": {
        "id": "ydxaAYVSzhAA",
        "outputId": "2a3f5013-57ed-4429-95d2-76a217c7c2b9"
      },
      "outputs": [
        {
          "data": {
            "text/plain": [
              "array([0, 1, 2, 3, 4])"
            ]
          },
          "execution_count": 8,
          "metadata": {},
          "output_type": "execute_result"
        }
      ],
      "source": [
        "# поиск артефактов в столбце family_status_id\n",
        "data['family_status_id'].sort_values().unique()"
      ]
    },
    {
      "cell_type": "markdown",
      "metadata": {
        "id": "SKVpMlw3zhAB"
      },
      "source": [
        "Артефактов нет."
      ]
    },
    {
      "cell_type": "code",
      "execution_count": null,
      "metadata": {
        "id": "uHHKMWSnzhAB",
        "outputId": "bc7e61b6-5588-44a6-bac0-bf9f925a5682"
      },
      "outputs": [
        {
          "data": {
            "text/plain": [
              "array(['F', 'M', 'XNA'], dtype=object)"
            ]
          },
          "execution_count": 9,
          "metadata": {},
          "output_type": "execute_result"
        }
      ],
      "source": [
        "# поиск артефактов в столбце gender\n",
        "data['gender'].sort_values().unique()"
      ]
    },
    {
      "cell_type": "markdown",
      "metadata": {
        "id": "CaXv1bNizhAB"
      },
      "source": [
        "Артефактов найден. XNA указывает на неуказанный пол. В нашем исследовании данные по гендеру заемщика не понадобятся."
      ]
    },
    {
      "cell_type": "code",
      "execution_count": null,
      "metadata": {
        "id": "4CypWdGWzhAB",
        "outputId": "050985be-57b2-4e58-aa61-cde001f5e132"
      },
      "outputs": [
        {
          "data": {
            "text/plain": [
              "array(['безработный', 'в декрете', 'госслужащий', 'компаньон',\n",
              "       'пенсионер', 'предприниматель', 'сотрудник', 'студент'],\n",
              "      dtype=object)"
            ]
          },
          "execution_count": 10,
          "metadata": {},
          "output_type": "execute_result"
        }
      ],
      "source": [
        "# поиск артефактов в столбце income_type\n",
        "data['income_type'].sort_values().unique()"
      ]
    },
    {
      "cell_type": "markdown",
      "metadata": {
        "id": "HMlJ5fZwzhAC"
      },
      "source": [
        "Артефактов нет."
      ]
    },
    {
      "cell_type": "code",
      "execution_count": null,
      "metadata": {
        "id": "X9l0yZZJzhAC",
        "outputId": "2be32c6a-fd92-4888-9e00-bff2ca62b5e8"
      },
      "outputs": [
        {
          "data": {
            "text/plain": [
              "array([0, 1])"
            ]
          },
          "execution_count": 11,
          "metadata": {},
          "output_type": "execute_result"
        }
      ],
      "source": [
        "# поиск артефактов в столбце income_type\n",
        "data['debt'].sort_values().unique()"
      ]
    },
    {
      "cell_type": "markdown",
      "metadata": {
        "id": "k7VOcEk9zhAC"
      },
      "source": [
        "Артефактов нет."
      ]
    },
    {
      "cell_type": "code",
      "execution_count": null,
      "metadata": {
        "id": "qfPxLAMKzhAD",
        "outputId": "f624116f-1adb-46e1-a78d-56210a14ed11"
      },
      "outputs": [
        {
          "data": {
            "text/plain": [
              "array(['автомобили', 'автомобиль', 'высшее образование',\n",
              "       'дополнительное образование', 'жилье',\n",
              "       'заняться высшим образованием', 'заняться образованием',\n",
              "       'на покупку автомобиля', 'на покупку подержанного автомобиля',\n",
              "       'на покупку своего автомобиля', 'на проведение свадьбы',\n",
              "       'недвижимость', 'образование', 'операции с жильем',\n",
              "       'операции с коммерческой недвижимостью',\n",
              "       'операции с недвижимостью', 'операции со своей недвижимостью',\n",
              "       'покупка жилой недвижимости', 'покупка жилья',\n",
              "       'покупка жилья для сдачи', 'покупка жилья для семьи',\n",
              "       'покупка коммерческой недвижимости', 'покупка недвижимости',\n",
              "       'покупка своего жилья', 'получение высшего образования',\n",
              "       'получение дополнительного образования', 'получение образования',\n",
              "       'приобретение автомобиля', 'профильное образование',\n",
              "       'ремонт жилью', 'свадьба', 'свой автомобиль',\n",
              "       'сделка с автомобилем', 'сделка с подержанным автомобилем',\n",
              "       'строительство жилой недвижимости', 'строительство недвижимости',\n",
              "       'строительство собственной недвижимости', 'сыграть свадьбу'],\n",
              "      dtype=object)"
            ]
          },
          "execution_count": 12,
          "metadata": {},
          "output_type": "execute_result"
        }
      ],
      "source": [
        "# поиск артефактов в столбце purpose\n",
        "data['purpose'].sort_values().unique()"
      ]
    },
    {
      "cell_type": "markdown",
      "metadata": {
        "id": "ftnYf0qqzhAD"
      },
      "source": [
        "Артефактов нет. Только дупликаты."
      ]
    },
    {
      "cell_type": "markdown",
      "metadata": {
        "id": "S3Xz6WQ7zhAD"
      },
      "source": [
        "**Вывод**\n",
        "\n",
        "В каждой строке таблицы — данные о заемщике.\n",
        "\n",
        "Предварительно можно утверждать, что, данных достаточно для проверки гипотез. Но встречаются пропуски в количественных переменных. В колонке трудового стажа - ошибки и дубликаты в колонках: `education`, `purpose`.\n",
        "\n",
        "\n",
        "Артефакты \"-1\" и \"20\" в колонке - `children`. Возможно отрицательное значение детей \"-1\" это ошибочно введенное \"1\", а \"20\" ошибочно преобразованное из \"2.0\".\n",
        "Артефакт \"0\" в колонке `dob_years`. Возраст заёмщика не может быть нулем.\n",
        "Артефакт \"XNA\" в колонке `gender` указывает на неуказанный пол.\n",
        "\n",
        "Чтобы двигаться дальше, нужно устранить проблемы в данных."
      ]
    },
    {
      "cell_type": "markdown",
      "metadata": {
        "id": "FN86gymFzhAD"
      },
      "source": [
        "## Шаг 2. Предобработка данных"
      ]
    },
    {
      "cell_type": "markdown",
      "metadata": {
        "id": "5w4623-7zhAD"
      },
      "source": [
        "### Обработка пропусков"
      ]
    },
    {
      "cell_type": "code",
      "execution_count": null,
      "metadata": {
        "id": "e4PVNNJWzhAE",
        "outputId": "bceafde8-9f52-4eea-fb47-f747ac58dabe"
      },
      "outputs": [
        {
          "data": {
            "text/plain": [
              "children               0\n",
              "days_employed       2174\n",
              "dob_years              0\n",
              "education              0\n",
              "education_id           0\n",
              "family_status          0\n",
              "family_status_id       0\n",
              "gender                 0\n",
              "income_type            0\n",
              "debt                   0\n",
              "total_income        2174\n",
              "purpose                0\n",
              "dtype: int64"
            ]
          },
          "execution_count": 13,
          "metadata": {},
          "output_type": "execute_result"
        }
      ],
      "source": [
        "# подсчёт пропусков\n",
        "data.isna().sum()"
      ]
    },
    {
      "cell_type": "markdown",
      "metadata": {
        "id": "-4lju2z7zhAE"
      },
      "source": [
        "В двух столбцах `days_employed` и `total_income` у нас пропуски. Пропуски в таких переменных заполняют характерными значениями.\n",
        "Возможно причина пропуска значений в `days_employed` ошибка при преобразовании данных."
      ]
    },
    {
      "cell_type": "code",
      "execution_count": null,
      "metadata": {
        "id": "SHRsCDsdzhAE",
        "outputId": "bde420ed-f3f2-4a46-d855-5379108b92a3"
      },
      "outputs": [
        {
          "data": {
            "text/plain": [
              "0         -8437.673028\n",
              "1         -4024.803754\n",
              "2         -5623.422610\n",
              "3         -4124.747207\n",
              "4        340266.072047\n",
              "             ...      \n",
              "21520     -4529.316663\n",
              "21521    343937.404131\n",
              "21522     -2113.346888\n",
              "21523     -3112.481705\n",
              "21524     -1984.507589\n",
              "Name: days_employed, Length: 21525, dtype: float64"
            ]
          },
          "execution_count": 14,
          "metadata": {},
          "output_type": "execute_result"
        }
      ],
      "source": [
        "# посмотрим на столбец days_employed\n",
        "data['days_employed']"
      ]
    },
    {
      "cell_type": "markdown",
      "metadata": {
        "id": "Uw4jhoXhzhAE"
      },
      "source": [
        "Значения дней стажа заёмщика выглядят нереалистично. У нас присутствуют отрицательные значения, огромные значения и значения дней стажа с дробью.\n",
        "\n",
        "Проверим цели исследования:\n",
        "* Есть ли зависимость между наличием детей и возвратом кредита в срок?\n",
        "* Есть ли зависимость между семейным положением и возвратом кредита в срок?\n",
        "* Есть ли зависимость между уровнем дохода и возвратом кредита в срок?\n",
        "* Как разные цели кредита влияют на его возврат в срок?\n",
        "\n",
        "В нашем исследовании зависимости от стажа заёмщика нет. Не будем тратить время на детальную обработку пропусков столбца `days_employed`, преобразуем отрицательные значения на положительные и заменим пропущеные значения на среднее значение столбца."
      ]
    },
    {
      "cell_type": "code",
      "execution_count": null,
      "metadata": {
        "id": "Q-CwkAaSzhAE"
      },
      "outputs": [],
      "source": [
        "# преобразуем отрицательные значения в положительные в days_employed\n",
        "data['days_employed'] = abs(data['days_employed'])\n",
        "\n",
        "# поиск среднего значения в days_employed\n",
        "temp_days_employed = data['days_employed'].mean()\n",
        "\n",
        "# замена пропущенных значений на среднее\n",
        "data['days_employed'] = data['days_employed'].fillna(temp_days_employed)"
      ]
    },
    {
      "cell_type": "markdown",
      "metadata": {
        "id": "zlXl_jbszhAF"
      },
      "source": [
        "Убрали пропуски в столбце `days_employed` заменив отрицательные значения на абсолютные и найдня среднее число."
      ]
    },
    {
      "cell_type": "code",
      "execution_count": null,
      "metadata": {
        "id": "pFlk4FT0zhAF",
        "outputId": "2ea8d8ea-f956-464c-dc9e-e6c5c418f72e"
      },
      "outputs": [
        {
          "name": "stdout",
          "output_type": "stream",
          "text": [
            "минимальное значение: 20667.26379327158 максимальное значение: 2265604.028722744\n"
          ]
        }
      ],
      "source": [
        "# посмотрим на минимальное и максимальное значения в столбеце total_income\n",
        "print (f\"минимальное значение: {data['total_income'].min()} максимальное значение: {data['total_income'].max()}\")"
      ]
    },
    {
      "cell_type": "markdown",
      "metadata": {
        "id": "mPVWS43dzhAF"
      },
      "source": [
        "В нашем исследовании учитывается уровень дохода заёмщика. Для обработки пропусков в столбце `total_income` посмотрим на значения в нём. Найдя минимальное и максимальное мы можем сделать вывод, что данные в столбце реалистичные."
      ]
    },
    {
      "cell_type": "code",
      "execution_count": null,
      "metadata": {
        "id": "TPn8-QE5zhAF"
      },
      "outputs": [],
      "source": [
        "# поиск медианого значения в total_income\n",
        "temp_total_income = data['total_income'].median()\n",
        "\n",
        "# замена пропущенных значений на медианое\n",
        "data['total_income'] = data['total_income'].fillna(temp_total_income)"
      ]
    },
    {
      "cell_type": "markdown",
      "metadata": {
        "id": "BmPmQV59zhAG"
      },
      "source": [
        "Убрали пропуски в столбце `total_income` заменив на медианые."
      ]
    },
    {
      "cell_type": "code",
      "execution_count": null,
      "metadata": {
        "id": "D82G8A2EzhAG",
        "outputId": "06d3672a-f758-4560-bb0c-bce4a42e6096"
      },
      "outputs": [
        {
          "data": {
            "text/plain": [
              "children            0\n",
              "days_employed       0\n",
              "dob_years           0\n",
              "education           0\n",
              "education_id        0\n",
              "family_status       0\n",
              "family_status_id    0\n",
              "gender              0\n",
              "income_type         0\n",
              "debt                0\n",
              "total_income        0\n",
              "purpose             0\n",
              "dtype: int64"
            ]
          },
          "execution_count": 18,
          "metadata": {},
          "output_type": "execute_result"
        }
      ],
      "source": [
        "# убеждаемся что пропусков не осталось\n",
        "data.isna().sum()"
      ]
    },
    {
      "cell_type": "code",
      "execution_count": null,
      "metadata": {
        "id": "hskBNM3GzhAG",
        "outputId": "792c87fe-d6de-443d-d5cf-cae9eeb6d01e"
      },
      "outputs": [
        {
          "data": {
            "text/plain": [
              "array([-1,  0,  1,  2,  3,  4,  5, 20])"
            ]
          },
          "execution_count": 19,
          "metadata": {},
          "output_type": "execute_result"
        }
      ],
      "source": [
        "# поиск артефактов в столбце children\n",
        "data['children'].sort_values().unique()"
      ]
    },
    {
      "cell_type": "markdown",
      "metadata": {
        "id": "yDyXcYa1zhAG"
      },
      "source": [
        "Проверяем артефакты в столбце `children`."
      ]
    },
    {
      "cell_type": "code",
      "execution_count": null,
      "metadata": {
        "id": "pyc8iDvmzhAH",
        "outputId": "f536e931-5c32-430c-873c-a9055b181e97"
      },
      "outputs": [
        {
          "data": {
            "text/plain": [
              "array([ 0,  1,  2,  3,  4,  5, 20])"
            ]
          },
          "execution_count": 20,
          "metadata": {},
          "output_type": "execute_result"
        }
      ],
      "source": [
        "# изменяем артефактов в столбце children\n",
        "data['children'] = abs(data['children'])\n",
        "\n",
        "# проверяем результат\n",
        "data['children'].sort_values().unique()"
      ]
    },
    {
      "cell_type": "markdown",
      "metadata": {
        "id": "NKoFmdiMzhAH"
      },
      "source": [
        "Отрицательное количество детей у заемщика скорее всего ошибка при вводе данных, сделали число детей из отрицательных - положительными."
      ]
    },
    {
      "cell_type": "code",
      "execution_count": null,
      "metadata": {
        "id": "kYFFjguzzhAH",
        "outputId": "860e7417-f06b-4347-d07c-0c2ba22a4f4e"
      },
      "outputs": [
        {
          "data": {
            "text/plain": [
              "array(['Не женат / не замужем', 'в разводе', 'вдовец / вдова',\n",
              "       'гражданский брак', 'женат / замужем'], dtype=object)"
            ]
          },
          "execution_count": 21,
          "metadata": {},
          "output_type": "execute_result"
        }
      ],
      "source": [
        "# поиск артефактов в столбце family_status\n",
        "data['family_status'].sort_values().unique()"
      ]
    },
    {
      "cell_type": "markdown",
      "metadata": {
        "id": "OWfLAhPTzhAH"
      },
      "source": [
        "Проверяем артефакты в столбце `family_status`."
      ]
    },
    {
      "cell_type": "code",
      "execution_count": null,
      "metadata": {
        "id": "O3JaO6WCzhAH",
        "outputId": "94d0288d-a00c-4af8-c88c-c1f844228c79"
      },
      "outputs": [
        {
          "data": {
            "text/plain": [
              "array(['в разводе', 'вдовец / вдова', 'гражданский брак',\n",
              "       'женат / замужем', 'не женат / не замужем'], dtype=object)"
            ]
          },
          "execution_count": 22,
          "metadata": {},
          "output_type": "execute_result"
        }
      ],
      "source": [
        "# приведем названия в family_status к единому стилю и одному регистру символов\n",
        "data['family_status'] = data['family_status'].str.lower()\n",
        "data['family_status'].sort_values().unique()"
      ]
    },
    {
      "cell_type": "markdown",
      "metadata": {
        "id": "yir4F1l5zhAH"
      },
      "source": [
        "Артефактов нет. Но приведем категории семейного статуса к единому стилю в нижнем регистре."
      ]
    },
    {
      "cell_type": "markdown",
      "metadata": {
        "id": "8RNl41GzzhAI"
      },
      "source": [
        "**Вывод**\n",
        "\n",
        "Не все пропущенные значения влияют на исследование. Так в `days_employed` пропуски не важны для данного проекта. Достаточно заменить их на абсолютные средние значения.\n",
        "\n",
        "Но пропуски в `total_income` могут помешать поиску зависимости между уровнем дохода и возвратом кредита в срок. На практике было бы правильно установить причину пропусков и восстановить данные. Такой возможности нет в учебном проекте. Придётся:\n",
        "* заполнить эти пропуски медиаными обозначениями,\n",
        "* оценить, насколько они повредят расчётам."
      ]
    },
    {
      "cell_type": "markdown",
      "metadata": {
        "id": "jH-E1wUfzhAI"
      },
      "source": [
        "### Замена типа данных"
      ]
    },
    {
      "cell_type": "code",
      "execution_count": null,
      "metadata": {
        "id": "J_8eI3-mzhAI"
      },
      "outputs": [],
      "source": [
        "# меняем тип данных в колонках общего трудового стажа в днях и ежемесячного дохода на целочисленный\n",
        "data['days_employed'] = data['days_employed'].astype('int')\n",
        "data['total_income'] = data['total_income'].astype('int')"
      ]
    },
    {
      "cell_type": "markdown",
      "metadata": {
        "id": "61Zwu-zSzhAI"
      },
      "source": [
        "**Вывод**\n",
        "\n",
        "Мы выбрали метод astype для изменения типа данных на целые числа т.к. данные в столбцах однородные вещественные числа не содержащие некорректные значения."
      ]
    },
    {
      "cell_type": "markdown",
      "metadata": {
        "id": "nXk_LIuOzhAI"
      },
      "source": [
        "### Обработка дубликатов"
      ]
    },
    {
      "cell_type": "markdown",
      "metadata": {
        "id": "Zna9_CcCzhAJ"
      },
      "source": [
        "Из первого шага с изучением общей информации мы нашли неявные дубликаты в столбце уровеня образования клиента `education` которые отличаются регистром."
      ]
    },
    {
      "cell_type": "code",
      "execution_count": null,
      "metadata": {
        "id": "jOcukTqwzhAJ",
        "outputId": "d81d83ef-a4f0-451f-9e7f-a6fecca1eea7"
      },
      "outputs": [
        {
          "data": {
            "text/plain": [
              "array(['ВЫСШЕЕ', 'Высшее', 'НАЧАЛЬНОЕ', 'НЕОКОНЧЕННОЕ ВЫСШЕЕ',\n",
              "       'Начальное', 'Неоконченное высшее', 'СРЕДНЕЕ', 'Среднее',\n",
              "       'УЧЕНАЯ СТЕПЕНЬ', 'Ученая степень', 'высшее', 'начальное',\n",
              "       'неоконченное высшее', 'среднее', 'ученая степень'], dtype=object)"
            ]
          },
          "execution_count": 24,
          "metadata": {},
          "output_type": "execute_result"
        }
      ],
      "source": [
        "# для наглядности отображаем все значения уровня образования заемщика\n",
        "data['education'].sort_values().unique()"
      ]
    },
    {
      "cell_type": "code",
      "execution_count": null,
      "metadata": {
        "id": "gaeVPCiGzhAJ",
        "outputId": "e302d92b-4b57-49df-c1f9-98ea9fee7611"
      },
      "outputs": [
        {
          "data": {
            "text/plain": [
              "array(['высшее', 'начальное', 'неоконченное высшее', 'среднее',\n",
              "       'ученая степень'], dtype=object)"
            ]
          },
          "execution_count": 25,
          "metadata": {},
          "output_type": "execute_result"
        }
      ],
      "source": [
        "# изменяем регистр записи символов в уровнях образования клиента\n",
        "data['education'] = data['education'].str.lower()\n",
        "\n",
        "# проверяем результат\n",
        "data['education'].sort_values().unique()"
      ]
    },
    {
      "cell_type": "code",
      "execution_count": null,
      "metadata": {
        "id": "aBCzfkV_zhAJ",
        "outputId": "a3266d60-979e-4ca4-86c5-245fb5fdd164"
      },
      "outputs": [
        {
          "name": "stdout",
          "output_type": "stream",
          "text": [
            "71\n"
          ]
        },
        {
          "data": {
            "text/plain": [
              "0"
            ]
          },
          "execution_count": 26,
          "metadata": {},
          "output_type": "execute_result"
        }
      ],
      "source": [
        "# проверяем количество полных дубликатов\n",
        "print(data.duplicated().sum())\n",
        "\n",
        "# удаление явных дубликатов (с удалением старых индексов и формированием новых)\n",
        "data = data.drop_duplicates().reset_index(drop=True)\n",
        "\n",
        "# проверяем результат\n",
        "data.duplicated().sum()"
      ]
    },
    {
      "cell_type": "markdown",
      "metadata": {
        "id": "zqpjBCIezhAJ"
      },
      "source": [
        "Ищем полные дубликаты стандартным методом из первого курса и удаляем их."
      ]
    },
    {
      "cell_type": "markdown",
      "metadata": {
        "id": "MoADlhfuzhAK"
      },
      "source": [
        "**Вывод**\n",
        "\n",
        "Для поиска проанализировали уникальные значения в столбцах, для удаления неявных дубликатов использовали преобразование символов к единому регистру.\n",
        "Причиной возникшим неявным дубликатам являются написания уровня образования заемщика в разных регистрах символов.\n",
        "\n",
        "Далее были найдены полные дубликаты, причиной могло стать повторное заполнение заявок клиентами."
      ]
    },
    {
      "cell_type": "markdown",
      "metadata": {
        "id": "kfvoi4W9zhAK"
      },
      "source": [
        "### Лемматизация"
      ]
    },
    {
      "cell_type": "code",
      "execution_count": null,
      "metadata": {
        "id": "pq4vdCN7zhAL",
        "outputId": "b1b43b95-26eb-4e76-84b5-80e34cade753"
      },
      "outputs": [
        {
          "data": {
            "text/plain": [
              "Counter({'покупка': 5897,\n",
              "         ' ': 55023,\n",
              "         'жилье': 4460,\n",
              "         'приобретение': 461,\n",
              "         'автомобиль': 4306,\n",
              "         'дополнительный': 906,\n",
              "         'образование': 4013,\n",
              "         'сыграть': 765,\n",
              "         'свадьба': 2324,\n",
              "         'операция': 2604,\n",
              "         'с': 2918,\n",
              "         'на': 2222,\n",
              "         'проведение': 768,\n",
              "         'для': 1289,\n",
              "         'семья': 638,\n",
              "         'недвижимость': 6351,\n",
              "         'коммерческий': 1311,\n",
              "         'жилой': 1230,\n",
              "         'строительство': 1878,\n",
              "         'собственный': 635,\n",
              "         'подержать': 853,\n",
              "         'свой': 2230,\n",
              "         'со': 627,\n",
              "         'заниматься': 904,\n",
              "         'сделка': 941,\n",
              "         'получение': 1314,\n",
              "         'высокий': 1374,\n",
              "         'подержанный': 111,\n",
              "         'профильный': 436,\n",
              "         'сдача': 651,\n",
              "         'ремонт': 607,\n",
              "         '\\n': 1})"
            ]
          },
          "execution_count": 27,
          "metadata": {},
          "output_type": "execute_result"
        }
      ],
      "source": [
        "# смотрим, насколько часто отдельная лемма встречается во всем датафрейме\n",
        "lemmas = m.lemmatize(' '.join(data['purpose']))\n",
        "Counter(lemmas)"
      ]
    },
    {
      "cell_type": "markdown",
      "metadata": {
        "id": "e-aVRSOvzhAM"
      },
      "source": [
        "Наиболее встречающие леммы: `автомобиль`, `образование`, `свадьба`, `ремонт`, `недвижимость`, `жилье`."
      ]
    },
    {
      "cell_type": "code",
      "execution_count": null,
      "metadata": {
        "id": "aNJxvfOezhAM",
        "outputId": "981959b5-a68b-4ed0-b3bf-5cb27ca624f9"
      },
      "outputs": [
        {
          "data": {
            "text/plain": [
              "array(['автомобиль', 'жилье', 'недвижимость', 'образование', 'ремонт',\n",
              "       'свадьба', 'строительство'], dtype=object)"
            ]
          },
          "execution_count": 28,
          "metadata": {},
          "output_type": "execute_result"
        }
      ],
      "source": [
        "# выделяем наиболее часто встречающиеся леммы в список lemmas_purposes\n",
        "lemmas_purposes = ['жилье','недвижимость','строительство',\"автомобиль\",'образование',\"свадьба\",\"ремонт\"]\n",
        "\n",
        "# создаем функцию, которая будет возвращать категорию, в зависимости от того, что содержится в строке\n",
        "\"\"\"\n",
        "в функции пробегаем по лемматизируемому значению из столбца с целями кредита purpose\n",
        "если находим совпадение с значением в нашем списке lemmas_purposes то этот тип кредита выбираем\n",
        "\"\"\"\n",
        "\n",
        "def categoryzer_purpose(value):\n",
        "    try:\n",
        "        for lemma_purpose in m.lemmatize(value):\n",
        "            if lemma_purpose in lemmas_purposes:\n",
        "                return lemma_purpose\n",
        "    except:\n",
        "        return 'функция categoryzer_purpose не сработала'\n",
        "\n",
        "# создаем новый столбец purpose_type в датафрейме, с категориями целей кредита и применяем к ней нашу функцию categoryzer_purpose\n",
        "data['purpose_type'] = data['purpose'].apply(categoryzer_purpose)\n",
        "\n",
        "# поиск всех уникальных значений в столбце purpose_type для проверки, что функция categoryzer_purpose отработала\n",
        "data['purpose_type'].sort_values().unique()"
      ]
    },
    {
      "cell_type": "markdown",
      "metadata": {
        "id": "TL_HbNbPzhAM"
      },
      "source": [
        "1. Выделили наиболее часто встречающиеся леммы в список.\n",
        "2. Создали функцию, которая будет возвращать категорию, в зависимости от того, что содержится в строке.\n",
        "3. Создали новый столбец, с категориями целей кредита.\n",
        "4. Проверили значения в новом столбце."
      ]
    },
    {
      "cell_type": "code",
      "execution_count": null,
      "metadata": {
        "id": "3aNdPrfRzhAN",
        "outputId": "92670128-e3e8-423c-d9c5-87356b8c9d76"
      },
      "outputs": [
        {
          "data": {
            "text/plain": [
              "array(['автомобиль', 'недвижимость', 'образование', 'свадьба'],\n",
              "      dtype=object)"
            ]
          },
          "execution_count": 29,
          "metadata": {},
          "output_type": "execute_result"
        }
      ],
      "source": [
        "# убираем неявные дубликаты названия категорий \n",
        "data['purpose_type'].replace(\"жилье\",'недвижимость',inplace = True)\n",
        "data['purpose_type'].replace(\"ремонт\",'недвижимость',inplace = True)\n",
        "data['purpose_type'].replace(\"строительство\",'недвижимость',inplace = True)\n",
        "\n",
        "# поиск всех уникальных значений в столбце purpose_type для проверки, что неявные дубликаты в названиях убраны\n",
        "data['purpose_type'].sort_values().unique()"
      ]
    },
    {
      "cell_type": "markdown",
      "metadata": {
        "id": "MDZ1Ti6MzhAN"
      },
      "source": [
        "Типы причин на кредит: `жилье`, `ремонт`, `строительство` относятся к одной категории `недвижимость`. \n",
        "\n",
        "Убрали лишние причины и убедились в корректности данных проверив столбец с типами причин на кредиты."
      ]
    },
    {
      "cell_type": "raw",
      "metadata": {
        "id": "l33oiB8CzhAN"
      },
      "source": [
        "# проверяем количество полных дубликатов\n",
        "print(data.duplicated().sum())\n",
        "\n",
        "# удаление явных дубликатов (с удалением старых индексов и формированием новых)\n",
        "data = data.drop_duplicates().reset_index(drop=True)\n",
        "\n",
        "# проверяем результат\n",
        "data.duplicated().sum()"
      ]
    },
    {
      "cell_type": "markdown",
      "metadata": {
        "id": "mdLgiv61zhAO"
      },
      "source": [
        "**Вывод**\n",
        "\n",
        "Мы лемматизировали цели получения кредитов, чтобы категоризовать их по типу. Мы создали отдельный столбец с типами целей получения кредитов. Мы получили 4 категории целей кредита."
      ]
    },
    {
      "cell_type": "markdown",
      "metadata": {
        "id": "yJZbvV7UzhAO"
      },
      "source": [
        "### Категоризация данных"
      ]
    },
    {
      "cell_type": "markdown",
      "metadata": {
        "id": "VaasHseyzhAO"
      },
      "source": [
        "Для категоризации данных взглянем на гипотезы исследования:\n",
        "\n",
        "* Есть ли зависимость между наличием детей и возвратом кредита в срок?\n",
        "`Нужна категория заемщиков - с наличием детей и без наличия.`\n",
        "\n",
        "* Есть ли зависимость между семейным положением и возвратом кредита в срок?\n",
        "`Дополнительных категорий - не понадобится.`\n",
        "\n",
        "* Есть ли зависимость между уровнем дохода и возвратом кредита в срок?\n",
        "`Нужна категория заемщиков - с разным уровнем дохода.`\n",
        "\n",
        "* Как разные цели кредита влияют на его возврат в срок?\n",
        "`Дополнительных категорий - не понадобится.`"
      ]
    },
    {
      "cell_type": "code",
      "execution_count": null,
      "metadata": {
        "id": "fpeH3Q0tzhAO"
      },
      "outputs": [],
      "source": [
        "# выделяем категорию заемщиков с детьми и без детей\n",
        "\n",
        "# напишем функцию для категоризации заемщиков по детям\n",
        "def having_children(value):\n",
        "    try:\n",
        "        if value == 0:\n",
        "            return 'нет'\n",
        "        else:\n",
        "            return 'да'\n",
        "    except:\n",
        "        return 'ошибка в типе данных'\n",
        "        \n",
        "# добавим в датафрейм новый столбец со статусом наличия детей у заемщика\n",
        "data['children_status'] = data['children'].apply(having_children)"
      ]
    },
    {
      "cell_type": "markdown",
      "metadata": {
        "id": "tUZZ3k2hzhAO"
      },
      "source": [
        "Добавили столбец со статусом наличия детей у заёмщика"
      ]
    },
    {
      "cell_type": "code",
      "execution_count": null,
      "metadata": {
        "id": "HUGOfMsIzhAP",
        "outputId": "d353ca37-5e73-423d-d261-c4516f4cc0f2"
      },
      "outputs": [
        {
          "name": "stdout",
          "output_type": "stream",
          "text": [
            "количество значений: 21454\n",
            "минимальное значение: 20667\n",
            "максимальное значение: 2265604\n",
            "медианое значение: 145017\n",
            "среднее значение: 165225\n"
          ]
        }
      ],
      "source": [
        "# посмотрим на значения в total_income\n",
        "\n",
        "print('количество значений:', data['total_income'].count())\n",
        "print('минимальное значение:', data['total_income'].min())\n",
        "print('максимальное значение:', data['total_income'].max())\n",
        "print('медианое значение:', int(data['total_income'].median()))\n",
        "print('среднее значение:', int(data['total_income'].mean()))"
      ]
    },
    {
      "cell_type": "markdown",
      "metadata": {
        "id": "cO-Q22b_zhAP"
      },
      "source": [
        "Для категоризации заемщиков по уровню дохода посмотрим на значения в total_income.\n",
        "Заемщиков без дохода - нет.\n",
        "Медианое значение `145017`, а в среднем наши заемщики получают `165523`. Используем данные числа для разделения заемщиков на уровни дохода."
      ]
    },
    {
      "cell_type": "code",
      "execution_count": null,
      "metadata": {
        "id": "2lrgdij5zhAP"
      },
      "outputs": [],
      "source": [
        "# выделяем категорию заемщиков с низким, средним и высоким доходом\n",
        "\n",
        "# напишем функцию для категоризации заемщиков\n",
        "def total_income_group(value):\n",
        "    try:\n",
        "        if value < 145017:\n",
        "            return 'низкий'\n",
        "        if value < 165523:\n",
        "            return 'средний'\n",
        "        return 'высокий'\n",
        "    except:\n",
        "        return 'ошибка в типе данных'\n",
        "\n",
        "# добавим в датафрейм новый столбец со статусом доходп заемщика\n",
        "data['total_income_group_status'] = data['total_income'].apply(total_income_group)"
      ]
    },
    {
      "cell_type": "markdown",
      "metadata": {
        "id": "BP_ZjQoGzhAP"
      },
      "source": [
        "**Вывод**\n",
        "\n",
        "Мы категоризировали данные, чтобы проверить наши гипотезы."
      ]
    },
    {
      "cell_type": "markdown",
      "metadata": {
        "id": "Nyq2dvcCzhAQ"
      },
      "source": [
        "## Шаг 3. Ответьте на вопросы"
      ]
    },
    {
      "cell_type": "markdown",
      "metadata": {
        "id": "DSCRW0pnzhAQ"
      },
      "source": [
        "- Есть ли зависимость между наличием детей и возвратом кредита в срок?"
      ]
    },
    {
      "cell_type": "code",
      "execution_count": null,
      "metadata": {
        "id": "6dFyrzIUzhAQ",
        "outputId": "94924876-188c-4c6e-be9e-884a56be0ca2"
      },
      "outputs": [
        {
          "data": {
            "text/plain": [
              "children_status\n",
              "да     9.208203\n",
              "нет    7.543822\n",
              "Name: result_children_status, dtype: float64"
            ]
          },
          "execution_count": 33,
          "metadata": {},
          "output_type": "execute_result"
        }
      ],
      "source": [
        "# для анализа создадим новую таблицу и проведем нужные нам расчеты\n",
        "\n",
        "# создаем пустую таблицу debt_of_children_status\n",
        "debt_of_children_status = pd.DataFrame()\n",
        "\n",
        "# добавляем столбец суммы ячеек долга сгруппированных по наличию детей из основной таблицы data\n",
        "debt_of_children_status['sum_children_status'] = data.groupby('children_status')['debt'].sum()\n",
        "\n",
        "# добавляем столбец количества ячеек долга сгруппированных по наличию детей из основной таблицы data\n",
        "debt_of_children_status['count_children_status'] = data.groupby('children_status')['debt'].count()\n",
        "\n",
        "# вычесляем отношение количества к сумме и умножаем на 100\n",
        "debt_of_children_status['result_children_status'] = debt_of_children_status['sum_children_status'] / debt_of_children_status['count_children_status'] * 100\n",
        "\n",
        "# отображаем результат для анализа\n",
        "debt_of_children_status.sort_values('result_children_status', ascending = False)['result_children_status']"
      ]
    },
    {
      "cell_type": "code",
      "execution_count": null,
      "metadata": {
        "id": "0KfC-HtMzhAQ",
        "outputId": "2faaed83-d8e2-4cda-e5e1-c747612324db"
      },
      "outputs": [
        {
          "data": {
            "text/html": [
              "<style  type=\"text/css\" >\n",
              "</style><table id=\"T_512717bc_4418_11ec_84bb_02420a399a35\" ><thead>    <tr>        <th class=\"blank level0\" ></th>        <th class=\"col_heading level0 col0\" >Кол-во пользователей</th>        <th class=\"col_heading level0 col1\" >Кол-во должников</th>        <th class=\"col_heading level0 col2\" >% должников</th>        <th class=\"col_heading level0 col3\" >% НЕдолжников</th>    </tr>    <tr>        <th class=\"index_name level0\" >children</th>        <th class=\"blank\" ></th>        <th class=\"blank\" ></th>        <th class=\"blank\" ></th>        <th class=\"blank\" ></th>    </tr></thead><tbody>\n",
              "                <tr>\n",
              "                        <th id=\"T_512717bc_4418_11ec_84bb_02420a399a35level0_row0\" class=\"row_heading level0 row0\" >0</th>\n",
              "                        <td id=\"T_512717bc_4418_11ec_84bb_02420a399a35row0_col0\" class=\"data row0 col0\" >14091</td>\n",
              "                        <td id=\"T_512717bc_4418_11ec_84bb_02420a399a35row0_col1\" class=\"data row0 col1\" >1063</td>\n",
              "                        <td id=\"T_512717bc_4418_11ec_84bb_02420a399a35row0_col2\" class=\"data row0 col2\" >7.54%</td>\n",
              "                        <td id=\"T_512717bc_4418_11ec_84bb_02420a399a35row0_col3\" class=\"data row0 col3\" >92.46%</td>\n",
              "            </tr>\n",
              "            <tr>\n",
              "                        <th id=\"T_512717bc_4418_11ec_84bb_02420a399a35level0_row1\" class=\"row_heading level0 row1\" >1</th>\n",
              "                        <td id=\"T_512717bc_4418_11ec_84bb_02420a399a35row1_col0\" class=\"data row1 col0\" >4855</td>\n",
              "                        <td id=\"T_512717bc_4418_11ec_84bb_02420a399a35row1_col1\" class=\"data row1 col1\" >445</td>\n",
              "                        <td id=\"T_512717bc_4418_11ec_84bb_02420a399a35row1_col2\" class=\"data row1 col2\" >9.17%</td>\n",
              "                        <td id=\"T_512717bc_4418_11ec_84bb_02420a399a35row1_col3\" class=\"data row1 col3\" >90.83%</td>\n",
              "            </tr>\n",
              "            <tr>\n",
              "                        <th id=\"T_512717bc_4418_11ec_84bb_02420a399a35level0_row2\" class=\"row_heading level0 row2\" >2</th>\n",
              "                        <td id=\"T_512717bc_4418_11ec_84bb_02420a399a35row2_col0\" class=\"data row2 col0\" >2052</td>\n",
              "                        <td id=\"T_512717bc_4418_11ec_84bb_02420a399a35row2_col1\" class=\"data row2 col1\" >194</td>\n",
              "                        <td id=\"T_512717bc_4418_11ec_84bb_02420a399a35row2_col2\" class=\"data row2 col2\" >9.45%</td>\n",
              "                        <td id=\"T_512717bc_4418_11ec_84bb_02420a399a35row2_col3\" class=\"data row2 col3\" >90.55%</td>\n",
              "            </tr>\n",
              "            <tr>\n",
              "                        <th id=\"T_512717bc_4418_11ec_84bb_02420a399a35level0_row3\" class=\"row_heading level0 row3\" >3</th>\n",
              "                        <td id=\"T_512717bc_4418_11ec_84bb_02420a399a35row3_col0\" class=\"data row3 col0\" >330</td>\n",
              "                        <td id=\"T_512717bc_4418_11ec_84bb_02420a399a35row3_col1\" class=\"data row3 col1\" >27</td>\n",
              "                        <td id=\"T_512717bc_4418_11ec_84bb_02420a399a35row3_col2\" class=\"data row3 col2\" >8.18%</td>\n",
              "                        <td id=\"T_512717bc_4418_11ec_84bb_02420a399a35row3_col3\" class=\"data row3 col3\" >91.82%</td>\n",
              "            </tr>\n",
              "            <tr>\n",
              "                        <th id=\"T_512717bc_4418_11ec_84bb_02420a399a35level0_row4\" class=\"row_heading level0 row4\" >4</th>\n",
              "                        <td id=\"T_512717bc_4418_11ec_84bb_02420a399a35row4_col0\" class=\"data row4 col0\" >41</td>\n",
              "                        <td id=\"T_512717bc_4418_11ec_84bb_02420a399a35row4_col1\" class=\"data row4 col1\" >4</td>\n",
              "                        <td id=\"T_512717bc_4418_11ec_84bb_02420a399a35row4_col2\" class=\"data row4 col2\" >9.76%</td>\n",
              "                        <td id=\"T_512717bc_4418_11ec_84bb_02420a399a35row4_col3\" class=\"data row4 col3\" >90.24%</td>\n",
              "            </tr>\n",
              "            <tr>\n",
              "                        <th id=\"T_512717bc_4418_11ec_84bb_02420a399a35level0_row5\" class=\"row_heading level0 row5\" >5</th>\n",
              "                        <td id=\"T_512717bc_4418_11ec_84bb_02420a399a35row5_col0\" class=\"data row5 col0\" >9</td>\n",
              "                        <td id=\"T_512717bc_4418_11ec_84bb_02420a399a35row5_col1\" class=\"data row5 col1\" >0</td>\n",
              "                        <td id=\"T_512717bc_4418_11ec_84bb_02420a399a35row5_col2\" class=\"data row5 col2\" >0.00%</td>\n",
              "                        <td id=\"T_512717bc_4418_11ec_84bb_02420a399a35row5_col3\" class=\"data row5 col3\" >100.00%</td>\n",
              "            </tr>\n",
              "            <tr>\n",
              "                        <th id=\"T_512717bc_4418_11ec_84bb_02420a399a35level0_row6\" class=\"row_heading level0 row6\" >20</th>\n",
              "                        <td id=\"T_512717bc_4418_11ec_84bb_02420a399a35row6_col0\" class=\"data row6 col0\" >76</td>\n",
              "                        <td id=\"T_512717bc_4418_11ec_84bb_02420a399a35row6_col1\" class=\"data row6 col1\" >8</td>\n",
              "                        <td id=\"T_512717bc_4418_11ec_84bb_02420a399a35row6_col2\" class=\"data row6 col2\" >10.53%</td>\n",
              "                        <td id=\"T_512717bc_4418_11ec_84bb_02420a399a35row6_col3\" class=\"data row6 col3\" >89.47%</td>\n",
              "            </tr>\n",
              "    </tbody></table>"
            ],
            "text/plain": [
              "<pandas.io.formats.style.Styler at 0x7f4994279e50>"
            ]
          },
          "execution_count": 34,
          "metadata": {},
          "output_type": "execute_result"
        }
      ],
      "source": [
        "df_example = data.groupby('children')['debt'].agg(['count', 'sum', 'mean', lambda x: 1 - x.mean()])\n",
        "df_example.columns = ['Кол-во пользователей', 'Кол-во должников', '% должников', '% НЕдолжников']\n",
        "df_example.style.format({'% должников': '{:.2%}', '% НЕдолжников': '{:.2%}'})"
      ]
    },
    {
      "cell_type": "markdown",
      "metadata": {
        "id": "DqMDbjohzhAR"
      },
      "source": [
        "Мы видим, что заемщики без детей чаще выплачивают кредит в срок, чем заемщики с детьми."
      ]
    },
    {
      "cell_type": "markdown",
      "metadata": {
        "id": "jXPB0k51zhAR"
      },
      "source": [
        "**Вывод**\n",
        "\n",
        "Отвечаем на гипотезу: `Есть ли зависимость между наличием детей и возвратом кредита в срок?`\n",
        "\n",
        "Да, зависимость между наличием детей и возвратом кредита в срок - есть.\n",
        "\n",
        "Мы видим, что заемщики без детей чаще выплачивают кредит в срок, чем заемщики с детьми."
      ]
    },
    {
      "cell_type": "markdown",
      "metadata": {
        "id": "3Z572W9szhAR"
      },
      "source": [
        "- Есть ли зависимость между семейным положением и возвратом кредита в срок?"
      ]
    },
    {
      "cell_type": "code",
      "execution_count": null,
      "metadata": {
        "id": "wxNcs7MBzhAR",
        "outputId": "2e429432-f7e5-4599-ad62-7f5151610d4e"
      },
      "outputs": [
        {
          "data": {
            "text/plain": [
              "family_status\n",
              "не женат / не замужем    9.750890\n",
              "гражданский брак         9.347145\n",
              "женат / замужем          7.545182\n",
              "в разводе                7.112971\n",
              "вдовец / вдова           6.569343\n",
              "Name: result_family_status, dtype: float64"
            ]
          },
          "execution_count": 35,
          "metadata": {},
          "output_type": "execute_result"
        }
      ],
      "source": [
        "# для анализа создадим новую таблицу и проведем нужные нам расчеты\n",
        "\n",
        "# создаем пустую таблицу debt_of_family_status\n",
        "debt_of_family_status = pd.DataFrame()\n",
        "\n",
        "# добавляем столбец суммы ячеек долга сгруппированных по семейным статусам из основной таблицы data\n",
        "debt_of_family_status['sum_family_status'] = data.groupby('family_status')['debt'].sum()\n",
        "\n",
        "# добавляем столбец количества ячеек долга сгруппированных по семейным статусам из основной таблицы data\n",
        "debt_of_family_status['count_family_status'] = data.groupby('family_status')['debt'].count()\n",
        "\n",
        "# вычесляем отношение количества к сумме и умножаем на 100\n",
        "debt_of_family_status['result_family_status'] = debt_of_family_status['sum_family_status'] / debt_of_family_status['count_family_status'] * 100\n",
        "\n",
        "# отображаем результат для анализа\n",
        "debt_of_family_status.sort_values('result_family_status', ascending = False)['result_family_status']"
      ]
    },
    {
      "cell_type": "markdown",
      "metadata": {
        "id": "Xudqx22czhAR"
      },
      "source": [
        "**Вывод**\n",
        "\n",
        "Отвечаем на гипотезу: `Есть ли зависимость между семейным положением и возвратом кредита в срок?`\n",
        "\n",
        "Да, зависимость между семейным положением и возвратом кредита в срок - есть.\n",
        "\n",
        "Не женатые заемщики и в гражданском браке имеют больший процент невозвратов кредитов в срок по сравнению с теми кто в разводе или овдовели."
      ]
    },
    {
      "cell_type": "markdown",
      "metadata": {
        "id": "mRShxwePzhAS"
      },
      "source": [
        "- Есть ли зависимость между уровнем дохода и возвратом кредита в срок?"
      ]
    },
    {
      "cell_type": "code",
      "execution_count": null,
      "metadata": {
        "id": "dLHN6_UmzhAS",
        "outputId": "5cb28a32-3d1e-46d2-f009-901b917d730c"
      },
      "outputs": [
        {
          "data": {
            "text/plain": [
              "total_income_group_status\n",
              "средний    8.413926\n",
              "низкий     8.310078\n",
              "высокий    7.706398\n",
              "Name: result_total_income_group_status, dtype: float64"
            ]
          },
          "execution_count": 36,
          "metadata": {},
          "output_type": "execute_result"
        }
      ],
      "source": [
        "# для анализа создадим новую таблицу и проведем нужные нам расчеты\n",
        "\n",
        "# создаем пустую таблицу debt_of_total_income_group_status\n",
        "debt_of_total_income_group_status = pd.DataFrame()\n",
        "\n",
        "# добавляем столбец суммы ячеек долга сгруппированных по уровню дохода из основной таблицы data\n",
        "debt_of_total_income_group_status['sum_total_income_group_status'] = data.groupby('total_income_group_status')['debt'].sum()\n",
        "\n",
        "# добавляем столбец количества ячеек долга сгруппированных по уровню дохода из основной таблицы data\n",
        "debt_of_total_income_group_status['count_total_income_group_status'] = data.groupby('total_income_group_status')['debt'].count()\n",
        "\n",
        "# вычесляем отношение количества к сумме и умножаем на 100\n",
        "debt_of_total_income_group_status['result_total_income_group_status'] = debt_of_total_income_group_status['sum_total_income_group_status'] / debt_of_total_income_group_status['count_total_income_group_status'] * 100\n",
        "\n",
        "# отображаем результат для анализа\n",
        "debt_of_total_income_group_status.sort_values('result_total_income_group_status', ascending = False)['result_total_income_group_status']"
      ]
    },
    {
      "cell_type": "markdown",
      "metadata": {
        "id": "GkWiZMYlzhAT"
      },
      "source": [
        "**Вывод**\n",
        "\n",
        "Отвечаем на гипотезу: `Есть ли зависимость между уровнем дохода и возвратом кредита в срок?`\n",
        "\n",
        "Да, зависимость между уровнем дохода и возвратом кредита в срок - есть.\n",
        "\n",
        "Мы видим, что заемщики с средним доходом чаще не отдают кредит в срок, чем заемщики с низким и высоким доходом."
      ]
    },
    {
      "cell_type": "markdown",
      "metadata": {
        "id": "8nDN8GoQzhAT"
      },
      "source": [
        "- Как разные цели кредита влияют на его возврат в срок?"
      ]
    },
    {
      "cell_type": "code",
      "execution_count": null,
      "metadata": {
        "id": "HDX2aO2TzhAT",
        "outputId": "1621df41-7684-45a9-b99f-f46ebde006d8"
      },
      "outputs": [
        {
          "data": {
            "text/plain": [
              "purpose_type\n",
              "автомобиль      9.359034\n",
              "образование     9.220035\n",
              "свадьба         8.003442\n",
              "недвижимость    7.233373\n",
              "Name: result_purpose, dtype: float64"
            ]
          },
          "execution_count": 37,
          "metadata": {},
          "output_type": "execute_result"
        }
      ],
      "source": [
        "# для анализа создадим новую таблицу и проведем нужные нам расчеты\n",
        "\n",
        "# создаем пустую таблицу debt_of_purpose\n",
        "debt_of_purpose = pd.DataFrame()\n",
        "\n",
        "# добавляем столбец суммы ячеек долга сгруппированных по целям кредита из основной таблицы data\n",
        "debt_of_purpose['sum_purpose'] = data.groupby('purpose_type')['debt'].sum()\n",
        "\n",
        "# добавляем столбец количества ячеек долга сгруппированных по целям кредита из основной таблицы data\n",
        "debt_of_purpose['count_purpose'] = data.groupby('purpose_type')['debt'].count()\n",
        "\n",
        "# вычесляем отношение количества к сумме и умножаем на 100\n",
        "debt_of_purpose['result_purpose'] = debt_of_purpose['sum_purpose'] / debt_of_purpose['count_purpose'] * 100\n",
        "\n",
        "# отображаем результат для анализа\n",
        "debt_of_purpose.sort_values('result_purpose', ascending = False)['result_purpose']"
      ]
    },
    {
      "cell_type": "markdown",
      "metadata": {
        "id": "lNCYn2W4zhAT"
      },
      "source": [
        "Вот нам и понадобилось разбиение целей кредита по категориям. Как мы видим, среди 4 наших категорий, чаще всего платят в срок с целью кредита недвижимость, чаще просрочка у тех кому нужен кредит на авто и образование. Кредиты на свадьбу просрачивают реже - примерно как и в случае недвижимости."
      ]
    },
    {
      "cell_type": "markdown",
      "metadata": {
        "id": "QdvKW_DkzhAT"
      },
      "source": [
        "**Вывод**\n",
        "\n",
        "Отвечаем на гипотезу: `Как разные цели кредита влияют на его возврат в срок?`\n",
        "\n",
        "Мы видим, что есть зависимость между целью кредита и его возвратом в срок.\n",
        "\n",
        "Заемщики у которых цель кредита `автомобиль` и `образование` - чаще не возвращают кредит в срок по сравнению с заемщиками у которых цель кредита `свадьба`, `недвижимость` и `ремонт`. \n",
        "\n",
        "Заемщики у которых цель кредита `автомобиль` - самые рискованные. А заемщики с целью кредита `ремонт` - чаще других отдают кредит в срок."
      ]
    },
    {
      "cell_type": "markdown",
      "metadata": {
        "id": "NYmBzG1bzhAT"
      },
      "source": [
        "## Шаг 4. Общий вывод"
      ]
    },
    {
      "cell_type": "markdown",
      "metadata": {
        "id": "R6NaATFTzhAU"
      },
      "source": [
        "Да. Семейное положение и наличие детей в семье влияют на факт погашения кредита.\n",
        "Не женатые заемщики и в гражданском браке имеют больший процент невозвратов кредитов в срок по сравнению с теми кто в разводе или овдовели.\n",
        "Мы видим, что заемщики без детей чаще выплачивают кредит в срок, чем заемщики с детьми.\n",
        "\n",
        "Лучшими заемщиками будут те кто овдовели и заемщики без детей."
      ]
    }
  ],
  "metadata": {
    "ExecuteTimeLog": [
      {
        "duration": 564,
        "start_time": "2021-11-10T12:49:56.109Z"
      },
      {
        "duration": 137,
        "start_time": "2021-11-10T12:50:29.579Z"
      },
      {
        "duration": 48,
        "start_time": "2021-11-10T12:50:54.489Z"
      },
      {
        "duration": 64,
        "start_time": "2021-11-10T12:52:26.549Z"
      },
      {
        "duration": 23,
        "start_time": "2021-11-10T12:53:29.863Z"
      },
      {
        "duration": 12,
        "start_time": "2021-11-10T12:55:10.336Z"
      },
      {
        "duration": 58,
        "start_time": "2021-11-10T12:55:31.578Z"
      },
      {
        "duration": 11,
        "start_time": "2021-11-10T12:55:34.926Z"
      },
      {
        "duration": 3,
        "start_time": "2021-11-10T13:08:56.710Z"
      },
      {
        "duration": 3,
        "start_time": "2021-11-10T13:09:06.123Z"
      },
      {
        "duration": 23,
        "start_time": "2021-11-10T13:09:31.034Z"
      },
      {
        "duration": 10,
        "start_time": "2021-11-10T13:10:34.683Z"
      },
      {
        "duration": 9,
        "start_time": "2021-11-10T13:11:53.915Z"
      },
      {
        "duration": 4,
        "start_time": "2021-11-10T13:36:36.292Z"
      },
      {
        "duration": 10,
        "start_time": "2021-11-10T13:36:37.334Z"
      },
      {
        "duration": 5,
        "start_time": "2021-11-10T13:41:41.549Z"
      },
      {
        "duration": 10,
        "start_time": "2021-11-10T13:41:44.245Z"
      },
      {
        "duration": 11,
        "start_time": "2021-11-10T13:42:58.925Z"
      },
      {
        "duration": 12,
        "start_time": "2021-11-10T13:43:24.781Z"
      },
      {
        "duration": 643,
        "start_time": "2021-11-10T13:46:58.481Z"
      },
      {
        "duration": 11,
        "start_time": "2021-11-10T13:46:59.184Z"
      },
      {
        "duration": 10,
        "start_time": "2021-11-10T13:47:04.243Z"
      },
      {
        "duration": 14,
        "start_time": "2021-11-10T13:59:49.805Z"
      },
      {
        "duration": 5,
        "start_time": "2021-11-10T14:12:49.767Z"
      },
      {
        "duration": 237,
        "start_time": "2021-11-10T14:13:21.766Z"
      },
      {
        "duration": 5,
        "start_time": "2021-11-10T14:13:36.459Z"
      },
      {
        "duration": 7,
        "start_time": "2021-11-10T14:13:46.150Z"
      },
      {
        "duration": 11,
        "start_time": "2021-11-10T14:17:32.017Z"
      },
      {
        "duration": 10,
        "start_time": "2021-11-10T14:18:50.168Z"
      },
      {
        "duration": 6,
        "start_time": "2021-11-10T14:27:16.128Z"
      },
      {
        "duration": 10,
        "start_time": "2021-11-10T14:27:54.384Z"
      },
      {
        "duration": 6,
        "start_time": "2021-11-10T14:28:12.252Z"
      },
      {
        "duration": 6,
        "start_time": "2021-11-10T14:28:23.397Z"
      },
      {
        "duration": 9,
        "start_time": "2021-11-10T14:28:38.563Z"
      },
      {
        "duration": 9,
        "start_time": "2021-11-10T14:28:48.522Z"
      },
      {
        "duration": 9,
        "start_time": "2021-11-10T14:31:42.020Z"
      },
      {
        "duration": 9,
        "start_time": "2021-11-10T14:31:56.601Z"
      },
      {
        "duration": 12,
        "start_time": "2021-11-10T14:32:06.174Z"
      },
      {
        "duration": 12,
        "start_time": "2021-11-10T14:32:12.463Z"
      },
      {
        "duration": 12,
        "start_time": "2021-11-10T14:32:52.482Z"
      },
      {
        "duration": 8,
        "start_time": "2021-11-10T14:33:03.307Z"
      },
      {
        "duration": 9,
        "start_time": "2021-11-10T14:33:18.022Z"
      },
      {
        "duration": 176,
        "start_time": "2021-11-10T14:34:05.889Z"
      },
      {
        "duration": 15,
        "start_time": "2021-11-10T14:34:39.196Z"
      },
      {
        "duration": 9,
        "start_time": "2021-11-10T14:35:17.021Z"
      },
      {
        "duration": 9,
        "start_time": "2021-11-10T14:35:51.356Z"
      },
      {
        "duration": 446,
        "start_time": "2021-11-10T14:36:36.487Z"
      },
      {
        "duration": 286,
        "start_time": "2021-11-10T14:37:35.107Z"
      },
      {
        "duration": 15,
        "start_time": "2021-11-10T14:37:46.161Z"
      },
      {
        "duration": 14,
        "start_time": "2021-11-10T14:38:22.560Z"
      },
      {
        "duration": 13,
        "start_time": "2021-11-10T14:40:31.308Z"
      },
      {
        "duration": 13,
        "start_time": "2021-11-10T14:41:37.046Z"
      },
      {
        "duration": 9,
        "start_time": "2021-11-10T14:42:11.276Z"
      },
      {
        "duration": 13,
        "start_time": "2021-11-10T14:42:21.145Z"
      },
      {
        "duration": 9,
        "start_time": "2021-11-10T14:42:28.950Z"
      },
      {
        "duration": 18,
        "start_time": "2021-11-10T14:44:14.860Z"
      },
      {
        "duration": 667,
        "start_time": "2021-11-10T15:02:36.787Z"
      },
      {
        "duration": 11,
        "start_time": "2021-11-10T15:02:37.456Z"
      },
      {
        "duration": 18,
        "start_time": "2021-11-10T15:02:46.273Z"
      },
      {
        "duration": 21,
        "start_time": "2021-11-10T15:02:46.797Z"
      },
      {
        "duration": 11,
        "start_time": "2021-11-10T15:02:47.280Z"
      },
      {
        "duration": 18,
        "start_time": "2021-11-10T15:02:49.535Z"
      },
      {
        "duration": 12,
        "start_time": "2021-11-10T15:02:50.028Z"
      },
      {
        "duration": 10,
        "start_time": "2021-11-10T15:02:54.239Z"
      },
      {
        "duration": 11,
        "start_time": "2021-11-10T15:03:05.279Z"
      },
      {
        "duration": 4,
        "start_time": "2021-11-10T15:03:10.255Z"
      },
      {
        "duration": 4,
        "start_time": "2021-11-10T15:03:15.529Z"
      },
      {
        "duration": 6,
        "start_time": "2021-11-10T15:03:23.249Z"
      },
      {
        "duration": 8,
        "start_time": "2021-11-10T15:16:08.327Z"
      },
      {
        "duration": 10,
        "start_time": "2021-11-10T15:28:50.338Z"
      },
      {
        "duration": 18,
        "start_time": "2021-11-10T15:29:28.179Z"
      },
      {
        "duration": 257,
        "start_time": "2021-11-10T15:32:18.899Z"
      },
      {
        "duration": 10,
        "start_time": "2021-11-10T15:36:15.466Z"
      },
      {
        "duration": 9,
        "start_time": "2021-11-10T15:37:04.835Z"
      },
      {
        "duration": 10,
        "start_time": "2021-11-10T15:37:43.295Z"
      },
      {
        "duration": 13,
        "start_time": "2021-11-10T15:39:04.602Z"
      },
      {
        "duration": 9,
        "start_time": "2021-11-10T15:43:59.989Z"
      },
      {
        "duration": 9,
        "start_time": "2021-11-10T15:44:03.350Z"
      },
      {
        "duration": 9,
        "start_time": "2021-11-10T15:45:47.570Z"
      },
      {
        "duration": 10,
        "start_time": "2021-11-10T15:45:48.308Z"
      },
      {
        "duration": 9,
        "start_time": "2021-11-10T16:01:38.255Z"
      },
      {
        "duration": 16,
        "start_time": "2021-11-10T16:14:57.535Z"
      },
      {
        "duration": 59,
        "start_time": "2021-11-10T16:19:26.422Z"
      },
      {
        "duration": 12,
        "start_time": "2021-11-10T16:19:35.406Z"
      },
      {
        "duration": 7,
        "start_time": "2021-11-10T16:21:17.937Z"
      },
      {
        "duration": 192,
        "start_time": "2021-11-10T16:21:18.679Z"
      },
      {
        "duration": 8,
        "start_time": "2021-11-10T16:21:25.206Z"
      },
      {
        "duration": 2,
        "start_time": "2021-11-10T16:21:40.060Z"
      },
      {
        "duration": 9,
        "start_time": "2021-11-10T16:21:46.230Z"
      },
      {
        "duration": 639,
        "start_time": "2021-11-10T16:21:59.390Z"
      },
      {
        "duration": 11,
        "start_time": "2021-11-10T16:22:00.031Z"
      },
      {
        "duration": 12,
        "start_time": "2021-11-10T16:22:01.101Z"
      },
      {
        "duration": 12,
        "start_time": "2021-11-10T16:22:01.669Z"
      },
      {
        "duration": 10,
        "start_time": "2021-11-10T16:22:02.165Z"
      },
      {
        "duration": 16,
        "start_time": "2021-11-10T16:22:02.587Z"
      },
      {
        "duration": 10,
        "start_time": "2021-11-10T16:22:03.203Z"
      },
      {
        "duration": 12,
        "start_time": "2021-11-10T16:22:07.391Z"
      },
      {
        "duration": 10,
        "start_time": "2021-11-10T16:22:13.430Z"
      },
      {
        "duration": 15,
        "start_time": "2021-11-10T16:22:15.621Z"
      },
      {
        "duration": 12,
        "start_time": "2021-11-10T16:22:18.741Z"
      },
      {
        "duration": 8,
        "start_time": "2021-11-10T16:22:25.140Z"
      },
      {
        "duration": 13,
        "start_time": "2021-11-10T16:24:16.665Z"
      },
      {
        "duration": 14,
        "start_time": "2021-11-10T16:24:25.106Z"
      },
      {
        "duration": 14,
        "start_time": "2021-11-10T16:27:07.857Z"
      },
      {
        "duration": 16,
        "start_time": "2021-11-10T16:27:19.519Z"
      },
      {
        "duration": 12,
        "start_time": "2021-11-10T16:27:31.249Z"
      },
      {
        "duration": 17,
        "start_time": "2021-11-10T16:27:42.435Z"
      },
      {
        "duration": 14,
        "start_time": "2021-11-10T16:27:54.235Z"
      },
      {
        "duration": 12,
        "start_time": "2021-11-10T16:30:33.312Z"
      },
      {
        "duration": 9,
        "start_time": "2021-11-10T16:30:39.075Z"
      },
      {
        "duration": 10,
        "start_time": "2021-11-10T16:32:29.013Z"
      },
      {
        "duration": 58,
        "start_time": "2021-11-10T16:38:06.623Z"
      },
      {
        "duration": 62,
        "start_time": "2021-11-10T16:38:24.627Z"
      },
      {
        "duration": 60,
        "start_time": "2021-11-10T16:38:38.581Z"
      },
      {
        "duration": 58,
        "start_time": "2021-11-10T16:38:49.258Z"
      },
      {
        "duration": 405,
        "start_time": "2021-11-10T16:39:49.339Z"
      },
      {
        "duration": 188,
        "start_time": "2021-11-10T16:40:01.092Z"
      },
      {
        "duration": 13,
        "start_time": "2021-11-10T16:40:11.245Z"
      },
      {
        "duration": 10,
        "start_time": "2021-11-10T16:40:37.403Z"
      },
      {
        "duration": 9,
        "start_time": "2021-11-10T16:42:29.525Z"
      },
      {
        "duration": 11,
        "start_time": "2021-11-10T16:42:34.344Z"
      },
      {
        "duration": 7,
        "start_time": "2021-11-10T17:02:07.668Z"
      },
      {
        "duration": 6,
        "start_time": "2021-11-10T17:02:39.794Z"
      },
      {
        "duration": 13,
        "start_time": "2021-11-10T17:02:54.122Z"
      },
      {
        "duration": 7,
        "start_time": "2021-11-10T17:03:24.610Z"
      },
      {
        "duration": 7,
        "start_time": "2021-11-10T17:03:36.075Z"
      },
      {
        "duration": 8,
        "start_time": "2021-11-10T17:04:09.141Z"
      },
      {
        "duration": 7,
        "start_time": "2021-11-10T17:12:21.550Z"
      },
      {
        "duration": 16,
        "start_time": "2021-11-10T17:13:33.841Z"
      },
      {
        "duration": 7,
        "start_time": "2021-11-10T17:15:19.065Z"
      },
      {
        "duration": 79,
        "start_time": "2021-11-10T17:15:48.277Z"
      },
      {
        "duration": 16,
        "start_time": "2021-11-10T17:16:47.880Z"
      },
      {
        "duration": 6,
        "start_time": "2021-11-10T17:17:51.199Z"
      },
      {
        "duration": 15,
        "start_time": "2021-11-10T17:19:01.321Z"
      },
      {
        "duration": 15,
        "start_time": "2021-11-10T17:22:07.171Z"
      },
      {
        "duration": 6,
        "start_time": "2021-11-10T17:22:51.731Z"
      },
      {
        "duration": 20,
        "start_time": "2021-11-10T17:23:47.008Z"
      },
      {
        "duration": 9,
        "start_time": "2021-11-10T17:35:33.973Z"
      },
      {
        "duration": 9,
        "start_time": "2021-11-10T17:47:45.736Z"
      },
      {
        "duration": 620,
        "start_time": "2021-11-10T17:52:47.930Z"
      },
      {
        "duration": 61,
        "start_time": "2021-11-10T17:52:50.939Z"
      },
      {
        "duration": 11,
        "start_time": "2021-11-10T17:52:51.767Z"
      },
      {
        "duration": 7,
        "start_time": "2021-11-10T17:53:05.320Z"
      },
      {
        "duration": 7,
        "start_time": "2021-11-10T17:53:06.515Z"
      },
      {
        "duration": 16,
        "start_time": "2021-11-10T17:53:07.335Z"
      },
      {
        "duration": 5,
        "start_time": "2021-11-10T17:53:07.983Z"
      },
      {
        "duration": 16,
        "start_time": "2021-11-10T17:53:08.411Z"
      },
      {
        "duration": 6,
        "start_time": "2021-11-10T17:53:08.822Z"
      },
      {
        "duration": 15,
        "start_time": "2021-11-10T17:53:09.423Z"
      },
      {
        "duration": 17,
        "start_time": "2021-11-10T17:53:09.876Z"
      },
      {
        "duration": 7,
        "start_time": "2021-11-10T17:53:10.409Z"
      },
      {
        "duration": 19,
        "start_time": "2021-11-10T17:53:11.473Z"
      },
      {
        "duration": 11,
        "start_time": "2021-11-10T17:53:18.114Z"
      },
      {
        "duration": 5,
        "start_time": "2021-11-10T17:55:47.823Z"
      },
      {
        "duration": 6,
        "start_time": "2021-11-10T18:00:11.806Z"
      },
      {
        "duration": 70,
        "start_time": "2021-11-10T18:02:23.405Z"
      },
      {
        "duration": 4,
        "start_time": "2021-11-10T18:02:32.064Z"
      },
      {
        "duration": 8,
        "start_time": "2021-11-10T18:06:32.598Z"
      },
      {
        "duration": 6,
        "start_time": "2021-11-10T18:07:19.359Z"
      },
      {
        "duration": 7,
        "start_time": "2021-11-10T18:07:35.073Z"
      },
      {
        "duration": 6,
        "start_time": "2021-11-10T18:08:06.892Z"
      },
      {
        "duration": 6,
        "start_time": "2021-11-10T18:08:23.723Z"
      },
      {
        "duration": 14,
        "start_time": "2021-11-10T18:38:32.883Z"
      },
      {
        "duration": 20,
        "start_time": "2021-11-10T18:40:11.565Z"
      },
      {
        "duration": 5,
        "start_time": "2021-11-10T18:54:28.380Z"
      },
      {
        "duration": 5,
        "start_time": "2021-11-10T18:58:49.816Z"
      },
      {
        "duration": 10,
        "start_time": "2021-11-10T18:59:12.267Z"
      },
      {
        "duration": 6,
        "start_time": "2021-11-10T19:00:42.974Z"
      },
      {
        "duration": 6,
        "start_time": "2021-11-10T19:00:59.739Z"
      },
      {
        "duration": 5,
        "start_time": "2021-11-10T19:01:58.739Z"
      },
      {
        "duration": 5,
        "start_time": "2021-11-10T19:02:06.652Z"
      },
      {
        "duration": 5,
        "start_time": "2021-11-10T19:02:29.123Z"
      },
      {
        "duration": 4,
        "start_time": "2021-11-10T19:24:18.500Z"
      },
      {
        "duration": 6,
        "start_time": "2021-11-10T19:24:41.243Z"
      },
      {
        "duration": 5,
        "start_time": "2021-11-10T19:26:50.112Z"
      },
      {
        "duration": 9,
        "start_time": "2021-11-10T19:27:39.713Z"
      },
      {
        "duration": 5,
        "start_time": "2021-11-10T19:28:43.507Z"
      },
      {
        "duration": 5,
        "start_time": "2021-11-10T19:29:42.751Z"
      },
      {
        "duration": 91,
        "start_time": "2021-11-10T19:37:44.861Z"
      },
      {
        "duration": 57,
        "start_time": "2021-11-10T19:38:06.098Z"
      },
      {
        "duration": 4,
        "start_time": "2021-11-10T19:38:21.397Z"
      },
      {
        "duration": 4,
        "start_time": "2021-11-10T19:38:29.952Z"
      },
      {
        "duration": 4,
        "start_time": "2021-11-10T19:41:55.003Z"
      },
      {
        "duration": 9,
        "start_time": "2021-11-10T19:42:11.574Z"
      },
      {
        "duration": 10,
        "start_time": "2021-11-10T19:49:28.804Z"
      },
      {
        "duration": 5,
        "start_time": "2021-11-10T19:58:28.389Z"
      },
      {
        "duration": 4,
        "start_time": "2021-11-10T20:00:44.545Z"
      },
      {
        "duration": 15,
        "start_time": "2021-11-10T20:17:16.383Z"
      },
      {
        "duration": 11,
        "start_time": "2021-11-10T20:31:46.541Z"
      },
      {
        "duration": 34,
        "start_time": "2021-11-10T20:31:56.211Z"
      },
      {
        "duration": 23,
        "start_time": "2021-11-10T20:33:20.505Z"
      },
      {
        "duration": 33,
        "start_time": "2021-11-10T20:35:11.694Z"
      },
      {
        "duration": 1601,
        "start_time": "2021-11-10T20:35:29.754Z"
      },
      {
        "duration": 10,
        "start_time": "2021-11-10T20:35:31.357Z"
      },
      {
        "duration": 9,
        "start_time": "2021-11-10T20:35:31.369Z"
      },
      {
        "duration": 12,
        "start_time": "2021-11-10T20:35:31.379Z"
      },
      {
        "duration": 21,
        "start_time": "2021-11-10T20:35:31.392Z"
      },
      {
        "duration": 11,
        "start_time": "2021-11-10T20:35:31.414Z"
      },
      {
        "duration": 21,
        "start_time": "2021-11-10T20:35:31.426Z"
      },
      {
        "duration": 6,
        "start_time": "2021-11-10T20:35:31.449Z"
      },
      {
        "duration": 20,
        "start_time": "2021-11-10T20:35:31.456Z"
      },
      {
        "duration": 28,
        "start_time": "2021-11-10T20:35:31.478Z"
      },
      {
        "duration": 16,
        "start_time": "2021-11-10T20:35:31.507Z"
      },
      {
        "duration": 20,
        "start_time": "2021-11-10T20:35:31.524Z"
      },
      {
        "duration": 10,
        "start_time": "2021-11-10T20:35:31.545Z"
      },
      {
        "duration": 12,
        "start_time": "2021-11-10T20:35:31.556Z"
      },
      {
        "duration": 7,
        "start_time": "2021-11-10T20:35:31.570Z"
      },
      {
        "duration": 8,
        "start_time": "2021-11-10T20:35:31.579Z"
      },
      {
        "duration": 8,
        "start_time": "2021-11-10T20:35:31.589Z"
      },
      {
        "duration": 11,
        "start_time": "2021-11-10T20:35:31.598Z"
      },
      {
        "duration": 6,
        "start_time": "2021-11-10T20:35:31.611Z"
      },
      {
        "duration": 17,
        "start_time": "2021-11-10T20:35:31.619Z"
      },
      {
        "duration": 38,
        "start_time": "2021-11-10T20:35:31.638Z"
      },
      {
        "duration": 16,
        "start_time": "2021-11-10T20:46:47.436Z"
      },
      {
        "duration": 13,
        "start_time": "2021-11-10T20:47:31.361Z"
      },
      {
        "duration": 14,
        "start_time": "2021-11-10T20:47:39.373Z"
      },
      {
        "duration": 14,
        "start_time": "2021-11-10T20:48:01.473Z"
      },
      {
        "duration": 15,
        "start_time": "2021-11-10T20:48:08.385Z"
      },
      {
        "duration": 619,
        "start_time": "2021-11-10T20:48:51.272Z"
      },
      {
        "duration": 9,
        "start_time": "2021-11-10T20:48:51.893Z"
      },
      {
        "duration": 5,
        "start_time": "2021-11-10T20:48:51.906Z"
      },
      {
        "duration": 8,
        "start_time": "2021-11-10T20:48:51.913Z"
      },
      {
        "duration": 14,
        "start_time": "2021-11-10T20:48:51.923Z"
      },
      {
        "duration": 5,
        "start_time": "2021-11-10T20:48:51.938Z"
      },
      {
        "duration": 47,
        "start_time": "2021-11-10T20:48:51.945Z"
      },
      {
        "duration": 5,
        "start_time": "2021-11-10T20:48:51.994Z"
      },
      {
        "duration": 13,
        "start_time": "2021-11-10T20:48:52.001Z"
      },
      {
        "duration": 18,
        "start_time": "2021-11-10T20:48:52.016Z"
      },
      {
        "duration": 5,
        "start_time": "2021-11-10T20:48:52.035Z"
      },
      {
        "duration": 18,
        "start_time": "2021-11-10T20:48:52.042Z"
      },
      {
        "duration": 38,
        "start_time": "2021-11-10T20:48:52.061Z"
      },
      {
        "duration": 7,
        "start_time": "2021-11-10T20:48:52.100Z"
      },
      {
        "duration": 7,
        "start_time": "2021-11-10T20:48:52.108Z"
      },
      {
        "duration": 6,
        "start_time": "2021-11-10T20:48:52.116Z"
      },
      {
        "duration": 5,
        "start_time": "2021-11-10T20:48:52.123Z"
      },
      {
        "duration": 10,
        "start_time": "2021-11-10T20:48:52.129Z"
      },
      {
        "duration": 6,
        "start_time": "2021-11-10T20:48:52.140Z"
      },
      {
        "duration": 49,
        "start_time": "2021-11-10T20:48:52.148Z"
      },
      {
        "duration": 14,
        "start_time": "2021-11-10T20:48:52.198Z"
      },
      {
        "duration": 33,
        "start_time": "2021-11-10T20:48:52.213Z"
      },
      {
        "duration": 16,
        "start_time": "2021-11-10T20:49:58.745Z"
      },
      {
        "duration": 26,
        "start_time": "2021-11-10T20:53:11.375Z"
      },
      {
        "duration": 41,
        "start_time": "2021-11-10T20:56:32.837Z"
      },
      {
        "duration": 64,
        "start_time": "2021-11-10T21:07:16.143Z"
      },
      {
        "duration": 617,
        "start_time": "2021-11-10T21:19:27.196Z"
      },
      {
        "duration": 9,
        "start_time": "2021-11-10T21:19:27.815Z"
      },
      {
        "duration": 27,
        "start_time": "2021-11-10T21:19:27.828Z"
      },
      {
        "duration": 19,
        "start_time": "2021-11-10T21:19:27.856Z"
      },
      {
        "duration": 33,
        "start_time": "2021-11-10T21:19:27.876Z"
      },
      {
        "duration": 16,
        "start_time": "2021-11-10T21:19:27.911Z"
      },
      {
        "duration": 30,
        "start_time": "2021-11-10T21:19:27.929Z"
      },
      {
        "duration": 19,
        "start_time": "2021-11-10T21:19:27.960Z"
      },
      {
        "duration": 43,
        "start_time": "2021-11-10T21:19:27.980Z"
      },
      {
        "duration": 33,
        "start_time": "2021-11-10T21:19:28.025Z"
      },
      {
        "duration": 26,
        "start_time": "2021-11-10T21:19:28.060Z"
      },
      {
        "duration": 39,
        "start_time": "2021-11-10T21:19:28.088Z"
      },
      {
        "duration": 27,
        "start_time": "2021-11-10T21:19:28.128Z"
      },
      {
        "duration": 23,
        "start_time": "2021-11-10T21:19:28.156Z"
      },
      {
        "duration": 15,
        "start_time": "2021-11-10T21:19:28.180Z"
      },
      {
        "duration": 17,
        "start_time": "2021-11-10T21:19:28.197Z"
      },
      {
        "duration": 31,
        "start_time": "2021-11-10T21:19:28.215Z"
      },
      {
        "duration": 31,
        "start_time": "2021-11-10T21:19:28.248Z"
      },
      {
        "duration": 17,
        "start_time": "2021-11-10T21:19:28.280Z"
      },
      {
        "duration": 36,
        "start_time": "2021-11-10T21:19:28.299Z"
      },
      {
        "duration": 43,
        "start_time": "2021-11-10T21:19:28.337Z"
      },
      {
        "duration": 47,
        "start_time": "2021-11-10T21:19:28.382Z"
      },
      {
        "duration": 17,
        "start_time": "2021-11-10T21:27:27.734Z"
      },
      {
        "duration": 16,
        "start_time": "2021-11-10T21:28:46.405Z"
      },
      {
        "duration": 17,
        "start_time": "2021-11-10T21:32:52.743Z"
      },
      {
        "duration": 18,
        "start_time": "2021-11-10T21:32:59.498Z"
      },
      {
        "duration": 17,
        "start_time": "2021-11-10T21:33:15.670Z"
      },
      {
        "duration": 19,
        "start_time": "2021-11-10T21:35:33.259Z"
      },
      {
        "duration": 241,
        "start_time": "2021-11-10T21:42:52.929Z"
      },
      {
        "duration": 17,
        "start_time": "2021-11-10T21:43:11.861Z"
      },
      {
        "duration": 334,
        "start_time": "2021-11-10T21:47:23.413Z"
      },
      {
        "duration": 297,
        "start_time": "2021-11-10T21:47:37.571Z"
      },
      {
        "duration": 186,
        "start_time": "2021-11-10T21:47:54.924Z"
      },
      {
        "duration": 18,
        "start_time": "2021-11-10T21:48:14.654Z"
      },
      {
        "duration": 19,
        "start_time": "2021-11-10T21:48:37.684Z"
      },
      {
        "duration": 18,
        "start_time": "2021-11-10T21:49:05.857Z"
      },
      {
        "duration": 19,
        "start_time": "2021-11-10T21:49:24.845Z"
      },
      {
        "duration": 19,
        "start_time": "2021-11-10T21:49:32.684Z"
      },
      {
        "duration": 34,
        "start_time": "2021-11-10T21:53:02.034Z"
      },
      {
        "duration": 17,
        "start_time": "2021-11-10T21:54:17.484Z"
      },
      {
        "duration": 19,
        "start_time": "2021-11-10T21:54:23.766Z"
      },
      {
        "duration": 640,
        "start_time": "2021-11-10T21:54:27.910Z"
      },
      {
        "duration": 226,
        "start_time": "2021-11-10T21:55:05.078Z"
      },
      {
        "duration": 18,
        "start_time": "2021-11-10T21:55:24.323Z"
      },
      {
        "duration": 19,
        "start_time": "2021-11-10T21:58:36.680Z"
      },
      {
        "duration": 18,
        "start_time": "2021-11-10T21:58:42.784Z"
      },
      {
        "duration": 629,
        "start_time": "2021-11-10T21:59:39.984Z"
      },
      {
        "duration": 10,
        "start_time": "2021-11-10T21:59:40.615Z"
      },
      {
        "duration": 19,
        "start_time": "2021-11-10T21:59:40.628Z"
      },
      {
        "duration": 15,
        "start_time": "2021-11-10T21:59:40.648Z"
      },
      {
        "duration": 34,
        "start_time": "2021-11-10T21:59:40.665Z"
      },
      {
        "duration": 11,
        "start_time": "2021-11-10T21:59:40.701Z"
      },
      {
        "duration": 26,
        "start_time": "2021-11-10T21:59:40.714Z"
      },
      {
        "duration": 11,
        "start_time": "2021-11-10T21:59:40.742Z"
      },
      {
        "duration": 15,
        "start_time": "2021-11-10T21:59:40.754Z"
      },
      {
        "duration": 22,
        "start_time": "2021-11-10T21:59:40.771Z"
      },
      {
        "duration": 10,
        "start_time": "2021-11-10T21:59:40.795Z"
      },
      {
        "duration": 21,
        "start_time": "2021-11-10T21:59:40.807Z"
      },
      {
        "duration": 9,
        "start_time": "2021-11-10T21:59:40.830Z"
      },
      {
        "duration": 6,
        "start_time": "2021-11-10T21:59:40.840Z"
      },
      {
        "duration": 7,
        "start_time": "2021-11-10T21:59:40.847Z"
      },
      {
        "duration": 8,
        "start_time": "2021-11-10T21:59:40.855Z"
      },
      {
        "duration": 32,
        "start_time": "2021-11-10T21:59:40.864Z"
      },
      {
        "duration": 16,
        "start_time": "2021-11-10T21:59:40.898Z"
      },
      {
        "duration": 4,
        "start_time": "2021-11-10T21:59:40.916Z"
      },
      {
        "duration": 19,
        "start_time": "2021-11-10T21:59:40.922Z"
      },
      {
        "duration": 32,
        "start_time": "2021-11-10T21:59:40.943Z"
      },
      {
        "duration": 52,
        "start_time": "2021-11-10T21:59:40.979Z"
      },
      {
        "duration": 16,
        "start_time": "2021-11-10T21:59:41.033Z"
      },
      {
        "duration": 19,
        "start_time": "2021-11-10T21:59:41.051Z"
      },
      {
        "duration": 636,
        "start_time": "2021-11-10T21:59:41.091Z"
      },
      {
        "duration": 5,
        "start_time": "2021-11-10T21:59:41.730Z"
      },
      {
        "duration": 7,
        "start_time": "2021-11-10T21:59:41.737Z"
      },
      {
        "duration": 236,
        "start_time": "2021-11-10T21:59:41.745Z"
      },
      {
        "duration": 2396,
        "start_time": "2021-11-10T21:59:39.586Z"
      },
      {
        "duration": 19,
        "start_time": "2021-11-10T22:00:28.124Z"
      },
      {
        "duration": 225,
        "start_time": "2021-11-10T22:00:41.298Z"
      },
      {
        "duration": 635,
        "start_time": "2021-11-10T22:01:24.092Z"
      },
      {
        "duration": 10,
        "start_time": "2021-11-10T22:01:24.729Z"
      },
      {
        "duration": 6,
        "start_time": "2021-11-10T22:01:24.741Z"
      },
      {
        "duration": 7,
        "start_time": "2021-11-10T22:01:24.748Z"
      },
      {
        "duration": 13,
        "start_time": "2021-11-10T22:01:24.757Z"
      },
      {
        "duration": 5,
        "start_time": "2021-11-10T22:01:24.791Z"
      },
      {
        "duration": 14,
        "start_time": "2021-11-10T22:01:24.797Z"
      },
      {
        "duration": 4,
        "start_time": "2021-11-10T22:01:24.814Z"
      },
      {
        "duration": 18,
        "start_time": "2021-11-10T22:01:24.820Z"
      },
      {
        "duration": 15,
        "start_time": "2021-11-10T22:01:24.840Z"
      },
      {
        "duration": 37,
        "start_time": "2021-11-10T22:01:24.856Z"
      },
      {
        "duration": 17,
        "start_time": "2021-11-10T22:01:24.895Z"
      },
      {
        "duration": 9,
        "start_time": "2021-11-10T22:01:24.913Z"
      },
      {
        "duration": 6,
        "start_time": "2021-11-10T22:01:24.923Z"
      },
      {
        "duration": 12,
        "start_time": "2021-11-10T22:01:24.930Z"
      },
      {
        "duration": 6,
        "start_time": "2021-11-10T22:01:24.943Z"
      },
      {
        "duration": 5,
        "start_time": "2021-11-10T22:01:24.950Z"
      },
      {
        "duration": 39,
        "start_time": "2021-11-10T22:01:24.956Z"
      },
      {
        "duration": 5,
        "start_time": "2021-11-10T22:01:24.996Z"
      },
      {
        "duration": 15,
        "start_time": "2021-11-10T22:01:25.003Z"
      },
      {
        "duration": 33,
        "start_time": "2021-11-10T22:01:25.020Z"
      },
      {
        "duration": 70,
        "start_time": "2021-11-10T22:01:25.055Z"
      },
      {
        "duration": 16,
        "start_time": "2021-11-10T22:01:25.128Z"
      },
      {
        "duration": 18,
        "start_time": "2021-11-10T22:01:25.146Z"
      },
      {
        "duration": 4,
        "start_time": "2021-11-10T22:01:25.166Z"
      },
      {
        "duration": 20,
        "start_time": "2021-11-10T22:01:25.171Z"
      },
      {
        "duration": 5,
        "start_time": "2021-11-10T22:01:25.193Z"
      },
      {
        "duration": 8,
        "start_time": "2021-11-10T22:01:25.199Z"
      },
      {
        "duration": 5,
        "start_time": "2021-11-10T22:01:25.208Z"
      },
      {
        "duration": 16,
        "start_time": "2021-11-10T22:02:08.912Z"
      },
      {
        "duration": 17,
        "start_time": "2021-11-10T22:02:14.284Z"
      },
      {
        "duration": 635,
        "start_time": "2021-11-10T22:04:03.943Z"
      },
      {
        "duration": 22,
        "start_time": "2021-11-10T22:06:04.956Z"
      },
      {
        "duration": 6,
        "start_time": "2021-11-10T22:07:11.995Z"
      },
      {
        "duration": 3,
        "start_time": "2021-11-10T22:10:24.988Z"
      },
      {
        "duration": 2588,
        "start_time": "2021-11-10T22:10:27.380Z"
      },
      {
        "duration": 77,
        "start_time": "2021-11-10T22:14:18.754Z"
      },
      {
        "duration": 666,
        "start_time": "2021-11-10T22:14:46.467Z"
      },
      {
        "duration": 23,
        "start_time": "2021-11-10T22:21:01.278Z"
      },
      {
        "duration": 23,
        "start_time": "2021-11-10T22:21:10.519Z"
      },
      {
        "duration": 21,
        "start_time": "2021-11-10T22:27:57.175Z"
      },
      {
        "duration": 722,
        "start_time": "2021-11-10T22:33:25.453Z"
      },
      {
        "duration": 65,
        "start_time": "2021-11-10T22:36:17.925Z"
      },
      {
        "duration": 696,
        "start_time": "2021-11-10T22:36:49.580Z"
      },
      {
        "duration": 12,
        "start_time": "2021-11-10T22:39:47.080Z"
      },
      {
        "duration": 3,
        "start_time": "2021-11-10T22:39:58.405Z"
      },
      {
        "duration": 2554,
        "start_time": "2021-11-10T22:39:59.274Z"
      },
      {
        "duration": 3,
        "start_time": "2021-11-10T22:48:56.107Z"
      },
      {
        "duration": 2560,
        "start_time": "2021-11-10T22:49:01.810Z"
      },
      {
        "duration": 13,
        "start_time": "2021-11-10T22:52:55.251Z"
      },
      {
        "duration": 16,
        "start_time": "2021-11-10T22:53:55.432Z"
      },
      {
        "duration": 61,
        "start_time": "2021-11-10T22:57:03.867Z"
      },
      {
        "duration": 61,
        "start_time": "2021-11-10T22:59:56.102Z"
      },
      {
        "duration": 65,
        "start_time": "2021-11-10T23:00:24.252Z"
      },
      {
        "duration": 67,
        "start_time": "2021-11-10T23:02:03.188Z"
      },
      {
        "duration": 1203,
        "start_time": "2021-11-10T23:02:59.592Z"
      },
      {
        "duration": 10,
        "start_time": "2021-11-10T23:03:00.797Z"
      },
      {
        "duration": 20,
        "start_time": "2021-11-10T23:03:00.810Z"
      },
      {
        "duration": 20,
        "start_time": "2021-11-10T23:03:00.832Z"
      },
      {
        "duration": 19,
        "start_time": "2021-11-10T23:03:00.853Z"
      },
      {
        "duration": 13,
        "start_time": "2021-11-10T23:03:00.874Z"
      },
      {
        "duration": 41,
        "start_time": "2021-11-10T23:03:00.890Z"
      },
      {
        "duration": 19,
        "start_time": "2021-11-10T23:03:00.933Z"
      },
      {
        "duration": 36,
        "start_time": "2021-11-10T23:03:00.954Z"
      },
      {
        "duration": 36,
        "start_time": "2021-11-10T23:03:00.991Z"
      },
      {
        "duration": 23,
        "start_time": "2021-11-10T23:03:01.028Z"
      },
      {
        "duration": 28,
        "start_time": "2021-11-10T23:03:01.053Z"
      },
      {
        "duration": 42,
        "start_time": "2021-11-10T23:03:01.082Z"
      },
      {
        "duration": 11,
        "start_time": "2021-11-10T23:03:01.126Z"
      },
      {
        "duration": 26,
        "start_time": "2021-11-10T23:03:01.138Z"
      },
      {
        "duration": 25,
        "start_time": "2021-11-10T23:03:01.166Z"
      },
      {
        "duration": 22,
        "start_time": "2021-11-10T23:03:01.192Z"
      },
      {
        "duration": 29,
        "start_time": "2021-11-10T23:03:01.215Z"
      },
      {
        "duration": 25,
        "start_time": "2021-11-10T23:03:01.245Z"
      },
      {
        "duration": 30,
        "start_time": "2021-11-10T23:03:01.271Z"
      },
      {
        "duration": 39,
        "start_time": "2021-11-10T23:03:01.302Z"
      },
      {
        "duration": 53,
        "start_time": "2021-11-10T23:03:01.344Z"
      },
      {
        "duration": 17,
        "start_time": "2021-11-10T23:03:01.399Z"
      },
      {
        "duration": 324,
        "start_time": "2021-11-10T23:03:01.418Z"
      },
      {
        "duration": 717,
        "start_time": "2021-11-10T23:03:30.200Z"
      },
      {
        "duration": 1329,
        "start_time": "2021-11-10T23:04:30.979Z"
      },
      {
        "duration": 10,
        "start_time": "2021-11-10T23:04:32.310Z"
      },
      {
        "duration": 6,
        "start_time": "2021-11-10T23:04:32.322Z"
      },
      {
        "duration": 7,
        "start_time": "2021-11-10T23:04:32.330Z"
      },
      {
        "duration": 15,
        "start_time": "2021-11-10T23:04:32.339Z"
      },
      {
        "duration": 37,
        "start_time": "2021-11-10T23:04:32.355Z"
      },
      {
        "duration": 15,
        "start_time": "2021-11-10T23:04:32.393Z"
      },
      {
        "duration": 11,
        "start_time": "2021-11-10T23:04:32.409Z"
      },
      {
        "duration": 14,
        "start_time": "2021-11-10T23:04:32.422Z"
      },
      {
        "duration": 19,
        "start_time": "2021-11-10T23:04:32.438Z"
      },
      {
        "duration": 6,
        "start_time": "2021-11-10T23:04:32.458Z"
      },
      {
        "duration": 39,
        "start_time": "2021-11-10T23:04:32.465Z"
      },
      {
        "duration": 8,
        "start_time": "2021-11-10T23:04:32.506Z"
      },
      {
        "duration": 13,
        "start_time": "2021-11-10T23:04:32.516Z"
      },
      {
        "duration": 7,
        "start_time": "2021-11-10T23:04:32.530Z"
      },
      {
        "duration": 6,
        "start_time": "2021-11-10T23:04:32.539Z"
      },
      {
        "duration": 7,
        "start_time": "2021-11-10T23:04:32.546Z"
      },
      {
        "duration": 9,
        "start_time": "2021-11-10T23:04:32.555Z"
      },
      {
        "duration": 5,
        "start_time": "2021-11-10T23:04:32.565Z"
      },
      {
        "duration": 32,
        "start_time": "2021-11-10T23:04:32.571Z"
      },
      {
        "duration": 32,
        "start_time": "2021-11-10T23:04:32.605Z"
      },
      {
        "duration": 60,
        "start_time": "2021-11-10T23:04:32.638Z"
      },
      {
        "duration": 17,
        "start_time": "2021-11-10T23:04:32.700Z"
      },
      {
        "duration": 719,
        "start_time": "2021-11-10T23:04:32.718Z"
      },
      {
        "duration": 1213,
        "start_time": "2021-11-10T23:07:26.087Z"
      },
      {
        "duration": 10,
        "start_time": "2021-11-10T23:07:27.302Z"
      },
      {
        "duration": 6,
        "start_time": "2021-11-10T23:07:27.314Z"
      },
      {
        "duration": 8,
        "start_time": "2021-11-10T23:07:27.322Z"
      },
      {
        "duration": 14,
        "start_time": "2021-11-10T23:07:27.332Z"
      },
      {
        "duration": 6,
        "start_time": "2021-11-10T23:07:27.347Z"
      },
      {
        "duration": 43,
        "start_time": "2021-11-10T23:07:27.354Z"
      },
      {
        "duration": 6,
        "start_time": "2021-11-10T23:07:27.399Z"
      },
      {
        "duration": 13,
        "start_time": "2021-11-10T23:07:27.407Z"
      },
      {
        "duration": 15,
        "start_time": "2021-11-10T23:07:27.422Z"
      },
      {
        "duration": 5,
        "start_time": "2021-11-10T23:07:27.438Z"
      },
      {
        "duration": 52,
        "start_time": "2021-11-10T23:07:27.445Z"
      },
      {
        "duration": 9,
        "start_time": "2021-11-10T23:07:27.498Z"
      },
      {
        "duration": 5,
        "start_time": "2021-11-10T23:07:27.509Z"
      },
      {
        "duration": 7,
        "start_time": "2021-11-10T23:07:27.516Z"
      },
      {
        "duration": 5,
        "start_time": "2021-11-10T23:07:27.524Z"
      },
      {
        "duration": 6,
        "start_time": "2021-11-10T23:07:27.530Z"
      },
      {
        "duration": 10,
        "start_time": "2021-11-10T23:07:27.537Z"
      },
      {
        "duration": 5,
        "start_time": "2021-11-10T23:07:27.549Z"
      },
      {
        "duration": 47,
        "start_time": "2021-11-10T23:07:27.555Z"
      },
      {
        "duration": 32,
        "start_time": "2021-11-10T23:07:27.604Z"
      },
      {
        "duration": 60,
        "start_time": "2021-11-10T23:07:27.637Z"
      },
      {
        "duration": 17,
        "start_time": "2021-11-10T23:07:27.699Z"
      },
      {
        "duration": 748,
        "start_time": "2021-11-10T23:07:27.718Z"
      },
      {
        "duration": 330,
        "start_time": "2021-11-10T23:13:53.931Z"
      },
      {
        "duration": 71,
        "start_time": "2021-11-10T23:14:31.639Z"
      },
      {
        "duration": 1223,
        "start_time": "2021-11-10T23:21:17.977Z"
      },
      {
        "duration": 9,
        "start_time": "2021-11-10T23:21:19.202Z"
      },
      {
        "duration": 5,
        "start_time": "2021-11-10T23:21:19.213Z"
      },
      {
        "duration": 6,
        "start_time": "2021-11-10T23:21:19.219Z"
      },
      {
        "duration": 13,
        "start_time": "2021-11-10T23:21:19.226Z"
      },
      {
        "duration": 4,
        "start_time": "2021-11-10T23:21:19.241Z"
      },
      {
        "duration": 46,
        "start_time": "2021-11-10T23:21:19.247Z"
      },
      {
        "duration": 5,
        "start_time": "2021-11-10T23:21:19.295Z"
      },
      {
        "duration": 13,
        "start_time": "2021-11-10T23:21:19.302Z"
      },
      {
        "duration": 13,
        "start_time": "2021-11-10T23:21:19.316Z"
      },
      {
        "duration": 8,
        "start_time": "2021-11-10T23:21:19.330Z"
      },
      {
        "duration": 16,
        "start_time": "2021-11-10T23:21:19.340Z"
      },
      {
        "duration": 37,
        "start_time": "2021-11-10T23:21:19.357Z"
      },
      {
        "duration": 4,
        "start_time": "2021-11-10T23:21:19.396Z"
      },
      {
        "duration": 5,
        "start_time": "2021-11-10T23:21:19.402Z"
      },
      {
        "duration": 5,
        "start_time": "2021-11-10T23:21:19.409Z"
      },
      {
        "duration": 6,
        "start_time": "2021-11-10T23:21:19.415Z"
      },
      {
        "duration": 8,
        "start_time": "2021-11-10T23:21:19.422Z"
      },
      {
        "duration": 4,
        "start_time": "2021-11-10T23:21:19.431Z"
      },
      {
        "duration": 14,
        "start_time": "2021-11-10T23:21:19.437Z"
      },
      {
        "duration": 68,
        "start_time": "2021-11-10T23:21:19.452Z"
      },
      {
        "duration": 40,
        "start_time": "2021-11-10T23:21:19.521Z"
      },
      {
        "duration": 29,
        "start_time": "2021-11-10T23:21:19.563Z"
      },
      {
        "duration": 743,
        "start_time": "2021-11-10T23:21:19.594Z"
      },
      {
        "duration": 1210,
        "start_time": "2021-11-10T23:22:21.622Z"
      },
      {
        "duration": 10,
        "start_time": "2021-11-10T23:22:22.834Z"
      },
      {
        "duration": 11,
        "start_time": "2021-11-10T23:22:22.846Z"
      },
      {
        "duration": 17,
        "start_time": "2021-11-10T23:22:22.858Z"
      },
      {
        "duration": 15,
        "start_time": "2021-11-10T23:22:22.877Z"
      },
      {
        "duration": 11,
        "start_time": "2021-11-10T23:22:22.893Z"
      },
      {
        "duration": 21,
        "start_time": "2021-11-10T23:22:22.905Z"
      },
      {
        "duration": 10,
        "start_time": "2021-11-10T23:22:22.928Z"
      },
      {
        "duration": 18,
        "start_time": "2021-11-10T23:22:22.940Z"
      },
      {
        "duration": 19,
        "start_time": "2021-11-10T23:22:22.960Z"
      },
      {
        "duration": 12,
        "start_time": "2021-11-10T23:22:22.980Z"
      },
      {
        "duration": 24,
        "start_time": "2021-11-10T23:22:22.993Z"
      },
      {
        "duration": 18,
        "start_time": "2021-11-10T23:22:23.018Z"
      },
      {
        "duration": 11,
        "start_time": "2021-11-10T23:22:23.038Z"
      },
      {
        "duration": 12,
        "start_time": "2021-11-10T23:22:23.050Z"
      },
      {
        "duration": 27,
        "start_time": "2021-11-10T23:22:23.064Z"
      },
      {
        "duration": 12,
        "start_time": "2021-11-10T23:22:23.093Z"
      },
      {
        "duration": 12,
        "start_time": "2021-11-10T23:22:23.106Z"
      },
      {
        "duration": 15,
        "start_time": "2021-11-10T23:22:23.120Z"
      },
      {
        "duration": 26,
        "start_time": "2021-11-10T23:22:23.136Z"
      },
      {
        "duration": 32,
        "start_time": "2021-11-10T23:22:23.163Z"
      },
      {
        "duration": 42,
        "start_time": "2021-11-10T23:22:23.196Z"
      },
      {
        "duration": 17,
        "start_time": "2021-11-10T23:22:23.240Z"
      },
      {
        "duration": 781,
        "start_time": "2021-11-10T23:22:23.258Z"
      },
      {
        "duration": 1192,
        "start_time": "2021-11-10T23:24:27.125Z"
      },
      {
        "duration": 11,
        "start_time": "2021-11-10T23:24:28.319Z"
      },
      {
        "duration": 6,
        "start_time": "2021-11-10T23:24:28.332Z"
      },
      {
        "duration": 10,
        "start_time": "2021-11-10T23:24:28.340Z"
      },
      {
        "duration": 16,
        "start_time": "2021-11-10T23:24:28.352Z"
      },
      {
        "duration": 6,
        "start_time": "2021-11-10T23:24:28.392Z"
      },
      {
        "duration": 15,
        "start_time": "2021-11-10T23:24:28.400Z"
      },
      {
        "duration": 6,
        "start_time": "2021-11-10T23:24:28.417Z"
      },
      {
        "duration": 14,
        "start_time": "2021-11-10T23:24:28.426Z"
      },
      {
        "duration": 18,
        "start_time": "2021-11-10T23:24:28.442Z"
      },
      {
        "duration": 36,
        "start_time": "2021-11-10T23:24:28.461Z"
      },
      {
        "duration": 19,
        "start_time": "2021-11-10T23:24:28.498Z"
      },
      {
        "duration": 13,
        "start_time": "2021-11-10T23:24:28.520Z"
      },
      {
        "duration": 6,
        "start_time": "2021-11-10T23:24:28.535Z"
      },
      {
        "duration": 7,
        "start_time": "2021-11-10T23:24:28.542Z"
      },
      {
        "duration": 4,
        "start_time": "2021-11-10T23:24:28.551Z"
      },
      {
        "duration": 7,
        "start_time": "2021-11-10T23:24:28.591Z"
      },
      {
        "duration": 14,
        "start_time": "2021-11-10T23:24:28.599Z"
      },
      {
        "duration": 5,
        "start_time": "2021-11-10T23:24:28.615Z"
      },
      {
        "duration": 22,
        "start_time": "2021-11-10T23:24:28.622Z"
      },
      {
        "duration": 57,
        "start_time": "2021-11-10T23:24:28.646Z"
      },
      {
        "duration": 47,
        "start_time": "2021-11-10T23:24:28.704Z"
      },
      {
        "duration": 16,
        "start_time": "2021-11-10T23:24:28.752Z"
      },
      {
        "duration": 774,
        "start_time": "2021-11-10T23:24:28.769Z"
      },
      {
        "duration": 1229,
        "start_time": "2021-11-10T23:29:18.171Z"
      },
      {
        "duration": 11,
        "start_time": "2021-11-10T23:29:19.402Z"
      },
      {
        "duration": 11,
        "start_time": "2021-11-10T23:29:19.414Z"
      },
      {
        "duration": 5,
        "start_time": "2021-11-10T23:29:19.427Z"
      },
      {
        "duration": 16,
        "start_time": "2021-11-10T23:29:19.434Z"
      },
      {
        "duration": 14,
        "start_time": "2021-11-10T23:29:19.451Z"
      },
      {
        "duration": 29,
        "start_time": "2021-11-10T23:29:19.467Z"
      },
      {
        "duration": 5,
        "start_time": "2021-11-10T23:29:19.498Z"
      },
      {
        "duration": 13,
        "start_time": "2021-11-10T23:29:19.505Z"
      },
      {
        "duration": 14,
        "start_time": "2021-11-10T23:29:19.519Z"
      },
      {
        "duration": 5,
        "start_time": "2021-11-10T23:29:19.534Z"
      },
      {
        "duration": 16,
        "start_time": "2021-11-10T23:29:19.541Z"
      },
      {
        "duration": 37,
        "start_time": "2021-11-10T23:29:19.559Z"
      },
      {
        "duration": 5,
        "start_time": "2021-11-10T23:29:19.597Z"
      },
      {
        "duration": 6,
        "start_time": "2021-11-10T23:29:19.604Z"
      },
      {
        "duration": 9,
        "start_time": "2021-11-10T23:29:19.611Z"
      },
      {
        "duration": 6,
        "start_time": "2021-11-10T23:29:19.621Z"
      },
      {
        "duration": 10,
        "start_time": "2021-11-10T23:29:19.628Z"
      },
      {
        "duration": 4,
        "start_time": "2021-11-10T23:29:19.639Z"
      },
      {
        "duration": 15,
        "start_time": "2021-11-10T23:29:19.645Z"
      },
      {
        "duration": 37,
        "start_time": "2021-11-10T23:29:19.691Z"
      },
      {
        "duration": 41,
        "start_time": "2021-11-10T23:29:19.730Z"
      },
      {
        "duration": 25,
        "start_time": "2021-11-10T23:29:19.773Z"
      },
      {
        "duration": 765,
        "start_time": "2021-11-10T23:29:19.799Z"
      },
      {
        "duration": 1109,
        "start_time": "2021-11-10T23:33:09.820Z"
      },
      {
        "duration": 10,
        "start_time": "2021-11-10T23:33:10.931Z"
      },
      {
        "duration": 14,
        "start_time": "2021-11-10T23:33:10.942Z"
      },
      {
        "duration": 31,
        "start_time": "2021-11-10T23:33:10.958Z"
      },
      {
        "duration": 24,
        "start_time": "2021-11-10T23:33:10.990Z"
      },
      {
        "duration": 22,
        "start_time": "2021-11-10T23:33:11.015Z"
      },
      {
        "duration": 37,
        "start_time": "2021-11-10T23:33:11.039Z"
      },
      {
        "duration": 24,
        "start_time": "2021-11-10T23:33:11.078Z"
      },
      {
        "duration": 37,
        "start_time": "2021-11-10T23:33:11.103Z"
      },
      {
        "duration": 41,
        "start_time": "2021-11-10T23:33:11.141Z"
      },
      {
        "duration": 21,
        "start_time": "2021-11-10T23:33:11.184Z"
      },
      {
        "duration": 51,
        "start_time": "2021-11-10T23:33:11.206Z"
      },
      {
        "duration": 51,
        "start_time": "2021-11-10T23:33:11.258Z"
      },
      {
        "duration": 21,
        "start_time": "2021-11-10T23:33:11.311Z"
      },
      {
        "duration": 15,
        "start_time": "2021-11-10T23:33:11.334Z"
      },
      {
        "duration": 22,
        "start_time": "2021-11-10T23:33:11.350Z"
      },
      {
        "duration": 12,
        "start_time": "2021-11-10T23:33:11.374Z"
      },
      {
        "duration": 25,
        "start_time": "2021-11-10T23:33:11.387Z"
      },
      {
        "duration": 6,
        "start_time": "2021-11-10T23:33:11.414Z"
      },
      {
        "duration": 30,
        "start_time": "2021-11-10T23:33:11.421Z"
      },
      {
        "duration": 40,
        "start_time": "2021-11-10T23:33:11.452Z"
      },
      {
        "duration": 48,
        "start_time": "2021-11-10T23:33:11.493Z"
      },
      {
        "duration": 16,
        "start_time": "2021-11-10T23:33:11.544Z"
      },
      {
        "duration": 982,
        "start_time": "2021-11-10T23:33:11.561Z"
      },
      {
        "duration": 1183,
        "start_time": "2021-11-10T23:33:54.199Z"
      },
      {
        "duration": 10,
        "start_time": "2021-11-10T23:33:55.383Z"
      },
      {
        "duration": 16,
        "start_time": "2021-11-10T23:33:55.395Z"
      },
      {
        "duration": 7,
        "start_time": "2021-11-10T23:33:55.413Z"
      },
      {
        "duration": 25,
        "start_time": "2021-11-10T23:33:55.422Z"
      },
      {
        "duration": 7,
        "start_time": "2021-11-10T23:33:55.448Z"
      },
      {
        "duration": 14,
        "start_time": "2021-11-10T23:33:55.456Z"
      },
      {
        "duration": 4,
        "start_time": "2021-11-10T23:33:55.472Z"
      },
      {
        "duration": 21,
        "start_time": "2021-11-10T23:33:55.478Z"
      },
      {
        "duration": 14,
        "start_time": "2021-11-10T23:33:55.501Z"
      },
      {
        "duration": 13,
        "start_time": "2021-11-10T23:33:55.517Z"
      },
      {
        "duration": 17,
        "start_time": "2021-11-10T23:33:55.532Z"
      },
      {
        "duration": 9,
        "start_time": "2021-11-10T23:33:55.550Z"
      },
      {
        "duration": 5,
        "start_time": "2021-11-10T23:33:55.561Z"
      },
      {
        "duration": 5,
        "start_time": "2021-11-10T23:33:55.591Z"
      },
      {
        "duration": 5,
        "start_time": "2021-11-10T23:33:55.597Z"
      },
      {
        "duration": 4,
        "start_time": "2021-11-10T23:33:55.604Z"
      },
      {
        "duration": 10,
        "start_time": "2021-11-10T23:33:55.610Z"
      },
      {
        "duration": 4,
        "start_time": "2021-11-10T23:33:55.622Z"
      },
      {
        "duration": 14,
        "start_time": "2021-11-10T23:33:55.627Z"
      },
      {
        "duration": 58,
        "start_time": "2021-11-10T23:33:55.643Z"
      },
      {
        "duration": 38,
        "start_time": "2021-11-10T23:33:55.703Z"
      },
      {
        "duration": 17,
        "start_time": "2021-11-10T23:33:55.743Z"
      },
      {
        "duration": 1000,
        "start_time": "2021-11-10T23:33:55.761Z"
      },
      {
        "duration": 1231,
        "start_time": "2021-11-10T23:38:25.069Z"
      },
      {
        "duration": 10,
        "start_time": "2021-11-10T23:38:26.302Z"
      },
      {
        "duration": 5,
        "start_time": "2021-11-10T23:38:26.315Z"
      },
      {
        "duration": 7,
        "start_time": "2021-11-10T23:38:26.321Z"
      },
      {
        "duration": 13,
        "start_time": "2021-11-10T23:38:26.330Z"
      },
      {
        "duration": 5,
        "start_time": "2021-11-10T23:38:26.345Z"
      },
      {
        "duration": 47,
        "start_time": "2021-11-10T23:38:26.352Z"
      },
      {
        "duration": 5,
        "start_time": "2021-11-10T23:38:26.402Z"
      },
      {
        "duration": 13,
        "start_time": "2021-11-10T23:38:26.409Z"
      },
      {
        "duration": 15,
        "start_time": "2021-11-10T23:38:26.424Z"
      },
      {
        "duration": 5,
        "start_time": "2021-11-10T23:38:26.441Z"
      },
      {
        "duration": 44,
        "start_time": "2021-11-10T23:38:26.448Z"
      },
      {
        "duration": 9,
        "start_time": "2021-11-10T23:38:26.494Z"
      },
      {
        "duration": 6,
        "start_time": "2021-11-10T23:38:26.505Z"
      },
      {
        "duration": 8,
        "start_time": "2021-11-10T23:38:26.512Z"
      },
      {
        "duration": 5,
        "start_time": "2021-11-10T23:38:26.521Z"
      },
      {
        "duration": 6,
        "start_time": "2021-11-10T23:38:26.527Z"
      },
      {
        "duration": 11,
        "start_time": "2021-11-10T23:38:26.534Z"
      },
      {
        "duration": 5,
        "start_time": "2021-11-10T23:38:26.546Z"
      },
      {
        "duration": 51,
        "start_time": "2021-11-10T23:38:26.552Z"
      },
      {
        "duration": 33,
        "start_time": "2021-11-10T23:38:26.605Z"
      },
      {
        "duration": 57,
        "start_time": "2021-11-10T23:38:26.640Z"
      },
      {
        "duration": 17,
        "start_time": "2021-11-10T23:38:26.700Z"
      },
      {
        "duration": 995,
        "start_time": "2021-11-10T23:38:26.719Z"
      },
      {
        "duration": 1204,
        "start_time": "2021-11-10T23:39:00.696Z"
      },
      {
        "duration": 10,
        "start_time": "2021-11-10T23:39:01.902Z"
      },
      {
        "duration": 14,
        "start_time": "2021-11-10T23:39:01.914Z"
      },
      {
        "duration": 10,
        "start_time": "2021-11-10T23:39:01.929Z"
      },
      {
        "duration": 19,
        "start_time": "2021-11-10T23:39:01.941Z"
      },
      {
        "duration": 14,
        "start_time": "2021-11-10T23:39:01.962Z"
      },
      {
        "duration": 24,
        "start_time": "2021-11-10T23:39:01.977Z"
      },
      {
        "duration": 6,
        "start_time": "2021-11-10T23:39:02.003Z"
      },
      {
        "duration": 19,
        "start_time": "2021-11-10T23:39:02.010Z"
      },
      {
        "duration": 15,
        "start_time": "2021-11-10T23:39:02.031Z"
      },
      {
        "duration": 9,
        "start_time": "2021-11-10T23:39:02.047Z"
      },
      {
        "duration": 23,
        "start_time": "2021-11-10T23:39:02.058Z"
      },
      {
        "duration": 20,
        "start_time": "2021-11-10T23:39:02.082Z"
      },
      {
        "duration": 12,
        "start_time": "2021-11-10T23:39:02.104Z"
      },
      {
        "duration": 21,
        "start_time": "2021-11-10T23:39:02.118Z"
      },
      {
        "duration": 24,
        "start_time": "2021-11-10T23:39:02.140Z"
      },
      {
        "duration": 40,
        "start_time": "2021-11-10T23:39:02.165Z"
      },
      {
        "duration": 15,
        "start_time": "2021-11-10T23:39:02.207Z"
      },
      {
        "duration": 10,
        "start_time": "2021-11-10T23:39:02.223Z"
      },
      {
        "duration": 25,
        "start_time": "2021-11-10T23:39:02.235Z"
      },
      {
        "duration": 41,
        "start_time": "2021-11-10T23:39:02.261Z"
      },
      {
        "duration": 57,
        "start_time": "2021-11-10T23:39:02.303Z"
      },
      {
        "duration": 16,
        "start_time": "2021-11-10T23:39:02.363Z"
      },
      {
        "duration": 977,
        "start_time": "2021-11-10T23:39:02.380Z"
      },
      {
        "duration": 1184,
        "start_time": "2021-11-10T23:43:56.608Z"
      },
      {
        "duration": 11,
        "start_time": "2021-11-10T23:43:57.794Z"
      },
      {
        "duration": 7,
        "start_time": "2021-11-10T23:43:57.807Z"
      },
      {
        "duration": 6,
        "start_time": "2021-11-10T23:43:57.816Z"
      },
      {
        "duration": 15,
        "start_time": "2021-11-10T23:43:57.824Z"
      },
      {
        "duration": 6,
        "start_time": "2021-11-10T23:43:57.841Z"
      },
      {
        "duration": 55,
        "start_time": "2021-11-10T23:43:57.848Z"
      },
      {
        "duration": 6,
        "start_time": "2021-11-10T23:43:57.906Z"
      },
      {
        "duration": 14,
        "start_time": "2021-11-10T23:43:57.914Z"
      },
      {
        "duration": 14,
        "start_time": "2021-11-10T23:43:57.930Z"
      },
      {
        "duration": 5,
        "start_time": "2021-11-10T23:43:57.945Z"
      },
      {
        "duration": 49,
        "start_time": "2021-11-10T23:43:57.951Z"
      },
      {
        "duration": 9,
        "start_time": "2021-11-10T23:43:58.001Z"
      },
      {
        "duration": 7,
        "start_time": "2021-11-10T23:43:58.012Z"
      },
      {
        "duration": 6,
        "start_time": "2021-11-10T23:43:58.021Z"
      },
      {
        "duration": 7,
        "start_time": "2021-11-10T23:43:58.028Z"
      },
      {
        "duration": 5,
        "start_time": "2021-11-10T23:43:58.037Z"
      },
      {
        "duration": 10,
        "start_time": "2021-11-10T23:43:58.044Z"
      },
      {
        "duration": 5,
        "start_time": "2021-11-10T23:43:58.055Z"
      },
      {
        "duration": 43,
        "start_time": "2021-11-10T23:43:58.061Z"
      },
      {
        "duration": 34,
        "start_time": "2021-11-10T23:43:58.105Z"
      },
      {
        "duration": 64,
        "start_time": "2021-11-10T23:43:58.140Z"
      },
      {
        "duration": 17,
        "start_time": "2021-11-10T23:43:58.207Z"
      },
      {
        "duration": 742,
        "start_time": "2021-11-10T23:43:58.226Z"
      },
      {
        "duration": 1225,
        "start_time": "2021-11-10T23:47:52.369Z"
      },
      {
        "duration": 11,
        "start_time": "2021-11-10T23:47:53.595Z"
      },
      {
        "duration": 5,
        "start_time": "2021-11-10T23:47:53.608Z"
      },
      {
        "duration": 5,
        "start_time": "2021-11-10T23:47:53.615Z"
      },
      {
        "duration": 13,
        "start_time": "2021-11-10T23:47:53.622Z"
      },
      {
        "duration": 6,
        "start_time": "2021-11-10T23:47:53.638Z"
      },
      {
        "duration": 53,
        "start_time": "2021-11-10T23:47:53.645Z"
      },
      {
        "duration": 6,
        "start_time": "2021-11-10T23:47:53.701Z"
      },
      {
        "duration": 17,
        "start_time": "2021-11-10T23:47:53.709Z"
      },
      {
        "duration": 15,
        "start_time": "2021-11-10T23:47:53.728Z"
      },
      {
        "duration": 6,
        "start_time": "2021-11-10T23:47:53.745Z"
      },
      {
        "duration": 46,
        "start_time": "2021-11-10T23:47:53.754Z"
      },
      {
        "duration": 11,
        "start_time": "2021-11-10T23:47:53.802Z"
      },
      {
        "duration": 5,
        "start_time": "2021-11-10T23:47:53.815Z"
      },
      {
        "duration": 6,
        "start_time": "2021-11-10T23:47:53.822Z"
      },
      {
        "duration": 5,
        "start_time": "2021-11-10T23:47:53.829Z"
      },
      {
        "duration": 5,
        "start_time": "2021-11-10T23:47:53.836Z"
      },
      {
        "duration": 54,
        "start_time": "2021-11-10T23:47:53.842Z"
      },
      {
        "duration": 5,
        "start_time": "2021-11-10T23:47:53.898Z"
      },
      {
        "duration": 16,
        "start_time": "2021-11-10T23:47:53.904Z"
      },
      {
        "duration": 31,
        "start_time": "2021-11-10T23:47:53.922Z"
      },
      {
        "duration": 70,
        "start_time": "2021-11-10T23:47:53.954Z"
      },
      {
        "duration": 17,
        "start_time": "2021-11-10T23:47:54.026Z"
      },
      {
        "duration": 714,
        "start_time": "2021-11-10T23:47:54.045Z"
      },
      {
        "duration": 1164,
        "start_time": "2021-11-10T23:53:21.434Z"
      },
      {
        "duration": 11,
        "start_time": "2021-11-10T23:53:22.599Z"
      },
      {
        "duration": 10,
        "start_time": "2021-11-10T23:53:22.612Z"
      },
      {
        "duration": 11,
        "start_time": "2021-11-10T23:53:22.624Z"
      },
      {
        "duration": 16,
        "start_time": "2021-11-10T23:53:22.636Z"
      },
      {
        "duration": 12,
        "start_time": "2021-11-10T23:53:22.653Z"
      },
      {
        "duration": 34,
        "start_time": "2021-11-10T23:53:22.667Z"
      },
      {
        "duration": 8,
        "start_time": "2021-11-10T23:53:22.704Z"
      },
      {
        "duration": 14,
        "start_time": "2021-11-10T23:53:22.714Z"
      },
      {
        "duration": 15,
        "start_time": "2021-11-10T23:53:22.729Z"
      },
      {
        "duration": 5,
        "start_time": "2021-11-10T23:53:22.745Z"
      },
      {
        "duration": 45,
        "start_time": "2021-11-10T23:53:22.752Z"
      },
      {
        "duration": 10,
        "start_time": "2021-11-10T23:53:22.798Z"
      },
      {
        "duration": 5,
        "start_time": "2021-11-10T23:53:22.810Z"
      },
      {
        "duration": 6,
        "start_time": "2021-11-10T23:53:22.817Z"
      },
      {
        "duration": 5,
        "start_time": "2021-11-10T23:53:22.824Z"
      },
      {
        "duration": 6,
        "start_time": "2021-11-10T23:53:22.831Z"
      },
      {
        "duration": 10,
        "start_time": "2021-11-10T23:53:22.838Z"
      },
      {
        "duration": 6,
        "start_time": "2021-11-10T23:53:22.849Z"
      },
      {
        "duration": 51,
        "start_time": "2021-11-10T23:53:22.856Z"
      },
      {
        "duration": 32,
        "start_time": "2021-11-10T23:53:22.909Z"
      },
      {
        "duration": 60,
        "start_time": "2021-11-10T23:53:22.942Z"
      },
      {
        "duration": 18,
        "start_time": "2021-11-10T23:53:23.006Z"
      },
      {
        "duration": 756,
        "start_time": "2021-11-10T23:53:23.026Z"
      },
      {
        "duration": 1157,
        "start_time": "2021-11-10T23:53:56.235Z"
      },
      {
        "duration": 10,
        "start_time": "2021-11-10T23:53:57.394Z"
      },
      {
        "duration": 5,
        "start_time": "2021-11-10T23:53:57.406Z"
      },
      {
        "duration": 9,
        "start_time": "2021-11-10T23:53:57.413Z"
      },
      {
        "duration": 13,
        "start_time": "2021-11-10T23:53:57.423Z"
      },
      {
        "duration": 5,
        "start_time": "2021-11-10T23:53:57.438Z"
      },
      {
        "duration": 14,
        "start_time": "2021-11-10T23:53:57.444Z"
      },
      {
        "duration": 34,
        "start_time": "2021-11-10T23:53:57.460Z"
      },
      {
        "duration": 13,
        "start_time": "2021-11-10T23:53:57.496Z"
      },
      {
        "duration": 14,
        "start_time": "2021-11-10T23:53:57.511Z"
      },
      {
        "duration": 5,
        "start_time": "2021-11-10T23:53:57.527Z"
      },
      {
        "duration": 17,
        "start_time": "2021-11-10T23:53:57.533Z"
      },
      {
        "duration": 8,
        "start_time": "2021-11-10T23:53:57.552Z"
      },
      {
        "duration": 5,
        "start_time": "2021-11-10T23:53:57.591Z"
      },
      {
        "duration": 6,
        "start_time": "2021-11-10T23:53:57.598Z"
      },
      {
        "duration": 5,
        "start_time": "2021-11-10T23:53:57.606Z"
      },
      {
        "duration": 7,
        "start_time": "2021-11-10T23:53:57.612Z"
      },
      {
        "duration": 8,
        "start_time": "2021-11-10T23:53:57.621Z"
      },
      {
        "duration": 4,
        "start_time": "2021-11-10T23:53:57.631Z"
      },
      {
        "duration": 15,
        "start_time": "2021-11-10T23:53:57.637Z"
      },
      {
        "duration": 60,
        "start_time": "2021-11-10T23:53:57.654Z"
      },
      {
        "duration": 40,
        "start_time": "2021-11-10T23:53:57.716Z"
      },
      {
        "duration": 36,
        "start_time": "2021-11-10T23:53:57.757Z"
      },
      {
        "duration": 17,
        "start_time": "2021-11-10T23:53:57.795Z"
      },
      {
        "duration": 704,
        "start_time": "2021-11-10T23:53:57.814Z"
      },
      {
        "duration": 1262,
        "start_time": "2021-11-10T23:54:49.279Z"
      },
      {
        "duration": 12,
        "start_time": "2021-11-10T23:54:50.543Z"
      },
      {
        "duration": 9,
        "start_time": "2021-11-10T23:54:50.558Z"
      },
      {
        "duration": 23,
        "start_time": "2021-11-10T23:54:50.569Z"
      },
      {
        "duration": 15,
        "start_time": "2021-11-10T23:54:50.594Z"
      },
      {
        "duration": 16,
        "start_time": "2021-11-10T23:54:50.610Z"
      },
      {
        "duration": 26,
        "start_time": "2021-11-10T23:54:50.628Z"
      },
      {
        "duration": 8,
        "start_time": "2021-11-10T23:54:50.655Z"
      },
      {
        "duration": 22,
        "start_time": "2021-11-10T23:54:50.665Z"
      },
      {
        "duration": 21,
        "start_time": "2021-11-10T23:54:50.689Z"
      },
      {
        "duration": 15,
        "start_time": "2021-11-10T23:54:50.711Z"
      },
      {
        "duration": 28,
        "start_time": "2021-11-10T23:54:50.727Z"
      },
      {
        "duration": 24,
        "start_time": "2021-11-10T23:54:50.757Z"
      },
      {
        "duration": 6,
        "start_time": "2021-11-10T23:54:50.783Z"
      },
      {
        "duration": 18,
        "start_time": "2021-11-10T23:54:50.790Z"
      },
      {
        "duration": 13,
        "start_time": "2021-11-10T23:54:50.809Z"
      },
      {
        "duration": 25,
        "start_time": "2021-11-10T23:54:50.823Z"
      },
      {
        "duration": 23,
        "start_time": "2021-11-10T23:54:50.849Z"
      },
      {
        "duration": 5,
        "start_time": "2021-11-10T23:54:50.873Z"
      },
      {
        "duration": 25,
        "start_time": "2021-11-10T23:54:50.880Z"
      },
      {
        "duration": 39,
        "start_time": "2021-11-10T23:54:50.906Z"
      },
      {
        "duration": 50,
        "start_time": "2021-11-10T23:54:50.947Z"
      },
      {
        "duration": 16,
        "start_time": "2021-11-10T23:54:50.999Z"
      },
      {
        "duration": 23,
        "start_time": "2021-11-10T23:54:51.016Z"
      },
      {
        "duration": 682,
        "start_time": "2021-11-10T23:54:51.041Z"
      },
      {
        "duration": 13,
        "start_time": "2021-11-10T23:54:51.725Z"
      },
      {
        "duration": 1186,
        "start_time": "2021-11-10T23:56:08.808Z"
      },
      {
        "duration": 12,
        "start_time": "2021-11-10T23:56:09.996Z"
      },
      {
        "duration": 8,
        "start_time": "2021-11-10T23:56:10.010Z"
      },
      {
        "duration": 17,
        "start_time": "2021-11-10T23:56:10.021Z"
      },
      {
        "duration": 25,
        "start_time": "2021-11-10T23:56:10.039Z"
      },
      {
        "duration": 16,
        "start_time": "2021-11-10T23:56:10.066Z"
      },
      {
        "duration": 21,
        "start_time": "2021-11-10T23:56:10.084Z"
      },
      {
        "duration": 9,
        "start_time": "2021-11-10T23:56:10.106Z"
      },
      {
        "duration": 20,
        "start_time": "2021-11-10T23:56:10.118Z"
      },
      {
        "duration": 27,
        "start_time": "2021-11-10T23:56:10.140Z"
      },
      {
        "duration": 13,
        "start_time": "2021-11-10T23:56:10.168Z"
      },
      {
        "duration": 28,
        "start_time": "2021-11-10T23:56:10.182Z"
      },
      {
        "duration": 18,
        "start_time": "2021-11-10T23:56:10.212Z"
      },
      {
        "duration": 12,
        "start_time": "2021-11-10T23:56:10.231Z"
      },
      {
        "duration": 11,
        "start_time": "2021-11-10T23:56:10.244Z"
      },
      {
        "duration": 19,
        "start_time": "2021-11-10T23:56:10.256Z"
      },
      {
        "duration": 16,
        "start_time": "2021-11-10T23:56:10.276Z"
      },
      {
        "duration": 23,
        "start_time": "2021-11-10T23:56:10.294Z"
      },
      {
        "duration": 14,
        "start_time": "2021-11-10T23:56:10.318Z"
      },
      {
        "duration": 17,
        "start_time": "2021-11-10T23:56:10.334Z"
      },
      {
        "duration": 41,
        "start_time": "2021-11-10T23:56:10.353Z"
      },
      {
        "duration": 40,
        "start_time": "2021-11-10T23:56:10.395Z"
      },
      {
        "duration": 16,
        "start_time": "2021-11-10T23:56:10.437Z"
      },
      {
        "duration": 40,
        "start_time": "2021-11-10T23:56:10.455Z"
      },
      {
        "duration": 670,
        "start_time": "2021-11-10T23:56:10.497Z"
      },
      {
        "duration": 4,
        "start_time": "2021-11-10T23:56:11.169Z"
      },
      {
        "duration": 19,
        "start_time": "2021-11-10T23:56:11.175Z"
      },
      {
        "duration": 9,
        "start_time": "2021-11-10T23:56:11.196Z"
      },
      {
        "duration": 6,
        "start_time": "2021-11-10T23:56:11.207Z"
      },
      {
        "duration": 1168,
        "start_time": "2021-11-10T23:56:59.827Z"
      },
      {
        "duration": 11,
        "start_time": "2021-11-10T23:57:00.996Z"
      },
      {
        "duration": 14,
        "start_time": "2021-11-10T23:57:01.008Z"
      },
      {
        "duration": 18,
        "start_time": "2021-11-10T23:57:01.023Z"
      },
      {
        "duration": 27,
        "start_time": "2021-11-10T23:57:01.042Z"
      },
      {
        "duration": 13,
        "start_time": "2021-11-10T23:57:01.071Z"
      },
      {
        "duration": 36,
        "start_time": "2021-11-10T23:57:01.085Z"
      },
      {
        "duration": 32,
        "start_time": "2021-11-10T23:57:01.123Z"
      },
      {
        "duration": 34,
        "start_time": "2021-11-10T23:57:01.157Z"
      },
      {
        "duration": 32,
        "start_time": "2021-11-10T23:57:01.193Z"
      },
      {
        "duration": 24,
        "start_time": "2021-11-10T23:57:01.226Z"
      },
      {
        "duration": 32,
        "start_time": "2021-11-10T23:57:01.251Z"
      },
      {
        "duration": 38,
        "start_time": "2021-11-10T23:57:01.284Z"
      },
      {
        "duration": 18,
        "start_time": "2021-11-10T23:57:01.324Z"
      },
      {
        "duration": 24,
        "start_time": "2021-11-10T23:57:01.343Z"
      },
      {
        "duration": 22,
        "start_time": "2021-11-10T23:57:01.368Z"
      },
      {
        "duration": 30,
        "start_time": "2021-11-10T23:57:01.391Z"
      },
      {
        "duration": 34,
        "start_time": "2021-11-10T23:57:01.422Z"
      },
      {
        "duration": 16,
        "start_time": "2021-11-10T23:57:01.457Z"
      },
      {
        "duration": 42,
        "start_time": "2021-11-10T23:57:01.474Z"
      },
      {
        "duration": 44,
        "start_time": "2021-11-10T23:57:01.517Z"
      },
      {
        "duration": 40,
        "start_time": "2021-11-10T23:57:01.563Z"
      },
      {
        "duration": 16,
        "start_time": "2021-11-10T23:57:01.605Z"
      },
      {
        "duration": 31,
        "start_time": "2021-11-10T23:57:01.623Z"
      },
      {
        "duration": 693,
        "start_time": "2021-11-10T23:57:01.656Z"
      },
      {
        "duration": 5,
        "start_time": "2021-11-10T23:57:02.351Z"
      },
      {
        "duration": 24,
        "start_time": "2021-11-10T23:57:02.359Z"
      },
      {
        "duration": 4,
        "start_time": "2021-11-10T23:57:02.392Z"
      },
      {
        "duration": 24,
        "start_time": "2021-11-10T23:57:02.398Z"
      },
      {
        "duration": 1149,
        "start_time": "2021-11-10T23:59:46.544Z"
      },
      {
        "duration": 9,
        "start_time": "2021-11-10T23:59:47.695Z"
      },
      {
        "duration": 5,
        "start_time": "2021-11-10T23:59:47.706Z"
      },
      {
        "duration": 5,
        "start_time": "2021-11-10T23:59:47.713Z"
      },
      {
        "duration": 13,
        "start_time": "2021-11-10T23:59:47.719Z"
      },
      {
        "duration": 5,
        "start_time": "2021-11-10T23:59:47.734Z"
      },
      {
        "duration": 14,
        "start_time": "2021-11-10T23:59:47.740Z"
      },
      {
        "duration": 37,
        "start_time": "2021-11-10T23:59:47.757Z"
      },
      {
        "duration": 14,
        "start_time": "2021-11-10T23:59:47.797Z"
      },
      {
        "duration": 15,
        "start_time": "2021-11-10T23:59:47.813Z"
      },
      {
        "duration": 6,
        "start_time": "2021-11-10T23:59:47.830Z"
      },
      {
        "duration": 17,
        "start_time": "2021-11-10T23:59:47.838Z"
      },
      {
        "duration": 43,
        "start_time": "2021-11-10T23:59:47.856Z"
      },
      {
        "duration": 7,
        "start_time": "2021-11-10T23:59:47.901Z"
      },
      {
        "duration": 8,
        "start_time": "2021-11-10T23:59:47.909Z"
      },
      {
        "duration": 5,
        "start_time": "2021-11-10T23:59:47.918Z"
      },
      {
        "duration": 5,
        "start_time": "2021-11-10T23:59:47.924Z"
      },
      {
        "duration": 9,
        "start_time": "2021-11-10T23:59:47.931Z"
      },
      {
        "duration": 5,
        "start_time": "2021-11-10T23:59:47.942Z"
      },
      {
        "duration": 55,
        "start_time": "2021-11-10T23:59:47.948Z"
      },
      {
        "duration": 32,
        "start_time": "2021-11-10T23:59:48.006Z"
      },
      {
        "duration": 66,
        "start_time": "2021-11-10T23:59:48.040Z"
      },
      {
        "duration": 19,
        "start_time": "2021-11-10T23:59:48.109Z"
      },
      {
        "duration": 17,
        "start_time": "2021-11-10T23:59:48.130Z"
      },
      {
        "duration": 697,
        "start_time": "2021-11-10T23:59:48.149Z"
      },
      {
        "duration": 10,
        "start_time": "2021-11-10T23:59:48.848Z"
      },
      {
        "duration": 4,
        "start_time": "2021-11-10T23:59:48.859Z"
      },
      {
        "duration": 4,
        "start_time": "2021-11-10T23:59:48.865Z"
      },
      {
        "duration": 5,
        "start_time": "2021-11-11T00:03:58.901Z"
      },
      {
        "duration": 282,
        "start_time": "2021-11-11T00:05:40.217Z"
      },
      {
        "duration": 4,
        "start_time": "2021-11-11T00:05:45.181Z"
      },
      {
        "duration": 56,
        "start_time": "2021-11-11T00:10:41.949Z"
      },
      {
        "duration": 59,
        "start_time": "2021-11-11T00:13:06.402Z"
      },
      {
        "duration": 63,
        "start_time": "2021-11-11T00:13:11.334Z"
      },
      {
        "duration": 196,
        "start_time": "2021-11-11T00:14:06.995Z"
      },
      {
        "duration": 3,
        "start_time": "2021-11-11T00:14:19.940Z"
      },
      {
        "duration": 5,
        "start_time": "2021-11-11T00:16:15.295Z"
      },
      {
        "duration": 4,
        "start_time": "2021-11-11T00:16:27.022Z"
      },
      {
        "duration": 176,
        "start_time": "2021-11-11T00:16:50.933Z"
      },
      {
        "duration": 186,
        "start_time": "2021-11-11T00:16:54.646Z"
      },
      {
        "duration": 671,
        "start_time": "2021-11-11T00:20:09.217Z"
      },
      {
        "duration": 3,
        "start_time": "2021-11-11T00:20:13.802Z"
      },
      {
        "duration": 8,
        "start_time": "2021-11-11T00:20:57.963Z"
      },
      {
        "duration": 4,
        "start_time": "2021-11-11T00:31:43.555Z"
      },
      {
        "duration": 4,
        "start_time": "2021-11-11T00:32:53.346Z"
      },
      {
        "duration": 7,
        "start_time": "2021-11-11T00:33:09.260Z"
      },
      {
        "duration": 24,
        "start_time": "2021-11-11T00:33:15.535Z"
      },
      {
        "duration": 7,
        "start_time": "2021-11-11T00:33:18.403Z"
      },
      {
        "duration": 4,
        "start_time": "2021-11-11T00:33:26.029Z"
      },
      {
        "duration": 5,
        "start_time": "2021-11-11T00:36:42.478Z"
      },
      {
        "duration": 5,
        "start_time": "2021-11-11T00:36:54.414Z"
      },
      {
        "duration": 297,
        "start_time": "2021-11-11T00:37:54.219Z"
      },
      {
        "duration": 528,
        "start_time": "2021-11-11T00:38:06.681Z"
      },
      {
        "duration": 312,
        "start_time": "2021-11-11T00:38:12.832Z"
      },
      {
        "duration": 58,
        "start_time": "2021-11-11T00:38:15.433Z"
      },
      {
        "duration": 92,
        "start_time": "2021-11-11T00:38:20.955Z"
      },
      {
        "duration": 65,
        "start_time": "2021-11-11T00:38:40.892Z"
      },
      {
        "duration": 63,
        "start_time": "2021-11-11T00:43:32.934Z"
      },
      {
        "duration": 61,
        "start_time": "2021-11-11T00:44:00.231Z"
      },
      {
        "duration": 185,
        "start_time": "2021-11-11T00:46:17.341Z"
      },
      {
        "duration": 211,
        "start_time": "2021-11-11T00:46:41.232Z"
      },
      {
        "duration": 191,
        "start_time": "2021-11-11T00:47:00.622Z"
      },
      {
        "duration": 3,
        "start_time": "2021-11-11T00:49:54.810Z"
      },
      {
        "duration": 4,
        "start_time": "2021-11-11T00:50:07.387Z"
      },
      {
        "duration": 6,
        "start_time": "2021-11-11T00:51:03.734Z"
      },
      {
        "duration": 4,
        "start_time": "2021-11-11T00:51:24.439Z"
      },
      {
        "duration": 4,
        "start_time": "2021-11-11T00:51:50.730Z"
      },
      {
        "duration": 85,
        "start_time": "2021-11-11T00:59:48.067Z"
      },
      {
        "duration": 65,
        "start_time": "2021-11-11T01:00:10.746Z"
      },
      {
        "duration": 4,
        "start_time": "2021-11-11T01:00:41.436Z"
      },
      {
        "duration": 63,
        "start_time": "2021-11-11T01:00:42.092Z"
      },
      {
        "duration": 4,
        "start_time": "2021-11-11T01:01:09.706Z"
      },
      {
        "duration": 4,
        "start_time": "2021-11-11T01:04:16.132Z"
      },
      {
        "duration": 3,
        "start_time": "2021-11-11T01:04:18.437Z"
      },
      {
        "duration": 182,
        "start_time": "2021-11-11T01:09:42.292Z"
      },
      {
        "duration": 12,
        "start_time": "2021-11-11T01:10:19.643Z"
      },
      {
        "duration": 11,
        "start_time": "2021-11-11T01:13:08.494Z"
      },
      {
        "duration": 5,
        "start_time": "2021-11-11T01:16:17.987Z"
      },
      {
        "duration": 9,
        "start_time": "2021-11-11T01:19:37.164Z"
      },
      {
        "duration": 2762,
        "start_time": "2021-11-11T01:21:00.461Z"
      },
      {
        "duration": 1250,
        "start_time": "2021-11-11T01:22:19.076Z"
      },
      {
        "duration": 10,
        "start_time": "2021-11-11T01:22:20.331Z"
      },
      {
        "duration": 20,
        "start_time": "2021-11-11T01:22:20.343Z"
      },
      {
        "duration": 15,
        "start_time": "2021-11-11T01:22:20.365Z"
      },
      {
        "duration": 21,
        "start_time": "2021-11-11T01:22:20.382Z"
      },
      {
        "duration": 5,
        "start_time": "2021-11-11T01:22:20.405Z"
      },
      {
        "duration": 14,
        "start_time": "2021-11-11T01:22:20.412Z"
      },
      {
        "duration": 7,
        "start_time": "2021-11-11T01:22:20.428Z"
      },
      {
        "duration": 13,
        "start_time": "2021-11-11T01:22:20.437Z"
      },
      {
        "duration": 44,
        "start_time": "2021-11-11T01:22:20.452Z"
      },
      {
        "duration": 5,
        "start_time": "2021-11-11T01:22:20.498Z"
      },
      {
        "duration": 18,
        "start_time": "2021-11-11T01:22:20.505Z"
      },
      {
        "duration": 12,
        "start_time": "2021-11-11T01:22:20.525Z"
      },
      {
        "duration": 6,
        "start_time": "2021-11-11T01:22:20.539Z"
      },
      {
        "duration": 6,
        "start_time": "2021-11-11T01:22:20.547Z"
      },
      {
        "duration": 8,
        "start_time": "2021-11-11T01:22:20.554Z"
      },
      {
        "duration": 5,
        "start_time": "2021-11-11T01:22:20.592Z"
      },
      {
        "duration": 11,
        "start_time": "2021-11-11T01:22:20.598Z"
      },
      {
        "duration": 7,
        "start_time": "2021-11-11T01:22:20.610Z"
      },
      {
        "duration": 27,
        "start_time": "2021-11-11T01:22:20.619Z"
      },
      {
        "duration": 32,
        "start_time": "2021-11-11T01:22:20.647Z"
      },
      {
        "duration": 50,
        "start_time": "2021-11-11T01:22:20.680Z"
      },
      {
        "duration": 17,
        "start_time": "2021-11-11T01:22:20.732Z"
      },
      {
        "duration": 23,
        "start_time": "2021-11-11T01:22:20.750Z"
      },
      {
        "duration": 676,
        "start_time": "2021-11-11T01:22:20.792Z"
      },
      {
        "duration": 7,
        "start_time": "2021-11-11T01:22:21.471Z"
      },
      {
        "duration": 13,
        "start_time": "2021-11-11T01:22:21.480Z"
      },
      {
        "duration": 17,
        "start_time": "2021-11-11T01:22:21.494Z"
      },
      {
        "duration": 18,
        "start_time": "2021-11-11T01:22:21.513Z"
      },
      {
        "duration": 5,
        "start_time": "2021-11-11T01:22:21.532Z"
      },
      {
        "duration": 10,
        "start_time": "2021-11-11T01:22:21.538Z"
      },
      {
        "duration": 26,
        "start_time": "2021-11-11T01:22:21.549Z"
      },
      {
        "duration": 2656,
        "start_time": "2021-11-11T01:22:21.577Z"
      },
      {
        "duration": 27,
        "start_time": "2021-11-11T01:26:23.817Z"
      },
      {
        "duration": 1207,
        "start_time": "2021-11-11T01:26:34.900Z"
      },
      {
        "duration": 11,
        "start_time": "2021-11-11T01:26:36.108Z"
      },
      {
        "duration": 25,
        "start_time": "2021-11-11T01:26:36.121Z"
      },
      {
        "duration": 18,
        "start_time": "2021-11-11T01:26:36.148Z"
      },
      {
        "duration": 35,
        "start_time": "2021-11-11T01:26:36.167Z"
      },
      {
        "duration": 20,
        "start_time": "2021-11-11T01:26:36.204Z"
      },
      {
        "duration": 23,
        "start_time": "2021-11-11T01:26:36.225Z"
      },
      {
        "duration": 23,
        "start_time": "2021-11-11T01:26:36.250Z"
      },
      {
        "duration": 20,
        "start_time": "2021-11-11T01:26:36.275Z"
      },
      {
        "duration": 28,
        "start_time": "2021-11-11T01:26:36.297Z"
      },
      {
        "duration": 19,
        "start_time": "2021-11-11T01:26:36.326Z"
      },
      {
        "duration": 22,
        "start_time": "2021-11-11T01:26:36.347Z"
      },
      {
        "duration": 13,
        "start_time": "2021-11-11T01:26:36.370Z"
      },
      {
        "duration": 12,
        "start_time": "2021-11-11T01:26:36.384Z"
      },
      {
        "duration": 28,
        "start_time": "2021-11-11T01:26:36.397Z"
      },
      {
        "duration": 12,
        "start_time": "2021-11-11T01:26:36.426Z"
      },
      {
        "duration": 24,
        "start_time": "2021-11-11T01:26:36.440Z"
      },
      {
        "duration": 32,
        "start_time": "2021-11-11T01:26:36.466Z"
      },
      {
        "duration": 23,
        "start_time": "2021-11-11T01:26:36.499Z"
      },
      {
        "duration": 27,
        "start_time": "2021-11-11T01:26:36.523Z"
      },
      {
        "duration": 53,
        "start_time": "2021-11-11T01:26:36.552Z"
      },
      {
        "duration": 40,
        "start_time": "2021-11-11T01:26:36.606Z"
      },
      {
        "duration": 16,
        "start_time": "2021-11-11T01:26:36.648Z"
      },
      {
        "duration": 37,
        "start_time": "2021-11-11T01:26:36.665Z"
      },
      {
        "duration": 682,
        "start_time": "2021-11-11T01:26:36.703Z"
      },
      {
        "duration": 6,
        "start_time": "2021-11-11T01:26:37.387Z"
      },
      {
        "duration": 18,
        "start_time": "2021-11-11T01:26:37.396Z"
      },
      {
        "duration": 11,
        "start_time": "2021-11-11T01:26:37.416Z"
      },
      {
        "duration": 18,
        "start_time": "2021-11-11T01:26:37.429Z"
      },
      {
        "duration": 15,
        "start_time": "2021-11-11T01:26:37.448Z"
      },
      {
        "duration": 26,
        "start_time": "2021-11-11T01:26:37.465Z"
      },
      {
        "duration": 45,
        "start_time": "2021-11-11T01:26:37.493Z"
      },
      {
        "duration": 2967,
        "start_time": "2021-11-11T01:26:37.540Z"
      },
      {
        "duration": 1226,
        "start_time": "2021-11-11T01:31:36.388Z"
      },
      {
        "duration": 10,
        "start_time": "2021-11-11T01:31:37.616Z"
      },
      {
        "duration": 6,
        "start_time": "2021-11-11T01:31:37.627Z"
      },
      {
        "duration": 6,
        "start_time": "2021-11-11T01:31:37.635Z"
      },
      {
        "duration": 15,
        "start_time": "2021-11-11T01:31:37.642Z"
      },
      {
        "duration": 5,
        "start_time": "2021-11-11T01:31:37.658Z"
      },
      {
        "duration": 39,
        "start_time": "2021-11-11T01:31:37.664Z"
      },
      {
        "duration": 5,
        "start_time": "2021-11-11T01:31:37.704Z"
      },
      {
        "duration": 14,
        "start_time": "2021-11-11T01:31:37.712Z"
      },
      {
        "duration": 15,
        "start_time": "2021-11-11T01:31:37.728Z"
      },
      {
        "duration": 5,
        "start_time": "2021-11-11T01:31:37.744Z"
      },
      {
        "duration": 49,
        "start_time": "2021-11-11T01:31:37.751Z"
      },
      {
        "duration": 9,
        "start_time": "2021-11-11T01:31:37.802Z"
      },
      {
        "duration": 7,
        "start_time": "2021-11-11T01:31:37.812Z"
      },
      {
        "duration": 8,
        "start_time": "2021-11-11T01:31:37.820Z"
      },
      {
        "duration": 5,
        "start_time": "2021-11-11T01:31:37.829Z"
      },
      {
        "duration": 8,
        "start_time": "2021-11-11T01:31:37.835Z"
      },
      {
        "duration": 10,
        "start_time": "2021-11-11T01:31:37.844Z"
      },
      {
        "duration": 4,
        "start_time": "2021-11-11T01:31:37.856Z"
      },
      {
        "duration": 42,
        "start_time": "2021-11-11T01:31:37.862Z"
      },
      {
        "duration": 31,
        "start_time": "2021-11-11T01:31:37.905Z"
      },
      {
        "duration": 58,
        "start_time": "2021-11-11T01:31:37.937Z"
      },
      {
        "duration": 18,
        "start_time": "2021-11-11T01:31:37.996Z"
      },
      {
        "duration": 16,
        "start_time": "2021-11-11T01:31:38.016Z"
      },
      {
        "duration": 693,
        "start_time": "2021-11-11T01:31:38.034Z"
      },
      {
        "duration": 7,
        "start_time": "2021-11-11T01:31:38.728Z"
      },
      {
        "duration": 8,
        "start_time": "2021-11-11T01:31:38.738Z"
      },
      {
        "duration": 10,
        "start_time": "2021-11-11T01:31:38.748Z"
      },
      {
        "duration": 10,
        "start_time": "2021-11-11T01:31:38.760Z"
      },
      {
        "duration": 5,
        "start_time": "2021-11-11T01:31:38.792Z"
      },
      {
        "duration": 5,
        "start_time": "2021-11-11T01:31:38.799Z"
      },
      {
        "duration": 5,
        "start_time": "2021-11-11T01:31:38.806Z"
      },
      {
        "duration": 273,
        "start_time": "2021-11-11T01:31:38.813Z"
      },
      {
        "duration": 2720,
        "start_time": "2021-11-11T01:31:36.369Z"
      },
      {
        "duration": 1228,
        "start_time": "2021-11-11T01:31:59.074Z"
      },
      {
        "duration": 10,
        "start_time": "2021-11-11T01:32:00.304Z"
      },
      {
        "duration": 18,
        "start_time": "2021-11-11T01:32:00.316Z"
      },
      {
        "duration": 26,
        "start_time": "2021-11-11T01:32:00.336Z"
      },
      {
        "duration": 26,
        "start_time": "2021-11-11T01:32:00.363Z"
      },
      {
        "duration": 19,
        "start_time": "2021-11-11T01:32:00.390Z"
      },
      {
        "duration": 43,
        "start_time": "2021-11-11T01:32:00.410Z"
      },
      {
        "duration": 18,
        "start_time": "2021-11-11T01:32:00.456Z"
      },
      {
        "duration": 35,
        "start_time": "2021-11-11T01:32:00.476Z"
      },
      {
        "duration": 32,
        "start_time": "2021-11-11T01:32:00.512Z"
      },
      {
        "duration": 32,
        "start_time": "2021-11-11T01:32:00.546Z"
      },
      {
        "duration": 44,
        "start_time": "2021-11-11T01:32:00.580Z"
      },
      {
        "duration": 42,
        "start_time": "2021-11-11T01:32:00.625Z"
      },
      {
        "duration": 43,
        "start_time": "2021-11-11T01:32:00.669Z"
      },
      {
        "duration": 25,
        "start_time": "2021-11-11T01:32:00.714Z"
      },
      {
        "duration": 34,
        "start_time": "2021-11-11T01:32:00.741Z"
      },
      {
        "duration": 20,
        "start_time": "2021-11-11T01:32:00.776Z"
      },
      {
        "duration": 36,
        "start_time": "2021-11-11T01:32:00.798Z"
      },
      {
        "duration": 29,
        "start_time": "2021-11-11T01:32:00.836Z"
      },
      {
        "duration": 36,
        "start_time": "2021-11-11T01:32:00.867Z"
      },
      {
        "duration": 59,
        "start_time": "2021-11-11T01:32:00.905Z"
      },
      {
        "duration": 61,
        "start_time": "2021-11-11T01:32:00.965Z"
      },
      {
        "duration": 18,
        "start_time": "2021-11-11T01:32:01.029Z"
      },
      {
        "duration": 38,
        "start_time": "2021-11-11T01:32:01.049Z"
      },
      {
        "duration": 692,
        "start_time": "2021-11-11T01:32:01.088Z"
      },
      {
        "duration": 10,
        "start_time": "2021-11-11T01:32:01.782Z"
      },
      {
        "duration": 38,
        "start_time": "2021-11-11T01:32:01.794Z"
      },
      {
        "duration": 21,
        "start_time": "2021-11-11T01:32:01.834Z"
      },
      {
        "duration": 34,
        "start_time": "2021-11-11T01:32:01.856Z"
      },
      {
        "duration": 19,
        "start_time": "2021-11-11T01:32:01.892Z"
      },
      {
        "duration": 16,
        "start_time": "2021-11-11T01:32:01.912Z"
      },
      {
        "duration": 28,
        "start_time": "2021-11-11T01:32:01.930Z"
      },
      {
        "duration": 288,
        "start_time": "2021-11-11T01:32:01.959Z"
      },
      {
        "duration": 2719,
        "start_time": "2021-11-11T01:31:59.530Z"
      },
      {
        "duration": 5,
        "start_time": "2021-11-11T01:33:58.792Z"
      },
      {
        "duration": 3,
        "start_time": "2021-11-11T01:33:59.585Z"
      },
      {
        "duration": 5,
        "start_time": "2021-11-11T01:37:10.126Z"
      },
      {
        "duration": 4,
        "start_time": "2021-11-11T01:37:13.798Z"
      },
      {
        "duration": 2678,
        "start_time": "2021-11-11T01:37:51.462Z"
      },
      {
        "duration": 6,
        "start_time": "2021-11-11T01:38:40.927Z"
      },
      {
        "duration": 1220,
        "start_time": "2021-11-11T01:39:00.033Z"
      },
      {
        "duration": 10,
        "start_time": "2021-11-11T01:39:01.255Z"
      },
      {
        "duration": 9,
        "start_time": "2021-11-11T01:39:01.267Z"
      },
      {
        "duration": 11,
        "start_time": "2021-11-11T01:39:01.277Z"
      },
      {
        "duration": 22,
        "start_time": "2021-11-11T01:39:01.291Z"
      },
      {
        "duration": 13,
        "start_time": "2021-11-11T01:39:01.315Z"
      },
      {
        "duration": 22,
        "start_time": "2021-11-11T01:39:01.329Z"
      },
      {
        "duration": 24,
        "start_time": "2021-11-11T01:39:01.353Z"
      },
      {
        "duration": 21,
        "start_time": "2021-11-11T01:39:01.379Z"
      },
      {
        "duration": 37,
        "start_time": "2021-11-11T01:39:01.402Z"
      },
      {
        "duration": 13,
        "start_time": "2021-11-11T01:39:01.441Z"
      },
      {
        "duration": 23,
        "start_time": "2021-11-11T01:39:01.456Z"
      },
      {
        "duration": 15,
        "start_time": "2021-11-11T01:39:01.481Z"
      },
      {
        "duration": 10,
        "start_time": "2021-11-11T01:39:01.499Z"
      },
      {
        "duration": 13,
        "start_time": "2021-11-11T01:39:01.511Z"
      },
      {
        "duration": 12,
        "start_time": "2021-11-11T01:39:01.526Z"
      },
      {
        "duration": 18,
        "start_time": "2021-11-11T01:39:01.540Z"
      },
      {
        "duration": 21,
        "start_time": "2021-11-11T01:39:01.560Z"
      },
      {
        "duration": 6,
        "start_time": "2021-11-11T01:39:01.583Z"
      },
      {
        "duration": 26,
        "start_time": "2021-11-11T01:39:01.591Z"
      },
      {
        "duration": 36,
        "start_time": "2021-11-11T01:39:01.619Z"
      },
      {
        "duration": 52,
        "start_time": "2021-11-11T01:39:01.657Z"
      },
      {
        "duration": 18,
        "start_time": "2021-11-11T01:39:01.711Z"
      },
      {
        "duration": 24,
        "start_time": "2021-11-11T01:39:01.731Z"
      },
      {
        "duration": 693,
        "start_time": "2021-11-11T01:39:01.757Z"
      },
      {
        "duration": 7,
        "start_time": "2021-11-11T01:39:02.452Z"
      },
      {
        "duration": 12,
        "start_time": "2021-11-11T01:39:02.462Z"
      },
      {
        "duration": 26,
        "start_time": "2021-11-11T01:39:02.476Z"
      },
      {
        "duration": 16,
        "start_time": "2021-11-11T01:39:02.504Z"
      },
      {
        "duration": 10,
        "start_time": "2021-11-11T01:39:02.522Z"
      },
      {
        "duration": 9,
        "start_time": "2021-11-11T01:39:02.534Z"
      },
      {
        "duration": 7,
        "start_time": "2021-11-11T01:39:02.545Z"
      },
      {
        "duration": 4,
        "start_time": "2021-11-11T01:39:02.554Z"
      },
      {
        "duration": 5033,
        "start_time": "2021-11-11T01:39:02.560Z"
      },
      {
        "duration": 2726,
        "start_time": "2021-11-11T01:39:04.869Z"
      },
      {
        "duration": 2689,
        "start_time": "2021-11-11T01:42:42.517Z"
      },
      {
        "duration": 306,
        "start_time": "2021-11-11T10:59:04.268Z"
      },
      {
        "duration": 39,
        "start_time": "2021-11-11T10:59:25.227Z"
      },
      {
        "duration": 50,
        "start_time": "2021-11-11T10:59:41.115Z"
      },
      {
        "duration": 1254,
        "start_time": "2021-11-11T11:21:58.459Z"
      },
      {
        "duration": 10,
        "start_time": "2021-11-11T11:21:59.715Z"
      },
      {
        "duration": 10,
        "start_time": "2021-11-11T11:21:59.727Z"
      },
      {
        "duration": 10,
        "start_time": "2021-11-11T11:21:59.739Z"
      },
      {
        "duration": 37,
        "start_time": "2021-11-11T11:21:59.750Z"
      },
      {
        "duration": 6,
        "start_time": "2021-11-11T11:21:59.788Z"
      },
      {
        "duration": 15,
        "start_time": "2021-11-11T11:21:59.795Z"
      },
      {
        "duration": 5,
        "start_time": "2021-11-11T11:21:59.813Z"
      },
      {
        "duration": 13,
        "start_time": "2021-11-11T11:21:59.820Z"
      },
      {
        "duration": 14,
        "start_time": "2021-11-11T11:21:59.834Z"
      },
      {
        "duration": 5,
        "start_time": "2021-11-11T11:21:59.850Z"
      },
      {
        "duration": 49,
        "start_time": "2021-11-11T11:21:59.856Z"
      },
      {
        "duration": 10,
        "start_time": "2021-11-11T11:21:59.906Z"
      },
      {
        "duration": 5,
        "start_time": "2021-11-11T11:21:59.917Z"
      },
      {
        "duration": 9,
        "start_time": "2021-11-11T11:21:59.923Z"
      },
      {
        "duration": 5,
        "start_time": "2021-11-11T11:21:59.933Z"
      },
      {
        "duration": 5,
        "start_time": "2021-11-11T11:21:59.940Z"
      },
      {
        "duration": 10,
        "start_time": "2021-11-11T11:21:59.946Z"
      },
      {
        "duration": 5,
        "start_time": "2021-11-11T11:21:59.958Z"
      },
      {
        "duration": 19,
        "start_time": "2021-11-11T11:21:59.992Z"
      },
      {
        "duration": 37,
        "start_time": "2021-11-11T11:22:00.013Z"
      },
      {
        "duration": 63,
        "start_time": "2021-11-11T11:22:00.052Z"
      },
      {
        "duration": 16,
        "start_time": "2021-11-11T11:22:00.118Z"
      },
      {
        "duration": 18,
        "start_time": "2021-11-11T11:22:00.136Z"
      },
      {
        "duration": 707,
        "start_time": "2021-11-11T11:22:00.156Z"
      },
      {
        "duration": 56,
        "start_time": "2021-11-11T11:22:00.866Z"
      },
      {
        "duration": 10,
        "start_time": "2021-11-11T11:22:00.924Z"
      },
      {
        "duration": 8,
        "start_time": "2021-11-11T11:22:00.936Z"
      },
      {
        "duration": 14,
        "start_time": "2021-11-11T11:22:00.946Z"
      },
      {
        "duration": 12,
        "start_time": "2021-11-11T11:22:00.962Z"
      },
      {
        "duration": 17,
        "start_time": "2021-11-11T11:22:00.976Z"
      },
      {
        "duration": 15,
        "start_time": "2021-11-11T11:22:00.994Z"
      },
      {
        "duration": 12,
        "start_time": "2021-11-11T11:22:01.010Z"
      },
      {
        "duration": 6,
        "start_time": "2021-11-11T11:22:01.024Z"
      },
      {
        "duration": 1290,
        "start_time": "2021-11-11T11:22:01.032Z"
      },
      {
        "duration": 8,
        "start_time": "2021-11-11T11:29:50.889Z"
      },
      {
        "duration": 17,
        "start_time": "2021-11-11T11:33:39.298Z"
      },
      {
        "duration": 1191,
        "start_time": "2021-11-11T11:34:04.660Z"
      },
      {
        "duration": 10,
        "start_time": "2021-11-11T11:34:05.853Z"
      },
      {
        "duration": 7,
        "start_time": "2021-11-11T11:34:05.868Z"
      },
      {
        "duration": 5,
        "start_time": "2021-11-11T11:34:05.891Z"
      },
      {
        "duration": 19,
        "start_time": "2021-11-11T11:34:05.897Z"
      },
      {
        "duration": 4,
        "start_time": "2021-11-11T11:34:05.918Z"
      },
      {
        "duration": 14,
        "start_time": "2021-11-11T11:34:05.924Z"
      },
      {
        "duration": 5,
        "start_time": "2021-11-11T11:34:05.940Z"
      },
      {
        "duration": 15,
        "start_time": "2021-11-11T11:34:05.947Z"
      },
      {
        "duration": 41,
        "start_time": "2021-11-11T11:34:05.963Z"
      },
      {
        "duration": 4,
        "start_time": "2021-11-11T11:34:06.006Z"
      },
      {
        "duration": 17,
        "start_time": "2021-11-11T11:34:06.012Z"
      },
      {
        "duration": 12,
        "start_time": "2021-11-11T11:34:06.031Z"
      },
      {
        "duration": 7,
        "start_time": "2021-11-11T11:34:06.044Z"
      },
      {
        "duration": 8,
        "start_time": "2021-11-11T11:34:06.052Z"
      },
      {
        "duration": 31,
        "start_time": "2021-11-11T11:34:06.062Z"
      },
      {
        "duration": 4,
        "start_time": "2021-11-11T11:34:06.094Z"
      },
      {
        "duration": 14,
        "start_time": "2021-11-11T11:34:06.100Z"
      },
      {
        "duration": 9,
        "start_time": "2021-11-11T11:34:06.115Z"
      },
      {
        "duration": 22,
        "start_time": "2021-11-11T11:34:06.126Z"
      },
      {
        "duration": 44,
        "start_time": "2021-11-11T11:34:06.150Z"
      },
      {
        "duration": 42,
        "start_time": "2021-11-11T11:34:06.197Z"
      },
      {
        "duration": 18,
        "start_time": "2021-11-11T11:34:06.240Z"
      },
      {
        "duration": 695,
        "start_time": "2021-11-11T11:34:06.259Z"
      },
      {
        "duration": 19,
        "start_time": "2021-11-11T11:34:06.956Z"
      },
      {
        "duration": 36,
        "start_time": "2021-11-11T11:34:06.976Z"
      },
      {
        "duration": 10,
        "start_time": "2021-11-11T11:34:07.014Z"
      },
      {
        "duration": 66,
        "start_time": "2021-11-11T11:34:07.025Z"
      },
      {
        "duration": 8,
        "start_time": "2021-11-11T11:34:07.093Z"
      },
      {
        "duration": 6,
        "start_time": "2021-11-11T11:34:07.102Z"
      },
      {
        "duration": 8,
        "start_time": "2021-11-11T11:34:07.110Z"
      },
      {
        "duration": 11,
        "start_time": "2021-11-11T11:34:07.119Z"
      },
      {
        "duration": 5,
        "start_time": "2021-11-11T11:34:07.131Z"
      },
      {
        "duration": 8,
        "start_time": "2021-11-11T11:34:07.137Z"
      },
      {
        "duration": 6,
        "start_time": "2021-11-11T11:34:07.147Z"
      },
      {
        "duration": 11,
        "start_time": "2021-11-11T11:34:07.155Z"
      },
      {
        "duration": 1258,
        "start_time": "2021-11-11T11:34:07.192Z"
      },
      {
        "duration": 281,
        "start_time": "2021-11-11T11:37:38.358Z"
      },
      {
        "duration": 63,
        "start_time": "2021-11-11T11:38:58.262Z"
      },
      {
        "duration": 10,
        "start_time": "2021-11-11T11:41:19.102Z"
      },
      {
        "duration": 13,
        "start_time": "2021-11-11T11:42:11.209Z"
      },
      {
        "duration": 57,
        "start_time": "2021-11-11T11:45:51.560Z"
      },
      {
        "duration": 18,
        "start_time": "2021-11-11T11:46:01.561Z"
      },
      {
        "duration": 1241,
        "start_time": "2021-11-11T11:46:22.668Z"
      },
      {
        "duration": 10,
        "start_time": "2021-11-11T11:46:23.911Z"
      },
      {
        "duration": 5,
        "start_time": "2021-11-11T11:46:23.923Z"
      },
      {
        "duration": 6,
        "start_time": "2021-11-11T11:46:23.930Z"
      },
      {
        "duration": 15,
        "start_time": "2021-11-11T11:46:23.937Z"
      },
      {
        "duration": 5,
        "start_time": "2021-11-11T11:46:23.954Z"
      },
      {
        "duration": 45,
        "start_time": "2021-11-11T11:46:23.960Z"
      },
      {
        "duration": 5,
        "start_time": "2021-11-11T11:46:24.007Z"
      },
      {
        "duration": 13,
        "start_time": "2021-11-11T11:46:24.014Z"
      },
      {
        "duration": 16,
        "start_time": "2021-11-11T11:46:24.029Z"
      },
      {
        "duration": 17,
        "start_time": "2021-11-11T11:46:24.046Z"
      },
      {
        "duration": 40,
        "start_time": "2021-11-11T11:46:24.065Z"
      },
      {
        "duration": 9,
        "start_time": "2021-11-11T11:46:24.106Z"
      },
      {
        "duration": 5,
        "start_time": "2021-11-11T11:46:24.117Z"
      },
      {
        "duration": 6,
        "start_time": "2021-11-11T11:46:24.123Z"
      },
      {
        "duration": 4,
        "start_time": "2021-11-11T11:46:24.130Z"
      },
      {
        "duration": 6,
        "start_time": "2021-11-11T11:46:24.136Z"
      },
      {
        "duration": 10,
        "start_time": "2021-11-11T11:46:24.144Z"
      },
      {
        "duration": 5,
        "start_time": "2021-11-11T11:46:24.156Z"
      },
      {
        "duration": 43,
        "start_time": "2021-11-11T11:46:24.162Z"
      },
      {
        "duration": 34,
        "start_time": "2021-11-11T11:46:24.207Z"
      },
      {
        "duration": 63,
        "start_time": "2021-11-11T11:46:24.242Z"
      },
      {
        "duration": 18,
        "start_time": "2021-11-11T11:46:24.307Z"
      },
      {
        "duration": 707,
        "start_time": "2021-11-11T11:46:24.326Z"
      },
      {
        "duration": 62,
        "start_time": "2021-11-11T11:46:25.035Z"
      },
      {
        "duration": 15,
        "start_time": "2021-11-11T11:46:25.099Z"
      },
      {
        "duration": 39,
        "start_time": "2021-11-11T11:46:50.561Z"
      },
      {
        "duration": 16,
        "start_time": "2021-11-11T11:56:02.185Z"
      },
      {
        "duration": 1236,
        "start_time": "2021-11-11T11:58:23.767Z"
      },
      {
        "duration": 10,
        "start_time": "2021-11-11T11:58:25.005Z"
      },
      {
        "duration": 12,
        "start_time": "2021-11-11T11:58:25.017Z"
      },
      {
        "duration": 7,
        "start_time": "2021-11-11T11:58:25.031Z"
      },
      {
        "duration": 20,
        "start_time": "2021-11-11T11:58:25.040Z"
      },
      {
        "duration": 6,
        "start_time": "2021-11-11T11:58:25.061Z"
      },
      {
        "duration": 15,
        "start_time": "2021-11-11T11:58:25.092Z"
      },
      {
        "duration": 7,
        "start_time": "2021-11-11T11:58:25.110Z"
      },
      {
        "duration": 14,
        "start_time": "2021-11-11T11:58:25.119Z"
      },
      {
        "duration": 14,
        "start_time": "2021-11-11T11:58:25.135Z"
      },
      {
        "duration": 7,
        "start_time": "2021-11-11T11:58:25.151Z"
      },
      {
        "duration": 46,
        "start_time": "2021-11-11T11:58:25.159Z"
      },
      {
        "duration": 11,
        "start_time": "2021-11-11T11:58:25.207Z"
      },
      {
        "duration": 10,
        "start_time": "2021-11-11T11:58:25.220Z"
      },
      {
        "duration": 17,
        "start_time": "2021-11-11T11:58:25.231Z"
      },
      {
        "duration": 7,
        "start_time": "2021-11-11T11:58:25.250Z"
      },
      {
        "duration": 5,
        "start_time": "2021-11-11T11:58:25.259Z"
      },
      {
        "duration": 20,
        "start_time": "2021-11-11T11:58:25.265Z"
      },
      {
        "duration": 6,
        "start_time": "2021-11-11T11:58:25.290Z"
      },
      {
        "duration": 17,
        "start_time": "2021-11-11T11:58:25.298Z"
      },
      {
        "duration": 33,
        "start_time": "2021-11-11T11:58:25.316Z"
      },
      {
        "duration": 62,
        "start_time": "2021-11-11T11:58:25.351Z"
      },
      {
        "duration": 700,
        "start_time": "2021-11-11T11:58:25.417Z"
      },
      {
        "duration": 19,
        "start_time": "2021-11-11T11:58:26.120Z"
      },
      {
        "duration": 67,
        "start_time": "2021-11-11T11:58:26.141Z"
      },
      {
        "duration": 41,
        "start_time": "2021-11-11T11:58:26.210Z"
      },
      {
        "duration": 44,
        "start_time": "2021-11-11T12:00:15.620Z"
      },
      {
        "duration": 1194,
        "start_time": "2021-11-11T12:00:21.329Z"
      },
      {
        "duration": 10,
        "start_time": "2021-11-11T12:00:22.525Z"
      },
      {
        "duration": 6,
        "start_time": "2021-11-11T12:00:22.537Z"
      },
      {
        "duration": 8,
        "start_time": "2021-11-11T12:00:22.544Z"
      },
      {
        "duration": 19,
        "start_time": "2021-11-11T12:00:22.553Z"
      },
      {
        "duration": 20,
        "start_time": "2021-11-11T12:00:22.574Z"
      },
      {
        "duration": 14,
        "start_time": "2021-11-11T12:00:22.596Z"
      },
      {
        "duration": 5,
        "start_time": "2021-11-11T12:00:22.612Z"
      },
      {
        "duration": 13,
        "start_time": "2021-11-11T12:00:22.619Z"
      },
      {
        "duration": 16,
        "start_time": "2021-11-11T12:00:22.633Z"
      },
      {
        "duration": 4,
        "start_time": "2021-11-11T12:00:22.651Z"
      },
      {
        "duration": 48,
        "start_time": "2021-11-11T12:00:22.657Z"
      },
      {
        "duration": 9,
        "start_time": "2021-11-11T12:00:22.707Z"
      },
      {
        "duration": 5,
        "start_time": "2021-11-11T12:00:22.718Z"
      },
      {
        "duration": 9,
        "start_time": "2021-11-11T12:00:22.724Z"
      },
      {
        "duration": 4,
        "start_time": "2021-11-11T12:00:22.734Z"
      },
      {
        "duration": 6,
        "start_time": "2021-11-11T12:00:22.740Z"
      },
      {
        "duration": 13,
        "start_time": "2021-11-11T12:00:22.747Z"
      },
      {
        "duration": 30,
        "start_time": "2021-11-11T12:00:22.762Z"
      },
      {
        "duration": 15,
        "start_time": "2021-11-11T12:00:22.794Z"
      },
      {
        "duration": 34,
        "start_time": "2021-11-11T12:00:22.810Z"
      },
      {
        "duration": 62,
        "start_time": "2021-11-11T12:00:22.846Z"
      },
      {
        "duration": 691,
        "start_time": "2021-11-11T12:00:22.911Z"
      },
      {
        "duration": 20,
        "start_time": "2021-11-11T12:00:23.604Z"
      },
      {
        "duration": 67,
        "start_time": "2021-11-11T12:00:23.625Z"
      },
      {
        "duration": 42,
        "start_time": "2021-11-11T12:00:23.694Z"
      },
      {
        "duration": 24,
        "start_time": "2021-11-11T12:32:16.432Z"
      },
      {
        "duration": 27,
        "start_time": "2021-11-11T12:33:11.057Z"
      },
      {
        "duration": 28,
        "start_time": "2021-11-11T12:35:50.907Z"
      },
      {
        "duration": 10,
        "start_time": "2021-11-11T12:37:07.247Z"
      },
      {
        "duration": 10,
        "start_time": "2021-11-11T13:03:11.191Z"
      },
      {
        "duration": 4,
        "start_time": "2021-11-11T13:08:46.767Z"
      },
      {
        "duration": 3478,
        "start_time": "2021-11-11T13:11:32.299Z"
      },
      {
        "duration": 3734,
        "start_time": "2021-11-11T13:12:06.302Z"
      },
      {
        "duration": 7,
        "start_time": "2021-11-11T13:12:24.480Z"
      },
      {
        "duration": 8,
        "start_time": "2021-11-11T13:12:58.106Z"
      },
      {
        "duration": 6,
        "start_time": "2021-11-11T13:13:09.055Z"
      },
      {
        "duration": 6,
        "start_time": "2021-11-11T13:13:12.811Z"
      },
      {
        "duration": 5,
        "start_time": "2021-11-11T13:13:23.477Z"
      },
      {
        "duration": 7,
        "start_time": "2021-11-11T13:13:36.223Z"
      },
      {
        "duration": 6,
        "start_time": "2021-11-11T13:13:44.386Z"
      },
      {
        "duration": 6,
        "start_time": "2021-11-11T13:13:58.356Z"
      },
      {
        "duration": 6,
        "start_time": "2021-11-11T13:14:05.837Z"
      },
      {
        "duration": 6,
        "start_time": "2021-11-11T13:14:12.686Z"
      },
      {
        "duration": 7,
        "start_time": "2021-11-11T13:14:21.450Z"
      },
      {
        "duration": 6,
        "start_time": "2021-11-11T13:14:31.104Z"
      },
      {
        "duration": 6,
        "start_time": "2021-11-11T13:14:37.801Z"
      },
      {
        "duration": 5,
        "start_time": "2021-11-11T13:14:43.862Z"
      },
      {
        "duration": 6,
        "start_time": "2021-11-11T13:15:09.164Z"
      },
      {
        "duration": 6,
        "start_time": "2021-11-11T13:15:17.848Z"
      },
      {
        "duration": 7,
        "start_time": "2021-11-11T13:20:28.922Z"
      },
      {
        "duration": 7,
        "start_time": "2021-11-11T13:20:48.588Z"
      },
      {
        "duration": 231,
        "start_time": "2021-11-11T14:02:39.406Z"
      },
      {
        "duration": 189,
        "start_time": "2021-11-11T14:02:55.406Z"
      },
      {
        "duration": 10,
        "start_time": "2021-11-11T14:03:29.318Z"
      },
      {
        "duration": 12,
        "start_time": "2021-11-11T14:17:31.718Z"
      },
      {
        "duration": 7,
        "start_time": "2021-11-11T14:30:53.609Z"
      },
      {
        "duration": 15,
        "start_time": "2021-11-11T14:40:37.235Z"
      },
      {
        "duration": 13,
        "start_time": "2021-11-11T14:41:49.807Z"
      },
      {
        "duration": 8,
        "start_time": "2021-11-11T14:41:54.593Z"
      },
      {
        "duration": 8,
        "start_time": "2021-11-11T14:55:17.807Z"
      },
      {
        "duration": 179,
        "start_time": "2021-11-11T14:58:35.998Z"
      },
      {
        "duration": 15,
        "start_time": "2021-11-11T14:59:08.731Z"
      },
      {
        "duration": 191,
        "start_time": "2021-11-11T15:03:33.879Z"
      },
      {
        "duration": 13,
        "start_time": "2021-11-11T15:03:37.333Z"
      },
      {
        "duration": 12,
        "start_time": "2021-11-11T15:22:35.293Z"
      },
      {
        "duration": 16,
        "start_time": "2021-11-11T15:30:32.123Z"
      },
      {
        "duration": 14,
        "start_time": "2021-11-11T15:33:13.539Z"
      },
      {
        "duration": 14,
        "start_time": "2021-11-11T15:44:03.460Z"
      },
      {
        "duration": 15,
        "start_time": "2021-11-11T15:45:43.185Z"
      },
      {
        "duration": 4,
        "start_time": "2021-11-11T16:00:33.149Z"
      },
      {
        "duration": 4,
        "start_time": "2021-11-11T16:00:49.417Z"
      },
      {
        "duration": 13,
        "start_time": "2021-11-11T16:22:39.719Z"
      },
      {
        "duration": 13,
        "start_time": "2021-11-11T16:27:39.327Z"
      },
      {
        "duration": 182,
        "start_time": "2021-11-11T16:27:58.163Z"
      },
      {
        "duration": 16,
        "start_time": "2021-11-11T16:29:20.490Z"
      },
      {
        "duration": 19,
        "start_time": "2021-11-11T16:32:17.833Z"
      },
      {
        "duration": 219,
        "start_time": "2021-11-11T16:34:14.958Z"
      },
      {
        "duration": 185,
        "start_time": "2021-11-11T16:34:34.453Z"
      },
      {
        "duration": 185,
        "start_time": "2021-11-11T16:34:41.323Z"
      },
      {
        "duration": 17,
        "start_time": "2021-11-11T16:34:49.035Z"
      },
      {
        "duration": 9,
        "start_time": "2021-11-11T16:42:00.637Z"
      },
      {
        "duration": 8,
        "start_time": "2021-11-11T16:42:07.038Z"
      },
      {
        "duration": 14,
        "start_time": "2021-11-11T16:42:36.885Z"
      },
      {
        "duration": 203,
        "start_time": "2021-11-11T16:43:18.805Z"
      },
      {
        "duration": 14,
        "start_time": "2021-11-11T16:43:37.381Z"
      },
      {
        "duration": 12,
        "start_time": "2021-11-11T16:44:50.285Z"
      },
      {
        "duration": 10,
        "start_time": "2021-11-11T16:45:05.235Z"
      },
      {
        "duration": 13,
        "start_time": "2021-11-11T16:46:02.204Z"
      },
      {
        "duration": 12,
        "start_time": "2021-11-11T16:54:15.795Z"
      },
      {
        "duration": 1205,
        "start_time": "2021-11-12T09:27:15.787Z"
      },
      {
        "duration": 9,
        "start_time": "2021-11-12T09:27:16.994Z"
      },
      {
        "duration": 9,
        "start_time": "2021-11-12T09:27:17.005Z"
      },
      {
        "duration": 10,
        "start_time": "2021-11-12T09:27:17.016Z"
      },
      {
        "duration": 16,
        "start_time": "2021-11-12T09:27:17.028Z"
      },
      {
        "duration": 5,
        "start_time": "2021-11-12T09:27:17.046Z"
      },
      {
        "duration": 25,
        "start_time": "2021-11-12T09:27:17.052Z"
      },
      {
        "duration": 17,
        "start_time": "2021-11-12T09:27:17.078Z"
      },
      {
        "duration": 18,
        "start_time": "2021-11-12T09:27:17.098Z"
      },
      {
        "duration": 15,
        "start_time": "2021-11-12T09:27:17.118Z"
      },
      {
        "duration": 20,
        "start_time": "2021-11-12T09:27:17.135Z"
      },
      {
        "duration": 28,
        "start_time": "2021-11-12T09:27:17.156Z"
      },
      {
        "duration": 19,
        "start_time": "2021-11-12T09:27:17.185Z"
      },
      {
        "duration": 5,
        "start_time": "2021-11-12T09:27:17.205Z"
      },
      {
        "duration": 5,
        "start_time": "2021-11-12T09:27:17.212Z"
      },
      {
        "duration": 4,
        "start_time": "2021-11-12T09:27:17.219Z"
      },
      {
        "duration": 6,
        "start_time": "2021-11-12T09:27:17.224Z"
      },
      {
        "duration": 10,
        "start_time": "2021-11-12T09:27:17.232Z"
      },
      {
        "duration": 6,
        "start_time": "2021-11-12T09:27:17.243Z"
      },
      {
        "duration": 16,
        "start_time": "2021-11-12T09:27:17.251Z"
      },
      {
        "duration": 51,
        "start_time": "2021-11-12T09:27:17.268Z"
      },
      {
        "duration": 44,
        "start_time": "2021-11-12T09:27:17.321Z"
      },
      {
        "duration": 694,
        "start_time": "2021-11-12T09:27:17.367Z"
      },
      {
        "duration": 29,
        "start_time": "2021-11-12T09:27:18.063Z"
      },
      {
        "duration": 45,
        "start_time": "2021-11-12T09:27:18.094Z"
      },
      {
        "duration": 54,
        "start_time": "2021-11-12T09:27:18.140Z"
      },
      {
        "duration": 8,
        "start_time": "2021-11-12T09:27:18.197Z"
      },
      {
        "duration": 300,
        "start_time": "2021-11-12T09:27:18.207Z"
      },
      {
        "duration": 719,
        "start_time": "2021-11-12T09:27:17.789Z"
      },
      {
        "duration": 718,
        "start_time": "2021-11-12T09:27:17.791Z"
      },
      {
        "duration": 717,
        "start_time": "2021-11-12T09:27:17.793Z"
      },
      {
        "duration": 716,
        "start_time": "2021-11-12T09:27:17.795Z"
      },
      {
        "duration": 715,
        "start_time": "2021-11-12T09:27:17.797Z"
      },
      {
        "duration": 1259,
        "start_time": "2021-11-12T09:27:34.178Z"
      },
      {
        "duration": 12,
        "start_time": "2021-11-12T09:27:35.440Z"
      },
      {
        "duration": 8,
        "start_time": "2021-11-12T09:27:35.454Z"
      },
      {
        "duration": 8,
        "start_time": "2021-11-12T09:27:35.464Z"
      },
      {
        "duration": 33,
        "start_time": "2021-11-12T09:27:35.474Z"
      },
      {
        "duration": 8,
        "start_time": "2021-11-12T09:27:35.509Z"
      },
      {
        "duration": 17,
        "start_time": "2021-11-12T09:27:35.519Z"
      },
      {
        "duration": 8,
        "start_time": "2021-11-12T09:27:35.538Z"
      },
      {
        "duration": 17,
        "start_time": "2021-11-12T09:27:35.548Z"
      },
      {
        "duration": 29,
        "start_time": "2021-11-12T09:27:35.566Z"
      },
      {
        "duration": 4,
        "start_time": "2021-11-12T09:27:35.596Z"
      },
      {
        "duration": 20,
        "start_time": "2021-11-12T09:27:35.602Z"
      },
      {
        "duration": 16,
        "start_time": "2021-11-12T09:27:35.623Z"
      },
      {
        "duration": 10,
        "start_time": "2021-11-12T09:27:35.640Z"
      },
      {
        "duration": 6,
        "start_time": "2021-11-12T09:27:35.652Z"
      },
      {
        "duration": 5,
        "start_time": "2021-11-12T09:27:35.659Z"
      },
      {
        "duration": 7,
        "start_time": "2021-11-12T09:27:35.665Z"
      },
      {
        "duration": 22,
        "start_time": "2021-11-12T09:27:35.674Z"
      },
      {
        "duration": 9,
        "start_time": "2021-11-12T09:27:35.698Z"
      },
      {
        "duration": 15,
        "start_time": "2021-11-12T09:27:35.708Z"
      },
      {
        "duration": 31,
        "start_time": "2021-11-12T09:27:35.725Z"
      },
      {
        "duration": 62,
        "start_time": "2021-11-12T09:27:35.757Z"
      },
      {
        "duration": 684,
        "start_time": "2021-11-12T09:27:35.822Z"
      },
      {
        "duration": 18,
        "start_time": "2021-11-12T09:27:36.508Z"
      },
      {
        "duration": 64,
        "start_time": "2021-11-12T09:27:36.528Z"
      },
      {
        "duration": 39,
        "start_time": "2021-11-12T09:27:36.593Z"
      },
      {
        "duration": 7,
        "start_time": "2021-11-12T09:27:36.633Z"
      },
      {
        "duration": 289,
        "start_time": "2021-11-12T09:27:36.641Z"
      },
      {
        "duration": 715,
        "start_time": "2021-11-12T09:27:36.217Z"
      },
      {
        "duration": 714,
        "start_time": "2021-11-12T09:27:36.219Z"
      },
      {
        "duration": 712,
        "start_time": "2021-11-12T09:27:36.221Z"
      },
      {
        "duration": 711,
        "start_time": "2021-11-12T09:27:36.223Z"
      },
      {
        "duration": 710,
        "start_time": "2021-11-12T09:27:36.225Z"
      },
      {
        "duration": 1163,
        "start_time": "2021-11-12T09:30:13.041Z"
      },
      {
        "duration": 10,
        "start_time": "2021-11-12T09:30:14.206Z"
      },
      {
        "duration": 21,
        "start_time": "2021-11-12T09:30:14.218Z"
      },
      {
        "duration": 13,
        "start_time": "2021-11-12T09:30:14.241Z"
      },
      {
        "duration": 27,
        "start_time": "2021-11-12T09:30:14.256Z"
      },
      {
        "duration": 15,
        "start_time": "2021-11-12T09:30:14.285Z"
      },
      {
        "duration": 38,
        "start_time": "2021-11-12T09:30:14.301Z"
      },
      {
        "duration": 22,
        "start_time": "2021-11-12T09:30:14.341Z"
      },
      {
        "duration": 24,
        "start_time": "2021-11-12T09:30:14.365Z"
      },
      {
        "duration": 37,
        "start_time": "2021-11-12T09:30:14.391Z"
      },
      {
        "duration": 19,
        "start_time": "2021-11-12T09:30:14.429Z"
      },
      {
        "duration": 42,
        "start_time": "2021-11-12T09:30:14.449Z"
      },
      {
        "duration": 9,
        "start_time": "2021-11-12T09:30:14.493Z"
      },
      {
        "duration": 4,
        "start_time": "2021-11-12T09:30:14.503Z"
      },
      {
        "duration": 5,
        "start_time": "2021-11-12T09:30:14.509Z"
      },
      {
        "duration": 5,
        "start_time": "2021-11-12T09:30:14.515Z"
      },
      {
        "duration": 6,
        "start_time": "2021-11-12T09:30:14.521Z"
      },
      {
        "duration": 11,
        "start_time": "2021-11-12T09:30:14.528Z"
      },
      {
        "duration": 4,
        "start_time": "2021-11-12T09:30:14.541Z"
      },
      {
        "duration": 17,
        "start_time": "2021-11-12T09:30:14.546Z"
      },
      {
        "duration": 31,
        "start_time": "2021-11-12T09:30:14.592Z"
      },
      {
        "duration": 46,
        "start_time": "2021-11-12T09:30:14.624Z"
      },
      {
        "duration": 686,
        "start_time": "2021-11-12T09:30:14.673Z"
      },
      {
        "duration": 18,
        "start_time": "2021-11-12T09:30:15.361Z"
      },
      {
        "duration": 62,
        "start_time": "2021-11-12T09:30:15.391Z"
      },
      {
        "duration": 79,
        "start_time": "2021-11-12T09:30:15.455Z"
      },
      {
        "duration": 7,
        "start_time": "2021-11-12T09:30:15.537Z"
      },
      {
        "duration": 14,
        "start_time": "2021-11-12T09:30:15.546Z"
      },
      {
        "duration": 35,
        "start_time": "2021-11-12T09:30:15.562Z"
      },
      {
        "duration": 29,
        "start_time": "2021-11-12T09:30:15.599Z"
      },
      {
        "duration": 31,
        "start_time": "2021-11-12T09:30:15.630Z"
      },
      {
        "duration": 13,
        "start_time": "2021-11-12T09:30:15.663Z"
      },
      {
        "duration": 17,
        "start_time": "2021-11-12T09:30:15.678Z"
      },
      {
        "duration": 14,
        "start_time": "2021-11-12T09:31:41.259Z"
      },
      {
        "duration": 15,
        "start_time": "2021-11-12T09:32:51.192Z"
      },
      {
        "duration": 299,
        "start_time": "2021-11-12T09:34:50.692Z"
      },
      {
        "duration": 13,
        "start_time": "2021-11-12T09:35:07.253Z"
      },
      {
        "duration": 14,
        "start_time": "2021-11-12T09:39:29.555Z"
      },
      {
        "duration": 188,
        "start_time": "2021-11-12T09:42:45.329Z"
      },
      {
        "duration": 215,
        "start_time": "2021-11-12T09:42:57.943Z"
      },
      {
        "duration": 203,
        "start_time": "2021-11-12T09:43:50.025Z"
      },
      {
        "duration": 16,
        "start_time": "2021-11-12T09:44:25.064Z"
      },
      {
        "duration": 205,
        "start_time": "2021-11-12T09:45:13.370Z"
      },
      {
        "duration": 14,
        "start_time": "2021-11-12T09:45:21.563Z"
      },
      {
        "duration": 4748,
        "start_time": "2021-11-12T09:54:01.361Z"
      },
      {
        "duration": 13,
        "start_time": "2021-11-12T09:55:09.842Z"
      },
      {
        "duration": 13,
        "start_time": "2021-11-12T09:55:29.528Z"
      },
      {
        "duration": 198,
        "start_time": "2021-11-12T09:55:53.913Z"
      },
      {
        "duration": 13,
        "start_time": "2021-11-12T09:56:19.047Z"
      },
      {
        "duration": 13,
        "start_time": "2021-11-12T09:56:24.946Z"
      },
      {
        "duration": 13,
        "start_time": "2021-11-12T09:57:35.231Z"
      },
      {
        "duration": 4697,
        "start_time": "2021-11-12T10:01:16.838Z"
      },
      {
        "duration": 12,
        "start_time": "2021-11-12T10:01:36.749Z"
      },
      {
        "duration": 2318,
        "start_time": "2021-11-12T10:03:44.812Z"
      },
      {
        "duration": 10,
        "start_time": "2021-11-12T10:03:47.132Z"
      },
      {
        "duration": 5,
        "start_time": "2021-11-12T10:03:47.144Z"
      },
      {
        "duration": 5,
        "start_time": "2021-11-12T10:03:47.151Z"
      },
      {
        "duration": 37,
        "start_time": "2021-11-12T10:03:47.158Z"
      },
      {
        "duration": 10,
        "start_time": "2021-11-12T10:03:47.197Z"
      },
      {
        "duration": 14,
        "start_time": "2021-11-12T10:03:47.208Z"
      },
      {
        "duration": 13,
        "start_time": "2021-11-12T10:03:47.225Z"
      },
      {
        "duration": 20,
        "start_time": "2021-11-12T10:03:47.240Z"
      },
      {
        "duration": 15,
        "start_time": "2021-11-12T10:03:47.261Z"
      },
      {
        "duration": 5,
        "start_time": "2021-11-12T10:03:47.292Z"
      },
      {
        "duration": 18,
        "start_time": "2021-11-12T10:03:47.298Z"
      },
      {
        "duration": 13,
        "start_time": "2021-11-12T10:03:47.317Z"
      },
      {
        "duration": 18,
        "start_time": "2021-11-12T10:03:47.332Z"
      },
      {
        "duration": 13,
        "start_time": "2021-11-12T10:03:47.352Z"
      },
      {
        "duration": 16,
        "start_time": "2021-11-12T10:03:47.367Z"
      },
      {
        "duration": 18,
        "start_time": "2021-11-12T10:03:47.385Z"
      },
      {
        "duration": 19,
        "start_time": "2021-11-12T10:03:47.404Z"
      },
      {
        "duration": 23,
        "start_time": "2021-11-12T10:03:47.424Z"
      },
      {
        "duration": 25,
        "start_time": "2021-11-12T10:03:47.449Z"
      },
      {
        "duration": 38,
        "start_time": "2021-11-12T10:03:47.476Z"
      },
      {
        "duration": 43,
        "start_time": "2021-11-12T10:03:47.516Z"
      },
      {
        "duration": 705,
        "start_time": "2021-11-12T10:03:47.562Z"
      },
      {
        "duration": 23,
        "start_time": "2021-11-12T10:03:48.270Z"
      },
      {
        "duration": 58,
        "start_time": "2021-11-12T10:03:48.295Z"
      },
      {
        "duration": 66,
        "start_time": "2021-11-12T10:03:48.355Z"
      },
      {
        "duration": 9,
        "start_time": "2021-11-12T10:03:48.423Z"
      },
      {
        "duration": 7,
        "start_time": "2021-11-12T10:03:48.433Z"
      },
      {
        "duration": 18,
        "start_time": "2021-11-12T10:03:48.442Z"
      },
      {
        "duration": 20,
        "start_time": "2021-11-12T10:03:48.462Z"
      },
      {
        "duration": 35,
        "start_time": "2021-11-12T10:03:48.484Z"
      },
      {
        "duration": 17,
        "start_time": "2021-11-12T10:03:48.522Z"
      },
      {
        "duration": 13,
        "start_time": "2021-11-12T10:03:48.541Z"
      },
      {
        "duration": 25,
        "start_time": "2021-11-12T10:03:48.556Z"
      },
      {
        "duration": 8,
        "start_time": "2021-11-12T10:05:49.827Z"
      },
      {
        "duration": 285,
        "start_time": "2021-11-12T10:07:47.001Z"
      },
      {
        "duration": 8,
        "start_time": "2021-11-12T10:08:20.890Z"
      },
      {
        "duration": 20,
        "start_time": "2021-11-12T10:10:41.588Z"
      },
      {
        "duration": 33,
        "start_time": "2021-11-12T10:12:39.274Z"
      },
      {
        "duration": 34,
        "start_time": "2021-11-12T10:12:56.321Z"
      },
      {
        "duration": 1224,
        "start_time": "2021-11-12T10:13:01.784Z"
      },
      {
        "duration": 9,
        "start_time": "2021-11-12T10:13:03.010Z"
      },
      {
        "duration": 21,
        "start_time": "2021-11-12T10:13:03.021Z"
      },
      {
        "duration": 6,
        "start_time": "2021-11-12T10:13:03.044Z"
      },
      {
        "duration": 25,
        "start_time": "2021-11-12T10:13:03.051Z"
      },
      {
        "duration": 9,
        "start_time": "2021-11-12T10:13:03.077Z"
      },
      {
        "duration": 30,
        "start_time": "2021-11-12T10:13:03.088Z"
      },
      {
        "duration": 21,
        "start_time": "2021-11-12T10:13:03.121Z"
      },
      {
        "duration": 39,
        "start_time": "2021-11-12T10:13:03.144Z"
      },
      {
        "duration": 25,
        "start_time": "2021-11-12T10:13:03.185Z"
      },
      {
        "duration": 18,
        "start_time": "2021-11-12T10:13:03.211Z"
      },
      {
        "duration": 32,
        "start_time": "2021-11-12T10:13:03.230Z"
      },
      {
        "duration": 35,
        "start_time": "2021-11-12T10:13:03.264Z"
      },
      {
        "duration": 27,
        "start_time": "2021-11-12T10:13:03.301Z"
      },
      {
        "duration": 24,
        "start_time": "2021-11-12T10:13:03.329Z"
      },
      {
        "duration": 12,
        "start_time": "2021-11-12T10:13:03.354Z"
      },
      {
        "duration": 36,
        "start_time": "2021-11-12T10:13:03.367Z"
      },
      {
        "duration": 35,
        "start_time": "2021-11-12T10:13:03.405Z"
      },
      {
        "duration": 31,
        "start_time": "2021-11-12T10:13:03.441Z"
      },
      {
        "duration": 25,
        "start_time": "2021-11-12T10:13:03.473Z"
      },
      {
        "duration": 29,
        "start_time": "2021-11-12T10:13:03.499Z"
      },
      {
        "duration": 56,
        "start_time": "2021-11-12T10:13:03.529Z"
      },
      {
        "duration": 9,
        "start_time": "2021-11-12T10:13:03.587Z"
      },
      {
        "duration": 28,
        "start_time": "2021-11-12T10:13:03.597Z"
      },
      {
        "duration": 37,
        "start_time": "2021-11-12T10:13:03.627Z"
      },
      {
        "duration": 47,
        "start_time": "2021-11-12T10:13:03.665Z"
      },
      {
        "duration": 686,
        "start_time": "2021-11-12T10:13:03.714Z"
      },
      {
        "duration": 18,
        "start_time": "2021-11-12T10:13:04.401Z"
      },
      {
        "duration": 60,
        "start_time": "2021-11-12T10:13:04.420Z"
      },
      {
        "duration": 52,
        "start_time": "2021-11-12T10:13:04.482Z"
      },
      {
        "duration": 7,
        "start_time": "2021-11-12T10:13:04.536Z"
      },
      {
        "duration": 32,
        "start_time": "2021-11-12T10:13:04.544Z"
      },
      {
        "duration": 43,
        "start_time": "2021-11-12T10:13:04.578Z"
      },
      {
        "duration": 20,
        "start_time": "2021-11-12T10:13:04.623Z"
      },
      {
        "duration": 51,
        "start_time": "2021-11-12T10:13:04.644Z"
      },
      {
        "duration": 27,
        "start_time": "2021-11-12T10:13:04.696Z"
      },
      {
        "duration": 18,
        "start_time": "2021-11-12T10:13:04.725Z"
      },
      {
        "duration": 32,
        "start_time": "2021-11-12T10:13:04.745Z"
      },
      {
        "duration": 45,
        "start_time": "2021-11-12T10:14:23.709Z"
      },
      {
        "duration": 58,
        "start_time": "2021-11-12T10:17:50.689Z"
      },
      {
        "duration": 9,
        "start_time": "2021-11-12T10:23:16.263Z"
      },
      {
        "duration": 9,
        "start_time": "2021-11-12T10:25:47.405Z"
      },
      {
        "duration": 13,
        "start_time": "2021-11-12T10:33:51.232Z"
      },
      {
        "duration": 14,
        "start_time": "2021-11-12T10:34:06.466Z"
      },
      {
        "duration": 13,
        "start_time": "2021-11-12T10:34:10.525Z"
      },
      {
        "duration": 14,
        "start_time": "2021-11-12T10:37:54.231Z"
      },
      {
        "duration": 13,
        "start_time": "2021-11-12T10:47:18.917Z"
      },
      {
        "duration": 13,
        "start_time": "2021-11-12T10:52:59.780Z"
      },
      {
        "duration": 282,
        "start_time": "2021-11-12T11:10:41.064Z"
      },
      {
        "duration": 197,
        "start_time": "2021-11-12T11:11:04.921Z"
      },
      {
        "duration": 1234,
        "start_time": "2021-11-12T11:12:44.270Z"
      },
      {
        "duration": 9,
        "start_time": "2021-11-12T11:12:45.507Z"
      },
      {
        "duration": 5,
        "start_time": "2021-11-12T11:12:45.520Z"
      },
      {
        "duration": 6,
        "start_time": "2021-11-12T11:12:45.526Z"
      },
      {
        "duration": 13,
        "start_time": "2021-11-12T11:12:45.533Z"
      },
      {
        "duration": 4,
        "start_time": "2021-11-12T11:12:45.548Z"
      },
      {
        "duration": 46,
        "start_time": "2021-11-12T11:12:45.554Z"
      },
      {
        "duration": 6,
        "start_time": "2021-11-12T11:12:45.602Z"
      },
      {
        "duration": 13,
        "start_time": "2021-11-12T11:12:45.610Z"
      },
      {
        "duration": 16,
        "start_time": "2021-11-12T11:12:45.624Z"
      },
      {
        "duration": 5,
        "start_time": "2021-11-12T11:12:45.641Z"
      },
      {
        "duration": 44,
        "start_time": "2021-11-12T11:12:45.648Z"
      },
      {
        "duration": 8,
        "start_time": "2021-11-12T11:12:45.694Z"
      },
      {
        "duration": 5,
        "start_time": "2021-11-12T11:12:45.703Z"
      },
      {
        "duration": 6,
        "start_time": "2021-11-12T11:12:45.709Z"
      },
      {
        "duration": 5,
        "start_time": "2021-11-12T11:12:45.717Z"
      },
      {
        "duration": 6,
        "start_time": "2021-11-12T11:12:45.723Z"
      },
      {
        "duration": 20,
        "start_time": "2021-11-12T11:12:45.730Z"
      },
      {
        "duration": 8,
        "start_time": "2021-11-12T11:12:45.751Z"
      },
      {
        "duration": 31,
        "start_time": "2021-11-12T11:12:45.761Z"
      },
      {
        "duration": 19,
        "start_time": "2021-11-12T11:12:45.793Z"
      },
      {
        "duration": 40,
        "start_time": "2021-11-12T11:12:45.816Z"
      },
      {
        "duration": 4,
        "start_time": "2021-11-12T11:12:45.858Z"
      },
      {
        "duration": 32,
        "start_time": "2021-11-12T11:12:45.864Z"
      },
      {
        "duration": 30,
        "start_time": "2021-11-12T11:12:45.898Z"
      },
      {
        "duration": 62,
        "start_time": "2021-11-12T11:12:45.930Z"
      },
      {
        "duration": 684,
        "start_time": "2021-11-12T11:12:45.994Z"
      },
      {
        "duration": 27,
        "start_time": "2021-11-12T11:12:46.680Z"
      },
      {
        "duration": 48,
        "start_time": "2021-11-12T11:12:46.708Z"
      },
      {
        "duration": 60,
        "start_time": "2021-11-12T11:12:46.758Z"
      },
      {
        "duration": 7,
        "start_time": "2021-11-12T11:12:46.819Z"
      },
      {
        "duration": 9,
        "start_time": "2021-11-12T11:12:46.828Z"
      },
      {
        "duration": 15,
        "start_time": "2021-11-12T11:12:46.838Z"
      },
      {
        "duration": 292,
        "start_time": "2021-11-12T11:12:46.855Z"
      },
      {
        "duration": 861,
        "start_time": "2021-11-12T11:12:46.288Z"
      },
      {
        "duration": 860,
        "start_time": "2021-11-12T11:12:46.290Z"
      },
      {
        "duration": 859,
        "start_time": "2021-11-12T11:12:46.292Z"
      },
      {
        "duration": 198,
        "start_time": "2021-11-12T11:13:17.317Z"
      },
      {
        "duration": 13,
        "start_time": "2021-11-12T11:13:26.027Z"
      },
      {
        "duration": 13,
        "start_time": "2021-11-12T11:14:39.836Z"
      },
      {
        "duration": 1229,
        "start_time": "2021-11-12T11:14:59.308Z"
      },
      {
        "duration": 10,
        "start_time": "2021-11-12T11:15:00.538Z"
      },
      {
        "duration": 16,
        "start_time": "2021-11-12T11:15:00.550Z"
      },
      {
        "duration": 28,
        "start_time": "2021-11-12T11:15:00.567Z"
      },
      {
        "duration": 26,
        "start_time": "2021-11-12T11:15:00.597Z"
      },
      {
        "duration": 11,
        "start_time": "2021-11-12T11:15:00.625Z"
      },
      {
        "duration": 30,
        "start_time": "2021-11-12T11:15:00.637Z"
      },
      {
        "duration": 18,
        "start_time": "2021-11-12T11:15:00.670Z"
      },
      {
        "duration": 21,
        "start_time": "2021-11-12T11:15:00.690Z"
      },
      {
        "duration": 27,
        "start_time": "2021-11-12T11:15:00.713Z"
      },
      {
        "duration": 21,
        "start_time": "2021-11-12T11:15:00.741Z"
      },
      {
        "duration": 32,
        "start_time": "2021-11-12T11:15:00.763Z"
      },
      {
        "duration": 23,
        "start_time": "2021-11-12T11:15:00.796Z"
      },
      {
        "duration": 34,
        "start_time": "2021-11-12T11:15:00.821Z"
      },
      {
        "duration": 17,
        "start_time": "2021-11-12T11:15:00.857Z"
      },
      {
        "duration": 27,
        "start_time": "2021-11-12T11:15:00.875Z"
      },
      {
        "duration": 22,
        "start_time": "2021-11-12T11:15:00.904Z"
      },
      {
        "duration": 17,
        "start_time": "2021-11-12T11:15:00.927Z"
      },
      {
        "duration": 27,
        "start_time": "2021-11-12T11:15:00.945Z"
      },
      {
        "duration": 8,
        "start_time": "2021-11-12T11:15:00.974Z"
      },
      {
        "duration": 18,
        "start_time": "2021-11-12T11:15:00.983Z"
      },
      {
        "duration": 102,
        "start_time": "2021-11-12T11:15:01.002Z"
      },
      {
        "duration": 5,
        "start_time": "2021-11-12T11:15:01.107Z"
      },
      {
        "duration": 38,
        "start_time": "2021-11-12T11:15:01.113Z"
      },
      {
        "duration": 53,
        "start_time": "2021-11-12T11:15:01.153Z"
      },
      {
        "duration": 52,
        "start_time": "2021-11-12T11:15:01.207Z"
      },
      {
        "duration": 810,
        "start_time": "2021-11-12T11:15:01.260Z"
      },
      {
        "duration": 21,
        "start_time": "2021-11-12T11:15:02.072Z"
      },
      {
        "duration": 51,
        "start_time": "2021-11-12T11:15:02.095Z"
      },
      {
        "duration": 56,
        "start_time": "2021-11-12T11:15:02.147Z"
      },
      {
        "duration": 7,
        "start_time": "2021-11-12T11:15:02.204Z"
      },
      {
        "duration": 13,
        "start_time": "2021-11-12T11:15:02.213Z"
      },
      {
        "duration": 22,
        "start_time": "2021-11-12T11:15:02.228Z"
      },
      {
        "duration": 35,
        "start_time": "2021-11-12T11:15:02.251Z"
      },
      {
        "duration": 23,
        "start_time": "2021-11-12T11:15:02.288Z"
      },
      {
        "duration": 17,
        "start_time": "2021-11-12T11:15:02.313Z"
      },
      {
        "duration": 20,
        "start_time": "2021-11-12T11:15:02.332Z"
      },
      {
        "duration": 7,
        "start_time": "2021-11-12T11:20:36.593Z"
      },
      {
        "duration": 7,
        "start_time": "2021-11-12T11:20:49.117Z"
      },
      {
        "duration": 5493,
        "start_time": "2021-11-12T11:30:33.514Z"
      },
      {
        "duration": 2009,
        "start_time": "2021-11-12T11:45:00.205Z"
      },
      {
        "duration": 10,
        "start_time": "2021-11-12T11:45:02.216Z"
      },
      {
        "duration": 21,
        "start_time": "2021-11-12T11:45:02.228Z"
      },
      {
        "duration": 18,
        "start_time": "2021-11-12T11:45:02.251Z"
      },
      {
        "duration": 21,
        "start_time": "2021-11-12T11:45:02.271Z"
      },
      {
        "duration": 16,
        "start_time": "2021-11-12T11:45:02.294Z"
      },
      {
        "duration": 28,
        "start_time": "2021-11-12T11:45:02.312Z"
      },
      {
        "duration": 8,
        "start_time": "2021-11-12T11:45:02.343Z"
      },
      {
        "duration": 32,
        "start_time": "2021-11-12T11:45:02.353Z"
      },
      {
        "duration": 33,
        "start_time": "2021-11-12T11:45:02.387Z"
      },
      {
        "duration": 32,
        "start_time": "2021-11-12T11:45:02.421Z"
      },
      {
        "duration": 33,
        "start_time": "2021-11-12T11:45:02.455Z"
      },
      {
        "duration": 37,
        "start_time": "2021-11-12T11:45:02.490Z"
      },
      {
        "duration": 31,
        "start_time": "2021-11-12T11:45:02.529Z"
      },
      {
        "duration": 30,
        "start_time": "2021-11-12T11:45:02.561Z"
      },
      {
        "duration": 36,
        "start_time": "2021-11-12T11:45:02.592Z"
      },
      {
        "duration": 136,
        "start_time": "2021-11-12T11:45:02.630Z"
      },
      {
        "duration": 34,
        "start_time": "2021-11-12T11:45:02.769Z"
      },
      {
        "duration": 45,
        "start_time": "2021-11-12T11:45:02.805Z"
      },
      {
        "duration": 30,
        "start_time": "2021-11-12T11:45:02.852Z"
      },
      {
        "duration": 15,
        "start_time": "2021-11-12T11:45:02.884Z"
      },
      {
        "duration": 52,
        "start_time": "2021-11-12T11:45:02.900Z"
      },
      {
        "duration": 5,
        "start_time": "2021-11-12T11:45:02.955Z"
      },
      {
        "duration": 26,
        "start_time": "2021-11-12T11:45:02.961Z"
      },
      {
        "duration": 33,
        "start_time": "2021-11-12T11:45:02.989Z"
      },
      {
        "duration": 45,
        "start_time": "2021-11-12T11:45:03.024Z"
      },
      {
        "duration": 700,
        "start_time": "2021-11-12T11:45:03.070Z"
      },
      {
        "duration": 22,
        "start_time": "2021-11-12T11:45:03.772Z"
      },
      {
        "duration": 48,
        "start_time": "2021-11-12T11:45:03.796Z"
      },
      {
        "duration": 61,
        "start_time": "2021-11-12T11:45:03.846Z"
      },
      {
        "duration": 7,
        "start_time": "2021-11-12T11:45:03.909Z"
      },
      {
        "duration": 16,
        "start_time": "2021-11-12T11:45:03.918Z"
      },
      {
        "duration": 14,
        "start_time": "2021-11-12T11:45:03.936Z"
      },
      {
        "duration": 21,
        "start_time": "2021-11-12T11:45:03.951Z"
      },
      {
        "duration": 27,
        "start_time": "2021-11-12T11:45:03.973Z"
      },
      {
        "duration": 12,
        "start_time": "2021-11-12T11:45:04.001Z"
      },
      {
        "duration": 21,
        "start_time": "2021-11-12T11:45:04.015Z"
      },
      {
        "duration": 8,
        "start_time": "2021-11-12T11:45:04.037Z"
      },
      {
        "duration": 9,
        "start_time": "2021-11-12T11:49:10.525Z"
      },
      {
        "duration": 16,
        "start_time": "2021-11-12T11:51:04.617Z"
      },
      {
        "duration": 15,
        "start_time": "2021-11-12T12:14:35.020Z"
      },
      {
        "duration": 4,
        "start_time": "2021-11-12T12:16:59.330Z"
      },
      {
        "duration": 4,
        "start_time": "2021-11-12T12:17:13.595Z"
      },
      {
        "duration": 4,
        "start_time": "2021-11-12T12:17:47.415Z"
      },
      {
        "duration": 1217,
        "start_time": "2021-11-12T12:20:54.975Z"
      },
      {
        "duration": 11,
        "start_time": "2021-11-12T12:20:56.194Z"
      },
      {
        "duration": 9,
        "start_time": "2021-11-12T12:20:56.207Z"
      },
      {
        "duration": 11,
        "start_time": "2021-11-12T12:20:56.217Z"
      },
      {
        "duration": 16,
        "start_time": "2021-11-12T12:20:56.229Z"
      },
      {
        "duration": 9,
        "start_time": "2021-11-12T12:20:56.246Z"
      },
      {
        "duration": 36,
        "start_time": "2021-11-12T12:20:56.256Z"
      },
      {
        "duration": 5,
        "start_time": "2021-11-12T12:20:56.294Z"
      },
      {
        "duration": 18,
        "start_time": "2021-11-12T12:20:56.301Z"
      },
      {
        "duration": 14,
        "start_time": "2021-11-12T12:20:56.321Z"
      },
      {
        "duration": 8,
        "start_time": "2021-11-12T12:20:56.337Z"
      },
      {
        "duration": 18,
        "start_time": "2021-11-12T12:20:56.346Z"
      },
      {
        "duration": 31,
        "start_time": "2021-11-12T12:20:56.365Z"
      },
      {
        "duration": 7,
        "start_time": "2021-11-12T12:20:56.397Z"
      },
      {
        "duration": 7,
        "start_time": "2021-11-12T12:20:56.406Z"
      },
      {
        "duration": 5,
        "start_time": "2021-11-12T12:20:56.414Z"
      },
      {
        "duration": 11,
        "start_time": "2021-11-12T12:20:56.420Z"
      },
      {
        "duration": 10,
        "start_time": "2021-11-12T12:20:56.433Z"
      },
      {
        "duration": 4,
        "start_time": "2021-11-12T12:20:56.444Z"
      },
      {
        "duration": 7,
        "start_time": "2021-11-12T12:20:56.450Z"
      },
      {
        "duration": 43,
        "start_time": "2021-11-12T12:20:56.459Z"
      },
      {
        "duration": 43,
        "start_time": "2021-11-12T12:20:56.503Z"
      },
      {
        "duration": 4,
        "start_time": "2021-11-12T12:20:56.549Z"
      },
      {
        "duration": 17,
        "start_time": "2021-11-12T12:20:56.554Z"
      },
      {
        "duration": 48,
        "start_time": "2021-11-12T12:20:56.572Z"
      },
      {
        "duration": 41,
        "start_time": "2021-11-12T12:20:56.622Z"
      },
      {
        "duration": 698,
        "start_time": "2021-11-12T12:20:56.664Z"
      },
      {
        "duration": 18,
        "start_time": "2021-11-12T12:20:57.363Z"
      },
      {
        "duration": 45,
        "start_time": "2021-11-12T12:20:57.391Z"
      },
      {
        "duration": 57,
        "start_time": "2021-11-12T12:20:57.437Z"
      },
      {
        "duration": 7,
        "start_time": "2021-11-12T12:20:57.496Z"
      },
      {
        "duration": 11,
        "start_time": "2021-11-12T12:20:57.505Z"
      },
      {
        "duration": 8,
        "start_time": "2021-11-12T12:20:57.517Z"
      },
      {
        "duration": 19,
        "start_time": "2021-11-12T12:20:57.526Z"
      },
      {
        "duration": 13,
        "start_time": "2021-11-12T12:20:57.546Z"
      },
      {
        "duration": 36,
        "start_time": "2021-11-12T12:20:57.560Z"
      },
      {
        "duration": 12,
        "start_time": "2021-11-12T12:20:57.597Z"
      },
      {
        "duration": 1216,
        "start_time": "2021-11-12T12:23:02.591Z"
      },
      {
        "duration": 10,
        "start_time": "2021-11-12T12:23:03.809Z"
      },
      {
        "duration": 48,
        "start_time": "2021-11-12T12:23:03.821Z"
      },
      {
        "duration": 34,
        "start_time": "2021-11-12T12:23:03.871Z"
      },
      {
        "duration": 34,
        "start_time": "2021-11-12T12:23:03.907Z"
      },
      {
        "duration": 33,
        "start_time": "2021-11-12T12:23:03.942Z"
      },
      {
        "duration": 50,
        "start_time": "2021-11-12T12:23:03.976Z"
      },
      {
        "duration": 35,
        "start_time": "2021-11-12T12:23:04.028Z"
      },
      {
        "duration": 35,
        "start_time": "2021-11-12T12:23:04.065Z"
      },
      {
        "duration": 35,
        "start_time": "2021-11-12T12:23:04.101Z"
      },
      {
        "duration": 39,
        "start_time": "2021-11-12T12:23:04.137Z"
      },
      {
        "duration": 43,
        "start_time": "2021-11-12T12:23:04.177Z"
      },
      {
        "duration": 32,
        "start_time": "2021-11-12T12:23:04.221Z"
      },
      {
        "duration": 12,
        "start_time": "2021-11-12T12:23:04.255Z"
      },
      {
        "duration": 50,
        "start_time": "2021-11-12T12:23:04.269Z"
      },
      {
        "duration": 25,
        "start_time": "2021-11-12T12:23:04.321Z"
      },
      {
        "duration": 15,
        "start_time": "2021-11-12T12:23:04.348Z"
      },
      {
        "duration": 50,
        "start_time": "2021-11-12T12:23:04.365Z"
      },
      {
        "duration": 23,
        "start_time": "2021-11-12T12:23:04.417Z"
      },
      {
        "duration": 26,
        "start_time": "2021-11-12T12:23:04.442Z"
      },
      {
        "duration": 38,
        "start_time": "2021-11-12T12:23:04.470Z"
      },
      {
        "duration": 53,
        "start_time": "2021-11-12T12:23:04.510Z"
      },
      {
        "duration": 24,
        "start_time": "2021-11-12T12:23:04.566Z"
      },
      {
        "duration": 31,
        "start_time": "2021-11-12T12:23:04.592Z"
      },
      {
        "duration": 69,
        "start_time": "2021-11-12T12:23:04.624Z"
      },
      {
        "duration": 56,
        "start_time": "2021-11-12T12:23:04.695Z"
      },
      {
        "duration": 689,
        "start_time": "2021-11-12T12:23:04.753Z"
      },
      {
        "duration": 19,
        "start_time": "2021-11-12T12:23:05.445Z"
      },
      {
        "duration": 63,
        "start_time": "2021-11-12T12:23:05.466Z"
      },
      {
        "duration": 47,
        "start_time": "2021-11-12T12:23:05.531Z"
      },
      {
        "duration": 12,
        "start_time": "2021-11-12T12:23:05.580Z"
      },
      {
        "duration": 18,
        "start_time": "2021-11-12T12:23:05.594Z"
      },
      {
        "duration": 19,
        "start_time": "2021-11-12T12:23:05.613Z"
      },
      {
        "duration": 38,
        "start_time": "2021-11-12T12:23:05.634Z"
      },
      {
        "duration": 16,
        "start_time": "2021-11-12T12:23:05.674Z"
      },
      {
        "duration": 16,
        "start_time": "2021-11-12T12:23:05.692Z"
      },
      {
        "duration": 21,
        "start_time": "2021-11-12T12:23:05.709Z"
      },
      {
        "duration": 1217,
        "start_time": "2021-11-12T13:49:05.883Z"
      },
      {
        "duration": 10,
        "start_time": "2021-11-12T13:49:07.102Z"
      },
      {
        "duration": 6,
        "start_time": "2021-11-12T13:49:07.113Z"
      },
      {
        "duration": 6,
        "start_time": "2021-11-12T13:49:07.120Z"
      },
      {
        "duration": 14,
        "start_time": "2021-11-12T13:49:07.127Z"
      },
      {
        "duration": 6,
        "start_time": "2021-11-12T13:49:07.142Z"
      },
      {
        "duration": 43,
        "start_time": "2021-11-12T13:49:07.149Z"
      },
      {
        "duration": 5,
        "start_time": "2021-11-12T13:49:07.194Z"
      },
      {
        "duration": 13,
        "start_time": "2021-11-12T13:49:07.201Z"
      },
      {
        "duration": 15,
        "start_time": "2021-11-12T13:49:07.215Z"
      },
      {
        "duration": 7,
        "start_time": "2021-11-12T13:49:07.231Z"
      },
      {
        "duration": 18,
        "start_time": "2021-11-12T13:49:07.239Z"
      },
      {
        "duration": 35,
        "start_time": "2021-11-12T13:49:07.259Z"
      },
      {
        "duration": 5,
        "start_time": "2021-11-12T13:49:07.295Z"
      },
      {
        "duration": 6,
        "start_time": "2021-11-12T13:49:07.302Z"
      },
      {
        "duration": 7,
        "start_time": "2021-11-12T13:49:07.309Z"
      },
      {
        "duration": 7,
        "start_time": "2021-11-12T13:49:07.317Z"
      },
      {
        "duration": 9,
        "start_time": "2021-11-12T13:49:07.325Z"
      },
      {
        "duration": 5,
        "start_time": "2021-11-12T13:49:07.336Z"
      },
      {
        "duration": 5,
        "start_time": "2021-11-12T13:49:07.343Z"
      },
      {
        "duration": 47,
        "start_time": "2021-11-12T13:49:07.350Z"
      },
      {
        "duration": 42,
        "start_time": "2021-11-12T13:49:07.399Z"
      },
      {
        "duration": 4,
        "start_time": "2021-11-12T13:49:07.444Z"
      },
      {
        "duration": 20,
        "start_time": "2021-11-12T13:49:07.450Z"
      },
      {
        "duration": 31,
        "start_time": "2021-11-12T13:49:07.492Z"
      },
      {
        "duration": 43,
        "start_time": "2021-11-12T13:49:07.524Z"
      },
      {
        "duration": 666,
        "start_time": "2021-11-12T13:49:07.569Z"
      },
      {
        "duration": 17,
        "start_time": "2021-11-12T13:49:08.237Z"
      },
      {
        "duration": 57,
        "start_time": "2021-11-12T13:49:08.255Z"
      },
      {
        "duration": 44,
        "start_time": "2021-11-12T13:49:08.313Z"
      },
      {
        "duration": 7,
        "start_time": "2021-11-12T13:49:08.359Z"
      },
      {
        "duration": 29,
        "start_time": "2021-11-12T13:49:08.368Z"
      },
      {
        "duration": 8,
        "start_time": "2021-11-12T13:49:08.399Z"
      },
      {
        "duration": 19,
        "start_time": "2021-11-12T13:49:08.408Z"
      },
      {
        "duration": 13,
        "start_time": "2021-11-12T13:49:08.429Z"
      },
      {
        "duration": 11,
        "start_time": "2021-11-12T13:49:08.444Z"
      },
      {
        "duration": 45,
        "start_time": "2021-11-12T13:49:08.457Z"
      },
      {
        "duration": 1017,
        "start_time": "2021-11-12T14:05:19.327Z"
      },
      {
        "duration": 67,
        "start_time": "2021-11-12T14:33:40.894Z"
      },
      {
        "duration": 67,
        "start_time": "2021-11-12T14:38:44.111Z"
      },
      {
        "duration": 5,
        "start_time": "2021-11-12T14:55:56.743Z"
      },
      {
        "duration": 302,
        "start_time": "2021-11-12T15:10:53.932Z"
      },
      {
        "duration": 456,
        "start_time": "2021-11-12T15:11:03.468Z"
      },
      {
        "duration": 24,
        "start_time": "2021-11-12T15:22:50.997Z"
      },
      {
        "duration": 212,
        "start_time": "2021-11-12T15:24:23.161Z"
      },
      {
        "duration": 176,
        "start_time": "2021-11-12T15:24:34.624Z"
      },
      {
        "duration": 1188,
        "start_time": "2021-11-12T15:24:41.680Z"
      },
      {
        "duration": 5,
        "start_time": "2021-11-12T15:24:49.017Z"
      },
      {
        "duration": 1186,
        "start_time": "2021-11-12T15:27:01.823Z"
      },
      {
        "duration": 10,
        "start_time": "2021-11-12T15:27:03.010Z"
      },
      {
        "duration": 8,
        "start_time": "2021-11-12T15:27:03.022Z"
      },
      {
        "duration": 10,
        "start_time": "2021-11-12T15:27:03.032Z"
      },
      {
        "duration": 19,
        "start_time": "2021-11-12T15:27:03.044Z"
      },
      {
        "duration": 6,
        "start_time": "2021-11-12T15:27:03.065Z"
      },
      {
        "duration": 26,
        "start_time": "2021-11-12T15:27:03.072Z"
      },
      {
        "duration": 8,
        "start_time": "2021-11-12T15:27:03.100Z"
      },
      {
        "duration": 16,
        "start_time": "2021-11-12T15:27:03.110Z"
      },
      {
        "duration": 24,
        "start_time": "2021-11-12T15:27:03.127Z"
      },
      {
        "duration": 7,
        "start_time": "2021-11-12T15:27:03.153Z"
      },
      {
        "duration": 30,
        "start_time": "2021-11-12T15:27:03.161Z"
      },
      {
        "duration": 9,
        "start_time": "2021-11-12T15:27:03.192Z"
      },
      {
        "duration": 5,
        "start_time": "2021-11-12T15:27:03.202Z"
      },
      {
        "duration": 6,
        "start_time": "2021-11-12T15:27:03.209Z"
      },
      {
        "duration": 7,
        "start_time": "2021-11-12T15:27:03.217Z"
      },
      {
        "duration": 6,
        "start_time": "2021-11-12T15:27:03.226Z"
      },
      {
        "duration": 11,
        "start_time": "2021-11-12T15:27:03.233Z"
      },
      {
        "duration": 7,
        "start_time": "2021-11-12T15:27:03.245Z"
      },
      {
        "duration": 6,
        "start_time": "2021-11-12T15:27:03.253Z"
      },
      {
        "duration": 42,
        "start_time": "2021-11-12T15:27:03.260Z"
      },
      {
        "duration": 42,
        "start_time": "2021-11-12T15:27:03.303Z"
      },
      {
        "duration": 4,
        "start_time": "2021-11-12T15:27:03.348Z"
      },
      {
        "duration": 15,
        "start_time": "2021-11-12T15:27:03.353Z"
      },
      {
        "duration": 32,
        "start_time": "2021-11-12T15:27:03.392Z"
      },
      {
        "duration": 45,
        "start_time": "2021-11-12T15:27:03.425Z"
      },
      {
        "duration": 688,
        "start_time": "2021-11-12T15:27:03.492Z"
      },
      {
        "duration": 24,
        "start_time": "2021-11-12T15:27:04.182Z"
      },
      {
        "duration": 1835,
        "start_time": "2021-11-12T15:27:04.208Z"
      },
      {
        "duration": 58,
        "start_time": "2021-11-12T15:27:06.044Z"
      },
      {
        "duration": 2840,
        "start_time": "2021-11-12T15:27:06.103Z"
      },
      {
        "duration": 5,
        "start_time": "2021-11-12T15:27:08.945Z"
      },
      {
        "duration": 70,
        "start_time": "2021-11-12T15:27:08.952Z"
      },
      {
        "duration": 7,
        "start_time": "2021-11-12T15:27:09.024Z"
      },
      {
        "duration": 9,
        "start_time": "2021-11-12T15:27:09.033Z"
      },
      {
        "duration": 7,
        "start_time": "2021-11-12T15:27:09.044Z"
      },
      {
        "duration": 39,
        "start_time": "2021-11-12T15:27:09.053Z"
      },
      {
        "duration": 413,
        "start_time": "2021-11-12T15:27:09.094Z"
      },
      {
        "duration": 19,
        "start_time": "2021-11-12T15:27:09.508Z"
      },
      {
        "duration": 12,
        "start_time": "2021-11-12T15:27:09.528Z"
      },
      {
        "duration": 16,
        "start_time": "2021-11-12T15:27:09.542Z"
      },
      {
        "duration": 1748,
        "start_time": "2021-11-12T15:31:38.021Z"
      },
      {
        "duration": 3,
        "start_time": "2021-11-12T15:33:30.591Z"
      },
      {
        "duration": 1131,
        "start_time": "2021-11-12T15:34:54.422Z"
      },
      {
        "duration": 3,
        "start_time": "2021-11-12T15:35:07.976Z"
      },
      {
        "duration": 2710,
        "start_time": "2021-11-12T15:35:09.730Z"
      },
      {
        "duration": 5,
        "start_time": "2021-11-12T15:35:14.164Z"
      },
      {
        "duration": 2648,
        "start_time": "2021-11-12T15:37:40.468Z"
      },
      {
        "duration": 5,
        "start_time": "2021-11-12T15:37:43.118Z"
      },
      {
        "duration": 69,
        "start_time": "2021-11-12T15:43:49.921Z"
      },
      {
        "duration": 3,
        "start_time": "2021-11-12T15:44:02.370Z"
      },
      {
        "duration": 2667,
        "start_time": "2021-11-12T15:44:04.699Z"
      },
      {
        "duration": 30,
        "start_time": "2021-11-12T15:45:55.901Z"
      },
      {
        "duration": 9,
        "start_time": "2021-11-12T15:57:40.087Z"
      },
      {
        "duration": 29,
        "start_time": "2021-11-12T15:57:45.584Z"
      },
      {
        "duration": 1201,
        "start_time": "2021-11-12T15:58:21.906Z"
      },
      {
        "duration": 10,
        "start_time": "2021-11-12T15:58:23.109Z"
      },
      {
        "duration": 9,
        "start_time": "2021-11-12T15:58:23.121Z"
      },
      {
        "duration": 17,
        "start_time": "2021-11-12T15:58:23.132Z"
      },
      {
        "duration": 16,
        "start_time": "2021-11-12T15:58:23.150Z"
      },
      {
        "duration": 5,
        "start_time": "2021-11-12T15:58:23.168Z"
      },
      {
        "duration": 28,
        "start_time": "2021-11-12T15:58:23.175Z"
      },
      {
        "duration": 12,
        "start_time": "2021-11-12T15:58:23.205Z"
      },
      {
        "duration": 18,
        "start_time": "2021-11-12T15:58:23.219Z"
      },
      {
        "duration": 18,
        "start_time": "2021-11-12T15:58:23.239Z"
      },
      {
        "duration": 13,
        "start_time": "2021-11-12T15:58:23.258Z"
      },
      {
        "duration": 23,
        "start_time": "2021-11-12T15:58:23.273Z"
      },
      {
        "duration": 10,
        "start_time": "2021-11-12T15:58:23.298Z"
      },
      {
        "duration": 16,
        "start_time": "2021-11-12T15:58:23.310Z"
      },
      {
        "duration": 8,
        "start_time": "2021-11-12T15:58:23.328Z"
      },
      {
        "duration": 13,
        "start_time": "2021-11-12T15:58:23.337Z"
      },
      {
        "duration": 8,
        "start_time": "2021-11-12T15:58:23.352Z"
      },
      {
        "duration": 17,
        "start_time": "2021-11-12T15:58:23.361Z"
      },
      {
        "duration": 14,
        "start_time": "2021-11-12T15:58:23.381Z"
      },
      {
        "duration": 8,
        "start_time": "2021-11-12T15:58:23.397Z"
      },
      {
        "duration": 16,
        "start_time": "2021-11-12T15:58:23.407Z"
      },
      {
        "duration": 71,
        "start_time": "2021-11-12T15:58:23.425Z"
      },
      {
        "duration": 5,
        "start_time": "2021-11-12T15:58:23.501Z"
      },
      {
        "duration": 19,
        "start_time": "2021-11-12T15:58:23.508Z"
      },
      {
        "duration": 35,
        "start_time": "2021-11-12T15:58:23.529Z"
      },
      {
        "duration": 68,
        "start_time": "2021-11-12T15:58:23.566Z"
      },
      {
        "duration": 2500,
        "start_time": "2021-11-12T15:58:23.636Z"
      },
      {
        "duration": 3,
        "start_time": "2021-11-12T15:58:26.138Z"
      },
      {
        "duration": 7,
        "start_time": "2021-11-12T15:58:26.142Z"
      },
      {
        "duration": 2818,
        "start_time": "2021-11-12T15:58:26.150Z"
      },
      {
        "duration": 47,
        "start_time": "2021-11-12T15:58:28.970Z"
      },
      {
        "duration": 8,
        "start_time": "2021-11-12T15:58:29.019Z"
      },
      {
        "duration": 30,
        "start_time": "2021-11-12T15:58:29.029Z"
      },
      {
        "duration": 30,
        "start_time": "2021-11-12T15:58:29.061Z"
      },
      {
        "duration": 12,
        "start_time": "2021-11-12T15:58:29.093Z"
      },
      {
        "duration": 7,
        "start_time": "2021-11-12T15:58:29.107Z"
      },
      {
        "duration": 24,
        "start_time": "2021-11-12T15:58:29.116Z"
      },
      {
        "duration": 713,
        "start_time": "2021-11-12T15:58:29.142Z"
      },
      {
        "duration": 18,
        "start_time": "2021-11-12T15:58:29.856Z"
      },
      {
        "duration": 17,
        "start_time": "2021-11-12T15:58:29.875Z"
      },
      {
        "duration": 15,
        "start_time": "2021-11-12T15:58:29.893Z"
      },
      {
        "duration": 61,
        "start_time": "2021-11-12T16:00:25.551Z"
      },
      {
        "duration": 3064,
        "start_time": "2021-11-12T16:05:36.378Z"
      },
      {
        "duration": 33,
        "start_time": "2021-11-12T16:10:21.408Z"
      },
      {
        "duration": 1196,
        "start_time": "2021-11-12T16:13:00.723Z"
      },
      {
        "duration": 10,
        "start_time": "2021-11-12T16:13:01.922Z"
      },
      {
        "duration": 7,
        "start_time": "2021-11-12T16:13:01.934Z"
      },
      {
        "duration": 11,
        "start_time": "2021-11-12T16:13:01.943Z"
      },
      {
        "duration": 16,
        "start_time": "2021-11-12T16:13:01.955Z"
      },
      {
        "duration": 22,
        "start_time": "2021-11-12T16:13:01.973Z"
      },
      {
        "duration": 19,
        "start_time": "2021-11-12T16:13:01.997Z"
      },
      {
        "duration": 16,
        "start_time": "2021-11-12T16:13:02.018Z"
      },
      {
        "duration": 16,
        "start_time": "2021-11-12T16:13:02.037Z"
      },
      {
        "duration": 26,
        "start_time": "2021-11-12T16:13:02.055Z"
      },
      {
        "duration": 16,
        "start_time": "2021-11-12T16:13:02.082Z"
      },
      {
        "duration": 20,
        "start_time": "2021-11-12T16:13:02.100Z"
      },
      {
        "duration": 12,
        "start_time": "2021-11-12T16:13:02.122Z"
      },
      {
        "duration": 7,
        "start_time": "2021-11-12T16:13:02.136Z"
      },
      {
        "duration": 9,
        "start_time": "2021-11-12T16:13:02.144Z"
      },
      {
        "duration": 10,
        "start_time": "2021-11-12T16:13:02.154Z"
      },
      {
        "duration": 6,
        "start_time": "2021-11-12T16:13:02.166Z"
      },
      {
        "duration": 20,
        "start_time": "2021-11-12T16:13:02.174Z"
      },
      {
        "duration": 5,
        "start_time": "2021-11-12T16:13:02.195Z"
      },
      {
        "duration": 10,
        "start_time": "2021-11-12T16:13:02.202Z"
      },
      {
        "duration": 23,
        "start_time": "2021-11-12T16:13:02.214Z"
      },
      {
        "duration": 55,
        "start_time": "2021-11-12T16:13:02.239Z"
      },
      {
        "duration": 4,
        "start_time": "2021-11-12T16:13:02.297Z"
      },
      {
        "duration": 27,
        "start_time": "2021-11-12T16:13:02.303Z"
      },
      {
        "duration": 35,
        "start_time": "2021-11-12T16:13:02.331Z"
      },
      {
        "duration": 57,
        "start_time": "2021-11-12T16:13:02.367Z"
      },
      {
        "duration": 2495,
        "start_time": "2021-11-12T16:13:02.426Z"
      },
      {
        "duration": 2782,
        "start_time": "2021-11-12T16:13:04.923Z"
      },
      {
        "duration": 34,
        "start_time": "2021-11-12T16:13:07.707Z"
      },
      {
        "duration": 12,
        "start_time": "2021-11-12T16:13:07.743Z"
      },
      {
        "duration": 13,
        "start_time": "2021-11-12T16:13:07.756Z"
      },
      {
        "duration": 21,
        "start_time": "2021-11-12T16:13:07.770Z"
      },
      {
        "duration": 24,
        "start_time": "2021-11-12T16:13:07.793Z"
      },
      {
        "duration": 423,
        "start_time": "2021-11-12T16:13:07.819Z"
      },
      {
        "duration": 19,
        "start_time": "2021-11-12T16:13:08.244Z"
      },
      {
        "duration": 28,
        "start_time": "2021-11-12T16:13:08.264Z"
      },
      {
        "duration": 16,
        "start_time": "2021-11-12T16:13:08.294Z"
      },
      {
        "duration": 1214,
        "start_time": "2021-11-12T16:13:32.792Z"
      },
      {
        "duration": 10,
        "start_time": "2021-11-12T16:13:34.007Z"
      },
      {
        "duration": 6,
        "start_time": "2021-11-12T16:13:34.019Z"
      },
      {
        "duration": 6,
        "start_time": "2021-11-12T16:13:34.027Z"
      },
      {
        "duration": 14,
        "start_time": "2021-11-12T16:13:34.035Z"
      },
      {
        "duration": 5,
        "start_time": "2021-11-12T16:13:34.050Z"
      },
      {
        "duration": 43,
        "start_time": "2021-11-12T16:13:34.056Z"
      },
      {
        "duration": 5,
        "start_time": "2021-11-12T16:13:34.101Z"
      },
      {
        "duration": 13,
        "start_time": "2021-11-12T16:13:34.108Z"
      },
      {
        "duration": 13,
        "start_time": "2021-11-12T16:13:34.122Z"
      },
      {
        "duration": 4,
        "start_time": "2021-11-12T16:13:34.137Z"
      },
      {
        "duration": 49,
        "start_time": "2021-11-12T16:13:34.143Z"
      },
      {
        "duration": 9,
        "start_time": "2021-11-12T16:13:34.193Z"
      },
      {
        "duration": 7,
        "start_time": "2021-11-12T16:13:34.204Z"
      },
      {
        "duration": 5,
        "start_time": "2021-11-12T16:13:34.213Z"
      },
      {
        "duration": 4,
        "start_time": "2021-11-12T16:13:34.220Z"
      },
      {
        "duration": 6,
        "start_time": "2021-11-12T16:13:34.225Z"
      },
      {
        "duration": 17,
        "start_time": "2021-11-12T16:13:34.233Z"
      },
      {
        "duration": 5,
        "start_time": "2021-11-12T16:13:34.252Z"
      },
      {
        "duration": 8,
        "start_time": "2021-11-12T16:13:34.259Z"
      },
      {
        "duration": 15,
        "start_time": "2021-11-12T16:13:34.291Z"
      },
      {
        "duration": 44,
        "start_time": "2021-11-12T16:13:34.308Z"
      },
      {
        "duration": 4,
        "start_time": "2021-11-12T16:13:34.355Z"
      },
      {
        "duration": 37,
        "start_time": "2021-11-12T16:13:34.361Z"
      },
      {
        "duration": 31,
        "start_time": "2021-11-12T16:13:34.399Z"
      },
      {
        "duration": 43,
        "start_time": "2021-11-12T16:13:34.432Z"
      },
      {
        "duration": 2472,
        "start_time": "2021-11-12T16:13:34.492Z"
      },
      {
        "duration": 2799,
        "start_time": "2021-11-12T16:13:36.966Z"
      },
      {
        "duration": 41,
        "start_time": "2021-11-12T16:13:39.767Z"
      },
      {
        "duration": 51,
        "start_time": "2021-11-12T16:13:39.809Z"
      },
      {
        "duration": 7,
        "start_time": "2021-11-12T16:13:39.862Z"
      },
      {
        "duration": 27,
        "start_time": "2021-11-12T16:13:39.870Z"
      },
      {
        "duration": 14,
        "start_time": "2021-11-12T16:13:39.898Z"
      },
      {
        "duration": 21,
        "start_time": "2021-11-12T16:13:39.914Z"
      },
      {
        "duration": 455,
        "start_time": "2021-11-12T16:13:39.936Z"
      },
      {
        "duration": 17,
        "start_time": "2021-11-12T16:13:40.392Z"
      },
      {
        "duration": 12,
        "start_time": "2021-11-12T16:13:40.411Z"
      },
      {
        "duration": 16,
        "start_time": "2021-11-12T16:13:40.424Z"
      },
      {
        "duration": 1217,
        "start_time": "2021-11-12T16:21:37.596Z"
      },
      {
        "duration": 10,
        "start_time": "2021-11-12T16:21:38.815Z"
      },
      {
        "duration": 6,
        "start_time": "2021-11-12T16:21:38.827Z"
      },
      {
        "duration": 7,
        "start_time": "2021-11-12T16:21:38.835Z"
      },
      {
        "duration": 15,
        "start_time": "2021-11-12T16:21:38.844Z"
      },
      {
        "duration": 34,
        "start_time": "2021-11-12T16:21:38.860Z"
      },
      {
        "duration": 14,
        "start_time": "2021-11-12T16:21:38.896Z"
      },
      {
        "duration": 6,
        "start_time": "2021-11-12T16:21:38.913Z"
      },
      {
        "duration": 14,
        "start_time": "2021-11-12T16:21:38.921Z"
      },
      {
        "duration": 16,
        "start_time": "2021-11-12T16:21:38.937Z"
      },
      {
        "duration": 5,
        "start_time": "2021-11-12T16:21:38.955Z"
      },
      {
        "duration": 18,
        "start_time": "2021-11-12T16:21:38.992Z"
      },
      {
        "duration": 8,
        "start_time": "2021-11-12T16:21:39.012Z"
      },
      {
        "duration": 6,
        "start_time": "2021-11-12T16:21:39.022Z"
      },
      {
        "duration": 6,
        "start_time": "2021-11-12T16:21:39.030Z"
      },
      {
        "duration": 6,
        "start_time": "2021-11-12T16:21:39.037Z"
      },
      {
        "duration": 5,
        "start_time": "2021-11-12T16:21:39.044Z"
      },
      {
        "duration": 42,
        "start_time": "2021-11-12T16:21:39.051Z"
      },
      {
        "duration": 5,
        "start_time": "2021-11-12T16:21:39.095Z"
      },
      {
        "duration": 8,
        "start_time": "2021-11-12T16:21:39.102Z"
      },
      {
        "duration": 15,
        "start_time": "2021-11-12T16:21:39.111Z"
      },
      {
        "duration": 66,
        "start_time": "2021-11-12T16:21:39.128Z"
      },
      {
        "duration": 4,
        "start_time": "2021-11-12T16:21:39.198Z"
      },
      {
        "duration": 17,
        "start_time": "2021-11-12T16:21:39.204Z"
      },
      {
        "duration": 44,
        "start_time": "2021-11-12T16:21:39.223Z"
      },
      {
        "duration": 58,
        "start_time": "2021-11-12T16:21:39.269Z"
      },
      {
        "duration": 2558,
        "start_time": "2021-11-12T16:21:39.329Z"
      },
      {
        "duration": 3178,
        "start_time": "2021-11-12T16:21:41.891Z"
      },
      {
        "duration": 41,
        "start_time": "2021-11-12T16:21:45.071Z"
      },
      {
        "duration": 17,
        "start_time": "2021-11-12T16:21:45.113Z"
      },
      {
        "duration": 19,
        "start_time": "2021-11-12T16:21:45.132Z"
      },
      {
        "duration": 18,
        "start_time": "2021-11-12T16:21:45.153Z"
      },
      {
        "duration": 31,
        "start_time": "2021-11-12T16:21:45.172Z"
      },
      {
        "duration": 426,
        "start_time": "2021-11-12T16:21:45.205Z"
      },
      {
        "duration": 19,
        "start_time": "2021-11-12T16:21:45.633Z"
      },
      {
        "duration": 13,
        "start_time": "2021-11-12T16:21:45.654Z"
      },
      {
        "duration": 33,
        "start_time": "2021-11-12T16:21:45.669Z"
      },
      {
        "duration": 1243,
        "start_time": "2021-11-12T16:23:01.978Z"
      },
      {
        "duration": 10,
        "start_time": "2021-11-12T16:23:03.223Z"
      },
      {
        "duration": 5,
        "start_time": "2021-11-12T16:23:03.235Z"
      },
      {
        "duration": 8,
        "start_time": "2021-11-12T16:23:03.242Z"
      },
      {
        "duration": 14,
        "start_time": "2021-11-12T16:23:03.251Z"
      },
      {
        "duration": 6,
        "start_time": "2021-11-12T16:23:03.292Z"
      },
      {
        "duration": 16,
        "start_time": "2021-11-12T16:23:03.299Z"
      },
      {
        "duration": 20,
        "start_time": "2021-11-12T16:23:03.317Z"
      },
      {
        "duration": 18,
        "start_time": "2021-11-12T16:23:03.339Z"
      },
      {
        "duration": 41,
        "start_time": "2021-11-12T16:23:03.358Z"
      },
      {
        "duration": 10,
        "start_time": "2021-11-12T16:23:03.400Z"
      },
      {
        "duration": 22,
        "start_time": "2021-11-12T16:23:03.411Z"
      },
      {
        "duration": 18,
        "start_time": "2021-11-12T16:23:03.435Z"
      },
      {
        "duration": 6,
        "start_time": "2021-11-12T16:23:03.455Z"
      },
      {
        "duration": 8,
        "start_time": "2021-11-12T16:23:03.463Z"
      },
      {
        "duration": 21,
        "start_time": "2021-11-12T16:23:03.472Z"
      },
      {
        "duration": 9,
        "start_time": "2021-11-12T16:23:03.495Z"
      },
      {
        "duration": 17,
        "start_time": "2021-11-12T16:23:03.506Z"
      },
      {
        "duration": 7,
        "start_time": "2021-11-12T16:23:03.525Z"
      },
      {
        "duration": 8,
        "start_time": "2021-11-12T16:23:03.533Z"
      },
      {
        "duration": 22,
        "start_time": "2021-11-12T16:23:03.542Z"
      },
      {
        "duration": 82,
        "start_time": "2021-11-12T16:23:03.566Z"
      },
      {
        "duration": 4,
        "start_time": "2021-11-12T16:23:03.652Z"
      },
      {
        "duration": 17,
        "start_time": "2021-11-12T16:23:03.658Z"
      },
      {
        "duration": 37,
        "start_time": "2021-11-12T16:23:03.677Z"
      },
      {
        "duration": 44,
        "start_time": "2021-11-12T16:23:03.716Z"
      },
      {
        "duration": 2572,
        "start_time": "2021-11-12T16:23:03.762Z"
      },
      {
        "duration": 3138,
        "start_time": "2021-11-12T16:23:06.336Z"
      },
      {
        "duration": 48,
        "start_time": "2021-11-12T16:23:09.476Z"
      },
      {
        "duration": 25,
        "start_time": "2021-11-12T16:23:09.527Z"
      },
      {
        "duration": 20,
        "start_time": "2021-11-12T16:23:09.554Z"
      },
      {
        "duration": 33,
        "start_time": "2021-11-12T16:23:09.577Z"
      },
      {
        "duration": 42,
        "start_time": "2021-11-12T16:23:09.613Z"
      },
      {
        "duration": 434,
        "start_time": "2021-11-12T16:23:09.657Z"
      },
      {
        "duration": 19,
        "start_time": "2021-11-12T16:23:10.094Z"
      },
      {
        "duration": 24,
        "start_time": "2021-11-12T16:23:10.115Z"
      },
      {
        "duration": 36,
        "start_time": "2021-11-12T16:23:10.141Z"
      },
      {
        "duration": 1197,
        "start_time": "2021-11-13T00:26:07.983Z"
      },
      {
        "duration": 11,
        "start_time": "2021-11-13T00:26:09.182Z"
      },
      {
        "duration": 5,
        "start_time": "2021-11-13T00:26:09.195Z"
      },
      {
        "duration": 6,
        "start_time": "2021-11-13T00:26:09.202Z"
      },
      {
        "duration": 36,
        "start_time": "2021-11-13T00:26:09.209Z"
      },
      {
        "duration": 6,
        "start_time": "2021-11-13T00:26:09.247Z"
      },
      {
        "duration": 16,
        "start_time": "2021-11-13T00:26:09.254Z"
      },
      {
        "duration": 5,
        "start_time": "2021-11-13T00:26:09.273Z"
      },
      {
        "duration": 14,
        "start_time": "2021-11-13T00:26:09.280Z"
      },
      {
        "duration": 51,
        "start_time": "2021-11-13T00:26:09.296Z"
      },
      {
        "duration": 6,
        "start_time": "2021-11-13T00:26:09.349Z"
      },
      {
        "duration": 18,
        "start_time": "2021-11-13T00:26:09.357Z"
      },
      {
        "duration": 10,
        "start_time": "2021-11-13T00:26:09.377Z"
      },
      {
        "duration": 5,
        "start_time": "2021-11-13T00:26:09.389Z"
      },
      {
        "duration": 6,
        "start_time": "2021-11-13T00:26:09.396Z"
      },
      {
        "duration": 43,
        "start_time": "2021-11-13T00:26:09.403Z"
      },
      {
        "duration": 4,
        "start_time": "2021-11-13T00:26:09.448Z"
      },
      {
        "duration": 10,
        "start_time": "2021-11-13T00:26:09.454Z"
      },
      {
        "duration": 7,
        "start_time": "2021-11-13T00:26:09.466Z"
      },
      {
        "duration": 7,
        "start_time": "2021-11-13T00:26:09.475Z"
      },
      {
        "duration": 21,
        "start_time": "2021-11-13T00:26:09.484Z"
      },
      {
        "duration": 89,
        "start_time": "2021-11-13T00:26:09.507Z"
      },
      {
        "duration": 5,
        "start_time": "2021-11-13T00:26:09.599Z"
      },
      {
        "duration": 19,
        "start_time": "2021-11-13T00:26:09.605Z"
      },
      {
        "duration": 48,
        "start_time": "2021-11-13T00:26:09.626Z"
      },
      {
        "duration": 44,
        "start_time": "2021-11-13T00:26:09.676Z"
      },
      {
        "duration": 2405,
        "start_time": "2021-11-13T00:26:09.721Z"
      },
      {
        "duration": 2774,
        "start_time": "2021-11-13T00:26:12.128Z"
      },
      {
        "duration": 45,
        "start_time": "2021-11-13T00:26:14.904Z"
      },
      {
        "duration": 7,
        "start_time": "2021-11-13T00:26:14.951Z"
      },
      {
        "duration": 12,
        "start_time": "2021-11-13T00:26:14.959Z"
      },
      {
        "duration": 9,
        "start_time": "2021-11-13T00:26:14.973Z"
      },
      {
        "duration": 32,
        "start_time": "2021-11-13T00:26:14.983Z"
      },
      {
        "duration": 2295,
        "start_time": "2021-11-13T00:26:15.017Z"
      },
      {
        "duration": 17,
        "start_time": "2021-11-13T00:26:17.314Z"
      },
      {
        "duration": 16,
        "start_time": "2021-11-13T00:26:17.333Z"
      },
      {
        "duration": 16,
        "start_time": "2021-11-13T00:26:17.350Z"
      },
      {
        "duration": 132,
        "start_time": "2021-11-13T00:30:02.881Z"
      },
      {
        "duration": 57,
        "start_time": "2021-11-13T00:32:00.288Z"
      }
    ],
    "colab": {
      "name": "e3abef98-ad76-487c-bc5c-ea7abab266d2.ipynb",
      "provenance": [],
      "toc_visible": true
    },
    "kernelspec": {
      "display_name": "Python 3 (ipykernel)",
      "language": "python",
      "name": "python3"
    },
    "language_info": {
      "codemirror_mode": {
        "name": "ipython",
        "version": 3
      },
      "file_extension": ".py",
      "mimetype": "text/x-python",
      "name": "python",
      "nbconvert_exporter": "python",
      "pygments_lexer": "ipython3",
      "version": "3.9.5"
    },
    "toc": {
      "base_numbering": 1,
      "nav_menu": {},
      "number_sections": true,
      "sideBar": true,
      "skip_h1_title": true,
      "title_cell": "Table of Contents",
      "title_sidebar": "Contents",
      "toc_cell": false,
      "toc_position": {},
      "toc_section_display": true,
      "toc_window_display": false
    }
  },
  "nbformat": 4,
  "nbformat_minor": 0
}
