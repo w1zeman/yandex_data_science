{
  "cells": [
    {
      "cell_type": "markdown",
      "metadata": {
        "id": "cq4tDtbZWSqP"
      },
      "source": [
        "# Выбор локации для скважины"
      ]
    },
    {
      "cell_type": "markdown",
      "metadata": {
        "id": "gmG4kK6JWSqP"
      },
      "source": [
        "Допустим, вы работаете в добывающей компании «ГлавРосГосНефть». Нужно решить, где бурить новую скважину.\n",
        "\n",
        "Вам предоставлены пробы нефти в трёх регионах: в каждом 10 000 месторождений, где измерили качество нефти и объём её запасов. Постройте модель машинного обучения, которая поможет определить регион, где добыча принесёт наибольшую прибыль. Проанализируйте возможную прибыль и риски техникой *Bootstrap.*\n",
        "\n",
        "Шаги для выбора локации:\n",
        "\n",
        "- В избранном регионе ищут месторождения, для каждого определяют значения признаков;\n",
        "- Строят модель и оценивают объём запасов;\n",
        "- Выбирают месторождения с самым высокими оценками значений. Количество месторождений зависит от бюджета компании и стоимости разработки одной скважины;\n",
        "- Прибыль равна суммарной прибыли отобранных месторождений."
      ]
    },
    {
      "cell_type": "markdown",
      "metadata": {
        "id": "yZFS9VXeWSqQ"
      },
      "source": [
        "## Загрузка и подготовка данных"
      ]
    },
    {
      "cell_type": "raw",
      "metadata": {
        "id": "ZjM5NZPOWSqQ"
      },
      "source": [
        "комментарий для ревьювера, сначала я пишу ячейку с кодом потом ячейку маркдаун с комментарием к коду, как в гугл колабе. \n",
        "\n",
        "Но также шаги которые я буду делать я пишу в маркдаун ячейках выше кода."
      ]
    },
    {
      "cell_type": "markdown",
      "metadata": {
        "id": "9_4X0sDuWSqR"
      },
      "source": [
        "### Описание данных\n",
        "\n",
        "Данные геологоразведки трёх регионов находятся в файлах:\n",
        "* /datasets/geo_data_0.csv. Скачать датасет\n",
        "* /datasets/geo_data_1.csv. Скачать датасет\n",
        "* /datasets/geo_data_2.csv. Скачать датасет\n",
        "* id — уникальный идентификатор скважины;\n",
        "* f0, f1, f2 — три признака точек (неважно, что они означают, но сами признаки значимы);\n",
        "* product — объём запасов в скважине (тыс. баррелей)."
      ]
    },
    {
      "cell_type": "code",
      "execution_count": null,
      "metadata": {
        "id": "65ioMuBpWSqR"
      },
      "outputs": [],
      "source": [
        "import matplotlib.pyplot as plt\n",
        "import numpy as np\n",
        "import pandas as pd\n",
        "from sklearn.model_selection import train_test_split\n",
        "from sklearn.linear_model import LinearRegression\n",
        "from sklearn.metrics import mean_squared_error\n",
        "from sklearn.preprocessing import StandardScaler\n",
        "from sklearn.utils import shuffle\n",
        "import warnings\n",
        "warnings.filterwarnings('ignore')"
      ]
    },
    {
      "cell_type": "markdown",
      "metadata": {
        "id": "rBkdyKzCWSqT"
      },
      "source": [
        "Подключение библиотек"
      ]
    },
    {
      "cell_type": "code",
      "execution_count": null,
      "metadata": {
        "id": "2RY1_npaWSqT",
        "outputId": "dfafce50-b649-4381-bcdc-19f82cb2ac5e"
      },
      "outputs": [
        {
          "name": "stdout",
          "output_type": "stream",
          "text": [
            "<class 'pandas.core.frame.DataFrame'>\n",
            "RangeIndex: 100000 entries, 0 to 99999\n",
            "Data columns (total 5 columns):\n",
            " #   Column   Non-Null Count   Dtype  \n",
            "---  ------   --------------   -----  \n",
            " 0   id       100000 non-null  object \n",
            " 1   f0       100000 non-null  float64\n",
            " 2   f1       100000 non-null  float64\n",
            " 3   f2       100000 non-null  float64\n",
            " 4   product  100000 non-null  float64\n",
            "dtypes: float64(4), object(1)\n",
            "memory usage: 3.8+ MB\n"
          ]
        }
      ],
      "source": [
        "geo_data_0 = pd.read_csv('/datasets/geo_data_0.csv')\n",
        "geo_data_0.info()"
      ]
    },
    {
      "cell_type": "code",
      "execution_count": null,
      "metadata": {
        "id": "JtA0SGjbWSqU",
        "outputId": "d3ab3a33-59dd-41a2-a2fd-dccfe664f5c1"
      },
      "outputs": [
        {
          "name": "stdout",
          "output_type": "stream",
          "text": [
            "<class 'pandas.core.frame.DataFrame'>\n",
            "RangeIndex: 100000 entries, 0 to 99999\n",
            "Data columns (total 5 columns):\n",
            " #   Column   Non-Null Count   Dtype  \n",
            "---  ------   --------------   -----  \n",
            " 0   id       100000 non-null  object \n",
            " 1   f0       100000 non-null  float64\n",
            " 2   f1       100000 non-null  float64\n",
            " 3   f2       100000 non-null  float64\n",
            " 4   product  100000 non-null  float64\n",
            "dtypes: float64(4), object(1)\n",
            "memory usage: 3.8+ MB\n"
          ]
        }
      ],
      "source": [
        "geo_data_1 = pd.read_csv('/datasets/geo_data_1.csv')\n",
        "geo_data_1.info()"
      ]
    },
    {
      "cell_type": "code",
      "execution_count": null,
      "metadata": {
        "id": "uK7H_eXCWSqU",
        "outputId": "f0e7dcb4-9b31-4532-cce2-6c350e4a876c"
      },
      "outputs": [
        {
          "name": "stdout",
          "output_type": "stream",
          "text": [
            "<class 'pandas.core.frame.DataFrame'>\n",
            "RangeIndex: 100000 entries, 0 to 99999\n",
            "Data columns (total 5 columns):\n",
            " #   Column   Non-Null Count   Dtype  \n",
            "---  ------   --------------   -----  \n",
            " 0   id       100000 non-null  object \n",
            " 1   f0       100000 non-null  float64\n",
            " 2   f1       100000 non-null  float64\n",
            " 3   f2       100000 non-null  float64\n",
            " 4   product  100000 non-null  float64\n",
            "dtypes: float64(4), object(1)\n",
            "memory usage: 3.8+ MB\n"
          ]
        }
      ],
      "source": [
        "geo_data_2 = pd.read_csv('/datasets/geo_data_2.csv')\n",
        "geo_data_2.info()"
      ]
    },
    {
      "cell_type": "markdown",
      "metadata": {
        "id": "1H34ccYbWSqV"
      },
      "source": [
        "Загрузка данных каждого региона в отдельные датафреймы."
      ]
    },
    {
      "cell_type": "code",
      "execution_count": null,
      "metadata": {
        "id": "Sy3EyTXDWSqV"
      },
      "outputs": [],
      "source": [
        "def check_columns(data_frame):\n",
        "    for column in data_frame.columns:\n",
        "        print('Уникальные значения столбца', column)\n",
        "        print(data_frame[column].unique())"
      ]
    },
    {
      "cell_type": "markdown",
      "metadata": {
        "id": "8ZcCvVZ_WSqV"
      },
      "source": [
        "функция для проверки значений датафрейма"
      ]
    },
    {
      "cell_type": "code",
      "execution_count": null,
      "metadata": {
        "id": "IWHosbCOWSqW",
        "outputId": "f9ce9b20-2cf4-4020-e87d-0c5924384052"
      },
      "outputs": [
        {
          "name": "stdout",
          "output_type": "stream",
          "text": [
            "Уникальные значения столбца id\n",
            "['txEyH' '2acmU' '409Wp' ... '3rnvd' '7kl59' '1CWhH']\n",
            "Уникальные значения столбца f0\n",
            "[0.70574498 1.33471129 1.02273226 ... 1.02958465 0.99816289 1.76475393]\n",
            "Уникальные значения столбца f1\n",
            "[-0.4978225  -0.34016425  0.15199044 ...  0.01878693 -0.52858167\n",
            " -0.26641676]\n",
            "Уникальные значения столбца f2\n",
            "[ 1.22116995  4.36508033  1.41992624 ... -1.34830814  1.58386866\n",
            "  5.72284937]\n",
            "Уникальные значения столбца product\n",
            "[105.28006184  73.03775027  85.26564713 ...  64.37544259  74.04076435\n",
            " 149.63324561]\n"
          ]
        }
      ],
      "source": [
        "check_columns(geo_data_0)"
      ]
    },
    {
      "cell_type": "code",
      "execution_count": null,
      "metadata": {
        "id": "-dUljxPXWSqW",
        "outputId": "9a0c0e7f-3b62-4d00-b9bf-049f23fc2ae4"
      },
      "outputs": [
        {
          "name": "stdout",
          "output_type": "stream",
          "text": [
            "Уникальные значения столбца id\n",
            "['kBEdx' '62mP7' 'vyE1P' ... '09gWa' 'rqwUm' 'relB0']\n",
            "Уникальные значения столбца f0\n",
            "[-15.00134818  14.27208781   6.26318735 ...  -7.37889139   0.66571381\n",
            "  -3.42613898]\n",
            "Уникальные значения столбца f1\n",
            "[-8.27599995 -3.47508322 -5.94838579 ... -3.08410387 -6.15259286\n",
            " -7.7942742 ]\n",
            "Уникальные значения столбца f2\n",
            "[-5.87601369e-03  9.99182737e-01  5.00116016e+00 ...  4.99865060e+00\n",
            "  1.00014635e+00 -3.29851829e-03]\n",
            "Уникальные значения столбца product\n",
            "[  3.17910258  26.95326103 134.76630516 137.94540774  84.03888568\n",
            " 110.99214671  53.90652206   0.         107.81304413  57.08562465\n",
            "  30.13236361  80.85978309]\n"
          ]
        }
      ],
      "source": [
        "check_columns(geo_data_1)"
      ]
    },
    {
      "cell_type": "code",
      "execution_count": null,
      "metadata": {
        "id": "evLGx_0iWSqW",
        "outputId": "3e70feda-9eef-40e6-cb56-b066751bdc68"
      },
      "outputs": [
        {
          "name": "stdout",
          "output_type": "stream",
          "text": [
            "Уникальные значения столбца id\n",
            "['fwXo0' 'WJtFt' 'ovLUW' ... 'tKPY3' 'nmxp2' 'V9kWn']\n",
            "Уникальные значения столбца f0\n",
            "[-1.1469871   0.2627779   0.19458728 ... -1.19993432 -2.41989641\n",
            " -2.55142066]\n",
            "Уникальные значения столбца f1\n",
            "[ 0.96332792  0.26983896  0.289035   ... -2.95763723  2.41722066\n",
            " -2.02562514]\n",
            "Уникальные значения столбца f2\n",
            "[-0.82896492 -2.53018652 -5.58643277 ...  5.219411   -5.54844392\n",
            "  6.09089066]\n",
            "Уникальные значения столбца product\n",
            "[ 27.75867323  56.06969663  62.87191005 ... 157.08007975  51.79525299\n",
            " 102.77576749]\n"
          ]
        }
      ],
      "source": [
        "check_columns(geo_data_2)"
      ]
    },
    {
      "cell_type": "markdown",
      "metadata": {
        "id": "8rT4bfL9WSqW"
      },
      "source": [
        "В данных отсутсвуют пропуски."
      ]
    },
    {
      "cell_type": "code",
      "execution_count": null,
      "metadata": {
        "id": "n3EhSYVrWSqX"
      },
      "outputs": [],
      "source": [
        "geo_data_0 = geo_data_0.drop(['id'], axis=1)\n",
        "geo_data_1 = geo_data_1.drop(['id'], axis=1)\n",
        "geo_data_2 = geo_data_2.drop(['id'], axis=1)"
      ]
    },
    {
      "cell_type": "markdown",
      "metadata": {
        "id": "E1YMPgvZWSqX"
      },
      "source": [
        "Удалили из каждого датафрейма признак id. Он не имеет значимости при обучении модели."
      ]
    },
    {
      "cell_type": "code",
      "execution_count": null,
      "metadata": {
        "id": "kVXaYSVVWSqX"
      },
      "outputs": [],
      "source": [
        "def check_zeros(df, target_name):\n",
        "    zeros = df[df[target_name] == 0][target_name].count()\n",
        "    percent = zeros / df.shape[0]\n",
        "    print('Количество нулевых значений -', zeros)\n",
        "    print('Процент нулевых значений -', percent)"
      ]
    },
    {
      "cell_type": "markdown",
      "metadata": {
        "id": "6Qd2yGGRWSqY"
      },
      "source": [
        "Функция для проверки значений датафрейма"
      ]
    },
    {
      "cell_type": "code",
      "execution_count": null,
      "metadata": {
        "id": "VRkC8Ur_WSqY",
        "outputId": "575f0d21-f700-45dd-ff1e-41c7a985b26d"
      },
      "outputs": [
        {
          "name": "stdout",
          "output_type": "stream",
          "text": [
            "Количество нулевых значений - 1\n",
            "Процент нулевых значений - 1e-05\n"
          ]
        }
      ],
      "source": [
        "check_zeros(geo_data_0, 'product')"
      ]
    },
    {
      "cell_type": "code",
      "execution_count": null,
      "metadata": {
        "scrolled": true,
        "id": "GF0GRh0BWSqY",
        "outputId": "89db9783-31cb-44d2-8ea5-971566f7062d"
      },
      "outputs": [
        {
          "name": "stdout",
          "output_type": "stream",
          "text": [
            "Количество нулевых значений - 8235\n",
            "Процент нулевых значений - 0.08235\n"
          ]
        }
      ],
      "source": [
        "check_zeros(geo_data_1, 'product')"
      ]
    },
    {
      "cell_type": "code",
      "execution_count": null,
      "metadata": {
        "scrolled": true,
        "id": "hxgDmHKLWSqY",
        "outputId": "d5887008-36a3-49ec-8648-43e31cade379"
      },
      "outputs": [
        {
          "name": "stdout",
          "output_type": "stream",
          "text": [
            "Количество нулевых значений - 1\n",
            "Процент нулевых значений - 1e-05\n"
          ]
        }
      ],
      "source": [
        "check_zeros(geo_data_2, 'product')"
      ]
    },
    {
      "cell_type": "code",
      "execution_count": null,
      "metadata": {
        "scrolled": true,
        "id": "4nhXYviHWSqZ",
        "outputId": "7c924cb2-11a8-4516-ca91-97f2a9ef40c9"
      },
      "outputs": [
        {
          "data": {
            "text/html": [
              "<div>\n",
              "<style scoped>\n",
              "    .dataframe tbody tr th:only-of-type {\n",
              "        vertical-align: middle;\n",
              "    }\n",
              "\n",
              "    .dataframe tbody tr th {\n",
              "        vertical-align: top;\n",
              "    }\n",
              "\n",
              "    .dataframe thead th {\n",
              "        text-align: right;\n",
              "    }\n",
              "</style>\n",
              "<table border=\"1\" class=\"dataframe\">\n",
              "  <thead>\n",
              "    <tr style=\"text-align: right;\">\n",
              "      <th></th>\n",
              "      <th>f0</th>\n",
              "      <th>f1</th>\n",
              "      <th>f2</th>\n",
              "      <th>product</th>\n",
              "    </tr>\n",
              "  </thead>\n",
              "  <tbody>\n",
              "    <tr>\n",
              "      <th>57263</th>\n",
              "      <td>-0.702064</td>\n",
              "      <td>0.375992</td>\n",
              "      <td>0.236572</td>\n",
              "      <td>0.0</td>\n",
              "    </tr>\n",
              "  </tbody>\n",
              "</table>\n",
              "</div>"
            ],
            "text/plain": [
              "             f0        f1        f2  product\n",
              "57263 -0.702064  0.375992  0.236572      0.0"
            ]
          },
          "execution_count": 14,
          "metadata": {},
          "output_type": "execute_result"
        }
      ],
      "source": [
        "geo_data_0[geo_data_0['product'] == 0]"
      ]
    },
    {
      "cell_type": "code",
      "execution_count": null,
      "metadata": {
        "scrolled": true,
        "id": "1tpqPCesWSqZ",
        "outputId": "656646a6-1315-490b-fb7b-0aa455361c13"
      },
      "outputs": [
        {
          "data": {
            "text/html": [
              "<div>\n",
              "<style scoped>\n",
              "    .dataframe tbody tr th:only-of-type {\n",
              "        vertical-align: middle;\n",
              "    }\n",
              "\n",
              "    .dataframe tbody tr th {\n",
              "        vertical-align: top;\n",
              "    }\n",
              "\n",
              "    .dataframe thead th {\n",
              "        text-align: right;\n",
              "    }\n",
              "</style>\n",
              "<table border=\"1\" class=\"dataframe\">\n",
              "  <thead>\n",
              "    <tr style=\"text-align: right;\">\n",
              "      <th></th>\n",
              "      <th>f0</th>\n",
              "      <th>f1</th>\n",
              "      <th>f2</th>\n",
              "      <th>product</th>\n",
              "    </tr>\n",
              "  </thead>\n",
              "  <tbody>\n",
              "    <tr>\n",
              "      <th>11</th>\n",
              "      <td>16.320755</td>\n",
              "      <td>-0.562946</td>\n",
              "      <td>-0.001783</td>\n",
              "      <td>0.0</td>\n",
              "    </tr>\n",
              "    <tr>\n",
              "      <th>13</th>\n",
              "      <td>6.695604</td>\n",
              "      <td>-0.749449</td>\n",
              "      <td>-0.007630</td>\n",
              "      <td>0.0</td>\n",
              "    </tr>\n",
              "    <tr>\n",
              "      <th>62</th>\n",
              "      <td>21.418478</td>\n",
              "      <td>-5.134490</td>\n",
              "      <td>-0.002836</td>\n",
              "      <td>0.0</td>\n",
              "    </tr>\n",
              "    <tr>\n",
              "      <th>63</th>\n",
              "      <td>6.822701</td>\n",
              "      <td>3.104979</td>\n",
              "      <td>-0.000723</td>\n",
              "      <td>0.0</td>\n",
              "    </tr>\n",
              "    <tr>\n",
              "      <th>77</th>\n",
              "      <td>6.750150</td>\n",
              "      <td>-11.893512</td>\n",
              "      <td>-0.001601</td>\n",
              "      <td>0.0</td>\n",
              "    </tr>\n",
              "    <tr>\n",
              "      <th>...</th>\n",
              "      <td>...</td>\n",
              "      <td>...</td>\n",
              "      <td>...</td>\n",
              "      <td>...</td>\n",
              "    </tr>\n",
              "    <tr>\n",
              "      <th>99936</th>\n",
              "      <td>5.085749</td>\n",
              "      <td>-3.980305</td>\n",
              "      <td>0.005063</td>\n",
              "      <td>0.0</td>\n",
              "    </tr>\n",
              "    <tr>\n",
              "      <th>99948</th>\n",
              "      <td>8.277805</td>\n",
              "      <td>-9.178818</td>\n",
              "      <td>0.003275</td>\n",
              "      <td>0.0</td>\n",
              "    </tr>\n",
              "    <tr>\n",
              "      <th>99956</th>\n",
              "      <td>13.343983</td>\n",
              "      <td>-1.290200</td>\n",
              "      <td>0.005980</td>\n",
              "      <td>0.0</td>\n",
              "    </tr>\n",
              "    <tr>\n",
              "      <th>99961</th>\n",
              "      <td>13.854163</td>\n",
              "      <td>-11.528089</td>\n",
              "      <td>-0.005556</td>\n",
              "      <td>0.0</td>\n",
              "    </tr>\n",
              "    <tr>\n",
              "      <th>99973</th>\n",
              "      <td>12.698645</td>\n",
              "      <td>-4.384673</td>\n",
              "      <td>-0.002600</td>\n",
              "      <td>0.0</td>\n",
              "    </tr>\n",
              "  </tbody>\n",
              "</table>\n",
              "<p>8235 rows × 4 columns</p>\n",
              "</div>"
            ],
            "text/plain": [
              "              f0         f1        f2  product\n",
              "11     16.320755  -0.562946 -0.001783      0.0\n",
              "13      6.695604  -0.749449 -0.007630      0.0\n",
              "62     21.418478  -5.134490 -0.002836      0.0\n",
              "63      6.822701   3.104979 -0.000723      0.0\n",
              "77      6.750150 -11.893512 -0.001601      0.0\n",
              "...          ...        ...       ...      ...\n",
              "99936   5.085749  -3.980305  0.005063      0.0\n",
              "99948   8.277805  -9.178818  0.003275      0.0\n",
              "99956  13.343983  -1.290200  0.005980      0.0\n",
              "99961  13.854163 -11.528089 -0.005556      0.0\n",
              "99973  12.698645  -4.384673 -0.002600      0.0\n",
              "\n",
              "[8235 rows x 4 columns]"
            ]
          },
          "execution_count": 15,
          "metadata": {},
          "output_type": "execute_result"
        }
      ],
      "source": [
        "geo_data_1[geo_data_1['product'] == 0]"
      ]
    },
    {
      "cell_type": "code",
      "execution_count": null,
      "metadata": {
        "id": "wv-lZOHrWSqZ",
        "outputId": "25d272af-4136-4549-b987-9f003fe743b6"
      },
      "outputs": [
        {
          "data": {
            "text/html": [
              "<div>\n",
              "<style scoped>\n",
              "    .dataframe tbody tr th:only-of-type {\n",
              "        vertical-align: middle;\n",
              "    }\n",
              "\n",
              "    .dataframe tbody tr th {\n",
              "        vertical-align: top;\n",
              "    }\n",
              "\n",
              "    .dataframe thead th {\n",
              "        text-align: right;\n",
              "    }\n",
              "</style>\n",
              "<table border=\"1\" class=\"dataframe\">\n",
              "  <thead>\n",
              "    <tr style=\"text-align: right;\">\n",
              "      <th></th>\n",
              "      <th>f0</th>\n",
              "      <th>f1</th>\n",
              "      <th>f2</th>\n",
              "      <th>product</th>\n",
              "    </tr>\n",
              "  </thead>\n",
              "  <tbody>\n",
              "    <tr>\n",
              "      <th>68149</th>\n",
              "      <td>-0.865596</td>\n",
              "      <td>-1.615247</td>\n",
              "      <td>-4.126441</td>\n",
              "      <td>0.0</td>\n",
              "    </tr>\n",
              "  </tbody>\n",
              "</table>\n",
              "</div>"
            ],
            "text/plain": [
              "             f0        f1        f2  product\n",
              "68149 -0.865596 -1.615247 -4.126441      0.0"
            ]
          },
          "execution_count": 16,
          "metadata": {},
          "output_type": "execute_result"
        }
      ],
      "source": [
        "geo_data_2[geo_data_2['product'] == 0]"
      ]
    },
    {
      "cell_type": "markdown",
      "metadata": {
        "id": "HvgUHWShWSqZ"
      },
      "source": [
        "Отображение нулевых значений целевого признака product"
      ]
    },
    {
      "cell_type": "code",
      "execution_count": null,
      "metadata": {
        "id": "o7i4EZ2YWSqZ"
      },
      "outputs": [],
      "source": [
        "def oil_hist(seria, bins, xlim_max, ylim_max):\n",
        "    plt.figure(figsize=[15,10])\n",
        "\n",
        "    plt.hist(seria, bins=bins)\n",
        "\n",
        "    plt.xlim([0,xlim_max])\n",
        "    plt.ylim([0,ylim_max])\n",
        "\n",
        "    plt.xlabel(\"Объем нефти на скважину, тыс. барелей\")\n",
        "    plt.ylabel(\"Количество скважин\")\n",
        "\n",
        "    plt.title(\"Гистограмма распределения по объему скважин\")\n",
        "    plt.show()"
      ]
    },
    {
      "cell_type": "markdown",
      "metadata": {
        "id": "Mx-E8p0_WSqa"
      },
      "source": [
        "Функция для построения гистограммы"
      ]
    },
    {
      "cell_type": "code",
      "execution_count": null,
      "metadata": {
        "scrolled": true,
        "id": "UbeabzMGWSqa",
        "outputId": "1fa60504-531c-4759-e066-152a4a7383ee"
      },
      "outputs": [
        {
          "data": {
            "image/png": "[encoded data removed]",
            "text/plain": [
              "<Figure size 1080x720 with 1 Axes>"
            ]
          },
          "metadata": {
            "needs_background": "light"
          },
          "output_type": "display_data"
        }
      ],
      "source": [
        "oil_hist(geo_data_0['product'], 200, 190, 1000)"
      ]
    },
    {
      "cell_type": "code",
      "execution_count": null,
      "metadata": {
        "scrolled": true,
        "id": "1nuWZqhaWSqa",
        "outputId": "df2d352e-dc26-4343-aa8c-6540bb2194fe"
      },
      "outputs": [
        {
          "data": {
            "image/png": "[encoded data removed]",
            "text/plain": [
              "<Figure size 1080x720 with 1 Axes>"
            ]
          },
          "metadata": {
            "needs_background": "light"
          },
          "output_type": "display_data"
        }
      ],
      "source": [
        "oil_hist(geo_data_1['product'], 200, 190, 1000)"
      ]
    },
    {
      "cell_type": "code",
      "execution_count": null,
      "metadata": {
        "scrolled": true,
        "id": "1ZvmsaQ2WSqb",
        "outputId": "f6b3cd3f-61dc-45bc-a21a-9839f70c5501"
      },
      "outputs": [
        {
          "data": {
            "image/png": "[encoded data removed]",
            "text/plain": [
              "<Figure size 1080x720 with 1 Axes>"
            ]
          },
          "metadata": {
            "needs_background": "light"
          },
          "output_type": "display_data"
        }
      ],
      "source": [
        "oil_hist(geo_data_1['product'], 50, 150, 10000)"
      ]
    },
    {
      "cell_type": "code",
      "execution_count": null,
      "metadata": {
        "scrolled": true,
        "id": "1rlxRA2JWSqb",
        "outputId": "af435d60-d483-41ef-fae5-b62aed692014"
      },
      "outputs": [
        {
          "data": {
            "image/png": "[encoded data removed]",
            "text/plain": [
              "<Figure size 1080x720 with 1 Axes>"
            ]
          },
          "metadata": {
            "needs_background": "light"
          },
          "output_type": "display_data"
        }
      ],
      "source": [
        "oil_hist(geo_data_2['product'], 200, 190, 1000)"
      ]
    },
    {
      "cell_type": "markdown",
      "metadata": {
        "id": "lKZ-YDZUWSqb"
      },
      "source": [
        "Признаки для модели:\n",
        "\n",
        "* f0;\n",
        "* f1;\n",
        "* f2.\n",
        "\n",
        "Целевой признак:\n",
        "\n",
        "* product."
      ]
    },
    {
      "cell_type": "code",
      "execution_count": null,
      "metadata": {
        "scrolled": true,
        "id": "_tM3e_CwWSqb",
        "outputId": "7a5e6a30-26a3-4b18-d6eb-1817deb467c0"
      },
      "outputs": [
        {
          "data": {
            "text/html": [
              "<div>\n",
              "<style scoped>\n",
              "    .dataframe tbody tr th:only-of-type {\n",
              "        vertical-align: middle;\n",
              "    }\n",
              "\n",
              "    .dataframe tbody tr th {\n",
              "        vertical-align: top;\n",
              "    }\n",
              "\n",
              "    .dataframe thead th {\n",
              "        text-align: right;\n",
              "    }\n",
              "</style>\n",
              "<table border=\"1\" class=\"dataframe\">\n",
              "  <thead>\n",
              "    <tr style=\"text-align: right;\">\n",
              "      <th></th>\n",
              "      <th>count</th>\n",
              "      <th>mean</th>\n",
              "      <th>std</th>\n",
              "      <th>min</th>\n",
              "      <th>25%</th>\n",
              "      <th>50%</th>\n",
              "      <th>75%</th>\n",
              "      <th>max</th>\n",
              "    </tr>\n",
              "  </thead>\n",
              "  <tbody>\n",
              "    <tr>\n",
              "      <th>f0</th>\n",
              "      <td>100000.0</td>\n",
              "      <td>0.500419</td>\n",
              "      <td>0.871832</td>\n",
              "      <td>-1.408605</td>\n",
              "      <td>-0.072580</td>\n",
              "      <td>0.502360</td>\n",
              "      <td>1.073581</td>\n",
              "      <td>2.362331</td>\n",
              "    </tr>\n",
              "    <tr>\n",
              "      <th>f1</th>\n",
              "      <td>100000.0</td>\n",
              "      <td>0.250143</td>\n",
              "      <td>0.504433</td>\n",
              "      <td>-0.848218</td>\n",
              "      <td>-0.200881</td>\n",
              "      <td>0.250252</td>\n",
              "      <td>0.700646</td>\n",
              "      <td>1.343769</td>\n",
              "    </tr>\n",
              "    <tr>\n",
              "      <th>f2</th>\n",
              "      <td>100000.0</td>\n",
              "      <td>2.502647</td>\n",
              "      <td>3.248248</td>\n",
              "      <td>-12.088328</td>\n",
              "      <td>0.287748</td>\n",
              "      <td>2.515969</td>\n",
              "      <td>4.715088</td>\n",
              "      <td>16.003790</td>\n",
              "    </tr>\n",
              "    <tr>\n",
              "      <th>product</th>\n",
              "      <td>100000.0</td>\n",
              "      <td>92.500000</td>\n",
              "      <td>44.288691</td>\n",
              "      <td>0.000000</td>\n",
              "      <td>56.497507</td>\n",
              "      <td>91.849972</td>\n",
              "      <td>128.564089</td>\n",
              "      <td>185.364347</td>\n",
              "    </tr>\n",
              "  </tbody>\n",
              "</table>\n",
              "</div>"
            ],
            "text/plain": [
              "            count       mean        std        min        25%        50%  \\\n",
              "f0       100000.0   0.500419   0.871832  -1.408605  -0.072580   0.502360   \n",
              "f1       100000.0   0.250143   0.504433  -0.848218  -0.200881   0.250252   \n",
              "f2       100000.0   2.502647   3.248248 -12.088328   0.287748   2.515969   \n",
              "product  100000.0  92.500000  44.288691   0.000000  56.497507  91.849972   \n",
              "\n",
              "                75%         max  \n",
              "f0         1.073581    2.362331  \n",
              "f1         0.700646    1.343769  \n",
              "f2         4.715088   16.003790  \n",
              "product  128.564089  185.364347  "
            ]
          },
          "execution_count": 22,
          "metadata": {},
          "output_type": "execute_result"
        }
      ],
      "source": [
        "geo_data_0.describe().T"
      ]
    },
    {
      "cell_type": "code",
      "execution_count": null,
      "metadata": {
        "id": "MCgpXpfbWSqb",
        "outputId": "f7fada7f-4abd-4692-af84-8445189b37fe"
      },
      "outputs": [
        {
          "data": {
            "text/html": [
              "<div>\n",
              "<style scoped>\n",
              "    .dataframe tbody tr th:only-of-type {\n",
              "        vertical-align: middle;\n",
              "    }\n",
              "\n",
              "    .dataframe tbody tr th {\n",
              "        vertical-align: top;\n",
              "    }\n",
              "\n",
              "    .dataframe thead th {\n",
              "        text-align: right;\n",
              "    }\n",
              "</style>\n",
              "<table border=\"1\" class=\"dataframe\">\n",
              "  <thead>\n",
              "    <tr style=\"text-align: right;\">\n",
              "      <th></th>\n",
              "      <th>count</th>\n",
              "      <th>mean</th>\n",
              "      <th>std</th>\n",
              "      <th>min</th>\n",
              "      <th>25%</th>\n",
              "      <th>50%</th>\n",
              "      <th>75%</th>\n",
              "      <th>max</th>\n",
              "    </tr>\n",
              "  </thead>\n",
              "  <tbody>\n",
              "    <tr>\n",
              "      <th>f0</th>\n",
              "      <td>100000.0</td>\n",
              "      <td>1.141296</td>\n",
              "      <td>8.965932</td>\n",
              "      <td>-31.609576</td>\n",
              "      <td>-6.298551</td>\n",
              "      <td>1.153055</td>\n",
              "      <td>8.621015</td>\n",
              "      <td>29.421755</td>\n",
              "    </tr>\n",
              "    <tr>\n",
              "      <th>f1</th>\n",
              "      <td>100000.0</td>\n",
              "      <td>-4.796579</td>\n",
              "      <td>5.119872</td>\n",
              "      <td>-26.358598</td>\n",
              "      <td>-8.267985</td>\n",
              "      <td>-4.813172</td>\n",
              "      <td>-1.332816</td>\n",
              "      <td>18.734063</td>\n",
              "    </tr>\n",
              "    <tr>\n",
              "      <th>f2</th>\n",
              "      <td>100000.0</td>\n",
              "      <td>2.494541</td>\n",
              "      <td>1.703572</td>\n",
              "      <td>-0.018144</td>\n",
              "      <td>1.000021</td>\n",
              "      <td>2.011479</td>\n",
              "      <td>3.999904</td>\n",
              "      <td>5.019721</td>\n",
              "    </tr>\n",
              "    <tr>\n",
              "      <th>product</th>\n",
              "      <td>100000.0</td>\n",
              "      <td>68.825000</td>\n",
              "      <td>45.944423</td>\n",
              "      <td>0.000000</td>\n",
              "      <td>26.953261</td>\n",
              "      <td>57.085625</td>\n",
              "      <td>107.813044</td>\n",
              "      <td>137.945408</td>\n",
              "    </tr>\n",
              "  </tbody>\n",
              "</table>\n",
              "</div>"
            ],
            "text/plain": [
              "            count       mean        std        min        25%        50%  \\\n",
              "f0       100000.0   1.141296   8.965932 -31.609576  -6.298551   1.153055   \n",
              "f1       100000.0  -4.796579   5.119872 -26.358598  -8.267985  -4.813172   \n",
              "f2       100000.0   2.494541   1.703572  -0.018144   1.000021   2.011479   \n",
              "product  100000.0  68.825000  45.944423   0.000000  26.953261  57.085625   \n",
              "\n",
              "                75%         max  \n",
              "f0         8.621015   29.421755  \n",
              "f1        -1.332816   18.734063  \n",
              "f2         3.999904    5.019721  \n",
              "product  107.813044  137.945408  "
            ]
          },
          "execution_count": 23,
          "metadata": {},
          "output_type": "execute_result"
        }
      ],
      "source": [
        "geo_data_1.describe().T"
      ]
    },
    {
      "cell_type": "code",
      "execution_count": null,
      "metadata": {
        "scrolled": true,
        "id": "ucyUTScUWSqc",
        "outputId": "0cd86e5b-3570-4f08-a037-3c7718c196d5"
      },
      "outputs": [
        {
          "data": {
            "text/html": [
              "<div>\n",
              "<style scoped>\n",
              "    .dataframe tbody tr th:only-of-type {\n",
              "        vertical-align: middle;\n",
              "    }\n",
              "\n",
              "    .dataframe tbody tr th {\n",
              "        vertical-align: top;\n",
              "    }\n",
              "\n",
              "    .dataframe thead th {\n",
              "        text-align: right;\n",
              "    }\n",
              "</style>\n",
              "<table border=\"1\" class=\"dataframe\">\n",
              "  <thead>\n",
              "    <tr style=\"text-align: right;\">\n",
              "      <th></th>\n",
              "      <th>count</th>\n",
              "      <th>mean</th>\n",
              "      <th>std</th>\n",
              "      <th>min</th>\n",
              "      <th>25%</th>\n",
              "      <th>50%</th>\n",
              "      <th>75%</th>\n",
              "      <th>max</th>\n",
              "    </tr>\n",
              "  </thead>\n",
              "  <tbody>\n",
              "    <tr>\n",
              "      <th>f0</th>\n",
              "      <td>100000.0</td>\n",
              "      <td>0.002023</td>\n",
              "      <td>1.732045</td>\n",
              "      <td>-8.760004</td>\n",
              "      <td>-1.162288</td>\n",
              "      <td>0.009424</td>\n",
              "      <td>1.158535</td>\n",
              "      <td>7.238262</td>\n",
              "    </tr>\n",
              "    <tr>\n",
              "      <th>f1</th>\n",
              "      <td>100000.0</td>\n",
              "      <td>-0.002081</td>\n",
              "      <td>1.730417</td>\n",
              "      <td>-7.084020</td>\n",
              "      <td>-1.174820</td>\n",
              "      <td>-0.009482</td>\n",
              "      <td>1.163678</td>\n",
              "      <td>7.844801</td>\n",
              "    </tr>\n",
              "    <tr>\n",
              "      <th>f2</th>\n",
              "      <td>100000.0</td>\n",
              "      <td>2.495128</td>\n",
              "      <td>3.473445</td>\n",
              "      <td>-11.970335</td>\n",
              "      <td>0.130359</td>\n",
              "      <td>2.484236</td>\n",
              "      <td>4.858794</td>\n",
              "      <td>16.739402</td>\n",
              "    </tr>\n",
              "    <tr>\n",
              "      <th>product</th>\n",
              "      <td>100000.0</td>\n",
              "      <td>95.000000</td>\n",
              "      <td>44.749921</td>\n",
              "      <td>0.000000</td>\n",
              "      <td>59.450441</td>\n",
              "      <td>94.925613</td>\n",
              "      <td>130.595027</td>\n",
              "      <td>190.029838</td>\n",
              "    </tr>\n",
              "  </tbody>\n",
              "</table>\n",
              "</div>"
            ],
            "text/plain": [
              "            count       mean        std        min        25%        50%  \\\n",
              "f0       100000.0   0.002023   1.732045  -8.760004  -1.162288   0.009424   \n",
              "f1       100000.0  -0.002081   1.730417  -7.084020  -1.174820  -0.009482   \n",
              "f2       100000.0   2.495128   3.473445 -11.970335   0.130359   2.484236   \n",
              "product  100000.0  95.000000  44.749921   0.000000  59.450441  94.925613   \n",
              "\n",
              "                75%         max  \n",
              "f0         1.158535    7.238262  \n",
              "f1         1.163678    7.844801  \n",
              "f2         4.858794   16.739402  \n",
              "product  130.595027  190.029838  "
            ]
          },
          "execution_count": 24,
          "metadata": {},
          "output_type": "execute_result"
        }
      ],
      "source": [
        "geo_data_2.describe().T"
      ]
    },
    {
      "cell_type": "markdown",
      "metadata": {
        "id": "RmFDKPdRWSqc"
      },
      "source": [
        "Отображение сводной информации датафреймов в транспорированном виде"
      ]
    },
    {
      "cell_type": "markdown",
      "metadata": {
        "id": "hUEth7kaWSqc"
      },
      "source": [
        "### Вывод\n",
        "\n",
        "Данные подготовлены к обучению модели.\n",
        "\n",
        "Во втором месторождении около 8,2% месторождений не имело значения в столбце product. При сравнении с такими же значениями из первого и третьего региона можно понять, что были утеряны данные или не было исследовано количество барелей нефти.\n",
        "\n",
        "По гистограммам можно понять, что у первого и третьего региона наспределение скважин близкое к нормальному. Во втором регионе данные имеют странное распределение: от 0 до 5 баррелей с шагом по 15-20 равномерно распределены 100000 значений. Данные не подчиняются закону больших чисел и скорей всего были введены искуственно."
      ]
    },
    {
      "cell_type": "markdown",
      "metadata": {
        "id": "1drB3_TNWSqc"
      },
      "source": [
        "<div class=\"alert alert-block alert-success\">\n",
        "<b>Успех:</b> Данные загружены корректно, первичный осмотр проведен. Согласен, что колонка id на не нужна. Радует, что распределения были визуализированы!\n",
        "</div>"
      ]
    },
    {
      "cell_type": "markdown",
      "metadata": {
        "id": "RujWTfR4WSqc"
      },
      "source": [
        "## Обучение и проверка модели"
      ]
    },
    {
      "cell_type": "markdown",
      "metadata": {
        "id": "u0Y7ui8vWSqc"
      },
      "source": [
        "Для обучения и проверки модели возьмем линейную регрессию.\n",
        "\n",
        "Проверим качество модели линейной регрессии с текущим значением признаков и с масштабируемыми. \n",
        "\n",
        "Проверим эту гипотезу на первом из трех датафрейме geo_data_0.\n",
        "\n",
        "Выполним разбивку неподготовленного датафрейма."
      ]
    },
    {
      "cell_type": "code",
      "execution_count": null,
      "metadata": {
        "id": "Y1lBUoKwWSqd"
      },
      "outputs": [],
      "source": [
        "def test_split(df, target):\n",
        "    features = df.drop([target] , axis=1)\n",
        "    target = df[target]\n",
        "\n",
        "    features_train, features_valid, target_train, target_valid = train_test_split(\n",
        "    features, target, test_size=0.25, random_state=26032022)\n",
        "    \n",
        "    return features_train, features_valid, target_train, target_valid"
      ]
    },
    {
      "cell_type": "code",
      "execution_count": null,
      "metadata": {
        "id": "P4fgJvZBWSqd",
        "outputId": "c9580b60-f045-4485-9dc9-2e674a055be5"
      },
      "outputs": [
        {
          "data": {
            "text/html": [
              "<div>\n",
              "<style scoped>\n",
              "    .dataframe tbody tr th:only-of-type {\n",
              "        vertical-align: middle;\n",
              "    }\n",
              "\n",
              "    .dataframe tbody tr th {\n",
              "        vertical-align: top;\n",
              "    }\n",
              "\n",
              "    .dataframe thead th {\n",
              "        text-align: right;\n",
              "    }\n",
              "</style>\n",
              "<table border=\"1\" class=\"dataframe\">\n",
              "  <thead>\n",
              "    <tr style=\"text-align: right;\">\n",
              "      <th></th>\n",
              "      <th>f0</th>\n",
              "      <th>f1</th>\n",
              "      <th>f2</th>\n",
              "    </tr>\n",
              "  </thead>\n",
              "  <tbody>\n",
              "    <tr>\n",
              "      <th>41860</th>\n",
              "      <td>-0.437678</td>\n",
              "      <td>0.924332</td>\n",
              "      <td>4.675126</td>\n",
              "    </tr>\n",
              "    <tr>\n",
              "      <th>76678</th>\n",
              "      <td>0.197112</td>\n",
              "      <td>0.248207</td>\n",
              "      <td>1.307016</td>\n",
              "    </tr>\n",
              "    <tr>\n",
              "      <th>51025</th>\n",
              "      <td>1.823081</td>\n",
              "      <td>-0.119775</td>\n",
              "      <td>3.284864</td>\n",
              "    </tr>\n",
              "    <tr>\n",
              "      <th>45412</th>\n",
              "      <td>-0.767099</td>\n",
              "      <td>0.811775</td>\n",
              "      <td>-1.939962</td>\n",
              "    </tr>\n",
              "    <tr>\n",
              "      <th>58899</th>\n",
              "      <td>2.018964</td>\n",
              "      <td>0.129922</td>\n",
              "      <td>-0.379970</td>\n",
              "    </tr>\n",
              "  </tbody>\n",
              "</table>\n",
              "</div>"
            ],
            "text/plain": [
              "             f0        f1        f2\n",
              "41860 -0.437678  0.924332  4.675126\n",
              "76678  0.197112  0.248207  1.307016\n",
              "51025  1.823081 -0.119775  3.284864\n",
              "45412 -0.767099  0.811775 -1.939962\n",
              "58899  2.018964  0.129922 -0.379970"
            ]
          },
          "execution_count": 26,
          "metadata": {},
          "output_type": "execute_result"
        }
      ],
      "source": [
        "features_train_0, features_valid_0, target_train_0, target_valid_0 = test_split(geo_data_0, 'product')\n",
        "\n",
        "features_train_0.head()"
      ]
    },
    {
      "cell_type": "markdown",
      "metadata": {
        "id": "Dage43O-WSqd"
      },
      "source": [
        "Отмасштабируем данные с помощью скалера"
      ]
    },
    {
      "cell_type": "code",
      "execution_count": null,
      "metadata": {
        "id": "Gx22WBF4WSqd"
      },
      "outputs": [],
      "source": [
        "def test_split_scaled(df, numeric, target):\n",
        "    geo_data_s = df.copy()\n",
        "\n",
        "    features_s = geo_data_s.drop([target] , axis=1)\n",
        "    target_s = geo_data_s[target]\n",
        "\n",
        "    features_train_s, features_valid_s, target_train_s, target_valid_s = train_test_split(\n",
        "        features_s, target_s, test_size=0.25, random_state=26032022)\n",
        "\n",
        "    scaler = StandardScaler()\n",
        "    scaler.fit(features_train_s[numeric])\n",
        "    features_train_s[numeric] = scaler.transform(features_train_s[numeric])\n",
        "    features_valid_s[numeric] = scaler.transform(features_valid_s[numeric])\n",
        "\n",
        "    return features_train_s, features_valid_s, target_train_s, target_valid_s"
      ]
    },
    {
      "cell_type": "markdown",
      "metadata": {
        "id": "6PDLlTrxWSqd"
      },
      "source": [
        "* features - данные без масштаба\n",
        "* features_s - скалированные данные с масштабом"
      ]
    },
    {
      "cell_type": "markdown",
      "metadata": {
        "id": "e0nTX88CWSqe"
      },
      "source": [
        "Обучаю модель без измененных данных."
      ]
    },
    {
      "cell_type": "code",
      "execution_count": null,
      "metadata": {
        "id": "1EyKvAf_WSqe",
        "outputId": "0c1dfd04-4f40-4b75-b7ed-04cb8b1115c4"
      },
      "outputs": [
        {
          "name": "stdout",
          "output_type": "stream",
          "text": [
            "RMSE - 37.73566007095579\n"
          ]
        }
      ],
      "source": [
        "model = LinearRegression()\n",
        "\n",
        "model.fit(features_train_0, target_train_0)\n",
        "predicted_target_0 = model.predict(features_valid_0)\n",
        "print('RMSE -', mean_squared_error(target_valid_0, predicted_target_0)**0.5)"
      ]
    },
    {
      "cell_type": "markdown",
      "metadata": {
        "id": "fySrR-o5WSqe"
      },
      "source": [
        "Проверяю каково RMSE на скалированных масштабированных данных."
      ]
    },
    {
      "cell_type": "code",
      "execution_count": null,
      "metadata": {
        "id": "d_JXxOHeWSqe",
        "outputId": "d2df463d-e8c4-49f2-bdf0-0424524a9a4b"
      },
      "outputs": [
        {
          "name": "stdout",
          "output_type": "stream",
          "text": [
            "RMSE - 37.735660070955795\n"
          ]
        }
      ],
      "source": [
        "features_train_0s, features_valid_0s, target_train_0s, target_valid_0s = test_split_scaled(\n",
        "                                                                        geo_data_0, ['f0', 'f1', 'f2'], 'product')\n",
        "model.fit(features_train_0s, target_train_0s)\n",
        "predicted_target_0s = model.predict(features_valid_0s)\n",
        "print('RMSE -', mean_squared_error(target_valid_0s, predicted_target_0s)**0.5)"
      ]
    },
    {
      "cell_type": "code",
      "execution_count": null,
      "metadata": {
        "id": "RrHyUL-uWSqe",
        "outputId": "da5abf6f-e016-4913-ca36-3b98395efdf9"
      },
      "outputs": [
        {
          "name": "stdout",
          "output_type": "stream",
          "text": [
            "RMSE - 0.8868720422591435\n",
            "RMSE - 0.8868720422591435\n"
          ]
        }
      ],
      "source": [
        "features_train_1, features_valid_1, target_train_1, target_valid_1 = test_split(geo_data_1, 'product')\n",
        "model.fit(features_train_1, target_train_1)\n",
        "predicted_target_1 = model.predict(features_valid_1)\n",
        "print('RMSE -', mean_squared_error(target_valid_1, predicted_target_1)**0.5)\n",
        "\n",
        "features_train_1s, features_valid_1s, target_train_1s, target_valid_1s = test_split_scaled(\n",
        "                                                                        geo_data_1, ['f0', 'f1', 'f2'], 'product')\n",
        "model.fit(features_train_1s, target_train_1s)\n",
        "predicted_target_1s = model.predict(features_valid_1s)\n",
        "print('RMSE -', mean_squared_error(target_valid_1s, predicted_target_1s)**0.5)"
      ]
    },
    {
      "cell_type": "code",
      "execution_count": null,
      "metadata": {
        "id": "00FLETxtWSqf",
        "outputId": "8e75c963-18a5-41ec-e2c0-3525c50e31c4"
      },
      "outputs": [
        {
          "name": "stdout",
          "output_type": "stream",
          "text": [
            "RMSE - 40.098186367588596\n",
            "RMSE - 40.098186367588596\n"
          ]
        }
      ],
      "source": [
        "features_train_2, features_valid_2, target_train_2, target_valid_2 = test_split(geo_data_2, 'product')\n",
        "model.fit(features_train_2, target_train_2)\n",
        "predicted_target_2 = model.predict(features_valid_2)\n",
        "print('RMSE -', mean_squared_error(target_valid_2, predicted_target_2)**0.5)\n",
        "\n",
        "features_train_2s, features_valid_2s, target_train_2s, target_valid_2s = test_split_scaled(\n",
        "                                                                        geo_data_2, ['f0', 'f1', 'f2'], 'product')\n",
        "model.fit(features_train_2s, target_train_2s)\n",
        "predicted_target_2s = model.predict(features_valid_2s)\n",
        "print('RMSE -', mean_squared_error(target_valid_2s, predicted_target_2s)**0.5)"
      ]
    },
    {
      "cell_type": "markdown",
      "metadata": {
        "id": "x5gsx8HcWSqf"
      },
      "source": [
        "Масштабирование данных не требуется.\n",
        "\n",
        "Проверяю показатель RMSE при других гиперпараметрах модели"
      ]
    },
    {
      "cell_type": "code",
      "execution_count": null,
      "metadata": {
        "scrolled": true,
        "id": "aJ6ctT68WSqf",
        "outputId": "70246f1a-2ec7-4268-d026-1291d35481ed"
      },
      "outputs": [
        {
          "name": "stdout",
          "output_type": "stream",
          "text": [
            "RMSE - 37.73566007095579\n"
          ]
        }
      ],
      "source": [
        "model = LinearRegression(normalize=True)\n",
        "model.fit(features_train_0, target_train_0)\n",
        "predicted_target_0 = model.predict(features_valid_0)\n",
        "print('RMSE -', mean_squared_error(target_valid_0, predicted_target_0)**0.5)"
      ]
    },
    {
      "cell_type": "code",
      "execution_count": null,
      "metadata": {
        "id": "6yGrZE10WSqf",
        "outputId": "75c034c1-3d5c-4f95-b24b-5cb7caac5b82"
      },
      "outputs": [
        {
          "name": "stdout",
          "output_type": "stream",
          "text": [
            "RMSE - 61.56991080188307\n"
          ]
        }
      ],
      "source": [
        "model = LinearRegression(fit_intercept=False)\n",
        "model.fit(features_train_0, target_train_0)\n",
        "predicted_target_0 = model.predict(features_valid_0)\n",
        "print('RMSE -', mean_squared_error(target_valid_0, predicted_target_0)**0.5)"
      ]
    },
    {
      "cell_type": "markdown",
      "metadata": {
        "id": "UQOpzLaFWSqf"
      },
      "source": [
        "Изменение стандартных значений гиперпараметров не улучшило модель. \n",
        "\n",
        "Произведу вывод предсказанного запаса с реальным и выведу RMSE."
      ]
    },
    {
      "cell_type": "code",
      "execution_count": null,
      "metadata": {
        "id": "wmzNo7sBWSqg"
      },
      "outputs": [],
      "source": [
        "model = LinearRegression()\n",
        "\n",
        "def oil_predict(df, target_name):\n",
        "    features = df.drop([target_name] , axis=1)\n",
        "    target = df[target_name]\n",
        "    \n",
        "    features_train, features_valid, target_train, target_valid = train_test_split(\n",
        "    features, target, test_size=0.25, random_state=26032022)\n",
        "    \n",
        "    model.fit(features_train, target_train)\n",
        "    predicted_target = model.predict(features_valid)\n",
        "    data = {'real_product' : target_valid,\n",
        "            'predicted_product' : predicted_target         \n",
        "    }\n",
        "    data_frame = pd.DataFrame(data, columns = ['real_product', 'predicted_product'])\n",
        "    rmse = mean_squared_error(target_valid, predicted_target)**0.5\n",
        "    mean = data_frame['predicted_product'].mean()\n",
        "    oil_sum = data_frame['predicted_product'].sum()\n",
        "    return data_frame, rmse, mean, oil_sum"
      ]
    },
    {
      "cell_type": "code",
      "execution_count": null,
      "metadata": {
        "id": "LODHENfHWSqg",
        "outputId": "70b2c54d-34f7-4e67-b073-5df24eee5823"
      },
      "outputs": [
        {
          "name": "stdout",
          "output_type": "stream",
          "text": [
            "       real_product  predicted_product\n",
            "54986     59.700392          90.669918\n",
            "51644    144.840734         103.385048\n",
            "84368     31.775404          83.979573\n",
            "31727     59.638871          59.173975\n",
            "55310    109.207511         104.592303\n",
            "RMSE - 37.73566007095579\n",
            "Средний запас запасанного сырья - 92.13365252293956\n"
          ]
        }
      ],
      "source": [
        "geo_data_0_predicted, geo_data_0_rmse, geo_data_0_predicted_mean, geo_data_0_predicted_sum = oil_predict(geo_data_0, 'product')\n",
        "print(geo_data_0_predicted.head())\n",
        "print('RMSE -', geo_data_0_rmse)\n",
        "print('Средний запас запасанного сырья -', geo_data_0_predicted_mean)"
      ]
    },
    {
      "cell_type": "code",
      "execution_count": null,
      "metadata": {
        "scrolled": true,
        "id": "SzrvbnLEWSqg",
        "outputId": "a797bf04-3e5e-4152-dfcc-c7fbf3f29116"
      },
      "outputs": [
        {
          "name": "stdout",
          "output_type": "stream",
          "text": [
            "       real_product  predicted_product\n",
            "54986    110.992147         110.603979\n",
            "51644    110.992147         110.510219\n",
            "84368     84.038886          82.459766\n",
            "31727      3.179103           3.030710\n",
            "55310     26.953261          28.848700\n",
            "RMSE - 0.8868720422591435\n",
            "Средний запас запасанного сырья - 69.08428488678001\n"
          ]
        }
      ],
      "source": [
        "geo_data_1_predicted, geo_data_1_rmse, geo_data_1_predicted_mean, geo_data_1_predicted_sum = oil_predict(geo_data_1, 'product')\n",
        "print(geo_data_1_predicted.head())\n",
        "print('RMSE -', geo_data_1_rmse)\n",
        "print('Средний запас запасанного сырья -', geo_data_1_predicted_mean)"
      ]
    },
    {
      "cell_type": "code",
      "execution_count": null,
      "metadata": {
        "scrolled": true,
        "id": "dTKcRI82WSqg",
        "outputId": "c2403455-07d0-4c39-b580-1f1de71690f1"
      },
      "outputs": [
        {
          "name": "stdout",
          "output_type": "stream",
          "text": [
            "       real_product  predicted_product\n",
            "54986    109.780432          79.873735\n",
            "51644     44.227150         101.206675\n",
            "84368    112.988672         142.711445\n",
            "31727     57.032069          67.496048\n",
            "55310     96.667095          74.631459\n",
            "RMSE - 40.098186367588596\n",
            "Средний запас запасанного сырья - 95.07877762770322\n"
          ]
        }
      ],
      "source": [
        "geo_data_2_predicted, geo_data_2_rmse, geo_data_2_predicted_mean, geo_data_2_predicted_sum = oil_predict(geo_data_2, 'product')\n",
        "print(geo_data_2_predicted.head())\n",
        "print('RMSE -', geo_data_2_rmse)\n",
        "print('Средний запас запасанного сырья -', geo_data_2_predicted_mean)"
      ]
    },
    {
      "cell_type": "markdown",
      "metadata": {
        "id": "zco6KA2-WSqg"
      },
      "source": [
        "Оцениваю общий запас на регион по предсказанным данным."
      ]
    },
    {
      "cell_type": "code",
      "execution_count": null,
      "metadata": {
        "scrolled": true,
        "id": "-cMHsa5uWSqh",
        "outputId": "d952d2ae-db06-4579-858e-f6f94fb02cbe"
      },
      "outputs": [
        {
          "name": "stdout",
          "output_type": "stream",
          "text": [
            "Суммарный предсказанный запас в позиции 0 - 2303341.313073489\n",
            "Суммарный реальный запас в позиции 0 - 2313774.0416531255\n",
            "\n",
            "Суммарный предсказанный запас в позиции 1 - 1727107.1221695004\n",
            "Суммарный реальный запас в позиции 1 - 1726989.4251497295\n",
            "\n",
            "Суммарный предсказанный запас в позиции 2 - 2376969.4406925803\n",
            "Суммарный реальный запас в позиции 2 - 2380980.9928068956\n"
          ]
        }
      ],
      "source": [
        "print('Суммарный предсказанный запас в позиции 0 -', geo_data_0_predicted_sum)\n",
        "print('Суммарный реальный запас в позиции 0 -', geo_data_0_predicted['real_product'].sum())\n",
        "print()\n",
        "print('Суммарный предсказанный запас в позиции 1 -', geo_data_1_predicted_sum)\n",
        "print('Суммарный реальный запас в позиции 1 -', geo_data_1_predicted['real_product'].sum())\n",
        "print()\n",
        "print('Суммарный предсказанный запас в позиции 2 -', geo_data_2_predicted_sum)\n",
        "print('Суммарный реальный запас в позиции 2 -', geo_data_2_predicted['real_product'].sum())"
      ]
    },
    {
      "cell_type": "markdown",
      "metadata": {
        "id": "I5xSLa-jWSqh"
      },
      "source": [
        "### Вывод\n",
        "\n",
        "Данные предсказаний о количестве нефти по сумме примерно совпадают по сумме с предсказанными значениями. \n",
        "\n",
        "Лучше всего модель предсказала запасы во втором регионе (RMSE - 0.88), далее в первом и третьем соотвественно.\n",
        "\n",
        "Возможно утеряные данные из второго региона сказались на модели и она достаточно сильно переобучилась.\n",
        "\n",
        "Но из-за утери данных и малого запаса в среднем на меторождение не имеет смысла рассматривать второе месторождение как прибыльное.\n",
        "\n",
        "Изучим все регионы на риски и прибыль, но в конечном итоге будем выбирать между 1 и 3 регионом."
      ]
    },
    {
      "cell_type": "markdown",
      "metadata": {
        "id": "TxSn_0d6WSqh"
      },
      "source": [
        "## Подготовка к расчёту прибыли"
      ]
    },
    {
      "cell_type": "markdown",
      "metadata": {
        "id": "h3as4MBjWSqh"
      },
      "source": [
        "Создадам переменные об экономической информации."
      ]
    },
    {
      "cell_type": "code",
      "execution_count": null,
      "metadata": {
        "id": "NRMWyG-lWSqi"
      },
      "outputs": [],
      "source": [
        "BUDGET = 1e+07\n",
        "CHOSEN_POINTS = 500\n",
        "BEST_POINTS = 200\n",
        "PRICE_PER_BARREL = 450"
      ]
    },
    {
      "cell_type": "markdown",
      "metadata": {
        "id": "reXRO7cBWSqi"
      },
      "source": [
        "Расчет прибыли в тысячах рублей за тысячу барелей, budget = 1 милиард сохранен в виде экспонентного числа.\n",
        "\n",
        "Расчитаю безубыточную разработку сырья на 200 месторождениях. \n",
        "\n",
        "Найду среднее количество продукта в месторождениях необходимое для этого."
      ]
    },
    {
      "cell_type": "code",
      "execution_count": null,
      "metadata": {
        "id": "FdoviOkYWSqi",
        "outputId": "75c1c691-3ced-4e02-8dee-c38f31fe3310"
      },
      "outputs": [
        {
          "name": "stdout",
          "output_type": "stream",
          "text": [
            "Средняя прибыль на лучшую точку - 50000.0 тыс.руб.\n",
            "Средний объем нефти на точку - 111.11111111111111 тыс. барелей\n",
            "Средний объем нефти на регион - 22222.222222222223 тыс. барелей\n"
          ]
        }
      ],
      "source": [
        "average_profit_per_point = BUDGET / BEST_POINTS\n",
        "print('Средняя прибыль на лучшую точку -', average_profit_per_point, 'тыс.руб.')\n",
        "\n",
        "average_barrels_per_point = average_profit_per_point  / PRICE_PER_BARREL\n",
        "print('Средний объем нефти на точку -',average_barrels_per_point, 'тыс. барелей')\n",
        "\n",
        "average_barrels = BUDGET / PRICE_PER_BARREL\n",
        "print('Средний объем нефти на регион -',average_barrels, 'тыс. барелей')"
      ]
    },
    {
      "cell_type": "markdown",
      "metadata": {
        "id": "IrE-Pqa-WSqj"
      },
      "source": [
        "Выведу данные по запасу нефти."
      ]
    },
    {
      "cell_type": "code",
      "execution_count": null,
      "metadata": {
        "id": "vnI5Yux7WSqj",
        "outputId": "5ac23208-0b9c-40c0-9ed7-00929efb6883"
      },
      "outputs": [
        {
          "name": "stdout",
          "output_type": "stream",
          "text": [
            "Средний запас фактичекой нефти на скважину в регионе 1 92.50000000000001\n",
            "Средний запас фактичекой нефти на скважину в регионе 2 68.82500000000002\n",
            "Средний запас фактичекой нефти на скважину в регионе 3 95.00000000000004\n"
          ]
        }
      ],
      "source": [
        "print('Средний запас фактичекой нефти на скважину в регионе 1', geo_data_0['product'].mean())\n",
        "print('Средний запас фактичекой нефти на скважину в регионе 2', geo_data_1['product'].mean())\n",
        "print('Средний запас фактичекой нефти на скважину в регионе 3', geo_data_2['product'].mean())"
      ]
    },
    {
      "cell_type": "markdown",
      "metadata": {
        "id": "sEUXuJqzWSqj"
      },
      "source": [
        "Создадам функцию для расчета приыли на 500 разведанных точек."
      ]
    },
    {
      "cell_type": "code",
      "execution_count": null,
      "metadata": {
        "id": "3g1vbv-YWSqj"
      },
      "outputs": [],
      "source": [
        "def oil_profit_calculation(target, probabilities, count):\n",
        "    probs_sorted = probabilities.sort_values(ascending=False)\n",
        "    selected = target[probs_sorted.index][:count]\n",
        "    return PRICE_PER_BARREL * selected.sum() - BUDGET"
      ]
    },
    {
      "cell_type": "markdown",
      "metadata": {
        "id": "GFubM3JyWSqk"
      },
      "source": [
        "Выведу распределение предсказанных значений."
      ]
    },
    {
      "cell_type": "code",
      "execution_count": null,
      "metadata": {
        "scrolled": true,
        "id": "EjsAgeqDWSqk",
        "outputId": "d98b1d20-bb91-404b-d3fa-90d9c743bd9e"
      },
      "outputs": [
        {
          "data": {
            "image/png": "[encoded data removed]",
            "text/plain": [
              "<Figure size 1080x720 with 1 Axes>"
            ]
          },
          "metadata": {
            "needs_background": "light"
          },
          "output_type": "display_data"
        }
      ],
      "source": [
        "oil_hist(geo_data_0_predicted['predicted_product'], 200, 190, 500)"
      ]
    },
    {
      "cell_type": "code",
      "execution_count": null,
      "metadata": {
        "scrolled": true,
        "id": "ZCEbqsFBWSqk",
        "outputId": "aaed1dca-5daf-4c8c-c9ff-336050338f86"
      },
      "outputs": [
        {
          "data": {
            "image/png": "[encoded data removed]",
            "text/plain": [
              "<Figure size 1080x720 with 1 Axes>"
            ]
          },
          "metadata": {
            "needs_background": "light"
          },
          "output_type": "display_data"
        }
      ],
      "source": [
        "oil_hist(geo_data_1_predicted['predicted_product'], 20, 150, 5000)"
      ]
    },
    {
      "cell_type": "code",
      "execution_count": null,
      "metadata": {
        "scrolled": true,
        "id": "9-zq_N9WWSqk",
        "outputId": "1e41cdd5-eb23-42a1-eaa3-44b9475bcbee"
      },
      "outputs": [
        {
          "data": {
            "image/png": "[encoded data removed]",
            "text/plain": [
              "<Figure size 1080x720 with 1 Axes>"
            ]
          },
          "metadata": {
            "needs_background": "light"
          },
          "output_type": "display_data"
        }
      ],
      "source": [
        "oil_hist(geo_data_2_predicted['predicted_product'], 200, 190, 500)"
      ]
    },
    {
      "cell_type": "markdown",
      "metadata": {
        "id": "31NKr8Z0WSqk"
      },
      "source": [
        "### Вывод\n",
        "Была подготовлена средняя оценка прибили за скважину и средний объем на скважину. И создана функция по расчету прибыли.\n",
        "\n",
        "Анализ средних объемов на скважину для каждого региона следующий.\n",
        "\n",
        "Изучены средние фактические запасы. Для первого и третьего - высокая вероятность окупить затраты. Разброс значений вокруг среднего 92.5 и 95 говорит нам о том, что существует достаточно много скважин, где запасы больше необходимого среднего.\n",
        "\n",
        "Во вторых данных мб и есть определенный смысл - значений больше 111 достаточно много и при определенной доли везения можно выбрать только лучшие в этой выборке, хотя и среднее значение 68.8."
      ]
    },
    {
      "cell_type": "markdown",
      "metadata": {
        "id": "0xiAciuiWSqk"
      },
      "source": [
        "## Расчёт прибыли и рисков "
      ]
    },
    {
      "cell_type": "code",
      "execution_count": null,
      "metadata": {
        "id": "ABxnPGNDWSql"
      },
      "outputs": [],
      "source": [
        "state = np.random.RandomState(26032022)\n",
        "def bootstrap_1000(target, probs):\n",
        "    values=[]\n",
        "    lost = 0\n",
        "    for i in range(1000):\n",
        "        target_sample = target.sample(replace=True, random_state=state, n=CHOSEN_POINTS)\n",
        "        probs_sample = probs[target_sample.index]\n",
        "        profit = oil_profit_calculation(target, probs_sample, BEST_POINTS)\n",
        "        if profit < 0:\n",
        "            lost +=1\n",
        "        values.append(profit)\n",
        "    \n",
        "    values = pd.Series(values)\n",
        "    lower = values.quantile(0.025)\n",
        "    upper = values.quantile(0.975)\n",
        "    average = values.mean()\n",
        "    risk = lost / 1000\n",
        "    return average, lower, upper, risk"
      ]
    },
    {
      "cell_type": "code",
      "execution_count": null,
      "metadata": {
        "id": "KrkJm2KVWSql",
        "outputId": "7f51ded3-6fa9-437b-fa02-8882711d2b15"
      },
      "outputs": [
        {
          "name": "stdout",
          "output_type": "stream",
          "text": [
            "Данные по первому региону.\n",
            "Средняя прибыль по региону = 406633.31 тыс.руб.\n",
            "95% доверительный интервал от -159225.19 до 930828.82 тыс.руб.\n",
            "Процент риска 8.00%\n"
          ]
        }
      ],
      "source": [
        "average_0, lower_0, upper_0, risk_0 = bootstrap_1000(geo_data_0_predicted['real_product'], \n",
        "                                                     geo_data_0_predicted['predicted_product'])\n",
        "print('Данные по первому региону.')\n",
        "print('Средняя прибыль по региону = {:.2f} тыс.руб.'.format(average_0))\n",
        "print('95% доверительный интервал от {:.2f} до {:.2f} тыс.руб.'.format(lower_0, upper_0))\n",
        "print('Процент риска {:.2%}'.format(risk_0))"
      ]
    },
    {
      "cell_type": "code",
      "execution_count": null,
      "metadata": {
        "id": "VBH33S90WSql",
        "outputId": "efa5b735-af19-427b-9e3f-810d104aa3fc"
      },
      "outputs": [
        {
          "name": "stdout",
          "output_type": "stream",
          "text": [
            "Данные по второму региону.\n",
            "Средняя прибыль по региону = 460677.94 тыс.руб.\n",
            "95% доверительный интервал от 60384.50 до 848700.52 тыс.руб.\n",
            "Процент риска 0.90%\n"
          ]
        }
      ],
      "source": [
        "average_1, lower_1, upper_1, risk_1 = bootstrap_1000(geo_data_1_predicted['real_product'], \n",
        "                                                     geo_data_1_predicted['predicted_product'])\n",
        "print('Данные по второму региону.')\n",
        "print('Средняя прибыль по региону = {:.2f} тыс.руб.'.format(average_1))\n",
        "print('95% доверительный интервал от {:.2f} до {:.2f} тыс.руб.'.format(lower_1, upper_1))\n",
        "print('Процент риска {:.2%}'.format(risk_1))"
      ]
    },
    {
      "cell_type": "code",
      "execution_count": null,
      "metadata": {
        "scrolled": true,
        "id": "LMqhv2eCWSqm",
        "outputId": "e5def283-e09d-450b-d423-df9f7b191c2e"
      },
      "outputs": [
        {
          "name": "stdout",
          "output_type": "stream",
          "text": [
            "Данные по третьему региону.\n",
            "Средняя прибыль по региону = 420200.55 тыс.руб.\n",
            "95% доверительный интервал от -133177.77 до 980009.35 тыс.руб.\n",
            "Процент риска 6.10%\n"
          ]
        }
      ],
      "source": [
        "average_2, lower_2, upper_2, risk_2 = bootstrap_1000(geo_data_2_predicted['real_product'], \n",
        "                                                     geo_data_2_predicted['predicted_product'])\n",
        "print('Данные по третьему региону.')\n",
        "print('Средняя прибыль по региону = {:.2f} тыс.руб.'.format(average_2))\n",
        "print('95% доверительный интервал от {:.2f} до {:.2f} тыс.руб.'.format(lower_2, upper_2))\n",
        "print('Процент риска {:.2%}'.format(risk_2))"
      ]
    },
    {
      "cell_type": "markdown",
      "metadata": {
        "id": "pDyJXI6SWSqm"
      },
      "source": [
        "### Вывод\n",
        "\n",
        "Данные были обработаны и рассчитаны прибыль, интервал и риски.\n",
        "\n",
        "Рекомендую отсеивать первый и третий регион, так как риски остаточно велики. \n",
        "Второй регион рекомендуется, риск ниже требуемого. Кроме того доверительный интервал показывает, что разработка скважин окупится."
      ]
    },
    {
      "cell_type": "markdown",
      "metadata": {
        "id": "c795r_MqWSqm"
      },
      "source": [
        "## Вывод по проекту\n",
        "При выполнении следующего проекта было выполнено:\n",
        "\n",
        "* Изучины данные. Проведена подготовка данных к моделированию.\n",
        "* Обучена модель для каждого региона geo_data_0, geo_data_1 и geo_data_2.\n",
        "* Составлена функция расчета прибыли в регионе.\n",
        "* Посчитана прибыль и риски за каждый регион и обоснован выбор региона.\n",
        "\n",
        "Второй регион получился лучшим по показателям предсказывания, хоть и данные не выглядят нормально распределенными.\n",
        "\n",
        "* Средняя прибыль по второму региону (Средняя прибыль по региону = 460677.94 тыс.руб) — выше остальных регионов. \n",
        "* Процент риска 0.90%"
      ]
    },
    {
      "cell_type": "markdown",
      "metadata": {
        "id": "1e_U9khUWSqn"
      },
      "source": [
        "## Чек-лист готовности проекта"
      ]
    },
    {
      "cell_type": "markdown",
      "metadata": {
        "id": "hG3K3k4TWSqn"
      },
      "source": [
        "Поставьте 'x' в выполненных пунктах. Далее нажмите Shift+Enter."
      ]
    },
    {
      "cell_type": "markdown",
      "metadata": {
        "id": "b2noZZiUWSqn"
      },
      "source": [
        "- [x]  Jupyter Notebook открыт\n",
        "- [x]  Весь код выполняется без ошибок\n",
        "- [x]  Ячейки с кодом расположены в порядке исполнения\n",
        "- [x]  Выполнен шаг 1: данные подготовлены\n",
        "- [x]  Выполнен шаг 2: модели обучены и проверены\n",
        "    - [x]  Данные корректно разбиты на обучающую и валидационную выборки\n",
        "    - [x]  Модели обучены, предсказания сделаны\n",
        "    - [x]  Предсказания и правильные ответы на валидационной выборке сохранены\n",
        "    - [x]  На экране напечатаны результаты\n",
        "    - [x]  Сделаны выводы\n",
        "- [x]  Выполнен шаг 3: проведена подготовка к расчёту прибыли\n",
        "    - [x]  Для всех ключевых значений созданы константы Python\n",
        "    - [x]  Посчитано минимальное среднее количество продукта в месторождениях региона, достаточное для разработки\n",
        "    - [x]  По предыдущему пункту сделаны выводы\n",
        "    - [x]  Написана функция расчёта прибыли\n",
        "- [x]  Выполнен шаг 4: посчитаны риски и прибыль\n",
        "    - [x]  Проведена процедура *Bootstrap*\n",
        "    - [x]  Все параметры бутстрепа соответствуют условию\n",
        "    - [x]  Найдены все нужные величины\n",
        "    - [x]  Предложен регион для разработки месторождения\n",
        "    - [x]  Выбор региона обоснован"
      ]
    },
    {
      "cell_type": "code",
      "execution_count": null,
      "metadata": {
        "id": "ZiDsFZy4WSqn"
      },
      "outputs": [],
      "source": [
        ""
      ]
    }
  ],
  "metadata": {
    "ExecuteTimeLog": [
      {
        "duration": 2279,
        "start_time": "2022-03-24T06:44:31.230Z"
      },
      {
        "duration": 164,
        "start_time": "2022-03-24T06:46:45.444Z"
      },
      {
        "duration": 148,
        "start_time": "2022-03-24T06:46:58.502Z"
      },
      {
        "duration": 149,
        "start_time": "2022-03-24T06:47:12.480Z"
      },
      {
        "duration": 5,
        "start_time": "2022-03-24T06:48:12.358Z"
      },
      {
        "duration": 53,
        "start_time": "2022-03-24T06:49:10.723Z"
      },
      {
        "duration": 45,
        "start_time": "2022-03-24T06:49:26.284Z"
      },
      {
        "duration": 49,
        "start_time": "2022-03-24T06:49:36.892Z"
      },
      {
        "duration": 23,
        "start_time": "2022-03-24T06:50:16.481Z"
      },
      {
        "duration": 6,
        "start_time": "2022-03-24T06:51:40.568Z"
      },
      {
        "duration": 14,
        "start_time": "2022-03-24T06:52:43.174Z"
      },
      {
        "duration": 7,
        "start_time": "2022-03-24T06:52:56.608Z"
      },
      {
        "duration": 6,
        "start_time": "2022-03-24T06:53:06.764Z"
      },
      {
        "duration": 21,
        "start_time": "2022-03-24T06:53:31.140Z"
      },
      {
        "duration": 18,
        "start_time": "2022-03-24T06:53:43.923Z"
      },
      {
        "duration": 19,
        "start_time": "2022-03-24T06:53:59.911Z"
      },
      {
        "duration": 10,
        "start_time": "2022-03-24T06:56:51.473Z"
      },
      {
        "duration": 6,
        "start_time": "2022-03-24T06:57:38.713Z"
      },
      {
        "duration": 660,
        "start_time": "2022-03-24T06:57:40.578Z"
      },
      {
        "duration": 6,
        "start_time": "2022-03-24T06:58:01.450Z"
      },
      {
        "duration": 656,
        "start_time": "2022-03-24T06:58:04.540Z"
      },
      {
        "duration": 729,
        "start_time": "2022-03-24T06:58:20.792Z"
      },
      {
        "duration": 373,
        "start_time": "2022-03-24T06:58:34.628Z"
      },
      {
        "duration": 667,
        "start_time": "2022-03-24T06:58:45.389Z"
      },
      {
        "duration": 47,
        "start_time": "2022-03-24T07:03:57.535Z"
      },
      {
        "duration": 47,
        "start_time": "2022-03-24T07:04:10.796Z"
      },
      {
        "duration": 49,
        "start_time": "2022-03-24T07:04:16.566Z"
      },
      {
        "duration": 5,
        "start_time": "2022-03-24T07:08:40.607Z"
      },
      {
        "duration": 22,
        "start_time": "2022-03-24T07:08:56.355Z"
      },
      {
        "duration": 7,
        "start_time": "2022-03-24T07:10:12.647Z"
      },
      {
        "duration": 20,
        "start_time": "2022-03-24T07:11:09.867Z"
      },
      {
        "duration": 47,
        "start_time": "2022-03-24T07:13:34.560Z"
      },
      {
        "duration": 261,
        "start_time": "2022-03-24T07:13:48.955Z"
      },
      {
        "duration": 263,
        "start_time": "2022-03-24T07:13:59.751Z"
      },
      {
        "duration": 18,
        "start_time": "2022-03-24T07:14:56.543Z"
      },
      {
        "duration": 16,
        "start_time": "2022-03-24T07:15:06.196Z"
      },
      {
        "duration": 142,
        "start_time": "2022-03-24T07:15:41.213Z"
      },
      {
        "duration": 7,
        "start_time": "2022-03-24T07:16:32.107Z"
      },
      {
        "duration": 44,
        "start_time": "2022-03-24T07:16:42.344Z"
      },
      {
        "duration": 60,
        "start_time": "2022-03-24T07:16:56.523Z"
      },
      {
        "duration": 42,
        "start_time": "2022-03-24T07:17:05.750Z"
      },
      {
        "duration": 10,
        "start_time": "2022-03-24T07:18:01.576Z"
      },
      {
        "duration": 4,
        "start_time": "2022-03-24T08:15:41.449Z"
      },
      {
        "duration": 7,
        "start_time": "2022-03-24T08:17:54.475Z"
      },
      {
        "duration": 8,
        "start_time": "2022-03-24T08:18:21.598Z"
      },
      {
        "duration": 141,
        "start_time": "2022-03-24T08:18:57.293Z"
      },
      {
        "duration": 4,
        "start_time": "2022-03-24T08:19:40.653Z"
      },
      {
        "duration": 674,
        "start_time": "2022-03-24T08:20:28.888Z"
      },
      {
        "duration": 313,
        "start_time": "2022-03-24T08:20:45.449Z"
      },
      {
        "duration": 798,
        "start_time": "2022-03-24T08:21:04.232Z"
      },
      {
        "duration": 7,
        "start_time": "2022-03-24T08:22:04.626Z"
      },
      {
        "duration": 1359,
        "start_time": "2022-03-24T08:22:17.108Z"
      },
      {
        "duration": 1302,
        "start_time": "2022-03-24T08:22:28.266Z"
      },
      {
        "duration": 1352,
        "start_time": "2022-03-24T08:22:38.232Z"
      },
      {
        "duration": 1400,
        "start_time": "2022-03-24T08:23:16.919Z"
      },
      {
        "duration": 1316,
        "start_time": "2022-03-24T08:23:19.068Z"
      },
      {
        "duration": 2615,
        "start_time": "2022-03-24T08:27:32.892Z"
      },
      {
        "duration": 299,
        "start_time": "2022-03-24T08:27:35.511Z"
      },
      {
        "duration": 293,
        "start_time": "2022-03-24T08:27:35.819Z"
      },
      {
        "duration": 178,
        "start_time": "2022-03-24T08:27:36.114Z"
      },
      {
        "duration": 5,
        "start_time": "2022-03-24T08:27:36.296Z"
      },
      {
        "duration": 106,
        "start_time": "2022-03-24T08:27:36.304Z"
      },
      {
        "duration": 90,
        "start_time": "2022-03-24T08:27:36.413Z"
      },
      {
        "duration": 78,
        "start_time": "2022-03-24T08:27:36.505Z"
      },
      {
        "duration": 24,
        "start_time": "2022-03-24T08:27:36.588Z"
      },
      {
        "duration": 30,
        "start_time": "2022-03-24T08:27:36.615Z"
      },
      {
        "duration": 48,
        "start_time": "2022-03-24T08:27:36.648Z"
      },
      {
        "duration": 40,
        "start_time": "2022-03-24T08:27:36.699Z"
      },
      {
        "duration": 48,
        "start_time": "2022-03-24T08:27:36.742Z"
      },
      {
        "duration": 28,
        "start_time": "2022-03-24T08:27:36.793Z"
      },
      {
        "duration": 33,
        "start_time": "2022-03-24T08:27:36.825Z"
      },
      {
        "duration": 36,
        "start_time": "2022-03-24T08:27:36.861Z"
      },
      {
        "duration": 41,
        "start_time": "2022-03-24T08:27:36.900Z"
      },
      {
        "duration": 772,
        "start_time": "2022-03-24T08:27:36.944Z"
      },
      {
        "duration": 711,
        "start_time": "2022-03-24T08:27:37.718Z"
      },
      {
        "duration": 523,
        "start_time": "2022-03-24T08:27:38.432Z"
      },
      {
        "duration": 1047,
        "start_time": "2022-03-24T08:27:38.958Z"
      },
      {
        "duration": 88,
        "start_time": "2022-03-24T08:27:40.008Z"
      },
      {
        "duration": 48,
        "start_time": "2022-03-24T08:27:40.099Z"
      },
      {
        "duration": 74,
        "start_time": "2022-03-24T08:27:40.149Z"
      },
      {
        "duration": 5,
        "start_time": "2022-03-24T08:27:40.226Z"
      },
      {
        "duration": 50,
        "start_time": "2022-03-24T08:27:40.233Z"
      },
      {
        "duration": 6,
        "start_time": "2022-03-24T08:27:40.288Z"
      },
      {
        "duration": 96,
        "start_time": "2022-03-24T08:27:40.296Z"
      },
      {
        "duration": 104,
        "start_time": "2022-03-24T08:27:40.483Z"
      },
      {
        "duration": 331,
        "start_time": "2022-03-24T08:27:40.592Z"
      },
      {
        "duration": 461,
        "start_time": "2022-03-24T08:27:40.926Z"
      },
      {
        "duration": 191,
        "start_time": "2022-03-24T08:27:41.391Z"
      },
      {
        "duration": 199,
        "start_time": "2022-03-24T08:27:41.585Z"
      },
      {
        "duration": 99,
        "start_time": "2022-03-24T08:27:41.788Z"
      },
      {
        "duration": 113,
        "start_time": "2022-03-24T08:27:41.890Z"
      },
      {
        "duration": 181,
        "start_time": "2022-03-24T08:27:42.007Z"
      },
      {
        "duration": 294,
        "start_time": "2022-03-24T08:27:42.191Z"
      },
      {
        "duration": 13,
        "start_time": "2022-03-24T08:27:42.488Z"
      },
      {
        "duration": 39,
        "start_time": "2022-03-24T08:27:42.504Z"
      },
      {
        "duration": 43,
        "start_time": "2022-03-24T08:27:42.546Z"
      },
      {
        "duration": 32,
        "start_time": "2022-03-24T08:27:42.591Z"
      },
      {
        "duration": 23,
        "start_time": "2022-03-24T08:27:42.626Z"
      },
      {
        "duration": 1185,
        "start_time": "2022-03-24T08:27:42.653Z"
      },
      {
        "duration": 365,
        "start_time": "2022-03-24T08:27:43.840Z"
      },
      {
        "duration": 698,
        "start_time": "2022-03-24T08:27:44.208Z"
      },
      {
        "duration": 8,
        "start_time": "2022-03-24T08:27:44.909Z"
      },
      {
        "duration": 1497,
        "start_time": "2022-03-24T08:27:44.920Z"
      },
      {
        "duration": 1674,
        "start_time": "2022-03-24T08:27:46.421Z"
      },
      {
        "duration": 1344,
        "start_time": "2022-03-24T08:27:48.098Z"
      },
      {
        "duration": 1894,
        "start_time": "2022-03-25T04:23:03.081Z"
      },
      {
        "duration": 175,
        "start_time": "2022-03-25T04:23:04.978Z"
      },
      {
        "duration": 170,
        "start_time": "2022-03-25T04:23:05.156Z"
      },
      {
        "duration": 170,
        "start_time": "2022-03-25T04:23:05.329Z"
      },
      {
        "duration": 4,
        "start_time": "2022-03-25T04:23:05.503Z"
      },
      {
        "duration": 76,
        "start_time": "2022-03-25T04:23:05.509Z"
      },
      {
        "duration": 48,
        "start_time": "2022-03-25T04:23:05.587Z"
      },
      {
        "duration": 84,
        "start_time": "2022-03-25T04:23:05.637Z"
      },
      {
        "duration": 24,
        "start_time": "2022-03-25T04:23:05.724Z"
      },
      {
        "duration": 8,
        "start_time": "2022-03-25T04:23:05.750Z"
      },
      {
        "duration": 33,
        "start_time": "2022-03-25T04:23:05.760Z"
      },
      {
        "duration": 8,
        "start_time": "2022-03-25T04:23:05.795Z"
      },
      {
        "duration": 7,
        "start_time": "2022-03-25T04:23:05.805Z"
      },
      {
        "duration": 17,
        "start_time": "2022-03-25T04:23:05.817Z"
      },
      {
        "duration": 19,
        "start_time": "2022-03-25T04:23:05.883Z"
      },
      {
        "duration": 11,
        "start_time": "2022-03-25T04:23:05.905Z"
      },
      {
        "duration": 9,
        "start_time": "2022-03-25T04:23:05.919Z"
      },
      {
        "duration": 726,
        "start_time": "2022-03-25T04:23:05.930Z"
      },
      {
        "duration": 694,
        "start_time": "2022-03-25T04:23:06.658Z"
      },
      {
        "duration": 503,
        "start_time": "2022-03-25T04:23:07.355Z"
      },
      {
        "duration": 702,
        "start_time": "2022-03-25T04:23:07.861Z"
      },
      {
        "duration": 61,
        "start_time": "2022-03-25T04:23:08.565Z"
      },
      {
        "duration": 67,
        "start_time": "2022-03-25T04:23:08.628Z"
      },
      {
        "duration": 48,
        "start_time": "2022-03-25T04:23:08.698Z"
      },
      {
        "duration": 5,
        "start_time": "2022-03-25T04:23:08.748Z"
      },
      {
        "duration": 24,
        "start_time": "2022-03-25T04:23:08.782Z"
      },
      {
        "duration": 6,
        "start_time": "2022-03-25T04:23:08.808Z"
      },
      {
        "duration": 78,
        "start_time": "2022-03-25T04:23:08.817Z"
      },
      {
        "duration": 100,
        "start_time": "2022-03-25T04:23:08.984Z"
      },
      {
        "duration": 327,
        "start_time": "2022-03-25T04:23:09.090Z"
      },
      {
        "duration": 331,
        "start_time": "2022-03-25T04:23:09.482Z"
      },
      {
        "duration": 174,
        "start_time": "2022-03-25T04:23:09.817Z"
      },
      {
        "duration": 197,
        "start_time": "2022-03-25T04:23:09.995Z"
      },
      {
        "duration": 188,
        "start_time": "2022-03-25T04:23:10.195Z"
      },
      {
        "duration": 105,
        "start_time": "2022-03-25T04:23:10.386Z"
      },
      {
        "duration": 121,
        "start_time": "2022-03-25T04:23:10.494Z"
      },
      {
        "duration": 271,
        "start_time": "2022-03-25T04:23:10.616Z"
      },
      {
        "duration": 99,
        "start_time": "2022-03-25T04:23:10.890Z"
      },
      {
        "duration": 6,
        "start_time": "2022-03-25T04:23:10.992Z"
      },
      {
        "duration": 12,
        "start_time": "2022-03-25T04:23:11.000Z"
      },
      {
        "duration": 10,
        "start_time": "2022-03-25T04:23:11.018Z"
      },
      {
        "duration": 7,
        "start_time": "2022-03-25T04:23:11.030Z"
      },
      {
        "duration": 700,
        "start_time": "2022-03-25T04:23:11.039Z"
      },
      {
        "duration": 347,
        "start_time": "2022-03-25T04:23:11.741Z"
      },
      {
        "duration": 682,
        "start_time": "2022-03-25T04:23:12.090Z"
      },
      {
        "duration": 11,
        "start_time": "2022-03-25T04:23:12.774Z"
      },
      {
        "duration": 1464,
        "start_time": "2022-03-25T04:23:12.788Z"
      },
      {
        "duration": 1332,
        "start_time": "2022-03-25T04:23:14.254Z"
      },
      {
        "duration": 1332,
        "start_time": "2022-03-25T04:23:15.589Z"
      },
      {
        "duration": 1993,
        "start_time": "2022-03-25T05:55:21.875Z"
      },
      {
        "duration": 243,
        "start_time": "2022-03-25T05:55:23.872Z"
      },
      {
        "duration": 236,
        "start_time": "2022-03-25T05:55:24.117Z"
      },
      {
        "duration": 242,
        "start_time": "2022-03-25T05:55:24.357Z"
      },
      {
        "duration": 5,
        "start_time": "2022-03-25T05:55:24.602Z"
      },
      {
        "duration": 79,
        "start_time": "2022-03-25T05:55:24.609Z"
      },
      {
        "duration": 45,
        "start_time": "2022-03-25T05:55:24.690Z"
      },
      {
        "duration": 85,
        "start_time": "2022-03-25T05:55:24.737Z"
      },
      {
        "duration": 29,
        "start_time": "2022-03-25T05:55:24.824Z"
      },
      {
        "duration": 35,
        "start_time": "2022-03-25T05:55:24.859Z"
      },
      {
        "duration": 21,
        "start_time": "2022-03-25T05:55:24.896Z"
      },
      {
        "duration": 22,
        "start_time": "2022-03-25T05:55:24.919Z"
      },
      {
        "duration": 18,
        "start_time": "2022-03-25T05:55:24.944Z"
      },
      {
        "duration": 35,
        "start_time": "2022-03-25T05:55:24.964Z"
      },
      {
        "duration": 32,
        "start_time": "2022-03-25T05:55:25.001Z"
      },
      {
        "duration": 14,
        "start_time": "2022-03-25T05:55:25.035Z"
      },
      {
        "duration": 19,
        "start_time": "2022-03-25T05:55:25.051Z"
      },
      {
        "duration": 699,
        "start_time": "2022-03-25T05:55:25.073Z"
      },
      {
        "duration": 663,
        "start_time": "2022-03-25T05:55:25.782Z"
      },
      {
        "duration": 487,
        "start_time": "2022-03-25T05:55:26.447Z"
      },
      {
        "duration": 666,
        "start_time": "2022-03-25T05:55:26.936Z"
      },
      {
        "duration": 82,
        "start_time": "2022-03-25T05:55:27.605Z"
      },
      {
        "duration": 63,
        "start_time": "2022-03-25T05:55:27.690Z"
      },
      {
        "duration": 82,
        "start_time": "2022-03-25T05:55:27.756Z"
      },
      {
        "duration": 6,
        "start_time": "2022-03-25T05:55:27.841Z"
      },
      {
        "duration": 40,
        "start_time": "2022-03-25T05:55:27.849Z"
      },
      {
        "duration": 6,
        "start_time": "2022-03-25T05:55:27.892Z"
      },
      {
        "duration": 180,
        "start_time": "2022-03-25T05:55:27.903Z"
      },
      {
        "duration": 106,
        "start_time": "2022-03-25T05:55:28.085Z"
      },
      {
        "duration": 312,
        "start_time": "2022-03-25T05:55:28.194Z"
      },
      {
        "duration": 404,
        "start_time": "2022-03-25T05:55:28.509Z"
      },
      {
        "duration": 111,
        "start_time": "2022-03-25T05:55:28.982Z"
      },
      {
        "duration": 190,
        "start_time": "2022-03-25T05:55:29.097Z"
      },
      {
        "duration": 104,
        "start_time": "2022-03-25T05:55:29.290Z"
      },
      {
        "duration": 194,
        "start_time": "2022-03-25T05:55:29.397Z"
      },
      {
        "duration": 197,
        "start_time": "2022-03-25T05:55:29.594Z"
      },
      {
        "duration": 199,
        "start_time": "2022-03-25T05:55:29.793Z"
      },
      {
        "duration": 11,
        "start_time": "2022-03-25T05:55:30.083Z"
      },
      {
        "duration": 12,
        "start_time": "2022-03-25T05:55:30.098Z"
      },
      {
        "duration": 18,
        "start_time": "2022-03-25T05:55:30.112Z"
      },
      {
        "duration": 19,
        "start_time": "2022-03-25T05:55:30.133Z"
      },
      {
        "duration": 30,
        "start_time": "2022-03-25T05:55:30.154Z"
      },
      {
        "duration": 677,
        "start_time": "2022-03-25T05:55:30.186Z"
      },
      {
        "duration": 464,
        "start_time": "2022-03-25T05:55:30.866Z"
      },
      {
        "duration": 988,
        "start_time": "2022-03-25T05:55:31.334Z"
      },
      {
        "duration": 10,
        "start_time": "2022-03-25T05:55:32.324Z"
      },
      {
        "duration": 1478,
        "start_time": "2022-03-25T05:55:32.337Z"
      },
      {
        "duration": 1330,
        "start_time": "2022-03-25T05:55:33.817Z"
      },
      {
        "duration": 1310,
        "start_time": "2022-03-25T05:55:35.149Z"
      },
      {
        "duration": 2419,
        "start_time": "2022-03-25T23:37:07.519Z"
      },
      {
        "duration": 179,
        "start_time": "2022-03-25T23:37:09.941Z"
      },
      {
        "duration": 162,
        "start_time": "2022-03-25T23:37:10.122Z"
      },
      {
        "duration": 166,
        "start_time": "2022-03-25T23:37:10.287Z"
      },
      {
        "duration": 4,
        "start_time": "2022-03-25T23:37:10.455Z"
      },
      {
        "duration": 53,
        "start_time": "2022-03-25T23:37:10.461Z"
      },
      {
        "duration": 66,
        "start_time": "2022-03-25T23:37:10.516Z"
      },
      {
        "duration": 80,
        "start_time": "2022-03-25T23:37:10.584Z"
      },
      {
        "duration": 22,
        "start_time": "2022-03-25T23:37:10.666Z"
      },
      {
        "duration": 5,
        "start_time": "2022-03-25T23:37:10.693Z"
      },
      {
        "duration": 12,
        "start_time": "2022-03-25T23:37:10.700Z"
      },
      {
        "duration": 7,
        "start_time": "2022-03-25T23:37:10.743Z"
      },
      {
        "duration": 6,
        "start_time": "2022-03-25T23:37:10.752Z"
      },
      {
        "duration": 22,
        "start_time": "2022-03-25T23:37:10.760Z"
      },
      {
        "duration": 22,
        "start_time": "2022-03-25T23:37:10.784Z"
      },
      {
        "duration": 16,
        "start_time": "2022-03-25T23:37:10.844Z"
      },
      {
        "duration": 11,
        "start_time": "2022-03-25T23:37:10.863Z"
      },
      {
        "duration": 1044,
        "start_time": "2022-03-25T23:37:10.877Z"
      },
      {
        "duration": 849,
        "start_time": "2022-03-25T23:37:11.923Z"
      },
      {
        "duration": 502,
        "start_time": "2022-03-25T23:37:12.774Z"
      },
      {
        "duration": 686,
        "start_time": "2022-03-25T23:37:13.279Z"
      },
      {
        "duration": 79,
        "start_time": "2022-03-25T23:37:13.967Z"
      },
      {
        "duration": 63,
        "start_time": "2022-03-25T23:37:14.049Z"
      },
      {
        "duration": 80,
        "start_time": "2022-03-25T23:37:14.114Z"
      },
      {
        "duration": 6,
        "start_time": "2022-03-25T23:37:14.196Z"
      },
      {
        "duration": 52,
        "start_time": "2022-03-25T23:37:14.205Z"
      },
      {
        "duration": 8,
        "start_time": "2022-03-25T23:37:14.260Z"
      },
      {
        "duration": 72,
        "start_time": "2022-03-25T23:37:14.276Z"
      },
      {
        "duration": 296,
        "start_time": "2022-03-25T23:37:14.351Z"
      },
      {
        "duration": 336,
        "start_time": "2022-03-25T23:37:14.650Z"
      },
      {
        "duration": 389,
        "start_time": "2022-03-25T23:37:14.989Z"
      },
      {
        "duration": 168,
        "start_time": "2022-03-25T23:37:15.380Z"
      },
      {
        "duration": 292,
        "start_time": "2022-03-25T23:37:15.551Z"
      },
      {
        "duration": 95,
        "start_time": "2022-03-25T23:37:15.852Z"
      },
      {
        "duration": 97,
        "start_time": "2022-03-25T23:37:15.951Z"
      },
      {
        "duration": 198,
        "start_time": "2022-03-25T23:37:16.050Z"
      },
      {
        "duration": 194,
        "start_time": "2022-03-25T23:37:16.251Z"
      },
      {
        "duration": 96,
        "start_time": "2022-03-25T23:37:16.448Z"
      },
      {
        "duration": 8,
        "start_time": "2022-03-25T23:37:16.547Z"
      },
      {
        "duration": 13,
        "start_time": "2022-03-25T23:37:16.557Z"
      },
      {
        "duration": 10,
        "start_time": "2022-03-25T23:37:16.572Z"
      },
      {
        "duration": 5,
        "start_time": "2022-03-25T23:37:16.584Z"
      },
      {
        "duration": 695,
        "start_time": "2022-03-25T23:37:16.591Z"
      },
      {
        "duration": 339,
        "start_time": "2022-03-25T23:37:17.289Z"
      },
      {
        "duration": 672,
        "start_time": "2022-03-25T23:37:17.631Z"
      },
      {
        "duration": 7,
        "start_time": "2022-03-25T23:37:18.305Z"
      },
      {
        "duration": 1411,
        "start_time": "2022-03-25T23:37:18.314Z"
      },
      {
        "duration": 1326,
        "start_time": "2022-03-25T23:37:19.727Z"
      },
      {
        "duration": 1299,
        "start_time": "2022-03-25T23:37:21.055Z"
      },
      {
        "duration": 1949,
        "start_time": "2022-03-25T23:41:12.561Z"
      },
      {
        "duration": 173,
        "start_time": "2022-03-25T23:41:14.512Z"
      },
      {
        "duration": 158,
        "start_time": "2022-03-25T23:41:14.687Z"
      },
      {
        "duration": 160,
        "start_time": "2022-03-25T23:41:14.849Z"
      },
      {
        "duration": 5,
        "start_time": "2022-03-25T23:41:15.011Z"
      },
      {
        "duration": 72,
        "start_time": "2022-03-25T23:41:15.019Z"
      },
      {
        "duration": 68,
        "start_time": "2022-03-25T23:41:15.094Z"
      },
      {
        "duration": 51,
        "start_time": "2022-03-25T23:41:15.164Z"
      },
      {
        "duration": 42,
        "start_time": "2022-03-25T23:41:15.217Z"
      },
      {
        "duration": 5,
        "start_time": "2022-03-25T23:41:15.265Z"
      },
      {
        "duration": 13,
        "start_time": "2022-03-25T23:41:15.272Z"
      },
      {
        "duration": 6,
        "start_time": "2022-03-25T23:41:15.287Z"
      },
      {
        "duration": 50,
        "start_time": "2022-03-25T23:41:15.295Z"
      },
      {
        "duration": 19,
        "start_time": "2022-03-25T23:41:15.347Z"
      },
      {
        "duration": 16,
        "start_time": "2022-03-25T23:41:15.368Z"
      },
      {
        "duration": 12,
        "start_time": "2022-03-25T23:41:15.386Z"
      },
      {
        "duration": 43,
        "start_time": "2022-03-25T23:41:15.400Z"
      },
      {
        "duration": 1017,
        "start_time": "2022-03-25T23:41:15.446Z"
      },
      {
        "duration": 984,
        "start_time": "2022-03-25T23:41:16.465Z"
      },
      {
        "duration": 666,
        "start_time": "2022-03-25T23:41:17.452Z"
      },
      {
        "duration": 659,
        "start_time": "2022-03-25T23:41:18.121Z"
      },
      {
        "duration": 62,
        "start_time": "2022-03-25T23:41:18.782Z"
      },
      {
        "duration": 47,
        "start_time": "2022-03-25T23:41:18.846Z"
      },
      {
        "duration": 66,
        "start_time": "2022-03-25T23:41:18.895Z"
      },
      {
        "duration": 5,
        "start_time": "2022-03-25T23:41:18.963Z"
      },
      {
        "duration": 23,
        "start_time": "2022-03-25T23:41:18.970Z"
      },
      {
        "duration": 7,
        "start_time": "2022-03-25T23:41:18.996Z"
      },
      {
        "duration": 133,
        "start_time": "2022-03-25T23:41:19.009Z"
      },
      {
        "duration": 140,
        "start_time": "2022-03-25T23:41:19.146Z"
      },
      {
        "duration": 330,
        "start_time": "2022-03-25T23:41:19.345Z"
      },
      {
        "duration": 395,
        "start_time": "2022-03-25T23:41:19.678Z"
      },
      {
        "duration": 203,
        "start_time": "2022-03-25T23:41:20.144Z"
      },
      {
        "duration": 104,
        "start_time": "2022-03-25T23:41:20.353Z"
      },
      {
        "duration": 83,
        "start_time": "2022-03-25T23:41:20.461Z"
      },
      {
        "duration": 201,
        "start_time": "2022-03-25T23:41:20.548Z"
      },
      {
        "duration": 198,
        "start_time": "2022-03-25T23:41:20.753Z"
      },
      {
        "duration": 194,
        "start_time": "2022-03-25T23:41:20.953Z"
      },
      {
        "duration": 11,
        "start_time": "2022-03-25T23:41:21.242Z"
      },
      {
        "duration": 3,
        "start_time": "2022-03-25T23:41:21.256Z"
      },
      {
        "duration": 10,
        "start_time": "2022-03-25T23:41:21.261Z"
      },
      {
        "duration": 8,
        "start_time": "2022-03-25T23:41:21.273Z"
      },
      {
        "duration": 6,
        "start_time": "2022-03-25T23:41:21.283Z"
      },
      {
        "duration": 701,
        "start_time": "2022-03-25T23:41:21.291Z"
      },
      {
        "duration": 335,
        "start_time": "2022-03-25T23:41:21.994Z"
      },
      {
        "duration": 689,
        "start_time": "2022-03-25T23:41:22.331Z"
      },
      {
        "duration": 6,
        "start_time": "2022-03-25T23:41:23.022Z"
      },
      {
        "duration": 1522,
        "start_time": "2022-03-25T23:41:23.042Z"
      },
      {
        "duration": 1384,
        "start_time": "2022-03-25T23:41:24.567Z"
      },
      {
        "duration": 1324,
        "start_time": "2022-03-25T23:41:25.953Z"
      },
      {
        "duration": 2013,
        "start_time": "2022-03-25T23:43:55.326Z"
      },
      {
        "duration": 170,
        "start_time": "2022-03-25T23:43:57.342Z"
      },
      {
        "duration": 160,
        "start_time": "2022-03-25T23:43:57.514Z"
      },
      {
        "duration": 234,
        "start_time": "2022-03-25T23:43:57.678Z"
      },
      {
        "duration": 5,
        "start_time": "2022-03-25T23:43:57.915Z"
      },
      {
        "duration": 82,
        "start_time": "2022-03-25T23:43:57.923Z"
      },
      {
        "duration": 60,
        "start_time": "2022-03-25T23:43:58.007Z"
      },
      {
        "duration": 49,
        "start_time": "2022-03-25T23:43:58.069Z"
      },
      {
        "duration": 46,
        "start_time": "2022-03-25T23:43:58.120Z"
      },
      {
        "duration": 5,
        "start_time": "2022-03-25T23:43:58.171Z"
      },
      {
        "duration": 16,
        "start_time": "2022-03-25T23:43:58.179Z"
      },
      {
        "duration": 6,
        "start_time": "2022-03-25T23:43:58.197Z"
      },
      {
        "duration": 40,
        "start_time": "2022-03-25T23:43:58.206Z"
      },
      {
        "duration": 23,
        "start_time": "2022-03-25T23:43:58.249Z"
      },
      {
        "duration": 24,
        "start_time": "2022-03-25T23:43:58.274Z"
      },
      {
        "duration": 45,
        "start_time": "2022-03-25T23:43:58.300Z"
      },
      {
        "duration": 5,
        "start_time": "2022-03-25T23:43:58.347Z"
      },
      {
        "duration": 696,
        "start_time": "2022-03-25T23:43:58.355Z"
      },
      {
        "duration": 674,
        "start_time": "2022-03-25T23:43:59.053Z"
      },
      {
        "duration": 481,
        "start_time": "2022-03-25T23:43:59.730Z"
      },
      {
        "duration": 678,
        "start_time": "2022-03-25T23:44:00.213Z"
      },
      {
        "duration": 64,
        "start_time": "2022-03-25T23:44:00.893Z"
      },
      {
        "duration": 50,
        "start_time": "2022-03-25T23:44:00.959Z"
      },
      {
        "duration": 71,
        "start_time": "2022-03-25T23:44:01.011Z"
      },
      {
        "duration": 5,
        "start_time": "2022-03-25T23:44:01.084Z"
      },
      {
        "duration": 54,
        "start_time": "2022-03-25T23:44:01.092Z"
      },
      {
        "duration": 8,
        "start_time": "2022-03-25T23:44:01.149Z"
      },
      {
        "duration": 84,
        "start_time": "2022-03-25T23:44:01.165Z"
      },
      {
        "duration": 290,
        "start_time": "2022-03-25T23:44:01.252Z"
      },
      {
        "duration": 306,
        "start_time": "2022-03-25T23:44:01.544Z"
      },
      {
        "duration": 327,
        "start_time": "2022-03-25T23:44:01.853Z"
      },
      {
        "duration": 166,
        "start_time": "2022-03-25T23:44:02.182Z"
      },
      {
        "duration": 215,
        "start_time": "2022-03-25T23:44:02.351Z"
      },
      {
        "duration": 81,
        "start_time": "2022-03-25T23:44:02.569Z"
      },
      {
        "duration": 108,
        "start_time": "2022-03-25T23:44:02.742Z"
      },
      {
        "duration": 191,
        "start_time": "2022-03-25T23:44:02.853Z"
      },
      {
        "duration": 194,
        "start_time": "2022-03-25T23:44:03.050Z"
      },
      {
        "duration": 97,
        "start_time": "2022-03-25T23:44:03.247Z"
      },
      {
        "duration": 5,
        "start_time": "2022-03-25T23:44:03.347Z"
      },
      {
        "duration": 12,
        "start_time": "2022-03-25T23:44:03.354Z"
      },
      {
        "duration": 15,
        "start_time": "2022-03-25T23:44:03.368Z"
      },
      {
        "duration": 4,
        "start_time": "2022-03-25T23:44:03.385Z"
      },
      {
        "duration": 711,
        "start_time": "2022-03-25T23:44:03.391Z"
      },
      {
        "duration": 476,
        "start_time": "2022-03-25T23:44:04.105Z"
      },
      {
        "duration": 978,
        "start_time": "2022-03-25T23:44:04.583Z"
      },
      {
        "duration": 9,
        "start_time": "2022-03-25T23:44:05.564Z"
      },
      {
        "duration": 1975,
        "start_time": "2022-03-25T23:44:05.576Z"
      },
      {
        "duration": 1813,
        "start_time": "2022-03-25T23:44:07.554Z"
      },
      {
        "duration": 1780,
        "start_time": "2022-03-25T23:44:09.370Z"
      },
      {
        "duration": 1967,
        "start_time": "2022-03-25T23:44:24.669Z"
      },
      {
        "duration": 167,
        "start_time": "2022-03-25T23:44:26.639Z"
      },
      {
        "duration": 159,
        "start_time": "2022-03-25T23:44:26.809Z"
      },
      {
        "duration": 162,
        "start_time": "2022-03-25T23:44:26.971Z"
      },
      {
        "duration": 9,
        "start_time": "2022-03-25T23:44:27.135Z"
      },
      {
        "duration": 54,
        "start_time": "2022-03-25T23:44:27.146Z"
      },
      {
        "duration": 68,
        "start_time": "2022-03-25T23:44:27.202Z"
      },
      {
        "duration": 69,
        "start_time": "2022-03-25T23:44:27.275Z"
      },
      {
        "duration": 22,
        "start_time": "2022-03-25T23:44:27.346Z"
      },
      {
        "duration": 6,
        "start_time": "2022-03-25T23:44:27.374Z"
      },
      {
        "duration": 13,
        "start_time": "2022-03-25T23:44:27.382Z"
      },
      {
        "duration": 7,
        "start_time": "2022-03-25T23:44:27.397Z"
      },
      {
        "duration": 7,
        "start_time": "2022-03-25T23:44:27.444Z"
      },
      {
        "duration": 17,
        "start_time": "2022-03-25T23:44:27.453Z"
      },
      {
        "duration": 17,
        "start_time": "2022-03-25T23:44:27.472Z"
      },
      {
        "duration": 11,
        "start_time": "2022-03-25T23:44:27.491Z"
      },
      {
        "duration": 43,
        "start_time": "2022-03-25T23:44:27.504Z"
      },
      {
        "duration": 701,
        "start_time": "2022-03-25T23:44:27.550Z"
      },
      {
        "duration": 678,
        "start_time": "2022-03-25T23:44:28.253Z"
      },
      {
        "duration": 479,
        "start_time": "2022-03-25T23:44:28.934Z"
      },
      {
        "duration": 682,
        "start_time": "2022-03-25T23:44:29.415Z"
      },
      {
        "duration": 65,
        "start_time": "2022-03-25T23:44:30.100Z"
      },
      {
        "duration": 47,
        "start_time": "2022-03-25T23:44:30.168Z"
      },
      {
        "duration": 67,
        "start_time": "2022-03-25T23:44:30.217Z"
      },
      {
        "duration": 5,
        "start_time": "2022-03-25T23:44:30.286Z"
      },
      {
        "duration": 45,
        "start_time": "2022-03-25T23:44:30.294Z"
      },
      {
        "duration": 6,
        "start_time": "2022-03-25T23:44:30.342Z"
      },
      {
        "duration": 96,
        "start_time": "2022-03-25T23:44:30.353Z"
      },
      {
        "duration": 139,
        "start_time": "2022-03-25T23:44:30.452Z"
      },
      {
        "duration": 386,
        "start_time": "2022-03-25T23:44:30.593Z"
      },
      {
        "duration": 334,
        "start_time": "2022-03-25T23:44:31.044Z"
      },
      {
        "duration": 107,
        "start_time": "2022-03-25T23:44:31.446Z"
      },
      {
        "duration": 189,
        "start_time": "2022-03-25T23:44:31.557Z"
      },
      {
        "duration": 8,
        "start_time": "2022-03-25T23:44:31.842Z"
      },
      {
        "duration": 92,
        "start_time": "2022-03-25T23:44:31.852Z"
      },
      {
        "duration": 198,
        "start_time": "2022-03-25T23:44:31.948Z"
      },
      {
        "duration": 195,
        "start_time": "2022-03-25T23:44:32.153Z"
      },
      {
        "duration": 95,
        "start_time": "2022-03-25T23:44:32.351Z"
      },
      {
        "duration": 22,
        "start_time": "2022-03-25T23:44:32.449Z"
      },
      {
        "duration": 13,
        "start_time": "2022-03-25T23:44:32.474Z"
      },
      {
        "duration": 16,
        "start_time": "2022-03-25T23:44:32.489Z"
      },
      {
        "duration": 12,
        "start_time": "2022-03-25T23:44:32.508Z"
      },
      {
        "duration": 988,
        "start_time": "2022-03-25T23:44:32.522Z"
      },
      {
        "duration": 455,
        "start_time": "2022-03-25T23:44:33.513Z"
      },
      {
        "duration": 978,
        "start_time": "2022-03-25T23:44:33.971Z"
      },
      {
        "duration": 10,
        "start_time": "2022-03-25T23:44:34.951Z"
      },
      {
        "duration": 1457,
        "start_time": "2022-03-25T23:44:34.964Z"
      },
      {
        "duration": 1298,
        "start_time": "2022-03-25T23:44:36.423Z"
      },
      {
        "duration": 1283,
        "start_time": "2022-03-25T23:44:37.723Z"
      }
    ],
    "kernelspec": {
      "display_name": "Python 3 (ipykernel)",
      "language": "python",
      "name": "python3"
    },
    "language_info": {
      "codemirror_mode": {
        "name": "ipython",
        "version": 3
      },
      "file_extension": ".py",
      "mimetype": "text/x-python",
      "name": "python",
      "nbconvert_exporter": "python",
      "pygments_lexer": "ipython3",
      "version": "3.9.5"
    },
    "toc": {
      "base_numbering": 1,
      "nav_menu": {},
      "number_sections": true,
      "sideBar": true,
      "skip_h1_title": true,
      "title_cell": "Table of Contents",
      "title_sidebar": "Contents",
      "toc_cell": false,
      "toc_position": {},
      "toc_section_display": true,
      "toc_window_display": false
    },
    "colab": {
      "name": "41375149-1f9d-4fa0-af4d-1083c203617f.ipynb",
      "provenance": []
    }
  },
  "nbformat": 4,
  "nbformat_minor": 0
}