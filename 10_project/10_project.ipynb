{
  "cells": [
    {
      "cell_type": "markdown",
      "metadata": {
        "id": "QD4E59ghAXnO",
        "toc": true
      },
      "source": [
        "<h1>Содержание<span class=\"tocSkip\"></span></h1>\n",
        "<div class=\"toc\"><ul class=\"toc-item\"><li><span><a href=\"#Загрузка-данных\" data-toc-modified-id=\"Загрузка-данных-1\"><span class=\"toc-item-num\">1&nbsp;&nbsp;</span>Загрузка данных</a></span></li><li><span><a href=\"#Вывод\" data-toc-modified-id=\"Вывод-2\"><span class=\"toc-item-num\">2&nbsp;&nbsp;</span>Вывод</a></span></li><li><span><a href=\"#Умножение-матриц\" data-toc-modified-id=\"Умножение-матриц-3\"><span class=\"toc-item-num\">3&nbsp;&nbsp;</span>Умножение матриц</a></span></li><li><span><a href=\"#Алгоритм-преобразования\" data-toc-modified-id=\"Алгоритм-преобразования-4\"><span class=\"toc-item-num\">4&nbsp;&nbsp;</span>Алгоритм преобразования</a></span></li><li><span><a href=\"#Проверка-алгоритма\" data-toc-modified-id=\"Проверка-алгоритма-5\"><span class=\"toc-item-num\">5&nbsp;&nbsp;</span>Проверка алгоритма</a></span></li><li><span><a href=\"#Чек-лист-проверки\" data-toc-modified-id=\"Чек-лист-проверки-6\"><span class=\"toc-item-num\">6&nbsp;&nbsp;</span>Чек-лист проверки</a></span></li></ul></div>"
      ]
    },
    {
      "cell_type": "markdown",
      "metadata": {
        "id": "YUt6KoYMAXnO"
      },
      "source": [
        "# Защита персональных данных клиентов"
      ]
    },
    {
      "cell_type": "markdown",
      "metadata": {
        "id": "G_je9uouAXnP"
      },
      "source": [
        "Вам нужно защитить данные клиентов страховой компании «Хоть потоп». Разработайте такой метод преобразования данных, чтобы по ним было сложно восстановить персональную информацию. Обоснуйте корректность его работы.\n",
        "\n",
        "Нужно защитить данные, чтобы при преобразовании качество моделей машинного обучения не ухудшилось. Подбирать наилучшую модель не требуется."
      ]
    },
    {
      "cell_type": "markdown",
      "metadata": {
        "id": "3M549aWYAXnQ"
      },
      "source": [
        "## Загрузка данных"
      ]
    },
    {
      "cell_type": "code",
      "execution_count": null,
      "metadata": {
        "id": "iJMJ73sPAXnQ"
      },
      "outputs": [],
      "source": [
        "import pandas as pd\n",
        "import numpy as np\n",
        "from sklearn.model_selection import train_test_split\n",
        "from sklearn.preprocessing import StandardScaler\n",
        "from sklearn.pipeline import Pipeline\n",
        "from sklearn.linear_model import LinearRegression\n",
        "from sklearn.metrics import r2_score"
      ]
    },
    {
      "cell_type": "markdown",
      "metadata": {
        "id": "pnofJaCuAXnS"
      },
      "source": [
        "подключение бибилиотек"
      ]
    },
    {
      "cell_type": "code",
      "execution_count": null,
      "metadata": {
        "id": "VNuc0OLPAXnT",
        "outputId": "29fc2904-c486-47ba-c6e6-dd71f98db296"
      },
      "outputs": [
        {
          "name": "stdout",
          "output_type": "stream",
          "text": [
            "<class 'pandas.core.frame.DataFrame'>\n",
            "RangeIndex: 5000 entries, 0 to 4999\n",
            "Data columns (total 5 columns):\n",
            " #   Column             Non-Null Count  Dtype  \n",
            "---  ------             --------------  -----  \n",
            " 0   Пол                5000 non-null   int64  \n",
            " 1   Возраст            5000 non-null   float64\n",
            " 2   Зарплата           5000 non-null   float64\n",
            " 3   Члены семьи        5000 non-null   int64  \n",
            " 4   Страховые выплаты  5000 non-null   int64  \n",
            "dtypes: float64(2), int64(3)\n",
            "memory usage: 195.4 KB\n"
          ]
        }
      ],
      "source": [
        "insurance_data = pd.read_csv('/datasets/insurance.csv')\n",
        "insurance_data.info()"
      ]
    },
    {
      "cell_type": "markdown",
      "metadata": {
        "id": "lKDeTJaqAXnU"
      },
      "source": [
        "подключение датасета и вывод информации о нем"
      ]
    },
    {
      "cell_type": "code",
      "execution_count": null,
      "metadata": {
        "id": "u1z38IRlAXnU",
        "outputId": "4c921b2e-906e-4b21-b395-305ac9251904"
      },
      "outputs": [
        {
          "data": {
            "text/html": [
              "<div>\n",
              "<style scoped>\n",
              "    .dataframe tbody tr th:only-of-type {\n",
              "        vertical-align: middle;\n",
              "    }\n",
              "\n",
              "    .dataframe tbody tr th {\n",
              "        vertical-align: top;\n",
              "    }\n",
              "\n",
              "    .dataframe thead th {\n",
              "        text-align: right;\n",
              "    }\n",
              "</style>\n",
              "<table border=\"1\" class=\"dataframe\">\n",
              "  <thead>\n",
              "    <tr style=\"text-align: right;\">\n",
              "      <th></th>\n",
              "      <th>Пол</th>\n",
              "      <th>Возраст</th>\n",
              "      <th>Зарплата</th>\n",
              "      <th>Члены семьи</th>\n",
              "      <th>Страховые выплаты</th>\n",
              "    </tr>\n",
              "  </thead>\n",
              "  <tbody>\n",
              "    <tr>\n",
              "      <th>0</th>\n",
              "      <td>1</td>\n",
              "      <td>41.0</td>\n",
              "      <td>49600.0</td>\n",
              "      <td>1</td>\n",
              "      <td>0</td>\n",
              "    </tr>\n",
              "    <tr>\n",
              "      <th>1</th>\n",
              "      <td>0</td>\n",
              "      <td>46.0</td>\n",
              "      <td>38000.0</td>\n",
              "      <td>1</td>\n",
              "      <td>1</td>\n",
              "    </tr>\n",
              "    <tr>\n",
              "      <th>2</th>\n",
              "      <td>0</td>\n",
              "      <td>29.0</td>\n",
              "      <td>21000.0</td>\n",
              "      <td>0</td>\n",
              "      <td>0</td>\n",
              "    </tr>\n",
              "    <tr>\n",
              "      <th>3</th>\n",
              "      <td>0</td>\n",
              "      <td>21.0</td>\n",
              "      <td>41700.0</td>\n",
              "      <td>2</td>\n",
              "      <td>0</td>\n",
              "    </tr>\n",
              "    <tr>\n",
              "      <th>4</th>\n",
              "      <td>1</td>\n",
              "      <td>28.0</td>\n",
              "      <td>26100.0</td>\n",
              "      <td>0</td>\n",
              "      <td>0</td>\n",
              "    </tr>\n",
              "  </tbody>\n",
              "</table>\n",
              "</div>"
            ],
            "text/plain": [
              "   Пол  Возраст  Зарплата  Члены семьи  Страховые выплаты\n",
              "0    1     41.0   49600.0            1                  0\n",
              "1    0     46.0   38000.0            1                  1\n",
              "2    0     29.0   21000.0            0                  0\n",
              "3    0     21.0   41700.0            2                  0\n",
              "4    1     28.0   26100.0            0                  0"
            ]
          },
          "execution_count": 3,
          "metadata": {},
          "output_type": "execute_result"
        }
      ],
      "source": [
        "insurance_data.head()"
      ]
    },
    {
      "cell_type": "markdown",
      "metadata": {
        "id": "EXwBhMHYAXnV"
      },
      "source": [
        "вывод первых пяти строчек датасета"
      ]
    },
    {
      "cell_type": "code",
      "execution_count": null,
      "metadata": {
        "id": "JLEHQTLPAXnV"
      },
      "outputs": [],
      "source": [
        "def show_rows(data_frame):\n",
        "    for column in data_frame.columns:\n",
        "        print('Уникальные значения столбца', column)\n",
        "        print(data_frame[column].unique())\n",
        "    print('Количество пропусков в каждом столбце')    \n",
        "    print(data_frame.isna().mean())"
      ]
    },
    {
      "cell_type": "markdown",
      "metadata": {
        "id": "f6HoOXr1AXnV"
      },
      "source": [
        "функция для показа уникальных значений столбца и количества пропусков в датасете"
      ]
    },
    {
      "cell_type": "code",
      "execution_count": null,
      "metadata": {
        "id": "O_YgXyyPAXnW",
        "outputId": "7a3206d9-72da-476a-f24d-2f7233c932ef",
        "scrolled": true
      },
      "outputs": [
        {
          "name": "stdout",
          "output_type": "stream",
          "text": [
            "Уникальные значения столбца Пол\n",
            "[1 0]\n",
            "Уникальные значения столбца Возраст\n",
            "[41. 46. 29. 21. 28. 43. 39. 25. 36. 32. 38. 23. 40. 34. 26. 42. 27. 33.\n",
            " 47. 30. 19. 31. 22. 20. 24. 18. 37. 48. 45. 44. 52. 49. 35. 56. 65. 55.\n",
            " 57. 54. 50. 53. 51. 58. 59. 60. 61. 62.]\n",
            "Уникальные значения столбца Зарплата\n",
            "[49600. 38000. 21000. 41700. 26100. 41000. 39700. 38600. 49700. 51700.\n",
            " 36600. 29300. 39500. 55000. 43700. 23300. 48900. 33200. 36900. 43500.\n",
            " 36100. 26600. 48700. 40400. 38400. 34600. 34800. 36800. 42200. 46300.\n",
            " 30300. 51000. 28100. 64800. 30400. 45300. 38300. 49500. 19400. 40200.\n",
            " 31700. 69200. 33100. 31600. 34500. 38700. 39600. 42400. 34900. 30500.\n",
            " 24200. 49900. 14300. 47000. 44800. 43800. 42700. 35400. 57200. 29600.\n",
            " 37400. 48100. 33700. 61800. 39400. 15600. 52600. 37600. 52500. 32700.\n",
            " 51600. 60900. 41800. 47400. 26500. 45900. 35700. 34300. 26700. 25700.\n",
            " 33300. 31100. 31500. 42100. 37300. 42500. 27300. 46800. 33500. 44300.\n",
            " 41600. 53900. 40100. 44600. 45000. 32000. 38200. 33000. 38500. 51800.\n",
            " 33800. 46400. 43200. 31800. 50200. 35100. 30700. 45800. 49300. 42800.\n",
            " 33600. 50300. 34000. 36400. 44900. 43600. 54600. 52800. 29700. 39000.\n",
            " 44100. 31900. 37700. 35200. 43100. 51300. 47500. 40800. 26800. 64900.\n",
            " 35900. 31200. 39900. 43300. 33900. 40700. 44700. 53400. 30600. 56000.\n",
            " 35600. 55200. 40600. 48300. 50800. 41200. 44200. 44400. 40500. 39800.\n",
            " 16600. 48400. 25100. 23100. 32100. 31000. 42900. 46700. 26000. 55900.\n",
            " 52000. 41500. 49400. 60300. 45600. 49000. 37500. 21900. 45100. 47900.\n",
            " 54300. 32400. 41300. 44500. 23200. 37900. 48000. 52100. 45700. 29900.\n",
            " 42600. 45200. 36000. 46500. 23800. 30200. 24400. 32800. 29000. 43400.\n",
            " 51500. 61700. 45400. 50700. 36200. 41900. 27900. 47200. 48800. 55100.\n",
            " 48200. 35500. 35000. 43900. 40000. 22000. 40300. 36300. 49800. 25600.\n",
            " 42300. 54900. 25500. 32900. 36700. 38900. 24700. 28800. 22900. 47300.\n",
            " 14500. 28700. 44000. 34100. 53000. 59300. 28500. 47100. 41400. 58900.\n",
            " 17500. 54200. 43000. 29800. 20000. 13800. 27500. 67700. 28000. 37100.\n",
            "  8900. 14600. 56200. 38800. 27700. 50500. 58400. 34700. 34400. 49100.\n",
            " 50900. 28200. 61500. 32500. 25900.  9800. 28300. 41100. 62000. 32600.\n",
            " 37200. 53800. 24000. 53600. 54800. 59600. 20200. 21700. 29200. 38100.\n",
            " 20700. 32300. 21200. 62100. 54000. 24500. 51900. 47800. 56100. 55300.\n",
            " 58100. 28900. 39100. 58000. 27200. 24600. 30100. 57100. 60100. 22200.\n",
            " 47700. 24900. 37800. 52700. 34200. 18700. 42000. 26300. 22600. 30900.\n",
            " 35800. 30800. 51100. 53300. 46200. 24100. 54700. 51200. 62300. 51400.\n",
            " 40900. 23400. 35300. 55800. 33400. 21300. 30000. 56700. 46900.  5300.\n",
            " 39200. 57500. 31300. 53700. 21600. 50000. 36500. 16400. 15900. 65100.\n",
            " 59900. 63200. 26200. 61200. 48500. 32200. 29100. 50100. 22700. 28600.\n",
            " 23500. 23700. 19600. 17800. 50600. 57900. 22500. 22100. 58300. 64100.\n",
            " 25000. 60400. 59100. 37000. 62400. 29500. 25800. 25400. 26900. 21500.\n",
            " 52200. 46600. 57300. 46100. 19300. 18900. 31400. 28400. 29400. 17600.\n",
            " 13900. 52400. 11300. 46000. 60500. 58700. 58200. 24800. 63700. 60600.\n",
            " 20400. 26400. 55600. 57000. 45500. 48600. 57600. 52900. 62800. 17000.\n",
            " 56500. 52300. 18400. 63300. 12900. 27000. 55700. 39300. 27800. 18300.\n",
            " 56300. 59800. 24300. 14400. 13400. 17900. 47600. 54500. 54400. 23900.\n",
            " 13000. 19900. 55400. 22800. 61000. 57400. 23000. 20500. 53200. 18100.\n",
            " 25300. 59500. 18200. 50400. 21100. 20900. 27400. 17300. 60700. 70600.\n",
            " 17700. 19700. 49200. 63100. 59200. 14700. 53100. 21800. 68000. 16500.\n",
            " 71400. 10000. 55500. 54100. 56400. 20600. 66300. 18800. 11000. 66100.\n",
            " 27100. 57800. 53500. 19200. 58500. 64000. 63600. 23600. 25200. 19100.\n",
            " 18600. 57700. 62700. 56600. 21400. 58800. 68400. 17100. 13300. 68500.\n",
            " 56900. 64400. 27600. 67200. 16200. 58600. 62200. 16000. 79000. 22300.\n",
            " 11200. 71600. 61300. 70500. 67100. 59000. 13500. 16700. 15700. 60000.\n",
            " 17400. 63400. 61900. 65200. 62600. 14100. 20100. 63800. 15100. 70000.\n",
            " 60200. 20300. 65900. 15200. 63500. 13200. 68900. 12200.  6000. 74800.\n",
            " 59700. 10800. 19000. 10600. 69400. 15000. 75200. 62500. 16300. 20800.\n",
            "  7400. 65300. 61400. 56800.]\n",
            "Уникальные значения столбца Члены семьи\n",
            "[1 0 2 4 3 5 6]\n",
            "Уникальные значения столбца Страховые выплаты\n",
            "[0 1 2 3 5 4]\n",
            "Количество пропусков в каждом столбце\n",
            "Пол                  0.0\n",
            "Возраст              0.0\n",
            "Зарплата             0.0\n",
            "Члены семьи          0.0\n",
            "Страховые выплаты    0.0\n",
            "dtype: float64\n"
          ]
        }
      ],
      "source": [
        "show_rows(insurance_data)"
      ]
    },
    {
      "cell_type": "markdown",
      "metadata": {
        "id": "2roNmKSdAXnW"
      },
      "source": [
        "Изменим тип данных в столбцах Возраст и Зарплата на целочисленный ввиду отсуствия дробных частей. \n",
        "Так же уменьшим обращение к памяти для остальных столбцов."
      ]
    },
    {
      "cell_type": "code",
      "execution_count": null,
      "metadata": {
        "id": "jUQoFK13AXnW",
        "outputId": "4b686ac6-9241-45ec-be71-736c064ac937",
        "scrolled": true
      },
      "outputs": [
        {
          "name": "stdout",
          "output_type": "stream",
          "text": [
            "<class 'pandas.core.frame.DataFrame'>\n",
            "RangeIndex: 5000 entries, 0 to 4999\n",
            "Data columns (total 5 columns):\n",
            " #   Column             Non-Null Count  Dtype  \n",
            "---  ------             --------------  -----  \n",
            " 0   Пол                5000 non-null   int8   \n",
            " 1   Возраст            5000 non-null   int8   \n",
            " 2   Зарплата           5000 non-null   float64\n",
            " 3   Члены семьи        5000 non-null   int8   \n",
            " 4   Страховые выплаты  5000 non-null   int8   \n",
            "dtypes: float64(1), int8(4)\n",
            "memory usage: 58.7 KB\n"
          ]
        }
      ],
      "source": [
        "insurance_data['Пол'] = pd.to_numeric(insurance_data['Пол'], downcast='integer')\n",
        "insurance_data['Возраст'] = pd.to_numeric(insurance_data['Возраст'], downcast='integer')\n",
        "insurance_data['Зарплата'] = pd.to_numeric(insurance_data['Зарплата'], downcast='integer')\n",
        "insurance_data['Члены семьи'] = pd.to_numeric(insurance_data['Члены семьи'], downcast='integer')\n",
        "insurance_data['Страховые выплаты'] = pd.to_numeric(insurance_data['Страховые выплаты'], downcast='integer')\n",
        "insurance_data.info()"
      ]
    },
    {
      "cell_type": "markdown",
      "metadata": {
        "id": "MuBmKHnTAXnX"
      },
      "source": [
        "Уменьшили датасет в памяти: 195.4 KB - 58.7 KB = 136.7 KB"
      ]
    },
    {
      "cell_type": "code",
      "execution_count": null,
      "metadata": {
        "id": "v8DLMGyXAXnX",
        "outputId": "0333d7d0-f972-4a3c-a549-f5ece3b4af59",
        "scrolled": true
      },
      "outputs": [
        {
          "data": {
            "text/html": [
              "<div>\n",
              "<style scoped>\n",
              "    .dataframe tbody tr th:only-of-type {\n",
              "        vertical-align: middle;\n",
              "    }\n",
              "\n",
              "    .dataframe tbody tr th {\n",
              "        vertical-align: top;\n",
              "    }\n",
              "\n",
              "    .dataframe thead th {\n",
              "        text-align: right;\n",
              "    }\n",
              "</style>\n",
              "<table border=\"1\" class=\"dataframe\">\n",
              "  <thead>\n",
              "    <tr style=\"text-align: right;\">\n",
              "      <th></th>\n",
              "      <th>count</th>\n",
              "      <th>mean</th>\n",
              "      <th>std</th>\n",
              "      <th>min</th>\n",
              "      <th>25%</th>\n",
              "      <th>50%</th>\n",
              "      <th>75%</th>\n",
              "      <th>max</th>\n",
              "    </tr>\n",
              "  </thead>\n",
              "  <tbody>\n",
              "    <tr>\n",
              "      <th>Пол</th>\n",
              "      <td>5000.0</td>\n",
              "      <td>0.4990</td>\n",
              "      <td>0.500049</td>\n",
              "      <td>0.0</td>\n",
              "      <td>0.0</td>\n",
              "      <td>0.0</td>\n",
              "      <td>1.0</td>\n",
              "      <td>1.0</td>\n",
              "    </tr>\n",
              "    <tr>\n",
              "      <th>Возраст</th>\n",
              "      <td>5000.0</td>\n",
              "      <td>30.9528</td>\n",
              "      <td>8.440807</td>\n",
              "      <td>18.0</td>\n",
              "      <td>24.0</td>\n",
              "      <td>30.0</td>\n",
              "      <td>37.0</td>\n",
              "      <td>65.0</td>\n",
              "    </tr>\n",
              "    <tr>\n",
              "      <th>Зарплата</th>\n",
              "      <td>5000.0</td>\n",
              "      <td>39916.3600</td>\n",
              "      <td>9900.083569</td>\n",
              "      <td>5300.0</td>\n",
              "      <td>33300.0</td>\n",
              "      <td>40200.0</td>\n",
              "      <td>46600.0</td>\n",
              "      <td>79000.0</td>\n",
              "    </tr>\n",
              "    <tr>\n",
              "      <th>Члены семьи</th>\n",
              "      <td>5000.0</td>\n",
              "      <td>1.1942</td>\n",
              "      <td>1.091387</td>\n",
              "      <td>0.0</td>\n",
              "      <td>0.0</td>\n",
              "      <td>1.0</td>\n",
              "      <td>2.0</td>\n",
              "      <td>6.0</td>\n",
              "    </tr>\n",
              "    <tr>\n",
              "      <th>Страховые выплаты</th>\n",
              "      <td>5000.0</td>\n",
              "      <td>0.1480</td>\n",
              "      <td>0.463183</td>\n",
              "      <td>0.0</td>\n",
              "      <td>0.0</td>\n",
              "      <td>0.0</td>\n",
              "      <td>0.0</td>\n",
              "      <td>5.0</td>\n",
              "    </tr>\n",
              "  </tbody>\n",
              "</table>\n",
              "</div>"
            ],
            "text/plain": [
              "                    count        mean          std     min      25%      50%  \\\n",
              "Пол                5000.0      0.4990     0.500049     0.0      0.0      0.0   \n",
              "Возраст            5000.0     30.9528     8.440807    18.0     24.0     30.0   \n",
              "Зарплата           5000.0  39916.3600  9900.083569  5300.0  33300.0  40200.0   \n",
              "Члены семьи        5000.0      1.1942     1.091387     0.0      0.0      1.0   \n",
              "Страховые выплаты  5000.0      0.1480     0.463183     0.0      0.0      0.0   \n",
              "\n",
              "                       75%      max  \n",
              "Пол                    1.0      1.0  \n",
              "Возраст               37.0     65.0  \n",
              "Зарплата           46600.0  79000.0  \n",
              "Члены семьи            2.0      6.0  \n",
              "Страховые выплаты      0.0      5.0  "
            ]
          },
          "execution_count": 7,
          "metadata": {},
          "output_type": "execute_result"
        }
      ],
      "source": [
        "insurance_data.describe().T"
      ]
    },
    {
      "cell_type": "markdown",
      "metadata": {
        "id": "jK1IPux3AXnY"
      },
      "source": [
        "Вывод сводной информации (статистики) датафрейма, в транспонированном виде"
      ]
    },
    {
      "cell_type": "markdown",
      "metadata": {
        "id": "nLoXBMPPAXnY"
      },
      "source": [
        "## Вывод\n",
        "Данные загружены и не имеют аномалий. Приведение типов позволит быстрее обрабатывать данные."
      ]
    },
    {
      "cell_type": "markdown",
      "metadata": {
        "id": "prkfAySlAXnZ"
      },
      "source": [
        "## Умножение матриц"
      ]
    },
    {
      "cell_type": "markdown",
      "metadata": {
        "id": "5T8NEplcAXnZ"
      },
      "source": [
        "Убедимся в том, что линейня регрессия из scikit-learn вычисляет значения по формуле."
      ]
    },
    {
      "cell_type": "code",
      "execution_count": null,
      "metadata": {
        "id": "pmpqugB0AXnZ"
      },
      "outputs": [],
      "source": [
        "features = insurance_data.drop('Страховые выплаты',axis=1)\n",
        "target = insurance_data['Страховые выплаты']"
      ]
    },
    {
      "cell_type": "code",
      "execution_count": null,
      "metadata": {
        "id": "JKy4hMEKAXnZ",
        "outputId": "8d63884d-2574-4075-e7ad-d19958f78c03",
        "scrolled": true
      },
      "outputs": [
        {
          "data": {
            "text/plain": [
              "array([ 7.92580543e-03,  3.57083050e-02, -1.70080492e-07, -1.35676623e-02])"
            ]
          },
          "metadata": {},
          "output_type": "display_data"
        },
        {
          "data": {
            "text/plain": [
              "array([ 7.92580543e-03,  3.57083050e-02, -1.70080492e-07, -1.35676623e-02])"
            ]
          },
          "execution_count": 9,
          "metadata": {},
          "output_type": "execute_result"
        }
      ],
      "source": [
        "X = np.concatenate((np.ones((features.shape[0], 1)), features), axis=1)\n",
        "y = target\n",
        "w = np.linalg.inv(X.T @ X) @ X.T @ y\n",
        "display(w[1:])\n",
        "model = LinearRegression()\n",
        "model.fit(features, target)\n",
        "model.coef_"
      ]
    },
    {
      "cell_type": "markdown",
      "metadata": {
        "id": "ERSBsnS7AXna"
      },
      "source": [
        "Коэфициенты регрессии совпадают на 100%. Теперь перейдем к теоретической части."
      ]
    },
    {
      "cell_type": "markdown",
      "metadata": {
        "id": "gWkAjRVIAXna"
      },
      "source": [
        "В этом задании вы можете записывать формулы в *Jupyter Notebook.*\n",
        "\n",
        "Чтобы записать формулу внутри текста, окружите её символами доллара \\\\$; если снаружи —  двойными символами \\\\$\\\\$. Эти формулы записываются на языке вёрстки *LaTeX.* \n",
        "\n",
        "Для примера мы записали формулы линейной регрессии. Можете их скопировать и отредактировать, чтобы решить задачу.\n",
        "\n",
        "Работать в *LaTeX* необязательно."
      ]
    },
    {
      "cell_type": "markdown",
      "metadata": {
        "id": "opLy_wmGAXna"
      },
      "source": [
        "Обозначения:\n",
        "\n",
        "- $X$ — матрица признаков (нулевой столбец состоит из единиц)\n",
        "\n",
        "- $y$ — вектор целевого признака\n",
        "\n",
        "- $P$ — матрица, на которую умножаются признаки\n",
        "\n",
        "- $w$ — вектор весов линейной регрессии (нулевой элемент равен сдвигу)"
      ]
    },
    {
      "cell_type": "markdown",
      "metadata": {
        "id": "OTzUHZflAXna"
      },
      "source": [
        "Предсказания:\n",
        "\n",
        "$$\n",
        "a = Xw\n",
        "$$\n",
        "\n",
        "Задача обучения:\n",
        "\n",
        "$$\n",
        "w = \\arg\\min_w MSE(Xw, y)\n",
        "$$\n",
        "\n",
        "Формула обучения:\n",
        "\n",
        "$$\n",
        "w = (X^T X)^{-1} X^T y\n",
        "$$"
      ]
    },
    {
      "cell_type": "markdown",
      "metadata": {
        "id": "4hhe3m7iAXna"
      },
      "source": [
        "**Вопрос:** Признаки умножают на обратимую матрицу. Изменится ли качество линейной регрессии?\n",
        "\n",
        "**Ответ:** не изменится.\n",
        "\n",
        "**Обоснование:** \n",
        "\n",
        "Умножим матрицу признаков $X$ на некую обратимую матрицу $P$ в формуле обучения вектора весов линейной регрессии $w$ :\n",
        "\n",
        "$$\n",
        "w' = ((XP^T XP)^{-1} (XP)^T y\n",
        "$$\n",
        "\n",
        "Проведем преобразования:\n",
        "\n",
        "$$\n",
        "((XP)^T XP)^{-1} (XP)^T y = \n",
        "$$\n",
        "\n",
        "$$\n",
        "(P^T X^T XP)^{-1} P^T X^T y =\n",
        "$$\n",
        "\n",
        "$$\n",
        "P^{-1}(P^T X^T X)^{-1} P^T X^T y =\n",
        "$$\n",
        "\n",
        "$$\n",
        "P^{-1}(X^T X)^{-1} (P^T)^{-1} P^T X^T y =\n",
        "$$\n",
        "\n",
        "$$\n",
        "P^{-1}(X^T X)^{-1} E X^T y =\n",
        "$$\n",
        "\n",
        "$$\n",
        "P^{-1}(X^T X)^{-1} X^T y\n",
        "$$\n",
        "\n",
        "\n",
        "\n",
        "Теперь подставим $w'$ в формулу предсказания $a = Xw$, не забывая умножить $X$ из этой формулы на нашу матрицу $P$:\n",
        "\n",
        "$$\n",
        "a' = X P P^{-1}(X^T X)^{-1} X^T y\n",
        "$$\n",
        "\n",
        "И преобразуем:\n",
        "$$\n",
        "X P P^{-1}(X^T X)^{-1} X^T y = \n",
        "$$\n",
        "\n",
        "$$\n",
        "X (P P^{-1})(X^T X)^{-1} X^T y = \n",
        "$$\n",
        "\n",
        "$$\n",
        "X E (X^T X)^{-1} X^T y = \n",
        "$$\n",
        "\n",
        "$$\n",
        "X (X^T X)^{-1} X^T y = Xw\n",
        "$$\n",
        "\n",
        "В итоге получается, что  $a'$ = $a$, а значит предсказания и, следовательно, качество линейной регресии не изменятся."
      ]
    },
    {
      "cell_type": "markdown",
      "metadata": {
        "id": "dHnh5crMAXnb"
      },
      "source": [
        "<div class=\"alert alert-danger\">\n",
        "<b>🚫 Комментарий ревьювера:</b> К сожалению, у тебя в доказательстве допущена небольшая, но принципиальная ошибка:\n",
        "    \n",
        "в выражении $(X^T X)^{-1}$ нельзя раскрывать скобки, т.е. нельзя отдельно записывать $(X^T)^{-1}$ и $X^{-1}$, так как матрицы $X$ и $X^T$ прямоугольные и для них не существует обратных матриц. Поправь пожалуйста доказательство, не раскрывая скобки.\n",
        "    \n",
        "Ничего страшного, многие на этом месте ошибаются =)\n",
        "</div>"
      ]
    },
    {
      "cell_type": "markdown",
      "metadata": {
        "id": "kTGZOLlMAXnb"
      },
      "source": [
        "## Алгоритм преобразования"
      ]
    },
    {
      "cell_type": "markdown",
      "metadata": {
        "id": "97CGweRGAXnb"
      },
      "source": [
        "**Алгоритм**\n",
        "\n",
        "Для защиты информации на этапе поиска коэффициентов регрессии и предсказаний регрессии будем умножать матрицу признаков на обратимую матрицу Y, которая будет генерироваться случайным образом.\n",
        "\n",
        "Этапы алгоритма:\n",
        "\n",
        "* Составление матрицы Y.\n",
        "* Проверка матрицы на обратимость. Вычисление детерминанта матрицы Y.\n",
        "* Получение матрицы преобразованных признаков Z=XY.\n",
        "* Применение алгоритма на преобразованных признаках Z."
      ]
    },
    {
      "cell_type": "markdown",
      "metadata": {
        "id": "l0kLGUaDAXnc"
      },
      "source": [
        "**Обоснование**\n",
        "\n",
        "Матрица Y должна иметь необходимую размерность (nxn), где n - количество признаков для регрессии. Таким образом матрица Z будет иметь туже размерность, что и матрица X. Обратная матрица Y существует только для квадратных невырожденных матриц (определитель которых не равен нулю).\n",
        "\n",
        "Пример:\n",
        "$$\n",
        "X = \\begin{pmatrix}\n",
        "1 & 2 \\\\\n",
        "2 & 3 \\\\\n",
        "4 & 5  \n",
        "\\end{pmatrix}\n",
        "\\qquad \n",
        "Y = \\begin{pmatrix}\n",
        "1 & 0 \\\\\n",
        "2 & 3 \\\\  \n",
        "\\end{pmatrix}\n",
        "\\qquad det  Y = 3\n",
        "$$\n",
        "\n",
        "Найдем значние Z:\n",
        "$$\n",
        "Z = \\begin{pmatrix}\n",
        "1 & 2 \\\\\n",
        "2 & 3 \\\\\n",
        "4 & 5  \n",
        "\\end{pmatrix} \\begin{pmatrix}\n",
        "1 & 0 \\\\\n",
        "2 & 3 \\\\  \n",
        "\\end{pmatrix} = \\begin{pmatrix}\n",
        "1*1+2*2 & 1*0+2*3  \\\\\n",
        "2*1+3*2 & 2*0+3*3  \\\\\n",
        "4*1+5*2 & 4*0+5*3   \n",
        "\\end{pmatrix} = \\begin{pmatrix}\n",
        "5 & 6 \\\\\n",
        "8 & 9 \\\\\n",
        "14 & 15  \n",
        "\\end{pmatrix}\n",
        "$$\n",
        "\n",
        "После этого добавляем нулевой столбец и вводим данные в линейную регрессию."
      ]
    },
    {
      "cell_type": "markdown",
      "metadata": {
        "id": "OVllHm5uAXnc"
      },
      "source": [
        "## Проверка алгоритма"
      ]
    },
    {
      "cell_type": "markdown",
      "metadata": {
        "id": "flgyuw2IAXnc"
      },
      "source": [
        "Проведем исследование модели по двум направлениям:\n",
        "\n",
        "1. Исследуем качество модели без преобразования.\n",
        "   1. С исходными признаками\n",
        "   1. С отмасштабированными признаками\n",
        "1. Исследуем качество модели с преобразованием.\n",
        "   1. С исходными признаками\n",
        "   1. С отмасштабированными признаками\n",
        "\n",
        "Разделим данные на обучающие и тестовые."
      ]
    },
    {
      "cell_type": "code",
      "execution_count": null,
      "metadata": {
        "id": "SZZmtznAAXnc"
      },
      "outputs": [],
      "source": [
        "features_train, features_test, target_train, target_test = train_test_split(\n",
        "    features, target, test_size=0.25, random_state=13052022)"
      ]
    },
    {
      "cell_type": "code",
      "execution_count": null,
      "metadata": {
        "id": "Z0UJuyvoAXnd",
        "outputId": "49a16a51-6ba9-4433-dd15-7203b84ea556",
        "scrolled": true
      },
      "outputs": [
        {
          "name": "stdout",
          "output_type": "stream",
          "text": [
            "w-vector coef [ 2.58872893e-03  3.55692860e-02  8.59931118e-08 -1.08074003e-02]\n",
            "R2 = 0.4304021179581724\n"
          ]
        }
      ],
      "source": [
        "model = LinearRegression()\n",
        "model.fit(features_train, target_train)\n",
        "R2_LR_origin_data = r2_score(target_test, model.predict(features_test))\n",
        "print(\"w-vector coef\", model.coef_)\n",
        "print(\"R2 =\", R2_LR_origin_data)"
      ]
    },
    {
      "cell_type": "code",
      "execution_count": null,
      "metadata": {
        "id": "WARlkuwfAXnd",
        "outputId": "c0260ba4-5e73-488c-bdd7-785186e295ca"
      },
      "outputs": [
        {
          "name": "stdout",
          "output_type": "stream",
          "text": [
            "R2 = 0.4304021179581752\n"
          ]
        }
      ],
      "source": [
        "regressor = LinearRegression()\n",
        "scaller = StandardScaler()\n",
        "pipeline = Pipeline([(\"standard_scaller\", scaller), (\"linear_regression\", regressor)])\n",
        "pipeline.fit(features_train, target_train)\n",
        "R2_LR_origin_data_scaled = r2_score(target_test, pipeline.predict(features_test))\n",
        "\n",
        "print(\"R2 =\", R2_LR_origin_data_scaled)"
      ]
    },
    {
      "cell_type": "markdown",
      "metadata": {
        "id": "DQTSJpfzAXnd"
      },
      "source": [
        "Модель ведет себя одинаково как на исходных данных, так и на отмасштабированных. Колебания 15 знака и дальше после запятой связано с точностью хранения дробных чисел в python 3."
      ]
    },
    {
      "cell_type": "markdown",
      "metadata": {
        "id": "IWYrp5UZAXnd"
      },
      "source": [
        "Создадим функцию преобразования матрицы признаков."
      ]
    },
    {
      "cell_type": "code",
      "execution_count": null,
      "metadata": {
        "id": "F77hC433AXnd"
      },
      "outputs": [],
      "source": [
        "def cipher_features(features):\n",
        "    crypted_features = features\n",
        "    n = features.shape[1]\n",
        "    np.random.seed(13052022)\n",
        "    cipher_matrix = np.random.randint(1, 10, (n,n))\n",
        "    det = np.linalg.det(cipher_matrix)\n",
        "    while det == 0:\n",
        "        np.random.seed(13052022)\n",
        "        cipher_matrix = np.random.randint(1, 10, (n,n))\n",
        "        det = np.linalg.det(cipher_matrix)\n",
        "    crypted_features = crypted_features @ cipher_matrix\n",
        "    return crypted_features, cipher_matrix"
      ]
    },
    {
      "cell_type": "markdown",
      "metadata": {
        "id": "0j1yzZvpAXne"
      },
      "source": [
        "Выведем данные до преобразования и после."
      ]
    },
    {
      "cell_type": "code",
      "execution_count": null,
      "metadata": {
        "id": "J_d5hC51AXne",
        "outputId": "2f65235e-7b17-4204-eaa5-c61031f9052c",
        "scrolled": true
      },
      "outputs": [
        {
          "data": {
            "text/html": [
              "<div>\n",
              "<style scoped>\n",
              "    .dataframe tbody tr th:only-of-type {\n",
              "        vertical-align: middle;\n",
              "    }\n",
              "\n",
              "    .dataframe tbody tr th {\n",
              "        vertical-align: top;\n",
              "    }\n",
              "\n",
              "    .dataframe thead th {\n",
              "        text-align: right;\n",
              "    }\n",
              "</style>\n",
              "<table border=\"1\" class=\"dataframe\">\n",
              "  <thead>\n",
              "    <tr style=\"text-align: right;\">\n",
              "      <th></th>\n",
              "      <th>Пол</th>\n",
              "      <th>Возраст</th>\n",
              "      <th>Зарплата</th>\n",
              "      <th>Члены семьи</th>\n",
              "    </tr>\n",
              "  </thead>\n",
              "  <tbody>\n",
              "    <tr>\n",
              "      <th>0</th>\n",
              "      <td>1</td>\n",
              "      <td>41</td>\n",
              "      <td>49600.0</td>\n",
              "      <td>1</td>\n",
              "    </tr>\n",
              "    <tr>\n",
              "      <th>1</th>\n",
              "      <td>0</td>\n",
              "      <td>46</td>\n",
              "      <td>38000.0</td>\n",
              "      <td>1</td>\n",
              "    </tr>\n",
              "    <tr>\n",
              "      <th>2</th>\n",
              "      <td>0</td>\n",
              "      <td>29</td>\n",
              "      <td>21000.0</td>\n",
              "      <td>0</td>\n",
              "    </tr>\n",
              "    <tr>\n",
              "      <th>3</th>\n",
              "      <td>0</td>\n",
              "      <td>21</td>\n",
              "      <td>41700.0</td>\n",
              "      <td>2</td>\n",
              "    </tr>\n",
              "    <tr>\n",
              "      <th>4</th>\n",
              "      <td>1</td>\n",
              "      <td>28</td>\n",
              "      <td>26100.0</td>\n",
              "      <td>0</td>\n",
              "    </tr>\n",
              "  </tbody>\n",
              "</table>\n",
              "</div>"
            ],
            "text/plain": [
              "   Пол  Возраст  Зарплата  Члены семьи\n",
              "0    1       41   49600.0            1\n",
              "1    0       46   38000.0            1\n",
              "2    0       29   21000.0            0\n",
              "3    0       21   41700.0            2\n",
              "4    1       28   26100.0            0"
            ]
          },
          "metadata": {},
          "output_type": "display_data"
        },
        {
          "data": {
            "text/html": [
              "<div>\n",
              "<style scoped>\n",
              "    .dataframe tbody tr th:only-of-type {\n",
              "        vertical-align: middle;\n",
              "    }\n",
              "\n",
              "    .dataframe tbody tr th {\n",
              "        vertical-align: top;\n",
              "    }\n",
              "\n",
              "    .dataframe thead th {\n",
              "        text-align: right;\n",
              "    }\n",
              "</style>\n",
              "<table border=\"1\" class=\"dataframe\">\n",
              "  <thead>\n",
              "    <tr style=\"text-align: right;\">\n",
              "      <th></th>\n",
              "      <th>0</th>\n",
              "      <th>1</th>\n",
              "      <th>2</th>\n",
              "      <th>3</th>\n",
              "    </tr>\n",
              "  </thead>\n",
              "  <tbody>\n",
              "    <tr>\n",
              "      <th>0</th>\n",
              "      <td>99503.0</td>\n",
              "      <td>99375.0</td>\n",
              "      <td>347498.0</td>\n",
              "      <td>446447.0</td>\n",
              "    </tr>\n",
              "    <tr>\n",
              "      <th>1</th>\n",
              "      <td>76330.0</td>\n",
              "      <td>76193.0</td>\n",
              "      <td>266324.0</td>\n",
              "      <td>342050.0</td>\n",
              "    </tr>\n",
              "    <tr>\n",
              "      <th>2</th>\n",
              "      <td>42203.0</td>\n",
              "      <td>42116.0</td>\n",
              "      <td>147203.0</td>\n",
              "      <td>189029.0</td>\n",
              "    </tr>\n",
              "    <tr>\n",
              "      <th>3</th>\n",
              "      <td>83563.0</td>\n",
              "      <td>83502.0</td>\n",
              "      <td>292051.0</td>\n",
              "      <td>375329.0</td>\n",
              "    </tr>\n",
              "    <tr>\n",
              "      <th>4</th>\n",
              "      <td>52404.0</td>\n",
              "      <td>52314.0</td>\n",
              "      <td>182905.0</td>\n",
              "      <td>234930.0</td>\n",
              "    </tr>\n",
              "  </tbody>\n",
              "</table>\n",
              "</div>"
            ],
            "text/plain": [
              "         0        1         2         3\n",
              "0  99503.0  99375.0  347498.0  446447.0\n",
              "1  76330.0  76193.0  266324.0  342050.0\n",
              "2  42203.0  42116.0  147203.0  189029.0\n",
              "3  83563.0  83502.0  292051.0  375329.0\n",
              "4  52404.0  52314.0  182905.0  234930.0"
            ]
          },
          "metadata": {},
          "output_type": "display_data"
        },
        {
          "data": {
            "text/plain": [
              "array([[8, 2, 9, 2],\n",
              "       [7, 4, 7, 1],\n",
              "       [2, 2, 7, 9],\n",
              "       [8, 9, 2, 4]])"
            ]
          },
          "execution_count": 14,
          "metadata": {},
          "output_type": "execute_result"
        }
      ],
      "source": [
        "display(features.head())\n",
        "features, cipher_matrix = cipher_features(features)\n",
        "display(features.head())\n",
        "cipher_matrix"
      ]
    },
    {
      "cell_type": "markdown",
      "metadata": {
        "id": "hylX4vlDAXnf"
      },
      "source": [
        "Как видно, данные потеряли свои оригинальные значения, теперь в них хранится непонятное число. Разобьем данные на тренировочную и обучающую выборку и проверим R2 значение."
      ]
    },
    {
      "cell_type": "code",
      "execution_count": null,
      "metadata": {
        "id": "VtvuJvMoAXnf"
      },
      "outputs": [],
      "source": [
        "features_train, features_test, target_train, target_test = train_test_split(\n",
        "    features, target, test_size=0.25, random_state=13052022)"
      ]
    },
    {
      "cell_type": "code",
      "execution_count": null,
      "metadata": {
        "id": "Pj9M0oVZAXnf",
        "outputId": "811b82ae-d692-49c6-854a-57a29465bb01",
        "scrolled": true
      },
      "outputs": [
        {
          "name": "stdout",
          "output_type": "stream",
          "text": [
            "w-vector coef [-0.01839821  0.01691878  0.01548528 -0.01171534]\n",
            "R2 = 0.43040211795804917\n"
          ]
        }
      ],
      "source": [
        "model = LinearRegression()\n",
        "model.fit(features_train, target_train)\n",
        "R2_LR_cipher_data = r2_score(target_test, model.predict(features_test))\n",
        "print(\"w-vector coef\",model.coef_)\n",
        "print(\"R2 =\", R2_LR_cipher_data)"
      ]
    },
    {
      "cell_type": "code",
      "execution_count": null,
      "metadata": {
        "id": "pCY9--hDAXnf",
        "outputId": "a790c7a4-9c4e-4f69-8765-ebc2017532f4",
        "scrolled": false
      },
      "outputs": [
        {
          "name": "stdout",
          "output_type": "stream",
          "text": [
            "R2 = 0.4304021179580899\n"
          ]
        }
      ],
      "source": [
        "regressor = LinearRegression()\n",
        "scaller = StandardScaler()\n",
        "pipeline = Pipeline([(\"standard_scaller\", scaller),(\"linear_regression\", regressor)])\n",
        "pipeline.fit(features_train, target_train)\n",
        "R2_LR_cipher_data_scaled = r2_score(target_test, pipeline.predict(features_test))\n",
        "print(\"R2 =\", R2_LR_cipher_data_scaled)"
      ]
    },
    {
      "cell_type": "markdown",
      "metadata": {
        "id": "Rqsa3pp9AXng"
      },
      "source": [
        "Сравним показатели качества моделей."
      ]
    },
    {
      "cell_type": "code",
      "execution_count": null,
      "metadata": {
        "id": "bSQRJR-ZAXng",
        "outputId": "1829bdbb-7b7d-45d0-e3cc-a4aeeade9127",
        "scrolled": true
      },
      "outputs": [
        {
          "data": {
            "text/html": [
              "<div>\n",
              "<style scoped>\n",
              "    .dataframe tbody tr th:only-of-type {\n",
              "        vertical-align: middle;\n",
              "    }\n",
              "\n",
              "    .dataframe tbody tr th {\n",
              "        vertical-align: top;\n",
              "    }\n",
              "\n",
              "    .dataframe thead th {\n",
              "        text-align: right;\n",
              "    }\n",
              "</style>\n",
              "<table border=\"1\" class=\"dataframe\">\n",
              "  <thead>\n",
              "    <tr style=\"text-align: right;\">\n",
              "      <th></th>\n",
              "      <th>R2</th>\n",
              "    </tr>\n",
              "  </thead>\n",
              "  <tbody>\n",
              "    <tr>\n",
              "      <th>Линейная регрессия</th>\n",
              "      <td>0.430402</td>\n",
              "    </tr>\n",
              "    <tr>\n",
              "      <th>Линейная регрессия c масштабом</th>\n",
              "      <td>0.430402</td>\n",
              "    </tr>\n",
              "    <tr>\n",
              "      <th>Линейная регрессия на преобразованных признаках</th>\n",
              "      <td>0.430402</td>\n",
              "    </tr>\n",
              "    <tr>\n",
              "      <th>Линейная регрессия на преобразованных признаках c масштабом</th>\n",
              "      <td>0.430402</td>\n",
              "    </tr>\n",
              "  </tbody>\n",
              "</table>\n",
              "</div>"
            ],
            "text/plain": [
              "                                                          R2\n",
              "Линейная регрессия                                  0.430402\n",
              "Линейная регрессия c масштабом                      0.430402\n",
              "Линейная регрессия на преобразованных признаках     0.430402\n",
              "Линейная регрессия на преобразованных признаках...  0.430402"
            ]
          },
          "execution_count": 18,
          "metadata": {},
          "output_type": "execute_result"
        }
      ],
      "source": [
        "result = pd.DataFrame(data= [R2_LR_origin_data_scaled,\n",
        "                      R2_LR_origin_data,\n",
        "                      R2_LR_cipher_data,\n",
        "                      R2_LR_cipher_data_scaled], \n",
        "                     columns=['R2'], \n",
        "                     index=['Линейная регрессия',\n",
        "                            'Линейная регрессия c масштабом',\n",
        "                            'Линейная регрессия на преобразованных признаках',\n",
        "                            'Линейная регрессия на преобразованных признаках c масштабом',])\n",
        "result"
      ]
    },
    {
      "cell_type": "markdown",
      "metadata": {
        "id": "RHMuZipXAXnh"
      },
      "source": [
        "# Итоговый вывод\n",
        "В ходе работы было проделано:\n",
        "\n",
        "* Загружены и изучены данные.\n",
        "* Качество линейной регресии не изменилось от использования исодной матрици и исходной матрицы, умноженную на обратимую.\n",
        "* Создан алгоритм преобразования данных.\n",
        "* Исследован алгоритм преобразования данных и проверена метрика R2 для данных без преобразования и с ним.\n",
        "\n",
        "По результатам работы использования матричных операций можно увидеть, что данные очень просто зашифровать от распознования, имея правильную матрицу."
      ]
    },
    {
      "cell_type": "code",
      "execution_count": null,
      "metadata": {
        "id": "mmI3bn2UAXni"
      },
      "outputs": [],
      "source": []
    }
  ],
  "metadata": {
    "ExecuteTimeLog": [
      {
        "duration": 1123,
        "start_time": "2022-05-13T08:11:43.480Z"
      },
      {
        "duration": 24,
        "start_time": "2022-05-13T08:12:23.057Z"
      },
      {
        "duration": 14,
        "start_time": "2022-05-13T08:13:03.513Z"
      },
      {
        "duration": 4,
        "start_time": "2022-05-13T08:13:29.712Z"
      },
      {
        "duration": 12,
        "start_time": "2022-05-13T08:13:44.073Z"
      },
      {
        "duration": 14,
        "start_time": "2022-05-13T08:18:25.150Z"
      },
      {
        "duration": 115,
        "start_time": "2022-05-13T08:19:21.066Z"
      },
      {
        "duration": 4,
        "start_time": "2022-05-13T08:21:37.544Z"
      },
      {
        "duration": 14,
        "start_time": "2022-05-13T08:21:48.670Z"
      },
      {
        "duration": 5,
        "start_time": "2022-05-13T08:53:22.053Z"
      },
      {
        "duration": 9,
        "start_time": "2022-05-13T08:53:35.523Z"
      },
      {
        "duration": 10,
        "start_time": "2022-05-13T08:54:31.250Z"
      },
      {
        "duration": 4,
        "start_time": "2022-05-13T08:55:36.084Z"
      },
      {
        "duration": 4,
        "start_time": "2022-05-13T08:55:55.217Z"
      },
      {
        "duration": 16,
        "start_time": "2022-05-13T08:56:06.817Z"
      },
      {
        "duration": 4,
        "start_time": "2022-05-13T08:56:42.132Z"
      },
      {
        "duration": 9,
        "start_time": "2022-05-13T08:56:52.171Z"
      },
      {
        "duration": 10,
        "start_time": "2022-05-13T08:57:19.587Z"
      },
      {
        "duration": 7,
        "start_time": "2022-05-13T08:57:50.501Z"
      },
      {
        "duration": 1103,
        "start_time": "2022-05-13T08:59:15.757Z"
      },
      {
        "duration": 58,
        "start_time": "2022-05-13T08:59:16.862Z"
      },
      {
        "duration": 15,
        "start_time": "2022-05-13T08:59:16.922Z"
      },
      {
        "duration": 4,
        "start_time": "2022-05-13T08:59:16.939Z"
      },
      {
        "duration": 12,
        "start_time": "2022-05-13T08:59:16.944Z"
      },
      {
        "duration": 15,
        "start_time": "2022-05-13T08:59:16.958Z"
      },
      {
        "duration": 5,
        "start_time": "2022-05-13T08:59:16.975Z"
      },
      {
        "duration": 13,
        "start_time": "2022-05-13T08:59:16.981Z"
      },
      {
        "duration": 78,
        "start_time": "2022-05-13T08:59:16.996Z"
      },
      {
        "duration": 100,
        "start_time": "2022-05-13T08:59:17.077Z"
      },
      {
        "duration": 10,
        "start_time": "2022-05-13T08:59:17.179Z"
      },
      {
        "duration": 3,
        "start_time": "2022-05-13T08:59:17.190Z"
      },
      {
        "duration": 18,
        "start_time": "2022-05-13T08:59:17.195Z"
      },
      {
        "duration": 4,
        "start_time": "2022-05-13T08:59:17.214Z"
      },
      {
        "duration": 9,
        "start_time": "2022-05-13T08:59:17.219Z"
      },
      {
        "duration": 44,
        "start_time": "2022-05-13T08:59:17.230Z"
      },
      {
        "duration": 8,
        "start_time": "2022-05-13T08:59:17.276Z"
      },
      {
        "duration": 1839,
        "start_time": "2022-05-13T10:16:00.603Z"
      },
      {
        "duration": 30,
        "start_time": "2022-05-13T10:16:02.445Z"
      },
      {
        "duration": 17,
        "start_time": "2022-05-13T10:16:02.476Z"
      },
      {
        "duration": 15,
        "start_time": "2022-05-13T10:16:02.496Z"
      },
      {
        "duration": 31,
        "start_time": "2022-05-13T10:16:02.513Z"
      },
      {
        "duration": 42,
        "start_time": "2022-05-13T10:16:02.546Z"
      },
      {
        "duration": 19,
        "start_time": "2022-05-13T10:16:02.590Z"
      },
      {
        "duration": 30,
        "start_time": "2022-05-13T10:16:02.611Z"
      },
      {
        "duration": 124,
        "start_time": "2022-05-13T10:16:02.643Z"
      },
      {
        "duration": 21,
        "start_time": "2022-05-13T10:16:02.770Z"
      },
      {
        "duration": 59,
        "start_time": "2022-05-13T10:16:02.793Z"
      },
      {
        "duration": 15,
        "start_time": "2022-05-13T10:16:02.855Z"
      },
      {
        "duration": 38,
        "start_time": "2022-05-13T10:16:02.872Z"
      },
      {
        "duration": 10,
        "start_time": "2022-05-13T10:16:02.912Z"
      },
      {
        "duration": 33,
        "start_time": "2022-05-13T10:16:02.924Z"
      },
      {
        "duration": 21,
        "start_time": "2022-05-13T10:16:02.959Z"
      },
      {
        "duration": 27,
        "start_time": "2022-05-13T10:16:02.981Z"
      },
      {
        "duration": 71,
        "start_time": "2022-05-14T11:21:46.347Z"
      },
      {
        "duration": 1552,
        "start_time": "2022-05-14T11:22:08.210Z"
      },
      {
        "duration": 77,
        "start_time": "2022-05-14T11:22:09.765Z"
      },
      {
        "duration": 23,
        "start_time": "2022-05-14T11:22:09.844Z"
      },
      {
        "duration": 5,
        "start_time": "2022-05-14T11:22:09.870Z"
      },
      {
        "duration": 21,
        "start_time": "2022-05-14T11:22:09.877Z"
      },
      {
        "duration": 23,
        "start_time": "2022-05-14T11:22:09.902Z"
      },
      {
        "duration": 39,
        "start_time": "2022-05-14T11:22:09.927Z"
      },
      {
        "duration": 6,
        "start_time": "2022-05-14T11:22:09.992Z"
      },
      {
        "duration": 91,
        "start_time": "2022-05-14T11:22:10.001Z"
      },
      {
        "duration": 6,
        "start_time": "2022-05-14T11:22:10.097Z"
      },
      {
        "duration": 101,
        "start_time": "2022-05-14T11:22:10.106Z"
      },
      {
        "duration": 18,
        "start_time": "2022-05-14T11:22:10.209Z"
      },
      {
        "duration": 5,
        "start_time": "2022-05-14T11:22:10.229Z"
      },
      {
        "duration": 57,
        "start_time": "2022-05-14T11:22:10.237Z"
      },
      {
        "duration": 7,
        "start_time": "2022-05-14T11:22:10.296Z"
      },
      {
        "duration": 14,
        "start_time": "2022-05-14T11:22:10.305Z"
      },
      {
        "duration": 16,
        "start_time": "2022-05-14T11:22:10.322Z"
      },
      {
        "duration": 12,
        "start_time": "2022-05-14T11:22:10.340Z"
      },
      {
        "duration": 1530,
        "start_time": "2022-05-14T13:21:56.420Z"
      },
      {
        "duration": 41,
        "start_time": "2022-05-14T13:21:57.954Z"
      },
      {
        "duration": 27,
        "start_time": "2022-05-14T13:21:57.998Z"
      },
      {
        "duration": 4,
        "start_time": "2022-05-14T13:21:58.028Z"
      },
      {
        "duration": 20,
        "start_time": "2022-05-14T13:21:58.034Z"
      },
      {
        "duration": 61,
        "start_time": "2022-05-14T13:21:58.055Z"
      },
      {
        "duration": 38,
        "start_time": "2022-05-14T13:21:58.118Z"
      },
      {
        "duration": 38,
        "start_time": "2022-05-14T13:21:58.159Z"
      },
      {
        "duration": 98,
        "start_time": "2022-05-14T13:21:58.199Z"
      },
      {
        "duration": 94,
        "start_time": "2022-05-14T13:21:58.302Z"
      },
      {
        "duration": 14,
        "start_time": "2022-05-14T13:21:58.398Z"
      },
      {
        "duration": 15,
        "start_time": "2022-05-14T13:21:58.414Z"
      },
      {
        "duration": 5,
        "start_time": "2022-05-14T13:21:58.432Z"
      },
      {
        "duration": 68,
        "start_time": "2022-05-14T13:21:58.439Z"
      },
      {
        "duration": 7,
        "start_time": "2022-05-14T13:21:58.510Z"
      },
      {
        "duration": 19,
        "start_time": "2022-05-14T13:21:58.519Z"
      },
      {
        "duration": 22,
        "start_time": "2022-05-14T13:21:58.540Z"
      },
      {
        "duration": 10,
        "start_time": "2022-05-14T13:21:58.594Z"
      }
    ],
    "colab": {
      "name": "e3385274-314d-4750-80a5-ba17fc93724f.ipynb",
      "provenance": []
    },
    "kernelspec": {
      "display_name": "Python 3 (ipykernel)",
      "language": "python",
      "name": "python3"
    },
    "language_info": {
      "codemirror_mode": {
        "name": "ipython",
        "version": 3
      },
      "file_extension": ".py",
      "mimetype": "text/x-python",
      "name": "python",
      "nbconvert_exporter": "python",
      "pygments_lexer": "ipython3",
      "version": "3.9.5"
    },
    "toc": {
      "base_numbering": 1,
      "nav_menu": {},
      "number_sections": true,
      "sideBar": true,
      "skip_h1_title": true,
      "title_cell": "Содержание",
      "title_sidebar": "Contents",
      "toc_cell": true,
      "toc_position": {},
      "toc_section_display": true,
      "toc_window_display": true
    }
  },
  "nbformat": 4,
  "nbformat_minor": 0
}
