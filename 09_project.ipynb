{
  "cells": [
    {
      "cell_type": "markdown",
      "metadata": {
        "toc": true,
        "id": "8WBWMIbe8FE6"
      },
      "source": [
        "<h1>Содержание<span class=\"tocSkip\"></span></h1>\n",
        "<div class=\"toc\"><ul class=\"toc-item\"><li><span><a href=\"#Подготовка-данных\" data-toc-modified-id=\"Подготовка-данных-1\"><span class=\"toc-item-num\">1&nbsp;&nbsp;</span>Подготовка данных</a></span><ul class=\"toc-item\"><li><span><a href=\"#Описание-проекта\" data-toc-modified-id=\"Описание-проекта-1.1\"><span class=\"toc-item-num\">1.1&nbsp;&nbsp;</span>Описание проекта</a></span></li><li><span><a href=\"#Метрика-качества\" data-toc-modified-id=\"Метрика-качества-1.2\"><span class=\"toc-item-num\">1.2&nbsp;&nbsp;</span>Метрика качества</a></span></li><li><span><a href=\"#Вывод\" data-toc-modified-id=\"Вывод-1.3\"><span class=\"toc-item-num\">1.3&nbsp;&nbsp;</span>Вывод</a></span></li></ul></li><li><span><a href=\"#Анализ-данных\" data-toc-modified-id=\"Анализ-данных-2\"><span class=\"toc-item-num\">2&nbsp;&nbsp;</span>Анализ данных</a></span><ul class=\"toc-item\"><li><span><a href=\"#Вывод\" data-toc-modified-id=\"Вывод-2.1\"><span class=\"toc-item-num\">2.1&nbsp;&nbsp;</span>Вывод</a></span></li></ul></li><li><span><a href=\"#Модель\" data-toc-modified-id=\"Модель-3\"><span class=\"toc-item-num\">3&nbsp;&nbsp;</span>Модель</a></span><ul class=\"toc-item\"><li><span><a href=\"#Вывод\" data-toc-modified-id=\"Вывод-3.1\"><span class=\"toc-item-num\">3.1&nbsp;&nbsp;</span>Вывод</a></span></li></ul></li><li><span><a href=\"#Итоговый-вывод\" data-toc-modified-id=\"Итоговый-вывод-4\"><span class=\"toc-item-num\">4&nbsp;&nbsp;</span>Итоговый вывод</a></span></li><li><span><a href=\"#Чек-лист-готовности-проекта\" data-toc-modified-id=\"Чек-лист-готовности-проекта-5\"><span class=\"toc-item-num\">5&nbsp;&nbsp;</span>Чек-лист готовности проекта</a></span></li></ul></div>"
      ]
    },
    {
      "cell_type": "markdown",
      "metadata": {
        "id": "rqkZ_jJ58FE7"
      },
      "source": [
        "# Восстановление золота из руды"
      ]
    },
    {
      "cell_type": "markdown",
      "metadata": {
        "id": "7KfUR9E-8FE7"
      },
      "source": [
        "Подготовьте прототип модели машинного обучения для «Цифры». Компания разрабатывает решения для эффективной работы промышленных предприятий.\n",
        "\n",
        "Модель должна предсказать коэффициент восстановления золота из золотосодержащей руды. Используйте данные с параметрами добычи и очистки. \n",
        "\n",
        "Модель поможет оптимизировать производство, чтобы не запускать предприятие с убыточными характеристиками.\n",
        "\n",
        "Вам нужно:\n",
        "\n",
        "1. Подготовить данные;\n",
        "2. Провести исследовательский анализ данных;\n",
        "3. Построить и обучить модель.\n",
        "\n",
        "Чтобы выполнить проект, обращайтесь к библиотекам *pandas*, *matplotlib* и *sklearn.* Вам поможет их документация."
      ]
    },
    {
      "cell_type": "markdown",
      "metadata": {
        "id": "3KnUPkBW8FE8"
      },
      "source": [
        "## Подготовка данных"
      ]
    },
    {
      "cell_type": "markdown",
      "metadata": {
        "id": "0Cs_MlML8FE8"
      },
      "source": [
        "### Описание проекта\n",
        "\n",
        "Данные находятся в трёх файлах:\n",
        "\n",
        "* gold_recovery_train_new.csv — обучающая выборка;\n",
        "* gold_recovery_test_new.csv — тестовая выборка;\n",
        "* gold_recovery_full_new.csv — исходные данные.\n",
        "\n",
        "Данные индексируются датой и временем получения информации (признак date). Соседние по времени параметры часто похожи.\n",
        "Некоторые параметры недоступны, потому что замеряются и/или рассчитываются значительно позже. Из-за этого в тестовой выборке отсутствуют некоторые признаки, которые могут быть в обучающей. Также в тестовом наборе нет целевых признаков.\n",
        "\n",
        "Исходный датасет содержит обучающую и тестовую выборки со всеми признаками.\n",
        "\n",
        "В вашем распоряжении сырые данные: их просто выгрузили из хранилища. Прежде чем приступить к построению модели, проверьте по нашей инструкции их на корректность."
      ]
    },
    {
      "cell_type": "markdown",
      "metadata": {
        "id": "oYh0FqsY8FE9"
      },
      "source": [
        "### Метрика качества\n",
        "\n",
        "Для решения задачи введём новую метрику качества — sMAPE (англ. Symmetric Mean Absolute Percentage Error, «симметричное среднее абсолютное процентное отклонение»).\n",
        "\n",
        "Метрика sMAPE вычисляется так:\n",
        "\n",
        "\n",
        "![sMAPE](https://pictures.s3.yandex.net/resources/smape_1576239058.jpg)\n",
        "\n",
        "Нужно спрогнозировать сразу две величины:\n",
        "\n",
        "* эффективность обогащения чернового концентрата rougher.output.recovery;\n",
        "* эффективность обогащения финального концентрата final.output.recovery.\n",
        "\n",
        "Итоговая метрика складывается из двух величин:\n",
        "\n",
        "![Итоговое sMAPE](https://pictures.s3.yandex.net/resources/_smape_1576239054.jpg)"
      ]
    },
    {
      "cell_type": "markdown",
      "metadata": {
        "id": "k5yGCh4V8FE-"
      },
      "source": [
        "Загрузка необходимых библиотек."
      ]
    },
    {
      "cell_type": "code",
      "execution_count": null,
      "metadata": {
        "id": "XOUwAoUD8FE-"
      },
      "outputs": [],
      "source": [
        "import matplotlib.pyplot as plt\n",
        "import numpy as np\n",
        "import pandas as pd\n",
        "import warnings\n",
        "from sklearn.model_selection import train_test_split\n",
        "from sklearn.preprocessing import StandardScaler\n",
        "from sklearn.metrics import r2_score\n",
        "from sklearn.metrics import mean_absolute_error\n",
        "from sklearn.preprocessing import PolynomialFeatures\n",
        "from sklearn.linear_model import LinearRegression\n",
        "from sklearn.linear_model import Ridge\n",
        "from sklearn.tree import DecisionTreeRegressor\n",
        "from sklearn.ensemble import ExtraTreesRegressor\n",
        "from sklearn.model_selection import cross_val_score\n",
        "from sklearn.model_selection import GridSearchCV\n",
        "from sklearn.pipeline import Pipeline\n",
        "warnings.filterwarnings('ignore')"
      ]
    },
    {
      "cell_type": "markdown",
      "metadata": {
        "id": "zELhPB4j8FFA"
      },
      "source": [
        "Подключение датафреймов к проекту."
      ]
    },
    {
      "cell_type": "code",
      "execution_count": null,
      "metadata": {
        "id": "__ONUMsz8FFA",
        "outputId": "12c29b1d-9890-406e-8730-5a87351880ea"
      },
      "outputs": [
        {
          "name": "stdout",
          "output_type": "stream",
          "text": [
            "<class 'pandas.core.frame.DataFrame'>\n",
            "RangeIndex: 14149 entries, 0 to 14148\n",
            "Data columns (total 87 columns):\n",
            " #   Column                                              Non-Null Count  Dtype  \n",
            "---  ------                                              --------------  -----  \n",
            " 0   date                                                14149 non-null  object \n",
            " 1   final.output.concentrate_ag                         14148 non-null  float64\n",
            " 2   final.output.concentrate_pb                         14148 non-null  float64\n",
            " 3   final.output.concentrate_sol                        13938 non-null  float64\n",
            " 4   final.output.concentrate_au                         14149 non-null  float64\n",
            " 5   final.output.recovery                               14149 non-null  float64\n",
            " 6   final.output.tail_ag                                14149 non-null  float64\n",
            " 7   final.output.tail_pb                                14049 non-null  float64\n",
            " 8   final.output.tail_sol                               14144 non-null  float64\n",
            " 9   final.output.tail_au                                14149 non-null  float64\n",
            " 10  primary_cleaner.input.sulfate                       14129 non-null  float64\n",
            " 11  primary_cleaner.input.depressant                    14117 non-null  float64\n",
            " 12  primary_cleaner.input.feed_size                     14149 non-null  float64\n",
            " 13  primary_cleaner.input.xanthate                      14049 non-null  float64\n",
            " 14  primary_cleaner.output.concentrate_ag               14149 non-null  float64\n",
            " 15  primary_cleaner.output.concentrate_pb               14063 non-null  float64\n",
            " 16  primary_cleaner.output.concentrate_sol              13863 non-null  float64\n",
            " 17  primary_cleaner.output.concentrate_au               14149 non-null  float64\n",
            " 18  primary_cleaner.output.tail_ag                      14148 non-null  float64\n",
            " 19  primary_cleaner.output.tail_pb                      14134 non-null  float64\n",
            " 20  primary_cleaner.output.tail_sol                     14103 non-null  float64\n",
            " 21  primary_cleaner.output.tail_au                      14149 non-null  float64\n",
            " 22  primary_cleaner.state.floatbank8_a_air              14145 non-null  float64\n",
            " 23  primary_cleaner.state.floatbank8_a_level            14148 non-null  float64\n",
            " 24  primary_cleaner.state.floatbank8_b_air              14145 non-null  float64\n",
            " 25  primary_cleaner.state.floatbank8_b_level            14148 non-null  float64\n",
            " 26  primary_cleaner.state.floatbank8_c_air              14147 non-null  float64\n",
            " 27  primary_cleaner.state.floatbank8_c_level            14148 non-null  float64\n",
            " 28  primary_cleaner.state.floatbank8_d_air              14146 non-null  float64\n",
            " 29  primary_cleaner.state.floatbank8_d_level            14148 non-null  float64\n",
            " 30  rougher.calculation.sulfate_to_au_concentrate       14148 non-null  float64\n",
            " 31  rougher.calculation.floatbank10_sulfate_to_au_feed  14148 non-null  float64\n",
            " 32  rougher.calculation.floatbank11_sulfate_to_au_feed  14148 non-null  float64\n",
            " 33  rougher.calculation.au_pb_ratio                     14149 non-null  float64\n",
            " 34  rougher.input.feed_ag                               14149 non-null  float64\n",
            " 35  rougher.input.feed_pb                               14049 non-null  float64\n",
            " 36  rougher.input.feed_rate                             14141 non-null  float64\n",
            " 37  rougher.input.feed_size                             14005 non-null  float64\n",
            " 38  rougher.input.feed_sol                              14071 non-null  float64\n",
            " 39  rougher.input.feed_au                               14149 non-null  float64\n",
            " 40  rougher.input.floatbank10_sulfate                   14120 non-null  float64\n",
            " 41  rougher.input.floatbank10_xanthate                  14141 non-null  float64\n",
            " 42  rougher.input.floatbank11_sulfate                   14113 non-null  float64\n",
            " 43  rougher.input.floatbank11_xanthate                  13721 non-null  float64\n",
            " 44  rougher.output.concentrate_ag                       14149 non-null  float64\n",
            " 45  rougher.output.concentrate_pb                       14149 non-null  float64\n",
            " 46  rougher.output.concentrate_sol                      14127 non-null  float64\n",
            " 47  rougher.output.concentrate_au                       14149 non-null  float64\n",
            " 48  rougher.output.recovery                             14149 non-null  float64\n",
            " 49  rougher.output.tail_ag                              14148 non-null  float64\n",
            " 50  rougher.output.tail_pb                              14149 non-null  float64\n",
            " 51  rougher.output.tail_sol                             14149 non-null  float64\n",
            " 52  rougher.output.tail_au                              14149 non-null  float64\n",
            " 53  rougher.state.floatbank10_a_air                     14148 non-null  float64\n",
            " 54  rougher.state.floatbank10_a_level                   14148 non-null  float64\n",
            " 55  rougher.state.floatbank10_b_air                     14148 non-null  float64\n",
            " 56  rougher.state.floatbank10_b_level                   14148 non-null  float64\n",
            " 57  rougher.state.floatbank10_c_air                     14148 non-null  float64\n",
            " 58  rougher.state.floatbank10_c_level                   14148 non-null  float64\n",
            " 59  rougher.state.floatbank10_d_air                     14149 non-null  float64\n",
            " 60  rougher.state.floatbank10_d_level                   14149 non-null  float64\n",
            " 61  rougher.state.floatbank10_e_air                     13713 non-null  float64\n",
            " 62  rougher.state.floatbank10_e_level                   14149 non-null  float64\n",
            " 63  rougher.state.floatbank10_f_air                     14149 non-null  float64\n",
            " 64  rougher.state.floatbank10_f_level                   14149 non-null  float64\n",
            " 65  secondary_cleaner.output.tail_ag                    14147 non-null  float64\n",
            " 66  secondary_cleaner.output.tail_pb                    14139 non-null  float64\n",
            " 67  secondary_cleaner.output.tail_sol                   12544 non-null  float64\n",
            " 68  secondary_cleaner.output.tail_au                    14149 non-null  float64\n",
            " 69  secondary_cleaner.state.floatbank2_a_air            13932 non-null  float64\n",
            " 70  secondary_cleaner.state.floatbank2_a_level          14148 non-null  float64\n",
            " 71  secondary_cleaner.state.floatbank2_b_air            14128 non-null  float64\n",
            " 72  secondary_cleaner.state.floatbank2_b_level          14148 non-null  float64\n",
            " 73  secondary_cleaner.state.floatbank3_a_air            14145 non-null  float64\n",
            " 74  secondary_cleaner.state.floatbank3_a_level          14148 non-null  float64\n",
            " 75  secondary_cleaner.state.floatbank3_b_air            14148 non-null  float64\n",
            " 76  secondary_cleaner.state.floatbank3_b_level          14148 non-null  float64\n",
            " 77  secondary_cleaner.state.floatbank4_a_air            14143 non-null  float64\n",
            " 78  secondary_cleaner.state.floatbank4_a_level          14148 non-null  float64\n",
            " 79  secondary_cleaner.state.floatbank4_b_air            14148 non-null  float64\n",
            " 80  secondary_cleaner.state.floatbank4_b_level          14148 non-null  float64\n",
            " 81  secondary_cleaner.state.floatbank5_a_air            14148 non-null  float64\n",
            " 82  secondary_cleaner.state.floatbank5_a_level          14148 non-null  float64\n",
            " 83  secondary_cleaner.state.floatbank5_b_air            14148 non-null  float64\n",
            " 84  secondary_cleaner.state.floatbank5_b_level          14148 non-null  float64\n",
            " 85  secondary_cleaner.state.floatbank6_a_air            14147 non-null  float64\n",
            " 86  secondary_cleaner.state.floatbank6_a_level          14148 non-null  float64\n",
            "dtypes: float64(86), object(1)\n",
            "memory usage: 9.4+ MB\n"
          ]
        }
      ],
      "source": [
        "gold_recovery_train = pd.read_csv('/datasets/gold_recovery_train_new.csv')\n",
        "gold_recovery_train.info()"
      ]
    },
    {
      "cell_type": "code",
      "execution_count": null,
      "metadata": {
        "id": "yn-Mcz6r8FFB",
        "outputId": "7903c09e-a695-4aab-a0a2-7f48ddfcc321"
      },
      "outputs": [
        {
          "name": "stdout",
          "output_type": "stream",
          "text": [
            "<class 'pandas.core.frame.DataFrame'>\n",
            "RangeIndex: 5290 entries, 0 to 5289\n",
            "Data columns (total 53 columns):\n",
            " #   Column                                      Non-Null Count  Dtype  \n",
            "---  ------                                      --------------  -----  \n",
            " 0   date                                        5290 non-null   object \n",
            " 1   primary_cleaner.input.sulfate               5286 non-null   float64\n",
            " 2   primary_cleaner.input.depressant            5285 non-null   float64\n",
            " 3   primary_cleaner.input.feed_size             5290 non-null   float64\n",
            " 4   primary_cleaner.input.xanthate              5286 non-null   float64\n",
            " 5   primary_cleaner.state.floatbank8_a_air      5290 non-null   float64\n",
            " 6   primary_cleaner.state.floatbank8_a_level    5290 non-null   float64\n",
            " 7   primary_cleaner.state.floatbank8_b_air      5290 non-null   float64\n",
            " 8   primary_cleaner.state.floatbank8_b_level    5290 non-null   float64\n",
            " 9   primary_cleaner.state.floatbank8_c_air      5290 non-null   float64\n",
            " 10  primary_cleaner.state.floatbank8_c_level    5290 non-null   float64\n",
            " 11  primary_cleaner.state.floatbank8_d_air      5290 non-null   float64\n",
            " 12  primary_cleaner.state.floatbank8_d_level    5290 non-null   float64\n",
            " 13  rougher.input.feed_ag                       5290 non-null   float64\n",
            " 14  rougher.input.feed_pb                       5290 non-null   float64\n",
            " 15  rougher.input.feed_rate                     5287 non-null   float64\n",
            " 16  rougher.input.feed_size                     5289 non-null   float64\n",
            " 17  rougher.input.feed_sol                      5269 non-null   float64\n",
            " 18  rougher.input.feed_au                       5290 non-null   float64\n",
            " 19  rougher.input.floatbank10_sulfate           5285 non-null   float64\n",
            " 20  rougher.input.floatbank10_xanthate          5290 non-null   float64\n",
            " 21  rougher.input.floatbank11_sulfate           5282 non-null   float64\n",
            " 22  rougher.input.floatbank11_xanthate          5265 non-null   float64\n",
            " 23  rougher.state.floatbank10_a_air             5290 non-null   float64\n",
            " 24  rougher.state.floatbank10_a_level           5290 non-null   float64\n",
            " 25  rougher.state.floatbank10_b_air             5290 non-null   float64\n",
            " 26  rougher.state.floatbank10_b_level           5290 non-null   float64\n",
            " 27  rougher.state.floatbank10_c_air             5290 non-null   float64\n",
            " 28  rougher.state.floatbank10_c_level           5290 non-null   float64\n",
            " 29  rougher.state.floatbank10_d_air             5290 non-null   float64\n",
            " 30  rougher.state.floatbank10_d_level           5290 non-null   float64\n",
            " 31  rougher.state.floatbank10_e_air             5290 non-null   float64\n",
            " 32  rougher.state.floatbank10_e_level           5290 non-null   float64\n",
            " 33  rougher.state.floatbank10_f_air             5290 non-null   float64\n",
            " 34  rougher.state.floatbank10_f_level           5290 non-null   float64\n",
            " 35  secondary_cleaner.state.floatbank2_a_air    5287 non-null   float64\n",
            " 36  secondary_cleaner.state.floatbank2_a_level  5290 non-null   float64\n",
            " 37  secondary_cleaner.state.floatbank2_b_air    5288 non-null   float64\n",
            " 38  secondary_cleaner.state.floatbank2_b_level  5290 non-null   float64\n",
            " 39  secondary_cleaner.state.floatbank3_a_air    5281 non-null   float64\n",
            " 40  secondary_cleaner.state.floatbank3_a_level  5290 non-null   float64\n",
            " 41  secondary_cleaner.state.floatbank3_b_air    5290 non-null   float64\n",
            " 42  secondary_cleaner.state.floatbank3_b_level  5290 non-null   float64\n",
            " 43  secondary_cleaner.state.floatbank4_a_air    5290 non-null   float64\n",
            " 44  secondary_cleaner.state.floatbank4_a_level  5290 non-null   float64\n",
            " 45  secondary_cleaner.state.floatbank4_b_air    5290 non-null   float64\n",
            " 46  secondary_cleaner.state.floatbank4_b_level  5290 non-null   float64\n",
            " 47  secondary_cleaner.state.floatbank5_a_air    5290 non-null   float64\n",
            " 48  secondary_cleaner.state.floatbank5_a_level  5290 non-null   float64\n",
            " 49  secondary_cleaner.state.floatbank5_b_air    5290 non-null   float64\n",
            " 50  secondary_cleaner.state.floatbank5_b_level  5290 non-null   float64\n",
            " 51  secondary_cleaner.state.floatbank6_a_air    5290 non-null   float64\n",
            " 52  secondary_cleaner.state.floatbank6_a_level  5290 non-null   float64\n",
            "dtypes: float64(52), object(1)\n",
            "memory usage: 2.1+ MB\n"
          ]
        }
      ],
      "source": [
        "gold_recovery_test = pd.read_csv('/datasets/gold_recovery_test_new.csv')\n",
        "gold_recovery_test.info()"
      ]
    },
    {
      "cell_type": "code",
      "execution_count": null,
      "metadata": {
        "scrolled": true,
        "id": "UMHhxtM58FFB",
        "outputId": "99bb725f-027c-4ec0-ebed-7e7140e9fe43"
      },
      "outputs": [
        {
          "name": "stdout",
          "output_type": "stream",
          "text": [
            "<class 'pandas.core.frame.DataFrame'>\n",
            "RangeIndex: 19439 entries, 0 to 19438\n",
            "Data columns (total 87 columns):\n",
            " #   Column                                              Non-Null Count  Dtype  \n",
            "---  ------                                              --------------  -----  \n",
            " 0   date                                                19439 non-null  object \n",
            " 1   final.output.concentrate_ag                         19438 non-null  float64\n",
            " 2   final.output.concentrate_pb                         19438 non-null  float64\n",
            " 3   final.output.concentrate_sol                        19228 non-null  float64\n",
            " 4   final.output.concentrate_au                         19439 non-null  float64\n",
            " 5   final.output.recovery                               19439 non-null  float64\n",
            " 6   final.output.tail_ag                                19438 non-null  float64\n",
            " 7   final.output.tail_pb                                19338 non-null  float64\n",
            " 8   final.output.tail_sol                               19433 non-null  float64\n",
            " 9   final.output.tail_au                                19439 non-null  float64\n",
            " 10  primary_cleaner.input.sulfate                       19415 non-null  float64\n",
            " 11  primary_cleaner.input.depressant                    19402 non-null  float64\n",
            " 12  primary_cleaner.input.feed_size                     19439 non-null  float64\n",
            " 13  primary_cleaner.input.xanthate                      19335 non-null  float64\n",
            " 14  primary_cleaner.output.concentrate_ag               19439 non-null  float64\n",
            " 15  primary_cleaner.output.concentrate_pb               19323 non-null  float64\n",
            " 16  primary_cleaner.output.concentrate_sol              19069 non-null  float64\n",
            " 17  primary_cleaner.output.concentrate_au               19439 non-null  float64\n",
            " 18  primary_cleaner.output.tail_ag                      19435 non-null  float64\n",
            " 19  primary_cleaner.output.tail_pb                      19418 non-null  float64\n",
            " 20  primary_cleaner.output.tail_sol                     19377 non-null  float64\n",
            " 21  primary_cleaner.output.tail_au                      19439 non-null  float64\n",
            " 22  primary_cleaner.state.floatbank8_a_air              19435 non-null  float64\n",
            " 23  primary_cleaner.state.floatbank8_a_level            19438 non-null  float64\n",
            " 24  primary_cleaner.state.floatbank8_b_air              19435 non-null  float64\n",
            " 25  primary_cleaner.state.floatbank8_b_level            19438 non-null  float64\n",
            " 26  primary_cleaner.state.floatbank8_c_air              19437 non-null  float64\n",
            " 27  primary_cleaner.state.floatbank8_c_level            19438 non-null  float64\n",
            " 28  primary_cleaner.state.floatbank8_d_air              19436 non-null  float64\n",
            " 29  primary_cleaner.state.floatbank8_d_level            19438 non-null  float64\n",
            " 30  rougher.calculation.sulfate_to_au_concentrate       19437 non-null  float64\n",
            " 31  rougher.calculation.floatbank10_sulfate_to_au_feed  19437 non-null  float64\n",
            " 32  rougher.calculation.floatbank11_sulfate_to_au_feed  19437 non-null  float64\n",
            " 33  rougher.calculation.au_pb_ratio                     19439 non-null  float64\n",
            " 34  rougher.input.feed_ag                               19439 non-null  float64\n",
            " 35  rougher.input.feed_pb                               19339 non-null  float64\n",
            " 36  rougher.input.feed_rate                             19428 non-null  float64\n",
            " 37  rougher.input.feed_size                             19294 non-null  float64\n",
            " 38  rougher.input.feed_sol                              19340 non-null  float64\n",
            " 39  rougher.input.feed_au                               19439 non-null  float64\n",
            " 40  rougher.input.floatbank10_sulfate                   19405 non-null  float64\n",
            " 41  rougher.input.floatbank10_xanthate                  19431 non-null  float64\n",
            " 42  rougher.input.floatbank11_sulfate                   19395 non-null  float64\n",
            " 43  rougher.input.floatbank11_xanthate                  18986 non-null  float64\n",
            " 44  rougher.output.concentrate_ag                       19439 non-null  float64\n",
            " 45  rougher.output.concentrate_pb                       19439 non-null  float64\n",
            " 46  rougher.output.concentrate_sol                      19416 non-null  float64\n",
            " 47  rougher.output.concentrate_au                       19439 non-null  float64\n",
            " 48  rougher.output.recovery                             19439 non-null  float64\n",
            " 49  rougher.output.tail_ag                              19438 non-null  float64\n",
            " 50  rougher.output.tail_pb                              19439 non-null  float64\n",
            " 51  rougher.output.tail_sol                             19439 non-null  float64\n",
            " 52  rougher.output.tail_au                              19439 non-null  float64\n",
            " 53  rougher.state.floatbank10_a_air                     19438 non-null  float64\n",
            " 54  rougher.state.floatbank10_a_level                   19438 non-null  float64\n",
            " 55  rougher.state.floatbank10_b_air                     19438 non-null  float64\n",
            " 56  rougher.state.floatbank10_b_level                   19438 non-null  float64\n",
            " 57  rougher.state.floatbank10_c_air                     19438 non-null  float64\n",
            " 58  rougher.state.floatbank10_c_level                   19438 non-null  float64\n",
            " 59  rougher.state.floatbank10_d_air                     19439 non-null  float64\n",
            " 60  rougher.state.floatbank10_d_level                   19439 non-null  float64\n",
            " 61  rougher.state.floatbank10_e_air                     19003 non-null  float64\n",
            " 62  rougher.state.floatbank10_e_level                   19439 non-null  float64\n",
            " 63  rougher.state.floatbank10_f_air                     19439 non-null  float64\n",
            " 64  rougher.state.floatbank10_f_level                   19439 non-null  float64\n",
            " 65  secondary_cleaner.output.tail_ag                    19437 non-null  float64\n",
            " 66  secondary_cleaner.output.tail_pb                    19427 non-null  float64\n",
            " 67  secondary_cleaner.output.tail_sol                   17691 non-null  float64\n",
            " 68  secondary_cleaner.output.tail_au                    19439 non-null  float64\n",
            " 69  secondary_cleaner.state.floatbank2_a_air            19219 non-null  float64\n",
            " 70  secondary_cleaner.state.floatbank2_a_level          19438 non-null  float64\n",
            " 71  secondary_cleaner.state.floatbank2_b_air            19416 non-null  float64\n",
            " 72  secondary_cleaner.state.floatbank2_b_level          19438 non-null  float64\n",
            " 73  secondary_cleaner.state.floatbank3_a_air            19426 non-null  float64\n",
            " 74  secondary_cleaner.state.floatbank3_a_level          19438 non-null  float64\n",
            " 75  secondary_cleaner.state.floatbank3_b_air            19438 non-null  float64\n",
            " 76  secondary_cleaner.state.floatbank3_b_level          19438 non-null  float64\n",
            " 77  secondary_cleaner.state.floatbank4_a_air            19433 non-null  float64\n",
            " 78  secondary_cleaner.state.floatbank4_a_level          19438 non-null  float64\n",
            " 79  secondary_cleaner.state.floatbank4_b_air            19438 non-null  float64\n",
            " 80  secondary_cleaner.state.floatbank4_b_level          19438 non-null  float64\n",
            " 81  secondary_cleaner.state.floatbank5_a_air            19438 non-null  float64\n",
            " 82  secondary_cleaner.state.floatbank5_a_level          19438 non-null  float64\n",
            " 83  secondary_cleaner.state.floatbank5_b_air            19438 non-null  float64\n",
            " 84  secondary_cleaner.state.floatbank5_b_level          19438 non-null  float64\n",
            " 85  secondary_cleaner.state.floatbank6_a_air            19437 non-null  float64\n",
            " 86  secondary_cleaner.state.floatbank6_a_level          19438 non-null  float64\n",
            "dtypes: float64(86), object(1)\n",
            "memory usage: 12.9+ MB\n"
          ]
        }
      ],
      "source": [
        "gold_recovery_full = pd.read_csv('/datasets/gold_recovery_full_new.csv')\n",
        "gold_recovery_full.info()"
      ]
    },
    {
      "cell_type": "code",
      "execution_count": null,
      "metadata": {
        "id": "FDR5Cd_U8FFC"
      },
      "outputs": [],
      "source": [
        ""
      ]
    },
    {
      "cell_type": "markdown",
      "metadata": {
        "id": "Bs_vqXIn8FFC"
      },
      "source": [
        "Изучение уникальных значений и количества пропусков в процентах."
      ]
    },
    {
      "cell_type": "code",
      "execution_count": null,
      "metadata": {
        "id": "Kqpbnntb8FFC"
      },
      "outputs": [],
      "source": [
        "def show_rows(data_frame):\n",
        "    for column in data_frame.columns:\n",
        "        print('Уникальные значения столбца', column)\n",
        "        print(data_frame[column].unique())\n",
        "    print('Количество пропусков в каждом столбце')    \n",
        "    print(data_frame.isna().mean())"
      ]
    },
    {
      "cell_type": "code",
      "execution_count": null,
      "metadata": {
        "scrolled": false,
        "id": "e9etL72U8FFD",
        "outputId": "3facdebb-e618-4946-b66d-abd6d6248436"
      },
      "outputs": [
        {
          "name": "stdout",
          "output_type": "stream",
          "text": [
            "Уникальные значения столбца date\n",
            "['2016-01-15 00:00:00' '2016-01-15 01:00:00' '2016-01-15 02:00:00' ...\n",
            " '2018-08-18 08:59:59' '2018-08-18 09:59:59' '2018-08-18 10:59:59']\n",
            "Уникальные значения столбца final.output.concentrate_ag\n",
            "[6.05540276 6.02936857 6.05592607 ... 3.10999751 3.36724104 3.59837494]\n",
            "Уникальные значения столбца final.output.concentrate_pb\n",
            "[ 9.88964844  9.9689441  10.21399457 ... 11.43436599 11.62558728\n",
            " 11.7378318 ]\n",
            "Уникальные значения столбца final.output.concentrate_sol\n",
            "[5.50732422 5.25778148 5.38375877 ... 6.88601311 6.79943261 6.71750947]\n",
            "Уникальные значения столбца final.output.concentrate_au\n",
            "[42.19202042 42.70162925 42.65750061 ... 46.79569097 46.40818768\n",
            " 46.29943814]\n",
            "Уникальные значения столбца final.output.recovery\n",
            "[70.54121591 69.26619763 68.11644507 ... 67.00218885 65.52324622\n",
            " 70.28145415]\n",
            "Уникальные значения столбца final.output.tail_ag\n",
            "[10.41196156 10.46267568 10.50704594 ...  8.52960609  8.77717133\n",
            "  8.40668973]\n",
            "Уникальные значения столбца final.output.tail_pb\n",
            "[0.89544678 0.92745213 0.95371573 ... 2.91141836 2.81921445 2.51751799]\n",
            "Уникальные значения столбца final.output.tail_sol\n",
            "[16.90429688 16.6345141  16.20884917 ... 11.11514674 10.46384748\n",
            " 10.65219334]\n",
            "Уникальные значения столбца final.output.tail_au\n",
            "[2.14314938 2.22493035 2.25788912 ... 1.59661581 1.60287899 1.38943434]\n",
            "Уникальные значения столбца primary_cleaner.input.sulfate\n",
            "[127.09200287 125.62923179 123.81980789 ... 105.66611757  98.8805383\n",
            "  95.24842664]\n",
            "Уникальные значения столбца primary_cleaner.input.depressant\n",
            "[10.12829494 10.29625065 11.31627982 ...  7.95511136  7.98416354\n",
            "  8.07895679]\n",
            "Уникальные значения столбца primary_cleaner.input.feed_size\n",
            "[7.25       7.30316665 7.53999996 ... 6.06666666 6.23999951 6.2833328 ]\n",
            "Уникальные значения столбца primary_cleaner.input.xanthate\n",
            "[0.98875904 1.00266309 0.99126547 ... 1.31592569 1.24196858 1.28304487]\n",
            "Уникальные значения столбца primary_cleaner.output.concentrate_ag\n",
            "[8.54755116 8.55874319 8.60350485 ... 7.12889611 7.49044444 7.53758431]\n",
            "Уникальные значения столбца primary_cleaner.output.concentrate_pb\n",
            "[10.38964844 10.49706908 10.35449431 ... 12.633558   12.0123779\n",
            " 11.6502851 ]\n",
            "Уникальные значения столбца primary_cleaner.output.concentrate_sol\n",
            "[19.52929688 19.36914674 19.16757892 ...  7.9418999   6.94297165\n",
            "  6.20355328]\n",
            "Уникальные значения столбца primary_cleaner.output.concentrate_au\n",
            "[34.17442703 34.11852552 33.96946437 ... 31.85674228 30.77089201\n",
            " 30.35661802]\n",
            "Уникальные значения столбца primary_cleaner.output.tail_ag\n",
            "[14.9365263  16.25051119 16.49182301 ... 22.2981488  22.71465646\n",
            " 22.73592672]\n",
            "Уникальные значения столбца primary_cleaner.output.tail_pb\n",
            "[2.53491211 3.04964612 3.12466381 ... 6.27825044 6.25314507 6.08428733]\n",
            "Уникальные значения столбца primary_cleaner.output.tail_sol\n",
            "[7.47607422 6.73390727 6.47176848 ... 4.45745699 3.55712066 3.02669909]\n",
            "Уникальные значения столбца primary_cleaner.output.tail_au\n",
            "[2.10667944 2.35301686 2.41680033 ... 2.61223104 2.80064849 2.70804646]\n",
            "Уникальные значения столбца primary_cleaner.state.floatbank8_a_air\n",
            "[1549.77575684 1576.16667149 1601.55616303 ... 1649.16676102 1646.54776267\n",
            " 1648.75990646]\n",
            "Уникальные значения столбца primary_cleaner.state.floatbank8_a_level\n",
            "[-498.91213989 -500.90496496 -499.99779065 ... -399.88863085 -398.97708269\n",
            " -399.86205326]\n",
            "Уникальные значения столбца primary_cleaner.state.floatbank8_b_air\n",
            "[1551.4342041  1575.95062568 1600.38668535 ... 1649.19690421 1648.21223972\n",
            " 1650.13539491]\n",
            "Уникальные значения столбца primary_cleaner.state.floatbank8_b_level\n",
            "[-516.40344238 -499.86588946 -500.60776243 ... -399.67757077 -400.38326491\n",
            " -399.95732109]\n",
            "Уникальные значения столбца primary_cleaner.state.floatbank8_c_air\n",
            "[1549.87390137 1575.99418888 1602.00354199 ... 1647.89699888 1648.91738717\n",
            " 1648.83189046]\n",
            "Уникальные значения столбца primary_cleaner.state.floatbank8_c_level\n",
            "[-498.66659546 -499.31510741 -500.87006932 ... -399.98827492 -399.52134386\n",
            " -400.58611561]\n",
            "Уникальные значения столбца primary_cleaner.state.floatbank8_d_air\n",
            "[1554.36743164 1574.47925899 1599.54151472 ... 1649.7727139  1651.4985915\n",
            " 1649.46458174]\n",
            "Уникальные значения столбца primary_cleaner.state.floatbank8_d_level\n",
            "[-493.4281311  -498.9316652  -499.82744411 ... -399.83190155 -399.7453286\n",
            " -400.67330254]\n",
            "Уникальные значения столбца rougher.calculation.sulfate_to_au_concentrate\n",
            "[41885.70703125 42050.86180929 42018.1011843  ... 44585.18133426\n",
            " 44084.73570763 44082.86656477]\n",
            "Уникальные значения столбца rougher.calculation.floatbank10_sulfate_to_au_feed\n",
            "[3481.77905273 3498.3709791  3495.34891012 ... 2510.81354487 2507.57249359\n",
            " 2487.4777621 ]\n",
            "Уникальные значения столбца rougher.calculation.floatbank11_sulfate_to_au_feed\n",
            "[3520.3371582  3489.98185731 3502.35981942 ... 2510.14243297 2507.7233612\n",
            " 2488.62608025]\n",
            "Уникальные значения столбца rougher.calculation.au_pb_ratio\n",
            "[2.83868678 2.85899801 2.9459892  ... 1.12563651 1.11793477 1.12636713]\n",
            "Уникальные значения столбца rougher.input.feed_ag\n",
            "[6.10037804 6.16111348 6.1164549  ... 5.97051525 6.04813022 6.15871773]\n",
            "Уникальные значения столбца rougher.input.feed_pb\n",
            "[2.28491211 2.26603263 2.15962163 ... 4.02000219 3.90253661 3.87572678]\n",
            "Уникальные значения столбца rougher.input.feed_rate\n",
            "[523.54632568 525.2905809  530.02661044 ... 555.68287198 544.73168688\n",
            " 555.82020835]\n",
            "Уникальные значения столбца rougher.input.feed_size\n",
            "[ 55.48659897  57.27866586  57.51064892 ... 122.26268985 123.74242952\n",
            "  94.54435803]\n",
            "Уникальные значения столбца rougher.input.feed_sol\n",
            "[36.80859375 35.75338487 35.97163007 ... 40.0740256  39.71390632\n",
            " 39.13511856]\n",
            "Уникальные значения столбца rougher.input.feed_au\n",
            "[6.48614979 6.47858279 6.36222199 ... 4.52506124 4.36278136 4.36549126]\n",
            "Уникальные значения столбца rougher.input.floatbank10_sulfate\n",
            "[11.98661613 11.97119324 11.92060278 ...  6.58602044  6.21011918\n",
            "  6.14698197]\n",
            "Уникальные значения столбца rougher.input.floatbank10_xanthate\n",
            "[6.00798988 6.00576591 6.19737694 ... 9.29960607 9.29770949 9.30861213]\n",
            "Уникальные значения столбца rougher.input.floatbank11_sulfate\n",
            "[11.83674335 11.99616279 11.9203052  ...  6.58413031  6.20951712\n",
            "  6.16893878]\n",
            "Уникальные значения столбца rougher.input.floatbank11_xanthate\n",
            "[6.00581837 6.01259367 6.20463318 ... 9.30013304 9.29719433 9.30985188]\n",
            "Уникальные значения столбца rougher.output.concentrate_ag\n",
            "[11.50077057 11.61586517 11.6957533  ...  8.52349701 11.65879854\n",
            " 11.95948557]\n",
            "Уникальные значения столбца rougher.output.concentrate_pb\n",
            "[ 7.10107422  7.2788067   7.21683259 ...  8.95513452 10.65537698\n",
            " 10.70214844]\n",
            "Уникальные значения столбца rougher.output.concentrate_sol\n",
            "[28.02929688 28.06706333 27.45403684 ... 22.78646719 29.05274175\n",
            " 29.07823461]\n",
            "Уникальные значения столбца rougher.output.concentrate_au\n",
            "[19.79380798 20.05097514 19.73717002 ... 15.11123105 17.83477207\n",
            " 17.80413414]\n",
            "Уникальные значения столбца rougher.output.recovery\n",
            "[87.10776293 86.84326051 86.84230826 ... 88.89057853 89.858126\n",
            " 89.51495973]\n",
            "Уникальные значения столбца rougher.output.tail_ag\n",
            "[5.00801802 4.95537791 4.84345988 ... 4.05001019 3.90249404 3.92547281]\n",
            "Уникальные значения столбца rougher.output.tail_pb\n",
            "[0.50872803 0.53668947 0.54641563 ... 0.63609521 0.62560948 0.63867696]\n",
            "Уникальные значения столбца rougher.output.tail_sol\n",
            "[19.15429688 18.96523438 18.80853299 ... 18.32308011 19.42374\n",
            " 19.94667303]\n",
            "Уникальные значения столбца rougher.output.tail_au\n",
            "[1.17024398 1.18482746 1.16256189 ... 0.68505927 0.56713038 0.58643898]\n",
            "Уникальные значения столбца rougher.state.floatbank10_a_air\n",
            "[ 999.70690918 1000.28639767  999.71956517 ... 1204.86663888 1201.90417739\n",
            " 1196.23811223]\n",
            "Уникальные значения столбца rougher.state.floatbank10_a_level\n",
            "[-404.06698608 -400.06519557 -400.07402844 ... -299.23567501 -299.90730825\n",
            " -299.86274301]\n",
            "Уникальные значения столбца rougher.state.floatbank10_b_air\n",
            "[1603.01135254 1600.75458659 1599.33732987 ... 1149.94290216 1154.08780412\n",
            " 1147.24824118]\n",
            "Уникальные значения столбца rougher.state.floatbank10_b_level\n",
            "[-434.71502686 -449.95343451 -450.00853022 ... -501.71790333 -500.03657999\n",
            " -500.3631647 ]\n",
            "Уникальные значения столбца rougher.state.floatbank10_c_air\n",
            "[1602.375      1600.47957991 1599.6727973  ... 1049.60439027 1054.00975578\n",
            " 1047.27906544]\n",
            "Уникальные значения столбца rougher.state.floatbank10_c_level\n",
            "[-442.20446777 -449.83064631 -449.95449144 ... -500.54905279 -500.23733476\n",
            " -500.35409056]\n",
            "Уникальные значения столбца rougher.state.floatbank10_d_air\n",
            "[1598.93725586 1600.52758858 1599.84932514 ...  952.70273231  944.13879272\n",
            "  948.75660844]\n",
            "Уникальные значения столбца rougher.state.floatbank10_d_level\n",
            "[-451.29412842 -449.95364917 -449.95418548 ... -502.35229596 -496.866953\n",
            " -498.43941603]\n",
            "Уникальные значения столбца rougher.state.floatbank10_e_air\n",
            "[1404.4720459  1399.2270837  1399.18094498 ...  849.01601744  851.58976668\n",
            "  849.44191754]\n",
            "Уникальные значения столбца rougher.state.floatbank10_e_level\n",
            "[-455.46298218 -450.86984762 -449.93758816 ... -500.5056773  -499.04046576\n",
            " -499.2555029 ]\n",
            "Уникальные значения столбца rougher.state.floatbank10_f_air\n",
            "[1416.35498047 1399.71951394 1400.31668194 ...  850.45563548  851.34560554\n",
            "  850.1122457 ]\n",
            "Уникальные значения столбца rougher.state.floatbank10_f_level\n",
            "[-451.93963623 -450.11900131 -450.52714684 ... -506.89796845 -499.12256076\n",
            " -499.4071117 ]\n",
            "Уникальные значения столбца secondary_cleaner.output.tail_ag\n",
            "[14.50018406 14.26547351 14.11566201 ... 17.13755562 16.96498398\n",
            "  8.96792307]\n",
            "Уникальные значения столбца secondary_cleaner.output.tail_pb\n",
            "[ 4.69482422  4.59254704  4.62477543 ... 12.52731928 12.85695999\n",
            "  7.09398241]\n",
            "Уникальные значения столбца secondary_cleaner.output.tail_sol\n",
            "[8.76464844 9.00149429 8.84289576 ... 0.7037185  0.94262078 0.27486187]\n",
            "Уникальные значения столбца secondary_cleaner.output.tail_au\n",
            "[2.60618496 2.48824831 2.45818675 ... 3.03130078 3.13033332 1.6156866 ]\n",
            "Уникальные значения столбца secondary_cleaner.state.floatbank2_a_air\n",
            "[25.85310936 25.88053867 26.00524491 ... 35.00358616 34.98074164\n",
            " 34.94091896]\n",
            "Уникальные значения столбца secondary_cleaner.state.floatbank2_a_level\n",
            "[-498.52648926 -499.98965641 -499.92961595 ... -501.08379358 -498.1310022\n",
            " -500.15050979]\n",
            "Уникальные значения столбца secondary_cleaner.state.floatbank2_b_air\n",
            "[23.89365959 23.88952979 23.88665666 ... 29.99053346 29.96845329\n",
            " 30.03186698]\n",
            "Уникальные значения столбца secondary_cleaner.state.floatbank2_b_level\n",
            "[-501.40628052 -500.37242843 -499.95192762 ... -611.85589811 -586.01333036\n",
            " -500.32833475]\n",
            "Уникальные значения столбца secondary_cleaner.state.floatbank3_a_air\n",
            "[23.96179771 23.97055025 23.91353473 ... 25.94842861 25.97173699\n",
            " 26.03398999]\n",
            "Уникальные значения столбца secondary_cleaner.state.floatbank3_a_level\n",
            "[-495.26281738 -500.08547327 -499.44234284 ... -500.06726776 -499.60839245\n",
            " -500.14779215]\n",
            "Уникальные значения столбца secondary_cleaner.state.floatbank3_b_air\n",
            "[21.94040871 22.08571374 23.95771654 ... 22.96826762 22.95844822\n",
            " 22.9523062 ]\n",
            "Уникальные значения столбца secondary_cleaner.state.floatbank3_b_level\n",
            "[-499.3409729  -499.44689706 -499.90198202 ... -499.83944174 -499.82130767\n",
            " -500.03767788]\n",
            "Уникальные значения столбца secondary_cleaner.state.floatbank4_a_air\n",
            "[14.01683521 13.99228103 14.01501546 ... 23.01571849 23.02496288\n",
            " 23.0186224 ]\n",
            "Уникальные значения столбца secondary_cleaner.state.floatbank4_a_level\n",
            "[-502.48800659 -505.50326215 -502.5209008  ... -501.71159927 -501.15340926\n",
            " -500.49270228]\n",
            "Уникальные значения столбца secondary_cleaner.state.floatbank4_b_air\n",
            "[12.09993076 11.95053085 11.91278306 ... 19.95123119 20.05412154\n",
            " 20.02020485]\n",
            "Уникальные значения столбца secondary_cleaner.state.floatbank4_b_level\n",
            "[-504.71594238 -501.33152943 -501.13338307 ... -499.85702705 -500.31471091\n",
            " -500.22029567]\n",
            "Уникальные значения столбца secondary_cleaner.state.floatbank5_a_air\n",
            "[ 9.92563343 10.03924535 10.07091323 ... 18.01954335 17.979515\n",
            " 17.96351155]\n",
            "Уникальные значения столбца secondary_cleaner.state.floatbank5_a_level\n",
            "[-498.31021118 -500.16998257 -500.12913456 ... -500.45115603 -499.27287133\n",
            " -499.93948991]\n",
            "Уникальные значения столбца secondary_cleaner.state.floatbank5_b_air\n",
            "[ 8.07966614  7.9847572   8.01387688 ... 13.02343079 12.99240352\n",
            " 12.99030588]\n",
            "Уникальные значения столбца secondary_cleaner.state.floatbank5_b_level\n",
            "[-500.47097778 -500.58216767 -500.51757225 ... -499.91439075 -499.97626781\n",
            " -500.08099337]\n",
            "Уникальные значения столбца secondary_cleaner.state.floatbank6_a_air\n",
            "[14.15134144 13.99835264 14.02866312 ... 19.99088509 20.01398578\n",
            " 19.99033553]\n",
            "Уникальные значения столбца secondary_cleaner.state.floatbank6_a_level\n",
            "[-605.84197998 -599.78718423 -601.42736323 ... -501.51845197 -500.62547062\n",
            " -499.1915746 ]\n",
            "Количество пропусков в каждом столбце\n",
            "date                                          0.000000\n",
            "final.output.concentrate_ag                   0.000071\n",
            "final.output.concentrate_pb                   0.000071\n",
            "final.output.concentrate_sol                  0.014913\n",
            "final.output.concentrate_au                   0.000000\n",
            "                                                ...   \n",
            "secondary_cleaner.state.floatbank5_a_level    0.000071\n",
            "secondary_cleaner.state.floatbank5_b_air      0.000071\n",
            "secondary_cleaner.state.floatbank5_b_level    0.000071\n",
            "secondary_cleaner.state.floatbank6_a_air      0.000141\n",
            "secondary_cleaner.state.floatbank6_a_level    0.000071\n",
            "Length: 87, dtype: float64\n"
          ]
        }
      ],
      "source": [
        "show_rows(gold_recovery_train)"
      ]
    },
    {
      "cell_type": "code",
      "execution_count": null,
      "metadata": {
        "scrolled": false,
        "id": "yql_rDwm8FFD",
        "outputId": "e11f6cde-2d85-45e1-c270-de061505d339"
      },
      "outputs": [
        {
          "name": "stdout",
          "output_type": "stream",
          "text": [
            "Уникальные значения столбца date\n",
            "['2016-09-01 00:59:59' '2016-09-01 01:59:59' '2016-09-01 02:59:59' ...\n",
            " '2017-12-31 21:59:59' '2017-12-31 22:59:59' '2017-12-31 23:59:59']\n",
            "Уникальные значения столбца primary_cleaner.input.sulfate\n",
            "[210.800909   215.39245478 215.25994647 ... 171.13571781 179.6971576\n",
            " 181.55685577]\n",
            "Уникальные значения столбца primary_cleaner.input.depressant\n",
            "[14.99311769 14.9874713  12.8849338  ... 15.99366947 15.43897911\n",
            " 14.99584972]\n",
            "Уникальные значения столбца primary_cleaner.input.feed_size\n",
            "[8.07999992 7.78666669 7.63999987 ... 7.88999927 7.57333384 7.96666576]\n",
            "Уникальные значения столбца primary_cleaner.input.xanthate\n",
            "[1.00502133 0.99046929 0.99604317 ... 1.16599581 1.50106793 1.62345438]\n",
            "Уникальные значения столбца primary_cleaner.state.floatbank8_a_air\n",
            "[1398.98130127 1398.77791158 1398.49366613 ... 1498.83618207 1498.46624268\n",
            " 1498.09630329]\n",
            "Уникальные значения столбца primary_cleaner.state.floatbank8_a_level\n",
            "[-500.22557739 -500.05743464 -500.86835986 ... -501.77040305 -500.48398429\n",
            " -499.79692202]\n",
            "Уникальные значения столбца primary_cleaner.state.floatbank8_b_air\n",
            "[1399.14492609 1398.05536199 1398.86043626 ... 1499.57235259 1497.98698616\n",
            " 1501.74379053]\n",
            "Уникальные значения столбца primary_cleaner.state.floatbank8_b_level\n",
            "[-499.91973462 -499.77818151 -499.76452914 ... -495.51634749 -519.20033952\n",
            " -505.14693105]\n",
            "Уникальные значения столбца primary_cleaner.state.floatbank8_c_air\n",
            "[1400.1029981  1396.15103288 1398.07570927 ... 1502.74921291 1496.56904706\n",
            " 1499.53597825]\n",
            "Уникальные значения столбца primary_cleaner.state.floatbank8_c_level\n",
            "[-500.70436901 -499.24016758 -502.15150924 ... -520.66744246 -487.4795668\n",
            " -492.42822636]\n",
            "Уникальные значения столбца primary_cleaner.state.floatbank8_d_air\n",
            "[1399.00169536 1399.50809089 1399.49708795 ... 1502.58534302 1502.68891843\n",
            " 1499.67433989]\n",
            "Уникальные значения столбца primary_cleaner.state.floatbank8_d_level\n",
            "[-499.48514368 -500.41632438 -499.71547881 ... -498.26022538 -501.56972308\n",
            " -499.76671699]\n",
            "Уникальные значения столбца rougher.input.feed_ag\n",
            "[13.12856898 13.03627989 13.13841193 ... 11.28590751 11.28970967\n",
            " 10.90464634]\n",
            "Уникальные значения столбца rougher.input.feed_pb\n",
            "[5.63671024 5.52606519 5.42656094 ... 4.40532678 4.34348778 4.09059086]\n",
            "Уникальные значения столбца rougher.input.feed_rate\n",
            "[489.7936549  490.10453354 489.61796859 ... 546.30686831 547.33140482\n",
            " 564.54037617]\n",
            "Уникальные значения столбца rougher.input.feed_size\n",
            "[62.71045237 61.9611631  66.90380666 ... 73.64751289 78.06644593\n",
            " 77.67870004]\n",
            "Уникальные значения столбца rougher.input.feed_sol\n",
            "[42.02244004 41.18790338 42.54629365 ... 41.09548544 41.71573993\n",
            " 40.8911212 ]\n",
            "Уникальные значения столбца rougher.input.feed_au\n",
            "[12.08410303 11.91897696 12.09133187 ... 10.16909424 10.0711562\n",
            "  9.69725923]\n",
            "Уникальные значения столбца rougher.input.floatbank10_sulfate\n",
            "[16.92287678 17.00253236 16.9925201  ... 10.18221863 10.73091518\n",
            " 10.78949314]\n",
            "Уникальные значения столбца rougher.input.floatbank10_xanthate\n",
            "[6.15347948 5.99904322 5.85063203 ... 7.19625528 7.20005817 7.19577615]\n",
            "Уникальные значения столбца rougher.input.floatbank11_sulfate\n",
            "[16.86751812 16.99606284 16.98209624 ... 10.18546094 10.7263489\n",
            " 10.79288125]\n",
            "Уникальные значения столбца rougher.input.floatbank11_xanthate\n",
            "[6.15070908 6.00231462 5.8535936  ... 7.19867616 7.20083409 7.20103722]\n",
            "Уникальные значения столбца rougher.state.floatbank10_a_air\n",
            "[1001.84931693  998.69078495  998.51671978 ... 1396.20306959 1403.94228815\n",
            " 1400.61154434]\n",
            "Уникальные значения столбца rougher.state.floatbank10_a_level\n",
            "[-350.30126519 -350.4257041  -349.78353797 ... -300.21072161 -300.03011881\n",
            " -299.98940529]\n",
            "Уникальные значения столбца rougher.state.floatbank10_b_air\n",
            "[1249.73861187 1248.3954574  1247.44074791 ... 1047.87974166 1049.8022887\n",
            " 1052.78275582]\n",
            "Уникальные значения столбца rougher.state.floatbank10_b_level\n",
            "[-399.10753083 -399.94602527 -400.2643304  ... -499.60424753 -499.79557571\n",
            " -499.76296558]\n",
            "Уникальные значения столбца rougher.state.floatbank10_c_air\n",
            "[1249.75051952 1249.51445112 1248.20720353 ...  948.96342924  950.76939028\n",
            "  950.79374043]\n",
            "Уникальные значения столбца rougher.state.floatbank10_c_level\n",
            "[-399.39672997 -399.63081008 -401.0744048  ... -499.54956737 -500.37464476\n",
            " -499.35716991]\n",
            "Уникальные значения столбца rougher.state.floatbank10_d_air\n",
            "[1198.2878551  1200.50645936 1199.77002579 ...  856.32559674  847.64719836\n",
            "  850.63953743]\n",
            "Уникальные значения столбца rougher.state.floatbank10_d_level\n",
            "[-399.4885942  -399.94243382 -400.79058233 ... -500.09561552 -499.92033214\n",
            " -500.43378202]\n",
            "Уникальные значения столбца rougher.state.floatbank10_e_air\n",
            "[ 999.47225024 1000.00211427  999.92551852 ...  850.61459734  849.41304043\n",
            "  850.37080092]\n",
            "Уникальные значения столбца rougher.state.floatbank10_e_level\n",
            "[-399.53096224 -399.49152777 -399.23699933 ... -499.47371293 -500.38052945\n",
            " -500.81935107]\n",
            "Уникальные значения столбца rougher.state.floatbank10_f_air\n",
            "[949.56618935 950.20000896 950.32048103 ... 850.27957826 850.07502569\n",
            " 850.68018802]\n",
            "Уникальные значения столбца rougher.state.floatbank10_f_level\n",
            "[-398.1808065  -405.78751426 -400.86434014 ... -498.50837372 -500.47824975\n",
            " -498.53919784]\n",
            "Уникальные значения столбца secondary_cleaner.state.floatbank2_a_air\n",
            "[24.93820005 24.92346588 24.90873171 ... 29.07594837 29.10318496\n",
            " 29.09811556]\n",
            "Уникальные значения столбца secondary_cleaner.state.floatbank2_a_level\n",
            "[-500.49096321 -499.81396286 -500.30403501 ... -500.52840191 -499.69267237\n",
            " -500.4298716 ]\n",
            "Уникальные значения столбца secondary_cleaner.state.floatbank2_b_air\n",
            "[14.94760655 14.93087322 14.99651073 ... 26.88800523 27.05174234\n",
            " 26.89240083]\n",
            "Уникальные значения столбца secondary_cleaner.state.floatbank2_b_level\n",
            "[-500.01383707 -500.76445185 -500.99382097 ... -500.97579938 -499.85833703\n",
            " -500.08713099]\n",
            "Уникальные значения столбца secondary_cleaner.state.floatbank3_a_air\n",
            "[20.01816639 19.98850311 20.03968924 ... 28.00022359 27.98038661\n",
            " 28.02349117]\n",
            "Уникальные значения столбца secondary_cleaner.state.floatbank3_a_level\n",
            "[-450.3959952  -450.1140239  -450.26316447 ... -500.56587597 -499.90722485\n",
            " -500.17040634]\n",
            "Уникальные значения столбца secondary_cleaner.state.floatbank3_b_air\n",
            "[13.98705832 14.09298057 14.07788129 ... 22.99652762 23.04656243\n",
            " 23.01355945]\n",
            "Уникальные значения столбца secondary_cleaner.state.floatbank3_b_level\n",
            "[-449.83151311 -450.05916302 -449.66099667 ... -500.47758266 -499.74491367\n",
            " -500.21880064]\n",
            "Уникальные значения столбца secondary_cleaner.state.floatbank4_a_air\n",
            "[12.02355397 12.05814003 11.96236627 ... 19.99413037 19.95875984\n",
            " 20.03471502]\n",
            "Уникальные значения столбца secondary_cleaner.state.floatbank4_a_level\n",
            "[-497.79583396 -498.69577254 -498.76748398 ... -499.79131165 -499.95874984\n",
            " -500.72858836]\n",
            "Уникальные значения столбца secondary_cleaner.state.floatbank4_b_air\n",
            "[ 8.01665643  8.13097913  8.09689254 ... 15.10142454 15.02685277\n",
            " 14.9141989 ]\n",
            "Уникальные значения столбца secondary_cleaner.state.floatbank4_b_level\n",
            "[-501.28913912 -499.63420858 -500.82742318 ... -499.93625187 -499.72314278\n",
            " -499.94851824]\n",
            "Уникальные значения столбца secondary_cleaner.state.floatbank5_a_air\n",
            "[ 7.9465617   7.95826984  8.07105556 ... 10.98918086 11.01160663\n",
            " 10.98660699]\n",
            "Уникальные значения столбца secondary_cleaner.state.floatbank5_a_level\n",
            "[-432.31784957 -525.83964811 -500.80167311 ... -498.34789767 -499.98504646\n",
            " -500.65802703]\n",
            "Уникальные значения столбца secondary_cleaner.state.floatbank5_b_air\n",
            "[4.8725108  4.87885017 4.90512487 ... 9.02094441 9.00978287 8.98949731]\n",
            "Уникальные значения столбца secondary_cleaner.state.floatbank5_b_level\n",
            "[-500.03743694 -500.16237519 -499.82850963 ... -500.04044778 -499.93790152\n",
            " -500.33758848]\n",
            "Уникальные значения столбца secondary_cleaner.state.floatbank6_a_air\n",
            "[26.70588919 25.01994014 24.99486203 ...  8.98203819  9.01265986\n",
            "  8.98863205]\n",
            "Уникальные значения столбца secondary_cleaner.state.floatbank6_a_level\n",
            "[-499.70941356 -499.81943753 -500.62255903 ... -497.78988177 -500.15428409\n",
            " -500.76493726]\n",
            "Количество пропусков в каждом столбце\n",
            "date                                          0.000000\n",
            "primary_cleaner.input.sulfate                 0.000756\n",
            "primary_cleaner.input.depressant              0.000945\n",
            "primary_cleaner.input.feed_size               0.000000\n",
            "primary_cleaner.input.xanthate                0.000756\n",
            "primary_cleaner.state.floatbank8_a_air        0.000000\n",
            "primary_cleaner.state.floatbank8_a_level      0.000000\n",
            "primary_cleaner.state.floatbank8_b_air        0.000000\n",
            "primary_cleaner.state.floatbank8_b_level      0.000000\n",
            "primary_cleaner.state.floatbank8_c_air        0.000000\n",
            "primary_cleaner.state.floatbank8_c_level      0.000000\n",
            "primary_cleaner.state.floatbank8_d_air        0.000000\n",
            "primary_cleaner.state.floatbank8_d_level      0.000000\n",
            "rougher.input.feed_ag                         0.000000\n",
            "rougher.input.feed_pb                         0.000000\n",
            "rougher.input.feed_rate                       0.000567\n",
            "rougher.input.feed_size                       0.000189\n",
            "rougher.input.feed_sol                        0.003970\n",
            "rougher.input.feed_au                         0.000000\n",
            "rougher.input.floatbank10_sulfate             0.000945\n",
            "rougher.input.floatbank10_xanthate            0.000000\n",
            "rougher.input.floatbank11_sulfate             0.001512\n",
            "rougher.input.floatbank11_xanthate            0.004726\n",
            "rougher.state.floatbank10_a_air               0.000000\n",
            "rougher.state.floatbank10_a_level             0.000000\n",
            "rougher.state.floatbank10_b_air               0.000000\n",
            "rougher.state.floatbank10_b_level             0.000000\n",
            "rougher.state.floatbank10_c_air               0.000000\n",
            "rougher.state.floatbank10_c_level             0.000000\n",
            "rougher.state.floatbank10_d_air               0.000000\n",
            "rougher.state.floatbank10_d_level             0.000000\n",
            "rougher.state.floatbank10_e_air               0.000000\n",
            "rougher.state.floatbank10_e_level             0.000000\n",
            "rougher.state.floatbank10_f_air               0.000000\n",
            "rougher.state.floatbank10_f_level             0.000000\n",
            "secondary_cleaner.state.floatbank2_a_air      0.000567\n",
            "secondary_cleaner.state.floatbank2_a_level    0.000000\n",
            "secondary_cleaner.state.floatbank2_b_air      0.000378\n",
            "secondary_cleaner.state.floatbank2_b_level    0.000000\n",
            "secondary_cleaner.state.floatbank3_a_air      0.001701\n",
            "secondary_cleaner.state.floatbank3_a_level    0.000000\n",
            "secondary_cleaner.state.floatbank3_b_air      0.000000\n",
            "secondary_cleaner.state.floatbank3_b_level    0.000000\n",
            "secondary_cleaner.state.floatbank4_a_air      0.000000\n",
            "secondary_cleaner.state.floatbank4_a_level    0.000000\n",
            "secondary_cleaner.state.floatbank4_b_air      0.000000\n",
            "secondary_cleaner.state.floatbank4_b_level    0.000000\n",
            "secondary_cleaner.state.floatbank5_a_air      0.000000\n",
            "secondary_cleaner.state.floatbank5_a_level    0.000000\n",
            "secondary_cleaner.state.floatbank5_b_air      0.000000\n",
            "secondary_cleaner.state.floatbank5_b_level    0.000000\n",
            "secondary_cleaner.state.floatbank6_a_air      0.000000\n",
            "secondary_cleaner.state.floatbank6_a_level    0.000000\n",
            "dtype: float64\n"
          ]
        }
      ],
      "source": [
        "show_rows(gold_recovery_test)"
      ]
    },
    {
      "cell_type": "code",
      "execution_count": null,
      "metadata": {
        "scrolled": true,
        "id": "nHO2E11k8FFD",
        "outputId": "32baa40a-63cb-4d3c-c677-6586eb166388"
      },
      "outputs": [
        {
          "name": "stdout",
          "output_type": "stream",
          "text": [
            "Уникальные значения столбца date\n",
            "['2016-01-15 00:00:00' '2016-01-15 01:00:00' '2016-01-15 02:00:00' ...\n",
            " '2018-08-18 08:59:59' '2018-08-18 09:59:59' '2018-08-18 10:59:59']\n",
            "Уникальные значения столбца final.output.concentrate_ag\n",
            "[6.05540276 6.02936857 6.05592607 ... 3.10999751 3.36724104 3.59837494]\n",
            "Уникальные значения столбца final.output.concentrate_pb\n",
            "[ 9.88964844  9.9689441  10.21399457 ... 11.43436599 11.62558728\n",
            " 11.7378318 ]\n",
            "Уникальные значения столбца final.output.concentrate_sol\n",
            "[5.50732422 5.25778148 5.38375877 ... 6.88601311 6.79943261 6.71750947]\n",
            "Уникальные значения столбца final.output.concentrate_au\n",
            "[42.19202042 42.70162925 42.65750061 ... 46.79569097 46.40818768\n",
            " 46.29943814]\n",
            "Уникальные значения столбца final.output.recovery\n",
            "[70.54121591 69.26619763 68.11644507 ... 67.00218885 65.52324622\n",
            " 70.28145415]\n",
            "Уникальные значения столбца final.output.tail_ag\n",
            "[10.41196156 10.46267568 10.50704594 ...  8.52960609  8.77717133\n",
            "  8.40668973]\n",
            "Уникальные значения столбца final.output.tail_pb\n",
            "[0.89544678 0.92745213 0.95371573 ... 2.91141836 2.81921445 2.51751799]\n",
            "Уникальные значения столбца final.output.tail_sol\n",
            "[16.90429688 16.6345141  16.20884917 ... 11.11514674 10.46384748\n",
            " 10.65219334]\n",
            "Уникальные значения столбца final.output.tail_au\n",
            "[2.14314938 2.22493035 2.25788912 ... 1.59661581 1.60287899 1.38943434]\n",
            "Уникальные значения столбца primary_cleaner.input.sulfate\n",
            "[127.09200287 125.62923179 123.81980789 ... 105.66611757  98.8805383\n",
            "  95.24842664]\n",
            "Уникальные значения столбца primary_cleaner.input.depressant\n",
            "[10.12829494 10.29625065 11.31627982 ...  7.95511136  7.98416354\n",
            "  8.07895679]\n",
            "Уникальные значения столбца primary_cleaner.input.feed_size\n",
            "[7.25       7.30316665 7.53999996 ... 6.06666666 6.23999951 6.2833328 ]\n",
            "Уникальные значения столбца primary_cleaner.input.xanthate\n",
            "[0.98875904 1.00266309 0.99126547 ... 1.31592569 1.24196858 1.28304487]\n",
            "Уникальные значения столбца primary_cleaner.output.concentrate_ag\n",
            "[8.54755116 8.55874319 8.60350485 ... 7.12889611 7.49044444 7.53758431]\n",
            "Уникальные значения столбца primary_cleaner.output.concentrate_pb\n",
            "[10.38964844 10.49706908 10.35449431 ... 12.633558   12.0123779\n",
            " 11.6502851 ]\n",
            "Уникальные значения столбца primary_cleaner.output.concentrate_sol\n",
            "[19.52929688 19.36914674 19.16757892 ...  7.9418999   6.94297165\n",
            "  6.20355328]\n",
            "Уникальные значения столбца primary_cleaner.output.concentrate_au\n",
            "[34.17442703 34.11852552 33.96946437 ... 31.85674228 30.77089201\n",
            " 30.35661802]\n",
            "Уникальные значения столбца primary_cleaner.output.tail_ag\n",
            "[14.9365263  16.25051119 16.49182301 ... 22.2981488  22.71465646\n",
            " 22.73592672]\n",
            "Уникальные значения столбца primary_cleaner.output.tail_pb\n",
            "[2.53491211 3.04964612 3.12466381 ... 6.27825044 6.25314507 6.08428733]\n",
            "Уникальные значения столбца primary_cleaner.output.tail_sol\n",
            "[7.47607422 6.73390727 6.47176848 ... 4.45745699 3.55712066 3.02669909]\n",
            "Уникальные значения столбца primary_cleaner.output.tail_au\n",
            "[2.10667944 2.35301686 2.41680033 ... 2.61223104 2.80064849 2.70804646]\n",
            "Уникальные значения столбца primary_cleaner.state.floatbank8_a_air\n",
            "[1549.77575684 1576.16667149 1601.55616303 ... 1649.16676102 1646.54776267\n",
            " 1648.75990646]\n",
            "Уникальные значения столбца primary_cleaner.state.floatbank8_a_level\n",
            "[-498.91213989 -500.90496496 -499.99779065 ... -399.88863085 -398.97708269\n",
            " -399.86205326]\n",
            "Уникальные значения столбца primary_cleaner.state.floatbank8_b_air\n",
            "[1551.4342041  1575.95062568 1600.38668535 ... 1649.19690421 1648.21223972\n",
            " 1650.13539491]\n",
            "Уникальные значения столбца primary_cleaner.state.floatbank8_b_level\n",
            "[-516.40344238 -499.86588946 -500.60776243 ... -399.67757077 -400.38326491\n",
            " -399.95732109]\n",
            "Уникальные значения столбца primary_cleaner.state.floatbank8_c_air\n",
            "[1549.87390137 1575.99418888 1602.00354199 ... 1647.89699888 1648.91738717\n",
            " 1648.83189046]\n",
            "Уникальные значения столбца primary_cleaner.state.floatbank8_c_level\n",
            "[-498.66659546 -499.31510741 -500.87006932 ... -399.98827492 -399.52134386\n",
            " -400.58611561]\n",
            "Уникальные значения столбца primary_cleaner.state.floatbank8_d_air\n",
            "[1554.36743164 1574.47925899 1599.54151472 ... 1649.7727139  1651.4985915\n",
            " 1649.46458174]\n",
            "Уникальные значения столбца primary_cleaner.state.floatbank8_d_level\n",
            "[-493.4281311  -498.9316652  -499.82744411 ... -399.83190155 -399.7453286\n",
            " -400.67330254]\n",
            "Уникальные значения столбца rougher.calculation.sulfate_to_au_concentrate\n",
            "[41885.70703125 42050.86180929 42018.1011843  ... 44585.18133426\n",
            " 44084.73570763 44082.86656477]\n",
            "Уникальные значения столбца rougher.calculation.floatbank10_sulfate_to_au_feed\n",
            "[3481.77905273 3498.3709791  3495.34891012 ... 2510.81354487 2507.57249359\n",
            " 2487.4777621 ]\n",
            "Уникальные значения столбца rougher.calculation.floatbank11_sulfate_to_au_feed\n",
            "[3520.3371582  3489.98185731 3502.35981942 ... 2510.14243297 2507.7233612\n",
            " 2488.62608025]\n",
            "Уникальные значения столбца rougher.calculation.au_pb_ratio\n",
            "[2.83868678 2.85899801 2.9459892  ... 1.12563651 1.11793477 1.12636713]\n",
            "Уникальные значения столбца rougher.input.feed_ag\n",
            "[6.10037804 6.16111348 6.1164549  ... 5.97051525 6.04813022 6.15871773]\n",
            "Уникальные значения столбца rougher.input.feed_pb\n",
            "[2.28491211 2.26603263 2.15962163 ... 4.02000219 3.90253661 3.87572678]\n",
            "Уникальные значения столбца rougher.input.feed_rate\n",
            "[523.54632568 525.2905809  530.02661044 ... 555.68287198 544.73168688\n",
            " 555.82020835]\n",
            "Уникальные значения столбца rougher.input.feed_size\n",
            "[ 55.48659897  57.27866586  57.51064892 ... 122.26268985 123.74242952\n",
            "  94.54435803]\n",
            "Уникальные значения столбца rougher.input.feed_sol\n",
            "[36.80859375 35.75338487 35.97163007 ... 40.0740256  39.71390632\n",
            " 39.13511856]\n",
            "Уникальные значения столбца rougher.input.feed_au\n",
            "[6.48614979 6.47858279 6.36222199 ... 4.52506124 4.36278136 4.36549126]\n",
            "Уникальные значения столбца rougher.input.floatbank10_sulfate\n",
            "[11.98661613 11.97119324 11.92060278 ...  6.58602044  6.21011918\n",
            "  6.14698197]\n",
            "Уникальные значения столбца rougher.input.floatbank10_xanthate\n",
            "[6.00798988 6.00576591 6.19737694 ... 9.29960607 9.29770949 9.30861213]\n",
            "Уникальные значения столбца rougher.input.floatbank11_sulfate\n",
            "[11.83674335 11.99616279 11.9203052  ...  6.58413031  6.20951712\n",
            "  6.16893878]\n",
            "Уникальные значения столбца rougher.input.floatbank11_xanthate\n",
            "[6.00581837 6.01259367 6.20463318 ... 9.30013304 9.29719433 9.30985188]\n",
            "Уникальные значения столбца rougher.output.concentrate_ag\n",
            "[11.50077057 11.61586517 11.6957533  ...  8.52349701 11.65879854\n",
            " 11.95948557]\n",
            "Уникальные значения столбца rougher.output.concentrate_pb\n",
            "[ 7.10107422  7.2788067   7.21683259 ...  8.95513452 10.65537698\n",
            " 10.70214844]\n",
            "Уникальные значения столбца rougher.output.concentrate_sol\n",
            "[28.02929688 28.06706333 27.45403684 ... 22.78646719 29.05274175\n",
            " 29.07823461]\n",
            "Уникальные значения столбца rougher.output.concentrate_au\n",
            "[19.79380798 20.05097514 19.73717002 ... 15.11123105 17.83477207\n",
            " 17.80413414]\n",
            "Уникальные значения столбца rougher.output.recovery\n",
            "[87.10776293 86.84326051 86.84230826 ... 88.89057853 89.858126\n",
            " 89.51495973]\n",
            "Уникальные значения столбца rougher.output.tail_ag\n",
            "[5.00801802 4.95537791 4.84345988 ... 4.05001019 3.90249404 3.92547281]\n",
            "Уникальные значения столбца rougher.output.tail_pb\n",
            "[0.50872803 0.53668947 0.54641563 ... 0.63609521 0.62560948 0.63867696]\n",
            "Уникальные значения столбца rougher.output.tail_sol\n",
            "[19.15429688 18.96523438 18.80853299 ... 18.32308011 19.42374\n",
            " 19.94667303]\n",
            "Уникальные значения столбца rougher.output.tail_au\n",
            "[1.17024398 1.18482746 1.16256189 ... 0.68505927 0.56713038 0.58643898]\n",
            "Уникальные значения столбца rougher.state.floatbank10_a_air\n",
            "[ 999.70690918 1000.28639767  999.71956517 ... 1204.86663888 1201.90417739\n",
            " 1196.23811223]\n",
            "Уникальные значения столбца rougher.state.floatbank10_a_level\n",
            "[-404.06698608 -400.06519557 -400.07402844 ... -299.23567501 -299.90730825\n",
            " -299.86274301]\n",
            "Уникальные значения столбца rougher.state.floatbank10_b_air\n",
            "[1603.01135254 1600.75458659 1599.33732987 ... 1149.94290216 1154.08780412\n",
            " 1147.24824118]\n",
            "Уникальные значения столбца rougher.state.floatbank10_b_level\n",
            "[-434.71502686 -449.95343451 -450.00853022 ... -501.71790333 -500.03657999\n",
            " -500.3631647 ]\n",
            "Уникальные значения столбца rougher.state.floatbank10_c_air\n",
            "[1602.375      1600.47957991 1599.6727973  ... 1049.60439027 1054.00975578\n",
            " 1047.27906544]\n",
            "Уникальные значения столбца rougher.state.floatbank10_c_level\n",
            "[-442.20446777 -449.83064631 -449.95449144 ... -500.54905279 -500.23733476\n",
            " -500.35409056]\n",
            "Уникальные значения столбца rougher.state.floatbank10_d_air\n",
            "[1598.93725586 1600.52758858 1599.84932514 ...  952.70273231  944.13879272\n",
            "  948.75660844]\n",
            "Уникальные значения столбца rougher.state.floatbank10_d_level\n",
            "[-451.29412842 -449.95364917 -449.95418548 ... -502.35229596 -496.866953\n",
            " -498.43941603]\n",
            "Уникальные значения столбца rougher.state.floatbank10_e_air\n",
            "[1404.4720459  1399.2270837  1399.18094498 ...  849.01601744  851.58976668\n",
            "  849.44191754]\n",
            "Уникальные значения столбца rougher.state.floatbank10_e_level\n",
            "[-455.46298218 -450.86984762 -449.93758816 ... -500.5056773  -499.04046576\n",
            " -499.2555029 ]\n",
            "Уникальные значения столбца rougher.state.floatbank10_f_air\n",
            "[1416.35498047 1399.71951394 1400.31668194 ...  850.45563548  851.34560554\n",
            "  850.1122457 ]\n",
            "Уникальные значения столбца rougher.state.floatbank10_f_level\n",
            "[-451.93963623 -450.11900131 -450.52714684 ... -506.89796845 -499.12256076\n",
            " -499.4071117 ]\n",
            "Уникальные значения столбца secondary_cleaner.output.tail_ag\n",
            "[14.50018406 14.26547351 14.11566201 ... 17.13755562 16.96498398\n",
            "  8.96792307]\n",
            "Уникальные значения столбца secondary_cleaner.output.tail_pb\n",
            "[ 4.69482422  4.59254704  4.62477543 ... 12.52731928 12.85695999\n",
            "  7.09398241]\n",
            "Уникальные значения столбца secondary_cleaner.output.tail_sol\n",
            "[8.76464844 9.00149429 8.84289576 ... 0.7037185  0.94262078 0.27486187]\n",
            "Уникальные значения столбца secondary_cleaner.output.tail_au\n",
            "[2.60618496 2.48824831 2.45818675 ... 3.03130078 3.13033332 1.6156866 ]\n",
            "Уникальные значения столбца secondary_cleaner.state.floatbank2_a_air\n",
            "[25.85310936 25.88053867 26.00524491 ... 35.00358616 34.98074164\n",
            " 34.94091896]\n",
            "Уникальные значения столбца secondary_cleaner.state.floatbank2_a_level\n",
            "[-498.52648926 -499.98965641 -499.92961595 ... -501.08379358 -498.1310022\n",
            " -500.15050979]\n",
            "Уникальные значения столбца secondary_cleaner.state.floatbank2_b_air\n",
            "[23.89365959 23.88952979 23.88665666 ... 29.99053346 29.96845329\n",
            " 30.03186698]\n",
            "Уникальные значения столбца secondary_cleaner.state.floatbank2_b_level\n",
            "[-501.40628052 -500.37242843 -499.95192762 ... -611.85589811 -586.01333036\n",
            " -500.32833475]\n",
            "Уникальные значения столбца secondary_cleaner.state.floatbank3_a_air\n",
            "[23.96179771 23.97055025 23.91353473 ... 25.94842861 25.97173699\n",
            " 26.03398999]\n",
            "Уникальные значения столбца secondary_cleaner.state.floatbank3_a_level\n",
            "[-495.26281738 -500.08547327 -499.44234284 ... -500.06726776 -499.60839245\n",
            " -500.14779215]\n",
            "Уникальные значения столбца secondary_cleaner.state.floatbank3_b_air\n",
            "[21.94040871 22.08571374 23.95771654 ... 22.96826762 22.95844822\n",
            " 22.9523062 ]\n",
            "Уникальные значения столбца secondary_cleaner.state.floatbank3_b_level\n",
            "[-499.3409729  -499.44689706 -499.90198202 ... -499.83944174 -499.82130767\n",
            " -500.03767788]\n",
            "Уникальные значения столбца secondary_cleaner.state.floatbank4_a_air\n",
            "[14.01683521 13.99228103 14.01501546 ... 23.01571849 23.02496288\n",
            " 23.0186224 ]\n",
            "Уникальные значения столбца secondary_cleaner.state.floatbank4_a_level\n",
            "[-502.48800659 -505.50326215 -502.5209008  ... -501.71159927 -501.15340926\n",
            " -500.49270228]\n",
            "Уникальные значения столбца secondary_cleaner.state.floatbank4_b_air\n",
            "[12.09993076 11.95053085 11.91278306 ... 19.95123119 20.05412154\n",
            " 20.02020485]\n",
            "Уникальные значения столбца secondary_cleaner.state.floatbank4_b_level\n",
            "[-504.71594238 -501.33152943 -501.13338307 ... -499.85702705 -500.31471091\n",
            " -500.22029567]\n",
            "Уникальные значения столбца secondary_cleaner.state.floatbank5_a_air\n",
            "[ 9.92563343 10.03924535 10.07091323 ... 18.01954335 17.979515\n",
            " 17.96351155]\n",
            "Уникальные значения столбца secondary_cleaner.state.floatbank5_a_level\n",
            "[-498.31021118 -500.16998257 -500.12913456 ... -500.45115603 -499.27287133\n",
            " -499.93948991]\n",
            "Уникальные значения столбца secondary_cleaner.state.floatbank5_b_air\n",
            "[ 8.07966614  7.9847572   8.01387688 ... 13.02343079 12.99240352\n",
            " 12.99030588]\n",
            "Уникальные значения столбца secondary_cleaner.state.floatbank5_b_level\n",
            "[-500.47097778 -500.58216767 -500.51757225 ... -499.91439075 -499.97626781\n",
            " -500.08099337]\n",
            "Уникальные значения столбца secondary_cleaner.state.floatbank6_a_air\n",
            "[14.15134144 13.99835264 14.02866312 ... 19.99088509 20.01398578\n",
            " 19.99033553]\n",
            "Уникальные значения столбца secondary_cleaner.state.floatbank6_a_level\n",
            "[-605.84197998 -599.78718423 -601.42736323 ... -501.51845197 -500.62547062\n",
            " -499.1915746 ]\n",
            "Количество пропусков в каждом столбце\n",
            "date                                          0.000000\n",
            "final.output.concentrate_ag                   0.000051\n",
            "final.output.concentrate_pb                   0.000051\n",
            "final.output.concentrate_sol                  0.010854\n",
            "final.output.concentrate_au                   0.000000\n",
            "                                                ...   \n",
            "secondary_cleaner.state.floatbank5_a_level    0.000051\n",
            "secondary_cleaner.state.floatbank5_b_air      0.000051\n",
            "secondary_cleaner.state.floatbank5_b_level    0.000051\n",
            "secondary_cleaner.state.floatbank6_a_air      0.000103\n",
            "secondary_cleaner.state.floatbank6_a_level    0.000051\n",
            "Length: 87, dtype: float64\n"
          ]
        }
      ],
      "source": [
        "show_rows(gold_recovery_full)"
      ]
    },
    {
      "cell_type": "markdown",
      "metadata": {
        "id": "nWLDvBWL8FFE"
      },
      "source": [
        "Рассчет эффективности обогащения чернового концентрата rougher.output.recovery из обучающей выборки. Предварительно удалим пропуски из столбцов со значением NaN."
      ]
    },
    {
      "cell_type": "code",
      "execution_count": null,
      "metadata": {
        "scrolled": false,
        "id": "98fKbeup8FFE",
        "outputId": "d0e822ba-d03d-42bf-8627-cc81ba0858f2"
      },
      "outputs": [
        {
          "name": "stdout",
          "output_type": "stream",
          "text": [
            "<class 'pandas.core.frame.DataFrame'>\n",
            "Int64Index: 14149 entries, 0 to 14148\n",
            "Data columns (total 87 columns):\n",
            " #   Column                                              Non-Null Count  Dtype  \n",
            "---  ------                                              --------------  -----  \n",
            " 0   date                                                14149 non-null  object \n",
            " 1   final.output.concentrate_ag                         14148 non-null  float64\n",
            " 2   final.output.concentrate_pb                         14148 non-null  float64\n",
            " 3   final.output.concentrate_sol                        13938 non-null  float64\n",
            " 4   final.output.concentrate_au                         14149 non-null  float64\n",
            " 5   final.output.recovery                               14149 non-null  float64\n",
            " 6   final.output.tail_ag                                14149 non-null  float64\n",
            " 7   final.output.tail_pb                                14049 non-null  float64\n",
            " 8   final.output.tail_sol                               14144 non-null  float64\n",
            " 9   final.output.tail_au                                14149 non-null  float64\n",
            " 10  primary_cleaner.input.sulfate                       14129 non-null  float64\n",
            " 11  primary_cleaner.input.depressant                    14117 non-null  float64\n",
            " 12  primary_cleaner.input.feed_size                     14149 non-null  float64\n",
            " 13  primary_cleaner.input.xanthate                      14049 non-null  float64\n",
            " 14  primary_cleaner.output.concentrate_ag               14149 non-null  float64\n",
            " 15  primary_cleaner.output.concentrate_pb               14063 non-null  float64\n",
            " 16  primary_cleaner.output.concentrate_sol              13863 non-null  float64\n",
            " 17  primary_cleaner.output.concentrate_au               14149 non-null  float64\n",
            " 18  primary_cleaner.output.tail_ag                      14148 non-null  float64\n",
            " 19  primary_cleaner.output.tail_pb                      14134 non-null  float64\n",
            " 20  primary_cleaner.output.tail_sol                     14103 non-null  float64\n",
            " 21  primary_cleaner.output.tail_au                      14149 non-null  float64\n",
            " 22  primary_cleaner.state.floatbank8_a_air              14145 non-null  float64\n",
            " 23  primary_cleaner.state.floatbank8_a_level            14148 non-null  float64\n",
            " 24  primary_cleaner.state.floatbank8_b_air              14145 non-null  float64\n",
            " 25  primary_cleaner.state.floatbank8_b_level            14148 non-null  float64\n",
            " 26  primary_cleaner.state.floatbank8_c_air              14147 non-null  float64\n",
            " 27  primary_cleaner.state.floatbank8_c_level            14148 non-null  float64\n",
            " 28  primary_cleaner.state.floatbank8_d_air              14146 non-null  float64\n",
            " 29  primary_cleaner.state.floatbank8_d_level            14148 non-null  float64\n",
            " 30  rougher.calculation.sulfate_to_au_concentrate       14148 non-null  float64\n",
            " 31  rougher.calculation.floatbank10_sulfate_to_au_feed  14148 non-null  float64\n",
            " 32  rougher.calculation.floatbank11_sulfate_to_au_feed  14148 non-null  float64\n",
            " 33  rougher.calculation.au_pb_ratio                     14149 non-null  float64\n",
            " 34  rougher.input.feed_ag                               14149 non-null  float64\n",
            " 35  rougher.input.feed_pb                               14049 non-null  float64\n",
            " 36  rougher.input.feed_rate                             14141 non-null  float64\n",
            " 37  rougher.input.feed_size                             14005 non-null  float64\n",
            " 38  rougher.input.feed_sol                              14071 non-null  float64\n",
            " 39  rougher.input.feed_au                               14149 non-null  float64\n",
            " 40  rougher.input.floatbank10_sulfate                   14120 non-null  float64\n",
            " 41  rougher.input.floatbank10_xanthate                  14141 non-null  float64\n",
            " 42  rougher.input.floatbank11_sulfate                   14113 non-null  float64\n",
            " 43  rougher.input.floatbank11_xanthate                  13721 non-null  float64\n",
            " 44  rougher.output.concentrate_ag                       14149 non-null  float64\n",
            " 45  rougher.output.concentrate_pb                       14149 non-null  float64\n",
            " 46  rougher.output.concentrate_sol                      14127 non-null  float64\n",
            " 47  rougher.output.concentrate_au                       14149 non-null  float64\n",
            " 48  rougher.output.recovery                             14149 non-null  float64\n",
            " 49  rougher.output.tail_ag                              14148 non-null  float64\n",
            " 50  rougher.output.tail_pb                              14149 non-null  float64\n",
            " 51  rougher.output.tail_sol                             14149 non-null  float64\n",
            " 52  rougher.output.tail_au                              14149 non-null  float64\n",
            " 53  rougher.state.floatbank10_a_air                     14148 non-null  float64\n",
            " 54  rougher.state.floatbank10_a_level                   14148 non-null  float64\n",
            " 55  rougher.state.floatbank10_b_air                     14148 non-null  float64\n",
            " 56  rougher.state.floatbank10_b_level                   14148 non-null  float64\n",
            " 57  rougher.state.floatbank10_c_air                     14148 non-null  float64\n",
            " 58  rougher.state.floatbank10_c_level                   14148 non-null  float64\n",
            " 59  rougher.state.floatbank10_d_air                     14149 non-null  float64\n",
            " 60  rougher.state.floatbank10_d_level                   14149 non-null  float64\n",
            " 61  rougher.state.floatbank10_e_air                     13713 non-null  float64\n",
            " 62  rougher.state.floatbank10_e_level                   14149 non-null  float64\n",
            " 63  rougher.state.floatbank10_f_air                     14149 non-null  float64\n",
            " 64  rougher.state.floatbank10_f_level                   14149 non-null  float64\n",
            " 65  secondary_cleaner.output.tail_ag                    14147 non-null  float64\n",
            " 66  secondary_cleaner.output.tail_pb                    14139 non-null  float64\n",
            " 67  secondary_cleaner.output.tail_sol                   12544 non-null  float64\n",
            " 68  secondary_cleaner.output.tail_au                    14149 non-null  float64\n",
            " 69  secondary_cleaner.state.floatbank2_a_air            13932 non-null  float64\n",
            " 70  secondary_cleaner.state.floatbank2_a_level          14148 non-null  float64\n",
            " 71  secondary_cleaner.state.floatbank2_b_air            14128 non-null  float64\n",
            " 72  secondary_cleaner.state.floatbank2_b_level          14148 non-null  float64\n",
            " 73  secondary_cleaner.state.floatbank3_a_air            14145 non-null  float64\n",
            " 74  secondary_cleaner.state.floatbank3_a_level          14148 non-null  float64\n",
            " 75  secondary_cleaner.state.floatbank3_b_air            14148 non-null  float64\n",
            " 76  secondary_cleaner.state.floatbank3_b_level          14148 non-null  float64\n",
            " 77  secondary_cleaner.state.floatbank4_a_air            14143 non-null  float64\n",
            " 78  secondary_cleaner.state.floatbank4_a_level          14148 non-null  float64\n",
            " 79  secondary_cleaner.state.floatbank4_b_air            14148 non-null  float64\n",
            " 80  secondary_cleaner.state.floatbank4_b_level          14148 non-null  float64\n",
            " 81  secondary_cleaner.state.floatbank5_a_air            14148 non-null  float64\n",
            " 82  secondary_cleaner.state.floatbank5_a_level          14148 non-null  float64\n",
            " 83  secondary_cleaner.state.floatbank5_b_air            14148 non-null  float64\n",
            " 84  secondary_cleaner.state.floatbank5_b_level          14148 non-null  float64\n",
            " 85  secondary_cleaner.state.floatbank6_a_air            14147 non-null  float64\n",
            " 86  secondary_cleaner.state.floatbank6_a_level          14148 non-null  float64\n",
            "dtypes: float64(86), object(1)\n",
            "memory usage: 9.5+ MB\n"
          ]
        }
      ],
      "source": [
        "gold_recovery_train.dropna(subset=['rougher.output.concentrate_au', 'rougher.input.feed_au',\n",
        "                                   'rougher.output.tail_au','rougher.output.recovery'], inplace=True)\n",
        "gold_recovery_train.info()"
      ]
    },
    {
      "cell_type": "code",
      "execution_count": null,
      "metadata": {
        "scrolled": true,
        "id": "5-uoj-8C8FFE",
        "outputId": "ae665423-2427-4aad-977c-65ddc49181fc"
      },
      "outputs": [
        {
          "name": "stdout",
          "output_type": "stream",
          "text": [
            "Абсолютная средняя ошибка = 1.0748911125799084e-14\n"
          ]
        }
      ],
      "source": [
        "concentrate_au_column = gold_recovery_train['rougher.output.concentrate_au']\n",
        "feed_au_column = gold_recovery_train['rougher.input.feed_au']\n",
        "tail_au_column = gold_recovery_train['rougher.output.tail_au']\n",
        "input_recovery = gold_recovery_train['rougher.output.recovery']\n",
        "calculated_recovery = concentrate_au_column * (feed_au_column - tail_au_column) / feed_au_column / (concentrate_au_column - tail_au_column) * 100\n",
        "print('Абсолютная средняя ошибка =', mean_absolute_error(input_recovery, calculated_recovery))"
      ]
    },
    {
      "cell_type": "markdown",
      "metadata": {
        "id": "Y4Pz9iGe8FFF"
      },
      "source": [
        "MAE имеет очень малое отклонение — это значит, что расчетное значение rougher.output.recovery совпадает с данными из столбца.\n",
        "\n",
        "Выполняю чистку от пропущенных значений в обучающей и тестовой выборке."
      ]
    },
    {
      "cell_type": "code",
      "execution_count": null,
      "metadata": {
        "scrolled": false,
        "id": "aUT9WOvV8FFF",
        "outputId": "a855328e-aeac-45f5-f214-f2efd1d168d8"
      },
      "outputs": [
        {
          "data": {
            "text/plain": [
              "date                                          0.0\n",
              "final.output.concentrate_ag                   0.0\n",
              "final.output.concentrate_pb                   0.0\n",
              "final.output.concentrate_sol                  0.0\n",
              "final.output.concentrate_au                   0.0\n",
              "                                             ... \n",
              "secondary_cleaner.state.floatbank5_a_level    0.0\n",
              "secondary_cleaner.state.floatbank5_b_air      0.0\n",
              "secondary_cleaner.state.floatbank5_b_level    0.0\n",
              "secondary_cleaner.state.floatbank6_a_air      0.0\n",
              "secondary_cleaner.state.floatbank6_a_level    0.0\n",
              "Length: 87, dtype: float64"
            ]
          },
          "execution_count": 11,
          "metadata": {},
          "output_type": "execute_result"
        }
      ],
      "source": [
        "good_gold_recovery_train = gold_recovery_train.dropna()\n",
        "good_gold_recovery_train.isna().mean()"
      ]
    },
    {
      "cell_type": "code",
      "execution_count": null,
      "metadata": {
        "scrolled": false,
        "id": "BxpBTzpY8FFF",
        "outputId": "a5a6071b-6cb3-4e38-eee5-1311212122c8"
      },
      "outputs": [
        {
          "data": {
            "text/plain": [
              "date                                          0.0\n",
              "primary_cleaner.input.sulfate                 0.0\n",
              "primary_cleaner.input.depressant              0.0\n",
              "primary_cleaner.input.feed_size               0.0\n",
              "primary_cleaner.input.xanthate                0.0\n",
              "primary_cleaner.state.floatbank8_a_air        0.0\n",
              "primary_cleaner.state.floatbank8_a_level      0.0\n",
              "primary_cleaner.state.floatbank8_b_air        0.0\n",
              "primary_cleaner.state.floatbank8_b_level      0.0\n",
              "primary_cleaner.state.floatbank8_c_air        0.0\n",
              "primary_cleaner.state.floatbank8_c_level      0.0\n",
              "primary_cleaner.state.floatbank8_d_air        0.0\n",
              "primary_cleaner.state.floatbank8_d_level      0.0\n",
              "rougher.input.feed_ag                         0.0\n",
              "rougher.input.feed_pb                         0.0\n",
              "rougher.input.feed_rate                       0.0\n",
              "rougher.input.feed_size                       0.0\n",
              "rougher.input.feed_sol                        0.0\n",
              "rougher.input.feed_au                         0.0\n",
              "rougher.input.floatbank10_sulfate             0.0\n",
              "rougher.input.floatbank10_xanthate            0.0\n",
              "rougher.input.floatbank11_sulfate             0.0\n",
              "rougher.input.floatbank11_xanthate            0.0\n",
              "rougher.state.floatbank10_a_air               0.0\n",
              "rougher.state.floatbank10_a_level             0.0\n",
              "rougher.state.floatbank10_b_air               0.0\n",
              "rougher.state.floatbank10_b_level             0.0\n",
              "rougher.state.floatbank10_c_air               0.0\n",
              "rougher.state.floatbank10_c_level             0.0\n",
              "rougher.state.floatbank10_d_air               0.0\n",
              "rougher.state.floatbank10_d_level             0.0\n",
              "rougher.state.floatbank10_e_air               0.0\n",
              "rougher.state.floatbank10_e_level             0.0\n",
              "rougher.state.floatbank10_f_air               0.0\n",
              "rougher.state.floatbank10_f_level             0.0\n",
              "secondary_cleaner.state.floatbank2_a_air      0.0\n",
              "secondary_cleaner.state.floatbank2_a_level    0.0\n",
              "secondary_cleaner.state.floatbank2_b_air      0.0\n",
              "secondary_cleaner.state.floatbank2_b_level    0.0\n",
              "secondary_cleaner.state.floatbank3_a_air      0.0\n",
              "secondary_cleaner.state.floatbank3_a_level    0.0\n",
              "secondary_cleaner.state.floatbank3_b_air      0.0\n",
              "secondary_cleaner.state.floatbank3_b_level    0.0\n",
              "secondary_cleaner.state.floatbank4_a_air      0.0\n",
              "secondary_cleaner.state.floatbank4_a_level    0.0\n",
              "secondary_cleaner.state.floatbank4_b_air      0.0\n",
              "secondary_cleaner.state.floatbank4_b_level    0.0\n",
              "secondary_cleaner.state.floatbank5_a_air      0.0\n",
              "secondary_cleaner.state.floatbank5_a_level    0.0\n",
              "secondary_cleaner.state.floatbank5_b_air      0.0\n",
              "secondary_cleaner.state.floatbank5_b_level    0.0\n",
              "secondary_cleaner.state.floatbank6_a_air      0.0\n",
              "secondary_cleaner.state.floatbank6_a_level    0.0\n",
              "dtype: float64"
            ]
          },
          "execution_count": 12,
          "metadata": {},
          "output_type": "execute_result"
        }
      ],
      "source": [
        "good_gold_recovery_test = gold_recovery_test.dropna()\n",
        "good_gold_recovery_test.isna().mean()"
      ]
    },
    {
      "cell_type": "markdown",
      "metadata": {
        "id": "TthsP5gX8FFG"
      },
      "source": [
        "В тестовой выборке отсуствуют столбцы этапов rougher.output, rougher.calculation, final.output, primary_cleaner.output и secondary_cleaner.output. \n",
        "Эти данные будут получены по результатам технологического процесса. Это онлайн метрики. Остальные столбцы исторически известны — значит это офлайн метрики.\n",
        "\n",
        "Выделяю столбцы из тестовой выборки, по которым будет обучаться модель. Столбец data не несет смысла для обучающей модели. Для предсказания rougher.output.recovery будут использоватся данные из стобцов этапа rougher. Для вычисления final.output.recovery будут использованы все столбцы из тестовой выборки."
      ]
    },
    {
      "cell_type": "code",
      "execution_count": null,
      "metadata": {
        "scrolled": false,
        "id": "PzT5yBv98FFG",
        "outputId": "4030ff01-24a2-48c4-b49e-6e619d4543c9"
      },
      "outputs": [
        {
          "name": "stdout",
          "output_type": "stream",
          "text": [
            "{'rougher.input.feed_au', 'rougher.input.floatbank11_sulfate', 'rougher.input.floatbank10_xanthate', 'rougher.input.floatbank11_xanthate', 'rougher.state.floatbank10_f_air', 'rougher.state.floatbank10_c_level', 'rougher.state.floatbank10_e_air', 'rougher.input.feed_pb', 'rougher.state.floatbank10_d_level', 'rougher.input.feed_sol', 'rougher.state.floatbank10_f_level', 'rougher.state.floatbank10_d_air', 'rougher.input.feed_ag', 'rougher.state.floatbank10_a_air', 'rougher.state.floatbank10_e_level', 'rougher.input.feed_size', 'rougher.input.floatbank10_sulfate', 'rougher.state.floatbank10_b_level', 'rougher.state.floatbank10_b_air', 'rougher.input.feed_rate', 'rougher.state.floatbank10_c_air', 'rougher.state.floatbank10_a_level'}\n",
            "\n",
            "{'primary_cleaner.state.floatbank8_d_level', 'rougher.input.feed_au', 'rougher.input.floatbank11_sulfate', 'primary_cleaner.input.feed_size', 'primary_cleaner.input.depressant', 'primary_cleaner.state.floatbank8_a_air', 'primary_cleaner.state.floatbank8_d_air', 'rougher.input.floatbank10_xanthate', 'rougher.input.floatbank11_xanthate', 'rougher.state.floatbank10_f_air', 'rougher.state.floatbank10_c_level', 'rougher.state.floatbank10_e_air', 'secondary_cleaner.state.floatbank4_b_air', 'secondary_cleaner.state.floatbank5_a_air', 'primary_cleaner.state.floatbank8_c_air', 'rougher.input.feed_pb', 'secondary_cleaner.state.floatbank5_b_air', 'secondary_cleaner.state.floatbank6_a_level', 'rougher.state.floatbank10_d_level', 'secondary_cleaner.state.floatbank4_a_level', 'rougher.input.feed_sol', 'secondary_cleaner.state.floatbank3_a_level', 'secondary_cleaner.state.floatbank2_a_air', 'rougher.state.floatbank10_f_level', 'secondary_cleaner.state.floatbank2_b_air', 'secondary_cleaner.state.floatbank5_a_level', 'secondary_cleaner.state.floatbank4_a_air', 'secondary_cleaner.state.floatbank6_a_air', 'rougher.state.floatbank10_d_air', 'secondary_cleaner.state.floatbank3_a_air', 'primary_cleaner.input.xanthate', 'rougher.input.feed_ag', 'primary_cleaner.state.floatbank8_c_level', 'rougher.state.floatbank10_a_air', 'rougher.state.floatbank10_e_level', 'secondary_cleaner.state.floatbank2_a_level', 'rougher.input.feed_size', 'primary_cleaner.state.floatbank8_b_air', 'rougher.state.floatbank10_c_air', 'secondary_cleaner.state.floatbank4_b_level', 'rougher.input.floatbank10_sulfate', 'primary_cleaner.state.floatbank8_a_level', 'rougher.state.floatbank10_b_level', 'secondary_cleaner.state.floatbank2_b_level', 'secondary_cleaner.state.floatbank3_b_level', 'primary_cleaner.input.sulfate', 'secondary_cleaner.state.floatbank5_b_level', 'rougher.state.floatbank10_b_air', 'secondary_cleaner.state.floatbank3_b_air', 'rougher.input.feed_rate', 'primary_cleaner.state.floatbank8_b_level', 'rougher.state.floatbank10_a_level'}\n"
          ]
        }
      ],
      "source": [
        "features_columns = good_gold_recovery_test.columns[1:]\n",
        "rougher_features_columns = set(features_columns[12:34])\n",
        "final_features_columns = set(features_columns)\n",
        "print(rougher_features_columns)\n",
        "print()\n",
        "print(final_features_columns)"
      ]
    },
    {
      "cell_type": "code",
      "execution_count": null,
      "metadata": {
        "id": "wrFmnSpr8FFH"
      },
      "outputs": [],
      "source": [
        ""
      ]
    },
    {
      "cell_type": "code",
      "execution_count": null,
      "metadata": {
        "id": "hMdz83O58FFH"
      },
      "outputs": [],
      "source": [
        ""
      ]
    },
    {
      "cell_type": "markdown",
      "metadata": {
        "id": "4cXcfkZB8FFH"
      },
      "source": [
        "Пройду по ключевым столбцам в обучающей выборке."
      ]
    },
    {
      "cell_type": "code",
      "execution_count": null,
      "metadata": {
        "scrolled": true,
        "id": "2jJbiJve8FFH",
        "outputId": "b17aacae-6588-4a4f-b011-3c144f0d4716"
      },
      "outputs": [
        {
          "data": {
            "image/png": "[encoded data removed]",
            "text/plain": [
              "<Figure size 1080x720 with 1 Axes>"
            ]
          },
          "metadata": {
            "needs_background": "light"
          },
          "output_type": "display_data"
        }
      ],
      "source": [
        "plt.figure(figsize=[15,10])\n",
        "\n",
        "plt.hist(good_gold_recovery_train['rougher.output.recovery'], bins=100)\n",
        "\n",
        "plt.xlim([0, 100])\n",
        "plt.ylim([0, 700])\n",
        "\n",
        "plt.xlabel(\"Эффективность обогащения чернового концентрата \")\n",
        "plt.ylabel(\"Количество результатов\")\n",
        "\n",
        "plt.title(\"Гистограмма распределения по эффективности обогащения\")\n",
        "plt.show()"
      ]
    },
    {
      "cell_type": "markdown",
      "metadata": {
        "id": "w7T44bXu8FFH"
      },
      "source": [
        "Изучу нулевые значения в столбце rougher.output.recovery."
      ]
    },
    {
      "cell_type": "code",
      "execution_count": null,
      "metadata": {
        "scrolled": false,
        "id": "y9NcDBPZ8FFI",
        "outputId": "d193b7c6-411d-4c4e-afd8-0e85ad89f6c1"
      },
      "outputs": [
        {
          "data": {
            "text/html": [
              "<div>\n",
              "<style scoped>\n",
              "    .dataframe tbody tr th:only-of-type {\n",
              "        vertical-align: middle;\n",
              "    }\n",
              "\n",
              "    .dataframe tbody tr th {\n",
              "        vertical-align: top;\n",
              "    }\n",
              "\n",
              "    .dataframe thead th {\n",
              "        text-align: right;\n",
              "    }\n",
              "</style>\n",
              "<table border=\"1\" class=\"dataframe\">\n",
              "  <thead>\n",
              "    <tr style=\"text-align: right;\">\n",
              "      <th></th>\n",
              "      <th>date</th>\n",
              "      <th>final.output.concentrate_ag</th>\n",
              "      <th>final.output.concentrate_pb</th>\n",
              "      <th>final.output.concentrate_sol</th>\n",
              "      <th>final.output.concentrate_au</th>\n",
              "      <th>final.output.recovery</th>\n",
              "      <th>final.output.tail_ag</th>\n",
              "      <th>final.output.tail_pb</th>\n",
              "      <th>final.output.tail_sol</th>\n",
              "      <th>final.output.tail_au</th>\n",
              "      <th>...</th>\n",
              "      <th>secondary_cleaner.state.floatbank4_a_air</th>\n",
              "      <th>secondary_cleaner.state.floatbank4_a_level</th>\n",
              "      <th>secondary_cleaner.state.floatbank4_b_air</th>\n",
              "      <th>secondary_cleaner.state.floatbank4_b_level</th>\n",
              "      <th>secondary_cleaner.state.floatbank5_a_air</th>\n",
              "      <th>secondary_cleaner.state.floatbank5_a_level</th>\n",
              "      <th>secondary_cleaner.state.floatbank5_b_air</th>\n",
              "      <th>secondary_cleaner.state.floatbank5_b_level</th>\n",
              "      <th>secondary_cleaner.state.floatbank6_a_air</th>\n",
              "      <th>secondary_cleaner.state.floatbank6_a_level</th>\n",
              "    </tr>\n",
              "  </thead>\n",
              "  <tbody>\n",
              "    <tr>\n",
              "      <th>45</th>\n",
              "      <td>2016-01-16 21:00:00</td>\n",
              "      <td>4.566664</td>\n",
              "      <td>10.406178</td>\n",
              "      <td>4.588698</td>\n",
              "      <td>46.614456</td>\n",
              "      <td>68.403877</td>\n",
              "      <td>10.705777</td>\n",
              "      <td>1.509070</td>\n",
              "      <td>17.875134</td>\n",
              "      <td>2.509776</td>\n",
              "      <td>...</td>\n",
              "      <td>14.025588</td>\n",
              "      <td>-550.404242</td>\n",
              "      <td>12.028925</td>\n",
              "      <td>-550.570104</td>\n",
              "      <td>10.052072</td>\n",
              "      <td>-500.797905</td>\n",
              "      <td>7.984500</td>\n",
              "      <td>-499.581046</td>\n",
              "      <td>11.982025</td>\n",
              "      <td>-599.161228</td>\n",
              "    </tr>\n",
              "    <tr>\n",
              "      <th>46</th>\n",
              "      <td>2016-01-16 22:00:00</td>\n",
              "      <td>4.577832</td>\n",
              "      <td>10.691605</td>\n",
              "      <td>5.274175</td>\n",
              "      <td>46.250638</td>\n",
              "      <td>70.675633</td>\n",
              "      <td>10.728531</td>\n",
              "      <td>1.641216</td>\n",
              "      <td>18.349339</td>\n",
              "      <td>2.540843</td>\n",
              "      <td>...</td>\n",
              "      <td>14.094808</td>\n",
              "      <td>-550.676337</td>\n",
              "      <td>12.004728</td>\n",
              "      <td>-550.496522</td>\n",
              "      <td>9.953139</td>\n",
              "      <td>-500.330920</td>\n",
              "      <td>8.012074</td>\n",
              "      <td>-500.133530</td>\n",
              "      <td>11.975316</td>\n",
              "      <td>-598.839683</td>\n",
              "    </tr>\n",
              "    <tr>\n",
              "      <th>50</th>\n",
              "      <td>2016-01-17 03:00:00</td>\n",
              "      <td>5.759800</td>\n",
              "      <td>9.537415</td>\n",
              "      <td>3.997737</td>\n",
              "      <td>45.267942</td>\n",
              "      <td>68.638723</td>\n",
              "      <td>10.623064</td>\n",
              "      <td>1.217058</td>\n",
              "      <td>16.072705</td>\n",
              "      <td>2.471388</td>\n",
              "      <td>...</td>\n",
              "      <td>14.164342</td>\n",
              "      <td>-552.959690</td>\n",
              "      <td>11.917980</td>\n",
              "      <td>-549.417320</td>\n",
              "      <td>10.016315</td>\n",
              "      <td>-497.644975</td>\n",
              "      <td>7.999080</td>\n",
              "      <td>-500.112143</td>\n",
              "      <td>12.043030</td>\n",
              "      <td>-599.630112</td>\n",
              "    </tr>\n",
              "    <tr>\n",
              "      <th>51</th>\n",
              "      <td>2016-01-17 04:00:00</td>\n",
              "      <td>5.807253</td>\n",
              "      <td>10.439505</td>\n",
              "      <td>6.512951</td>\n",
              "      <td>43.237493</td>\n",
              "      <td>72.136712</td>\n",
              "      <td>10.518407</td>\n",
              "      <td>1.336890</td>\n",
              "      <td>17.750367</td>\n",
              "      <td>2.323883</td>\n",
              "      <td>...</td>\n",
              "      <td>14.097072</td>\n",
              "      <td>-549.292129</td>\n",
              "      <td>12.000525</td>\n",
              "      <td>-550.306171</td>\n",
              "      <td>9.925991</td>\n",
              "      <td>-501.985618</td>\n",
              "      <td>7.948277</td>\n",
              "      <td>-500.060988</td>\n",
              "      <td>12.005620</td>\n",
              "      <td>-601.746110</td>\n",
              "    </tr>\n",
              "    <tr>\n",
              "      <th>759</th>\n",
              "      <td>2016-02-18 20:00:00</td>\n",
              "      <td>8.478624</td>\n",
              "      <td>11.303437</td>\n",
              "      <td>10.547473</td>\n",
              "      <td>35.776254</td>\n",
              "      <td>80.041038</td>\n",
              "      <td>12.958362</td>\n",
              "      <td>2.369492</td>\n",
              "      <td>9.839622</td>\n",
              "      <td>3.066451</td>\n",
              "      <td>...</td>\n",
              "      <td>23.709602</td>\n",
              "      <td>-412.029336</td>\n",
              "      <td>22.639733</td>\n",
              "      <td>-412.896304</td>\n",
              "      <td>25.021629</td>\n",
              "      <td>-428.537556</td>\n",
              "      <td>21.011542</td>\n",
              "      <td>-400.287375</td>\n",
              "      <td>30.004867</td>\n",
              "      <td>-396.683519</td>\n",
              "    </tr>\n",
              "  </tbody>\n",
              "</table>\n",
              "<p>5 rows × 87 columns</p>\n",
              "</div>"
            ],
            "text/plain": [
              "                    date  final.output.concentrate_ag  \\\n",
              "45   2016-01-16 21:00:00                     4.566664   \n",
              "46   2016-01-16 22:00:00                     4.577832   \n",
              "50   2016-01-17 03:00:00                     5.759800   \n",
              "51   2016-01-17 04:00:00                     5.807253   \n",
              "759  2016-02-18 20:00:00                     8.478624   \n",
              "\n",
              "     final.output.concentrate_pb  final.output.concentrate_sol  \\\n",
              "45                     10.406178                      4.588698   \n",
              "46                     10.691605                      5.274175   \n",
              "50                      9.537415                      3.997737   \n",
              "51                     10.439505                      6.512951   \n",
              "759                    11.303437                     10.547473   \n",
              "\n",
              "     final.output.concentrate_au  final.output.recovery  final.output.tail_ag  \\\n",
              "45                     46.614456              68.403877             10.705777   \n",
              "46                     46.250638              70.675633             10.728531   \n",
              "50                     45.267942              68.638723             10.623064   \n",
              "51                     43.237493              72.136712             10.518407   \n",
              "759                    35.776254              80.041038             12.958362   \n",
              "\n",
              "     final.output.tail_pb  final.output.tail_sol  final.output.tail_au  ...  \\\n",
              "45               1.509070              17.875134              2.509776  ...   \n",
              "46               1.641216              18.349339              2.540843  ...   \n",
              "50               1.217058              16.072705              2.471388  ...   \n",
              "51               1.336890              17.750367              2.323883  ...   \n",
              "759              2.369492               9.839622              3.066451  ...   \n",
              "\n",
              "     secondary_cleaner.state.floatbank4_a_air  \\\n",
              "45                                  14.025588   \n",
              "46                                  14.094808   \n",
              "50                                  14.164342   \n",
              "51                                  14.097072   \n",
              "759                                 23.709602   \n",
              "\n",
              "     secondary_cleaner.state.floatbank4_a_level  \\\n",
              "45                                  -550.404242   \n",
              "46                                  -550.676337   \n",
              "50                                  -552.959690   \n",
              "51                                  -549.292129   \n",
              "759                                 -412.029336   \n",
              "\n",
              "     secondary_cleaner.state.floatbank4_b_air  \\\n",
              "45                                  12.028925   \n",
              "46                                  12.004728   \n",
              "50                                  11.917980   \n",
              "51                                  12.000525   \n",
              "759                                 22.639733   \n",
              "\n",
              "     secondary_cleaner.state.floatbank4_b_level  \\\n",
              "45                                  -550.570104   \n",
              "46                                  -550.496522   \n",
              "50                                  -549.417320   \n",
              "51                                  -550.306171   \n",
              "759                                 -412.896304   \n",
              "\n",
              "     secondary_cleaner.state.floatbank5_a_air  \\\n",
              "45                                  10.052072   \n",
              "46                                   9.953139   \n",
              "50                                  10.016315   \n",
              "51                                   9.925991   \n",
              "759                                 25.021629   \n",
              "\n",
              "     secondary_cleaner.state.floatbank5_a_level  \\\n",
              "45                                  -500.797905   \n",
              "46                                  -500.330920   \n",
              "50                                  -497.644975   \n",
              "51                                  -501.985618   \n",
              "759                                 -428.537556   \n",
              "\n",
              "     secondary_cleaner.state.floatbank5_b_air  \\\n",
              "45                                   7.984500   \n",
              "46                                   8.012074   \n",
              "50                                   7.999080   \n",
              "51                                   7.948277   \n",
              "759                                 21.011542   \n",
              "\n",
              "     secondary_cleaner.state.floatbank5_b_level  \\\n",
              "45                                  -499.581046   \n",
              "46                                  -500.133530   \n",
              "50                                  -500.112143   \n",
              "51                                  -500.060988   \n",
              "759                                 -400.287375   \n",
              "\n",
              "     secondary_cleaner.state.floatbank6_a_air  \\\n",
              "45                                  11.982025   \n",
              "46                                  11.975316   \n",
              "50                                  12.043030   \n",
              "51                                  12.005620   \n",
              "759                                 30.004867   \n",
              "\n",
              "     secondary_cleaner.state.floatbank6_a_level  \n",
              "45                                  -599.161228  \n",
              "46                                  -598.839683  \n",
              "50                                  -599.630112  \n",
              "51                                  -601.746110  \n",
              "759                                 -396.683519  \n",
              "\n",
              "[5 rows x 87 columns]"
            ]
          },
          "execution_count": 15,
          "metadata": {},
          "output_type": "execute_result"
        }
      ],
      "source": [
        "good_gold_recovery_train[good_gold_recovery_train['rougher.output.recovery'] < 1].head()"
      ]
    },
    {
      "cell_type": "code",
      "execution_count": null,
      "metadata": {
        "scrolled": true,
        "id": "B66WuZI58FFI",
        "outputId": "650ef54d-3ebd-480e-fa41-2eedb18ffdea"
      },
      "outputs": [
        {
          "data": {
            "text/html": [
              "<div>\n",
              "<style scoped>\n",
              "    .dataframe tbody tr th:only-of-type {\n",
              "        vertical-align: middle;\n",
              "    }\n",
              "\n",
              "    .dataframe tbody tr th {\n",
              "        vertical-align: top;\n",
              "    }\n",
              "\n",
              "    .dataframe thead th {\n",
              "        text-align: right;\n",
              "    }\n",
              "</style>\n",
              "<table border=\"1\" class=\"dataframe\">\n",
              "  <thead>\n",
              "    <tr style=\"text-align: right;\">\n",
              "      <th></th>\n",
              "      <th>date</th>\n",
              "      <th>final.output.concentrate_ag</th>\n",
              "      <th>final.output.concentrate_pb</th>\n",
              "      <th>final.output.concentrate_sol</th>\n",
              "      <th>final.output.concentrate_au</th>\n",
              "      <th>final.output.recovery</th>\n",
              "      <th>final.output.tail_ag</th>\n",
              "      <th>final.output.tail_pb</th>\n",
              "      <th>final.output.tail_sol</th>\n",
              "      <th>final.output.tail_au</th>\n",
              "      <th>...</th>\n",
              "      <th>secondary_cleaner.state.floatbank4_a_air</th>\n",
              "      <th>secondary_cleaner.state.floatbank4_a_level</th>\n",
              "      <th>secondary_cleaner.state.floatbank4_b_air</th>\n",
              "      <th>secondary_cleaner.state.floatbank4_b_level</th>\n",
              "      <th>secondary_cleaner.state.floatbank5_a_air</th>\n",
              "      <th>secondary_cleaner.state.floatbank5_a_level</th>\n",
              "      <th>secondary_cleaner.state.floatbank5_b_air</th>\n",
              "      <th>secondary_cleaner.state.floatbank5_b_level</th>\n",
              "      <th>secondary_cleaner.state.floatbank6_a_air</th>\n",
              "      <th>secondary_cleaner.state.floatbank6_a_level</th>\n",
              "    </tr>\n",
              "  </thead>\n",
              "  <tbody>\n",
              "    <tr>\n",
              "      <th>45</th>\n",
              "      <td>2016-01-16 21:00:00</td>\n",
              "      <td>4.566664</td>\n",
              "      <td>10.406178</td>\n",
              "      <td>4.588698</td>\n",
              "      <td>46.614456</td>\n",
              "      <td>68.403877</td>\n",
              "      <td>10.705777</td>\n",
              "      <td>1.509070</td>\n",
              "      <td>17.875134</td>\n",
              "      <td>2.509776</td>\n",
              "      <td>...</td>\n",
              "      <td>14.025588</td>\n",
              "      <td>-550.404242</td>\n",
              "      <td>12.028925</td>\n",
              "      <td>-550.570104</td>\n",
              "      <td>10.052072</td>\n",
              "      <td>-500.797905</td>\n",
              "      <td>7.984500</td>\n",
              "      <td>-499.581046</td>\n",
              "      <td>11.982025</td>\n",
              "      <td>-599.161228</td>\n",
              "    </tr>\n",
              "    <tr>\n",
              "      <th>46</th>\n",
              "      <td>2016-01-16 22:00:00</td>\n",
              "      <td>4.577832</td>\n",
              "      <td>10.691605</td>\n",
              "      <td>5.274175</td>\n",
              "      <td>46.250638</td>\n",
              "      <td>70.675633</td>\n",
              "      <td>10.728531</td>\n",
              "      <td>1.641216</td>\n",
              "      <td>18.349339</td>\n",
              "      <td>2.540843</td>\n",
              "      <td>...</td>\n",
              "      <td>14.094808</td>\n",
              "      <td>-550.676337</td>\n",
              "      <td>12.004728</td>\n",
              "      <td>-550.496522</td>\n",
              "      <td>9.953139</td>\n",
              "      <td>-500.330920</td>\n",
              "      <td>8.012074</td>\n",
              "      <td>-500.133530</td>\n",
              "      <td>11.975316</td>\n",
              "      <td>-598.839683</td>\n",
              "    </tr>\n",
              "    <tr>\n",
              "      <th>50</th>\n",
              "      <td>2016-01-17 03:00:00</td>\n",
              "      <td>5.759800</td>\n",
              "      <td>9.537415</td>\n",
              "      <td>3.997737</td>\n",
              "      <td>45.267942</td>\n",
              "      <td>68.638723</td>\n",
              "      <td>10.623064</td>\n",
              "      <td>1.217058</td>\n",
              "      <td>16.072705</td>\n",
              "      <td>2.471388</td>\n",
              "      <td>...</td>\n",
              "      <td>14.164342</td>\n",
              "      <td>-552.959690</td>\n",
              "      <td>11.917980</td>\n",
              "      <td>-549.417320</td>\n",
              "      <td>10.016315</td>\n",
              "      <td>-497.644975</td>\n",
              "      <td>7.999080</td>\n",
              "      <td>-500.112143</td>\n",
              "      <td>12.043030</td>\n",
              "      <td>-599.630112</td>\n",
              "    </tr>\n",
              "    <tr>\n",
              "      <th>51</th>\n",
              "      <td>2016-01-17 04:00:00</td>\n",
              "      <td>5.807253</td>\n",
              "      <td>10.439505</td>\n",
              "      <td>6.512951</td>\n",
              "      <td>43.237493</td>\n",
              "      <td>72.136712</td>\n",
              "      <td>10.518407</td>\n",
              "      <td>1.336890</td>\n",
              "      <td>17.750367</td>\n",
              "      <td>2.323883</td>\n",
              "      <td>...</td>\n",
              "      <td>14.097072</td>\n",
              "      <td>-549.292129</td>\n",
              "      <td>12.000525</td>\n",
              "      <td>-550.306171</td>\n",
              "      <td>9.925991</td>\n",
              "      <td>-501.985618</td>\n",
              "      <td>7.948277</td>\n",
              "      <td>-500.060988</td>\n",
              "      <td>12.005620</td>\n",
              "      <td>-601.746110</td>\n",
              "    </tr>\n",
              "    <tr>\n",
              "      <th>759</th>\n",
              "      <td>2016-02-18 20:00:00</td>\n",
              "      <td>8.478624</td>\n",
              "      <td>11.303437</td>\n",
              "      <td>10.547473</td>\n",
              "      <td>35.776254</td>\n",
              "      <td>80.041038</td>\n",
              "      <td>12.958362</td>\n",
              "      <td>2.369492</td>\n",
              "      <td>9.839622</td>\n",
              "      <td>3.066451</td>\n",
              "      <td>...</td>\n",
              "      <td>23.709602</td>\n",
              "      <td>-412.029336</td>\n",
              "      <td>22.639733</td>\n",
              "      <td>-412.896304</td>\n",
              "      <td>25.021629</td>\n",
              "      <td>-428.537556</td>\n",
              "      <td>21.011542</td>\n",
              "      <td>-400.287375</td>\n",
              "      <td>30.004867</td>\n",
              "      <td>-396.683519</td>\n",
              "    </tr>\n",
              "  </tbody>\n",
              "</table>\n",
              "<p>5 rows × 87 columns</p>\n",
              "</div>"
            ],
            "text/plain": [
              "                    date  final.output.concentrate_ag  \\\n",
              "45   2016-01-16 21:00:00                     4.566664   \n",
              "46   2016-01-16 22:00:00                     4.577832   \n",
              "50   2016-01-17 03:00:00                     5.759800   \n",
              "51   2016-01-17 04:00:00                     5.807253   \n",
              "759  2016-02-18 20:00:00                     8.478624   \n",
              "\n",
              "     final.output.concentrate_pb  final.output.concentrate_sol  \\\n",
              "45                     10.406178                      4.588698   \n",
              "46                     10.691605                      5.274175   \n",
              "50                      9.537415                      3.997737   \n",
              "51                     10.439505                      6.512951   \n",
              "759                    11.303437                     10.547473   \n",
              "\n",
              "     final.output.concentrate_au  final.output.recovery  final.output.tail_ag  \\\n",
              "45                     46.614456              68.403877             10.705777   \n",
              "46                     46.250638              70.675633             10.728531   \n",
              "50                     45.267942              68.638723             10.623064   \n",
              "51                     43.237493              72.136712             10.518407   \n",
              "759                    35.776254              80.041038             12.958362   \n",
              "\n",
              "     final.output.tail_pb  final.output.tail_sol  final.output.tail_au  ...  \\\n",
              "45               1.509070              17.875134              2.509776  ...   \n",
              "46               1.641216              18.349339              2.540843  ...   \n",
              "50               1.217058              16.072705              2.471388  ...   \n",
              "51               1.336890              17.750367              2.323883  ...   \n",
              "759              2.369492               9.839622              3.066451  ...   \n",
              "\n",
              "     secondary_cleaner.state.floatbank4_a_air  \\\n",
              "45                                  14.025588   \n",
              "46                                  14.094808   \n",
              "50                                  14.164342   \n",
              "51                                  14.097072   \n",
              "759                                 23.709602   \n",
              "\n",
              "     secondary_cleaner.state.floatbank4_a_level  \\\n",
              "45                                  -550.404242   \n",
              "46                                  -550.676337   \n",
              "50                                  -552.959690   \n",
              "51                                  -549.292129   \n",
              "759                                 -412.029336   \n",
              "\n",
              "     secondary_cleaner.state.floatbank4_b_air  \\\n",
              "45                                  12.028925   \n",
              "46                                  12.004728   \n",
              "50                                  11.917980   \n",
              "51                                  12.000525   \n",
              "759                                 22.639733   \n",
              "\n",
              "     secondary_cleaner.state.floatbank4_b_level  \\\n",
              "45                                  -550.570104   \n",
              "46                                  -550.496522   \n",
              "50                                  -549.417320   \n",
              "51                                  -550.306171   \n",
              "759                                 -412.896304   \n",
              "\n",
              "     secondary_cleaner.state.floatbank5_a_air  \\\n",
              "45                                  10.052072   \n",
              "46                                   9.953139   \n",
              "50                                  10.016315   \n",
              "51                                   9.925991   \n",
              "759                                 25.021629   \n",
              "\n",
              "     secondary_cleaner.state.floatbank5_a_level  \\\n",
              "45                                  -500.797905   \n",
              "46                                  -500.330920   \n",
              "50                                  -497.644975   \n",
              "51                                  -501.985618   \n",
              "759                                 -428.537556   \n",
              "\n",
              "     secondary_cleaner.state.floatbank5_b_air  \\\n",
              "45                                   7.984500   \n",
              "46                                   8.012074   \n",
              "50                                   7.999080   \n",
              "51                                   7.948277   \n",
              "759                                 21.011542   \n",
              "\n",
              "     secondary_cleaner.state.floatbank5_b_level  \\\n",
              "45                                  -499.581046   \n",
              "46                                  -500.133530   \n",
              "50                                  -500.112143   \n",
              "51                                  -500.060988   \n",
              "759                                 -400.287375   \n",
              "\n",
              "     secondary_cleaner.state.floatbank6_a_air  \\\n",
              "45                                  11.982025   \n",
              "46                                  11.975316   \n",
              "50                                  12.043030   \n",
              "51                                  12.005620   \n",
              "759                                 30.004867   \n",
              "\n",
              "     secondary_cleaner.state.floatbank6_a_level  \n",
              "45                                  -599.161228  \n",
              "46                                  -598.839683  \n",
              "50                                  -599.630112  \n",
              "51                                  -601.746110  \n",
              "759                                 -396.683519  \n",
              "\n",
              "[5 rows x 87 columns]"
            ]
          },
          "execution_count": 16,
          "metadata": {},
          "output_type": "execute_result"
        }
      ],
      "source": [
        "good_gold_recovery_train[good_gold_recovery_train['rougher.output.concentrate_au'] < 1].head()"
      ]
    },
    {
      "cell_type": "markdown",
      "metadata": {
        "id": "rz1hCaHZ8FFI"
      },
      "source": [
        "В данных нет информации о этапе rougher. Удалю эти значения, так как они могут исказить данные."
      ]
    },
    {
      "cell_type": "code",
      "execution_count": null,
      "metadata": {
        "scrolled": true,
        "id": "evxHrPjn8FFI",
        "outputId": "52f0eb2c-b8b9-441d-e856-99c5f9386af8"
      },
      "outputs": [
        {
          "data": {
            "text/html": [
              "<div>\n",
              "<style scoped>\n",
              "    .dataframe tbody tr th:only-of-type {\n",
              "        vertical-align: middle;\n",
              "    }\n",
              "\n",
              "    .dataframe tbody tr th {\n",
              "        vertical-align: top;\n",
              "    }\n",
              "\n",
              "    .dataframe thead th {\n",
              "        text-align: right;\n",
              "    }\n",
              "</style>\n",
              "<table border=\"1\" class=\"dataframe\">\n",
              "  <thead>\n",
              "    <tr style=\"text-align: right;\">\n",
              "      <th></th>\n",
              "      <th>date</th>\n",
              "      <th>final.output.concentrate_ag</th>\n",
              "      <th>final.output.concentrate_pb</th>\n",
              "      <th>final.output.concentrate_sol</th>\n",
              "      <th>final.output.concentrate_au</th>\n",
              "      <th>final.output.recovery</th>\n",
              "      <th>final.output.tail_ag</th>\n",
              "      <th>final.output.tail_pb</th>\n",
              "      <th>final.output.tail_sol</th>\n",
              "      <th>final.output.tail_au</th>\n",
              "      <th>...</th>\n",
              "      <th>secondary_cleaner.state.floatbank4_a_air</th>\n",
              "      <th>secondary_cleaner.state.floatbank4_a_level</th>\n",
              "      <th>secondary_cleaner.state.floatbank4_b_air</th>\n",
              "      <th>secondary_cleaner.state.floatbank4_b_level</th>\n",
              "      <th>secondary_cleaner.state.floatbank5_a_air</th>\n",
              "      <th>secondary_cleaner.state.floatbank5_a_level</th>\n",
              "      <th>secondary_cleaner.state.floatbank5_b_air</th>\n",
              "      <th>secondary_cleaner.state.floatbank5_b_level</th>\n",
              "      <th>secondary_cleaner.state.floatbank6_a_air</th>\n",
              "      <th>secondary_cleaner.state.floatbank6_a_level</th>\n",
              "    </tr>\n",
              "  </thead>\n",
              "  <tbody>\n",
              "  </tbody>\n",
              "</table>\n",
              "<p>0 rows × 87 columns</p>\n",
              "</div>"
            ],
            "text/plain": [
              "Empty DataFrame\n",
              "Columns: [date, final.output.concentrate_ag, final.output.concentrate_pb, final.output.concentrate_sol, final.output.concentrate_au, final.output.recovery, final.output.tail_ag, final.output.tail_pb, final.output.tail_sol, final.output.tail_au, primary_cleaner.input.sulfate, primary_cleaner.input.depressant, primary_cleaner.input.feed_size, primary_cleaner.input.xanthate, primary_cleaner.output.concentrate_ag, primary_cleaner.output.concentrate_pb, primary_cleaner.output.concentrate_sol, primary_cleaner.output.concentrate_au, primary_cleaner.output.tail_ag, primary_cleaner.output.tail_pb, primary_cleaner.output.tail_sol, primary_cleaner.output.tail_au, primary_cleaner.state.floatbank8_a_air, primary_cleaner.state.floatbank8_a_level, primary_cleaner.state.floatbank8_b_air, primary_cleaner.state.floatbank8_b_level, primary_cleaner.state.floatbank8_c_air, primary_cleaner.state.floatbank8_c_level, primary_cleaner.state.floatbank8_d_air, primary_cleaner.state.floatbank8_d_level, rougher.calculation.sulfate_to_au_concentrate, rougher.calculation.floatbank10_sulfate_to_au_feed, rougher.calculation.floatbank11_sulfate_to_au_feed, rougher.calculation.au_pb_ratio, rougher.input.feed_ag, rougher.input.feed_pb, rougher.input.feed_rate, rougher.input.feed_size, rougher.input.feed_sol, rougher.input.feed_au, rougher.input.floatbank10_sulfate, rougher.input.floatbank10_xanthate, rougher.input.floatbank11_sulfate, rougher.input.floatbank11_xanthate, rougher.output.concentrate_ag, rougher.output.concentrate_pb, rougher.output.concentrate_sol, rougher.output.concentrate_au, rougher.output.recovery, rougher.output.tail_ag, rougher.output.tail_pb, rougher.output.tail_sol, rougher.output.tail_au, rougher.state.floatbank10_a_air, rougher.state.floatbank10_a_level, rougher.state.floatbank10_b_air, rougher.state.floatbank10_b_level, rougher.state.floatbank10_c_air, rougher.state.floatbank10_c_level, rougher.state.floatbank10_d_air, rougher.state.floatbank10_d_level, rougher.state.floatbank10_e_air, rougher.state.floatbank10_e_level, rougher.state.floatbank10_f_air, rougher.state.floatbank10_f_level, secondary_cleaner.output.tail_ag, secondary_cleaner.output.tail_pb, secondary_cleaner.output.tail_sol, secondary_cleaner.output.tail_au, secondary_cleaner.state.floatbank2_a_air, secondary_cleaner.state.floatbank2_a_level, secondary_cleaner.state.floatbank2_b_air, secondary_cleaner.state.floatbank2_b_level, secondary_cleaner.state.floatbank3_a_air, secondary_cleaner.state.floatbank3_a_level, secondary_cleaner.state.floatbank3_b_air, secondary_cleaner.state.floatbank3_b_level, secondary_cleaner.state.floatbank4_a_air, secondary_cleaner.state.floatbank4_a_level, secondary_cleaner.state.floatbank4_b_air, secondary_cleaner.state.floatbank4_b_level, secondary_cleaner.state.floatbank5_a_air, secondary_cleaner.state.floatbank5_a_level, secondary_cleaner.state.floatbank5_b_air, secondary_cleaner.state.floatbank5_b_level, secondary_cleaner.state.floatbank6_a_air, secondary_cleaner.state.floatbank6_a_level]\n",
              "Index: []\n",
              "\n",
              "[0 rows x 87 columns]"
            ]
          },
          "execution_count": 17,
          "metadata": {},
          "output_type": "execute_result"
        }
      ],
      "source": [
        "good_gold_recovery_train = good_gold_recovery_train.drop(good_gold_recovery_train[good_gold_recovery_train['rougher.output.recovery'] == 0].index)\n",
        "good_gold_recovery_train[good_gold_recovery_train['rougher.output.recovery'] < 1].head()"
      ]
    },
    {
      "cell_type": "code",
      "execution_count": null,
      "metadata": {
        "scrolled": true,
        "id": "SIG7ECdO8FFJ",
        "outputId": "09f5594b-9b05-4216-9cb4-e024a7b122da"
      },
      "outputs": [
        {
          "data": {
            "image/png": "[encoded data removed]",
            "text/plain": [
              "<Figure size 1080x720 with 1 Axes>"
            ]
          },
          "metadata": {
            "needs_background": "light"
          },
          "output_type": "display_data"
        }
      ],
      "source": [
        "plt.figure(figsize=[15,10])\n",
        "\n",
        "plt.hist(good_gold_recovery_train['final.output.recovery'], bins=100)\n",
        "\n",
        "plt.xlim([0, 100])\n",
        "plt.ylim([0, 1000])\n",
        "\n",
        "plt.xlabel(\"Эффективность обогащения финального концентрата \")\n",
        "plt.ylabel(\"Количество результатов\")\n",
        "\n",
        "plt.title(\"Гистограмма распределения по эффективности обогащения\")\n",
        "plt.show()"
      ]
    },
    {
      "cell_type": "code",
      "execution_count": null,
      "metadata": {
        "scrolled": false,
        "id": "vSqhZ7bu8FFJ",
        "outputId": "82b62c02-9e8c-40c3-a654-bd04f35b3861"
      },
      "outputs": [
        {
          "data": {
            "text/html": [
              "<div>\n",
              "<style scoped>\n",
              "    .dataframe tbody tr th:only-of-type {\n",
              "        vertical-align: middle;\n",
              "    }\n",
              "\n",
              "    .dataframe tbody tr th {\n",
              "        vertical-align: top;\n",
              "    }\n",
              "\n",
              "    .dataframe thead th {\n",
              "        text-align: right;\n",
              "    }\n",
              "</style>\n",
              "<table border=\"1\" class=\"dataframe\">\n",
              "  <thead>\n",
              "    <tr style=\"text-align: right;\">\n",
              "      <th></th>\n",
              "      <th>date</th>\n",
              "      <th>final.output.concentrate_ag</th>\n",
              "      <th>final.output.concentrate_pb</th>\n",
              "      <th>final.output.concentrate_sol</th>\n",
              "      <th>final.output.concentrate_au</th>\n",
              "      <th>final.output.recovery</th>\n",
              "      <th>final.output.tail_ag</th>\n",
              "      <th>final.output.tail_pb</th>\n",
              "      <th>final.output.tail_sol</th>\n",
              "      <th>final.output.tail_au</th>\n",
              "      <th>...</th>\n",
              "      <th>secondary_cleaner.state.floatbank4_a_air</th>\n",
              "      <th>secondary_cleaner.state.floatbank4_a_level</th>\n",
              "      <th>secondary_cleaner.state.floatbank4_b_air</th>\n",
              "      <th>secondary_cleaner.state.floatbank4_b_level</th>\n",
              "      <th>secondary_cleaner.state.floatbank5_a_air</th>\n",
              "      <th>secondary_cleaner.state.floatbank5_a_level</th>\n",
              "      <th>secondary_cleaner.state.floatbank5_b_air</th>\n",
              "      <th>secondary_cleaner.state.floatbank5_b_level</th>\n",
              "      <th>secondary_cleaner.state.floatbank6_a_air</th>\n",
              "      <th>secondary_cleaner.state.floatbank6_a_level</th>\n",
              "    </tr>\n",
              "  </thead>\n",
              "  <tbody>\n",
              "    <tr>\n",
              "      <th>644</th>\n",
              "      <td>2016-02-13 11:00:00</td>\n",
              "      <td>0.0</td>\n",
              "      <td>0.0</td>\n",
              "      <td>0.0</td>\n",
              "      <td>0.0</td>\n",
              "      <td>0.0</td>\n",
              "      <td>8.894029</td>\n",
              "      <td>0.843584</td>\n",
              "      <td>15.417342</td>\n",
              "      <td>1.779052</td>\n",
              "      <td>...</td>\n",
              "      <td>21.991762</td>\n",
              "      <td>-399.587122</td>\n",
              "      <td>21.988937</td>\n",
              "      <td>-401.366408</td>\n",
              "      <td>22.995012</td>\n",
              "      <td>-399.370680</td>\n",
              "      <td>20.966863</td>\n",
              "      <td>-399.308354</td>\n",
              "      <td>24.987274</td>\n",
              "      <td>-399.619808</td>\n",
              "    </tr>\n",
              "    <tr>\n",
              "      <th>1193</th>\n",
              "      <td>2016-03-11 10:00:00</td>\n",
              "      <td>0.0</td>\n",
              "      <td>0.0</td>\n",
              "      <td>0.0</td>\n",
              "      <td>0.0</td>\n",
              "      <td>0.0</td>\n",
              "      <td>10.817313</td>\n",
              "      <td>1.462800</td>\n",
              "      <td>16.407607</td>\n",
              "      <td>2.984504</td>\n",
              "      <td>...</td>\n",
              "      <td>11.979352</td>\n",
              "      <td>-453.431061</td>\n",
              "      <td>12.003445</td>\n",
              "      <td>-450.179844</td>\n",
              "      <td>11.982937</td>\n",
              "      <td>-449.856468</td>\n",
              "      <td>9.927727</td>\n",
              "      <td>-450.521700</td>\n",
              "      <td>19.971682</td>\n",
              "      <td>-500.685521</td>\n",
              "    </tr>\n",
              "    <tr>\n",
              "      <th>1194</th>\n",
              "      <td>2016-03-11 11:00:00</td>\n",
              "      <td>0.0</td>\n",
              "      <td>0.0</td>\n",
              "      <td>0.0</td>\n",
              "      <td>0.0</td>\n",
              "      <td>0.0</td>\n",
              "      <td>10.436792</td>\n",
              "      <td>1.207636</td>\n",
              "      <td>17.800392</td>\n",
              "      <td>2.747294</td>\n",
              "      <td>...</td>\n",
              "      <td>12.034636</td>\n",
              "      <td>-446.590944</td>\n",
              "      <td>12.130405</td>\n",
              "      <td>-449.684812</td>\n",
              "      <td>11.844983</td>\n",
              "      <td>-450.881424</td>\n",
              "      <td>9.916784</td>\n",
              "      <td>-449.542871</td>\n",
              "      <td>20.004767</td>\n",
              "      <td>-500.137068</td>\n",
              "    </tr>\n",
              "    <tr>\n",
              "      <th>1195</th>\n",
              "      <td>2016-03-11 12:00:00</td>\n",
              "      <td>0.0</td>\n",
              "      <td>0.0</td>\n",
              "      <td>0.0</td>\n",
              "      <td>0.0</td>\n",
              "      <td>0.0</td>\n",
              "      <td>10.637073</td>\n",
              "      <td>1.405778</td>\n",
              "      <td>17.195897</td>\n",
              "      <td>2.791440</td>\n",
              "      <td>...</td>\n",
              "      <td>12.016716</td>\n",
              "      <td>-496.613149</td>\n",
              "      <td>12.055535</td>\n",
              "      <td>-496.908551</td>\n",
              "      <td>12.091144</td>\n",
              "      <td>-496.404140</td>\n",
              "      <td>9.976074</td>\n",
              "      <td>-496.783155</td>\n",
              "      <td>19.921634</td>\n",
              "      <td>-500.769011</td>\n",
              "    </tr>\n",
              "    <tr>\n",
              "      <th>1196</th>\n",
              "      <td>2016-03-11 13:00:00</td>\n",
              "      <td>0.0</td>\n",
              "      <td>0.0</td>\n",
              "      <td>0.0</td>\n",
              "      <td>0.0</td>\n",
              "      <td>0.0</td>\n",
              "      <td>10.530320</td>\n",
              "      <td>1.461550</td>\n",
              "      <td>17.556860</td>\n",
              "      <td>2.682127</td>\n",
              "      <td>...</td>\n",
              "      <td>11.993898</td>\n",
              "      <td>-500.427824</td>\n",
              "      <td>12.083824</td>\n",
              "      <td>-500.162537</td>\n",
              "      <td>12.078809</td>\n",
              "      <td>-499.903743</td>\n",
              "      <td>10.075259</td>\n",
              "      <td>-499.540325</td>\n",
              "      <td>20.039788</td>\n",
              "      <td>-499.932405</td>\n",
              "    </tr>\n",
              "  </tbody>\n",
              "</table>\n",
              "<p>5 rows × 87 columns</p>\n",
              "</div>"
            ],
            "text/plain": [
              "                     date  final.output.concentrate_ag  \\\n",
              "644   2016-02-13 11:00:00                          0.0   \n",
              "1193  2016-03-11 10:00:00                          0.0   \n",
              "1194  2016-03-11 11:00:00                          0.0   \n",
              "1195  2016-03-11 12:00:00                          0.0   \n",
              "1196  2016-03-11 13:00:00                          0.0   \n",
              "\n",
              "      final.output.concentrate_pb  final.output.concentrate_sol  \\\n",
              "644                           0.0                           0.0   \n",
              "1193                          0.0                           0.0   \n",
              "1194                          0.0                           0.0   \n",
              "1195                          0.0                           0.0   \n",
              "1196                          0.0                           0.0   \n",
              "\n",
              "      final.output.concentrate_au  final.output.recovery  \\\n",
              "644                           0.0                    0.0   \n",
              "1193                          0.0                    0.0   \n",
              "1194                          0.0                    0.0   \n",
              "1195                          0.0                    0.0   \n",
              "1196                          0.0                    0.0   \n",
              "\n",
              "      final.output.tail_ag  final.output.tail_pb  final.output.tail_sol  \\\n",
              "644               8.894029              0.843584              15.417342   \n",
              "1193             10.817313              1.462800              16.407607   \n",
              "1194             10.436792              1.207636              17.800392   \n",
              "1195             10.637073              1.405778              17.195897   \n",
              "1196             10.530320              1.461550              17.556860   \n",
              "\n",
              "      final.output.tail_au  ...  secondary_cleaner.state.floatbank4_a_air  \\\n",
              "644               1.779052  ...                                 21.991762   \n",
              "1193              2.984504  ...                                 11.979352   \n",
              "1194              2.747294  ...                                 12.034636   \n",
              "1195              2.791440  ...                                 12.016716   \n",
              "1196              2.682127  ...                                 11.993898   \n",
              "\n",
              "      secondary_cleaner.state.floatbank4_a_level  \\\n",
              "644                                  -399.587122   \n",
              "1193                                 -453.431061   \n",
              "1194                                 -446.590944   \n",
              "1195                                 -496.613149   \n",
              "1196                                 -500.427824   \n",
              "\n",
              "      secondary_cleaner.state.floatbank4_b_air  \\\n",
              "644                                  21.988937   \n",
              "1193                                 12.003445   \n",
              "1194                                 12.130405   \n",
              "1195                                 12.055535   \n",
              "1196                                 12.083824   \n",
              "\n",
              "      secondary_cleaner.state.floatbank4_b_level  \\\n",
              "644                                  -401.366408   \n",
              "1193                                 -450.179844   \n",
              "1194                                 -449.684812   \n",
              "1195                                 -496.908551   \n",
              "1196                                 -500.162537   \n",
              "\n",
              "      secondary_cleaner.state.floatbank5_a_air  \\\n",
              "644                                  22.995012   \n",
              "1193                                 11.982937   \n",
              "1194                                 11.844983   \n",
              "1195                                 12.091144   \n",
              "1196                                 12.078809   \n",
              "\n",
              "      secondary_cleaner.state.floatbank5_a_level  \\\n",
              "644                                  -399.370680   \n",
              "1193                                 -449.856468   \n",
              "1194                                 -450.881424   \n",
              "1195                                 -496.404140   \n",
              "1196                                 -499.903743   \n",
              "\n",
              "      secondary_cleaner.state.floatbank5_b_air  \\\n",
              "644                                  20.966863   \n",
              "1193                                  9.927727   \n",
              "1194                                  9.916784   \n",
              "1195                                  9.976074   \n",
              "1196                                 10.075259   \n",
              "\n",
              "      secondary_cleaner.state.floatbank5_b_level  \\\n",
              "644                                  -399.308354   \n",
              "1193                                 -450.521700   \n",
              "1194                                 -449.542871   \n",
              "1195                                 -496.783155   \n",
              "1196                                 -499.540325   \n",
              "\n",
              "      secondary_cleaner.state.floatbank6_a_air  \\\n",
              "644                                  24.987274   \n",
              "1193                                 19.971682   \n",
              "1194                                 20.004767   \n",
              "1195                                 19.921634   \n",
              "1196                                 20.039788   \n",
              "\n",
              "      secondary_cleaner.state.floatbank6_a_level  \n",
              "644                                  -399.619808  \n",
              "1193                                 -500.685521  \n",
              "1194                                 -500.137068  \n",
              "1195                                 -500.769011  \n",
              "1196                                 -499.932405  \n",
              "\n",
              "[5 rows x 87 columns]"
            ]
          },
          "execution_count": 19,
          "metadata": {},
          "output_type": "execute_result"
        }
      ],
      "source": [
        "good_gold_recovery_train[good_gold_recovery_train['final.output.recovery'] < 1].head()"
      ]
    },
    {
      "cell_type": "code",
      "execution_count": null,
      "metadata": {
        "scrolled": false,
        "id": "WndI9o2L8FFJ",
        "outputId": "00ee758f-c447-4a94-c406-f672d587b686"
      },
      "outputs": [
        {
          "data": {
            "text/html": [
              "<div>\n",
              "<style scoped>\n",
              "    .dataframe tbody tr th:only-of-type {\n",
              "        vertical-align: middle;\n",
              "    }\n",
              "\n",
              "    .dataframe tbody tr th {\n",
              "        vertical-align: top;\n",
              "    }\n",
              "\n",
              "    .dataframe thead th {\n",
              "        text-align: right;\n",
              "    }\n",
              "</style>\n",
              "<table border=\"1\" class=\"dataframe\">\n",
              "  <thead>\n",
              "    <tr style=\"text-align: right;\">\n",
              "      <th></th>\n",
              "      <th>date</th>\n",
              "      <th>final.output.concentrate_ag</th>\n",
              "      <th>final.output.concentrate_pb</th>\n",
              "      <th>final.output.concentrate_sol</th>\n",
              "      <th>final.output.concentrate_au</th>\n",
              "      <th>final.output.recovery</th>\n",
              "      <th>final.output.tail_ag</th>\n",
              "      <th>final.output.tail_pb</th>\n",
              "      <th>final.output.tail_sol</th>\n",
              "      <th>final.output.tail_au</th>\n",
              "      <th>...</th>\n",
              "      <th>secondary_cleaner.state.floatbank4_a_air</th>\n",
              "      <th>secondary_cleaner.state.floatbank4_a_level</th>\n",
              "      <th>secondary_cleaner.state.floatbank4_b_air</th>\n",
              "      <th>secondary_cleaner.state.floatbank4_b_level</th>\n",
              "      <th>secondary_cleaner.state.floatbank5_a_air</th>\n",
              "      <th>secondary_cleaner.state.floatbank5_a_level</th>\n",
              "      <th>secondary_cleaner.state.floatbank5_b_air</th>\n",
              "      <th>secondary_cleaner.state.floatbank5_b_level</th>\n",
              "      <th>secondary_cleaner.state.floatbank6_a_air</th>\n",
              "      <th>secondary_cleaner.state.floatbank6_a_level</th>\n",
              "    </tr>\n",
              "  </thead>\n",
              "  <tbody>\n",
              "  </tbody>\n",
              "</table>\n",
              "<p>0 rows × 87 columns</p>\n",
              "</div>"
            ],
            "text/plain": [
              "Empty DataFrame\n",
              "Columns: [date, final.output.concentrate_ag, final.output.concentrate_pb, final.output.concentrate_sol, final.output.concentrate_au, final.output.recovery, final.output.tail_ag, final.output.tail_pb, final.output.tail_sol, final.output.tail_au, primary_cleaner.input.sulfate, primary_cleaner.input.depressant, primary_cleaner.input.feed_size, primary_cleaner.input.xanthate, primary_cleaner.output.concentrate_ag, primary_cleaner.output.concentrate_pb, primary_cleaner.output.concentrate_sol, primary_cleaner.output.concentrate_au, primary_cleaner.output.tail_ag, primary_cleaner.output.tail_pb, primary_cleaner.output.tail_sol, primary_cleaner.output.tail_au, primary_cleaner.state.floatbank8_a_air, primary_cleaner.state.floatbank8_a_level, primary_cleaner.state.floatbank8_b_air, primary_cleaner.state.floatbank8_b_level, primary_cleaner.state.floatbank8_c_air, primary_cleaner.state.floatbank8_c_level, primary_cleaner.state.floatbank8_d_air, primary_cleaner.state.floatbank8_d_level, rougher.calculation.sulfate_to_au_concentrate, rougher.calculation.floatbank10_sulfate_to_au_feed, rougher.calculation.floatbank11_sulfate_to_au_feed, rougher.calculation.au_pb_ratio, rougher.input.feed_ag, rougher.input.feed_pb, rougher.input.feed_rate, rougher.input.feed_size, rougher.input.feed_sol, rougher.input.feed_au, rougher.input.floatbank10_sulfate, rougher.input.floatbank10_xanthate, rougher.input.floatbank11_sulfate, rougher.input.floatbank11_xanthate, rougher.output.concentrate_ag, rougher.output.concentrate_pb, rougher.output.concentrate_sol, rougher.output.concentrate_au, rougher.output.recovery, rougher.output.tail_ag, rougher.output.tail_pb, rougher.output.tail_sol, rougher.output.tail_au, rougher.state.floatbank10_a_air, rougher.state.floatbank10_a_level, rougher.state.floatbank10_b_air, rougher.state.floatbank10_b_level, rougher.state.floatbank10_c_air, rougher.state.floatbank10_c_level, rougher.state.floatbank10_d_air, rougher.state.floatbank10_d_level, rougher.state.floatbank10_e_air, rougher.state.floatbank10_e_level, rougher.state.floatbank10_f_air, rougher.state.floatbank10_f_level, secondary_cleaner.output.tail_ag, secondary_cleaner.output.tail_pb, secondary_cleaner.output.tail_sol, secondary_cleaner.output.tail_au, secondary_cleaner.state.floatbank2_a_air, secondary_cleaner.state.floatbank2_a_level, secondary_cleaner.state.floatbank2_b_air, secondary_cleaner.state.floatbank2_b_level, secondary_cleaner.state.floatbank3_a_air, secondary_cleaner.state.floatbank3_a_level, secondary_cleaner.state.floatbank3_b_air, secondary_cleaner.state.floatbank3_b_level, secondary_cleaner.state.floatbank4_a_air, secondary_cleaner.state.floatbank4_a_level, secondary_cleaner.state.floatbank4_b_air, secondary_cleaner.state.floatbank4_b_level, secondary_cleaner.state.floatbank5_a_air, secondary_cleaner.state.floatbank5_a_level, secondary_cleaner.state.floatbank5_b_air, secondary_cleaner.state.floatbank5_b_level, secondary_cleaner.state.floatbank6_a_air, secondary_cleaner.state.floatbank6_a_level]\n",
              "Index: []\n",
              "\n",
              "[0 rows x 87 columns]"
            ]
          },
          "execution_count": 20,
          "metadata": {},
          "output_type": "execute_result"
        }
      ],
      "source": [
        "good_gold_recovery_train = good_gold_recovery_train.drop(good_gold_recovery_train[good_gold_recovery_train['final.output.recovery'] == 0].index)\n",
        "good_gold_recovery_train[good_gold_recovery_train['final.output.recovery'] < 1].head()"
      ]
    },
    {
      "cell_type": "code",
      "execution_count": null,
      "metadata": {
        "scrolled": true,
        "id": "Rnh1wKzF8FFJ",
        "outputId": "0e145a49-f30f-4a40-d4f5-fe0d51320dbf"
      },
      "outputs": [
        {
          "name": "stdout",
          "output_type": "stream",
          "text": [
            "<class 'pandas.core.frame.DataFrame'>\n",
            "Int64Index: 10784 entries, 0 to 14148\n",
            "Data columns (total 87 columns):\n",
            " #   Column                                              Non-Null Count  Dtype  \n",
            "---  ------                                              --------------  -----  \n",
            " 0   date                                                10784 non-null  object \n",
            " 1   final.output.concentrate_ag                         10784 non-null  float64\n",
            " 2   final.output.concentrate_pb                         10784 non-null  float64\n",
            " 3   final.output.concentrate_sol                        10784 non-null  float64\n",
            " 4   final.output.concentrate_au                         10784 non-null  float64\n",
            " 5   final.output.recovery                               10784 non-null  float64\n",
            " 6   final.output.tail_ag                                10784 non-null  float64\n",
            " 7   final.output.tail_pb                                10784 non-null  float64\n",
            " 8   final.output.tail_sol                               10784 non-null  float64\n",
            " 9   final.output.tail_au                                10784 non-null  float64\n",
            " 10  primary_cleaner.input.sulfate                       10784 non-null  float64\n",
            " 11  primary_cleaner.input.depressant                    10784 non-null  float64\n",
            " 12  primary_cleaner.input.feed_size                     10784 non-null  float64\n",
            " 13  primary_cleaner.input.xanthate                      10784 non-null  float64\n",
            " 14  primary_cleaner.output.concentrate_ag               10784 non-null  float64\n",
            " 15  primary_cleaner.output.concentrate_pb               10784 non-null  float64\n",
            " 16  primary_cleaner.output.concentrate_sol              10784 non-null  float64\n",
            " 17  primary_cleaner.output.concentrate_au               10784 non-null  float64\n",
            " 18  primary_cleaner.output.tail_ag                      10784 non-null  float64\n",
            " 19  primary_cleaner.output.tail_pb                      10784 non-null  float64\n",
            " 20  primary_cleaner.output.tail_sol                     10784 non-null  float64\n",
            " 21  primary_cleaner.output.tail_au                      10784 non-null  float64\n",
            " 22  primary_cleaner.state.floatbank8_a_air              10784 non-null  float64\n",
            " 23  primary_cleaner.state.floatbank8_a_level            10784 non-null  float64\n",
            " 24  primary_cleaner.state.floatbank8_b_air              10784 non-null  float64\n",
            " 25  primary_cleaner.state.floatbank8_b_level            10784 non-null  float64\n",
            " 26  primary_cleaner.state.floatbank8_c_air              10784 non-null  float64\n",
            " 27  primary_cleaner.state.floatbank8_c_level            10784 non-null  float64\n",
            " 28  primary_cleaner.state.floatbank8_d_air              10784 non-null  float64\n",
            " 29  primary_cleaner.state.floatbank8_d_level            10784 non-null  float64\n",
            " 30  rougher.calculation.sulfate_to_au_concentrate       10784 non-null  float64\n",
            " 31  rougher.calculation.floatbank10_sulfate_to_au_feed  10784 non-null  float64\n",
            " 32  rougher.calculation.floatbank11_sulfate_to_au_feed  10784 non-null  float64\n",
            " 33  rougher.calculation.au_pb_ratio                     10784 non-null  float64\n",
            " 34  rougher.input.feed_ag                               10784 non-null  float64\n",
            " 35  rougher.input.feed_pb                               10784 non-null  float64\n",
            " 36  rougher.input.feed_rate                             10784 non-null  float64\n",
            " 37  rougher.input.feed_size                             10784 non-null  float64\n",
            " 38  rougher.input.feed_sol                              10784 non-null  float64\n",
            " 39  rougher.input.feed_au                               10784 non-null  float64\n",
            " 40  rougher.input.floatbank10_sulfate                   10784 non-null  float64\n",
            " 41  rougher.input.floatbank10_xanthate                  10784 non-null  float64\n",
            " 42  rougher.input.floatbank11_sulfate                   10784 non-null  float64\n",
            " 43  rougher.input.floatbank11_xanthate                  10784 non-null  float64\n",
            " 44  rougher.output.concentrate_ag                       10784 non-null  float64\n",
            " 45  rougher.output.concentrate_pb                       10784 non-null  float64\n",
            " 46  rougher.output.concentrate_sol                      10784 non-null  float64\n",
            " 47  rougher.output.concentrate_au                       10784 non-null  float64\n",
            " 48  rougher.output.recovery                             10784 non-null  float64\n",
            " 49  rougher.output.tail_ag                              10784 non-null  float64\n",
            " 50  rougher.output.tail_pb                              10784 non-null  float64\n",
            " 51  rougher.output.tail_sol                             10784 non-null  float64\n",
            " 52  rougher.output.tail_au                              10784 non-null  float64\n",
            " 53  rougher.state.floatbank10_a_air                     10784 non-null  float64\n",
            " 54  rougher.state.floatbank10_a_level                   10784 non-null  float64\n",
            " 55  rougher.state.floatbank10_b_air                     10784 non-null  float64\n",
            " 56  rougher.state.floatbank10_b_level                   10784 non-null  float64\n",
            " 57  rougher.state.floatbank10_c_air                     10784 non-null  float64\n",
            " 58  rougher.state.floatbank10_c_level                   10784 non-null  float64\n",
            " 59  rougher.state.floatbank10_d_air                     10784 non-null  float64\n",
            " 60  rougher.state.floatbank10_d_level                   10784 non-null  float64\n",
            " 61  rougher.state.floatbank10_e_air                     10784 non-null  float64\n",
            " 62  rougher.state.floatbank10_e_level                   10784 non-null  float64\n",
            " 63  rougher.state.floatbank10_f_air                     10784 non-null  float64\n",
            " 64  rougher.state.floatbank10_f_level                   10784 non-null  float64\n",
            " 65  secondary_cleaner.output.tail_ag                    10784 non-null  float64\n",
            " 66  secondary_cleaner.output.tail_pb                    10784 non-null  float64\n",
            " 67  secondary_cleaner.output.tail_sol                   10784 non-null  float64\n",
            " 68  secondary_cleaner.output.tail_au                    10784 non-null  float64\n",
            " 69  secondary_cleaner.state.floatbank2_a_air            10784 non-null  float64\n",
            " 70  secondary_cleaner.state.floatbank2_a_level          10784 non-null  float64\n",
            " 71  secondary_cleaner.state.floatbank2_b_air            10784 non-null  float64\n",
            " 72  secondary_cleaner.state.floatbank2_b_level          10784 non-null  float64\n",
            " 73  secondary_cleaner.state.floatbank3_a_air            10784 non-null  float64\n",
            " 74  secondary_cleaner.state.floatbank3_a_level          10784 non-null  float64\n",
            " 75  secondary_cleaner.state.floatbank3_b_air            10784 non-null  float64\n",
            " 76  secondary_cleaner.state.floatbank3_b_level          10784 non-null  float64\n",
            " 77  secondary_cleaner.state.floatbank4_a_air            10784 non-null  float64\n",
            " 78  secondary_cleaner.state.floatbank4_a_level          10784 non-null  float64\n",
            " 79  secondary_cleaner.state.floatbank4_b_air            10784 non-null  float64\n",
            " 80  secondary_cleaner.state.floatbank4_b_level          10784 non-null  float64\n",
            " 81  secondary_cleaner.state.floatbank5_a_air            10784 non-null  float64\n",
            " 82  secondary_cleaner.state.floatbank5_a_level          10784 non-null  float64\n",
            " 83  secondary_cleaner.state.floatbank5_b_air            10784 non-null  float64\n",
            " 84  secondary_cleaner.state.floatbank5_b_level          10784 non-null  float64\n",
            " 85  secondary_cleaner.state.floatbank6_a_air            10784 non-null  float64\n",
            " 86  secondary_cleaner.state.floatbank6_a_level          10784 non-null  float64\n",
            "dtypes: float64(86), object(1)\n",
            "memory usage: 7.2+ MB\n"
          ]
        }
      ],
      "source": [
        "good_gold_recovery_train.info()"
      ]
    },
    {
      "cell_type": "markdown",
      "metadata": {
        "id": "EzO_xue58FFJ"
      },
      "source": [
        "Проверю есть ли нулевые значения в primary_cleaner.output и secondary_cleaner.output."
      ]
    },
    {
      "cell_type": "code",
      "execution_count": null,
      "metadata": {
        "scrolled": true,
        "id": "ErABFVN48FFK",
        "outputId": "9a35ba20-4ba4-43b6-bfd1-f6420b17c469"
      },
      "outputs": [
        {
          "data": {
            "text/plain": [
              "109"
            ]
          },
          "execution_count": 22,
          "metadata": {},
          "output_type": "execute_result"
        }
      ],
      "source": [
        "good_gold_recovery_train[good_gold_recovery_train['primary_cleaner.output.concentrate_au'] < 1]['primary_cleaner.output.concentrate_au'].count()"
      ]
    },
    {
      "cell_type": "code",
      "execution_count": null,
      "metadata": {
        "scrolled": false,
        "id": "Yeo0Upup8FFK",
        "outputId": "3b126243-86f5-4dbf-cf60-fea086a57e1e"
      },
      "outputs": [
        {
          "data": {
            "text/plain": [
              "426"
            ]
          },
          "execution_count": 23,
          "metadata": {},
          "output_type": "execute_result"
        }
      ],
      "source": [
        "good_gold_recovery_train[good_gold_recovery_train['secondary_cleaner.output.tail_au'] < 1]['secondary_cleaner.output.tail_au'].count()"
      ]
    },
    {
      "cell_type": "markdown",
      "metadata": {
        "id": "f8h9DDef8FFK"
      },
      "source": [
        "По данным этапам тоже присутвуют нулевые значения. \n",
        "\n",
        "Но так как они не являются целью модели и не входят в список столбцов обучающей модели, оставим их без изменения."
      ]
    },
    {
      "cell_type": "markdown",
      "metadata": {
        "id": "PuuKUras8FFK"
      },
      "source": [
        "### Вывод\n",
        "\n",
        "В данных присутвовали аномалии:\n",
        "\n",
        "* Пропущенные значение\n",
        "* Нулевые значения на ключевых этапах\n",
        "\n",
        "Неподходящие данные были удалены. Возможно не были сняты данные по выбранным этапам или они еще не были получены в результате работы системы.\n",
        "\n",
        "Данные готовы к дальнейшему анализу."
      ]
    },
    {
      "cell_type": "markdown",
      "metadata": {
        "id": "kM0cI23u8FFK"
      },
      "source": [
        "## Анализ данных"
      ]
    },
    {
      "cell_type": "markdown",
      "metadata": {
        "id": "_TlenxSX8FFL"
      },
      "source": [
        "Рассмотрю концентрацию веществ на каждом этапе."
      ]
    },
    {
      "cell_type": "code",
      "execution_count": null,
      "metadata": {
        "scrolled": false,
        "id": "tonQVm6U8FFL",
        "outputId": "f0f981fa-07b3-43a4-a3d7-bcb1c958c364"
      },
      "outputs": [
        {
          "data": {
            "image/png": "[encoded data removed]",
            "text/plain": [
              "<Figure size 1080x720 with 1 Axes>"
            ]
          },
          "metadata": {
            "needs_background": "light"
          },
          "output_type": "display_data"
        }
      ],
      "source": [
        "plt.figure(figsize=[15,10])\n",
        "\n",
        "plt.hist(good_gold_recovery_train['final.output.concentrate_au'], bins=100, label = 'final.output', alpha=.5)\n",
        "plt.hist(good_gold_recovery_train['primary_cleaner.output.concentrate_au'], bins=100, label = 'primary_cleaner.output', alpha=.5)\n",
        "plt.hist(good_gold_recovery_train['rougher.output.concentrate_au'], bins=100, label = 'rougher.output', alpha=.5)\n",
        "\n",
        "plt.xlim([0, 55])\n",
        "plt.ylim([0, 1000])\n",
        "\n",
        "plt.xlabel(\"Концентрация золота на выходе этапов\")\n",
        "plt.ylabel(\"Количество результатов\")\n",
        "\n",
        "plt.legend(loc='upper left', fontsize='x-large')\n",
        "\n",
        "plt.title(\"Гистограмма распределения концентрации золота\")\n",
        "plt.show()"
      ]
    },
    {
      "cell_type": "markdown",
      "metadata": {
        "id": "J0B5qchl8FFL"
      },
      "source": [
        "Концентрация золота повышается с каждым этапом. \n",
        "\n",
        "Цель флотации и очисток увеличить концентрацию золота."
      ]
    },
    {
      "cell_type": "code",
      "execution_count": null,
      "metadata": {
        "scrolled": false,
        "id": "DtOpe8YS8FFL",
        "outputId": "2f9bde71-306d-4de4-8fe8-f7656d262874"
      },
      "outputs": [
        {
          "data": {
            "image/png": "[encoded data removed]",
            "text/plain": [
              "<Figure size 1080x720 with 1 Axes>"
            ]
          },
          "metadata": {
            "needs_background": "light"
          },
          "output_type": "display_data"
        }
      ],
      "source": [
        "plt.figure(figsize=[15,10])\n",
        "\n",
        "plt.hist(good_gold_recovery_train['final.output.concentrate_ag'], bins=100, label = 'final.output', alpha=.5)\n",
        "plt.hist(good_gold_recovery_train['primary_cleaner.output.concentrate_ag'], bins=100, label = 'primary_cleaner.output', alpha=.5)\n",
        "plt.hist(good_gold_recovery_train['rougher.output.concentrate_ag'], bins=100, label = 'rougher.output', alpha=.5)\n",
        "\n",
        "plt.xlim([0, 25])\n",
        "plt.ylim([0, 600])\n",
        "\n",
        "plt.xlabel(\"Концентрация серебра на выходе этапов\")\n",
        "plt.ylabel(\"Количество результатов\")\n",
        "\n",
        "plt.legend(loc='upper left', fontsize='x-large')\n",
        "\n",
        "plt.title(\"Гистограмма распределения концентрации серебра\")\n",
        "plt.show()"
      ]
    },
    {
      "cell_type": "markdown",
      "metadata": {
        "id": "q5-jeLtb8FFM"
      },
      "source": [
        "Конецентрация серебра понижается с каждым шагом очистки. \n",
        "\n",
        "Так как основным благородным металом является золото, то остальные металлы и соединения должны быть отфильтрованы."
      ]
    },
    {
      "cell_type": "code",
      "execution_count": null,
      "metadata": {
        "scrolled": false,
        "id": "OIttctQF8FFM",
        "outputId": "e0788696-1a43-4881-9b5a-38dd7b78a26f"
      },
      "outputs": [
        {
          "data": {
            "image/png": "[encoded data removed]",
            "text/plain": [
              "<Figure size 1080x720 with 1 Axes>"
            ]
          },
          "metadata": {
            "needs_background": "light"
          },
          "output_type": "display_data"
        }
      ],
      "source": [
        "plt.figure(figsize=[15,10])\n",
        "\n",
        "plt.hist(good_gold_recovery_train['final.output.concentrate_pb'], bins=100, label = 'final.output', alpha=.5)\n",
        "plt.hist(good_gold_recovery_train['primary_cleaner.output.concentrate_pb'], bins=100, label = 'primary_cleaner.output', alpha=.5)\n",
        "plt.hist(good_gold_recovery_train['rougher.output.concentrate_pb'], bins=100, label = 'rougher.output', alpha=.5)\n",
        "\n",
        "plt.xlim([0, 20])\n",
        "plt.ylim([0, 600])\n",
        "\n",
        "plt.xlabel(\"Концентрация свинца на выходе этапов\")\n",
        "plt.ylabel(\"Количество результатов\")\n",
        "\n",
        "plt.legend(loc='upper left', fontsize='x-large')\n",
        "\n",
        "plt.title(\"Гистограмма распределения концентрации свинца\")\n",
        "plt.show()"
      ]
    },
    {
      "cell_type": "code",
      "execution_count": null,
      "metadata": {
        "id": "roSXLzTm8FFM"
      },
      "outputs": [],
      "source": [
        ""
      ]
    },
    {
      "cell_type": "code",
      "execution_count": null,
      "metadata": {
        "id": "RU2e-97d8FFM"
      },
      "outputs": [],
      "source": [
        ""
      ]
    },
    {
      "cell_type": "markdown",
      "metadata": {
        "id": "1BQklePp8FFN"
      },
      "source": [
        "Концентрация свинца повышается с этапа rougher до primary_cleaner. И потом усредняется. Это связано с химическим процесами очищения золота. При использование азотнокислого выщелачивания в концентрате образуется много сульфата свинца. Повышение концентрации свинца в целом происходит не только из-за этого процесса, но из-за очищения других составляющих из золотоносной руды.\n",
        "\n",
        "Изучим размеры сырья на этапах обработки."
      ]
    },
    {
      "cell_type": "code",
      "execution_count": null,
      "metadata": {
        "scrolled": false,
        "id": "bWjCP0sU8FFN",
        "outputId": "c3e6fea2-91d9-4eda-ad83-d2fc23b783f4"
      },
      "outputs": [
        {
          "data": {
            "image/png": "[encoded data removed]",
            "text/plain": [
              "<Figure size 1080x720 with 1 Axes>"
            ]
          },
          "metadata": {
            "needs_background": "light"
          },
          "output_type": "display_data"
        }
      ],
      "source": [
        "plt.figure(figsize=[15,10])\n",
        "\n",
        "plt.hist(good_gold_recovery_train['rougher.input.feed_size'], bins=200, label = 'Train rougher.input.feed_size', alpha=.5)\n",
        "plt.hist(good_gold_recovery_test['rougher.input.feed_size'], bins=200, label = 'Test rougher.input.feed_size', alpha=.5)\n",
        "\n",
        "plt.xlim([0, 500])\n",
        "plt.ylim([0, 1300])\n",
        "\n",
        "plt.xlabel(\"Размер гранул сырья\")\n",
        "plt.ylabel(\"Количество результатов\")\n",
        "\n",
        "plt.legend(loc='upper left', fontsize='x-large')\n",
        "\n",
        "plt.title(\"Гистограмма распределения гранул сырья перед флотацией\")\n",
        "plt.show()"
      ]
    },
    {
      "cell_type": "markdown",
      "metadata": {
        "id": "eHzQE6h38FFN"
      },
      "source": [
        "Распределение гранул до флотации похоже на нормальное со смещением влево как в обучающей, так и в тестовой выбрке. \n",
        "\n",
        "Существует много выбросов после размера гранул 100."
      ]
    },
    {
      "cell_type": "code",
      "execution_count": null,
      "metadata": {
        "scrolled": false,
        "id": "ED3f3SB78FFN",
        "outputId": "079c409c-59d3-43c0-acb6-e4f9fbd93047"
      },
      "outputs": [
        {
          "data": {
            "image/png": "[encoded data removed]",
            "text/plain": [
              "<Figure size 1080x720 with 1 Axes>"
            ]
          },
          "metadata": {
            "needs_background": "light"
          },
          "output_type": "display_data"
        }
      ],
      "source": [
        "plt.figure(figsize=[15,10])\n",
        "\n",
        "plt.hist(good_gold_recovery_train['primary_cleaner.input.feed_size'], bins=100, label = 'Train primary_cleaner.input.feed_size', alpha=.5)\n",
        "plt.hist(good_gold_recovery_test['primary_cleaner.input.feed_size'], bins=100, label = 'Test primary_cleaner.input.feed_size', alpha=.5)\n",
        "\n",
        "plt.xlim([0, 16])\n",
        "plt.ylim([0, 1000])\n",
        "\n",
        "plt.xlabel(\"Размер гранул сырья\")\n",
        "plt.ylabel(\"Количество результатов\")\n",
        "\n",
        "plt.legend(loc='upper left', fontsize='x-large')\n",
        "\n",
        "plt.title(\"Гистограмма распределения гранул сырья перед первичной очисткой\")\n",
        "plt.show()"
      ]
    },
    {
      "cell_type": "code",
      "execution_count": null,
      "metadata": {
        "id": "ORuxp_ST8FFO"
      },
      "outputs": [],
      "source": [
        ""
      ]
    },
    {
      "cell_type": "markdown",
      "metadata": {
        "id": "0cl2GrFR8FFO"
      },
      "source": [
        "Размеры гранул перед первичной очисткой обладают нормальным распределением.\n",
        "\n",
        "Подготовим столбцы с финальными концентрациями в обучающей выборке."
      ]
    },
    {
      "cell_type": "code",
      "execution_count": null,
      "metadata": {
        "scrolled": true,
        "id": "kSnyKaXb8FFO"
      },
      "outputs": [],
      "source": [
        "final_output_concentrate_sum_train = (good_gold_recovery_train['final.output.concentrate_au'] + \n",
        "                                      good_gold_recovery_train['final.output.concentrate_ag'] + \n",
        "                                      good_gold_recovery_train['final.output.concentrate_pb'] +\n",
        "                                      good_gold_recovery_train['final.output.concentrate_sol'])\n",
        "primary_cleaner_output_concentrate_sum_train = (good_gold_recovery_train['primary_cleaner.output.concentrate_au'] + \n",
        "                                                good_gold_recovery_train['primary_cleaner.output.concentrate_ag'] + \n",
        "                                                good_gold_recovery_train['primary_cleaner.output.concentrate_pb'] +\n",
        "                                                good_gold_recovery_train['primary_cleaner.output.concentrate_sol'])\n",
        "rougher_output_concentrate_sum_train = (good_gold_recovery_train['rougher.output.concentrate_au'] + \n",
        "                                        good_gold_recovery_train['rougher.output.concentrate_ag'] + \n",
        "                                        good_gold_recovery_train['rougher.output.concentrate_pb'] +\n",
        "                                        good_gold_recovery_train['rougher.output.concentrate_sol'])"
      ]
    },
    {
      "cell_type": "code",
      "execution_count": null,
      "metadata": {
        "scrolled": true,
        "id": "dPl1kzvB8FFO",
        "outputId": "3ef759a1-fa53-47ea-ff51-ed14039f8f2b"
      },
      "outputs": [
        {
          "data": {
            "image/png": "[encoded data removed]",
            "text/plain": [
              "<Figure size 1080x720 with 1 Axes>"
            ]
          },
          "metadata": {
            "needs_background": "light"
          },
          "output_type": "display_data"
        }
      ],
      "source": [
        "plt.figure(figsize=[15,10])\n",
        "\n",
        "plt.hist(final_output_concentrate_sum_train, bins=100, label = 'final_output', alpha=.5)\n",
        "plt.hist(primary_cleaner_output_concentrate_sum_train, bins=100, label = 'primary_cleaner_output', alpha=.5)\n",
        "plt.hist(rougher_output_concentrate_sum_train, bins=100, label = 'rougher_output', alpha=.5)\n",
        "\n",
        "plt.xlim([0, 100])\n",
        "plt.ylim([0, 1500])\n",
        "\n",
        "plt.xlabel(\"Суммарная концентраця\")\n",
        "plt.ylabel(\"Количество результатов\")\n",
        "\n",
        "plt.legend(loc='upper left', fontsize='x-large')\n",
        "\n",
        "plt.title(\"Гистограмма распределения концентраций на разных этапах очистки\")\n",
        "plt.show()"
      ]
    },
    {
      "cell_type": "markdown",
      "metadata": {
        "id": "AQs_CXVC8FFP"
      },
      "source": [
        "По графику видно, что из аномалий много значений в 0. \n",
        "\n",
        "Приближаю график."
      ]
    },
    {
      "cell_type": "code",
      "execution_count": null,
      "metadata": {
        "scrolled": false,
        "id": "OW-mGB3e8FFP",
        "outputId": "78d7b9d4-2da3-468b-e21d-6db6e42d3b95"
      },
      "outputs": [
        {
          "data": {
            "image/png": "[encoded data removed]",
            "text/plain": [
              "<Figure size 1080x720 with 1 Axes>"
            ]
          },
          "metadata": {
            "needs_background": "light"
          },
          "output_type": "display_data"
        }
      ],
      "source": [
        "plt.figure(figsize=[15,10])\n",
        "\n",
        "plt.hist(final_output_concentrate_sum_train, bins=100, label = 'final_output', alpha=.5)\n",
        "plt.hist(primary_cleaner_output_concentrate_sum_train, bins=100, label = 'primary_cleaner_output', alpha=.5)\n",
        "plt.hist(rougher_output_concentrate_sum_train, bins=100, label = 'rougher_output', alpha=.5)\n",
        "\n",
        "plt.xlim([0, 10])\n",
        "plt.ylim([0, 200])\n",
        "\n",
        "plt.xlabel(\"Суммарная концентраця\")\n",
        "plt.ylabel(\"Количество результатов\")\n",
        "\n",
        "plt.legend(loc='upper left', fontsize='x-large')\n",
        "\n",
        "plt.title(\"Гистограмма распределения концентраций на разных этапах очистки\")\n",
        "plt.show()"
      ]
    },
    {
      "cell_type": "markdown",
      "metadata": {
        "id": "4LJZXJNa8FFP"
      },
      "source": [
        "На этапе предобрабоки были найдены строки с нулевыми значениями в primary_cleaner.output. \n",
        "\n",
        "Эти же строки показывают суммарную концентрацию, равную 0. \n",
        "\n",
        "Соответственно они являются аномалией. Удалим их."
      ]
    },
    {
      "cell_type": "code",
      "execution_count": null,
      "metadata": {
        "scrolled": true,
        "id": "yK9XKiXb8FFP",
        "outputId": "1010a646-c60d-42e6-e7f6-99864b262070"
      },
      "outputs": [
        {
          "data": {
            "text/html": [
              "<div>\n",
              "<style scoped>\n",
              "    .dataframe tbody tr th:only-of-type {\n",
              "        vertical-align: middle;\n",
              "    }\n",
              "\n",
              "    .dataframe tbody tr th {\n",
              "        vertical-align: top;\n",
              "    }\n",
              "\n",
              "    .dataframe thead th {\n",
              "        text-align: right;\n",
              "    }\n",
              "</style>\n",
              "<table border=\"1\" class=\"dataframe\">\n",
              "  <thead>\n",
              "    <tr style=\"text-align: right;\">\n",
              "      <th></th>\n",
              "      <th>date</th>\n",
              "      <th>final.output.concentrate_ag</th>\n",
              "      <th>final.output.concentrate_pb</th>\n",
              "      <th>final.output.concentrate_sol</th>\n",
              "      <th>final.output.concentrate_au</th>\n",
              "      <th>final.output.recovery</th>\n",
              "      <th>final.output.tail_ag</th>\n",
              "      <th>final.output.tail_pb</th>\n",
              "      <th>final.output.tail_sol</th>\n",
              "      <th>final.output.tail_au</th>\n",
              "      <th>...</th>\n",
              "      <th>secondary_cleaner.state.floatbank4_a_air</th>\n",
              "      <th>secondary_cleaner.state.floatbank4_a_level</th>\n",
              "      <th>secondary_cleaner.state.floatbank4_b_air</th>\n",
              "      <th>secondary_cleaner.state.floatbank4_b_level</th>\n",
              "      <th>secondary_cleaner.state.floatbank5_a_air</th>\n",
              "      <th>secondary_cleaner.state.floatbank5_a_level</th>\n",
              "      <th>secondary_cleaner.state.floatbank5_b_air</th>\n",
              "      <th>secondary_cleaner.state.floatbank5_b_level</th>\n",
              "      <th>secondary_cleaner.state.floatbank6_a_air</th>\n",
              "      <th>secondary_cleaner.state.floatbank6_a_level</th>\n",
              "    </tr>\n",
              "  </thead>\n",
              "  <tbody>\n",
              "  </tbody>\n",
              "</table>\n",
              "<p>0 rows × 87 columns</p>\n",
              "</div>"
            ],
            "text/plain": [
              "Empty DataFrame\n",
              "Columns: [date, final.output.concentrate_ag, final.output.concentrate_pb, final.output.concentrate_sol, final.output.concentrate_au, final.output.recovery, final.output.tail_ag, final.output.tail_pb, final.output.tail_sol, final.output.tail_au, primary_cleaner.input.sulfate, primary_cleaner.input.depressant, primary_cleaner.input.feed_size, primary_cleaner.input.xanthate, primary_cleaner.output.concentrate_ag, primary_cleaner.output.concentrate_pb, primary_cleaner.output.concentrate_sol, primary_cleaner.output.concentrate_au, primary_cleaner.output.tail_ag, primary_cleaner.output.tail_pb, primary_cleaner.output.tail_sol, primary_cleaner.output.tail_au, primary_cleaner.state.floatbank8_a_air, primary_cleaner.state.floatbank8_a_level, primary_cleaner.state.floatbank8_b_air, primary_cleaner.state.floatbank8_b_level, primary_cleaner.state.floatbank8_c_air, primary_cleaner.state.floatbank8_c_level, primary_cleaner.state.floatbank8_d_air, primary_cleaner.state.floatbank8_d_level, rougher.calculation.sulfate_to_au_concentrate, rougher.calculation.floatbank10_sulfate_to_au_feed, rougher.calculation.floatbank11_sulfate_to_au_feed, rougher.calculation.au_pb_ratio, rougher.input.feed_ag, rougher.input.feed_pb, rougher.input.feed_rate, rougher.input.feed_size, rougher.input.feed_sol, rougher.input.feed_au, rougher.input.floatbank10_sulfate, rougher.input.floatbank10_xanthate, rougher.input.floatbank11_sulfate, rougher.input.floatbank11_xanthate, rougher.output.concentrate_ag, rougher.output.concentrate_pb, rougher.output.concentrate_sol, rougher.output.concentrate_au, rougher.output.recovery, rougher.output.tail_ag, rougher.output.tail_pb, rougher.output.tail_sol, rougher.output.tail_au, rougher.state.floatbank10_a_air, rougher.state.floatbank10_a_level, rougher.state.floatbank10_b_air, rougher.state.floatbank10_b_level, rougher.state.floatbank10_c_air, rougher.state.floatbank10_c_level, rougher.state.floatbank10_d_air, rougher.state.floatbank10_d_level, rougher.state.floatbank10_e_air, rougher.state.floatbank10_e_level, rougher.state.floatbank10_f_air, rougher.state.floatbank10_f_level, secondary_cleaner.output.tail_ag, secondary_cleaner.output.tail_pb, secondary_cleaner.output.tail_sol, secondary_cleaner.output.tail_au, secondary_cleaner.state.floatbank2_a_air, secondary_cleaner.state.floatbank2_a_level, secondary_cleaner.state.floatbank2_b_air, secondary_cleaner.state.floatbank2_b_level, secondary_cleaner.state.floatbank3_a_air, secondary_cleaner.state.floatbank3_a_level, secondary_cleaner.state.floatbank3_b_air, secondary_cleaner.state.floatbank3_b_level, secondary_cleaner.state.floatbank4_a_air, secondary_cleaner.state.floatbank4_a_level, secondary_cleaner.state.floatbank4_b_air, secondary_cleaner.state.floatbank4_b_level, secondary_cleaner.state.floatbank5_a_air, secondary_cleaner.state.floatbank5_a_level, secondary_cleaner.state.floatbank5_b_air, secondary_cleaner.state.floatbank5_b_level, secondary_cleaner.state.floatbank6_a_air, secondary_cleaner.state.floatbank6_a_level]\n",
              "Index: []\n",
              "\n",
              "[0 rows x 87 columns]"
            ]
          },
          "execution_count": 32,
          "metadata": {},
          "output_type": "execute_result"
        }
      ],
      "source": [
        "good_gold_recovery_train = good_gold_recovery_train.drop(good_gold_recovery_train[good_gold_recovery_train['primary_cleaner.output.concentrate_au'] == 0].index)\n",
        "good_gold_recovery_train[good_gold_recovery_train['primary_cleaner.output.concentrate_au'] == 0].head()"
      ]
    },
    {
      "cell_type": "markdown",
      "metadata": {
        "id": "-59ZWXjo8FFP"
      },
      "source": [
        "### Вывод\n",
        "\n",
        "В результате анализа были изучены:\n",
        "\n",
        "* Концетрации основных веществ на разных этапах очистки.\n",
        "* Размер гранул тестовой и обучающей выборки.\n",
        "* Суммарная концентрация веществ.\n",
        "\n",
        "Аномалии были удалены. Данные готовы к обучению"
      ]
    },
    {
      "cell_type": "code",
      "execution_count": null,
      "metadata": {
        "id": "dcLo4ftK8FFQ"
      },
      "outputs": [],
      "source": [
        ""
      ]
    },
    {
      "cell_type": "code",
      "execution_count": null,
      "metadata": {
        "id": "nYSPD-XC8FFQ"
      },
      "outputs": [],
      "source": [
        ""
      ]
    },
    {
      "cell_type": "markdown",
      "metadata": {
        "id": "fQFDjITN8FFQ"
      },
      "source": [
        "## Модель"
      ]
    },
    {
      "cell_type": "markdown",
      "metadata": {
        "id": "KV3_6dh48FFQ"
      },
      "source": [
        "Создаю разделение признаков для предсказания rougher.output.recovery и final.output.recovery."
      ]
    },
    {
      "cell_type": "code",
      "execution_count": null,
      "metadata": {
        "scrolled": true,
        "id": "c9jCbQiS8FFQ",
        "outputId": "efae7a21-184f-416c-b193-f79ac5c3abf8"
      },
      "outputs": [
        {
          "name": "stdout",
          "output_type": "stream",
          "text": [
            "{'secondary_cleaner.output.tail_au', 'final.output.tail_au', 'rougher.calculation.sulfate_to_au_concentrate', 'rougher.output.concentrate_pb', 'rougher.output.tail_ag', 'primary_cleaner.output.concentrate_ag', 'rougher.output.tail_au', 'rougher.calculation.floatbank10_sulfate_to_au_feed', 'final.output.concentrate_sol', 'final.output.concentrate_pb', 'final.output.tail_sol', 'rougher.output.concentrate_sol', 'rougher.calculation.au_pb_ratio', 'primary_cleaner.output.concentrate_pb', 'primary_cleaner.output.concentrate_au', 'rougher.output.concentrate_au', 'secondary_cleaner.output.tail_sol', 'final.output.tail_ag', 'rougher.output.tail_sol', 'final.output.concentrate_au', 'final.output.concentrate_ag', 'date', 'secondary_cleaner.output.tail_pb', 'secondary_cleaner.output.tail_ag', 'rougher.output.concentrate_ag', 'primary_cleaner.output.tail_au', 'rougher.calculation.floatbank11_sulfate_to_au_feed', 'primary_cleaner.output.tail_sol', 'final.output.recovery', 'rougher.output.tail_pb', 'final.output.tail_pb', 'primary_cleaner.output.tail_ag', 'rougher.output.recovery', 'primary_cleaner.output.concentrate_sol', 'primary_cleaner.output.tail_pb'}\n",
            "\n",
            "Index(['primary_cleaner.input.sulfate', 'primary_cleaner.input.depressant',\n",
            "       'primary_cleaner.input.feed_size', 'primary_cleaner.input.xanthate',\n",
            "       'primary_cleaner.state.floatbank8_a_air',\n",
            "       'primary_cleaner.state.floatbank8_a_level',\n",
            "       'primary_cleaner.state.floatbank8_b_air',\n",
            "       'primary_cleaner.state.floatbank8_b_level',\n",
            "       'primary_cleaner.state.floatbank8_c_air',\n",
            "       'primary_cleaner.state.floatbank8_c_level',\n",
            "       'primary_cleaner.state.floatbank8_d_air',\n",
            "       'primary_cleaner.state.floatbank8_d_level', 'rougher.input.feed_ag',\n",
            "       'rougher.input.feed_pb', 'rougher.input.feed_rate',\n",
            "       'rougher.input.feed_size', 'rougher.input.feed_sol',\n",
            "       'rougher.input.feed_au', 'rougher.input.floatbank10_sulfate',\n",
            "       'rougher.input.floatbank10_xanthate',\n",
            "       'rougher.input.floatbank11_sulfate',\n",
            "       'rougher.input.floatbank11_xanthate', 'rougher.state.floatbank10_a_air',\n",
            "       'rougher.state.floatbank10_a_level', 'rougher.state.floatbank10_b_air',\n",
            "       'rougher.state.floatbank10_b_level', 'rougher.state.floatbank10_c_air',\n",
            "       'rougher.state.floatbank10_c_level', 'rougher.state.floatbank10_d_air',\n",
            "       'rougher.state.floatbank10_d_level', 'rougher.state.floatbank10_e_air',\n",
            "       'rougher.state.floatbank10_e_level', 'rougher.state.floatbank10_f_air',\n",
            "       'rougher.state.floatbank10_f_level',\n",
            "       'secondary_cleaner.state.floatbank2_a_air',\n",
            "       'secondary_cleaner.state.floatbank2_a_level',\n",
            "       'secondary_cleaner.state.floatbank2_b_air',\n",
            "       'secondary_cleaner.state.floatbank2_b_level',\n",
            "       'secondary_cleaner.state.floatbank3_a_air',\n",
            "       'secondary_cleaner.state.floatbank3_a_level',\n",
            "       'secondary_cleaner.state.floatbank3_b_air',\n",
            "       'secondary_cleaner.state.floatbank3_b_level',\n",
            "       'secondary_cleaner.state.floatbank4_a_air',\n",
            "       'secondary_cleaner.state.floatbank4_a_level',\n",
            "       'secondary_cleaner.state.floatbank4_b_air',\n",
            "       'secondary_cleaner.state.floatbank4_b_level',\n",
            "       'secondary_cleaner.state.floatbank5_a_air',\n",
            "       'secondary_cleaner.state.floatbank5_a_level',\n",
            "       'secondary_cleaner.state.floatbank5_b_air',\n",
            "       'secondary_cleaner.state.floatbank5_b_level',\n",
            "       'secondary_cleaner.state.floatbank6_a_air',\n",
            "       'secondary_cleaner.state.floatbank6_a_level'],\n",
            "      dtype='object')\n",
            "set()\n",
            "{'primary_cleaner.state.floatbank8_d_level', 'primary_cleaner.input.feed_size', 'primary_cleaner.input.depressant', 'primary_cleaner.state.floatbank8_a_air', 'primary_cleaner.state.floatbank8_d_air', 'secondary_cleaner.state.floatbank4_b_air', 'secondary_cleaner.state.floatbank5_a_air', 'primary_cleaner.state.floatbank8_c_air', 'secondary_cleaner.state.floatbank6_a_level', 'secondary_cleaner.state.floatbank4_a_level', 'secondary_cleaner.state.floatbank3_a_level', 'secondary_cleaner.state.floatbank2_a_air', 'secondary_cleaner.state.floatbank2_b_air', 'secondary_cleaner.state.floatbank5_a_level', 'secondary_cleaner.state.floatbank4_a_air', 'secondary_cleaner.state.floatbank6_a_air', 'secondary_cleaner.state.floatbank3_a_air', 'primary_cleaner.input.xanthate', 'primary_cleaner.state.floatbank8_c_level', 'secondary_cleaner.state.floatbank2_a_level', 'primary_cleaner.state.floatbank8_b_air', 'secondary_cleaner.state.floatbank4_b_level', 'primary_cleaner.state.floatbank8_a_level', 'secondary_cleaner.state.floatbank2_b_level', 'secondary_cleaner.state.floatbank3_b_level', 'primary_cleaner.input.sulfate', 'secondary_cleaner.state.floatbank5_b_level', 'secondary_cleaner.state.floatbank5_b_air', 'secondary_cleaner.state.floatbank3_b_air', 'primary_cleaner.state.floatbank8_b_level'}\n",
            "\n",
            "Index(['rougher.input.feed_ag', 'rougher.input.feed_pb',\n",
            "       'rougher.input.feed_rate', 'rougher.input.feed_size',\n",
            "       'rougher.input.feed_sol', 'rougher.input.feed_au',\n",
            "       'rougher.input.floatbank10_sulfate',\n",
            "       'rougher.input.floatbank10_xanthate',\n",
            "       'rougher.input.floatbank11_sulfate',\n",
            "       'rougher.input.floatbank11_xanthate', 'rougher.state.floatbank10_a_air',\n",
            "       'rougher.state.floatbank10_a_level', 'rougher.state.floatbank10_b_air',\n",
            "       'rougher.state.floatbank10_b_level', 'rougher.state.floatbank10_c_air',\n",
            "       'rougher.state.floatbank10_c_level', 'rougher.state.floatbank10_d_air',\n",
            "       'rougher.state.floatbank10_d_level', 'rougher.state.floatbank10_e_air',\n",
            "       'rougher.state.floatbank10_e_level', 'rougher.state.floatbank10_f_air',\n",
            "       'rougher.state.floatbank10_f_level'],\n",
            "      dtype='object')\n"
          ]
        }
      ],
      "source": [
        "# Подготовка признаков для final.output.recovery\n",
        "columns_to_delete = set(good_gold_recovery_train.columns) - final_features_columns\n",
        "print(columns_to_delete)\n",
        "train_features_final = good_gold_recovery_train.drop(columns_to_delete, axis=1)\n",
        "print()\n",
        "print(train_features_final.columns)\n",
        "# Проверка вхождения всех столбцов из feateures в столбцах тестовой выборки\n",
        "print(set(train_features_final.columns) - set(gold_recovery_test.columns))\n",
        "\n",
        "# Подготовка признаков для rougher.output.recovery\n",
        "columns_to_delete = set(train_features_final.columns) - rougher_features_columns\n",
        "print(columns_to_delete)\n",
        "train_features_rougher = train_features_final.drop(columns_to_delete, axis=1)\n",
        "print()\n",
        "print(train_features_rougher.columns)"
      ]
    },
    {
      "cell_type": "code",
      "execution_count": null,
      "metadata": {
        "id": "K4zH0ZBh8FFR",
        "outputId": "6b0aabb7-249c-4c9a-f744-ba046dc5a653"
      },
      "outputs": [
        {
          "data": {
            "text/plain": [
              "((10737, 22), (10737, 52))"
            ]
          },
          "execution_count": 34,
          "metadata": {},
          "output_type": "execute_result"
        }
      ],
      "source": [
        "train_features_rougher.shape, train_features_final.shape"
      ]
    },
    {
      "cell_type": "markdown",
      "metadata": {
        "id": "HlElC1hA8FFR"
      },
      "source": [
        "Подготовливаю целевой признак."
      ]
    },
    {
      "cell_type": "code",
      "execution_count": null,
      "metadata": {
        "scrolled": false,
        "id": "UhLHlDPc8FFR"
      },
      "outputs": [],
      "source": [
        "train_target_final = good_gold_recovery_train['final.output.recovery']\n",
        "train_target_rougher = good_gold_recovery_train['rougher.output.recovery']"
      ]
    },
    {
      "cell_type": "code",
      "execution_count": null,
      "metadata": {
        "id": "Qm_lVE2Z8FFR",
        "outputId": "1dc40778-43fe-4be1-ebc3-a093d18738c3"
      },
      "outputs": [
        {
          "data": {
            "text/html": [
              "<div>\n",
              "<style scoped>\n",
              "    .dataframe tbody tr th:only-of-type {\n",
              "        vertical-align: middle;\n",
              "    }\n",
              "\n",
              "    .dataframe tbody tr th {\n",
              "        vertical-align: top;\n",
              "    }\n",
              "\n",
              "    .dataframe thead th {\n",
              "        text-align: right;\n",
              "    }\n",
              "</style>\n",
              "<table border=\"1\" class=\"dataframe\">\n",
              "  <thead>\n",
              "    <tr style=\"text-align: right;\">\n",
              "      <th></th>\n",
              "      <th>date</th>\n",
              "      <th>primary_cleaner.input.sulfate</th>\n",
              "      <th>primary_cleaner.input.depressant</th>\n",
              "      <th>primary_cleaner.input.feed_size</th>\n",
              "      <th>primary_cleaner.input.xanthate</th>\n",
              "      <th>primary_cleaner.state.floatbank8_a_air</th>\n",
              "      <th>primary_cleaner.state.floatbank8_a_level</th>\n",
              "      <th>primary_cleaner.state.floatbank8_b_air</th>\n",
              "      <th>primary_cleaner.state.floatbank8_b_level</th>\n",
              "      <th>primary_cleaner.state.floatbank8_c_air</th>\n",
              "      <th>...</th>\n",
              "      <th>secondary_cleaner.state.floatbank4_b_air</th>\n",
              "      <th>secondary_cleaner.state.floatbank4_b_level</th>\n",
              "      <th>secondary_cleaner.state.floatbank5_a_air</th>\n",
              "      <th>secondary_cleaner.state.floatbank5_a_level</th>\n",
              "      <th>secondary_cleaner.state.floatbank5_b_air</th>\n",
              "      <th>secondary_cleaner.state.floatbank5_b_level</th>\n",
              "      <th>secondary_cleaner.state.floatbank6_a_air</th>\n",
              "      <th>secondary_cleaner.state.floatbank6_a_level</th>\n",
              "      <th>final.output.recovery</th>\n",
              "      <th>rougher.output.recovery</th>\n",
              "    </tr>\n",
              "  </thead>\n",
              "  <tbody>\n",
              "    <tr>\n",
              "      <th>0</th>\n",
              "      <td>2016-09-01 00:59:59</td>\n",
              "      <td>210.800909</td>\n",
              "      <td>14.993118</td>\n",
              "      <td>8.080000</td>\n",
              "      <td>1.005021</td>\n",
              "      <td>1398.981301</td>\n",
              "      <td>-500.225577</td>\n",
              "      <td>1399.144926</td>\n",
              "      <td>-499.919735</td>\n",
              "      <td>1400.102998</td>\n",
              "      <td>...</td>\n",
              "      <td>8.016656</td>\n",
              "      <td>-501.289139</td>\n",
              "      <td>7.946562</td>\n",
              "      <td>-432.317850</td>\n",
              "      <td>4.872511</td>\n",
              "      <td>-500.037437</td>\n",
              "      <td>26.705889</td>\n",
              "      <td>-499.709414</td>\n",
              "      <td>70.273583</td>\n",
              "      <td>89.993421</td>\n",
              "    </tr>\n",
              "    <tr>\n",
              "      <th>1</th>\n",
              "      <td>2016-09-01 01:59:59</td>\n",
              "      <td>215.392455</td>\n",
              "      <td>14.987471</td>\n",
              "      <td>8.080000</td>\n",
              "      <td>0.990469</td>\n",
              "      <td>1398.777912</td>\n",
              "      <td>-500.057435</td>\n",
              "      <td>1398.055362</td>\n",
              "      <td>-499.778182</td>\n",
              "      <td>1396.151033</td>\n",
              "      <td>...</td>\n",
              "      <td>8.130979</td>\n",
              "      <td>-499.634209</td>\n",
              "      <td>7.958270</td>\n",
              "      <td>-525.839648</td>\n",
              "      <td>4.878850</td>\n",
              "      <td>-500.162375</td>\n",
              "      <td>25.019940</td>\n",
              "      <td>-499.819438</td>\n",
              "      <td>68.910432</td>\n",
              "      <td>88.089657</td>\n",
              "    </tr>\n",
              "    <tr>\n",
              "      <th>2</th>\n",
              "      <td>2016-09-01 02:59:59</td>\n",
              "      <td>215.259946</td>\n",
              "      <td>12.884934</td>\n",
              "      <td>7.786667</td>\n",
              "      <td>0.996043</td>\n",
              "      <td>1398.493666</td>\n",
              "      <td>-500.868360</td>\n",
              "      <td>1398.860436</td>\n",
              "      <td>-499.764529</td>\n",
              "      <td>1398.075709</td>\n",
              "      <td>...</td>\n",
              "      <td>8.096893</td>\n",
              "      <td>-500.827423</td>\n",
              "      <td>8.071056</td>\n",
              "      <td>-500.801673</td>\n",
              "      <td>4.905125</td>\n",
              "      <td>-499.828510</td>\n",
              "      <td>24.994862</td>\n",
              "      <td>-500.622559</td>\n",
              "      <td>68.143213</td>\n",
              "      <td>88.412756</td>\n",
              "    </tr>\n",
              "    <tr>\n",
              "      <th>3</th>\n",
              "      <td>2016-09-01 03:59:59</td>\n",
              "      <td>215.336236</td>\n",
              "      <td>12.006805</td>\n",
              "      <td>7.640000</td>\n",
              "      <td>0.863514</td>\n",
              "      <td>1399.618111</td>\n",
              "      <td>-498.863574</td>\n",
              "      <td>1397.440120</td>\n",
              "      <td>-499.211024</td>\n",
              "      <td>1400.129303</td>\n",
              "      <td>...</td>\n",
              "      <td>8.074946</td>\n",
              "      <td>-499.474407</td>\n",
              "      <td>7.897085</td>\n",
              "      <td>-500.868509</td>\n",
              "      <td>4.931400</td>\n",
              "      <td>-499.963623</td>\n",
              "      <td>24.948919</td>\n",
              "      <td>-498.709987</td>\n",
              "      <td>67.776393</td>\n",
              "      <td>87.360133</td>\n",
              "    </tr>\n",
              "    <tr>\n",
              "      <th>4</th>\n",
              "      <td>2016-09-01 04:59:59</td>\n",
              "      <td>199.099327</td>\n",
              "      <td>10.682530</td>\n",
              "      <td>7.530000</td>\n",
              "      <td>0.805575</td>\n",
              "      <td>1401.268123</td>\n",
              "      <td>-500.808305</td>\n",
              "      <td>1398.128818</td>\n",
              "      <td>-499.504543</td>\n",
              "      <td>1402.172226</td>\n",
              "      <td>...</td>\n",
              "      <td>8.054678</td>\n",
              "      <td>-500.397500</td>\n",
              "      <td>8.107890</td>\n",
              "      <td>-509.526725</td>\n",
              "      <td>4.957674</td>\n",
              "      <td>-500.360026</td>\n",
              "      <td>25.003331</td>\n",
              "      <td>-500.856333</td>\n",
              "      <td>61.467078</td>\n",
              "      <td>83.236367</td>\n",
              "    </tr>\n",
              "    <tr>\n",
              "      <th>...</th>\n",
              "      <td>...</td>\n",
              "      <td>...</td>\n",
              "      <td>...</td>\n",
              "      <td>...</td>\n",
              "      <td>...</td>\n",
              "      <td>...</td>\n",
              "      <td>...</td>\n",
              "      <td>...</td>\n",
              "      <td>...</td>\n",
              "      <td>...</td>\n",
              "      <td>...</td>\n",
              "      <td>...</td>\n",
              "      <td>...</td>\n",
              "      <td>...</td>\n",
              "      <td>...</td>\n",
              "      <td>...</td>\n",
              "      <td>...</td>\n",
              "      <td>...</td>\n",
              "      <td>...</td>\n",
              "      <td>...</td>\n",
              "      <td>...</td>\n",
              "    </tr>\n",
              "    <tr>\n",
              "      <th>5224</th>\n",
              "      <td>2017-12-31 19:59:59</td>\n",
              "      <td>173.957757</td>\n",
              "      <td>15.963399</td>\n",
              "      <td>8.070000</td>\n",
              "      <td>0.896701</td>\n",
              "      <td>1401.930554</td>\n",
              "      <td>-499.728848</td>\n",
              "      <td>1401.441445</td>\n",
              "      <td>-499.193423</td>\n",
              "      <td>1399.810313</td>\n",
              "      <td>...</td>\n",
              "      <td>12.069155</td>\n",
              "      <td>-499.673279</td>\n",
              "      <td>7.977259</td>\n",
              "      <td>-499.516126</td>\n",
              "      <td>5.933319</td>\n",
              "      <td>-499.965973</td>\n",
              "      <td>8.987171</td>\n",
              "      <td>-499.755909</td>\n",
              "      <td>68.919891</td>\n",
              "      <td>95.172585</td>\n",
              "    </tr>\n",
              "    <tr>\n",
              "      <th>5225</th>\n",
              "      <td>2017-12-31 20:59:59</td>\n",
              "      <td>172.910270</td>\n",
              "      <td>16.002605</td>\n",
              "      <td>8.070000</td>\n",
              "      <td>0.896519</td>\n",
              "      <td>1447.075722</td>\n",
              "      <td>-494.716823</td>\n",
              "      <td>1448.851892</td>\n",
              "      <td>-465.963026</td>\n",
              "      <td>1443.890424</td>\n",
              "      <td>...</td>\n",
              "      <td>13.365371</td>\n",
              "      <td>-499.122723</td>\n",
              "      <td>9.288553</td>\n",
              "      <td>-496.892967</td>\n",
              "      <td>7.372897</td>\n",
              "      <td>-499.942956</td>\n",
              "      <td>8.986832</td>\n",
              "      <td>-499.903761</td>\n",
              "      <td>68.440582</td>\n",
              "      <td>94.575036</td>\n",
              "    </tr>\n",
              "    <tr>\n",
              "      <th>5226</th>\n",
              "      <td>2017-12-31 21:59:59</td>\n",
              "      <td>171.135718</td>\n",
              "      <td>15.993669</td>\n",
              "      <td>8.070000</td>\n",
              "      <td>1.165996</td>\n",
              "      <td>1498.836182</td>\n",
              "      <td>-501.770403</td>\n",
              "      <td>1499.572353</td>\n",
              "      <td>-495.516347</td>\n",
              "      <td>1502.749213</td>\n",
              "      <td>...</td>\n",
              "      <td>15.101425</td>\n",
              "      <td>-499.936252</td>\n",
              "      <td>10.989181</td>\n",
              "      <td>-498.347898</td>\n",
              "      <td>9.020944</td>\n",
              "      <td>-500.040448</td>\n",
              "      <td>8.982038</td>\n",
              "      <td>-497.789882</td>\n",
              "      <td>67.092759</td>\n",
              "      <td>93.018138</td>\n",
              "    </tr>\n",
              "    <tr>\n",
              "      <th>5227</th>\n",
              "      <td>2017-12-31 22:59:59</td>\n",
              "      <td>179.697158</td>\n",
              "      <td>15.438979</td>\n",
              "      <td>8.070000</td>\n",
              "      <td>1.501068</td>\n",
              "      <td>1498.466243</td>\n",
              "      <td>-500.483984</td>\n",
              "      <td>1497.986986</td>\n",
              "      <td>-519.200340</td>\n",
              "      <td>1496.569047</td>\n",
              "      <td>...</td>\n",
              "      <td>15.026853</td>\n",
              "      <td>-499.723143</td>\n",
              "      <td>11.011607</td>\n",
              "      <td>-499.985046</td>\n",
              "      <td>9.009783</td>\n",
              "      <td>-499.937902</td>\n",
              "      <td>9.012660</td>\n",
              "      <td>-500.154284</td>\n",
              "      <td>68.061186</td>\n",
              "      <td>92.599042</td>\n",
              "    </tr>\n",
              "    <tr>\n",
              "      <th>5228</th>\n",
              "      <td>2017-12-31 23:59:59</td>\n",
              "      <td>181.556856</td>\n",
              "      <td>14.995850</td>\n",
              "      <td>8.070000</td>\n",
              "      <td>1.623454</td>\n",
              "      <td>1498.096303</td>\n",
              "      <td>-499.796922</td>\n",
              "      <td>1501.743791</td>\n",
              "      <td>-505.146931</td>\n",
              "      <td>1499.535978</td>\n",
              "      <td>...</td>\n",
              "      <td>14.914199</td>\n",
              "      <td>-499.948518</td>\n",
              "      <td>10.986607</td>\n",
              "      <td>-500.658027</td>\n",
              "      <td>8.989497</td>\n",
              "      <td>-500.337588</td>\n",
              "      <td>8.988632</td>\n",
              "      <td>-500.764937</td>\n",
              "      <td>71.699976</td>\n",
              "      <td>91.177695</td>\n",
              "    </tr>\n",
              "  </tbody>\n",
              "</table>\n",
              "<p>5229 rows × 55 columns</p>\n",
              "</div>"
            ],
            "text/plain": [
              "                     date  primary_cleaner.input.sulfate  \\\n",
              "0     2016-09-01 00:59:59                     210.800909   \n",
              "1     2016-09-01 01:59:59                     215.392455   \n",
              "2     2016-09-01 02:59:59                     215.259946   \n",
              "3     2016-09-01 03:59:59                     215.336236   \n",
              "4     2016-09-01 04:59:59                     199.099327   \n",
              "...                   ...                            ...   \n",
              "5224  2017-12-31 19:59:59                     173.957757   \n",
              "5225  2017-12-31 20:59:59                     172.910270   \n",
              "5226  2017-12-31 21:59:59                     171.135718   \n",
              "5227  2017-12-31 22:59:59                     179.697158   \n",
              "5228  2017-12-31 23:59:59                     181.556856   \n",
              "\n",
              "      primary_cleaner.input.depressant  primary_cleaner.input.feed_size  \\\n",
              "0                            14.993118                         8.080000   \n",
              "1                            14.987471                         8.080000   \n",
              "2                            12.884934                         7.786667   \n",
              "3                            12.006805                         7.640000   \n",
              "4                            10.682530                         7.530000   \n",
              "...                                ...                              ...   \n",
              "5224                         15.963399                         8.070000   \n",
              "5225                         16.002605                         8.070000   \n",
              "5226                         15.993669                         8.070000   \n",
              "5227                         15.438979                         8.070000   \n",
              "5228                         14.995850                         8.070000   \n",
              "\n",
              "      primary_cleaner.input.xanthate  primary_cleaner.state.floatbank8_a_air  \\\n",
              "0                           1.005021                             1398.981301   \n",
              "1                           0.990469                             1398.777912   \n",
              "2                           0.996043                             1398.493666   \n",
              "3                           0.863514                             1399.618111   \n",
              "4                           0.805575                             1401.268123   \n",
              "...                              ...                                     ...   \n",
              "5224                        0.896701                             1401.930554   \n",
              "5225                        0.896519                             1447.075722   \n",
              "5226                        1.165996                             1498.836182   \n",
              "5227                        1.501068                             1498.466243   \n",
              "5228                        1.623454                             1498.096303   \n",
              "\n",
              "      primary_cleaner.state.floatbank8_a_level  \\\n",
              "0                                  -500.225577   \n",
              "1                                  -500.057435   \n",
              "2                                  -500.868360   \n",
              "3                                  -498.863574   \n",
              "4                                  -500.808305   \n",
              "...                                        ...   \n",
              "5224                               -499.728848   \n",
              "5225                               -494.716823   \n",
              "5226                               -501.770403   \n",
              "5227                               -500.483984   \n",
              "5228                               -499.796922   \n",
              "\n",
              "      primary_cleaner.state.floatbank8_b_air  \\\n",
              "0                                1399.144926   \n",
              "1                                1398.055362   \n",
              "2                                1398.860436   \n",
              "3                                1397.440120   \n",
              "4                                1398.128818   \n",
              "...                                      ...   \n",
              "5224                             1401.441445   \n",
              "5225                             1448.851892   \n",
              "5226                             1499.572353   \n",
              "5227                             1497.986986   \n",
              "5228                             1501.743791   \n",
              "\n",
              "      primary_cleaner.state.floatbank8_b_level  \\\n",
              "0                                  -499.919735   \n",
              "1                                  -499.778182   \n",
              "2                                  -499.764529   \n",
              "3                                  -499.211024   \n",
              "4                                  -499.504543   \n",
              "...                                        ...   \n",
              "5224                               -499.193423   \n",
              "5225                               -465.963026   \n",
              "5226                               -495.516347   \n",
              "5227                               -519.200340   \n",
              "5228                               -505.146931   \n",
              "\n",
              "      primary_cleaner.state.floatbank8_c_air  ...  \\\n",
              "0                                1400.102998  ...   \n",
              "1                                1396.151033  ...   \n",
              "2                                1398.075709  ...   \n",
              "3                                1400.129303  ...   \n",
              "4                                1402.172226  ...   \n",
              "...                                      ...  ...   \n",
              "5224                             1399.810313  ...   \n",
              "5225                             1443.890424  ...   \n",
              "5226                             1502.749213  ...   \n",
              "5227                             1496.569047  ...   \n",
              "5228                             1499.535978  ...   \n",
              "\n",
              "      secondary_cleaner.state.floatbank4_b_air  \\\n",
              "0                                     8.016656   \n",
              "1                                     8.130979   \n",
              "2                                     8.096893   \n",
              "3                                     8.074946   \n",
              "4                                     8.054678   \n",
              "...                                        ...   \n",
              "5224                                 12.069155   \n",
              "5225                                 13.365371   \n",
              "5226                                 15.101425   \n",
              "5227                                 15.026853   \n",
              "5228                                 14.914199   \n",
              "\n",
              "      secondary_cleaner.state.floatbank4_b_level  \\\n",
              "0                                    -501.289139   \n",
              "1                                    -499.634209   \n",
              "2                                    -500.827423   \n",
              "3                                    -499.474407   \n",
              "4                                    -500.397500   \n",
              "...                                          ...   \n",
              "5224                                 -499.673279   \n",
              "5225                                 -499.122723   \n",
              "5226                                 -499.936252   \n",
              "5227                                 -499.723143   \n",
              "5228                                 -499.948518   \n",
              "\n",
              "      secondary_cleaner.state.floatbank5_a_air  \\\n",
              "0                                     7.946562   \n",
              "1                                     7.958270   \n",
              "2                                     8.071056   \n",
              "3                                     7.897085   \n",
              "4                                     8.107890   \n",
              "...                                        ...   \n",
              "5224                                  7.977259   \n",
              "5225                                  9.288553   \n",
              "5226                                 10.989181   \n",
              "5227                                 11.011607   \n",
              "5228                                 10.986607   \n",
              "\n",
              "      secondary_cleaner.state.floatbank5_a_level  \\\n",
              "0                                    -432.317850   \n",
              "1                                    -525.839648   \n",
              "2                                    -500.801673   \n",
              "3                                    -500.868509   \n",
              "4                                    -509.526725   \n",
              "...                                          ...   \n",
              "5224                                 -499.516126   \n",
              "5225                                 -496.892967   \n",
              "5226                                 -498.347898   \n",
              "5227                                 -499.985046   \n",
              "5228                                 -500.658027   \n",
              "\n",
              "      secondary_cleaner.state.floatbank5_b_air  \\\n",
              "0                                     4.872511   \n",
              "1                                     4.878850   \n",
              "2                                     4.905125   \n",
              "3                                     4.931400   \n",
              "4                                     4.957674   \n",
              "...                                        ...   \n",
              "5224                                  5.933319   \n",
              "5225                                  7.372897   \n",
              "5226                                  9.020944   \n",
              "5227                                  9.009783   \n",
              "5228                                  8.989497   \n",
              "\n",
              "      secondary_cleaner.state.floatbank5_b_level  \\\n",
              "0                                    -500.037437   \n",
              "1                                    -500.162375   \n",
              "2                                    -499.828510   \n",
              "3                                    -499.963623   \n",
              "4                                    -500.360026   \n",
              "...                                          ...   \n",
              "5224                                 -499.965973   \n",
              "5225                                 -499.942956   \n",
              "5226                                 -500.040448   \n",
              "5227                                 -499.937902   \n",
              "5228                                 -500.337588   \n",
              "\n",
              "      secondary_cleaner.state.floatbank6_a_air  \\\n",
              "0                                    26.705889   \n",
              "1                                    25.019940   \n",
              "2                                    24.994862   \n",
              "3                                    24.948919   \n",
              "4                                    25.003331   \n",
              "...                                        ...   \n",
              "5224                                  8.987171   \n",
              "5225                                  8.986832   \n",
              "5226                                  8.982038   \n",
              "5227                                  9.012660   \n",
              "5228                                  8.988632   \n",
              "\n",
              "      secondary_cleaner.state.floatbank6_a_level  final.output.recovery  \\\n",
              "0                                    -499.709414              70.273583   \n",
              "1                                    -499.819438              68.910432   \n",
              "2                                    -500.622559              68.143213   \n",
              "3                                    -498.709987              67.776393   \n",
              "4                                    -500.856333              61.467078   \n",
              "...                                          ...                    ...   \n",
              "5224                                 -499.755909              68.919891   \n",
              "5225                                 -499.903761              68.440582   \n",
              "5226                                 -497.789882              67.092759   \n",
              "5227                                 -500.154284              68.061186   \n",
              "5228                                 -500.764937              71.699976   \n",
              "\n",
              "      rougher.output.recovery  \n",
              "0                   89.993421  \n",
              "1                   88.089657  \n",
              "2                   88.412756  \n",
              "3                   87.360133  \n",
              "4                   83.236367  \n",
              "...                       ...  \n",
              "5224                95.172585  \n",
              "5225                94.575036  \n",
              "5226                93.018138  \n",
              "5227                92.599042  \n",
              "5228                91.177695  \n",
              "\n",
              "[5229 rows x 55 columns]"
            ]
          },
          "execution_count": 36,
          "metadata": {},
          "output_type": "execute_result"
        }
      ],
      "source": [
        "good_gold_recovery_test.merge(gold_recovery_full[['date','final.output.recovery','rougher.output.recovery']],\n",
        "                        on='date', how='inner')"
      ]
    },
    {
      "cell_type": "markdown",
      "metadata": {
        "id": "LApEcoE88FFS"
      },
      "source": [
        "Подготовливаю признаки тестовой выборки."
      ]
    },
    {
      "cell_type": "code",
      "execution_count": null,
      "metadata": {
        "scrolled": true,
        "id": "GXGZOeKy8FFS",
        "outputId": "b4443b2b-5cc2-4d8e-e702-d2540663eb9d"
      },
      "outputs": [
        {
          "data": {
            "text/plain": [
              "Index(['primary_cleaner.input.sulfate', 'primary_cleaner.input.depressant',\n",
              "       'primary_cleaner.input.feed_size', 'primary_cleaner.input.xanthate',\n",
              "       'primary_cleaner.state.floatbank8_a_air',\n",
              "       'primary_cleaner.state.floatbank8_a_level',\n",
              "       'primary_cleaner.state.floatbank8_b_air',\n",
              "       'primary_cleaner.state.floatbank8_b_level',\n",
              "       'primary_cleaner.state.floatbank8_c_air',\n",
              "       'primary_cleaner.state.floatbank8_c_level',\n",
              "       'primary_cleaner.state.floatbank8_d_air',\n",
              "       'primary_cleaner.state.floatbank8_d_level', 'rougher.input.feed_ag',\n",
              "       'rougher.input.feed_pb', 'rougher.input.feed_rate',\n",
              "       'rougher.input.feed_size', 'rougher.input.feed_sol',\n",
              "       'rougher.input.feed_au', 'rougher.input.floatbank10_sulfate',\n",
              "       'rougher.input.floatbank10_xanthate',\n",
              "       'rougher.input.floatbank11_sulfate',\n",
              "       'rougher.input.floatbank11_xanthate', 'rougher.state.floatbank10_a_air',\n",
              "       'rougher.state.floatbank10_a_level', 'rougher.state.floatbank10_b_air',\n",
              "       'rougher.state.floatbank10_b_level', 'rougher.state.floatbank10_c_air',\n",
              "       'rougher.state.floatbank10_c_level', 'rougher.state.floatbank10_d_air',\n",
              "       'rougher.state.floatbank10_d_level', 'rougher.state.floatbank10_e_air',\n",
              "       'rougher.state.floatbank10_e_level', 'rougher.state.floatbank10_f_air',\n",
              "       'rougher.state.floatbank10_f_level',\n",
              "       'secondary_cleaner.state.floatbank2_a_air',\n",
              "       'secondary_cleaner.state.floatbank2_a_level',\n",
              "       'secondary_cleaner.state.floatbank2_b_air',\n",
              "       'secondary_cleaner.state.floatbank2_b_level',\n",
              "       'secondary_cleaner.state.floatbank3_a_air',\n",
              "       'secondary_cleaner.state.floatbank3_a_level',\n",
              "       'secondary_cleaner.state.floatbank3_b_air',\n",
              "       'secondary_cleaner.state.floatbank3_b_level',\n",
              "       'secondary_cleaner.state.floatbank4_a_air',\n",
              "       'secondary_cleaner.state.floatbank4_a_level',\n",
              "       'secondary_cleaner.state.floatbank4_b_air',\n",
              "       'secondary_cleaner.state.floatbank4_b_level',\n",
              "       'secondary_cleaner.state.floatbank5_a_air',\n",
              "       'secondary_cleaner.state.floatbank5_a_level',\n",
              "       'secondary_cleaner.state.floatbank5_b_air',\n",
              "       'secondary_cleaner.state.floatbank5_b_level',\n",
              "       'secondary_cleaner.state.floatbank6_a_air',\n",
              "       'secondary_cleaner.state.floatbank6_a_level'],\n",
              "      dtype='object')"
            ]
          },
          "execution_count": 37,
          "metadata": {},
          "output_type": "execute_result"
        }
      ],
      "source": [
        "test_features = good_gold_recovery_test.drop('date', axis=1)\n",
        "test_features.columns"
      ]
    },
    {
      "cell_type": "code",
      "execution_count": null,
      "metadata": {
        "scrolled": true,
        "id": "St2taRVA8FFS",
        "outputId": "012c3dfe-480a-4f17-d9a9-c1c4ce225773"
      },
      "outputs": [
        {
          "name": "stdout",
          "output_type": "stream",
          "text": [
            "{'primary_cleaner.state.floatbank8_d_level', 'primary_cleaner.input.feed_size', 'primary_cleaner.input.depressant', 'primary_cleaner.state.floatbank8_a_air', 'primary_cleaner.state.floatbank8_d_air', 'secondary_cleaner.state.floatbank4_b_air', 'secondary_cleaner.state.floatbank5_a_air', 'primary_cleaner.state.floatbank8_c_air', 'secondary_cleaner.state.floatbank6_a_level', 'secondary_cleaner.state.floatbank4_a_level', 'secondary_cleaner.state.floatbank3_a_level', 'secondary_cleaner.state.floatbank2_a_air', 'secondary_cleaner.state.floatbank2_b_air', 'secondary_cleaner.state.floatbank5_a_level', 'secondary_cleaner.state.floatbank4_a_air', 'secondary_cleaner.state.floatbank6_a_air', 'secondary_cleaner.state.floatbank3_a_air', 'primary_cleaner.input.xanthate', 'primary_cleaner.state.floatbank8_c_level', 'secondary_cleaner.state.floatbank2_a_level', 'primary_cleaner.state.floatbank8_b_air', 'secondary_cleaner.state.floatbank4_b_level', 'primary_cleaner.state.floatbank8_a_level', 'secondary_cleaner.state.floatbank2_b_level', 'secondary_cleaner.state.floatbank3_b_level', 'primary_cleaner.input.sulfate', 'secondary_cleaner.state.floatbank5_b_level', 'secondary_cleaner.state.floatbank5_b_air', 'secondary_cleaner.state.floatbank3_b_air', 'primary_cleaner.state.floatbank8_b_level'}\n"
          ]
        }
      ],
      "source": [
        "test_features_final = test_features\n",
        "columns_to_delete = set(test_features_final.columns) - rougher_features_columns\n",
        "print(columns_to_delete)\n",
        "test_features_rougher = test_features_final.drop(columns_to_delete, axis=1)"
      ]
    },
    {
      "cell_type": "code",
      "execution_count": null,
      "metadata": {
        "id": "FYDcPRA58FFT",
        "outputId": "6af9304e-0315-4e00-9ecb-be546ae4c225"
      },
      "outputs": [
        {
          "data": {
            "text/plain": [
              "((5229, 22),)"
            ]
          },
          "execution_count": 39,
          "metadata": {},
          "output_type": "execute_result"
        }
      ],
      "source": [
        "test_features_rougher.shape, "
      ]
    },
    {
      "cell_type": "markdown",
      "metadata": {
        "id": "n-p_vZ6F8FFT"
      },
      "source": [
        "Функция вычисления симметричного среднего абсолютного процентного отклонения."
      ]
    },
    {
      "cell_type": "code",
      "execution_count": null,
      "metadata": {
        "scrolled": false,
        "id": "61bkRE-U8FFT"
      },
      "outputs": [],
      "source": [
        "def sMAPE_score(rougher_recovery_real, rougher_recovery_predicted, final_recovery_real, final_recovery_predicted):\n",
        "    n = rougher_recovery_real.shape[0]\n",
        "    rougher_sMAPE = ((2*abs(rougher_recovery_real - rougher_recovery_predicted)/\n",
        "                     (abs(rougher_recovery_real) + abs(rougher_recovery_predicted))).sum() * 100 / n)\n",
        "    final_sMAPE = ((2*abs(final_recovery_real - final_recovery_predicted)/\n",
        "                     (abs(final_recovery_real) + abs(final_recovery_predicted))).sum() * 100 / n)\n",
        "    return rougher_sMAPE * 0.25 + final_sMAPE * 0.75"
      ]
    },
    {
      "cell_type": "raw",
      "metadata": {
        "id": "WKKWCkRO8FFU"
      },
      "source": [
        "Перед нами стоит задача регресии. Выберем следующие модели для обучения:\n",
        "\n",
        "* Линейная регрессия\n",
        "* Полиноминальная регрессия. Применется на линейной регрессии с подготовленными признаками\n",
        "* Регрессия Ridge\n",
        "* DecisionTreeRegressor\n",
        "\n",
        "Выполним поиск лучшей модели для предсказаний:"
      ]
    },
    {
      "cell_type": "code",
      "execution_count": null,
      "metadata": {
        "scrolled": false,
        "id": "nitKvgth8FFU",
        "outputId": "633af532-d6aa-4ff1-b0dd-1b86298c55c0"
      },
      "outputs": [
        {
          "name": "stdout",
          "output_type": "stream",
          "text": [
            "Mean R2 from CV of LinearRegression = -0.1945534942868888\n",
            "Mean MAE from CV of LinearRegression = -5.903842205297219\n",
            "CPU times: user 1.04 s, sys: 993 ms, total: 2.03 s\n",
            "Wall time: 1.97 s\n"
          ]
        }
      ],
      "source": [
        "%%time\n",
        "\n",
        "regressor = LinearRegression()\n",
        "print('Mean R2 from CV of LinearRegression =', cross_val_score(regressor, train_features_final, train_target_final, cv=5).mean())\n",
        "print('Mean MAE from CV of LinearRegression =', cross_val_score(regressor, train_features_final, train_target_final, cv=5, scoring='neg_mean_absolute_error').mean())"
      ]
    },
    {
      "cell_type": "markdown",
      "metadata": {
        "id": "znYtZ1Jp8FFV"
      },
      "source": [
        "Проверю влияние масштаба признаков на качество модели."
      ]
    },
    {
      "cell_type": "code",
      "execution_count": null,
      "metadata": {
        "scrolled": false,
        "id": "T5u5ULZO8FFV",
        "outputId": "8d14a137-c589-4748-e5b6-c89d490aeb99"
      },
      "outputs": [
        {
          "name": "stdout",
          "output_type": "stream",
          "text": [
            "Mean R2 from CV of LinearRegression = -0.19455349428688734\n",
            "Mean MAE from CV of LinearRegression = -5.903842205297211\n",
            "CPU times: user 1.4 s, sys: 1.42 s, total: 2.81 s\n",
            "Wall time: 2.8 s\n"
          ]
        }
      ],
      "source": [
        "%%time\n",
        "\n",
        "regressor = LinearRegression()\n",
        "scaller = StandardScaler()\n",
        "pipeline = Pipeline([(\"standard_scaller\", scaller),(\"linear_regression\", regressor)])\n",
        "print('Mean R2 from CV of LinearRegression =', cross_val_score(pipeline, train_features_final, train_target_final, cv=5).mean())\n",
        "print('Mean MAE from CV of LinearRegression =', cross_val_score(pipeline, train_features_final, train_target_final, cv=5, scoring='neg_mean_absolute_error').mean())"
      ]
    },
    {
      "cell_type": "markdown",
      "metadata": {
        "id": "sIHQvPis8FFV"
      },
      "source": [
        "Масштаб признаков не влияет."
      ]
    },
    {
      "cell_type": "code",
      "execution_count": null,
      "metadata": {
        "scrolled": false,
        "id": "uFoftYMs8FFV",
        "outputId": "7724b6af-35b4-4aa3-a5b2-292429819b1a"
      },
      "outputs": [
        {
          "name": "stdout",
          "output_type": "stream",
          "text": [
            "Mean R2 from CV of PolynomialRegression with 2 degree = -53.896531722466406\n",
            "Mean MAE from CV of PolynomialRegression with 2 degree = -31.701197423608\n",
            "CPU times: user 1min 22s, sys: 31.7 s, total: 1min 53s\n",
            "Wall time: 1min 54s\n"
          ]
        }
      ],
      "source": [
        "%%time\n",
        "\n",
        "regressor = LinearRegression()\n",
        "polynomial_features = PolynomialFeatures(degree=2, include_bias=False)\n",
        "pipeline = Pipeline([(\"polynomial_features\", polynomial_features),(\"linear_regression\", regressor)])\n",
        "print('Mean R2 from CV of PolynomialRegression with 2 degree =', cross_val_score(pipeline, train_features_final, train_target_final, cv=5).mean())\n",
        "print('Mean MAE from CV of PolynomialRegression with 2 degree =', cross_val_score(pipeline, train_features_final, train_target_final, cv=5, scoring='neg_mean_absolute_error').mean())"
      ]
    },
    {
      "cell_type": "markdown",
      "metadata": {
        "id": "8I9m6deD8FFV"
      },
      "source": [
        "Для регрессоров Ridge и DecisionTreeRegressor применим метод GridSearchCV. \n",
        "\n",
        "В нем уже вложена кросс-валидация."
      ]
    },
    {
      "cell_type": "code",
      "execution_count": null,
      "metadata": {
        "scrolled": false,
        "id": "NrKAnHBb8FFW",
        "outputId": "ca40b7a2-84a7-49ac-de13-0d82d9bd1f9f"
      },
      "outputs": [
        {
          "name": "stdout",
          "output_type": "stream",
          "text": [
            "# Tuning hyper-parameters for r2\n",
            "\n",
            "Best parameters set found on development set:\n",
            "\n",
            "{'alpha': 100, 'solver': 'sparse_cg'}\n",
            "\n",
            "Grid scores on development set:\n",
            "\n",
            "-0.195 (+/-0.649) for {'alpha': 0.1, 'solver': 'auto'}\n",
            "-0.194 (+/-0.649) for {'alpha': 1, 'solver': 'auto'}\n",
            "-0.194 (+/-0.647) for {'alpha': 10, 'solver': 'auto'}\n",
            "-0.187 (+/-0.628) for {'alpha': 100, 'solver': 'auto'}\n",
            "-0.195 (+/-0.649) for {'alpha': 0.1, 'solver': 'svd'}\n",
            "-0.194 (+/-0.649) for {'alpha': 1, 'solver': 'svd'}\n",
            "-0.194 (+/-0.647) for {'alpha': 10, 'solver': 'svd'}\n",
            "-0.187 (+/-0.628) for {'alpha': 100, 'solver': 'svd'}\n",
            "-0.195 (+/-0.649) for {'alpha': 0.1, 'solver': 'cholesky'}\n",
            "-0.194 (+/-0.649) for {'alpha': 1, 'solver': 'cholesky'}\n",
            "-0.194 (+/-0.647) for {'alpha': 10, 'solver': 'cholesky'}\n",
            "-0.187 (+/-0.628) for {'alpha': 100, 'solver': 'cholesky'}\n",
            "-0.232 (+/-0.371) for {'alpha': 0.1, 'solver': 'lsqr'}\n",
            "-0.232 (+/-0.371) for {'alpha': 1, 'solver': 'lsqr'}\n",
            "-0.232 (+/-0.371) for {'alpha': 10, 'solver': 'lsqr'}\n",
            "-0.232 (+/-0.371) for {'alpha': 100, 'solver': 'lsqr'}\n",
            "-0.204 (+/-0.518) for {'alpha': 0.1, 'solver': 'sparse_cg'}\n",
            "-0.203 (+/-0.617) for {'alpha': 1, 'solver': 'sparse_cg'}\n",
            "-0.189 (+/-0.518) for {'alpha': 10, 'solver': 'sparse_cg'}\n",
            "-0.180 (+/-0.520) for {'alpha': 100, 'solver': 'sparse_cg'}\n",
            "\n",
            "# Tuning hyper-parameters for neg_mean_absolute_error\n",
            "\n",
            "Best parameters set found on development set:\n",
            "\n",
            "{'alpha': 100, 'solver': 'sparse_cg'}\n",
            "\n",
            "Grid scores on development set:\n",
            "\n",
            "-5.904 (+/-2.216) for {'alpha': 0.1, 'solver': 'auto'}\n",
            "-5.904 (+/-2.215) for {'alpha': 1, 'solver': 'auto'}\n",
            "-5.901 (+/-2.209) for {'alpha': 10, 'solver': 'auto'}\n",
            "-5.881 (+/-2.151) for {'alpha': 100, 'solver': 'auto'}\n",
            "-5.904 (+/-2.216) for {'alpha': 0.1, 'solver': 'svd'}\n",
            "-5.904 (+/-2.215) for {'alpha': 1, 'solver': 'svd'}\n",
            "-5.901 (+/-2.209) for {'alpha': 10, 'solver': 'svd'}\n",
            "-5.881 (+/-2.151) for {'alpha': 100, 'solver': 'svd'}\n",
            "-5.904 (+/-2.216) for {'alpha': 0.1, 'solver': 'cholesky'}\n",
            "-5.904 (+/-2.215) for {'alpha': 1, 'solver': 'cholesky'}\n",
            "-5.901 (+/-2.209) for {'alpha': 10, 'solver': 'cholesky'}\n",
            "-5.881 (+/-2.151) for {'alpha': 100, 'solver': 'cholesky'}\n",
            "-6.078 (+/-1.507) for {'alpha': 0.1, 'solver': 'lsqr'}\n",
            "-6.078 (+/-1.507) for {'alpha': 1, 'solver': 'lsqr'}\n",
            "-6.078 (+/-1.507) for {'alpha': 10, 'solver': 'lsqr'}\n",
            "-6.078 (+/-1.508) for {'alpha': 100, 'solver': 'lsqr'}\n",
            "-5.897 (+/-1.683) for {'alpha': 0.1, 'solver': 'sparse_cg'}\n",
            "-5.902 (+/-2.055) for {'alpha': 1, 'solver': 'sparse_cg'}\n",
            "-5.866 (+/-1.628) for {'alpha': 10, 'solver': 'sparse_cg'}\n",
            "-5.836 (+/-1.748) for {'alpha': 100, 'solver': 'sparse_cg'}\n",
            "\n",
            "CPU times: user 20.5 s, sys: 21.6 s, total: 42.1 s\n",
            "Wall time: 42.2 s\n"
          ]
        }
      ],
      "source": [
        "%%time\n",
        "\n",
        "regressor = Ridge()\n",
        "hyperparams = [{'alpha':[0.1, 1, 10, 100], 'solver':['auto']},\n",
        "                 {'alpha':[0.1, 1, 10, 100], 'solver':['svd']}, \n",
        "                 {'alpha':[0.1, 1, 10, 100], 'solver':['cholesky']},\n",
        "                 {'alpha':[0.1, 1, 10, 100], 'solver':['lsqr']}, \n",
        "                 {'alpha':[0.1, 1, 10, 100], 'solver':['sparse_cg']}]\n",
        "\n",
        "scores = ['r2', 'neg_mean_absolute_error']\n",
        "\n",
        "for score in scores:\n",
        "    print('# Tuning hyper-parameters for %s' % score)\n",
        "    print()\n",
        "    clf = GridSearchCV(regressor, hyperparams, scoring=score)\n",
        "    clf.fit(train_features_final, train_target_final)\n",
        "    print(\"Best parameters set found on development set:\")\n",
        "    print()\n",
        "    print(clf.best_params_)\n",
        "    print()\n",
        "    print(\"Grid scores on development set:\")\n",
        "    print()\n",
        "    means = clf.cv_results_['mean_test_score']\n",
        "    stds = clf.cv_results_['std_test_score']\n",
        "    for mean, std, params in zip(means, stds, clf.cv_results_['params']):\n",
        "        print(\"%0.3f (+/-%0.03f) for %r\"% (mean, std * 2, params))\n",
        "    print()"
      ]
    },
    {
      "cell_type": "code",
      "execution_count": null,
      "metadata": {
        "scrolled": false,
        "id": "mqqDo3EJ8FFW",
        "outputId": "b43489be-3e6c-48c4-a472-0541ce2fd856"
      },
      "outputs": [
        {
          "name": "stdout",
          "output_type": "stream",
          "text": [
            "# Tuning hyper-parameters\n",
            "\n",
            "Best parameters set found on development set:\n",
            "\n",
            "{'criterion': 'mae', 'max_depth': 2, 'random_state': 26032022}\n",
            "\n",
            "Grid scores on development set:\n",
            "\n",
            "-0.235 (+/-0.384) for {'criterion': 'mse', 'max_depth': 2, 'random_state': 26032022}\n",
            "-0.305 (+/-0.563) for {'criterion': 'mse', 'max_depth': 4, 'random_state': 26032022}\n",
            "-0.493 (+/-0.675) for {'criterion': 'mse', 'max_depth': 6, 'random_state': 26032022}\n",
            "-1.020 (+/-1.354) for {'criterion': 'mse', 'max_depth': 8, 'random_state': 26032022}\n",
            "-1.082 (+/-1.677) for {'criterion': 'mse', 'max_depth': 10, 'random_state': 26032022}\n",
            "-1.242 (+/-1.528) for {'criterion': 'mse', 'max_depth': 12, 'random_state': 26032022}\n",
            "-1.808 (+/-1.632) for {'criterion': 'mse', 'max_depth': 14, 'random_state': 26032022}\n",
            "-1.641 (+/-2.014) for {'criterion': 'mse', 'max_depth': 16, 'random_state': 26032022}\n",
            "-1.570 (+/-1.587) for {'criterion': 'mse', 'max_depth': 18, 'random_state': 26032022}\n",
            "-1.618 (+/-1.826) for {'criterion': 'mse', 'max_depth': 20, 'random_state': 26032022}\n",
            "-0.030 (+/-0.238) for {'criterion': 'mae', 'max_depth': 2, 'random_state': 26032022}\n",
            "-0.295 (+/-0.315) for {'criterion': 'mae', 'max_depth': 4, 'random_state': 26032022}\n",
            "-0.383 (+/-0.479) for {'criterion': 'mae', 'max_depth': 6, 'random_state': 26032022}\n",
            "-0.987 (+/-2.003) for {'criterion': 'mae', 'max_depth': 8, 'random_state': 26032022}\n",
            "-1.607 (+/-2.603) for {'criterion': 'mae', 'max_depth': 10, 'random_state': 26032022}\n",
            "-1.675 (+/-2.569) for {'criterion': 'mae', 'max_depth': 12, 'random_state': 26032022}\n",
            "-1.692 (+/-2.205) for {'criterion': 'mae', 'max_depth': 14, 'random_state': 26032022}\n",
            "-1.968 (+/-1.983) for {'criterion': 'mae', 'max_depth': 16, 'random_state': 26032022}\n",
            "-1.712 (+/-2.270) for {'criterion': 'mae', 'max_depth': 18, 'random_state': 26032022}\n",
            "-2.048 (+/-2.519) for {'criterion': 'mae', 'max_depth': 20, 'random_state': 26032022}\n",
            "\n",
            "CPU times: user 14min 49s, sys: 0 ns, total: 14min 49s\n",
            "Wall time: 14min 49s\n"
          ]
        }
      ],
      "source": [
        "%%time\n",
        "\n",
        "regressor = DecisionTreeRegressor() \n",
        "max_depth_list = [x for x in range(2, 21, 2)]\n",
        "hyperparams = [{'criterion':['mse'], 'max_depth':max_depth_list, 'random_state':[26032022]},\n",
        "               {'criterion':['mae'], 'max_depth':max_depth_list, 'random_state':[26032022]}]\n",
        "\n",
        "print('# Tuning hyper-parameters')\n",
        "print()\n",
        "clf = GridSearchCV(regressor, hyperparams)\n",
        "clf.fit(train_features_final, train_target_final)\n",
        "print(\"Best parameters set found on development set:\")\n",
        "print()\n",
        "print(clf.best_params_)\n",
        "print()\n",
        "print(\"Grid scores on development set:\")\n",
        "print()\n",
        "means = clf.cv_results_['mean_test_score']\n",
        "stds = clf.cv_results_['std_test_score']\n",
        "for mean, std, params in zip(means, stds, clf.cv_results_['params']):\n",
        "    print(\"%0.3f (+/-%0.03f) for %r\"% (mean, std * 2, params))\n",
        "print()"
      ]
    },
    {
      "cell_type": "markdown",
      "metadata": {
        "id": "2ZmDVdAS8FFW"
      },
      "source": [
        "У нас в строках есть параметр date, который является уникальным для каждой строки, и воспользовавшись объединением по дате можно присоединить к строкам теста правильные значения таргетов."
      ]
    },
    {
      "cell_type": "markdown",
      "metadata": {
        "id": "ijJ6JEbM8FFW"
      },
      "source": [
        "Проверю лучшие модели по метрикам на созданной метрике sMAPE. Проверим реальные данные."
      ]
    },
    {
      "cell_type": "code",
      "execution_count": null,
      "metadata": {
        "scrolled": false,
        "id": "a7J1Uo-y8FFX",
        "outputId": "b19550d5-0b6b-49f6-e55c-0e4502da9c29"
      },
      "outputs": [
        {
          "name": "stdout",
          "output_type": "stream",
          "text": [
            "Процент пропусков в общей выборке 0.0\n",
            "Процент пропусков в общей выборке 0.0\n"
          ]
        }
      ],
      "source": [
        "rougher_recovery_real = gold_recovery_full.loc[test_features_rougher.index,'rougher.output.recovery']\n",
        "final_recovery_real = gold_recovery_full.loc[test_features_rougher.index,'final.output.recovery']\n",
        "print('Процент пропусков в общей выборке' ,rougher_recovery_real.isna().mean())\n",
        "print('Процент пропусков в общей выборке',final_recovery_real.isna().mean())"
      ]
    },
    {
      "cell_type": "code",
      "execution_count": null,
      "metadata": {
        "id": "Za4L84Rq8FFX",
        "outputId": "4d4d1077-7b89-4ff4-ed03-a9fd6f3e1296"
      },
      "outputs": [
        {
          "data": {
            "text/plain": [
              "(0       87.107763\n",
              " 1       86.843261\n",
              " 2       86.842308\n",
              " 3       87.226430\n",
              " 4       86.688794\n",
              "           ...    \n",
              " 5285    87.837931\n",
              " 5286    88.164912\n",
              " 5287    86.169553\n",
              " 5288    87.176137\n",
              " 5289    87.908066\n",
              " Name: rougher.output.recovery, Length: 5229, dtype: float64,\n",
              " 0       70.541216\n",
              " 1       69.266198\n",
              " 2       68.116445\n",
              " 3       68.347543\n",
              " 4       66.927016\n",
              "           ...    \n",
              " 5285    64.948104\n",
              " 5286    69.161741\n",
              " 5287    68.821663\n",
              " 5288    65.828202\n",
              " 5289    66.985033\n",
              " Name: final.output.recovery, Length: 5229, dtype: float64)"
            ]
          },
          "execution_count": 50,
          "metadata": {},
          "output_type": "execute_result"
        }
      ],
      "source": [
        "rougher_recovery_real, final_recovery_real"
      ]
    },
    {
      "cell_type": "markdown",
      "metadata": {
        "id": "U2pVHqQj8FFb"
      },
      "source": [
        "В реальной таблице отсутсвуют зачения для выборки. Они будут игнорироваться при расчете sMAPE."
      ]
    },
    {
      "cell_type": "code",
      "execution_count": null,
      "metadata": {
        "scrolled": false,
        "id": "cvOPDBeJ8FFb",
        "outputId": "0bfeffeb-890b-4feb-e58f-dc900486c32a"
      },
      "outputs": [
        {
          "name": "stdout",
          "output_type": "stream",
          "text": [
            "sMAPE для линейной регресии 12.623643558078971\n",
            "sMAPE для полиноминальной регресии 25.956157601718623\n",
            "sMAPE для регресии Ridge 12.495231980680684\n",
            "sMAPE для DecisionTreeRegressor 12.94752083927472\n",
            "CPU times: user 38.8 s, sys: 0 ns, total: 38.8 s\n",
            "Wall time: 38.9 s\n"
          ]
        }
      ],
      "source": [
        "%%time\n",
        "\n",
        "model = LinearRegression()\n",
        "model.fit(train_features_rougher, train_target_rougher)\n",
        "rougher_recovery_predicted = model.predict(test_features_rougher)\n",
        "model.fit(train_features_final, train_target_final)\n",
        "final_recovery_predicted = model.predict(test_features_final)\n",
        "print('sMAPE для линейной регресии',sMAPE_score(rougher_recovery_real, rougher_recovery_predicted, final_recovery_real, final_recovery_predicted))\n",
        "\n",
        "regressor = LinearRegression()\n",
        "polynomial_features = PolynomialFeatures(degree=2, include_bias=False)\n",
        "model = Pipeline([(\"polynomial_features\", polynomial_features),(\"linear_regression\", regressor)])\n",
        "model.fit(train_features_rougher, train_target_rougher)\n",
        "rougher_recovery_predicted = model.predict(test_features_rougher)\n",
        "model.fit(train_features_final, train_target_final)\n",
        "final_recovery_predicted = model.predict(test_features_final)\n",
        "print('sMAPE для полиноминальной регресии',sMAPE_score(rougher_recovery_real, rougher_recovery_predicted, final_recovery_real, final_recovery_predicted))\n",
        "\n",
        "model = Ridge(alpha=100, solver='sparse_cg')\n",
        "model.fit(train_features_rougher, train_target_rougher)\n",
        "rougher_recovery_predicted = model.predict(test_features_rougher)\n",
        "model.fit(train_features_final, train_target_final)\n",
        "final_recovery_predicted = model.predict(test_features_final)\n",
        "print('sMAPE для регресии Ridge',sMAPE_score(rougher_recovery_real, rougher_recovery_predicted, final_recovery_real, final_recovery_predicted))\n",
        "\n",
        "model = DecisionTreeRegressor(criterion='mae', max_depth=2, random_state=26032022)\n",
        "model.fit(train_features_rougher, train_target_rougher)\n",
        "rougher_recovery_predicted = model.predict(test_features_rougher)\n",
        "model.fit(train_features_final, train_target_final)\n",
        "final_recovery_predicted = model.predict(test_features_final)\n",
        "print('sMAPE для DecisionTreeRegressor',sMAPE_score(rougher_recovery_real, rougher_recovery_predicted, final_recovery_real, final_recovery_predicted))  "
      ]
    },
    {
      "cell_type": "markdown",
      "metadata": {
        "id": "fNN8ZmzH8FFc"
      },
      "source": [
        "Создам константную модель на медианных значений. \n",
        "\n",
        "Изменим код функции для подсчета."
      ]
    },
    {
      "cell_type": "code",
      "execution_count": null,
      "metadata": {
        "scrolled": false,
        "id": "PZvATAj38FFc",
        "outputId": "58f73d3e-45b6-4f43-eae3-4944a3707da8"
      },
      "outputs": [
        {
          "name": "stdout",
          "output_type": "stream",
          "text": [
            "sMAPE для медианной константной модели 11.679754848001743\n"
          ]
        }
      ],
      "source": [
        "median_rougher_recovery = gold_recovery_full['rougher.output.recovery'].median()\n",
        "median_final_recovery = gold_recovery_full['final.output.recovery'].median()\n",
        "\n",
        "n = rougher_recovery_real.shape[0]\n",
        "rougher_sMAPE = ((2*abs(rougher_recovery_real - median_rougher_recovery)/\n",
        "                     (abs(rougher_recovery_real) + abs(median_rougher_recovery))).sum() * 100 / n)\n",
        "final_sMAPE = ((2*abs(final_recovery_real - median_final_recovery)/\n",
        "                     (abs(final_recovery_real) + abs(median_final_recovery))).sum() * 100 / n)\n",
        "print('sMAPE для медианной константной модели', rougher_sMAPE * 0.25 + final_sMAPE * 0.75)"
      ]
    },
    {
      "cell_type": "markdown",
      "metadata": {
        "id": "r2AfhnLg8FFc"
      },
      "source": [
        "Проведу сокращение тестовой выборки из-за пропущенных значений rougher.output.recovery и final.output.recovery в полном датафрейме. \n",
        "\n",
        "Для вычисления sMAPE длина и индексы всех серий должны быть одинаковы."
      ]
    },
    {
      "cell_type": "code",
      "execution_count": null,
      "metadata": {
        "scrolled": false,
        "id": "4qbi2Rh78FFc",
        "outputId": "6f35f079-88d7-43e0-9f3d-c3aeff2e4b60"
      },
      "outputs": [
        {
          "name": "stdout",
          "output_type": "stream",
          "text": [
            "Количество строк rougher_recovery_real = 5229\n",
            "Количество строк final_recovery_real = 5229\n",
            "Количество строк test_features_rougher = 5229\n",
            "Количество индексов с полными данными= 5229\n"
          ]
        }
      ],
      "source": [
        "rougher_recovery_real.dropna(inplace=True)\n",
        "print('Количество строк rougher_recovery_real =', rougher_recovery_real.shape[0])\n",
        "final_recovery_real.dropna(inplace=True)\n",
        "print('Количество строк final_recovery_real =', final_recovery_real.shape[0])\n",
        "print('Количество строк test_features_rougher =', test_features_rougher.shape[0])\n",
        "\n",
        "not_nan_index = set(test_features_rougher.index)\n",
        "not_nan_index = not_nan_index.intersection(set(final_recovery_real.index), set(rougher_recovery_real.index))\n",
        "print('Количество индексов с полными данными=', len(not_nan_index))"
      ]
    },
    {
      "cell_type": "markdown",
      "metadata": {
        "id": "1HqmhkYO8FFc"
      },
      "source": [
        "Преобразую количество данных тестовой выбоки и рельных так, чтобы не было NaN."
      ]
    },
    {
      "cell_type": "code",
      "execution_count": null,
      "metadata": {
        "scrolled": false,
        "id": "KG_kTPjW8FFd",
        "outputId": "32c4157b-a865-4343-afea-495a3daa87d6"
      },
      "outputs": [
        {
          "name": "stdout",
          "output_type": "stream",
          "text": [
            "Количество строк test_features_final = 5229\n"
          ]
        }
      ],
      "source": [
        "rougher_recovery_real = gold_recovery_full.loc[not_nan_index,'rougher.output.recovery']\n",
        "final_recovery_real = gold_recovery_full.loc[not_nan_index,'final.output.recovery']\n",
        "test_features_rougher = test_features_rougher.loc[not_nan_index,:]\n",
        "test_features_final = test_features_final.loc[not_nan_index,:]\n",
        "print('Количество строк test_features_final =', test_features_final.shape[0])"
      ]
    },
    {
      "cell_type": "markdown",
      "metadata": {
        "id": "C8wv87iO8FFd"
      },
      "source": [
        "Повторим получение sMAPE на тех же моделях."
      ]
    },
    {
      "cell_type": "code",
      "execution_count": null,
      "metadata": {
        "scrolled": false,
        "id": "jwoKDcPM8FFd",
        "outputId": "8049a52b-3710-4a4f-bff8-f79f414cc763"
      },
      "outputs": [
        {
          "name": "stdout",
          "output_type": "stream",
          "text": [
            "sMAPE для линейной регресии 12.623643558078971\n",
            "sMAPE для полиноминальной регресии 25.956157601718623\n",
            "sMAPE для регресии Ridge 12.495231980680684\n",
            "sMAPE для DecisionTreeRegressor 12.94752083927472\n",
            "sMAPE для медианной константной модели 11.679754848001743\n",
            "CPU times: user 38.6 s, sys: 0 ns, total: 38.6 s\n",
            "Wall time: 38.7 s\n"
          ]
        }
      ],
      "source": [
        "%%time\n",
        "\n",
        "model = LinearRegression()\n",
        "model.fit(train_features_rougher, train_target_rougher)\n",
        "rougher_recovery_predicted = model.predict(test_features_rougher)\n",
        "model.fit(train_features_final, train_target_final)\n",
        "final_recovery_predicted = model.predict(test_features_final)\n",
        "print('sMAPE для линейной регресии',sMAPE_score(rougher_recovery_real, rougher_recovery_predicted, final_recovery_real, final_recovery_predicted))\n",
        "\n",
        "regressor = LinearRegression()\n",
        "polynomial_features = PolynomialFeatures(degree=2, include_bias=False)\n",
        "model = Pipeline([(\"polynomial_features\", polynomial_features),(\"linear_regression\", regressor)])\n",
        "model.fit(train_features_rougher, train_target_rougher)\n",
        "rougher_recovery_predicted = model.predict(test_features_rougher)\n",
        "model.fit(train_features_final, train_target_final)\n",
        "final_recovery_predicted = model.predict(test_features_final)\n",
        "print('sMAPE для полиноминальной регресии',sMAPE_score(rougher_recovery_real, rougher_recovery_predicted, final_recovery_real, final_recovery_predicted))\n",
        "\n",
        "model = Ridge(alpha=100, solver='sparse_cg')\n",
        "model.fit(train_features_rougher, train_target_rougher)\n",
        "rougher_recovery_predicted = model.predict(test_features_rougher)\n",
        "model.fit(train_features_final, train_target_final)\n",
        "final_recovery_predicted = model.predict(test_features_final)\n",
        "print('sMAPE для регресии Ridge',sMAPE_score(rougher_recovery_real, rougher_recovery_predicted, final_recovery_real, final_recovery_predicted))\n",
        "\n",
        "model = DecisionTreeRegressor(criterion='mae', max_depth=2, random_state=26032022)\n",
        "model.fit(train_features_rougher, train_target_rougher)\n",
        "rougher_recovery_predicted = model.predict(test_features_rougher)\n",
        "model.fit(train_features_final, train_target_final)\n",
        "final_recovery_predicted = model.predict(test_features_final)\n",
        "print('sMAPE для DecisionTreeRegressor',sMAPE_score(rougher_recovery_real, rougher_recovery_predicted, final_recovery_real, final_recovery_predicted)) \n",
        "\n",
        "n = rougher_recovery_real.shape[0]\n",
        "rougher_sMAPE = ((2*abs(rougher_recovery_real - median_rougher_recovery)/\n",
        "                     (abs(rougher_recovery_real) + abs(median_rougher_recovery))).sum() * 100 / n)\n",
        "final_sMAPE = ((2*abs(final_recovery_real - median_final_recovery)/\n",
        "                     (abs(final_recovery_real) + abs(median_final_recovery))).sum() * 100 / n)\n",
        "print('sMAPE для медианной константной модели', rougher_sMAPE * 0.25 + final_sMAPE * 0.75)"
      ]
    },
    {
      "cell_type": "markdown",
      "metadata": {
        "id": "IYb-CeXz8FFe"
      },
      "source": [
        ""
      ]
    },
    {
      "cell_type": "markdown",
      "metadata": {
        "id": "DWywMZqg8FFe"
      },
      "source": [
        "Сравниваю модель Ridge c медианной константной по метрикам R2 и MAE. проверим показания на final_recovery_real."
      ]
    },
    {
      "cell_type": "code",
      "execution_count": null,
      "metadata": {
        "scrolled": false,
        "id": "9NDTWip-8FFe",
        "outputId": "22e8c850-8b7f-4d71-bb95-1a974a9583d3"
      },
      "outputs": [
        {
          "name": "stdout",
          "output_type": "stream",
          "text": [
            "R2 Ridge model = -0.3229599056699739\n",
            "MAE Ridge model = 7.512192786317186\n",
            "\n",
            "R2 constant model = -0.15530194696012067\n",
            "MAE constant model = 6.706628293443592\n"
          ]
        }
      ],
      "source": [
        "model = Ridge(alpha=100, solver='sparse_cg')\n",
        "model.fit(train_features_final, train_target_final)\n",
        "final_recovery_predicted = model.predict(test_features_final)\n",
        "print('R2 Ridge model =', r2_score(final_recovery_real, final_recovery_predicted))\n",
        "print('MAE Ridge model =', mean_absolute_error(final_recovery_real, final_recovery_predicted))\n",
        "print()\n",
        "\n",
        "final_median_predict = pd.Series(median_final_recovery, index=not_nan_index)\n",
        "print('R2 constant model =', r2_score(final_recovery_real, final_median_predict))\n",
        "print('MAE constant model =', mean_absolute_error(final_recovery_real, final_median_predict))"
      ]
    },
    {
      "cell_type": "markdown",
      "metadata": {
        "id": "csg__C3h8FFe"
      },
      "source": [
        "### Вывод\n",
        "\n",
        "Была написана функция для вычисления sMAPE. Каждая модель была изучена на качество с помощью методов кросс-валидации и поиска гипер параметром GridSearchCV.\n",
        "\n",
        "Была отобрана лучшая модель - Ridge. Ее значение sMAPE самое низкое. (13.186), кроме sMAPE для медианной константной модели 12.24\n",
        "\n",
        "После удаления значений NaN модель изменила свои значения. В полных данных отсутвует 14% и 10% данных по предсказаниям, возможно это повлияло на качество модели."
      ]
    },
    {
      "cell_type": "markdown",
      "metadata": {
        "id": "shhJxaYy8FFf"
      },
      "source": [
        "## Итоговый вывод\n",
        "\n",
        "В ходе работы было выполнено:\n",
        "\n",
        "* Подготовлены данные.\n",
        "* Проведен исследовательский анализ данных.\n",
        "* Построена и обучена модель.\n",
        "\n",
        "\n",
        "* Регрессор Ridge показал себя лучше обычной линейной регресии. \n",
        "* sMAPE показал 11.44 до того как убрать пропущенные значения, и 12.24 после. \n",
        "\n",
        "Если сравнивать с константной моделью, значение проигрывает -0.36 и -0.17. Другие метрики тоже говорят о том, что константная модель адекватнее выбранной."
      ]
    },
    {
      "cell_type": "code",
      "execution_count": null,
      "metadata": {
        "id": "ZxyHKiu28FFf"
      },
      "outputs": [],
      "source": [
        ""
      ]
    },
    {
      "cell_type": "markdown",
      "metadata": {
        "id": "FwtTKiPG8FFg"
      },
      "source": [
        "## Чек-лист готовности проекта"
      ]
    },
    {
      "cell_type": "markdown",
      "metadata": {
        "id": "NTxhLbwc8FFg"
      },
      "source": [
        "- [x]  Jupyter Notebook открыт\n",
        "- [x]  Весь код выполняется без ошибок\n",
        "- [x]  Ячейки с кодом расположены в порядке выполнения\n",
        "- [x]  Выполнен шаг 1: данные подготовлены\n",
        "    - [x]  Проверена формула вычисления эффективности обогащения\n",
        "    - [x]  Проанализированы признаки, недоступные в тестовой выборке\n",
        "    - [x]  Проведена предобработка данных\n",
        "- [x]  Выполнен шаг 2: данные проанализированы\n",
        "    - [x]  Исследовано изменение концентрации элементов на каждом этапе\n",
        "    - [x]  Проанализированы распределения размеров гранул на обучающей и тестовой выборках\n",
        "    - [x]  Исследованы суммарные концентрации\n",
        "- [x]  Выполнен шаг 3: построена модель прогнозирования\n",
        "    - [x]  Написана функция для вычисления итогового *sMAPE*\n",
        "    - [x]  Обучено и проверено несколько моделей\n",
        "    - [x]  Выбрана лучшая модель, её качество проверено на тестовой выборке"
      ]
    },
    {
      "cell_type": "code",
      "execution_count": null,
      "metadata": {
        "id": "D41FxHFi8FFg"
      },
      "outputs": [],
      "source": [
        ""
      ]
    }
  ],
  "metadata": {
    "ExecuteTimeLog": [
      {
        "duration": 1684,
        "start_time": "2022-03-26T19:43:20.289Z"
      },
      {
        "duration": 8584,
        "start_time": "2022-03-26T19:45:32.056Z"
      },
      {
        "duration": 275,
        "start_time": "2022-03-26T19:46:30.237Z"
      },
      {
        "duration": 88,
        "start_time": "2022-03-26T19:46:35.667Z"
      },
      {
        "duration": 374,
        "start_time": "2022-03-26T19:46:44.482Z"
      },
      {
        "duration": 4,
        "start_time": "2022-03-26T19:47:30.932Z"
      },
      {
        "duration": 115,
        "start_time": "2022-03-26T19:47:41.707Z"
      },
      {
        "duration": 47,
        "start_time": "2022-03-26T19:48:02.576Z"
      },
      {
        "duration": 121,
        "start_time": "2022-03-26T19:48:13.343Z"
      },
      {
        "duration": 33,
        "start_time": "2022-03-26T19:49:06.271Z"
      },
      {
        "duration": 6,
        "start_time": "2022-03-26T19:49:16.479Z"
      },
      {
        "duration": 14,
        "start_time": "2022-03-26T19:50:25.741Z"
      },
      {
        "duration": 13,
        "start_time": "2022-03-26T19:50:35.505Z"
      },
      {
        "duration": 4,
        "start_time": "2022-03-26T19:51:42.917Z"
      },
      {
        "duration": 245,
        "start_time": "2022-03-26T19:52:27.369Z"
      },
      {
        "duration": 22,
        "start_time": "2022-03-26T19:53:09.347Z"
      },
      {
        "duration": 20,
        "start_time": "2022-03-26T19:53:27.526Z"
      },
      {
        "duration": 17,
        "start_time": "2022-03-26T19:54:04.086Z"
      },
      {
        "duration": 246,
        "start_time": "2022-03-26T19:54:23.376Z"
      },
      {
        "duration": 20,
        "start_time": "2022-03-26T19:54:40.136Z"
      },
      {
        "duration": 16,
        "start_time": "2022-03-26T19:54:57.932Z"
      },
      {
        "duration": 16,
        "start_time": "2022-03-26T19:55:09.470Z"
      },
      {
        "duration": 5,
        "start_time": "2022-03-26T19:55:42.234Z"
      },
      {
        "duration": 6,
        "start_time": "2022-03-26T19:55:51.166Z"
      },
      {
        "duration": 525,
        "start_time": "2022-03-26T19:58:21.183Z"
      },
      {
        "duration": 483,
        "start_time": "2022-03-26T19:59:06.899Z"
      },
      {
        "duration": 504,
        "start_time": "2022-03-26T19:59:56.436Z"
      },
      {
        "duration": 716,
        "start_time": "2022-03-26T20:00:36.885Z"
      },
      {
        "duration": 526,
        "start_time": "2022-03-26T20:01:12.406Z"
      },
      {
        "duration": 8,
        "start_time": "2022-03-26T20:01:48.135Z"
      },
      {
        "duration": 923,
        "start_time": "2022-03-26T20:02:04.125Z"
      },
      {
        "duration": 825,
        "start_time": "2022-03-26T20:02:54.458Z"
      },
      {
        "duration": 16,
        "start_time": "2022-03-26T20:03:31.609Z"
      },
      {
        "duration": 9,
        "start_time": "2022-03-26T20:10:20.156Z"
      },
      {
        "duration": 3,
        "start_time": "2022-03-26T20:11:01.243Z"
      },
      {
        "duration": 6,
        "start_time": "2022-03-26T20:11:26.167Z"
      },
      {
        "duration": 4,
        "start_time": "2022-03-26T20:11:53.247Z"
      },
      {
        "duration": 4,
        "start_time": "2022-03-26T20:12:38.713Z"
      },
      {
        "duration": 3358,
        "start_time": "2022-03-26T20:13:43.147Z"
      },
      {
        "duration": 3352,
        "start_time": "2022-03-26T20:14:41.158Z"
      },
      {
        "duration": 171943,
        "start_time": "2022-03-26T20:15:19.269Z"
      },
      {
        "duration": 50795,
        "start_time": "2022-03-26T20:18:11.215Z"
      },
      {
        "duration": 1518,
        "start_time": "2022-03-26T20:24:15.115Z"
      },
      {
        "duration": 313,
        "start_time": "2022-03-26T20:24:16.635Z"
      },
      {
        "duration": 85,
        "start_time": "2022-03-26T20:24:16.950Z"
      },
      {
        "duration": 373,
        "start_time": "2022-03-26T20:24:17.038Z"
      },
      {
        "duration": 4,
        "start_time": "2022-03-26T20:24:17.413Z"
      },
      {
        "duration": 119,
        "start_time": "2022-03-26T20:24:17.419Z"
      },
      {
        "duration": 66,
        "start_time": "2022-03-26T20:24:17.540Z"
      },
      {
        "duration": 143,
        "start_time": "2022-03-26T20:24:17.608Z"
      },
      {
        "duration": 26,
        "start_time": "2022-03-26T20:24:17.753Z"
      },
      {
        "duration": 23,
        "start_time": "2022-03-26T20:24:17.781Z"
      },
      {
        "duration": 21,
        "start_time": "2022-03-26T20:24:17.805Z"
      },
      {
        "duration": 12,
        "start_time": "2022-03-26T20:24:17.828Z"
      },
      {
        "duration": 4,
        "start_time": "2022-03-26T20:24:17.842Z"
      },
      {
        "duration": 289,
        "start_time": "2022-03-26T20:24:17.848Z"
      },
      {
        "duration": 19,
        "start_time": "2022-03-26T20:24:18.139Z"
      },
      {
        "duration": 20,
        "start_time": "2022-03-26T20:24:18.159Z"
      },
      {
        "duration": 34,
        "start_time": "2022-03-26T20:24:18.180Z"
      },
      {
        "duration": 254,
        "start_time": "2022-03-26T20:24:18.216Z"
      },
      {
        "duration": 32,
        "start_time": "2022-03-26T20:24:18.472Z"
      },
      {
        "duration": 17,
        "start_time": "2022-03-26T20:24:18.505Z"
      },
      {
        "duration": 15,
        "start_time": "2022-03-26T20:24:18.524Z"
      },
      {
        "duration": 5,
        "start_time": "2022-03-26T20:24:18.541Z"
      },
      {
        "duration": 5,
        "start_time": "2022-03-26T20:24:18.548Z"
      },
      {
        "duration": 607,
        "start_time": "2022-03-26T20:24:18.555Z"
      },
      {
        "duration": 484,
        "start_time": "2022-03-26T20:24:19.164Z"
      },
      {
        "duration": 498,
        "start_time": "2022-03-26T20:24:19.650Z"
      },
      {
        "duration": 675,
        "start_time": "2022-03-26T20:24:20.150Z"
      },
      {
        "duration": 390,
        "start_time": "2022-03-26T20:24:20.828Z"
      },
      {
        "duration": 6,
        "start_time": "2022-03-26T20:24:21.220Z"
      },
      {
        "duration": 577,
        "start_time": "2022-03-26T20:24:21.227Z"
      },
      {
        "duration": 464,
        "start_time": "2022-03-26T20:24:21.805Z"
      },
      {
        "duration": 16,
        "start_time": "2022-03-26T20:24:22.271Z"
      },
      {
        "duration": 8,
        "start_time": "2022-03-26T20:24:22.302Z"
      },
      {
        "duration": 5,
        "start_time": "2022-03-26T20:24:22.312Z"
      },
      {
        "duration": 7,
        "start_time": "2022-03-26T20:24:22.319Z"
      },
      {
        "duration": 6,
        "start_time": "2022-03-26T20:24:22.327Z"
      },
      {
        "duration": 5,
        "start_time": "2022-03-26T20:24:22.335Z"
      },
      {
        "duration": 2959,
        "start_time": "2022-03-26T20:24:22.342Z"
      },
      {
        "duration": 2999,
        "start_time": "2022-03-26T20:24:25.303Z"
      },
      {
        "duration": 128717,
        "start_time": "2022-03-26T20:24:28.304Z"
      },
      {
        "duration": 49612,
        "start_time": "2022-03-26T20:26:37.103Z"
      },
      {
        "duration": 913757,
        "start_time": "2022-03-26T20:27:26.808Z"
      },
      {
        "duration": 7,
        "start_time": "2022-03-26T20:42:40.566Z"
      },
      {
        "duration": 40526,
        "start_time": "2022-03-26T20:42:40.575Z"
      },
      {
        "duration": 9,
        "start_time": "2022-03-26T20:43:21.104Z"
      },
      {
        "duration": 11,
        "start_time": "2022-03-26T20:43:21.115Z"
      },
      {
        "duration": 11,
        "start_time": "2022-03-26T20:43:21.128Z"
      },
      {
        "duration": 51395,
        "start_time": "2022-03-26T20:43:21.141Z"
      },
      {
        "duration": 273,
        "start_time": "2022-03-26T20:44:12.538Z"
      },
      {
        "duration": 149952,
        "start_time": "2022-03-27T06:01:23.040Z"
      },
      {
        "duration": 1824,
        "start_time": "2022-03-27T06:03:52.996Z"
      },
      {
        "duration": 341,
        "start_time": "2022-03-27T06:03:54.822Z"
      },
      {
        "duration": 1878,
        "start_time": "2022-03-27T06:03:55.166Z"
      },
      {
        "duration": 5,
        "start_time": "2022-03-27T06:03:57.046Z"
      },
      {
        "duration": 196,
        "start_time": "2022-03-27T06:03:57.053Z"
      },
      {
        "duration": 87,
        "start_time": "2022-03-27T06:03:57.250Z"
      },
      {
        "duration": 258,
        "start_time": "2022-03-27T06:03:57.340Z"
      },
      {
        "duration": 40,
        "start_time": "2022-03-27T06:05:11.310Z"
      },
      {
        "duration": 10,
        "start_time": "2022-03-27T06:05:11.352Z"
      },
      {
        "duration": 40,
        "start_time": "2022-03-27T06:05:38.259Z"
      },
      {
        "duration": 23,
        "start_time": "2022-03-27T06:05:38.303Z"
      },
      {
        "duration": 6,
        "start_time": "2022-03-27T06:07:43.107Z"
      },
      {
        "duration": 602,
        "start_time": "2022-03-27T06:11:13.455Z"
      },
      {
        "duration": 35,
        "start_time": "2022-03-27T06:11:15.442Z"
      },
      {
        "duration": 33,
        "start_time": "2022-03-27T06:11:15.925Z"
      },
      {
        "duration": 28,
        "start_time": "2022-03-27T06:11:16.330Z"
      },
      {
        "duration": 485,
        "start_time": "2022-03-27T06:11:16.610Z"
      },
      {
        "duration": 36,
        "start_time": "2022-03-27T06:11:17.099Z"
      },
      {
        "duration": 53,
        "start_time": "2022-03-27T06:11:17.137Z"
      },
      {
        "duration": 26,
        "start_time": "2022-03-27T06:11:17.373Z"
      },
      {
        "duration": 8,
        "start_time": "2022-03-27T06:11:18.003Z"
      },
      {
        "duration": 8,
        "start_time": "2022-03-27T06:11:18.304Z"
      },
      {
        "duration": 984,
        "start_time": "2022-03-27T06:11:21.340Z"
      },
      {
        "duration": 910,
        "start_time": "2022-03-27T06:11:22.329Z"
      },
      {
        "duration": 911,
        "start_time": "2022-03-27T06:11:23.242Z"
      },
      {
        "duration": 1197,
        "start_time": "2022-03-27T06:11:24.219Z"
      },
      {
        "duration": 693,
        "start_time": "2022-03-27T06:11:25.501Z"
      },
      {
        "duration": 8,
        "start_time": "2022-03-27T06:11:26.197Z"
      },
      {
        "duration": 1007,
        "start_time": "2022-03-27T06:11:26.367Z"
      },
      {
        "duration": 891,
        "start_time": "2022-03-27T06:11:27.377Z"
      },
      {
        "duration": 25,
        "start_time": "2022-03-27T06:11:28.274Z"
      },
      {
        "duration": 13,
        "start_time": "2022-03-27T06:15:06.450Z"
      },
      {
        "duration": 4,
        "start_time": "2022-03-27T06:15:18.404Z"
      },
      {
        "duration": 9,
        "start_time": "2022-03-27T06:15:19.266Z"
      },
      {
        "duration": 6,
        "start_time": "2022-03-27T06:15:19.861Z"
      },
      {
        "duration": 5,
        "start_time": "2022-03-27T06:15:21.140Z"
      },
      {
        "duration": 2731,
        "start_time": "2022-03-27T06:15:22.248Z"
      },
      {
        "duration": 3500,
        "start_time": "2022-03-27T06:15:25.074Z"
      },
      {
        "duration": 6,
        "start_time": "2022-03-27T06:16:43.378Z"
      },
      {
        "duration": 5,
        "start_time": "2022-03-27T06:16:51.356Z"
      },
      {
        "duration": 10,
        "start_time": "2022-03-27T06:23:22.712Z"
      },
      {
        "duration": 9,
        "start_time": "2022-03-27T06:23:36.012Z"
      },
      {
        "duration": 6,
        "start_time": "2022-03-27T06:24:50.204Z"
      },
      {
        "duration": 3442,
        "start_time": "2022-03-27T06:24:54.437Z"
      },
      {
        "duration": 68852,
        "start_time": "2022-03-27T06:26:03.099Z"
      },
      {
        "duration": 22,
        "start_time": "2022-03-27T06:27:11.954Z"
      },
      {
        "duration": 11,
        "start_time": "2022-03-27T06:27:11.978Z"
      },
      {
        "duration": 30,
        "start_time": "2022-03-27T06:27:11.992Z"
      },
      {
        "duration": 68836,
        "start_time": "2022-03-27T06:27:12.025Z"
      },
      {
        "duration": 1695,
        "start_time": "2022-03-29T15:23:10.626Z"
      },
      {
        "duration": 320,
        "start_time": "2022-03-29T15:23:12.323Z"
      },
      {
        "duration": 90,
        "start_time": "2022-03-29T15:23:12.645Z"
      },
      {
        "duration": 405,
        "start_time": "2022-03-29T15:23:12.738Z"
      },
      {
        "duration": 4,
        "start_time": "2022-03-29T15:23:13.145Z"
      },
      {
        "duration": 140,
        "start_time": "2022-03-29T15:23:13.150Z"
      },
      {
        "duration": 81,
        "start_time": "2022-03-29T15:23:13.292Z"
      },
      {
        "duration": 201,
        "start_time": "2022-03-29T15:23:13.375Z"
      },
      {
        "duration": 27,
        "start_time": "2022-03-29T15:23:13.578Z"
      },
      {
        "duration": 7,
        "start_time": "2022-03-29T15:23:13.631Z"
      },
      {
        "duration": 23,
        "start_time": "2022-03-29T15:23:13.640Z"
      },
      {
        "duration": 13,
        "start_time": "2022-03-29T15:23:13.665Z"
      },
      {
        "duration": 4,
        "start_time": "2022-03-29T15:23:13.679Z"
      },
      {
        "duration": 355,
        "start_time": "2022-03-29T15:23:13.685Z"
      },
      {
        "duration": 25,
        "start_time": "2022-03-29T15:23:14.042Z"
      },
      {
        "duration": 23,
        "start_time": "2022-03-29T15:23:14.069Z"
      },
      {
        "duration": 54,
        "start_time": "2022-03-29T15:23:14.095Z"
      },
      {
        "duration": 314,
        "start_time": "2022-03-29T15:23:14.151Z"
      },
      {
        "duration": 29,
        "start_time": "2022-03-29T15:23:14.466Z"
      },
      {
        "duration": 35,
        "start_time": "2022-03-29T15:23:14.497Z"
      },
      {
        "duration": 16,
        "start_time": "2022-03-29T15:23:14.534Z"
      },
      {
        "duration": 8,
        "start_time": "2022-03-29T15:23:14.552Z"
      },
      {
        "duration": 12,
        "start_time": "2022-03-29T15:23:14.561Z"
      },
      {
        "duration": 708,
        "start_time": "2022-03-29T15:23:14.575Z"
      },
      {
        "duration": 613,
        "start_time": "2022-03-29T15:23:15.285Z"
      },
      {
        "duration": 642,
        "start_time": "2022-03-29T15:23:15.900Z"
      },
      {
        "duration": 824,
        "start_time": "2022-03-29T15:23:16.544Z"
      },
      {
        "duration": 476,
        "start_time": "2022-03-29T15:23:17.372Z"
      },
      {
        "duration": 7,
        "start_time": "2022-03-29T15:23:17.850Z"
      },
      {
        "duration": 729,
        "start_time": "2022-03-29T15:23:17.859Z"
      },
      {
        "duration": 604,
        "start_time": "2022-03-29T15:23:18.590Z"
      },
      {
        "duration": 18,
        "start_time": "2022-03-29T15:23:19.195Z"
      },
      {
        "duration": 23,
        "start_time": "2022-03-29T15:23:19.215Z"
      },
      {
        "duration": 7,
        "start_time": "2022-03-29T15:23:19.240Z"
      },
      {
        "duration": 4,
        "start_time": "2022-03-29T15:23:19.249Z"
      },
      {
        "duration": 10,
        "start_time": "2022-03-29T15:23:19.255Z"
      },
      {
        "duration": 11,
        "start_time": "2022-03-29T15:23:19.267Z"
      },
      {
        "duration": 5,
        "start_time": "2022-03-29T15:23:19.280Z"
      },
      {
        "duration": 6,
        "start_time": "2022-03-29T15:23:19.287Z"
      },
      {
        "duration": 3006,
        "start_time": "2022-03-29T15:23:19.333Z"
      },
      {
        "duration": 2989,
        "start_time": "2022-03-29T15:23:22.346Z"
      },
      {
        "duration": 155811,
        "start_time": "2022-03-29T15:23:25.337Z"
      },
      {
        "duration": 50583,
        "start_time": "2022-03-29T15:26:01.151Z"
      },
      {
        "duration": 1027820,
        "start_time": "2022-03-29T15:26:51.737Z"
      },
      {
        "duration": 120,
        "start_time": "2022-03-29T15:43:59.559Z"
      },
      {
        "duration": 0,
        "start_time": "2022-03-29T15:43:59.681Z"
      },
      {
        "duration": 0,
        "start_time": "2022-03-29T15:43:59.682Z"
      },
      {
        "duration": 0,
        "start_time": "2022-03-29T15:43:59.684Z"
      },
      {
        "duration": 0,
        "start_time": "2022-03-29T15:43:59.685Z"
      },
      {
        "duration": 0,
        "start_time": "2022-03-29T15:43:59.686Z"
      },
      {
        "duration": 0,
        "start_time": "2022-03-29T15:43:59.687Z"
      },
      {
        "duration": 0,
        "start_time": "2022-03-29T15:43:59.688Z"
      },
      {
        "duration": 0,
        "start_time": "2022-03-29T15:43:59.689Z"
      },
      {
        "duration": 13,
        "start_time": "2022-03-29T15:49:01.048Z"
      },
      {
        "duration": 19,
        "start_time": "2022-03-29T15:49:46.583Z"
      },
      {
        "duration": 9,
        "start_time": "2022-03-29T16:53:29.909Z"
      },
      {
        "duration": 1614,
        "start_time": "2022-03-29T17:06:55.866Z"
      },
      {
        "duration": 364,
        "start_time": "2022-03-29T17:06:57.482Z"
      },
      {
        "duration": 97,
        "start_time": "2022-03-29T17:06:57.847Z"
      },
      {
        "duration": 401,
        "start_time": "2022-03-29T17:06:57.946Z"
      },
      {
        "duration": 4,
        "start_time": "2022-03-29T17:06:58.349Z"
      },
      {
        "duration": 147,
        "start_time": "2022-03-29T17:06:58.354Z"
      },
      {
        "duration": 78,
        "start_time": "2022-03-29T17:06:58.503Z"
      },
      {
        "duration": 192,
        "start_time": "2022-03-29T17:06:58.582Z"
      },
      {
        "duration": 26,
        "start_time": "2022-03-29T17:06:58.776Z"
      },
      {
        "duration": 8,
        "start_time": "2022-03-29T17:06:58.837Z"
      },
      {
        "duration": 24,
        "start_time": "2022-03-29T17:06:58.846Z"
      },
      {
        "duration": 12,
        "start_time": "2022-03-29T17:06:58.872Z"
      },
      {
        "duration": 51,
        "start_time": "2022-03-29T17:06:58.886Z"
      },
      {
        "duration": 322,
        "start_time": "2022-03-29T17:06:58.940Z"
      },
      {
        "duration": 24,
        "start_time": "2022-03-29T17:06:59.264Z"
      },
      {
        "duration": 49,
        "start_time": "2022-03-29T17:06:59.289Z"
      },
      {
        "duration": 19,
        "start_time": "2022-03-29T17:06:59.340Z"
      },
      {
        "duration": 315,
        "start_time": "2022-03-29T17:06:59.360Z"
      },
      {
        "duration": 23,
        "start_time": "2022-03-29T17:06:59.677Z"
      },
      {
        "duration": 46,
        "start_time": "2022-03-29T17:06:59.702Z"
      },
      {
        "duration": 16,
        "start_time": "2022-03-29T17:06:59.750Z"
      },
      {
        "duration": 6,
        "start_time": "2022-03-29T17:06:59.768Z"
      },
      {
        "duration": 9,
        "start_time": "2022-03-29T17:06:59.776Z"
      },
      {
        "duration": 752,
        "start_time": "2022-03-29T17:06:59.787Z"
      },
      {
        "duration": 579,
        "start_time": "2022-03-29T17:07:00.541Z"
      },
      {
        "duration": 619,
        "start_time": "2022-03-29T17:07:01.123Z"
      },
      {
        "duration": 840,
        "start_time": "2022-03-29T17:07:01.744Z"
      },
      {
        "duration": 452,
        "start_time": "2022-03-29T17:07:02.588Z"
      },
      {
        "duration": 7,
        "start_time": "2022-03-29T17:07:03.042Z"
      },
      {
        "duration": 706,
        "start_time": "2022-03-29T17:07:03.051Z"
      },
      {
        "duration": 559,
        "start_time": "2022-03-29T17:07:03.759Z"
      },
      {
        "duration": 25,
        "start_time": "2022-03-29T17:07:04.320Z"
      },
      {
        "duration": 9,
        "start_time": "2022-03-29T17:07:04.347Z"
      },
      {
        "duration": 18,
        "start_time": "2022-03-29T17:07:04.358Z"
      },
      {
        "duration": 25,
        "start_time": "2022-03-29T17:07:04.378Z"
      },
      {
        "duration": 34,
        "start_time": "2022-03-29T17:07:04.405Z"
      },
      {
        "duration": 12,
        "start_time": "2022-03-29T17:07:04.441Z"
      },
      {
        "duration": 15,
        "start_time": "2022-03-29T17:07:04.454Z"
      },
      {
        "duration": 14,
        "start_time": "2022-03-29T17:07:04.471Z"
      },
      {
        "duration": 2658,
        "start_time": "2022-03-29T17:07:04.486Z"
      },
      {
        "duration": 2996,
        "start_time": "2022-03-29T17:07:07.147Z"
      },
      {
        "duration": 473918,
        "start_time": "2022-03-29T17:07:10.146Z"
      },
      {
        "duration": 100974,
        "start_time": "2022-03-29T17:15:04.066Z"
      },
      {
        "duration": 929894,
        "start_time": "2022-03-29T17:16:45.043Z"
      },
      {
        "duration": 3,
        "start_time": "2022-03-29T17:32:14.939Z"
      },
      {
        "duration": 131,
        "start_time": "2022-03-29T17:32:14.944Z"
      },
      {
        "duration": 0,
        "start_time": "2022-03-29T17:32:15.077Z"
      },
      {
        "duration": 1,
        "start_time": "2022-03-29T17:32:15.078Z"
      },
      {
        "duration": 0,
        "start_time": "2022-03-29T17:32:15.080Z"
      },
      {
        "duration": 1,
        "start_time": "2022-03-29T17:32:15.080Z"
      },
      {
        "duration": 0,
        "start_time": "2022-03-29T17:32:15.082Z"
      },
      {
        "duration": 0,
        "start_time": "2022-03-29T17:32:15.083Z"
      },
      {
        "duration": 0,
        "start_time": "2022-03-29T17:32:15.084Z"
      },
      {
        "duration": 1393,
        "start_time": "2022-03-29T17:39:34.152Z"
      },
      {
        "duration": 302,
        "start_time": "2022-03-29T17:39:35.547Z"
      },
      {
        "duration": 99,
        "start_time": "2022-03-29T17:39:35.850Z"
      },
      {
        "duration": 403,
        "start_time": "2022-03-29T17:39:35.952Z"
      },
      {
        "duration": 5,
        "start_time": "2022-03-29T17:39:36.357Z"
      },
      {
        "duration": 140,
        "start_time": "2022-03-29T17:39:36.364Z"
      },
      {
        "duration": 74,
        "start_time": "2022-03-29T17:39:36.505Z"
      },
      {
        "duration": 183,
        "start_time": "2022-03-29T17:39:36.581Z"
      },
      {
        "duration": 37,
        "start_time": "2022-03-29T17:39:36.766Z"
      },
      {
        "duration": 7,
        "start_time": "2022-03-29T17:39:36.805Z"
      },
      {
        "duration": 24,
        "start_time": "2022-03-29T17:39:36.837Z"
      },
      {
        "duration": 12,
        "start_time": "2022-03-29T17:39:36.863Z"
      },
      {
        "duration": 13,
        "start_time": "2022-03-29T17:39:36.877Z"
      },
      {
        "duration": 349,
        "start_time": "2022-03-29T17:39:36.891Z"
      },
      {
        "duration": 25,
        "start_time": "2022-03-29T17:39:37.242Z"
      },
      {
        "duration": 23,
        "start_time": "2022-03-29T17:39:37.268Z"
      },
      {
        "duration": 57,
        "start_time": "2022-03-29T17:39:37.293Z"
      },
      {
        "duration": 301,
        "start_time": "2022-03-29T17:39:37.351Z"
      },
      {
        "duration": 24,
        "start_time": "2022-03-29T17:39:37.654Z"
      },
      {
        "duration": 21,
        "start_time": "2022-03-29T17:39:37.679Z"
      },
      {
        "duration": 40,
        "start_time": "2022-03-29T17:39:37.702Z"
      },
      {
        "duration": 6,
        "start_time": "2022-03-29T17:39:37.744Z"
      },
      {
        "duration": 8,
        "start_time": "2022-03-29T17:39:37.752Z"
      },
      {
        "duration": 652,
        "start_time": "2022-03-29T17:39:37.762Z"
      },
      {
        "duration": 560,
        "start_time": "2022-03-29T17:39:38.416Z"
      },
      {
        "duration": 607,
        "start_time": "2022-03-29T17:39:38.978Z"
      },
      {
        "duration": 776,
        "start_time": "2022-03-29T17:39:39.587Z"
      },
      {
        "duration": 430,
        "start_time": "2022-03-29T17:39:40.367Z"
      },
      {
        "duration": 7,
        "start_time": "2022-03-29T17:39:40.798Z"
      },
      {
        "duration": 680,
        "start_time": "2022-03-29T17:39:40.807Z"
      },
      {
        "duration": 555,
        "start_time": "2022-03-29T17:39:41.489Z"
      },
      {
        "duration": 18,
        "start_time": "2022-03-29T17:39:42.047Z"
      },
      {
        "duration": 10,
        "start_time": "2022-03-29T17:39:42.067Z"
      },
      {
        "duration": 8,
        "start_time": "2022-03-29T17:39:42.079Z"
      },
      {
        "duration": 6,
        "start_time": "2022-03-29T17:39:42.088Z"
      },
      {
        "duration": 4,
        "start_time": "2022-03-29T17:39:42.137Z"
      },
      {
        "duration": 131,
        "start_time": "2022-03-29T17:39:42.143Z"
      },
      {
        "duration": 0,
        "start_time": "2022-03-29T17:39:42.276Z"
      },
      {
        "duration": 0,
        "start_time": "2022-03-29T17:39:42.277Z"
      },
      {
        "duration": 0,
        "start_time": "2022-03-29T17:39:42.278Z"
      },
      {
        "duration": 0,
        "start_time": "2022-03-29T17:39:42.280Z"
      },
      {
        "duration": 0,
        "start_time": "2022-03-29T17:39:42.281Z"
      },
      {
        "duration": 0,
        "start_time": "2022-03-29T17:39:42.282Z"
      },
      {
        "duration": 0,
        "start_time": "2022-03-29T17:39:42.283Z"
      },
      {
        "duration": 0,
        "start_time": "2022-03-29T17:39:42.284Z"
      },
      {
        "duration": 0,
        "start_time": "2022-03-29T17:39:42.285Z"
      },
      {
        "duration": 0,
        "start_time": "2022-03-29T17:39:42.285Z"
      },
      {
        "duration": 0,
        "start_time": "2022-03-29T17:39:42.287Z"
      },
      {
        "duration": 0,
        "start_time": "2022-03-29T17:39:42.288Z"
      },
      {
        "duration": 0,
        "start_time": "2022-03-29T17:39:42.289Z"
      },
      {
        "duration": 0,
        "start_time": "2022-03-29T17:39:42.290Z"
      },
      {
        "duration": 0,
        "start_time": "2022-03-29T17:39:42.291Z"
      },
      {
        "duration": 0,
        "start_time": "2022-03-29T17:39:42.292Z"
      },
      {
        "duration": 3,
        "start_time": "2022-03-29T18:02:33.734Z"
      },
      {
        "duration": 3,
        "start_time": "2022-03-29T18:02:43.934Z"
      },
      {
        "duration": 11,
        "start_time": "2022-03-29T18:02:46.490Z"
      },
      {
        "duration": 3,
        "start_time": "2022-03-29T18:02:50.002Z"
      },
      {
        "duration": 3,
        "start_time": "2022-03-29T18:02:53.566Z"
      },
      {
        "duration": 3,
        "start_time": "2022-03-29T18:05:18.526Z"
      },
      {
        "duration": 3,
        "start_time": "2022-03-29T18:05:19.372Z"
      },
      {
        "duration": 3,
        "start_time": "2022-03-29T18:05:19.878Z"
      },
      {
        "duration": 4,
        "start_time": "2022-03-29T18:05:31.564Z"
      },
      {
        "duration": 3823,
        "start_time": "2022-03-29T18:05:34.819Z"
      },
      {
        "duration": 2644,
        "start_time": "2022-03-29T18:05:41.396Z"
      },
      {
        "duration": 182466,
        "start_time": "2022-03-29T18:05:46.277Z"
      },
      {
        "duration": 1528,
        "start_time": "2022-03-30T04:25:28.006Z"
      },
      {
        "duration": 312,
        "start_time": "2022-03-30T04:25:29.536Z"
      },
      {
        "duration": 86,
        "start_time": "2022-03-30T04:25:29.849Z"
      },
      {
        "duration": 387,
        "start_time": "2022-03-30T04:25:29.936Z"
      },
      {
        "duration": 3,
        "start_time": "2022-03-30T04:25:30.324Z"
      },
      {
        "duration": 115,
        "start_time": "2022-03-30T04:25:30.328Z"
      },
      {
        "duration": 64,
        "start_time": "2022-03-30T04:25:30.445Z"
      },
      {
        "duration": 171,
        "start_time": "2022-03-30T04:25:30.511Z"
      },
      {
        "duration": 26,
        "start_time": "2022-03-30T04:25:30.683Z"
      },
      {
        "duration": 13,
        "start_time": "2022-03-30T04:25:30.711Z"
      },
      {
        "duration": 56,
        "start_time": "2022-03-30T04:25:30.725Z"
      },
      {
        "duration": 11,
        "start_time": "2022-03-30T04:25:30.783Z"
      },
      {
        "duration": 5,
        "start_time": "2022-03-30T04:25:30.796Z"
      },
      {
        "duration": 279,
        "start_time": "2022-03-30T04:25:30.802Z"
      },
      {
        "duration": 22,
        "start_time": "2022-03-30T04:25:31.082Z"
      },
      {
        "duration": 19,
        "start_time": "2022-03-30T04:25:31.105Z"
      },
      {
        "duration": 28,
        "start_time": "2022-03-30T04:25:31.125Z"
      },
      {
        "duration": 267,
        "start_time": "2022-03-30T04:25:31.155Z"
      },
      {
        "duration": 21,
        "start_time": "2022-03-30T04:25:31.423Z"
      },
      {
        "duration": 37,
        "start_time": "2022-03-30T04:25:31.445Z"
      },
      {
        "duration": 13,
        "start_time": "2022-03-30T04:25:31.483Z"
      },
      {
        "duration": 7,
        "start_time": "2022-03-30T04:25:31.498Z"
      },
      {
        "duration": 7,
        "start_time": "2022-03-30T04:25:31.506Z"
      },
      {
        "duration": 550,
        "start_time": "2022-03-30T04:25:31.514Z"
      },
      {
        "duration": 472,
        "start_time": "2022-03-30T04:25:32.066Z"
      },
      {
        "duration": 479,
        "start_time": "2022-03-30T04:25:32.540Z"
      },
      {
        "duration": 668,
        "start_time": "2022-03-30T04:25:33.022Z"
      },
      {
        "duration": 375,
        "start_time": "2022-03-30T04:25:33.693Z"
      },
      {
        "duration": 16,
        "start_time": "2022-03-30T04:25:34.069Z"
      },
      {
        "duration": 560,
        "start_time": "2022-03-30T04:25:34.087Z"
      },
      {
        "duration": 452,
        "start_time": "2022-03-30T04:25:34.649Z"
      },
      {
        "duration": 17,
        "start_time": "2022-03-30T04:25:35.103Z"
      },
      {
        "duration": 9,
        "start_time": "2022-03-30T04:25:35.122Z"
      },
      {
        "duration": 7,
        "start_time": "2022-03-30T04:25:35.133Z"
      },
      {
        "duration": 40,
        "start_time": "2022-03-30T04:25:35.142Z"
      },
      {
        "duration": 4,
        "start_time": "2022-03-30T04:25:35.184Z"
      },
      {
        "duration": 6,
        "start_time": "2022-03-30T04:25:35.190Z"
      },
      {
        "duration": 4,
        "start_time": "2022-03-30T04:25:35.197Z"
      },
      {
        "duration": 7,
        "start_time": "2022-03-30T04:25:35.203Z"
      },
      {
        "duration": 5,
        "start_time": "2022-03-30T04:25:35.212Z"
      },
      {
        "duration": 5,
        "start_time": "2022-03-30T04:25:35.218Z"
      },
      {
        "duration": 5,
        "start_time": "2022-03-30T04:25:35.224Z"
      },
      {
        "duration": 2251,
        "start_time": "2022-03-30T04:25:35.231Z"
      },
      {
        "duration": 2703,
        "start_time": "2022-03-30T04:25:37.484Z"
      },
      {
        "duration": 105809,
        "start_time": "2022-03-30T04:25:40.190Z"
      },
      {
        "duration": 41082,
        "start_time": "2022-03-30T04:27:26.001Z"
      },
      {
        "duration": 876247,
        "start_time": "2022-03-30T04:28:07.085Z"
      },
      {
        "duration": 48,
        "start_time": "2022-03-30T04:42:43.334Z"
      },
      {
        "duration": 99,
        "start_time": "2022-03-30T04:42:43.383Z"
      },
      {
        "duration": 0,
        "start_time": "2022-03-30T04:42:43.483Z"
      },
      {
        "duration": 0,
        "start_time": "2022-03-30T04:42:43.485Z"
      },
      {
        "duration": 0,
        "start_time": "2022-03-30T04:42:43.486Z"
      },
      {
        "duration": 0,
        "start_time": "2022-03-30T04:42:43.486Z"
      },
      {
        "duration": 1,
        "start_time": "2022-03-30T04:42:43.487Z"
      },
      {
        "duration": 0,
        "start_time": "2022-03-30T04:42:43.489Z"
      },
      {
        "duration": 0,
        "start_time": "2022-03-30T04:42:43.489Z"
      },
      {
        "duration": 2,
        "start_time": "2022-03-30T04:47:17.199Z"
      },
      {
        "duration": 8,
        "start_time": "2022-03-30T04:47:20.850Z"
      },
      {
        "duration": 10,
        "start_time": "2022-03-30T04:48:37.430Z"
      },
      {
        "duration": 7,
        "start_time": "2022-03-30T04:49:05.418Z"
      },
      {
        "duration": 6,
        "start_time": "2022-03-30T04:49:09.418Z"
      },
      {
        "duration": 1434,
        "start_time": "2022-03-30T04:49:28.308Z"
      },
      {
        "duration": 309,
        "start_time": "2022-03-30T04:49:29.744Z"
      },
      {
        "duration": 92,
        "start_time": "2022-03-30T04:49:30.054Z"
      },
      {
        "duration": 411,
        "start_time": "2022-03-30T04:49:30.148Z"
      },
      {
        "duration": 3,
        "start_time": "2022-03-30T04:49:30.560Z"
      },
      {
        "duration": 126,
        "start_time": "2022-03-30T04:49:30.564Z"
      },
      {
        "duration": 42,
        "start_time": "2022-03-30T04:49:30.692Z"
      },
      {
        "duration": 163,
        "start_time": "2022-03-30T04:49:30.735Z"
      },
      {
        "duration": 26,
        "start_time": "2022-03-30T04:49:30.900Z"
      },
      {
        "duration": 7,
        "start_time": "2022-03-30T04:49:30.928Z"
      },
      {
        "duration": 48,
        "start_time": "2022-03-30T04:49:30.936Z"
      },
      {
        "duration": 14,
        "start_time": "2022-03-30T04:49:30.985Z"
      },
      {
        "duration": 4,
        "start_time": "2022-03-30T04:49:31.001Z"
      },
      {
        "duration": 292,
        "start_time": "2022-03-30T04:49:31.006Z"
      },
      {
        "duration": 23,
        "start_time": "2022-03-30T04:49:31.299Z"
      },
      {
        "duration": 21,
        "start_time": "2022-03-30T04:49:31.323Z"
      },
      {
        "duration": 49,
        "start_time": "2022-03-30T04:49:31.346Z"
      },
      {
        "duration": 254,
        "start_time": "2022-03-30T04:49:31.397Z"
      },
      {
        "duration": 29,
        "start_time": "2022-03-30T04:49:31.653Z"
      },
      {
        "duration": 16,
        "start_time": "2022-03-30T04:49:31.684Z"
      },
      {
        "duration": 13,
        "start_time": "2022-03-30T04:49:31.702Z"
      },
      {
        "duration": 5,
        "start_time": "2022-03-30T04:49:31.716Z"
      },
      {
        "duration": 8,
        "start_time": "2022-03-30T04:49:31.722Z"
      },
      {
        "duration": 549,
        "start_time": "2022-03-30T04:49:31.732Z"
      },
      {
        "duration": 463,
        "start_time": "2022-03-30T04:49:32.283Z"
      },
      {
        "duration": 484,
        "start_time": "2022-03-30T04:49:32.747Z"
      },
      {
        "duration": 648,
        "start_time": "2022-03-30T04:49:33.233Z"
      },
      {
        "duration": 364,
        "start_time": "2022-03-30T04:49:33.884Z"
      },
      {
        "duration": 5,
        "start_time": "2022-03-30T04:49:34.250Z"
      },
      {
        "duration": 569,
        "start_time": "2022-03-30T04:49:34.256Z"
      },
      {
        "duration": 449,
        "start_time": "2022-03-30T04:49:34.826Z"
      },
      {
        "duration": 15,
        "start_time": "2022-03-30T04:49:35.280Z"
      },
      {
        "duration": 8,
        "start_time": "2022-03-30T04:49:35.296Z"
      },
      {
        "duration": 5,
        "start_time": "2022-03-30T04:49:35.305Z"
      },
      {
        "duration": 4,
        "start_time": "2022-03-30T04:49:35.312Z"
      },
      {
        "duration": 4,
        "start_time": "2022-03-30T04:49:35.317Z"
      },
      {
        "duration": 10,
        "start_time": "2022-03-30T04:49:35.322Z"
      },
      {
        "duration": 5,
        "start_time": "2022-03-30T04:49:35.333Z"
      },
      {
        "duration": 45,
        "start_time": "2022-03-30T04:49:35.339Z"
      },
      {
        "duration": 4,
        "start_time": "2022-03-30T04:49:35.386Z"
      },
      {
        "duration": 5,
        "start_time": "2022-03-30T04:49:35.392Z"
      },
      {
        "duration": 8,
        "start_time": "2022-03-30T04:49:35.398Z"
      },
      {
        "duration": 2185,
        "start_time": "2022-03-30T04:49:35.407Z"
      },
      {
        "duration": 2705,
        "start_time": "2022-03-30T04:49:37.682Z"
      },
      {
        "duration": 108298,
        "start_time": "2022-03-30T04:49:40.391Z"
      },
      {
        "duration": 39797,
        "start_time": "2022-03-30T04:51:28.691Z"
      },
      {
        "duration": 865878,
        "start_time": "2022-03-30T04:52:08.581Z"
      },
      {
        "duration": 44,
        "start_time": "2022-03-30T05:06:34.461Z"
      },
      {
        "duration": 6,
        "start_time": "2022-03-30T05:06:34.507Z"
      },
      {
        "duration": 7,
        "start_time": "2022-03-30T05:06:34.514Z"
      },
      {
        "duration": 355,
        "start_time": "2022-03-30T05:06:34.522Z"
      },
      {
        "duration": 9,
        "start_time": "2022-03-30T05:06:34.878Z"
      },
      {
        "duration": 8,
        "start_time": "2022-03-30T05:06:34.888Z"
      },
      {
        "duration": 8,
        "start_time": "2022-03-30T05:06:34.897Z"
      },
      {
        "duration": 309,
        "start_time": "2022-03-30T05:06:34.907Z"
      },
      {
        "duration": 281,
        "start_time": "2022-03-30T05:06:35.217Z"
      },
      {
        "duration": 2386,
        "start_time": "2022-03-30T10:23:59.411Z"
      },
      {
        "duration": 408,
        "start_time": "2022-03-30T10:24:01.800Z"
      },
      {
        "duration": 103,
        "start_time": "2022-03-30T10:24:02.211Z"
      },
      {
        "duration": 429,
        "start_time": "2022-03-30T10:24:02.316Z"
      },
      {
        "duration": 4,
        "start_time": "2022-03-30T10:24:02.748Z"
      },
      {
        "duration": 231,
        "start_time": "2022-03-30T10:24:02.754Z"
      },
      {
        "duration": 93,
        "start_time": "2022-03-30T10:24:02.987Z"
      },
      {
        "duration": 227,
        "start_time": "2022-03-30T10:24:03.083Z"
      },
      {
        "duration": 56,
        "start_time": "2022-03-30T10:24:03.313Z"
      },
      {
        "duration": 8,
        "start_time": "2022-03-30T10:24:03.374Z"
      },
      {
        "duration": 34,
        "start_time": "2022-03-30T10:24:03.384Z"
      },
      {
        "duration": 37,
        "start_time": "2022-03-30T10:24:03.420Z"
      },
      {
        "duration": 5,
        "start_time": "2022-03-30T10:24:03.459Z"
      },
      {
        "duration": 504,
        "start_time": "2022-03-30T10:24:03.466Z"
      },
      {
        "duration": 34,
        "start_time": "2022-03-30T10:24:03.973Z"
      },
      {
        "duration": 46,
        "start_time": "2022-03-30T10:24:04.009Z"
      },
      {
        "duration": 27,
        "start_time": "2022-03-30T10:24:04.058Z"
      },
      {
        "duration": 494,
        "start_time": "2022-03-30T10:24:04.087Z"
      },
      {
        "duration": 34,
        "start_time": "2022-03-30T10:24:04.583Z"
      },
      {
        "duration": 44,
        "start_time": "2022-03-30T10:24:04.619Z"
      },
      {
        "duration": 26,
        "start_time": "2022-03-30T10:24:04.665Z"
      },
      {
        "duration": 8,
        "start_time": "2022-03-30T10:24:04.694Z"
      },
      {
        "duration": 41,
        "start_time": "2022-03-30T10:24:04.704Z"
      },
      {
        "duration": 958,
        "start_time": "2022-03-30T10:24:04.747Z"
      },
      {
        "duration": 859,
        "start_time": "2022-03-30T10:24:05.708Z"
      },
      {
        "duration": 890,
        "start_time": "2022-03-30T10:24:06.569Z"
      },
      {
        "duration": 1147,
        "start_time": "2022-03-30T10:24:07.462Z"
      },
      {
        "duration": 692,
        "start_time": "2022-03-30T10:24:08.614Z"
      },
      {
        "duration": 8,
        "start_time": "2022-03-30T10:24:09.308Z"
      },
      {
        "duration": 984,
        "start_time": "2022-03-30T10:24:09.319Z"
      },
      {
        "duration": 871,
        "start_time": "2022-03-30T10:24:10.306Z"
      },
      {
        "duration": 24,
        "start_time": "2022-03-30T10:24:11.179Z"
      },
      {
        "duration": 39,
        "start_time": "2022-03-30T10:24:11.205Z"
      },
      {
        "duration": 5,
        "start_time": "2022-03-30T10:24:11.247Z"
      },
      {
        "duration": 6,
        "start_time": "2022-03-30T10:24:11.254Z"
      },
      {
        "duration": 5,
        "start_time": "2022-03-30T10:24:11.262Z"
      },
      {
        "duration": 8,
        "start_time": "2022-03-30T10:24:11.269Z"
      },
      {
        "duration": 5,
        "start_time": "2022-03-30T10:24:11.279Z"
      },
      {
        "duration": 5,
        "start_time": "2022-03-30T10:24:11.287Z"
      },
      {
        "duration": 48,
        "start_time": "2022-03-30T10:24:11.294Z"
      },
      {
        "duration": 7,
        "start_time": "2022-03-30T10:24:11.345Z"
      },
      {
        "duration": 7,
        "start_time": "2022-03-30T10:24:11.354Z"
      },
      {
        "duration": 3287,
        "start_time": "2022-03-30T10:24:11.364Z"
      },
      {
        "duration": 3397,
        "start_time": "2022-03-30T10:24:14.654Z"
      },
      {
        "duration": 165704,
        "start_time": "2022-03-30T10:24:18.056Z"
      },
      {
        "duration": 57481,
        "start_time": "2022-03-30T10:27:03.763Z"
      },
      {
        "duration": 1314680,
        "start_time": "2022-03-30T10:28:01.248Z"
      },
      {
        "duration": 63,
        "start_time": "2022-03-30T10:49:55.930Z"
      },
      {
        "duration": 8,
        "start_time": "2022-03-30T10:49:55.995Z"
      },
      {
        "duration": 17,
        "start_time": "2022-03-30T10:49:56.005Z"
      },
      {
        "duration": 561,
        "start_time": "2022-03-30T10:49:56.043Z"
      },
      {
        "duration": 12,
        "start_time": "2022-03-30T10:49:56.606Z"
      },
      {
        "duration": 13,
        "start_time": "2022-03-30T10:49:56.620Z"
      },
      {
        "duration": 15,
        "start_time": "2022-03-30T10:49:56.635Z"
      },
      {
        "duration": 338,
        "start_time": "2022-03-30T10:49:56.652Z"
      },
      {
        "duration": 375,
        "start_time": "2022-03-30T10:49:56.993Z"
      },
      {
        "duration": 1478,
        "start_time": "2022-03-31T05:33:55.659Z"
      },
      {
        "duration": 268,
        "start_time": "2022-03-31T05:33:57.139Z"
      },
      {
        "duration": 80,
        "start_time": "2022-03-31T05:33:57.409Z"
      },
      {
        "duration": 355,
        "start_time": "2022-03-31T05:33:57.492Z"
      },
      {
        "duration": 4,
        "start_time": "2022-03-31T05:33:57.849Z"
      },
      {
        "duration": 161,
        "start_time": "2022-03-31T05:33:57.855Z"
      },
      {
        "duration": 61,
        "start_time": "2022-03-31T05:33:58.018Z"
      },
      {
        "duration": 162,
        "start_time": "2022-03-31T05:33:58.081Z"
      },
      {
        "duration": 27,
        "start_time": "2022-03-31T05:33:58.245Z"
      },
      {
        "duration": 6,
        "start_time": "2022-03-31T05:33:58.275Z"
      },
      {
        "duration": 23,
        "start_time": "2022-03-31T05:33:58.283Z"
      },
      {
        "duration": 41,
        "start_time": "2022-03-31T05:33:58.307Z"
      },
      {
        "duration": 4,
        "start_time": "2022-03-31T05:33:58.350Z"
      },
      {
        "duration": 303,
        "start_time": "2022-03-31T05:33:58.355Z"
      },
      {
        "duration": 22,
        "start_time": "2022-03-31T05:33:58.660Z"
      },
      {
        "duration": 20,
        "start_time": "2022-03-31T05:33:58.684Z"
      },
      {
        "duration": 43,
        "start_time": "2022-03-31T05:33:58.705Z"
      },
      {
        "duration": 262,
        "start_time": "2022-03-31T05:33:58.750Z"
      },
      {
        "duration": 27,
        "start_time": "2022-03-31T05:33:59.013Z"
      },
      {
        "duration": 17,
        "start_time": "2022-03-31T05:33:59.042Z"
      },
      {
        "duration": 17,
        "start_time": "2022-03-31T05:33:59.061Z"
      },
      {
        "duration": 5,
        "start_time": "2022-03-31T05:33:59.080Z"
      },
      {
        "duration": 10,
        "start_time": "2022-03-31T05:33:59.086Z"
      },
      {
        "duration": 626,
        "start_time": "2022-03-31T05:33:59.097Z"
      },
      {
        "duration": 538,
        "start_time": "2022-03-31T05:33:59.725Z"
      },
      {
        "duration": 538,
        "start_time": "2022-03-31T05:34:00.265Z"
      },
      {
        "duration": 771,
        "start_time": "2022-03-31T05:34:00.805Z"
      },
      {
        "duration": 422,
        "start_time": "2022-03-31T05:34:01.579Z"
      },
      {
        "duration": 8,
        "start_time": "2022-03-31T05:34:02.003Z"
      },
      {
        "duration": 658,
        "start_time": "2022-03-31T05:34:02.013Z"
      },
      {
        "duration": 517,
        "start_time": "2022-03-31T05:34:02.673Z"
      },
      {
        "duration": 16,
        "start_time": "2022-03-31T05:34:03.192Z"
      },
      {
        "duration": 10,
        "start_time": "2022-03-31T05:34:03.210Z"
      },
      {
        "duration": 4,
        "start_time": "2022-03-31T05:34:03.238Z"
      },
      {
        "duration": 5,
        "start_time": "2022-03-31T05:34:03.244Z"
      },
      {
        "duration": 8,
        "start_time": "2022-03-31T05:34:03.250Z"
      },
      {
        "duration": 12,
        "start_time": "2022-03-31T05:34:03.259Z"
      },
      {
        "duration": 6,
        "start_time": "2022-03-31T05:34:03.273Z"
      },
      {
        "duration": 5,
        "start_time": "2022-03-31T05:34:03.280Z"
      },
      {
        "duration": 8,
        "start_time": "2022-03-31T05:34:03.286Z"
      },
      {
        "duration": 15,
        "start_time": "2022-03-31T05:34:03.295Z"
      },
      {
        "duration": 9,
        "start_time": "2022-03-31T05:34:03.312Z"
      },
      {
        "duration": 2416,
        "start_time": "2022-03-31T05:34:03.322Z"
      },
      {
        "duration": 3103,
        "start_time": "2022-03-31T05:34:05.740Z"
      },
      {
        "duration": 110611,
        "start_time": "2022-03-31T05:34:08.847Z"
      },
      {
        "duration": 38901,
        "start_time": "2022-03-31T05:35:59.540Z"
      },
      {
        "duration": 889039,
        "start_time": "2022-03-31T05:36:38.443Z"
      },
      {
        "duration": 37,
        "start_time": "2022-03-31T05:51:27.483Z"
      },
      {
        "duration": 20,
        "start_time": "2022-03-31T05:51:27.522Z"
      },
      {
        "duration": 44,
        "start_time": "2022-03-31T05:51:27.543Z"
      },
      {
        "duration": 364,
        "start_time": "2022-03-31T05:51:27.589Z"
      },
      {
        "duration": 8,
        "start_time": "2022-03-31T05:51:27.955Z"
      },
      {
        "duration": 38,
        "start_time": "2022-03-31T05:51:27.965Z"
      },
      {
        "duration": 21,
        "start_time": "2022-03-31T05:51:28.005Z"
      },
      {
        "duration": 278,
        "start_time": "2022-03-31T05:51:28.028Z"
      },
      {
        "duration": 345,
        "start_time": "2022-03-31T05:51:28.307Z"
      },
      {
        "duration": 37,
        "start_time": "2022-03-31T05:57:33.929Z"
      },
      {
        "duration": 7,
        "start_time": "2022-03-31T05:57:42.890Z"
      },
      {
        "duration": 5,
        "start_time": "2022-03-31T05:57:57.234Z"
      },
      {
        "duration": 4,
        "start_time": "2022-03-31T05:58:02.819Z"
      },
      {
        "duration": 1380,
        "start_time": "2022-03-31T05:58:34.642Z"
      },
      {
        "duration": 265,
        "start_time": "2022-03-31T05:58:36.024Z"
      },
      {
        "duration": 79,
        "start_time": "2022-03-31T05:58:36.291Z"
      },
      {
        "duration": 347,
        "start_time": "2022-03-31T05:58:36.372Z"
      },
      {
        "duration": 3,
        "start_time": "2022-03-31T05:58:36.720Z"
      },
      {
        "duration": 168,
        "start_time": "2022-03-31T05:58:36.725Z"
      },
      {
        "duration": 63,
        "start_time": "2022-03-31T05:58:36.895Z"
      },
      {
        "duration": 142,
        "start_time": "2022-03-31T05:58:36.960Z"
      },
      {
        "duration": 43,
        "start_time": "2022-03-31T05:58:37.104Z"
      },
      {
        "duration": 7,
        "start_time": "2022-03-31T05:58:37.149Z"
      },
      {
        "duration": 31,
        "start_time": "2022-03-31T05:58:37.157Z"
      },
      {
        "duration": 11,
        "start_time": "2022-03-31T05:58:37.189Z"
      },
      {
        "duration": 4,
        "start_time": "2022-03-31T05:58:37.202Z"
      },
      {
        "duration": 302,
        "start_time": "2022-03-31T05:58:37.207Z"
      },
      {
        "duration": 37,
        "start_time": "2022-03-31T05:58:37.510Z"
      },
      {
        "duration": 22,
        "start_time": "2022-03-31T05:58:37.548Z"
      },
      {
        "duration": 20,
        "start_time": "2022-03-31T05:58:37.572Z"
      },
      {
        "duration": 274,
        "start_time": "2022-03-31T05:58:37.594Z"
      },
      {
        "duration": 22,
        "start_time": "2022-03-31T05:58:37.871Z"
      },
      {
        "duration": 19,
        "start_time": "2022-03-31T05:58:37.894Z"
      },
      {
        "duration": 31,
        "start_time": "2022-03-31T05:58:37.915Z"
      },
      {
        "duration": 5,
        "start_time": "2022-03-31T05:58:37.948Z"
      },
      {
        "duration": 8,
        "start_time": "2022-03-31T05:58:37.954Z"
      },
      {
        "duration": 599,
        "start_time": "2022-03-31T05:58:37.963Z"
      },
      {
        "duration": 520,
        "start_time": "2022-03-31T05:58:38.564Z"
      },
      {
        "duration": 528,
        "start_time": "2022-03-31T05:58:39.086Z"
      },
      {
        "duration": 737,
        "start_time": "2022-03-31T05:58:39.616Z"
      },
      {
        "duration": 410,
        "start_time": "2022-03-31T05:58:40.357Z"
      },
      {
        "duration": 7,
        "start_time": "2022-03-31T05:58:40.769Z"
      },
      {
        "duration": 672,
        "start_time": "2022-03-31T05:58:40.778Z"
      },
      {
        "duration": 517,
        "start_time": "2022-03-31T05:58:41.452Z"
      },
      {
        "duration": 17,
        "start_time": "2022-03-31T05:58:41.970Z"
      },
      {
        "duration": 9,
        "start_time": "2022-03-31T05:58:41.988Z"
      },
      {
        "duration": 5,
        "start_time": "2022-03-31T05:58:41.999Z"
      },
      {
        "duration": 6,
        "start_time": "2022-03-31T05:58:42.005Z"
      },
      {
        "duration": 58,
        "start_time": "2022-03-31T05:58:42.013Z"
      },
      {
        "duration": 6,
        "start_time": "2022-03-31T05:58:42.073Z"
      },
      {
        "duration": 9,
        "start_time": "2022-03-31T05:58:42.080Z"
      },
      {
        "duration": 12,
        "start_time": "2022-03-31T05:58:42.090Z"
      },
      {
        "duration": 7,
        "start_time": "2022-03-31T05:58:42.104Z"
      },
      {
        "duration": 6,
        "start_time": "2022-03-31T05:58:42.112Z"
      },
      {
        "duration": 2,
        "start_time": "2022-03-31T05:58:42.138Z"
      },
      {
        "duration": 12,
        "start_time": "2022-03-31T05:58:42.142Z"
      },
      {
        "duration": 2483,
        "start_time": "2022-03-31T05:58:42.156Z"
      },
      {
        "duration": 2898,
        "start_time": "2022-03-31T05:58:44.641Z"
      },
      {
        "duration": 113495,
        "start_time": "2022-03-31T05:58:47.542Z"
      },
      {
        "duration": 42007,
        "start_time": "2022-03-31T06:00:41.040Z"
      },
      {
        "duration": 892520,
        "start_time": "2022-03-31T06:01:23.139Z"
      },
      {
        "duration": 9,
        "start_time": "2022-03-31T06:16:15.661Z"
      },
      {
        "duration": 26,
        "start_time": "2022-03-31T06:16:15.673Z"
      },
      {
        "duration": 39768,
        "start_time": "2022-03-31T06:16:15.701Z"
      },
      {
        "duration": 8,
        "start_time": "2022-03-31T06:16:55.471Z"
      },
      {
        "duration": 23,
        "start_time": "2022-03-31T06:16:55.481Z"
      },
      {
        "duration": 32,
        "start_time": "2022-03-31T06:16:55.506Z"
      },
      {
        "duration": 40899,
        "start_time": "2022-03-31T06:16:55.540Z"
      },
      {
        "duration": 304,
        "start_time": "2022-03-31T06:17:36.441Z"
      },
      {
        "duration": 1430,
        "start_time": "2022-03-31T06:21:18.433Z"
      },
      {
        "duration": 277,
        "start_time": "2022-03-31T06:21:19.865Z"
      },
      {
        "duration": 79,
        "start_time": "2022-03-31T06:21:20.143Z"
      },
      {
        "duration": 348,
        "start_time": "2022-03-31T06:21:20.224Z"
      },
      {
        "duration": 3,
        "start_time": "2022-03-31T06:21:20.574Z"
      },
      {
        "duration": 179,
        "start_time": "2022-03-31T06:21:20.579Z"
      },
      {
        "duration": 48,
        "start_time": "2022-03-31T06:21:20.759Z"
      },
      {
        "duration": 140,
        "start_time": "2022-03-31T06:21:20.838Z"
      },
      {
        "duration": 25,
        "start_time": "2022-03-31T06:21:20.980Z"
      },
      {
        "duration": 8,
        "start_time": "2022-03-31T06:21:21.008Z"
      },
      {
        "duration": 43,
        "start_time": "2022-03-31T06:21:21.017Z"
      },
      {
        "duration": 35,
        "start_time": "2022-03-31T06:21:21.061Z"
      },
      {
        "duration": 22,
        "start_time": "2022-03-31T06:21:21.098Z"
      },
      {
        "duration": 302,
        "start_time": "2022-03-31T06:21:21.122Z"
      },
      {
        "duration": 24,
        "start_time": "2022-03-31T06:21:21.426Z"
      },
      {
        "duration": 33,
        "start_time": "2022-03-31T06:21:21.451Z"
      },
      {
        "duration": 43,
        "start_time": "2022-03-31T06:21:21.485Z"
      },
      {
        "duration": 275,
        "start_time": "2022-03-31T06:21:21.530Z"
      },
      {
        "duration": 51,
        "start_time": "2022-03-31T06:21:21.807Z"
      },
      {
        "duration": 29,
        "start_time": "2022-03-31T06:21:21.859Z"
      },
      {
        "duration": 31,
        "start_time": "2022-03-31T06:21:21.890Z"
      },
      {
        "duration": 18,
        "start_time": "2022-03-31T06:21:21.922Z"
      },
      {
        "duration": 30,
        "start_time": "2022-03-31T06:21:21.942Z"
      },
      {
        "duration": 654,
        "start_time": "2022-03-31T06:21:21.974Z"
      },
      {
        "duration": 524,
        "start_time": "2022-03-31T06:21:22.637Z"
      },
      {
        "duration": 530,
        "start_time": "2022-03-31T06:21:23.163Z"
      },
      {
        "duration": 749,
        "start_time": "2022-03-31T06:21:23.694Z"
      },
      {
        "duration": 404,
        "start_time": "2022-03-31T06:21:24.446Z"
      },
      {
        "duration": 7,
        "start_time": "2022-03-31T06:21:24.852Z"
      },
      {
        "duration": 637,
        "start_time": "2022-03-31T06:21:24.861Z"
      },
      {
        "duration": 495,
        "start_time": "2022-03-31T06:21:25.500Z"
      },
      {
        "duration": 16,
        "start_time": "2022-03-31T06:21:25.997Z"
      },
      {
        "duration": 25,
        "start_time": "2022-03-31T06:21:26.014Z"
      },
      {
        "duration": 4,
        "start_time": "2022-03-31T06:21:26.040Z"
      },
      {
        "duration": 6,
        "start_time": "2022-03-31T06:21:26.046Z"
      },
      {
        "duration": 40,
        "start_time": "2022-03-31T06:21:26.053Z"
      },
      {
        "duration": 6,
        "start_time": "2022-03-31T06:21:26.095Z"
      },
      {
        "duration": 8,
        "start_time": "2022-03-31T06:21:26.102Z"
      },
      {
        "duration": 28,
        "start_time": "2022-03-31T06:21:26.112Z"
      },
      {
        "duration": 5,
        "start_time": "2022-03-31T06:21:26.142Z"
      },
      {
        "duration": 5,
        "start_time": "2022-03-31T06:21:26.148Z"
      },
      {
        "duration": 7,
        "start_time": "2022-03-31T06:21:26.155Z"
      },
      {
        "duration": 4,
        "start_time": "2022-03-31T06:21:26.164Z"
      },
      {
        "duration": 2069,
        "start_time": "2022-03-31T06:21:26.170Z"
      },
      {
        "duration": 2898,
        "start_time": "2022-03-31T06:21:28.241Z"
      },
      {
        "duration": 114215,
        "start_time": "2022-03-31T06:21:31.141Z"
      },
      {
        "duration": 42203,
        "start_time": "2022-03-31T06:23:25.440Z"
      },
      {
        "duration": 889922,
        "start_time": "2022-03-31T06:24:07.645Z"
      },
      {
        "duration": 7,
        "start_time": "2022-03-31T06:38:57.569Z"
      },
      {
        "duration": 10,
        "start_time": "2022-03-31T06:38:57.577Z"
      },
      {
        "duration": 38898,
        "start_time": "2022-03-31T06:38:57.589Z"
      },
      {
        "duration": 8,
        "start_time": "2022-03-31T06:39:36.489Z"
      },
      {
        "duration": 8,
        "start_time": "2022-03-31T06:39:36.499Z"
      },
      {
        "duration": 29,
        "start_time": "2022-03-31T06:39:36.509Z"
      },
      {
        "duration": 38665,
        "start_time": "2022-03-31T06:39:36.540Z"
      },
      {
        "duration": 239,
        "start_time": "2022-03-31T06:40:15.206Z"
      }
    ],
    "kernelspec": {
      "display_name": "Python 3 (ipykernel)",
      "language": "python",
      "name": "python3"
    },
    "language_info": {
      "codemirror_mode": {
        "name": "ipython",
        "version": 3
      },
      "file_extension": ".py",
      "mimetype": "text/x-python",
      "name": "python",
      "nbconvert_exporter": "python",
      "pygments_lexer": "ipython3",
      "version": "3.9.5"
    },
    "toc": {
      "base_numbering": 1,
      "nav_menu": {},
      "number_sections": true,
      "sideBar": true,
      "skip_h1_title": true,
      "title_cell": "Содержание",
      "title_sidebar": "Contents",
      "toc_cell": true,
      "toc_position": {},
      "toc_section_display": true,
      "toc_window_display": true
    },
    "colab": {
      "name": "a19f6b08-3990-455a-9cf7-88ec9df88850 (1).ipynb",
      "provenance": []
    }
  },
  "nbformat": 4,
  "nbformat_minor": 0
}