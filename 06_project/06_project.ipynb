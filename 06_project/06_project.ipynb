{
  "cells": [
    {
      "cell_type": "markdown",
      "metadata": {
        "id": "Nqgh0S0VIlq7"
      },
      "source": [
        "# Рекомендация тарифов"
      ]
    },
    {
      "cell_type": "markdown",
      "metadata": {
        "id": "ERbd20rLIlq7"
      },
      "source": [
        "В вашем распоряжении данные о поведении клиентов, которые уже перешли на эти тарифы (из проекта курса «Статистический анализ данных»). Нужно построить модель для задачи классификации, которая выберет подходящий тариф. Предобработка данных не понадобится — вы её уже сделали.\n",
        "\n",
        "Постройте модель с максимально большим значением *accuracy*. Чтобы сдать проект успешно, нужно довести долю правильных ответов по крайней мере до 0.75. Проверьте *accuracy* на тестовой выборке самостоятельно."
      ]
    },
    {
      "cell_type": "markdown",
      "metadata": {
        "id": "RS6lRbwsIlq8"
      },
      "source": [
        "## Откройте и изучите файл"
      ]
    },
    {
      "cell_type": "markdown",
      "metadata": {
        "id": "B_sJIdRkIlq8"
      },
      "source": [
        "### Описание данных\n",
        "Каждый объект в наборе данных — это информация о поведении одного пользователя за месяц. Известно:\n",
        "* сalls — количество звонков,\n",
        "* minutes — суммарная длительность звонков в минутах,\n",
        "* messages — количество sms-сообщений,\n",
        "* mb_used — израсходованный интернет-трафик в Мб,\n",
        "* is_ultra — каким тарифом пользовался в течение месяца («Ультра» — 1, «Смарт» — 0)"
      ]
    },
    {
      "cell_type": "code",
      "execution_count": null,
      "metadata": {
        "id": "W-zRRJCqIlq9"
      },
      "outputs": [],
      "source": [
        "import pandas as pd\n",
        "from sklearn.model_selection import train_test_split\n",
        "from sklearn.tree import DecisionTreeClassifier \n",
        "from sklearn.ensemble import RandomForestClassifier\n",
        "from sklearn.linear_model import LogisticRegression\n",
        "from sklearn.metrics import accuracy_score\n",
        "from sklearn.metrics import precision_score\n",
        "from sklearn.metrics import recall_score\n",
        "from sklearn.metrics import f1_score\n",
        "import warnings\n",
        "warnings.filterwarnings('ignore')"
      ]
    },
    {
      "cell_type": "markdown",
      "metadata": {
        "id": "6vQUt0P9Ilq_"
      },
      "source": [
        "Подключение библиотек."
      ]
    },
    {
      "cell_type": "code",
      "execution_count": null,
      "metadata": {
        "id": "l2397GU-Ilq_",
        "outputId": "075c3c94-7ffc-4f30-d59f-d7db3dd89211"
      },
      "outputs": [
        {
          "name": "stdout",
          "output_type": "stream",
          "text": [
            "<class 'pandas.core.frame.DataFrame'>\n",
            "RangeIndex: 3214 entries, 0 to 3213\n",
            "Data columns (total 5 columns):\n",
            " #   Column    Non-Null Count  Dtype  \n",
            "---  ------    --------------  -----  \n",
            " 0   calls     3214 non-null   float64\n",
            " 1   minutes   3214 non-null   float64\n",
            " 2   messages  3214 non-null   float64\n",
            " 3   mb_used   3214 non-null   float64\n",
            " 4   is_ultra  3214 non-null   int64  \n",
            "dtypes: float64(4), int64(1)\n",
            "memory usage: 125.7 KB\n"
          ]
        }
      ],
      "source": [
        "tariff_data = pd.read_csv('/datasets/users_behavior.csv')\n",
        "tariff_data.info()"
      ]
    },
    {
      "cell_type": "code",
      "execution_count": null,
      "metadata": {
        "id": "jw8ATI2KIlrA",
        "outputId": "c5ad85e2-8d93-42ee-a861-d832ddec9bff"
      },
      "outputs": [
        {
          "data": {
            "text/html": [
              "<div>\n",
              "<style scoped>\n",
              "    .dataframe tbody tr th:only-of-type {\n",
              "        vertical-align: middle;\n",
              "    }\n",
              "\n",
              "    .dataframe tbody tr th {\n",
              "        vertical-align: top;\n",
              "    }\n",
              "\n",
              "    .dataframe thead th {\n",
              "        text-align: right;\n",
              "    }\n",
              "</style>\n",
              "<table border=\"1\" class=\"dataframe\">\n",
              "  <thead>\n",
              "    <tr style=\"text-align: right;\">\n",
              "      <th></th>\n",
              "      <th>calls</th>\n",
              "      <th>minutes</th>\n",
              "      <th>messages</th>\n",
              "      <th>mb_used</th>\n",
              "      <th>is_ultra</th>\n",
              "    </tr>\n",
              "  </thead>\n",
              "  <tbody>\n",
              "    <tr>\n",
              "      <th>0</th>\n",
              "      <td>40.0</td>\n",
              "      <td>311.90</td>\n",
              "      <td>83.0</td>\n",
              "      <td>19915.42</td>\n",
              "      <td>0</td>\n",
              "    </tr>\n",
              "    <tr>\n",
              "      <th>1</th>\n",
              "      <td>85.0</td>\n",
              "      <td>516.75</td>\n",
              "      <td>56.0</td>\n",
              "      <td>22696.96</td>\n",
              "      <td>0</td>\n",
              "    </tr>\n",
              "    <tr>\n",
              "      <th>2</th>\n",
              "      <td>77.0</td>\n",
              "      <td>467.66</td>\n",
              "      <td>86.0</td>\n",
              "      <td>21060.45</td>\n",
              "      <td>0</td>\n",
              "    </tr>\n",
              "    <tr>\n",
              "      <th>3</th>\n",
              "      <td>106.0</td>\n",
              "      <td>745.53</td>\n",
              "      <td>81.0</td>\n",
              "      <td>8437.39</td>\n",
              "      <td>1</td>\n",
              "    </tr>\n",
              "    <tr>\n",
              "      <th>4</th>\n",
              "      <td>66.0</td>\n",
              "      <td>418.74</td>\n",
              "      <td>1.0</td>\n",
              "      <td>14502.75</td>\n",
              "      <td>0</td>\n",
              "    </tr>\n",
              "  </tbody>\n",
              "</table>\n",
              "</div>"
            ],
            "text/plain": [
              "   calls  minutes  messages   mb_used  is_ultra\n",
              "0   40.0   311.90      83.0  19915.42         0\n",
              "1   85.0   516.75      56.0  22696.96         0\n",
              "2   77.0   467.66      86.0  21060.45         0\n",
              "3  106.0   745.53      81.0   8437.39         1\n",
              "4   66.0   418.74       1.0  14502.75         0"
            ]
          },
          "execution_count": 3,
          "metadata": {},
          "output_type": "execute_result"
        }
      ],
      "source": [
        "tariff_data.head()"
      ]
    },
    {
      "cell_type": "markdown",
      "metadata": {
        "id": "kdKdeed5IlrB"
      },
      "source": [
        "Открытие файла и отображение информации о датафрейме."
      ]
    },
    {
      "cell_type": "code",
      "execution_count": null,
      "metadata": {
        "id": "McRr-Y3XIlrB",
        "outputId": "81808493-14af-4ed8-eba4-78f6849d098d"
      },
      "outputs": [
        {
          "data": {
            "text/html": [
              "<div>\n",
              "<style scoped>\n",
              "    .dataframe tbody tr th:only-of-type {\n",
              "        vertical-align: middle;\n",
              "    }\n",
              "\n",
              "    .dataframe tbody tr th {\n",
              "        vertical-align: top;\n",
              "    }\n",
              "\n",
              "    .dataframe thead th {\n",
              "        text-align: right;\n",
              "    }\n",
              "</style>\n",
              "<table border=\"1\" class=\"dataframe\">\n",
              "  <thead>\n",
              "    <tr style=\"text-align: right;\">\n",
              "      <th></th>\n",
              "      <th>count</th>\n",
              "      <th>mean</th>\n",
              "      <th>std</th>\n",
              "      <th>min</th>\n",
              "      <th>25%</th>\n",
              "      <th>50%</th>\n",
              "      <th>75%</th>\n",
              "      <th>max</th>\n",
              "    </tr>\n",
              "  </thead>\n",
              "  <tbody>\n",
              "    <tr>\n",
              "      <th>calls</th>\n",
              "      <td>3214.0</td>\n",
              "      <td>63.038892</td>\n",
              "      <td>33.236368</td>\n",
              "      <td>0.0</td>\n",
              "      <td>40.0000</td>\n",
              "      <td>62.000</td>\n",
              "      <td>82.0000</td>\n",
              "      <td>244.00</td>\n",
              "    </tr>\n",
              "    <tr>\n",
              "      <th>minutes</th>\n",
              "      <td>3214.0</td>\n",
              "      <td>438.208787</td>\n",
              "      <td>234.569872</td>\n",
              "      <td>0.0</td>\n",
              "      <td>274.5750</td>\n",
              "      <td>430.600</td>\n",
              "      <td>571.9275</td>\n",
              "      <td>1632.06</td>\n",
              "    </tr>\n",
              "    <tr>\n",
              "      <th>messages</th>\n",
              "      <td>3214.0</td>\n",
              "      <td>38.281269</td>\n",
              "      <td>36.148326</td>\n",
              "      <td>0.0</td>\n",
              "      <td>9.0000</td>\n",
              "      <td>30.000</td>\n",
              "      <td>57.0000</td>\n",
              "      <td>224.00</td>\n",
              "    </tr>\n",
              "    <tr>\n",
              "      <th>mb_used</th>\n",
              "      <td>3214.0</td>\n",
              "      <td>17207.673836</td>\n",
              "      <td>7570.968246</td>\n",
              "      <td>0.0</td>\n",
              "      <td>12491.9025</td>\n",
              "      <td>16943.235</td>\n",
              "      <td>21424.7000</td>\n",
              "      <td>49745.73</td>\n",
              "    </tr>\n",
              "    <tr>\n",
              "      <th>is_ultra</th>\n",
              "      <td>3214.0</td>\n",
              "      <td>0.306472</td>\n",
              "      <td>0.461100</td>\n",
              "      <td>0.0</td>\n",
              "      <td>0.0000</td>\n",
              "      <td>0.000</td>\n",
              "      <td>1.0000</td>\n",
              "      <td>1.00</td>\n",
              "    </tr>\n",
              "  </tbody>\n",
              "</table>\n",
              "</div>"
            ],
            "text/plain": [
              "           count          mean          std  min         25%        50%  \\\n",
              "calls     3214.0     63.038892    33.236368  0.0     40.0000     62.000   \n",
              "minutes   3214.0    438.208787   234.569872  0.0    274.5750    430.600   \n",
              "messages  3214.0     38.281269    36.148326  0.0      9.0000     30.000   \n",
              "mb_used   3214.0  17207.673836  7570.968246  0.0  12491.9025  16943.235   \n",
              "is_ultra  3214.0      0.306472     0.461100  0.0      0.0000      0.000   \n",
              "\n",
              "                 75%       max  \n",
              "calls        82.0000    244.00  \n",
              "minutes     571.9275   1632.06  \n",
              "messages     57.0000    224.00  \n",
              "mb_used   21424.7000  49745.73  \n",
              "is_ultra      1.0000      1.00  "
            ]
          },
          "execution_count": 4,
          "metadata": {},
          "output_type": "execute_result"
        }
      ],
      "source": [
        "tariff_data.describe().T"
      ]
    },
    {
      "cell_type": "markdown",
      "metadata": {
        "id": "H9IqLQLBIlrB"
      },
      "source": [
        "Вывод сводной таблицы по датафрейму в транспорированном виде.\n",
        "Данных для анализа не много, но достаточно для текущей задачи в точность >= 0.75."
      ]
    },
    {
      "cell_type": "markdown",
      "metadata": {
        "id": "srOCYMhfIlrC"
      },
      "source": [
        "### Вывод.\n",
        "У нас задача классификации. \n",
        "* Целевой признак берем столбец is_ultra. \n",
        "* Остальные признаки помогут нам предсказывать решение по целевому признаку is_ultra.\n",
        "\n",
        "Данных (125.7 KB) не очень много."
      ]
    },
    {
      "cell_type": "markdown",
      "metadata": {
        "id": "tMiKSdbvIlrD"
      },
      "source": [
        "## Разбейте данные на выборки"
      ]
    },
    {
      "cell_type": "code",
      "execution_count": null,
      "metadata": {
        "id": "Wi1W00myIlrD",
        "outputId": "9eb13db3-d002-4769-9898-71a31636d86a"
      },
      "outputs": [
        {
          "name": "stdout",
          "output_type": "stream",
          "text": [
            "Размер тренериующей выборки 1928\n",
            "Размер валидационной выборки 643\n",
            "Размер тестовой выборки 643\n"
          ]
        }
      ],
      "source": [
        "train_tariff_data, vnt_tariff_data = train_test_split(tariff_data, test_size=0.40, random_state=18032022)\n",
        "valid_tariff_data, test_tariff_data = train_test_split(vnt_tariff_data, test_size=0.50, random_state=18032022)\n",
        "\n",
        "print('Размер тренериующей выборки', train_tariff_data.shape[0])\n",
        "print('Размер валидационной выборки', valid_tariff_data.shape[0])\n",
        "print('Размер тестовой выборки', test_tariff_data.shape[0])"
      ]
    },
    {
      "cell_type": "markdown",
      "metadata": {
        "id": "onSy7GlRIlrE"
      },
      "source": [
        "Данные разбиваются на 60% 20 % 20 %."
      ]
    },
    {
      "cell_type": "code",
      "execution_count": null,
      "metadata": {
        "id": "7L64Vov0IlrE"
      },
      "outputs": [],
      "source": [
        "train_tariff_data_features = train_tariff_data.drop(['is_ultra'], axis=1)\n",
        "train_tariff_data_target = train_tariff_data['is_ultra']\n",
        "valid_tariff_data_features = valid_tariff_data.drop(['is_ultra'], axis=1)\n",
        "valid_tariff_data_target = valid_tariff_data['is_ultra']\n",
        "test_tariff_data_features = test_tariff_data.drop(['is_ultra'], axis=1)\n",
        "test_tariff_data_target = test_tariff_data['is_ultra']"
      ]
    },
    {
      "cell_type": "markdown",
      "metadata": {
        "id": "Rk5LYn9cIlrE"
      },
      "source": [
        "Создаем таблицы признаков и целового признака для каждого дата фрейма без is_ultra."
      ]
    },
    {
      "cell_type": "markdown",
      "metadata": {
        "id": "rimIgY6kIlrE"
      },
      "source": [
        "### Вывод\n",
        "Разбили данные на 60% 20 % 20 %.\n",
        "* Размер тренериующей выборки 1928\n",
        "* Размер валидационной выборки 643\n",
        "* Размер тестовой выборки 643\n",
        "\n",
        "\n",
        "* Обучение пройдет на данных train_tariff_data\n",
        "* Валидация модели на данных valid_tariff_data\n",
        "* Лучшая модель по валидации будет применена на данных test_tariff_data"
      ]
    },
    {
      "cell_type": "markdown",
      "metadata": {
        "id": "DmWROT7QIlrF"
      },
      "source": [
        "## Исследуйте модели"
      ]
    },
    {
      "cell_type": "markdown",
      "metadata": {
        "id": "cnLkZQZBIlrF"
      },
      "source": [
        "### Начнем с Дерева решения. \n",
        "Изменим в цикле гиперпараметр max_depth."
      ]
    },
    {
      "cell_type": "code",
      "execution_count": null,
      "metadata": {
        "id": "fDwDberrIlrF",
        "outputId": "de2a5bd3-2bcb-419e-c6a4-49b25f80dc7a"
      },
      "outputs": [
        {
          "name": "stdout",
          "output_type": "stream",
          "text": [
            "Глубина дерева 1 Точность 0.7651632970451011\n",
            "Глубина дерева 3 Точность 0.8087091757387247\n",
            "Глубина дерева 5 Точность 0.8118195956454122\n",
            "Глубина дерева 7 Точность 0.8102643856920684\n",
            "Глубина дерева 9 Точность 0.807153965785381\n",
            "Глубина дерева 11 Точность 0.7884914463452566\n",
            "Глубина дерева 13 Точность 0.776049766718507\n",
            "Глубина дерева 15 Точность 0.7418351477449455\n",
            "Глубина дерева 17 Точность 0.7325038880248833\n",
            "Глубина дерева 19 Точность 0.7262830482115086\n",
            "Глубина дерева 21 Точность 0.6951788491446346\n",
            "Глубина дерева 23 Точность 0.6998444790046656\n",
            "Глубина дерева 25 Точность 0.6998444790046656\n",
            "Глубина дерева 27 Точность 0.6998444790046656\n",
            "Глубина дерева 29 Точность 0.6998444790046656\n",
            "Глубина дерева 31 Точность 0.6998444790046656\n",
            "Глубина дерева 33 Точность 0.6998444790046656\n",
            "Глубина дерева 35 Точность 0.6998444790046656\n",
            "Глубина дерева 37 Точность 0.6998444790046656\n",
            "Глубина дерева 39 Точность 0.6998444790046656\n",
            "Глубина дерева 41 Точность 0.6998444790046656\n",
            "Глубина дерева 43 Точность 0.6998444790046656\n",
            "Глубина дерева 45 Точность 0.6998444790046656\n",
            "Глубина дерева 47 Точность 0.6998444790046656\n",
            "Глубина дерева 49 Точность 0.6998444790046656\n",
            "Глубина дерева 51 Точность 0.6998444790046656\n",
            "Глубина дерева 53 Точность 0.6998444790046656\n",
            "Глубина дерева 55 Точность 0.6998444790046656\n",
            "Глубина дерева 57 Точность 0.6998444790046656\n",
            "Глубина дерева 59 Точность 0.6998444790046656\n",
            "Глубина дерева 61 Точность 0.6998444790046656\n",
            "Глубина дерева 63 Точность 0.6998444790046656\n",
            "Глубина дерева 65 Точность 0.6998444790046656\n",
            "Глубина дерева 67 Точность 0.6998444790046656\n",
            "Глубина дерева 69 Точность 0.6998444790046656\n",
            "Глубина дерева 71 Точность 0.6998444790046656\n",
            "Глубина дерева 73 Точность 0.6998444790046656\n",
            "Глубина дерева 75 Точность 0.6998444790046656\n",
            "Глубина дерева 77 Точность 0.6998444790046656\n",
            "Глубина дерева 79 Точность 0.6998444790046656\n",
            "Глубина дерева 81 Точность 0.6998444790046656\n",
            "Глубина дерева 83 Точность 0.6998444790046656\n",
            "Глубина дерева 85 Точность 0.6998444790046656\n",
            "Глубина дерева 87 Точность 0.6998444790046656\n",
            "Глубина дерева 89 Точность 0.6998444790046656\n",
            "Глубина дерева 91 Точность 0.6998444790046656\n",
            "Глубина дерева 93 Точность 0.6998444790046656\n",
            "Глубина дерева 95 Точность 0.6998444790046656\n",
            "Глубина дерева 97 Точность 0.6998444790046656\n",
            "Глубина дерева 99 Точность 0.6998444790046656\n",
            "Лучшая глубина дерева 5 Лучшая точность 0.8118195956454122\n",
            "CPU times: user 612 ms, sys: 23.3 ms, total: 635 ms\n",
            "Wall time: 637 ms\n"
          ]
        }
      ],
      "source": [
        "%%time\n",
        "\n",
        "best_depth = 0\n",
        "best_accuracy = 0\n",
        "\n",
        "for depth in range(1,101,2):\n",
        "    model = DecisionTreeClassifier(random_state=18032022, max_depth=depth)\n",
        "    model.fit(train_tariff_data_features, train_tariff_data_target)\n",
        "    valid_predictions = model.predict(valid_tariff_data_features)\n",
        "    accuracy = accuracy_score(valid_tariff_data_target, valid_predictions)\n",
        "    print('Глубина дерева', depth,'Точность',accuracy)\n",
        "    if accuracy > best_accuracy:\n",
        "        best_depth = depth\n",
        "        best_accuracy = accuracy\n",
        "\n",
        "print('Лучшая глубина дерева', best_depth,'Лучшая точность', best_accuracy) "
      ]
    },
    {
      "cell_type": "markdown",
      "metadata": {
        "id": "JyDG80glIlrG"
      },
      "source": [
        "Шаг для перебора взят 2, при увеличении глубины дерева на 1, качество почти не меняется."
      ]
    },
    {
      "cell_type": "code",
      "execution_count": null,
      "metadata": {
        "id": "VS7zL9bLIlrG",
        "outputId": "8361bee5-1893-4f5e-fc4b-e3d5d40fac8d"
      },
      "outputs": [
        {
          "name": "stdout",
          "output_type": "stream",
          "text": [
            "Глубина дерева 5 Точность 0.8118195956454122\n",
            "CPU times: user 11 ms, sys: 153 µs, total: 11.1 ms\n",
            "Wall time: 9.29 ms\n"
          ]
        }
      ],
      "source": [
        "%%time\n",
        "\n",
        "best_tree_model = DecisionTreeClassifier(random_state=18032022, max_depth=5)\n",
        "best_tree_model.fit(train_tariff_data_features, train_tariff_data_target)\n",
        "valid_predictions = best_tree_model.predict(valid_tariff_data_features)\n",
        "accuracy = accuracy_score(valid_tariff_data_target, valid_predictions)\n",
        "print('Глубина дерева', 5,'Точность',accuracy)"
      ]
    },
    {
      "cell_type": "markdown",
      "metadata": {
        "id": "9Lpb9tyhIlrG"
      },
      "source": [
        "Лучший показатель при глубине дерева 5"
      ]
    },
    {
      "cell_type": "code",
      "execution_count": null,
      "metadata": {
        "id": "N-Fo5D1HIlrG",
        "outputId": "ff0c0b5c-faf9-4994-866a-4a11282a1fa4"
      },
      "outputs": [
        {
          "name": "stdout",
          "output_type": "stream",
          "text": [
            "Глубина дерева 5 Точность 0.8118195956454122\n"
          ]
        }
      ],
      "source": [
        "model = DecisionTreeClassifier(random_state=18032022, max_depth=5, criterion=\"entropy\")\n",
        "model.fit(train_tariff_data_features, train_tariff_data_target)\n",
        "valid_predictions = best_tree_model.predict(valid_tariff_data_features)\n",
        "accuracy = accuracy_score(valid_tariff_data_target, valid_predictions)\n",
        "print('Глубина дерева', 5,'Точность',accuracy)"
      ]
    },
    {
      "cell_type": "markdown",
      "metadata": {
        "id": "h-sDG34fIlrG"
      },
      "source": [
        "Настроим гиперпараметр criterion с gini на entropy."
      ]
    },
    {
      "cell_type": "code",
      "execution_count": null,
      "metadata": {
        "id": "CyQ2Qk_BIlrH",
        "outputId": "2ea63b1b-e7e3-4f52-9a21-94baf083be8c"
      },
      "outputs": [
        {
          "name": "stdout",
          "output_type": "stream",
          "text": [
            "Глубина дерева 5 Точность 0.8118195956454122\n"
          ]
        }
      ],
      "source": [
        "model = DecisionTreeClassifier(random_state=18032022, max_depth=5, splitter='random')\n",
        "model.fit(train_tariff_data_features, train_tariff_data_target)\n",
        "valid_predictions = best_tree_model.predict(valid_tariff_data_features)\n",
        "accuracy = accuracy_score(valid_tariff_data_target, valid_predictions)\n",
        "print('Глубина дерева', 5,'Точность',accuracy)"
      ]
    },
    {
      "cell_type": "markdown",
      "metadata": {
        "id": "iv70unx_IlrH"
      },
      "source": [
        "Гиперпараметр gini показывает себя лучше. Изменим splitter с best на random."
      ]
    },
    {
      "cell_type": "markdown",
      "metadata": {
        "id": "4kKxH9EQIlrI"
      },
      "source": [
        "### Перейдем к оценке случайного леса. \n",
        "Изменим в цикле гиперпараметр n_estimators."
      ]
    },
    {
      "cell_type": "code",
      "execution_count": null,
      "metadata": {
        "id": "PX4ONDOfIlrI",
        "outputId": "ef1cf73c-3882-40f0-d1b5-a26837ab5338"
      },
      "outputs": [
        {
          "name": "stdout",
          "output_type": "stream",
          "text": [
            "Количество деревьев 1 Точность 0.7107309486780715\n",
            "Количество деревьев 2 Точность 0.7713841368584758\n",
            "Количество деревьев 3 Точность 0.7527216174183515\n",
            "Количество деревьев 4 Точность 0.7978227060653188\n",
            "Количество деревьев 5 Точность 0.7744945567651633\n",
            "Количество деревьев 6 Точность 0.7947122861586314\n",
            "Количество деревьев 7 Точность 0.7807153965785381\n",
            "Количество деревьев 8 Точность 0.8102643856920684\n",
            "Количество деревьев 9 Точность 0.7822706065318819\n",
            "Количество деревьев 10 Точность 0.7978227060653188\n",
            "Количество деревьев 11 Точность 0.7931570762052877\n",
            "Количество деревьев 12 Точность 0.7916018662519441\n",
            "Количество деревьев 13 Точность 0.7838258164852255\n",
            "Количество деревьев 14 Точность 0.7931570762052877\n",
            "Количество деревьев 15 Точность 0.7884914463452566\n",
            "Количество деревьев 16 Точность 0.7947122861586314\n",
            "Количество деревьев 17 Точность 0.7947122861586314\n",
            "Количество деревьев 18 Точность 0.7993779160186625\n",
            "Количество деревьев 19 Точность 0.7869362363919129\n",
            "Количество деревьев 20 Точность 0.7884914463452566\n",
            "Количество деревьев 21 Точность 0.7900466562986003\n",
            "Количество деревьев 22 Точность 0.7916018662519441\n",
            "Количество деревьев 23 Точность 0.7869362363919129\n",
            "Количество деревьев 24 Точность 0.7978227060653188\n",
            "Количество деревьев 25 Точность 0.7962674961119751\n",
            "Количество деревьев 26 Точность 0.7978227060653188\n",
            "Количество деревьев 27 Точность 0.7916018662519441\n",
            "Количество деревьев 28 Точность 0.7962674961119751\n",
            "Количество деревьев 29 Точность 0.7978227060653188\n",
            "Количество деревьев 30 Точность 0.7931570762052877\n",
            "Количество деревьев 31 Точность 0.7962674961119751\n",
            "Количество деревьев 32 Точность 0.7947122861586314\n",
            "Количество деревьев 33 Точность 0.7947122861586314\n",
            "Количество деревьев 34 Точность 0.7993779160186625\n",
            "Количество деревьев 35 Точность 0.7947122861586314\n",
            "Количество деревьев 36 Точность 0.7978227060653188\n",
            "Количество деревьев 37 Точность 0.7993779160186625\n",
            "Количество деревьев 38 Точность 0.80248833592535\n",
            "Количество деревьев 39 Точность 0.7978227060653188\n",
            "Количество деревьев 40 Точность 0.7993779160186625\n",
            "Количество деревьев 41 Точность 0.7978227060653188\n",
            "Количество деревьев 42 Точность 0.7993779160186625\n",
            "Количество деревьев 43 Точность 0.7962674961119751\n",
            "Количество деревьев 44 Точность 0.7993779160186625\n",
            "Количество деревьев 45 Точность 0.8009331259720062\n",
            "Количество деревьев 46 Точность 0.8040435458786936\n",
            "Количество деревьев 47 Точность 0.8040435458786936\n",
            "Количество деревьев 48 Точность 0.8040435458786936\n",
            "Количество деревьев 49 Точность 0.8040435458786936\n",
            "Количество деревьев 50 Точность 0.8055987558320373\n",
            "Количество деревьев 51 Точность 0.8055987558320373\n",
            "Количество деревьев 52 Точность 0.8040435458786936\n",
            "Количество деревьев 53 Точность 0.8055987558320373\n",
            "Количество деревьев 54 Точность 0.8040435458786936\n",
            "Количество деревьев 55 Точность 0.8040435458786936\n",
            "Количество деревьев 56 Точность 0.8040435458786936\n",
            "Количество деревьев 57 Точность 0.8040435458786936\n",
            "Количество деревьев 58 Точность 0.8040435458786936\n",
            "Количество деревьев 59 Точность 0.8055987558320373\n",
            "Количество деревьев 60 Точность 0.8087091757387247\n",
            "Количество деревьев 61 Точность 0.8055987558320373\n",
            "Количество деревьев 62 Точность 0.8118195956454122\n",
            "Количество деревьев 63 Точность 0.8102643856920684\n",
            "Количество деревьев 64 Точность 0.8118195956454122\n",
            "Количество деревьев 65 Точность 0.8040435458786936\n",
            "Количество деревьев 66 Точность 0.8118195956454122\n",
            "Количество деревьев 67 Точность 0.8009331259720062\n",
            "Количество деревьев 68 Точность 0.8133748055987559\n",
            "Количество деревьев 69 Точность 0.807153965785381\n",
            "Количество деревьев 70 Точность 0.8133748055987559\n",
            "Количество деревьев 71 Точность 0.8102643856920684\n",
            "Количество деревьев 72 Точность 0.8133748055987559\n",
            "Количество деревьев 73 Точность 0.8102643856920684\n",
            "Количество деревьев 74 Точность 0.8133748055987559\n",
            "Количество деревьев 75 Точность 0.8118195956454122\n",
            "Количество деревьев 76 Точность 0.8102643856920684\n",
            "Количество деревьев 77 Точность 0.8102643856920684\n",
            "Количество деревьев 78 Точность 0.8133748055987559\n",
            "Количество деревьев 79 Точность 0.807153965785381\n",
            "Количество деревьев 80 Точность 0.8087091757387247\n",
            "Количество деревьев 81 Точность 0.8087091757387247\n",
            "Количество деревьев 82 Точность 0.8087091757387247\n",
            "Количество деревьев 83 Точность 0.8087091757387247\n",
            "Количество деревьев 84 Точность 0.8087091757387247\n",
            "Количество деревьев 85 Точность 0.807153965785381\n",
            "Количество деревьев 86 Точность 0.807153965785381\n",
            "Количество деревьев 87 Точность 0.8055987558320373\n",
            "Количество деревьев 88 Точность 0.8087091757387247\n",
            "Количество деревьев 89 Точность 0.8102643856920684\n",
            "Количество деревьев 90 Точность 0.8102643856920684\n",
            "Количество деревьев 91 Точность 0.8118195956454122\n",
            "Количество деревьев 92 Точность 0.8118195956454122\n",
            "Количество деревьев 93 Точность 0.8102643856920684\n",
            "Количество деревьев 94 Точность 0.8118195956454122\n",
            "Количество деревьев 95 Точность 0.8102643856920684\n",
            "Количество деревьев 96 Точность 0.8102643856920684\n",
            "Количество деревьев 97 Точность 0.8102643856920684\n",
            "Количество деревьев 98 Точность 0.8118195956454122\n",
            "Количество деревьев 99 Точность 0.8102643856920684\n",
            "Количество деревьев 100 Точность 0.8102643856920684\n",
            "Лучшая количество деревьев 68 Лучшая точность 0.8133748055987559\n",
            "CPU times: user 20.5 s, sys: 181 ms, total: 20.6 s\n",
            "Wall time: 20.9 s\n"
          ]
        }
      ],
      "source": [
        "%%time\n",
        "\n",
        "best_estim = 0\n",
        "best_accuracy = 0\n",
        "\n",
        "for estim in range(1,101):\n",
        "    model = RandomForestClassifier(random_state=18032022, n_estimators=estim)\n",
        "    model.fit(train_tariff_data_features, train_tariff_data_target)\n",
        "    valid_predictions = model.predict(valid_tariff_data_features)\n",
        "    accuracy = accuracy_score(valid_tariff_data_target, valid_predictions)\n",
        "    print('Количество деревьев', estim,'Точность',accuracy)\n",
        "    if accuracy > best_accuracy:\n",
        "        best_estim = estim\n",
        "        best_accuracy = accuracy\n",
        "\n",
        "print('Лучшая количество деревьев', best_estim,'Лучшая точность', best_accuracy)"
      ]
    },
    {
      "cell_type": "code",
      "execution_count": null,
      "metadata": {
        "id": "c7iCo6E1IlrJ",
        "outputId": "43b2dae2-cc2c-4a91-dbde-d9711bf79cd1"
      },
      "outputs": [
        {
          "name": "stdout",
          "output_type": "stream",
          "text": [
            "Количество деревьев 68 Точность 0.8133748055987559\n",
            "CPU times: user 271 ms, sys: 7.89 ms, total: 278 ms\n",
            "Wall time: 288 ms\n"
          ]
        }
      ],
      "source": [
        "%%time\n",
        "\n",
        "best_forest_model = RandomForestClassifier(random_state=18032022, n_estimators=68)\n",
        "best_forest_model.fit(train_tariff_data_features, train_tariff_data_target)\n",
        "valid_predictions = best_forest_model.predict(valid_tariff_data_features)\n",
        "accuracy = accuracy_score(valid_tariff_data_target, valid_predictions)\n",
        "print('Количество деревьев', 68,'Точность',accuracy)"
      ]
    },
    {
      "cell_type": "markdown",
      "metadata": {
        "id": "z0WqbigBIlrJ"
      },
      "source": [
        "Лучший показатель точности при количестве деревьев 68."
      ]
    },
    {
      "cell_type": "code",
      "execution_count": null,
      "metadata": {
        "id": "eJgRTj3LIlrJ",
        "outputId": "98a29684-111d-418a-abfd-722d105d962f"
      },
      "outputs": [
        {
          "name": "stdout",
          "output_type": "stream",
          "text": [
            "Количество деревьев 68 Точность 0.7993779160186625\n"
          ]
        }
      ],
      "source": [
        "model = RandomForestClassifier(random_state=18032022, n_estimators=68, criterion='entropy')\n",
        "model.fit(train_tariff_data_features, train_tariff_data_target)\n",
        "valid_predictions = model.predict(valid_tariff_data_features)\n",
        "accuracy = accuracy_score(valid_tariff_data_target, valid_predictions)\n",
        "print('Количество деревьев', 68,'Точность',accuracy)"
      ]
    },
    {
      "cell_type": "markdown",
      "metadata": {
        "id": "MDz27vVRIlrJ"
      },
      "source": [
        "Настроим гиперпараметр criterion с gini на entropy."
      ]
    },
    {
      "cell_type": "code",
      "execution_count": null,
      "metadata": {
        "id": "5cnZ3d_bIlrK",
        "outputId": "8420b15a-e02e-49c5-b446-d023270f315a"
      },
      "outputs": [
        {
          "name": "stdout",
          "output_type": "stream",
          "text": [
            "Количество деревьев 68 Точность 0.7807153965785381\n"
          ]
        }
      ],
      "source": [
        "model = RandomForestClassifier(random_state=18032022, n_estimators=68, bootstrap=False)\n",
        "model.fit(train_tariff_data_features, train_tariff_data_target)\n",
        "valid_predictions = model.predict(valid_tariff_data_features)\n",
        "accuracy = accuracy_score(valid_tariff_data_target, valid_predictions)\n",
        "print('Количество деревьев', 68,'Точность',accuracy)"
      ]
    },
    {
      "cell_type": "markdown",
      "metadata": {
        "id": "WGRBT7RHIlrK"
      },
      "source": [
        "Гиперпараметр gini показывает себя лучше. Изменим bootstrap с True на Flase."
      ]
    },
    {
      "cell_type": "code",
      "execution_count": null,
      "metadata": {
        "id": "t5EPMesbIlrK",
        "outputId": "c33951f0-562a-49ec-ad33-665c671e766e"
      },
      "outputs": [
        {
          "name": "stdout",
          "output_type": "stream",
          "text": [
            "Количество деревьев 68 Точность 0.8133748055987559\n"
          ]
        }
      ],
      "source": [
        "model = RandomForestClassifier(random_state=18032022, n_estimators=68, warm_start=True)\n",
        "model.fit(train_tariff_data_features, train_tariff_data_target)\n",
        "valid_predictions = model.predict(valid_tariff_data_features)\n",
        "accuracy = accuracy_score(valid_tariff_data_target, valid_predictions)\n",
        "print('Количество деревьев', 68,'Точность',accuracy)"
      ]
    },
    {
      "cell_type": "markdown",
      "metadata": {
        "id": "taR8U2RLIlrK"
      },
      "source": [
        "bootstrap с True показывает себя лучше. Изменим warm_start с False на True."
      ]
    },
    {
      "cell_type": "markdown",
      "metadata": {
        "id": "74e_7HreIlrL"
      },
      "source": [
        "### Перейдем к логистической регрессии.\n",
        "Изменим гипер параметр max_iter в цикле."
      ]
    },
    {
      "cell_type": "code",
      "execution_count": null,
      "metadata": {
        "id": "WLUfQ-5gIlrL",
        "outputId": "5e7c72e5-0a1e-45be-c475-b5bb34f9a9ce"
      },
      "outputs": [
        {
          "name": "stdout",
          "output_type": "stream",
          "text": [
            "Количество итерраций 1 Точность 0.7216174183514774\n",
            "Количество итерраций 2 Точность 0.7216174183514774\n",
            "Количество итерраций 3 Точность 0.7216174183514774\n",
            "Количество итерраций 4 Точность 0.7216174183514774\n",
            "Количество итерраций 5 Точность 0.7216174183514774\n",
            "Количество итерраций 6 Точность 0.7216174183514774\n",
            "Количество итерраций 7 Точность 0.7216174183514774\n",
            "Количество итерраций 8 Точность 0.7216174183514774\n",
            "Количество итерраций 9 Точность 0.7216174183514774\n",
            "Количество итерраций 10 Точность 0.7216174183514774\n",
            "Количество итерраций 11 Точность 0.7216174183514774\n",
            "Количество итерраций 12 Точность 0.7216174183514774\n",
            "Количество итерраций 13 Точность 0.7216174183514774\n",
            "Количество итерраций 14 Точность 0.7216174183514774\n",
            "Количество итерраций 15 Точность 0.7216174183514774\n",
            "Количество итерраций 16 Точность 0.7216174183514774\n",
            "Количество итерраций 17 Точность 0.7216174183514774\n",
            "Количество итерраций 18 Точность 0.7216174183514774\n",
            "Количество итерраций 19 Точность 0.7216174183514774\n",
            "Количество итерраций 20 Точность 0.7216174183514774\n",
            "Количество итерраций 21 Точность 0.7278382581648523\n",
            "Количество итерраций 22 Точность 0.7247278382581649\n",
            "Количество итерраций 23 Точность 0.7262830482115086\n",
            "Количество итерраций 24 Точность 0.7325038880248833\n",
            "Количество итерраций 25 Точность 0.7340590979782271\n",
            "Количество итерраций 26 Точность 0.7371695178849145\n",
            "Количество итерраций 27 Точность 0.7356143079315708\n",
            "Количество итерраций 28 Точность 0.7356143079315708\n",
            "Количество итерраций 29 Точность 0.7356143079315708\n",
            "Количество итерраций 30 Точность 0.7356143079315708\n",
            "Количество итерраций 31 Точность 0.7356143079315708\n",
            "Количество итерраций 32 Точность 0.7340590979782271\n",
            "Количество итерраций 33 Точность 0.7340590979782271\n",
            "Количество итерраций 34 Точность 0.7340590979782271\n",
            "Количество итерраций 35 Точность 0.7325038880248833\n",
            "Количество итерраций 36 Точность 0.7356143079315708\n",
            "Количество итерраций 37 Точность 0.7325038880248833\n",
            "Количество итерраций 38 Точность 0.7325038880248833\n",
            "Количество итерраций 39 Точность 0.7325038880248833\n",
            "Количество итерраций 40 Точность 0.7325038880248833\n",
            "Количество итерраций 41 Точность 0.7325038880248833\n",
            "Количество итерраций 42 Точность 0.7340590979782271\n",
            "Количество итерраций 43 Точность 0.7340590979782271\n",
            "Количество итерраций 44 Точность 0.7325038880248833\n",
            "Количество итерраций 45 Точность 0.7325038880248833\n",
            "Количество итерраций 46 Точность 0.7325038880248833\n",
            "Количество итерраций 47 Точность 0.7325038880248833\n",
            "Количество итерраций 48 Точность 0.7325038880248833\n",
            "Количество итерраций 49 Точность 0.7325038880248833\n",
            "Количество итерраций 50 Точность 0.7309486780715396\n",
            "Количество итерраций 51 Точность 0.7262830482115086\n",
            "Количество итерраций 52 Точность 0.7247278382581649\n",
            "Количество итерраций 53 Точность 0.7216174183514774\n",
            "Количество итерраций 54 Точность 0.7216174183514774\n",
            "Количество итерраций 55 Точность 0.7356143079315708\n",
            "Количество итерраций 56 Точность 0.7293934681181959\n",
            "Количество итерраций 57 Точность 0.7076205287713841\n",
            "Количество итерраций 58 Точность 0.7153965785381027\n",
            "Количество итерраций 59 Точность 0.7091757387247278\n",
            "Количество итерраций 60 Точность 0.7153965785381027\n",
            "Количество итерраций 61 Точность 0.7262830482115086\n",
            "Количество итерраций 62 Точность 0.7542768273716952\n",
            "Количество итерраций 63 Точность 0.76049766718507\n",
            "Количество итерраций 64 Точность 0.7636080870917574\n",
            "Количество итерраций 65 Точность 0.7667185069984448\n",
            "Количество итерраций 66 Точность 0.7620528771384136\n",
            "Количество итерраций 67 Точность 0.7620528771384136\n",
            "Количество итерраций 68 Точность 0.7620528771384136\n",
            "Количество итерраций 69 Точность 0.7620528771384136\n",
            "Количество итерраций 70 Точность 0.7620528771384136\n",
            "Количество итерраций 71 Точность 0.7620528771384136\n",
            "Количество итерраций 72 Точность 0.7620528771384136\n",
            "Количество итерраций 73 Точность 0.7620528771384136\n",
            "Количество итерраций 74 Точность 0.7620528771384136\n",
            "Количество итерраций 75 Точность 0.7620528771384136\n",
            "Количество итерраций 76 Точность 0.7620528771384136\n",
            "Количество итерраций 77 Точность 0.7620528771384136\n",
            "Количество итерраций 78 Точность 0.7620528771384136\n",
            "Количество итерраций 79 Точность 0.7620528771384136\n",
            "Количество итерраций 80 Точность 0.7620528771384136\n",
            "Количество итерраций 81 Точность 0.7620528771384136\n",
            "Количество итерраций 82 Точность 0.7620528771384136\n",
            "Количество итерраций 83 Точность 0.7620528771384136\n",
            "Количество итерраций 84 Точность 0.7620528771384136\n",
            "Количество итерраций 85 Точность 0.7620528771384136\n",
            "Количество итерраций 86 Точность 0.7620528771384136\n",
            "Количество итерраций 87 Точность 0.7620528771384136\n",
            "Количество итерраций 88 Точность 0.7620528771384136\n",
            "Количество итерраций 89 Точность 0.7620528771384136\n",
            "Количество итерраций 90 Точность 0.7620528771384136\n",
            "Количество итерраций 91 Точность 0.7620528771384136\n",
            "Количество итерраций 92 Точность 0.7620528771384136\n",
            "Количество итерраций 93 Точность 0.7620528771384136\n",
            "Количество итерраций 94 Точность 0.7620528771384136\n",
            "Количество итерраций 95 Точность 0.7620528771384136\n",
            "Количество итерраций 96 Точность 0.7620528771384136\n",
            "Количество итерраций 97 Точность 0.7620528771384136\n",
            "Количество итерраций 98 Точность 0.7620528771384136\n",
            "Количество итерраций 99 Точность 0.7620528771384136\n",
            "Количество итерраций 100 Точность 0.7620528771384136\n",
            "Количество итерраций 101 Точность 0.7620528771384136\n",
            "Количество итерраций 102 Точность 0.7620528771384136\n",
            "Количество итерраций 103 Точность 0.7620528771384136\n",
            "Количество итерраций 104 Точность 0.7620528771384136\n",
            "Количество итерраций 105 Точность 0.7620528771384136\n",
            "Количество итерраций 106 Точность 0.7620528771384136\n",
            "Количество итерраций 107 Точность 0.7620528771384136\n",
            "Количество итерраций 108 Точность 0.7620528771384136\n",
            "Количество итерраций 109 Точность 0.7620528771384136\n",
            "Количество итерраций 110 Точность 0.7620528771384136\n",
            "Количество итерраций 111 Точность 0.7620528771384136\n",
            "Количество итерраций 112 Точность 0.7620528771384136\n",
            "Количество итерраций 113 Точность 0.7620528771384136\n",
            "Количество итерраций 114 Точность 0.7620528771384136\n",
            "Количество итерраций 115 Точность 0.7620528771384136\n",
            "Количество итерраций 116 Точность 0.7620528771384136\n",
            "Количество итерраций 117 Точность 0.7620528771384136\n",
            "Количество итерраций 118 Точность 0.7620528771384136\n",
            "Количество итерраций 119 Точность 0.7620528771384136\n",
            "Количество итерраций 120 Точность 0.7620528771384136\n",
            "Количество итерраций 121 Точность 0.7620528771384136\n",
            "Количество итерраций 122 Точность 0.7620528771384136\n",
            "Количество итерраций 123 Точность 0.7620528771384136\n",
            "Количество итерраций 124 Точность 0.7620528771384136\n",
            "Количество итерраций 125 Точность 0.7620528771384136\n",
            "Количество итерраций 126 Точность 0.7620528771384136\n",
            "Количество итерраций 127 Точность 0.7620528771384136\n",
            "Количество итерраций 128 Точность 0.7620528771384136\n",
            "Количество итерраций 129 Точность 0.7620528771384136\n",
            "Количество итерраций 130 Точность 0.7620528771384136\n",
            "Количество итерраций 131 Точность 0.7620528771384136\n",
            "Количество итерраций 132 Точность 0.7620528771384136\n",
            "Количество итерраций 133 Точность 0.7620528771384136\n",
            "Количество итерраций 134 Точность 0.7620528771384136\n",
            "Количество итерраций 135 Точность 0.7620528771384136\n",
            "Количество итерраций 136 Точность 0.7620528771384136\n",
            "Количество итерраций 137 Точность 0.7620528771384136\n",
            "Количество итерраций 138 Точность 0.7620528771384136\n",
            "Количество итерраций 139 Точность 0.7620528771384136\n",
            "Количество итерраций 140 Точность 0.7620528771384136\n",
            "Количество итерраций 141 Точность 0.7620528771384136\n",
            "Количество итерраций 142 Точность 0.7620528771384136\n",
            "Количество итерраций 143 Точность 0.7620528771384136\n",
            "Количество итерраций 144 Точность 0.7620528771384136\n",
            "Количество итерраций 145 Точность 0.7620528771384136\n",
            "Количество итерраций 146 Точность 0.7620528771384136\n",
            "Количество итерраций 147 Точность 0.7620528771384136\n",
            "Количество итерраций 148 Точность 0.7620528771384136\n",
            "Количество итерраций 149 Точность 0.7620528771384136\n",
            "Количество итерраций 150 Точность 0.7620528771384136\n",
            "Количество итерраций 151 Точность 0.7620528771384136\n",
            "Количество итерраций 152 Точность 0.7620528771384136\n",
            "Количество итерраций 153 Точность 0.7620528771384136\n",
            "Количество итерраций 154 Точность 0.7620528771384136\n",
            "Количество итерраций 155 Точность 0.7620528771384136\n",
            "Количество итерраций 156 Точность 0.7620528771384136\n",
            "Количество итерраций 157 Точность 0.7620528771384136\n",
            "Количество итерраций 158 Точность 0.7620528771384136\n",
            "Количество итерраций 159 Точность 0.7620528771384136\n",
            "Количество итерраций 160 Точность 0.7620528771384136\n",
            "Количество итерраций 161 Точность 0.7620528771384136\n",
            "Количество итерраций 162 Точность 0.7620528771384136\n",
            "Количество итерраций 163 Точность 0.7620528771384136\n",
            "Количество итерраций 164 Точность 0.7620528771384136\n",
            "Количество итерраций 165 Точность 0.7620528771384136\n",
            "Количество итерраций 166 Точность 0.7620528771384136\n",
            "Количество итерраций 167 Точность 0.7620528771384136\n",
            "Количество итерраций 168 Точность 0.7620528771384136\n",
            "Количество итерраций 169 Точность 0.7620528771384136\n",
            "Количество итерраций 170 Точность 0.7620528771384136\n",
            "Количество итерраций 171 Точность 0.7620528771384136\n",
            "Количество итерраций 172 Точность 0.7620528771384136\n",
            "Количество итерраций 173 Точность 0.7620528771384136\n",
            "Количество итерраций 174 Точность 0.7620528771384136\n",
            "Количество итерраций 175 Точность 0.7620528771384136\n",
            "Количество итерраций 176 Точность 0.7620528771384136\n",
            "Количество итерраций 177 Точность 0.7620528771384136\n",
            "Количество итерраций 178 Точность 0.7620528771384136\n",
            "Количество итерраций 179 Точность 0.7620528771384136\n",
            "Количество итерраций 180 Точность 0.7620528771384136\n",
            "Количество итерраций 181 Точность 0.7620528771384136\n",
            "Количество итерраций 182 Точность 0.7620528771384136\n",
            "Количество итерраций 183 Точность 0.7620528771384136\n",
            "Количество итерраций 184 Точность 0.7620528771384136\n",
            "Количество итерраций 185 Точность 0.7620528771384136\n",
            "Количество итерраций 186 Точность 0.7620528771384136\n",
            "Количество итерраций 187 Точность 0.7620528771384136\n",
            "Количество итерраций 188 Точность 0.7620528771384136\n",
            "Количество итерраций 189 Точность 0.7620528771384136\n",
            "Количество итерраций 190 Точность 0.7620528771384136\n",
            "Количество итерраций 191 Точность 0.7620528771384136\n",
            "Количество итерраций 192 Точность 0.7620528771384136\n",
            "Количество итерраций 193 Точность 0.7620528771384136\n",
            "Количество итерраций 194 Точность 0.7620528771384136\n",
            "Количество итерраций 195 Точность 0.7620528771384136\n",
            "Количество итерраций 196 Точность 0.7620528771384136\n",
            "Количество итерраций 197 Точность 0.7620528771384136\n",
            "Количество итерраций 198 Точность 0.7620528771384136\n",
            "Количество итерраций 199 Точность 0.7620528771384136\n",
            "Количество итерраций 200 Точность 0.7620528771384136\n",
            "Лучшая количество итерраций 65 Лучшая точность 0.7667185069984448\n",
            "CPU times: user 4.58 s, sys: 80.9 ms, total: 4.66 s\n",
            "Wall time: 4.71 s\n"
          ]
        }
      ],
      "source": [
        "%%time\n",
        "\n",
        "best_max_iter = 0\n",
        "best_accuracy = 0\n",
        "\n",
        "for max_iter in range(1,201):\n",
        "    model = LogisticRegression(random_state=18032022, max_iter=max_iter)\n",
        "    model.fit(train_tariff_data_features, train_tariff_data_target)\n",
        "    valid_predictions = model.predict(valid_tariff_data_features)\n",
        "    accuracy = accuracy_score(valid_tariff_data_target, valid_predictions)\n",
        "    print('Количество итерраций', max_iter,'Точность',accuracy)\n",
        "    if accuracy > best_accuracy:\n",
        "        best_max_iter = max_iter\n",
        "        best_accuracy = accuracy\n",
        "\n",
        "print('Лучшая количество итерраций', best_max_iter,'Лучшая точность', best_accuracy)    "
      ]
    },
    {
      "cell_type": "code",
      "execution_count": null,
      "metadata": {
        "id": "iEdO2fXGIlrL",
        "outputId": "34ad10ac-7731-48fa-b336-db8cf1e19039"
      },
      "outputs": [
        {
          "name": "stdout",
          "output_type": "stream",
          "text": [
            "Количество итерраций 100 Точность 0.7620528771384136\n",
            "CPU times: user 31.2 ms, sys: 4.11 ms, total: 35.3 ms\n",
            "Wall time: 45.1 ms\n"
          ]
        }
      ],
      "source": [
        "%%time\n",
        "\n",
        "best_reg_model = LogisticRegression(random_state=18032022)\n",
        "best_reg_model.fit(train_tariff_data_features, train_tariff_data_target)\n",
        "valid_predictions = best_reg_model.predict(valid_tariff_data_features)\n",
        "accuracy = accuracy_score(valid_tariff_data_target, valid_predictions)\n",
        "print('Количество итерраций', 100,'Точность',accuracy)"
      ]
    },
    {
      "cell_type": "code",
      "execution_count": null,
      "metadata": {
        "id": "q0nQJjn2IlrM",
        "outputId": "44499731-a79c-4d87-966b-045b8303e797"
      },
      "outputs": [
        {
          "name": "stdout",
          "output_type": "stream",
          "text": [
            "Solver newton-cg Точность 0.7620528771384136\n",
            "Solver sag Точность 0.7216174183514774\n",
            "Solver saga Точность 0.7216174183514774\n",
            "Solver lbfgs Точность 0.7620528771384136\n",
            "Solver liblinear Точность 0.7651632970451011\n",
            "Лучший solver liblinear Лучшая точность 0.7651632970451011\n",
            "CPU times: user 159 ms, sys: 8 ms, total: 167 ms\n",
            "Wall time: 175 ms\n"
          ]
        }
      ],
      "source": [
        "%%time\n",
        "\n",
        "best_solver = ''\n",
        "best_accuracy = 0\n",
        "\n",
        "for solve in {'newton-cg', 'lbfgs', 'liblinear', 'sag', 'saga'}:\n",
        "    model = LogisticRegression(random_state=18032022, solver=solve)\n",
        "    model.fit(train_tariff_data_features, train_tariff_data_target)\n",
        "    valid_predictions = model.predict(valid_tariff_data_features)\n",
        "    accuracy = accuracy_score(valid_tariff_data_target, valid_predictions)\n",
        "    print('Solver', solve,'Точность',accuracy)\n",
        "    if accuracy > best_accuracy:\n",
        "        best_solver= solve\n",
        "        best_accuracy = accuracy\n",
        "\n",
        "print('Лучший solver', best_solver,'Лучшая точность', best_accuracy)"
      ]
    },
    {
      "cell_type": "markdown",
      "metadata": {
        "id": "Q3Xx9_B5IlrM"
      },
      "source": [
        "Значение по-умолчанию в max_iter=100 хорошее. Как и у 97, 98 и 99 итераций. Увеличение в большую сторону ничего не меняет. Изменим другой гиперпараметр solver."
      ]
    },
    {
      "cell_type": "code",
      "execution_count": null,
      "metadata": {
        "id": "n70Z5nzhIlrM",
        "outputId": "29a58aee-c27c-49e6-f26f-bc16588db9ba"
      },
      "outputs": [
        {
          "name": "stdout",
          "output_type": "stream",
          "text": [
            "C= 0.1 Точность 0.7620528771384136\n",
            "C= 0.2 Точность 0.7667185069984448\n",
            "C= 0.3 Точность 0.7620528771384136\n",
            "C= 0.4 Точность 0.7620528771384136\n",
            "C= 0.5 Точность 0.7620528771384136\n",
            "C= 0.6 Точность 0.7620528771384136\n",
            "C= 0.7 Точность 0.7620528771384136\n",
            "C= 0.8 Точность 0.7636080870917574\n",
            "C= 0.9 Точность 0.7620528771384136\n",
            "C= 1.0 Точность 0.7620528771384136\n",
            "C= 1.1 Точность 0.7620528771384136\n",
            "C= 1.2 Точность 0.7620528771384136\n",
            "C= 1.3 Точность 0.7620528771384136\n",
            "C= 1.4 Точность 0.7620528771384136\n",
            "C= 1.5 Точность 0.7620528771384136\n",
            "C= 1.6 Точность 0.7620528771384136\n",
            "C= 1.7 Точность 0.7620528771384136\n",
            "C= 1.8 Точность 0.7620528771384136\n",
            "C= 1.9 Точность 0.7620528771384136\n",
            "C= 2.0 Точность 0.7620528771384136\n",
            "Лучший C 0.2 Лучшая точность 0.7667185069984448\n",
            "CPU times: user 598 ms, sys: 3.97 ms, total: 602 ms\n",
            "Wall time: 622 ms\n"
          ]
        }
      ],
      "source": [
        "%%time\n",
        "\n",
        "best_C = 0.0\n",
        "best_accuracy = 0\n",
        "\n",
        "for float_c in [x/10 for x in range(1,21)]:\n",
        "    model = LogisticRegression(random_state=18032022, C=float_c)\n",
        "    model.fit(train_tariff_data_features, train_tariff_data_target)\n",
        "    valid_predictions = model.predict(valid_tariff_data_features)\n",
        "    accuracy = accuracy_score(valid_tariff_data_target, valid_predictions)\n",
        "    print('C=', float_c,'Точность',accuracy)\n",
        "    if accuracy > best_accuracy:\n",
        "        best_C= float_c\n",
        "        best_accuracy = accuracy\n",
        "\n",
        "print('Лучший C', best_C,'Лучшая точность', best_accuracy)"
      ]
    },
    {
      "cell_type": "markdown",
      "metadata": {
        "id": "eVJ0fNtEIlrN"
      },
      "source": [
        "Лучшим solver является lbfgs, который стоит по-умолчанию. На равне с ним newton-cg. Изменим в цикле гиперпараметр С.\n",
        "Значение по умолчанию C=0.2 показывает лучший результат."
      ]
    },
    {
      "cell_type": "markdown",
      "metadata": {
        "id": "NmBzHvfIIlrN"
      },
      "source": [
        "### Вывод\n",
        "В ходе исследования были получены следующие данные:\n",
        "\n",
        "* Точность модели решающего дерева Лучшая глубина дерева 5 Лучшая точность 0.8118195956454122\n",
        "* Точность модели случайного леса Лучшая количество деревьев 68 Лучшая точность 0.8133748055987559\n",
        "* Точность модели логистической регресии Лучшая количество итерраций 65 Лучшая точность 0.7667185069984448\n",
        "\n",
        "\n",
        "Так как выборка небольшая, то результат решающего древа с гиперпараметром max_depth=5 почти лучший."
      ]
    },
    {
      "cell_type": "markdown",
      "metadata": {
        "id": "-ilF7_PEIlrN"
      },
      "source": [
        "## Проверьте модель на тестовой выборке"
      ]
    },
    {
      "cell_type": "code",
      "execution_count": null,
      "metadata": {
        "id": "NqGrjgBFIlrO",
        "outputId": "451ef0f8-96c4-42b9-e8fc-80e9df283ba9"
      },
      "outputs": [
        {
          "name": "stdout",
          "output_type": "stream",
          "text": [
            "Точность модели решающего леса на тестовой выборке 0.8040435458786936\n",
            "Точность модели случайного леса на тестовой выборке 0.7900466562986003\n",
            "Точность модели логистической регресиии на тестовой выборке 0.7698289269051322\n"
          ]
        }
      ],
      "source": [
        "test_predictions = best_tree_model.predict(test_tariff_data_features)\n",
        "accuracy = accuracy_score(test_tariff_data_target, test_predictions)\n",
        "print('Точность модели решающего леса на тестовой выборке',accuracy)\n",
        "\n",
        "test_predictions = best_forest_model.predict(test_tariff_data_features)\n",
        "accuracy = accuracy_score(test_tariff_data_target, test_predictions)\n",
        "print('Точность модели случайного леса на тестовой выборке',accuracy)\n",
        "\n",
        "test_predictions = best_reg_model.predict(test_tariff_data_features)\n",
        "accuracy = accuracy_score(test_tariff_data_target, test_predictions)\n",
        "print('Точность модели логистической регресиии на тестовой выборке',accuracy)"
      ]
    },
    {
      "cell_type": "markdown",
      "metadata": {
        "id": "htPeJ3z8IlrO"
      },
      "source": [
        "Оценим точность каждой модели на тестовой выборке."
      ]
    },
    {
      "cell_type": "markdown",
      "metadata": {
        "id": "vy8IxvpRIlrO"
      },
      "source": [
        "### Вывод\n",
        "Для решения поставленной задачи точности 0.75 можно выбрать любую модель, лучшая будет решающим лесом"
      ]
    },
    {
      "cell_type": "markdown",
      "metadata": {
        "id": "acL0-0O0IlrS"
      },
      "source": [
        "## (бонус) Проверьте модели на адекватность"
      ]
    },
    {
      "cell_type": "markdown",
      "metadata": {
        "id": "xKft2_PwIlrS"
      },
      "source": [
        "Оценить адекватность модели можно используя несколько метрик:\n",
        "\n",
        "* accuracy - точность совпадения прогнозов с правильными ответами.\n",
        "* precision - отношение правильно предсказанных классов равных 1(TP) к сумме правильно предсказанных классов равных 1(TP) с неправльными предсказаниями, указанные как 1(FP).\n",
        "* recall - отношение правильно предсказанных классов равных 1(TP) к сумме правильно предсказанных классов равных 1(TP) с неправльными предсказаниями, указанные как 0(FN)."
      ]
    },
    {
      "cell_type": "code",
      "execution_count": null,
      "metadata": {
        "id": "YvpIoaluIlrS",
        "outputId": "34edc0f3-b6b7-4637-b5d8-22e1afca5e9a"
      },
      "outputs": [
        {
          "name": "stdout",
          "output_type": "stream",
          "text": [
            "Accuracy = 0.7900466562986003 Precision = 0.66 Recall = 0.5409836065573771\n"
          ]
        }
      ],
      "source": [
        "test_predictions = best_forest_model.predict(test_tariff_data_features)\n",
        "accuracy = accuracy_score(test_tariff_data_target, test_predictions)\n",
        "precision = precision_score(test_tariff_data_target, test_predictions)\n",
        "recall = recall_score(test_tariff_data_target, test_predictions)\n",
        "print('Accuracy =', accuracy, 'Precision =', precision, 'Recall =', recall)"
      ]
    },
    {
      "cell_type": "markdown",
      "metadata": {
        "id": "sbEqnGrBIlrS"
      },
      "source": [
        "Для оценки адеватности используется F-мера - среднее гармоническое между precision и recall. Если хотя бы один из параметров близок к нулю, то и F-мера стремится к 0. Если оба стремятся к 1, то F-мера тоже стремится к 1."
      ]
    },
    {
      "cell_type": "code",
      "execution_count": null,
      "metadata": {
        "id": "IxoYcpnoIlrS",
        "outputId": "1cc69909-2418-4418-e97b-bedfcabd4355"
      },
      "outputs": [
        {
          "name": "stdout",
          "output_type": "stream",
          "text": [
            "F-мера = 0.5945945945945946\n"
          ]
        }
      ],
      "source": [
        "f_score = f1_score(test_tariff_data_target, test_predictions)\n",
        "print('F-мера =', f_score)"
      ]
    },
    {
      "cell_type": "markdown",
      "metadata": {
        "id": "w3MZwTmKIlrT"
      },
      "source": [
        "### Вывод\n",
        "Адекватность модели оценивается по нескольким параметрам. Для модели классификации это accuracy, precision и recall. Качество модели лучше всего отражают precision и recall и эти метрики складываются в F-мера как единую оценку модели.\n",
        "\n",
        "Модель получилась среднего качества. И для таких задач она адекватна."
      ]
    },
    {
      "cell_type": "code",
      "execution_count": null,
      "metadata": {
        "id": "RPWRoccDIlrU"
      },
      "outputs": [],
      "source": []
    }
  ],
  "metadata": {
    "ExecuteTimeLog": [
      {
        "duration": 1596,
        "start_time": "2022-03-18T04:40:06.357Z"
      },
      {
        "duration": 6,
        "start_time": "2022-03-18T04:45:51.147Z"
      },
      {
        "duration": 60,
        "start_time": "2022-03-18T04:45:53.615Z"
      },
      {
        "duration": 24,
        "start_time": "2022-03-18T04:45:58.256Z"
      },
      {
        "duration": 12,
        "start_time": "2022-03-18T04:50:42.917Z"
      },
      {
        "duration": 7,
        "start_time": "2022-03-18T04:52:48.678Z"
      },
      {
        "duration": 803,
        "start_time": "2022-03-18T04:58:48.773Z"
      },
      {
        "duration": 1562,
        "start_time": "2022-03-18T05:00:17.187Z"
      },
      {
        "duration": 805,
        "start_time": "2022-03-18T05:00:32.524Z"
      },
      {
        "duration": 19,
        "start_time": "2022-03-18T05:02:48.005Z"
      },
      {
        "duration": 793,
        "start_time": "2022-03-18T05:04:24.362Z"
      },
      {
        "duration": 16,
        "start_time": "2022-03-18T05:04:46.487Z"
      },
      {
        "duration": 17,
        "start_time": "2022-03-18T05:05:06.053Z"
      },
      {
        "duration": 13,
        "start_time": "2022-03-18T05:07:08.896Z"
      },
      {
        "duration": 27161,
        "start_time": "2022-03-18T05:10:31.037Z"
      },
      {
        "duration": 365,
        "start_time": "2022-03-18T05:12:35.505Z"
      },
      {
        "duration": 444,
        "start_time": "2022-03-18T05:13:33.126Z"
      },
      {
        "duration": 426,
        "start_time": "2022-03-18T05:14:04.247Z"
      },
      {
        "duration": 483,
        "start_time": "2022-03-18T05:14:58.559Z"
      },
      {
        "duration": 352,
        "start_time": "2022-03-18T05:16:00.295Z"
      },
      {
        "duration": 6599,
        "start_time": "2022-03-18T05:17:40.043Z"
      },
      {
        "duration": 46,
        "start_time": "2022-03-18T05:18:25.637Z"
      },
      {
        "duration": 300,
        "start_time": "2022-03-18T05:19:43.566Z"
      },
      {
        "duration": 760,
        "start_time": "2022-03-18T05:21:05.607Z"
      },
      {
        "duration": 36,
        "start_time": "2022-03-18T05:27:25.370Z"
      },
      {
        "duration": 7,
        "start_time": "2022-03-18T05:34:20.254Z"
      },
      {
        "duration": 1463,
        "start_time": "2022-03-18T05:36:07.701Z"
      },
      {
        "duration": 31,
        "start_time": "2022-03-18T05:36:09.168Z"
      },
      {
        "duration": 24,
        "start_time": "2022-03-18T05:36:09.201Z"
      },
      {
        "duration": 11,
        "start_time": "2022-03-18T05:36:09.227Z"
      },
      {
        "duration": 29,
        "start_time": "2022-03-18T05:36:09.240Z"
      },
      {
        "duration": 797,
        "start_time": "2022-03-18T05:36:09.272Z"
      },
      {
        "duration": 17,
        "start_time": "2022-03-18T05:36:10.072Z"
      },
      {
        "duration": 17,
        "start_time": "2022-03-18T05:36:10.092Z"
      },
      {
        "duration": 13,
        "start_time": "2022-03-18T05:36:10.111Z"
      },
      {
        "duration": 26703,
        "start_time": "2022-03-18T05:36:10.128Z"
      },
      {
        "duration": 369,
        "start_time": "2022-03-18T05:36:36.833Z"
      },
      {
        "duration": 434,
        "start_time": "2022-03-18T05:36:37.204Z"
      },
      {
        "duration": 489,
        "start_time": "2022-03-18T05:36:37.641Z"
      },
      {
        "duration": 371,
        "start_time": "2022-03-18T05:36:38.132Z"
      },
      {
        "duration": 6750,
        "start_time": "2022-03-18T05:36:38.506Z"
      },
      {
        "duration": 50,
        "start_time": "2022-03-18T05:36:45.258Z"
      },
      {
        "duration": 273,
        "start_time": "2022-03-18T05:36:45.310Z"
      },
      {
        "duration": 846,
        "start_time": "2022-03-18T05:36:45.585Z"
      },
      {
        "duration": 47,
        "start_time": "2022-03-18T05:36:46.434Z"
      },
      {
        "duration": 31,
        "start_time": "2022-03-18T05:36:46.484Z"
      },
      {
        "duration": 7,
        "start_time": "2022-03-18T05:36:46.517Z"
      },
      {
        "duration": 1376,
        "start_time": "2022-03-18T21:25:49.500Z"
      },
      {
        "duration": 26,
        "start_time": "2022-03-18T21:25:50.878Z"
      },
      {
        "duration": 25,
        "start_time": "2022-03-18T21:25:50.907Z"
      },
      {
        "duration": 11,
        "start_time": "2022-03-18T21:25:50.935Z"
      },
      {
        "duration": 13,
        "start_time": "2022-03-18T21:25:50.948Z"
      },
      {
        "duration": 670,
        "start_time": "2022-03-18T21:25:50.963Z"
      },
      {
        "duration": 16,
        "start_time": "2022-03-18T21:25:51.635Z"
      },
      {
        "duration": 19,
        "start_time": "2022-03-18T21:25:51.653Z"
      },
      {
        "duration": 12,
        "start_time": "2022-03-18T21:25:51.674Z"
      },
      {
        "duration": 21065,
        "start_time": "2022-03-18T21:25:51.690Z"
      },
      {
        "duration": 302,
        "start_time": "2022-03-18T21:26:12.757Z"
      },
      {
        "duration": 334,
        "start_time": "2022-03-18T21:26:13.061Z"
      },
      {
        "duration": 389,
        "start_time": "2022-03-18T21:26:13.397Z"
      },
      {
        "duration": 276,
        "start_time": "2022-03-18T21:26:13.788Z"
      },
      {
        "duration": 4909,
        "start_time": "2022-03-18T21:26:14.067Z"
      },
      {
        "duration": 36,
        "start_time": "2022-03-18T21:26:18.978Z"
      },
      {
        "duration": 190,
        "start_time": "2022-03-18T21:26:19.031Z"
      },
      {
        "duration": 660,
        "start_time": "2022-03-18T21:26:19.223Z"
      },
      {
        "duration": 27,
        "start_time": "2022-03-18T21:26:19.885Z"
      },
      {
        "duration": 22,
        "start_time": "2022-03-18T21:26:19.932Z"
      },
      {
        "duration": 5,
        "start_time": "2022-03-18T21:26:19.956Z"
      },
      {
        "duration": 45,
        "start_time": "2022-03-19T02:47:37.678Z"
      },
      {
        "duration": 1250,
        "start_time": "2022-03-19T02:47:47.948Z"
      },
      {
        "duration": 28,
        "start_time": "2022-03-19T02:47:50.542Z"
      },
      {
        "duration": 14,
        "start_time": "2022-03-19T02:47:53.360Z"
      },
      {
        "duration": 23,
        "start_time": "2022-03-19T02:48:02.917Z"
      },
      {
        "duration": 143,
        "start_time": "2022-03-19T02:51:50.228Z"
      },
      {
        "duration": 135,
        "start_time": "2022-03-19T02:56:02.149Z"
      },
      {
        "duration": 1342,
        "start_time": "2022-03-19T19:46:49.536Z"
      },
      {
        "duration": 27,
        "start_time": "2022-03-19T19:46:50.880Z"
      },
      {
        "duration": 18,
        "start_time": "2022-03-19T19:46:50.909Z"
      },
      {
        "duration": 40,
        "start_time": "2022-03-19T19:46:50.929Z"
      },
      {
        "duration": 8,
        "start_time": "2022-03-19T19:46:50.971Z"
      },
      {
        "duration": 23,
        "start_time": "2022-03-19T19:46:50.981Z"
      },
      {
        "duration": 659,
        "start_time": "2022-03-19T19:46:51.006Z"
      },
      {
        "duration": 13,
        "start_time": "2022-03-19T19:46:51.667Z"
      },
      {
        "duration": 31,
        "start_time": "2022-03-19T19:46:51.682Z"
      },
      {
        "duration": 10,
        "start_time": "2022-03-19T19:46:51.715Z"
      },
      {
        "duration": 20915,
        "start_time": "2022-03-19T19:46:51.727Z"
      },
      {
        "duration": 292,
        "start_time": "2022-03-19T19:47:12.644Z"
      },
      {
        "duration": 343,
        "start_time": "2022-03-19T19:47:12.938Z"
      },
      {
        "duration": 390,
        "start_time": "2022-03-19T19:47:13.283Z"
      },
      {
        "duration": 286,
        "start_time": "2022-03-19T19:47:13.675Z"
      },
      {
        "duration": 4719,
        "start_time": "2022-03-19T19:47:13.963Z"
      },
      {
        "duration": 49,
        "start_time": "2022-03-19T19:47:18.685Z"
      },
      {
        "duration": 179,
        "start_time": "2022-03-19T19:47:18.736Z"
      },
      {
        "duration": 626,
        "start_time": "2022-03-19T19:47:18.917Z"
      },
      {
        "duration": 25,
        "start_time": "2022-03-19T19:47:19.545Z"
      },
      {
        "duration": 42,
        "start_time": "2022-03-19T19:47:19.572Z"
      },
      {
        "duration": 5,
        "start_time": "2022-03-19T19:47:19.616Z"
      }
    ],
    "colab": {
      "name": "21b82a64-892c-4edf-9bbf-e0ac079614b5.ipynb",
      "provenance": []
    },
    "kernelspec": {
      "display_name": "Python 3 (ipykernel)",
      "language": "python",
      "name": "python3"
    },
    "language_info": {
      "codemirror_mode": {
        "name": "ipython",
        "version": 3
      },
      "file_extension": ".py",
      "mimetype": "text/x-python",
      "name": "python",
      "nbconvert_exporter": "python",
      "pygments_lexer": "ipython3",
      "version": "3.9.5"
    },
    "toc": {
      "base_numbering": 1,
      "nav_menu": {},
      "number_sections": true,
      "sideBar": true,
      "skip_h1_title": true,
      "title_cell": "Table of Contents",
      "title_sidebar": "Contents",
      "toc_cell": false,
      "toc_position": {},
      "toc_section_display": true,
      "toc_window_display": false
    }
  },
  "nbformat": 4,
  "nbformat_minor": 0
}
