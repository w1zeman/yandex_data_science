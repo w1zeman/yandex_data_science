{
  "cells": [
    {
      "cell_type": "markdown",
      "metadata": {
        "id": "VhmYrW0dCTYd"
      },
      "source": [
        "# Определение перспективного тарифа для телеком-компании"
      ]
    },
    {
      "cell_type": "markdown",
      "metadata": {
        "id": "Dc77hkT4CTYd"
      },
      "source": [
        "## Описание проекта\n",
        "\n",
        "Вы аналитик компании «Мегалайн» — федерального оператора сотовой связи. Клиентам предлагают два тарифных плана: «Смарт» и «Ультра». Чтобы скорректировать рекламный бюджет, коммерческий департамент хочет понять, какой тариф приносит больше денег.\n",
        "Вам предстоит сделать предварительный анализ тарифов на небольшой выборке клиентов. В вашем распоряжении данные 500 пользователей «Мегалайна»: кто они, откуда, каким тарифом пользуются, сколько звонков и сообщений каждый отправил за 2018 год. Нужно проанализировать поведение клиентов и сделать вывод — какой тариф лучше.\n",
        "\n",
        "### Описание тарифов\n",
        "\n",
        "* Тариф «Смарт»\n",
        "1. Ежемесячная плата: 550 рублей\n",
        "2. Включено 500 минут разговора, 50 сообщений и 15 Гб интернет-трафика\n",
        "3. Стоимость услуг сверх тарифного пакета: 1. минута разговора: 3 рубля («Мегалайн» всегда округляет вверх значения минут и мегабайтов. Если пользователь проговорил всего 1 секунду, в тарифе засчитывается целая минута); 2. сообщение: 3 рубля; 3. 1 Гб интернет-трафика: 200 рублей.\n",
        "\n",
        "* Тариф «Ультра»\n",
        "1. Ежемесячная плата: 1950 рублей\n",
        "2. Включено 3000 минут разговора, 1000 сообщений и 30 Гб интернет-трафика\n",
        "3. Стоимость услуг сверх тарифного пакета: 1. минута разговора: 1 рубль; 2. сообщение: 1 рубль; 3. 1 Гб интернет-трафика: 150 рублей.\n",
        "\n",
        "Примечание:\n",
        "\n",
        "«Мегалайн» всегда округляет секунды до минут, а мегабайты — до гигабайт. Каждый звонок округляется отдельно: даже если он длился всего 1 секунду, будет засчитан как 1 минута.\n",
        "Для веб-трафика отдельные сессии не считаются. Вместо этого общая сумма за месяц округляется в бо́льшую сторону. Если абонент использует 1025 мегабайт в этом месяце, с него возьмут плату за 2 гигабайта."
      ]
    },
    {
      "cell_type": "markdown",
      "metadata": {
        "id": "Qty4oJisCTYe"
      },
      "source": [
        "### Описание данных\n",
        "\n",
        "1. Таблица `users` (информация о пользователях):\n",
        "* user_id — уникальный идентификатор пользователя\n",
        "* first_name — имя пользователя\n",
        "* last_name — фамилия пользователя\n",
        "* age — возраст пользователя (годы)\n",
        "* reg_date — дата подключения тарифа (день, месяц, год)\n",
        "* churn_date — дата прекращения пользования тарифом (если значение пропущено, то тариф ещё действовал на момент выгрузки данных)\n",
        "* city — город проживания пользователя\n",
        "* tarif — название тарифного плана\n",
        "2. Таблица `calls` (информация о звонках):\n",
        "* id — уникальный номер звонка\n",
        "* call_date — дата звонка\n",
        "* duration — длительность звонка в минутах\n",
        "* user_id — идентификатор пользователя, сделавшего звонок\n",
        "3. Таблица `messages` (информация о сообщениях):\n",
        "* id — уникальный номер сообщения\n",
        "* message_date — дата сообщения\n",
        "* user_id — идентификатор пользователя, отправившего сообщение\n",
        "4. Таблица `internet` (информация об интернет-сессиях):\n",
        "* id — уникальный номер сессии\n",
        "* mb_used — объём потраченного за сессию интернет-трафика (в мегабайтах)\n",
        "* session_date — дата интернет-сессии\n",
        "* user_id — идентификатор пользователя\n",
        "5. Таблица `tariffs` (информация о тарифах):\n",
        "* tariff_name — название тарифа\n",
        "* rub_monthly_fee — ежемесячная абонентская плата в рублях\n",
        "* minutes_included — количество минут разговора в месяц, включённых в абонентскую плату\n",
        "* messages_included — количество сообщений в месяц, включённых в абонентскую плату\n",
        "* mb_per_month_included — объём интернет-трафика, включённого в абонентскую плату (в мегабайтах)\n",
        "* rub_per_minute — стоимость минуты разговора сверх тарифного пакета (например, если в тарифе 100 минут разговора в месяц, то со 101 минуты будет взиматься плата)\n",
        "* rub_per_message — стоимость отправки сообщения сверх тарифного пакета\n",
        "* rub_per_gb — стоимость дополнительного гигабайта интернет-трафика сверх тарифного пакета (1 гигабайт = 1024 мегабайта)"
      ]
    },
    {
      "cell_type": "markdown",
      "metadata": {
        "id": "LKsk6WPnCTYg"
      },
      "source": [
        "## Откройте файл с данными и изучите общую информацию"
      ]
    },
    {
      "cell_type": "markdown",
      "metadata": {
        "id": "f_hETuCNCTYg"
      },
      "source": [
        "Из инструкции по выполнению проекта\n",
        "\n",
        "1. Путь к файлам:\n",
        "* /datasets/calls.csv\n",
        "* /datasets/internet.csv\n",
        "* /datasets/messages.csv\n",
        "* /datasets/tariffs.csv\n",
        "* /datasets/users.csv"
      ]
    },
    {
      "cell_type": "code",
      "execution_count": null,
      "metadata": {
        "id": "yHoQW0SiCTYh"
      },
      "outputs": [],
      "source": [
        "import pandas as pd\n",
        "import copy\n",
        "import matplotlib.pyplot as plt \n",
        "import seaborn as sns\n",
        "from scipy import stats as st\n",
        "import numpy as np"
      ]
    },
    {
      "cell_type": "markdown",
      "metadata": {
        "id": "k--KBPHUCTYi"
      },
      "source": [
        "Подключение необходимых библиотек"
      ]
    },
    {
      "cell_type": "code",
      "execution_count": null,
      "metadata": {
        "id": "5hHDC7OGCTYj",
        "outputId": "05ca4ec2-ddeb-4225-a5d0-bd5c2f5f66eb"
      },
      "outputs": [
        {
          "name": "stdout",
          "output_type": "stream",
          "text": [
            "<class 'pandas.core.frame.DataFrame'>\n",
            "RangeIndex: 500 entries, 0 to 499\n",
            "Data columns (total 8 columns):\n",
            "user_id       500 non-null int64\n",
            "age           500 non-null int64\n",
            "churn_date    38 non-null object\n",
            "city          500 non-null object\n",
            "first_name    500 non-null object\n",
            "last_name     500 non-null object\n",
            "reg_date      500 non-null object\n",
            "tariff        500 non-null object\n",
            "dtypes: int64(2), object(6)\n",
            "memory usage: 31.4+ KB\n"
          ]
        },
        {
          "data": {
            "text/plain": [
              "(None,\n",
              "    user_id  age churn_date         city first_name  last_name    reg_date  \\\n",
              " 0     1000   52        NaN    Краснодар     Рафаил  Верещагин  2018-05-25   \n",
              " 1     1001   41        NaN       Москва       Иван       Ежов  2018-11-01   \n",
              " 2     1002   59        NaN  Стерлитамак    Евгений  Абрамович  2018-06-17   \n",
              " 3     1003   23        NaN       Москва      Белла   Белякова  2018-08-17   \n",
              " 4     1004   68        NaN  Новокузнецк    Татьяна   Авдеенко  2018-05-14   \n",
              " \n",
              "   tariff  \n",
              " 0  ultra  \n",
              " 1  smart  \n",
              " 2  smart  \n",
              " 3  ultra  \n",
              " 4  ultra  )"
            ]
          },
          "execution_count": 2,
          "metadata": {},
          "output_type": "execute_result"
        }
      ],
      "source": [
        "data_users = pd.read_csv('/datasets/users.csv')\n",
        "data_users.info(), data_users.head()"
      ]
    },
    {
      "cell_type": "markdown",
      "metadata": {
        "id": "mYSxJUQPCTYj"
      },
      "source": [
        "Общая информация о таблице users"
      ]
    },
    {
      "cell_type": "code",
      "execution_count": null,
      "metadata": {
        "id": "MTB49pWKCTYk",
        "outputId": "0a796ec3-e1ae-4daa-cae4-6ab83e2ca035"
      },
      "outputs": [
        {
          "data": {
            "text/html": [
              "<div>\n",
              "<style scoped>\n",
              "    .dataframe tbody tr th:only-of-type {\n",
              "        vertical-align: middle;\n",
              "    }\n",
              "\n",
              "    .dataframe tbody tr th {\n",
              "        vertical-align: top;\n",
              "    }\n",
              "\n",
              "    .dataframe thead th {\n",
              "        text-align: right;\n",
              "    }\n",
              "</style>\n",
              "<table border=\"1\" class=\"dataframe\">\n",
              "  <thead>\n",
              "    <tr style=\"text-align: right;\">\n",
              "      <th></th>\n",
              "      <th>user_id</th>\n",
              "      <th>age</th>\n",
              "      <th>churn_date</th>\n",
              "      <th>city</th>\n",
              "      <th>first_name</th>\n",
              "      <th>last_name</th>\n",
              "      <th>reg_date</th>\n",
              "      <th>tariff</th>\n",
              "    </tr>\n",
              "  </thead>\n",
              "  <tbody>\n",
              "    <tr>\n",
              "      <td>480</td>\n",
              "      <td>1480</td>\n",
              "      <td>29</td>\n",
              "      <td>2018-09-26</td>\n",
              "      <td>Новокузнецк</td>\n",
              "      <td>Гелена</td>\n",
              "      <td>Емельянова</td>\n",
              "      <td>2018-02-14</td>\n",
              "      <td>smart</td>\n",
              "    </tr>\n",
              "    <tr>\n",
              "      <td>310</td>\n",
              "      <td>1310</td>\n",
              "      <td>28</td>\n",
              "      <td>NaN</td>\n",
              "      <td>Уфа</td>\n",
              "      <td>Рудольф</td>\n",
              "      <td>Нестеров</td>\n",
              "      <td>2018-03-22</td>\n",
              "      <td>ultra</td>\n",
              "    </tr>\n",
              "    <tr>\n",
              "      <td>267</td>\n",
              "      <td>1267</td>\n",
              "      <td>63</td>\n",
              "      <td>NaN</td>\n",
              "      <td>Екатеринбург</td>\n",
              "      <td>Яна</td>\n",
              "      <td>Седова</td>\n",
              "      <td>2018-08-05</td>\n",
              "      <td>smart</td>\n",
              "    </tr>\n",
              "    <tr>\n",
              "      <td>119</td>\n",
              "      <td>1119</td>\n",
              "      <td>53</td>\n",
              "      <td>NaN</td>\n",
              "      <td>Петрозаводск</td>\n",
              "      <td>Олег</td>\n",
              "      <td>Сухарев</td>\n",
              "      <td>2018-04-22</td>\n",
              "      <td>smart</td>\n",
              "    </tr>\n",
              "    <tr>\n",
              "      <td>381</td>\n",
              "      <td>1381</td>\n",
              "      <td>64</td>\n",
              "      <td>NaN</td>\n",
              "      <td>Москва</td>\n",
              "      <td>Тамара</td>\n",
              "      <td>Серебрякова</td>\n",
              "      <td>2018-01-13</td>\n",
              "      <td>ultra</td>\n",
              "    </tr>\n",
              "  </tbody>\n",
              "</table>\n",
              "</div>"
            ],
            "text/plain": [
              "     user_id  age  churn_date          city first_name    last_name  \\\n",
              "480     1480   29  2018-09-26   Новокузнецк     Гелена   Емельянова   \n",
              "310     1310   28         NaN           Уфа    Рудольф     Нестеров   \n",
              "267     1267   63         NaN  Екатеринбург        Яна       Седова   \n",
              "119     1119   53         NaN  Петрозаводск       Олег      Сухарев   \n",
              "381     1381   64         NaN        Москва     Тамара  Серебрякова   \n",
              "\n",
              "       reg_date tariff  \n",
              "480  2018-02-14  smart  \n",
              "310  2018-03-22  ultra  \n",
              "267  2018-08-05  smart  \n",
              "119  2018-04-22  smart  \n",
              "381  2018-01-13  ultra  "
            ]
          },
          "execution_count": 3,
          "metadata": {},
          "output_type": "execute_result"
        }
      ],
      "source": [
        "data_users.sample(5)"
      ]
    },
    {
      "cell_type": "markdown",
      "metadata": {
        "id": "V2CdTTnkCTYk"
      },
      "source": [
        "5 случайных строк таблицы users"
      ]
    },
    {
      "cell_type": "markdown",
      "metadata": {
        "id": "9hHgbOvECTYk"
      },
      "source": [
        "* Категориальная переменная: [user_id, churn_date, city, first_name, last_name, reg_date, tariff]\n",
        "* Количественная переменная: [age]\n",
        "\n",
        "user_id отражает, сколько всего было зарегистрированно пользователей. Новый пользователь получает номер n+1 от предыдущего.\n",
        "\n",
        "Столбец churn_date имеет пропуски. Это было описано в задании."
      ]
    },
    {
      "cell_type": "code",
      "execution_count": null,
      "metadata": {
        "scrolled": false,
        "id": "ryhazrHyCTYl",
        "outputId": "5c0c28c2-9a25-4043-a410-31946852ca64"
      },
      "outputs": [
        {
          "name": "stdout",
          "output_type": "stream",
          "text": [
            "<class 'pandas.core.frame.DataFrame'>\n",
            "RangeIndex: 202607 entries, 0 to 202606\n",
            "Data columns (total 4 columns):\n",
            "id           202607 non-null object\n",
            "call_date    202607 non-null object\n",
            "duration     202607 non-null float64\n",
            "user_id      202607 non-null int64\n",
            "dtypes: float64(1), int64(1), object(2)\n",
            "memory usage: 6.2+ MB\n"
          ]
        }
      ],
      "source": [
        "data_calls = pd.read_csv('/datasets/calls.csv')\n",
        "data_calls.info()"
      ]
    },
    {
      "cell_type": "markdown",
      "metadata": {
        "id": "JEY-gD_NCTYl"
      },
      "source": [
        "Общая информация о таблице calls"
      ]
    },
    {
      "cell_type": "code",
      "execution_count": null,
      "metadata": {
        "id": "RLJuGO59CTYl",
        "outputId": "99a36942-c4d3-4e73-8dec-fdc05843f530"
      },
      "outputs": [
        {
          "data": {
            "text/html": [
              "<div>\n",
              "<style scoped>\n",
              "    .dataframe tbody tr th:only-of-type {\n",
              "        vertical-align: middle;\n",
              "    }\n",
              "\n",
              "    .dataframe tbody tr th {\n",
              "        vertical-align: top;\n",
              "    }\n",
              "\n",
              "    .dataframe thead th {\n",
              "        text-align: right;\n",
              "    }\n",
              "</style>\n",
              "<table border=\"1\" class=\"dataframe\">\n",
              "  <thead>\n",
              "    <tr style=\"text-align: right;\">\n",
              "      <th></th>\n",
              "      <th>id</th>\n",
              "      <th>call_date</th>\n",
              "      <th>duration</th>\n",
              "      <th>user_id</th>\n",
              "    </tr>\n",
              "  </thead>\n",
              "  <tbody>\n",
              "    <tr>\n",
              "      <td>4143</td>\n",
              "      <td>1011_237</td>\n",
              "      <td>2018-09-07</td>\n",
              "      <td>9.84</td>\n",
              "      <td>1011</td>\n",
              "    </tr>\n",
              "    <tr>\n",
              "      <td>13204</td>\n",
              "      <td>1034_143</td>\n",
              "      <td>2018-09-08</td>\n",
              "      <td>20.87</td>\n",
              "      <td>1034</td>\n",
              "    </tr>\n",
              "    <tr>\n",
              "      <td>28911</td>\n",
              "      <td>1072_237</td>\n",
              "      <td>2018-10-03</td>\n",
              "      <td>1.87</td>\n",
              "      <td>1072</td>\n",
              "    </tr>\n",
              "    <tr>\n",
              "      <td>53931</td>\n",
              "      <td>1135_224</td>\n",
              "      <td>2018-11-25</td>\n",
              "      <td>14.20</td>\n",
              "      <td>1135</td>\n",
              "    </tr>\n",
              "    <tr>\n",
              "      <td>126942</td>\n",
              "      <td>1325_323</td>\n",
              "      <td>2018-07-16</td>\n",
              "      <td>9.64</td>\n",
              "      <td>1325</td>\n",
              "    </tr>\n",
              "  </tbody>\n",
              "</table>\n",
              "</div>"
            ],
            "text/plain": [
              "              id   call_date  duration  user_id\n",
              "4143    1011_237  2018-09-07      9.84     1011\n",
              "13204   1034_143  2018-09-08     20.87     1034\n",
              "28911   1072_237  2018-10-03      1.87     1072\n",
              "53931   1135_224  2018-11-25     14.20     1135\n",
              "126942  1325_323  2018-07-16      9.64     1325"
            ]
          },
          "execution_count": 5,
          "metadata": {},
          "output_type": "execute_result"
        }
      ],
      "source": [
        "data_calls.sample(5)"
      ]
    },
    {
      "cell_type": "markdown",
      "metadata": {
        "id": "uOqHmhanCTYm"
      },
      "source": [
        "5 случайных строк таблицы calls"
      ]
    },
    {
      "cell_type": "markdown",
      "metadata": {
        "id": "IC1aM0uECTYm"
      },
      "source": [
        "* Категориальная переменная: id, call_date, user_id.\n",
        "* Количественная переменная: duration."
      ]
    },
    {
      "cell_type": "code",
      "execution_count": null,
      "metadata": {
        "scrolled": false,
        "id": "39fCNv4ACTYm",
        "outputId": "d60047b7-59a0-4be2-fd2d-524c2296c3da"
      },
      "outputs": [
        {
          "name": "stdout",
          "output_type": "stream",
          "text": [
            "<class 'pandas.core.frame.DataFrame'>\n",
            "RangeIndex: 123036 entries, 0 to 123035\n",
            "Data columns (total 3 columns):\n",
            "id              123036 non-null object\n",
            "message_date    123036 non-null object\n",
            "user_id         123036 non-null int64\n",
            "dtypes: int64(1), object(2)\n",
            "memory usage: 2.8+ MB\n"
          ]
        }
      ],
      "source": [
        "data_messages = pd.read_csv('/datasets/messages.csv')\n",
        "data_messages.info()"
      ]
    },
    {
      "cell_type": "markdown",
      "metadata": {
        "id": "vRkxFudyCTYm"
      },
      "source": [
        "Общая информация о таблице messages"
      ]
    },
    {
      "cell_type": "code",
      "execution_count": null,
      "metadata": {
        "id": "Ykre3H4uCTYp",
        "outputId": "939811bb-2108-41ed-cf2b-f966434959b7"
      },
      "outputs": [
        {
          "data": {
            "text/html": [
              "<div>\n",
              "<style scoped>\n",
              "    .dataframe tbody tr th:only-of-type {\n",
              "        vertical-align: middle;\n",
              "    }\n",
              "\n",
              "    .dataframe tbody tr th {\n",
              "        vertical-align: top;\n",
              "    }\n",
              "\n",
              "    .dataframe thead th {\n",
              "        text-align: right;\n",
              "    }\n",
              "</style>\n",
              "<table border=\"1\" class=\"dataframe\">\n",
              "  <thead>\n",
              "    <tr style=\"text-align: right;\">\n",
              "      <th></th>\n",
              "      <th>id</th>\n",
              "      <th>message_date</th>\n",
              "      <th>user_id</th>\n",
              "    </tr>\n",
              "  </thead>\n",
              "  <tbody>\n",
              "    <tr>\n",
              "      <td>107434</td>\n",
              "      <td>1433_41</td>\n",
              "      <td>2018-11-08</td>\n",
              "      <td>1433</td>\n",
              "    </tr>\n",
              "    <tr>\n",
              "      <td>68604</td>\n",
              "      <td>1293_19</td>\n",
              "      <td>2018-10-20</td>\n",
              "      <td>1293</td>\n",
              "    </tr>\n",
              "    <tr>\n",
              "      <td>41871</td>\n",
              "      <td>1178_94</td>\n",
              "      <td>2018-06-20</td>\n",
              "      <td>1178</td>\n",
              "    </tr>\n",
              "    <tr>\n",
              "      <td>116967</td>\n",
              "      <td>1475_171</td>\n",
              "      <td>2018-07-25</td>\n",
              "      <td>1475</td>\n",
              "    </tr>\n",
              "    <tr>\n",
              "      <td>38597</td>\n",
              "      <td>1166_423</td>\n",
              "      <td>2018-08-19</td>\n",
              "      <td>1166</td>\n",
              "    </tr>\n",
              "  </tbody>\n",
              "</table>\n",
              "</div>"
            ],
            "text/plain": [
              "              id message_date  user_id\n",
              "107434   1433_41   2018-11-08     1433\n",
              "68604    1293_19   2018-10-20     1293\n",
              "41871    1178_94   2018-06-20     1178\n",
              "116967  1475_171   2018-07-25     1475\n",
              "38597   1166_423   2018-08-19     1166"
            ]
          },
          "execution_count": 7,
          "metadata": {},
          "output_type": "execute_result"
        }
      ],
      "source": [
        "data_messages.sample(5)"
      ]
    },
    {
      "cell_type": "markdown",
      "metadata": {
        "id": "alY-jfXlCTYp"
      },
      "source": [
        "5 случайных строк таблицы messages"
      ]
    },
    {
      "cell_type": "markdown",
      "metadata": {
        "id": "HFHeQhAoCTYq"
      },
      "source": [
        "* Категориальная переменная: id, message_date, user_id."
      ]
    },
    {
      "cell_type": "code",
      "execution_count": null,
      "metadata": {
        "scrolled": false,
        "id": "MxL-Q5yZCTYq",
        "outputId": "e8040dd1-4560-46cd-92b6-fcdbf564e55b"
      },
      "outputs": [
        {
          "name": "stdout",
          "output_type": "stream",
          "text": [
            "<class 'pandas.core.frame.DataFrame'>\n",
            "RangeIndex: 149396 entries, 0 to 149395\n",
            "Data columns (total 5 columns):\n",
            "Unnamed: 0      149396 non-null int64\n",
            "id              149396 non-null object\n",
            "mb_used         149396 non-null float64\n",
            "session_date    149396 non-null object\n",
            "user_id         149396 non-null int64\n",
            "dtypes: float64(1), int64(2), object(2)\n",
            "memory usage: 5.7+ MB\n"
          ]
        }
      ],
      "source": [
        "data_internet = pd.read_csv('/datasets/internet.csv')\n",
        "data_internet.info()"
      ]
    },
    {
      "cell_type": "markdown",
      "metadata": {
        "id": "WvszkesfCTYq"
      },
      "source": [
        "Общая информация о таблице internet"
      ]
    },
    {
      "cell_type": "code",
      "execution_count": null,
      "metadata": {
        "scrolled": true,
        "id": "doaN0QpCCTYq",
        "outputId": "c79ea244-cb6d-47da-ff6d-b0b89dd9faee"
      },
      "outputs": [
        {
          "data": {
            "text/html": [
              "<div>\n",
              "<style scoped>\n",
              "    .dataframe tbody tr th:only-of-type {\n",
              "        vertical-align: middle;\n",
              "    }\n",
              "\n",
              "    .dataframe tbody tr th {\n",
              "        vertical-align: top;\n",
              "    }\n",
              "\n",
              "    .dataframe thead th {\n",
              "        text-align: right;\n",
              "    }\n",
              "</style>\n",
              "<table border=\"1\" class=\"dataframe\">\n",
              "  <thead>\n",
              "    <tr style=\"text-align: right;\">\n",
              "      <th></th>\n",
              "      <th>Unnamed: 0</th>\n",
              "      <th>id</th>\n",
              "      <th>mb_used</th>\n",
              "      <th>session_date</th>\n",
              "      <th>user_id</th>\n",
              "    </tr>\n",
              "  </thead>\n",
              "  <tbody>\n",
              "    <tr>\n",
              "      <td>113125</td>\n",
              "      <td>113125</td>\n",
              "      <td>1382_118</td>\n",
              "      <td>780.49</td>\n",
              "      <td>2018-12-06</td>\n",
              "      <td>1382</td>\n",
              "    </tr>\n",
              "    <tr>\n",
              "      <td>58987</td>\n",
              "      <td>58987</td>\n",
              "      <td>1198_188</td>\n",
              "      <td>396.81</td>\n",
              "      <td>2018-12-29</td>\n",
              "      <td>1198</td>\n",
              "    </tr>\n",
              "    <tr>\n",
              "      <td>36995</td>\n",
              "      <td>36995</td>\n",
              "      <td>1127_345</td>\n",
              "      <td>661.82</td>\n",
              "      <td>2018-08-13</td>\n",
              "      <td>1127</td>\n",
              "    </tr>\n",
              "    <tr>\n",
              "      <td>112342</td>\n",
              "      <td>112342</td>\n",
              "      <td>1380_471</td>\n",
              "      <td>460.80</td>\n",
              "      <td>2018-08-22</td>\n",
              "      <td>1380</td>\n",
              "    </tr>\n",
              "    <tr>\n",
              "      <td>83791</td>\n",
              "      <td>83791</td>\n",
              "      <td>1284_145</td>\n",
              "      <td>866.94</td>\n",
              "      <td>2018-04-19</td>\n",
              "      <td>1284</td>\n",
              "    </tr>\n",
              "  </tbody>\n",
              "</table>\n",
              "</div>"
            ],
            "text/plain": [
              "        Unnamed: 0        id  mb_used session_date  user_id\n",
              "113125      113125  1382_118   780.49   2018-12-06     1382\n",
              "58987        58987  1198_188   396.81   2018-12-29     1198\n",
              "36995        36995  1127_345   661.82   2018-08-13     1127\n",
              "112342      112342  1380_471   460.80   2018-08-22     1380\n",
              "83791        83791  1284_145   866.94   2018-04-19     1284"
            ]
          },
          "execution_count": 9,
          "metadata": {},
          "output_type": "execute_result"
        }
      ],
      "source": [
        "data_internet.sample(5)"
      ]
    },
    {
      "cell_type": "markdown",
      "metadata": {
        "id": "vzmjpxZsCTYr"
      },
      "source": [
        "5 случайных строк таблицы internet"
      ]
    },
    {
      "cell_type": "markdown",
      "metadata": {
        "id": "77xnRZSRCTYr"
      },
      "source": [
        "* Категориальная переменная: id, session_date, user_id.\n",
        "* Количественная переменная: mb_used.\n",
        "\n",
        "Пропуски в столбце mb_used говорят об потере данных."
      ]
    },
    {
      "cell_type": "code",
      "execution_count": null,
      "metadata": {
        "scrolled": false,
        "id": "5r8LWFZ4CTYr",
        "outputId": "1896297c-5aad-4f22-a4f5-2d9e51de9c85"
      },
      "outputs": [
        {
          "name": "stdout",
          "output_type": "stream",
          "text": [
            "<class 'pandas.core.frame.DataFrame'>\n",
            "RangeIndex: 2 entries, 0 to 1\n",
            "Data columns (total 8 columns):\n",
            "messages_included        2 non-null int64\n",
            "mb_per_month_included    2 non-null int64\n",
            "minutes_included         2 non-null int64\n",
            "rub_monthly_fee          2 non-null int64\n",
            "rub_per_gb               2 non-null int64\n",
            "rub_per_message          2 non-null int64\n",
            "rub_per_minute           2 non-null int64\n",
            "tariff_name              2 non-null object\n",
            "dtypes: int64(7), object(1)\n",
            "memory usage: 256.0+ bytes\n"
          ]
        }
      ],
      "source": [
        "data_tariffs = pd.read_csv('/datasets/tariffs.csv')\n",
        "data_tariffs.info()"
      ]
    },
    {
      "cell_type": "markdown",
      "metadata": {
        "id": "WUfrMY32CTYr"
      },
      "source": [
        "Общая информация о таблице tariffs"
      ]
    },
    {
      "cell_type": "code",
      "execution_count": null,
      "metadata": {
        "scrolled": true,
        "id": "jN9rqhqxCTYr",
        "outputId": "5a34efc1-7601-48bd-97aa-8c8126f3d710"
      },
      "outputs": [
        {
          "data": {
            "text/html": [
              "<div>\n",
              "<style scoped>\n",
              "    .dataframe tbody tr th:only-of-type {\n",
              "        vertical-align: middle;\n",
              "    }\n",
              "\n",
              "    .dataframe tbody tr th {\n",
              "        vertical-align: top;\n",
              "    }\n",
              "\n",
              "    .dataframe thead th {\n",
              "        text-align: right;\n",
              "    }\n",
              "</style>\n",
              "<table border=\"1\" class=\"dataframe\">\n",
              "  <thead>\n",
              "    <tr style=\"text-align: right;\">\n",
              "      <th></th>\n",
              "      <th>messages_included</th>\n",
              "      <th>mb_per_month_included</th>\n",
              "      <th>minutes_included</th>\n",
              "      <th>rub_monthly_fee</th>\n",
              "      <th>rub_per_gb</th>\n",
              "      <th>rub_per_message</th>\n",
              "      <th>rub_per_minute</th>\n",
              "      <th>tariff_name</th>\n",
              "    </tr>\n",
              "  </thead>\n",
              "  <tbody>\n",
              "    <tr>\n",
              "      <td>0</td>\n",
              "      <td>50</td>\n",
              "      <td>15360</td>\n",
              "      <td>500</td>\n",
              "      <td>550</td>\n",
              "      <td>200</td>\n",
              "      <td>3</td>\n",
              "      <td>3</td>\n",
              "      <td>smart</td>\n",
              "    </tr>\n",
              "    <tr>\n",
              "      <td>1</td>\n",
              "      <td>1000</td>\n",
              "      <td>30720</td>\n",
              "      <td>3000</td>\n",
              "      <td>1950</td>\n",
              "      <td>150</td>\n",
              "      <td>1</td>\n",
              "      <td>1</td>\n",
              "      <td>ultra</td>\n",
              "    </tr>\n",
              "  </tbody>\n",
              "</table>\n",
              "</div>"
            ],
            "text/plain": [
              "   messages_included  mb_per_month_included  minutes_included  \\\n",
              "0                 50                  15360               500   \n",
              "1               1000                  30720              3000   \n",
              "\n",
              "   rub_monthly_fee  rub_per_gb  rub_per_message  rub_per_minute tariff_name  \n",
              "0              550         200                3               3       smart  \n",
              "1             1950         150                1               1       ultra  "
            ]
          },
          "execution_count": 11,
          "metadata": {},
          "output_type": "execute_result"
        }
      ],
      "source": [
        "data_tariffs"
      ]
    },
    {
      "cell_type": "markdown",
      "metadata": {
        "id": "8RLNGk2CCTYs"
      },
      "source": [
        "все строки таблицы tariffs"
      ]
    },
    {
      "cell_type": "markdown",
      "metadata": {
        "id": "slYiGTk8CTYs"
      },
      "source": [
        "* Категориальная переменная: tariff_name.\n",
        "* Количественная переменная: messages_included, mb_per_month_included, minutes_included, rub_monthly_fee, rub_per_gb, rub_per_message, rub_per_minute."
      ]
    },
    {
      "cell_type": "markdown",
      "metadata": {
        "id": "o9bGCUYBCTYs"
      },
      "source": [
        "### Вывод\n",
        "\n",
        "У следующих столбцов необходимо изменить тип:\n",
        "1. в таблице users\n",
        "* churn_date на datetime\n",
        "* reg_date на datetime\n",
        "2. в таблице messages\n",
        "* message_date на datetime\n",
        "3. в таблице internet\n",
        "* session_date на datetime\n",
        "4. calls\n",
        "* call_date на datetime\n",
        "\n",
        "У столбца churn_date из описания данных, есть пропуски, которые нужно изменить на явное значение."
      ]
    },
    {
      "cell_type": "markdown",
      "metadata": {
        "id": "rshkf_DxCTYt"
      },
      "source": [
        "## Подготовьте данные"
      ]
    },
    {
      "cell_type": "code",
      "execution_count": null,
      "metadata": {
        "id": "U8rdzzYqCTYt"
      },
      "outputs": [],
      "source": [
        "def fillna_churn_date(row):\n",
        "    if pd.isnull(row['churn_date']):\n",
        "        MAX_YEARS = 100\n",
        "        delta = MAX_YEARS - row['age'] \n",
        "        date = str(2021 + delta)+'-12-16'\n",
        "        row['churn_date'] = pd.to_datetime(date,format = '%Y-%m-%d')\n",
        "    return row\n",
        "data_users = data_users.apply(fillna_churn_date, axis = 1)"
      ]
    },
    {
      "cell_type": "markdown",
      "metadata": {
        "id": "7SOgw6vzCTYt"
      },
      "source": [
        "Пропуски в таблице data_users столбец churn_date. В основном люди не живут дольше 100 лет. Прибавим к текущей дате разницу между 100 и возрастом абонента и заполним этим значением пропуски"
      ]
    },
    {
      "cell_type": "code",
      "execution_count": null,
      "metadata": {
        "scrolled": true,
        "id": "_qZKIyZiCTYt",
        "outputId": "e3b60224-948d-456a-b258-2e4e20e51d1f"
      },
      "outputs": [
        {
          "data": {
            "text/html": [
              "<div>\n",
              "<style scoped>\n",
              "    .dataframe tbody tr th:only-of-type {\n",
              "        vertical-align: middle;\n",
              "    }\n",
              "\n",
              "    .dataframe tbody tr th {\n",
              "        vertical-align: top;\n",
              "    }\n",
              "\n",
              "    .dataframe thead th {\n",
              "        text-align: right;\n",
              "    }\n",
              "</style>\n",
              "<table border=\"1\" class=\"dataframe\">\n",
              "  <thead>\n",
              "    <tr style=\"text-align: right;\">\n",
              "      <th></th>\n",
              "      <th>id</th>\n",
              "      <th>call_date</th>\n",
              "      <th>duration</th>\n",
              "      <th>user_id</th>\n",
              "    </tr>\n",
              "  </thead>\n",
              "  <tbody>\n",
              "    <tr>\n",
              "      <td>0</td>\n",
              "      <td>1000_0</td>\n",
              "      <td>2018-07-25</td>\n",
              "      <td>0.0</td>\n",
              "      <td>1000</td>\n",
              "    </tr>\n",
              "    <tr>\n",
              "      <td>1</td>\n",
              "      <td>1000_1</td>\n",
              "      <td>2018-08-17</td>\n",
              "      <td>0.0</td>\n",
              "      <td>1000</td>\n",
              "    </tr>\n",
              "    <tr>\n",
              "      <td>5</td>\n",
              "      <td>1000_5</td>\n",
              "      <td>2018-11-02</td>\n",
              "      <td>0.0</td>\n",
              "      <td>1000</td>\n",
              "    </tr>\n",
              "    <tr>\n",
              "      <td>6</td>\n",
              "      <td>1000_6</td>\n",
              "      <td>2018-10-18</td>\n",
              "      <td>0.0</td>\n",
              "      <td>1000</td>\n",
              "    </tr>\n",
              "    <tr>\n",
              "      <td>9</td>\n",
              "      <td>1000_9</td>\n",
              "      <td>2018-08-15</td>\n",
              "      <td>0.0</td>\n",
              "      <td>1000</td>\n",
              "    </tr>\n",
              "    <tr>\n",
              "      <td>...</td>\n",
              "      <td>...</td>\n",
              "      <td>...</td>\n",
              "      <td>...</td>\n",
              "      <td>...</td>\n",
              "    </tr>\n",
              "    <tr>\n",
              "      <td>202590</td>\n",
              "      <td>1499_203</td>\n",
              "      <td>2018-12-03</td>\n",
              "      <td>0.0</td>\n",
              "      <td>1499</td>\n",
              "    </tr>\n",
              "    <tr>\n",
              "      <td>202592</td>\n",
              "      <td>1499_205</td>\n",
              "      <td>2018-10-13</td>\n",
              "      <td>0.0</td>\n",
              "      <td>1499</td>\n",
              "    </tr>\n",
              "    <tr>\n",
              "      <td>202593</td>\n",
              "      <td>1499_206</td>\n",
              "      <td>2018-12-26</td>\n",
              "      <td>0.0</td>\n",
              "      <td>1499</td>\n",
              "    </tr>\n",
              "    <tr>\n",
              "      <td>202594</td>\n",
              "      <td>1499_207</td>\n",
              "      <td>2018-10-28</td>\n",
              "      <td>0.0</td>\n",
              "      <td>1499</td>\n",
              "    </tr>\n",
              "    <tr>\n",
              "      <td>202596</td>\n",
              "      <td>1499_209</td>\n",
              "      <td>2018-12-16</td>\n",
              "      <td>0.0</td>\n",
              "      <td>1499</td>\n",
              "    </tr>\n",
              "  </tbody>\n",
              "</table>\n",
              "<p>39613 rows × 4 columns</p>\n",
              "</div>"
            ],
            "text/plain": [
              "              id   call_date  duration  user_id\n",
              "0         1000_0  2018-07-25       0.0     1000\n",
              "1         1000_1  2018-08-17       0.0     1000\n",
              "5         1000_5  2018-11-02       0.0     1000\n",
              "6         1000_6  2018-10-18       0.0     1000\n",
              "9         1000_9  2018-08-15       0.0     1000\n",
              "...          ...         ...       ...      ...\n",
              "202590  1499_203  2018-12-03       0.0     1499\n",
              "202592  1499_205  2018-10-13       0.0     1499\n",
              "202593  1499_206  2018-12-26       0.0     1499\n",
              "202594  1499_207  2018-10-28       0.0     1499\n",
              "202596  1499_209  2018-12-16       0.0     1499\n",
              "\n",
              "[39613 rows x 4 columns]"
            ]
          },
          "execution_count": 13,
          "metadata": {},
          "output_type": "execute_result"
        }
      ],
      "source": [
        "data_calls.query('duration == 0')"
      ]
    },
    {
      "cell_type": "markdown",
      "metadata": {
        "id": "Np99e_HZCTYt"
      },
      "source": [
        "39613 строк звонков с нулевой длительностью. За ноль обозначены несостоявшиеся звонки. Нулевая их длительность вызвана прерыванием связи или случаями, когда у другого абонента было \"занято\" и поэтому происходил моментальный сброс вызова после дозвона. Они не расходуют лимиты минут и вообще не принимают участия в формировании конечной выручки."
      ]
    },
    {
      "cell_type": "code",
      "execution_count": null,
      "metadata": {
        "scrolled": false,
        "id": "-9CgBfhvCTYt",
        "outputId": "4c25b5ab-9361-4ff6-aa10-685e207a68e2"
      },
      "outputs": [
        {
          "data": {
            "text/html": [
              "<div>\n",
              "<style scoped>\n",
              "    .dataframe tbody tr th:only-of-type {\n",
              "        vertical-align: middle;\n",
              "    }\n",
              "\n",
              "    .dataframe tbody tr th {\n",
              "        vertical-align: top;\n",
              "    }\n",
              "\n",
              "    .dataframe thead th {\n",
              "        text-align: right;\n",
              "    }\n",
              "</style>\n",
              "<table border=\"1\" class=\"dataframe\">\n",
              "  <thead>\n",
              "    <tr style=\"text-align: right;\">\n",
              "      <th></th>\n",
              "      <th>Unnamed: 0</th>\n",
              "      <th>id</th>\n",
              "      <th>mb_used</th>\n",
              "      <th>session_date</th>\n",
              "      <th>user_id</th>\n",
              "    </tr>\n",
              "  </thead>\n",
              "  <tbody>\n",
              "    <tr>\n",
              "      <td>11</td>\n",
              "      <td>11</td>\n",
              "      <td>1000_11</td>\n",
              "      <td>0.0</td>\n",
              "      <td>2018-08-28</td>\n",
              "      <td>1000</td>\n",
              "    </tr>\n",
              "    <tr>\n",
              "      <td>38</td>\n",
              "      <td>38</td>\n",
              "      <td>1000_38</td>\n",
              "      <td>0.0</td>\n",
              "      <td>2018-11-27</td>\n",
              "      <td>1000</td>\n",
              "    </tr>\n",
              "    <tr>\n",
              "      <td>46</td>\n",
              "      <td>46</td>\n",
              "      <td>1000_46</td>\n",
              "      <td>0.0</td>\n",
              "      <td>2018-06-30</td>\n",
              "      <td>1000</td>\n",
              "    </tr>\n",
              "    <tr>\n",
              "      <td>67</td>\n",
              "      <td>67</td>\n",
              "      <td>1000_67</td>\n",
              "      <td>0.0</td>\n",
              "      <td>2018-06-16</td>\n",
              "      <td>1000</td>\n",
              "    </tr>\n",
              "    <tr>\n",
              "      <td>72</td>\n",
              "      <td>72</td>\n",
              "      <td>1000_72</td>\n",
              "      <td>0.0</td>\n",
              "      <td>2018-06-15</td>\n",
              "      <td>1000</td>\n",
              "    </tr>\n",
              "    <tr>\n",
              "      <td>...</td>\n",
              "      <td>...</td>\n",
              "      <td>...</td>\n",
              "      <td>...</td>\n",
              "      <td>...</td>\n",
              "      <td>...</td>\n",
              "    </tr>\n",
              "    <tr>\n",
              "      <td>149380</td>\n",
              "      <td>149380</td>\n",
              "      <td>1499_141</td>\n",
              "      <td>0.0</td>\n",
              "      <td>2018-12-11</td>\n",
              "      <td>1499</td>\n",
              "    </tr>\n",
              "    <tr>\n",
              "      <td>149381</td>\n",
              "      <td>149381</td>\n",
              "      <td>1499_142</td>\n",
              "      <td>0.0</td>\n",
              "      <td>2018-11-01</td>\n",
              "      <td>1499</td>\n",
              "    </tr>\n",
              "    <tr>\n",
              "      <td>149383</td>\n",
              "      <td>149383</td>\n",
              "      <td>1499_144</td>\n",
              "      <td>0.0</td>\n",
              "      <td>2018-11-27</td>\n",
              "      <td>1499</td>\n",
              "    </tr>\n",
              "    <tr>\n",
              "      <td>149386</td>\n",
              "      <td>149386</td>\n",
              "      <td>1499_147</td>\n",
              "      <td>0.0</td>\n",
              "      <td>2018-10-21</td>\n",
              "      <td>1499</td>\n",
              "    </tr>\n",
              "    <tr>\n",
              "      <td>149393</td>\n",
              "      <td>149393</td>\n",
              "      <td>1499_154</td>\n",
              "      <td>0.0</td>\n",
              "      <td>2018-10-27</td>\n",
              "      <td>1499</td>\n",
              "    </tr>\n",
              "  </tbody>\n",
              "</table>\n",
              "<p>19598 rows × 5 columns</p>\n",
              "</div>"
            ],
            "text/plain": [
              "        Unnamed: 0        id  mb_used session_date  user_id\n",
              "11              11   1000_11      0.0   2018-08-28     1000\n",
              "38              38   1000_38      0.0   2018-11-27     1000\n",
              "46              46   1000_46      0.0   2018-06-30     1000\n",
              "67              67   1000_67      0.0   2018-06-16     1000\n",
              "72              72   1000_72      0.0   2018-06-15     1000\n",
              "...            ...       ...      ...          ...      ...\n",
              "149380      149380  1499_141      0.0   2018-12-11     1499\n",
              "149381      149381  1499_142      0.0   2018-11-01     1499\n",
              "149383      149383  1499_144      0.0   2018-11-27     1499\n",
              "149386      149386  1499_147      0.0   2018-10-21     1499\n",
              "149393      149393  1499_154      0.0   2018-10-27     1499\n",
              "\n",
              "[19598 rows x 5 columns]"
            ]
          },
          "execution_count": 14,
          "metadata": {},
          "output_type": "execute_result"
        }
      ],
      "source": [
        "data_internet.query('mb_used == 0')"
      ]
    },
    {
      "cell_type": "markdown",
      "metadata": {
        "id": "lNUdVwZiCTYu"
      },
      "source": [
        "19598 строк с нулевой длительностью. За ноль обозначены сессии, в случаях, когда подключение было включено, но операций не происходило или когда появляется и сразу пропадает подключение к сети. Такие сессии не расходуют лимиты и не принимают участия в формировании конечной выручки."
      ]
    },
    {
      "cell_type": "code",
      "execution_count": null,
      "metadata": {
        "id": "SCBBplRFCTYu"
      },
      "outputs": [],
      "source": [
        "data_calls['duration']  = np.ceil(data_calls['duration']).astype(int)"
      ]
    },
    {
      "cell_type": "markdown",
      "metadata": {
        "id": "uvpCirD4CTYu"
      },
      "source": [
        "Округляем звонки вверх."
      ]
    },
    {
      "cell_type": "code",
      "execution_count": null,
      "metadata": {
        "id": "WgbKMB6aCTYu"
      },
      "outputs": [],
      "source": [
        "columns_to_datetime = {\"reg_date\":data_users,\n",
        "                       \"message_date\":data_messages,\n",
        "                       \"session_date\":data_internet,\n",
        "                       \"call_date\":data_calls}\n",
        "\n",
        "for column, frame in columns_to_datetime.items():\n",
        "    frame[column] = pd.to_datetime(frame[column],format = '%Y-%m-%d')"
      ]
    },
    {
      "cell_type": "markdown",
      "metadata": {
        "id": "nNdhPoU1CTYu"
      },
      "source": [
        "Изменение типов столбцов reg_date, message_date, session_date, call_date к типу datetime"
      ]
    },
    {
      "cell_type": "code",
      "execution_count": null,
      "metadata": {
        "id": "0SEP08wyCTYu"
      },
      "outputs": [],
      "source": [
        "data_calls['month'] = data_calls[\"call_date\"].dt.month\n",
        "data_messages['month'] = data_messages[\"message_date\"].dt.month\n",
        "data_internet['month'] = data_internet['session_date'].dt.month"
      ]
    },
    {
      "cell_type": "markdown",
      "metadata": {
        "id": "PDlU54wiCTYv"
      },
      "source": [
        "Создадим столбцы хранящие в себе значение месяцев, когда произошло событие"
      ]
    },
    {
      "cell_type": "code",
      "execution_count": null,
      "metadata": {
        "id": "DZ1cme8jCTYv"
      },
      "outputs": [],
      "source": [
        "data_calls['duration'] = data_calls['duration'].replace(0, np.NaN)\n",
        "data_calls = data_calls.dropna()\n",
        "data_internet['mb_used'] = data_internet['mb_used'].replace(0, np.NaN)\n",
        "data_internet = data_internet.dropna()"
      ]
    },
    {
      "cell_type": "markdown",
      "metadata": {
        "id": "KIxB1AUJCTYv"
      },
      "source": [
        "Нулевые значения меняем на нан и убираем все строки с нан."
      ]
    },
    {
      "cell_type": "code",
      "execution_count": null,
      "metadata": {
        "id": "Y7fDqCDuCTYw"
      },
      "outputs": [],
      "source": [
        "statistic_frame = pd.DataFrame(columns = ['user_id',\n",
        "                                    \"month\",\n",
        "                                    \"count_calls\",\n",
        "                                    'calls_total_duration',\n",
        "                                    'count_messages',\n",
        "                                    'total_mb_used'\n",
        "                                   ])\n",
        "for idx in data_users['user_id']:\n",
        "    for month_x in range(1,13):\n",
        "        if ((month_x in data_calls.query('user_id == @idx')['month'].to_numpy()) or\n",
        "            (month_x in data_messages.query('user_id == @idx')['month'].to_numpy())):\n",
        "            \n",
        "            count_calls = data_calls.query('user_id == @idx and month == @month_x').shape[0]\n",
        "            total_duration_calls = data_calls.query('user_id == @idx and month == @month_x')['duration'].sum()\n",
        "            count_messages = data_messages.query('user_id == @idx and month == @month_x').shape[0]\n",
        "            total_used = data_internet.query('user_id == @idx and month == @month_x')['mb_used'].sum()\n",
        "            \n",
        "            statistic_frame = statistic_frame.append({'user_id':idx,\n",
        "                               'month':month_x,             \n",
        "                               \"count_calls\":count_calls,\n",
        "                               'calls_total_duration':total_duration_calls,\n",
        "                               'count_messages':count_messages,\n",
        "                               'total_mb_used':total_used             \n",
        "                                           }, ignore_index=True)\n",
        "statistic_frame['user_id'] = statistic_frame['user_id'].astype('int')"
      ]
    },
    {
      "cell_type": "markdown",
      "metadata": {
        "id": "1VY04vmNCTYw"
      },
      "source": [
        "Для дальнейшего анализа подготавливаем необходимые данные"
      ]
    },
    {
      "cell_type": "code",
      "execution_count": null,
      "metadata": {
        "id": "_S6tHukPCTYx",
        "outputId": "7995c89d-4505-44a5-f9bb-f6e44a62eb20"
      },
      "outputs": [
        {
          "data": {
            "text/html": [
              "<div>\n",
              "<style scoped>\n",
              "    .dataframe tbody tr th:only-of-type {\n",
              "        vertical-align: middle;\n",
              "    }\n",
              "\n",
              "    .dataframe tbody tr th {\n",
              "        vertical-align: top;\n",
              "    }\n",
              "\n",
              "    .dataframe thead th {\n",
              "        text-align: right;\n",
              "    }\n",
              "</style>\n",
              "<table border=\"1\" class=\"dataframe\">\n",
              "  <thead>\n",
              "    <tr style=\"text-align: right;\">\n",
              "      <th></th>\n",
              "      <th>user_id</th>\n",
              "      <th>month</th>\n",
              "      <th>count_calls</th>\n",
              "      <th>calls_total_duration</th>\n",
              "      <th>count_messages</th>\n",
              "      <th>total_mb_used</th>\n",
              "      <th>tariff</th>\n",
              "      <th>city</th>\n",
              "    </tr>\n",
              "  </thead>\n",
              "  <tbody>\n",
              "    <tr>\n",
              "      <td>0</td>\n",
              "      <td>1000</td>\n",
              "      <td>5.0</td>\n",
              "      <td>17.0</td>\n",
              "      <td>159.0</td>\n",
              "      <td>22.0</td>\n",
              "      <td>2253.49</td>\n",
              "      <td>ultra</td>\n",
              "      <td>Краснодар</td>\n",
              "    </tr>\n",
              "    <tr>\n",
              "      <td>1</td>\n",
              "      <td>1000</td>\n",
              "      <td>6.0</td>\n",
              "      <td>28.0</td>\n",
              "      <td>172.0</td>\n",
              "      <td>60.0</td>\n",
              "      <td>23233.77</td>\n",
              "      <td>ultra</td>\n",
              "      <td>Краснодар</td>\n",
              "    </tr>\n",
              "    <tr>\n",
              "      <td>2</td>\n",
              "      <td>1000</td>\n",
              "      <td>7.0</td>\n",
              "      <td>41.0</td>\n",
              "      <td>340.0</td>\n",
              "      <td>75.0</td>\n",
              "      <td>14003.64</td>\n",
              "      <td>ultra</td>\n",
              "      <td>Краснодар</td>\n",
              "    </tr>\n",
              "    <tr>\n",
              "      <td>3</td>\n",
              "      <td>1000</td>\n",
              "      <td>8.0</td>\n",
              "      <td>42.0</td>\n",
              "      <td>408.0</td>\n",
              "      <td>81.0</td>\n",
              "      <td>14055.93</td>\n",
              "      <td>ultra</td>\n",
              "      <td>Краснодар</td>\n",
              "    </tr>\n",
              "    <tr>\n",
              "      <td>4</td>\n",
              "      <td>1000</td>\n",
              "      <td>9.0</td>\n",
              "      <td>46.0</td>\n",
              "      <td>466.0</td>\n",
              "      <td>57.0</td>\n",
              "      <td>14568.91</td>\n",
              "      <td>ultra</td>\n",
              "      <td>Краснодар</td>\n",
              "    </tr>\n",
              "    <tr>\n",
              "      <td>...</td>\n",
              "      <td>...</td>\n",
              "      <td>...</td>\n",
              "      <td>...</td>\n",
              "      <td>...</td>\n",
              "      <td>...</td>\n",
              "      <td>...</td>\n",
              "      <td>...</td>\n",
              "      <td>...</td>\n",
              "    </tr>\n",
              "    <tr>\n",
              "      <td>3207</td>\n",
              "      <td>1498</td>\n",
              "      <td>10.0</td>\n",
              "      <td>30.0</td>\n",
              "      <td>247.0</td>\n",
              "      <td>42.0</td>\n",
              "      <td>20579.36</td>\n",
              "      <td>smart</td>\n",
              "      <td>Владикавказ</td>\n",
              "    </tr>\n",
              "    <tr>\n",
              "      <td>3208</td>\n",
              "      <td>1499</td>\n",
              "      <td>9.0</td>\n",
              "      <td>8.0</td>\n",
              "      <td>70.0</td>\n",
              "      <td>11.0</td>\n",
              "      <td>1845.75</td>\n",
              "      <td>smart</td>\n",
              "      <td>Пермь</td>\n",
              "    </tr>\n",
              "    <tr>\n",
              "      <td>3209</td>\n",
              "      <td>1499</td>\n",
              "      <td>10.0</td>\n",
              "      <td>44.0</td>\n",
              "      <td>449.0</td>\n",
              "      <td>48.0</td>\n",
              "      <td>17788.51</td>\n",
              "      <td>smart</td>\n",
              "      <td>Пермь</td>\n",
              "    </tr>\n",
              "    <tr>\n",
              "      <td>3210</td>\n",
              "      <td>1499</td>\n",
              "      <td>11.0</td>\n",
              "      <td>62.0</td>\n",
              "      <td>612.0</td>\n",
              "      <td>59.0</td>\n",
              "      <td>17963.31</td>\n",
              "      <td>smart</td>\n",
              "      <td>Пермь</td>\n",
              "    </tr>\n",
              "    <tr>\n",
              "      <td>3211</td>\n",
              "      <td>1499</td>\n",
              "      <td>12.0</td>\n",
              "      <td>56.0</td>\n",
              "      <td>492.0</td>\n",
              "      <td>66.0</td>\n",
              "      <td>13055.58</td>\n",
              "      <td>smart</td>\n",
              "      <td>Пермь</td>\n",
              "    </tr>\n",
              "  </tbody>\n",
              "</table>\n",
              "<p>3212 rows × 8 columns</p>\n",
              "</div>"
            ],
            "text/plain": [
              "      user_id  month  count_calls  calls_total_duration  count_messages  \\\n",
              "0        1000    5.0         17.0                 159.0            22.0   \n",
              "1        1000    6.0         28.0                 172.0            60.0   \n",
              "2        1000    7.0         41.0                 340.0            75.0   \n",
              "3        1000    8.0         42.0                 408.0            81.0   \n",
              "4        1000    9.0         46.0                 466.0            57.0   \n",
              "...       ...    ...          ...                   ...             ...   \n",
              "3207     1498   10.0         30.0                 247.0            42.0   \n",
              "3208     1499    9.0          8.0                  70.0            11.0   \n",
              "3209     1499   10.0         44.0                 449.0            48.0   \n",
              "3210     1499   11.0         62.0                 612.0            59.0   \n",
              "3211     1499   12.0         56.0                 492.0            66.0   \n",
              "\n",
              "      total_mb_used tariff         city  \n",
              "0           2253.49  ultra    Краснодар  \n",
              "1          23233.77  ultra    Краснодар  \n",
              "2          14003.64  ultra    Краснодар  \n",
              "3          14055.93  ultra    Краснодар  \n",
              "4          14568.91  ultra    Краснодар  \n",
              "...             ...    ...          ...  \n",
              "3207       20579.36  smart  Владикавказ  \n",
              "3208        1845.75  smart        Пермь  \n",
              "3209       17788.51  smart        Пермь  \n",
              "3210       17963.31  smart        Пермь  \n",
              "3211       13055.58  smart        Пермь  \n",
              "\n",
              "[3212 rows x 8 columns]"
            ]
          },
          "execution_count": 20,
          "metadata": {},
          "output_type": "execute_result"
        }
      ],
      "source": [
        "statistic_frame = statistic_frame.merge(data_users[['user_id','tariff']], on = 'user_id')\n",
        "statistic_frame = statistic_frame.merge(data_users[['user_id','city']], on = 'user_id')\n",
        "statistic_frame"
      ]
    },
    {
      "cell_type": "markdown",
      "metadata": {
        "id": "J-OLnWGMCTYx"
      },
      "source": [
        "В таблицу для анализа данных добавили значение тарифа и города"
      ]
    },
    {
      "cell_type": "code",
      "execution_count": null,
      "metadata": {
        "id": "InD0P_5DCTYx"
      },
      "outputs": [],
      "source": [
        "# Функция рассчитывающая доход копании с конкретного абонента\n",
        "def get_income(row):\n",
        "    def get_extra(dict_of_param):\n",
        "        # Функция рассчитывающая минуты, потраченные абонентом сверх базового пакета\n",
        "        local_extra_min = 0\n",
        "        local_extra_sms = 0\n",
        "        local_extra_gb = 0\n",
        "        if row['calls_total_duration'] > dict_of_param['calls_total_duration']: \n",
        "            local_extra_min = row['calls_total_duration'] - dict_of_param['calls_total_duration']\n",
        "        if row['count_messages'] > dict_of_param['count_messages']:\n",
        "            local_extra_sms = row['count_messages'] - dict_of_param['count_messages']\n",
        "        if row['total_mb_used'] > dict_of_param['total_mb_used']:\n",
        "            local_extra_gb = np.ceil((row['total_mb_used'] - dict_of_param['total_mb_used'])/1024)\n",
        "            # добавлено округление вверх\n",
        "        return local_extra_min, local_extra_sms, local_extra_gb   \n",
        "    \n",
        "    ultra_param = {\n",
        "        'calls_total_duration':3000,\n",
        "        'count_messages': 1000,\n",
        "        'total_mb_used': 30 * 1024\n",
        "    }\n",
        "    smart_param = {\n",
        "        'calls_total_duration':500,\n",
        "        'count_messages': 50,\n",
        "        'total_mb_used': 15 * 1024\n",
        "    }\n",
        "            \n",
        "    if row['tariff'] == 'ultra':\n",
        "        income = 1950\n",
        "        extra_min, extra_sms, extra_gb = get_extra(ultra_param)\n",
        "        income += extra_min + extra_sms + extra_gb * 150     \n",
        "    elif row['tariff'] == 'smart':\n",
        "        income = 550\n",
        "        extra_min, extra_sms, extra_gb = get_extra(smart_param)\n",
        "        income += 3 * extra_min + 3* extra_sms + extra_gb * 200 \n",
        "    return income"
      ]
    },
    {
      "cell_type": "markdown",
      "metadata": {
        "id": "vwxF0nduCTYy"
      },
      "source": [
        "Функция для расчета дохода компании с абонента"
      ]
    },
    {
      "cell_type": "code",
      "execution_count": null,
      "metadata": {
        "id": "47DnMKfiCTYy",
        "outputId": "bdd62f9a-7fba-4335-836a-268a248dd907"
      },
      "outputs": [
        {
          "data": {
            "text/html": [
              "<div>\n",
              "<style scoped>\n",
              "    .dataframe tbody tr th:only-of-type {\n",
              "        vertical-align: middle;\n",
              "    }\n",
              "\n",
              "    .dataframe tbody tr th {\n",
              "        vertical-align: top;\n",
              "    }\n",
              "\n",
              "    .dataframe thead th {\n",
              "        text-align: right;\n",
              "    }\n",
              "</style>\n",
              "<table border=\"1\" class=\"dataframe\">\n",
              "  <thead>\n",
              "    <tr style=\"text-align: right;\">\n",
              "      <th></th>\n",
              "      <th>user_id</th>\n",
              "      <th>month</th>\n",
              "      <th>count_calls</th>\n",
              "      <th>calls_total_duration</th>\n",
              "      <th>count_messages</th>\n",
              "      <th>total_mb_used</th>\n",
              "      <th>tariff</th>\n",
              "      <th>city</th>\n",
              "      <th>income</th>\n",
              "    </tr>\n",
              "  </thead>\n",
              "  <tbody>\n",
              "    <tr>\n",
              "      <td>0</td>\n",
              "      <td>1000</td>\n",
              "      <td>5.0</td>\n",
              "      <td>17.0</td>\n",
              "      <td>159.0</td>\n",
              "      <td>22.0</td>\n",
              "      <td>2253.49</td>\n",
              "      <td>ultra</td>\n",
              "      <td>Краснодар</td>\n",
              "      <td>1950.0</td>\n",
              "    </tr>\n",
              "    <tr>\n",
              "      <td>1</td>\n",
              "      <td>1000</td>\n",
              "      <td>6.0</td>\n",
              "      <td>28.0</td>\n",
              "      <td>172.0</td>\n",
              "      <td>60.0</td>\n",
              "      <td>23233.77</td>\n",
              "      <td>ultra</td>\n",
              "      <td>Краснодар</td>\n",
              "      <td>1950.0</td>\n",
              "    </tr>\n",
              "    <tr>\n",
              "      <td>2</td>\n",
              "      <td>1000</td>\n",
              "      <td>7.0</td>\n",
              "      <td>41.0</td>\n",
              "      <td>340.0</td>\n",
              "      <td>75.0</td>\n",
              "      <td>14003.64</td>\n",
              "      <td>ultra</td>\n",
              "      <td>Краснодар</td>\n",
              "      <td>1950.0</td>\n",
              "    </tr>\n",
              "    <tr>\n",
              "      <td>3</td>\n",
              "      <td>1000</td>\n",
              "      <td>8.0</td>\n",
              "      <td>42.0</td>\n",
              "      <td>408.0</td>\n",
              "      <td>81.0</td>\n",
              "      <td>14055.93</td>\n",
              "      <td>ultra</td>\n",
              "      <td>Краснодар</td>\n",
              "      <td>1950.0</td>\n",
              "    </tr>\n",
              "    <tr>\n",
              "      <td>4</td>\n",
              "      <td>1000</td>\n",
              "      <td>9.0</td>\n",
              "      <td>46.0</td>\n",
              "      <td>466.0</td>\n",
              "      <td>57.0</td>\n",
              "      <td>14568.91</td>\n",
              "      <td>ultra</td>\n",
              "      <td>Краснодар</td>\n",
              "      <td>1950.0</td>\n",
              "    </tr>\n",
              "    <tr>\n",
              "      <td>...</td>\n",
              "      <td>...</td>\n",
              "      <td>...</td>\n",
              "      <td>...</td>\n",
              "      <td>...</td>\n",
              "      <td>...</td>\n",
              "      <td>...</td>\n",
              "      <td>...</td>\n",
              "      <td>...</td>\n",
              "      <td>...</td>\n",
              "    </tr>\n",
              "    <tr>\n",
              "      <td>3207</td>\n",
              "      <td>1498</td>\n",
              "      <td>10.0</td>\n",
              "      <td>30.0</td>\n",
              "      <td>247.0</td>\n",
              "      <td>42.0</td>\n",
              "      <td>20579.36</td>\n",
              "      <td>smart</td>\n",
              "      <td>Владикавказ</td>\n",
              "      <td>1750.0</td>\n",
              "    </tr>\n",
              "    <tr>\n",
              "      <td>3208</td>\n",
              "      <td>1499</td>\n",
              "      <td>9.0</td>\n",
              "      <td>8.0</td>\n",
              "      <td>70.0</td>\n",
              "      <td>11.0</td>\n",
              "      <td>1845.75</td>\n",
              "      <td>smart</td>\n",
              "      <td>Пермь</td>\n",
              "      <td>550.0</td>\n",
              "    </tr>\n",
              "    <tr>\n",
              "      <td>3209</td>\n",
              "      <td>1499</td>\n",
              "      <td>10.0</td>\n",
              "      <td>44.0</td>\n",
              "      <td>449.0</td>\n",
              "      <td>48.0</td>\n",
              "      <td>17788.51</td>\n",
              "      <td>smart</td>\n",
              "      <td>Пермь</td>\n",
              "      <td>1150.0</td>\n",
              "    </tr>\n",
              "    <tr>\n",
              "      <td>3210</td>\n",
              "      <td>1499</td>\n",
              "      <td>11.0</td>\n",
              "      <td>62.0</td>\n",
              "      <td>612.0</td>\n",
              "      <td>59.0</td>\n",
              "      <td>17963.31</td>\n",
              "      <td>smart</td>\n",
              "      <td>Пермь</td>\n",
              "      <td>1513.0</td>\n",
              "    </tr>\n",
              "    <tr>\n",
              "      <td>3211</td>\n",
              "      <td>1499</td>\n",
              "      <td>12.0</td>\n",
              "      <td>56.0</td>\n",
              "      <td>492.0</td>\n",
              "      <td>66.0</td>\n",
              "      <td>13055.58</td>\n",
              "      <td>smart</td>\n",
              "      <td>Пермь</td>\n",
              "      <td>598.0</td>\n",
              "    </tr>\n",
              "  </tbody>\n",
              "</table>\n",
              "<p>3212 rows × 9 columns</p>\n",
              "</div>"
            ],
            "text/plain": [
              "      user_id  month  count_calls  calls_total_duration  count_messages  \\\n",
              "0        1000    5.0         17.0                 159.0            22.0   \n",
              "1        1000    6.0         28.0                 172.0            60.0   \n",
              "2        1000    7.0         41.0                 340.0            75.0   \n",
              "3        1000    8.0         42.0                 408.0            81.0   \n",
              "4        1000    9.0         46.0                 466.0            57.0   \n",
              "...       ...    ...          ...                   ...             ...   \n",
              "3207     1498   10.0         30.0                 247.0            42.0   \n",
              "3208     1499    9.0          8.0                  70.0            11.0   \n",
              "3209     1499   10.0         44.0                 449.0            48.0   \n",
              "3210     1499   11.0         62.0                 612.0            59.0   \n",
              "3211     1499   12.0         56.0                 492.0            66.0   \n",
              "\n",
              "      total_mb_used tariff         city  income  \n",
              "0           2253.49  ultra    Краснодар  1950.0  \n",
              "1          23233.77  ultra    Краснодар  1950.0  \n",
              "2          14003.64  ultra    Краснодар  1950.0  \n",
              "3          14055.93  ultra    Краснодар  1950.0  \n",
              "4          14568.91  ultra    Краснодар  1950.0  \n",
              "...             ...    ...          ...     ...  \n",
              "3207       20579.36  smart  Владикавказ  1750.0  \n",
              "3208        1845.75  smart        Пермь   550.0  \n",
              "3209       17788.51  smart        Пермь  1150.0  \n",
              "3210       17963.31  smart        Пермь  1513.0  \n",
              "3211       13055.58  smart        Пермь   598.0  \n",
              "\n",
              "[3212 rows x 9 columns]"
            ]
          },
          "execution_count": 22,
          "metadata": {},
          "output_type": "execute_result"
        }
      ],
      "source": [
        "statistic_frame['income'] = statistic_frame.apply(get_income, axis = 1)\n",
        "statistic_frame"
      ]
    },
    {
      "cell_type": "markdown",
      "metadata": {
        "id": "2Wv8TxKFCTYy"
      },
      "source": [
        "Добавли столбец с доходом копании с конкретного абонента"
      ]
    },
    {
      "cell_type": "markdown",
      "metadata": {
        "id": "knXu0YKTCTYy"
      },
      "source": [
        "### Вывод\n",
        "\n",
        "Убрали пропуски и изменили тип данных.\n",
        "Подготовили дополнительные столбцы для анализа.\n",
        "\n",
        "Нулевые значения в полях: длительность звонка или объем интернет сессии не повлияют на наше исследование. Так как данные значения влияют только на количество звонков, которые мы не исследуем, то дополнительно исключать их из выборки или изменять их значение не имеет смысла"
      ]
    },
    {
      "cell_type": "markdown",
      "metadata": {
        "id": "_uI7KfwYCTYy"
      },
      "source": [
        "## Проанализируйте данные"
      ]
    },
    {
      "cell_type": "code",
      "execution_count": null,
      "metadata": {
        "id": "AXzkhbNbCTYy",
        "outputId": "d5825add-ee4b-4f61-dc47-683e148f905b"
      },
      "outputs": [
        {
          "data": {
            "text/html": [
              "<div>\n",
              "<style scoped>\n",
              "    .dataframe tbody tr th:only-of-type {\n",
              "        vertical-align: middle;\n",
              "    }\n",
              "\n",
              "    .dataframe tbody tr th {\n",
              "        vertical-align: top;\n",
              "    }\n",
              "\n",
              "    .dataframe thead tr th {\n",
              "        text-align: left;\n",
              "    }\n",
              "\n",
              "    .dataframe thead tr:last-of-type th {\n",
              "        text-align: right;\n",
              "    }\n",
              "</style>\n",
              "<table border=\"1\" class=\"dataframe\">\n",
              "  <thead>\n",
              "    <tr>\n",
              "      <th></th>\n",
              "      <th colspan=\"4\" halign=\"left\">median</th>\n",
              "      <th colspan=\"4\" halign=\"left\">mean</th>\n",
              "      <th colspan=\"4\" halign=\"left\">var</th>\n",
              "      <th colspan=\"4\" halign=\"left\">std</th>\n",
              "    </tr>\n",
              "    <tr>\n",
              "      <th></th>\n",
              "      <th>calls_total_duration</th>\n",
              "      <th>count_messages</th>\n",
              "      <th>income</th>\n",
              "      <th>total_mb_used</th>\n",
              "      <th>calls_total_duration</th>\n",
              "      <th>count_messages</th>\n",
              "      <th>income</th>\n",
              "      <th>total_mb_used</th>\n",
              "      <th>calls_total_duration</th>\n",
              "      <th>count_messages</th>\n",
              "      <th>income</th>\n",
              "      <th>total_mb_used</th>\n",
              "      <th>calls_total_duration</th>\n",
              "      <th>count_messages</th>\n",
              "      <th>income</th>\n",
              "      <th>total_mb_used</th>\n",
              "    </tr>\n",
              "    <tr>\n",
              "      <th>tariff</th>\n",
              "      <th></th>\n",
              "      <th></th>\n",
              "      <th></th>\n",
              "      <th></th>\n",
              "      <th></th>\n",
              "      <th></th>\n",
              "      <th></th>\n",
              "      <th></th>\n",
              "      <th></th>\n",
              "      <th></th>\n",
              "      <th></th>\n",
              "      <th></th>\n",
              "      <th></th>\n",
              "      <th></th>\n",
              "      <th></th>\n",
              "      <th></th>\n",
              "    </tr>\n",
              "  </thead>\n",
              "  <tbody>\n",
              "    <tr>\n",
              "      <td>smart</td>\n",
              "      <td>422.0</td>\n",
              "      <td>28.0</td>\n",
              "      <td>1023.0</td>\n",
              "      <td>16506.84</td>\n",
              "      <td>417.934948</td>\n",
              "      <td>33.384029</td>\n",
              "      <td>1289.973531</td>\n",
              "      <td>16208.386990</td>\n",
              "      <td>36219.315784</td>\n",
              "      <td>796.812958</td>\n",
              "      <td>669785.708006</td>\n",
              "      <td>3.446250e+07</td>\n",
              "      <td>190.313730</td>\n",
              "      <td>28.227876</td>\n",
              "      <td>818.404367</td>\n",
              "      <td>5870.476681</td>\n",
              "    </tr>\n",
              "    <tr>\n",
              "      <td>ultra</td>\n",
              "      <td>519.0</td>\n",
              "      <td>38.0</td>\n",
              "      <td>1950.0</td>\n",
              "      <td>19315.85</td>\n",
              "      <td>527.694812</td>\n",
              "      <td>49.463886</td>\n",
              "      <td>2070.396745</td>\n",
              "      <td>19506.900142</td>\n",
              "      <td>100513.098211</td>\n",
              "      <td>2284.947523</td>\n",
              "      <td>141775.504348</td>\n",
              "      <td>1.012427e+08</td>\n",
              "      <td>317.038008</td>\n",
              "      <td>47.801125</td>\n",
              "      <td>376.530881</td>\n",
              "      <td>10061.942990</td>\n",
              "    </tr>\n",
              "  </tbody>\n",
              "</table>\n",
              "</div>"
            ],
            "text/plain": [
              "                     median                                       \\\n",
              "       calls_total_duration count_messages  income total_mb_used   \n",
              "tariff                                                             \n",
              "smart                 422.0           28.0  1023.0      16506.84   \n",
              "ultra                 519.0           38.0  1950.0      19315.85   \n",
              "\n",
              "                       mean                                            \\\n",
              "       calls_total_duration count_messages       income total_mb_used   \n",
              "tariff                                                                  \n",
              "smart            417.934948      33.384029  1289.973531  16208.386990   \n",
              "ultra            527.694812      49.463886  2070.396745  19506.900142   \n",
              "\n",
              "                        var                                              \\\n",
              "       calls_total_duration count_messages         income total_mb_used   \n",
              "tariff                                                                    \n",
              "smart          36219.315784     796.812958  669785.708006  3.446250e+07   \n",
              "ultra         100513.098211    2284.947523  141775.504348  1.012427e+08   \n",
              "\n",
              "                        std                                           \n",
              "       calls_total_duration count_messages      income total_mb_used  \n",
              "tariff                                                                \n",
              "smart            190.313730      28.227876  818.404367   5870.476681  \n",
              "ultra            317.038008      47.801125  376.530881  10061.942990  "
            ]
          },
          "execution_count": 23,
          "metadata": {},
          "output_type": "execute_result"
        }
      ],
      "source": [
        "statistic_frame.pivot_table(index = 'tariff', values = ['calls_total_duration',\n",
        "                                                        'count_messages',\n",
        "                                                        'total_mb_used','income'], aggfunc = [\"median\",\n",
        "                                                                                     \"mean\",\n",
        "                                                                                     'var',\n",
        "                                                                                     'std'])"
      ]
    },
    {
      "cell_type": "markdown",
      "metadata": {
        "id": "JvLXxNGICTYz"
      },
      "source": [
        "Вывод сводной таблицы по тарифам."
      ]
    },
    {
      "cell_type": "code",
      "execution_count": null,
      "metadata": {
        "id": "m5c5jqhKCTYz",
        "outputId": "fcffd26c-8c0a-48ae-8732-1e2716cacfd0"
      },
      "outputs": [
        {
          "data": {
            "image/png": "[encoded data removed]",
            "text/plain": [
              "<Figure size 720x360 with 1 Axes>"
            ]
          },
          "metadata": {
            "needs_background": "light"
          },
          "output_type": "display_data"
        },
        {
          "data": {
            "image/png": "[encoded data removed]",
            "text/plain": [
              "<Figure size 720x360 with 1 Axes>"
            ]
          },
          "metadata": {
            "needs_background": "light"
          },
          "output_type": "display_data"
        },
        {
          "data": {
            "image/png": "[encoded data removed]",
            "text/plain": [
              "<Figure size 720x360 with 1 Axes>"
            ]
          },
          "metadata": {
            "needs_background": "light"
          },
          "output_type": "display_data"
        },
        {
          "data": {
            "image/png": "[encoded data removed]",
            "text/plain": [
              "<Figure size 720x360 with 1 Axes>"
            ]
          },
          "metadata": {
            "needs_background": "light"
          },
          "output_type": "display_data"
        }
      ],
      "source": [
        "list_of_columns=['calls_total_duration','count_messages','total_mb_used','income']\n",
        "tariffs = ['ultra','smart']\n",
        "for column in list_of_columns:\n",
        "        statistic_frame.loc[statistic_frame.loc[:,'tariff'] == 'smart'][column].plot(\n",
        "                                                                            kind = 'hist',\n",
        "                                                                            bins = 30,\n",
        "                                                                            label = 'smart', figsize = (10,5)\n",
        "                                                                           )\n",
        "        statistic_frame.loc[statistic_frame.loc[:,'tariff'] == \"ultra\"][column].plot(\n",
        "                                                                            kind = 'hist',\n",
        "                                                                            bins = 30,\n",
        "                                                                            alpha =0.7,\n",
        "                                                                            label = 'ultra',figsize = (10,5)\n",
        "                                                                           )\n",
        "        plt.title(column)\n",
        "        plt.legend()\n",
        "        plt.show()"
      ]
    },
    {
      "cell_type": "markdown",
      "metadata": {
        "id": "O2xjsc1aCTYz"
      },
      "source": [
        "Вывод графиков для анализа"
      ]
    },
    {
      "cell_type": "markdown",
      "metadata": {
        "id": "ySFQpL4CCTYz"
      },
      "source": [
        "### Вывод\n",
        "На гистограммах можно заметить, что у тарифа ultra гистограммы скошены вправо, а в тарифе smart гистограммы скошены влево. Это так же подтверждают данные медианы и среднего, приведенные в сводной таблице. Кроме этого можно заметить, что пользователи тарифа ultra не тратят весь базовый пакет минут и количества смс, в отличие от тарифа smart"
      ]
    },
    {
      "cell_type": "markdown",
      "metadata": {
        "id": "0rnYMj4nCTY0"
      },
      "source": [
        "## Проверьте гипотезы"
      ]
    },
    {
      "cell_type": "markdown",
      "metadata": {
        "id": "6WF0aMv7CTY0"
      },
      "source": [
        "### средняя выручка пользователей тарифов «Ультра» и «Смарт» различаются"
      ]
    },
    {
      "cell_type": "code",
      "execution_count": null,
      "metadata": {
        "id": "FcprtbinCTY0",
        "outputId": "b576679a-7fd8-4a9d-c4af-54838d12b88f"
      },
      "outputs": [
        {
          "name": "stdout",
          "output_type": "stream",
          "text": [
            "p-значение:2.2931300479841166e-160\n",
            "Отвергаем нулевую гипотезу\n"
          ]
        }
      ],
      "source": [
        "alpha = 0.05\n",
        "income_ultra = statistic_frame.loc[statistic_frame.loc[:,'tariff'] == 'ultra']['income']\n",
        "income_smart = statistic_frame.loc[statistic_frame.loc[:,'tariff'] == 'smart']['income']\n",
        "result = st.ttest_ind(income_smart,income_ultra) \n",
        "prob = result.pvalue\n",
        "print(\"p-значение:{}\".format(prob))\n",
        "if prob < alpha:\n",
        "    print(\"Отвергаем нулевую гипотезу\")\n",
        "else:\n",
        "    print(\"Не получилось нулевую гипотезу\")"
      ]
    },
    {
      "cell_type": "markdown",
      "metadata": {
        "id": "vy4aQR1oCTY0"
      },
      "source": [
        "Нулевая гипотеза: средняя выручка пользователей тарифов «Ультра» и «Смарт» равны\n",
        "\n",
        "Альтернативная гипотеза : средняя выручка пользователей тарифов «Ультра» и «Смарт» различается"
      ]
    },
    {
      "cell_type": "markdown",
      "metadata": {
        "id": "DQO80ZK1CTY0"
      },
      "source": [
        "#### Вывод\n",
        "\n",
        "проверка показала, что мы отвергаем гипотезу о том, что среднее значение дохода абонентов 2 тарифов равны, следовательно подтверждаем гипотезу средняя выручка пользователей тарифов «Ультра» и «Смарт» различаются"
      ]
    },
    {
      "cell_type": "markdown",
      "metadata": {
        "id": "ZDrudTKJCTY1"
      },
      "source": [
        "### средняя выручка пользователей из Москвы отличается от выручки пользователей из других регионов."
      ]
    },
    {
      "cell_type": "code",
      "execution_count": null,
      "metadata": {
        "id": "bchwvWwWCTY1",
        "outputId": "a1b6c792-3e59-4f29-d1c3-0053b71b05bc"
      },
      "outputs": [
        {
          "name": "stdout",
          "output_type": "stream",
          "text": [
            "p-значение:0.5357205599549668\n",
            "Не получилось отвергнуть нулевую гипотезу\n"
          ]
        }
      ],
      "source": [
        "city_moscow = statistic_frame.loc[statistic_frame.loc[:,'city'] == 'Москва']['income']\n",
        "city_other = statistic_frame.loc[statistic_frame.loc[:,'city'] != 'Москва']['income']\n",
        "result_city = st.ttest_ind(city_moscow,city_other,equal_var=False) \n",
        "prob_city = result_city.pvalue\n",
        "print(\"p-значение:{}\".format(prob_city))\n",
        "if prob_city < alpha:\n",
        "    print(\"Отвергаем нулевую гипотезу\")\n",
        "else:\n",
        "    print(\"Не получилось отвергнуть нулевую гипотезу\")"
      ]
    },
    {
      "cell_type": "markdown",
      "metadata": {
        "id": "NojLHyi_CTY1"
      },
      "source": [
        "Нулевая гипотеза: Средняя выручка пользователей из Москвы равна выручке пользователей из других регионов\n",
        "\n",
        "Альтернативная гипотеза: Средняя выручка пользователей из Москвы отличается от выручки пользователей из других регионов"
      ]
    },
    {
      "cell_type": "code",
      "execution_count": null,
      "metadata": {
        "id": "jWlL0pFQCTY1",
        "outputId": "4baa6d50-52f8-43fa-8191-098645bb003f"
      },
      "outputs": [
        {
          "name": "stdout",
          "output_type": "stream",
          "text": [
            "Дисперсия первой совокупности: 565369.4070841172\n",
            "Дисперсия второй совокупности: 654068.1632453543\n"
          ]
        }
      ],
      "source": [
        "print('Дисперсия первой совокупности:',np.var(city_moscow))\n",
        "print('Дисперсия второй совокупности:',np.var(city_other))"
      ]
    },
    {
      "cell_type": "markdown",
      "metadata": {
        "id": "FU6KhlhUCTY1"
      },
      "source": [
        "дисперсия выборок"
      ]
    },
    {
      "cell_type": "markdown",
      "metadata": {
        "id": "1xfuECHwCTY1"
      },
      "source": [
        "#### Вывод\n",
        "\n",
        "Вероятность нулевой гипотезы очень велика, поэтому мы не можем ее отбростить и сказать, что вырочка абонентов из Москвы достаточно сильно откличается от пользователей других городов"
      ]
    },
    {
      "cell_type": "markdown",
      "metadata": {
        "id": "NLvZHQijCTY2"
      },
      "source": [
        "## Вывод"
      ]
    },
    {
      "cell_type": "markdown",
      "metadata": {
        "id": "yvOJJIgGCTY2"
      },
      "source": [
        "Из описание проекта, нам нужно проанализировать поведение клиентов и сделать вывод — какой тариф лучше.\n",
        "\n",
        "Тариф ultra лучше, несмотря на то, что его абоненты не покупают дополнительные минуты и смс, в отличие от абонентов тарифа smart. Так же можно заметить, что медианное и среднее значение дохода у абонентов тарифа ultra выше.\n",
        "\n",
        "При проверках двух гипотез. Опровергнули гипотезы о том, что средняя выручка пользователей разных тарифов равна и с большой вероятностью средняя выручка пользователей из Москвы равна выручке пользователей из других регионов.\n",
        "\n",
        "В процессе анализа выяснилось, что в среднем разница медианных и среднеарифметических значений дохода с разных тарифов отличается ~1000 в пользу тарифа ultra."
      ]
    }
  ],
  "metadata": {
    "ExecuteTimeLog": [
      {
        "duration": 4,
        "start_time": "2021-12-13T18:11:19.387Z"
      },
      {
        "duration": 40,
        "start_time": "2021-12-13T18:11:21.967Z"
      },
      {
        "duration": 14,
        "start_time": "2021-12-13T18:15:59.834Z"
      },
      {
        "duration": 155,
        "start_time": "2021-12-13T18:48:13.592Z"
      },
      {
        "duration": 14,
        "start_time": "2021-12-13T18:48:50.345Z"
      },
      {
        "duration": 128,
        "start_time": "2021-12-13T18:51:17.345Z"
      },
      {
        "duration": 7,
        "start_time": "2021-12-13T18:51:41.515Z"
      },
      {
        "duration": 144,
        "start_time": "2021-12-13T18:52:57.600Z"
      },
      {
        "duration": 9,
        "start_time": "2021-12-13T18:53:18.529Z"
      },
      {
        "duration": 10,
        "start_time": "2021-12-13T18:53:23.427Z"
      },
      {
        "duration": 11,
        "start_time": "2021-12-13T18:53:32.396Z"
      },
      {
        "duration": 19,
        "start_time": "2021-12-13T18:55:35.238Z"
      },
      {
        "duration": 1122,
        "start_time": "2021-12-13T18:56:29.991Z"
      },
      {
        "duration": 19,
        "start_time": "2021-12-13T18:56:35.444Z"
      },
      {
        "duration": 987,
        "start_time": "2021-12-13T18:56:39.599Z"
      },
      {
        "duration": 20,
        "start_time": "2021-12-13T19:07:27.397Z"
      },
      {
        "duration": 1025,
        "start_time": "2021-12-13T19:07:31.326Z"
      },
      {
        "duration": 8,
        "start_time": "2021-12-13T19:08:33.864Z"
      },
      {
        "duration": 8,
        "start_time": "2021-12-13T19:08:52.552Z"
      },
      {
        "duration": 7,
        "start_time": "2021-12-13T19:09:37.487Z"
      },
      {
        "duration": 253,
        "start_time": "2021-12-13T19:42:59.517Z"
      },
      {
        "duration": 116,
        "start_time": "2021-12-13T19:43:45.821Z"
      },
      {
        "duration": 295,
        "start_time": "2021-12-14T18:55:20.784Z"
      },
      {
        "duration": 76,
        "start_time": "2021-12-14T18:56:26.069Z"
      },
      {
        "duration": 48,
        "start_time": "2021-12-14T19:07:16.046Z"
      },
      {
        "duration": 63483,
        "start_time": "2021-12-14T19:09:14.138Z"
      },
      {
        "duration": 4,
        "start_time": "2021-12-14T19:10:17.623Z"
      },
      {
        "duration": 5,
        "start_time": "2021-12-14T19:10:35.085Z"
      },
      {
        "duration": 238,
        "start_time": "2021-12-14T19:11:35.831Z"
      },
      {
        "duration": 21,
        "start_time": "2021-12-14T19:11:56.420Z"
      },
      {
        "duration": 6,
        "start_time": "2021-12-14T19:14:28.781Z"
      },
      {
        "duration": 136,
        "start_time": "2021-12-14T19:14:57.892Z"
      },
      {
        "duration": 17,
        "start_time": "2021-12-14T19:15:08.655Z"
      },
      {
        "duration": 51,
        "start_time": "2021-12-14T19:19:04.606Z"
      },
      {
        "duration": 1335,
        "start_time": "2021-12-14T19:20:26.034Z"
      },
      {
        "duration": 8,
        "start_time": "2021-12-14T19:39:25.329Z"
      },
      {
        "duration": 9,
        "start_time": "2021-12-14T19:41:24.112Z"
      },
      {
        "duration": 4,
        "start_time": "2021-12-14T19:41:52.417Z"
      },
      {
        "duration": 1075,
        "start_time": "2021-12-14T19:49:57.356Z"
      },
      {
        "duration": 37,
        "start_time": "2021-12-14T19:49:58.432Z"
      },
      {
        "duration": 9,
        "start_time": "2021-12-14T19:49:58.471Z"
      },
      {
        "duration": 153,
        "start_time": "2021-12-14T19:49:58.482Z"
      },
      {
        "duration": 11,
        "start_time": "2021-12-14T19:49:58.637Z"
      },
      {
        "duration": 96,
        "start_time": "2021-12-14T19:49:58.649Z"
      },
      {
        "duration": 9,
        "start_time": "2021-12-14T19:49:58.747Z"
      },
      {
        "duration": 139,
        "start_time": "2021-12-14T19:49:58.758Z"
      },
      {
        "duration": 11,
        "start_time": "2021-12-14T19:49:58.899Z"
      },
      {
        "duration": 19,
        "start_time": "2021-12-14T19:49:58.911Z"
      },
      {
        "duration": 10,
        "start_time": "2021-12-14T19:49:58.932Z"
      },
      {
        "duration": 137,
        "start_time": "2021-12-14T19:49:58.944Z"
      },
      {
        "duration": 60,
        "start_time": "2021-12-14T19:49:59.083Z"
      },
      {
        "duration": 58,
        "start_time": "2021-12-14T19:49:59.145Z"
      },
      {
        "duration": 1134,
        "start_time": "2021-12-14T19:50:42.370Z"
      },
      {
        "duration": 37,
        "start_time": "2021-12-14T19:50:43.506Z"
      },
      {
        "duration": 11,
        "start_time": "2021-12-14T19:50:43.548Z"
      },
      {
        "duration": 150,
        "start_time": "2021-12-14T19:50:43.561Z"
      },
      {
        "duration": 11,
        "start_time": "2021-12-14T19:50:43.713Z"
      },
      {
        "duration": 113,
        "start_time": "2021-12-14T19:50:43.726Z"
      },
      {
        "duration": 9,
        "start_time": "2021-12-14T19:50:43.841Z"
      },
      {
        "duration": 138,
        "start_time": "2021-12-14T19:50:43.852Z"
      },
      {
        "duration": 10,
        "start_time": "2021-12-14T19:50:43.992Z"
      },
      {
        "duration": 21,
        "start_time": "2021-12-14T19:50:44.004Z"
      },
      {
        "duration": 10,
        "start_time": "2021-12-14T19:50:44.027Z"
      },
      {
        "duration": 123,
        "start_time": "2021-12-14T19:50:44.039Z"
      },
      {
        "duration": 66,
        "start_time": "2021-12-14T19:50:44.164Z"
      },
      {
        "duration": 45,
        "start_time": "2021-12-14T19:50:44.232Z"
      },
      {
        "duration": 1334,
        "start_time": "2021-12-14T20:09:32.206Z"
      },
      {
        "duration": 40,
        "start_time": "2021-12-14T20:09:33.542Z"
      },
      {
        "duration": 12,
        "start_time": "2021-12-14T20:09:33.584Z"
      },
      {
        "duration": 236,
        "start_time": "2021-12-14T20:09:33.598Z"
      },
      {
        "duration": 21,
        "start_time": "2021-12-14T20:09:33.836Z"
      },
      {
        "duration": 138,
        "start_time": "2021-12-14T20:09:33.859Z"
      },
      {
        "duration": 14,
        "start_time": "2021-12-14T20:09:33.999Z"
      },
      {
        "duration": 162,
        "start_time": "2021-12-14T20:09:34.016Z"
      },
      {
        "duration": 13,
        "start_time": "2021-12-14T20:09:34.188Z"
      },
      {
        "duration": 32,
        "start_time": "2021-12-14T20:09:34.203Z"
      },
      {
        "duration": 11,
        "start_time": "2021-12-14T20:09:34.237Z"
      },
      {
        "duration": 124,
        "start_time": "2021-12-14T20:09:34.250Z"
      },
      {
        "duration": 68,
        "start_time": "2021-12-14T20:09:34.375Z"
      },
      {
        "duration": 64,
        "start_time": "2021-12-14T20:09:34.445Z"
      },
      {
        "duration": 3,
        "start_time": "2021-12-14T20:17:51.273Z"
      },
      {
        "duration": 35,
        "start_time": "2021-12-14T20:17:51.278Z"
      },
      {
        "duration": 9,
        "start_time": "2021-12-14T20:17:51.315Z"
      },
      {
        "duration": 156,
        "start_time": "2021-12-14T20:17:51.325Z"
      },
      {
        "duration": 11,
        "start_time": "2021-12-14T20:17:51.482Z"
      },
      {
        "duration": 94,
        "start_time": "2021-12-14T20:17:51.495Z"
      },
      {
        "duration": 9,
        "start_time": "2021-12-14T20:17:51.591Z"
      },
      {
        "duration": 142,
        "start_time": "2021-12-14T20:17:51.603Z"
      },
      {
        "duration": 10,
        "start_time": "2021-12-14T20:17:51.748Z"
      },
      {
        "duration": 20,
        "start_time": "2021-12-14T20:17:51.760Z"
      },
      {
        "duration": 11,
        "start_time": "2021-12-14T20:17:51.781Z"
      },
      {
        "duration": 124,
        "start_time": "2021-12-14T20:17:51.794Z"
      },
      {
        "duration": 67,
        "start_time": "2021-12-14T20:17:51.920Z"
      },
      {
        "duration": 49,
        "start_time": "2021-12-14T20:17:51.989Z"
      },
      {
        "duration": 54852,
        "start_time": "2021-12-14T20:17:52.040Z"
      },
      {
        "duration": 23,
        "start_time": "2021-12-14T20:18:46.895Z"
      },
      {
        "duration": 5,
        "start_time": "2021-12-14T20:18:46.919Z"
      },
      {
        "duration": 153,
        "start_time": "2021-12-14T20:18:46.925Z"
      },
      {
        "duration": 45,
        "start_time": "2021-12-14T20:18:47.080Z"
      },
      {
        "duration": 1243,
        "start_time": "2021-12-14T20:18:47.127Z"
      },
      {
        "duration": 18,
        "start_time": "2021-12-14T20:18:48.372Z"
      },
      {
        "duration": 10,
        "start_time": "2021-12-14T20:18:48.392Z"
      },
      {
        "duration": 4,
        "start_time": "2021-12-14T20:18:48.404Z"
      },
      {
        "duration": 3,
        "start_time": "2021-12-14T20:19:02.786Z"
      },
      {
        "duration": 33,
        "start_time": "2021-12-14T20:19:04.894Z"
      },
      {
        "duration": 2,
        "start_time": "2021-12-14T20:19:44.733Z"
      },
      {
        "duration": 996,
        "start_time": "2021-12-14T20:19:52.026Z"
      },
      {
        "duration": 37,
        "start_time": "2021-12-14T20:19:53.024Z"
      },
      {
        "duration": 10,
        "start_time": "2021-12-14T20:19:53.063Z"
      },
      {
        "duration": 167,
        "start_time": "2021-12-14T20:19:53.074Z"
      },
      {
        "duration": 11,
        "start_time": "2021-12-14T20:19:53.243Z"
      },
      {
        "duration": 110,
        "start_time": "2021-12-14T20:19:53.255Z"
      },
      {
        "duration": 9,
        "start_time": "2021-12-14T20:19:53.367Z"
      },
      {
        "duration": 135,
        "start_time": "2021-12-14T20:19:53.378Z"
      },
      {
        "duration": 11,
        "start_time": "2021-12-14T20:19:53.515Z"
      },
      {
        "duration": 20,
        "start_time": "2021-12-14T20:19:53.527Z"
      },
      {
        "duration": 9,
        "start_time": "2021-12-14T20:19:53.549Z"
      },
      {
        "duration": 132,
        "start_time": "2021-12-14T20:19:53.560Z"
      },
      {
        "duration": 60,
        "start_time": "2021-12-14T20:19:53.694Z"
      },
      {
        "duration": 69,
        "start_time": "2021-12-14T20:19:53.756Z"
      },
      {
        "duration": 56818,
        "start_time": "2021-12-14T20:19:53.827Z"
      },
      {
        "duration": 20,
        "start_time": "2021-12-14T20:20:50.647Z"
      },
      {
        "duration": 5,
        "start_time": "2021-12-14T20:20:50.669Z"
      },
      {
        "duration": 141,
        "start_time": "2021-12-14T20:20:50.675Z"
      },
      {
        "duration": 36,
        "start_time": "2021-12-14T20:20:50.817Z"
      },
      {
        "duration": 1227,
        "start_time": "2021-12-14T20:20:50.854Z"
      },
      {
        "duration": 13,
        "start_time": "2021-12-14T20:20:52.082Z"
      },
      {
        "duration": 11,
        "start_time": "2021-12-14T20:20:52.096Z"
      },
      {
        "duration": 4,
        "start_time": "2021-12-14T20:20:52.110Z"
      },
      {
        "duration": 1012,
        "start_time": "2021-12-14T20:21:21.910Z"
      },
      {
        "duration": 37,
        "start_time": "2021-12-14T20:21:22.924Z"
      },
      {
        "duration": 9,
        "start_time": "2021-12-14T20:21:22.965Z"
      },
      {
        "duration": 151,
        "start_time": "2021-12-14T20:21:22.976Z"
      },
      {
        "duration": 10,
        "start_time": "2021-12-14T20:21:23.129Z"
      },
      {
        "duration": 98,
        "start_time": "2021-12-14T20:21:23.141Z"
      },
      {
        "duration": 9,
        "start_time": "2021-12-14T20:21:23.242Z"
      },
      {
        "duration": 138,
        "start_time": "2021-12-14T20:21:23.252Z"
      },
      {
        "duration": 10,
        "start_time": "2021-12-14T20:21:23.392Z"
      },
      {
        "duration": 20,
        "start_time": "2021-12-14T20:21:23.403Z"
      },
      {
        "duration": 8,
        "start_time": "2021-12-14T20:21:23.424Z"
      },
      {
        "duration": 131,
        "start_time": "2021-12-14T20:21:23.433Z"
      },
      {
        "duration": 96,
        "start_time": "2021-12-14T20:21:23.566Z"
      },
      {
        "duration": 70,
        "start_time": "2021-12-14T20:21:23.664Z"
      },
      {
        "duration": 55329,
        "start_time": "2021-12-14T20:21:23.737Z"
      },
      {
        "duration": 25,
        "start_time": "2021-12-14T20:22:19.067Z"
      },
      {
        "duration": 5,
        "start_time": "2021-12-14T20:22:19.094Z"
      },
      {
        "duration": 152,
        "start_time": "2021-12-14T20:22:19.100Z"
      },
      {
        "duration": 43,
        "start_time": "2021-12-14T20:22:19.253Z"
      },
      {
        "duration": 1219,
        "start_time": "2021-12-14T20:22:19.297Z"
      },
      {
        "duration": 8,
        "start_time": "2021-12-14T20:22:20.518Z"
      },
      {
        "duration": 7,
        "start_time": "2021-12-14T20:22:20.528Z"
      },
      {
        "duration": 7,
        "start_time": "2021-12-14T20:22:20.537Z"
      },
      {
        "duration": 397,
        "start_time": "2021-12-15T13:17:08.135Z"
      },
      {
        "duration": 1482,
        "start_time": "2021-12-15T13:19:05.406Z"
      },
      {
        "duration": 42,
        "start_time": "2021-12-15T13:19:06.891Z"
      },
      {
        "duration": 20,
        "start_time": "2021-12-15T13:19:06.937Z"
      },
      {
        "duration": 244,
        "start_time": "2021-12-15T13:19:06.960Z"
      },
      {
        "duration": 25,
        "start_time": "2021-12-15T13:19:07.206Z"
      },
      {
        "duration": 141,
        "start_time": "2021-12-15T13:19:07.233Z"
      },
      {
        "duration": 14,
        "start_time": "2021-12-15T13:19:07.377Z"
      },
      {
        "duration": 211,
        "start_time": "2021-12-15T13:19:07.394Z"
      },
      {
        "duration": 20,
        "start_time": "2021-12-15T13:19:07.608Z"
      },
      {
        "duration": 27,
        "start_time": "2021-12-15T13:19:07.630Z"
      },
      {
        "duration": 24,
        "start_time": "2021-12-15T13:19:07.659Z"
      },
      {
        "duration": 253,
        "start_time": "2021-12-15T13:19:07.686Z"
      },
      {
        "duration": 102,
        "start_time": "2021-12-15T13:19:07.941Z"
      },
      {
        "duration": 80,
        "start_time": "2021-12-15T13:19:08.046Z"
      },
      {
        "duration": 93122,
        "start_time": "2021-12-15T13:19:08.128Z"
      },
      {
        "duration": 35,
        "start_time": "2021-12-15T13:20:41.252Z"
      },
      {
        "duration": 27,
        "start_time": "2021-12-15T13:20:41.290Z"
      },
      {
        "duration": 259,
        "start_time": "2021-12-15T13:20:41.320Z"
      },
      {
        "duration": 70,
        "start_time": "2021-12-15T13:20:41.582Z"
      },
      {
        "duration": 2209,
        "start_time": "2021-12-15T13:20:41.655Z"
      },
      {
        "duration": 11,
        "start_time": "2021-12-15T13:20:43.867Z"
      },
      {
        "duration": 35,
        "start_time": "2021-12-15T13:20:43.881Z"
      },
      {
        "duration": 6,
        "start_time": "2021-12-15T13:20:43.920Z"
      },
      {
        "duration": 10,
        "start_time": "2021-12-15T13:21:29.966Z"
      },
      {
        "duration": 1529,
        "start_time": "2021-12-16T13:08:24.747Z"
      },
      {
        "duration": 58,
        "start_time": "2021-12-16T13:08:26.279Z"
      },
      {
        "duration": 16,
        "start_time": "2021-12-16T13:08:26.344Z"
      },
      {
        "duration": 229,
        "start_time": "2021-12-16T13:08:26.362Z"
      },
      {
        "duration": 17,
        "start_time": "2021-12-16T13:08:26.593Z"
      },
      {
        "duration": 148,
        "start_time": "2021-12-16T13:08:26.612Z"
      },
      {
        "duration": 14,
        "start_time": "2021-12-16T13:08:26.764Z"
      },
      {
        "duration": 204,
        "start_time": "2021-12-16T13:08:26.781Z"
      },
      {
        "duration": 17,
        "start_time": "2021-12-16T13:08:26.988Z"
      },
      {
        "duration": 25,
        "start_time": "2021-12-16T13:08:27.008Z"
      },
      {
        "duration": 30,
        "start_time": "2021-12-16T13:08:27.035Z"
      },
      {
        "duration": 240,
        "start_time": "2021-12-16T13:08:27.067Z"
      },
      {
        "duration": 108,
        "start_time": "2021-12-16T13:08:27.309Z"
      },
      {
        "duration": 79,
        "start_time": "2021-12-16T13:08:27.420Z"
      },
      {
        "duration": 3,
        "start_time": "2021-12-16T13:11:33.187Z"
      },
      {
        "duration": 55,
        "start_time": "2021-12-16T13:11:33.193Z"
      },
      {
        "duration": 19,
        "start_time": "2021-12-16T13:11:33.251Z"
      },
      {
        "duration": 1461,
        "start_time": "2021-12-16T13:11:44.475Z"
      },
      {
        "duration": 60,
        "start_time": "2021-12-16T13:11:45.939Z"
      },
      {
        "duration": 18,
        "start_time": "2021-12-16T13:11:46.006Z"
      },
      {
        "duration": 235,
        "start_time": "2021-12-16T13:11:46.026Z"
      },
      {
        "duration": 18,
        "start_time": "2021-12-16T13:11:46.263Z"
      },
      {
        "duration": 153,
        "start_time": "2021-12-16T13:11:46.284Z"
      },
      {
        "duration": 26,
        "start_time": "2021-12-16T13:11:46.441Z"
      },
      {
        "duration": 219,
        "start_time": "2021-12-16T13:11:46.471Z"
      },
      {
        "duration": 16,
        "start_time": "2021-12-16T13:11:46.692Z"
      },
      {
        "duration": 25,
        "start_time": "2021-12-16T13:11:46.711Z"
      },
      {
        "duration": 26,
        "start_time": "2021-12-16T13:11:46.739Z"
      },
      {
        "duration": 248,
        "start_time": "2021-12-16T13:11:46.767Z"
      },
      {
        "duration": 105,
        "start_time": "2021-12-16T13:11:47.018Z"
      },
      {
        "duration": 78,
        "start_time": "2021-12-16T13:11:47.126Z"
      },
      {
        "duration": 87045,
        "start_time": "2021-12-16T13:11:47.207Z"
      },
      {
        "duration": 33,
        "start_time": "2021-12-16T13:13:14.255Z"
      },
      {
        "duration": 8,
        "start_time": "2021-12-16T13:13:14.290Z"
      },
      {
        "duration": 256,
        "start_time": "2021-12-16T13:13:14.300Z"
      },
      {
        "duration": 60,
        "start_time": "2021-12-16T13:13:14.559Z"
      },
      {
        "duration": 2190,
        "start_time": "2021-12-16T13:13:14.621Z"
      },
      {
        "duration": 12,
        "start_time": "2021-12-16T13:13:16.814Z"
      },
      {
        "duration": 36,
        "start_time": "2021-12-16T13:13:16.830Z"
      },
      {
        "duration": 5,
        "start_time": "2021-12-16T13:13:16.869Z"
      },
      {
        "duration": 6,
        "start_time": "2021-12-16T13:15:21.876Z"
      },
      {
        "duration": 44,
        "start_time": "2021-12-16T13:15:26.217Z"
      },
      {
        "duration": 16,
        "start_time": "2021-12-16T13:15:29.162Z"
      },
      {
        "duration": 218,
        "start_time": "2021-12-16T13:15:32.004Z"
      },
      {
        "duration": 26,
        "start_time": "2021-12-16T13:15:34.902Z"
      },
      {
        "duration": 146,
        "start_time": "2021-12-16T13:15:37.239Z"
      },
      {
        "duration": 16,
        "start_time": "2021-12-16T13:15:39.123Z"
      },
      {
        "duration": 188,
        "start_time": "2021-12-16T13:15:42.418Z"
      },
      {
        "duration": 19,
        "start_time": "2021-12-16T13:15:45.800Z"
      },
      {
        "duration": 26,
        "start_time": "2021-12-16T13:15:48.717Z"
      },
      {
        "duration": 15,
        "start_time": "2021-12-16T13:15:51.115Z"
      },
      {
        "duration": 239,
        "start_time": "2021-12-16T13:15:53.974Z"
      },
      {
        "duration": 95,
        "start_time": "2021-12-16T13:15:56.597Z"
      },
      {
        "duration": 71,
        "start_time": "2021-12-16T13:15:59.049Z"
      },
      {
        "duration": 1448,
        "start_time": "2021-12-16T13:17:13.068Z"
      },
      {
        "duration": 48,
        "start_time": "2021-12-16T13:17:14.519Z"
      },
      {
        "duration": 19,
        "start_time": "2021-12-16T13:17:14.571Z"
      },
      {
        "duration": 232,
        "start_time": "2021-12-16T13:17:14.593Z"
      },
      {
        "duration": 16,
        "start_time": "2021-12-16T13:17:14.828Z"
      },
      {
        "duration": 136,
        "start_time": "2021-12-16T13:17:14.860Z"
      },
      {
        "duration": 14,
        "start_time": "2021-12-16T13:17:14.999Z"
      },
      {
        "duration": 212,
        "start_time": "2021-12-16T13:17:15.018Z"
      },
      {
        "duration": 30,
        "start_time": "2021-12-16T13:17:15.233Z"
      },
      {
        "duration": 25,
        "start_time": "2021-12-16T13:17:15.265Z"
      },
      {
        "duration": 13,
        "start_time": "2021-12-16T13:17:15.293Z"
      },
      {
        "duration": 250,
        "start_time": "2021-12-16T13:17:15.309Z"
      },
      {
        "duration": 97,
        "start_time": "2021-12-16T13:17:15.562Z"
      },
      {
        "duration": 71,
        "start_time": "2021-12-16T13:17:15.661Z"
      },
      {
        "duration": 86233,
        "start_time": "2021-12-16T13:17:15.734Z"
      },
      {
        "duration": 33,
        "start_time": "2021-12-16T13:18:41.970Z"
      },
      {
        "duration": 9,
        "start_time": "2021-12-16T13:18:42.005Z"
      },
      {
        "duration": 256,
        "start_time": "2021-12-16T13:18:42.016Z"
      },
      {
        "duration": 61,
        "start_time": "2021-12-16T13:18:42.274Z"
      },
      {
        "duration": 2140,
        "start_time": "2021-12-16T13:18:42.338Z"
      },
      {
        "duration": 14,
        "start_time": "2021-12-16T13:18:44.480Z"
      },
      {
        "duration": 17,
        "start_time": "2021-12-16T13:18:44.496Z"
      },
      {
        "duration": 6,
        "start_time": "2021-12-16T13:18:44.517Z"
      },
      {
        "duration": 1474,
        "start_time": "2021-12-16T14:08:45.007Z"
      },
      {
        "duration": 84,
        "start_time": "2021-12-16T14:08:49.548Z"
      },
      {
        "duration": 19,
        "start_time": "2021-12-16T14:08:51.948Z"
      },
      {
        "duration": 229,
        "start_time": "2021-12-16T14:08:54.021Z"
      },
      {
        "duration": 24,
        "start_time": "2021-12-16T14:08:56.203Z"
      },
      {
        "duration": 132,
        "start_time": "2021-12-16T14:08:58.127Z"
      },
      {
        "duration": 20,
        "start_time": "2021-12-16T14:09:00.168Z"
      },
      {
        "duration": 197,
        "start_time": "2021-12-16T14:09:02.386Z"
      },
      {
        "duration": 19,
        "start_time": "2021-12-16T14:09:04.415Z"
      },
      {
        "duration": 29,
        "start_time": "2021-12-16T14:09:07.251Z"
      },
      {
        "duration": 21,
        "start_time": "2021-12-16T14:09:08.984Z"
      },
      {
        "duration": 233,
        "start_time": "2021-12-16T14:09:51.497Z"
      },
      {
        "duration": 106,
        "start_time": "2021-12-16T14:11:21.619Z"
      },
      {
        "duration": 28,
        "start_time": "2021-12-16T14:13:24.577Z"
      },
      {
        "duration": 169,
        "start_time": "2021-12-16T14:16:24.648Z"
      },
      {
        "duration": 40,
        "start_time": "2021-12-16T14:17:01.234Z"
      },
      {
        "duration": 134,
        "start_time": "2021-12-16T14:17:37.646Z"
      },
      {
        "duration": 81,
        "start_time": "2021-12-16T14:17:52.331Z"
      },
      {
        "duration": 61,
        "start_time": "2021-12-16T14:17:55.365Z"
      },
      {
        "duration": 98479,
        "start_time": "2021-12-16T14:18:00.025Z"
      },
      {
        "duration": 38,
        "start_time": "2021-12-16T14:20:21.223Z"
      },
      {
        "duration": 9,
        "start_time": "2021-12-16T14:20:29.128Z"
      },
      {
        "duration": 3610,
        "start_time": "2021-12-16T14:20:29.140Z"
      },
      {
        "duration": 825,
        "start_time": "2021-12-16T14:20:31.928Z"
      },
      {
        "duration": 702,
        "start_time": "2021-12-16T14:20:32.879Z"
      },
      {
        "duration": 1836,
        "start_time": "2021-12-16T14:29:40.074Z"
      },
      {
        "duration": 48,
        "start_time": "2021-12-16T14:29:41.913Z"
      },
      {
        "duration": 17,
        "start_time": "2021-12-16T14:29:41.965Z"
      },
      {
        "duration": 233,
        "start_time": "2021-12-16T14:29:41.986Z"
      },
      {
        "duration": 17,
        "start_time": "2021-12-16T14:29:42.222Z"
      },
      {
        "duration": 136,
        "start_time": "2021-12-16T14:29:42.258Z"
      },
      {
        "duration": 14,
        "start_time": "2021-12-16T14:29:42.396Z"
      },
      {
        "duration": 207,
        "start_time": "2021-12-16T14:29:42.413Z"
      },
      {
        "duration": 16,
        "start_time": "2021-12-16T14:29:42.624Z"
      },
      {
        "duration": 25,
        "start_time": "2021-12-16T14:29:42.660Z"
      },
      {
        "duration": 13,
        "start_time": "2021-12-16T14:29:42.687Z"
      },
      {
        "duration": 261,
        "start_time": "2021-12-16T14:29:42.703Z"
      },
      {
        "duration": 28,
        "start_time": "2021-12-16T14:29:42.966Z"
      },
      {
        "duration": 25,
        "start_time": "2021-12-16T14:29:42.996Z"
      },
      {
        "duration": 125,
        "start_time": "2021-12-16T14:29:43.023Z"
      },
      {
        "duration": 79,
        "start_time": "2021-12-16T14:29:43.150Z"
      },
      {
        "duration": 91047,
        "start_time": "2021-12-16T14:29:43.232Z"
      },
      {
        "duration": 33,
        "start_time": "2021-12-16T14:31:14.281Z"
      },
      {
        "duration": 8,
        "start_time": "2021-12-16T14:31:14.316Z"
      },
      {
        "duration": 281,
        "start_time": "2021-12-16T14:31:14.326Z"
      },
      {
        "duration": 103,
        "start_time": "2021-12-16T14:31:14.615Z"
      },
      {
        "duration": 2721,
        "start_time": "2021-12-16T14:31:14.721Z"
      },
      {
        "duration": 14,
        "start_time": "2021-12-16T14:31:17.457Z"
      },
      {
        "duration": 21,
        "start_time": "2021-12-16T14:31:17.474Z"
      },
      {
        "duration": 8,
        "start_time": "2021-12-16T14:31:17.498Z"
      },
      {
        "duration": 1443,
        "start_time": "2021-12-16T14:37:51.183Z"
      },
      {
        "duration": 47,
        "start_time": "2021-12-16T14:37:52.629Z"
      },
      {
        "duration": 17,
        "start_time": "2021-12-16T14:37:52.679Z"
      },
      {
        "duration": 236,
        "start_time": "2021-12-16T14:37:52.699Z"
      },
      {
        "duration": 22,
        "start_time": "2021-12-16T14:37:52.938Z"
      },
      {
        "duration": 129,
        "start_time": "2021-12-16T14:37:52.963Z"
      },
      {
        "duration": 14,
        "start_time": "2021-12-16T14:37:53.095Z"
      },
      {
        "duration": 198,
        "start_time": "2021-12-16T14:37:53.112Z"
      },
      {
        "duration": 17,
        "start_time": "2021-12-16T14:37:53.313Z"
      },
      {
        "duration": 32,
        "start_time": "2021-12-16T14:37:53.333Z"
      },
      {
        "duration": 13,
        "start_time": "2021-12-16T14:37:53.368Z"
      },
      {
        "duration": 255,
        "start_time": "2021-12-16T14:37:53.384Z"
      },
      {
        "duration": 32,
        "start_time": "2021-12-16T14:37:53.642Z"
      },
      {
        "duration": 24,
        "start_time": "2021-12-16T14:38:01.148Z"
      },
      {
        "duration": 523,
        "start_time": "2021-12-16T14:38:04.723Z"
      },
      {
        "duration": 8,
        "start_time": "2021-12-16T14:38:21.357Z"
      },
      {
        "duration": 101,
        "start_time": "2021-12-16T14:38:28.695Z"
      },
      {
        "duration": 74,
        "start_time": "2021-12-16T14:38:32.681Z"
      },
      {
        "duration": 89413,
        "start_time": "2021-12-16T14:38:37.339Z"
      },
      {
        "duration": 34,
        "start_time": "2021-12-16T14:40:17.019Z"
      },
      {
        "duration": 10,
        "start_time": "2021-12-16T14:40:20.357Z"
      },
      {
        "duration": 225,
        "start_time": "2021-12-16T14:40:26.734Z"
      },
      {
        "duration": 51,
        "start_time": "2021-12-16T14:40:32.504Z"
      },
      {
        "duration": 2245,
        "start_time": "2021-12-16T14:40:35.483Z"
      },
      {
        "duration": 1656,
        "start_time": "2021-12-16T14:52:57.165Z"
      },
      {
        "duration": 48,
        "start_time": "2021-12-16T14:52:58.824Z"
      },
      {
        "duration": 16,
        "start_time": "2021-12-16T14:52:58.874Z"
      },
      {
        "duration": 233,
        "start_time": "2021-12-16T14:52:58.893Z"
      },
      {
        "duration": 17,
        "start_time": "2021-12-16T14:52:59.128Z"
      },
      {
        "duration": 130,
        "start_time": "2021-12-16T14:52:59.160Z"
      },
      {
        "duration": 16,
        "start_time": "2021-12-16T14:52:59.293Z"
      },
      {
        "duration": 203,
        "start_time": "2021-12-16T14:52:59.314Z"
      },
      {
        "duration": 17,
        "start_time": "2021-12-16T14:52:59.521Z"
      },
      {
        "duration": 25,
        "start_time": "2021-12-16T14:52:59.560Z"
      },
      {
        "duration": 13,
        "start_time": "2021-12-16T14:52:59.588Z"
      },
      {
        "duration": 257,
        "start_time": "2021-12-16T14:52:59.604Z"
      },
      {
        "duration": 29,
        "start_time": "2021-12-16T14:52:59.864Z"
      },
      {
        "duration": 27,
        "start_time": "2021-12-16T14:52:59.896Z"
      },
      {
        "duration": 39,
        "start_time": "2021-12-16T14:52:59.926Z"
      },
      {
        "duration": 119,
        "start_time": "2021-12-16T14:52:59.968Z"
      },
      {
        "duration": 80,
        "start_time": "2021-12-16T14:53:00.089Z"
      },
      {
        "duration": 89284,
        "start_time": "2021-12-16T14:53:00.171Z"
      },
      {
        "duration": 32,
        "start_time": "2021-12-16T14:54:29.460Z"
      },
      {
        "duration": 8,
        "start_time": "2021-12-16T14:54:29.495Z"
      },
      {
        "duration": 265,
        "start_time": "2021-12-16T14:54:29.506Z"
      },
      {
        "duration": 48,
        "start_time": "2021-12-16T14:54:29.774Z"
      },
      {
        "duration": 2373,
        "start_time": "2021-12-16T14:54:29.826Z"
      },
      {
        "duration": 12,
        "start_time": "2021-12-16T14:54:32.202Z"
      },
      {
        "duration": 11,
        "start_time": "2021-12-16T14:54:32.216Z"
      },
      {
        "duration": 32,
        "start_time": "2021-12-16T14:54:32.230Z"
      },
      {
        "duration": 5,
        "start_time": "2021-12-16T14:59:05.828Z"
      },
      {
        "duration": 4,
        "start_time": "2021-12-16T15:00:06.270Z"
      },
      {
        "duration": 5,
        "start_time": "2021-12-16T15:00:12.868Z"
      },
      {
        "duration": 1420,
        "start_time": "2021-12-16T15:08:24.605Z"
      },
      {
        "duration": 49,
        "start_time": "2021-12-16T15:08:26.029Z"
      },
      {
        "duration": 17,
        "start_time": "2021-12-16T15:08:26.081Z"
      },
      {
        "duration": 237,
        "start_time": "2021-12-16T15:08:26.101Z"
      },
      {
        "duration": 28,
        "start_time": "2021-12-16T15:08:26.341Z"
      },
      {
        "duration": 133,
        "start_time": "2021-12-16T15:08:26.371Z"
      },
      {
        "duration": 13,
        "start_time": "2021-12-16T15:08:26.507Z"
      },
      {
        "duration": 193,
        "start_time": "2021-12-16T15:08:26.524Z"
      },
      {
        "duration": 16,
        "start_time": "2021-12-16T15:08:26.720Z"
      },
      {
        "duration": 30,
        "start_time": "2021-12-16T15:08:26.738Z"
      },
      {
        "duration": 11,
        "start_time": "2021-12-16T15:08:26.770Z"
      },
      {
        "duration": 258,
        "start_time": "2021-12-16T15:08:26.784Z"
      },
      {
        "duration": 39,
        "start_time": "2021-12-16T15:08:27.044Z"
      },
      {
        "duration": 23,
        "start_time": "2021-12-16T15:08:27.086Z"
      },
      {
        "duration": 5,
        "start_time": "2021-12-16T15:08:27.111Z"
      },
      {
        "duration": 118,
        "start_time": "2021-12-16T15:08:27.119Z"
      },
      {
        "duration": 81,
        "start_time": "2021-12-16T15:08:27.240Z"
      },
      {
        "duration": 100711,
        "start_time": "2021-12-16T15:08:27.324Z"
      },
      {
        "duration": 44,
        "start_time": "2021-12-16T15:10:08.038Z"
      },
      {
        "duration": 8,
        "start_time": "2021-12-16T15:10:08.085Z"
      },
      {
        "duration": 484,
        "start_time": "2021-12-16T15:10:08.096Z"
      },
      {
        "duration": 113,
        "start_time": "2021-12-16T15:10:08.583Z"
      },
      {
        "duration": 2471,
        "start_time": "2021-12-16T15:10:08.700Z"
      },
      {
        "duration": 14,
        "start_time": "2021-12-16T15:10:11.174Z"
      },
      {
        "duration": 20,
        "start_time": "2021-12-16T15:10:11.191Z"
      },
      {
        "duration": 18,
        "start_time": "2021-12-16T15:10:11.214Z"
      },
      {
        "duration": 1532,
        "start_time": "2021-12-16T15:20:25.030Z"
      },
      {
        "duration": 48,
        "start_time": "2021-12-16T15:20:26.565Z"
      },
      {
        "duration": 18,
        "start_time": "2021-12-16T15:20:26.616Z"
      },
      {
        "duration": 223,
        "start_time": "2021-12-16T15:20:26.637Z"
      },
      {
        "duration": 20,
        "start_time": "2021-12-16T15:20:26.863Z"
      },
      {
        "duration": 148,
        "start_time": "2021-12-16T15:20:26.886Z"
      },
      {
        "duration": 24,
        "start_time": "2021-12-16T15:20:27.037Z"
      },
      {
        "duration": 202,
        "start_time": "2021-12-16T15:20:27.067Z"
      },
      {
        "duration": 17,
        "start_time": "2021-12-16T15:20:27.272Z"
      },
      {
        "duration": 24,
        "start_time": "2021-12-16T15:20:27.291Z"
      },
      {
        "duration": 11,
        "start_time": "2021-12-16T15:20:27.318Z"
      },
      {
        "duration": 262,
        "start_time": "2021-12-16T15:20:27.331Z"
      },
      {
        "duration": 27,
        "start_time": "2021-12-16T15:20:27.595Z"
      },
      {
        "duration": 37,
        "start_time": "2021-12-16T15:20:27.625Z"
      },
      {
        "duration": 6,
        "start_time": "2021-12-16T15:20:27.664Z"
      },
      {
        "duration": 113,
        "start_time": "2021-12-16T15:20:27.672Z"
      },
      {
        "duration": 87,
        "start_time": "2021-12-16T15:20:27.788Z"
      },
      {
        "duration": 82,
        "start_time": "2021-12-16T15:20:27.878Z"
      },
      {
        "duration": 85492,
        "start_time": "2021-12-16T15:20:27.962Z"
      },
      {
        "duration": 34,
        "start_time": "2021-12-16T15:21:53.456Z"
      },
      {
        "duration": 8,
        "start_time": "2021-12-16T15:21:53.492Z"
      },
      {
        "duration": 269,
        "start_time": "2021-12-16T15:21:53.503Z"
      },
      {
        "duration": 65,
        "start_time": "2021-12-16T15:21:53.776Z"
      },
      {
        "duration": 2238,
        "start_time": "2021-12-16T15:21:53.860Z"
      },
      {
        "duration": 16,
        "start_time": "2021-12-16T15:21:56.101Z"
      },
      {
        "duration": 39,
        "start_time": "2021-12-16T15:21:56.120Z"
      },
      {
        "duration": 8,
        "start_time": "2021-12-16T15:21:56.162Z"
      },
      {
        "duration": 1458,
        "start_time": "2021-12-16T15:24:08.569Z"
      },
      {
        "duration": 49,
        "start_time": "2021-12-16T15:24:10.029Z"
      },
      {
        "duration": 17,
        "start_time": "2021-12-16T15:24:10.083Z"
      },
      {
        "duration": 241,
        "start_time": "2021-12-16T15:24:10.102Z"
      },
      {
        "duration": 23,
        "start_time": "2021-12-16T15:24:10.345Z"
      },
      {
        "duration": 135,
        "start_time": "2021-12-16T15:24:10.371Z"
      },
      {
        "duration": 14,
        "start_time": "2021-12-16T15:24:10.510Z"
      },
      {
        "duration": 220,
        "start_time": "2021-12-16T15:24:10.527Z"
      },
      {
        "duration": 23,
        "start_time": "2021-12-16T15:24:10.749Z"
      },
      {
        "duration": 25,
        "start_time": "2021-12-16T15:24:10.775Z"
      },
      {
        "duration": 12,
        "start_time": "2021-12-16T15:24:10.803Z"
      },
      {
        "duration": 267,
        "start_time": "2021-12-16T15:24:10.817Z"
      },
      {
        "duration": 27,
        "start_time": "2021-12-16T15:24:11.087Z"
      },
      {
        "duration": 45,
        "start_time": "2021-12-16T15:24:11.116Z"
      },
      {
        "duration": 6,
        "start_time": "2021-12-16T15:24:11.163Z"
      },
      {
        "duration": 116,
        "start_time": "2021-12-16T15:24:11.171Z"
      },
      {
        "duration": 79,
        "start_time": "2021-12-16T15:24:11.290Z"
      },
      {
        "duration": 72,
        "start_time": "2021-12-16T15:24:11.372Z"
      },
      {
        "duration": 83396,
        "start_time": "2021-12-16T15:24:11.446Z"
      },
      {
        "duration": 40,
        "start_time": "2021-12-16T15:25:34.845Z"
      },
      {
        "duration": 8,
        "start_time": "2021-12-16T15:25:34.887Z"
      },
      {
        "duration": 295,
        "start_time": "2021-12-16T15:25:34.899Z"
      },
      {
        "duration": 75,
        "start_time": "2021-12-16T15:25:35.197Z"
      },
      {
        "duration": 2235,
        "start_time": "2021-12-16T15:25:35.275Z"
      },
      {
        "duration": 14,
        "start_time": "2021-12-16T15:25:37.512Z"
      },
      {
        "duration": 37,
        "start_time": "2021-12-16T15:25:37.529Z"
      },
      {
        "duration": 6,
        "start_time": "2021-12-16T15:25:37.568Z"
      }
    ],
    "kernelspec": {
      "display_name": "Python 3 (ipykernel)",
      "language": "python",
      "name": "python3"
    },
    "language_info": {
      "codemirror_mode": {
        "name": "ipython",
        "version": 3
      },
      "file_extension": ".py",
      "mimetype": "text/x-python",
      "name": "python",
      "nbconvert_exporter": "python",
      "pygments_lexer": "ipython3",
      "version": "3.9.5"
    },
    "toc": {
      "base_numbering": 1,
      "nav_menu": {},
      "number_sections": true,
      "sideBar": true,
      "skip_h1_title": true,
      "title_cell": "Table of Contents",
      "title_sidebar": "Contents",
      "toc_cell": false,
      "toc_position": {},
      "toc_section_display": true,
      "toc_window_display": false
    },
    "colab": {
      "name": "3a6e72d1-87e9-4706-b01b-22ec4e5e7fbb (1).ipynb",
      "provenance": []
    }
  },
  "nbformat": 4,
  "nbformat_minor": 0
}