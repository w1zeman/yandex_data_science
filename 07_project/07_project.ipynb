{
  "cells": [
    {
      "cell_type": "markdown",
      "metadata": {
        "id": "-8rt2BYzKIQq",
        "toc": true
      },
      "source": [
        "<h1>Содержание<span class=\"tocSkip\"></span></h1>\n",
        "<div class=\"toc\"><ul class=\"toc-item\"><li><span><a href=\"#Подготовка-данных\" data-toc-modified-id=\"Подготовка-данных-1\"><span class=\"toc-item-num\">1&nbsp;&nbsp;</span>Подготовка данных</a></span><ul class=\"toc-item\"><li><span><a href=\"#Описание-данных\" data-toc-modified-id=\"Описание-данных-1.1\"><span class=\"toc-item-num\">1.1&nbsp;&nbsp;</span>Описание данных</a></span></li><li><span><a href=\"#Вывод\" data-toc-modified-id=\"Вывод-1.2\"><span class=\"toc-item-num\">1.2&nbsp;&nbsp;</span>Вывод</a></span></li></ul></li><li><span><a href=\"#Исследование-задачи\" data-toc-modified-id=\"Исследование-задачи-2\"><span class=\"toc-item-num\">2&nbsp;&nbsp;</span>Исследование задачи</a></span><ul class=\"toc-item\"><li><span><a href=\"#Решающее-дерево.\" data-toc-modified-id=\"Решающее-дерево.-2.1\"><span class=\"toc-item-num\">2.1&nbsp;&nbsp;</span>Решающее дерево.</a></span></li><li><span><a href=\"#Случайный-лес.\" data-toc-modified-id=\"Случайный-лес.-2.2\"><span class=\"toc-item-num\">2.2&nbsp;&nbsp;</span>Случайный лес.</a></span></li><li><span><a href=\"#Логистическая-регрессия\" data-toc-modified-id=\"Логистическая-регрессия-2.3\"><span class=\"toc-item-num\">2.3&nbsp;&nbsp;</span>Логистическая регрессия</a></span></li><li><span><a href=\"#Гаусовская-байсовая-модель\" data-toc-modified-id=\"Гаусовская-байсовая-модель-2.4\"><span class=\"toc-item-num\">2.4&nbsp;&nbsp;</span>Гаусовская байсовая модель</a></span></li><li><span><a href=\"#Оценка-метрик-accuracy,-precision,-recall-и-F-метрики\" data-toc-modified-id=\"Оценка-метрик-accuracy,-precision,-recall-и-F-метрики-2.5\"><span class=\"toc-item-num\">2.5&nbsp;&nbsp;</span>Оценка метрик accuracy, precision, recall и F-метрики</a></span></li><li><span><a href=\"#построение-ROC-кривой-для-каждой-модели.-И-вывод-показателя-AUC-ROC\" data-toc-modified-id=\"построение-ROC-кривой-для-каждой-модели.-И-вывод-показателя-AUC-ROC-2.6\"><span class=\"toc-item-num\">2.6&nbsp;&nbsp;</span>построение ROC-кривой для каждой модели. И вывод показателя AUC-ROC</a></span></li><li><span><a href=\"#Вывод\" data-toc-modified-id=\"Вывод-2.7\"><span class=\"toc-item-num\">2.7&nbsp;&nbsp;</span>Вывод</a></span></li></ul></li><li><span><a href=\"#Борьба-с-дисбалансом\" data-toc-modified-id=\"Борьба-с-дисбалансом-3\"><span class=\"toc-item-num\">3&nbsp;&nbsp;</span>Борьба с дисбалансом</a></span><ul class=\"toc-item\"><li><span><a href=\"#Возможности-моделей-по-взвешиванию-классов\" data-toc-modified-id=\"Возможности-моделей-по-взвешиванию-классов-3.1\"><span class=\"toc-item-num\">3.1&nbsp;&nbsp;</span>Возможности моделей по взвешиванию классов</a></span></li><li><span><a href=\"#Исследование-способа-уменьшения-значений-класса-0.\" data-toc-modified-id=\"Исследование-способа-уменьшения-значений-класса-0.-3.2\"><span class=\"toc-item-num\">3.2&nbsp;&nbsp;</span>Исследование способа уменьшения значений класса 0.</a></span></li><li><span><a href=\"#Исследование-методов-увеличения-класса-1\" data-toc-modified-id=\"Исследование-методов-увеличения-класса-1-3.3\"><span class=\"toc-item-num\">3.3&nbsp;&nbsp;</span>Исследование методов увеличения класса 1</a></span></li><li><span><a href=\"#Вывод\" data-toc-modified-id=\"Вывод-3.4\"><span class=\"toc-item-num\">3.4&nbsp;&nbsp;</span>Вывод</a></span></li></ul></li><li><span><a href=\"#Тестирование-модели\" data-toc-modified-id=\"Тестирование-модели-4\"><span class=\"toc-item-num\">4&nbsp;&nbsp;</span>Тестирование модели</a></span><ul class=\"toc-item\"><li><span><a href=\"#гиперпараметр-n_estimators\" data-toc-modified-id=\"гиперпараметр-n_estimators-4.1\"><span class=\"toc-item-num\">4.1&nbsp;&nbsp;</span>гиперпараметр n_estimators</a></span></li><li><span><a href=\"#гиперпараметр-min_samples_split\" data-toc-modified-id=\"гиперпараметр-min_samples_split-4.2\"><span class=\"toc-item-num\">4.2&nbsp;&nbsp;</span>гиперпараметр min_samples_split</a></span></li><li><span><a href=\"#Гиперпараметр-min_samples_leaf\" data-toc-modified-id=\"Гиперпараметр-min_samples_leaf-4.3\"><span class=\"toc-item-num\">4.3&nbsp;&nbsp;</span>Гиперпараметр min_samples_leaf</a></span></li><li><span><a href=\"#Проверка-на-тестовой-выборке-четырех-моделей\" data-toc-modified-id=\"Проверка-на-тестовой-выборке-четырех-моделей-4.4\"><span class=\"toc-item-num\">4.4&nbsp;&nbsp;</span>Проверка на тестовой выборке четырех моделей</a></span></li><li><span><a href=\"#Вывод\" data-toc-modified-id=\"Вывод-4.5\"><span class=\"toc-item-num\">4.5&nbsp;&nbsp;</span>Вывод</a></span></li></ul></li><li><span><a href=\"#Итоговый-вывод\" data-toc-modified-id=\"Итоговый-вывод-5\"><span class=\"toc-item-num\">5&nbsp;&nbsp;</span>Итоговый вывод</a></span></li><li><span><a href=\"#Чек-лист-готовности-проекта\" data-toc-modified-id=\"Чек-лист-готовности-проекта-6\"><span class=\"toc-item-num\">6&nbsp;&nbsp;</span>Чек-лист готовности проекта</a></span></li></ul></div>"
      ]
    },
    {
      "cell_type": "markdown",
      "metadata": {
        "id": "XAyJMgioKIQs"
      },
      "source": [
        "# Отток клиентов"
      ]
    },
    {
      "cell_type": "markdown",
      "metadata": {
        "id": "9O-fKLMhKIQt"
      },
      "source": [
        "Из «Бета-Банка» стали уходить клиенты. Каждый месяц. Немного, но заметно. Банковские маркетологи посчитали: сохранять текущих клиентов дешевле, чем привлекать новых.\n",
        "\n",
        "Нужно спрогнозировать, уйдёт клиент из банка в ближайшее время или нет. Вам предоставлены исторические данные о поведении клиентов и расторжении договоров с банком. \n",
        "\n",
        "Постройте модель с предельно большим значением *F1*-меры. Чтобы сдать проект успешно, нужно довести метрику до 0.59. Проверьте *F1*-меру на тестовой выборке самостоятельно.\n",
        "\n",
        "Дополнительно измеряйте *AUC-ROC*, сравнивайте её значение с *F1*-мерой.\n",
        "\n",
        "Источник данных: [https://www.kaggle.com/barelydedicated/bank-customer-churn-modeling](https://www.kaggle.com/barelydedicated/bank-customer-churn-modeling)"
      ]
    },
    {
      "cell_type": "markdown",
      "metadata": {
        "id": "iCVBxdbHKIQt"
      },
      "source": [
        "## Подготовка данных"
      ]
    },
    {
      "cell_type": "markdown",
      "metadata": {
        "id": "epO497TcKIQu"
      },
      "source": [
        "### Описание данных\n",
        "Данные находятся в файле /datasets/Churn.csv (англ. «отток клиентов»). Скачать датасет\n",
        "\n",
        "Признаки\n",
        "* RowNumber — индекс строки в данных\n",
        "* CustomerId — уникальный идентификатор клиента\n",
        "* Surname — фамилия\n",
        "* CreditScore — кредитный рейтинг\n",
        "* Geography — страна проживания\n",
        "* Gender — пол\n",
        "* Age — возраст\n",
        "* Tenure — сколько лет человек является клиентом банка\n",
        "* Balance — баланс на счёте\n",
        "* NumOfProducts — количество продуктов банка, используемых клиентом\n",
        "* HasCrCard — наличие кредитной карты\n",
        "* IsActiveMember — активность клиента\n",
        "* EstimatedSalary — предполагаемая зарплата\n",
        "\n",
        "Целевой признак\n",
        "* Exited — факт ухода клиента"
      ]
    },
    {
      "cell_type": "code",
      "execution_count": null,
      "metadata": {
        "id": "ePzAH_omKIQu"
      },
      "outputs": [],
      "source": [
        "import matplotlib.pyplot as plt\n",
        "import numpy as np\n",
        "import pandas as pd\n",
        "from sklearn.model_selection import train_test_split\n",
        "from sklearn.linear_model import LogisticRegression\n",
        "from sklearn.tree import DecisionTreeClassifier\n",
        "from sklearn.ensemble import RandomForestClassifier\n",
        "from sklearn.naive_bayes import GaussianNB\n",
        "from sklearn.metrics import f1_score, precision_score, recall_score, accuracy_score, roc_auc_score, roc_curve\n",
        "from sklearn.utils import shuffle\n",
        "from sklearn.preprocessing import MinMaxScaler"
      ]
    },
    {
      "cell_type": "markdown",
      "metadata": {
        "id": "nYFYvX4DKIQw"
      },
      "source": [
        "Подключение библиотек"
      ]
    },
    {
      "cell_type": "code",
      "execution_count": null,
      "metadata": {
        "id": "ynJ0kujyKIQx",
        "outputId": "5bbe7496-2ad5-4909-cb08-72598e661946"
      },
      "outputs": [
        {
          "name": "stdout",
          "output_type": "stream",
          "text": [
            "<class 'pandas.core.frame.DataFrame'>\n",
            "RangeIndex: 10000 entries, 0 to 9999\n",
            "Data columns (total 14 columns):\n",
            " #   Column           Non-Null Count  Dtype  \n",
            "---  ------           --------------  -----  \n",
            " 0   RowNumber        10000 non-null  int64  \n",
            " 1   CustomerId       10000 non-null  int64  \n",
            " 2   Surname          10000 non-null  object \n",
            " 3   CreditScore      10000 non-null  int64  \n",
            " 4   Geography        10000 non-null  object \n",
            " 5   Gender           10000 non-null  object \n",
            " 6   Age              10000 non-null  int64  \n",
            " 7   Tenure           9091 non-null   float64\n",
            " 8   Balance          10000 non-null  float64\n",
            " 9   NumOfProducts    10000 non-null  int64  \n",
            " 10  HasCrCard        10000 non-null  int64  \n",
            " 11  IsActiveMember   10000 non-null  int64  \n",
            " 12  EstimatedSalary  10000 non-null  float64\n",
            " 13  Exited           10000 non-null  int64  \n",
            "dtypes: float64(3), int64(8), object(3)\n",
            "memory usage: 1.1+ MB\n"
          ]
        }
      ],
      "source": [
        "churn_data = pd.read_csv('/datasets/Churn.csv')\n",
        "churn_data.info()"
      ]
    },
    {
      "cell_type": "markdown",
      "metadata": {
        "id": "Q3-qQrcyKIQy"
      },
      "source": [
        "Загрузка данных в датафрейм churn_data и вывод информации о признаках"
      ]
    },
    {
      "cell_type": "code",
      "execution_count": null,
      "metadata": {
        "id": "DtPtGOHHKIQy",
        "outputId": "8f52137c-7dfe-4193-d354-c149d11319f1"
      },
      "outputs": [
        {
          "data": {
            "text/html": [
              "<div>\n",
              "<style scoped>\n",
              "    .dataframe tbody tr th:only-of-type {\n",
              "        vertical-align: middle;\n",
              "    }\n",
              "\n",
              "    .dataframe tbody tr th {\n",
              "        vertical-align: top;\n",
              "    }\n",
              "\n",
              "    .dataframe thead th {\n",
              "        text-align: right;\n",
              "    }\n",
              "</style>\n",
              "<table border=\"1\" class=\"dataframe\">\n",
              "  <thead>\n",
              "    <tr style=\"text-align: right;\">\n",
              "      <th></th>\n",
              "      <th>count</th>\n",
              "      <th>mean</th>\n",
              "      <th>std</th>\n",
              "      <th>min</th>\n",
              "      <th>25%</th>\n",
              "      <th>50%</th>\n",
              "      <th>75%</th>\n",
              "      <th>max</th>\n",
              "    </tr>\n",
              "  </thead>\n",
              "  <tbody>\n",
              "    <tr>\n",
              "      <th>RowNumber</th>\n",
              "      <td>10000.0</td>\n",
              "      <td>5.000500e+03</td>\n",
              "      <td>2886.895680</td>\n",
              "      <td>1.00</td>\n",
              "      <td>2500.75</td>\n",
              "      <td>5.000500e+03</td>\n",
              "      <td>7.500250e+03</td>\n",
              "      <td>10000.00</td>\n",
              "    </tr>\n",
              "    <tr>\n",
              "      <th>CustomerId</th>\n",
              "      <td>10000.0</td>\n",
              "      <td>1.569094e+07</td>\n",
              "      <td>71936.186123</td>\n",
              "      <td>15565701.00</td>\n",
              "      <td>15628528.25</td>\n",
              "      <td>1.569074e+07</td>\n",
              "      <td>1.575323e+07</td>\n",
              "      <td>15815690.00</td>\n",
              "    </tr>\n",
              "    <tr>\n",
              "      <th>CreditScore</th>\n",
              "      <td>10000.0</td>\n",
              "      <td>6.505288e+02</td>\n",
              "      <td>96.653299</td>\n",
              "      <td>350.00</td>\n",
              "      <td>584.00</td>\n",
              "      <td>6.520000e+02</td>\n",
              "      <td>7.180000e+02</td>\n",
              "      <td>850.00</td>\n",
              "    </tr>\n",
              "    <tr>\n",
              "      <th>Age</th>\n",
              "      <td>10000.0</td>\n",
              "      <td>3.892180e+01</td>\n",
              "      <td>10.487806</td>\n",
              "      <td>18.00</td>\n",
              "      <td>32.00</td>\n",
              "      <td>3.700000e+01</td>\n",
              "      <td>4.400000e+01</td>\n",
              "      <td>92.00</td>\n",
              "    </tr>\n",
              "    <tr>\n",
              "      <th>Tenure</th>\n",
              "      <td>9091.0</td>\n",
              "      <td>4.997690e+00</td>\n",
              "      <td>2.894723</td>\n",
              "      <td>0.00</td>\n",
              "      <td>2.00</td>\n",
              "      <td>5.000000e+00</td>\n",
              "      <td>7.000000e+00</td>\n",
              "      <td>10.00</td>\n",
              "    </tr>\n",
              "    <tr>\n",
              "      <th>Balance</th>\n",
              "      <td>10000.0</td>\n",
              "      <td>7.648589e+04</td>\n",
              "      <td>62397.405202</td>\n",
              "      <td>0.00</td>\n",
              "      <td>0.00</td>\n",
              "      <td>9.719854e+04</td>\n",
              "      <td>1.276442e+05</td>\n",
              "      <td>250898.09</td>\n",
              "    </tr>\n",
              "    <tr>\n",
              "      <th>NumOfProducts</th>\n",
              "      <td>10000.0</td>\n",
              "      <td>1.530200e+00</td>\n",
              "      <td>0.581654</td>\n",
              "      <td>1.00</td>\n",
              "      <td>1.00</td>\n",
              "      <td>1.000000e+00</td>\n",
              "      <td>2.000000e+00</td>\n",
              "      <td>4.00</td>\n",
              "    </tr>\n",
              "    <tr>\n",
              "      <th>HasCrCard</th>\n",
              "      <td>10000.0</td>\n",
              "      <td>7.055000e-01</td>\n",
              "      <td>0.455840</td>\n",
              "      <td>0.00</td>\n",
              "      <td>0.00</td>\n",
              "      <td>1.000000e+00</td>\n",
              "      <td>1.000000e+00</td>\n",
              "      <td>1.00</td>\n",
              "    </tr>\n",
              "    <tr>\n",
              "      <th>IsActiveMember</th>\n",
              "      <td>10000.0</td>\n",
              "      <td>5.151000e-01</td>\n",
              "      <td>0.499797</td>\n",
              "      <td>0.00</td>\n",
              "      <td>0.00</td>\n",
              "      <td>1.000000e+00</td>\n",
              "      <td>1.000000e+00</td>\n",
              "      <td>1.00</td>\n",
              "    </tr>\n",
              "    <tr>\n",
              "      <th>EstimatedSalary</th>\n",
              "      <td>10000.0</td>\n",
              "      <td>1.000902e+05</td>\n",
              "      <td>57510.492818</td>\n",
              "      <td>11.58</td>\n",
              "      <td>51002.11</td>\n",
              "      <td>1.001939e+05</td>\n",
              "      <td>1.493882e+05</td>\n",
              "      <td>199992.48</td>\n",
              "    </tr>\n",
              "    <tr>\n",
              "      <th>Exited</th>\n",
              "      <td>10000.0</td>\n",
              "      <td>2.037000e-01</td>\n",
              "      <td>0.402769</td>\n",
              "      <td>0.00</td>\n",
              "      <td>0.00</td>\n",
              "      <td>0.000000e+00</td>\n",
              "      <td>0.000000e+00</td>\n",
              "      <td>1.00</td>\n",
              "    </tr>\n",
              "  </tbody>\n",
              "</table>\n",
              "</div>"
            ],
            "text/plain": [
              "                   count          mean           std          min  \\\n",
              "RowNumber        10000.0  5.000500e+03   2886.895680         1.00   \n",
              "CustomerId       10000.0  1.569094e+07  71936.186123  15565701.00   \n",
              "CreditScore      10000.0  6.505288e+02     96.653299       350.00   \n",
              "Age              10000.0  3.892180e+01     10.487806        18.00   \n",
              "Tenure            9091.0  4.997690e+00      2.894723         0.00   \n",
              "Balance          10000.0  7.648589e+04  62397.405202         0.00   \n",
              "NumOfProducts    10000.0  1.530200e+00      0.581654         1.00   \n",
              "HasCrCard        10000.0  7.055000e-01      0.455840         0.00   \n",
              "IsActiveMember   10000.0  5.151000e-01      0.499797         0.00   \n",
              "EstimatedSalary  10000.0  1.000902e+05  57510.492818        11.58   \n",
              "Exited           10000.0  2.037000e-01      0.402769         0.00   \n",
              "\n",
              "                         25%           50%           75%          max  \n",
              "RowNumber            2500.75  5.000500e+03  7.500250e+03     10000.00  \n",
              "CustomerId       15628528.25  1.569074e+07  1.575323e+07  15815690.00  \n",
              "CreditScore           584.00  6.520000e+02  7.180000e+02       850.00  \n",
              "Age                    32.00  3.700000e+01  4.400000e+01        92.00  \n",
              "Tenure                  2.00  5.000000e+00  7.000000e+00        10.00  \n",
              "Balance                 0.00  9.719854e+04  1.276442e+05    250898.09  \n",
              "NumOfProducts           1.00  1.000000e+00  2.000000e+00         4.00  \n",
              "HasCrCard               0.00  1.000000e+00  1.000000e+00         1.00  \n",
              "IsActiveMember          0.00  1.000000e+00  1.000000e+00         1.00  \n",
              "EstimatedSalary     51002.11  1.001939e+05  1.493882e+05    199992.48  \n",
              "Exited                  0.00  0.000000e+00  0.000000e+00         1.00  "
            ]
          },
          "execution_count": 3,
          "metadata": {},
          "output_type": "execute_result"
        }
      ],
      "source": [
        "churn_data.describe().T"
      ]
    },
    {
      "cell_type": "markdown",
      "metadata": {
        "id": "z5hEe0NxKIQy"
      },
      "source": [
        "Вывод свобдной таблицы о признаках в транспорированном виде"
      ]
    },
    {
      "cell_type": "code",
      "execution_count": null,
      "metadata": {
        "id": "t1jkIcPRKIQz",
        "outputId": "30d25c1d-318c-4795-d2b4-1a957619305a"
      },
      "outputs": [
        {
          "name": "stdout",
          "output_type": "stream",
          "text": [
            "Уникальные значения столбца RowNumber\n",
            "[    1     2     3 ...  9998  9999 10000]\n",
            "Уникальные значения столбца CustomerId\n",
            "[15634602 15647311 15619304 ... 15584532 15682355 15628319]\n",
            "Уникальные значения столбца Surname\n",
            "['Hargrave' 'Hill' 'Onio' ... 'Kashiwagi' 'Aldridge' 'Burbidge']\n",
            "Уникальные значения столбца CreditScore\n",
            "[619 608 502 699 850 645 822 376 501 684 528 497 476 549 635 616 653 587\n",
            " 726 732 636 510 669 846 577 756 571 574 411 591 533 553 520 722 475 490\n",
            " 804 582 472 465 556 834 660 776 829 637 550 698 585 788 655 601 656 725\n",
            " 511 614 742 687 555 603 751 581 735 661 675 738 813 657 604 519 664 678\n",
            " 757 416 665 777 543 506 493 652 750 729 646 647 808 524 769 730 515 773\n",
            " 814 710 413 623 670 622 785 605 479 685 538 562 721 628 668 828 674 625\n",
            " 432 770 758 795 686 789 589 461 584 579 663 682 793 691 485 650 754 535\n",
            " 716 539 706 586 631 717 800 683 704 615 667 484 480 578 512 606 597 778\n",
            " 514 525 715 580 807 521 759 516 711 618 643 671 689 620 676 572 695 592\n",
            " 567 694 547 594 673 610 767 763 712 703 662 659 523 772 545 634 739 771\n",
            " 681 544 696 766 727 693 557 531 498 651 791 733 811 707 714 782 775 799\n",
            " 602 744 588 747 583 627 731 629 438 642 806 474 559 429 680 749 734 644\n",
            " 626 649 805 718 840 630 654 762 568 613 522 737 648 443 640 540 460 593\n",
            " 801 611 802 745 483 690 492 709 705 560 752 701 537 487 596 702 486 724\n",
            " 548 464 790 534 748 494 590 468 509 818 816 536 753 774 621 569 658 798\n",
            " 641 542 692 639 765 570 638 599 632 779 527 564 833 504 842 508 417 598\n",
            " 741 607 761 848 546 439 755 760 526 713 700 666 566 495 688 612 477 427\n",
            " 839 819 720 459 503 624 529 563 482 796 445 746 786 554 672 787 499 844\n",
            " 450 815 838 803 736 633 600 679 517 792 743 488 421 841 708 507 505 456\n",
            " 435 561 518 565 728 784 552 609 764 697 723 551 444 719 496 541 830 812\n",
            " 677 420 595 617 809 500 826 434 513 478 797 363 399 463 780 452 575 837\n",
            " 794 824 428 823 781 849 489 431 457 768 831 359 820 573 576 558 817 449\n",
            " 440 415 821 530 350 446 425 740 481 783 358 845 451 458 469 423 404 836\n",
            " 473 835 466 491 351 827 843 365 532 414 453 471 401 810 832 470 447 422\n",
            " 825 430 436 426 408 847 418 437 410 454 407 455 462 386 405 383 395 467\n",
            " 433 442 424 448 441 367 412 382 373 419]\n",
            "Уникальные значения столбца Geography\n",
            "['France' 'Spain' 'Germany']\n",
            "Уникальные значения столбца Gender\n",
            "['Female' 'Male']\n",
            "Уникальные значения столбца Age\n",
            "[42 41 39 43 44 50 29 27 31 24 34 25 35 45 58 32 38 46 36 33 40 51 61 49\n",
            " 37 19 66 56 26 21 55 75 22 30 28 65 48 52 57 73 47 54 72 20 67 79 62 53\n",
            " 80 59 68 23 60 70 63 64 18 82 69 74 71 76 77 88 85 84 78 81 92 83]\n",
            "Уникальные значения столбца Tenure\n",
            "[ 2.  1.  8.  7.  4.  6.  3. 10.  5.  9.  0. nan]\n",
            "Уникальные значения столбца Balance\n",
            "[     0.    83807.86 159660.8  ...  57369.61  75075.31 130142.79]\n",
            "Уникальные значения столбца NumOfProducts\n",
            "[1 3 2 4]\n",
            "Уникальные значения столбца HasCrCard\n",
            "[1 0]\n",
            "Уникальные значения столбца IsActiveMember\n",
            "[1 0]\n",
            "Уникальные значения столбца EstimatedSalary\n",
            "[101348.88 112542.58 113931.57 ...  42085.58  92888.52  38190.78]\n",
            "Уникальные значения столбца Exited\n",
            "[1 0]\n"
          ]
        }
      ],
      "source": [
        "def check_columns(data_frame):\n",
        "    for column in data_frame.columns:\n",
        "        print('Уникальные значения столбца', column)\n",
        "        print(data_frame[column].unique())\n",
        "        \n",
        "check_columns(churn_data)"
      ]
    },
    {
      "cell_type": "markdown",
      "metadata": {
        "id": "wGcsbxFOKIQz"
      },
      "source": [
        "Добавляем функцию проверки уникальных значений признаков check_columns и применяем ее к датафрейму"
      ]
    },
    {
      "cell_type": "code",
      "execution_count": null,
      "metadata": {
        "id": "ymtja0urKIQz",
        "outputId": "08829c59-d8aa-4671-dfad-54b0f9443ed7"
      },
      "outputs": [
        {
          "data": {
            "text/plain": [
              "RowNumber          0.0\n",
              "CustomerId         0.0\n",
              "Surname            0.0\n",
              "CreditScore        0.0\n",
              "Geography          0.0\n",
              "Gender             0.0\n",
              "Age                0.0\n",
              "Tenure             0.0\n",
              "Balance            0.0\n",
              "NumOfProducts      0.0\n",
              "HasCrCard          0.0\n",
              "IsActiveMember     0.0\n",
              "EstimatedSalary    0.0\n",
              "Exited             0.0\n",
              "dtype: float64"
            ]
          },
          "execution_count": 5,
          "metadata": {},
          "output_type": "execute_result"
        }
      ],
      "source": [
        "churn_data['Tenure'] = churn_data['Tenure'].fillna(0)\n",
        "churn_data.isna().mean()"
      ]
    },
    {
      "cell_type": "code",
      "execution_count": null,
      "metadata": {
        "id": "Q4M7IqFdKIQ0",
        "outputId": "0af25ebf-2540-4537-b769-8858b9c3089c"
      },
      "outputs": [
        {
          "data": {
            "text/plain": [
              "0.0     1291\n",
              "1.0      952\n",
              "2.0      950\n",
              "8.0      933\n",
              "3.0      928\n",
              "5.0      927\n",
              "7.0      925\n",
              "4.0      885\n",
              "9.0      882\n",
              "6.0      881\n",
              "10.0     446\n",
              "Name: Tenure, dtype: int64"
            ]
          },
          "execution_count": 6,
          "metadata": {},
          "output_type": "execute_result"
        }
      ],
      "source": [
        "churn_data['Tenure'].value_counts()"
      ]
    },
    {
      "cell_type": "markdown",
      "metadata": {
        "id": "ULSng9ATKIQ0"
      },
      "source": [
        "Преобразуем признаки и заменяем все NaN из столбца Tenure на 0. Если жилье не указано, скорей всего его нет."
      ]
    },
    {
      "cell_type": "code",
      "execution_count": null,
      "metadata": {
        "id": "go1YmIqsKIQ0",
        "outputId": "3e5ee191-1b61-40cd-a1eb-c29032ee1d21"
      },
      "outputs": [
        {
          "data": {
            "text/plain": [
              "(10000, 11)"
            ]
          },
          "execution_count": 7,
          "metadata": {},
          "output_type": "execute_result"
        }
      ],
      "source": [
        "churn_data = churn_data.drop(['RowNumber','CustomerId','Surname'], axis=1)\n",
        "churn_data.shape"
      ]
    },
    {
      "cell_type": "markdown",
      "metadata": {
        "id": "TyC3XOvFKIQ1"
      },
      "source": [
        "Удаляем столбцы RowNumber, CustomerId и Surname. Они не нужны при исследовании модели.\n",
        "\n",
        "RowNumber повторяет индекс датафрейма, CustomerId - случайный или последовательный номер, который никак не зависит от действий пользователя. Surname - признак, который отличается от человека к человеку и является именем в обществе. Это не гарант того, что клиент останется или уйдет."
      ]
    },
    {
      "cell_type": "code",
      "execution_count": null,
      "metadata": {
        "id": "gnNXG1JeKIQ1",
        "outputId": "9eae8968-a3ec-4186-94d0-3db495561373"
      },
      "outputs": [
        {
          "name": "stdout",
          "output_type": "stream",
          "text": [
            "<class 'pandas.core.frame.DataFrame'>\n",
            "RangeIndex: 10000 entries, 0 to 9999\n",
            "Data columns (total 12 columns):\n",
            " #   Column             Non-Null Count  Dtype  \n",
            "---  ------             --------------  -----  \n",
            " 0   CreditScore        10000 non-null  int64  \n",
            " 1   Age                10000 non-null  int64  \n",
            " 2   Tenure             10000 non-null  float64\n",
            " 3   Balance            10000 non-null  float64\n",
            " 4   NumOfProducts      10000 non-null  int64  \n",
            " 5   HasCrCard          10000 non-null  int64  \n",
            " 6   IsActiveMember     10000 non-null  int64  \n",
            " 7   EstimatedSalary    10000 non-null  float64\n",
            " 8   Exited             10000 non-null  int64  \n",
            " 9   Geography_Germany  10000 non-null  uint8  \n",
            " 10  Geography_Spain    10000 non-null  uint8  \n",
            " 11  Gender_Male        10000 non-null  uint8  \n",
            "dtypes: float64(3), int64(6), uint8(3)\n",
            "memory usage: 732.5 KB\n"
          ]
        }
      ],
      "source": [
        "ohe_churn_data = pd.get_dummies(churn_data, drop_first=True)\n",
        "ohe_churn_data.info()"
      ]
    },
    {
      "cell_type": "markdown",
      "metadata": {
        "id": "9u95dgOFKIQ1"
      },
      "source": [
        "Создаем OHE датафрейм, созданный по методу прямого кодирования с защитой от дамми-ловушки."
      ]
    },
    {
      "cell_type": "markdown",
      "metadata": {
        "id": "W5rqzWILKIQ2"
      },
      "source": [
        "### Вывод\n",
        "\n",
        "Данные готовы к исследованию проекта.\n",
        "\n",
        "Были удалены не влияющие на конечный фактор данные. Мы создаем модель классификации, который нужно отдать признаки, реально влияющие на суть прогноза уйдет ли клиент."
      ]
    },
    {
      "cell_type": "markdown",
      "metadata": {
        "id": "w_q5D0QkKIQ2"
      },
      "source": [
        "## Исследование задачи"
      ]
    },
    {
      "cell_type": "code",
      "execution_count": null,
      "metadata": {
        "id": "LOr03MCsKIQ2",
        "outputId": "ec3de96c-d472-4f45-a3ab-215769580f8e"
      },
      "outputs": [
        {
          "name": "stdout",
          "output_type": "stream",
          "text": [
            "(6000, 11) (2000, 11) (2000, 11)\n",
            "(6000,) (2000,) (2000,)\n"
          ]
        }
      ],
      "source": [
        "target = ohe_churn_data['Exited']\n",
        "features = ohe_churn_data.drop('Exited', axis=1)\n",
        "\n",
        "features_train, features_valid, target_train, target_valid = train_test_split(features, target, test_size=0.4, \n",
        "                                                                              random_state=20052020)\n",
        "features_valid, features_test, target_valid, target_test = train_test_split(features_valid, target_valid, test_size=0.5, \n",
        "                                                                              random_state=20052020 )\n",
        "print(features_train.shape, features_valid.shape, features_test.shape)\n",
        "print(target_train.shape, target_valid.shape, target_test.shape)"
      ]
    },
    {
      "cell_type": "markdown",
      "metadata": {
        "id": "pUs1aoDyKIQ2"
      },
      "source": [
        "Разбили данные на выборки по принципу 60% 20% 20%."
      ]
    },
    {
      "cell_type": "code",
      "execution_count": null,
      "metadata": {
        "id": "aWWN1MIOKIQ2",
        "outputId": "8e22c608-927a-413d-ceed-430a2c7d98d4"
      },
      "outputs": [
        {
          "data": {
            "text/plain": [
              "0    7963\n",
              "1    2037\n",
              "Name: Exited, dtype: int64"
            ]
          },
          "execution_count": 10,
          "metadata": {},
          "output_type": "execute_result"
        }
      ],
      "source": [
        "target.value_counts()"
      ]
    },
    {
      "cell_type": "markdown",
      "metadata": {
        "id": "64bZuZxAKIQ3"
      },
      "source": [
        "Отображаем, какой существует дисбаланс классов.\n",
        "\n",
        "Соотношение классов 1:4. Изучим модели без исправление баланса."
      ]
    },
    {
      "cell_type": "markdown",
      "metadata": {
        "id": "orxwYI-MKIQ3"
      },
      "source": [
        "<div class=\"alert alert-success\">\n",
        "<b>✔️ Комментарий ревьюера:</b>\n",
        "\n",
        "Разбиение выполнено верно, баланс классов исследован.\n",
        "\n",
        "</div>"
      ]
    },
    {
      "cell_type": "code",
      "execution_count": null,
      "metadata": {
        "id": "9-FDLMYyKIQ4"
      },
      "outputs": [],
      "source": [
        "scaler = MinMaxScaler()\n",
        "ohe_churn_data_scaled = ohe_churn_data.copy(deep=True)\n",
        "ohe_churn_data_scaled[[\"Balance\", \"EstimatedSalary\"]] = scaler.fit_transform(ohe_churn_data_scaled[[\"Balance\", \"EstimatedSalary\"]])"
      ]
    },
    {
      "cell_type": "markdown",
      "metadata": {
        "id": "6C9BzdgaKIQ4"
      },
      "source": [
        "Для борьбы с разными масштбами признаков используем Scaler"
      ]
    },
    {
      "cell_type": "code",
      "execution_count": null,
      "metadata": {
        "id": "jMl5dZabKIQ4",
        "outputId": "f91e1501-0273-4307-fd09-6869a76091d7",
        "scrolled": true
      },
      "outputs": [
        {
          "data": {
            "text/plain": [
              "CreditScore          0\n",
              "Age                  0\n",
              "Tenure               0\n",
              "Balance              0\n",
              "NumOfProducts        0\n",
              "HasCrCard            0\n",
              "IsActiveMember       0\n",
              "EstimatedSalary      0\n",
              "Exited               0\n",
              "Geography_Germany    0\n",
              "Geography_Spain      0\n",
              "Gender_Male          0\n",
              "dtype: int64"
            ]
          },
          "execution_count": 12,
          "metadata": {},
          "output_type": "execute_result"
        }
      ],
      "source": [
        "ohe_churn_data_scaled.isna().sum()"
      ]
    },
    {
      "cell_type": "markdown",
      "metadata": {
        "id": "h9JDziFeKIQ5"
      },
      "source": [
        "Смотрим появились ли пропуски"
      ]
    },
    {
      "cell_type": "code",
      "execution_count": null,
      "metadata": {
        "id": "7ojgyWqCKIQ5"
      },
      "outputs": [],
      "source": [
        "features = ohe_churn_data_scaled.drop(\"Exited\", axis=1)\n",
        "target = churn_data[\"Exited\"]\n",
        "\n",
        "features.fillna(1, inplace=True)"
      ]
    },
    {
      "cell_type": "markdown",
      "metadata": {
        "id": "xEhFqlz4KIQ5"
      },
      "source": [
        "удаляем признак exited и NA значения если они есть"
      ]
    },
    {
      "cell_type": "markdown",
      "metadata": {
        "id": "Y7oMYDBeKIQ5"
      },
      "source": [
        "### Решающее дерево. \n",
        "\n",
        "Проведем исследование при разном значении max_depth."
      ]
    },
    {
      "cell_type": "code",
      "execution_count": null,
      "metadata": {
        "id": "PLxBKMyHKIQ5",
        "outputId": "7bada8c5-92fe-4aac-cb84-5f35e026bbd0"
      },
      "outputs": [
        {
          "name": "stdout",
          "output_type": "stream",
          "text": [
            "Max depth 2 F1-score 0.5247813411078718\n",
            "Max depth 3 F1-score 0.5514285714285715\n",
            "Max depth 4 F1-score 0.49185667752443\n",
            "Max depth 5 F1-score 0.5421686746987953\n",
            "Max depth 6 F1-score 0.5832147937411095\n",
            "Max depth 7 F1-score 0.6125874125874126\n",
            "Max depth 8 F1-score 0.5681492109038737\n",
            "Max depth 9 F1-score 0.5899470899470899\n",
            "Max depth 10 F1-score 0.5516339869281046\n",
            "Max depth 11 F1-score 0.5552699228791773\n",
            "Max depth 12 F1-score 0.538265306122449\n",
            "Max depth 13 F1-score 0.5277777777777778\n",
            "Max depth 14 F1-score 0.4969249692496924\n",
            "Max depth 15 F1-score 0.5138721351025332\n",
            "Max depth 16 F1-score 0.49702734839476814\n",
            "Max depth 17 F1-score 0.5204200700116687\n",
            "Max depth 18 F1-score 0.5104408352668214\n",
            "Max depth 19 F1-score 0.49195402298850577\n",
            "Max depth 20 F1-score 0.4813953488372093\n",
            "Max depth 21 F1-score 0.4855491329479769\n",
            "Max depth 22 F1-score 0.4982857142857143\n",
            "Max depth 23 F1-score 0.5028835063437139\n",
            "Max depth 24 F1-score 0.5022831050228311\n",
            "Max depth 25 F1-score 0.5124716553287982\n",
            "Max depth 26 F1-score 0.49195402298850577\n",
            "Max depth 27 F1-score 0.49195402298850577\n",
            "Max depth 28 F1-score 0.49195402298850577\n",
            "Max depth 29 F1-score 0.49195402298850577\n",
            "Лучшая глубина дерева 7 Лучшая f1_score 0.6125874125874126\n",
            "CPU times: user 1.11 s, sys: 17.7 ms, total: 1.13 s\n",
            "Wall time: 1.14 s\n"
          ]
        }
      ],
      "source": [
        "%%time\n",
        "\n",
        "best_depth = 0\n",
        "best_f1_score = 0\n",
        "\n",
        "for depth in range(2, 30):\n",
        "    model = DecisionTreeClassifier(random_state=21032022, max_depth=depth)\n",
        "    model.fit(features_train, target_train)\n",
        "    predicted_valid = model.predict(features_valid)\n",
        "    f1_score_value = f1_score(target_valid, predicted_valid)\n",
        "    print('Max depth', depth,'F1-score', f1_score_value)\n",
        "    if f1_score_value > best_f1_score:\n",
        "        best_depth = depth\n",
        "        best_f1_score = f1_score_value\n",
        "\n",
        "print('Лучшая глубина дерева', best_depth,'Лучшая f1_score', best_f1_score) "
      ]
    },
    {
      "cell_type": "markdown",
      "metadata": {
        "id": "Ui5FBCq3KIQ5"
      },
      "source": [
        "Лучший реpультат был достигнут на глубине 7. f1_score 0.6125874125874126 \n",
        "\n",
        "Цель проекта в f1 > 0.59 достигнута для решающего дерева"
      ]
    },
    {
      "cell_type": "markdown",
      "metadata": {
        "id": "vGaKKicYKIQ7"
      },
      "source": [
        "### Случайный лес. \n",
        "\n",
        "Проведем исследование на разное количество деревьев."
      ]
    },
    {
      "cell_type": "code",
      "execution_count": null,
      "metadata": {
        "id": "VVMNp6rnKIQ7",
        "outputId": "6043b2ba-2968-4475-da2c-86f53ab48348"
      },
      "outputs": [
        {
          "name": "stdout",
          "output_type": "stream",
          "text": [
            "N estimators 10 F1 0.5855728429985856\n",
            "N estimators 20 F1 0.5862552594670406\n",
            "N estimators 30 F1 0.6067415730337078\n",
            "N estimators 40 F1 0.6111111111111112\n",
            "N estimators 50 F1 0.6147426981919333\n",
            "N estimators 60 F1 0.6123595505617977\n",
            "N estimators 70 F1 0.6084507042253521\n",
            "N estimators 80 F1 0.6132208157524612\n",
            "N estimators 90 F1 0.6145251396648045\n",
            "N estimators 100 F1 0.6160337552742616\n",
            "N estimators 110 F1 0.6160337552742616\n",
            "N estimators 120 F1 0.6149506346967559\n",
            "N estimators 130 F1 0.619047619047619\n",
            "N estimators 140 F1 0.6171107994389902\n",
            "N estimators 150 F1 0.6171107994389902\n",
            "N estimators 160 F1 0.619047619047619\n",
            "N estimators 170 F1 0.618384401114206\n",
            "N estimators 180 F1 0.6192468619246861\n",
            "N estimators 190 F1 0.6155988857938718\n",
            "N estimators 200 F1 0.6164574616457461\n",
            "N estimators 210 F1 0.6136680613668062\n",
            "N estimators 220 F1 0.6119610570236439\n",
            "N estimators 230 F1 0.6149584487534625\n",
            "N estimators 240 F1 0.6155988857938718\n",
            "N estimators 250 F1 0.6125874125874126\n",
            "N estimators 260 F1 0.6164574616457461\n",
            "N estimators 270 F1 0.6145251396648045\n",
            "N estimators 280 F1 0.6164574616457461\n",
            "N estimators 290 F1 0.6155988857938718\n",
            "Лучшее количество деревьев 180 Лучшая f1_score 0.6192468619246861\n",
            "CPU times: user 45.1 s, sys: 384 ms, total: 45.5 s\n",
            "Wall time: 46.5 s\n"
          ]
        }
      ],
      "source": [
        "%%time\n",
        "\n",
        "best_est = 0\n",
        "best_f1_score = 0\n",
        "\n",
        "for estimator in range(10, 300, 10):\n",
        "    model =  RandomForestClassifier(random_state=21032022, n_estimators=estimator)\n",
        "    model.fit(features_train, target_train)\n",
        "    predicted_valid = model.predict(features_valid)\n",
        "    f1_score_value = f1_score(target_valid, predicted_valid)\n",
        "    print('N estimators', estimator,'F1', f1_score_value)\n",
        "    if f1_score_value > best_f1_score:\n",
        "        best_est = estimator\n",
        "        best_f1_score = f1_score_value\n",
        "\n",
        "print('Лучшее количество деревьев', best_est, 'Лучшая f1_score', best_f1_score)"
      ]
    },
    {
      "cell_type": "markdown",
      "metadata": {
        "id": "mIE6kPKCKIQ7"
      },
      "source": [
        "Ищем лучшую f1 среди количества деревьев от 10 до 300 с шагом 10\n",
        "\n",
        "Результат (Лучшее количество деревьев 180 Лучшая f1_score 0.6192468619246861) показывает что искомая f1_score находится в районе 180 деревьев"
      ]
    },
    {
      "cell_type": "raw",
      "metadata": {
        "id": "L6B2opBcKIQ7"
      },
      "source": [
        "Результат лучше немного чем до использования балансировки\n",
        "Ищем лучшую f1 среди количества деревьев от 10 до 300 с шагом 10\n",
        "\n",
        "Результат (Лучшее количество деревьев 180 Лучшая f1_score 0.0.6195965417867435) показывает что искомая f1_score находится в районе 180 деревьев"
      ]
    },
    {
      "cell_type": "code",
      "execution_count": null,
      "metadata": {
        "id": "puocck_wKIQ7",
        "outputId": "fc27b60c-0753-44c7-b0ed-65ec8a399dc0"
      },
      "outputs": [
        {
          "name": "stdout",
          "output_type": "stream",
          "text": [
            "N estimators 170 F1 0.618384401114206\n",
            "N estimators 171 F1 0.6175243393602226\n",
            "N estimators 172 F1 0.6175243393602226\n",
            "N estimators 173 F1 0.6175243393602226\n",
            "N estimators 174 F1 0.6145251396648045\n",
            "N estimators 175 F1 0.6175243393602226\n",
            "N estimators 176 F1 0.6155988857938718\n",
            "N estimators 177 F1 0.6158113730929264\n",
            "N estimators 178 F1 0.6164574616457461\n",
            "N estimators 179 F1 0.6166666666666667\n",
            "N estimators 180 F1 0.6192468619246861\n",
            "N estimators 181 F1 0.6175243393602226\n",
            "N estimators 182 F1 0.6164574616457461\n",
            "N estimators 183 F1 0.6194444444444445\n",
            "N estimators 184 F1 0.6181818181818182\n",
            "N estimators 185 F1 0.6166666666666667\n",
            "N estimators 186 F1 0.6164574616457461\n",
            "N estimators 187 F1 0.6147426981919333\n",
            "N estimators 188 F1 0.6164574616457461\n",
            "N estimators 189 F1 0.6175243393602226\n",
            "N estimators 190 F1 0.6155988857938718\n",
            "Лучшее количество деревьев 183 Лучшая f1_score 0.6194444444444445\n",
            "CPU times: user 49.7 s, sys: 124 ms, total: 49.8 s\n",
            "Wall time: 50.3 s\n"
          ]
        }
      ],
      "source": [
        "%%time\n",
        "\n",
        "best_est = 0\n",
        "best_f1_score = 0\n",
        "\n",
        "for estimator in range(170, 191, 1):\n",
        "    model =  RandomForestClassifier(random_state=21032022, n_estimators=estimator)\n",
        "    model.fit(features_train, target_train)\n",
        "    predicted_valid = model.predict(features_valid)\n",
        "    f1_score_value = f1_score(target_valid, predicted_valid)\n",
        "    print('N estimators', estimator,'F1', f1_score_value)\n",
        "    if f1_score_value > best_f1_score:\n",
        "        best_est = estimator\n",
        "        best_f1_score = f1_score_value\n",
        "\n",
        "print('Лучшее количество деревьев', best_est, 'Лучшая f1_score', best_f1_score)"
      ]
    },
    {
      "cell_type": "markdown",
      "metadata": {
        "id": "xTIejPv0KIQ8"
      },
      "source": [
        "Ищем лучшую f1 среди количества деревьев от 170 до 191 с шагом 1\n",
        "\n",
        "Результат (Лучшее количество деревьев 183 Лучшая f1_score 0.6194444444444445) показывает что искомая f1_score 183 дерева.\n",
        "\n",
        "Цель проекта в f1 > 0.59 достигнута для Случайного леса"
      ]
    },
    {
      "cell_type": "markdown",
      "metadata": {
        "id": "nf_dcewEKIQ8"
      },
      "source": [
        "### Логистическая регрессия"
      ]
    },
    {
      "cell_type": "code",
      "execution_count": null,
      "metadata": {
        "id": "4j7MlHvDKIQ9",
        "outputId": "e36640ac-da1a-4e8f-c9da-b2b0d92688ec"
      },
      "outputs": [
        {
          "name": "stdout",
          "output_type": "stream",
          "text": [
            "F1 0.09224318658280924\n",
            "CPU times: user 108 ms, sys: 140 ms, total: 249 ms\n",
            "Wall time: 190 ms\n"
          ]
        }
      ],
      "source": [
        "%%time\n",
        "\n",
        "model =  LogisticRegression(random_state=21032022, solver='liblinear')\n",
        "model.fit(features_train, target_train)\n",
        "predicted_valid = model.predict(features_valid)\n",
        "print('F1', f1_score(target_valid, predicted_valid))"
      ]
    },
    {
      "cell_type": "markdown",
      "metadata": {
        "id": "pJOWNercKIQ9"
      },
      "source": [
        "Результаты довольно низкие. Возможно метрики точность (precision) или полнота (recall) имееют значения низкие и близкие к 0.\n",
        "\n",
        "Цель проекта в f1 > 0.59 с помощью модели логистической регрессии не достигнута."
      ]
    },
    {
      "cell_type": "raw",
      "metadata": {
        "id": "eCZ3rpE2KIQ9"
      },
      "source": [
        "Результаты с балансировкой очень неплохие.\n",
        "\n",
        "Цель проекта в f1 > 0.59 с помощью модели логистической регрессии не достигнута."
      ]
    },
    {
      "cell_type": "markdown",
      "metadata": {
        "id": "qjEnoFemKIQ9"
      },
      "source": [
        "### Гаусовская байсовая модель"
      ]
    },
    {
      "cell_type": "code",
      "execution_count": null,
      "metadata": {
        "id": "JvzxNzoPKIQ9",
        "outputId": "4dd031b2-ac5b-42e7-c313-bb4c6b302956"
      },
      "outputs": [
        {
          "name": "stdout",
          "output_type": "stream",
          "text": [
            "F1 0.11507936507936507\n",
            "CPU times: user 15.8 ms, sys: 49 µs, total: 15.9 ms\n",
            "Wall time: 13.9 ms\n"
          ]
        }
      ],
      "source": [
        "%%time\n",
        "\n",
        "model =  GaussianNB()\n",
        "model.fit(features_train, target_train)\n",
        "predicted_valid = model.predict(features_valid)\n",
        "print('F1', f1_score(target_valid, predicted_valid))"
      ]
    },
    {
      "cell_type": "markdown",
      "metadata": {
        "id": "dZf6tKn3KIQ9"
      },
      "source": [
        "F1 немного лучше логистической регресии. Но результат такойже низкий. \n",
        "\n",
        "Цель проекта в f1 > 0.59 с помощью модели Гаусовская байсовая не достигнута."
      ]
    },
    {
      "cell_type": "markdown",
      "metadata": {
        "id": "eM0Hfaz4KIQ-"
      },
      "source": [
        "### Оценка метрик accuracy, precision, recall и F-метрики"
      ]
    },
    {
      "cell_type": "code",
      "execution_count": null,
      "metadata": {
        "id": "RTlrAwhgKIQ-",
        "outputId": "062a9715-e25c-4ce2-cc53-3b8e10f9f1f6"
      },
      "outputs": [
        {
          "name": "stdout",
          "output_type": "stream",
          "text": [
            "Решающее дерево\n",
            "Точность попадания по классам 0.8535\n",
            "Precision 0.7536764705882353\n",
            "Recall 0.4756380510440835\n",
            "F1 0.5832147937411095\n",
            "\n",
            "Случайный лес\n",
            "Точность попадания по классам 0.863\n",
            "Precision 0.7716262975778547\n",
            "Recall 0.5174013921113689\n",
            "F1 0.6194444444444445\n",
            "\n",
            "Логистическая регрессия\n",
            "Точность попадания по классам 0.7835\n",
            "Precision 0.4782608695652174\n",
            "Recall 0.05104408352668213\n",
            "F1 0.09224318658280924\n",
            "\n",
            "Гаусовская байсовая модель\n",
            "Точность попадания по классам 0.777\n",
            "Precision 0.3972602739726027\n",
            "Recall 0.06728538283062645\n",
            "F1 0.11507936507936507\n",
            "\n",
            "CPU times: user 2.16 s, sys: 124 ms, total: 2.29 s\n",
            "Wall time: 2.38 s\n"
          ]
        }
      ],
      "source": [
        "%%time\n",
        "\n",
        "modelDecisionTree = DecisionTreeClassifier(random_state=21032022, max_depth=6)\n",
        "modelDecisionTree.fit(features_train, target_train)\n",
        "predicted_valid = modelDecisionTree.predict(features_valid)\n",
        "print('Решающее дерево')\n",
        "print('Точность попадания по классам', accuracy_score(target_valid, predicted_valid))\n",
        "print('Precision', precision_score(target_valid, predicted_valid))\n",
        "print('Recall', recall_score(target_valid, predicted_valid))\n",
        "print('F1', f1_score(target_valid, predicted_valid))\n",
        "print()\n",
        "\n",
        "modelRandomForest = RandomForestClassifier(random_state=21032022, n_estimators=183)\n",
        "modelRandomForest.fit(features_train, target_train)\n",
        "predicted_valid = modelRandomForest.predict(features_valid)\n",
        "print('Случайный лес')\n",
        "print('Точность попадания по классам', accuracy_score(target_valid, predicted_valid))\n",
        "print('Precision', precision_score(target_valid, predicted_valid))\n",
        "print('Recall', recall_score(target_valid, predicted_valid))\n",
        "print('F1', f1_score(target_valid, predicted_valid))\n",
        "print()\n",
        "\n",
        "modelLogisticRegression = LogisticRegression(random_state=21032022, solver='liblinear')\n",
        "modelLogisticRegression.fit(features_train, target_train)\n",
        "predicted_valid = modelLogisticRegression.predict(features_valid)\n",
        "print('Логистическая регрессия')\n",
        "print('Точность попадания по классам', accuracy_score(target_valid, predicted_valid))\n",
        "print('Precision', precision_score(target_valid, predicted_valid))\n",
        "print('Recall', recall_score(target_valid, predicted_valid))\n",
        "print('F1', f1_score(target_valid, predicted_valid))\n",
        "print()\n",
        "\n",
        "modelGaussianNB = GaussianNB()\n",
        "modelGaussianNB.fit(features_train, target_train)\n",
        "predicted_valid = modelGaussianNB.predict(features_valid)\n",
        "print('Гаусовская байсовая модель')\n",
        "print('Точность попадания по классам', accuracy_score(target_valid, predicted_valid))\n",
        "print('Precision', precision_score(target_valid, predicted_valid))\n",
        "print('Recall', recall_score(target_valid, predicted_valid))\n",
        "print('F1', f1_score(target_valid, predicted_valid))\n",
        "print()"
      ]
    },
    {
      "cell_type": "markdown",
      "metadata": {
        "id": "C3hKo5zfKIQ-"
      },
      "source": [
        "### построение ROC-кривой для каждой модели. И вывод показателя AUC-ROC"
      ]
    },
    {
      "cell_type": "code",
      "execution_count": null,
      "metadata": {
        "id": "OJ0SIYzMKIQ_",
        "outputId": "10c3dfaa-884c-4140-ca7a-5987336bfe98"
      },
      "outputs": [
        {
          "name": "stdout",
          "output_type": "stream",
          "text": [
            "AUC-ROC DecisionTreeClassifier 0.8347218956611495\n",
            "AUC-ROC RandomForestClassifier 0.8537972521549335\n",
            "AUC-ROC LogisticRegression 0.682924232408956\n",
            "AUC-ROC GaussianNB 0.7545690207160485\n"
          ]
        },
        {
          "data": {
            "image/png": "[encoded data removed]",
            "text/plain": [
              "<Figure size 1080x720 with 1 Axes>"
            ]
          },
          "metadata": {
            "needs_background": "light"
          },
          "output_type": "display_data"
        },
        {
          "name": "stdout",
          "output_type": "stream",
          "text": [
            "CPU times: user 579 ms, sys: 184 ms, total: 764 ms\n",
            "Wall time: 832 ms\n"
          ]
        }
      ],
      "source": [
        "%%time\n",
        "\n",
        "plt.figure(figsize=[15,10])\n",
        "\n",
        "plt.plot([0, 1], [0, 1], linestyle='--', label='RandomModel')\n",
        "\n",
        "\n",
        "\n",
        "probabilities_valid = modelDecisionTree.predict_proba(features_valid)\n",
        "probabilities_one_valid = probabilities_valid[:, 1]\n",
        "fpr, tpr, thresholds = roc_curve(target_valid, probabilities_one_valid)\n",
        "auc_roc = roc_auc_score(target_valid, probabilities_one_valid)\n",
        "print('AUC-ROC DecisionTreeClassifier',auc_roc)\n",
        "plt.plot(fpr, tpr, label='DecisionTreeClassifier')\n",
        "\n",
        "\n",
        "probabilities_valid = modelRandomForest.predict_proba(features_valid)\n",
        "probabilities_one_valid = probabilities_valid[:, 1]\n",
        "fpr, tpr, thresholds = roc_curve(target_valid, probabilities_one_valid)\n",
        "auc_roc = roc_auc_score(target_valid, probabilities_one_valid)\n",
        "print('AUC-ROC RandomForestClassifier',auc_roc)\n",
        "plt.plot(fpr, tpr, label='RandomForestClassifier')\n",
        "\n",
        "\n",
        "probabilities_valid = modelLogisticRegression.predict_proba(features_valid)\n",
        "probabilities_one_valid = probabilities_valid[:, 1]\n",
        "fpr, tpr, thresholds = roc_curve(target_valid, probabilities_one_valid)\n",
        "auc_roc = roc_auc_score(target_valid, probabilities_one_valid)\n",
        "print('AUC-ROC LogisticRegression',auc_roc)\n",
        "plt.plot(fpr, tpr, label='LogisticRegression')\n",
        "\n",
        "\n",
        "probabilities_valid = model.predict_proba(features_valid)\n",
        "probabilities_one_valid = probabilities_valid[:, 1]\n",
        "fpr, tpr, thresholds = roc_curve(target_valid, probabilities_one_valid)\n",
        "auc_roc = roc_auc_score(target_valid, probabilities_one_valid)\n",
        "print('AUC-ROC GaussianNB',auc_roc)\n",
        "plt.plot(fpr, tpr, label='GaussianNB')\n",
        "\n",
        "plt.xlim([0,1])\n",
        "plt.ylim([0,1])\n",
        "\n",
        "plt.xlabel(\"False Positive Rate\")\n",
        "plt.ylabel(\"True Positive Rate\")\n",
        "\n",
        "plt.legend(loc='lower right', fontsize='x-large')\n",
        "\n",
        "plt.title(\"ROC-кривая\")\n",
        "plt.show()"
      ]
    },
    {
      "cell_type": "markdown",
      "metadata": {
        "id": "uGXxyFpJKIQ_"
      },
      "source": [
        "По результатам искомая метрика f1 и также AUC-ROC лучшая на случаном лесе (и близка к модели решающего дерева)."
      ]
    },
    {
      "cell_type": "markdown",
      "metadata": {
        "id": "SOdTP0yYKIRA"
      },
      "source": [
        "### Вывод \n",
        "\n",
        "В данных сущестует дисбаланс классов в отношении 1:4.\n",
        "\n",
        "Возможно дисбаланс классов влияет на качество изучаемых моделей.\n",
        "\n",
        "Все модели имеют метрики: полноту (recall) ниже, чем точность (percision), из-за перекоса данных, что влияет на F-меру."
      ]
    },
    {
      "cell_type": "markdown",
      "metadata": {
        "id": "TliihlNoKIRA"
      },
      "source": [
        "## Борьба с дисбалансом"
      ]
    },
    {
      "cell_type": "markdown",
      "metadata": {
        "id": "nCsdoeomKIRA"
      },
      "source": [
        "Для борьбы с дисбалансом выполним сравнение моделей:\n",
        "\n",
        "* С взвешенными классами\n",
        "* С уменьшенной выборкой\n",
        "* С увеличенной выборкой"
      ]
    },
    {
      "cell_type": "markdown",
      "metadata": {
        "id": "oZ41V7B3KIRA"
      },
      "source": [
        "### Возможности моделей по взвешиванию классов"
      ]
    },
    {
      "cell_type": "code",
      "execution_count": null,
      "metadata": {
        "id": "TNCMK1IOKIRB",
        "outputId": "f3e1f234-1e2f-4044-8718-9ec61578f9f7"
      },
      "outputs": [
        {
          "name": "stdout",
          "output_type": "stream",
          "text": [
            "AUC-ROC DecisionTreeClassifier 0.8347218956611495\n",
            "Решающее дерево\n",
            "Точность попадания по классам 0.8535\n",
            "Precision 0.7536764705882353\n",
            "Recall 0.4756380510440835\n",
            "F1 0.5832147937411095\n",
            "\n",
            "AUC-ROC RandomForestClassifier 0.8552006021539722\n",
            "Случайный лес\n",
            "Точность попадания по классам 0.867\n",
            "Precision 0.8066914498141264\n",
            "Recall 0.5034802784222738\n",
            "F1 0.62\n",
            "\n",
            "AUC-ROC LogisticRegression 0.7715127344030736\n",
            "Логистическая регрессия\n",
            "Точность попадания по классам 0.7015\n",
            "Precision 0.3954659949622166\n",
            "Recall 0.728538283062645\n",
            "F1 0.5126530612244897\n",
            "\n",
            "CPU times: user 2.24 s, sys: 192 ms, total: 2.43 s\n",
            "Wall time: 2.39 s\n"
          ]
        }
      ],
      "source": [
        "%%time\n",
        "\n",
        "modelDecisionTreeC = DecisionTreeClassifier(random_state=21032022, max_depth=6, class_weight='balanced')\n",
        "modelDecisionTreeC.fit(features_train, target_train)\n",
        "predicted_valid = modelDecisionTree.predict(features_valid)\n",
        "probabilities_valid = modelDecisionTree.predict_proba(features_valid)\n",
        "probabilities_one_valid = probabilities_valid[:, 1]\n",
        "fpr, tpr, thresholds = roc_curve(target_valid, probabilities_one_valid)\n",
        "auc_roc = roc_auc_score(target_valid, probabilities_one_valid)\n",
        "print('AUC-ROC DecisionTreeClassifier',auc_roc)\n",
        "print('Решающее дерево')\n",
        "print('Точность попадания по классам', accuracy_score(target_valid, predicted_valid))\n",
        "print('Precision', precision_score(target_valid, predicted_valid))\n",
        "print('Recall', recall_score(target_valid, predicted_valid))\n",
        "print('F1', f1_score(target_valid, predicted_valid))\n",
        "print()\n",
        "\n",
        "modelRandomForest = RandomForestClassifier(random_state=21032022, n_estimators=183, class_weight='balanced')\n",
        "modelRandomForest.fit(features_train, target_train)\n",
        "predicted_valid = modelRandomForest.predict(features_valid)\n",
        "probabilities_valid = modelRandomForest.predict_proba(features_valid)\n",
        "probabilities_one_valid = probabilities_valid[:, 1]\n",
        "fpr, tpr, thresholds = roc_curve(target_valid, probabilities_one_valid)\n",
        "auc_roc = roc_auc_score(target_valid, probabilities_one_valid)\n",
        "print('AUC-ROC RandomForestClassifier',auc_roc)\n",
        "print('Случайный лес')\n",
        "print('Точность попадания по классам', accuracy_score(target_valid, predicted_valid))\n",
        "print('Precision', precision_score(target_valid, predicted_valid))\n",
        "print('Recall', recall_score(target_valid, predicted_valid))\n",
        "print('F1', f1_score(target_valid, predicted_valid))\n",
        "print()\n",
        "\n",
        "modelLogisticRegression = LogisticRegression(random_state=21032022, solver='liblinear', class_weight='balanced')\n",
        "modelLogisticRegression.fit(features_train, target_train)\n",
        "predicted_valid = modelLogisticRegression.predict(features_valid)\n",
        "probabilities_valid = modelLogisticRegression.predict_proba(features_valid)\n",
        "probabilities_one_valid = probabilities_valid[:, 1]\n",
        "fpr, tpr, thresholds = roc_curve(target_valid, probabilities_one_valid)\n",
        "auc_roc = roc_auc_score(target_valid, probabilities_one_valid)\n",
        "print('AUC-ROC LogisticRegression',auc_roc)\n",
        "print('Логистическая регрессия')\n",
        "print('Точность попадания по классам', accuracy_score(target_valid, predicted_valid))\n",
        "print('Precision', precision_score(target_valid, predicted_valid))\n",
        "print('Recall', recall_score(target_valid, predicted_valid))\n",
        "print('F1', f1_score(target_valid, predicted_valid))\n",
        "print()"
      ]
    },
    {
      "cell_type": "markdown",
      "metadata": {
        "id": "M-esHNNgKIRB"
      },
      "source": [
        "F-мера упала у решающего дерева и случайного леса, но выросла очень сильно у логистической регресии почти до искомой по проекту. \n",
        "\n",
        "Также f1 (0.62) у случайного леса остается в пределе выполнения поставленной в проекте задачи (Цель проекта в f1 > 0.59).\n"
      ]
    },
    {
      "cell_type": "markdown",
      "metadata": {
        "id": "FnG9Z2x9KIRC"
      },
      "source": [
        "### Исследование способа уменьшения значений класса 0."
      ]
    },
    {
      "cell_type": "code",
      "execution_count": null,
      "metadata": {
        "id": "koUixOOpKIRC",
        "outputId": "a0a995c8-274f-49f2-f255-22d1b3890ee9"
      },
      "outputs": [
        {
          "name": "stdout",
          "output_type": "stream",
          "text": [
            "1    1202\n",
            "0    1200\n",
            "Name: Exited, dtype: int64\n"
          ]
        }
      ],
      "source": [
        "def downsample(features, target, fraction):\n",
        "    features_zeros = features[target == 0]\n",
        "    features_ones = features[target == 1]\n",
        "    target_zeros = target[target == 0]\n",
        "    target_ones = target[target == 1]\n",
        "\n",
        "    features_downsampled = pd.concat(\n",
        "        [features_zeros.sample(frac=fraction, random_state=21032022)] + [features_ones])\n",
        "    target_downsampled = pd.concat(\n",
        "        [target_zeros.sample(frac=fraction, random_state=21032022)] + [target_ones])\n",
        "    \n",
        "    features_downsampled, target_downsampled = shuffle(\n",
        "        features_downsampled, target_downsampled, random_state=21032022)\n",
        "    \n",
        "    return features_downsampled, target_downsampled\n",
        "\n",
        "features_downsampled, target_downsampled = downsample(features_train, target_train, 0.25)\n",
        "\n",
        "print(target_downsampled.value_counts())"
      ]
    },
    {
      "cell_type": "markdown",
      "metadata": {
        "id": "2eojSqXLKIRC"
      },
      "source": [
        "Функция для уменьшения значений классов"
      ]
    },
    {
      "cell_type": "code",
      "execution_count": null,
      "metadata": {
        "id": "IjLe3_O7KIRD",
        "outputId": "9b832916-edf8-4062-fc3f-2e437d11e562"
      },
      "outputs": [
        {
          "name": "stdout",
          "output_type": "stream",
          "text": [
            "AUC-ROC DecisionTreeClassifier 0.8245021360791083\n",
            "Решающее дерево\n",
            "Точность попадания по классам 0.775\n",
            "Precision 0.48575712143928035\n",
            "Recall 0.7517401392111369\n",
            "F1 0.5901639344262295\n",
            "\n",
            "AUC-ROC RandomForestClassifier 0.85276803023783\n",
            "Случайный лес\n",
            "Точность попадания по классам 0.7775\n",
            "Precision 0.4895833333333333\n",
            "Recall 0.7633410672853829\n",
            "F1 0.5965548504079783\n",
            "\n",
            "AUC-ROC LogisticRegression 0.726315696077866\n",
            "Логистическая регрессия\n",
            "Точность попадания по классам 0.6575\n",
            "Precision 0.3553530751708428\n",
            "Recall 0.7238979118329466\n",
            "F1 0.4766997708174179\n",
            "\n",
            "CPU times: user 1.24 s, sys: 100 ms, total: 1.34 s\n",
            "Wall time: 1.36 s\n"
          ]
        }
      ],
      "source": [
        "%%time\n",
        "\n",
        "modelDecisionTree = DecisionTreeClassifier(random_state=21032022, max_depth=7)\n",
        "modelDecisionTree.fit(features_downsampled, target_downsampled)\n",
        "predicted_valid = modelDecisionTree.predict(features_valid)\n",
        "\n",
        "probabilities_valid = modelDecisionTree.predict_proba(features_valid)\n",
        "probabilities_one_valid = probabilities_valid[:, 1]\n",
        "fpr, tpr, thresholds = roc_curve(target_valid, probabilities_one_valid)\n",
        "auc_roc = roc_auc_score(target_valid, probabilities_one_valid)\n",
        "print('AUC-ROC DecisionTreeClassifier',auc_roc)\n",
        "\n",
        "print('Решающее дерево')\n",
        "print('Точность попадания по классам', accuracy_score(target_valid, predicted_valid))\n",
        "print('Precision', precision_score(target_valid, predicted_valid))\n",
        "print('Recall', recall_score(target_valid, predicted_valid))\n",
        "print('F1', f1_score(target_valid, predicted_valid))\n",
        "print()\n",
        "\n",
        "\n",
        "modelRandomForest = RandomForestClassifier(random_state=21032022, n_estimators=183)\n",
        "modelRandomForest.fit(features_downsampled, target_downsampled)\n",
        "predicted_valid = modelRandomForest.predict(features_valid)\n",
        "\n",
        "probabilities_valid = modelRandomForest.predict_proba(features_valid)\n",
        "probabilities_one_valid = probabilities_valid[:, 1]\n",
        "fpr, tpr, thresholds = roc_curve(target_valid, probabilities_one_valid)\n",
        "auc_roc = roc_auc_score(target_valid, probabilities_one_valid)\n",
        "print('AUC-ROC RandomForestClassifier',auc_roc)\n",
        "\n",
        "print('Случайный лес')\n",
        "print('Точность попадания по классам', accuracy_score(target_valid, predicted_valid))\n",
        "print('Precision', precision_score(target_valid, predicted_valid))\n",
        "print('Recall', recall_score(target_valid, predicted_valid))\n",
        "print('F1', f1_score(target_valid, predicted_valid))\n",
        "print()\n",
        "\n",
        "\n",
        "\n",
        "modelLogisticRegression = LogisticRegression(random_state=21032022, solver='liblinear')\n",
        "modelLogisticRegression.fit(features_downsampled, target_downsampled)\n",
        "predicted_valid = modelLogisticRegression.predict(features_valid)\n",
        "\n",
        "probabilities_valid = modelLogisticRegression.predict_proba(features_valid)\n",
        "probabilities_one_valid = probabilities_valid[:, 1]\n",
        "fpr, tpr, thresholds = roc_curve(target_valid, probabilities_one_valid)\n",
        "auc_roc = roc_auc_score(target_valid, probabilities_one_valid)\n",
        "print('AUC-ROC LogisticRegression',auc_roc)\n",
        "\n",
        "print('Логистическая регрессия')\n",
        "print('Точность попадания по классам', accuracy_score(target_valid, predicted_valid))\n",
        "print('Precision', precision_score(target_valid, predicted_valid))\n",
        "print('Recall', recall_score(target_valid, predicted_valid))\n",
        "print('F1', f1_score(target_valid, predicted_valid))\n",
        "print()"
      ]
    },
    {
      "cell_type": "markdown",
      "metadata": {
        "id": "4vdp0VuXKIRD"
      },
      "source": [
        "### Исследование методов увеличения класса 1"
      ]
    },
    {
      "cell_type": "code",
      "execution_count": null,
      "metadata": {
        "id": "kOAx5QmvKIRE",
        "outputId": "f72be3b2-afd7-4af0-f9c4-167b812adda3"
      },
      "outputs": [
        {
          "name": "stdout",
          "output_type": "stream",
          "text": [
            "1    4808\n",
            "0    4798\n",
            "Name: Exited, dtype: int64\n"
          ]
        }
      ],
      "source": [
        "def upsample(features, target, repeat):\n",
        "    features_zeros = features[target == 0]\n",
        "    features_ones = features[target == 1]\n",
        "    target_zeros = target[target == 0]\n",
        "    target_ones = target[target == 1]\n",
        "\n",
        "    features_upsampled = pd.concat([features_zeros] + [features_ones] * repeat)\n",
        "    target_upsampled = pd.concat([target_zeros] + [target_ones] * repeat)\n",
        "    \n",
        "    features_upsampled, target_upsampled = shuffle(\n",
        "        features_upsampled, target_upsampled, random_state=21032022)\n",
        "    \n",
        "    return features_upsampled, target_upsampled\n",
        "\n",
        "features_upsampled, target_upsampled = upsample(features_train, target_train, 4)\n",
        "\n",
        "print(target_upsampled.value_counts())"
      ]
    },
    {
      "cell_type": "markdown",
      "metadata": {
        "id": "07a6iOR-KIRE"
      },
      "source": [
        "Функция для увеличения значений классов"
      ]
    },
    {
      "cell_type": "code",
      "execution_count": null,
      "metadata": {
        "id": "7tPaBRHiKIRE",
        "outputId": "4a2b80ba-054c-4e44-f13e-d2594c55300e"
      },
      "outputs": [
        {
          "name": "stdout",
          "output_type": "stream",
          "text": [
            "AUC-ROC DecisionTreeClassifier 0.8246559278598247\n",
            "Решающее дерево\n",
            "Точность попадания по классам 0.756\n",
            "Precision 0.4596888260254597\n",
            "Recall 0.7540603248259861\n",
            "F1 0.5711775043936731\n",
            "\n",
            "AUC-ROC RandomForestClassifier 0.8556331415372377\n",
            "Случайный лес\n",
            "Точность попадания по классам 0.857\n",
            "Precision 0.6975476839237057\n",
            "Recall 0.5939675174013921\n",
            "F1 0.6416040100250625\n",
            "\n",
            "AUC-ROC LogisticRegression 0.7291430988156554\n",
            "Логистическая регрессия\n",
            "Точность попадания по классам 0.663\n",
            "Precision 0.3588850174216028\n",
            "Recall 0.7169373549883991\n",
            "F1 0.47832817337461303\n",
            "\n",
            "CPU times: user 4.02 s, sys: 100 ms, total: 4.12 s\n",
            "Wall time: 4.15 s\n"
          ]
        }
      ],
      "source": [
        "%%time\n",
        "\n",
        "modelDecisionTree = DecisionTreeClassifier(random_state=21032022, max_depth=7)\n",
        "modelDecisionTree.fit(features_upsampled, target_upsampled)\n",
        "predicted_valid = modelDecisionTree.predict(features_valid\n",
        "                                           )\n",
        "probabilities_valid = modelDecisionTree.predict_proba(features_valid)\n",
        "probabilities_one_valid = probabilities_valid[:, 1]\n",
        "fpr, tpr, thresholds = roc_curve(target_valid, probabilities_one_valid)\n",
        "auc_roc = roc_auc_score(target_valid, probabilities_one_valid)\n",
        "print('AUC-ROC DecisionTreeClassifier',auc_roc)\n",
        "\n",
        "print('Решающее дерево')\n",
        "print('Точность попадания по классам', accuracy_score(target_valid, predicted_valid))\n",
        "print('Precision', precision_score(target_valid, predicted_valid))\n",
        "print('Recall', recall_score(target_valid, predicted_valid))\n",
        "print('F1', f1_score(target_valid, predicted_valid))\n",
        "print()\n",
        "\n",
        "\n",
        "modelRandomForest = RandomForestClassifier(random_state=21032022, n_estimators=183)\n",
        "modelRandomForest.fit(features_upsampled, target_upsampled)\n",
        "predicted_valid = modelRandomForest.predict(features_valid)\n",
        "\n",
        "probabilities_valid = modelRandomForest.predict_proba(features_valid)\n",
        "probabilities_one_valid = probabilities_valid[:, 1]\n",
        "fpr, tpr, thresholds = roc_curve(target_valid, probabilities_one_valid)\n",
        "auc_roc = roc_auc_score(target_valid, probabilities_one_valid)\n",
        "print('AUC-ROC RandomForestClassifier',auc_roc)\n",
        "\n",
        "print('Случайный лес')\n",
        "print('Точность попадания по классам', accuracy_score(target_valid, predicted_valid))\n",
        "print('Precision', precision_score(target_valid, predicted_valid))\n",
        "print('Recall', recall_score(target_valid, predicted_valid))\n",
        "print('F1', f1_score(target_valid, predicted_valid))\n",
        "print()\n",
        "\n",
        "\n",
        "modelLogisticRegression = LogisticRegression(random_state=21032022, solver='liblinear')\n",
        "modelLogisticRegression.fit(features_upsampled, target_upsampled)\n",
        "predicted_valid = modelLogisticRegression.predict(features_valid)\n",
        "\n",
        "probabilities_valid = modelLogisticRegression.predict_proba(features_valid)\n",
        "probabilities_one_valid = probabilities_valid[:, 1]\n",
        "fpr, tpr, thresholds = roc_curve(target_valid, probabilities_one_valid)\n",
        "auc_roc = roc_auc_score(target_valid, probabilities_one_valid)\n",
        "print('AUC-ROC LogisticRegression',auc_roc)\n",
        "\n",
        "print('Логистическая регрессия')\n",
        "print('Точность попадания по классам', accuracy_score(target_valid, predicted_valid))\n",
        "print('Precision', precision_score(target_valid, predicted_valid))\n",
        "print('Recall', recall_score(target_valid, predicted_valid))\n",
        "print('F1', f1_score(target_valid, predicted_valid))\n",
        "print()"
      ]
    },
    {
      "cell_type": "markdown",
      "metadata": {
        "id": "Ne7xWdSRKIRE"
      },
      "source": [
        "F-мера стала лучше у случайного леса, логистической регресии и гаусовской модели по сравнению с дисбалансными данными. \n",
        "\n",
        "Лучшей моделью по F-мера стал случайны лес с тренировочными данными, где увеличен класс 1.\n",
        "\n",
        "Также f1 (0.6416040100250625) у случайного леса остается в пределе выполнения поставленной в проекте задачи (Цель проекта в f1 > 0.59)"
      ]
    },
    {
      "cell_type": "code",
      "execution_count": null,
      "metadata": {
        "id": "bRpam_GIKIRF",
        "outputId": "0fd507e6-2ecd-4a52-f3ab-61e69328cf73",
        "scrolled": false
      },
      "outputs": [
        {
          "name": "stdout",
          "output_type": "stream",
          "text": [
            "AUC-ROC DecisionTreeClassifier 0.8246559278598247\n",
            "AUC-ROC RandomForestClassifier 0.8556331415372377\n",
            "AUC-ROC LogisticRegression 0.7291430988156554\n",
            "AUC-ROC GaussianNB 0.7545690207160485\n"
          ]
        },
        {
          "data": {
            "image/png": "[encoded data removed]",
            "text/plain": [
              "<Figure size 1080x720 with 1 Axes>"
            ]
          },
          "metadata": {
            "needs_background": "light"
          },
          "output_type": "display_data"
        },
        {
          "name": "stdout",
          "output_type": "stream",
          "text": [
            "CPU times: user 605 ms, sys: 120 ms, total: 726 ms\n",
            "Wall time: 749 ms\n"
          ]
        }
      ],
      "source": [
        "%%time\n",
        "\n",
        "plt.figure(figsize=[15,10])\n",
        "\n",
        "plt.plot([0, 1], [0, 1], linestyle='--', label='RandomModel')\n",
        "\n",
        "\n",
        "\n",
        "probabilities_valid = modelDecisionTree.predict_proba(features_valid)\n",
        "probabilities_one_valid = probabilities_valid[:, 1]\n",
        "fpr, tpr, thresholds = roc_curve(target_valid, probabilities_one_valid)\n",
        "auc_roc = roc_auc_score(target_valid, probabilities_one_valid)\n",
        "print('AUC-ROC DecisionTreeClassifier',auc_roc)\n",
        "plt.plot(fpr, tpr, label='DecisionTreeClassifier')\n",
        "\n",
        "\n",
        "probabilities_valid = modelRandomForest.predict_proba(features_valid)\n",
        "probabilities_one_valid = probabilities_valid[:, 1]\n",
        "fpr, tpr, thresholds = roc_curve(target_valid, probabilities_one_valid)\n",
        "auc_roc = roc_auc_score(target_valid, probabilities_one_valid)\n",
        "print('AUC-ROC RandomForestClassifier',auc_roc)\n",
        "plt.plot(fpr, tpr, label='RandomForestClassifier')\n",
        "\n",
        "\n",
        "probabilities_valid = modelLogisticRegression.predict_proba(features_valid)\n",
        "probabilities_one_valid = probabilities_valid[:, 1]\n",
        "fpr, tpr, thresholds = roc_curve(target_valid, probabilities_one_valid)\n",
        "auc_roc = roc_auc_score(target_valid, probabilities_one_valid)\n",
        "print('AUC-ROC LogisticRegression',auc_roc)\n",
        "plt.plot(fpr, tpr, label='LogisticRegression')\n",
        "\n",
        "\n",
        "probabilities_valid = model.predict_proba(features_valid)\n",
        "probabilities_one_valid = probabilities_valid[:, 1]\n",
        "fpr, tpr, thresholds = roc_curve(target_valid, probabilities_one_valid)\n",
        "auc_roc = roc_auc_score(target_valid, probabilities_one_valid)\n",
        "print('AUC-ROC GaussianNB',auc_roc)\n",
        "plt.plot(fpr, tpr, label='GaussianNB')\n",
        "\n",
        "plt.xlim([0,1])\n",
        "plt.ylim([0,1])\n",
        "\n",
        "plt.xlabel(\"False Positive Rate\")\n",
        "plt.ylabel(\"True Positive Rate\")\n",
        "\n",
        "plt.legend(loc='lower right', fontsize='x-large')\n",
        "\n",
        "plt.title(\"ROC-кривая\")\n",
        "plt.show()"
      ]
    },
    {
      "cell_type": "markdown",
      "metadata": {
        "id": "D8YuOgZOKIRF"
      },
      "source": [
        "Вывод ROC-кривой и AUC-ROC для посленнего измененного баланса."
      ]
    },
    {
      "cell_type": "markdown",
      "metadata": {
        "id": "KE62D2IWKIRG"
      },
      "source": [
        "### Вывод\n",
        "\n",
        "Дисбаланс повлиял на модели в худшую сторону. Лучшим решением стало увеличение классов 1 в тренировочной выборке.\n",
        "\n",
        "Выравние классов в выборке привело к резкому росту метрики полнота (recall) и небольшому понижению точности (percison). \n",
        "В целом F-мера выросла по моделям."
      ]
    },
    {
      "cell_type": "markdown",
      "metadata": {
        "id": "1CuBBJaBKIRG"
      },
      "source": [
        "## Тестирование модели"
      ]
    },
    {
      "cell_type": "markdown",
      "metadata": {
        "id": "eYTKn0JsKIRH"
      },
      "source": [
        " ### гиперпараметр n_estimators"
      ]
    },
    {
      "cell_type": "code",
      "execution_count": null,
      "metadata": {
        "id": "5egdZz36KIRH",
        "outputId": "0387cd77-c8ff-4247-b042-11fd8e2bcb72"
      },
      "outputs": [
        {
          "name": "stdout",
          "output_type": "stream",
          "text": [
            "N estimators 10 F1 0.6030927835051546\n",
            "N estimators 20 F1 0.6187419768934532\n",
            "N estimators 30 F1 0.6314465408805031\n",
            "N estimators 40 F1 0.6415094339622641\n",
            "N estimators 50 F1 0.6458072590738423\n",
            "N estimators 60 F1 0.6466165413533834\n",
            "N estimators 70 F1 0.641697877652934\n",
            "N estimators 80 F1 0.6323713927227101\n",
            "N estimators 90 F1 0.6338383838383839\n",
            "N estimators 100 F1 0.635678391959799\n",
            "N estimators 110 F1 0.6331658291457287\n",
            "N estimators 120 F1 0.6337135614702155\n",
            "N estimators 130 F1 0.6329113924050634\n",
            "N estimators 140 F1 0.6364779874213835\n",
            "N estimators 150 F1 0.6347607052896725\n",
            "N estimators 160 F1 0.6382978723404257\n",
            "N estimators 170 F1 0.6407035175879398\n",
            "N estimators 180 F1 0.6431273644388399\n",
            "N estimators 190 F1 0.6447534766118838\n",
            "N estimators 200 F1 0.642409033877039\n",
            "N estimators 210 F1 0.6398996235884568\n",
            "N estimators 220 F1 0.6458072590738423\n",
            "N estimators 230 F1 0.6466165413533834\n",
            "N estimators 240 F1 0.644918444165621\n",
            "N estimators 250 F1 0.6457286432160804\n",
            "N estimators 260 F1 0.6432160804020101\n",
            "N estimators 270 F1 0.6408010012515645\n",
            "N estimators 280 F1 0.6425000000000001\n",
            "N estimators 290 F1 0.6458852867830424\n",
            "N estimators 300 F1 0.6416040100250625\n",
            "N estimators 310 F1 0.6407035175879398\n",
            "N estimators 320 F1 0.6416040100250625\n",
            "N estimators 330 F1 0.644918444165621\n",
            "N estimators 340 F1 0.6433041301627035\n",
            "N estimators 350 F1 0.6433041301627035\n",
            "N estimators 360 F1 0.6408010012515645\n",
            "N estimators 370 F1 0.6433041301627035\n",
            "N estimators 380 F1 0.6416040100250625\n",
            "N estimators 390 F1 0.642409033877039\n",
            "N estimators 400 F1 0.6458072590738423\n",
            "N estimators 410 F1 0.6466165413533834\n",
            "N estimators 420 F1 0.644918444165621\n",
            "N estimators 430 F1 0.6465408805031447\n",
            "N estimators 440 F1 0.6466165413533834\n",
            "N estimators 450 F1 0.6457286432160804\n",
            "N estimators 460 F1 0.6440251572327044\n",
            "N estimators 470 F1 0.6448362720403022\n",
            "N estimators 480 F1 0.6440251572327044\n",
            "N estimators 490 F1 0.6457286432160804\n",
            "N estimator: 60 Лучшая f1_score 0.6466165413533834\n",
            "CPU times: user 3min 16s, sys: 706 ms, total: 3min 17s\n",
            "Wall time: 3min 27s\n"
          ]
        }
      ],
      "source": [
        "%%time\n",
        "\n",
        "best_est = 0\n",
        "best_f1_score = 0\n",
        "\n",
        "for estimator in range(10, 500, 10):\n",
        "    modelRandomForest =  RandomForestClassifier(random_state=21032022, n_estimators=estimator)\n",
        "    modelRandomForest.fit(features_upsampled, target_upsampled)\n",
        "    predicted_valid = modelRandomForest.predict(features_valid)\n",
        "    f1_score_value = f1_score(target_valid, predicted_valid)\n",
        "    print('N estimators', estimator,'F1', f1_score_value)\n",
        "    if f1_score_value > best_f1_score:\n",
        "        best_est = estimator\n",
        "        best_f1_score = f1_score_value\n",
        "\n",
        "print('N estimator:', best_est, 'Лучшая f1_score', best_f1_score)"
      ]
    },
    {
      "cell_type": "markdown",
      "metadata": {
        "id": "DjwK5ETrKIRH"
      },
      "source": [
        "Лучший результат лежит в диапазоне 50-71."
      ]
    },
    {
      "cell_type": "code",
      "execution_count": null,
      "metadata": {
        "id": "zEV15UEoKIRH",
        "outputId": "869f6c42-b3ee-4c6e-f03f-dcc90fc8129f"
      },
      "outputs": [
        {
          "name": "stdout",
          "output_type": "stream",
          "text": [
            "N estimators 50 F1 0.6458072590738423\n",
            "N estimators 51 F1 0.6458852867830424\n",
            "N estimators 52 F1 0.6483103879849811\n",
            "N estimators 53 F1 0.6466916354556804\n",
            "N estimators 54 F1 0.6458072590738423\n",
            "N estimators 55 F1 0.6468401486988848\n",
            "N estimators 56 F1 0.6441102756892231\n",
            "N estimators 57 F1 0.6468401486988848\n",
            "N estimators 58 F1 0.6483103879849811\n",
            "N estimators 59 F1 0.6475716064757161\n",
            "N estimators 60 F1 0.6466165413533834\n",
            "N estimators 61 F1 0.6475716064757161\n",
            "N estimators 62 F1 0.6483103879849811\n",
            "N estimators 63 F1 0.6467661691542288\n",
            "N estimators 64 F1 0.6450000000000001\n",
            "N estimators 65 F1 0.6425902864259029\n",
            "N estimators 66 F1 0.642409033877039\n",
            "N estimators 67 F1 0.640198511166253\n",
            "N estimators 68 F1 0.6399999999999999\n",
            "N estimators 69 F1 0.6409937888198758\n",
            "N estimators 70 F1 0.641697877652934\n",
            "N estimator: 52 Лучшая f1_score 0.6483103879849811\n",
            "CPU times: user 21.2 s, sys: 52.1 ms, total: 21.3 s\n",
            "Wall time: 21.4 s\n"
          ]
        }
      ],
      "source": [
        "%%time\n",
        "\n",
        "best_est = 0\n",
        "best_f1_score = 0\n",
        "\n",
        "for estimator in range(50, 71, 1):\n",
        "    modelRandomForest =  RandomForestClassifier(random_state=21032022, n_estimators=estimator)\n",
        "    modelRandomForest.fit(features_upsampled, target_upsampled)\n",
        "    predicted_valid = modelRandomForest.predict(features_valid)\n",
        "    f1_score_value = f1_score(target_valid, predicted_valid)\n",
        "    print('N estimators', estimator,'F1', f1_score_value)\n",
        "    if f1_score_value > best_f1_score:\n",
        "        best_est = estimator\n",
        "        best_f1_score = f1_score_value\n",
        "\n",
        "print('N estimator:', best_est, 'Лучшая f1_score', best_f1_score)"
      ]
    },
    {
      "cell_type": "markdown",
      "metadata": {
        "id": "Bwsaa08_KIRH"
      },
      "source": [
        "N estimator: 52 Лучшая f1_score 0.6483103879849811"
      ]
    },
    {
      "cell_type": "code",
      "execution_count": null,
      "metadata": {
        "id": "8B87UV7EKIRI",
        "outputId": "200c48c4-5213-44c5-be89-95d04026bbf2"
      },
      "outputs": [
        {
          "name": "stdout",
          "output_type": "stream",
          "text": [
            "F1 0.6364779874213835\n",
            "CPU times: user 2.2 s, sys: 12 ms, total: 2.21 s\n",
            "Wall time: 2.23 s\n"
          ]
        }
      ],
      "source": [
        "%%time\n",
        "\n",
        "modelRandomForest =  RandomForestClassifier(random_state=21032022, n_estimators=130, criterion='entropy')\n",
        "modelRandomForest.fit(features_upsampled, target_upsampled)\n",
        "predicted_valid = modelRandomForest.predict(features_valid)\n",
        "print('F1', f1_score(target_valid, predicted_valid))"
      ]
    },
    {
      "cell_type": "markdown",
      "metadata": {
        "id": "baVy3Q2lKIRI"
      },
      "source": [
        "### гиперпараметр min_samples_split"
      ]
    },
    {
      "cell_type": "code",
      "execution_count": null,
      "metadata": {
        "id": "TL1W-7J7KIRI",
        "outputId": "e587626d-e319-480c-a92a-3a76fdeb2433"
      },
      "outputs": [
        {
          "name": "stdout",
          "output_type": "stream",
          "text": [
            "Samples_split 0.1 F1 0.6119815668202765\n",
            "Samples_split 0.2 F1 0.5958219800181652\n",
            "Samples_split 0.3 F1 0.5931899641577061\n",
            "Samples_split 0.4 F1 0.5853227232537578\n",
            "Samples_split 0.5 F1 0.575812274368231\n",
            "Samples_split 0.6 F1 0.5752448797862867\n",
            "Samples_split 0.7 F1 0.3545865898807075\n",
            "Samples_split 0.8 F1 0.3545865898807075\n",
            "Samples_split 0.9 F1 0.3545865898807075\n",
            "Samples_split 1.0 F1 0.3545865898807075\n",
            "Samples_split 2 F1 0.641697877652934\n",
            "Samples_split 3 F1 0.6458072590738423\n",
            "Samples_split 4 F1 0.6349999999999999\n",
            "Samples_split 5 F1 0.6398046398046399\n",
            "Samples_split 6 F1 0.6447688564476887\n",
            "Samples_split 7 F1 0.637125748502994\n",
            "Samples_split 8 F1 0.6240963855421687\n",
            "Samples_split 9 F1 0.6588235294117647\n",
            "Samples_split 10 F1 0.6487747957992999\n",
            "CPU times: user 12.6 s, sys: 60.1 ms, total: 12.7 s\n",
            "Wall time: 12.7 s\n"
          ]
        }
      ],
      "source": [
        "%%time\n",
        "\n",
        "for samples_split in range(1, 11):\n",
        "    modelRandomForest =  RandomForestClassifier(random_state=21032022, n_estimators=estimator, min_samples_split=samples_split/10)\n",
        "    modelRandomForest.fit(features_upsampled, target_upsampled)\n",
        "    predicted_valid = modelRandomForest.predict(features_valid)\n",
        "    print('Samples_split', samples_split/10,'F1', f1_score(target_valid, predicted_valid))\n",
        "    \n",
        "for samples_split in range(2, 11):\n",
        "    modelRandomForest =  RandomForestClassifier(random_state=21032022, n_estimators=estimator, min_samples_split=samples_split)\n",
        "    modelRandomForest.fit(features_upsampled, target_upsampled)\n",
        "    predicted_valid = modelRandomForest.predict(features_valid)\n",
        "    print('Samples_split', samples_split,'F1', f1_score(target_valid, predicted_valid))"
      ]
    },
    {
      "cell_type": "markdown",
      "metadata": {
        "id": "JHb5gxXOKIRI"
      },
      "source": [
        "Лучший F1 получен при min_samples_split=9 \n",
        "\n",
        "F1 (0.6588235294117647)"
      ]
    },
    {
      "cell_type": "markdown",
      "metadata": {
        "id": "YjC0VQoXKIRJ"
      },
      "source": [
        "### Гиперпараметр min_samples_leaf"
      ]
    },
    {
      "cell_type": "code",
      "execution_count": null,
      "metadata": {
        "id": "SH2A8XWjKIRJ",
        "outputId": "30c9d3ac-2d7d-4340-a97b-b6b79e2b6330"
      },
      "outputs": [
        {
          "name": "stdout",
          "output_type": "stream",
          "text": [
            "Samples_leaf 0.1 F1 0.11507936507936507\n",
            "Samples_leaf 0.2 F1 0.11507936507936507\n",
            "Samples_leaf 0.3 F1 0.11507936507936507\n",
            "Samples_leaf 0.4 F1 0.11507936507936507\n",
            "Samples_leaf 0.5 F1 0.11507936507936507\n",
            "Samples_leaf 1 F1 0.11507936507936507\n",
            "Samples_leaf 2 F1 0.11507936507936507\n",
            "Samples_leaf 3 F1 0.11507936507936507\n",
            "Samples_leaf 4 F1 0.11507936507936507\n",
            "Samples_leaf 5 F1 0.11507936507936507\n",
            "Samples_leaf 6 F1 0.11507936507936507\n",
            "Samples_leaf 7 F1 0.11507936507936507\n",
            "Samples_leaf 8 F1 0.11507936507936507\n",
            "Samples_leaf 9 F1 0.11507936507936507\n",
            "Samples_leaf 10 F1 0.11507936507936507\n",
            "CPU times: user 14.5 s, sys: 24 ms, total: 14.6 s\n",
            "Wall time: 14.7 s\n"
          ]
        }
      ],
      "source": [
        "%%time\n",
        "\n",
        "for samples_leaf in range(1, 6):\n",
        "    modelRandomForest =  RandomForestClassifier(random_state=21032022, n_estimators=estimator, min_samples_split=9, \n",
        "                                    min_samples_leaf= samples_leaf/10)\n",
        "    modelRandomForest.fit(features_upsampled, target_upsampled)\n",
        "    predicted_valid = model.predict(features_valid)\n",
        "    print('Samples_leaf', samples_leaf/10,'F1', f1_score(target_valid, predicted_valid))\n",
        "    \n",
        "for samples_leaf in range(1, 11):\n",
        "    modelRandomForest =  RandomForestClassifier(random_state=21032022, n_estimators=estimator, min_samples_split=9,\n",
        "                                   min_samples_leaf= samples_leaf)\n",
        "    modelRandomForest.fit(features_upsampled, target_upsampled)\n",
        "    predicted_valid = model.predict(features_valid)\n",
        "    print('Samples_leaf', samples_leaf,'F1', f1_score(target_valid, predicted_valid))"
      ]
    },
    {
      "cell_type": "markdown",
      "metadata": {
        "id": "7kT9W-RlKIRJ"
      },
      "source": [
        "Лучший показатель F1 min_samples_leaf = 1\n",
        "\n",
        "(Samples_leaf 1 F1 0.6433041301627035)"
      ]
    },
    {
      "cell_type": "markdown",
      "metadata": {
        "id": "wqB02LoeKIRK"
      },
      "source": [
        "### Проверка на тестовой выборке четырех моделей\n",
        "\n",
        "На дисбалансных данных и сбалансированных: со взвешенными классами, усечением 0 класса и расширением класса 1."
      ]
    },
    {
      "cell_type": "code",
      "execution_count": null,
      "metadata": {
        "id": "j2rvMt-JKIRK",
        "outputId": "5a415e02-36bf-48a0-b43a-1d67b2eb109e"
      },
      "outputs": [
        {
          "name": "stdout",
          "output_type": "stream",
          "text": [
            "Случайный лес - дисбаланс классов\n",
            "Точность попадания по классам 0.8665\n",
            "Precision 0.7729083665338645\n",
            "Recall 0.4801980198019802\n",
            "F1 0.5923664122137404\n",
            "\n",
            "Случайный лес - взвешенные классы\n",
            "Точность попадания по классам 0.8475\n",
            "Precision 0.6443148688046647\n",
            "Recall 0.5470297029702971\n",
            "F1 0.5917001338688086\n",
            "\n",
            "Случайный лес - уменьшенное количество классов 0\n",
            "Точность попадания по классам 0.7805\n",
            "Precision 0.4731182795698925\n",
            "Recall 0.7623762376237624\n",
            "F1 0.5838862559241706\n",
            "\n",
            "Случайный лес - увеличенное количество классов 1\n",
            "Точность попадания по классам 0.8365\n",
            "Precision 0.5974683544303797\n",
            "Recall 0.5841584158415841\n",
            "F1 0.590738423028786\n",
            "\n",
            "CPU times: user 3.64 s, sys: 7.97 ms, total: 3.65 s\n",
            "Wall time: 3.78 s\n"
          ]
        }
      ],
      "source": [
        "%%time\n",
        "\n",
        "modelRandomForest = RandomForestClassifier(random_state=21032022, n_estimators=estimator, min_samples_split=9,\n",
        "                                   min_samples_leaf=1)\n",
        "modelRandomForest.fit(features_train, target_train)\n",
        "predicted_test = modelRandomForest.predict(features_test)\n",
        "print('Случайный лес - дисбаланс классов')\n",
        "print('Точность попадания по классам', accuracy_score(target_test, predicted_test))\n",
        "print('Precision', precision_score(target_test, predicted_test))\n",
        "print('Recall', recall_score(target_test, predicted_test))\n",
        "print('F1', f1_score(target_test, predicted_test))\n",
        "print()\n",
        "\n",
        "modelRandomForest = RandomForestClassifier(random_state=21032022, n_estimators=estimator, min_samples_split=9,\n",
        "                                   min_samples_leaf=1, class_weight='balanced')\n",
        "modelRandomForest.fit(features_train, target_train)\n",
        "predicted_test = modelRandomForest.predict(features_test)\n",
        "print('Случайный лес - взвешенные классы')\n",
        "print('Точность попадания по классам', accuracy_score(target_test, predicted_test))\n",
        "print('Precision', precision_score(target_test, predicted_test))\n",
        "print('Recall', recall_score(target_test, predicted_test))\n",
        "print('F1', f1_score(target_test, predicted_test))\n",
        "print()\n",
        "\n",
        "modelRandomForest = RandomForestClassifier(random_state=21032022, n_estimators=estimator, min_samples_split=9,\n",
        "                                   min_samples_leaf=1)\n",
        "modelRandomForest.fit(features_downsampled, target_downsampled)\n",
        "predicted_test = modelRandomForest.predict(features_test)\n",
        "print('Случайный лес - уменьшенное количество классов 0')\n",
        "print('Точность попадания по классам', accuracy_score(target_test, predicted_test))\n",
        "print('Precision', precision_score(target_test, predicted_test))\n",
        "print('Recall', recall_score(target_test, predicted_test))\n",
        "print('F1', f1_score(target_test, predicted_test))\n",
        "print()\n",
        "\n",
        "modelRandomForest = RandomForestClassifier(random_state=21032022, n_estimators=estimator, min_samples_split=9,\n",
        "                                   min_samples_leaf=1)\n",
        "modelRandomForest.fit(features_upsampled, target_upsampled)\n",
        "predicted_test = modelRandomForest.predict(features_test)\n",
        "print('Случайный лес - увеличенное количество классов 1')\n",
        "print('Точность попадания по классам', accuracy_score(target_test, predicted_test))\n",
        "print('Precision', precision_score(target_test, predicted_test))\n",
        "print('Recall', recall_score(target_test, predicted_test))\n",
        "print('F1', f1_score(target_test, predicted_test))\n",
        "print()"
      ]
    },
    {
      "cell_type": "code",
      "execution_count": null,
      "metadata": {
        "id": "_3-XOSRwKIRL",
        "outputId": "1d6f5bec-0e87-4caa-91fc-b4da40d64980"
      },
      "outputs": [
        {
          "name": "stdout",
          "output_type": "stream",
          "text": [
            "AUC-ROC RandomForestClassifier - disbalanced 0.8522078711630561\n",
            "AUC-ROC RandomForestClassifier - balanced by class weight 0.8522078711630561\n",
            "AUC-ROC RandomForestClassifier - balanced by reduce 0 class 0.8522078711630561\n",
            "AUC-ROC RandomForestClassifier - balanced by grow 1 class 0.8522078711630561\n"
          ]
        },
        {
          "data": {
            "image/png": "[encoded data removed]",
            "text/plain": [
              "<Figure size 1080x720 with 1 Axes>"
            ]
          },
          "metadata": {
            "needs_background": "light"
          },
          "output_type": "display_data"
        },
        {
          "name": "stdout",
          "output_type": "stream",
          "text": [
            "CPU times: user 936 ms, sys: 32.1 ms, total: 968 ms\n",
            "Wall time: 1.08 s\n"
          ]
        }
      ],
      "source": [
        "%%time\n",
        "\n",
        "plt.figure(figsize=[15,10])\n",
        "\n",
        "plt.plot([0, 1], [0, 1], linestyle='--', label='RandomModel')\n",
        "\n",
        "\n",
        "# modelRandomForest = RandomForestClassifier(random_state=21032022, n_estimators=estimator, min_samples_split=9,\n",
        "#                                   min_samples_leaf=1)\n",
        "# modelRandomForest.fit(features_train, target_train)\n",
        "predicted_test = modelRandomForest.predict(features_test)\n",
        "probabilities_test = modelRandomForest.predict_proba(features_test)\n",
        "probabilities_one_test = probabilities_test[:, 1]\n",
        "fpr, tpr, thresholds = roc_curve(target_test, probabilities_one_test)\n",
        "auc_roc = roc_auc_score(target_test, probabilities_one_test)\n",
        "print('AUC-ROC RandomForestClassifier - disbalanced',auc_roc)\n",
        "plt.plot(fpr, tpr, label='RandomForestClassifier - disbalanced')\n",
        "\n",
        "# modelRandomForest = RandomForestClassifier(random_state=21032022, n_estimators=estimator, min_samples_split=9,\n",
        "#                                   min_samples_leaf=1, class_weight='balanced')\n",
        "# modelRandomForest.fit(features_train, target_train)\n",
        "predicted_test = modelRandomForest.predict(features_test)\n",
        "probabilities_test = modelRandomForest.predict_proba(features_test)\n",
        "probabilities_one_test = probabilities_test[:, 1]\n",
        "fpr, tpr, thresholds = roc_curve(target_test, probabilities_one_test)\n",
        "auc_roc = roc_auc_score(target_test, probabilities_one_test)\n",
        "print('AUC-ROC RandomForestClassifier - balanced by class weight',auc_roc)\n",
        "plt.plot(fpr, tpr, label='RandomForestClassifier - balanced by class weight')\n",
        "\n",
        "# modelRandomForest = RandomForestClassifier(random_state=21032022, n_estimators=estimator, min_samples_split=9,\n",
        "#                                   min_samples_leaf=1)\n",
        "# modelRandomForest.fit(features_downsampled, target_downsampled)\n",
        "predicted_test = modelRandomForest.predict(features_test)\n",
        "probabilities_test = modelRandomForest.predict_proba(features_test)\n",
        "probabilities_one_test = probabilities_test[:, 1]\n",
        "fpr, tpr, thresholds = roc_curve(target_test, probabilities_one_test)\n",
        "auc_roc = roc_auc_score(target_test, probabilities_one_test)\n",
        "print('AUC-ROC RandomForestClassifier - balanced by reduce 0 class',auc_roc)\n",
        "plt.plot(fpr, tpr, label='RandomForestClassifier - balanced by reduce 0 class')\n",
        "\n",
        "# modelRandomForest = RandomForestClassifier(random_state=21032022, n_estimators=estimator, min_samples_split=9,\n",
        "#                                   min_samples_leaf=1)\n",
        "# modelRandomForest.fit(features_upsampled, target_upsampled)\n",
        "predicted_test = modelRandomForest.predict(features_test)\n",
        "probabilities_test = modelRandomForest.predict_proba(features_test)\n",
        "probabilities_one_test = probabilities_test[:, 1]\n",
        "fpr, tpr, thresholds = roc_curve(target_test, probabilities_one_test)\n",
        "auc_roc = roc_auc_score(target_test, probabilities_one_test)\n",
        "print('AUC-ROC RandomForestClassifier - balanced by grow 1 class',auc_roc)\n",
        "plt.plot(fpr, tpr, label='RandomForestClassifier - balanced')\n",
        "\n",
        "plt.xlim([0,1])\n",
        "plt.ylim([0,1])\n",
        "\n",
        "plt.xlabel(\"False Positive Rate\")\n",
        "plt.ylabel(\"True Positive Rate\")\n",
        "\n",
        "plt.legend(loc='lower right', fontsize='x-large')\n",
        "\n",
        "plt.title(\"ROC-кривая\")\n",
        "plt.show()"
      ]
    },
    {
      "cell_type": "markdown",
      "metadata": {
        "id": "MsHJweIjKIRM"
      },
      "source": [
        "### Вывод\n",
        "\n",
        "3 из 4 моделей достигли минимума F-меры (0.59) на тестовых данных: модель случайного леса с дисбалансом классов, модель случайного леса со взвешенными весами классов и модель с увеличенным количеством класса 1.\n",
        "\n",
        "Видно, что взвешивание классов дает результат лучше для данного набора данных. Метрика точность (Percision) падает, метрика полнота (recall) растет, и в целом F-мера имеет небольшой прирост. Баланс классов повышает охват необходимых данных.\n",
        "\n",
        "Оценивая адеватность модели можно заметить, что AUC-ROC дисбалансной модели и модели с весами примерно одинаково предсказывают вероятность ухода клиента.\n",
        "\n",
        "В результате проекта была получена модель с лучшими показателями как по F1-мере — Случайный лес: дисбаланс классов.\n",
        "\n",
        "* Точность попадания по классам 0.8665\n",
        "* Precision 0.7729083665338645\n",
        "* Recall 0.4801980198019802\n",
        "* F1 0.5923664122137404\n",
        "* AUC-ROC RandomForestClassifier 0.8563767090994814"
      ]
    },
    {
      "cell_type": "markdown",
      "metadata": {
        "id": "U6vu3K9qKIRM"
      },
      "source": [
        "## Итоговый вывод\n",
        "\n",
        "Шаги проекта:\n",
        "\n",
        "* Изучены данные. Разбиты данные на тренировочную, валидационную и тестовую выборку.\n",
        "* Исследована задача. Проверены модели на данных без изменений.\n",
        "* Скоректирован балланс класса. Изменен вес класса.\n",
        "* Получена улученная модель. Проведен поиск гиперпараметров.\n",
        "* Проведен финальный тест.\n",
        "\n",
        "Обученная модель случайного леса со взвешенными классами имеет достаточную адекватность, подтвержденная ее значением AUC-ROC = .8563767090994814. Это лучше, чем случайная модель предсказывания (AUC-ROC = 0.5). \n",
        "\n",
        "Метрики точность попадания по классам 0.8665, precision 0.58, recall 0.649 и f1 0.612. Модель старается собрать больше данных, чем показать верную точность (recall > precision). Процент попадания в классы достаточно высокий."
      ]
    },
    {
      "cell_type": "code",
      "execution_count": null,
      "metadata": {
        "id": "9F0T-ysOKIRO"
      },
      "outputs": [],
      "source": []
    }
  ],
  "metadata": {
    "ExecuteTimeLog": [
      {
        "duration": 2209,
        "start_time": "2022-03-21T03:26:55.502Z"
      },
      {
        "duration": 52,
        "start_time": "2022-03-21T03:27:49.516Z"
      },
      {
        "duration": 63,
        "start_time": "2022-03-21T03:30:07.308Z"
      },
      {
        "duration": 25,
        "start_time": "2022-03-21T03:31:18.569Z"
      },
      {
        "duration": 11,
        "start_time": "2022-03-21T03:33:21.423Z"
      },
      {
        "duration": 9,
        "start_time": "2022-03-21T03:34:37.287Z"
      },
      {
        "duration": 8,
        "start_time": "2022-03-21T03:35:37.553Z"
      },
      {
        "duration": 27,
        "start_time": "2022-03-21T03:37:28.261Z"
      },
      {
        "duration": 16,
        "start_time": "2022-03-21T03:43:52.428Z"
      },
      {
        "duration": 8,
        "start_time": "2022-03-21T03:45:26.767Z"
      },
      {
        "duration": 1185,
        "start_time": "2022-03-21T03:47:51.225Z"
      },
      {
        "duration": 252,
        "start_time": "2022-03-21T03:49:57.916Z"
      },
      {
        "duration": 120,
        "start_time": "2022-03-21T03:50:20.402Z"
      },
      {
        "duration": 1088,
        "start_time": "2022-03-21T03:52:09.519Z"
      },
      {
        "duration": 44159,
        "start_time": "2022-03-21T04:00:39.983Z"
      },
      {
        "duration": 43952,
        "start_time": "2022-03-21T04:01:34.684Z"
      },
      {
        "duration": 39568,
        "start_time": "2022-03-21T04:02:57.109Z"
      },
      {
        "duration": 45593,
        "start_time": "2022-03-21T04:06:05.947Z"
      },
      {
        "duration": 39799,
        "start_time": "2022-03-21T04:08:18.088Z"
      },
      {
        "duration": 64,
        "start_time": "2022-03-21T04:19:26.622Z"
      },
      {
        "duration": 17,
        "start_time": "2022-03-21T04:26:55.791Z"
      },
      {
        "duration": 100,
        "start_time": "2022-03-21T04:29:25.580Z"
      },
      {
        "duration": 2156,
        "start_time": "2022-03-21T04:32:33.044Z"
      },
      {
        "duration": 2594,
        "start_time": "2022-03-21T04:36:13.374Z"
      },
      {
        "duration": 2604,
        "start_time": "2022-03-21T04:36:33.035Z"
      },
      {
        "duration": 2015,
        "start_time": "2022-03-21T04:46:06.979Z"
      },
      {
        "duration": 23,
        "start_time": "2022-03-21T05:46:38.842Z"
      },
      {
        "duration": 1129,
        "start_time": "2022-03-21T05:48:09.972Z"
      },
      {
        "duration": 19,
        "start_time": "2022-03-21T05:53:27.046Z"
      },
      {
        "duration": 2933,
        "start_time": "2022-03-21T05:55:49.567Z"
      },
      {
        "duration": 3407,
        "start_time": "2022-03-21T06:03:06.588Z"
      },
      {
        "duration": 181103,
        "start_time": "2022-03-21T06:08:44.117Z"
      },
      {
        "duration": 182004,
        "start_time": "2022-03-21T06:12:26.043Z"
      },
      {
        "duration": 18744,
        "start_time": "2022-03-21T06:19:15.960Z"
      },
      {
        "duration": 881,
        "start_time": "2022-03-21T06:21:23.230Z"
      },
      {
        "duration": 12540,
        "start_time": "2022-03-21T06:24:03.958Z"
      },
      {
        "duration": 11984,
        "start_time": "2022-03-21T06:42:08.012Z"
      },
      {
        "duration": 10911,
        "start_time": "2022-03-21T06:45:09.974Z"
      },
      {
        "duration": 2742,
        "start_time": "2022-03-21T06:47:39.915Z"
      },
      {
        "duration": 3302,
        "start_time": "2022-03-21T06:49:20.077Z"
      },
      {
        "duration": 1942,
        "start_time": "2022-03-21T06:59:08.500Z"
      },
      {
        "duration": 54,
        "start_time": "2022-03-21T06:59:10.445Z"
      },
      {
        "duration": 66,
        "start_time": "2022-03-21T06:59:10.501Z"
      },
      {
        "duration": 25,
        "start_time": "2022-03-21T06:59:10.584Z"
      },
      {
        "duration": 12,
        "start_time": "2022-03-21T06:59:10.611Z"
      },
      {
        "duration": 9,
        "start_time": "2022-03-21T06:59:10.625Z"
      },
      {
        "duration": 49,
        "start_time": "2022-03-21T06:59:10.636Z"
      },
      {
        "duration": 28,
        "start_time": "2022-03-21T06:59:10.688Z"
      },
      {
        "duration": 23,
        "start_time": "2022-03-21T06:59:10.718Z"
      },
      {
        "duration": 42,
        "start_time": "2022-03-21T06:59:10.744Z"
      },
      {
        "duration": 1144,
        "start_time": "2022-03-21T06:59:10.788Z"
      },
      {
        "duration": 45249,
        "start_time": "2022-03-21T06:59:11.934Z"
      },
      {
        "duration": 39187,
        "start_time": "2022-03-21T06:59:57.186Z"
      },
      {
        "duration": 114,
        "start_time": "2022-03-21T07:00:36.376Z"
      },
      {
        "duration": 16,
        "start_time": "2022-03-21T07:00:36.583Z"
      },
      {
        "duration": 2284,
        "start_time": "2022-03-21T07:00:36.602Z"
      },
      {
        "duration": 2780,
        "start_time": "2022-03-21T07:00:38.889Z"
      },
      {
        "duration": 2222,
        "start_time": "2022-03-21T07:00:41.672Z"
      },
      {
        "duration": 120,
        "start_time": "2022-03-21T07:00:43.907Z"
      },
      {
        "duration": 1366,
        "start_time": "2022-03-21T07:00:44.031Z"
      },
      {
        "duration": 20,
        "start_time": "2022-03-21T07:00:45.400Z"
      },
      {
        "duration": 3079,
        "start_time": "2022-03-21T07:00:45.422Z"
      },
      {
        "duration": 3331,
        "start_time": "2022-03-21T07:00:48.504Z"
      },
      {
        "duration": 183954,
        "start_time": "2022-03-21T07:00:51.838Z"
      },
      {
        "duration": 18883,
        "start_time": "2022-03-21T07:03:55.795Z"
      },
      {
        "duration": 902,
        "start_time": "2022-03-21T07:04:14.684Z"
      },
      {
        "duration": 12484,
        "start_time": "2022-03-21T07:04:15.588Z"
      },
      {
        "duration": 10913,
        "start_time": "2022-03-21T07:04:28.076Z"
      },
      {
        "duration": 2749,
        "start_time": "2022-03-21T07:04:38.991Z"
      },
      {
        "duration": 3341,
        "start_time": "2022-03-21T07:04:41.742Z"
      },
      {
        "duration": 1587,
        "start_time": "2022-03-21T21:34:22.994Z"
      },
      {
        "duration": 41,
        "start_time": "2022-03-21T21:34:24.584Z"
      },
      {
        "duration": 40,
        "start_time": "2022-03-21T21:34:24.626Z"
      },
      {
        "duration": 15,
        "start_time": "2022-03-21T21:34:24.668Z"
      },
      {
        "duration": 10,
        "start_time": "2022-03-21T21:34:24.701Z"
      },
      {
        "duration": 6,
        "start_time": "2022-03-21T21:34:24.713Z"
      },
      {
        "duration": 5,
        "start_time": "2022-03-21T21:34:24.721Z"
      },
      {
        "duration": 18,
        "start_time": "2022-03-21T21:34:24.728Z"
      },
      {
        "duration": 12,
        "start_time": "2022-03-21T21:34:24.748Z"
      },
      {
        "duration": 6,
        "start_time": "2022-03-21T21:34:24.801Z"
      },
      {
        "duration": 758,
        "start_time": "2022-03-21T21:34:24.809Z"
      },
      {
        "duration": 27890,
        "start_time": "2022-03-21T21:34:25.569Z"
      },
      {
        "duration": 24497,
        "start_time": "2022-03-21T21:34:53.460Z"
      },
      {
        "duration": 52,
        "start_time": "2022-03-21T21:35:17.959Z"
      },
      {
        "duration": 105,
        "start_time": "2022-03-21T21:35:18.102Z"
      },
      {
        "duration": 1403,
        "start_time": "2022-03-21T21:35:18.209Z"
      },
      {
        "duration": 1700,
        "start_time": "2022-03-21T21:35:19.614Z"
      },
      {
        "duration": 1314,
        "start_time": "2022-03-21T21:35:21.316Z"
      },
      {
        "duration": 105,
        "start_time": "2022-03-21T21:35:22.703Z"
      },
      {
        "duration": 795,
        "start_time": "2022-03-21T21:35:22.811Z"
      },
      {
        "duration": 11,
        "start_time": "2022-03-21T21:35:23.608Z"
      },
      {
        "duration": 1887,
        "start_time": "2022-03-21T21:35:23.621Z"
      },
      {
        "duration": 2063,
        "start_time": "2022-03-21T21:35:25.509Z"
      },
      {
        "duration": 109248,
        "start_time": "2022-03-21T21:35:27.574Z"
      },
      {
        "duration": 11369,
        "start_time": "2022-03-21T21:37:16.824Z"
      },
      {
        "duration": 536,
        "start_time": "2022-03-21T21:37:28.194Z"
      },
      {
        "duration": 7581,
        "start_time": "2022-03-21T21:37:28.732Z"
      },
      {
        "duration": 6530,
        "start_time": "2022-03-21T21:37:36.316Z"
      },
      {
        "duration": 1684,
        "start_time": "2022-03-21T21:37:42.847Z"
      },
      {
        "duration": 1930,
        "start_time": "2022-03-21T21:37:44.534Z"
      },
      {
        "duration": 4,
        "start_time": "2022-03-21T21:57:24.895Z"
      },
      {
        "duration": 93,
        "start_time": "2022-03-21T21:59:14.904Z"
      },
      {
        "duration": 4,
        "start_time": "2022-03-21T21:59:18.151Z"
      },
      {
        "duration": 8,
        "start_time": "2022-03-21T21:59:38.544Z"
      },
      {
        "duration": 5,
        "start_time": "2022-03-21T21:59:43.232Z"
      },
      {
        "duration": 2163,
        "start_time": "2022-03-22T05:39:39.999Z"
      },
      {
        "duration": 153,
        "start_time": "2022-03-22T05:39:42.648Z"
      },
      {
        "duration": 66,
        "start_time": "2022-03-22T05:39:45.579Z"
      },
      {
        "duration": 27,
        "start_time": "2022-03-22T05:39:50.239Z"
      },
      {
        "duration": 12,
        "start_time": "2022-03-22T05:39:53.897Z"
      },
      {
        "duration": 8,
        "start_time": "2022-03-22T05:40:02.776Z"
      },
      {
        "duration": 8,
        "start_time": "2022-03-22T05:40:08.303Z"
      },
      {
        "duration": 27,
        "start_time": "2022-03-22T05:40:11.716Z"
      },
      {
        "duration": 17,
        "start_time": "2022-03-22T05:41:33.184Z"
      },
      {
        "duration": 8,
        "start_time": "2022-03-22T05:41:39.197Z"
      },
      {
        "duration": 1082,
        "start_time": "2022-03-22T05:47:40.676Z"
      },
      {
        "duration": 1069,
        "start_time": "2022-03-22T05:48:02.128Z"
      },
      {
        "duration": 1449,
        "start_time": "2022-03-22T05:51:01.811Z"
      },
      {
        "duration": 42198,
        "start_time": "2022-03-22T05:54:06.221Z"
      },
      {
        "duration": 126,
        "start_time": "2022-03-22T05:57:26.331Z"
      },
      {
        "duration": 36673,
        "start_time": "2022-03-22T05:57:52.361Z"
      },
      {
        "duration": 205,
        "start_time": "2022-03-22T06:01:42.565Z"
      },
      {
        "duration": 17,
        "start_time": "2022-03-22T06:03:06.672Z"
      },
      {
        "duration": 2001,
        "start_time": "2022-03-22T06:06:08.689Z"
      },
      {
        "duration": 2492,
        "start_time": "2022-03-22T06:08:21.961Z"
      },
      {
        "duration": 2115,
        "start_time": "2022-03-22T06:15:40.257Z"
      },
      {
        "duration": 23,
        "start_time": "2022-03-22T06:17:50.050Z"
      },
      {
        "duration": 1139,
        "start_time": "2022-03-22T06:19:08.037Z"
      },
      {
        "duration": 21,
        "start_time": "2022-03-22T06:19:21.041Z"
      },
      {
        "duration": 2830,
        "start_time": "2022-03-22T06:20:55.950Z"
      },
      {
        "duration": 3377,
        "start_time": "2022-03-22T06:24:00.930Z"
      },
      {
        "duration": 182024,
        "start_time": "2022-03-22T06:25:07.046Z"
      },
      {
        "duration": 193055,
        "start_time": "2022-03-22T06:28:17.865Z"
      },
      {
        "duration": 20075,
        "start_time": "2022-03-22T07:02:52.141Z"
      },
      {
        "duration": 2485,
        "start_time": "2022-03-22T07:04:59.284Z"
      },
      {
        "duration": 2289,
        "start_time": "2022-03-22T07:05:55.432Z"
      },
      {
        "duration": 28654,
        "start_time": "2022-03-22T07:06:24.515Z"
      },
      {
        "duration": 19950,
        "start_time": "2022-03-22T07:08:44.409Z"
      },
      {
        "duration": 4808,
        "start_time": "2022-03-22T07:12:33.925Z"
      },
      {
        "duration": 5353,
        "start_time": "2022-03-22T07:14:23.918Z"
      },
      {
        "duration": 1890,
        "start_time": "2022-03-22T07:16:24.963Z"
      },
      {
        "duration": 44,
        "start_time": "2022-03-22T07:16:26.856Z"
      },
      {
        "duration": 75,
        "start_time": "2022-03-22T07:16:26.902Z"
      },
      {
        "duration": 22,
        "start_time": "2022-03-22T07:16:26.980Z"
      },
      {
        "duration": 12,
        "start_time": "2022-03-22T07:16:27.004Z"
      },
      {
        "duration": 8,
        "start_time": "2022-03-22T07:16:27.018Z"
      },
      {
        "duration": 46,
        "start_time": "2022-03-22T07:16:27.028Z"
      },
      {
        "duration": 27,
        "start_time": "2022-03-22T07:16:27.076Z"
      },
      {
        "duration": 17,
        "start_time": "2022-03-22T07:16:27.105Z"
      },
      {
        "duration": 43,
        "start_time": "2022-03-22T07:16:27.126Z"
      },
      {
        "duration": 1316,
        "start_time": "2022-03-22T07:16:27.171Z"
      },
      {
        "duration": 44076,
        "start_time": "2022-03-22T07:16:28.491Z"
      },
      {
        "duration": 101,
        "start_time": "2022-03-22T07:17:12.570Z"
      },
      {
        "duration": 0,
        "start_time": "2022-03-22T07:17:12.674Z"
      },
      {
        "duration": 0,
        "start_time": "2022-03-22T07:17:12.676Z"
      },
      {
        "duration": 0,
        "start_time": "2022-03-22T07:17:12.677Z"
      },
      {
        "duration": 0,
        "start_time": "2022-03-22T07:17:12.678Z"
      },
      {
        "duration": 0,
        "start_time": "2022-03-22T07:17:12.680Z"
      },
      {
        "duration": 0,
        "start_time": "2022-03-22T07:17:12.682Z"
      },
      {
        "duration": 0,
        "start_time": "2022-03-22T07:17:12.684Z"
      },
      {
        "duration": 0,
        "start_time": "2022-03-22T07:17:12.686Z"
      },
      {
        "duration": 0,
        "start_time": "2022-03-22T07:17:12.687Z"
      },
      {
        "duration": 0,
        "start_time": "2022-03-22T07:17:12.689Z"
      },
      {
        "duration": 0,
        "start_time": "2022-03-22T07:17:12.691Z"
      },
      {
        "duration": 0,
        "start_time": "2022-03-22T07:17:12.693Z"
      },
      {
        "duration": 0,
        "start_time": "2022-03-22T07:17:12.694Z"
      },
      {
        "duration": 0,
        "start_time": "2022-03-22T07:17:12.696Z"
      },
      {
        "duration": 0,
        "start_time": "2022-03-22T07:17:12.697Z"
      },
      {
        "duration": 1,
        "start_time": "2022-03-22T07:17:12.698Z"
      },
      {
        "duration": 0,
        "start_time": "2022-03-22T07:17:12.700Z"
      },
      {
        "duration": 0,
        "start_time": "2022-03-22T07:17:12.702Z"
      },
      {
        "duration": 1,
        "start_time": "2022-03-22T07:17:12.703Z"
      },
      {
        "duration": 2435,
        "start_time": "2022-03-22T07:25:24.169Z"
      },
      {
        "duration": 54,
        "start_time": "2022-03-22T07:25:26.607Z"
      },
      {
        "duration": 67,
        "start_time": "2022-03-22T07:25:26.663Z"
      },
      {
        "duration": 47,
        "start_time": "2022-03-22T07:25:26.733Z"
      },
      {
        "duration": 13,
        "start_time": "2022-03-22T07:25:26.782Z"
      },
      {
        "duration": 9,
        "start_time": "2022-03-22T07:25:26.797Z"
      },
      {
        "duration": 9,
        "start_time": "2022-03-22T07:25:26.808Z"
      },
      {
        "duration": 72,
        "start_time": "2022-03-22T07:25:26.820Z"
      },
      {
        "duration": 17,
        "start_time": "2022-03-22T07:25:26.895Z"
      },
      {
        "duration": 8,
        "start_time": "2022-03-22T07:25:26.916Z"
      },
      {
        "duration": 1171,
        "start_time": "2022-03-22T07:25:26.926Z"
      },
      {
        "duration": 44444,
        "start_time": "2022-03-22T07:25:28.099Z"
      },
      {
        "duration": 38986,
        "start_time": "2022-03-22T07:26:12.546Z"
      },
      {
        "duration": 118,
        "start_time": "2022-03-22T07:26:51.534Z"
      },
      {
        "duration": 0,
        "start_time": "2022-03-22T07:26:51.654Z"
      },
      {
        "duration": 0,
        "start_time": "2022-03-22T07:26:51.655Z"
      },
      {
        "duration": 0,
        "start_time": "2022-03-22T07:26:51.657Z"
      },
      {
        "duration": 0,
        "start_time": "2022-03-22T07:26:51.658Z"
      },
      {
        "duration": 0,
        "start_time": "2022-03-22T07:26:51.660Z"
      },
      {
        "duration": 0,
        "start_time": "2022-03-22T07:26:51.661Z"
      },
      {
        "duration": 0,
        "start_time": "2022-03-22T07:26:51.664Z"
      },
      {
        "duration": 0,
        "start_time": "2022-03-22T07:26:51.666Z"
      },
      {
        "duration": 0,
        "start_time": "2022-03-22T07:26:51.668Z"
      },
      {
        "duration": 0,
        "start_time": "2022-03-22T07:26:51.669Z"
      },
      {
        "duration": 0,
        "start_time": "2022-03-22T07:26:51.671Z"
      },
      {
        "duration": 0,
        "start_time": "2022-03-22T07:26:51.673Z"
      },
      {
        "duration": 0,
        "start_time": "2022-03-22T07:26:51.675Z"
      },
      {
        "duration": 0,
        "start_time": "2022-03-22T07:26:51.676Z"
      },
      {
        "duration": 0,
        "start_time": "2022-03-22T07:26:51.677Z"
      },
      {
        "duration": 0,
        "start_time": "2022-03-22T07:26:51.679Z"
      },
      {
        "duration": 0,
        "start_time": "2022-03-22T07:26:51.681Z"
      },
      {
        "duration": 1910,
        "start_time": "2022-03-22T07:39:52.903Z"
      },
      {
        "duration": 46,
        "start_time": "2022-03-22T07:39:54.816Z"
      },
      {
        "duration": 64,
        "start_time": "2022-03-22T07:39:54.867Z"
      },
      {
        "duration": 48,
        "start_time": "2022-03-22T07:39:54.934Z"
      },
      {
        "duration": 14,
        "start_time": "2022-03-22T07:39:54.984Z"
      },
      {
        "duration": 10,
        "start_time": "2022-03-22T07:39:55.000Z"
      },
      {
        "duration": 8,
        "start_time": "2022-03-22T07:39:55.013Z"
      },
      {
        "duration": 65,
        "start_time": "2022-03-22T07:39:55.024Z"
      },
      {
        "duration": 17,
        "start_time": "2022-03-22T07:39:55.091Z"
      },
      {
        "duration": 7,
        "start_time": "2022-03-22T07:39:55.113Z"
      },
      {
        "duration": 1324,
        "start_time": "2022-03-22T07:39:55.123Z"
      },
      {
        "duration": 43743,
        "start_time": "2022-03-22T07:39:56.450Z"
      },
      {
        "duration": 48015,
        "start_time": "2022-03-22T07:40:40.196Z"
      },
      {
        "duration": 158,
        "start_time": "2022-03-22T07:41:28.214Z"
      },
      {
        "duration": 101,
        "start_time": "2022-03-22T07:41:28.379Z"
      },
      {
        "duration": 2115,
        "start_time": "2022-03-22T07:41:28.482Z"
      },
      {
        "duration": 2561,
        "start_time": "2022-03-22T07:41:30.600Z"
      },
      {
        "duration": 2317,
        "start_time": "2022-03-22T07:41:33.164Z"
      },
      {
        "duration": 99,
        "start_time": "2022-03-22T07:41:35.484Z"
      },
      {
        "duration": 1208,
        "start_time": "2022-03-22T07:41:35.585Z"
      },
      {
        "duration": 79,
        "start_time": "2022-03-22T07:41:36.796Z"
      },
      {
        "duration": 2998,
        "start_time": "2022-03-22T07:41:36.878Z"
      },
      {
        "duration": 4305,
        "start_time": "2022-03-22T07:41:39.879Z"
      },
      {
        "duration": 209965,
        "start_time": "2022-03-22T07:41:44.187Z"
      },
      {
        "duration": 20565,
        "start_time": "2022-03-22T07:45:14.154Z"
      },
      {
        "duration": 2269,
        "start_time": "2022-03-22T07:45:34.722Z"
      },
      {
        "duration": 22398,
        "start_time": "2022-03-22T07:45:36.993Z"
      },
      {
        "duration": 18903,
        "start_time": "2022-03-22T07:45:59.396Z"
      },
      {
        "duration": 4927,
        "start_time": "2022-03-22T07:46:18.301Z"
      },
      {
        "duration": 6850,
        "start_time": "2022-03-22T07:46:23.230Z"
      },
      {
        "duration": 1517,
        "start_time": "2022-03-22T19:52:09.709Z"
      },
      {
        "duration": 41,
        "start_time": "2022-03-22T19:52:11.228Z"
      },
      {
        "duration": 43,
        "start_time": "2022-03-22T19:52:11.270Z"
      },
      {
        "duration": 23,
        "start_time": "2022-03-22T19:52:11.315Z"
      },
      {
        "duration": 9,
        "start_time": "2022-03-22T19:52:11.339Z"
      },
      {
        "duration": 6,
        "start_time": "2022-03-22T19:52:11.349Z"
      },
      {
        "duration": 7,
        "start_time": "2022-03-22T19:52:11.357Z"
      },
      {
        "duration": 21,
        "start_time": "2022-03-22T19:52:11.366Z"
      },
      {
        "duration": 11,
        "start_time": "2022-03-22T19:52:11.389Z"
      },
      {
        "duration": 6,
        "start_time": "2022-03-22T19:52:11.433Z"
      },
      {
        "duration": 845,
        "start_time": "2022-03-22T19:52:11.441Z"
      },
      {
        "duration": 29830,
        "start_time": "2022-03-22T19:52:12.288Z"
      },
      {
        "duration": 26176,
        "start_time": "2022-03-22T19:52:42.120Z"
      },
      {
        "duration": 52,
        "start_time": "2022-03-22T19:53:08.297Z"
      },
      {
        "duration": 104,
        "start_time": "2022-03-22T19:53:08.434Z"
      },
      {
        "duration": 1504,
        "start_time": "2022-03-22T19:53:08.539Z"
      },
      {
        "duration": 1723,
        "start_time": "2022-03-22T19:53:10.045Z"
      },
      {
        "duration": 1565,
        "start_time": "2022-03-22T19:53:11.771Z"
      },
      {
        "duration": 103,
        "start_time": "2022-03-22T19:53:13.339Z"
      },
      {
        "duration": 898,
        "start_time": "2022-03-22T19:53:13.444Z"
      },
      {
        "duration": 15,
        "start_time": "2022-03-22T19:53:14.344Z"
      },
      {
        "duration": 2183,
        "start_time": "2022-03-22T19:53:14.361Z"
      },
      {
        "duration": 2320,
        "start_time": "2022-03-22T19:53:16.546Z"
      },
      {
        "duration": 122663,
        "start_time": "2022-03-22T19:53:18.868Z"
      },
      {
        "duration": 13568,
        "start_time": "2022-03-22T19:55:21.533Z"
      },
      {
        "duration": 1510,
        "start_time": "2022-03-22T19:55:35.103Z"
      },
      {
        "duration": 15171,
        "start_time": "2022-03-22T19:55:36.614Z"
      },
      {
        "duration": 12849,
        "start_time": "2022-03-22T19:55:51.789Z"
      },
      {
        "duration": 3514,
        "start_time": "2022-03-22T19:56:04.640Z"
      },
      {
        "duration": 3736,
        "start_time": "2022-03-22T19:56:08.156Z"
      },
      {
        "duration": 2304,
        "start_time": "2022-03-23T06:58:12.516Z"
      },
      {
        "duration": 230,
        "start_time": "2022-03-23T06:58:15.807Z"
      },
      {
        "duration": 66,
        "start_time": "2022-03-23T06:58:18.788Z"
      },
      {
        "duration": 22,
        "start_time": "2022-03-23T06:58:22.343Z"
      },
      {
        "duration": 14,
        "start_time": "2022-03-23T06:58:26.270Z"
      },
      {
        "duration": 8,
        "start_time": "2022-03-23T06:58:29.556Z"
      },
      {
        "duration": 8,
        "start_time": "2022-03-23T06:58:32.522Z"
      },
      {
        "duration": 29,
        "start_time": "2022-03-23T06:58:34.246Z"
      },
      {
        "duration": 18,
        "start_time": "2022-03-23T06:58:43.796Z"
      },
      {
        "duration": 9,
        "start_time": "2022-03-23T06:58:44.956Z"
      },
      {
        "duration": 19,
        "start_time": "2022-03-23T06:59:46.418Z"
      },
      {
        "duration": 10,
        "start_time": "2022-03-23T06:59:49.510Z"
      },
      {
        "duration": 7,
        "start_time": "2022-03-23T06:59:59.294Z"
      },
      {
        "duration": 1241,
        "start_time": "2022-03-23T07:05:14.068Z"
      },
      {
        "duration": 61971,
        "start_time": "2022-03-23T07:06:55.221Z"
      },
      {
        "duration": 47219,
        "start_time": "2022-03-23T07:14:51.582Z"
      },
      {
        "duration": 120,
        "start_time": "2022-03-23T07:16:01.173Z"
      },
      {
        "duration": 17,
        "start_time": "2022-03-23T07:16:23.014Z"
      },
      {
        "duration": 2950,
        "start_time": "2022-03-23T07:16:35.143Z"
      },
      {
        "duration": 913,
        "start_time": "2022-03-23T07:18:17.668Z"
      },
      {
        "duration": 436,
        "start_time": "2022-03-23T07:19:34.049Z"
      },
      {
        "duration": 28,
        "start_time": "2022-03-23T07:20:11.574Z"
      },
      {
        "duration": 1385,
        "start_time": "2022-03-23T07:24:22.808Z"
      },
      {
        "duration": 20,
        "start_time": "2022-03-23T07:24:47.429Z"
      },
      {
        "duration": 3412,
        "start_time": "2022-03-23T07:27:16.074Z"
      },
      {
        "duration": 1800,
        "start_time": "2022-03-23T07:29:05.689Z"
      },
      {
        "duration": 29,
        "start_time": "2022-03-23T07:29:41.033Z"
      },
      {
        "duration": 4074,
        "start_time": "2022-03-23T07:30:00.812Z"
      },
      {
        "duration": 793,
        "start_time": "2022-03-23T07:31:21.456Z"
      },
      {
        "duration": 190161,
        "start_time": "2022-03-23T07:33:37.735Z"
      },
      {
        "duration": 21219,
        "start_time": "2022-03-23T07:38:40.858Z"
      },
      {
        "duration": 18578,
        "start_time": "2022-03-23T07:39:38.456Z"
      },
      {
        "duration": 2194,
        "start_time": "2022-03-23T07:40:19.800Z"
      },
      {
        "duration": 14145,
        "start_time": "2022-03-23T07:40:38.920Z"
      },
      {
        "duration": 14586,
        "start_time": "2022-03-23T07:41:15.839Z"
      },
      {
        "duration": 2835,
        "start_time": "2022-03-23T07:42:50.055Z"
      },
      {
        "duration": 722,
        "start_time": "2022-03-23T07:43:31.352Z"
      },
      {
        "duration": 3451,
        "start_time": "2022-03-23T07:43:55.364Z"
      },
      {
        "duration": 708,
        "start_time": "2022-03-23T07:44:27.451Z"
      },
      {
        "duration": 3290,
        "start_time": "2022-03-23T07:44:49.419Z"
      },
      {
        "duration": 2612,
        "start_time": "2022-03-23T07:45:04.572Z"
      },
      {
        "duration": 48,
        "start_time": "2022-03-23T07:45:07.186Z"
      },
      {
        "duration": 81,
        "start_time": "2022-03-23T07:45:07.236Z"
      },
      {
        "duration": 22,
        "start_time": "2022-03-23T07:45:07.321Z"
      },
      {
        "duration": 41,
        "start_time": "2022-03-23T07:45:07.346Z"
      },
      {
        "duration": 9,
        "start_time": "2022-03-23T07:45:07.390Z"
      },
      {
        "duration": 17,
        "start_time": "2022-03-23T07:45:07.401Z"
      },
      {
        "duration": 37,
        "start_time": "2022-03-23T07:45:07.420Z"
      },
      {
        "duration": 37,
        "start_time": "2022-03-23T07:45:07.460Z"
      },
      {
        "duration": 8,
        "start_time": "2022-03-23T07:45:07.501Z"
      },
      {
        "duration": 22,
        "start_time": "2022-03-23T07:45:07.512Z"
      },
      {
        "duration": 11,
        "start_time": "2022-03-23T07:45:07.537Z"
      },
      {
        "duration": 7,
        "start_time": "2022-03-23T07:45:07.585Z"
      },
      {
        "duration": 1149,
        "start_time": "2022-03-23T07:45:07.594Z"
      },
      {
        "duration": 47252,
        "start_time": "2022-03-23T07:45:08.745Z"
      },
      {
        "duration": 41449,
        "start_time": "2022-03-23T07:45:56.000Z"
      },
      {
        "duration": 140,
        "start_time": "2022-03-23T07:46:37.451Z"
      },
      {
        "duration": 109,
        "start_time": "2022-03-23T07:46:37.595Z"
      },
      {
        "duration": 2998,
        "start_time": "2022-03-23T07:46:37.707Z"
      },
      {
        "duration": 787,
        "start_time": "2022-03-23T07:46:40.707Z"
      },
      {
        "duration": 593,
        "start_time": "2022-03-23T07:46:41.496Z"
      },
      {
        "duration": 21,
        "start_time": "2022-03-23T07:46:42.092Z"
      },
      {
        "duration": 1376,
        "start_time": "2022-03-23T07:46:42.115Z"
      },
      {
        "duration": 24,
        "start_time": "2022-03-23T07:46:43.494Z"
      },
      {
        "duration": 3070,
        "start_time": "2022-03-23T07:46:43.521Z"
      },
      {
        "duration": 742,
        "start_time": "2022-03-23T07:46:46.595Z"
      },
      {
        "duration": 196320,
        "start_time": "2022-03-23T07:46:47.340Z"
      },
      {
        "duration": 18993,
        "start_time": "2022-03-23T07:50:03.665Z"
      },
      {
        "duration": 2369,
        "start_time": "2022-03-23T07:50:22.660Z"
      },
      {
        "duration": 17897,
        "start_time": "2022-03-23T07:50:25.032Z"
      },
      {
        "duration": 12671,
        "start_time": "2022-03-23T07:50:42.932Z"
      },
      {
        "duration": 2773,
        "start_time": "2022-03-23T07:50:55.606Z"
      },
      {
        "duration": 4305,
        "start_time": "2022-03-23T07:50:58.387Z"
      },
      {
        "duration": 2530,
        "start_time": "2022-03-23T08:11:57.126Z"
      },
      {
        "duration": 56,
        "start_time": "2022-03-23T08:11:59.659Z"
      },
      {
        "duration": 78,
        "start_time": "2022-03-23T08:11:59.718Z"
      },
      {
        "duration": 26,
        "start_time": "2022-03-23T08:11:59.801Z"
      },
      {
        "duration": 16,
        "start_time": "2022-03-23T08:11:59.829Z"
      },
      {
        "duration": 40,
        "start_time": "2022-03-23T08:11:59.847Z"
      },
      {
        "duration": 9,
        "start_time": "2022-03-23T08:11:59.890Z"
      },
      {
        "duration": 35,
        "start_time": "2022-03-23T08:11:59.902Z"
      },
      {
        "duration": 49,
        "start_time": "2022-03-23T08:11:59.940Z"
      },
      {
        "duration": 8,
        "start_time": "2022-03-23T08:11:59.993Z"
      },
      {
        "duration": 31,
        "start_time": "2022-03-23T08:12:00.003Z"
      },
      {
        "duration": 18,
        "start_time": "2022-03-23T08:12:00.036Z"
      },
      {
        "duration": 27,
        "start_time": "2022-03-23T08:12:00.057Z"
      },
      {
        "duration": 1188,
        "start_time": "2022-03-23T08:12:00.087Z"
      },
      {
        "duration": 45884,
        "start_time": "2022-03-23T08:12:01.285Z"
      },
      {
        "duration": 38798,
        "start_time": "2022-03-23T08:12:47.171Z"
      },
      {
        "duration": 123,
        "start_time": "2022-03-23T08:13:25.972Z"
      },
      {
        "duration": 105,
        "start_time": "2022-03-23T08:13:26.098Z"
      },
      {
        "duration": 2987,
        "start_time": "2022-03-23T08:13:26.206Z"
      },
      {
        "duration": 1037,
        "start_time": "2022-03-23T08:13:29.196Z"
      },
      {
        "duration": 465,
        "start_time": "2022-03-23T08:13:30.236Z"
      },
      {
        "duration": 24,
        "start_time": "2022-03-23T08:13:30.785Z"
      },
      {
        "duration": 1275,
        "start_time": "2022-03-23T08:13:30.811Z"
      },
      {
        "duration": 20,
        "start_time": "2022-03-23T08:13:32.088Z"
      },
      {
        "duration": 3476,
        "start_time": "2022-03-23T08:13:32.110Z"
      },
      {
        "duration": 745,
        "start_time": "2022-03-23T08:13:35.589Z"
      },
      {
        "duration": 200962,
        "start_time": "2022-03-23T08:13:36.337Z"
      },
      {
        "duration": 19756,
        "start_time": "2022-03-23T08:16:57.306Z"
      },
      {
        "duration": 2908,
        "start_time": "2022-03-23T08:17:17.064Z"
      },
      {
        "duration": 14570,
        "start_time": "2022-03-23T08:17:19.975Z"
      },
      {
        "duration": 11966,
        "start_time": "2022-03-23T08:17:34.547Z"
      },
      {
        "duration": 3102,
        "start_time": "2022-03-23T08:17:46.516Z"
      },
      {
        "duration": 61,
        "start_time": "2022-03-23T08:19:02.920Z"
      },
      {
        "duration": 791,
        "start_time": "2022-03-23T08:19:21.138Z"
      },
      {
        "duration": 2007,
        "start_time": "2022-03-23T08:21:01.962Z"
      },
      {
        "duration": 49,
        "start_time": "2022-03-23T08:21:03.973Z"
      },
      {
        "duration": 88,
        "start_time": "2022-03-23T08:21:04.024Z"
      },
      {
        "duration": 23,
        "start_time": "2022-03-23T08:21:04.115Z"
      },
      {
        "duration": 46,
        "start_time": "2022-03-23T08:21:04.141Z"
      },
      {
        "duration": 10,
        "start_time": "2022-03-23T08:21:04.189Z"
      },
      {
        "duration": 27,
        "start_time": "2022-03-23T08:21:04.202Z"
      },
      {
        "duration": 56,
        "start_time": "2022-03-23T08:21:04.232Z"
      },
      {
        "duration": 19,
        "start_time": "2022-03-23T08:21:04.291Z"
      },
      {
        "duration": 8,
        "start_time": "2022-03-23T08:21:04.315Z"
      },
      {
        "duration": 24,
        "start_time": "2022-03-23T08:21:04.326Z"
      },
      {
        "duration": 10,
        "start_time": "2022-03-23T08:21:04.383Z"
      },
      {
        "duration": 16,
        "start_time": "2022-03-23T08:21:04.395Z"
      },
      {
        "duration": 1245,
        "start_time": "2022-03-23T08:21:04.413Z"
      },
      {
        "duration": 52722,
        "start_time": "2022-03-23T08:21:05.661Z"
      },
      {
        "duration": 40499,
        "start_time": "2022-03-23T08:21:58.386Z"
      },
      {
        "duration": 102,
        "start_time": "2022-03-23T08:22:38.888Z"
      },
      {
        "duration": 106,
        "start_time": "2022-03-23T08:22:38.993Z"
      },
      {
        "duration": 2199,
        "start_time": "2022-03-23T08:22:39.101Z"
      },
      {
        "duration": 747,
        "start_time": "2022-03-23T08:22:41.302Z"
      },
      {
        "duration": 437,
        "start_time": "2022-03-23T08:22:42.052Z"
      },
      {
        "duration": 110,
        "start_time": "2022-03-23T08:22:42.491Z"
      },
      {
        "duration": 1393,
        "start_time": "2022-03-23T08:22:42.604Z"
      },
      {
        "duration": 29,
        "start_time": "2022-03-23T08:22:43.999Z"
      },
      {
        "duration": 3153,
        "start_time": "2022-03-23T08:22:44.031Z"
      },
      {
        "duration": 680,
        "start_time": "2022-03-23T08:22:47.186Z"
      },
      {
        "duration": 226405,
        "start_time": "2022-03-23T08:22:47.868Z"
      },
      {
        "duration": 25775,
        "start_time": "2022-03-23T08:26:34.278Z"
      },
      {
        "duration": 2278,
        "start_time": "2022-03-23T08:27:00.055Z"
      },
      {
        "duration": 13911,
        "start_time": "2022-03-23T08:27:02.336Z"
      },
      {
        "duration": 11785,
        "start_time": "2022-03-23T08:27:16.250Z"
      },
      {
        "duration": 2794,
        "start_time": "2022-03-23T08:27:28.037Z"
      },
      {
        "duration": 758,
        "start_time": "2022-03-23T08:27:30.834Z"
      },
      {
        "duration": 1608,
        "start_time": "2022-03-23T18:36:00.640Z"
      },
      {
        "duration": 41,
        "start_time": "2022-03-23T18:36:02.250Z"
      },
      {
        "duration": 58,
        "start_time": "2022-03-23T18:36:02.293Z"
      },
      {
        "duration": 34,
        "start_time": "2022-03-23T18:36:02.353Z"
      },
      {
        "duration": 16,
        "start_time": "2022-03-23T18:36:02.389Z"
      },
      {
        "duration": 8,
        "start_time": "2022-03-23T18:36:02.407Z"
      },
      {
        "duration": 14,
        "start_time": "2022-03-23T18:36:02.416Z"
      },
      {
        "duration": 49,
        "start_time": "2022-03-23T18:36:02.431Z"
      },
      {
        "duration": 11,
        "start_time": "2022-03-23T18:36:02.482Z"
      },
      {
        "duration": 5,
        "start_time": "2022-03-23T18:36:02.497Z"
      },
      {
        "duration": 22,
        "start_time": "2022-03-23T18:36:02.504Z"
      },
      {
        "duration": 7,
        "start_time": "2022-03-23T18:36:02.529Z"
      },
      {
        "duration": 34,
        "start_time": "2022-03-23T18:36:02.537Z"
      },
      {
        "duration": 821,
        "start_time": "2022-03-23T18:36:02.573Z"
      },
      {
        "duration": 33317,
        "start_time": "2022-03-23T18:36:03.395Z"
      },
      {
        "duration": 28064,
        "start_time": "2022-03-23T18:36:36.715Z"
      },
      {
        "duration": 96,
        "start_time": "2022-03-23T18:37:04.783Z"
      },
      {
        "duration": 93,
        "start_time": "2022-03-23T18:37:04.884Z"
      },
      {
        "duration": 1980,
        "start_time": "2022-03-23T18:37:04.983Z"
      },
      {
        "duration": 523,
        "start_time": "2022-03-23T18:37:06.965Z"
      },
      {
        "duration": 375,
        "start_time": "2022-03-23T18:37:07.490Z"
      },
      {
        "duration": 110,
        "start_time": "2022-03-23T18:37:07.868Z"
      },
      {
        "duration": 1080,
        "start_time": "2022-03-23T18:37:07.986Z"
      },
      {
        "duration": 17,
        "start_time": "2022-03-23T18:37:09.068Z"
      },
      {
        "duration": 2109,
        "start_time": "2022-03-23T18:37:09.164Z"
      },
      {
        "duration": 577,
        "start_time": "2022-03-23T18:37:11.275Z"
      },
      {
        "duration": 143100,
        "start_time": "2022-03-23T18:37:11.854Z"
      },
      {
        "duration": 13408,
        "start_time": "2022-03-23T18:39:34.962Z"
      },
      {
        "duration": 2212,
        "start_time": "2022-03-23T18:39:48.373Z"
      },
      {
        "duration": 9147,
        "start_time": "2022-03-23T18:39:50.587Z"
      },
      {
        "duration": 7897,
        "start_time": "2022-03-23T18:39:59.735Z"
      },
      {
        "duration": 2511,
        "start_time": "2022-03-23T18:40:07.634Z"
      },
      {
        "duration": 616,
        "start_time": "2022-03-23T18:40:10.147Z"
      },
      {
        "duration": 2746,
        "start_time": "2022-03-23T19:27:59.780Z"
      },
      {
        "duration": 73,
        "start_time": "2022-03-23T19:28:02.531Z"
      },
      {
        "duration": 102,
        "start_time": "2022-03-23T19:28:02.608Z"
      },
      {
        "duration": 32,
        "start_time": "2022-03-23T19:28:02.715Z"
      },
      {
        "duration": 39,
        "start_time": "2022-03-23T19:28:02.750Z"
      },
      {
        "duration": 12,
        "start_time": "2022-03-23T19:28:02.792Z"
      },
      {
        "duration": 100,
        "start_time": "2022-03-23T19:28:02.807Z"
      },
      {
        "duration": 48,
        "start_time": "2022-03-23T19:28:02.910Z"
      },
      {
        "duration": 23,
        "start_time": "2022-03-23T19:28:02.962Z"
      },
      {
        "duration": 20,
        "start_time": "2022-03-23T19:28:02.992Z"
      },
      {
        "duration": 32,
        "start_time": "2022-03-23T19:28:03.015Z"
      },
      {
        "duration": 49,
        "start_time": "2022-03-23T19:28:03.051Z"
      },
      {
        "duration": 18,
        "start_time": "2022-03-23T19:28:03.103Z"
      },
      {
        "duration": 1395,
        "start_time": "2022-03-23T19:28:03.124Z"
      },
      {
        "duration": 53078,
        "start_time": "2022-03-23T19:28:04.522Z"
      },
      {
        "duration": 52835,
        "start_time": "2022-03-23T19:28:57.604Z"
      },
      {
        "duration": 89,
        "start_time": "2022-03-23T19:29:50.441Z"
      },
      {
        "duration": 101,
        "start_time": "2022-03-23T19:29:50.585Z"
      },
      {
        "duration": 2533,
        "start_time": "2022-03-23T19:29:50.690Z"
      },
      {
        "duration": 805,
        "start_time": "2022-03-23T19:29:53.285Z"
      },
      {
        "duration": 389,
        "start_time": "2022-03-23T19:29:54.093Z"
      },
      {
        "duration": 27,
        "start_time": "2022-03-23T19:29:54.485Z"
      },
      {
        "duration": 1672,
        "start_time": "2022-03-23T19:29:54.516Z"
      },
      {
        "duration": 22,
        "start_time": "2022-03-23T19:29:56.191Z"
      },
      {
        "duration": 4288,
        "start_time": "2022-03-23T19:29:56.217Z"
      },
      {
        "duration": 937,
        "start_time": "2022-03-23T19:30:00.508Z"
      },
      {
        "duration": 249735,
        "start_time": "2022-03-23T19:30:01.449Z"
      },
      {
        "duration": 25759,
        "start_time": "2022-03-23T19:34:11.192Z"
      },
      {
        "duration": 2899,
        "start_time": "2022-03-23T19:34:36.954Z"
      },
      {
        "duration": 12910,
        "start_time": "2022-03-23T19:34:39.856Z"
      },
      {
        "duration": 11156,
        "start_time": "2022-03-23T19:34:52.769Z"
      },
      {
        "duration": 3264,
        "start_time": "2022-03-23T19:35:03.927Z"
      },
      {
        "duration": 897,
        "start_time": "2022-03-23T19:35:07.194Z"
      },
      {
        "duration": 2447,
        "start_time": "2022-03-23T19:43:43.384Z"
      },
      {
        "duration": 67,
        "start_time": "2022-03-23T19:43:45.834Z"
      },
      {
        "duration": 100,
        "start_time": "2022-03-23T19:43:45.904Z"
      },
      {
        "duration": 34,
        "start_time": "2022-03-23T19:43:46.008Z"
      },
      {
        "duration": 38,
        "start_time": "2022-03-23T19:43:46.048Z"
      },
      {
        "duration": 11,
        "start_time": "2022-03-23T19:43:46.089Z"
      },
      {
        "duration": 12,
        "start_time": "2022-03-23T19:43:46.103Z"
      },
      {
        "duration": 66,
        "start_time": "2022-03-23T19:43:46.118Z"
      },
      {
        "duration": 21,
        "start_time": "2022-03-23T19:43:46.187Z"
      },
      {
        "duration": 10,
        "start_time": "2022-03-23T19:43:46.214Z"
      },
      {
        "duration": 57,
        "start_time": "2022-03-23T19:43:46.227Z"
      },
      {
        "duration": 11,
        "start_time": "2022-03-23T19:43:46.287Z"
      },
      {
        "duration": 11,
        "start_time": "2022-03-23T19:43:46.303Z"
      },
      {
        "duration": 830,
        "start_time": "2022-03-23T19:43:46.317Z"
      },
      {
        "duration": 2235,
        "start_time": "2022-03-23T19:44:12.452Z"
      },
      {
        "duration": 48,
        "start_time": "2022-03-23T19:44:14.690Z"
      },
      {
        "duration": 104,
        "start_time": "2022-03-23T19:44:14.746Z"
      },
      {
        "duration": 39,
        "start_time": "2022-03-23T19:44:14.856Z"
      },
      {
        "duration": 16,
        "start_time": "2022-03-23T19:44:14.898Z"
      },
      {
        "duration": 18,
        "start_time": "2022-03-23T19:44:14.917Z"
      },
      {
        "duration": 22,
        "start_time": "2022-03-23T19:44:14.938Z"
      },
      {
        "duration": 56,
        "start_time": "2022-03-23T19:44:14.963Z"
      },
      {
        "duration": 22,
        "start_time": "2022-03-23T19:44:15.025Z"
      },
      {
        "duration": 21,
        "start_time": "2022-03-23T19:44:15.049Z"
      },
      {
        "duration": 18,
        "start_time": "2022-03-23T19:44:15.085Z"
      },
      {
        "duration": 39,
        "start_time": "2022-03-23T19:44:15.107Z"
      },
      {
        "duration": 19,
        "start_time": "2022-03-23T19:44:15.148Z"
      },
      {
        "duration": 1168,
        "start_time": "2022-03-23T19:44:15.169Z"
      },
      {
        "duration": 46551,
        "start_time": "2022-03-23T19:44:16.339Z"
      },
      {
        "duration": 50319,
        "start_time": "2022-03-23T19:45:02.892Z"
      },
      {
        "duration": 271,
        "start_time": "2022-03-23T19:45:53.213Z"
      },
      {
        "duration": 19,
        "start_time": "2022-03-23T19:45:53.487Z"
      },
      {
        "duration": 2398,
        "start_time": "2022-03-23T19:45:53.510Z"
      },
      {
        "duration": 887,
        "start_time": "2022-03-23T19:45:55.911Z"
      },
      {
        "duration": 2582,
        "start_time": "2022-03-23T19:45:56.801Z"
      },
      {
        "duration": 28,
        "start_time": "2022-03-23T19:45:59.386Z"
      },
      {
        "duration": 1375,
        "start_time": "2022-03-23T19:45:59.418Z"
      },
      {
        "duration": 25,
        "start_time": "2022-03-23T19:46:00.798Z"
      },
      {
        "duration": 4166,
        "start_time": "2022-03-23T19:46:00.826Z"
      },
      {
        "duration": 758,
        "start_time": "2022-03-23T19:46:04.996Z"
      },
      {
        "duration": 207939,
        "start_time": "2022-03-23T19:46:05.761Z"
      },
      {
        "duration": 21397,
        "start_time": "2022-03-23T19:49:33.703Z"
      },
      {
        "duration": 2234,
        "start_time": "2022-03-23T19:49:55.103Z"
      },
      {
        "duration": 12754,
        "start_time": "2022-03-23T19:49:57.339Z"
      },
      {
        "duration": 14745,
        "start_time": "2022-03-23T19:50:10.095Z"
      },
      {
        "duration": 3789,
        "start_time": "2022-03-23T19:50:24.843Z"
      },
      {
        "duration": 1100,
        "start_time": "2022-03-23T19:50:28.636Z"
      }
    ],
    "colab": {
      "name": "c3d118ce-7d35-44ee-ab60-2b5c80155ff0.ipynb",
      "provenance": []
    },
    "kernelspec": {
      "display_name": "Python 3 (ipykernel)",
      "language": "python",
      "name": "python3"
    },
    "language_info": {
      "codemirror_mode": {
        "name": "ipython",
        "version": 3
      },
      "file_extension": ".py",
      "mimetype": "text/x-python",
      "name": "python",
      "nbconvert_exporter": "python",
      "pygments_lexer": "ipython3",
      "version": "3.9.5"
    },
    "toc": {
      "base_numbering": 1,
      "nav_menu": {},
      "number_sections": true,
      "sideBar": true,
      "skip_h1_title": true,
      "title_cell": "Содержание",
      "title_sidebar": "Contents",
      "toc_cell": true,
      "toc_position": {
        "height": "calc(100% - 180px)",
        "left": "10px",
        "top": "150px",
        "width": "383.188px"
      },
      "toc_section_display": true,
      "toc_window_display": true
    }
  },
  "nbformat": 4,
  "nbformat_minor": 0
}
