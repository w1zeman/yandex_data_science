{
  "cells": [
    {
      "cell_type": "markdown",
      "metadata": {
        "id": "xDUxQ6ifD6Xm"
      },
      "source": [
        "# Сборный проект. Анализ и предсказание продаж по компьютерным играм."
      ]
    },
    {
      "cell_type": "markdown",
      "metadata": {
        "id": "8hOiyJY7D6Xm"
      },
      "source": [
        "## Описание проекта\n",
        "\n",
        "Вы работаете в интернет-магазине «Стримчик», который продаёт по всему миру компьютерные игры. Из открытых источников доступны исторические данные о продажах игр, оценки пользователей и экспертов, жанры и платформы (например, Xbox или PlayStation). Вам нужно выявить определяющие успешность игры закономерности. Это позволит сделать ставку на потенциально популярный продукт и спланировать рекламные кампании.\n",
        "\n",
        "Перед вами данные до 2016 года. Представим, что сейчас декабрь 2016 г., и вы планируете кампанию на 2017-й. Нужно отработать принцип работы с данными. Неважно, прогнозируете ли вы продажи на 2017 год по данным 2016-го или же 2027-й — по данным 2026 года.\n",
        "\n",
        "В наборе данных попадается аббревиатура ESRB (Entertainment Software Rating Board) — это ассоциация, определяющая возрастной рейтинг компьютерных игр. ESRB оценивает игровой контент и присваивает ему подходящую возрастную категорию, например, «Для взрослых», «Для детей младшего возраста» или «Для подростков»."
      ]
    },
    {
      "cell_type": "markdown",
      "metadata": {
        "id": "Y7LivlpPD6Xn"
      },
      "source": [
        "### Описание данных\n",
        "* Name — название игры\n",
        "* Platform — платформа\n",
        "* Year_of_Release — год выпуска\n",
        "* Genre — жанр игры\n",
        "* NA_sales — продажи в Северной Америке (миллионы проданных копий)\n",
        "* EU_sales — продажи в Европе (миллионы проданных копий)\n",
        "* JP_sales — продажи в Японии (миллионы проданных копий)\n",
        "* Other_sales — продажи в других странах (миллионы проданных копий)\n",
        "* Critic_Score — оценка критиков (максимум 100)\n",
        "* User_Score — оценка пользователей (максимум 10)\n",
        "* Rating — рейтинг от организации ESRB (англ. Entertainment Software Rating Board). Эта ассоциация определяет рейтинг компьютерных игр и присваивает им подходящую возрастную категорию.\n",
        "\n",
        "Данные за 2016 год могут быть неполными."
      ]
    },
    {
      "cell_type": "markdown",
      "metadata": {
        "id": "XivVH91cD6Xo"
      },
      "source": [
        "## Откройте файл с данными и изучите общую информацию"
      ]
    },
    {
      "cell_type": "code",
      "execution_count": null,
      "metadata": {
        "id": "5_ps0I64D6Xp"
      },
      "outputs": [],
      "source": [
        "import pandas as pd\n",
        "import copy\n",
        "import matplotlib.pyplot as plt \n",
        "import seaborn as sns\n",
        "from scipy import stats as st\n",
        "import numpy as np\n",
        "\n",
        "import warnings\n",
        "warnings.filterwarnings(\"ignore\", category=np.VisibleDeprecationWarning) "
      ]
    },
    {
      "cell_type": "markdown",
      "metadata": {
        "id": "nB-UpZ2dD6Xq"
      },
      "source": [
        "подключение библиотек"
      ]
    },
    {
      "cell_type": "code",
      "execution_count": null,
      "metadata": {
        "id": "XlsVNrqPD6Xq",
        "outputId": "6aabfa0c-2904-49ad-9489-7fe88dc09e81"
      },
      "outputs": [
        {
          "name": "stdout",
          "output_type": "stream",
          "text": [
            "<class 'pandas.core.frame.DataFrame'>\n",
            "RangeIndex: 16715 entries, 0 to 16714\n",
            "Data columns (total 11 columns):\n",
            "Name               16713 non-null object\n",
            "Platform           16715 non-null object\n",
            "Year_of_Release    16446 non-null float64\n",
            "Genre              16713 non-null object\n",
            "NA_sales           16715 non-null float64\n",
            "EU_sales           16715 non-null float64\n",
            "JP_sales           16715 non-null float64\n",
            "Other_sales        16715 non-null float64\n",
            "Critic_Score       8137 non-null float64\n",
            "User_Score         10014 non-null object\n",
            "Rating             9949 non-null object\n",
            "dtypes: float64(6), object(5)\n",
            "memory usage: 1.4+ MB\n"
          ]
        },
        {
          "data": {
            "text/plain": [
              "(None,\n",
              "                        Name Platform  Year_of_Release         Genre  NA_sales  \\\n",
              " 0                Wii Sports      Wii           2006.0        Sports     41.36   \n",
              " 1         Super Mario Bros.      NES           1985.0      Platform     29.08   \n",
              " 2            Mario Kart Wii      Wii           2008.0        Racing     15.68   \n",
              " 3         Wii Sports Resort      Wii           2009.0        Sports     15.61   \n",
              " 4  Pokemon Red/Pokemon Blue       GB           1996.0  Role-Playing     11.27   \n",
              " \n",
              "    EU_sales  JP_sales  Other_sales  Critic_Score User_Score Rating  \n",
              " 0     28.96      3.77         8.45          76.0          8      E  \n",
              " 1      3.58      6.81         0.77           NaN        NaN    NaN  \n",
              " 2     12.76      3.79         3.29          82.0        8.3      E  \n",
              " 3     10.93      3.28         2.95          80.0          8      E  \n",
              " 4      8.89     10.22         1.00           NaN        NaN    NaN  )"
            ]
          },
          "execution_count": 2,
          "metadata": {},
          "output_type": "execute_result"
        }
      ],
      "source": [
        "data_games = pd.read_csv('/datasets/games.csv')\n",
        "data_games.info(), data_games.head()"
      ]
    },
    {
      "cell_type": "markdown",
      "metadata": {
        "id": "Xa-VhkvHD6Xr"
      },
      "source": [
        "просмотр общей информации"
      ]
    },
    {
      "cell_type": "code",
      "execution_count": null,
      "metadata": {
        "id": "F52olkatD6Xr",
        "outputId": "dd9dce00-5ddc-4135-a9dd-3ea68f1242a9"
      },
      "outputs": [
        {
          "data": {
            "text/html": [
              "<div>\n",
              "<style scoped>\n",
              "    .dataframe tbody tr th:only-of-type {\n",
              "        vertical-align: middle;\n",
              "    }\n",
              "\n",
              "    .dataframe tbody tr th {\n",
              "        vertical-align: top;\n",
              "    }\n",
              "\n",
              "    .dataframe thead th {\n",
              "        text-align: right;\n",
              "    }\n",
              "</style>\n",
              "<table border=\"1\" class=\"dataframe\">\n",
              "  <thead>\n",
              "    <tr style=\"text-align: right;\">\n",
              "      <th></th>\n",
              "      <th>count</th>\n",
              "      <th>mean</th>\n",
              "      <th>std</th>\n",
              "      <th>min</th>\n",
              "      <th>25%</th>\n",
              "      <th>50%</th>\n",
              "      <th>75%</th>\n",
              "      <th>max</th>\n",
              "    </tr>\n",
              "  </thead>\n",
              "  <tbody>\n",
              "    <tr>\n",
              "      <td>Year_of_Release</td>\n",
              "      <td>16446.0</td>\n",
              "      <td>2006.484616</td>\n",
              "      <td>5.877050</td>\n",
              "      <td>1980.0</td>\n",
              "      <td>2003.0</td>\n",
              "      <td>2007.00</td>\n",
              "      <td>2010.00</td>\n",
              "      <td>2016.00</td>\n",
              "    </tr>\n",
              "    <tr>\n",
              "      <td>NA_sales</td>\n",
              "      <td>16715.0</td>\n",
              "      <td>0.263377</td>\n",
              "      <td>0.813604</td>\n",
              "      <td>0.0</td>\n",
              "      <td>0.0</td>\n",
              "      <td>0.08</td>\n",
              "      <td>0.24</td>\n",
              "      <td>41.36</td>\n",
              "    </tr>\n",
              "    <tr>\n",
              "      <td>EU_sales</td>\n",
              "      <td>16715.0</td>\n",
              "      <td>0.145060</td>\n",
              "      <td>0.503339</td>\n",
              "      <td>0.0</td>\n",
              "      <td>0.0</td>\n",
              "      <td>0.02</td>\n",
              "      <td>0.11</td>\n",
              "      <td>28.96</td>\n",
              "    </tr>\n",
              "    <tr>\n",
              "      <td>JP_sales</td>\n",
              "      <td>16715.0</td>\n",
              "      <td>0.077617</td>\n",
              "      <td>0.308853</td>\n",
              "      <td>0.0</td>\n",
              "      <td>0.0</td>\n",
              "      <td>0.00</td>\n",
              "      <td>0.04</td>\n",
              "      <td>10.22</td>\n",
              "    </tr>\n",
              "    <tr>\n",
              "      <td>Other_sales</td>\n",
              "      <td>16715.0</td>\n",
              "      <td>0.047342</td>\n",
              "      <td>0.186731</td>\n",
              "      <td>0.0</td>\n",
              "      <td>0.0</td>\n",
              "      <td>0.01</td>\n",
              "      <td>0.03</td>\n",
              "      <td>10.57</td>\n",
              "    </tr>\n",
              "    <tr>\n",
              "      <td>Critic_Score</td>\n",
              "      <td>8137.0</td>\n",
              "      <td>68.967679</td>\n",
              "      <td>13.938165</td>\n",
              "      <td>13.0</td>\n",
              "      <td>60.0</td>\n",
              "      <td>71.00</td>\n",
              "      <td>79.00</td>\n",
              "      <td>98.00</td>\n",
              "    </tr>\n",
              "  </tbody>\n",
              "</table>\n",
              "</div>"
            ],
            "text/plain": [
              "                   count         mean        std     min     25%      50%  \\\n",
              "Year_of_Release  16446.0  2006.484616   5.877050  1980.0  2003.0  2007.00   \n",
              "NA_sales         16715.0     0.263377   0.813604     0.0     0.0     0.08   \n",
              "EU_sales         16715.0     0.145060   0.503339     0.0     0.0     0.02   \n",
              "JP_sales         16715.0     0.077617   0.308853     0.0     0.0     0.00   \n",
              "Other_sales      16715.0     0.047342   0.186731     0.0     0.0     0.01   \n",
              "Critic_Score      8137.0    68.967679  13.938165    13.0    60.0    71.00   \n",
              "\n",
              "                     75%      max  \n",
              "Year_of_Release  2010.00  2016.00  \n",
              "NA_sales            0.24    41.36  \n",
              "EU_sales            0.11    28.96  \n",
              "JP_sales            0.04    10.22  \n",
              "Other_sales         0.03    10.57  \n",
              "Critic_Score       79.00    98.00  "
            ]
          },
          "execution_count": 3,
          "metadata": {},
          "output_type": "execute_result"
        }
      ],
      "source": [
        "data_games.describe().T"
      ]
    },
    {
      "cell_type": "markdown",
      "metadata": {
        "id": "WzaN72k5D6Xs"
      },
      "source": [
        "вывод сводной информации о таблице"
      ]
    },
    {
      "cell_type": "markdown",
      "metadata": {
        "id": "xAIPfDoMD6Xs"
      },
      "source": [
        "### Вывод\n",
        "В данных есть несоответствие типов данных и пропуски."
      ]
    },
    {
      "cell_type": "markdown",
      "metadata": {
        "id": "rph0gr99D6Xs"
      },
      "source": [
        "## Подготовьте данные"
      ]
    },
    {
      "cell_type": "code",
      "execution_count": null,
      "metadata": {
        "id": "xPKmQGDED6Xt",
        "outputId": "7a2f824f-eef9-4941-d4bd-6014825b97e8"
      },
      "outputs": [
        {
          "data": {
            "text/html": [
              "<div>\n",
              "<style scoped>\n",
              "    .dataframe tbody tr th:only-of-type {\n",
              "        vertical-align: middle;\n",
              "    }\n",
              "\n",
              "    .dataframe tbody tr th {\n",
              "        vertical-align: top;\n",
              "    }\n",
              "\n",
              "    .dataframe thead th {\n",
              "        text-align: right;\n",
              "    }\n",
              "</style>\n",
              "<table border=\"1\" class=\"dataframe\">\n",
              "  <thead>\n",
              "    <tr style=\"text-align: right;\">\n",
              "      <th></th>\n",
              "      <th>name</th>\n",
              "      <th>platform</th>\n",
              "      <th>year_of_release</th>\n",
              "      <th>genre</th>\n",
              "      <th>na_sales</th>\n",
              "      <th>eu_sales</th>\n",
              "      <th>jp_sales</th>\n",
              "      <th>other_sales</th>\n",
              "      <th>critic_score</th>\n",
              "      <th>user_score</th>\n",
              "      <th>rating</th>\n",
              "    </tr>\n",
              "  </thead>\n",
              "  <tbody>\n",
              "    <tr>\n",
              "      <td>0</td>\n",
              "      <td>Wii Sports</td>\n",
              "      <td>Wii</td>\n",
              "      <td>2006.0</td>\n",
              "      <td>Sports</td>\n",
              "      <td>41.36</td>\n",
              "      <td>28.96</td>\n",
              "      <td>3.77</td>\n",
              "      <td>8.45</td>\n",
              "      <td>76.0</td>\n",
              "      <td>8</td>\n",
              "      <td>E</td>\n",
              "    </tr>\n",
              "    <tr>\n",
              "      <td>1</td>\n",
              "      <td>Super Mario Bros.</td>\n",
              "      <td>NES</td>\n",
              "      <td>1985.0</td>\n",
              "      <td>Platform</td>\n",
              "      <td>29.08</td>\n",
              "      <td>3.58</td>\n",
              "      <td>6.81</td>\n",
              "      <td>0.77</td>\n",
              "      <td>NaN</td>\n",
              "      <td>NaN</td>\n",
              "      <td>NaN</td>\n",
              "    </tr>\n",
              "    <tr>\n",
              "      <td>2</td>\n",
              "      <td>Mario Kart Wii</td>\n",
              "      <td>Wii</td>\n",
              "      <td>2008.0</td>\n",
              "      <td>Racing</td>\n",
              "      <td>15.68</td>\n",
              "      <td>12.76</td>\n",
              "      <td>3.79</td>\n",
              "      <td>3.29</td>\n",
              "      <td>82.0</td>\n",
              "      <td>8.3</td>\n",
              "      <td>E</td>\n",
              "    </tr>\n",
              "    <tr>\n",
              "      <td>3</td>\n",
              "      <td>Wii Sports Resort</td>\n",
              "      <td>Wii</td>\n",
              "      <td>2009.0</td>\n",
              "      <td>Sports</td>\n",
              "      <td>15.61</td>\n",
              "      <td>10.93</td>\n",
              "      <td>3.28</td>\n",
              "      <td>2.95</td>\n",
              "      <td>80.0</td>\n",
              "      <td>8</td>\n",
              "      <td>E</td>\n",
              "    </tr>\n",
              "    <tr>\n",
              "      <td>4</td>\n",
              "      <td>Pokemon Red/Pokemon Blue</td>\n",
              "      <td>GB</td>\n",
              "      <td>1996.0</td>\n",
              "      <td>Role-Playing</td>\n",
              "      <td>11.27</td>\n",
              "      <td>8.89</td>\n",
              "      <td>10.22</td>\n",
              "      <td>1.00</td>\n",
              "      <td>NaN</td>\n",
              "      <td>NaN</td>\n",
              "      <td>NaN</td>\n",
              "    </tr>\n",
              "  </tbody>\n",
              "</table>\n",
              "</div>"
            ],
            "text/plain": [
              "                       name platform  year_of_release         genre  na_sales  \\\n",
              "0                Wii Sports      Wii           2006.0        Sports     41.36   \n",
              "1         Super Mario Bros.      NES           1985.0      Platform     29.08   \n",
              "2            Mario Kart Wii      Wii           2008.0        Racing     15.68   \n",
              "3         Wii Sports Resort      Wii           2009.0        Sports     15.61   \n",
              "4  Pokemon Red/Pokemon Blue       GB           1996.0  Role-Playing     11.27   \n",
              "\n",
              "   eu_sales  jp_sales  other_sales  critic_score user_score rating  \n",
              "0     28.96      3.77         8.45          76.0          8      E  \n",
              "1      3.58      6.81         0.77           NaN        NaN    NaN  \n",
              "2     12.76      3.79         3.29          82.0        8.3      E  \n",
              "3     10.93      3.28         2.95          80.0          8      E  \n",
              "4      8.89     10.22         1.00           NaN        NaN    NaN  "
            ]
          },
          "execution_count": 4,
          "metadata": {},
          "output_type": "execute_result"
        }
      ],
      "source": [
        "data_games.columns = map(str.lower, data_games.columns)\n",
        "data_games.head()"
      ]
    },
    {
      "cell_type": "markdown",
      "metadata": {
        "id": "A9uRSnruD6Xt"
      },
      "source": [
        "названия столбцов приводим к нижнему регистру"
      ]
    },
    {
      "cell_type": "code",
      "execution_count": null,
      "metadata": {
        "id": "bOapSK15D6Xt",
        "outputId": "66f74e2e-af42-4e0f-d51a-581709358897"
      },
      "outputs": [
        {
          "data": {
            "text/plain": [
              "['name', 'year_of_release', 'genre', 'critic_score', 'user_score', 'rating']"
            ]
          },
          "execution_count": 5,
          "metadata": {},
          "output_type": "execute_result"
        }
      ],
      "source": [
        "missing_list = []\n",
        "for x in data_games:\n",
        "    if len(data_games[data_games[x].isnull()]) > 0:\n",
        "        missing_list.append(x)\n",
        "missing_list"
      ]
    },
    {
      "cell_type": "markdown",
      "metadata": {
        "id": "DDn60WcTD6Xt"
      },
      "source": [
        "вывод колонок данных содержащих nan значения"
      ]
    },
    {
      "cell_type": "code",
      "execution_count": null,
      "metadata": {
        "id": "PtMDhM0QD6Xu",
        "outputId": "77aa2664-06ea-4697-c3e6-1544bccc76b7"
      },
      "outputs": [
        {
          "data": {
            "text/html": [
              "<div>\n",
              "<style scoped>\n",
              "    .dataframe tbody tr th:only-of-type {\n",
              "        vertical-align: middle;\n",
              "    }\n",
              "\n",
              "    .dataframe tbody tr th {\n",
              "        vertical-align: top;\n",
              "    }\n",
              "\n",
              "    .dataframe thead th {\n",
              "        text-align: right;\n",
              "    }\n",
              "</style>\n",
              "<table border=\"1\" class=\"dataframe\">\n",
              "  <thead>\n",
              "    <tr style=\"text-align: right;\">\n",
              "      <th></th>\n",
              "      <th>column</th>\n",
              "      <th>missing %</th>\n",
              "    </tr>\n",
              "  </thead>\n",
              "  <tbody>\n",
              "    <tr>\n",
              "      <td>3</td>\n",
              "      <td>critic_score</td>\n",
              "      <td>0.513192</td>\n",
              "    </tr>\n",
              "    <tr>\n",
              "      <td>5</td>\n",
              "      <td>rating</td>\n",
              "      <td>0.404786</td>\n",
              "    </tr>\n",
              "    <tr>\n",
              "      <td>4</td>\n",
              "      <td>user_score</td>\n",
              "      <td>0.400897</td>\n",
              "    </tr>\n",
              "    <tr>\n",
              "      <td>1</td>\n",
              "      <td>year_of_release</td>\n",
              "      <td>0.016093</td>\n",
              "    </tr>\n",
              "    <tr>\n",
              "      <td>0</td>\n",
              "      <td>name</td>\n",
              "      <td>0.000120</td>\n",
              "    </tr>\n",
              "    <tr>\n",
              "      <td>2</td>\n",
              "      <td>genre</td>\n",
              "      <td>0.000120</td>\n",
              "    </tr>\n",
              "  </tbody>\n",
              "</table>\n",
              "</div>"
            ],
            "text/plain": [
              "            column  missing %\n",
              "3     critic_score   0.513192\n",
              "5           rating   0.404786\n",
              "4       user_score   0.400897\n",
              "1  year_of_release   0.016093\n",
              "0             name   0.000120\n",
              "2            genre   0.000120"
            ]
          },
          "execution_count": 6,
          "metadata": {},
          "output_type": "execute_result"
        }
      ],
      "source": [
        "missing_perc = []\n",
        "for x in missing_list:\n",
        "    missing_perc.append([x, (len(data_games[data_games[x].isnull()]) / len(data_games))])\n",
        "missing_perc=pd.DataFrame(missing_perc, columns=['column', 'missing %'])\n",
        "missing_perc.sort_values(by=['missing %'], ascending=False)"
      ]
    },
    {
      "cell_type": "code",
      "execution_count": null,
      "metadata": {
        "id": "IqUU5EiQD6Xv",
        "outputId": "cf92a53f-9b67-453e-8fdd-bfb07205a2d0"
      },
      "outputs": [
        {
          "data": {
            "text/html": [
              "<div>\n",
              "<style scoped>\n",
              "    .dataframe tbody tr th:only-of-type {\n",
              "        vertical-align: middle;\n",
              "    }\n",
              "\n",
              "    .dataframe tbody tr th {\n",
              "        vertical-align: top;\n",
              "    }\n",
              "\n",
              "    .dataframe thead th {\n",
              "        text-align: right;\n",
              "    }\n",
              "</style>\n",
              "<table border=\"1\" class=\"dataframe\">\n",
              "  <thead>\n",
              "    <tr style=\"text-align: right;\">\n",
              "      <th></th>\n",
              "      <th>missing</th>\n",
              "    </tr>\n",
              "  </thead>\n",
              "  <tbody>\n",
              "    <tr>\n",
              "      <td>critic_score</td>\n",
              "      <td>0.513192</td>\n",
              "    </tr>\n",
              "    <tr>\n",
              "      <td>rating</td>\n",
              "      <td>0.404786</td>\n",
              "    </tr>\n",
              "    <tr>\n",
              "      <td>user_score</td>\n",
              "      <td>0.400897</td>\n",
              "    </tr>\n",
              "    <tr>\n",
              "      <td>year_of_release</td>\n",
              "      <td>0.016093</td>\n",
              "    </tr>\n",
              "    <tr>\n",
              "      <td>name</td>\n",
              "      <td>0.000120</td>\n",
              "    </tr>\n",
              "    <tr>\n",
              "      <td>genre</td>\n",
              "      <td>0.000120</td>\n",
              "    </tr>\n",
              "    <tr>\n",
              "      <td>platform</td>\n",
              "      <td>0.000000</td>\n",
              "    </tr>\n",
              "    <tr>\n",
              "      <td>na_sales</td>\n",
              "      <td>0.000000</td>\n",
              "    </tr>\n",
              "    <tr>\n",
              "      <td>eu_sales</td>\n",
              "      <td>0.000000</td>\n",
              "    </tr>\n",
              "    <tr>\n",
              "      <td>jp_sales</td>\n",
              "      <td>0.000000</td>\n",
              "    </tr>\n",
              "    <tr>\n",
              "      <td>other_sales</td>\n",
              "      <td>0.000000</td>\n",
              "    </tr>\n",
              "  </tbody>\n",
              "</table>\n",
              "</div>"
            ],
            "text/plain": [
              "                  missing\n",
              "critic_score     0.513192\n",
              "rating           0.404786\n",
              "user_score       0.400897\n",
              "year_of_release  0.016093\n",
              "name             0.000120\n",
              "genre            0.000120\n",
              "platform         0.000000\n",
              "na_sales         0.000000\n",
              "eu_sales         0.000000\n",
              "jp_sales         0.000000\n",
              "other_sales      0.000000"
            ]
          },
          "execution_count": 7,
          "metadata": {},
          "output_type": "execute_result"
        }
      ],
      "source": [
        "data_games.isna().mean().to_frame(name=\"missing\").sort_values(by='missing', ascending=False)"
      ]
    },
    {
      "cell_type": "markdown",
      "metadata": {
        "id": "32x41d-SD6Xv"
      },
      "source": [
        "<hr style=\"border: 2px solid orange;\" />"
      ]
    },
    {
      "cell_type": "markdown",
      "metadata": {
        "id": "gh7Zp6qZD6Xv"
      },
      "source": [
        "вывод колонок с процентами данных содержащих nan значения, пропуски возможно появились из-за того, что данные ошибочно не были введены"
      ]
    },
    {
      "cell_type": "code",
      "execution_count": null,
      "metadata": {
        "id": "hc7Q6GndD6Xv",
        "outputId": "8de34d3f-3b38-40de-e4b6-0d58b942e5c5"
      },
      "outputs": [
        {
          "data": {
            "text/plain": [
              "0"
            ]
          },
          "execution_count": 8,
          "metadata": {},
          "output_type": "execute_result"
        }
      ],
      "source": [
        "data_games.duplicated().sum()"
      ]
    },
    {
      "cell_type": "markdown",
      "metadata": {
        "id": "OIF7YojWD6Xw"
      },
      "source": [
        "проверка на полные дубликаты"
      ]
    },
    {
      "cell_type": "code",
      "execution_count": null,
      "metadata": {
        "id": "aLTc53KRD6Xw",
        "outputId": "dcc3fc90-45ee-4494-b212-bd90184392e5"
      },
      "outputs": [
        {
          "data": {
            "text/plain": [
              "rating\n",
              "AO         1\n",
              "E       3990\n",
              "E10+    1420\n",
              "EC         8\n",
              "K-A        3\n",
              "M       1563\n",
              "RP         3\n",
              "T       2961\n",
              "Name: rating, dtype: int64"
            ]
          },
          "execution_count": 9,
          "metadata": {},
          "output_type": "execute_result"
        }
      ],
      "source": [
        "data_games.groupby(['rating'])['rating'].count()"
      ]
    },
    {
      "cell_type": "markdown",
      "metadata": {
        "id": "JjjbSbg-D6Xw"
      },
      "source": [
        "сводная таблица сгруппированная по количеству рейтингов"
      ]
    },
    {
      "cell_type": "markdown",
      "metadata": {
        "id": "-Zf_qXk7D6Xw"
      },
      "source": [
        "Классификация по рейтингу ESRB:\n",
        "\n",
        "* AO - («Adults Only 18+») — «Только для взрослых»\n",
        "* E - («Everyone») — «Для всех»\n",
        "* E10+ - («Everyone 10 and older») — «Для всех от 10 лет и старше»\n",
        "* EC - («Early childhood») — «Для детей младшего возраста»\n",
        "* K - A - (Kids to Adults) rating category changed to E (Everyone)\n",
        "* M - («Mature») — «Для взрослых»\n",
        "* RP - («Rating Pending») — «Рейтинг ожидается»\n",
        "* T - («Teen») — «Подросткам»"
      ]
    },
    {
      "cell_type": "code",
      "execution_count": null,
      "metadata": {
        "id": "PlCqabEoD6Xw"
      },
      "outputs": [],
      "source": [
        "data_games['rating'] = data_games['rating'].fillna('RP')"
      ]
    },
    {
      "cell_type": "markdown",
      "metadata": {
        "id": "0a4NEGpOD6Xx"
      },
      "source": [
        "замена пустых значений на значение RP (Rating Pending Рейтинг ожидается)"
      ]
    },
    {
      "cell_type": "code",
      "execution_count": null,
      "metadata": {
        "id": "rFgOMUBND6Xx"
      },
      "outputs": [],
      "source": [
        "data_games.loc[data_games['rating'] == 'K-A', 'rating'] = 'E'"
      ]
    },
    {
      "cell_type": "markdown",
      "metadata": {
        "id": "TN3TT87iD6Xx"
      },
      "source": [
        "замена на Е. Так как в рейтинге ESRB: Kids to Adults перевели в Everyone "
      ]
    },
    {
      "cell_type": "code",
      "execution_count": null,
      "metadata": {
        "id": "pXLqWaxKD6Xx"
      },
      "outputs": [],
      "source": [
        "data_games['year_of_release'] = data_games['year_of_release'].fillna(-1)"
      ]
    },
    {
      "cell_type": "markdown",
      "metadata": {
        "id": "T-LnCWfhD6Xy"
      },
      "source": [
        "nan значения в годах на значение -1 для явного обозначения пропуска"
      ]
    },
    {
      "cell_type": "code",
      "execution_count": null,
      "metadata": {
        "id": "_XJBtJA3D6Xy"
      },
      "outputs": [],
      "source": [
        "data_games['genre'] = data_games['genre'].fillna('unknown')"
      ]
    },
    {
      "cell_type": "markdown",
      "metadata": {
        "id": "IEpNnWWuD6Xy"
      },
      "source": [
        "в жанрах пустые значения заменили на unknown"
      ]
    },
    {
      "cell_type": "code",
      "execution_count": null,
      "metadata": {
        "id": "EII8M6kpD6Xy"
      },
      "outputs": [],
      "source": [
        "data_games['critic_score'] = data_games['critic_score'].fillna(-1)"
      ]
    },
    {
      "cell_type": "markdown",
      "metadata": {
        "id": "d0I0DVxPD6Xy"
      },
      "source": [
        "пропуски в оценках критиков явно обозначены, как -1"
      ]
    },
    {
      "cell_type": "code",
      "execution_count": null,
      "metadata": {
        "id": "UORhBnuyD6Xy"
      },
      "outputs": [],
      "source": [
        "data_games['user_score'] = data_games['user_score'].fillna(-1)"
      ]
    },
    {
      "cell_type": "markdown",
      "metadata": {
        "id": "lhNOypEBD6Xz"
      },
      "source": [
        "пропуски в оценках пользователей явно обозначены, как -1"
      ]
    },
    {
      "cell_type": "code",
      "execution_count": null,
      "metadata": {
        "id": "6chDyChrD6Xz"
      },
      "outputs": [],
      "source": [
        "data_games['name'] = data_games['name'].fillna('unknown')"
      ]
    },
    {
      "cell_type": "markdown",
      "metadata": {
        "id": "IZRZGT3MD6Xz"
      },
      "source": [
        "в названиях пропуски заменено на unknown"
      ]
    },
    {
      "cell_type": "code",
      "execution_count": null,
      "metadata": {
        "id": "sAn4T4GAD6Xz"
      },
      "outputs": [],
      "source": [
        "data_games.loc[data_games['user_score'] == 'tbd', 'user_score'] = 0"
      ]
    },
    {
      "cell_type": "markdown",
      "metadata": {
        "id": "lIMcLhCYD6Xz"
      },
      "source": [
        "значение tbd является нулем"
      ]
    },
    {
      "cell_type": "code",
      "execution_count": null,
      "metadata": {
        "id": "sHwSfHygD6X0"
      },
      "outputs": [],
      "source": [
        "data_games['user_score'] = data_games['user_score'].astype('float')\n",
        "data_games['year_of_release'] = pd.to_numeric(data_games['year_of_release'], downcast='integer')\n",
        "data_games['critic_score'] = pd.to_numeric(data_games['critic_score'], downcast='integer')"
      ]
    },
    {
      "cell_type": "markdown",
      "metadata": {
        "id": "vzpjXQEwD6X0"
      },
      "source": [
        "преобразование столбца user_score в тип float\n",
        "преобразование столбцов year_of_release и critic_score в тип int т.к. значения целые числа"
      ]
    },
    {
      "cell_type": "code",
      "execution_count": null,
      "metadata": {
        "id": "VxBVkyNkD6X0",
        "outputId": "321f3a33-9e29-4776-c7eb-6d1341543011"
      },
      "outputs": [
        {
          "name": "stdout",
          "output_type": "stream",
          "text": [
            "<class 'pandas.core.frame.DataFrame'>\n",
            "RangeIndex: 16715 entries, 0 to 16714\n",
            "Data columns (total 11 columns):\n",
            "name               16715 non-null object\n",
            "platform           16715 non-null object\n",
            "year_of_release    16715 non-null int16\n",
            "genre              16715 non-null object\n",
            "na_sales           16715 non-null float64\n",
            "eu_sales           16715 non-null float64\n",
            "jp_sales           16715 non-null float64\n",
            "other_sales        16715 non-null float64\n",
            "critic_score       16715 non-null int8\n",
            "user_score         16715 non-null float64\n",
            "rating             16715 non-null object\n",
            "dtypes: float64(5), int16(1), int8(1), object(4)\n",
            "memory usage: 1.2+ MB\n"
          ]
        }
      ],
      "source": [
        "data_games.info()"
      ]
    },
    {
      "cell_type": "markdown",
      "metadata": {
        "id": "fun0uf2dD6X0"
      },
      "source": [
        "отображение типов данных в таблице "
      ]
    },
    {
      "cell_type": "code",
      "execution_count": null,
      "metadata": {
        "id": "5w9isH4QD6X0"
      },
      "outputs": [],
      "source": [
        "data_games['all_sales'] = data_games['na_sales'] + data_games['eu_sales'] + data_games['jp_sales'] + data_games['other_sales']"
      ]
    },
    {
      "cell_type": "markdown",
      "metadata": {
        "id": "VUu9u7FGD6X1"
      },
      "source": [
        "добавление столбца all_sales с суммарными продажами"
      ]
    },
    {
      "cell_type": "markdown",
      "metadata": {
        "id": "5qVaaFetD6X1"
      },
      "source": [
        "### вывод\n",
        "\n",
        "* тип данных в столбце user_score изменили на float для дальнейших расчетов\n",
        "* тип данных в столбцах year_of_release и critic_score преобразовали в тип int т.к. значения целые числа\n",
        "\n",
        "* Пропуски в значениях рейтенга заменили на RP (ожидает оценки). И в рейтинге классификатор K - A заменили на E. Так как он был включен в классификатор E. Присутствие классификатора K - A говорит о устарелых данных в базе.\n",
        "* Пропуски в значениях года выпуска заменили на явное обозначение -1 для того что бы понимать, что это пустые данные в годах выпуска.\n",
        "* Пропуски в значениях в жанрах заменили на unknown.\n",
        "* Пропуски оценки критиков заменили на явное обозначение -1 для наглядности.\n",
        "* Пропуски в оценках пользователей на явное обозначение -1. А значения tbl (to be announced) заменили на 0. Так как tbl показывает что оценка еще не выставленна.\n",
        "* Пропуски в названиях игр заменили на unknown.\n",
        "\n",
        "* добавили столбец all_sales с суммарными продажами\n",
        "\n",
        "Большенство пропусков связано с некорректной обработкой информации при вводе в базу или же связанно с ошибками при выгрузке данных. Следует сообщить об этом поставщику данных."
      ]
    },
    {
      "cell_type": "markdown",
      "metadata": {
        "id": "hPAc6Be8D6X1"
      },
      "source": [
        "## Проведите исследовательский анализ данных"
      ]
    },
    {
      "cell_type": "code",
      "execution_count": null,
      "metadata": {
        "id": "tDfP8m4iD6X1",
        "outputId": "7367df7a-68bf-4393-e7b5-bef8252fff3e"
      },
      "outputs": [
        {
          "data": {
            "text/plain": [
              "year_of_release\n",
              "-1        269\n",
              " 1980       9\n",
              " 1981      46\n",
              " 1982      36\n",
              " 1983      17\n",
              " 1984      14\n",
              " 1985      14\n",
              " 1986      21\n",
              " 1987      16\n",
              " 1988      15\n",
              " 1989      17\n",
              " 1990      16\n",
              " 1991      41\n",
              " 1992      43\n",
              " 1993      62\n",
              " 1994     121\n",
              " 1995     219\n",
              " 1996     263\n",
              " 1997     289\n",
              " 1998     379\n",
              " 1999     338\n",
              " 2000     350\n",
              " 2001     482\n",
              " 2002     829\n",
              " 2003     775\n",
              " 2004     762\n",
              " 2005     939\n",
              " 2006    1006\n",
              " 2007    1197\n",
              " 2008    1427\n",
              " 2009    1426\n",
              " 2010    1255\n",
              " 2011    1136\n",
              " 2012     653\n",
              " 2013     544\n",
              " 2014     581\n",
              " 2015     606\n",
              " 2016     502\n",
              "Name: name, dtype: int64"
            ]
          },
          "execution_count": 21,
          "metadata": {},
          "output_type": "execute_result"
        }
      ],
      "source": [
        "data_games.groupby(['year_of_release'])['name'].count()"
      ]
    },
    {
      "cell_type": "markdown",
      "metadata": {
        "id": "JGtjNNrMD6X1"
      },
      "source": [
        "подсчет количества выпущенных игр по годам"
      ]
    },
    {
      "cell_type": "code",
      "execution_count": null,
      "metadata": {
        "id": "rtyOFEoRD6X1",
        "outputId": "4df39aa1-ecae-4028-d612-d86f64b658eb"
      },
      "outputs": [
        {
          "data": {
            "text/plain": [
              "year_of_release\n",
              "1994     121\n",
              "1995     219\n",
              "1996     263\n",
              "1997     289\n",
              "1998     379\n",
              "1999     338\n",
              "2000     350\n",
              "2001     482\n",
              "2002     829\n",
              "2003     775\n",
              "2004     762\n",
              "2005     939\n",
              "2006    1006\n",
              "2007    1197\n",
              "2008    1427\n",
              "2009    1426\n",
              "2010    1255\n",
              "2011    1136\n",
              "2012     653\n",
              "2013     544\n",
              "2014     581\n",
              "2015     606\n",
              "2016     502\n",
              "Name: name, dtype: int64"
            ]
          },
          "execution_count": 22,
          "metadata": {},
          "output_type": "execute_result"
        }
      ],
      "source": [
        "data_games = data_games.query('1994 <= year_of_release <= 2016')\n",
        "data_games.groupby(['year_of_release'])['name'].count()"
      ]
    },
    {
      "cell_type": "markdown",
      "metadata": {
        "id": "talcSBX0D6X2"
      },
      "source": [
        "подготовка данных с временным интервалом 1994-2016"
      ]
    },
    {
      "cell_type": "code",
      "execution_count": null,
      "metadata": {
        "id": "5CFlcoeUD6X2",
        "outputId": "516e5ac0-1054-4cc4-c04e-f0ec1e1af459"
      },
      "outputs": [
        {
          "data": {
            "text/plain": [
              "platform\n",
              "PS2     1233.56\n",
              "X360     961.24\n",
              "PS3      931.34\n",
              "Wii      891.18\n",
              "DS       802.76\n",
              "PS       727.58\n",
              "PS4      314.14\n",
              "GBA      312.88\n",
              "PSP      289.53\n",
              "3DS      257.81\n",
              "PC       252.66\n",
              "XB       251.57\n",
              "N64      218.01\n",
              "GC       196.73\n",
              "XOne     159.32\n",
              "GB       152.08\n",
              "SNES      84.67\n",
              "WiiU      82.19\n",
              "PSV       53.81\n",
              "SAT       33.59\n",
              "DC        15.95\n",
              "GEN        8.13\n",
              "WS         1.42\n",
              "NG         1.23\n",
              "SCD        0.36\n",
              "TG16       0.16\n",
              "NES        0.11\n",
              "3DO        0.10\n",
              "PCFX       0.03\n",
              "Name: all_sales, dtype: float64"
            ]
          },
          "execution_count": 23,
          "metadata": {},
          "output_type": "execute_result"
        }
      ],
      "source": [
        "games_top = data_games.groupby(['platform'])['all_sales'].sum().sort_values(ascending=False)\n",
        "games_top"
      ]
    },
    {
      "cell_type": "markdown",
      "metadata": {
        "id": "bVxhM6AzD6X2"
      },
      "source": [
        "продажи по платформам"
      ]
    },
    {
      "cell_type": "code",
      "execution_count": null,
      "metadata": {
        "id": "Mik1RH3HD6X2",
        "outputId": "fbd11566-7874-4f59-8aad-455807401d22"
      },
      "outputs": [
        {
          "data": {
            "image/png": "[encoded data removed]",
            "text/plain": [
              "<Figure size 432x288 with 1 Axes>"
            ]
          },
          "metadata": {
            "needs_background": "light"
          },
          "output_type": "display_data"
        }
      ],
      "source": [
        "games_top.plot();"
      ]
    },
    {
      "cell_type": "markdown",
      "metadata": {
        "id": "BR8gXepFD6X2"
      },
      "source": [
        "визуализизация суммарных продаж по платформам"
      ]
    },
    {
      "cell_type": "code",
      "execution_count": null,
      "metadata": {
        "id": "xEMpIUtQD6X2",
        "outputId": "34666f50-fc58-4cfe-a79f-36ac07223621"
      },
      "outputs": [
        {
          "data": {
            "text/plain": [
              "['PS2',\n",
              " 'X360',\n",
              " 'PS3',\n",
              " 'Wii',\n",
              " 'DS',\n",
              " 'PS',\n",
              " 'PS4',\n",
              " 'GBA',\n",
              " 'PSP',\n",
              " '3DS',\n",
              " 'PC',\n",
              " 'XB',\n",
              " 'N64',\n",
              " 'GC',\n",
              " 'XOne',\n",
              " 'GB']"
            ]
          },
          "execution_count": 25,
          "metadata": {},
          "output_type": "execute_result"
        }
      ],
      "source": [
        "platforms = list(games_top.index[:16])\n",
        "platforms"
      ]
    },
    {
      "cell_type": "markdown",
      "metadata": {
        "id": "di7qZoCvD6X3"
      },
      "source": [
        "список топ16 платформ с наибольшими продажами с временным интервалом 1994-2016, сформированный не в ручную"
      ]
    },
    {
      "cell_type": "code",
      "execution_count": null,
      "metadata": {
        "id": "pcvMc_m8D6X3",
        "outputId": "38b83dbf-bea4-42ee-e395-2e1a33f1655e"
      },
      "outputs": [
        {
          "data": {
            "image/png": "[encoded data removed]",
            "text/plain": [
              "<Figure size 648x432 with 1 Axes>"
            ]
          },
          "metadata": {
            "needs_background": "light"
          },
          "output_type": "display_data"
        }
      ],
      "source": [
        "fig, ax = plt.subplots(figsize=(9, 6))\n",
        "sns.despine(left=True)\n",
        "games_top.plot(kind='barh', ax=ax)\n",
        "ax.grid(color='grey', alpha=0.5, lw=0.5, axis='x');"
      ]
    },
    {
      "cell_type": "markdown",
      "metadata": {
        "id": "xF2NtQJbD6X4"
      },
      "source": [
        "Исходя из графика, кажется, что только первые 6 платформ могут оказаться в топе.\n",
        "<hr style=\"border: 2px solid green;\" />"
      ]
    },
    {
      "cell_type": "code",
      "execution_count": null,
      "metadata": {
        "id": "x1J2J13fD6X4"
      },
      "outputs": [],
      "source": [
        "data_games = data_games.query('platform == @platforms')"
      ]
    },
    {
      "cell_type": "markdown",
      "metadata": {
        "id": "U55N5JN5D6X4"
      },
      "source": [
        "срез по топ платформам в интервале 1994-2016"
      ]
    },
    {
      "cell_type": "code",
      "execution_count": null,
      "metadata": {
        "id": "M2OHhH5DD6X4"
      },
      "outputs": [],
      "source": [
        "data_pivot = data_games.pivot_table('all_sales', ['platform', 'year_of_release'], aggfunc=sum)\n",
        "data_pivot = data_pivot.reset_index()"
      ]
    },
    {
      "cell_type": "markdown",
      "metadata": {
        "id": "y2OezLrFD6X4"
      },
      "source": [
        "сводная таблица по продажам"
      ]
    },
    {
      "cell_type": "code",
      "execution_count": null,
      "metadata": {
        "id": "DOo53zbVD6X4",
        "outputId": "da62cb3d-d7b7-4881-d9bd-9137e01f7cae"
      },
      "outputs": [
        {
          "data": {
            "image/png": "[encoded data removed]",
            "text/plain": [
              "<Figure size 1080x504 with 1 Axes>"
            ]
          },
          "metadata": {
            "needs_background": "light"
          },
          "output_type": "display_data"
        }
      ],
      "source": [
        "fig, ax = plt.subplots()\n",
        "for col in platforms:\n",
        "    y = data_pivot.query('platform == @col')\n",
        "    y.plot(x = 'year_of_release', y = 'all_sales', figsize=(15, 7), ax=ax)\n",
        "ax.legend(platforms);"
      ]
    },
    {
      "cell_type": "markdown",
      "metadata": {
        "id": "LDP-IrwwD6X5"
      },
      "source": [
        "Поведение продаж на разных игровых платформах в интервале 1994-2016.\n",
        "\n",
        "В среднем жизненный цикл игровых платформ составляет 7 лет."
      ]
    },
    {
      "cell_type": "code",
      "execution_count": null,
      "metadata": {
        "id": "X1p7SbVhD6X5",
        "outputId": "9c49f93e-bad8-4698-c3cf-de60a8aac723"
      },
      "outputs": [
        {
          "data": {
            "text/html": [
              "<div>\n",
              "<style scoped>\n",
              "    .dataframe tbody tr th:only-of-type {\n",
              "        vertical-align: middle;\n",
              "    }\n",
              "\n",
              "    .dataframe tbody tr th {\n",
              "        vertical-align: top;\n",
              "    }\n",
              "\n",
              "    .dataframe thead th {\n",
              "        text-align: right;\n",
              "    }\n",
              "</style>\n",
              "<table border=\"1\" class=\"dataframe\">\n",
              "  <thead>\n",
              "    <tr style=\"text-align: right;\">\n",
              "      <th></th>\n",
              "      <th>name</th>\n",
              "      <th>platform</th>\n",
              "      <th>year_of_release</th>\n",
              "      <th>genre</th>\n",
              "      <th>na_sales</th>\n",
              "      <th>eu_sales</th>\n",
              "      <th>jp_sales</th>\n",
              "      <th>other_sales</th>\n",
              "      <th>critic_score</th>\n",
              "      <th>user_score</th>\n",
              "      <th>rating</th>\n",
              "      <th>all_sales</th>\n",
              "    </tr>\n",
              "  </thead>\n",
              "  <tbody>\n",
              "    <tr>\n",
              "      <td>14</td>\n",
              "      <td>Kinect Adventures!</td>\n",
              "      <td>X360</td>\n",
              "      <td>2010</td>\n",
              "      <td>Misc</td>\n",
              "      <td>15.00</td>\n",
              "      <td>4.89</td>\n",
              "      <td>0.24</td>\n",
              "      <td>1.69</td>\n",
              "      <td>61</td>\n",
              "      <td>6.3</td>\n",
              "      <td>E</td>\n",
              "      <td>21.82</td>\n",
              "    </tr>\n",
              "    <tr>\n",
              "      <td>16</td>\n",
              "      <td>Grand Theft Auto V</td>\n",
              "      <td>PS3</td>\n",
              "      <td>2013</td>\n",
              "      <td>Action</td>\n",
              "      <td>7.02</td>\n",
              "      <td>9.09</td>\n",
              "      <td>0.98</td>\n",
              "      <td>3.96</td>\n",
              "      <td>97</td>\n",
              "      <td>8.2</td>\n",
              "      <td>M</td>\n",
              "      <td>21.05</td>\n",
              "    </tr>\n",
              "    <tr>\n",
              "      <td>23</td>\n",
              "      <td>Grand Theft Auto V</td>\n",
              "      <td>X360</td>\n",
              "      <td>2013</td>\n",
              "      <td>Action</td>\n",
              "      <td>9.66</td>\n",
              "      <td>5.14</td>\n",
              "      <td>0.06</td>\n",
              "      <td>1.41</td>\n",
              "      <td>97</td>\n",
              "      <td>8.1</td>\n",
              "      <td>M</td>\n",
              "      <td>16.27</td>\n",
              "    </tr>\n",
              "    <tr>\n",
              "      <td>27</td>\n",
              "      <td>Pokemon Black/Pokemon White</td>\n",
              "      <td>DS</td>\n",
              "      <td>2010</td>\n",
              "      <td>Role-Playing</td>\n",
              "      <td>5.51</td>\n",
              "      <td>3.17</td>\n",
              "      <td>5.65</td>\n",
              "      <td>0.80</td>\n",
              "      <td>-1</td>\n",
              "      <td>-1.0</td>\n",
              "      <td>RP</td>\n",
              "      <td>15.13</td>\n",
              "    </tr>\n",
              "    <tr>\n",
              "      <td>29</td>\n",
              "      <td>Call of Duty: Modern Warfare 3</td>\n",
              "      <td>X360</td>\n",
              "      <td>2011</td>\n",
              "      <td>Shooter</td>\n",
              "      <td>9.04</td>\n",
              "      <td>4.24</td>\n",
              "      <td>0.13</td>\n",
              "      <td>1.32</td>\n",
              "      <td>88</td>\n",
              "      <td>3.4</td>\n",
              "      <td>M</td>\n",
              "      <td>14.73</td>\n",
              "    </tr>\n",
              "  </tbody>\n",
              "</table>\n",
              "</div>"
            ],
            "text/plain": [
              "                              name platform  year_of_release         genre  \\\n",
              "14              Kinect Adventures!     X360             2010          Misc   \n",
              "16              Grand Theft Auto V      PS3             2013        Action   \n",
              "23              Grand Theft Auto V     X360             2013        Action   \n",
              "27     Pokemon Black/Pokemon White       DS             2010  Role-Playing   \n",
              "29  Call of Duty: Modern Warfare 3     X360             2011       Shooter   \n",
              "\n",
              "    na_sales  eu_sales  jp_sales  other_sales  critic_score  user_score  \\\n",
              "14     15.00      4.89      0.24         1.69            61         6.3   \n",
              "16      7.02      9.09      0.98         3.96            97         8.2   \n",
              "23      9.66      5.14      0.06         1.41            97         8.1   \n",
              "27      5.51      3.17      5.65         0.80            -1        -1.0   \n",
              "29      9.04      4.24      0.13         1.32            88         3.4   \n",
              "\n",
              "   rating  all_sales  \n",
              "14      E      21.82  \n",
              "16      M      21.05  \n",
              "23      M      16.27  \n",
              "27     RP      15.13  \n",
              "29      M      14.73  "
            ]
          },
          "execution_count": 30,
          "metadata": {},
          "output_type": "execute_result"
        }
      ],
      "source": [
        "data_actual = data_games.query('2010 <= year_of_release <= 2016')\n",
        "data_actual.head()"
      ]
    },
    {
      "cell_type": "markdown",
      "metadata": {
        "id": "n9enj6jlD6X5"
      },
      "source": [
        "Для оценки рынка на 2017 выберем актуальный период 2010 - 2016 года."
      ]
    },
    {
      "cell_type": "code",
      "execution_count": null,
      "metadata": {
        "id": "IaMJncZ-D6X5",
        "outputId": "b75b3132-c5d9-4ccd-e07c-890aa594956f"
      },
      "outputs": [
        {
          "data": {
            "text/plain": [
              "platform\n",
              "PS3     587.74\n",
              "X360    550.41\n",
              "PS4     314.14\n",
              "3DS     257.81\n",
              "Wii     222.97\n",
              "XOne    159.32\n",
              "DS      123.75\n",
              "PC      121.96\n",
              "PSP      64.05\n",
              "PS2       6.09\n",
              "Name: all_sales, dtype: float64"
            ]
          },
          "execution_count": 31,
          "metadata": {},
          "output_type": "execute_result"
        }
      ],
      "source": [
        "data_actual.groupby(['platform'])['all_sales'].sum().sort_values(ascending=False)"
      ]
    },
    {
      "cell_type": "code",
      "execution_count": null,
      "metadata": {
        "id": "H2ooxA0YD6X5"
      },
      "outputs": [],
      "source": [
        "platforms_actual = ['PS2' ,'PSP', 'PC' ,'DS', 'XOne', 'Wii' ,'3DS', 'PS4', 'X360' ,'PS3' ]"
      ]
    },
    {
      "cell_type": "markdown",
      "metadata": {
        "id": "bSRgyqRcD6X6"
      },
      "source": [
        "список топ 10 платформ в интервале 2010-2016"
      ]
    },
    {
      "cell_type": "code",
      "execution_count": null,
      "metadata": {
        "id": "960ZumIxD6X6",
        "outputId": "a9aba154-87c0-43d6-b8a7-434b2ed66924"
      },
      "outputs": [
        {
          "data": {
            "text/html": [
              "<div>\n",
              "<style scoped>\n",
              "    .dataframe tbody tr th:only-of-type {\n",
              "        vertical-align: middle;\n",
              "    }\n",
              "\n",
              "    .dataframe tbody tr th {\n",
              "        vertical-align: top;\n",
              "    }\n",
              "\n",
              "    .dataframe thead th {\n",
              "        text-align: right;\n",
              "    }\n",
              "</style>\n",
              "<table border=\"1\" class=\"dataframe\">\n",
              "  <thead>\n",
              "    <tr style=\"text-align: right;\">\n",
              "      <th></th>\n",
              "      <th>platform</th>\n",
              "      <th>year_of_release</th>\n",
              "      <th>all_sales</th>\n",
              "    </tr>\n",
              "  </thead>\n",
              "  <tbody>\n",
              "    <tr>\n",
              "      <td>0</td>\n",
              "      <td>3DS</td>\n",
              "      <td>2011</td>\n",
              "      <td>63.20</td>\n",
              "    </tr>\n",
              "    <tr>\n",
              "      <td>1</td>\n",
              "      <td>3DS</td>\n",
              "      <td>2012</td>\n",
              "      <td>51.36</td>\n",
              "    </tr>\n",
              "    <tr>\n",
              "      <td>2</td>\n",
              "      <td>3DS</td>\n",
              "      <td>2013</td>\n",
              "      <td>56.57</td>\n",
              "    </tr>\n",
              "    <tr>\n",
              "      <td>3</td>\n",
              "      <td>3DS</td>\n",
              "      <td>2014</td>\n",
              "      <td>43.76</td>\n",
              "    </tr>\n",
              "    <tr>\n",
              "      <td>4</td>\n",
              "      <td>3DS</td>\n",
              "      <td>2015</td>\n",
              "      <td>27.78</td>\n",
              "    </tr>\n",
              "  </tbody>\n",
              "</table>\n",
              "</div>"
            ],
            "text/plain": [
              "  platform  year_of_release  all_sales\n",
              "0      3DS             2011      63.20\n",
              "1      3DS             2012      51.36\n",
              "2      3DS             2013      56.57\n",
              "3      3DS             2014      43.76\n",
              "4      3DS             2015      27.78"
            ]
          },
          "execution_count": 33,
          "metadata": {},
          "output_type": "execute_result"
        }
      ],
      "source": [
        "data_actual = data_games.query('platform == @platforms_actual')\n",
        "data_actual = data_games.pivot_table('all_sales', ['platform', 'year_of_release'], aggfunc=sum)\n",
        "data_actual = data_actual.reset_index()\n",
        "data_actual.head()"
      ]
    },
    {
      "cell_type": "markdown",
      "metadata": {
        "id": "-PuxvnUGD6X6"
      },
      "source": [
        "сводная таблица общих продаж по платформам и году"
      ]
    },
    {
      "cell_type": "code",
      "execution_count": null,
      "metadata": {
        "id": "xzYqXYwGD6X6",
        "outputId": "990cdedf-7323-46cb-e82b-ddb438567f98"
      },
      "outputs": [
        {
          "data": {
            "image/png": "[encoded data removed]",
            "text/plain": [
              "<Figure size 1080x504 with 1 Axes>"
            ]
          },
          "metadata": {
            "needs_background": "light"
          },
          "output_type": "display_data"
        }
      ],
      "source": [
        "ax = plt.gca();\n",
        "for col in platforms_actual:\n",
        "    y = data_actual.query('platform == @col');\n",
        "    y.plot(x = 'year_of_release', y = 'all_sales', figsize=(15, 7), ax=ax);\n",
        "ax.legend(platforms_actual);"
      ]
    },
    {
      "cell_type": "markdown",
      "metadata": {
        "id": "DMs-XtHDD6X7"
      },
      "source": [
        "Поведение продаж на топ 10 игровых платформах в интервале 2010-2016\n",
        "\n",
        "Продажи по индустрии падают. XOne и PS4 в топе. Платформа PC самая долгоживущая и стабильная."
      ]
    },
    {
      "cell_type": "code",
      "execution_count": null,
      "metadata": {
        "id": "YWdEB9TMD6X7",
        "outputId": "1fa95475-da81-46d9-8bd0-03f0a1c11623"
      },
      "outputs": [
        {
          "data": {
            "text/html": [
              "<div>\n",
              "<style scoped>\n",
              "    .dataframe tbody tr th:only-of-type {\n",
              "        vertical-align: middle;\n",
              "    }\n",
              "\n",
              "    .dataframe tbody tr th {\n",
              "        vertical-align: top;\n",
              "    }\n",
              "\n",
              "    .dataframe thead th {\n",
              "        text-align: right;\n",
              "    }\n",
              "</style>\n",
              "<table border=\"1\" class=\"dataframe\">\n",
              "  <thead>\n",
              "    <tr style=\"text-align: right;\">\n",
              "      <th></th>\n",
              "      <th>name</th>\n",
              "      <th>platform</th>\n",
              "      <th>year_of_release</th>\n",
              "      <th>genre</th>\n",
              "      <th>na_sales</th>\n",
              "      <th>eu_sales</th>\n",
              "      <th>jp_sales</th>\n",
              "      <th>other_sales</th>\n",
              "      <th>critic_score</th>\n",
              "      <th>user_score</th>\n",
              "      <th>rating</th>\n",
              "      <th>all_sales</th>\n",
              "    </tr>\n",
              "  </thead>\n",
              "  <tbody>\n",
              "    <tr>\n",
              "      <td>14</td>\n",
              "      <td>Kinect Adventures!</td>\n",
              "      <td>X360</td>\n",
              "      <td>2010</td>\n",
              "      <td>Misc</td>\n",
              "      <td>15.00</td>\n",
              "      <td>4.89</td>\n",
              "      <td>0.24</td>\n",
              "      <td>1.69</td>\n",
              "      <td>61</td>\n",
              "      <td>6.3</td>\n",
              "      <td>E</td>\n",
              "      <td>21.82</td>\n",
              "    </tr>\n",
              "    <tr>\n",
              "      <td>16</td>\n",
              "      <td>Grand Theft Auto V</td>\n",
              "      <td>PS3</td>\n",
              "      <td>2013</td>\n",
              "      <td>Action</td>\n",
              "      <td>7.02</td>\n",
              "      <td>9.09</td>\n",
              "      <td>0.98</td>\n",
              "      <td>3.96</td>\n",
              "      <td>97</td>\n",
              "      <td>8.2</td>\n",
              "      <td>M</td>\n",
              "      <td>21.05</td>\n",
              "    </tr>\n",
              "    <tr>\n",
              "      <td>23</td>\n",
              "      <td>Grand Theft Auto V</td>\n",
              "      <td>X360</td>\n",
              "      <td>2013</td>\n",
              "      <td>Action</td>\n",
              "      <td>9.66</td>\n",
              "      <td>5.14</td>\n",
              "      <td>0.06</td>\n",
              "      <td>1.41</td>\n",
              "      <td>97</td>\n",
              "      <td>8.1</td>\n",
              "      <td>M</td>\n",
              "      <td>16.27</td>\n",
              "    </tr>\n",
              "    <tr>\n",
              "      <td>29</td>\n",
              "      <td>Call of Duty: Modern Warfare 3</td>\n",
              "      <td>X360</td>\n",
              "      <td>2011</td>\n",
              "      <td>Shooter</td>\n",
              "      <td>9.04</td>\n",
              "      <td>4.24</td>\n",
              "      <td>0.13</td>\n",
              "      <td>1.32</td>\n",
              "      <td>88</td>\n",
              "      <td>3.4</td>\n",
              "      <td>M</td>\n",
              "      <td>14.73</td>\n",
              "    </tr>\n",
              "    <tr>\n",
              "      <td>32</td>\n",
              "      <td>Call of Duty: Black Ops</td>\n",
              "      <td>X360</td>\n",
              "      <td>2010</td>\n",
              "      <td>Shooter</td>\n",
              "      <td>9.70</td>\n",
              "      <td>3.68</td>\n",
              "      <td>0.11</td>\n",
              "      <td>1.13</td>\n",
              "      <td>87</td>\n",
              "      <td>6.3</td>\n",
              "      <td>M</td>\n",
              "      <td>14.62</td>\n",
              "    </tr>\n",
              "    <tr>\n",
              "      <td>...</td>\n",
              "      <td>...</td>\n",
              "      <td>...</td>\n",
              "      <td>...</td>\n",
              "      <td>...</td>\n",
              "      <td>...</td>\n",
              "      <td>...</td>\n",
              "      <td>...</td>\n",
              "      <td>...</td>\n",
              "      <td>...</td>\n",
              "      <td>...</td>\n",
              "      <td>...</td>\n",
              "      <td>...</td>\n",
              "    </tr>\n",
              "    <tr>\n",
              "      <td>16630</td>\n",
              "      <td>Sébastien Loeb Rally Evo</td>\n",
              "      <td>XOne</td>\n",
              "      <td>2016</td>\n",
              "      <td>Racing</td>\n",
              "      <td>0.00</td>\n",
              "      <td>0.01</td>\n",
              "      <td>0.00</td>\n",
              "      <td>0.00</td>\n",
              "      <td>63</td>\n",
              "      <td>8.2</td>\n",
              "      <td>E</td>\n",
              "      <td>0.01</td>\n",
              "    </tr>\n",
              "    <tr>\n",
              "      <td>16660</td>\n",
              "      <td>Prison Architect</td>\n",
              "      <td>XOne</td>\n",
              "      <td>2016</td>\n",
              "      <td>Action</td>\n",
              "      <td>0.01</td>\n",
              "      <td>0.00</td>\n",
              "      <td>0.00</td>\n",
              "      <td>0.00</td>\n",
              "      <td>74</td>\n",
              "      <td>6.7</td>\n",
              "      <td>RP</td>\n",
              "      <td>0.01</td>\n",
              "    </tr>\n",
              "    <tr>\n",
              "      <td>16692</td>\n",
              "      <td>Metal Gear Solid V: Ground Zeroes</td>\n",
              "      <td>PC</td>\n",
              "      <td>2014</td>\n",
              "      <td>Action</td>\n",
              "      <td>0.00</td>\n",
              "      <td>0.01</td>\n",
              "      <td>0.00</td>\n",
              "      <td>0.00</td>\n",
              "      <td>80</td>\n",
              "      <td>7.6</td>\n",
              "      <td>M</td>\n",
              "      <td>0.01</td>\n",
              "    </tr>\n",
              "    <tr>\n",
              "      <td>16696</td>\n",
              "      <td>Breach</td>\n",
              "      <td>PC</td>\n",
              "      <td>2011</td>\n",
              "      <td>Shooter</td>\n",
              "      <td>0.01</td>\n",
              "      <td>0.00</td>\n",
              "      <td>0.00</td>\n",
              "      <td>0.00</td>\n",
              "      <td>61</td>\n",
              "      <td>5.8</td>\n",
              "      <td>T</td>\n",
              "      <td>0.01</td>\n",
              "    </tr>\n",
              "    <tr>\n",
              "      <td>16702</td>\n",
              "      <td>STORM: Frontline Nation</td>\n",
              "      <td>PC</td>\n",
              "      <td>2011</td>\n",
              "      <td>Strategy</td>\n",
              "      <td>0.00</td>\n",
              "      <td>0.01</td>\n",
              "      <td>0.00</td>\n",
              "      <td>0.00</td>\n",
              "      <td>60</td>\n",
              "      <td>7.2</td>\n",
              "      <td>E10+</td>\n",
              "      <td>0.01</td>\n",
              "    </tr>\n",
              "  </tbody>\n",
              "</table>\n",
              "<p>1987 rows × 12 columns</p>\n",
              "</div>"
            ],
            "text/plain": [
              "                                    name platform  year_of_release     genre  \\\n",
              "14                    Kinect Adventures!     X360             2010      Misc   \n",
              "16                    Grand Theft Auto V      PS3             2013    Action   \n",
              "23                    Grand Theft Auto V     X360             2013    Action   \n",
              "29        Call of Duty: Modern Warfare 3     X360             2011   Shooter   \n",
              "32               Call of Duty: Black Ops     X360             2010   Shooter   \n",
              "...                                  ...      ...              ...       ...   \n",
              "16630           Sébastien Loeb Rally Evo     XOne             2016    Racing   \n",
              "16660                   Prison Architect     XOne             2016    Action   \n",
              "16692  Metal Gear Solid V: Ground Zeroes       PC             2014    Action   \n",
              "16696                             Breach       PC             2011   Shooter   \n",
              "16702            STORM: Frontline Nation       PC             2011  Strategy   \n",
              "\n",
              "       na_sales  eu_sales  jp_sales  other_sales  critic_score  user_score  \\\n",
              "14        15.00      4.89      0.24         1.69            61         6.3   \n",
              "16         7.02      9.09      0.98         3.96            97         8.2   \n",
              "23         9.66      5.14      0.06         1.41            97         8.1   \n",
              "29         9.04      4.24      0.13         1.32            88         3.4   \n",
              "32         9.70      3.68      0.11         1.13            87         6.3   \n",
              "...         ...       ...       ...          ...           ...         ...   \n",
              "16630      0.00      0.01      0.00         0.00            63         8.2   \n",
              "16660      0.01      0.00      0.00         0.00            74         6.7   \n",
              "16692      0.00      0.01      0.00         0.00            80         7.6   \n",
              "16696      0.01      0.00      0.00         0.00            61         5.8   \n",
              "16702      0.00      0.01      0.00         0.00            60         7.2   \n",
              "\n",
              "      rating  all_sales  \n",
              "14         E      21.82  \n",
              "16         M      21.05  \n",
              "23         M      16.27  \n",
              "29         M      14.73  \n",
              "32         M      14.62  \n",
              "...      ...        ...  \n",
              "16630      E       0.01  \n",
              "16660     RP       0.01  \n",
              "16692      M       0.01  \n",
              "16696      T       0.01  \n",
              "16702   E10+       0.01  \n",
              "\n",
              "[1987 rows x 12 columns]"
            ]
          },
          "execution_count": 35,
          "metadata": {},
          "output_type": "execute_result"
        }
      ],
      "source": [
        "data_10_16 = data_games.query('2010 <= year_of_release <= 2016').loc[(data_games['user_score'] != -1)&(data_games['user_score'] != 0)&(data_games['critic_score'] != -1)]\n",
        "data_10_16"
      ]
    },
    {
      "cell_type": "markdown",
      "metadata": {
        "id": "wV2zaJTmD6X7"
      },
      "source": [
        "срез по актуальному периоду"
      ]
    },
    {
      "cell_type": "code",
      "execution_count": null,
      "metadata": {
        "id": "iQ4dxrAuD6X7",
        "outputId": "3299a51c-ca27-4ff5-8fcd-befad75eb029"
      },
      "outputs": [
        {
          "data": {
            "text/html": [
              "<div>\n",
              "<style scoped>\n",
              "    .dataframe tbody tr th:only-of-type {\n",
              "        vertical-align: middle;\n",
              "    }\n",
              "\n",
              "    .dataframe tbody tr th {\n",
              "        vertical-align: top;\n",
              "    }\n",
              "\n",
              "    .dataframe thead th {\n",
              "        text-align: right;\n",
              "    }\n",
              "</style>\n",
              "<table border=\"1\" class=\"dataframe\">\n",
              "  <thead>\n",
              "    <tr style=\"text-align: right;\">\n",
              "      <th></th>\n",
              "      <th>name</th>\n",
              "      <th>platform</th>\n",
              "    </tr>\n",
              "  </thead>\n",
              "  <tbody>\n",
              "    <tr>\n",
              "      <td>0</td>\n",
              "      <td>Tales of Xillia 2</td>\n",
              "      <td>1</td>\n",
              "    </tr>\n",
              "    <tr>\n",
              "      <td>1</td>\n",
              "      <td>2010 FIFA World Cup South Africa</td>\n",
              "      <td>4</td>\n",
              "    </tr>\n",
              "    <tr>\n",
              "      <td>2</td>\n",
              "      <td>2014 FIFA World Cup Brazil</td>\n",
              "      <td>2</td>\n",
              "    </tr>\n",
              "    <tr>\n",
              "      <td>3</td>\n",
              "      <td>7 Days to Die</td>\n",
              "      <td>2</td>\n",
              "    </tr>\n",
              "    <tr>\n",
              "      <td>4</td>\n",
              "      <td>7th Dragon III Code: VFD</td>\n",
              "      <td>1</td>\n",
              "    </tr>\n",
              "    <tr>\n",
              "      <td>...</td>\n",
              "      <td>...</td>\n",
              "      <td>...</td>\n",
              "    </tr>\n",
              "    <tr>\n",
              "      <td>1153</td>\n",
              "      <td>inFAMOUS 2</td>\n",
              "      <td>1</td>\n",
              "    </tr>\n",
              "    <tr>\n",
              "      <td>1154</td>\n",
              "      <td>inFAMOUS: Second Son</td>\n",
              "      <td>1</td>\n",
              "    </tr>\n",
              "    <tr>\n",
              "      <td>1155</td>\n",
              "      <td>nail'd</td>\n",
              "      <td>2</td>\n",
              "    </tr>\n",
              "    <tr>\n",
              "      <td>1156</td>\n",
              "      <td>pro evolution soccer 2011</td>\n",
              "      <td>4</td>\n",
              "    </tr>\n",
              "    <tr>\n",
              "      <td>1157</td>\n",
              "      <td>uDraw Studio: Instant Artist</td>\n",
              "      <td>1</td>\n",
              "    </tr>\n",
              "  </tbody>\n",
              "</table>\n",
              "<p>1158 rows × 2 columns</p>\n",
              "</div>"
            ],
            "text/plain": [
              "                                  name  platform\n",
              "0                    Tales of Xillia 2         1\n",
              "1     2010 FIFA World Cup South Africa         4\n",
              "2           2014 FIFA World Cup Brazil         2\n",
              "3                        7 Days to Die         2\n",
              "4             7th Dragon III Code: VFD         1\n",
              "...                                ...       ...\n",
              "1153                        inFAMOUS 2         1\n",
              "1154              inFAMOUS: Second Son         1\n",
              "1155                            nail'd         2\n",
              "1156         pro evolution soccer 2011         4\n",
              "1157      uDraw Studio: Instant Artist         1\n",
              "\n",
              "[1158 rows x 2 columns]"
            ]
          },
          "execution_count": 36,
          "metadata": {},
          "output_type": "execute_result"
        }
      ],
      "source": [
        "data_agg = data_10_16.groupby('name')['platform'].count()\n",
        "data_agg = pd.DataFrame(data_agg)\n",
        "data_agg.reset_index(inplace=True)\n",
        "data_agg"
      ]
    },
    {
      "cell_type": "markdown",
      "metadata": {
        "id": "Hebpmd24D6X7"
      },
      "source": [
        " группировка игр по кроссплатформенности"
      ]
    },
    {
      "cell_type": "code",
      "execution_count": null,
      "metadata": {
        "id": "vH0EM5XMD6X7",
        "outputId": "617a8c58-01d2-45e3-e014-7a117693cb38"
      },
      "outputs": [
        {
          "data": {
            "image/png": "[encoded data removed]",
            "text/plain": [
              "<Figure size 1130.4x595.44 with 1 Axes>"
            ]
          },
          "metadata": {},
          "output_type": "display_data"
        }
      ],
      "source": [
        "name_filter = data_agg.query('platform >=5')['name'].values.tolist()\n",
        "name_filter\n",
        "sns.set(rc={'figure.figsize':(15.7,8.27)})\n",
        "ax = sns.boxplot(x=\"name\", y=\"all_sales\", data=data_10_16.query('@name_filter in name'))\n",
        "plt.xticks(rotation=90);"
      ]
    },
    {
      "cell_type": "markdown",
      "metadata": {
        "id": "D5RxPBNND6X8"
      },
      "source": [
        "Распределение продаж по 20 многоплатформенным играм:\n",
        "* Средняя продолжительность жизненного цикла игровой платформы 7 лет.\n",
        "* Продажи по индустрии падают. XOne и PS4 наиболее перспективны. Платформа PC сама долгоживущая и стабильная.\n",
        "* По глобальным продажам выделяется серия игр FIFA.\n",
        "* Среднее значение продаж находиться в диапазоне 1 миллиона.\n",
        "* Топ 9 многоплотформенных игр приносят прибыль от 2 до 3 миллионов (в среднем 1.5 миллиона) за жизненный цикл."
      ]
    },
    {
      "cell_type": "code",
      "execution_count": null,
      "metadata": {
        "id": "jRCzTseVD6X8",
        "outputId": "1b696aa3-684a-45bd-9b5a-a58b6892dcf3"
      },
      "outputs": [
        {
          "data": {
            "image/png": "[encoded data removed]",
            "text/plain": [
              "<Figure size 432x432 with 3 Axes>"
            ]
          },
          "metadata": {},
          "output_type": "display_data"
        }
      ],
      "source": [
        "data_xone = data_10_16.query('platform == @platforms_actual[4]')\n",
        "\n",
        "sns.jointplot(x='all_sales', y='critic_score', data=data_xone);"
      ]
    },
    {
      "cell_type": "markdown",
      "metadata": {
        "id": "j20x0_SZD6X8"
      },
      "source": [
        "Распределение продаж на платформе XOne в зависимости от оценки критиков"
      ]
    },
    {
      "cell_type": "code",
      "execution_count": null,
      "metadata": {
        "id": "6CU7WZU_D6X8",
        "outputId": "146bc02a-b6d2-4a58-904d-4edea5573bab"
      },
      "outputs": [
        {
          "data": {
            "image/png": "[encoded data removed]",
            "text/plain": [
              "<Figure size 432x432 with 3 Axes>"
            ]
          },
          "metadata": {},
          "output_type": "display_data"
        }
      ],
      "source": [
        "sns.jointplot(x='all_sales', y='user_score', data=data_xone);"
      ]
    },
    {
      "cell_type": "markdown",
      "metadata": {
        "id": "_XAfnVbmD6X8"
      },
      "source": [
        "Распределение продаж на платформе XOne в зависимости от оценки пользователей"
      ]
    },
    {
      "cell_type": "code",
      "execution_count": null,
      "metadata": {
        "id": "L_jyp6eJD6X8",
        "outputId": "4e373a4c-4bd7-4c59-9acf-4e06297e2d0a"
      },
      "outputs": [
        {
          "data": {
            "image/png": "[encoded data removed]",
            "text/plain": [
              "<Figure size 360x360 with 2 Axes>"
            ]
          },
          "metadata": {},
          "output_type": "display_data"
        }
      ],
      "source": [
        "corr_data = data_xone[['platform', 'critic_score', 'user_score', 'all_sales']].corr()\n",
        "\n",
        "sns.set(rc={'figure.figsize':(5,5)})\n",
        "sns.heatmap(corr_data, square=True, annot=True);"
      ]
    },
    {
      "cell_type": "markdown",
      "metadata": {
        "id": "iBTMyzoMD6X9"
      },
      "source": [
        "Зависимость прибыли от оценки критиков и пользователей на платформе XOne"
      ]
    },
    {
      "cell_type": "markdown",
      "metadata": {
        "id": "qbVscnxCD6X9"
      },
      "source": [
        "Ситуация по XOne топовой игровой платформе:\n",
        "\n",
        "* Отзывы критиков сильнее влияют на продажи, чем отзовы пользователей.\n",
        "* Люди больше доверяют экспертам нежели простым пользователям.\n",
        "* Мнения экспертов формируют тренды.\n",
        "* Корреляция ниже 0.5 говорит о небольшом положительном воздействии на продажи."
      ]
    },
    {
      "cell_type": "code",
      "execution_count": null,
      "metadata": {
        "id": "5qdiHj-dD6X9",
        "outputId": "b04ad1ee-1f14-4017-bf91-74265a640d58"
      },
      "outputs": [
        {
          "data": {
            "image/png": "[encoded data removed]",
            "text/plain": [
              "<Figure size 360x360 with 2 Axes>"
            ]
          },
          "metadata": {},
          "output_type": "display_data"
        }
      ],
      "source": [
        "corr_all = data_10_16[['platform', 'critic_score', 'user_score', 'all_sales']].corr()\n",
        "\n",
        "sns.set(rc={'figure.figsize':(5,5)})\n",
        "sns.heatmap(corr_all, square=True, annot=True);"
      ]
    },
    {
      "cell_type": "markdown",
      "metadata": {
        "id": "bZjHhVR4D6X-"
      },
      "source": [
        "Данные платформы в ТОПе на период 2010-2016. Я исследую данные за период, а не только за 2016 год."
      ]
    },
    {
      "cell_type": "code",
      "execution_count": null,
      "metadata": {
        "id": "7HqrWU03D6X-",
        "outputId": "27071e0c-9016-4eaf-fefb-1a0f73a3529f"
      },
      "outputs": [
        {
          "name": "stdout",
          "output_type": "stream",
          "text": [
            "PS2\n"
          ]
        },
        {
          "data": {
            "text/html": [
              "<div>\n",
              "<style scoped>\n",
              "    .dataframe tbody tr th:only-of-type {\n",
              "        vertical-align: middle;\n",
              "    }\n",
              "\n",
              "    .dataframe tbody tr th {\n",
              "        vertical-align: top;\n",
              "    }\n",
              "\n",
              "    .dataframe thead th {\n",
              "        text-align: right;\n",
              "    }\n",
              "</style>\n",
              "<table border=\"1\" class=\"dataframe\">\n",
              "  <thead>\n",
              "    <tr style=\"text-align: right;\">\n",
              "      <th></th>\n",
              "      <th>critic_score</th>\n",
              "      <th>user_score</th>\n",
              "      <th>all_sales</th>\n",
              "    </tr>\n",
              "  </thead>\n",
              "  <tbody>\n",
              "    <tr>\n",
              "      <td>critic_score</td>\n",
              "      <td>NaN</td>\n",
              "      <td>NaN</td>\n",
              "      <td>NaN</td>\n",
              "    </tr>\n",
              "    <tr>\n",
              "      <td>user_score</td>\n",
              "      <td>NaN</td>\n",
              "      <td>NaN</td>\n",
              "      <td>NaN</td>\n",
              "    </tr>\n",
              "    <tr>\n",
              "      <td>all_sales</td>\n",
              "      <td>NaN</td>\n",
              "      <td>NaN</td>\n",
              "      <td>NaN</td>\n",
              "    </tr>\n",
              "  </tbody>\n",
              "</table>\n",
              "</div>"
            ],
            "text/plain": [
              "              critic_score  user_score  all_sales\n",
              "critic_score           NaN         NaN        NaN\n",
              "user_score             NaN         NaN        NaN\n",
              "all_sales              NaN         NaN        NaN"
            ]
          },
          "metadata": {},
          "output_type": "display_data"
        },
        {
          "name": "stdout",
          "output_type": "stream",
          "text": [
            "PSP\n"
          ]
        },
        {
          "data": {
            "text/html": [
              "<div>\n",
              "<style scoped>\n",
              "    .dataframe tbody tr th:only-of-type {\n",
              "        vertical-align: middle;\n",
              "    }\n",
              "\n",
              "    .dataframe tbody tr th {\n",
              "        vertical-align: top;\n",
              "    }\n",
              "\n",
              "    .dataframe thead th {\n",
              "        text-align: right;\n",
              "    }\n",
              "</style>\n",
              "<table border=\"1\" class=\"dataframe\">\n",
              "  <thead>\n",
              "    <tr style=\"text-align: right;\">\n",
              "      <th></th>\n",
              "      <th>critic_score</th>\n",
              "      <th>user_score</th>\n",
              "      <th>all_sales</th>\n",
              "    </tr>\n",
              "  </thead>\n",
              "  <tbody>\n",
              "    <tr>\n",
              "      <td>critic_score</td>\n",
              "      <td>1.000000</td>\n",
              "      <td>0.521908</td>\n",
              "      <td>0.405162</td>\n",
              "    </tr>\n",
              "    <tr>\n",
              "      <td>user_score</td>\n",
              "      <td>0.521908</td>\n",
              "      <td>1.000000</td>\n",
              "      <td>0.219262</td>\n",
              "    </tr>\n",
              "    <tr>\n",
              "      <td>all_sales</td>\n",
              "      <td>0.405162</td>\n",
              "      <td>0.219262</td>\n",
              "      <td>1.000000</td>\n",
              "    </tr>\n",
              "  </tbody>\n",
              "</table>\n",
              "</div>"
            ],
            "text/plain": [
              "              critic_score  user_score  all_sales\n",
              "critic_score      1.000000    0.521908   0.405162\n",
              "user_score        0.521908    1.000000   0.219262\n",
              "all_sales         0.405162    0.219262   1.000000"
            ]
          },
          "metadata": {},
          "output_type": "display_data"
        },
        {
          "name": "stdout",
          "output_type": "stream",
          "text": [
            "PC\n"
          ]
        },
        {
          "data": {
            "text/html": [
              "<div>\n",
              "<style scoped>\n",
              "    .dataframe tbody tr th:only-of-type {\n",
              "        vertical-align: middle;\n",
              "    }\n",
              "\n",
              "    .dataframe tbody tr th {\n",
              "        vertical-align: top;\n",
              "    }\n",
              "\n",
              "    .dataframe thead th {\n",
              "        text-align: right;\n",
              "    }\n",
              "</style>\n",
              "<table border=\"1\" class=\"dataframe\">\n",
              "  <thead>\n",
              "    <tr style=\"text-align: right;\">\n",
              "      <th></th>\n",
              "      <th>critic_score</th>\n",
              "      <th>user_score</th>\n",
              "      <th>all_sales</th>\n",
              "    </tr>\n",
              "  </thead>\n",
              "  <tbody>\n",
              "    <tr>\n",
              "      <td>critic_score</td>\n",
              "      <td>1.000000</td>\n",
              "      <td>0.478158</td>\n",
              "      <td>0.336668</td>\n",
              "    </tr>\n",
              "    <tr>\n",
              "      <td>user_score</td>\n",
              "      <td>0.478158</td>\n",
              "      <td>1.000000</td>\n",
              "      <td>-0.013300</td>\n",
              "    </tr>\n",
              "    <tr>\n",
              "      <td>all_sales</td>\n",
              "      <td>0.336668</td>\n",
              "      <td>-0.013300</td>\n",
              "      <td>1.000000</td>\n",
              "    </tr>\n",
              "  </tbody>\n",
              "</table>\n",
              "</div>"
            ],
            "text/plain": [
              "              critic_score  user_score  all_sales\n",
              "critic_score      1.000000    0.478158   0.336668\n",
              "user_score        0.478158    1.000000  -0.013300\n",
              "all_sales         0.336668   -0.013300   1.000000"
            ]
          },
          "metadata": {},
          "output_type": "display_data"
        },
        {
          "name": "stdout",
          "output_type": "stream",
          "text": [
            "DS\n"
          ]
        },
        {
          "data": {
            "text/html": [
              "<div>\n",
              "<style scoped>\n",
              "    .dataframe tbody tr th:only-of-type {\n",
              "        vertical-align: middle;\n",
              "    }\n",
              "\n",
              "    .dataframe tbody tr th {\n",
              "        vertical-align: top;\n",
              "    }\n",
              "\n",
              "    .dataframe thead th {\n",
              "        text-align: right;\n",
              "    }\n",
              "</style>\n",
              "<table border=\"1\" class=\"dataframe\">\n",
              "  <thead>\n",
              "    <tr style=\"text-align: right;\">\n",
              "      <th></th>\n",
              "      <th>critic_score</th>\n",
              "      <th>user_score</th>\n",
              "      <th>all_sales</th>\n",
              "    </tr>\n",
              "  </thead>\n",
              "  <tbody>\n",
              "    <tr>\n",
              "      <td>critic_score</td>\n",
              "      <td>1.000000</td>\n",
              "      <td>0.620256</td>\n",
              "      <td>0.174150</td>\n",
              "    </tr>\n",
              "    <tr>\n",
              "      <td>user_score</td>\n",
              "      <td>0.620256</td>\n",
              "      <td>1.000000</td>\n",
              "      <td>0.212029</td>\n",
              "    </tr>\n",
              "    <tr>\n",
              "      <td>all_sales</td>\n",
              "      <td>0.174150</td>\n",
              "      <td>0.212029</td>\n",
              "      <td>1.000000</td>\n",
              "    </tr>\n",
              "  </tbody>\n",
              "</table>\n",
              "</div>"
            ],
            "text/plain": [
              "              critic_score  user_score  all_sales\n",
              "critic_score      1.000000    0.620256   0.174150\n",
              "user_score        0.620256    1.000000   0.212029\n",
              "all_sales         0.174150    0.212029   1.000000"
            ]
          },
          "metadata": {},
          "output_type": "display_data"
        },
        {
          "name": "stdout",
          "output_type": "stream",
          "text": [
            "XOne\n"
          ]
        },
        {
          "data": {
            "text/html": [
              "<div>\n",
              "<style scoped>\n",
              "    .dataframe tbody tr th:only-of-type {\n",
              "        vertical-align: middle;\n",
              "    }\n",
              "\n",
              "    .dataframe tbody tr th {\n",
              "        vertical-align: top;\n",
              "    }\n",
              "\n",
              "    .dataframe thead th {\n",
              "        text-align: right;\n",
              "    }\n",
              "</style>\n",
              "<table border=\"1\" class=\"dataframe\">\n",
              "  <thead>\n",
              "    <tr style=\"text-align: right;\">\n",
              "      <th></th>\n",
              "      <th>critic_score</th>\n",
              "      <th>user_score</th>\n",
              "      <th>all_sales</th>\n",
              "    </tr>\n",
              "  </thead>\n",
              "  <tbody>\n",
              "    <tr>\n",
              "      <td>critic_score</td>\n",
              "      <td>1.000000</td>\n",
              "      <td>0.472462</td>\n",
              "      <td>0.410422</td>\n",
              "    </tr>\n",
              "    <tr>\n",
              "      <td>user_score</td>\n",
              "      <td>0.472462</td>\n",
              "      <td>1.000000</td>\n",
              "      <td>-0.094003</td>\n",
              "    </tr>\n",
              "    <tr>\n",
              "      <td>all_sales</td>\n",
              "      <td>0.410422</td>\n",
              "      <td>-0.094003</td>\n",
              "      <td>1.000000</td>\n",
              "    </tr>\n",
              "  </tbody>\n",
              "</table>\n",
              "</div>"
            ],
            "text/plain": [
              "              critic_score  user_score  all_sales\n",
              "critic_score      1.000000    0.472462   0.410422\n",
              "user_score        0.472462    1.000000  -0.094003\n",
              "all_sales         0.410422   -0.094003   1.000000"
            ]
          },
          "metadata": {},
          "output_type": "display_data"
        },
        {
          "name": "stdout",
          "output_type": "stream",
          "text": [
            "Wii\n"
          ]
        },
        {
          "data": {
            "text/html": [
              "<div>\n",
              "<style scoped>\n",
              "    .dataframe tbody tr th:only-of-type {\n",
              "        vertical-align: middle;\n",
              "    }\n",
              "\n",
              "    .dataframe tbody tr th {\n",
              "        vertical-align: top;\n",
              "    }\n",
              "\n",
              "    .dataframe thead th {\n",
              "        text-align: right;\n",
              "    }\n",
              "</style>\n",
              "<table border=\"1\" class=\"dataframe\">\n",
              "  <thead>\n",
              "    <tr style=\"text-align: right;\">\n",
              "      <th></th>\n",
              "      <th>critic_score</th>\n",
              "      <th>user_score</th>\n",
              "      <th>all_sales</th>\n",
              "    </tr>\n",
              "  </thead>\n",
              "  <tbody>\n",
              "    <tr>\n",
              "      <td>critic_score</td>\n",
              "      <td>1.000000</td>\n",
              "      <td>0.471698</td>\n",
              "      <td>0.254939</td>\n",
              "    </tr>\n",
              "    <tr>\n",
              "      <td>user_score</td>\n",
              "      <td>0.471698</td>\n",
              "      <td>1.000000</td>\n",
              "      <td>0.161277</td>\n",
              "    </tr>\n",
              "    <tr>\n",
              "      <td>all_sales</td>\n",
              "      <td>0.254939</td>\n",
              "      <td>0.161277</td>\n",
              "      <td>1.000000</td>\n",
              "    </tr>\n",
              "  </tbody>\n",
              "</table>\n",
              "</div>"
            ],
            "text/plain": [
              "              critic_score  user_score  all_sales\n",
              "critic_score      1.000000    0.471698   0.254939\n",
              "user_score        0.471698    1.000000   0.161277\n",
              "all_sales         0.254939    0.161277   1.000000"
            ]
          },
          "metadata": {},
          "output_type": "display_data"
        },
        {
          "name": "stdout",
          "output_type": "stream",
          "text": [
            "3DS\n"
          ]
        },
        {
          "data": {
            "text/html": [
              "<div>\n",
              "<style scoped>\n",
              "    .dataframe tbody tr th:only-of-type {\n",
              "        vertical-align: middle;\n",
              "    }\n",
              "\n",
              "    .dataframe tbody tr th {\n",
              "        vertical-align: top;\n",
              "    }\n",
              "\n",
              "    .dataframe thead th {\n",
              "        text-align: right;\n",
              "    }\n",
              "</style>\n",
              "<table border=\"1\" class=\"dataframe\">\n",
              "  <thead>\n",
              "    <tr style=\"text-align: right;\">\n",
              "      <th></th>\n",
              "      <th>critic_score</th>\n",
              "      <th>user_score</th>\n",
              "      <th>all_sales</th>\n",
              "    </tr>\n",
              "  </thead>\n",
              "  <tbody>\n",
              "    <tr>\n",
              "      <td>critic_score</td>\n",
              "      <td>1.000000</td>\n",
              "      <td>0.745222</td>\n",
              "      <td>0.338904</td>\n",
              "    </tr>\n",
              "    <tr>\n",
              "      <td>user_score</td>\n",
              "      <td>0.745222</td>\n",
              "      <td>1.000000</td>\n",
              "      <td>0.232089</td>\n",
              "    </tr>\n",
              "    <tr>\n",
              "      <td>all_sales</td>\n",
              "      <td>0.338904</td>\n",
              "      <td>0.232089</td>\n",
              "      <td>1.000000</td>\n",
              "    </tr>\n",
              "  </tbody>\n",
              "</table>\n",
              "</div>"
            ],
            "text/plain": [
              "              critic_score  user_score  all_sales\n",
              "critic_score      1.000000    0.745222   0.338904\n",
              "user_score        0.745222    1.000000   0.232089\n",
              "all_sales         0.338904    0.232089   1.000000"
            ]
          },
          "metadata": {},
          "output_type": "display_data"
        },
        {
          "name": "stdout",
          "output_type": "stream",
          "text": [
            "PS4\n"
          ]
        },
        {
          "data": {
            "text/html": [
              "<div>\n",
              "<style scoped>\n",
              "    .dataframe tbody tr th:only-of-type {\n",
              "        vertical-align: middle;\n",
              "    }\n",
              "\n",
              "    .dataframe tbody tr th {\n",
              "        vertical-align: top;\n",
              "    }\n",
              "\n",
              "    .dataframe thead th {\n",
              "        text-align: right;\n",
              "    }\n",
              "</style>\n",
              "<table border=\"1\" class=\"dataframe\">\n",
              "  <thead>\n",
              "    <tr style=\"text-align: right;\">\n",
              "      <th></th>\n",
              "      <th>critic_score</th>\n",
              "      <th>user_score</th>\n",
              "      <th>all_sales</th>\n",
              "    </tr>\n",
              "  </thead>\n",
              "  <tbody>\n",
              "    <tr>\n",
              "      <td>critic_score</td>\n",
              "      <td>1.000000</td>\n",
              "      <td>0.557654</td>\n",
              "      <td>0.405895</td>\n",
              "    </tr>\n",
              "    <tr>\n",
              "      <td>user_score</td>\n",
              "      <td>0.557654</td>\n",
              "      <td>1.000000</td>\n",
              "      <td>-0.033625</td>\n",
              "    </tr>\n",
              "    <tr>\n",
              "      <td>all_sales</td>\n",
              "      <td>0.405895</td>\n",
              "      <td>-0.033625</td>\n",
              "      <td>1.000000</td>\n",
              "    </tr>\n",
              "  </tbody>\n",
              "</table>\n",
              "</div>"
            ],
            "text/plain": [
              "              critic_score  user_score  all_sales\n",
              "critic_score      1.000000    0.557654   0.405895\n",
              "user_score        0.557654    1.000000  -0.033625\n",
              "all_sales         0.405895   -0.033625   1.000000"
            ]
          },
          "metadata": {},
          "output_type": "display_data"
        },
        {
          "name": "stdout",
          "output_type": "stream",
          "text": [
            "X360\n"
          ]
        },
        {
          "data": {
            "text/html": [
              "<div>\n",
              "<style scoped>\n",
              "    .dataframe tbody tr th:only-of-type {\n",
              "        vertical-align: middle;\n",
              "    }\n",
              "\n",
              "    .dataframe tbody tr th {\n",
              "        vertical-align: top;\n",
              "    }\n",
              "\n",
              "    .dataframe thead th {\n",
              "        text-align: right;\n",
              "    }\n",
              "</style>\n",
              "<table border=\"1\" class=\"dataframe\">\n",
              "  <thead>\n",
              "    <tr style=\"text-align: right;\">\n",
              "      <th></th>\n",
              "      <th>critic_score</th>\n",
              "      <th>user_score</th>\n",
              "      <th>all_sales</th>\n",
              "    </tr>\n",
              "  </thead>\n",
              "  <tbody>\n",
              "    <tr>\n",
              "      <td>critic_score</td>\n",
              "      <td>1.000000</td>\n",
              "      <td>0.597552</td>\n",
              "      <td>0.336280</td>\n",
              "    </tr>\n",
              "    <tr>\n",
              "      <td>user_score</td>\n",
              "      <td>0.597552</td>\n",
              "      <td>1.000000</td>\n",
              "      <td>0.055079</td>\n",
              "    </tr>\n",
              "    <tr>\n",
              "      <td>all_sales</td>\n",
              "      <td>0.336280</td>\n",
              "      <td>0.055079</td>\n",
              "      <td>1.000000</td>\n",
              "    </tr>\n",
              "  </tbody>\n",
              "</table>\n",
              "</div>"
            ],
            "text/plain": [
              "              critic_score  user_score  all_sales\n",
              "critic_score      1.000000    0.597552   0.336280\n",
              "user_score        0.597552    1.000000   0.055079\n",
              "all_sales         0.336280    0.055079   1.000000"
            ]
          },
          "metadata": {},
          "output_type": "display_data"
        },
        {
          "name": "stdout",
          "output_type": "stream",
          "text": [
            "PS3\n"
          ]
        },
        {
          "data": {
            "text/html": [
              "<div>\n",
              "<style scoped>\n",
              "    .dataframe tbody tr th:only-of-type {\n",
              "        vertical-align: middle;\n",
              "    }\n",
              "\n",
              "    .dataframe tbody tr th {\n",
              "        vertical-align: top;\n",
              "    }\n",
              "\n",
              "    .dataframe thead th {\n",
              "        text-align: right;\n",
              "    }\n",
              "</style>\n",
              "<table border=\"1\" class=\"dataframe\">\n",
              "  <thead>\n",
              "    <tr style=\"text-align: right;\">\n",
              "      <th></th>\n",
              "      <th>critic_score</th>\n",
              "      <th>user_score</th>\n",
              "      <th>all_sales</th>\n",
              "    </tr>\n",
              "  </thead>\n",
              "  <tbody>\n",
              "    <tr>\n",
              "      <td>critic_score</td>\n",
              "      <td>1.000000</td>\n",
              "      <td>0.595259</td>\n",
              "      <td>0.393604</td>\n",
              "    </tr>\n",
              "    <tr>\n",
              "      <td>user_score</td>\n",
              "      <td>0.595259</td>\n",
              "      <td>1.000000</td>\n",
              "      <td>0.082736</td>\n",
              "    </tr>\n",
              "    <tr>\n",
              "      <td>all_sales</td>\n",
              "      <td>0.393604</td>\n",
              "      <td>0.082736</td>\n",
              "      <td>1.000000</td>\n",
              "    </tr>\n",
              "  </tbody>\n",
              "</table>\n",
              "</div>"
            ],
            "text/plain": [
              "              critic_score  user_score  all_sales\n",
              "critic_score      1.000000    0.595259   0.393604\n",
              "user_score        0.595259    1.000000   0.082736\n",
              "all_sales         0.393604    0.082736   1.000000"
            ]
          },
          "metadata": {},
          "output_type": "display_data"
        }
      ],
      "source": [
        "for _ in range(0, 10):\n",
        "    corr_to_all = data_10_16.query('platform == @platforms_actual[@_]')\n",
        "    print(platforms_actual[_])\n",
        "    display(corr_to_all[['platform', 'critic_score', 'user_score', 'all_sales']].corr())"
      ]
    },
    {
      "cell_type": "markdown",
      "metadata": {
        "id": "MxQ9X_BkD6X-"
      },
      "source": [
        "При помощи цикла рассчет корреляции продаж с оценками критиков и пользователей отдельно для каждой из платформ.\n",
        "\n",
        "Платформы кроме 3DS имеют похожие связи, как и у XOne.\n",
        "\n",
        "Выделяется 3DS, рейтинг игроков кореллируется с рейтингом критиков 0.74 . Возможно здесь идет лучше работа по составлению рейтинга для игр и системы отзывов для игроков."
      ]
    },
    {
      "cell_type": "markdown",
      "metadata": {
        "id": "dYHXhAy3D6X-"
      },
      "source": [
        "<a class=\"anchor\" id=\"21-bullet\">"
      ]
    },
    {
      "cell_type": "markdown",
      "metadata": {
        "id": "UamjNYJpD6X_"
      },
      "source": [
        "Зависимость прибыли от оценки критиков и пользователей на всех игровых платформах\n",
        "\n",
        "По игровым платформам данные уже более равномерные. Наблюдается небольшая положительная тенденция в росте продаж. Оценки как экспертов так и обычных пользователей воздействуют на продажи примерно одинаково и положительно."
      ]
    },
    {
      "cell_type": "code",
      "execution_count": null,
      "metadata": {
        "id": "a6wYGghED6X_",
        "outputId": "8db5684a-89da-49e4-94b3-cd86998eefcd"
      },
      "outputs": [
        {
          "data": {
            "text/html": [
              "<div>\n",
              "<style scoped>\n",
              "    .dataframe tbody tr th:only-of-type {\n",
              "        vertical-align: middle;\n",
              "    }\n",
              "\n",
              "    .dataframe tbody tr th {\n",
              "        vertical-align: top;\n",
              "    }\n",
              "\n",
              "    .dataframe thead th {\n",
              "        text-align: right;\n",
              "    }\n",
              "</style>\n",
              "<table border=\"1\" class=\"dataframe\">\n",
              "  <thead>\n",
              "    <tr style=\"text-align: right;\">\n",
              "      <th></th>\n",
              "      <th>genre</th>\n",
              "      <th>name</th>\n",
              "      <th>all_sales</th>\n",
              "      <th>mean</th>\n",
              "    </tr>\n",
              "  </thead>\n",
              "  <tbody>\n",
              "    <tr>\n",
              "      <td>5</td>\n",
              "      <td>Puzzle</td>\n",
              "      <td>16</td>\n",
              "      <td>7.65</td>\n",
              "      <td>0.478125</td>\n",
              "    </tr>\n",
              "    <tr>\n",
              "      <td>11</td>\n",
              "      <td>Strategy</td>\n",
              "      <td>70</td>\n",
              "      <td>24.46</td>\n",
              "      <td>0.349429</td>\n",
              "    </tr>\n",
              "    <tr>\n",
              "      <td>1</td>\n",
              "      <td>Adventure</td>\n",
              "      <td>79</td>\n",
              "      <td>26.14</td>\n",
              "      <td>0.330886</td>\n",
              "    </tr>\n",
              "    <tr>\n",
              "      <td>9</td>\n",
              "      <td>Simulation</td>\n",
              "      <td>71</td>\n",
              "      <td>41.00</td>\n",
              "      <td>0.577465</td>\n",
              "    </tr>\n",
              "    <tr>\n",
              "      <td>2</td>\n",
              "      <td>Fighting</td>\n",
              "      <td>109</td>\n",
              "      <td>54.60</td>\n",
              "      <td>0.500917</td>\n",
              "    </tr>\n",
              "    <tr>\n",
              "      <td>4</td>\n",
              "      <td>Platform</td>\n",
              "      <td>73</td>\n",
              "      <td>74.57</td>\n",
              "      <td>1.021507</td>\n",
              "    </tr>\n",
              "    <tr>\n",
              "      <td>6</td>\n",
              "      <td>Racing</td>\n",
              "      <td>130</td>\n",
              "      <td>87.70</td>\n",
              "      <td>0.674615</td>\n",
              "    </tr>\n",
              "    <tr>\n",
              "      <td>3</td>\n",
              "      <td>Misc</td>\n",
              "      <td>105</td>\n",
              "      <td>117.62</td>\n",
              "      <td>1.120190</td>\n",
              "    </tr>\n",
              "    <tr>\n",
              "      <td>7</td>\n",
              "      <td>Role-Playing</td>\n",
              "      <td>220</td>\n",
              "      <td>166.74</td>\n",
              "      <td>0.757909</td>\n",
              "    </tr>\n",
              "    <tr>\n",
              "      <td>10</td>\n",
              "      <td>Sports</td>\n",
              "      <td>230</td>\n",
              "      <td>223.70</td>\n",
              "      <td>0.972609</td>\n",
              "    </tr>\n",
              "    <tr>\n",
              "      <td>8</td>\n",
              "      <td>Shooter</td>\n",
              "      <td>285</td>\n",
              "      <td>399.49</td>\n",
              "      <td>1.401719</td>\n",
              "    </tr>\n",
              "    <tr>\n",
              "      <td>0</td>\n",
              "      <td>Action</td>\n",
              "      <td>599</td>\n",
              "      <td>485.05</td>\n",
              "      <td>0.809766</td>\n",
              "    </tr>\n",
              "  </tbody>\n",
              "</table>\n",
              "</div>"
            ],
            "text/plain": [
              "           genre  name  all_sales      mean\n",
              "5         Puzzle    16       7.65  0.478125\n",
              "11      Strategy    70      24.46  0.349429\n",
              "1      Adventure    79      26.14  0.330886\n",
              "9     Simulation    71      41.00  0.577465\n",
              "2       Fighting   109      54.60  0.500917\n",
              "4       Platform    73      74.57  1.021507\n",
              "6         Racing   130      87.70  0.674615\n",
              "3           Misc   105     117.62  1.120190\n",
              "7   Role-Playing   220     166.74  0.757909\n",
              "10        Sports   230     223.70  0.972609\n",
              "8        Shooter   285     399.49  1.401719\n",
              "0         Action   599     485.05  0.809766"
            ]
          },
          "execution_count": 43,
          "metadata": {},
          "output_type": "execute_result"
        }
      ],
      "source": [
        "# группировка игр по жанрам\n",
        "data_agg_genre = data_10_16.groupby('genre')['name'].count()\n",
        "data_agg_genre = pd.DataFrame(data_agg_genre)\n",
        "data_agg_genre.reset_index(inplace=True)\n",
        "\n",
        "# группировка продаж по жанрам\n",
        "data_agg_sum = data_10_16.groupby('genre')['all_sales'].sum()\n",
        "data_agg_sum = pd.DataFrame(data_agg_sum)\n",
        "data_agg_sum.reset_index(inplace=True)\n",
        "\n",
        "# группировка по всем данным\n",
        "data_all = data_agg_genre.merge(data_agg_sum, on='genre')\n",
        "\n",
        "# средние продажи по жанрам\n",
        "data_all['mean'] = data_all['all_sales'] / data_all['name']\n",
        "\n",
        "data_all.sort_values(by='all_sales', axis = 0)"
      ]
    },
    {
      "cell_type": "markdown",
      "metadata": {
        "id": "07qCTLS2D6YA"
      },
      "source": [
        "* Самые прибыльные платформы Action и Shooter.\n",
        "* Разнообразие игр в жанре в среднем приносит большую прибыль."
      ]
    },
    {
      "cell_type": "code",
      "execution_count": null,
      "metadata": {
        "id": "GYq1O7qoD6YA",
        "outputId": "eec00ee6-6a69-4571-89bf-03f7c15da15c"
      },
      "outputs": [
        {
          "data": {
            "text/html": [
              "<div>\n",
              "<style scoped>\n",
              "    .dataframe tbody tr th:only-of-type {\n",
              "        vertical-align: middle;\n",
              "    }\n",
              "\n",
              "    .dataframe tbody tr th {\n",
              "        vertical-align: top;\n",
              "    }\n",
              "\n",
              "    .dataframe thead th {\n",
              "        text-align: right;\n",
              "    }\n",
              "</style>\n",
              "<table border=\"1\" class=\"dataframe\">\n",
              "  <thead>\n",
              "    <tr style=\"text-align: right;\">\n",
              "      <th></th>\n",
              "      <th>genre</th>\n",
              "      <th>name</th>\n",
              "      <th>all_sales</th>\n",
              "      <th>mean</th>\n",
              "    </tr>\n",
              "  </thead>\n",
              "  <tbody>\n",
              "    <tr>\n",
              "      <td>1</td>\n",
              "      <td>Adventure</td>\n",
              "      <td>79</td>\n",
              "      <td>26.14</td>\n",
              "      <td>0.330886</td>\n",
              "    </tr>\n",
              "    <tr>\n",
              "      <td>11</td>\n",
              "      <td>Strategy</td>\n",
              "      <td>70</td>\n",
              "      <td>24.46</td>\n",
              "      <td>0.349429</td>\n",
              "    </tr>\n",
              "    <tr>\n",
              "      <td>5</td>\n",
              "      <td>Puzzle</td>\n",
              "      <td>16</td>\n",
              "      <td>7.65</td>\n",
              "      <td>0.478125</td>\n",
              "    </tr>\n",
              "    <tr>\n",
              "      <td>2</td>\n",
              "      <td>Fighting</td>\n",
              "      <td>109</td>\n",
              "      <td>54.60</td>\n",
              "      <td>0.500917</td>\n",
              "    </tr>\n",
              "    <tr>\n",
              "      <td>9</td>\n",
              "      <td>Simulation</td>\n",
              "      <td>71</td>\n",
              "      <td>41.00</td>\n",
              "      <td>0.577465</td>\n",
              "    </tr>\n",
              "    <tr>\n",
              "      <td>6</td>\n",
              "      <td>Racing</td>\n",
              "      <td>130</td>\n",
              "      <td>87.70</td>\n",
              "      <td>0.674615</td>\n",
              "    </tr>\n",
              "    <tr>\n",
              "      <td>7</td>\n",
              "      <td>Role-Playing</td>\n",
              "      <td>220</td>\n",
              "      <td>166.74</td>\n",
              "      <td>0.757909</td>\n",
              "    </tr>\n",
              "    <tr>\n",
              "      <td>0</td>\n",
              "      <td>Action</td>\n",
              "      <td>599</td>\n",
              "      <td>485.05</td>\n",
              "      <td>0.809766</td>\n",
              "    </tr>\n",
              "    <tr>\n",
              "      <td>10</td>\n",
              "      <td>Sports</td>\n",
              "      <td>230</td>\n",
              "      <td>223.70</td>\n",
              "      <td>0.972609</td>\n",
              "    </tr>\n",
              "    <tr>\n",
              "      <td>4</td>\n",
              "      <td>Platform</td>\n",
              "      <td>73</td>\n",
              "      <td>74.57</td>\n",
              "      <td>1.021507</td>\n",
              "    </tr>\n",
              "    <tr>\n",
              "      <td>3</td>\n",
              "      <td>Misc</td>\n",
              "      <td>105</td>\n",
              "      <td>117.62</td>\n",
              "      <td>1.120190</td>\n",
              "    </tr>\n",
              "    <tr>\n",
              "      <td>8</td>\n",
              "      <td>Shooter</td>\n",
              "      <td>285</td>\n",
              "      <td>399.49</td>\n",
              "      <td>1.401719</td>\n",
              "    </tr>\n",
              "  </tbody>\n",
              "</table>\n",
              "</div>"
            ],
            "text/plain": [
              "           genre  name  all_sales      mean\n",
              "1      Adventure    79      26.14  0.330886\n",
              "11      Strategy    70      24.46  0.349429\n",
              "5         Puzzle    16       7.65  0.478125\n",
              "2       Fighting   109      54.60  0.500917\n",
              "9     Simulation    71      41.00  0.577465\n",
              "6         Racing   130      87.70  0.674615\n",
              "7   Role-Playing   220     166.74  0.757909\n",
              "0         Action   599     485.05  0.809766\n",
              "10        Sports   230     223.70  0.972609\n",
              "4       Platform    73      74.57  1.021507\n",
              "3           Misc   105     117.62  1.120190\n",
              "8        Shooter   285     399.49  1.401719"
            ]
          },
          "execution_count": 44,
          "metadata": {},
          "output_type": "execute_result"
        }
      ],
      "source": [
        "data_all.sort_values(by='mean', axis = 0)"
      ]
    },
    {
      "cell_type": "markdown",
      "metadata": {
        "id": "ikqDerxKD6YA"
      },
      "source": [
        "### Вывод\n",
        "\n",
        "На 2017 год ожидается подъем продаж по PS4, XOne и 3DS, так как многие студии-разработчики хотят попасть на все рынки."
      ]
    },
    {
      "cell_type": "markdown",
      "metadata": {
        "id": "xeWs0TaQD6YA"
      },
      "source": [
        "## Составьте портрет пользователя каждого региона"
      ]
    },
    {
      "cell_type": "code",
      "execution_count": null,
      "metadata": {
        "id": "fvBiJ3twD6YB",
        "outputId": "029a259d-9755-402f-82c6-113697e65028"
      },
      "outputs": [
        {
          "data": {
            "text/html": [
              "<div>\n",
              "<style scoped>\n",
              "    .dataframe tbody tr th:only-of-type {\n",
              "        vertical-align: middle;\n",
              "    }\n",
              "\n",
              "    .dataframe tbody tr th {\n",
              "        vertical-align: top;\n",
              "    }\n",
              "\n",
              "    .dataframe thead th {\n",
              "        text-align: right;\n",
              "    }\n",
              "</style>\n",
              "<table border=\"1\" class=\"dataframe\">\n",
              "  <thead>\n",
              "    <tr style=\"text-align: right;\">\n",
              "      <th></th>\n",
              "      <th>platform</th>\n",
              "      <th>na_sales</th>\n",
              "    </tr>\n",
              "  </thead>\n",
              "  <tbody>\n",
              "    <tr>\n",
              "      <td>0</td>\n",
              "      <td>X360</td>\n",
              "      <td>286.03</td>\n",
              "    </tr>\n",
              "    <tr>\n",
              "      <td>1</td>\n",
              "      <td>PS3</td>\n",
              "      <td>190.64</td>\n",
              "    </tr>\n",
              "    <tr>\n",
              "      <td>2</td>\n",
              "      <td>PS4</td>\n",
              "      <td>84.46</td>\n",
              "    </tr>\n",
              "    <tr>\n",
              "      <td>3</td>\n",
              "      <td>XOne</td>\n",
              "      <td>76.03</td>\n",
              "    </tr>\n",
              "    <tr>\n",
              "      <td>4</td>\n",
              "      <td>Wii</td>\n",
              "      <td>58.53</td>\n",
              "    </tr>\n",
              "  </tbody>\n",
              "</table>\n",
              "</div>"
            ],
            "text/plain": [
              "  platform  na_sales\n",
              "0     X360    286.03\n",
              "1      PS3    190.64\n",
              "2      PS4     84.46\n",
              "3     XOne     76.03\n",
              "4      Wii     58.53"
            ]
          },
          "execution_count": 45,
          "metadata": {},
          "output_type": "execute_result"
        }
      ],
      "source": [
        "# группировка na_sales прибыли по игровым платформам\n",
        "pl_na = pd.DataFrame(data_10_16.groupby(['platform'])['na_sales'].sum().sort_values(ascending=False).head())\n",
        "pl_na.reset_index(inplace=True)\n",
        "\n",
        "# группировка eu_sales прибыли по игровым платформам\n",
        "pl_eu = pd.DataFrame(data_10_16.groupby(['platform'])['eu_sales'].sum().sort_values(ascending=False).head())\n",
        "pl_eu.reset_index(inplace=True)\n",
        "\n",
        "# группировка jp_sales прибыли по игровым платформам\n",
        "pl_jp = pd.DataFrame(data_10_16.groupby(['platform'])['jp_sales'].sum().sort_values(ascending=False).head())\n",
        "pl_jp.reset_index(inplace=True)\n",
        "\n",
        "pl_na"
      ]
    },
    {
      "cell_type": "markdown",
      "metadata": {
        "id": "V85YfZSjD6YB"
      },
      "source": [
        "топ 5 игровых платформ Северная Америка"
      ]
    },
    {
      "cell_type": "code",
      "execution_count": null,
      "metadata": {
        "id": "tKATafy2D6YB",
        "outputId": "0152e138-5392-4ed6-bd78-b8869edcefda"
      },
      "outputs": [
        {
          "data": {
            "text/html": [
              "<div>\n",
              "<style scoped>\n",
              "    .dataframe tbody tr th:only-of-type {\n",
              "        vertical-align: middle;\n",
              "    }\n",
              "\n",
              "    .dataframe tbody tr th {\n",
              "        vertical-align: top;\n",
              "    }\n",
              "\n",
              "    .dataframe thead th {\n",
              "        text-align: right;\n",
              "    }\n",
              "</style>\n",
              "<table border=\"1\" class=\"dataframe\">\n",
              "  <thead>\n",
              "    <tr style=\"text-align: right;\">\n",
              "      <th></th>\n",
              "      <th>platform</th>\n",
              "      <th>eu_sales</th>\n",
              "    </tr>\n",
              "  </thead>\n",
              "  <tbody>\n",
              "    <tr>\n",
              "      <td>0</td>\n",
              "      <td>PS3</td>\n",
              "      <td>171.07</td>\n",
              "    </tr>\n",
              "    <tr>\n",
              "      <td>1</td>\n",
              "      <td>X360</td>\n",
              "      <td>137.78</td>\n",
              "    </tr>\n",
              "    <tr>\n",
              "      <td>2</td>\n",
              "      <td>PS4</td>\n",
              "      <td>112.44</td>\n",
              "    </tr>\n",
              "    <tr>\n",
              "      <td>3</td>\n",
              "      <td>PC</td>\n",
              "      <td>60.40</td>\n",
              "    </tr>\n",
              "    <tr>\n",
              "      <td>4</td>\n",
              "      <td>XOne</td>\n",
              "      <td>42.23</td>\n",
              "    </tr>\n",
              "  </tbody>\n",
              "</table>\n",
              "</div>"
            ],
            "text/plain": [
              "  platform  eu_sales\n",
              "0      PS3    171.07\n",
              "1     X360    137.78\n",
              "2      PS4    112.44\n",
              "3       PC     60.40\n",
              "4     XOne     42.23"
            ]
          },
          "execution_count": 46,
          "metadata": {},
          "output_type": "execute_result"
        }
      ],
      "source": [
        "pl_eu"
      ]
    },
    {
      "cell_type": "markdown",
      "metadata": {
        "id": "-IlS7MdHD6YB"
      },
      "source": [
        "топ 5 игровых платформ Европа"
      ]
    },
    {
      "cell_type": "code",
      "execution_count": null,
      "metadata": {
        "id": "LYIpZJk6D6YB",
        "outputId": "56c7f2fd-37b6-48da-bcd0-ac45d206cb97"
      },
      "outputs": [
        {
          "data": {
            "text/html": [
              "<div>\n",
              "<style scoped>\n",
              "    .dataframe tbody tr th:only-of-type {\n",
              "        vertical-align: middle;\n",
              "    }\n",
              "\n",
              "    .dataframe tbody tr th {\n",
              "        vertical-align: top;\n",
              "    }\n",
              "\n",
              "    .dataframe thead th {\n",
              "        text-align: right;\n",
              "    }\n",
              "</style>\n",
              "<table border=\"1\" class=\"dataframe\">\n",
              "  <thead>\n",
              "    <tr style=\"text-align: right;\">\n",
              "      <th></th>\n",
              "      <th>platform</th>\n",
              "      <th>jp_sales</th>\n",
              "    </tr>\n",
              "  </thead>\n",
              "  <tbody>\n",
              "    <tr>\n",
              "      <td>0</td>\n",
              "      <td>PS3</td>\n",
              "      <td>37.69</td>\n",
              "    </tr>\n",
              "    <tr>\n",
              "      <td>1</td>\n",
              "      <td>3DS</td>\n",
              "      <td>33.87</td>\n",
              "    </tr>\n",
              "    <tr>\n",
              "      <td>2</td>\n",
              "      <td>Wii</td>\n",
              "      <td>10.00</td>\n",
              "    </tr>\n",
              "    <tr>\n",
              "      <td>3</td>\n",
              "      <td>PS4</td>\n",
              "      <td>9.43</td>\n",
              "    </tr>\n",
              "    <tr>\n",
              "      <td>4</td>\n",
              "      <td>DS</td>\n",
              "      <td>6.46</td>\n",
              "    </tr>\n",
              "  </tbody>\n",
              "</table>\n",
              "</div>"
            ],
            "text/plain": [
              "  platform  jp_sales\n",
              "0      PS3     37.69\n",
              "1      3DS     33.87\n",
              "2      Wii     10.00\n",
              "3      PS4      9.43\n",
              "4       DS      6.46"
            ]
          },
          "execution_count": 47,
          "metadata": {},
          "output_type": "execute_result"
        }
      ],
      "source": [
        "pl_jp"
      ]
    },
    {
      "cell_type": "markdown",
      "metadata": {
        "id": "Ou5u6sm2D6YC"
      },
      "source": [
        "топ 5 игровых платформ Япония"
      ]
    },
    {
      "cell_type": "markdown",
      "metadata": {
        "id": "sWjmA8vFD6YC"
      },
      "source": [
        "В целом пользователи Северной Америки и Европы очень похожи по предпочтениям игровых платформ. Япония отличается. Возможно это связано с особым азиатским менталитетом."
      ]
    },
    {
      "cell_type": "code",
      "execution_count": null,
      "metadata": {
        "id": "MYdSpweyD6YC",
        "outputId": "58433317-19d7-4308-db18-830e2695823d"
      },
      "outputs": [
        {
          "data": {
            "text/html": [
              "<div>\n",
              "<style scoped>\n",
              "    .dataframe tbody tr th:only-of-type {\n",
              "        vertical-align: middle;\n",
              "    }\n",
              "\n",
              "    .dataframe tbody tr th {\n",
              "        vertical-align: top;\n",
              "    }\n",
              "\n",
              "    .dataframe thead th {\n",
              "        text-align: right;\n",
              "    }\n",
              "</style>\n",
              "<table border=\"1\" class=\"dataframe\">\n",
              "  <thead>\n",
              "    <tr style=\"text-align: right;\">\n",
              "      <th></th>\n",
              "      <th>genre</th>\n",
              "      <th>na_sales</th>\n",
              "    </tr>\n",
              "  </thead>\n",
              "  <tbody>\n",
              "    <tr>\n",
              "      <td>0</td>\n",
              "      <td>Action</td>\n",
              "      <td>216.68</td>\n",
              "    </tr>\n",
              "    <tr>\n",
              "      <td>1</td>\n",
              "      <td>Shooter</td>\n",
              "      <td>200.31</td>\n",
              "    </tr>\n",
              "    <tr>\n",
              "      <td>2</td>\n",
              "      <td>Sports</td>\n",
              "      <td>111.09</td>\n",
              "    </tr>\n",
              "    <tr>\n",
              "      <td>3</td>\n",
              "      <td>Role-Playing</td>\n",
              "      <td>74.29</td>\n",
              "    </tr>\n",
              "    <tr>\n",
              "      <td>4</td>\n",
              "      <td>Misc</td>\n",
              "      <td>66.96</td>\n",
              "    </tr>\n",
              "  </tbody>\n",
              "</table>\n",
              "</div>"
            ],
            "text/plain": [
              "          genre  na_sales\n",
              "0        Action    216.68\n",
              "1       Shooter    200.31\n",
              "2        Sports    111.09\n",
              "3  Role-Playing     74.29\n",
              "4          Misc     66.96"
            ]
          },
          "execution_count": 48,
          "metadata": {},
          "output_type": "execute_result"
        }
      ],
      "source": [
        "# группировка na_sales прибыли по жанрам\n",
        "gen_na = pd.DataFrame(data_10_16.groupby(['genre'])['na_sales'].sum().sort_values(ascending=False).head())\n",
        "gen_na.reset_index(inplace=True)\n",
        "\n",
        "# группировка eu_sales прибыли по жанрам\n",
        "gen_eu = pd.DataFrame(data_10_16.groupby(['genre'])['eu_sales'].sum().sort_values(ascending=False).head())\n",
        "gen_eu.reset_index(inplace=True)\n",
        "\n",
        "# группировка jp_sales прибыли по жанрам\n",
        "gen_jp = pd.DataFrame(data_10_16.groupby(['genre'])['jp_sales'].sum().sort_values(ascending=False).head())\n",
        "gen_jp.reset_index(inplace=True)\n",
        "\n",
        "gen_na"
      ]
    },
    {
      "cell_type": "markdown",
      "metadata": {
        "id": "wQ_ikOXjD6YC"
      },
      "source": [
        "топ 5 жанров Северная Америка"
      ]
    },
    {
      "cell_type": "code",
      "execution_count": null,
      "metadata": {
        "id": "Lf_PtM1WD6YC",
        "outputId": "c2815e74-2ac8-4d9e-da4e-28101df0e354"
      },
      "outputs": [
        {
          "data": {
            "text/html": [
              "<div>\n",
              "<style scoped>\n",
              "    .dataframe tbody tr th:only-of-type {\n",
              "        vertical-align: middle;\n",
              "    }\n",
              "\n",
              "    .dataframe tbody tr th {\n",
              "        vertical-align: top;\n",
              "    }\n",
              "\n",
              "    .dataframe thead th {\n",
              "        text-align: right;\n",
              "    }\n",
              "</style>\n",
              "<table border=\"1\" class=\"dataframe\">\n",
              "  <thead>\n",
              "    <tr style=\"text-align: right;\">\n",
              "      <th></th>\n",
              "      <th>genre</th>\n",
              "      <th>eu_sales</th>\n",
              "    </tr>\n",
              "  </thead>\n",
              "  <tbody>\n",
              "    <tr>\n",
              "      <td>0</td>\n",
              "      <td>Action</td>\n",
              "      <td>180.33</td>\n",
              "    </tr>\n",
              "    <tr>\n",
              "      <td>1</td>\n",
              "      <td>Shooter</td>\n",
              "      <td>142.31</td>\n",
              "    </tr>\n",
              "    <tr>\n",
              "      <td>2</td>\n",
              "      <td>Sports</td>\n",
              "      <td>80.50</td>\n",
              "    </tr>\n",
              "    <tr>\n",
              "      <td>3</td>\n",
              "      <td>Role-Playing</td>\n",
              "      <td>49.25</td>\n",
              "    </tr>\n",
              "    <tr>\n",
              "      <td>4</td>\n",
              "      <td>Racing</td>\n",
              "      <td>40.64</td>\n",
              "    </tr>\n",
              "  </tbody>\n",
              "</table>\n",
              "</div>"
            ],
            "text/plain": [
              "          genre  eu_sales\n",
              "0        Action    180.33\n",
              "1       Shooter    142.31\n",
              "2        Sports     80.50\n",
              "3  Role-Playing     49.25\n",
              "4        Racing     40.64"
            ]
          },
          "execution_count": 49,
          "metadata": {},
          "output_type": "execute_result"
        }
      ],
      "source": [
        "gen_eu"
      ]
    },
    {
      "cell_type": "markdown",
      "metadata": {
        "id": "y5P8vmD4D6YC"
      },
      "source": [
        "топ 5 жанров Европа"
      ]
    },
    {
      "cell_type": "code",
      "execution_count": null,
      "metadata": {
        "id": "21Y1eehkD6YD",
        "outputId": "1fce976a-2102-44a2-ed90-399e953f02fd"
      },
      "outputs": [
        {
          "data": {
            "text/html": [
              "<div>\n",
              "<style scoped>\n",
              "    .dataframe tbody tr th:only-of-type {\n",
              "        vertical-align: middle;\n",
              "    }\n",
              "\n",
              "    .dataframe tbody tr th {\n",
              "        vertical-align: top;\n",
              "    }\n",
              "\n",
              "    .dataframe thead th {\n",
              "        text-align: right;\n",
              "    }\n",
              "</style>\n",
              "<table border=\"1\" class=\"dataframe\">\n",
              "  <thead>\n",
              "    <tr style=\"text-align: right;\">\n",
              "      <th></th>\n",
              "      <th>genre</th>\n",
              "      <th>jp_sales</th>\n",
              "    </tr>\n",
              "  </thead>\n",
              "  <tbody>\n",
              "    <tr>\n",
              "      <td>0</td>\n",
              "      <td>Action</td>\n",
              "      <td>28.78</td>\n",
              "    </tr>\n",
              "    <tr>\n",
              "      <td>1</td>\n",
              "      <td>Role-Playing</td>\n",
              "      <td>26.83</td>\n",
              "    </tr>\n",
              "    <tr>\n",
              "      <td>2</td>\n",
              "      <td>Shooter</td>\n",
              "      <td>10.12</td>\n",
              "    </tr>\n",
              "    <tr>\n",
              "      <td>3</td>\n",
              "      <td>Platform</td>\n",
              "      <td>9.98</td>\n",
              "    </tr>\n",
              "    <tr>\n",
              "      <td>4</td>\n",
              "      <td>Simulation</td>\n",
              "      <td>7.92</td>\n",
              "    </tr>\n",
              "  </tbody>\n",
              "</table>\n",
              "</div>"
            ],
            "text/plain": [
              "          genre  jp_sales\n",
              "0        Action     28.78\n",
              "1  Role-Playing     26.83\n",
              "2       Shooter     10.12\n",
              "3      Platform      9.98\n",
              "4    Simulation      7.92"
            ]
          },
          "execution_count": 50,
          "metadata": {},
          "output_type": "execute_result"
        }
      ],
      "source": [
        "gen_jp"
      ]
    },
    {
      "cell_type": "markdown",
      "metadata": {
        "id": "J7hOp_FhD6YD"
      },
      "source": [
        "топ 5 жанров Япония"
      ]
    },
    {
      "cell_type": "markdown",
      "metadata": {
        "id": "eKJOOheZD6YD"
      },
      "source": [
        "По жанрам предпочтения пользоветелей Европпы и Северной Америки сходятся. Япония опять таки отличается скорее всего из за отличия культуры и азиатской ментальности."
      ]
    },
    {
      "cell_type": "code",
      "execution_count": null,
      "metadata": {
        "id": "coy-WHFhD6YD",
        "outputId": "2e413ce9-46f6-41e1-fe49-fa60c68fe09a"
      },
      "outputs": [
        {
          "data": {
            "text/html": [
              "<div>\n",
              "<style scoped>\n",
              "    .dataframe tbody tr th:only-of-type {\n",
              "        vertical-align: middle;\n",
              "    }\n",
              "\n",
              "    .dataframe tbody tr th {\n",
              "        vertical-align: top;\n",
              "    }\n",
              "\n",
              "    .dataframe thead th {\n",
              "        text-align: right;\n",
              "    }\n",
              "</style>\n",
              "<table border=\"1\" class=\"dataframe\">\n",
              "  <thead>\n",
              "    <tr style=\"text-align: right;\">\n",
              "      <th>rating</th>\n",
              "      <th>E</th>\n",
              "      <th>E10+</th>\n",
              "      <th>M</th>\n",
              "      <th>RP</th>\n",
              "      <th>T</th>\n",
              "    </tr>\n",
              "  </thead>\n",
              "  <tbody>\n",
              "    <tr>\n",
              "      <td>count</td>\n",
              "      <td>249.000000</td>\n",
              "      <td>195.000000</td>\n",
              "      <td>290.000000</td>\n",
              "      <td>53.000000</td>\n",
              "      <td>393.000000</td>\n",
              "    </tr>\n",
              "    <tr>\n",
              "      <td>mean</td>\n",
              "      <td>0.748996</td>\n",
              "      <td>0.586410</td>\n",
              "      <td>1.245448</td>\n",
              "      <td>0.022642</td>\n",
              "      <td>0.350763</td>\n",
              "    </tr>\n",
              "    <tr>\n",
              "      <td>std</td>\n",
              "      <td>1.404754</td>\n",
              "      <td>1.068192</td>\n",
              "      <td>2.563835</td>\n",
              "      <td>0.061991</td>\n",
              "      <td>0.602825</td>\n",
              "    </tr>\n",
              "    <tr>\n",
              "      <td>min</td>\n",
              "      <td>0.000000</td>\n",
              "      <td>0.000000</td>\n",
              "      <td>0.000000</td>\n",
              "      <td>0.000000</td>\n",
              "      <td>0.000000</td>\n",
              "    </tr>\n",
              "    <tr>\n",
              "      <td>25%</td>\n",
              "      <td>0.080000</td>\n",
              "      <td>0.080000</td>\n",
              "      <td>0.090000</td>\n",
              "      <td>0.000000</td>\n",
              "      <td>0.040000</td>\n",
              "    </tr>\n",
              "    <tr>\n",
              "      <td>50%</td>\n",
              "      <td>0.260000</td>\n",
              "      <td>0.190000</td>\n",
              "      <td>0.460000</td>\n",
              "      <td>0.000000</td>\n",
              "      <td>0.130000</td>\n",
              "    </tr>\n",
              "    <tr>\n",
              "      <td>75%</td>\n",
              "      <td>0.730000</td>\n",
              "      <td>0.520000</td>\n",
              "      <td>1.252500</td>\n",
              "      <td>0.000000</td>\n",
              "      <td>0.420000</td>\n",
              "    </tr>\n",
              "    <tr>\n",
              "      <td>max</td>\n",
              "      <td>15.000000</td>\n",
              "      <td>7.750000</td>\n",
              "      <td>23.840000</td>\n",
              "      <td>0.310000</td>\n",
              "      <td>5.860000</td>\n",
              "    </tr>\n",
              "  </tbody>\n",
              "</table>\n",
              "</div>"
            ],
            "text/plain": [
              "rating           E        E10+           M         RP           T\n",
              "count   249.000000  195.000000  290.000000  53.000000  393.000000\n",
              "mean      0.748996    0.586410    1.245448   0.022642    0.350763\n",
              "std       1.404754    1.068192    2.563835   0.061991    0.602825\n",
              "min       0.000000    0.000000    0.000000   0.000000    0.000000\n",
              "25%       0.080000    0.080000    0.090000   0.000000    0.040000\n",
              "50%       0.260000    0.190000    0.460000   0.000000    0.130000\n",
              "75%       0.730000    0.520000    1.252500   0.000000    0.420000\n",
              "max      15.000000    7.750000   23.840000   0.310000    5.860000"
            ]
          },
          "execution_count": 51,
          "metadata": {},
          "output_type": "execute_result"
        },
        {
          "data": {
            "image/png": "[encoded data removed]",
            "text/plain": [
              "<Figure size 360x360 with 1 Axes>"
            ]
          },
          "metadata": {},
          "output_type": "display_data"
        }
      ],
      "source": [
        "plt.ylim(0, 1.25)\n",
        "data_raiting_na = data_10_16.pivot_table(index='name', columns='rating', values='na_sales', aggfunc='sum');\n",
        "data_raiting_na.boxplot();\n",
        "\n",
        "data_raiting_na.describe()"
      ]
    },
    {
      "cell_type": "markdown",
      "metadata": {
        "id": "fhjI0ZoMD6YD"
      },
      "source": [
        "Распределение продаж в зависимости от рейтенга в регионе na"
      ]
    },
    {
      "cell_type": "code",
      "execution_count": null,
      "metadata": {
        "id": "zjjRc00kD6YD",
        "outputId": "ad475e08-0e9e-4e27-8c8c-8d267b99173c"
      },
      "outputs": [
        {
          "data": {
            "text/html": [
              "<div>\n",
              "<style scoped>\n",
              "    .dataframe tbody tr th:only-of-type {\n",
              "        vertical-align: middle;\n",
              "    }\n",
              "\n",
              "    .dataframe tbody tr th {\n",
              "        vertical-align: top;\n",
              "    }\n",
              "\n",
              "    .dataframe thead th {\n",
              "        text-align: right;\n",
              "    }\n",
              "</style>\n",
              "<table border=\"1\" class=\"dataframe\">\n",
              "  <thead>\n",
              "    <tr style=\"text-align: right;\">\n",
              "      <th>rating</th>\n",
              "      <th>E</th>\n",
              "      <th>E10+</th>\n",
              "      <th>M</th>\n",
              "      <th>RP</th>\n",
              "      <th>T</th>\n",
              "    </tr>\n",
              "  </thead>\n",
              "  <tbody>\n",
              "    <tr>\n",
              "      <td>count</td>\n",
              "      <td>249.000000</td>\n",
              "      <td>195.000000</td>\n",
              "      <td>290.000000</td>\n",
              "      <td>53.000000</td>\n",
              "      <td>393.000000</td>\n",
              "    </tr>\n",
              "    <tr>\n",
              "      <td>mean</td>\n",
              "      <td>0.615422</td>\n",
              "      <td>0.364462</td>\n",
              "      <td>0.954655</td>\n",
              "      <td>0.074717</td>\n",
              "      <td>0.255191</td>\n",
              "    </tr>\n",
              "    <tr>\n",
              "      <td>std</td>\n",
              "      <td>1.389819</td>\n",
              "      <td>0.636108</td>\n",
              "      <td>2.024432</td>\n",
              "      <td>0.149648</td>\n",
              "      <td>0.441070</td>\n",
              "    </tr>\n",
              "    <tr>\n",
              "      <td>min</td>\n",
              "      <td>0.000000</td>\n",
              "      <td>0.000000</td>\n",
              "      <td>0.000000</td>\n",
              "      <td>0.000000</td>\n",
              "      <td>0.000000</td>\n",
              "    </tr>\n",
              "    <tr>\n",
              "      <td>25%</td>\n",
              "      <td>0.040000</td>\n",
              "      <td>0.020000</td>\n",
              "      <td>0.070000</td>\n",
              "      <td>0.010000</td>\n",
              "      <td>0.020000</td>\n",
              "    </tr>\n",
              "    <tr>\n",
              "      <td>50%</td>\n",
              "      <td>0.160000</td>\n",
              "      <td>0.100000</td>\n",
              "      <td>0.335000</td>\n",
              "      <td>0.030000</td>\n",
              "      <td>0.090000</td>\n",
              "    </tr>\n",
              "    <tr>\n",
              "      <td>75%</td>\n",
              "      <td>0.530000</td>\n",
              "      <td>0.370000</td>\n",
              "      <td>0.992500</td>\n",
              "      <td>0.060000</td>\n",
              "      <td>0.270000</td>\n",
              "    </tr>\n",
              "    <tr>\n",
              "      <td>max</td>\n",
              "      <td>10.000000</td>\n",
              "      <td>3.700000</td>\n",
              "      <td>23.420000</td>\n",
              "      <td>0.950000</td>\n",
              "      <td>3.400000</td>\n",
              "    </tr>\n",
              "  </tbody>\n",
              "</table>\n",
              "</div>"
            ],
            "text/plain": [
              "rating           E        E10+           M         RP           T\n",
              "count   249.000000  195.000000  290.000000  53.000000  393.000000\n",
              "mean      0.615422    0.364462    0.954655   0.074717    0.255191\n",
              "std       1.389819    0.636108    2.024432   0.149648    0.441070\n",
              "min       0.000000    0.000000    0.000000   0.000000    0.000000\n",
              "25%       0.040000    0.020000    0.070000   0.010000    0.020000\n",
              "50%       0.160000    0.100000    0.335000   0.030000    0.090000\n",
              "75%       0.530000    0.370000    0.992500   0.060000    0.270000\n",
              "max      10.000000    3.700000   23.420000   0.950000    3.400000"
            ]
          },
          "execution_count": 52,
          "metadata": {},
          "output_type": "execute_result"
        },
        {
          "data": {
            "image/png": "[encoded data removed]",
            "text/plain": [
              "<Figure size 360x360 with 1 Axes>"
            ]
          },
          "metadata": {},
          "output_type": "display_data"
        }
      ],
      "source": [
        "plt.ylim(0, 1)\n",
        "data_raiting_eu = data_10_16.pivot_table(index='name', columns='rating', values='eu_sales', aggfunc='sum')\n",
        "data_raiting_eu.boxplot();\n",
        "\n",
        "data_raiting_eu.describe()"
      ]
    },
    {
      "cell_type": "markdown",
      "metadata": {
        "id": "5jRcuM2xD6YD"
      },
      "source": [
        "Распределение продаж в зависимости от рейтенга в регионе eu"
      ]
    },
    {
      "cell_type": "code",
      "execution_count": null,
      "metadata": {
        "id": "NaNrLSJeD6YE",
        "outputId": "55274457-8937-482c-e075-df6079fc5dbf"
      },
      "outputs": [
        {
          "data": {
            "text/html": [
              "<div>\n",
              "<style scoped>\n",
              "    .dataframe tbody tr th:only-of-type {\n",
              "        vertical-align: middle;\n",
              "    }\n",
              "\n",
              "    .dataframe tbody tr th {\n",
              "        vertical-align: top;\n",
              "    }\n",
              "\n",
              "    .dataframe thead th {\n",
              "        text-align: right;\n",
              "    }\n",
              "</style>\n",
              "<table border=\"1\" class=\"dataframe\">\n",
              "  <thead>\n",
              "    <tr style=\"text-align: right;\">\n",
              "      <th>rating</th>\n",
              "      <th>E</th>\n",
              "      <th>E10+</th>\n",
              "      <th>M</th>\n",
              "      <th>RP</th>\n",
              "      <th>T</th>\n",
              "    </tr>\n",
              "  </thead>\n",
              "  <tbody>\n",
              "    <tr>\n",
              "      <td>count</td>\n",
              "      <td>249.000000</td>\n",
              "      <td>195.000000</td>\n",
              "      <td>290.000000</td>\n",
              "      <td>53.000000</td>\n",
              "      <td>393.000000</td>\n",
              "    </tr>\n",
              "    <tr>\n",
              "      <td>mean</td>\n",
              "      <td>0.156386</td>\n",
              "      <td>0.050154</td>\n",
              "      <td>0.092828</td>\n",
              "      <td>0.016792</td>\n",
              "      <td>0.080254</td>\n",
              "    </tr>\n",
              "    <tr>\n",
              "      <td>std</td>\n",
              "      <td>0.460223</td>\n",
              "      <td>0.118776</td>\n",
              "      <td>0.163761</td>\n",
              "      <td>0.055601</td>\n",
              "      <td>0.194996</td>\n",
              "    </tr>\n",
              "    <tr>\n",
              "      <td>min</td>\n",
              "      <td>0.000000</td>\n",
              "      <td>0.000000</td>\n",
              "      <td>0.000000</td>\n",
              "      <td>0.000000</td>\n",
              "      <td>0.000000</td>\n",
              "    </tr>\n",
              "    <tr>\n",
              "      <td>25%</td>\n",
              "      <td>0.000000</td>\n",
              "      <td>0.000000</td>\n",
              "      <td>0.000000</td>\n",
              "      <td>0.000000</td>\n",
              "      <td>0.000000</td>\n",
              "    </tr>\n",
              "    <tr>\n",
              "      <td>50%</td>\n",
              "      <td>0.000000</td>\n",
              "      <td>0.000000</td>\n",
              "      <td>0.040000</td>\n",
              "      <td>0.000000</td>\n",
              "      <td>0.020000</td>\n",
              "    </tr>\n",
              "    <tr>\n",
              "      <td>75%</td>\n",
              "      <td>0.080000</td>\n",
              "      <td>0.030000</td>\n",
              "      <td>0.100000</td>\n",
              "      <td>0.000000</td>\n",
              "      <td>0.090000</td>\n",
              "    </tr>\n",
              "    <tr>\n",
              "      <td>max</td>\n",
              "      <td>4.390000</td>\n",
              "      <td>0.790000</td>\n",
              "      <td>1.420000</td>\n",
              "      <td>0.300000</td>\n",
              "      <td>2.620000</td>\n",
              "    </tr>\n",
              "  </tbody>\n",
              "</table>\n",
              "</div>"
            ],
            "text/plain": [
              "rating           E        E10+           M         RP           T\n",
              "count   249.000000  195.000000  290.000000  53.000000  393.000000\n",
              "mean      0.156386    0.050154    0.092828   0.016792    0.080254\n",
              "std       0.460223    0.118776    0.163761   0.055601    0.194996\n",
              "min       0.000000    0.000000    0.000000   0.000000    0.000000\n",
              "25%       0.000000    0.000000    0.000000   0.000000    0.000000\n",
              "50%       0.000000    0.000000    0.040000   0.000000    0.020000\n",
              "75%       0.080000    0.030000    0.100000   0.000000    0.090000\n",
              "max       4.390000    0.790000    1.420000   0.300000    2.620000"
            ]
          },
          "execution_count": 53,
          "metadata": {},
          "output_type": "execute_result"
        },
        {
          "data": {
            "image/png": "[encoded data removed]",
            "text/plain": [
              "<Figure size 360x360 with 1 Axes>"
            ]
          },
          "metadata": {},
          "output_type": "display_data"
        }
      ],
      "source": [
        "plt.ylim(0, 0.11)\n",
        "data_raiting_jp = data_10_16.pivot_table(index='name', columns='rating', values='jp_sales', aggfunc='sum')\n",
        "data_raiting_jp.boxplot();\n",
        "\n",
        "data_raiting_jp.describe()"
      ]
    },
    {
      "cell_type": "markdown",
      "metadata": {
        "id": "nrTU3qytD6YE"
      },
      "source": [
        "Распределение продаж в зависимости от рейтенга в регионе jp"
      ]
    },
    {
      "cell_type": "markdown",
      "metadata": {
        "id": "aiEEcR58D6YE"
      },
      "source": [
        "* В Европе и в Северной америке похожая ситуация по продажам в сетке рейтинга, а у Японии больше продаж игр для подростков.\n",
        "* В Японии подростки больше увлекаються компьютерными играми и скорее всего это ролевые игры."
      ]
    },
    {
      "cell_type": "markdown",
      "metadata": {
        "id": "XNPQgTNpD6YE"
      },
      "source": [
        "### Вывод\n",
        "\n",
        "* Американский игрок: от 17 лет, любит играть или на PS4, или на XOne, любит игры на реакцию и шутеры. \n",
        "* Европейский игрок: от 17 лет, любит играть на PS4, любит игры на реакцию и шутеры. \n",
        "* Японский игрок: от 13 лет, любит играть на переносных платформах 3DS или PSV, любит тратить время на RPG и экшены."
      ]
    },
    {
      "cell_type": "code",
      "execution_count": null,
      "metadata": {
        "id": "q7ktwl3qD6YF",
        "outputId": "974e47ba-deb6-49ce-b299-deeb61123f50"
      },
      "outputs": [
        {
          "data": {
            "text/html": [
              "<div>\n",
              "<style scoped>\n",
              "    .dataframe tbody tr th:only-of-type {\n",
              "        vertical-align: middle;\n",
              "    }\n",
              "\n",
              "    .dataframe tbody tr th {\n",
              "        vertical-align: top;\n",
              "    }\n",
              "\n",
              "    .dataframe thead th {\n",
              "        text-align: right;\n",
              "    }\n",
              "</style>\n",
              "<table border=\"1\" class=\"dataframe\">\n",
              "  <thead>\n",
              "    <tr style=\"text-align: right;\">\n",
              "      <th></th>\n",
              "      <th>genre</th>\n",
              "      <th>jp_sales</th>\n",
              "      <th>genre</th>\n",
              "      <th>eu_sales</th>\n",
              "      <th>genre</th>\n",
              "      <th>na_sales</th>\n",
              "    </tr>\n",
              "  </thead>\n",
              "  <tbody>\n",
              "    <tr>\n",
              "      <td>0</td>\n",
              "      <td>Action</td>\n",
              "      <td>28.78</td>\n",
              "      <td>Action</td>\n",
              "      <td>180.33</td>\n",
              "      <td>Action</td>\n",
              "      <td>216.68</td>\n",
              "    </tr>\n",
              "    <tr>\n",
              "      <td>1</td>\n",
              "      <td>Role-Playing</td>\n",
              "      <td>26.83</td>\n",
              "      <td>Shooter</td>\n",
              "      <td>142.31</td>\n",
              "      <td>Shooter</td>\n",
              "      <td>200.31</td>\n",
              "    </tr>\n",
              "    <tr>\n",
              "      <td>2</td>\n",
              "      <td>Shooter</td>\n",
              "      <td>10.12</td>\n",
              "      <td>Sports</td>\n",
              "      <td>80.50</td>\n",
              "      <td>Sports</td>\n",
              "      <td>111.09</td>\n",
              "    </tr>\n",
              "    <tr>\n",
              "      <td>3</td>\n",
              "      <td>Platform</td>\n",
              "      <td>9.98</td>\n",
              "      <td>Role-Playing</td>\n",
              "      <td>49.25</td>\n",
              "      <td>Role-Playing</td>\n",
              "      <td>74.29</td>\n",
              "    </tr>\n",
              "    <tr>\n",
              "      <td>4</td>\n",
              "      <td>Simulation</td>\n",
              "      <td>7.92</td>\n",
              "      <td>Racing</td>\n",
              "      <td>40.64</td>\n",
              "      <td>Misc</td>\n",
              "      <td>66.96</td>\n",
              "    </tr>\n",
              "  </tbody>\n",
              "</table>\n",
              "</div>"
            ],
            "text/plain": [
              "          genre  jp_sales         genre  eu_sales         genre  na_sales\n",
              "0        Action     28.78        Action    180.33        Action    216.68\n",
              "1  Role-Playing     26.83       Shooter    142.31       Shooter    200.31\n",
              "2       Shooter     10.12        Sports     80.50        Sports    111.09\n",
              "3      Platform      9.98  Role-Playing     49.25  Role-Playing     74.29\n",
              "4    Simulation      7.92        Racing     40.64          Misc     66.96"
            ]
          },
          "execution_count": 54,
          "metadata": {},
          "output_type": "execute_result"
        }
      ],
      "source": [
        "pd.concat([gen_jp,\n",
        "          gen_eu,\n",
        "          gen_na], axis=1)"
      ]
    },
    {
      "cell_type": "markdown",
      "metadata": {
        "id": "AGLJzYLPD6YF"
      },
      "source": [
        "<hr style=\"border: 2px solid orange;\" />"
      ]
    },
    {
      "cell_type": "markdown",
      "metadata": {
        "id": "HeF2XhdND6YF"
      },
      "source": [
        "## Проверьте гипотезы"
      ]
    },
    {
      "cell_type": "code",
      "execution_count": null,
      "metadata": {
        "id": "jIv8YvhTD6YF"
      },
      "outputs": [],
      "source": [
        "def bootstrap(arr, n=100, N_TRIAL = 1000, func = np.mean):\n",
        "    res = []\n",
        "    n = min(len(arr),n)\n",
        "    # Инициализируем цикл попыток\n",
        "    for _ in range(N_TRIAL):\n",
        "        # Делаем подвыборку размера n\n",
        "        subsample = np.random.choice(arr, size = (n,))\n",
        "        # рассчитываем статистику\n",
        "        stat = func(subsample)\n",
        "        res.append(stat)\n",
        "    return res # shape (N_TRIAL,)"
      ]
    },
    {
      "cell_type": "markdown",
      "metadata": {
        "id": "BwMSzZYhD6YF"
      },
      "source": [
        "функция для моделирования эксперимента Центральные предельные теоремы"
      ]
    },
    {
      "cell_type": "markdown",
      "metadata": {
        "id": "L_vhzlCQD6YF"
      },
      "source": [
        "### Гипотеза 1: средние пользовательские рейтинги платформ Xbox One и PC одинаковые"
      ]
    },
    {
      "cell_type": "code",
      "execution_count": null,
      "metadata": {
        "id": "I8PwVzJ8D6YG",
        "outputId": "cd6d8e05-0443-4795-b881-bd655763d9f1"
      },
      "outputs": [
        {
          "data": {
            "image/png": "[encoded data removed]",
            "text/plain": [
              "<Figure size 360x360 with 1 Axes>"
            ]
          },
          "metadata": {},
          "output_type": "display_data"
        }
      ],
      "source": [
        "# распределение по Xbox One\n",
        "res_xone = bootstrap(data_10_16.query('platform==\"XOne\"')['user_score'], N_TRIAL = 3000)\n",
        "\n",
        "# распределение по PC\n",
        "res_pc = bootstrap(data_10_16.query('platform==\"PC\"')['user_score'], N_TRIAL = 3000)\n",
        "\n",
        "# формирование распределений проведенных моделирований\n",
        "ax = sns.distplot(res_xone, label = 'XOne');\n",
        "sns.distplot(res_pc, ax = ax, label = 'PC');\n",
        "ax.legend(['XOne','PC']);\n",
        "ax.axvline(np.percentile(res_xone,1),linestyle = '--',color='g');\n",
        "ax.axvline(np.percentile(res_xone,99),linestyle = '--',color='g');\n",
        "ax.axvline(np.percentile(res_pc,1),linestyle = '--',color='r');\n",
        "ax.axvline(np.percentile(res_pc,99),linestyle = '--',color='r');"
      ]
    },
    {
      "cell_type": "code",
      "execution_count": null,
      "metadata": {
        "id": "nR0cKs8tD6YG",
        "outputId": "e4798e6e-30ed-47fc-c3d2-1dcdf19b83aa"
      },
      "outputs": [
        {
          "data": {
            "text/plain": [
              "[2.1, 3.0, 3.1, 3.2, 4.0]"
            ]
          },
          "execution_count": 57,
          "metadata": {},
          "output_type": "execute_result"
        }
      ],
      "source": [
        "# подтверждение что они есть\n",
        "sorted(data_10_16.query('platform==\"XOne\"')['user_score'].unique())[:5]"
      ]
    },
    {
      "cell_type": "markdown",
      "metadata": {
        "id": "GJfMhX79D6YG"
      },
      "source": [
        "<hr style=\"border: 2px solid red;\" />"
      ]
    },
    {
      "cell_type": "markdown",
      "metadata": {
        "id": "z3AxOzu7D6YH"
      },
      "source": [
        "Множества распределений пользовательских рейтенгов по XOne и PC.\n",
        "\n",
        "Гипотеза 1 верна."
      ]
    },
    {
      "cell_type": "markdown",
      "metadata": {
        "id": "KsnbHk-lD6YH"
      },
      "source": [
        "Формулировка нулевой гипотезы H₀: средние пользовательские рейтинги платформ Xbox One и PC одинаковые.\n",
        "\n",
        "Исходя из H₀ формулируем альтернативну гипотезу H₁: средние пользовательские рейтинги платформ Xbox One и PC не одинаковые.\n",
        "\n",
        "Альтернативная гипотеза является двухсторонней"
      ]
    },
    {
      "cell_type": "code",
      "execution_count": null,
      "metadata": {
        "id": "krduUzsfD6YH",
        "outputId": "eb91446f-7825-434e-8e1c-614e50532bff"
      },
      "outputs": [
        {
          "name": "stdout",
          "output_type": "stream",
          "text": [
            "p-значение: 0.9170685431405989\n",
            "Не получилось отвергнуть нулевую гипотезу\n"
          ]
        },
        {
          "data": {
            "image/png": "[encoded data removed]",
            "text/plain": [
              "<Figure size 360x360 with 1 Axes>"
            ]
          },
          "metadata": {},
          "output_type": "display_data"
        }
      ],
      "source": [
        "# срез по платформе XOne и фильтр от не -1 и не 0 значений\n",
        "user_score_xone = data_10_16.query('platform==\"XOne\"')['user_score'].loc[(data_10_16['user_score'] != -1)&(data_10_16['user_score'] != 0)]\n",
        "\n",
        "# срез по платформе PC и фильтр не -1 и не 0 значений\n",
        "user_score_pc = data_10_16.query('platform==\"PC\"')['user_score'].loc[(data_10_16['user_score'] != -1)&(data_10_16['user_score'] != 0)]\n",
        "\n",
        "user_score_xone.hist(bins=35);\n",
        "user_score_pc.hist(bins=35, alpha=0.5).legend(['xone','pc']);\n",
        "\n",
        "alpha = .05 # критический уровень статистической значимости\n",
        "\n",
        "results = st.ttest_ind(\n",
        "    user_score_xone, \n",
        "    user_score_pc)\n",
        "\n",
        "print('p-значение:', results.pvalue)\n",
        "\n",
        "if (results.pvalue < alpha):\n",
        "    print(\"Отвергаем нулевую гипотезу\")\n",
        "else:\n",
        "    print(\"Не получилось отвергнуть нулевую гипотезу\")"
      ]
    },
    {
      "cell_type": "markdown",
      "metadata": {
        "id": "jiMWBofMD6YH"
      },
      "source": [
        "Не получилось отвергнуть нулевую гипотезу: средние пользовательские рейтинги платформ Xbox One и PC одинаковые."
      ]
    },
    {
      "cell_type": "markdown",
      "metadata": {
        "id": "OmKCxNE5D6YH"
      },
      "source": [
        "#### вывод\n",
        "\n",
        "Рейтинги пользователей двух платформ останутся одинаковыми."
      ]
    },
    {
      "cell_type": "markdown",
      "metadata": {
        "id": "20GkVdYzD6YI"
      },
      "source": [
        "### Гипотеза 2: средние пользовательские рейтинги жанров Action (англ. «действие», экшен-игры) и Sports (англ. «спортивные соревнования») разные."
      ]
    },
    {
      "cell_type": "code",
      "execution_count": null,
      "metadata": {
        "id": "SZp2T8oYD6YI",
        "outputId": "609605e7-cba3-445f-e4c0-43a8df4c1609"
      },
      "outputs": [
        {
          "data": {
            "image/png": "[encoded data removed]",
            "text/plain": [
              "<Figure size 360x360 with 1 Axes>"
            ]
          },
          "metadata": {},
          "output_type": "display_data"
        }
      ],
      "source": [
        "# распределение по жанру Action\n",
        "res_action = bootstrap(data_10_16.query('genre==\"Action\"')['user_score'], N_TRIAL = 3000)\n",
        "\n",
        "# распределение по жанру Sports\n",
        "res_sports = bootstrap(data_10_16.query('genre==\"Sports\"')['user_score'], N_TRIAL = 3000)\n",
        "\n",
        "# формирование распределений проведенных моделирований\n",
        "ax = sns.distplot(res_action, label = 'Action');\n",
        "sns.distplot(res_sports,ax = ax, label = 'Sports');\n",
        "ax.legend(['Action','Sports']);\n",
        "ax.axvline(np.percentile(res_action,1),linestyle = '--',color='g');\n",
        "ax.axvline(np.percentile(res_action,99),linestyle = '--',color='g');\n",
        "ax.axvline(np.percentile(res_sports,1),linestyle = '--',color='r');\n",
        "ax.axvline(np.percentile(res_sports,99),linestyle = '--',color='r');"
      ]
    },
    {
      "cell_type": "markdown",
      "metadata": {
        "id": "j7njr0S2D6YI"
      },
      "source": [
        "Множества распределений пользовательских рейтенгов по жанрам Action и Sports\n",
        "\n",
        "Гипотеза 2 не верна."
      ]
    },
    {
      "cell_type": "markdown",
      "metadata": {
        "id": "80lT0N-wD6YI"
      },
      "source": [
        "Основания для выбранной модели эксперимента центральная предельная теорема.\n",
        "\n",
        "Критерий соответстия для гипотез: визуальное пересечение распределений более чем на 50%"
      ]
    },
    {
      "cell_type": "markdown",
      "metadata": {
        "id": "WbxqCWb9D6YI"
      },
      "source": [
        "Формулировка нулевой гипотезы H₀: средние пользовательские рейтинги жанров Action (англ. «действие») и Sports (англ. «виды спорта») одинаковые.\n",
        "\n",
        "Исходя из H₀ формулируем альтернативну гипотезу H₁: средние пользовательские рейтинги жанров Action (англ. «действие») и Sports (англ. «виды спорта») разные.\n",
        "\n",
        "Альтернативная гипотеза является двухсторонней"
      ]
    },
    {
      "cell_type": "code",
      "execution_count": null,
      "metadata": {
        "id": "QLrT07NfD6YI",
        "outputId": "bbc264fc-792d-4a70-8bd7-4b92c9947170"
      },
      "outputs": [
        {
          "name": "stdout",
          "output_type": "stream",
          "text": [
            "p-значение: 1.5915509197760772e-09\n",
            "Отвергаем нулевую гипотезу\n"
          ]
        },
        {
          "data": {
            "image/png": "[encoded data removed]",
            "text/plain": [
              "<Figure size 360x360 with 1 Axes>"
            ]
          },
          "metadata": {},
          "output_type": "display_data"
        }
      ],
      "source": [
        "# срез по жанру Action и фильтр не -1 и не 0 значений\n",
        "user_score_action = data_10_16.query('genre==\"Action\"')['user_score'].loc[(data_10_16['user_score'] != -1)&(data_10_16['user_score'] != 0)]\n",
        "\n",
        "# срез по жанру Sports и фильтр не -1 и не 0 значений\n",
        "user_score_sports = data_10_16.query('genre==\"Sports\"')['user_score'].loc[(data_10_16['user_score'] != -1)&(data_10_16['user_score'] != 0)]\n",
        "\n",
        "# формирование распределений проведенных моделирований\n",
        "user_score_action.hist(bins=35);\n",
        "user_score_sports.hist(bins=35, alpha=0.5).legend(['Action','Sports']);\n",
        "\n",
        "\n",
        "results = st.ttest_ind(\n",
        "    user_score_action, \n",
        "    user_score_sports)\n",
        "\n",
        "print('p-значение:', results.pvalue)\n",
        "\n",
        "if (results.pvalue < alpha):\n",
        "    print(\"Отвергаем нулевую гипотезу\")\n",
        "else:\n",
        "    print(\"Не получилось отвергнуть нулевую гипотезу\")"
      ]
    },
    {
      "cell_type": "markdown",
      "metadata": {
        "id": "WdHspLaAD6YJ"
      },
      "source": [
        "Отвергаем нулевую гипотезу: средние пользовательские рейтинги жанров Action (англ. «действие») и Sports (англ. «виды спорта») одинаковые."
      ]
    },
    {
      "cell_type": "code",
      "execution_count": null,
      "metadata": {
        "id": "fRDuaZIwD6YJ",
        "outputId": "35c5878c-7e2f-49b7-d784-de66256d8fb4"
      },
      "outputs": [
        {
          "data": {
            "image/png": "[encoded data removed]",
            "text/plain": [
              "<Figure size 648x432 with 1 Axes>"
            ]
          },
          "metadata": {},
          "output_type": "display_data"
        }
      ],
      "source": [
        "plt.style.use('seaborn-white')\n",
        "fig, ax = plt.subplots(figsize=(9, 6))\n",
        "sns.despine(left=True)\n",
        "ax.grid(color='grey', alpha=0.5, lw=0.5)\n",
        "smp1_mean = pd.Series([user_score_action.sample(frac=1, replace=True).mean() for _ in range(1000)])\n",
        "smp2_mean = pd.Series([user_score_sports.sample(frac=1, replace=True).mean() for _ in range(1000)])\n",
        "# строим распределения)\n",
        "ax.hist(smp1_mean, bins=31, label='Action', alpha=0.5, color='red')\n",
        "ax.hist(smp2_mean, bins=31, label='Sports', alpha=0.5, color='green')\n",
        "ax.legend();"
      ]
    },
    {
      "cell_type": "markdown",
      "metadata": {
        "id": "t02d9qRrD6YJ"
      },
      "source": [
        "<hr style=\"border: 2px solid red;\" />"
      ]
    },
    {
      "cell_type": "markdown",
      "metadata": {
        "id": "ZxtK6NxaD6YJ"
      },
      "source": [
        "#### Вывод\n",
        "\n",
        "Рейтинги пользователей жанров Action (англ. «действие») и Sports (англ. «виды спорта») останутся разными."
      ]
    },
    {
      "cell_type": "markdown",
      "metadata": {
        "id": "M-gkmiL1D6YK"
      },
      "source": [
        "## Напишите общий вывод"
      ]
    },
    {
      "cell_type": "markdown",
      "metadata": {
        "id": "pyQTJ7OyD6YK"
      },
      "source": [
        "Задача: \"Вам нужно выявить определяющие успешность игры закономерности. Это позволит сделать ставку на потенциально популярный продукт и спланировать рекламные кампании.\"\n",
        "\n",
        "Закономерности:\n",
        "\n",
        "* Разработка игр для платформ XOne и PS4 наиболее прибыльна по миру.\n",
        "* Оценки критиков больше влияют на популярность и как следствие на прибыль. Маркетологам и рекламщикам необходимо обратить внимание на работу с критиками.\n",
        "* Sports, Role-Playing и Platform приносят больше прибыли за одну игру в среднем.\n",
        "* Action и Shooter прибыльные жанры если выпускается серия игр.\n",
        "* Для Северной Америки и Европы прибыльнее делать игры жанра Action на платформах PS3 и X360 с класификацией по ESRB:M\n",
        "* Для Японии прибыльнее делать игры жанра Role-Playing на платформах 3DS и PS3 с класификацией по ESRB:M и T\n",
        "* Рейтинги пользователей игровых платформ XOne и PC останутся одинаковыми.\n",
        "* Пользовательские рейтенги по жанрам Action и Sports останутся разными."
      ]
    }
  ],
  "metadata": {
    "ExecuteTimeLog": [
      {
        "duration": 1178,
        "start_time": "2021-12-21T09:46:43.284Z"
      },
      {
        "duration": 47,
        "start_time": "2021-12-21T09:47:39.109Z"
      },
      {
        "duration": 317,
        "start_time": "2021-12-21T09:47:54.005Z"
      },
      {
        "duration": 50,
        "start_time": "2021-12-21T09:48:00.599Z"
      },
      {
        "duration": 12,
        "start_time": "2021-12-21T09:55:33.335Z"
      },
      {
        "duration": 32,
        "start_time": "2021-12-21T09:55:55.136Z"
      },
      {
        "duration": 183,
        "start_time": "2021-12-21T09:58:52.283Z"
      },
      {
        "duration": 14,
        "start_time": "2021-12-21T09:59:02.273Z"
      },
      {
        "duration": 173,
        "start_time": "2021-12-21T10:05:01.563Z"
      },
      {
        "duration": 16,
        "start_time": "2021-12-21T10:05:24.817Z"
      },
      {
        "duration": 18,
        "start_time": "2021-12-21T10:07:58.107Z"
      },
      {
        "duration": 17,
        "start_time": "2021-12-21T10:08:53.933Z"
      },
      {
        "duration": 8,
        "start_time": "2021-12-21T10:11:20.638Z"
      },
      {
        "duration": 4,
        "start_time": "2021-12-21T10:20:39.570Z"
      },
      {
        "duration": 181,
        "start_time": "2021-12-21T10:21:59.041Z"
      },
      {
        "duration": 7,
        "start_time": "2021-12-21T10:22:10.658Z"
      },
      {
        "duration": 5,
        "start_time": "2021-12-21T10:23:50.639Z"
      },
      {
        "duration": 5,
        "start_time": "2021-12-21T10:25:32.481Z"
      },
      {
        "duration": 4,
        "start_time": "2021-12-21T10:26:21.347Z"
      },
      {
        "duration": 5,
        "start_time": "2021-12-21T10:27:34.321Z"
      },
      {
        "duration": 4,
        "start_time": "2021-12-21T10:27:38.861Z"
      },
      {
        "duration": 5,
        "start_time": "2021-12-21T10:28:09.761Z"
      },
      {
        "duration": 5,
        "start_time": "2021-12-21T10:29:40.303Z"
      },
      {
        "duration": 7,
        "start_time": "2021-12-21T10:30:47.048Z"
      },
      {
        "duration": 5,
        "start_time": "2021-12-21T10:34:30.844Z"
      },
      {
        "duration": 11,
        "start_time": "2021-12-21T10:36:11.215Z"
      },
      {
        "duration": 7,
        "start_time": "2021-12-21T10:37:59.340Z"
      },
      {
        "duration": 5,
        "start_time": "2021-12-21T10:39:04.117Z"
      },
      {
        "duration": 1119,
        "start_time": "2021-12-21T10:43:55.136Z"
      },
      {
        "duration": 52,
        "start_time": "2021-12-21T10:43:56.257Z"
      },
      {
        "duration": 33,
        "start_time": "2021-12-21T10:43:56.312Z"
      },
      {
        "duration": 12,
        "start_time": "2021-12-21T10:43:56.347Z"
      },
      {
        "duration": 40,
        "start_time": "2021-12-21T10:43:56.361Z"
      },
      {
        "duration": 24,
        "start_time": "2021-12-21T10:43:56.403Z"
      },
      {
        "duration": 29,
        "start_time": "2021-12-21T10:43:56.429Z"
      },
      {
        "duration": 19,
        "start_time": "2021-12-21T10:43:56.461Z"
      },
      {
        "duration": 20,
        "start_time": "2021-12-21T10:43:56.482Z"
      },
      {
        "duration": 35,
        "start_time": "2021-12-21T10:43:56.504Z"
      },
      {
        "duration": 33,
        "start_time": "2021-12-21T10:43:56.541Z"
      },
      {
        "duration": 34,
        "start_time": "2021-12-21T10:43:56.575Z"
      },
      {
        "duration": 36,
        "start_time": "2021-12-21T10:43:56.611Z"
      },
      {
        "duration": 20,
        "start_time": "2021-12-21T10:43:56.649Z"
      },
      {
        "duration": 31,
        "start_time": "2021-12-21T10:43:56.671Z"
      },
      {
        "duration": 20,
        "start_time": "2021-12-21T10:43:56.704Z"
      },
      {
        "duration": 19,
        "start_time": "2021-12-21T10:43:56.725Z"
      },
      {
        "duration": 33,
        "start_time": "2021-12-21T10:43:56.746Z"
      },
      {
        "duration": 16,
        "start_time": "2021-12-21T10:43:56.780Z"
      },
      {
        "duration": 277,
        "start_time": "2021-12-21T10:45:40.978Z"
      },
      {
        "duration": 6,
        "start_time": "2021-12-21T10:45:48.128Z"
      },
      {
        "duration": 1116,
        "start_time": "2021-12-21T10:52:22.029Z"
      },
      {
        "duration": 54,
        "start_time": "2021-12-21T10:52:23.147Z"
      },
      {
        "duration": 31,
        "start_time": "2021-12-21T10:52:23.203Z"
      },
      {
        "duration": 12,
        "start_time": "2021-12-21T10:52:23.236Z"
      },
      {
        "duration": 18,
        "start_time": "2021-12-21T10:52:23.249Z"
      },
      {
        "duration": 39,
        "start_time": "2021-12-21T10:52:23.269Z"
      },
      {
        "duration": 15,
        "start_time": "2021-12-21T10:52:23.309Z"
      },
      {
        "duration": 6,
        "start_time": "2021-12-21T10:52:23.326Z"
      },
      {
        "duration": 3,
        "start_time": "2021-12-21T10:52:23.335Z"
      },
      {
        "duration": 9,
        "start_time": "2021-12-21T10:52:23.340Z"
      },
      {
        "duration": 9,
        "start_time": "2021-12-21T10:52:23.351Z"
      },
      {
        "duration": 20,
        "start_time": "2021-12-21T10:52:23.361Z"
      },
      {
        "duration": 3,
        "start_time": "2021-12-21T10:52:23.392Z"
      },
      {
        "duration": 15,
        "start_time": "2021-12-21T10:52:23.397Z"
      },
      {
        "duration": 12,
        "start_time": "2021-12-21T10:52:23.413Z"
      },
      {
        "duration": 12,
        "start_time": "2021-12-21T10:52:23.427Z"
      },
      {
        "duration": 9,
        "start_time": "2021-12-21T10:52:23.440Z"
      },
      {
        "duration": 10,
        "start_time": "2021-12-21T10:52:23.450Z"
      },
      {
        "duration": 5,
        "start_time": "2021-12-21T10:52:23.461Z"
      },
      {
        "duration": 8,
        "start_time": "2021-12-21T11:03:01.801Z"
      },
      {
        "duration": 8,
        "start_time": "2021-12-21T11:04:43.054Z"
      },
      {
        "duration": 5,
        "start_time": "2021-12-21T11:06:27.613Z"
      },
      {
        "duration": 1114,
        "start_time": "2021-12-21T11:06:39.562Z"
      },
      {
        "duration": 51,
        "start_time": "2021-12-21T11:06:40.678Z"
      },
      {
        "duration": 31,
        "start_time": "2021-12-21T11:06:40.732Z"
      },
      {
        "duration": 28,
        "start_time": "2021-12-21T11:06:40.764Z"
      },
      {
        "duration": 38,
        "start_time": "2021-12-21T11:06:40.794Z"
      },
      {
        "duration": 26,
        "start_time": "2021-12-21T11:06:40.833Z"
      },
      {
        "duration": 17,
        "start_time": "2021-12-21T11:06:40.861Z"
      },
      {
        "duration": 6,
        "start_time": "2021-12-21T11:06:40.881Z"
      },
      {
        "duration": 4,
        "start_time": "2021-12-21T11:06:40.889Z"
      },
      {
        "duration": 8,
        "start_time": "2021-12-21T11:06:40.895Z"
      },
      {
        "duration": 6,
        "start_time": "2021-12-21T11:06:40.904Z"
      },
      {
        "duration": 5,
        "start_time": "2021-12-21T11:06:40.912Z"
      },
      {
        "duration": 7,
        "start_time": "2021-12-21T11:06:40.918Z"
      },
      {
        "duration": 6,
        "start_time": "2021-12-21T11:06:40.927Z"
      },
      {
        "duration": 7,
        "start_time": "2021-12-21T11:06:40.934Z"
      },
      {
        "duration": 8,
        "start_time": "2021-12-21T11:06:40.942Z"
      },
      {
        "duration": 8,
        "start_time": "2021-12-21T11:06:40.951Z"
      },
      {
        "duration": 30,
        "start_time": "2021-12-21T11:06:40.960Z"
      },
      {
        "duration": 7,
        "start_time": "2021-12-21T11:06:40.992Z"
      },
      {
        "duration": 14,
        "start_time": "2021-12-21T11:06:41.001Z"
      },
      {
        "duration": 8,
        "start_time": "2021-12-21T11:06:41.017Z"
      },
      {
        "duration": 8,
        "start_time": "2021-12-21T11:06:41.026Z"
      },
      {
        "duration": 1061,
        "start_time": "2021-12-21T11:08:06.216Z"
      },
      {
        "duration": 50,
        "start_time": "2021-12-21T11:08:07.279Z"
      },
      {
        "duration": 31,
        "start_time": "2021-12-21T11:08:07.331Z"
      },
      {
        "duration": 27,
        "start_time": "2021-12-21T11:08:07.364Z"
      },
      {
        "duration": 16,
        "start_time": "2021-12-21T11:08:07.393Z"
      },
      {
        "duration": 31,
        "start_time": "2021-12-21T11:08:07.410Z"
      },
      {
        "duration": 21,
        "start_time": "2021-12-21T11:08:07.443Z"
      },
      {
        "duration": 13,
        "start_time": "2021-12-21T11:08:07.466Z"
      },
      {
        "duration": 10,
        "start_time": "2021-12-21T11:08:07.481Z"
      },
      {
        "duration": 21,
        "start_time": "2021-12-21T11:08:07.493Z"
      },
      {
        "duration": 33,
        "start_time": "2021-12-21T11:08:07.516Z"
      },
      {
        "duration": 24,
        "start_time": "2021-12-21T11:08:07.551Z"
      },
      {
        "duration": 22,
        "start_time": "2021-12-21T11:08:07.578Z"
      },
      {
        "duration": 30,
        "start_time": "2021-12-21T11:08:07.602Z"
      },
      {
        "duration": 22,
        "start_time": "2021-12-21T11:08:07.634Z"
      },
      {
        "duration": 22,
        "start_time": "2021-12-21T11:08:07.658Z"
      },
      {
        "duration": 7,
        "start_time": "2021-12-21T11:08:07.681Z"
      },
      {
        "duration": 12,
        "start_time": "2021-12-21T11:08:07.690Z"
      },
      {
        "duration": 4,
        "start_time": "2021-12-21T11:08:07.704Z"
      },
      {
        "duration": 11,
        "start_time": "2021-12-21T11:08:07.710Z"
      },
      {
        "duration": 8,
        "start_time": "2021-12-21T11:08:07.722Z"
      },
      {
        "duration": 7,
        "start_time": "2021-12-21T11:08:07.732Z"
      },
      {
        "duration": 1091,
        "start_time": "2021-12-21T11:08:40.028Z"
      },
      {
        "duration": 54,
        "start_time": "2021-12-21T11:08:41.121Z"
      },
      {
        "duration": 36,
        "start_time": "2021-12-21T11:08:41.178Z"
      },
      {
        "duration": 14,
        "start_time": "2021-12-21T11:08:41.216Z"
      },
      {
        "duration": 26,
        "start_time": "2021-12-21T11:08:41.232Z"
      },
      {
        "duration": 39,
        "start_time": "2021-12-21T11:08:41.260Z"
      },
      {
        "duration": 16,
        "start_time": "2021-12-21T11:08:41.302Z"
      },
      {
        "duration": 8,
        "start_time": "2021-12-21T11:08:41.321Z"
      },
      {
        "duration": 5,
        "start_time": "2021-12-21T11:08:41.331Z"
      },
      {
        "duration": 8,
        "start_time": "2021-12-21T11:08:41.338Z"
      },
      {
        "duration": 5,
        "start_time": "2021-12-21T11:08:41.348Z"
      },
      {
        "duration": 38,
        "start_time": "2021-12-21T11:08:41.354Z"
      },
      {
        "duration": 8,
        "start_time": "2021-12-21T11:08:41.394Z"
      },
      {
        "duration": 7,
        "start_time": "2021-12-21T11:08:41.404Z"
      },
      {
        "duration": 7,
        "start_time": "2021-12-21T11:08:41.413Z"
      },
      {
        "duration": 8,
        "start_time": "2021-12-21T11:08:41.421Z"
      },
      {
        "duration": 8,
        "start_time": "2021-12-21T11:08:41.431Z"
      },
      {
        "duration": 11,
        "start_time": "2021-12-21T11:08:41.441Z"
      },
      {
        "duration": 5,
        "start_time": "2021-12-21T11:08:41.453Z"
      },
      {
        "duration": 36,
        "start_time": "2021-12-21T11:08:41.460Z"
      },
      {
        "duration": 7,
        "start_time": "2021-12-21T11:08:41.497Z"
      },
      {
        "duration": 7,
        "start_time": "2021-12-21T11:08:41.506Z"
      },
      {
        "duration": 1139,
        "start_time": "2021-12-21T11:09:46.319Z"
      },
      {
        "duration": 71,
        "start_time": "2021-12-21T11:09:47.461Z"
      },
      {
        "duration": 35,
        "start_time": "2021-12-21T11:09:47.534Z"
      },
      {
        "duration": 32,
        "start_time": "2021-12-21T11:09:47.572Z"
      },
      {
        "duration": 24,
        "start_time": "2021-12-21T11:09:47.606Z"
      },
      {
        "duration": 26,
        "start_time": "2021-12-21T11:09:47.632Z"
      },
      {
        "duration": 36,
        "start_time": "2021-12-21T11:09:47.661Z"
      },
      {
        "duration": 9,
        "start_time": "2021-12-21T11:09:47.699Z"
      },
      {
        "duration": 27,
        "start_time": "2021-12-21T11:09:47.710Z"
      },
      {
        "duration": 37,
        "start_time": "2021-12-21T11:09:47.740Z"
      },
      {
        "duration": 23,
        "start_time": "2021-12-21T11:09:47.779Z"
      },
      {
        "duration": 36,
        "start_time": "2021-12-21T11:09:47.804Z"
      },
      {
        "duration": 17,
        "start_time": "2021-12-21T11:09:47.842Z"
      },
      {
        "duration": 19,
        "start_time": "2021-12-21T11:09:47.861Z"
      },
      {
        "duration": 37,
        "start_time": "2021-12-21T11:09:47.882Z"
      },
      {
        "duration": 21,
        "start_time": "2021-12-21T11:09:47.921Z"
      },
      {
        "duration": 34,
        "start_time": "2021-12-21T11:09:47.944Z"
      },
      {
        "duration": 17,
        "start_time": "2021-12-21T11:09:47.981Z"
      },
      {
        "duration": 8,
        "start_time": "2021-12-21T11:09:48.000Z"
      },
      {
        "duration": 31,
        "start_time": "2021-12-21T11:09:48.010Z"
      },
      {
        "duration": 10,
        "start_time": "2021-12-21T11:09:48.044Z"
      },
      {
        "duration": 44,
        "start_time": "2021-12-21T11:09:48.057Z"
      },
      {
        "duration": 1088,
        "start_time": "2021-12-21T11:11:34.463Z"
      },
      {
        "duration": 54,
        "start_time": "2021-12-21T11:11:35.553Z"
      },
      {
        "duration": 33,
        "start_time": "2021-12-21T11:11:35.608Z"
      },
      {
        "duration": 12,
        "start_time": "2021-12-21T11:11:35.643Z"
      },
      {
        "duration": 35,
        "start_time": "2021-12-21T11:11:35.657Z"
      },
      {
        "duration": 18,
        "start_time": "2021-12-21T11:11:35.694Z"
      },
      {
        "duration": 15,
        "start_time": "2021-12-21T11:11:35.714Z"
      },
      {
        "duration": 7,
        "start_time": "2021-12-21T11:11:35.732Z"
      },
      {
        "duration": 4,
        "start_time": "2021-12-21T11:11:35.741Z"
      },
      {
        "duration": 8,
        "start_time": "2021-12-21T11:11:35.747Z"
      },
      {
        "duration": 35,
        "start_time": "2021-12-21T11:11:35.756Z"
      },
      {
        "duration": 4,
        "start_time": "2021-12-21T11:11:35.793Z"
      },
      {
        "duration": 8,
        "start_time": "2021-12-21T11:11:35.799Z"
      },
      {
        "duration": 10,
        "start_time": "2021-12-21T11:11:35.808Z"
      },
      {
        "duration": 10,
        "start_time": "2021-12-21T11:11:35.820Z"
      },
      {
        "duration": 10,
        "start_time": "2021-12-21T11:11:35.831Z"
      },
      {
        "duration": 8,
        "start_time": "2021-12-21T11:11:35.843Z"
      },
      {
        "duration": 8,
        "start_time": "2021-12-21T11:11:35.853Z"
      },
      {
        "duration": 5,
        "start_time": "2021-12-21T11:11:35.863Z"
      },
      {
        "duration": 28,
        "start_time": "2021-12-21T11:11:35.869Z"
      },
      {
        "duration": 8,
        "start_time": "2021-12-21T11:11:35.899Z"
      },
      {
        "duration": 7,
        "start_time": "2021-12-21T11:11:35.908Z"
      },
      {
        "duration": 1082,
        "start_time": "2021-12-21T11:58:33.327Z"
      },
      {
        "duration": 52,
        "start_time": "2021-12-21T11:58:34.411Z"
      },
      {
        "duration": 34,
        "start_time": "2021-12-21T11:58:34.465Z"
      },
      {
        "duration": 12,
        "start_time": "2021-12-21T11:58:34.501Z"
      },
      {
        "duration": 17,
        "start_time": "2021-12-21T11:58:34.515Z"
      },
      {
        "duration": 16,
        "start_time": "2021-12-21T11:58:34.533Z"
      },
      {
        "duration": 15,
        "start_time": "2021-12-21T11:58:34.551Z"
      },
      {
        "duration": 7,
        "start_time": "2021-12-21T11:58:34.593Z"
      },
      {
        "duration": 4,
        "start_time": "2021-12-21T11:58:34.602Z"
      },
      {
        "duration": 8,
        "start_time": "2021-12-21T11:58:34.608Z"
      },
      {
        "duration": 6,
        "start_time": "2021-12-21T11:58:34.617Z"
      },
      {
        "duration": 8,
        "start_time": "2021-12-21T11:58:34.624Z"
      },
      {
        "duration": 5,
        "start_time": "2021-12-21T11:58:34.634Z"
      },
      {
        "duration": 5,
        "start_time": "2021-12-21T11:58:34.641Z"
      },
      {
        "duration": 5,
        "start_time": "2021-12-21T11:58:34.648Z"
      },
      {
        "duration": 37,
        "start_time": "2021-12-21T11:58:34.655Z"
      },
      {
        "duration": 10,
        "start_time": "2021-12-21T11:58:34.694Z"
      },
      {
        "duration": 9,
        "start_time": "2021-12-21T11:58:34.706Z"
      },
      {
        "duration": 15,
        "start_time": "2021-12-21T11:58:34.717Z"
      },
      {
        "duration": 27,
        "start_time": "2021-12-21T11:58:34.733Z"
      },
      {
        "duration": 22,
        "start_time": "2021-12-21T11:58:34.762Z"
      },
      {
        "duration": 280,
        "start_time": "2021-12-21T11:59:12.165Z"
      },
      {
        "duration": 8,
        "start_time": "2021-12-21T11:59:24.138Z"
      },
      {
        "duration": 3,
        "start_time": "2021-12-21T11:59:57.429Z"
      },
      {
        "duration": 8,
        "start_time": "2021-12-21T12:00:42.697Z"
      },
      {
        "duration": 14,
        "start_time": "2021-12-21T12:01:28.252Z"
      },
      {
        "duration": 14,
        "start_time": "2021-12-21T12:02:09.713Z"
      },
      {
        "duration": 331,
        "start_time": "2021-12-21T12:02:55.137Z"
      },
      {
        "duration": 608,
        "start_time": "2021-12-21T12:03:11.445Z"
      },
      {
        "duration": 840,
        "start_time": "2021-12-21T12:04:43.041Z"
      },
      {
        "duration": 961,
        "start_time": "2021-12-21T12:04:57.115Z"
      },
      {
        "duration": 597,
        "start_time": "2021-12-21T12:05:04.132Z"
      },
      {
        "duration": 582,
        "start_time": "2021-12-21T12:05:27.783Z"
      },
      {
        "duration": 665,
        "start_time": "2021-12-21T12:05:53.951Z"
      },
      {
        "duration": 8,
        "start_time": "2021-12-21T12:07:33.589Z"
      },
      {
        "duration": 19,
        "start_time": "2021-12-21T12:07:46.339Z"
      },
      {
        "duration": 8,
        "start_time": "2021-12-21T12:36:24.172Z"
      },
      {
        "duration": 4,
        "start_time": "2021-12-21T12:36:59.601Z"
      },
      {
        "duration": 27,
        "start_time": "2021-12-21T12:38:22.880Z"
      },
      {
        "duration": 328,
        "start_time": "2021-12-21T12:40:35.117Z"
      },
      {
        "duration": 445,
        "start_time": "2021-12-21T12:40:57.084Z"
      },
      {
        "duration": 17,
        "start_time": "2021-12-21T12:43:30.446Z"
      },
      {
        "duration": 12,
        "start_time": "2021-12-21T12:44:21.315Z"
      },
      {
        "duration": 472,
        "start_time": "2021-12-21T12:45:35.936Z"
      },
      {
        "duration": 477,
        "start_time": "2021-12-21T12:45:46.364Z"
      },
      {
        "duration": 475,
        "start_time": "2021-12-21T12:48:12.211Z"
      },
      {
        "duration": 13,
        "start_time": "2021-12-21T12:48:25.516Z"
      },
      {
        "duration": 193,
        "start_time": "2021-12-21T12:50:05.948Z"
      },
      {
        "duration": 1368,
        "start_time": "2021-12-21T12:50:59.430Z"
      },
      {
        "duration": 731,
        "start_time": "2021-12-21T12:52:10.871Z"
      },
      {
        "duration": 1056,
        "start_time": "2021-12-21T12:52:21.073Z"
      },
      {
        "duration": 307,
        "start_time": "2021-12-21T12:53:43.204Z"
      },
      {
        "duration": 327,
        "start_time": "2021-12-21T12:56:06.296Z"
      },
      {
        "duration": 19,
        "start_time": "2021-12-21T13:00:17.953Z"
      },
      {
        "duration": 17,
        "start_time": "2021-12-21T13:01:48.477Z"
      },
      {
        "duration": 18,
        "start_time": "2021-12-21T13:04:29.078Z"
      },
      {
        "duration": 15,
        "start_time": "2021-12-21T13:04:56.475Z"
      },
      {
        "duration": 7,
        "start_time": "2021-12-21T13:05:15.571Z"
      },
      {
        "duration": 7,
        "start_time": "2021-12-21T13:05:34.797Z"
      },
      {
        "duration": 62,
        "start_time": "2021-12-21T13:05:43.306Z"
      },
      {
        "duration": 17,
        "start_time": "2021-12-21T13:07:44.876Z"
      },
      {
        "duration": 7,
        "start_time": "2021-12-21T13:08:05.839Z"
      },
      {
        "duration": 9,
        "start_time": "2021-12-21T13:08:20.416Z"
      },
      {
        "duration": 271,
        "start_time": "2021-12-21T13:09:49.324Z"
      },
      {
        "duration": 529,
        "start_time": "2021-12-21T13:11:27.592Z"
      },
      {
        "duration": 310,
        "start_time": "2021-12-21T13:11:37.445Z"
      },
      {
        "duration": 426,
        "start_time": "2021-12-21T13:12:41.000Z"
      },
      {
        "duration": 267,
        "start_time": "2021-12-21T13:12:51.911Z"
      },
      {
        "duration": 5,
        "start_time": "2021-12-21T13:13:51.859Z"
      },
      {
        "duration": 289,
        "start_time": "2021-12-21T13:13:58.326Z"
      },
      {
        "duration": 278,
        "start_time": "2021-12-21T13:14:55.375Z"
      },
      {
        "duration": 266,
        "start_time": "2021-12-21T13:15:34.225Z"
      },
      {
        "duration": 5,
        "start_time": "2021-12-21T13:32:07.621Z"
      },
      {
        "duration": 1066,
        "start_time": "2021-12-21T13:34:34.465Z"
      },
      {
        "duration": 1007,
        "start_time": "2021-12-21T13:35:26.927Z"
      },
      {
        "duration": 1047,
        "start_time": "2021-12-21T13:38:56.214Z"
      },
      {
        "duration": 1286,
        "start_time": "2021-12-21T13:39:28.454Z"
      },
      {
        "duration": 62,
        "start_time": "2021-12-21T13:39:29.742Z"
      },
      {
        "duration": 45,
        "start_time": "2021-12-21T13:39:29.810Z"
      },
      {
        "duration": 36,
        "start_time": "2021-12-21T13:39:29.857Z"
      },
      {
        "duration": 18,
        "start_time": "2021-12-21T13:39:29.895Z"
      },
      {
        "duration": 43,
        "start_time": "2021-12-21T13:39:29.915Z"
      },
      {
        "duration": 27,
        "start_time": "2021-12-21T13:39:29.960Z"
      },
      {
        "duration": 10,
        "start_time": "2021-12-21T13:39:29.989Z"
      },
      {
        "duration": 13,
        "start_time": "2021-12-21T13:39:30.001Z"
      },
      {
        "duration": 51,
        "start_time": "2021-12-21T13:39:30.015Z"
      },
      {
        "duration": 26,
        "start_time": "2021-12-21T13:39:30.069Z"
      },
      {
        "duration": 17,
        "start_time": "2021-12-21T13:39:30.097Z"
      },
      {
        "duration": 10,
        "start_time": "2021-12-21T13:39:30.116Z"
      },
      {
        "duration": 13,
        "start_time": "2021-12-21T13:39:30.128Z"
      },
      {
        "duration": 28,
        "start_time": "2021-12-21T13:39:30.143Z"
      },
      {
        "duration": 11,
        "start_time": "2021-12-21T13:39:30.174Z"
      },
      {
        "duration": 39,
        "start_time": "2021-12-21T13:39:30.187Z"
      },
      {
        "duration": 29,
        "start_time": "2021-12-21T13:39:30.229Z"
      },
      {
        "duration": 11,
        "start_time": "2021-12-21T13:39:30.260Z"
      },
      {
        "duration": 35,
        "start_time": "2021-12-21T13:39:30.273Z"
      },
      {
        "duration": 31,
        "start_time": "2021-12-21T13:39:30.310Z"
      },
      {
        "duration": 11,
        "start_time": "2021-12-21T13:39:30.345Z"
      },
      {
        "duration": 32,
        "start_time": "2021-12-21T13:39:30.359Z"
      },
      {
        "duration": 26,
        "start_time": "2021-12-21T13:39:30.393Z"
      },
      {
        "duration": 30,
        "start_time": "2021-12-21T13:39:30.422Z"
      },
      {
        "duration": 680,
        "start_time": "2021-12-21T13:39:30.454Z"
      },
      {
        "duration": 18,
        "start_time": "2021-12-21T13:39:31.136Z"
      },
      {
        "duration": 36,
        "start_time": "2021-12-21T13:39:31.157Z"
      },
      {
        "duration": 22,
        "start_time": "2021-12-21T13:39:31.195Z"
      },
      {
        "duration": 33,
        "start_time": "2021-12-21T13:39:31.219Z"
      },
      {
        "duration": 493,
        "start_time": "2021-12-21T13:39:31.255Z"
      },
      {
        "duration": 18,
        "start_time": "2021-12-21T13:39:31.751Z"
      },
      {
        "duration": 28,
        "start_time": "2021-12-21T13:39:31.771Z"
      },
      {
        "duration": 497,
        "start_time": "2021-12-21T13:39:31.801Z"
      },
      {
        "duration": 1570,
        "start_time": "2021-12-21T13:39:32.300Z"
      },
      {
        "duration": 1133,
        "start_time": "2021-12-21T13:39:33.873Z"
      },
      {
        "duration": 334,
        "start_time": "2021-12-21T13:39:35.008Z"
      },
      {
        "duration": 325,
        "start_time": "2021-12-21T13:39:35.344Z"
      },
      {
        "duration": 27,
        "start_time": "2021-12-21T13:39:35.671Z"
      },
      {
        "duration": 20,
        "start_time": "2021-12-21T13:39:35.700Z"
      },
      {
        "duration": 7,
        "start_time": "2021-12-21T13:39:35.722Z"
      },
      {
        "duration": 32,
        "start_time": "2021-12-21T13:39:35.732Z"
      },
      {
        "duration": 53,
        "start_time": "2021-12-21T13:39:35.767Z"
      },
      {
        "duration": 10,
        "start_time": "2021-12-21T13:39:35.822Z"
      },
      {
        "duration": 30,
        "start_time": "2021-12-21T13:39:35.835Z"
      },
      {
        "duration": 309,
        "start_time": "2021-12-21T13:39:35.867Z"
      },
      {
        "duration": 282,
        "start_time": "2021-12-21T13:39:36.178Z"
      },
      {
        "duration": 298,
        "start_time": "2021-12-21T13:39:36.462Z"
      },
      {
        "duration": 4,
        "start_time": "2021-12-21T13:39:36.761Z"
      },
      {
        "duration": 1152,
        "start_time": "2021-12-21T13:39:36.767Z"
      },
      {
        "duration": 1036,
        "start_time": "2021-12-21T13:39:37.921Z"
      },
      {
        "duration": 389,
        "start_time": "2021-12-21T13:47:58.021Z"
      },
      {
        "duration": 394,
        "start_time": "2021-12-21T13:49:00.899Z"
      },
      {
        "duration": 66,
        "start_time": "2021-12-21T13:50:20.803Z"
      },
      {
        "duration": 362,
        "start_time": "2021-12-21T13:52:43.735Z"
      },
      {
        "duration": 412,
        "start_time": "2021-12-21T13:55:18.696Z"
      },
      {
        "duration": 1311,
        "start_time": "2021-12-21T13:57:02.416Z"
      },
      {
        "duration": 738,
        "start_time": "2021-12-21T13:57:13.037Z"
      },
      {
        "duration": 725,
        "start_time": "2021-12-21T13:57:29.297Z"
      },
      {
        "duration": 1174,
        "start_time": "2021-12-21T13:59:17.660Z"
      },
      {
        "duration": 55,
        "start_time": "2021-12-21T13:59:18.837Z"
      },
      {
        "duration": 34,
        "start_time": "2021-12-21T13:59:18.897Z"
      },
      {
        "duration": 13,
        "start_time": "2021-12-21T13:59:18.934Z"
      },
      {
        "duration": 47,
        "start_time": "2021-12-21T13:59:18.949Z"
      },
      {
        "duration": 18,
        "start_time": "2021-12-21T13:59:18.998Z"
      },
      {
        "duration": 30,
        "start_time": "2021-12-21T13:59:19.019Z"
      },
      {
        "duration": 12,
        "start_time": "2021-12-21T13:59:19.051Z"
      },
      {
        "duration": 27,
        "start_time": "2021-12-21T13:59:19.065Z"
      },
      {
        "duration": 12,
        "start_time": "2021-12-21T13:59:19.094Z"
      },
      {
        "duration": 23,
        "start_time": "2021-12-21T13:59:19.108Z"
      },
      {
        "duration": 10,
        "start_time": "2021-12-21T13:59:19.133Z"
      },
      {
        "duration": 18,
        "start_time": "2021-12-21T13:59:19.144Z"
      },
      {
        "duration": 20,
        "start_time": "2021-12-21T13:59:19.164Z"
      },
      {
        "duration": 17,
        "start_time": "2021-12-21T13:59:19.185Z"
      },
      {
        "duration": 26,
        "start_time": "2021-12-21T13:59:19.204Z"
      },
      {
        "duration": 18,
        "start_time": "2021-12-21T13:59:19.232Z"
      },
      {
        "duration": 23,
        "start_time": "2021-12-21T13:59:19.252Z"
      },
      {
        "duration": 9,
        "start_time": "2021-12-21T13:59:19.277Z"
      },
      {
        "duration": 14,
        "start_time": "2021-12-21T13:59:19.288Z"
      },
      {
        "duration": 19,
        "start_time": "2021-12-21T13:59:19.303Z"
      },
      {
        "duration": 24,
        "start_time": "2021-12-21T13:59:19.326Z"
      },
      {
        "duration": 16,
        "start_time": "2021-12-21T13:59:19.352Z"
      },
      {
        "duration": 43,
        "start_time": "2021-12-21T13:59:19.369Z"
      },
      {
        "duration": 28,
        "start_time": "2021-12-21T13:59:19.414Z"
      },
      {
        "duration": 604,
        "start_time": "2021-12-21T13:59:19.444Z"
      },
      {
        "duration": 19,
        "start_time": "2021-12-21T13:59:20.050Z"
      },
      {
        "duration": 25,
        "start_time": "2021-12-21T13:59:20.071Z"
      },
      {
        "duration": 13,
        "start_time": "2021-12-21T13:59:20.097Z"
      },
      {
        "duration": 25,
        "start_time": "2021-12-21T13:59:20.111Z"
      },
      {
        "duration": 507,
        "start_time": "2021-12-21T13:59:20.138Z"
      },
      {
        "duration": 19,
        "start_time": "2021-12-21T13:59:20.647Z"
      },
      {
        "duration": 35,
        "start_time": "2021-12-21T13:59:20.668Z"
      },
      {
        "duration": 510,
        "start_time": "2021-12-21T13:59:20.705Z"
      },
      {
        "duration": 1517,
        "start_time": "2021-12-21T13:59:21.218Z"
      },
      {
        "duration": 1037,
        "start_time": "2021-12-21T13:59:22.737Z"
      },
      {
        "duration": 338,
        "start_time": "2021-12-21T13:59:23.776Z"
      },
      {
        "duration": 305,
        "start_time": "2021-12-21T13:59:24.116Z"
      },
      {
        "duration": 21,
        "start_time": "2021-12-21T13:59:24.423Z"
      },
      {
        "duration": 18,
        "start_time": "2021-12-21T13:59:24.446Z"
      },
      {
        "duration": 31,
        "start_time": "2021-12-21T13:59:24.466Z"
      },
      {
        "duration": 8,
        "start_time": "2021-12-21T13:59:24.499Z"
      },
      {
        "duration": 18,
        "start_time": "2021-12-21T13:59:24.509Z"
      },
      {
        "duration": 6,
        "start_time": "2021-12-21T13:59:24.529Z"
      },
      {
        "duration": 11,
        "start_time": "2021-12-21T13:59:24.537Z"
      },
      {
        "duration": 310,
        "start_time": "2021-12-21T13:59:24.549Z"
      },
      {
        "duration": 277,
        "start_time": "2021-12-21T13:59:24.861Z"
      },
      {
        "duration": 288,
        "start_time": "2021-12-21T13:59:25.140Z"
      },
      {
        "duration": 4,
        "start_time": "2021-12-21T13:59:25.430Z"
      },
      {
        "duration": 1194,
        "start_time": "2021-12-21T13:59:25.436Z"
      },
      {
        "duration": 401,
        "start_time": "2021-12-21T13:59:26.631Z"
      },
      {
        "duration": 1005,
        "start_time": "2021-12-21T13:59:27.034Z"
      },
      {
        "duration": 388,
        "start_time": "2021-12-21T13:59:28.041Z"
      },
      {
        "duration": 550,
        "start_time": "2021-12-21T13:59:28.431Z"
      },
      {
        "duration": 484,
        "start_time": "2021-12-21T14:01:04.083Z"
      },
      {
        "duration": 655,
        "start_time": "2021-12-21T14:02:22.914Z"
      },
      {
        "duration": 1104,
        "start_time": "2021-12-21T14:19:47.649Z"
      },
      {
        "duration": 53,
        "start_time": "2021-12-21T14:19:48.755Z"
      },
      {
        "duration": 32,
        "start_time": "2021-12-21T14:19:48.810Z"
      },
      {
        "duration": 12,
        "start_time": "2021-12-21T14:19:48.844Z"
      },
      {
        "duration": 28,
        "start_time": "2021-12-21T14:19:48.857Z"
      },
      {
        "duration": 18,
        "start_time": "2021-12-21T14:19:48.892Z"
      },
      {
        "duration": 22,
        "start_time": "2021-12-21T14:19:48.912Z"
      },
      {
        "duration": 8,
        "start_time": "2021-12-21T14:19:48.938Z"
      },
      {
        "duration": 17,
        "start_time": "2021-12-21T14:19:48.948Z"
      },
      {
        "duration": 31,
        "start_time": "2021-12-21T14:19:48.967Z"
      },
      {
        "duration": 19,
        "start_time": "2021-12-21T14:19:49.000Z"
      },
      {
        "duration": 21,
        "start_time": "2021-12-21T14:19:49.021Z"
      },
      {
        "duration": 9,
        "start_time": "2021-12-21T14:19:49.044Z"
      },
      {
        "duration": 14,
        "start_time": "2021-12-21T14:19:49.054Z"
      },
      {
        "duration": 14,
        "start_time": "2021-12-21T14:19:49.070Z"
      },
      {
        "duration": 25,
        "start_time": "2021-12-21T14:19:49.085Z"
      },
      {
        "duration": 11,
        "start_time": "2021-12-21T14:19:49.111Z"
      },
      {
        "duration": 17,
        "start_time": "2021-12-21T14:19:49.124Z"
      },
      {
        "duration": 19,
        "start_time": "2021-12-21T14:19:49.143Z"
      },
      {
        "duration": 17,
        "start_time": "2021-12-21T14:19:49.163Z"
      },
      {
        "duration": 14,
        "start_time": "2021-12-21T14:19:49.181Z"
      },
      {
        "duration": 22,
        "start_time": "2021-12-21T14:19:49.196Z"
      },
      {
        "duration": 9,
        "start_time": "2021-12-21T14:19:49.221Z"
      },
      {
        "duration": 30,
        "start_time": "2021-12-21T14:19:49.232Z"
      },
      {
        "duration": 21,
        "start_time": "2021-12-21T14:19:49.263Z"
      },
      {
        "duration": 623,
        "start_time": "2021-12-21T14:19:49.285Z"
      },
      {
        "duration": 16,
        "start_time": "2021-12-21T14:19:49.910Z"
      },
      {
        "duration": 7,
        "start_time": "2021-12-21T14:19:49.928Z"
      },
      {
        "duration": 5,
        "start_time": "2021-12-21T14:19:49.936Z"
      },
      {
        "duration": 49,
        "start_time": "2021-12-21T14:19:49.943Z"
      },
      {
        "duration": 468,
        "start_time": "2021-12-21T14:19:49.994Z"
      },
      {
        "duration": 28,
        "start_time": "2021-12-21T14:19:50.463Z"
      },
      {
        "duration": 12,
        "start_time": "2021-12-21T14:19:50.493Z"
      },
      {
        "duration": 498,
        "start_time": "2021-12-21T14:19:50.506Z"
      },
      {
        "duration": 1367,
        "start_time": "2021-12-21T14:19:51.006Z"
      },
      {
        "duration": 1095,
        "start_time": "2021-12-21T14:19:52.375Z"
      },
      {
        "duration": 338,
        "start_time": "2021-12-21T14:19:53.472Z"
      },
      {
        "duration": 304,
        "start_time": "2021-12-21T14:19:53.811Z"
      },
      {
        "duration": 20,
        "start_time": "2021-12-21T14:19:54.116Z"
      },
      {
        "duration": 17,
        "start_time": "2021-12-21T14:19:54.138Z"
      },
      {
        "duration": 22,
        "start_time": "2021-12-21T14:19:54.156Z"
      },
      {
        "duration": 34,
        "start_time": "2021-12-21T14:19:54.180Z"
      },
      {
        "duration": 32,
        "start_time": "2021-12-21T14:19:54.216Z"
      },
      {
        "duration": 7,
        "start_time": "2021-12-21T14:19:54.250Z"
      },
      {
        "duration": 24,
        "start_time": "2021-12-21T14:19:54.258Z"
      },
      {
        "duration": 270,
        "start_time": "2021-12-21T14:19:54.284Z"
      },
      {
        "duration": 282,
        "start_time": "2021-12-21T14:19:54.556Z"
      },
      {
        "duration": 278,
        "start_time": "2021-12-21T14:19:54.840Z"
      },
      {
        "duration": 5,
        "start_time": "2021-12-21T14:19:55.120Z"
      },
      {
        "duration": 1104,
        "start_time": "2021-12-21T14:19:55.127Z"
      },
      {
        "duration": 391,
        "start_time": "2021-12-21T14:19:56.233Z"
      },
      {
        "duration": 960,
        "start_time": "2021-12-21T14:19:56.625Z"
      },
      {
        "duration": 373,
        "start_time": "2021-12-21T14:19:57.587Z"
      },
      {
        "duration": 1161,
        "start_time": "2021-12-21T14:49:27.778Z"
      },
      {
        "duration": 52,
        "start_time": "2021-12-21T14:49:28.940Z"
      },
      {
        "duration": 31,
        "start_time": "2021-12-21T14:49:28.996Z"
      },
      {
        "duration": 12,
        "start_time": "2021-12-21T14:49:29.028Z"
      },
      {
        "duration": 16,
        "start_time": "2021-12-21T14:49:29.042Z"
      },
      {
        "duration": 43,
        "start_time": "2021-12-21T14:49:29.060Z"
      },
      {
        "duration": 16,
        "start_time": "2021-12-21T14:49:29.105Z"
      },
      {
        "duration": 7,
        "start_time": "2021-12-21T14:49:29.123Z"
      },
      {
        "duration": 6,
        "start_time": "2021-12-21T14:49:29.131Z"
      },
      {
        "duration": 6,
        "start_time": "2021-12-21T14:49:29.138Z"
      },
      {
        "duration": 3,
        "start_time": "2021-12-21T14:49:29.146Z"
      },
      {
        "duration": 8,
        "start_time": "2021-12-21T14:49:29.151Z"
      },
      {
        "duration": 33,
        "start_time": "2021-12-21T14:49:29.160Z"
      },
      {
        "duration": 8,
        "start_time": "2021-12-21T14:49:29.194Z"
      },
      {
        "duration": 8,
        "start_time": "2021-12-21T14:49:29.203Z"
      },
      {
        "duration": 8,
        "start_time": "2021-12-21T14:49:29.212Z"
      },
      {
        "duration": 9,
        "start_time": "2021-12-21T14:49:29.222Z"
      },
      {
        "duration": 9,
        "start_time": "2021-12-21T14:49:29.233Z"
      },
      {
        "duration": 5,
        "start_time": "2021-12-21T14:49:29.243Z"
      },
      {
        "duration": 10,
        "start_time": "2021-12-21T14:49:29.250Z"
      },
      {
        "duration": 35,
        "start_time": "2021-12-21T14:49:29.262Z"
      },
      {
        "duration": 6,
        "start_time": "2021-12-21T14:49:29.301Z"
      },
      {
        "duration": 5,
        "start_time": "2021-12-21T14:49:29.309Z"
      },
      {
        "duration": 8,
        "start_time": "2021-12-21T14:49:29.315Z"
      },
      {
        "duration": 12,
        "start_time": "2021-12-21T14:49:29.325Z"
      },
      {
        "duration": 601,
        "start_time": "2021-12-21T14:49:29.338Z"
      },
      {
        "duration": 17,
        "start_time": "2021-12-21T14:49:29.941Z"
      },
      {
        "duration": 7,
        "start_time": "2021-12-21T14:49:29.960Z"
      },
      {
        "duration": 2,
        "start_time": "2021-12-21T14:49:29.992Z"
      },
      {
        "duration": 32,
        "start_time": "2021-12-21T14:49:29.996Z"
      },
      {
        "duration": 465,
        "start_time": "2021-12-21T14:49:30.030Z"
      },
      {
        "duration": 16,
        "start_time": "2021-12-21T14:49:30.496Z"
      },
      {
        "duration": 19,
        "start_time": "2021-12-21T14:49:30.514Z"
      },
      {
        "duration": 490,
        "start_time": "2021-12-21T14:49:30.535Z"
      },
      {
        "duration": 1463,
        "start_time": "2021-12-21T14:49:31.026Z"
      },
      {
        "duration": 1109,
        "start_time": "2021-12-21T14:49:32.491Z"
      },
      {
        "duration": 321,
        "start_time": "2021-12-21T14:49:33.602Z"
      },
      {
        "duration": 288,
        "start_time": "2021-12-21T14:49:33.925Z"
      },
      {
        "duration": 18,
        "start_time": "2021-12-21T14:49:34.215Z"
      },
      {
        "duration": 17,
        "start_time": "2021-12-21T14:49:34.235Z"
      },
      {
        "duration": 7,
        "start_time": "2021-12-21T14:49:34.253Z"
      },
      {
        "duration": 35,
        "start_time": "2021-12-21T14:49:34.261Z"
      },
      {
        "duration": 17,
        "start_time": "2021-12-21T14:49:34.298Z"
      },
      {
        "duration": 6,
        "start_time": "2021-12-21T14:49:34.316Z"
      },
      {
        "duration": 9,
        "start_time": "2021-12-21T14:49:34.324Z"
      },
      {
        "duration": 288,
        "start_time": "2021-12-21T14:49:34.335Z"
      },
      {
        "duration": 271,
        "start_time": "2021-12-21T14:49:34.625Z"
      },
      {
        "duration": 274,
        "start_time": "2021-12-21T14:49:34.898Z"
      },
      {
        "duration": 5,
        "start_time": "2021-12-21T14:49:35.174Z"
      },
      {
        "duration": 1070,
        "start_time": "2021-12-21T14:49:35.181Z"
      },
      {
        "duration": 388,
        "start_time": "2021-12-21T14:49:36.253Z"
      },
      {
        "duration": 1035,
        "start_time": "2021-12-21T14:49:36.643Z"
      },
      {
        "duration": 412,
        "start_time": "2021-12-21T14:49:37.679Z"
      },
      {
        "duration": 1053,
        "start_time": "2021-12-22T09:57:05.388Z"
      },
      {
        "duration": 52,
        "start_time": "2021-12-22T09:57:06.442Z"
      },
      {
        "duration": 29,
        "start_time": "2021-12-22T09:57:06.496Z"
      },
      {
        "duration": 15,
        "start_time": "2021-12-22T09:57:06.527Z"
      },
      {
        "duration": 38,
        "start_time": "2021-12-22T09:57:06.543Z"
      },
      {
        "duration": 15,
        "start_time": "2021-12-22T09:57:06.582Z"
      },
      {
        "duration": 29,
        "start_time": "2021-12-22T09:57:06.599Z"
      },
      {
        "duration": 7,
        "start_time": "2021-12-22T09:57:06.631Z"
      },
      {
        "duration": 21,
        "start_time": "2021-12-22T09:57:06.640Z"
      },
      {
        "duration": 16,
        "start_time": "2021-12-22T09:57:06.662Z"
      },
      {
        "duration": 22,
        "start_time": "2021-12-22T09:57:06.679Z"
      },
      {
        "duration": 19,
        "start_time": "2021-12-22T09:57:06.703Z"
      },
      {
        "duration": 29,
        "start_time": "2021-12-22T09:57:06.724Z"
      },
      {
        "duration": 23,
        "start_time": "2021-12-22T09:57:06.754Z"
      },
      {
        "duration": 15,
        "start_time": "2021-12-22T09:57:06.778Z"
      },
      {
        "duration": 26,
        "start_time": "2021-12-22T09:57:06.795Z"
      },
      {
        "duration": 21,
        "start_time": "2021-12-22T09:57:06.823Z"
      },
      {
        "duration": 21,
        "start_time": "2021-12-22T09:57:06.845Z"
      },
      {
        "duration": 15,
        "start_time": "2021-12-22T09:57:06.868Z"
      },
      {
        "duration": 20,
        "start_time": "2021-12-22T09:57:06.884Z"
      },
      {
        "duration": 20,
        "start_time": "2021-12-22T09:57:06.906Z"
      },
      {
        "duration": 13,
        "start_time": "2021-12-22T09:57:06.928Z"
      },
      {
        "duration": 17,
        "start_time": "2021-12-22T09:57:06.944Z"
      },
      {
        "duration": 25,
        "start_time": "2021-12-22T09:57:06.963Z"
      },
      {
        "duration": 28,
        "start_time": "2021-12-22T09:57:06.989Z"
      },
      {
        "duration": 591,
        "start_time": "2021-12-22T09:57:07.018Z"
      },
      {
        "duration": 21,
        "start_time": "2021-12-22T09:57:07.611Z"
      },
      {
        "duration": 18,
        "start_time": "2021-12-22T09:57:07.633Z"
      },
      {
        "duration": 6,
        "start_time": "2021-12-22T09:57:07.652Z"
      },
      {
        "duration": 45,
        "start_time": "2021-12-22T09:57:07.660Z"
      },
      {
        "duration": 464,
        "start_time": "2021-12-22T09:57:07.707Z"
      },
      {
        "duration": 29,
        "start_time": "2021-12-22T09:57:08.173Z"
      },
      {
        "duration": 11,
        "start_time": "2021-12-22T09:57:08.204Z"
      },
      {
        "duration": 471,
        "start_time": "2021-12-22T09:57:08.217Z"
      },
      {
        "duration": 1666,
        "start_time": "2021-12-22T09:57:08.691Z"
      },
      {
        "duration": 1003,
        "start_time": "2021-12-22T09:57:10.359Z"
      },
      {
        "duration": 362,
        "start_time": "2021-12-22T09:57:11.364Z"
      },
      {
        "duration": 284,
        "start_time": "2021-12-22T09:57:11.728Z"
      },
      {
        "duration": 20,
        "start_time": "2021-12-22T09:57:12.014Z"
      },
      {
        "duration": 17,
        "start_time": "2021-12-22T09:57:12.036Z"
      },
      {
        "duration": 40,
        "start_time": "2021-12-22T09:57:12.054Z"
      },
      {
        "duration": 11,
        "start_time": "2021-12-22T09:57:12.096Z"
      },
      {
        "duration": 17,
        "start_time": "2021-12-22T09:57:12.109Z"
      },
      {
        "duration": 7,
        "start_time": "2021-12-22T09:57:12.127Z"
      },
      {
        "duration": 10,
        "start_time": "2021-12-22T09:57:12.136Z"
      },
      {
        "duration": 295,
        "start_time": "2021-12-22T09:57:12.148Z"
      },
      {
        "duration": 272,
        "start_time": "2021-12-22T09:57:12.445Z"
      },
      {
        "duration": 264,
        "start_time": "2021-12-22T09:57:12.719Z"
      },
      {
        "duration": 9,
        "start_time": "2021-12-22T09:57:12.985Z"
      },
      {
        "duration": 1076,
        "start_time": "2021-12-22T09:57:12.996Z"
      },
      {
        "duration": 408,
        "start_time": "2021-12-22T09:57:14.073Z"
      },
      {
        "duration": 981,
        "start_time": "2021-12-22T09:57:14.483Z"
      },
      {
        "duration": 399,
        "start_time": "2021-12-22T09:57:15.466Z"
      },
      {
        "duration": 11,
        "start_time": "2021-12-22T13:06:42.467Z"
      },
      {
        "duration": 1105,
        "start_time": "2021-12-22T13:07:28.089Z"
      },
      {
        "duration": 52,
        "start_time": "2021-12-22T13:07:29.196Z"
      },
      {
        "duration": 30,
        "start_time": "2021-12-22T13:07:29.250Z"
      },
      {
        "duration": 16,
        "start_time": "2021-12-22T13:07:29.282Z"
      },
      {
        "duration": 26,
        "start_time": "2021-12-22T13:07:29.300Z"
      },
      {
        "duration": 16,
        "start_time": "2021-12-22T13:07:29.328Z"
      },
      {
        "duration": 10,
        "start_time": "2021-12-22T13:07:29.345Z"
      },
      {
        "duration": 35,
        "start_time": "2021-12-22T13:07:29.357Z"
      },
      {
        "duration": 7,
        "start_time": "2021-12-22T13:07:29.394Z"
      },
      {
        "duration": 22,
        "start_time": "2021-12-22T13:07:29.402Z"
      },
      {
        "duration": 19,
        "start_time": "2021-12-22T13:07:29.426Z"
      },
      {
        "duration": 15,
        "start_time": "2021-12-22T13:07:29.446Z"
      },
      {
        "duration": 25,
        "start_time": "2021-12-22T13:07:29.462Z"
      },
      {
        "duration": 10,
        "start_time": "2021-12-22T13:07:29.489Z"
      },
      {
        "duration": 22,
        "start_time": "2021-12-22T13:07:29.501Z"
      },
      {
        "duration": 22,
        "start_time": "2021-12-22T13:07:29.525Z"
      },
      {
        "duration": 15,
        "start_time": "2021-12-22T13:07:29.549Z"
      },
      {
        "duration": 31,
        "start_time": "2021-12-22T13:07:29.565Z"
      },
      {
        "duration": 13,
        "start_time": "2021-12-22T13:07:29.597Z"
      },
      {
        "duration": 9,
        "start_time": "2021-12-22T13:07:29.611Z"
      },
      {
        "duration": 8,
        "start_time": "2021-12-22T13:07:29.622Z"
      },
      {
        "duration": 16,
        "start_time": "2021-12-22T13:07:29.632Z"
      },
      {
        "duration": 17,
        "start_time": "2021-12-22T13:07:29.651Z"
      },
      {
        "duration": 4,
        "start_time": "2021-12-22T13:07:29.671Z"
      },
      {
        "duration": 24,
        "start_time": "2021-12-22T13:07:29.677Z"
      },
      {
        "duration": 15,
        "start_time": "2021-12-22T13:07:29.702Z"
      },
      {
        "duration": 595,
        "start_time": "2021-12-22T13:07:29.719Z"
      },
      {
        "duration": 17,
        "start_time": "2021-12-22T13:07:30.316Z"
      },
      {
        "duration": 7,
        "start_time": "2021-12-22T13:07:30.335Z"
      },
      {
        "duration": 20,
        "start_time": "2021-12-22T13:07:30.343Z"
      },
      {
        "duration": 47,
        "start_time": "2021-12-22T13:07:30.364Z"
      },
      {
        "duration": 464,
        "start_time": "2021-12-22T13:07:30.412Z"
      },
      {
        "duration": 25,
        "start_time": "2021-12-22T13:07:30.878Z"
      },
      {
        "duration": 12,
        "start_time": "2021-12-22T13:07:30.904Z"
      },
      {
        "duration": 490,
        "start_time": "2021-12-22T13:07:30.918Z"
      },
      {
        "duration": 1367,
        "start_time": "2021-12-22T13:07:31.410Z"
      },
      {
        "duration": 1069,
        "start_time": "2021-12-22T13:07:32.779Z"
      },
      {
        "duration": 316,
        "start_time": "2021-12-22T13:07:33.850Z"
      },
      {
        "duration": 328,
        "start_time": "2021-12-22T13:07:34.167Z"
      },
      {
        "duration": 19,
        "start_time": "2021-12-22T13:07:34.496Z"
      },
      {
        "duration": 15,
        "start_time": "2021-12-22T13:07:34.517Z"
      },
      {
        "duration": 6,
        "start_time": "2021-12-22T13:07:34.534Z"
      },
      {
        "duration": 15,
        "start_time": "2021-12-22T13:07:34.541Z"
      },
      {
        "duration": 43,
        "start_time": "2021-12-22T13:07:34.557Z"
      },
      {
        "duration": 6,
        "start_time": "2021-12-22T13:07:34.601Z"
      },
      {
        "duration": 19,
        "start_time": "2021-12-22T13:07:34.609Z"
      },
      {
        "duration": 264,
        "start_time": "2021-12-22T13:07:34.630Z"
      },
      {
        "duration": 272,
        "start_time": "2021-12-22T13:07:34.896Z"
      },
      {
        "duration": 272,
        "start_time": "2021-12-22T13:07:35.169Z"
      },
      {
        "duration": 4,
        "start_time": "2021-12-22T13:07:35.442Z"
      },
      {
        "duration": 1090,
        "start_time": "2021-12-22T13:07:35.447Z"
      },
      {
        "duration": 378,
        "start_time": "2021-12-22T13:07:36.539Z"
      },
      {
        "duration": 982,
        "start_time": "2021-12-22T13:07:36.919Z"
      },
      {
        "duration": 401,
        "start_time": "2021-12-22T13:07:37.903Z"
      },
      {
        "duration": 10,
        "start_time": "2021-12-22T13:26:16.780Z"
      },
      {
        "duration": 13,
        "start_time": "2021-12-22T13:29:40.091Z"
      },
      {
        "duration": 13,
        "start_time": "2021-12-22T13:30:09.036Z"
      },
      {
        "duration": 13,
        "start_time": "2021-12-22T13:30:14.368Z"
      },
      {
        "duration": 10,
        "start_time": "2021-12-22T13:30:17.466Z"
      },
      {
        "duration": 1493,
        "start_time": "2021-12-22T13:30:54.577Z"
      },
      {
        "duration": 12,
        "start_time": "2021-12-22T13:31:04.947Z"
      },
      {
        "duration": 8,
        "start_time": "2021-12-22T13:36:09.299Z"
      },
      {
        "duration": 8,
        "start_time": "2021-12-22T13:36:28.801Z"
      },
      {
        "duration": 8,
        "start_time": "2021-12-22T13:36:44.251Z"
      },
      {
        "duration": 9,
        "start_time": "2021-12-22T13:36:49.954Z"
      },
      {
        "duration": 7,
        "start_time": "2021-12-22T13:37:51.965Z"
      },
      {
        "duration": 973,
        "start_time": "2021-12-22T13:40:20.637Z"
      },
      {
        "duration": 880,
        "start_time": "2021-12-22T13:40:59.763Z"
      },
      {
        "duration": 882,
        "start_time": "2021-12-22T13:41:22.883Z"
      },
      {
        "duration": 859,
        "start_time": "2021-12-22T13:41:26.071Z"
      },
      {
        "duration": 408,
        "start_time": "2021-12-22T15:35:59.064Z"
      },
      {
        "duration": 1170,
        "start_time": "2021-12-22T15:36:08.763Z"
      },
      {
        "duration": 52,
        "start_time": "2021-12-22T15:36:09.935Z"
      },
      {
        "duration": 31,
        "start_time": "2021-12-22T15:36:09.989Z"
      },
      {
        "duration": 13,
        "start_time": "2021-12-22T15:36:10.022Z"
      },
      {
        "duration": 38,
        "start_time": "2021-12-22T15:36:10.037Z"
      },
      {
        "duration": 17,
        "start_time": "2021-12-22T15:36:10.077Z"
      },
      {
        "duration": 13,
        "start_time": "2021-12-22T15:36:10.095Z"
      },
      {
        "duration": 16,
        "start_time": "2021-12-22T15:36:10.111Z"
      },
      {
        "duration": 31,
        "start_time": "2021-12-22T15:36:10.130Z"
      },
      {
        "duration": 4,
        "start_time": "2021-12-22T15:36:10.163Z"
      },
      {
        "duration": 12,
        "start_time": "2021-12-22T15:36:10.169Z"
      },
      {
        "duration": 7,
        "start_time": "2021-12-22T15:36:10.182Z"
      },
      {
        "duration": 10,
        "start_time": "2021-12-22T15:36:10.190Z"
      },
      {
        "duration": 10,
        "start_time": "2021-12-22T15:36:10.202Z"
      },
      {
        "duration": 8,
        "start_time": "2021-12-22T15:36:10.214Z"
      },
      {
        "duration": 31,
        "start_time": "2021-12-22T15:36:10.224Z"
      },
      {
        "duration": 17,
        "start_time": "2021-12-22T15:36:10.256Z"
      },
      {
        "duration": 15,
        "start_time": "2021-12-22T15:36:10.274Z"
      },
      {
        "duration": 15,
        "start_time": "2021-12-22T15:36:10.290Z"
      },
      {
        "duration": 13,
        "start_time": "2021-12-22T15:36:10.307Z"
      },
      {
        "duration": 15,
        "start_time": "2021-12-22T15:36:10.321Z"
      },
      {
        "duration": 33,
        "start_time": "2021-12-22T15:36:10.337Z"
      },
      {
        "duration": 35,
        "start_time": "2021-12-22T15:36:10.373Z"
      },
      {
        "duration": 153,
        "start_time": "2021-12-22T15:36:10.410Z"
      },
      {
        "duration": 3,
        "start_time": "2021-12-22T15:36:10.565Z"
      },
      {
        "duration": 32,
        "start_time": "2021-12-22T15:36:10.570Z"
      },
      {
        "duration": 27,
        "start_time": "2021-12-22T15:36:10.604Z"
      },
      {
        "duration": 606,
        "start_time": "2021-12-22T15:36:10.632Z"
      },
      {
        "duration": 29,
        "start_time": "2021-12-22T15:36:11.240Z"
      },
      {
        "duration": 8,
        "start_time": "2021-12-22T15:36:11.271Z"
      },
      {
        "duration": 4,
        "start_time": "2021-12-22T15:36:11.281Z"
      },
      {
        "duration": 32,
        "start_time": "2021-12-22T15:36:11.286Z"
      },
      {
        "duration": 480,
        "start_time": "2021-12-22T15:36:11.320Z"
      },
      {
        "duration": 16,
        "start_time": "2021-12-22T15:36:11.802Z"
      },
      {
        "duration": 21,
        "start_time": "2021-12-22T15:36:11.820Z"
      },
      {
        "duration": 553,
        "start_time": "2021-12-22T15:36:11.842Z"
      },
      {
        "duration": 1421,
        "start_time": "2021-12-22T15:36:12.398Z"
      },
      {
        "duration": 982,
        "start_time": "2021-12-22T15:36:13.821Z"
      },
      {
        "duration": 309,
        "start_time": "2021-12-22T15:36:14.805Z"
      },
      {
        "duration": 299,
        "start_time": "2021-12-22T15:36:15.116Z"
      },
      {
        "duration": 19,
        "start_time": "2021-12-22T15:36:15.417Z"
      },
      {
        "duration": 34,
        "start_time": "2021-12-22T15:36:15.438Z"
      },
      {
        "duration": 6,
        "start_time": "2021-12-22T15:36:15.473Z"
      },
      {
        "duration": 10,
        "start_time": "2021-12-22T15:36:15.481Z"
      },
      {
        "duration": 18,
        "start_time": "2021-12-22T15:36:15.492Z"
      },
      {
        "duration": 7,
        "start_time": "2021-12-22T15:36:15.511Z"
      },
      {
        "duration": 42,
        "start_time": "2021-12-22T15:36:15.520Z"
      },
      {
        "duration": 267,
        "start_time": "2021-12-22T15:36:15.564Z"
      },
      {
        "duration": 354,
        "start_time": "2021-12-22T15:36:15.833Z"
      },
      {
        "duration": 254,
        "start_time": "2021-12-22T15:36:16.188Z"
      },
      {
        "duration": 23,
        "start_time": "2021-12-22T15:36:16.444Z"
      },
      {
        "duration": 5,
        "start_time": "2021-12-22T15:36:16.469Z"
      },
      {
        "duration": 1077,
        "start_time": "2021-12-22T15:36:16.476Z"
      },
      {
        "duration": 10,
        "start_time": "2021-12-22T15:36:17.555Z"
      },
      {
        "duration": 355,
        "start_time": "2021-12-22T15:36:17.566Z"
      },
      {
        "duration": 932,
        "start_time": "2021-12-22T15:36:17.923Z"
      },
      {
        "duration": 355,
        "start_time": "2021-12-22T15:36:18.860Z"
      },
      {
        "duration": 926,
        "start_time": "2021-12-22T15:36:19.217Z"
      },
      {
        "duration": 167,
        "start_time": "2021-12-22T15:37:15.113Z"
      },
      {
        "duration": 5,
        "start_time": "2021-12-22T15:39:06.272Z"
      },
      {
        "duration": 8,
        "start_time": "2021-12-22T15:39:12.268Z"
      },
      {
        "duration": 159,
        "start_time": "2021-12-22T15:39:22.205Z"
      },
      {
        "duration": 5,
        "start_time": "2021-12-22T15:41:42.252Z"
      },
      {
        "duration": 5,
        "start_time": "2021-12-22T16:04:20.210Z"
      },
      {
        "duration": 1518,
        "start_time": "2021-12-22T16:16:23.296Z"
      },
      {
        "duration": 73,
        "start_time": "2021-12-22T16:16:24.816Z"
      },
      {
        "duration": 42,
        "start_time": "2021-12-22T16:16:24.892Z"
      },
      {
        "duration": 29,
        "start_time": "2021-12-22T16:16:24.936Z"
      },
      {
        "duration": 32,
        "start_time": "2021-12-22T16:16:24.967Z"
      },
      {
        "duration": 18,
        "start_time": "2021-12-22T16:16:25.000Z"
      },
      {
        "duration": 16,
        "start_time": "2021-12-22T16:16:25.020Z"
      },
      {
        "duration": 30,
        "start_time": "2021-12-22T16:16:25.039Z"
      },
      {
        "duration": 7,
        "start_time": "2021-12-22T16:16:25.071Z"
      },
      {
        "duration": 7,
        "start_time": "2021-12-22T16:16:25.080Z"
      },
      {
        "duration": 8,
        "start_time": "2021-12-22T16:16:25.089Z"
      },
      {
        "duration": 6,
        "start_time": "2021-12-22T16:16:25.099Z"
      },
      {
        "duration": 5,
        "start_time": "2021-12-22T16:16:25.107Z"
      },
      {
        "duration": 5,
        "start_time": "2021-12-22T16:16:25.114Z"
      },
      {
        "duration": 6,
        "start_time": "2021-12-22T16:16:25.121Z"
      },
      {
        "duration": 35,
        "start_time": "2021-12-22T16:16:25.129Z"
      },
      {
        "duration": 9,
        "start_time": "2021-12-22T16:16:25.166Z"
      },
      {
        "duration": 13,
        "start_time": "2021-12-22T16:16:25.177Z"
      },
      {
        "duration": 13,
        "start_time": "2021-12-22T16:16:25.192Z"
      },
      {
        "duration": 6,
        "start_time": "2021-12-22T16:16:25.207Z"
      },
      {
        "duration": 10,
        "start_time": "2021-12-22T16:16:25.215Z"
      },
      {
        "duration": 42,
        "start_time": "2021-12-22T16:16:25.226Z"
      },
      {
        "duration": 7,
        "start_time": "2021-12-22T16:16:25.272Z"
      },
      {
        "duration": 171,
        "start_time": "2021-12-22T16:16:25.282Z"
      },
      {
        "duration": 9,
        "start_time": "2021-12-22T16:16:25.455Z"
      },
      {
        "duration": 11,
        "start_time": "2021-12-22T16:16:25.465Z"
      },
      {
        "duration": 15,
        "start_time": "2021-12-22T16:16:25.478Z"
      },
      {
        "duration": 594,
        "start_time": "2021-12-22T16:16:25.495Z"
      },
      {
        "duration": 17,
        "start_time": "2021-12-22T16:16:26.092Z"
      },
      {
        "duration": 7,
        "start_time": "2021-12-22T16:16:26.111Z"
      },
      {
        "duration": 3,
        "start_time": "2021-12-22T16:16:26.120Z"
      },
      {
        "duration": 48,
        "start_time": "2021-12-22T16:16:26.125Z"
      },
      {
        "duration": 443,
        "start_time": "2021-12-22T16:16:26.175Z"
      },
      {
        "duration": 17,
        "start_time": "2021-12-22T16:16:26.620Z"
      },
      {
        "duration": 24,
        "start_time": "2021-12-22T16:16:26.638Z"
      },
      {
        "duration": 550,
        "start_time": "2021-12-22T16:16:26.664Z"
      },
      {
        "duration": 1363,
        "start_time": "2021-12-22T16:16:27.216Z"
      },
      {
        "duration": 984,
        "start_time": "2021-12-22T16:16:28.581Z"
      },
      {
        "duration": 325,
        "start_time": "2021-12-22T16:16:29.567Z"
      },
      {
        "duration": 275,
        "start_time": "2021-12-22T16:16:29.893Z"
      },
      {
        "duration": 20,
        "start_time": "2021-12-22T16:16:30.170Z"
      },
      {
        "duration": 16,
        "start_time": "2021-12-22T16:16:30.192Z"
      },
      {
        "duration": 6,
        "start_time": "2021-12-22T16:16:30.210Z"
      },
      {
        "duration": 9,
        "start_time": "2021-12-22T16:16:30.218Z"
      },
      {
        "duration": 44,
        "start_time": "2021-12-22T16:16:30.229Z"
      },
      {
        "duration": 18,
        "start_time": "2021-12-22T16:16:30.275Z"
      },
      {
        "duration": 11,
        "start_time": "2021-12-22T16:16:30.295Z"
      },
      {
        "duration": 279,
        "start_time": "2021-12-22T16:16:30.308Z"
      },
      {
        "duration": 521,
        "start_time": "2021-12-22T16:16:30.588Z"
      },
      {
        "duration": 271,
        "start_time": "2021-12-22T16:16:31.111Z"
      },
      {
        "duration": 11,
        "start_time": "2021-12-22T16:16:31.384Z"
      },
      {
        "duration": 9,
        "start_time": "2021-12-22T16:16:31.397Z"
      },
      {
        "duration": 1038,
        "start_time": "2021-12-22T16:16:31.408Z"
      },
      {
        "duration": 14,
        "start_time": "2021-12-22T16:16:32.447Z"
      },
      {
        "duration": 372,
        "start_time": "2021-12-22T16:16:32.463Z"
      },
      {
        "duration": 972,
        "start_time": "2021-12-22T16:16:32.837Z"
      },
      {
        "duration": 419,
        "start_time": "2021-12-22T16:16:33.811Z"
      },
      {
        "duration": 968,
        "start_time": "2021-12-22T16:16:34.232Z"
      },
      {
        "duration": 1052,
        "start_time": "2021-12-22T16:33:17.111Z"
      },
      {
        "duration": 1160,
        "start_time": "2021-12-22T16:33:59.573Z"
      },
      {
        "duration": 1252,
        "start_time": "2021-12-22T16:34:43.972Z"
      },
      {
        "duration": 51,
        "start_time": "2021-12-22T16:34:45.225Z"
      },
      {
        "duration": 31,
        "start_time": "2021-12-22T16:34:45.280Z"
      },
      {
        "duration": 17,
        "start_time": "2021-12-22T16:34:45.313Z"
      },
      {
        "duration": 32,
        "start_time": "2021-12-22T16:34:45.332Z"
      },
      {
        "duration": 20,
        "start_time": "2021-12-22T16:34:45.366Z"
      },
      {
        "duration": 23,
        "start_time": "2021-12-22T16:34:45.389Z"
      },
      {
        "duration": 26,
        "start_time": "2021-12-22T16:34:45.414Z"
      },
      {
        "duration": 19,
        "start_time": "2021-12-22T16:34:45.442Z"
      },
      {
        "duration": 10,
        "start_time": "2021-12-22T16:34:45.463Z"
      },
      {
        "duration": 32,
        "start_time": "2021-12-22T16:34:45.474Z"
      },
      {
        "duration": 18,
        "start_time": "2021-12-22T16:34:45.507Z"
      },
      {
        "duration": 14,
        "start_time": "2021-12-22T16:34:45.526Z"
      },
      {
        "duration": 16,
        "start_time": "2021-12-22T16:34:45.541Z"
      },
      {
        "duration": 17,
        "start_time": "2021-12-22T16:34:45.559Z"
      },
      {
        "duration": 8,
        "start_time": "2021-12-22T16:34:45.577Z"
      },
      {
        "duration": 29,
        "start_time": "2021-12-22T16:34:45.587Z"
      },
      {
        "duration": 14,
        "start_time": "2021-12-22T16:34:45.618Z"
      },
      {
        "duration": 16,
        "start_time": "2021-12-22T16:34:45.634Z"
      },
      {
        "duration": 17,
        "start_time": "2021-12-22T16:34:45.651Z"
      },
      {
        "duration": 18,
        "start_time": "2021-12-22T16:34:45.670Z"
      },
      {
        "duration": 20,
        "start_time": "2021-12-22T16:34:45.693Z"
      },
      {
        "duration": 21,
        "start_time": "2021-12-22T16:34:45.716Z"
      },
      {
        "duration": 138,
        "start_time": "2021-12-22T16:34:45.739Z"
      },
      {
        "duration": 6,
        "start_time": "2021-12-22T16:34:45.879Z"
      },
      {
        "duration": 19,
        "start_time": "2021-12-22T16:34:45.887Z"
      },
      {
        "duration": 21,
        "start_time": "2021-12-22T16:34:45.908Z"
      },
      {
        "duration": 584,
        "start_time": "2021-12-22T16:34:45.930Z"
      },
      {
        "duration": 19,
        "start_time": "2021-12-22T16:34:46.516Z"
      },
      {
        "duration": 25,
        "start_time": "2021-12-22T16:34:46.537Z"
      },
      {
        "duration": 31,
        "start_time": "2021-12-22T16:34:46.564Z"
      },
      {
        "duration": 32,
        "start_time": "2021-12-22T16:34:46.597Z"
      },
      {
        "duration": 432,
        "start_time": "2021-12-22T16:34:46.632Z"
      },
      {
        "duration": 17,
        "start_time": "2021-12-22T16:34:47.066Z"
      },
      {
        "duration": 11,
        "start_time": "2021-12-22T16:34:47.085Z"
      },
      {
        "duration": 542,
        "start_time": "2021-12-22T16:34:47.097Z"
      },
      {
        "duration": 1306,
        "start_time": "2021-12-22T16:34:47.641Z"
      },
      {
        "duration": 1012,
        "start_time": "2021-12-22T16:34:48.949Z"
      },
      {
        "duration": 343,
        "start_time": "2021-12-22T16:34:49.963Z"
      },
      {
        "duration": 313,
        "start_time": "2021-12-22T16:34:50.308Z"
      },
      {
        "duration": 18,
        "start_time": "2021-12-22T16:34:50.623Z"
      },
      {
        "duration": 31,
        "start_time": "2021-12-22T16:34:50.643Z"
      },
      {
        "duration": 13,
        "start_time": "2021-12-22T16:34:50.676Z"
      },
      {
        "duration": 18,
        "start_time": "2021-12-22T16:34:50.691Z"
      },
      {
        "duration": 42,
        "start_time": "2021-12-22T16:34:50.710Z"
      },
      {
        "duration": 22,
        "start_time": "2021-12-22T16:34:50.753Z"
      },
      {
        "duration": 18,
        "start_time": "2021-12-22T16:34:50.777Z"
      },
      {
        "duration": 283,
        "start_time": "2021-12-22T16:34:50.797Z"
      },
      {
        "duration": 373,
        "start_time": "2021-12-22T16:34:51.081Z"
      },
      {
        "duration": 252,
        "start_time": "2021-12-22T16:34:51.456Z"
      },
      {
        "duration": 10,
        "start_time": "2021-12-22T16:34:51.710Z"
      },
      {
        "duration": 11,
        "start_time": "2021-12-22T16:34:51.722Z"
      },
      {
        "duration": 1056,
        "start_time": "2021-12-22T16:34:51.734Z"
      },
      {
        "duration": 10,
        "start_time": "2021-12-22T16:34:52.792Z"
      },
      {
        "duration": 575,
        "start_time": "2021-12-22T16:34:52.804Z"
      },
      {
        "duration": 1442,
        "start_time": "2021-12-22T16:34:53.381Z"
      },
      {
        "duration": 376,
        "start_time": "2021-12-22T16:34:54.826Z"
      },
      {
        "duration": 984,
        "start_time": "2021-12-22T16:34:55.204Z"
      },
      {
        "duration": 8,
        "start_time": "2021-12-22T16:38:30.184Z"
      },
      {
        "duration": 17,
        "start_time": "2021-12-22T16:51:33.345Z"
      },
      {
        "duration": 383,
        "start_time": "2021-12-22T16:52:04.269Z"
      },
      {
        "duration": 16,
        "start_time": "2021-12-22T16:55:51.343Z"
      },
      {
        "duration": 9,
        "start_time": "2021-12-22T16:56:18.282Z"
      },
      {
        "duration": 355,
        "start_time": "2021-12-22T16:57:06.333Z"
      },
      {
        "duration": 9,
        "start_time": "2021-12-22T16:57:41.929Z"
      },
      {
        "duration": 10,
        "start_time": "2021-12-22T17:02:34.289Z"
      },
      {
        "duration": 1190,
        "start_time": "2021-12-22T17:13:01.735Z"
      },
      {
        "duration": 55,
        "start_time": "2021-12-22T17:13:02.927Z"
      },
      {
        "duration": 30,
        "start_time": "2021-12-22T17:13:02.984Z"
      },
      {
        "duration": 12,
        "start_time": "2021-12-22T17:13:03.017Z"
      },
      {
        "duration": 31,
        "start_time": "2021-12-22T17:13:03.030Z"
      },
      {
        "duration": 16,
        "start_time": "2021-12-22T17:13:03.063Z"
      },
      {
        "duration": 11,
        "start_time": "2021-12-22T17:13:03.081Z"
      },
      {
        "duration": 16,
        "start_time": "2021-12-22T17:13:03.094Z"
      },
      {
        "duration": 6,
        "start_time": "2021-12-22T17:13:03.112Z"
      },
      {
        "duration": 6,
        "start_time": "2021-12-22T17:13:03.119Z"
      },
      {
        "duration": 36,
        "start_time": "2021-12-22T17:13:03.126Z"
      },
      {
        "duration": 10,
        "start_time": "2021-12-22T17:13:03.164Z"
      },
      {
        "duration": 9,
        "start_time": "2021-12-22T17:13:03.175Z"
      },
      {
        "duration": 9,
        "start_time": "2021-12-22T17:13:03.185Z"
      },
      {
        "duration": 6,
        "start_time": "2021-12-22T17:13:03.196Z"
      },
      {
        "duration": 7,
        "start_time": "2021-12-22T17:13:03.203Z"
      },
      {
        "duration": 8,
        "start_time": "2021-12-22T17:13:03.211Z"
      },
      {
        "duration": 10,
        "start_time": "2021-12-22T17:13:03.220Z"
      },
      {
        "duration": 11,
        "start_time": "2021-12-22T17:13:03.232Z"
      },
      {
        "duration": 8,
        "start_time": "2021-12-22T17:13:03.261Z"
      },
      {
        "duration": 10,
        "start_time": "2021-12-22T17:13:03.271Z"
      },
      {
        "duration": 11,
        "start_time": "2021-12-22T17:13:03.282Z"
      },
      {
        "duration": 9,
        "start_time": "2021-12-22T17:13:03.297Z"
      },
      {
        "duration": 158,
        "start_time": "2021-12-22T17:13:03.308Z"
      },
      {
        "duration": 4,
        "start_time": "2021-12-22T17:13:03.468Z"
      },
      {
        "duration": 8,
        "start_time": "2021-12-22T17:13:03.474Z"
      },
      {
        "duration": 13,
        "start_time": "2021-12-22T17:13:03.484Z"
      },
      {
        "duration": 592,
        "start_time": "2021-12-22T17:13:03.499Z"
      },
      {
        "duration": 18,
        "start_time": "2021-12-22T17:13:04.093Z"
      },
      {
        "duration": 8,
        "start_time": "2021-12-22T17:13:04.113Z"
      },
      {
        "duration": 5,
        "start_time": "2021-12-22T17:13:04.122Z"
      },
      {
        "duration": 51,
        "start_time": "2021-12-22T17:13:04.129Z"
      },
      {
        "duration": 518,
        "start_time": "2021-12-22T17:13:04.181Z"
      },
      {
        "duration": 16,
        "start_time": "2021-12-22T17:13:04.701Z"
      },
      {
        "duration": 11,
        "start_time": "2021-12-22T17:13:04.718Z"
      },
      {
        "duration": 597,
        "start_time": "2021-12-22T17:13:04.730Z"
      },
      {
        "duration": 1290,
        "start_time": "2021-12-22T17:13:05.328Z"
      },
      {
        "duration": 959,
        "start_time": "2021-12-22T17:13:06.619Z"
      },
      {
        "duration": 299,
        "start_time": "2021-12-22T17:13:07.580Z"
      },
      {
        "duration": 285,
        "start_time": "2021-12-22T17:13:07.881Z"
      },
      {
        "duration": 7,
        "start_time": "2021-12-22T17:13:08.168Z"
      },
      {
        "duration": 17,
        "start_time": "2021-12-22T17:13:08.177Z"
      },
      {
        "duration": 8,
        "start_time": "2021-12-22T17:13:08.196Z"
      },
      {
        "duration": 15,
        "start_time": "2021-12-22T17:13:08.205Z"
      },
      {
        "duration": 6,
        "start_time": "2021-12-22T17:13:08.221Z"
      },
      {
        "duration": 38,
        "start_time": "2021-12-22T17:13:08.228Z"
      },
      {
        "duration": 17,
        "start_time": "2021-12-22T17:13:08.268Z"
      },
      {
        "duration": 6,
        "start_time": "2021-12-22T17:13:08.287Z"
      },
      {
        "duration": 12,
        "start_time": "2021-12-22T17:13:08.295Z"
      },
      {
        "duration": 263,
        "start_time": "2021-12-22T17:13:08.309Z"
      },
      {
        "duration": 332,
        "start_time": "2021-12-22T17:13:08.574Z"
      },
      {
        "duration": 244,
        "start_time": "2021-12-22T17:13:08.908Z"
      },
      {
        "duration": 15,
        "start_time": "2021-12-22T17:13:09.154Z"
      },
      {
        "duration": 12,
        "start_time": "2021-12-22T17:13:09.170Z"
      },
      {
        "duration": 913,
        "start_time": "2021-12-22T17:13:09.183Z"
      },
      {
        "duration": 7,
        "start_time": "2021-12-22T17:13:10.098Z"
      },
      {
        "duration": 353,
        "start_time": "2021-12-22T17:13:10.107Z"
      },
      {
        "duration": 916,
        "start_time": "2021-12-22T17:13:10.462Z"
      },
      {
        "duration": 361,
        "start_time": "2021-12-22T17:13:11.380Z"
      },
      {
        "duration": 941,
        "start_time": "2021-12-22T17:13:11.743Z"
      },
      {
        "duration": 1150,
        "start_time": "2021-12-22T17:14:30.379Z"
      },
      {
        "duration": 52,
        "start_time": "2021-12-22T17:14:31.531Z"
      },
      {
        "duration": 32,
        "start_time": "2021-12-22T17:14:31.587Z"
      },
      {
        "duration": 12,
        "start_time": "2021-12-22T17:14:31.621Z"
      },
      {
        "duration": 38,
        "start_time": "2021-12-22T17:14:31.635Z"
      },
      {
        "duration": 16,
        "start_time": "2021-12-22T17:14:31.675Z"
      },
      {
        "duration": 11,
        "start_time": "2021-12-22T17:14:31.693Z"
      },
      {
        "duration": 31,
        "start_time": "2021-12-22T17:14:31.706Z"
      },
      {
        "duration": 21,
        "start_time": "2021-12-22T17:14:31.739Z"
      },
      {
        "duration": 4,
        "start_time": "2021-12-22T17:14:31.762Z"
      },
      {
        "duration": 8,
        "start_time": "2021-12-22T17:14:31.768Z"
      },
      {
        "duration": 7,
        "start_time": "2021-12-22T17:14:31.777Z"
      },
      {
        "duration": 10,
        "start_time": "2021-12-22T17:14:31.786Z"
      },
      {
        "duration": 6,
        "start_time": "2021-12-22T17:14:31.798Z"
      },
      {
        "duration": 8,
        "start_time": "2021-12-22T17:14:31.806Z"
      },
      {
        "duration": 8,
        "start_time": "2021-12-22T17:14:31.816Z"
      },
      {
        "duration": 339,
        "start_time": "2021-12-22T17:14:31.826Z"
      },
      {
        "duration": 275,
        "start_time": "2021-12-22T17:14:31.893Z"
      },
      {
        "duration": 273,
        "start_time": "2021-12-22T17:14:31.896Z"
      },
      {
        "duration": 270,
        "start_time": "2021-12-22T17:14:31.899Z"
      },
      {
        "duration": 268,
        "start_time": "2021-12-22T17:14:31.902Z"
      },
      {
        "duration": 266,
        "start_time": "2021-12-22T17:14:31.905Z"
      },
      {
        "duration": 264,
        "start_time": "2021-12-22T17:14:31.908Z"
      },
      {
        "duration": 262,
        "start_time": "2021-12-22T17:14:31.911Z"
      },
      {
        "duration": 260,
        "start_time": "2021-12-22T17:14:31.914Z"
      },
      {
        "duration": 258,
        "start_time": "2021-12-22T17:14:31.917Z"
      },
      {
        "duration": 256,
        "start_time": "2021-12-22T17:14:31.920Z"
      },
      {
        "duration": 254,
        "start_time": "2021-12-22T17:14:31.923Z"
      },
      {
        "duration": 253,
        "start_time": "2021-12-22T17:14:31.925Z"
      },
      {
        "duration": 250,
        "start_time": "2021-12-22T17:14:31.929Z"
      },
      {
        "duration": 249,
        "start_time": "2021-12-22T17:14:31.931Z"
      },
      {
        "duration": 247,
        "start_time": "2021-12-22T17:14:31.934Z"
      },
      {
        "duration": 246,
        "start_time": "2021-12-22T17:14:31.936Z"
      },
      {
        "duration": 243,
        "start_time": "2021-12-22T17:14:31.940Z"
      },
      {
        "duration": 241,
        "start_time": "2021-12-22T17:14:31.943Z"
      },
      {
        "duration": 239,
        "start_time": "2021-12-22T17:14:31.946Z"
      },
      {
        "duration": 237,
        "start_time": "2021-12-22T17:14:31.948Z"
      },
      {
        "duration": 236,
        "start_time": "2021-12-22T17:14:31.951Z"
      },
      {
        "duration": 234,
        "start_time": "2021-12-22T17:14:31.954Z"
      },
      {
        "duration": 232,
        "start_time": "2021-12-22T17:14:31.957Z"
      },
      {
        "duration": 230,
        "start_time": "2021-12-22T17:14:31.960Z"
      },
      {
        "duration": 229,
        "start_time": "2021-12-22T17:14:31.963Z"
      },
      {
        "duration": 220,
        "start_time": "2021-12-22T17:14:31.973Z"
      },
      {
        "duration": 217,
        "start_time": "2021-12-22T17:14:31.976Z"
      },
      {
        "duration": 215,
        "start_time": "2021-12-22T17:14:31.979Z"
      },
      {
        "duration": 213,
        "start_time": "2021-12-22T17:14:31.982Z"
      },
      {
        "duration": 211,
        "start_time": "2021-12-22T17:14:31.985Z"
      },
      {
        "duration": 209,
        "start_time": "2021-12-22T17:14:31.988Z"
      },
      {
        "duration": 207,
        "start_time": "2021-12-22T17:14:31.991Z"
      },
      {
        "duration": 205,
        "start_time": "2021-12-22T17:14:31.994Z"
      },
      {
        "duration": 203,
        "start_time": "2021-12-22T17:14:31.997Z"
      },
      {
        "duration": 187,
        "start_time": "2021-12-22T17:14:32.013Z"
      },
      {
        "duration": 182,
        "start_time": "2021-12-22T17:14:32.019Z"
      },
      {
        "duration": 179,
        "start_time": "2021-12-22T17:14:32.024Z"
      },
      {
        "duration": 174,
        "start_time": "2021-12-22T17:14:32.029Z"
      },
      {
        "duration": 227,
        "start_time": "2021-12-22T17:14:32.033Z"
      },
      {
        "duration": 225,
        "start_time": "2021-12-22T17:14:32.036Z"
      },
      {
        "duration": 223,
        "start_time": "2021-12-22T17:14:32.039Z"
      },
      {
        "duration": 222,
        "start_time": "2021-12-22T17:14:32.042Z"
      },
      {
        "duration": 220,
        "start_time": "2021-12-22T17:14:32.045Z"
      },
      {
        "duration": 1156,
        "start_time": "2021-12-22T17:15:03.217Z"
      },
      {
        "duration": 52,
        "start_time": "2021-12-22T17:15:04.377Z"
      },
      {
        "duration": 34,
        "start_time": "2021-12-22T17:15:04.431Z"
      },
      {
        "duration": 12,
        "start_time": "2021-12-22T17:15:04.467Z"
      },
      {
        "duration": 18,
        "start_time": "2021-12-22T17:15:04.481Z"
      },
      {
        "duration": 21,
        "start_time": "2021-12-22T17:15:04.500Z"
      },
      {
        "duration": 18,
        "start_time": "2021-12-22T17:15:04.523Z"
      },
      {
        "duration": 17,
        "start_time": "2021-12-22T17:15:04.562Z"
      },
      {
        "duration": 17,
        "start_time": "2021-12-22T17:15:04.580Z"
      },
      {
        "duration": 16,
        "start_time": "2021-12-22T17:15:04.599Z"
      },
      {
        "duration": 25,
        "start_time": "2021-12-22T17:15:04.617Z"
      },
      {
        "duration": 11,
        "start_time": "2021-12-22T17:15:04.644Z"
      },
      {
        "duration": 9,
        "start_time": "2021-12-22T17:15:04.657Z"
      },
      {
        "duration": 22,
        "start_time": "2021-12-22T17:15:04.668Z"
      },
      {
        "duration": 14,
        "start_time": "2021-12-22T17:15:04.692Z"
      },
      {
        "duration": 42,
        "start_time": "2021-12-22T17:15:04.708Z"
      },
      {
        "duration": 15,
        "start_time": "2021-12-22T17:15:04.752Z"
      },
      {
        "duration": 12,
        "start_time": "2021-12-22T17:15:04.769Z"
      },
      {
        "duration": 11,
        "start_time": "2021-12-22T17:15:04.783Z"
      },
      {
        "duration": 9,
        "start_time": "2021-12-22T17:15:04.796Z"
      },
      {
        "duration": 11,
        "start_time": "2021-12-22T17:15:04.807Z"
      },
      {
        "duration": 14,
        "start_time": "2021-12-22T17:15:04.821Z"
      },
      {
        "duration": 75,
        "start_time": "2021-12-22T17:15:04.837Z"
      },
      {
        "duration": 237,
        "start_time": "2021-12-22T17:15:04.914Z"
      },
      {
        "duration": 9,
        "start_time": "2021-12-22T17:15:05.153Z"
      },
      {
        "duration": 53,
        "start_time": "2021-12-22T17:15:05.166Z"
      },
      {
        "duration": 33,
        "start_time": "2021-12-22T17:15:05.221Z"
      },
      {
        "duration": 609,
        "start_time": "2021-12-22T17:15:05.256Z"
      },
      {
        "duration": 19,
        "start_time": "2021-12-22T17:15:05.867Z"
      },
      {
        "duration": 9,
        "start_time": "2021-12-22T17:15:05.887Z"
      },
      {
        "duration": 4,
        "start_time": "2021-12-22T17:15:05.897Z"
      },
      {
        "duration": 25,
        "start_time": "2021-12-22T17:15:05.902Z"
      },
      {
        "duration": 481,
        "start_time": "2021-12-22T17:15:05.929Z"
      },
      {
        "duration": 17,
        "start_time": "2021-12-22T17:15:06.412Z"
      },
      {
        "duration": 30,
        "start_time": "2021-12-22T17:15:06.431Z"
      },
      {
        "duration": 548,
        "start_time": "2021-12-22T17:15:06.463Z"
      },
      {
        "duration": 1396,
        "start_time": "2021-12-22T17:15:07.013Z"
      },
      {
        "duration": 958,
        "start_time": "2021-12-22T17:15:08.411Z"
      },
      {
        "duration": 313,
        "start_time": "2021-12-22T17:15:09.371Z"
      },
      {
        "duration": 304,
        "start_time": "2021-12-22T17:15:09.686Z"
      },
      {
        "duration": 8,
        "start_time": "2021-12-22T17:15:09.992Z"
      },
      {
        "duration": 58,
        "start_time": "2021-12-22T17:15:10.001Z"
      },
      {
        "duration": 34,
        "start_time": "2021-12-22T17:15:10.060Z"
      },
      {
        "duration": 38,
        "start_time": "2021-12-22T17:15:10.096Z"
      },
      {
        "duration": 48,
        "start_time": "2021-12-22T17:15:10.136Z"
      },
      {
        "duration": 27,
        "start_time": "2021-12-22T17:15:10.186Z"
      },
      {
        "duration": 31,
        "start_time": "2021-12-22T17:15:10.215Z"
      },
      {
        "duration": 11,
        "start_time": "2021-12-22T17:15:10.248Z"
      },
      {
        "duration": 9,
        "start_time": "2021-12-22T17:15:10.260Z"
      },
      {
        "duration": 279,
        "start_time": "2021-12-22T17:15:10.270Z"
      },
      {
        "duration": 353,
        "start_time": "2021-12-22T17:15:10.550Z"
      },
      {
        "duration": 261,
        "start_time": "2021-12-22T17:15:10.904Z"
      },
      {
        "duration": 11,
        "start_time": "2021-12-22T17:15:11.167Z"
      },
      {
        "duration": 6,
        "start_time": "2021-12-22T17:15:11.179Z"
      },
      {
        "duration": 989,
        "start_time": "2021-12-22T17:15:11.187Z"
      },
      {
        "duration": 7,
        "start_time": "2021-12-22T17:15:12.178Z"
      },
      {
        "duration": 358,
        "start_time": "2021-12-22T17:15:12.186Z"
      },
      {
        "duration": 921,
        "start_time": "2021-12-22T17:15:12.545Z"
      },
      {
        "duration": 364,
        "start_time": "2021-12-22T17:15:13.468Z"
      },
      {
        "duration": 917,
        "start_time": "2021-12-22T17:15:13.834Z"
      },
      {
        "duration": 8,
        "start_time": "2021-12-22T17:15:23.346Z"
      },
      {
        "duration": 281,
        "start_time": "2021-12-22T17:16:49.354Z"
      },
      {
        "duration": 81,
        "start_time": "2021-12-22T17:16:56.381Z"
      },
      {
        "duration": 6393,
        "start_time": "2021-12-22T17:17:06.408Z"
      },
      {
        "duration": 7,
        "start_time": "2021-12-22T17:17:18.644Z"
      },
      {
        "duration": 1229,
        "start_time": "2021-12-22T17:21:31.798Z"
      },
      {
        "duration": 55,
        "start_time": "2021-12-22T17:21:33.029Z"
      },
      {
        "duration": 32,
        "start_time": "2021-12-22T17:21:33.086Z"
      },
      {
        "duration": 12,
        "start_time": "2021-12-22T17:21:33.120Z"
      },
      {
        "duration": 32,
        "start_time": "2021-12-22T17:21:33.134Z"
      },
      {
        "duration": 17,
        "start_time": "2021-12-22T17:21:33.167Z"
      },
      {
        "duration": 11,
        "start_time": "2021-12-22T17:21:33.186Z"
      },
      {
        "duration": 16,
        "start_time": "2021-12-22T17:21:33.199Z"
      },
      {
        "duration": 8,
        "start_time": "2021-12-22T17:21:33.217Z"
      },
      {
        "duration": 35,
        "start_time": "2021-12-22T17:21:33.227Z"
      },
      {
        "duration": 7,
        "start_time": "2021-12-22T17:21:33.264Z"
      },
      {
        "duration": 6,
        "start_time": "2021-12-22T17:21:33.273Z"
      },
      {
        "duration": 6,
        "start_time": "2021-12-22T17:21:33.281Z"
      },
      {
        "duration": 7,
        "start_time": "2021-12-22T17:21:33.288Z"
      },
      {
        "duration": 13,
        "start_time": "2021-12-22T17:21:33.296Z"
      },
      {
        "duration": 9,
        "start_time": "2021-12-22T17:21:33.311Z"
      },
      {
        "duration": 8,
        "start_time": "2021-12-22T17:21:33.322Z"
      },
      {
        "duration": 10,
        "start_time": "2021-12-22T17:21:33.332Z"
      },
      {
        "duration": 24,
        "start_time": "2021-12-22T17:21:33.344Z"
      },
      {
        "duration": 10,
        "start_time": "2021-12-22T17:21:33.370Z"
      },
      {
        "duration": 11,
        "start_time": "2021-12-22T17:21:33.381Z"
      },
      {
        "duration": 13,
        "start_time": "2021-12-22T17:21:33.394Z"
      },
      {
        "duration": 9,
        "start_time": "2021-12-22T17:21:33.409Z"
      },
      {
        "duration": 174,
        "start_time": "2021-12-22T17:21:33.421Z"
      },
      {
        "duration": 4,
        "start_time": "2021-12-22T17:21:33.597Z"
      },
      {
        "duration": 13,
        "start_time": "2021-12-22T17:21:33.602Z"
      },
      {
        "duration": 13,
        "start_time": "2021-12-22T17:21:33.619Z"
      },
      {
        "duration": 581,
        "start_time": "2021-12-22T17:21:33.634Z"
      },
      {
        "duration": 19,
        "start_time": "2021-12-22T17:21:34.216Z"
      },
      {
        "duration": 25,
        "start_time": "2021-12-22T17:21:34.237Z"
      },
      {
        "duration": 3,
        "start_time": "2021-12-22T17:21:34.264Z"
      },
      {
        "duration": 26,
        "start_time": "2021-12-22T17:21:34.269Z"
      },
      {
        "duration": 454,
        "start_time": "2021-12-22T17:21:34.297Z"
      },
      {
        "duration": 25,
        "start_time": "2021-12-22T17:21:34.753Z"
      },
      {
        "duration": 10,
        "start_time": "2021-12-22T17:21:34.780Z"
      },
      {
        "duration": 661,
        "start_time": "2021-12-22T17:21:34.792Z"
      },
      {
        "duration": 276,
        "start_time": "2021-12-22T17:21:35.180Z"
      },
      {
        "duration": 272,
        "start_time": "2021-12-22T17:21:35.184Z"
      },
      {
        "duration": 270,
        "start_time": "2021-12-22T17:21:35.187Z"
      },
      {
        "duration": 268,
        "start_time": "2021-12-22T17:21:35.190Z"
      },
      {
        "duration": 265,
        "start_time": "2021-12-22T17:21:35.194Z"
      },
      {
        "duration": 263,
        "start_time": "2021-12-22T17:21:35.197Z"
      },
      {
        "duration": 260,
        "start_time": "2021-12-22T17:21:35.201Z"
      },
      {
        "duration": 259,
        "start_time": "2021-12-22T17:21:35.203Z"
      },
      {
        "duration": 257,
        "start_time": "2021-12-22T17:21:35.206Z"
      },
      {
        "duration": 254,
        "start_time": "2021-12-22T17:21:35.209Z"
      },
      {
        "duration": 246,
        "start_time": "2021-12-22T17:21:35.218Z"
      },
      {
        "duration": 244,
        "start_time": "2021-12-22T17:21:35.221Z"
      },
      {
        "duration": 242,
        "start_time": "2021-12-22T17:21:35.224Z"
      },
      {
        "duration": 240,
        "start_time": "2021-12-22T17:21:35.227Z"
      },
      {
        "duration": 238,
        "start_time": "2021-12-22T17:21:35.230Z"
      },
      {
        "duration": 237,
        "start_time": "2021-12-22T17:21:35.233Z"
      },
      {
        "duration": 235,
        "start_time": "2021-12-22T17:21:35.236Z"
      },
      {
        "duration": 234,
        "start_time": "2021-12-22T17:21:35.239Z"
      },
      {
        "duration": 232,
        "start_time": "2021-12-22T17:21:35.242Z"
      },
      {
        "duration": 230,
        "start_time": "2021-12-22T17:21:35.245Z"
      },
      {
        "duration": 228,
        "start_time": "2021-12-22T17:21:35.249Z"
      },
      {
        "duration": 227,
        "start_time": "2021-12-22T17:21:35.251Z"
      },
      {
        "duration": 226,
        "start_time": "2021-12-22T17:21:35.254Z"
      },
      {
        "duration": 224,
        "start_time": "2021-12-22T17:21:35.257Z"
      },
      {
        "duration": 46,
        "start_time": "2021-12-22T17:22:15.619Z"
      },
      {
        "duration": 252,
        "start_time": "2021-12-22T17:23:25.918Z"
      },
      {
        "duration": 22,
        "start_time": "2021-12-22T17:23:53.484Z"
      },
      {
        "duration": 315,
        "start_time": "2021-12-22T17:23:59.988Z"
      },
      {
        "duration": 1110,
        "start_time": "2021-12-22T17:24:09.618Z"
      },
      {
        "duration": 54,
        "start_time": "2021-12-22T17:24:10.730Z"
      },
      {
        "duration": 32,
        "start_time": "2021-12-22T17:24:10.788Z"
      },
      {
        "duration": 12,
        "start_time": "2021-12-22T17:24:10.822Z"
      },
      {
        "duration": 18,
        "start_time": "2021-12-22T17:24:10.861Z"
      },
      {
        "duration": 16,
        "start_time": "2021-12-22T17:24:10.880Z"
      },
      {
        "duration": 15,
        "start_time": "2021-12-22T17:24:10.899Z"
      },
      {
        "duration": 15,
        "start_time": "2021-12-22T17:24:10.916Z"
      },
      {
        "duration": 33,
        "start_time": "2021-12-22T17:24:10.932Z"
      },
      {
        "duration": 8,
        "start_time": "2021-12-22T17:24:10.966Z"
      },
      {
        "duration": 9,
        "start_time": "2021-12-22T17:24:10.976Z"
      },
      {
        "duration": 5,
        "start_time": "2021-12-22T17:24:10.987Z"
      },
      {
        "duration": 7,
        "start_time": "2021-12-22T17:24:10.994Z"
      },
      {
        "duration": 4,
        "start_time": "2021-12-22T17:24:11.003Z"
      },
      {
        "duration": 5,
        "start_time": "2021-12-22T17:24:11.009Z"
      },
      {
        "duration": 6,
        "start_time": "2021-12-22T17:24:11.016Z"
      },
      {
        "duration": 10,
        "start_time": "2021-12-22T17:24:11.023Z"
      },
      {
        "duration": 31,
        "start_time": "2021-12-22T17:24:11.035Z"
      },
      {
        "duration": 13,
        "start_time": "2021-12-22T17:24:11.067Z"
      },
      {
        "duration": 9,
        "start_time": "2021-12-22T17:24:11.082Z"
      },
      {
        "duration": 7,
        "start_time": "2021-12-22T17:24:11.093Z"
      },
      {
        "duration": 11,
        "start_time": "2021-12-22T17:24:11.104Z"
      },
      {
        "duration": 6,
        "start_time": "2021-12-22T17:24:11.118Z"
      },
      {
        "duration": 166,
        "start_time": "2021-12-22T17:24:11.126Z"
      },
      {
        "duration": 3,
        "start_time": "2021-12-22T17:24:11.294Z"
      },
      {
        "duration": 9,
        "start_time": "2021-12-22T17:24:11.299Z"
      },
      {
        "duration": 13,
        "start_time": "2021-12-22T17:24:11.309Z"
      },
      {
        "duration": 569,
        "start_time": "2021-12-22T17:24:11.323Z"
      },
      {
        "duration": 18,
        "start_time": "2021-12-22T17:24:11.893Z"
      },
      {
        "duration": 7,
        "start_time": "2021-12-22T17:24:11.913Z"
      },
      {
        "duration": 20,
        "start_time": "2021-12-22T17:24:11.921Z"
      },
      {
        "duration": 33,
        "start_time": "2021-12-22T17:24:11.943Z"
      },
      {
        "duration": 434,
        "start_time": "2021-12-22T17:24:11.977Z"
      },
      {
        "duration": 24,
        "start_time": "2021-12-22T17:24:12.413Z"
      },
      {
        "duration": 24,
        "start_time": "2021-12-22T17:24:12.439Z"
      },
      {
        "duration": 534,
        "start_time": "2021-12-22T17:24:12.464Z"
      },
      {
        "duration": 1322,
        "start_time": "2021-12-22T17:24:13.000Z"
      },
      {
        "duration": 968,
        "start_time": "2021-12-22T17:24:14.324Z"
      },
      {
        "duration": 311,
        "start_time": "2021-12-22T17:24:15.295Z"
      },
      {
        "duration": 335,
        "start_time": "2021-12-22T17:24:15.607Z"
      },
      {
        "duration": 18,
        "start_time": "2021-12-22T17:24:15.944Z"
      },
      {
        "duration": 19,
        "start_time": "2021-12-22T17:24:15.964Z"
      },
      {
        "duration": 9,
        "start_time": "2021-12-22T17:24:15.985Z"
      },
      {
        "duration": 20,
        "start_time": "2021-12-22T17:24:15.996Z"
      },
      {
        "duration": 7,
        "start_time": "2021-12-22T17:24:16.017Z"
      },
      {
        "duration": 39,
        "start_time": "2021-12-22T17:24:16.025Z"
      },
      {
        "duration": 16,
        "start_time": "2021-12-22T17:24:16.066Z"
      },
      {
        "duration": 5,
        "start_time": "2021-12-22T17:24:16.085Z"
      },
      {
        "duration": 11,
        "start_time": "2021-12-22T17:24:16.092Z"
      },
      {
        "duration": 285,
        "start_time": "2021-12-22T17:24:16.104Z"
      },
      {
        "duration": 384,
        "start_time": "2021-12-22T17:24:16.391Z"
      },
      {
        "duration": 289,
        "start_time": "2021-12-22T17:24:16.776Z"
      },
      {
        "duration": 10,
        "start_time": "2021-12-22T17:24:17.067Z"
      },
      {
        "duration": 7,
        "start_time": "2021-12-22T17:24:17.079Z"
      },
      {
        "duration": 1002,
        "start_time": "2021-12-22T17:24:17.087Z"
      },
      {
        "duration": 6,
        "start_time": "2021-12-22T17:24:18.091Z"
      },
      {
        "duration": 417,
        "start_time": "2021-12-22T17:24:18.099Z"
      },
      {
        "duration": 979,
        "start_time": "2021-12-22T17:24:18.518Z"
      },
      {
        "duration": 363,
        "start_time": "2021-12-22T17:24:19.499Z"
      },
      {
        "duration": 956,
        "start_time": "2021-12-22T17:24:19.864Z"
      },
      {
        "duration": 1138,
        "start_time": "2021-12-22T17:25:53.185Z"
      },
      {
        "duration": 55,
        "start_time": "2021-12-22T17:25:54.325Z"
      },
      {
        "duration": 31,
        "start_time": "2021-12-22T17:25:54.384Z"
      },
      {
        "duration": 11,
        "start_time": "2021-12-22T17:25:54.417Z"
      },
      {
        "duration": 39,
        "start_time": "2021-12-22T17:25:54.430Z"
      },
      {
        "duration": 17,
        "start_time": "2021-12-22T17:25:54.470Z"
      },
      {
        "duration": 12,
        "start_time": "2021-12-22T17:25:54.489Z"
      },
      {
        "duration": 16,
        "start_time": "2021-12-22T17:25:54.503Z"
      },
      {
        "duration": 41,
        "start_time": "2021-12-22T17:25:54.521Z"
      },
      {
        "duration": 5,
        "start_time": "2021-12-22T17:25:54.564Z"
      },
      {
        "duration": 13,
        "start_time": "2021-12-22T17:25:54.571Z"
      },
      {
        "duration": 5,
        "start_time": "2021-12-22T17:25:54.586Z"
      },
      {
        "duration": 6,
        "start_time": "2021-12-22T17:25:54.593Z"
      },
      {
        "duration": 5,
        "start_time": "2021-12-22T17:25:54.600Z"
      },
      {
        "duration": 6,
        "start_time": "2021-12-22T17:25:54.606Z"
      },
      {
        "duration": 6,
        "start_time": "2021-12-22T17:25:54.613Z"
      },
      {
        "duration": 10,
        "start_time": "2021-12-22T17:25:54.621Z"
      },
      {
        "duration": 7,
        "start_time": "2021-12-22T17:25:54.633Z"
      },
      {
        "duration": 27,
        "start_time": "2021-12-22T17:25:54.642Z"
      },
      {
        "duration": 10,
        "start_time": "2021-12-22T17:25:54.670Z"
      },
      {
        "duration": 8,
        "start_time": "2021-12-22T17:25:54.681Z"
      },
      {
        "duration": 12,
        "start_time": "2021-12-22T17:25:54.692Z"
      },
      {
        "duration": 7,
        "start_time": "2021-12-22T17:25:54.706Z"
      },
      {
        "duration": 177,
        "start_time": "2021-12-22T17:25:54.715Z"
      },
      {
        "duration": 4,
        "start_time": "2021-12-22T17:25:54.893Z"
      },
      {
        "duration": 8,
        "start_time": "2021-12-22T17:25:54.899Z"
      },
      {
        "duration": 20,
        "start_time": "2021-12-22T17:25:54.909Z"
      },
      {
        "duration": 599,
        "start_time": "2021-12-22T17:25:54.932Z"
      },
      {
        "duration": 29,
        "start_time": "2021-12-22T17:25:55.533Z"
      },
      {
        "duration": 8,
        "start_time": "2021-12-22T17:25:55.564Z"
      },
      {
        "duration": 10,
        "start_time": "2021-12-22T17:25:55.574Z"
      },
      {
        "duration": 25,
        "start_time": "2021-12-22T17:25:55.586Z"
      },
      {
        "duration": 466,
        "start_time": "2021-12-22T17:25:55.613Z"
      },
      {
        "duration": 23,
        "start_time": "2021-12-22T17:25:56.081Z"
      },
      {
        "duration": 11,
        "start_time": "2021-12-22T17:25:56.105Z"
      },
      {
        "duration": 567,
        "start_time": "2021-12-22T17:25:56.118Z"
      },
      {
        "duration": 1407,
        "start_time": "2021-12-22T17:25:56.687Z"
      },
      {
        "duration": 968,
        "start_time": "2021-12-22T17:25:58.096Z"
      },
      {
        "duration": 316,
        "start_time": "2021-12-22T17:25:59.066Z"
      },
      {
        "duration": 285,
        "start_time": "2021-12-22T17:25:59.383Z"
      },
      {
        "duration": 9,
        "start_time": "2021-12-22T17:25:59.669Z"
      },
      {
        "duration": 20,
        "start_time": "2021-12-22T17:25:59.679Z"
      },
      {
        "duration": 10,
        "start_time": "2021-12-22T17:25:59.701Z"
      },
      {
        "duration": 49,
        "start_time": "2021-12-22T17:25:59.713Z"
      },
      {
        "duration": 8,
        "start_time": "2021-12-22T17:25:59.764Z"
      },
      {
        "duration": 11,
        "start_time": "2021-12-22T17:25:59.774Z"
      },
      {
        "duration": 17,
        "start_time": "2021-12-22T17:25:59.787Z"
      },
      {
        "duration": 13,
        "start_time": "2021-12-22T17:25:59.805Z"
      },
      {
        "duration": 10,
        "start_time": "2021-12-22T17:25:59.820Z"
      },
      {
        "duration": 317,
        "start_time": "2021-12-22T17:25:59.832Z"
      },
      {
        "duration": 368,
        "start_time": "2021-12-22T17:26:00.151Z"
      },
      {
        "duration": 289,
        "start_time": "2021-12-22T17:26:00.521Z"
      },
      {
        "duration": 11,
        "start_time": "2021-12-22T17:26:00.813Z"
      },
      {
        "duration": 41,
        "start_time": "2021-12-22T17:26:00.825Z"
      },
      {
        "duration": 964,
        "start_time": "2021-12-22T17:26:00.868Z"
      },
      {
        "duration": 282,
        "start_time": "2021-12-22T17:26:01.553Z"
      },
      {
        "duration": 280,
        "start_time": "2021-12-22T17:26:01.556Z"
      },
      {
        "duration": 278,
        "start_time": "2021-12-22T17:26:01.559Z"
      },
      {
        "duration": 278,
        "start_time": "2021-12-22T17:26:01.561Z"
      },
      {
        "duration": 276,
        "start_time": "2021-12-22T17:26:01.564Z"
      },
      {
        "duration": 1212,
        "start_time": "2021-12-22T17:29:55.618Z"
      },
      {
        "duration": 57,
        "start_time": "2021-12-22T17:29:56.832Z"
      },
      {
        "duration": 30,
        "start_time": "2021-12-22T17:29:56.891Z"
      },
      {
        "duration": 16,
        "start_time": "2021-12-22T17:29:56.923Z"
      },
      {
        "duration": 17,
        "start_time": "2021-12-22T17:29:56.960Z"
      },
      {
        "duration": 16,
        "start_time": "2021-12-22T17:29:56.979Z"
      },
      {
        "duration": 12,
        "start_time": "2021-12-22T17:29:56.996Z"
      },
      {
        "duration": 21,
        "start_time": "2021-12-22T17:29:57.011Z"
      },
      {
        "duration": 33,
        "start_time": "2021-12-22T17:29:57.034Z"
      },
      {
        "duration": 5,
        "start_time": "2021-12-22T17:29:57.068Z"
      },
      {
        "duration": 9,
        "start_time": "2021-12-22T17:29:57.074Z"
      },
      {
        "duration": 8,
        "start_time": "2021-12-22T17:29:57.085Z"
      },
      {
        "duration": 7,
        "start_time": "2021-12-22T17:29:57.095Z"
      },
      {
        "duration": 8,
        "start_time": "2021-12-22T17:29:57.103Z"
      },
      {
        "duration": 15,
        "start_time": "2021-12-22T17:29:57.112Z"
      },
      {
        "duration": 16,
        "start_time": "2021-12-22T17:29:57.129Z"
      },
      {
        "duration": 13,
        "start_time": "2021-12-22T17:29:57.146Z"
      },
      {
        "duration": 12,
        "start_time": "2021-12-22T17:29:57.161Z"
      },
      {
        "duration": 14,
        "start_time": "2021-12-22T17:29:57.174Z"
      },
      {
        "duration": 8,
        "start_time": "2021-12-22T17:29:57.189Z"
      },
      {
        "duration": 8,
        "start_time": "2021-12-22T17:29:57.198Z"
      },
      {
        "duration": 11,
        "start_time": "2021-12-22T17:29:57.208Z"
      },
      {
        "duration": 8,
        "start_time": "2021-12-22T17:29:57.224Z"
      },
      {
        "duration": 165,
        "start_time": "2021-12-22T17:29:57.234Z"
      },
      {
        "duration": 5,
        "start_time": "2021-12-22T17:29:57.402Z"
      },
      {
        "duration": 8,
        "start_time": "2021-12-22T17:29:57.408Z"
      },
      {
        "duration": 14,
        "start_time": "2021-12-22T17:29:57.418Z"
      },
      {
        "duration": 686,
        "start_time": "2021-12-22T17:29:57.434Z"
      },
      {
        "duration": 18,
        "start_time": "2021-12-22T17:29:58.122Z"
      },
      {
        "duration": 23,
        "start_time": "2021-12-22T17:29:58.142Z"
      },
      {
        "duration": 6,
        "start_time": "2021-12-22T17:29:58.167Z"
      },
      {
        "duration": 24,
        "start_time": "2021-12-22T17:29:58.175Z"
      },
      {
        "duration": 578,
        "start_time": "2021-12-22T17:29:58.200Z"
      },
      {
        "duration": 23,
        "start_time": "2021-12-22T17:29:58.780Z"
      },
      {
        "duration": 11,
        "start_time": "2021-12-22T17:29:58.805Z"
      },
      {
        "duration": 551,
        "start_time": "2021-12-22T17:29:58.818Z"
      },
      {
        "duration": 1290,
        "start_time": "2021-12-22T17:29:59.371Z"
      },
      {
        "duration": 1036,
        "start_time": "2021-12-22T17:30:00.663Z"
      },
      {
        "duration": 315,
        "start_time": "2021-12-22T17:30:01.701Z"
      },
      {
        "duration": 365,
        "start_time": "2021-12-22T17:30:02.019Z"
      },
      {
        "duration": 10,
        "start_time": "2021-12-22T17:30:02.387Z"
      },
      {
        "duration": 28,
        "start_time": "2021-12-22T17:30:02.399Z"
      },
      {
        "duration": 31,
        "start_time": "2021-12-22T17:30:02.430Z"
      },
      {
        "duration": 19,
        "start_time": "2021-12-22T17:30:02.463Z"
      },
      {
        "duration": 7,
        "start_time": "2021-12-22T17:30:02.483Z"
      },
      {
        "duration": 13,
        "start_time": "2021-12-22T17:30:02.492Z"
      },
      {
        "duration": 32,
        "start_time": "2021-12-22T17:30:02.507Z"
      },
      {
        "duration": 24,
        "start_time": "2021-12-22T17:30:02.541Z"
      },
      {
        "duration": 16,
        "start_time": "2021-12-22T17:30:02.567Z"
      },
      {
        "duration": 264,
        "start_time": "2021-12-22T17:30:02.585Z"
      },
      {
        "duration": 365,
        "start_time": "2021-12-22T17:30:02.850Z"
      },
      {
        "duration": 260,
        "start_time": "2021-12-22T17:30:03.216Z"
      },
      {
        "duration": 10,
        "start_time": "2021-12-22T17:30:03.478Z"
      },
      {
        "duration": 5,
        "start_time": "2021-12-22T17:30:03.490Z"
      },
      {
        "duration": 1011,
        "start_time": "2021-12-22T17:30:03.496Z"
      },
      {
        "duration": 7,
        "start_time": "2021-12-22T17:30:04.509Z"
      },
      {
        "duration": 395,
        "start_time": "2021-12-22T17:30:04.518Z"
      },
      {
        "duration": 960,
        "start_time": "2021-12-22T17:30:04.915Z"
      },
      {
        "duration": 362,
        "start_time": "2021-12-22T17:30:05.877Z"
      },
      {
        "duration": 973,
        "start_time": "2021-12-22T17:30:06.241Z"
      },
      {
        "duration": 28,
        "start_time": "2021-12-22T17:31:45.989Z"
      },
      {
        "duration": 1160,
        "start_time": "2021-12-22T17:33:02.256Z"
      },
      {
        "duration": 49,
        "start_time": "2021-12-22T17:33:03.417Z"
      },
      {
        "duration": 28,
        "start_time": "2021-12-22T17:33:03.470Z"
      },
      {
        "duration": 11,
        "start_time": "2021-12-22T17:33:03.500Z"
      },
      {
        "duration": 16,
        "start_time": "2021-12-22T17:33:03.513Z"
      },
      {
        "duration": 47,
        "start_time": "2021-12-22T17:33:03.530Z"
      },
      {
        "duration": 11,
        "start_time": "2021-12-22T17:33:03.579Z"
      },
      {
        "duration": 15,
        "start_time": "2021-12-22T17:33:03.592Z"
      },
      {
        "duration": 8,
        "start_time": "2021-12-22T17:33:03.609Z"
      },
      {
        "duration": 7,
        "start_time": "2021-12-22T17:33:03.618Z"
      },
      {
        "duration": 7,
        "start_time": "2021-12-22T17:33:03.661Z"
      },
      {
        "duration": 5,
        "start_time": "2021-12-22T17:33:03.669Z"
      },
      {
        "duration": 6,
        "start_time": "2021-12-22T17:33:03.676Z"
      },
      {
        "duration": 8,
        "start_time": "2021-12-22T17:33:03.683Z"
      },
      {
        "duration": 9,
        "start_time": "2021-12-22T17:33:03.692Z"
      },
      {
        "duration": 7,
        "start_time": "2021-12-22T17:33:03.703Z"
      },
      {
        "duration": 11,
        "start_time": "2021-12-22T17:33:03.711Z"
      },
      {
        "duration": 9,
        "start_time": "2021-12-22T17:33:03.724Z"
      },
      {
        "duration": 26,
        "start_time": "2021-12-22T17:33:03.735Z"
      },
      {
        "duration": 8,
        "start_time": "2021-12-22T17:33:03.764Z"
      },
      {
        "duration": 7,
        "start_time": "2021-12-22T17:33:03.774Z"
      },
      {
        "duration": 11,
        "start_time": "2021-12-22T17:33:03.785Z"
      },
      {
        "duration": 15,
        "start_time": "2021-12-22T17:33:03.799Z"
      },
      {
        "duration": 156,
        "start_time": "2021-12-22T17:33:03.816Z"
      },
      {
        "duration": 5,
        "start_time": "2021-12-22T17:33:03.974Z"
      },
      {
        "duration": 9,
        "start_time": "2021-12-22T17:33:03.981Z"
      },
      {
        "duration": 14,
        "start_time": "2021-12-22T17:33:03.992Z"
      },
      {
        "duration": 595,
        "start_time": "2021-12-22T17:33:04.008Z"
      },
      {
        "duration": 19,
        "start_time": "2021-12-22T17:33:04.604Z"
      },
      {
        "duration": 7,
        "start_time": "2021-12-22T17:33:04.624Z"
      },
      {
        "duration": 7,
        "start_time": "2021-12-22T17:33:04.633Z"
      },
      {
        "duration": 23,
        "start_time": "2021-12-22T17:33:04.661Z"
      },
      {
        "duration": 474,
        "start_time": "2021-12-22T17:33:04.686Z"
      },
      {
        "duration": 382,
        "start_time": "2021-12-22T17:33:05.162Z"
      },
      {
        "duration": 308,
        "start_time": "2021-12-22T17:33:05.238Z"
      },
      {
        "duration": 306,
        "start_time": "2021-12-22T17:33:05.241Z"
      },
      {
        "duration": 304,
        "start_time": "2021-12-22T17:33:05.244Z"
      },
      {
        "duration": 302,
        "start_time": "2021-12-22T17:33:05.247Z"
      },
      {
        "duration": 289,
        "start_time": "2021-12-22T17:33:05.261Z"
      },
      {
        "duration": 287,
        "start_time": "2021-12-22T17:33:05.264Z"
      },
      {
        "duration": 285,
        "start_time": "2021-12-22T17:33:05.267Z"
      },
      {
        "duration": 284,
        "start_time": "2021-12-22T17:33:05.269Z"
      },
      {
        "duration": 282,
        "start_time": "2021-12-22T17:33:05.272Z"
      },
      {
        "duration": 280,
        "start_time": "2021-12-22T17:33:05.275Z"
      },
      {
        "duration": 277,
        "start_time": "2021-12-22T17:33:05.279Z"
      },
      {
        "duration": 270,
        "start_time": "2021-12-22T17:33:05.287Z"
      },
      {
        "duration": 268,
        "start_time": "2021-12-22T17:33:05.290Z"
      },
      {
        "duration": 266,
        "start_time": "2021-12-22T17:33:05.293Z"
      },
      {
        "duration": 264,
        "start_time": "2021-12-22T17:33:05.296Z"
      },
      {
        "duration": 262,
        "start_time": "2021-12-22T17:33:05.299Z"
      },
      {
        "duration": 261,
        "start_time": "2021-12-22T17:33:05.302Z"
      },
      {
        "duration": 259,
        "start_time": "2021-12-22T17:33:05.305Z"
      },
      {
        "duration": 255,
        "start_time": "2021-12-22T17:33:05.309Z"
      },
      {
        "duration": 252,
        "start_time": "2021-12-22T17:33:05.313Z"
      },
      {
        "duration": 251,
        "start_time": "2021-12-22T17:33:05.315Z"
      },
      {
        "duration": 249,
        "start_time": "2021-12-22T17:33:05.318Z"
      },
      {
        "duration": 241,
        "start_time": "2021-12-22T17:33:05.327Z"
      },
      {
        "duration": 238,
        "start_time": "2021-12-22T17:33:05.331Z"
      },
      {
        "duration": 237,
        "start_time": "2021-12-22T17:33:05.333Z"
      },
      {
        "duration": 235,
        "start_time": "2021-12-22T17:33:05.336Z"
      },
      {
        "duration": 1175,
        "start_time": "2021-12-22T17:33:50.650Z"
      },
      {
        "duration": 65,
        "start_time": "2021-12-22T17:33:51.827Z"
      },
      {
        "duration": 34,
        "start_time": "2021-12-22T17:33:51.895Z"
      },
      {
        "duration": 35,
        "start_time": "2021-12-22T17:33:51.931Z"
      },
      {
        "duration": 18,
        "start_time": "2021-12-22T17:33:51.968Z"
      },
      {
        "duration": 17,
        "start_time": "2021-12-22T17:33:51.988Z"
      },
      {
        "duration": 11,
        "start_time": "2021-12-22T17:33:52.008Z"
      },
      {
        "duration": 45,
        "start_time": "2021-12-22T17:33:52.021Z"
      },
      {
        "duration": 8,
        "start_time": "2021-12-22T17:33:52.067Z"
      },
      {
        "duration": 9,
        "start_time": "2021-12-22T17:33:52.076Z"
      },
      {
        "duration": 16,
        "start_time": "2021-12-22T17:33:52.086Z"
      },
      {
        "duration": 6,
        "start_time": "2021-12-22T17:33:52.104Z"
      },
      {
        "duration": 5,
        "start_time": "2021-12-22T17:33:52.113Z"
      },
      {
        "duration": 6,
        "start_time": "2021-12-22T17:33:52.120Z"
      },
      {
        "duration": 7,
        "start_time": "2021-12-22T17:33:52.128Z"
      },
      {
        "duration": 25,
        "start_time": "2021-12-22T17:33:52.137Z"
      },
      {
        "duration": 7,
        "start_time": "2021-12-22T17:33:52.164Z"
      },
      {
        "duration": 8,
        "start_time": "2021-12-22T17:33:52.176Z"
      },
      {
        "duration": 13,
        "start_time": "2021-12-22T17:33:52.186Z"
      },
      {
        "duration": 8,
        "start_time": "2021-12-22T17:33:52.200Z"
      },
      {
        "duration": 7,
        "start_time": "2021-12-22T17:33:52.210Z"
      },
      {
        "duration": 11,
        "start_time": "2021-12-22T17:33:52.219Z"
      },
      {
        "duration": 32,
        "start_time": "2021-12-22T17:33:52.231Z"
      },
      {
        "duration": 143,
        "start_time": "2021-12-22T17:33:52.265Z"
      },
      {
        "duration": 5,
        "start_time": "2021-12-22T17:33:52.410Z"
      },
      {
        "duration": 10,
        "start_time": "2021-12-22T17:33:52.416Z"
      },
      {
        "duration": 14,
        "start_time": "2021-12-22T17:33:52.428Z"
      },
      {
        "duration": 570,
        "start_time": "2021-12-22T17:33:52.444Z"
      },
      {
        "duration": 17,
        "start_time": "2021-12-22T17:33:53.016Z"
      },
      {
        "duration": 32,
        "start_time": "2021-12-22T17:33:53.035Z"
      },
      {
        "duration": 3,
        "start_time": "2021-12-22T17:33:53.069Z"
      },
      {
        "duration": 35,
        "start_time": "2021-12-22T17:33:53.074Z"
      },
      {
        "duration": 697,
        "start_time": "2021-12-22T17:33:53.111Z"
      },
      {
        "duration": 54,
        "start_time": "2021-12-22T17:33:53.811Z"
      },
      {
        "duration": 14,
        "start_time": "2021-12-22T17:33:53.867Z"
      },
      {
        "duration": 525,
        "start_time": "2021-12-22T17:33:53.883Z"
      },
      {
        "duration": 302,
        "start_time": "2021-12-22T17:33:54.108Z"
      },
      {
        "duration": 299,
        "start_time": "2021-12-22T17:33:54.111Z"
      },
      {
        "duration": 297,
        "start_time": "2021-12-22T17:33:54.114Z"
      },
      {
        "duration": 295,
        "start_time": "2021-12-22T17:33:54.117Z"
      },
      {
        "duration": 294,
        "start_time": "2021-12-22T17:33:54.119Z"
      },
      {
        "duration": 292,
        "start_time": "2021-12-22T17:33:54.122Z"
      },
      {
        "duration": 290,
        "start_time": "2021-12-22T17:33:54.125Z"
      },
      {
        "duration": 288,
        "start_time": "2021-12-22T17:33:54.128Z"
      },
      {
        "duration": 285,
        "start_time": "2021-12-22T17:33:54.131Z"
      },
      {
        "duration": 283,
        "start_time": "2021-12-22T17:33:54.134Z"
      },
      {
        "duration": 276,
        "start_time": "2021-12-22T17:33:54.142Z"
      },
      {
        "duration": 274,
        "start_time": "2021-12-22T17:33:54.145Z"
      },
      {
        "duration": 272,
        "start_time": "2021-12-22T17:33:54.148Z"
      },
      {
        "duration": 270,
        "start_time": "2021-12-22T17:33:54.151Z"
      },
      {
        "duration": 269,
        "start_time": "2021-12-22T17:33:54.153Z"
      },
      {
        "duration": 267,
        "start_time": "2021-12-22T17:33:54.156Z"
      },
      {
        "duration": 265,
        "start_time": "2021-12-22T17:33:54.159Z"
      },
      {
        "duration": 262,
        "start_time": "2021-12-22T17:33:54.162Z"
      },
      {
        "duration": 260,
        "start_time": "2021-12-22T17:33:54.166Z"
      },
      {
        "duration": 257,
        "start_time": "2021-12-22T17:33:54.169Z"
      },
      {
        "duration": 254,
        "start_time": "2021-12-22T17:33:54.173Z"
      },
      {
        "duration": 252,
        "start_time": "2021-12-22T17:33:54.176Z"
      },
      {
        "duration": 250,
        "start_time": "2021-12-22T17:33:54.179Z"
      },
      {
        "duration": 248,
        "start_time": "2021-12-22T17:33:54.182Z"
      },
      {
        "duration": 14,
        "start_time": "2021-12-22T17:35:31.636Z"
      },
      {
        "duration": 12,
        "start_time": "2021-12-22T17:36:14.081Z"
      },
      {
        "duration": 25,
        "start_time": "2021-12-22T17:36:46.113Z"
      },
      {
        "duration": 7,
        "start_time": "2021-12-22T17:37:55.676Z"
      },
      {
        "duration": 6,
        "start_time": "2021-12-22T17:38:29.263Z"
      },
      {
        "duration": 7,
        "start_time": "2021-12-22T17:38:43.633Z"
      },
      {
        "duration": 1189,
        "start_time": "2021-12-22T17:39:06.180Z"
      },
      {
        "duration": 54,
        "start_time": "2021-12-22T17:39:07.371Z"
      },
      {
        "duration": 35,
        "start_time": "2021-12-22T17:39:07.427Z"
      },
      {
        "duration": 13,
        "start_time": "2021-12-22T17:39:07.464Z"
      },
      {
        "duration": 18,
        "start_time": "2021-12-22T17:39:07.479Z"
      },
      {
        "duration": 16,
        "start_time": "2021-12-22T17:39:07.498Z"
      },
      {
        "duration": 11,
        "start_time": "2021-12-22T17:39:07.516Z"
      },
      {
        "duration": 16,
        "start_time": "2021-12-22T17:39:07.563Z"
      },
      {
        "duration": 8,
        "start_time": "2021-12-22T17:39:07.581Z"
      },
      {
        "duration": 5,
        "start_time": "2021-12-22T17:39:07.591Z"
      },
      {
        "duration": 8,
        "start_time": "2021-12-22T17:39:07.597Z"
      },
      {
        "duration": 6,
        "start_time": "2021-12-22T17:39:07.607Z"
      },
      {
        "duration": 6,
        "start_time": "2021-12-22T17:39:07.614Z"
      },
      {
        "duration": 5,
        "start_time": "2021-12-22T17:39:07.622Z"
      },
      {
        "duration": 32,
        "start_time": "2021-12-22T17:39:07.628Z"
      },
      {
        "duration": 10,
        "start_time": "2021-12-22T17:39:07.662Z"
      },
      {
        "duration": 8,
        "start_time": "2021-12-22T17:39:07.674Z"
      },
      {
        "duration": 9,
        "start_time": "2021-12-22T17:39:07.683Z"
      },
      {
        "duration": 10,
        "start_time": "2021-12-22T17:39:07.694Z"
      },
      {
        "duration": 10,
        "start_time": "2021-12-22T17:39:07.706Z"
      },
      {
        "duration": 8,
        "start_time": "2021-12-22T17:39:07.717Z"
      },
      {
        "duration": 36,
        "start_time": "2021-12-22T17:39:07.727Z"
      },
      {
        "duration": 9,
        "start_time": "2021-12-22T17:39:07.767Z"
      },
      {
        "duration": 159,
        "start_time": "2021-12-22T17:39:07.778Z"
      },
      {
        "duration": 5,
        "start_time": "2021-12-22T17:39:07.938Z"
      },
      {
        "duration": 19,
        "start_time": "2021-12-22T17:39:07.944Z"
      },
      {
        "duration": 14,
        "start_time": "2021-12-22T17:39:07.965Z"
      },
      {
        "duration": 569,
        "start_time": "2021-12-22T17:39:07.980Z"
      },
      {
        "duration": 22,
        "start_time": "2021-12-22T17:39:08.550Z"
      },
      {
        "duration": 7,
        "start_time": "2021-12-22T17:39:08.574Z"
      },
      {
        "duration": 4,
        "start_time": "2021-12-22T17:39:08.582Z"
      },
      {
        "duration": 24,
        "start_time": "2021-12-22T17:39:08.588Z"
      },
      {
        "duration": 451,
        "start_time": "2021-12-22T17:39:08.614Z"
      },
      {
        "duration": 26,
        "start_time": "2021-12-22T17:39:09.067Z"
      },
      {
        "duration": 12,
        "start_time": "2021-12-22T17:39:09.094Z"
      },
      {
        "duration": 771,
        "start_time": "2021-12-22T17:39:09.107Z"
      },
      {
        "duration": 1388,
        "start_time": "2021-12-22T17:39:09.880Z"
      },
      {
        "duration": 974,
        "start_time": "2021-12-22T17:39:11.270Z"
      },
      {
        "duration": 315,
        "start_time": "2021-12-22T17:39:12.245Z"
      },
      {
        "duration": 290,
        "start_time": "2021-12-22T17:39:12.562Z"
      },
      {
        "duration": 12,
        "start_time": "2021-12-22T17:39:12.854Z"
      },
      {
        "duration": 17,
        "start_time": "2021-12-22T17:39:12.868Z"
      },
      {
        "duration": 9,
        "start_time": "2021-12-22T17:39:12.887Z"
      },
      {
        "duration": 16,
        "start_time": "2021-12-22T17:39:12.897Z"
      },
      {
        "duration": 5,
        "start_time": "2021-12-22T17:39:12.915Z"
      },
      {
        "duration": 41,
        "start_time": "2021-12-22T17:39:12.922Z"
      },
      {
        "duration": 18,
        "start_time": "2021-12-22T17:39:12.965Z"
      },
      {
        "duration": 6,
        "start_time": "2021-12-22T17:39:12.985Z"
      },
      {
        "duration": 7,
        "start_time": "2021-12-22T17:39:12.992Z"
      },
      {
        "duration": 258,
        "start_time": "2021-12-22T17:39:13.000Z"
      },
      {
        "duration": 328,
        "start_time": "2021-12-22T17:39:13.259Z"
      },
      {
        "duration": 235,
        "start_time": "2021-12-22T17:39:13.589Z"
      },
      {
        "duration": 11,
        "start_time": "2021-12-22T17:39:13.826Z"
      },
      {
        "duration": 13,
        "start_time": "2021-12-22T17:39:13.838Z"
      },
      {
        "duration": 919,
        "start_time": "2021-12-22T17:39:13.853Z"
      },
      {
        "duration": 8,
        "start_time": "2021-12-22T17:39:14.774Z"
      },
      {
        "duration": 376,
        "start_time": "2021-12-22T17:39:14.784Z"
      },
      {
        "duration": 951,
        "start_time": "2021-12-22T17:39:15.162Z"
      },
      {
        "duration": 363,
        "start_time": "2021-12-22T17:39:16.114Z"
      },
      {
        "duration": 935,
        "start_time": "2021-12-22T17:39:16.479Z"
      },
      {
        "duration": 300,
        "start_time": "2021-12-22T17:50:59.684Z"
      },
      {
        "duration": 710,
        "start_time": "2021-12-22T17:51:08.546Z"
      },
      {
        "duration": 3208,
        "start_time": "2021-12-22T17:51:59.216Z"
      },
      {
        "duration": 14035,
        "start_time": "2021-12-22T17:52:18.733Z"
      },
      {
        "duration": 462,
        "start_time": "2021-12-22T17:56:37.870Z"
      },
      {
        "duration": 9,
        "start_time": "2021-12-22T17:58:17.399Z"
      },
      {
        "duration": 7,
        "start_time": "2021-12-22T18:00:26.325Z"
      },
      {
        "duration": 14568,
        "start_time": "2021-12-22T18:08:49.933Z"
      },
      {
        "duration": 3306,
        "start_time": "2021-12-22T18:09:18.165Z"
      },
      {
        "duration": 695,
        "start_time": "2021-12-22T18:10:20.965Z"
      },
      {
        "duration": 295,
        "start_time": "2021-12-22T18:11:12.573Z"
      },
      {
        "duration": 675,
        "start_time": "2021-12-22T18:11:15.742Z"
      },
      {
        "duration": 480,
        "start_time": "2021-12-22T18:17:23.652Z"
      },
      {
        "duration": 499,
        "start_time": "2021-12-22T18:17:58.701Z"
      },
      {
        "duration": 502,
        "start_time": "2021-12-22T18:18:08.276Z"
      },
      {
        "duration": 772,
        "start_time": "2021-12-22T18:19:18.846Z"
      },
      {
        "duration": 525,
        "start_time": "2021-12-22T18:19:30.489Z"
      },
      {
        "duration": 511,
        "start_time": "2021-12-22T18:21:50.579Z"
      },
      {
        "duration": 488,
        "start_time": "2021-12-22T18:22:05.751Z"
      },
      {
        "duration": 1118,
        "start_time": "2021-12-22T18:22:16.495Z"
      },
      {
        "duration": 61,
        "start_time": "2021-12-22T18:22:17.615Z"
      },
      {
        "duration": 28,
        "start_time": "2021-12-22T18:22:17.678Z"
      },
      {
        "duration": 11,
        "start_time": "2021-12-22T18:22:17.708Z"
      },
      {
        "duration": 17,
        "start_time": "2021-12-22T18:22:17.721Z"
      },
      {
        "duration": 34,
        "start_time": "2021-12-22T18:22:17.739Z"
      },
      {
        "duration": 11,
        "start_time": "2021-12-22T18:22:17.774Z"
      },
      {
        "duration": 16,
        "start_time": "2021-12-22T18:22:17.787Z"
      },
      {
        "duration": 6,
        "start_time": "2021-12-22T18:22:17.805Z"
      },
      {
        "duration": 6,
        "start_time": "2021-12-22T18:22:17.813Z"
      },
      {
        "duration": 12,
        "start_time": "2021-12-22T18:22:17.820Z"
      },
      {
        "duration": 30,
        "start_time": "2021-12-22T18:22:17.833Z"
      },
      {
        "duration": 5,
        "start_time": "2021-12-22T18:22:17.864Z"
      },
      {
        "duration": 5,
        "start_time": "2021-12-22T18:22:17.871Z"
      },
      {
        "duration": 5,
        "start_time": "2021-12-22T18:22:17.878Z"
      },
      {
        "duration": 8,
        "start_time": "2021-12-22T18:22:17.885Z"
      },
      {
        "duration": 8,
        "start_time": "2021-12-22T18:22:17.894Z"
      },
      {
        "duration": 8,
        "start_time": "2021-12-22T18:22:17.903Z"
      },
      {
        "duration": 9,
        "start_time": "2021-12-22T18:22:17.912Z"
      },
      {
        "duration": 9,
        "start_time": "2021-12-22T18:22:17.922Z"
      },
      {
        "duration": 33,
        "start_time": "2021-12-22T18:22:17.932Z"
      },
      {
        "duration": 10,
        "start_time": "2021-12-22T18:22:17.967Z"
      },
      {
        "duration": 7,
        "start_time": "2021-12-22T18:22:17.980Z"
      },
      {
        "duration": 147,
        "start_time": "2021-12-22T18:22:17.989Z"
      },
      {
        "duration": 4,
        "start_time": "2021-12-22T18:22:18.137Z"
      },
      {
        "duration": 18,
        "start_time": "2021-12-22T18:22:18.142Z"
      },
      {
        "duration": 11,
        "start_time": "2021-12-22T18:22:18.162Z"
      },
      {
        "duration": 535,
        "start_time": "2021-12-22T18:22:18.174Z"
      },
      {
        "duration": 17,
        "start_time": "2021-12-22T18:22:18.710Z"
      },
      {
        "duration": 8,
        "start_time": "2021-12-22T18:22:18.728Z"
      },
      {
        "duration": 24,
        "start_time": "2021-12-22T18:22:18.737Z"
      },
      {
        "duration": 25,
        "start_time": "2021-12-22T18:22:18.763Z"
      },
      {
        "duration": 421,
        "start_time": "2021-12-22T18:22:18.789Z"
      },
      {
        "duration": 24,
        "start_time": "2021-12-22T18:22:19.212Z"
      },
      {
        "duration": 28,
        "start_time": "2021-12-22T18:22:19.238Z"
      },
      {
        "duration": 763,
        "start_time": "2021-12-22T18:22:19.267Z"
      },
      {
        "duration": 1310,
        "start_time": "2021-12-22T18:22:20.031Z"
      },
      {
        "duration": 986,
        "start_time": "2021-12-22T18:22:21.343Z"
      },
      {
        "duration": 329,
        "start_time": "2021-12-22T18:22:22.331Z"
      },
      {
        "duration": 290,
        "start_time": "2021-12-22T18:22:22.663Z"
      },
      {
        "duration": 7,
        "start_time": "2021-12-22T18:22:22.960Z"
      },
      {
        "duration": 25,
        "start_time": "2021-12-22T18:22:22.969Z"
      },
      {
        "duration": 9,
        "start_time": "2021-12-22T18:22:22.996Z"
      },
      {
        "duration": 18,
        "start_time": "2021-12-22T18:22:23.007Z"
      },
      {
        "duration": 38,
        "start_time": "2021-12-22T18:22:23.027Z"
      },
      {
        "duration": 8,
        "start_time": "2021-12-22T18:22:23.067Z"
      },
      {
        "duration": 16,
        "start_time": "2021-12-22T18:22:23.077Z"
      },
      {
        "duration": 6,
        "start_time": "2021-12-22T18:22:23.095Z"
      },
      {
        "duration": 8,
        "start_time": "2021-12-22T18:22:23.103Z"
      },
      {
        "duration": 261,
        "start_time": "2021-12-22T18:22:23.113Z"
      },
      {
        "duration": 332,
        "start_time": "2021-12-22T18:22:23.376Z"
      },
      {
        "duration": 226,
        "start_time": "2021-12-22T18:22:23.710Z"
      },
      {
        "duration": 11,
        "start_time": "2021-12-22T18:22:23.938Z"
      },
      {
        "duration": 14,
        "start_time": "2021-12-22T18:22:23.950Z"
      },
      {
        "duration": 919,
        "start_time": "2021-12-22T18:22:23.965Z"
      },
      {
        "duration": 7,
        "start_time": "2021-12-22T18:22:24.885Z"
      },
      {
        "duration": 342,
        "start_time": "2021-12-22T18:22:24.893Z"
      },
      {
        "duration": 969,
        "start_time": "2021-12-22T18:22:25.237Z"
      },
      {
        "duration": 398,
        "start_time": "2021-12-22T18:22:26.208Z"
      },
      {
        "duration": 939,
        "start_time": "2021-12-22T18:22:26.607Z"
      },
      {
        "duration": 1313,
        "start_time": "2021-12-22T18:23:53.236Z"
      },
      {
        "duration": 91,
        "start_time": "2021-12-22T18:23:54.552Z"
      },
      {
        "duration": 50,
        "start_time": "2021-12-22T18:23:54.654Z"
      },
      {
        "duration": 15,
        "start_time": "2021-12-22T18:23:54.706Z"
      },
      {
        "duration": 20,
        "start_time": "2021-12-22T18:23:54.723Z"
      },
      {
        "duration": 29,
        "start_time": "2021-12-22T18:23:54.745Z"
      },
      {
        "duration": 12,
        "start_time": "2021-12-22T18:23:54.777Z"
      },
      {
        "duration": 16,
        "start_time": "2021-12-22T18:23:54.791Z"
      },
      {
        "duration": 9,
        "start_time": "2021-12-22T18:23:54.809Z"
      },
      {
        "duration": 7,
        "start_time": "2021-12-22T18:23:54.819Z"
      },
      {
        "duration": 38,
        "start_time": "2021-12-22T18:23:54.828Z"
      },
      {
        "duration": 9,
        "start_time": "2021-12-22T18:23:54.868Z"
      },
      {
        "duration": 6,
        "start_time": "2021-12-22T18:23:54.878Z"
      },
      {
        "duration": 5,
        "start_time": "2021-12-22T18:23:54.886Z"
      },
      {
        "duration": 6,
        "start_time": "2021-12-22T18:23:54.893Z"
      },
      {
        "duration": 7,
        "start_time": "2021-12-22T18:23:54.901Z"
      },
      {
        "duration": 11,
        "start_time": "2021-12-22T18:23:54.909Z"
      },
      {
        "duration": 12,
        "start_time": "2021-12-22T18:23:54.921Z"
      },
      {
        "duration": 11,
        "start_time": "2021-12-22T18:23:54.934Z"
      },
      {
        "duration": 13,
        "start_time": "2021-12-22T18:23:54.947Z"
      },
      {
        "duration": 7,
        "start_time": "2021-12-22T18:23:54.962Z"
      },
      {
        "duration": 15,
        "start_time": "2021-12-22T18:23:54.972Z"
      },
      {
        "duration": 7,
        "start_time": "2021-12-22T18:23:54.989Z"
      },
      {
        "duration": 152,
        "start_time": "2021-12-22T18:23:54.997Z"
      },
      {
        "duration": 11,
        "start_time": "2021-12-22T18:23:55.151Z"
      },
      {
        "duration": 10,
        "start_time": "2021-12-22T18:23:55.163Z"
      },
      {
        "duration": 12,
        "start_time": "2021-12-22T18:23:55.174Z"
      },
      {
        "duration": 582,
        "start_time": "2021-12-22T18:23:55.187Z"
      },
      {
        "duration": 16,
        "start_time": "2021-12-22T18:23:55.771Z"
      },
      {
        "duration": 8,
        "start_time": "2021-12-22T18:23:55.789Z"
      },
      {
        "duration": 7,
        "start_time": "2021-12-22T18:23:55.798Z"
      },
      {
        "duration": 27,
        "start_time": "2021-12-22T18:23:55.806Z"
      },
      {
        "duration": 459,
        "start_time": "2021-12-22T18:23:55.834Z"
      },
      {
        "duration": 27,
        "start_time": "2021-12-22T18:23:56.294Z"
      },
      {
        "duration": 12,
        "start_time": "2021-12-22T18:23:56.322Z"
      },
      {
        "duration": 784,
        "start_time": "2021-12-22T18:23:56.336Z"
      },
      {
        "duration": 1340,
        "start_time": "2021-12-22T18:23:57.122Z"
      },
      {
        "duration": 1001,
        "start_time": "2021-12-22T18:23:58.464Z"
      },
      {
        "duration": 337,
        "start_time": "2021-12-22T18:23:59.467Z"
      },
      {
        "duration": 313,
        "start_time": "2021-12-22T18:23:59.806Z"
      },
      {
        "duration": 7,
        "start_time": "2021-12-22T18:24:00.121Z"
      },
      {
        "duration": 33,
        "start_time": "2021-12-22T18:24:00.129Z"
      },
      {
        "duration": 9,
        "start_time": "2021-12-22T18:24:00.164Z"
      },
      {
        "duration": 21,
        "start_time": "2021-12-22T18:24:00.175Z"
      },
      {
        "duration": 9,
        "start_time": "2021-12-22T18:24:00.197Z"
      },
      {
        "duration": 9,
        "start_time": "2021-12-22T18:24:00.208Z"
      },
      {
        "duration": 42,
        "start_time": "2021-12-22T18:24:00.219Z"
      },
      {
        "duration": 7,
        "start_time": "2021-12-22T18:24:00.262Z"
      },
      {
        "duration": 11,
        "start_time": "2021-12-22T18:24:00.270Z"
      },
      {
        "duration": 241,
        "start_time": "2021-12-22T18:24:00.283Z"
      },
      {
        "duration": 341,
        "start_time": "2021-12-22T18:24:00.526Z"
      },
      {
        "duration": 239,
        "start_time": "2021-12-22T18:24:00.869Z"
      },
      {
        "duration": 11,
        "start_time": "2021-12-22T18:24:01.110Z"
      },
      {
        "duration": 13,
        "start_time": "2021-12-22T18:24:01.123Z"
      },
      {
        "duration": 982,
        "start_time": "2021-12-22T18:24:01.137Z"
      },
      {
        "duration": 7,
        "start_time": "2021-12-22T18:24:02.121Z"
      },
      {
        "duration": 424,
        "start_time": "2021-12-22T18:24:02.130Z"
      },
      {
        "duration": 926,
        "start_time": "2021-12-22T18:24:02.556Z"
      },
      {
        "duration": 400,
        "start_time": "2021-12-22T18:24:03.484Z"
      },
      {
        "duration": 942,
        "start_time": "2021-12-22T18:24:03.886Z"
      },
      {
        "duration": 1158,
        "start_time": "2021-12-22T18:34:48.861Z"
      },
      {
        "duration": 56,
        "start_time": "2021-12-22T18:34:50.021Z"
      },
      {
        "duration": 36,
        "start_time": "2021-12-22T18:34:50.079Z"
      },
      {
        "duration": 29,
        "start_time": "2021-12-22T18:34:50.117Z"
      },
      {
        "duration": 49,
        "start_time": "2021-12-22T18:34:50.147Z"
      },
      {
        "duration": 46,
        "start_time": "2021-12-22T18:34:50.198Z"
      },
      {
        "duration": 16,
        "start_time": "2021-12-22T18:34:50.246Z"
      },
      {
        "duration": 37,
        "start_time": "2021-12-22T18:34:50.265Z"
      },
      {
        "duration": 40,
        "start_time": "2021-12-22T18:34:50.305Z"
      },
      {
        "duration": 6,
        "start_time": "2021-12-22T18:34:50.348Z"
      },
      {
        "duration": 35,
        "start_time": "2021-12-22T18:34:50.356Z"
      },
      {
        "duration": 14,
        "start_time": "2021-12-22T18:34:50.393Z"
      },
      {
        "duration": 18,
        "start_time": "2021-12-22T18:34:50.408Z"
      },
      {
        "duration": 10,
        "start_time": "2021-12-22T18:34:50.427Z"
      },
      {
        "duration": 6,
        "start_time": "2021-12-22T18:34:50.439Z"
      },
      {
        "duration": 8,
        "start_time": "2021-12-22T18:34:50.447Z"
      },
      {
        "duration": 9,
        "start_time": "2021-12-22T18:34:50.457Z"
      },
      {
        "duration": 10,
        "start_time": "2021-12-22T18:34:50.468Z"
      },
      {
        "duration": 12,
        "start_time": "2021-12-22T18:34:50.481Z"
      },
      {
        "duration": 26,
        "start_time": "2021-12-22T18:34:50.495Z"
      },
      {
        "duration": 28,
        "start_time": "2021-12-22T18:34:50.523Z"
      },
      {
        "duration": 14,
        "start_time": "2021-12-22T18:34:50.553Z"
      },
      {
        "duration": 8,
        "start_time": "2021-12-22T18:34:50.572Z"
      },
      {
        "duration": 147,
        "start_time": "2021-12-22T18:34:50.582Z"
      },
      {
        "duration": 4,
        "start_time": "2021-12-22T18:34:50.731Z"
      },
      {
        "duration": 10,
        "start_time": "2021-12-22T18:34:50.736Z"
      },
      {
        "duration": 22,
        "start_time": "2021-12-22T18:34:50.748Z"
      },
      {
        "duration": 565,
        "start_time": "2021-12-22T18:34:50.771Z"
      },
      {
        "duration": 24,
        "start_time": "2021-12-22T18:34:51.337Z"
      },
      {
        "duration": 7,
        "start_time": "2021-12-22T18:34:51.363Z"
      },
      {
        "duration": 5,
        "start_time": "2021-12-22T18:34:51.372Z"
      },
      {
        "duration": 27,
        "start_time": "2021-12-22T18:34:51.379Z"
      },
      {
        "duration": 444,
        "start_time": "2021-12-22T18:34:51.408Z"
      },
      {
        "duration": 28,
        "start_time": "2021-12-22T18:34:51.853Z"
      },
      {
        "duration": 10,
        "start_time": "2021-12-22T18:34:51.883Z"
      },
      {
        "duration": 773,
        "start_time": "2021-12-22T18:34:51.895Z"
      },
      {
        "duration": 1298,
        "start_time": "2021-12-22T18:34:52.670Z"
      },
      {
        "duration": 1033,
        "start_time": "2021-12-22T18:34:53.970Z"
      },
      {
        "duration": 316,
        "start_time": "2021-12-22T18:34:55.005Z"
      },
      {
        "duration": 326,
        "start_time": "2021-12-22T18:34:55.322Z"
      },
      {
        "duration": 13,
        "start_time": "2021-12-22T18:34:55.650Z"
      },
      {
        "duration": 21,
        "start_time": "2021-12-22T18:34:55.665Z"
      },
      {
        "duration": 9,
        "start_time": "2021-12-22T18:34:55.688Z"
      },
      {
        "duration": 18,
        "start_time": "2021-12-22T18:34:55.698Z"
      },
      {
        "duration": 6,
        "start_time": "2021-12-22T18:34:55.718Z"
      },
      {
        "duration": 38,
        "start_time": "2021-12-22T18:34:55.725Z"
      },
      {
        "duration": 16,
        "start_time": "2021-12-22T18:34:55.765Z"
      },
      {
        "duration": 5,
        "start_time": "2021-12-22T18:34:55.783Z"
      },
      {
        "duration": 11,
        "start_time": "2021-12-22T18:34:55.790Z"
      },
      {
        "duration": 244,
        "start_time": "2021-12-22T18:34:55.802Z"
      },
      {
        "duration": 347,
        "start_time": "2021-12-22T18:34:56.047Z"
      },
      {
        "duration": 236,
        "start_time": "2021-12-22T18:34:56.395Z"
      },
      {
        "duration": 10,
        "start_time": "2021-12-22T18:34:56.633Z"
      },
      {
        "duration": 16,
        "start_time": "2021-12-22T18:34:56.644Z"
      },
      {
        "duration": 926,
        "start_time": "2021-12-22T18:34:56.662Z"
      },
      {
        "duration": 7,
        "start_time": "2021-12-22T18:34:57.590Z"
      },
      {
        "duration": 395,
        "start_time": "2021-12-22T18:34:57.599Z"
      },
      {
        "duration": 980,
        "start_time": "2021-12-22T18:34:57.996Z"
      },
      {
        "duration": 404,
        "start_time": "2021-12-22T18:34:58.978Z"
      },
      {
        "duration": 1006,
        "start_time": "2021-12-22T18:34:59.384Z"
      },
      {
        "duration": 1499,
        "start_time": "2021-12-23T04:18:46.944Z"
      },
      {
        "duration": 70,
        "start_time": "2021-12-23T04:18:48.446Z"
      },
      {
        "duration": 59,
        "start_time": "2021-12-23T04:18:48.519Z"
      },
      {
        "duration": 19,
        "start_time": "2021-12-23T04:18:48.580Z"
      },
      {
        "duration": 24,
        "start_time": "2021-12-23T04:18:48.601Z"
      },
      {
        "duration": 53,
        "start_time": "2021-12-23T04:18:48.628Z"
      },
      {
        "duration": 15,
        "start_time": "2021-12-23T04:18:48.683Z"
      },
      {
        "duration": 23,
        "start_time": "2021-12-23T04:18:48.702Z"
      },
      {
        "duration": 39,
        "start_time": "2021-12-23T04:18:48.727Z"
      },
      {
        "duration": 6,
        "start_time": "2021-12-23T04:18:48.769Z"
      },
      {
        "duration": 10,
        "start_time": "2021-12-23T04:18:48.777Z"
      },
      {
        "duration": 8,
        "start_time": "2021-12-23T04:18:48.789Z"
      },
      {
        "duration": 8,
        "start_time": "2021-12-23T04:18:48.799Z"
      },
      {
        "duration": 6,
        "start_time": "2021-12-23T04:18:48.809Z"
      },
      {
        "duration": 47,
        "start_time": "2021-12-23T04:18:48.817Z"
      },
      {
        "duration": 8,
        "start_time": "2021-12-23T04:18:48.867Z"
      },
      {
        "duration": 10,
        "start_time": "2021-12-23T04:18:48.877Z"
      },
      {
        "duration": 11,
        "start_time": "2021-12-23T04:18:48.889Z"
      },
      {
        "duration": 13,
        "start_time": "2021-12-23T04:18:48.903Z"
      },
      {
        "duration": 44,
        "start_time": "2021-12-23T04:18:48.918Z"
      },
      {
        "duration": 11,
        "start_time": "2021-12-23T04:18:48.964Z"
      },
      {
        "duration": 16,
        "start_time": "2021-12-23T04:18:48.977Z"
      },
      {
        "duration": 10,
        "start_time": "2021-12-23T04:18:48.999Z"
      },
      {
        "duration": 265,
        "start_time": "2021-12-23T04:18:49.012Z"
      },
      {
        "duration": 6,
        "start_time": "2021-12-23T04:18:49.279Z"
      },
      {
        "duration": 9,
        "start_time": "2021-12-23T04:18:49.287Z"
      },
      {
        "duration": 17,
        "start_time": "2021-12-23T04:18:49.299Z"
      },
      {
        "duration": 945,
        "start_time": "2021-12-23T04:18:49.319Z"
      },
      {
        "duration": 24,
        "start_time": "2021-12-23T04:18:50.266Z"
      },
      {
        "duration": 9,
        "start_time": "2021-12-23T04:18:50.292Z"
      },
      {
        "duration": 6,
        "start_time": "2021-12-23T04:18:50.303Z"
      },
      {
        "duration": 72,
        "start_time": "2021-12-23T04:18:50.311Z"
      },
      {
        "duration": 695,
        "start_time": "2021-12-23T04:18:50.386Z"
      },
      {
        "duration": 40,
        "start_time": "2021-12-23T04:18:51.083Z"
      },
      {
        "duration": 42,
        "start_time": "2021-12-23T04:18:51.126Z"
      },
      {
        "duration": 1189,
        "start_time": "2021-12-23T04:18:51.170Z"
      },
      {
        "duration": 1838,
        "start_time": "2021-12-23T04:18:52.361Z"
      },
      {
        "duration": 1397,
        "start_time": "2021-12-23T04:18:54.201Z"
      },
      {
        "duration": 450,
        "start_time": "2021-12-23T04:18:55.600Z"
      },
      {
        "duration": 395,
        "start_time": "2021-12-23T04:18:56.052Z"
      },
      {
        "duration": 13,
        "start_time": "2021-12-23T04:18:56.449Z"
      },
      {
        "duration": 27,
        "start_time": "2021-12-23T04:18:56.464Z"
      },
      {
        "duration": 13,
        "start_time": "2021-12-23T04:18:56.494Z"
      },
      {
        "duration": 64,
        "start_time": "2021-12-23T04:18:56.509Z"
      },
      {
        "duration": 9,
        "start_time": "2021-12-23T04:18:56.575Z"
      },
      {
        "duration": 12,
        "start_time": "2021-12-23T04:18:56.586Z"
      },
      {
        "duration": 24,
        "start_time": "2021-12-23T04:18:56.600Z"
      },
      {
        "duration": 37,
        "start_time": "2021-12-23T04:18:56.627Z"
      },
      {
        "duration": 9,
        "start_time": "2021-12-23T04:18:56.666Z"
      },
      {
        "duration": 391,
        "start_time": "2021-12-23T04:18:56.677Z"
      },
      {
        "duration": 462,
        "start_time": "2021-12-23T04:18:57.070Z"
      },
      {
        "duration": 379,
        "start_time": "2021-12-23T04:18:57.535Z"
      },
      {
        "duration": 15,
        "start_time": "2021-12-23T04:18:57.916Z"
      },
      {
        "duration": 26,
        "start_time": "2021-12-23T04:18:57.933Z"
      },
      {
        "duration": 1569,
        "start_time": "2021-12-23T04:18:57.961Z"
      },
      {
        "duration": 9,
        "start_time": "2021-12-23T04:18:59.532Z"
      },
      {
        "duration": 660,
        "start_time": "2021-12-23T04:18:59.544Z"
      },
      {
        "duration": 1612,
        "start_time": "2021-12-23T04:19:00.207Z"
      },
      {
        "duration": 665,
        "start_time": "2021-12-23T04:19:01.822Z"
      },
      {
        "duration": 1572,
        "start_time": "2021-12-23T04:19:02.490Z"
      },
      {
        "duration": 519,
        "start_time": "2021-12-23T04:32:58.496Z"
      },
      {
        "duration": 644,
        "start_time": "2021-12-23T04:33:15.369Z"
      },
      {
        "duration": 550,
        "start_time": "2021-12-23T04:33:27.189Z"
      },
      {
        "duration": 5,
        "start_time": "2021-12-23T04:45:56.587Z"
      },
      {
        "duration": 89,
        "start_time": "2021-12-23T12:22:14.698Z"
      },
      {
        "duration": 80,
        "start_time": "2021-12-23T12:22:48.905Z"
      },
      {
        "duration": 6,
        "start_time": "2021-12-23T12:23:23.679Z"
      },
      {
        "duration": 396,
        "start_time": "2021-12-23T12:26:34.989Z"
      },
      {
        "duration": 276,
        "start_time": "2021-12-23T12:28:22.043Z"
      },
      {
        "duration": 1239,
        "start_time": "2021-12-23T12:28:47.617Z"
      },
      {
        "duration": 65,
        "start_time": "2021-12-23T12:28:48.858Z"
      },
      {
        "duration": 33,
        "start_time": "2021-12-23T12:28:48.925Z"
      },
      {
        "duration": 13,
        "start_time": "2021-12-23T12:28:48.960Z"
      },
      {
        "duration": 22,
        "start_time": "2021-12-23T12:28:48.975Z"
      },
      {
        "duration": 18,
        "start_time": "2021-12-23T12:28:48.999Z"
      },
      {
        "duration": 37,
        "start_time": "2021-12-23T12:28:49.019Z"
      },
      {
        "duration": 15,
        "start_time": "2021-12-23T12:28:49.060Z"
      },
      {
        "duration": 8,
        "start_time": "2021-12-23T12:28:49.078Z"
      },
      {
        "duration": 12,
        "start_time": "2021-12-23T12:28:49.088Z"
      },
      {
        "duration": 9,
        "start_time": "2021-12-23T12:28:49.102Z"
      },
      {
        "duration": 29,
        "start_time": "2021-12-23T12:28:49.113Z"
      },
      {
        "duration": 8,
        "start_time": "2021-12-23T12:28:49.144Z"
      },
      {
        "duration": 10,
        "start_time": "2021-12-23T12:28:49.153Z"
      },
      {
        "duration": 11,
        "start_time": "2021-12-23T12:28:49.164Z"
      },
      {
        "duration": 11,
        "start_time": "2021-12-23T12:28:49.177Z"
      },
      {
        "duration": 21,
        "start_time": "2021-12-23T12:28:49.190Z"
      },
      {
        "duration": 16,
        "start_time": "2021-12-23T12:28:49.213Z"
      },
      {
        "duration": 18,
        "start_time": "2021-12-23T12:28:49.231Z"
      },
      {
        "duration": 14,
        "start_time": "2021-12-23T12:28:49.251Z"
      },
      {
        "duration": 13,
        "start_time": "2021-12-23T12:28:49.267Z"
      },
      {
        "duration": 19,
        "start_time": "2021-12-23T12:28:49.282Z"
      },
      {
        "duration": 10,
        "start_time": "2021-12-23T12:28:49.305Z"
      },
      {
        "duration": 154,
        "start_time": "2021-12-23T12:28:49.317Z"
      },
      {
        "duration": 5,
        "start_time": "2021-12-23T12:28:49.473Z"
      },
      {
        "duration": 326,
        "start_time": "2021-12-23T12:28:49.480Z"
      },
      {
        "duration": 7,
        "start_time": "2021-12-23T12:28:49.808Z"
      },
      {
        "duration": 28,
        "start_time": "2021-12-23T12:28:49.817Z"
      },
      {
        "duration": 659,
        "start_time": "2021-12-23T12:28:49.847Z"
      },
      {
        "duration": 16,
        "start_time": "2021-12-23T12:28:50.508Z"
      },
      {
        "duration": 24,
        "start_time": "2021-12-23T12:28:50.526Z"
      },
      {
        "duration": 9,
        "start_time": "2021-12-23T12:28:50.552Z"
      },
      {
        "duration": 26,
        "start_time": "2021-12-23T12:28:50.563Z"
      },
      {
        "duration": 529,
        "start_time": "2021-12-23T12:28:50.591Z"
      },
      {
        "duration": 37,
        "start_time": "2021-12-23T12:28:51.122Z"
      },
      {
        "duration": 17,
        "start_time": "2021-12-23T12:28:51.161Z"
      },
      {
        "duration": 778,
        "start_time": "2021-12-23T12:28:51.180Z"
      },
      {
        "duration": 1441,
        "start_time": "2021-12-23T12:28:51.960Z"
      },
      {
        "duration": 1073,
        "start_time": "2021-12-23T12:28:53.403Z"
      },
      {
        "duration": 334,
        "start_time": "2021-12-23T12:28:54.478Z"
      },
      {
        "duration": 320,
        "start_time": "2021-12-23T12:28:54.814Z"
      },
      {
        "duration": 301,
        "start_time": "2021-12-23T12:28:55.141Z"
      },
      {
        "duration": 1869,
        "start_time": "2021-12-23T12:28:53.576Z"
      },
      {
        "duration": 1867,
        "start_time": "2021-12-23T12:28:53.579Z"
      },
      {
        "duration": 1866,
        "start_time": "2021-12-23T12:28:53.582Z"
      },
      {
        "duration": 1863,
        "start_time": "2021-12-23T12:28:53.586Z"
      },
      {
        "duration": 1860,
        "start_time": "2021-12-23T12:28:53.590Z"
      },
      {
        "duration": 1859,
        "start_time": "2021-12-23T12:28:53.593Z"
      },
      {
        "duration": 1857,
        "start_time": "2021-12-23T12:28:53.596Z"
      },
      {
        "duration": 1855,
        "start_time": "2021-12-23T12:28:53.599Z"
      },
      {
        "duration": 1854,
        "start_time": "2021-12-23T12:28:53.602Z"
      },
      {
        "duration": 1850,
        "start_time": "2021-12-23T12:28:53.607Z"
      },
      {
        "duration": 1848,
        "start_time": "2021-12-23T12:28:53.610Z"
      },
      {
        "duration": 1846,
        "start_time": "2021-12-23T12:28:53.613Z"
      },
      {
        "duration": 1844,
        "start_time": "2021-12-23T12:28:53.616Z"
      },
      {
        "duration": 1841,
        "start_time": "2021-12-23T12:28:53.620Z"
      },
      {
        "duration": 1838,
        "start_time": "2021-12-23T12:28:53.624Z"
      },
      {
        "duration": 1835,
        "start_time": "2021-12-23T12:28:53.628Z"
      },
      {
        "duration": 1833,
        "start_time": "2021-12-23T12:28:53.631Z"
      },
      {
        "duration": 1831,
        "start_time": "2021-12-23T12:28:53.634Z"
      },
      {
        "duration": 1829,
        "start_time": "2021-12-23T12:28:53.637Z"
      },
      {
        "duration": 299,
        "start_time": "2021-12-23T12:29:37.641Z"
      },
      {
        "duration": 290,
        "start_time": "2021-12-23T12:29:43.327Z"
      },
      {
        "duration": 3286,
        "start_time": "2021-12-23T12:29:49.137Z"
      },
      {
        "duration": 91,
        "start_time": "2021-12-23T12:31:15.804Z"
      },
      {
        "duration": 3130,
        "start_time": "2021-12-23T12:31:20.844Z"
      },
      {
        "duration": 1267,
        "start_time": "2021-12-23T12:45:55.263Z"
      },
      {
        "duration": 54,
        "start_time": "2021-12-23T12:45:56.531Z"
      },
      {
        "duration": 33,
        "start_time": "2021-12-23T12:45:56.587Z"
      },
      {
        "duration": 25,
        "start_time": "2021-12-23T12:45:56.622Z"
      },
      {
        "duration": 25,
        "start_time": "2021-12-23T12:45:56.649Z"
      },
      {
        "duration": 23,
        "start_time": "2021-12-23T12:45:56.676Z"
      },
      {
        "duration": 11,
        "start_time": "2021-12-23T12:45:56.701Z"
      },
      {
        "duration": 40,
        "start_time": "2021-12-23T12:45:56.714Z"
      },
      {
        "duration": 9,
        "start_time": "2021-12-23T12:45:56.756Z"
      },
      {
        "duration": 10,
        "start_time": "2021-12-23T12:45:56.767Z"
      },
      {
        "duration": 20,
        "start_time": "2021-12-23T12:45:56.778Z"
      },
      {
        "duration": 10,
        "start_time": "2021-12-23T12:45:56.801Z"
      },
      {
        "duration": 17,
        "start_time": "2021-12-23T12:45:56.813Z"
      },
      {
        "duration": 12,
        "start_time": "2021-12-23T12:45:56.832Z"
      },
      {
        "duration": 14,
        "start_time": "2021-12-23T12:45:56.845Z"
      },
      {
        "duration": 18,
        "start_time": "2021-12-23T12:45:56.861Z"
      },
      {
        "duration": 19,
        "start_time": "2021-12-23T12:45:56.881Z"
      },
      {
        "duration": 24,
        "start_time": "2021-12-23T12:45:56.902Z"
      },
      {
        "duration": 13,
        "start_time": "2021-12-23T12:45:56.928Z"
      },
      {
        "duration": 9,
        "start_time": "2021-12-23T12:45:56.943Z"
      },
      {
        "duration": 24,
        "start_time": "2021-12-23T12:45:56.954Z"
      },
      {
        "duration": 14,
        "start_time": "2021-12-23T12:45:56.980Z"
      },
      {
        "duration": 11,
        "start_time": "2021-12-23T12:45:56.997Z"
      },
      {
        "duration": 168,
        "start_time": "2021-12-23T12:45:57.011Z"
      },
      {
        "duration": 4,
        "start_time": "2021-12-23T12:45:57.181Z"
      },
      {
        "duration": 416,
        "start_time": "2021-12-23T12:45:57.188Z"
      },
      {
        "duration": 9,
        "start_time": "2021-12-23T12:45:57.606Z"
      },
      {
        "duration": 31,
        "start_time": "2021-12-23T12:45:57.617Z"
      },
      {
        "duration": 668,
        "start_time": "2021-12-23T12:45:57.650Z"
      },
      {
        "duration": 33,
        "start_time": "2021-12-23T12:45:58.320Z"
      },
      {
        "duration": 17,
        "start_time": "2021-12-23T12:45:58.355Z"
      },
      {
        "duration": 4,
        "start_time": "2021-12-23T12:45:58.375Z"
      },
      {
        "duration": 34,
        "start_time": "2021-12-23T12:45:58.380Z"
      },
      {
        "duration": 621,
        "start_time": "2021-12-23T12:45:58.416Z"
      },
      {
        "duration": 39,
        "start_time": "2021-12-23T12:45:59.042Z"
      },
      {
        "duration": 15,
        "start_time": "2021-12-23T12:45:59.083Z"
      },
      {
        "duration": 806,
        "start_time": "2021-12-23T12:45:59.100Z"
      },
      {
        "duration": 2026,
        "start_time": "2021-12-23T12:45:59.907Z"
      },
      {
        "duration": 1310,
        "start_time": "2021-12-23T12:46:01.935Z"
      },
      {
        "duration": 332,
        "start_time": "2021-12-23T12:46:03.247Z"
      },
      {
        "duration": 373,
        "start_time": "2021-12-23T12:46:03.581Z"
      },
      {
        "duration": 3101,
        "start_time": "2021-12-23T12:46:03.956Z"
      },
      {
        "duration": 19,
        "start_time": "2021-12-23T12:46:07.059Z"
      },
      {
        "duration": 12,
        "start_time": "2021-12-23T12:46:07.080Z"
      },
      {
        "duration": 27,
        "start_time": "2021-12-23T12:46:07.094Z"
      },
      {
        "duration": 8,
        "start_time": "2021-12-23T12:46:07.141Z"
      },
      {
        "duration": 10,
        "start_time": "2021-12-23T12:46:07.151Z"
      },
      {
        "duration": 24,
        "start_time": "2021-12-23T12:46:07.163Z"
      },
      {
        "duration": 7,
        "start_time": "2021-12-23T12:46:07.189Z"
      },
      {
        "duration": 9,
        "start_time": "2021-12-23T12:46:07.198Z"
      },
      {
        "duration": 251,
        "start_time": "2021-12-23T12:46:07.241Z"
      },
      {
        "duration": 287,
        "start_time": "2021-12-23T12:46:07.494Z"
      },
      {
        "duration": 276,
        "start_time": "2021-12-23T12:46:07.783Z"
      },
      {
        "duration": 12,
        "start_time": "2021-12-23T12:46:08.061Z"
      },
      {
        "duration": 6,
        "start_time": "2021-12-23T12:46:08.075Z"
      },
      {
        "duration": 1139,
        "start_time": "2021-12-23T12:46:08.083Z"
      },
      {
        "duration": 17,
        "start_time": "2021-12-23T12:46:09.224Z"
      },
      {
        "duration": 449,
        "start_time": "2021-12-23T12:46:09.243Z"
      },
      {
        "duration": 1031,
        "start_time": "2021-12-23T12:46:09.694Z"
      },
      {
        "duration": 575,
        "start_time": "2021-12-23T12:46:10.728Z"
      },
      {
        "duration": 1417,
        "start_time": "2021-12-23T12:46:11.305Z"
      },
      {
        "duration": 1573,
        "start_time": "2021-12-23T13:22:00.476Z"
      },
      {
        "duration": 70,
        "start_time": "2021-12-23T13:22:02.052Z"
      },
      {
        "duration": 55,
        "start_time": "2021-12-23T13:22:02.125Z"
      },
      {
        "duration": 20,
        "start_time": "2021-12-23T13:22:02.183Z"
      },
      {
        "duration": 29,
        "start_time": "2021-12-23T13:22:02.205Z"
      },
      {
        "duration": 28,
        "start_time": "2021-12-23T13:22:02.258Z"
      },
      {
        "duration": 18,
        "start_time": "2021-12-23T13:22:02.289Z"
      },
      {
        "duration": 57,
        "start_time": "2021-12-23T13:22:02.311Z"
      },
      {
        "duration": 9,
        "start_time": "2021-12-23T13:22:02.371Z"
      },
      {
        "duration": 6,
        "start_time": "2021-12-23T13:22:02.382Z"
      },
      {
        "duration": 11,
        "start_time": "2021-12-23T13:22:02.390Z"
      },
      {
        "duration": 6,
        "start_time": "2021-12-23T13:22:02.404Z"
      },
      {
        "duration": 47,
        "start_time": "2021-12-23T13:22:02.412Z"
      },
      {
        "duration": 10,
        "start_time": "2021-12-23T13:22:02.462Z"
      },
      {
        "duration": 11,
        "start_time": "2021-12-23T13:22:02.475Z"
      },
      {
        "duration": 11,
        "start_time": "2021-12-23T13:22:02.488Z"
      },
      {
        "duration": 15,
        "start_time": "2021-12-23T13:22:02.501Z"
      },
      {
        "duration": 10,
        "start_time": "2021-12-23T13:22:02.518Z"
      },
      {
        "duration": 39,
        "start_time": "2021-12-23T13:22:02.531Z"
      },
      {
        "duration": 11,
        "start_time": "2021-12-23T13:22:02.572Z"
      },
      {
        "duration": 13,
        "start_time": "2021-12-23T13:22:02.585Z"
      },
      {
        "duration": 16,
        "start_time": "2021-12-23T13:22:02.600Z"
      },
      {
        "duration": 44,
        "start_time": "2021-12-23T13:22:02.622Z"
      },
      {
        "duration": 242,
        "start_time": "2021-12-23T13:22:02.670Z"
      },
      {
        "duration": 7,
        "start_time": "2021-12-23T13:22:02.915Z"
      },
      {
        "duration": 466,
        "start_time": "2021-12-23T13:22:02.926Z"
      },
      {
        "duration": 9,
        "start_time": "2021-12-23T13:22:03.395Z"
      },
      {
        "duration": 18,
        "start_time": "2021-12-23T13:22:03.406Z"
      },
      {
        "duration": 1116,
        "start_time": "2021-12-23T13:22:03.427Z"
      },
      {
        "duration": 38,
        "start_time": "2021-12-23T13:22:04.545Z"
      },
      {
        "duration": 9,
        "start_time": "2021-12-23T13:22:04.585Z"
      },
      {
        "duration": 4,
        "start_time": "2021-12-23T13:22:04.596Z"
      },
      {
        "duration": 68,
        "start_time": "2021-12-23T13:22:04.604Z"
      },
      {
        "duration": 802,
        "start_time": "2021-12-23T13:22:04.674Z"
      },
      {
        "duration": 41,
        "start_time": "2021-12-23T13:22:05.479Z"
      },
      {
        "duration": 43,
        "start_time": "2021-12-23T13:22:05.523Z"
      },
      {
        "duration": 1223,
        "start_time": "2021-12-23T13:22:05.568Z"
      },
      {
        "duration": 1944,
        "start_time": "2021-12-23T13:22:06.793Z"
      },
      {
        "duration": 1448,
        "start_time": "2021-12-23T13:22:08.739Z"
      },
      {
        "duration": 461,
        "start_time": "2021-12-23T13:22:10.189Z"
      },
      {
        "duration": 395,
        "start_time": "2021-12-23T13:22:10.652Z"
      },
      {
        "duration": 3199,
        "start_time": "2021-12-23T13:22:11.049Z"
      },
      {
        "duration": 28,
        "start_time": "2021-12-23T13:22:14.251Z"
      },
      {
        "duration": 12,
        "start_time": "2021-12-23T13:22:14.281Z"
      },
      {
        "duration": 24,
        "start_time": "2021-12-23T13:22:14.295Z"
      },
      {
        "duration": 8,
        "start_time": "2021-12-23T13:22:14.321Z"
      },
      {
        "duration": 9,
        "start_time": "2021-12-23T13:22:14.360Z"
      },
      {
        "duration": 24,
        "start_time": "2021-12-23T13:22:14.371Z"
      },
      {
        "duration": 9,
        "start_time": "2021-12-23T13:22:14.397Z"
      },
      {
        "duration": 9,
        "start_time": "2021-12-23T13:22:14.408Z"
      },
      {
        "duration": 418,
        "start_time": "2021-12-23T13:22:14.460Z"
      },
      {
        "duration": 411,
        "start_time": "2021-12-23T13:22:14.881Z"
      },
      {
        "duration": 408,
        "start_time": "2021-12-23T13:22:15.295Z"
      },
      {
        "duration": 15,
        "start_time": "2021-12-23T13:22:15.706Z"
      },
      {
        "duration": 7,
        "start_time": "2021-12-23T13:22:15.723Z"
      },
      {
        "duration": 1983,
        "start_time": "2021-12-23T13:22:15.732Z"
      },
      {
        "duration": 11,
        "start_time": "2021-12-23T13:22:17.717Z"
      },
      {
        "duration": 663,
        "start_time": "2021-12-23T13:22:17.730Z"
      },
      {
        "duration": 1640,
        "start_time": "2021-12-23T13:22:18.396Z"
      },
      {
        "duration": 645,
        "start_time": "2021-12-23T13:22:20.038Z"
      },
      {
        "duration": 1654,
        "start_time": "2021-12-23T13:22:20.685Z"
      },
      {
        "duration": 6,
        "start_time": "2021-12-23T13:25:28.041Z"
      },
      {
        "duration": 20,
        "start_time": "2021-12-23T13:25:41.986Z"
      }
    ],
    "kernelspec": {
      "display_name": "Python 3 (ipykernel)",
      "language": "python",
      "name": "python3"
    },
    "language_info": {
      "codemirror_mode": {
        "name": "ipython",
        "version": 3
      },
      "file_extension": ".py",
      "mimetype": "text/x-python",
      "name": "python",
      "nbconvert_exporter": "python",
      "pygments_lexer": "ipython3",
      "version": "3.9.5"
    },
    "toc": {
      "base_numbering": 1,
      "nav_menu": {},
      "number_sections": true,
      "sideBar": true,
      "skip_h1_title": true,
      "title_cell": "Table of Contents",
      "title_sidebar": "Contents",
      "toc_cell": false,
      "toc_position": {},
      "toc_section_display": true,
      "toc_window_display": false
    },
    "colab": {
      "name": "eef6de37-ca1d-4ec1-afd0-a6adef488d0c (1).ipynb",
      "provenance": []
    }
  },
  "nbformat": 4,
  "nbformat_minor": 0
}