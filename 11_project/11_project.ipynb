{
  "cells": [
    {
      "cell_type": "markdown",
      "metadata": {
        "id": "m5Y5HyolRoyb"
      },
      "source": [
        "# Определение стоимости автомобилей"
      ]
    },
    {
      "cell_type": "markdown",
      "metadata": {
        "id": "CKaH68fkRoyf"
      },
      "source": [
        "**Описание проекта:**\n",
        "\n",
        "Сервис по продаже автомобилей с пробегом «Не бит, не крашен» разрабатывает приложение для привлечения новых клиентов. В нём можно быстро узнать рыночную стоимость своего автомобиля. В вашем распоряжении исторические данные: технические характеристики, комплектации и цены автомобилей. Вам нужно построить модель для определения стоимости.\n",
        "\n",
        "**Заказчику важны:**\n",
        "\n",
        "- качество предсказания;\n",
        "- скорость предсказания;\n",
        "- время обучения.\n",
        "\n",
        "**Примечания:**\n",
        "\n",
        "- Для оценки качества моделей применяйте метрику RMSE.\n",
        "- Самостоятельно освойте библиотеку LightGBM и её средствами постройте модели градиентного бустинга.\n",
        "- Время выполнения ячейки кода Jupyter Notebook можно получить специальной командой. Найдите её.\n",
        "- Поскольку модель градиентного бустинга может обучаться долго, измените у неё только два-три параметра.\n",
        "- Если перестанет работать Jupyter Notebook, удалите лишние переменные оператором del: del features_train\n",
        "\n",
        "**Описание данных:**\n",
        "\n",
        "Данные находятся в файле /datasets/autos.csv.\n",
        "\n",
        "**Признаки:**\n",
        "\n",
        "- DateCrawled — дата скачивания анкеты из базы\n",
        "- VehicleType — тип автомобильного кузова\n",
        "- RegistrationYear — год регистрации автомобиля\n",
        "- Gearbox — тип коробки передач\n",
        "- Power — мощность (л. с.)\n",
        "- Model — модель автомобиля\n",
        "- Kilometer — пробег (км)\n",
        "- RegistrationMonth — месяц регистрации автомобиля\n",
        "- FuelType — тип топлива\n",
        "- Brand — марка автомобиля\n",
        "- NotRepaired — была машина в ремонте или нет\n",
        "- DateCreated — дата создания анкеты\n",
        "- NumberOfPictures — количество фотографий автомобиля\n",
        "- PostalCode — почтовый индекс владельца анкеты (пользователя)\n",
        "- LastSeen — дата последней активности пользователя\n",
        "\n",
        "**Целевой признак:**\n",
        "\n",
        "- Price — цена (евро)"
      ]
    },
    {
      "cell_type": "markdown",
      "metadata": {
        "id": "5zP6ra8wRoyg"
      },
      "source": [
        "## Подготовка данных"
      ]
    },
    {
      "cell_type": "code",
      "execution_count": null,
      "metadata": {
        "colab": {
          "base_uri": "https://localhost:8080/"
        },
        "id": "esg8vJXMSOwF",
        "outputId": "d42b1628-8201-4d90-eaa0-941f1c546f51"
      },
      "outputs": [
        {
          "name": "stdout",
          "output_type": "stream",
          "text": [
            "Requirement already satisfied: CatBoost in /usr/local/lib/python3.7/dist-packages (1.0.6)\n",
            "Requirement already satisfied: matplotlib in /usr/local/lib/python3.7/dist-packages (from CatBoost) (3.2.2)\n",
            "Requirement already satisfied: numpy>=1.16.0 in /usr/local/lib/python3.7/dist-packages (from CatBoost) (1.21.6)\n",
            "Requirement already satisfied: plotly in /usr/local/lib/python3.7/dist-packages (from CatBoost) (5.5.0)\n",
            "Requirement already satisfied: graphviz in /usr/local/lib/python3.7/dist-packages (from CatBoost) (0.10.1)\n",
            "Requirement already satisfied: pandas>=0.24.0 in /usr/local/lib/python3.7/dist-packages (from CatBoost) (1.3.5)\n",
            "Requirement already satisfied: six in /usr/local/lib/python3.7/dist-packages (from CatBoost) (1.15.0)\n",
            "Requirement already satisfied: scipy in /usr/local/lib/python3.7/dist-packages (from CatBoost) (1.4.1)\n",
            "Requirement already satisfied: python-dateutil>=2.7.3 in /usr/local/lib/python3.7/dist-packages (from pandas>=0.24.0->CatBoost) (2.8.2)\n",
            "Requirement already satisfied: pytz>=2017.3 in /usr/local/lib/python3.7/dist-packages (from pandas>=0.24.0->CatBoost) (2022.1)\n",
            "Requirement already satisfied: pyparsing!=2.0.4,!=2.1.2,!=2.1.6,>=2.0.1 in /usr/local/lib/python3.7/dist-packages (from matplotlib->CatBoost) (3.0.9)\n",
            "Requirement already satisfied: cycler>=0.10 in /usr/local/lib/python3.7/dist-packages (from matplotlib->CatBoost) (0.11.0)\n",
            "Requirement already satisfied: kiwisolver>=1.0.1 in /usr/local/lib/python3.7/dist-packages (from matplotlib->CatBoost) (1.4.2)\n",
            "Requirement already satisfied: typing-extensions in /usr/local/lib/python3.7/dist-packages (from kiwisolver>=1.0.1->matplotlib->CatBoost) (4.2.0)\n",
            "Requirement already satisfied: tenacity>=6.2.0 in /usr/local/lib/python3.7/dist-packages (from plotly->CatBoost) (8.0.1)\n"
          ]
        }
      ],
      "source": [
        "! pip install CatBoost"
      ]
    },
    {
      "cell_type": "code",
      "execution_count": null,
      "metadata": {
        "id": "EeVtx95RRoyg"
      },
      "outputs": [],
      "source": [
        "import matplotlib.pyplot as plt\n",
        "import numpy as np\n",
        "import pandas as pd\n",
        "import warnings\n",
        "from sklearn.model_selection import train_test_split\n",
        "from sklearn.preprocessing import StandardScaler\n",
        "from sklearn.metrics import mean_squared_error\n",
        "from sklearn.preprocessing import PolynomialFeatures\n",
        "from sklearn.preprocessing import OrdinalEncoder\n",
        "from sklearn.linear_model import LinearRegression\n",
        "from sklearn.linear_model import Ridge\n",
        "from sklearn.tree import DecisionTreeRegressor\n",
        "from sklearn.ensemble import ExtraTreesRegressor\n",
        "from catboost import Pool, CatBoostRegressor, cv\n",
        "from lightgbm import LGBMRegressor\n",
        "from sklearn.model_selection import cross_val_score\n",
        "from sklearn.model_selection import GridSearchCV\n",
        "from sklearn.pipeline import Pipeline\n",
        "warnings.filterwarnings('ignore')"
      ]
    },
    {
      "cell_type": "markdown",
      "metadata": {
        "id": "2kkC13qrRoyh"
      },
      "source": [
        "Выгружу данные из таблицы и изучу их."
      ]
    },
    {
      "cell_type": "code",
      "execution_count": null,
      "metadata": {
        "id": "YwkhzIV3Uj6E"
      },
      "outputs": [],
      "source": [
        "try:\n",
        "    autos_data = pd.read_csv('https://code.s3.yandex.net/datasets/autos.csv')\n",
        "except:\n",
        "    autos_data = pd.read_csv('/content/drive/MyDrive/Colab Notebooks/toxic_comments.csv')"
      ]
    },
    {
      "cell_type": "code",
      "execution_count": null,
      "metadata": {
        "colab": {
          "base_uri": "https://localhost:8080/",
          "height": 840
        },
        "id": "ZvGTihN-Royi",
        "outputId": "b7de35b1-5fc7-4a04-f575-54e3f42bdf2c",
        "scrolled": true
      },
      "outputs": [
        {
          "name": "stdout",
          "output_type": "stream",
          "text": [
            "<class 'pandas.core.frame.DataFrame'>\n",
            "RangeIndex: 354369 entries, 0 to 354368\n",
            "Data columns (total 16 columns):\n",
            " #   Column             Non-Null Count   Dtype \n",
            "---  ------             --------------   ----- \n",
            " 0   DateCrawled        354369 non-null  object\n",
            " 1   Price              354369 non-null  int64 \n",
            " 2   VehicleType        316879 non-null  object\n",
            " 3   RegistrationYear   354369 non-null  int64 \n",
            " 4   Gearbox            334536 non-null  object\n",
            " 5   Power              354369 non-null  int64 \n",
            " 6   Model              334664 non-null  object\n",
            " 7   Kilometer          354369 non-null  int64 \n",
            " 8   RegistrationMonth  354369 non-null  int64 \n",
            " 9   FuelType           321474 non-null  object\n",
            " 10  Brand              354369 non-null  object\n",
            " 11  NotRepaired        283215 non-null  object\n",
            " 12  DateCreated        354369 non-null  object\n",
            " 13  NumberOfPictures   354369 non-null  int64 \n",
            " 14  PostalCode         354369 non-null  int64 \n",
            " 15  LastSeen           354369 non-null  object\n",
            "dtypes: int64(7), object(9)\n",
            "memory usage: 43.3+ MB\n"
          ]
        },
        {
          "data": {
            "text/plain": [
              "None"
            ]
          },
          "metadata": {},
          "output_type": "display_data"
        },
        {
          "data": {
            "text/html": [
              "\n",
              "  <div id=\"df-ced8abc7-582b-4dbc-b5ca-af7035259b13\">\n",
              "    <div class=\"colab-df-container\">\n",
              "      <div>\n",
              "<style scoped>\n",
              "    .dataframe tbody tr th:only-of-type {\n",
              "        vertical-align: middle;\n",
              "    }\n",
              "\n",
              "    .dataframe tbody tr th {\n",
              "        vertical-align: top;\n",
              "    }\n",
              "\n",
              "    .dataframe thead th {\n",
              "        text-align: right;\n",
              "    }\n",
              "</style>\n",
              "<table border=\"1\" class=\"dataframe\">\n",
              "  <thead>\n",
              "    <tr style=\"text-align: right;\">\n",
              "      <th></th>\n",
              "      <th>DateCrawled</th>\n",
              "      <th>Price</th>\n",
              "      <th>VehicleType</th>\n",
              "      <th>RegistrationYear</th>\n",
              "      <th>Gearbox</th>\n",
              "      <th>Power</th>\n",
              "      <th>Model</th>\n",
              "      <th>Kilometer</th>\n",
              "      <th>RegistrationMonth</th>\n",
              "      <th>FuelType</th>\n",
              "      <th>Brand</th>\n",
              "      <th>NotRepaired</th>\n",
              "      <th>DateCreated</th>\n",
              "      <th>NumberOfPictures</th>\n",
              "      <th>PostalCode</th>\n",
              "      <th>LastSeen</th>\n",
              "    </tr>\n",
              "  </thead>\n",
              "  <tbody>\n",
              "    <tr>\n",
              "      <th>0</th>\n",
              "      <td>2016-03-24 11:52:17</td>\n",
              "      <td>480</td>\n",
              "      <td>NaN</td>\n",
              "      <td>1993</td>\n",
              "      <td>manual</td>\n",
              "      <td>0</td>\n",
              "      <td>golf</td>\n",
              "      <td>150000</td>\n",
              "      <td>0</td>\n",
              "      <td>petrol</td>\n",
              "      <td>volkswagen</td>\n",
              "      <td>NaN</td>\n",
              "      <td>2016-03-24 00:00:00</td>\n",
              "      <td>0</td>\n",
              "      <td>70435</td>\n",
              "      <td>2016-04-07 03:16:57</td>\n",
              "    </tr>\n",
              "    <tr>\n",
              "      <th>1</th>\n",
              "      <td>2016-03-24 10:58:45</td>\n",
              "      <td>18300</td>\n",
              "      <td>coupe</td>\n",
              "      <td>2011</td>\n",
              "      <td>manual</td>\n",
              "      <td>190</td>\n",
              "      <td>NaN</td>\n",
              "      <td>125000</td>\n",
              "      <td>5</td>\n",
              "      <td>gasoline</td>\n",
              "      <td>audi</td>\n",
              "      <td>yes</td>\n",
              "      <td>2016-03-24 00:00:00</td>\n",
              "      <td>0</td>\n",
              "      <td>66954</td>\n",
              "      <td>2016-04-07 01:46:50</td>\n",
              "    </tr>\n",
              "    <tr>\n",
              "      <th>2</th>\n",
              "      <td>2016-03-14 12:52:21</td>\n",
              "      <td>9800</td>\n",
              "      <td>suv</td>\n",
              "      <td>2004</td>\n",
              "      <td>auto</td>\n",
              "      <td>163</td>\n",
              "      <td>grand</td>\n",
              "      <td>125000</td>\n",
              "      <td>8</td>\n",
              "      <td>gasoline</td>\n",
              "      <td>jeep</td>\n",
              "      <td>NaN</td>\n",
              "      <td>2016-03-14 00:00:00</td>\n",
              "      <td>0</td>\n",
              "      <td>90480</td>\n",
              "      <td>2016-04-05 12:47:46</td>\n",
              "    </tr>\n",
              "    <tr>\n",
              "      <th>3</th>\n",
              "      <td>2016-03-17 16:54:04</td>\n",
              "      <td>1500</td>\n",
              "      <td>small</td>\n",
              "      <td>2001</td>\n",
              "      <td>manual</td>\n",
              "      <td>75</td>\n",
              "      <td>golf</td>\n",
              "      <td>150000</td>\n",
              "      <td>6</td>\n",
              "      <td>petrol</td>\n",
              "      <td>volkswagen</td>\n",
              "      <td>no</td>\n",
              "      <td>2016-03-17 00:00:00</td>\n",
              "      <td>0</td>\n",
              "      <td>91074</td>\n",
              "      <td>2016-03-17 17:40:17</td>\n",
              "    </tr>\n",
              "    <tr>\n",
              "      <th>4</th>\n",
              "      <td>2016-03-31 17:25:20</td>\n",
              "      <td>3600</td>\n",
              "      <td>small</td>\n",
              "      <td>2008</td>\n",
              "      <td>manual</td>\n",
              "      <td>69</td>\n",
              "      <td>fabia</td>\n",
              "      <td>90000</td>\n",
              "      <td>7</td>\n",
              "      <td>gasoline</td>\n",
              "      <td>skoda</td>\n",
              "      <td>no</td>\n",
              "      <td>2016-03-31 00:00:00</td>\n",
              "      <td>0</td>\n",
              "      <td>60437</td>\n",
              "      <td>2016-04-06 10:17:21</td>\n",
              "    </tr>\n",
              "  </tbody>\n",
              "</table>\n",
              "</div>\n",
              "      <button class=\"colab-df-convert\" onclick=\"convertToInteractive('df-ced8abc7-582b-4dbc-b5ca-af7035259b13')\"\n",
              "              title=\"Convert this dataframe to an interactive table.\"\n",
              "              style=\"display:none;\">\n",
              "        \n",
              "  <svg xmlns=\"http://www.w3.org/2000/svg\" height=\"24px\"viewBox=\"0 0 24 24\"\n",
              "       width=\"24px\">\n",
              "    <path d=\"M0 0h24v24H0V0z\" fill=\"none\"/>\n",
              "    <path d=\"M18.56 5.44l.94 2.06.94-2.06 2.06-.94-2.06-.94-.94-2.06-.94 2.06-2.06.94zm-11 1L8.5 8.5l.94-2.06 2.06-.94-2.06-.94L8.5 2.5l-.94 2.06-2.06.94zm10 10l.94 2.06.94-2.06 2.06-.94-2.06-.94-.94-2.06-.94 2.06-2.06.94z\"/><path d=\"M17.41 7.96l-1.37-1.37c-.4-.4-.92-.59-1.43-.59-.52 0-1.04.2-1.43.59L10.3 9.45l-7.72 7.72c-.78.78-.78 2.05 0 2.83L4 21.41c.39.39.9.59 1.41.59.51 0 1.02-.2 1.41-.59l7.78-7.78 2.81-2.81c.8-.78.8-2.07 0-2.86zM5.41 20L4 18.59l7.72-7.72 1.47 1.35L5.41 20z\"/>\n",
              "  </svg>\n",
              "      </button>\n",
              "      \n",
              "  <style>\n",
              "    .colab-df-container {\n",
              "      display:flex;\n",
              "      flex-wrap:wrap;\n",
              "      gap: 12px;\n",
              "    }\n",
              "\n",
              "    .colab-df-convert {\n",
              "      background-color: #E8F0FE;\n",
              "      border: none;\n",
              "      border-radius: 50%;\n",
              "      cursor: pointer;\n",
              "      display: none;\n",
              "      fill: #1967D2;\n",
              "      height: 32px;\n",
              "      padding: 0 0 0 0;\n",
              "      width: 32px;\n",
              "    }\n",
              "\n",
              "    .colab-df-convert:hover {\n",
              "      background-color: #E2EBFA;\n",
              "      box-shadow: 0px 1px 2px rgba(60, 64, 67, 0.3), 0px 1px 3px 1px rgba(60, 64, 67, 0.15);\n",
              "      fill: #174EA6;\n",
              "    }\n",
              "\n",
              "    [theme=dark] .colab-df-convert {\n",
              "      background-color: #3B4455;\n",
              "      fill: #D2E3FC;\n",
              "    }\n",
              "\n",
              "    [theme=dark] .colab-df-convert:hover {\n",
              "      background-color: #434B5C;\n",
              "      box-shadow: 0px 1px 3px 1px rgba(0, 0, 0, 0.15);\n",
              "      filter: drop-shadow(0px 1px 2px rgba(0, 0, 0, 0.3));\n",
              "      fill: #FFFFFF;\n",
              "    }\n",
              "  </style>\n",
              "\n",
              "      <script>\n",
              "        const buttonEl =\n",
              "          document.querySelector('#df-ced8abc7-582b-4dbc-b5ca-af7035259b13 button.colab-df-convert');\n",
              "        buttonEl.style.display =\n",
              "          google.colab.kernel.accessAllowed ? 'block' : 'none';\n",
              "\n",
              "        async function convertToInteractive(key) {\n",
              "          const element = document.querySelector('#df-ced8abc7-582b-4dbc-b5ca-af7035259b13');\n",
              "          const dataTable =\n",
              "            await google.colab.kernel.invokeFunction('convertToInteractive',\n",
              "                                                     [key], {});\n",
              "          if (!dataTable) return;\n",
              "\n",
              "          const docLinkHtml = 'Like what you see? Visit the ' +\n",
              "            '<a target=\"_blank\" href=https://colab.research.google.com/notebooks/data_table.ipynb>data table notebook</a>'\n",
              "            + ' to learn more about interactive tables.';\n",
              "          element.innerHTML = '';\n",
              "          dataTable['output_type'] = 'display_data';\n",
              "          await google.colab.output.renderOutput(dataTable, element);\n",
              "          const docLink = document.createElement('div');\n",
              "          docLink.innerHTML = docLinkHtml;\n",
              "          element.appendChild(docLink);\n",
              "        }\n",
              "      </script>\n",
              "    </div>\n",
              "  </div>\n",
              "  "
            ],
            "text/plain": [
              "           DateCrawled  Price VehicleType  RegistrationYear Gearbox  Power  \\\n",
              "0  2016-03-24 11:52:17    480         NaN              1993  manual      0   \n",
              "1  2016-03-24 10:58:45  18300       coupe              2011  manual    190   \n",
              "2  2016-03-14 12:52:21   9800         suv              2004    auto    163   \n",
              "3  2016-03-17 16:54:04   1500       small              2001  manual     75   \n",
              "4  2016-03-31 17:25:20   3600       small              2008  manual     69   \n",
              "\n",
              "   Model  Kilometer  RegistrationMonth  FuelType       Brand NotRepaired  \\\n",
              "0   golf     150000                  0    petrol  volkswagen         NaN   \n",
              "1    NaN     125000                  5  gasoline        audi         yes   \n",
              "2  grand     125000                  8  gasoline        jeep         NaN   \n",
              "3   golf     150000                  6    petrol  volkswagen          no   \n",
              "4  fabia      90000                  7  gasoline       skoda          no   \n",
              "\n",
              "           DateCreated  NumberOfPictures  PostalCode             LastSeen  \n",
              "0  2016-03-24 00:00:00                 0       70435  2016-04-07 03:16:57  \n",
              "1  2016-03-24 00:00:00                 0       66954  2016-04-07 01:46:50  \n",
              "2  2016-03-14 00:00:00                 0       90480  2016-04-05 12:47:46  \n",
              "3  2016-03-17 00:00:00                 0       91074  2016-03-17 17:40:17  \n",
              "4  2016-03-31 00:00:00                 0       60437  2016-04-06 10:17:21  "
            ]
          },
          "execution_count": 4,
          "metadata": {},
          "output_type": "execute_result"
        }
      ],
      "source": [
        "display(autos_data.info())\n",
        "autos_data.head()"
      ]
    },
    {
      "cell_type": "markdown",
      "metadata": {
        "id": "HSIwIbx4Royj"
      },
      "source": [
        "Оценю количество пропусков по каждому критерию."
      ]
    },
    {
      "cell_type": "code",
      "execution_count": null,
      "metadata": {
        "colab": {
          "base_uri": "https://localhost:8080/"
        },
        "id": "pWiPjlLcRoyj",
        "outputId": "c2453459-3462-40bf-9419-2f7e60a8e09e"
      },
      "outputs": [
        {
          "data": {
            "text/plain": [
              "DateCrawled          0.000000\n",
              "Price                0.000000\n",
              "VehicleType          0.105794\n",
              "RegistrationYear     0.000000\n",
              "Gearbox              0.055967\n",
              "Power                0.000000\n",
              "Model                0.055606\n",
              "Kilometer            0.000000\n",
              "RegistrationMonth    0.000000\n",
              "FuelType             0.092827\n",
              "Brand                0.000000\n",
              "NotRepaired          0.200791\n",
              "DateCreated          0.000000\n",
              "NumberOfPictures     0.000000\n",
              "PostalCode           0.000000\n",
              "LastSeen             0.000000\n",
              "dtype: float64"
            ]
          },
          "execution_count": 5,
          "metadata": {},
          "output_type": "execute_result"
        }
      ],
      "source": [
        "autos_data.isna().mean()"
      ]
    },
    {
      "cell_type": "markdown",
      "metadata": {
        "id": "wzPSksNERoyk"
      },
      "source": [
        "Столбцы VehicleType, Gearbox, FuelType и NotRepaired обладают пропусками. Изучу, какие данные есть в каждом столбце."
      ]
    },
    {
      "cell_type": "code",
      "execution_count": null,
      "metadata": {
        "id": "Bs81t2ifRoyl"
      },
      "outputs": [],
      "source": [
        "def show_rows(data_frame):\n",
        "    for column in data_frame.columns:\n",
        "        print('Уникальные значения столбца', column)\n",
        "        print(data_frame[column].unique())"
      ]
    },
    {
      "cell_type": "markdown",
      "metadata": {
        "id": "_F3-MErxRoyl"
      },
      "source": [
        "Функция для отображения уникальных значений"
      ]
    },
    {
      "cell_type": "code",
      "execution_count": null,
      "metadata": {
        "colab": {
          "base_uri": "https://localhost:8080/"
        },
        "id": "HfRkpgLPRoym",
        "outputId": "bbe0eaeb-4d63-4727-acb3-7f2b21f018a9"
      },
      "outputs": [
        {
          "name": "stdout",
          "output_type": "stream",
          "text": [
            "Уникальные значения столбца DateCrawled\n",
            "['2016-03-24 11:52:17' '2016-03-24 10:58:45' '2016-03-14 12:52:21' ...\n",
            " '2016-03-21 09:50:58' '2016-03-14 17:48:27' '2016-03-19 18:57:12']\n",
            "Уникальные значения столбца Price\n",
            "[  480 18300  9800 ... 12395 18429 10985]\n",
            "Уникальные значения столбца VehicleType\n",
            "[nan 'coupe' 'suv' 'small' 'sedan' 'convertible' 'bus' 'wagon' 'other']\n",
            "Уникальные значения столбца RegistrationYear\n",
            "[1993 2011 2004 2001 2008 1995 1980 2014 1998 2005 1910 2016 2007 2009\n",
            " 2002 2018 1997 1990 2017 1981 2003 1994 1991 1984 2006 1999 2012 2010\n",
            " 2000 1992 2013 1996 1985 1989 2015 1982 1976 1983 1973 1111 1969 1971\n",
            " 1987 1986 1988 1970 1965 1945 1925 1974 1979 1955 1978 1972 1968 1977\n",
            " 1961 1960 1966 1975 1963 1964 5000 1954 1958 1967 1959 9999 1956 3200\n",
            " 1000 1941 8888 1500 2200 4100 1962 1929 1957 1940 3000 2066 1949 2019\n",
            " 1937 1951 1800 1953 1234 8000 5300 9000 2900 6000 5900 5911 1933 1400\n",
            " 1950 4000 1948 1952 1200 8500 1932 1255 3700 3800 4800 1942 7000 1935\n",
            " 1936 6500 1923 2290 2500 1930 1001 9450 1944 1943 1934 1938 1688 2800\n",
            " 1253 1928 1919 5555 5600 1600 2222 1039 9996 1300 8455 1931 1915 4500\n",
            " 1920 1602 7800 9229 1947 1927 7100 8200 1946 7500 3500]\n",
            "Уникальные значения столбца Gearbox\n",
            "['manual' 'auto' nan]\n",
            "Уникальные значения столбца Power\n",
            "[    0   190   163    75    69   102   109    50   125   101   105   140\n",
            "   115   131    60   136   160   231    90   118   193    99   113   218\n",
            "   122   129    70   306    95    61   177    80   170    55   143    64\n",
            "   286   232   150   156    82   155    54   185    87   180    86    84\n",
            "   224   235   200   178   265    77   110   144   120   116   184   126\n",
            "   204    88   194   305   197   179   250    45   313    41   165    98\n",
            "   130   114   211    56   201   213    58   107    83   174   100   220\n",
            "    85    73   192    68    66   299    74    52   147    65   310    71\n",
            "    97   239   203     5   300   103   258   320    63    81   148    44\n",
            "   145   230   280   260   104   188   333   186   117   141    59   132\n",
            "   234   158    39    92    51   135    53   209    43   146    67   106\n",
            "   166   276   344    72   249   237   245   111   326   279    23   138\n",
            "   175    96   226    26    37   301   334   128   133   124    33   219\n",
            "   241   167    94   182   196   238  1398   228   112    48   272   139\n",
            "  1799    40   240    79   256   360   243   375   252   396   340   108\n",
            "   121   345   187   289   222   198   284   450   233   387   152   347\n",
            "   172    57   137   212   476   314    30     7    47   173   290   207\n",
            "   205   171   750    78    91    89   349   325    76   151   350   953\n",
            "    93   142   500   343   199   119   164    16   264   367   208   210\n",
            "    46   435  1001   225   127   176   161   603   307   354    35   206\n",
            "   771   355   273   223   255   123   154   149  7515  1400   268   620\n",
            "   169   400   275    34     2   242  1779   285   162   328  1753   329\n",
            "   134   420   247   168 10317   215    18   330   283    62    10   214\n",
            "   183   254    15   321   322   315   952   600   181   426   599   379\n",
            "   999    22   157    42   195   553     4   309   507   381   271   440\n",
            "   189   401  1111  2729    21   236  1240  1704   521     1  1900   270\n",
            "    24   159   292   808   515  1200   303    29    38  1993    14   216\n",
            "   610   504    49   267   331   363   261   385  1011   253   696 10520\n",
            "   376   227   311    27   217    20  1999    11  1056    25   394    12\n",
            "   298   296  1659   294   551  6920   246    17  1800  1625   368   390\n",
            "   221  1367   259   606   327  2017  1597   266   374   392     9   405\n",
            "    13   262   601   430   295     8   411   900   541  7512   382 10218\n",
            "  7544  1102   287    19   751   297  1090   457   282   602   388     6\n",
            "  1000  5411   335  1360   202  3750   805  1062  1024 11530   364  1796\n",
            "  5000   269   460  1002   288  1780 12012 17932   316  2005  1399   191\n",
            "   278  1300   380   257   449  1256   153  1653   520   560   281 12510\n",
            "     3  1500   386    32  1202  2016  1436  1405   671   274  1288  1055\n",
            " 10912 15016  6226  1115   277  1105   341  1223  2340  8404  1968   338\n",
            "   445  1920   370   517  4400 10710 10522  9010   431  1164 11509   371\n",
            "  1501   428 11635    36   304   348  1703  1910  1995   579 10000   580\n",
            "   408    31  1005   358  1403   489  5575 19211   585   960   365   353\n",
            "   490   352  1801   346   550  3199   800  7508  1312   357  1937   950\n",
            "  4700  1600  3454 19208   251   850   337   700  8011  2331  2789   487\n",
            "   519  2461  6006  3500  5815  6018  1781  1503   612  1596   229  1506\n",
            "  5809 15020  5867  2172  1598 17410  1363   584  1054   851  1339   318\n",
            "   510   525  1700    28  1151   685  6011   317   703  1771 15001   514\n",
            "   362   332   324  6045   530   425   308  6010   475   903   640  2000\n",
            "   248   651  2799 17011   505  1103  1521   351 16051   398  9000  1998\n",
            " 10311   409  1230 17019 12684  8259  1895   901  1317   871   909  2201\n",
            "  1595   776 17700 11011  1199   459  1162  1120 15033  1896   339   361\n",
            "   574  6512   454   650 13616   604   607 16312  1082   336 20000   416\n",
            "   678  6012  1401  1021  1870 13636  1250  9710   323  1158  2009   902\n",
            "  6062  1275   572   244   399  1016   743  1221  2402 16011  1362   544\n",
            "   645   907   702 12512  1986  1003  1432  9013  9011   442  1017  1394\n",
            " 15017 10910  1992   540  2018 11025  1433  1701  2792  1502  1239  1390\n",
            " 14009  1160  1351 11111  1783  9007   923  1149   754  1988   402  2004\n",
            "  5420  1793  1324   356  7511  1299   293 19312  1079  1689   998  1100\n",
            "  9012  1933   508 16311   682  1252  1922  7529   732  2389  2200  1707\n",
            "  1416  8500  1012   485  3000 10110   421  4507  1631  7518   377  1004\n",
            "  2007  2598  1548  1241]\n",
            "Уникальные значения столбца Model\n",
            "['golf' nan 'grand' 'fabia' '3er' '2_reihe' 'other' 'c_max' '3_reihe'\n",
            " 'passat' 'navara' 'ka' 'polo' 'twingo' 'a_klasse' 'scirocco' '5er'\n",
            " 'meriva' 'arosa' 'c4' 'civic' 'transporter' 'punto' 'e_klasse' 'clio'\n",
            " 'kadett' 'kangoo' 'corsa' 'one' 'fortwo' '1er' 'b_klasse' 'signum'\n",
            " 'astra' 'a8' 'jetta' 'fiesta' 'c_klasse' 'micra' 'vito' 'sprinter' '156'\n",
            " 'escort' 'forester' 'xc_reihe' 'scenic' 'a4' 'a1' 'insignia' 'combo'\n",
            " 'focus' 'tt' 'a6' 'jazz' 'omega' 'slk' '7er' '80' '147' '100' 'z_reihe'\n",
            " 'sportage' 'sorento' 'v40' 'ibiza' 'mustang' 'eos' 'touran' 'getz' 'a3'\n",
            " 'almera' 'megane' 'lupo' 'r19' 'zafira' 'caddy' 'mondeo' 'cordoba' 'colt'\n",
            " 'impreza' 'vectra' 'berlingo' 'tiguan' 'i_reihe' 'espace' 'sharan'\n",
            " '6_reihe' 'panda' 'up' 'seicento' 'ceed' '5_reihe' 'yeti' 'octavia' 'mii'\n",
            " 'rx_reihe' '6er' 'modus' 'fox' 'matiz' 'beetle' 'c1' 'rio' 'touareg'\n",
            " 'logan' 'spider' 'cuore' 's_max' 'a2' 'galaxy' 'c3' 'viano' 's_klasse'\n",
            " '1_reihe' 'avensis' 'roomster' 'sl' 'kaefer' 'santa' 'cooper' 'leon'\n",
            " '4_reihe' 'a5' '500' 'laguna' 'ptcruiser' 'clk' 'primera' 'x_reihe'\n",
            " 'exeo' '159' 'transit' 'juke' 'qashqai' 'carisma' 'accord' 'corolla'\n",
            " 'lanos' 'phaeton' 'verso' 'swift' 'rav' 'picanto' 'boxster' 'kalos'\n",
            " 'superb' 'stilo' 'alhambra' 'mx_reihe' 'roadster' 'ypsilon' 'cayenne'\n",
            " 'galant' 'justy' '90' 'sirion' 'crossfire' 'agila' 'duster' 'cr_reihe'\n",
            " 'v50' 'c_reihe' 'v_klasse' 'm_klasse' 'yaris' 'c5' 'aygo' 'cc' 'carnival'\n",
            " 'fusion' '911' 'bora' 'forfour' 'm_reihe' 'cl' 'tigra' '300c' 'spark'\n",
            " 'v70' 'kuga' 'x_type' 'ducato' 's_type' 'x_trail' 'toledo' 'altea'\n",
            " 'voyager' 'calibra' 'bravo' 'antara' 'tucson' 'citigo' 'jimny' 'wrangler'\n",
            " 'lybra' 'q7' 'lancer' 'captiva' 'c2' 'discovery' 'freelander' 'sandero'\n",
            " 'note' '900' 'cherokee' 'clubman' 'samara' 'defender' '601' 'cx_reihe'\n",
            " 'legacy' 'pajero' 'auris' 'niva' 's60' 'nubira' 'vivaro' 'g_klasse'\n",
            " 'lodgy' '850' 'range_rover' 'q3' 'serie_2' 'glk' 'charade' 'croma'\n",
            " 'outlander' 'doblo' 'musa' 'move' '9000' 'v60' '145' 'aveo' '200' 'b_max'\n",
            " 'range_rover_sport' 'terios' 'rangerover' 'q5' 'range_rover_evoque'\n",
            " 'materia' 'delta' 'gl' 'kalina' 'amarok' 'elefantino' 'i3' 'kappa'\n",
            " 'serie_3' 'serie_1']\n",
            "Уникальные значения столбца Kilometer\n",
            "[150000 125000  90000  40000  30000  70000   5000 100000  60000  20000\n",
            "  80000  50000  10000]\n",
            "Уникальные значения столбца RegistrationMonth\n",
            "[ 0  5  8  6  7 10 12 11  2  3  1  4  9]\n",
            "Уникальные значения столбца FuelType\n",
            "['petrol' 'gasoline' nan 'lpg' 'other' 'hybrid' 'cng' 'electric']\n",
            "Уникальные значения столбца Brand\n",
            "['volkswagen' 'audi' 'jeep' 'skoda' 'bmw' 'peugeot' 'ford' 'mazda'\n",
            " 'nissan' 'renault' 'mercedes_benz' 'opel' 'seat' 'citroen' 'honda' 'fiat'\n",
            " 'mini' 'smart' 'hyundai' 'sonstige_autos' 'alfa_romeo' 'subaru' 'volvo'\n",
            " 'mitsubishi' 'kia' 'suzuki' 'lancia' 'toyota' 'chevrolet' 'dacia'\n",
            " 'daihatsu' 'trabant' 'saab' 'chrysler' 'jaguar' 'daewoo' 'porsche'\n",
            " 'rover' 'land_rover' 'lada']\n",
            "Уникальные значения столбца NotRepaired\n",
            "[nan 'yes' 'no']\n",
            "Уникальные значения столбца DateCreated\n",
            "['2016-03-24 00:00:00' '2016-03-14 00:00:00' '2016-03-17 00:00:00'\n",
            " '2016-03-31 00:00:00' '2016-04-04 00:00:00' '2016-04-01 00:00:00'\n",
            " '2016-03-21 00:00:00' '2016-03-26 00:00:00' '2016-04-07 00:00:00'\n",
            " '2016-03-15 00:00:00' '2016-03-11 00:00:00' '2016-03-20 00:00:00'\n",
            " '2016-03-23 00:00:00' '2016-03-27 00:00:00' '2016-03-12 00:00:00'\n",
            " '2016-03-13 00:00:00' '2016-03-18 00:00:00' '2016-03-10 00:00:00'\n",
            " '2016-03-07 00:00:00' '2016-03-09 00:00:00' '2016-03-08 00:00:00'\n",
            " '2016-04-03 00:00:00' '2016-03-29 00:00:00' '2016-03-25 00:00:00'\n",
            " '2016-03-28 00:00:00' '2016-03-30 00:00:00' '2016-03-22 00:00:00'\n",
            " '2016-02-09 00:00:00' '2016-03-05 00:00:00' '2016-04-02 00:00:00'\n",
            " '2016-03-16 00:00:00' '2016-03-19 00:00:00' '2016-04-05 00:00:00'\n",
            " '2016-03-06 00:00:00' '2016-02-12 00:00:00' '2016-03-03 00:00:00'\n",
            " '2016-03-01 00:00:00' '2016-03-04 00:00:00' '2016-04-06 00:00:00'\n",
            " '2016-02-15 00:00:00' '2016-02-24 00:00:00' '2016-02-27 00:00:00'\n",
            " '2015-03-20 00:00:00' '2016-02-28 00:00:00' '2016-02-17 00:00:00'\n",
            " '2016-01-27 00:00:00' '2016-02-20 00:00:00' '2016-02-29 00:00:00'\n",
            " '2016-02-10 00:00:00' '2016-02-23 00:00:00' '2016-02-21 00:00:00'\n",
            " '2015-11-02 00:00:00' '2016-02-19 00:00:00' '2016-02-26 00:00:00'\n",
            " '2016-02-11 00:00:00' '2016-01-10 00:00:00' '2016-02-06 00:00:00'\n",
            " '2016-02-18 00:00:00' '2016-01-29 00:00:00' '2016-03-02 00:00:00'\n",
            " '2015-12-06 00:00:00' '2016-01-24 00:00:00' '2016-01-30 00:00:00'\n",
            " '2016-02-02 00:00:00' '2016-02-16 00:00:00' '2016-02-13 00:00:00'\n",
            " '2016-02-05 00:00:00' '2016-02-22 00:00:00' '2015-11-17 00:00:00'\n",
            " '2014-03-10 00:00:00' '2016-02-07 00:00:00' '2016-01-23 00:00:00'\n",
            " '2016-02-25 00:00:00' '2016-02-14 00:00:00' '2016-01-02 00:00:00'\n",
            " '2015-09-04 00:00:00' '2015-11-12 00:00:00' '2015-12-27 00:00:00'\n",
            " '2015-11-24 00:00:00' '2016-01-20 00:00:00' '2016-02-03 00:00:00'\n",
            " '2015-12-05 00:00:00' '2015-08-07 00:00:00' '2016-01-28 00:00:00'\n",
            " '2016-01-31 00:00:00' '2016-02-08 00:00:00' '2016-01-07 00:00:00'\n",
            " '2016-01-22 00:00:00' '2016-01-18 00:00:00' '2016-01-08 00:00:00'\n",
            " '2015-11-23 00:00:00' '2016-01-13 00:00:00' '2016-01-17 00:00:00'\n",
            " '2016-01-15 00:00:00' '2015-11-08 00:00:00' '2016-01-26 00:00:00'\n",
            " '2016-02-04 00:00:00' '2016-01-25 00:00:00' '2016-01-16 00:00:00'\n",
            " '2015-08-10 00:00:00' '2016-01-03 00:00:00' '2016-01-19 00:00:00'\n",
            " '2015-12-30 00:00:00' '2016-02-01 00:00:00' '2015-12-17 00:00:00'\n",
            " '2015-11-10 00:00:00' '2016-01-06 00:00:00' '2015-09-09 00:00:00'\n",
            " '2015-06-18 00:00:00']\n",
            "Уникальные значения столбца NumberOfPictures\n",
            "[0]\n",
            "Уникальные значения столбца PostalCode\n",
            "[70435 66954 90480 ... 38528 38325 31096]\n",
            "Уникальные значения столбца LastSeen\n",
            "['2016-04-07 03:16:57' '2016-04-07 01:46:50' '2016-04-05 12:47:46' ...\n",
            " '2016-03-19 20:44:43' '2016-03-29 10:17:23' '2016-03-21 10:42:49']\n"
          ]
        }
      ],
      "source": [
        "show_rows(autos_data)"
      ]
    },
    {
      "cell_type": "markdown",
      "metadata": {
        "id": "brbWBG45Roym"
      },
      "source": [
        "* В столбце RegistrationYear существуют некорректные значения года регистрации.\n",
        "* В столбце RegistrationMonth отсутсвует месяц регистрации.\n",
        "* В столбце Power присутвует некорректное значение мощности."
      ]
    },
    {
      "cell_type": "markdown",
      "metadata": {
        "id": "ag0rzmrwRoym"
      },
      "source": [
        "Определим признаки, важные для модели.\n",
        "\n",
        "К значимым признакам отнесем следующие столбцы:\n",
        "\n",
        "* VehicleType. Тип машины определяет ее функционал. Чем больше возможносей у машины, тем выше цена.\n",
        "* Gearbox. Наличие автоматической коробки передач повышает стоимость машины из-за сложности конструкции.\n",
        "* Power. Мощность в лоашдиных силах (далее л.с.) напрямую влияют на цену.\n",
        "* Kilometer. Имеет обратно пропорциональную зависиммость от цены. Чем больше километров проехала машина, тем меньше ее надежность и соответсвенно цена.\n",
        "* FuelType. Тип топлива определяет конструкцию двигателя внутреннего сгорания.\n",
        "* Brand. Концерн/компания, которая создала автомобиль показывает качество и надежность автомобиля.\n",
        "* NotRepaired. Машины, которые побывали в дорожно-транспортных проишествиях означает, что машина подвергалась изменениям и ее надежность ниже.\n",
        "* RegistrationYear. Год регистрации определяет сколько уже лет машина на ходу. соответвенно, чем больше возраст, тем меньше цена.\n",
        "* Model. В купе с типом машины и брендом може влиять на популярность у покупателей.\n",
        "\n",
        "Остальные столбцы для модели не требуются, так как не влияют на стоимость."
      ]
    },
    {
      "cell_type": "code",
      "execution_count": null,
      "metadata": {
        "colab": {
          "base_uri": "https://localhost:8080/",
          "height": 269
        },
        "id": "3jlWuDnURoyn",
        "outputId": "040a2bf2-bd35-41c6-a047-d588c6222db9"
      },
      "outputs": [
        {
          "data": {
            "text/html": [
              "\n",
              "  <div id=\"df-be908f93-218e-42bb-9578-dd61326bd511\">\n",
              "    <div class=\"colab-df-container\">\n",
              "      <div>\n",
              "<style scoped>\n",
              "    .dataframe tbody tr th:only-of-type {\n",
              "        vertical-align: middle;\n",
              "    }\n",
              "\n",
              "    .dataframe tbody tr th {\n",
              "        vertical-align: top;\n",
              "    }\n",
              "\n",
              "    .dataframe thead th {\n",
              "        text-align: right;\n",
              "    }\n",
              "</style>\n",
              "<table border=\"1\" class=\"dataframe\">\n",
              "  <thead>\n",
              "    <tr style=\"text-align: right;\">\n",
              "      <th></th>\n",
              "      <th>count</th>\n",
              "      <th>mean</th>\n",
              "      <th>std</th>\n",
              "      <th>min</th>\n",
              "      <th>25%</th>\n",
              "      <th>50%</th>\n",
              "      <th>75%</th>\n",
              "      <th>max</th>\n",
              "    </tr>\n",
              "  </thead>\n",
              "  <tbody>\n",
              "    <tr>\n",
              "      <th>Price</th>\n",
              "      <td>354369.0</td>\n",
              "      <td>4416.656776</td>\n",
              "      <td>4514.158514</td>\n",
              "      <td>0.0</td>\n",
              "      <td>1050.0</td>\n",
              "      <td>2700.0</td>\n",
              "      <td>6400.0</td>\n",
              "      <td>20000.0</td>\n",
              "    </tr>\n",
              "    <tr>\n",
              "      <th>RegistrationYear</th>\n",
              "      <td>354369.0</td>\n",
              "      <td>2004.234448</td>\n",
              "      <td>90.227958</td>\n",
              "      <td>1000.0</td>\n",
              "      <td>1999.0</td>\n",
              "      <td>2003.0</td>\n",
              "      <td>2008.0</td>\n",
              "      <td>9999.0</td>\n",
              "    </tr>\n",
              "    <tr>\n",
              "      <th>Power</th>\n",
              "      <td>354369.0</td>\n",
              "      <td>110.094337</td>\n",
              "      <td>189.850405</td>\n",
              "      <td>0.0</td>\n",
              "      <td>69.0</td>\n",
              "      <td>105.0</td>\n",
              "      <td>143.0</td>\n",
              "      <td>20000.0</td>\n",
              "    </tr>\n",
              "    <tr>\n",
              "      <th>Kilometer</th>\n",
              "      <td>354369.0</td>\n",
              "      <td>128211.172535</td>\n",
              "      <td>37905.341530</td>\n",
              "      <td>5000.0</td>\n",
              "      <td>125000.0</td>\n",
              "      <td>150000.0</td>\n",
              "      <td>150000.0</td>\n",
              "      <td>150000.0</td>\n",
              "    </tr>\n",
              "    <tr>\n",
              "      <th>RegistrationMonth</th>\n",
              "      <td>354369.0</td>\n",
              "      <td>5.714645</td>\n",
              "      <td>3.726421</td>\n",
              "      <td>0.0</td>\n",
              "      <td>3.0</td>\n",
              "      <td>6.0</td>\n",
              "      <td>9.0</td>\n",
              "      <td>12.0</td>\n",
              "    </tr>\n",
              "    <tr>\n",
              "      <th>NumberOfPictures</th>\n",
              "      <td>354369.0</td>\n",
              "      <td>0.000000</td>\n",
              "      <td>0.000000</td>\n",
              "      <td>0.0</td>\n",
              "      <td>0.0</td>\n",
              "      <td>0.0</td>\n",
              "      <td>0.0</td>\n",
              "      <td>0.0</td>\n",
              "    </tr>\n",
              "    <tr>\n",
              "      <th>PostalCode</th>\n",
              "      <td>354369.0</td>\n",
              "      <td>50508.689087</td>\n",
              "      <td>25783.096248</td>\n",
              "      <td>1067.0</td>\n",
              "      <td>30165.0</td>\n",
              "      <td>49413.0</td>\n",
              "      <td>71083.0</td>\n",
              "      <td>99998.0</td>\n",
              "    </tr>\n",
              "  </tbody>\n",
              "</table>\n",
              "</div>\n",
              "      <button class=\"colab-df-convert\" onclick=\"convertToInteractive('df-be908f93-218e-42bb-9578-dd61326bd511')\"\n",
              "              title=\"Convert this dataframe to an interactive table.\"\n",
              "              style=\"display:none;\">\n",
              "        \n",
              "  <svg xmlns=\"http://www.w3.org/2000/svg\" height=\"24px\"viewBox=\"0 0 24 24\"\n",
              "       width=\"24px\">\n",
              "    <path d=\"M0 0h24v24H0V0z\" fill=\"none\"/>\n",
              "    <path d=\"M18.56 5.44l.94 2.06.94-2.06 2.06-.94-2.06-.94-.94-2.06-.94 2.06-2.06.94zm-11 1L8.5 8.5l.94-2.06 2.06-.94-2.06-.94L8.5 2.5l-.94 2.06-2.06.94zm10 10l.94 2.06.94-2.06 2.06-.94-2.06-.94-.94-2.06-.94 2.06-2.06.94z\"/><path d=\"M17.41 7.96l-1.37-1.37c-.4-.4-.92-.59-1.43-.59-.52 0-1.04.2-1.43.59L10.3 9.45l-7.72 7.72c-.78.78-.78 2.05 0 2.83L4 21.41c.39.39.9.59 1.41.59.51 0 1.02-.2 1.41-.59l7.78-7.78 2.81-2.81c.8-.78.8-2.07 0-2.86zM5.41 20L4 18.59l7.72-7.72 1.47 1.35L5.41 20z\"/>\n",
              "  </svg>\n",
              "      </button>\n",
              "      \n",
              "  <style>\n",
              "    .colab-df-container {\n",
              "      display:flex;\n",
              "      flex-wrap:wrap;\n",
              "      gap: 12px;\n",
              "    }\n",
              "\n",
              "    .colab-df-convert {\n",
              "      background-color: #E8F0FE;\n",
              "      border: none;\n",
              "      border-radius: 50%;\n",
              "      cursor: pointer;\n",
              "      display: none;\n",
              "      fill: #1967D2;\n",
              "      height: 32px;\n",
              "      padding: 0 0 0 0;\n",
              "      width: 32px;\n",
              "    }\n",
              "\n",
              "    .colab-df-convert:hover {\n",
              "      background-color: #E2EBFA;\n",
              "      box-shadow: 0px 1px 2px rgba(60, 64, 67, 0.3), 0px 1px 3px 1px rgba(60, 64, 67, 0.15);\n",
              "      fill: #174EA6;\n",
              "    }\n",
              "\n",
              "    [theme=dark] .colab-df-convert {\n",
              "      background-color: #3B4455;\n",
              "      fill: #D2E3FC;\n",
              "    }\n",
              "\n",
              "    [theme=dark] .colab-df-convert:hover {\n",
              "      background-color: #434B5C;\n",
              "      box-shadow: 0px 1px 3px 1px rgba(0, 0, 0, 0.15);\n",
              "      filter: drop-shadow(0px 1px 2px rgba(0, 0, 0, 0.3));\n",
              "      fill: #FFFFFF;\n",
              "    }\n",
              "  </style>\n",
              "\n",
              "      <script>\n",
              "        const buttonEl =\n",
              "          document.querySelector('#df-be908f93-218e-42bb-9578-dd61326bd511 button.colab-df-convert');\n",
              "        buttonEl.style.display =\n",
              "          google.colab.kernel.accessAllowed ? 'block' : 'none';\n",
              "\n",
              "        async function convertToInteractive(key) {\n",
              "          const element = document.querySelector('#df-be908f93-218e-42bb-9578-dd61326bd511');\n",
              "          const dataTable =\n",
              "            await google.colab.kernel.invokeFunction('convertToInteractive',\n",
              "                                                     [key], {});\n",
              "          if (!dataTable) return;\n",
              "\n",
              "          const docLinkHtml = 'Like what you see? Visit the ' +\n",
              "            '<a target=\"_blank\" href=https://colab.research.google.com/notebooks/data_table.ipynb>data table notebook</a>'\n",
              "            + ' to learn more about interactive tables.';\n",
              "          element.innerHTML = '';\n",
              "          dataTable['output_type'] = 'display_data';\n",
              "          await google.colab.output.renderOutput(dataTable, element);\n",
              "          const docLink = document.createElement('div');\n",
              "          docLink.innerHTML = docLinkHtml;\n",
              "          element.appendChild(docLink);\n",
              "        }\n",
              "      </script>\n",
              "    </div>\n",
              "  </div>\n",
              "  "
            ],
            "text/plain": [
              "                      count           mean           std     min       25%  \\\n",
              "Price              354369.0    4416.656776   4514.158514     0.0    1050.0   \n",
              "RegistrationYear   354369.0    2004.234448     90.227958  1000.0    1999.0   \n",
              "Power              354369.0     110.094337    189.850405     0.0      69.0   \n",
              "Kilometer          354369.0  128211.172535  37905.341530  5000.0  125000.0   \n",
              "RegistrationMonth  354369.0       5.714645      3.726421     0.0       3.0   \n",
              "NumberOfPictures   354369.0       0.000000      0.000000     0.0       0.0   \n",
              "PostalCode         354369.0   50508.689087  25783.096248  1067.0   30165.0   \n",
              "\n",
              "                        50%       75%       max  \n",
              "Price                2700.0    6400.0   20000.0  \n",
              "RegistrationYear     2003.0    2008.0    9999.0  \n",
              "Power                 105.0     143.0   20000.0  \n",
              "Kilometer          150000.0  150000.0  150000.0  \n",
              "RegistrationMonth       6.0       9.0      12.0  \n",
              "NumberOfPictures        0.0       0.0       0.0  \n",
              "PostalCode          49413.0   71083.0   99998.0  "
            ]
          },
          "execution_count": 8,
          "metadata": {},
          "output_type": "execute_result"
        }
      ],
      "source": [
        "autos_data.describe().T"
      ]
    },
    {
      "cell_type": "markdown",
      "metadata": {
        "id": "zXGfJbGPRoyn"
      },
      "source": [
        "Отображение сводной информации датафрейма в транпонированом виде"
      ]
    },
    {
      "cell_type": "markdown",
      "metadata": {
        "id": "5AC4Acs-Royo"
      },
      "source": [
        "### Предобработка данных"
      ]
    },
    {
      "cell_type": "markdown",
      "metadata": {
        "id": "NxGNPbPCRoyo"
      },
      "source": [
        "Сокращу дата фрейм до нужных столбцов."
      ]
    },
    {
      "cell_type": "code",
      "execution_count": null,
      "metadata": {
        "colab": {
          "base_uri": "https://localhost:8080/"
        },
        "id": "VXjiJvXJRoyo",
        "outputId": "02a4ac4d-bb5a-4f36-e124-82d162536b92"
      },
      "outputs": [
        {
          "name": "stdout",
          "output_type": "stream",
          "text": [
            "<class 'pandas.core.frame.DataFrame'>\n",
            "RangeIndex: 354369 entries, 0 to 354368\n",
            "Data columns (total 10 columns):\n",
            " #   Column            Non-Null Count   Dtype \n",
            "---  ------            --------------   ----- \n",
            " 0   VehicleType       316879 non-null  object\n",
            " 1   Gearbox           334536 non-null  object\n",
            " 2   Power             354369 non-null  int64 \n",
            " 3   Kilometer         354369 non-null  int64 \n",
            " 4   FuelType          321474 non-null  object\n",
            " 5   Brand             354369 non-null  object\n",
            " 6   NotRepaired       283215 non-null  object\n",
            " 7   RegistrationYear  354369 non-null  int64 \n",
            " 8   Model             334664 non-null  object\n",
            " 9   Price             354369 non-null  int64 \n",
            "dtypes: int64(4), object(6)\n",
            "memory usage: 27.0+ MB\n"
          ]
        }
      ],
      "source": [
        "filtred_autos_data = autos_data[['VehicleType', \n",
        "                         'Gearbox', \n",
        "                         'Power',\n",
        "                         'Kilometer',\n",
        "                         'FuelType',\n",
        "                         'Brand',\n",
        "                         'NotRepaired',\n",
        "                         'RegistrationYear',\n",
        "                         'Model',\n",
        "                         'Price']]\n",
        "filtred_autos_data.info()"
      ]
    },
    {
      "cell_type": "markdown",
      "metadata": {
        "id": "ClyHa2fXRoyp"
      },
      "source": [
        "Столбцы, требующие обработки:\n",
        "\n",
        "* VehicleType. Восстановим пропущенные значения по популярному типу из столбца Brand.\n",
        "* Gearbox. Для всех NaN установим значение 'manual'.\n",
        "* Power. Скоректируем на основе реальных значений в машинах. Иметь 1 л.с. или 15000 л.с. для машины на данный момент нереально.\n",
        "* FuelType. Восстановим пропущенные значения по популярному типу из столбца Brand.\n",
        "* NotRepaired. Для всех NaN установим значение 'yes'.\n",
        "* RegistrationYear. Скоректируем на основе реальных значений в машинах.\n",
        "* Model. Для всех NaN установим значение 'unknown'.\n",
        "\n",
        "Проверю наполнение целевого признака Price."
      ]
    },
    {
      "cell_type": "code",
      "execution_count": null,
      "metadata": {
        "colab": {
          "base_uri": "https://localhost:8080/"
        },
        "id": "l4QY1-BDRoyp",
        "outputId": "eff23225-7643-47d4-e0c6-db7452e97999",
        "scrolled": true
      },
      "outputs": [
        {
          "data": {
            "text/plain": [
              "0        10772\n",
              "500       5670\n",
              "1500      5394\n",
              "1000      4649\n",
              "1200      4594\n",
              "         ...  \n",
              "1368         1\n",
              "233          1\n",
              "11080        1\n",
              "16340        1\n",
              "10985        1\n",
              "Name: Price, Length: 3731, dtype: int64"
            ]
          },
          "execution_count": 10,
          "metadata": {},
          "output_type": "execute_result"
        }
      ],
      "source": [
        "filtred_autos_data['Price'].value_counts()"
      ]
    },
    {
      "cell_type": "markdown",
      "metadata": {
        "id": "Xsz-iTbJRoyp"
      },
      "source": [
        "Видно, что существует 10772 записи без цены. Удалю их и проверю распределение цены на гистограмме."
      ]
    },
    {
      "cell_type": "code",
      "execution_count": null,
      "metadata": {
        "colab": {
          "base_uri": "https://localhost:8080/",
          "height": 693
        },
        "id": "G1GQpnHmRoyp",
        "outputId": "a2b173ee-b215-4bdf-98e9-5935d05b7953",
        "scrolled": true
      },
      "outputs": [
        {
          "data": {
            "text/plain": [
              "count    343597.000000\n",
              "mean       4555.121974\n",
              "std        4515.058553\n",
              "min           1.000000\n",
              "25%        1200.000000\n",
              "50%        2890.000000\n",
              "75%        6500.000000\n",
              "max       20000.000000\n",
              "Name: Price, dtype: float64"
            ]
          },
          "execution_count": 11,
          "metadata": {},
          "output_type": "execute_result"
        },
        {
          "data": {
            "image/png": "[encoded data removed]",
            "text/plain": [
              "<Figure size 864x648 with 1 Axes>"
            ]
          },
          "metadata": {
            "needs_background": "light"
          },
          "output_type": "display_data"
        }
      ],
      "source": [
        "filtred_autos_data = filtred_autos_data.query('Price > 0')\n",
        "filtred_autos_data['Price'].hist(bins=100, figsize=(12,9))\n",
        "filtred_autos_data['Price'].describe()"
      ]
    },
    {
      "cell_type": "markdown",
      "metadata": {
        "id": "n0VvvGBURoyq"
      },
      "source": [
        "Выделю квантили 5% и 80%."
      ]
    },
    {
      "cell_type": "code",
      "execution_count": null,
      "metadata": {
        "colab": {
          "base_uri": "https://localhost:8080/"
        },
        "id": "Yw8wodefRoyq",
        "outputId": "57c18ac9-704b-446b-d1c0-1fb1fab77df7",
        "scrolled": true
      },
      "outputs": [
        {
          "data": {
            "text/plain": [
              "0.05     350.0\n",
              "0.80    7800.0\n",
              "Name: Price, dtype: float64"
            ]
          },
          "execution_count": 12,
          "metadata": {},
          "output_type": "execute_result"
        }
      ],
      "source": [
        "filtred_autos_data['Price'].quantile([.05, 0.8])"
      ]
    },
    {
      "cell_type": "markdown",
      "metadata": {
        "id": "CnBHS6TiRoyq"
      },
      "source": [
        "Стоимость 350 евро примерно равно 28000 рублей. Это минимальная цена для продажи поддержанного авто. Выбор 80% квантиля обоснован болльшими выбросами после 7500 евро."
      ]
    },
    {
      "cell_type": "code",
      "execution_count": null,
      "metadata": {
        "colab": {
          "base_uri": "https://localhost:8080/"
        },
        "id": "uKxLwtk7Royr",
        "outputId": "068f80c4-af94-4add-f2c1-73f7dcfbe7f3",
        "scrolled": true
      },
      "outputs": [
        {
          "name": "stdout",
          "output_type": "stream",
          "text": [
            "<class 'pandas.core.frame.DataFrame'>\n",
            "Int64Index: 259798 entries, 0 to 354368\n",
            "Data columns (total 10 columns):\n",
            " #   Column            Non-Null Count   Dtype \n",
            "---  ------            --------------   ----- \n",
            " 0   VehicleType       233267 non-null  object\n",
            " 1   Gearbox           246646 non-null  object\n",
            " 2   Power             259798 non-null  int64 \n",
            " 3   Kilometer         259798 non-null  int64 \n",
            " 4   FuelType          236972 non-null  object\n",
            " 5   Brand             259798 non-null  object\n",
            " 6   NotRepaired       206998 non-null  object\n",
            " 7   RegistrationYear  259798 non-null  int64 \n",
            " 8   Model             246358 non-null  object\n",
            " 9   Price             259798 non-null  int64 \n",
            "dtypes: int64(4), object(6)\n",
            "memory usage: 21.8+ MB\n"
          ]
        }
      ],
      "source": [
        "filtred_autos_data = filtred_autos_data.query('350 <= Price <= 7800')\n",
        "filtred_autos_data.info()"
      ]
    },
    {
      "cell_type": "markdown",
      "metadata": {
        "id": "0xJLHtBRRoyr"
      },
      "source": [
        "Проверю значения столбца RegistrationYear на гистограмме."
      ]
    },
    {
      "cell_type": "code",
      "execution_count": null,
      "metadata": {
        "colab": {
          "base_uri": "https://localhost:8080/",
          "height": 693
        },
        "id": "u16VPbbURoyr",
        "outputId": "656c62b8-9683-4288-fdc2-b5f5732ed62a",
        "scrolled": true
      },
      "outputs": [
        {
          "data": {
            "text/plain": [
              "count    259798.000000\n",
              "mean       2002.844976\n",
              "std          65.140145\n",
              "min        1000.000000\n",
              "25%        1999.000000\n",
              "50%        2002.000000\n",
              "75%        2006.000000\n",
              "max        9999.000000\n",
              "Name: RegistrationYear, dtype: float64"
            ]
          },
          "execution_count": 14,
          "metadata": {},
          "output_type": "execute_result"
        },
        {
          "data": {
            "image/png": "[encoded data removed]",
            "text/plain": [
              "<Figure size 864x648 with 1 Axes>"
            ]
          },
          "metadata": {
            "needs_background": "light"
          },
          "output_type": "display_data"
        }
      ],
      "source": [
        "filtred_autos_data['RegistrationYear'].hist(bins=100, figsize=(12,9))\n",
        "filtred_autos_data['RegistrationYear'].describe()"
      ]
    },
    {
      "cell_type": "markdown",
      "metadata": {
        "id": "awCJ16jqRoyr"
      },
      "source": [
        "В годе регистрации наблюдаются выбросы. Отсеку правые выбросы, узнав максимальную дату скачивания анкеты автомобиля."
      ]
    },
    {
      "cell_type": "code",
      "execution_count": null,
      "metadata": {
        "colab": {
          "base_uri": "https://localhost:8080/"
        },
        "id": "PBOpIgNhRoys",
        "outputId": "8706bb6f-9335-4d8c-c554-ed43b462e1b1"
      },
      "outputs": [
        {
          "data": {
            "text/plain": [
              "Timestamp('2016-04-07 14:36:58')"
            ]
          },
          "execution_count": 15,
          "metadata": {},
          "output_type": "execute_result"
        }
      ],
      "source": [
        "date = pd.to_datetime(autos_data['DateCrawled'])\n",
        "date.max()"
      ]
    },
    {
      "cell_type": "markdown",
      "metadata": {
        "id": "vq4cQXBvRoys"
      },
      "source": [
        "Даты регистрации после 2016 года некорректны и машины появились не раньше 1900 года. Отсечем ненужные года и промотрим левые выбросы."
      ]
    },
    {
      "cell_type": "code",
      "execution_count": null,
      "metadata": {
        "colab": {
          "base_uri": "https://localhost:8080/",
          "height": 693
        },
        "id": "2OFsNssBRoys",
        "outputId": "bce26e78-3433-4568-e2be-1b2de628ed9c",
        "scrolled": true
      },
      "outputs": [
        {
          "data": {
            "text/plain": [
              "count    247788.000000\n",
              "mean       2001.539179\n",
              "std           6.112319\n",
              "min        1910.000000\n",
              "25%        1998.000000\n",
              "50%        2002.000000\n",
              "75%        2005.000000\n",
              "max        2016.000000\n",
              "Name: RegistrationYear, dtype: float64"
            ]
          },
          "execution_count": 16,
          "metadata": {},
          "output_type": "execute_result"
        },
        {
          "data": {
            "image/png": "[encoded data removed]",
            "text/plain": [
              "<Figure size 864x648 with 1 Axes>"
            ]
          },
          "metadata": {
            "needs_background": "light"
          },
          "output_type": "display_data"
        }
      ],
      "source": [
        "filtred_autos_data = filtred_autos_data.query('1899 < RegistrationYear < 2017')\n",
        "filtred_autos_data['RegistrationYear'].hist(bins=100, figsize=(12,9))\n",
        "filtred_autos_data['RegistrationYear'].describe()"
      ]
    },
    {
      "cell_type": "markdown",
      "metadata": {
        "id": "xyOzSxBFRoys"
      },
      "source": [
        "По левой части гистограммы видно, что адекватно использовать левую границу в 1960 год, так как это старые, но возможно еще работающие машины."
      ]
    },
    {
      "cell_type": "code",
      "execution_count": null,
      "metadata": {
        "colab": {
          "base_uri": "https://localhost:8080/",
          "height": 693
        },
        "id": "mGhiIS01Roys",
        "outputId": "08bbdd52-d174-4e54-f857-119349867e9c",
        "scrolled": true
      },
      "outputs": [
        {
          "data": {
            "text/plain": [
              "count    247665.000000\n",
              "mean       2001.567440\n",
              "std           5.968335\n",
              "min        1960.000000\n",
              "25%        1998.000000\n",
              "50%        2002.000000\n",
              "75%        2005.000000\n",
              "max        2016.000000\n",
              "Name: RegistrationYear, dtype: float64"
            ]
          },
          "execution_count": 17,
          "metadata": {},
          "output_type": "execute_result"
        },
        {
          "data": {
            "image/png": "[encoded data removed]",
            "text/plain": [
              "<Figure size 864x648 with 1 Axes>"
            ]
          },
          "metadata": {
            "needs_background": "light"
          },
          "output_type": "display_data"
        }
      ],
      "source": [
        "filtred_autos_data = filtred_autos_data.query('1959 < RegistrationYear < 2017')\n",
        "filtred_autos_data['RegistrationYear'].hist(bins=50, figsize=(12,9))\n",
        "filtred_autos_data['RegistrationYear'].describe()"
      ]
    },
    {
      "cell_type": "markdown",
      "metadata": {
        "id": "9j_h30pDRoyt"
      },
      "source": [
        "Проведем замену NaN в Gearbox, NotRepaired и Model."
      ]
    },
    {
      "cell_type": "code",
      "execution_count": null,
      "metadata": {
        "colab": {
          "base_uri": "https://localhost:8080/"
        },
        "id": "gZ9ahdjdRoyt",
        "outputId": "9e4216f9-f91f-4ef4-bae4-7f43b7457166",
        "scrolled": true
      },
      "outputs": [
        {
          "data": {
            "text/plain": [
              "VehicleType         0.058640\n",
              "Gearbox             0.000000\n",
              "Power               0.000000\n",
              "Kilometer           0.000000\n",
              "FuelType            0.073575\n",
              "Brand               0.000000\n",
              "NotRepaired         0.000000\n",
              "RegistrationYear    0.000000\n",
              "Model               0.000000\n",
              "Price               0.000000\n",
              "dtype: float64"
            ]
          },
          "execution_count": 18,
          "metadata": {},
          "output_type": "execute_result"
        }
      ],
      "source": [
        "filtred_autos_data.fillna({'Gearbox':'manual', \n",
        "                           'NotRepaired':'unknown_repair',\n",
        "                           'Model':'unknown'},\n",
        "                          inplace=True)\n",
        "filtred_autos_data.isna().mean()"
      ]
    },
    {
      "cell_type": "markdown",
      "metadata": {
        "id": "zU0DrgNLRoyt"
      },
      "source": [
        "Оценю количество пропущенных значений относительно всех значений в столбце VehicleType"
      ]
    },
    {
      "cell_type": "code",
      "execution_count": null,
      "metadata": {
        "colab": {
          "base_uri": "https://localhost:8080/",
          "height": 191
        },
        "id": "RRuwBu2gRoyt",
        "outputId": "cc5e261f-de2d-4f8e-e8ec-87139c571651",
        "scrolled": true
      },
      "outputs": [
        {
          "data": {
            "text/plain": [
              "sedan          67609\n",
              "small          66486\n",
              "wagon          47300\n",
              "bus            21087\n",
              "convertible    12662\n",
              "coupe          10311\n",
              "suv             5237\n",
              "other           2450\n",
              "Name: VehicleType, dtype: int64"
            ]
          },
          "metadata": {},
          "output_type": "display_data"
        },
        {
          "data": {
            "text/plain": [
              "14523"
            ]
          },
          "execution_count": 19,
          "metadata": {},
          "output_type": "execute_result"
        }
      ],
      "source": [
        "display(filtred_autos_data['VehicleType'].value_counts())\n",
        "filtred_autos_data['VehicleType'].isna().sum()"
      ]
    },
    {
      "cell_type": "markdown",
      "metadata": {
        "id": "3FeSJWtARoyt"
      },
      "source": [
        "Выполним замену NaN в соотвествии с популярным типом кузова для каждого бренда."
      ]
    },
    {
      "cell_type": "code",
      "execution_count": null,
      "metadata": {
        "colab": {
          "base_uri": "https://localhost:8080/",
          "height": 609
        },
        "id": "JY0zTZPTRoyu",
        "outputId": "482346a8-a0b4-4b30-8d45-d00ff6c00c99",
        "scrolled": true
      },
      "outputs": [
        {
          "data": {
            "text/html": [
              "\n",
              "  <div id=\"df-ea3be9d6-4fd1-49ed-961e-286c41e6cc22\">\n",
              "    <div class=\"colab-df-container\">\n",
              "      <div>\n",
              "<style scoped>\n",
              "    .dataframe tbody tr th:only-of-type {\n",
              "        vertical-align: middle;\n",
              "    }\n",
              "\n",
              "    .dataframe tbody tr th {\n",
              "        vertical-align: top;\n",
              "    }\n",
              "\n",
              "    .dataframe thead tr th {\n",
              "        text-align: left;\n",
              "    }\n",
              "\n",
              "    .dataframe thead tr:last-of-type th {\n",
              "        text-align: right;\n",
              "    }\n",
              "</style>\n",
              "<table border=\"1\" class=\"dataframe\">\n",
              "  <thead>\n",
              "    <tr>\n",
              "      <th></th>\n",
              "      <th colspan=\"21\" halign=\"left\">count</th>\n",
              "    </tr>\n",
              "    <tr>\n",
              "      <th></th>\n",
              "      <th colspan=\"21\" halign=\"left\">Price</th>\n",
              "    </tr>\n",
              "    <tr>\n",
              "      <th>Brand</th>\n",
              "      <th>alfa_romeo</th>\n",
              "      <th>audi</th>\n",
              "      <th>bmw</th>\n",
              "      <th>chevrolet</th>\n",
              "      <th>chrysler</th>\n",
              "      <th>citroen</th>\n",
              "      <th>dacia</th>\n",
              "      <th>daewoo</th>\n",
              "      <th>daihatsu</th>\n",
              "      <th>fiat</th>\n",
              "      <th>...</th>\n",
              "      <th>seat</th>\n",
              "      <th>skoda</th>\n",
              "      <th>smart</th>\n",
              "      <th>sonstige_autos</th>\n",
              "      <th>subaru</th>\n",
              "      <th>suzuki</th>\n",
              "      <th>toyota</th>\n",
              "      <th>trabant</th>\n",
              "      <th>volkswagen</th>\n",
              "      <th>volvo</th>\n",
              "    </tr>\n",
              "    <tr>\n",
              "      <th>VehicleType</th>\n",
              "      <th></th>\n",
              "      <th></th>\n",
              "      <th></th>\n",
              "      <th></th>\n",
              "      <th></th>\n",
              "      <th></th>\n",
              "      <th></th>\n",
              "      <th></th>\n",
              "      <th></th>\n",
              "      <th></th>\n",
              "      <th></th>\n",
              "      <th></th>\n",
              "      <th></th>\n",
              "      <th></th>\n",
              "      <th></th>\n",
              "      <th></th>\n",
              "      <th></th>\n",
              "      <th></th>\n",
              "      <th></th>\n",
              "      <th></th>\n",
              "      <th></th>\n",
              "    </tr>\n",
              "  </thead>\n",
              "  <tbody>\n",
              "    <tr>\n",
              "      <th>bus</th>\n",
              "      <td>NaN</td>\n",
              "      <td>10.0</td>\n",
              "      <td>4.0</td>\n",
              "      <td>98.0</td>\n",
              "      <td>370.0</td>\n",
              "      <td>1040.0</td>\n",
              "      <td>15.0</td>\n",
              "      <td>26.0</td>\n",
              "      <td>31.0</td>\n",
              "      <td>707.0</td>\n",
              "      <td>...</td>\n",
              "      <td>485.0</td>\n",
              "      <td>158.0</td>\n",
              "      <td>1.0</td>\n",
              "      <td>140.0</td>\n",
              "      <td>16.0</td>\n",
              "      <td>27.0</td>\n",
              "      <td>341.0</td>\n",
              "      <td>NaN</td>\n",
              "      <td>5936.0</td>\n",
              "      <td>NaN</td>\n",
              "    </tr>\n",
              "    <tr>\n",
              "      <th>convertible</th>\n",
              "      <td>111.0</td>\n",
              "      <td>667.0</td>\n",
              "      <td>1636.0</td>\n",
              "      <td>6.0</td>\n",
              "      <td>195.0</td>\n",
              "      <td>96.0</td>\n",
              "      <td>NaN</td>\n",
              "      <td>1.0</td>\n",
              "      <td>8.0</td>\n",
              "      <td>257.0</td>\n",
              "      <td>...</td>\n",
              "      <td>NaN</td>\n",
              "      <td>3.0</td>\n",
              "      <td>988.0</td>\n",
              "      <td>161.0</td>\n",
              "      <td>NaN</td>\n",
              "      <td>32.0</td>\n",
              "      <td>47.0</td>\n",
              "      <td>30.0</td>\n",
              "      <td>2029.0</td>\n",
              "      <td>35.0</td>\n",
              "    </tr>\n",
              "    <tr>\n",
              "      <th>coupe</th>\n",
              "      <td>180.0</td>\n",
              "      <td>651.0</td>\n",
              "      <td>2570.0</td>\n",
              "      <td>45.0</td>\n",
              "      <td>17.0</td>\n",
              "      <td>137.0</td>\n",
              "      <td>NaN</td>\n",
              "      <td>2.0</td>\n",
              "      <td>NaN</td>\n",
              "      <td>151.0</td>\n",
              "      <td>...</td>\n",
              "      <td>64.0</td>\n",
              "      <td>6.0</td>\n",
              "      <td>318.0</td>\n",
              "      <td>79.0</td>\n",
              "      <td>3.0</td>\n",
              "      <td>4.0</td>\n",
              "      <td>178.0</td>\n",
              "      <td>2.0</td>\n",
              "      <td>740.0</td>\n",
              "      <td>50.0</td>\n",
              "    </tr>\n",
              "    <tr>\n",
              "      <th>other</th>\n",
              "      <td>10.0</td>\n",
              "      <td>83.0</td>\n",
              "      <td>187.0</td>\n",
              "      <td>18.0</td>\n",
              "      <td>6.0</td>\n",
              "      <td>95.0</td>\n",
              "      <td>5.0</td>\n",
              "      <td>5.0</td>\n",
              "      <td>9.0</td>\n",
              "      <td>151.0</td>\n",
              "      <td>...</td>\n",
              "      <td>47.0</td>\n",
              "      <td>21.0</td>\n",
              "      <td>8.0</td>\n",
              "      <td>167.0</td>\n",
              "      <td>5.0</td>\n",
              "      <td>10.0</td>\n",
              "      <td>15.0</td>\n",
              "      <td>4.0</td>\n",
              "      <td>586.0</td>\n",
              "      <td>NaN</td>\n",
              "    </tr>\n",
              "    <tr>\n",
              "      <th>sedan</th>\n",
              "      <td>777.0</td>\n",
              "      <td>7828.0</td>\n",
              "      <td>11309.0</td>\n",
              "      <td>146.0</td>\n",
              "      <td>205.0</td>\n",
              "      <td>538.0</td>\n",
              "      <td>97.0</td>\n",
              "      <td>87.0</td>\n",
              "      <td>35.0</td>\n",
              "      <td>796.0</td>\n",
              "      <td>...</td>\n",
              "      <td>1220.0</td>\n",
              "      <td>694.0</td>\n",
              "      <td>26.0</td>\n",
              "      <td>257.0</td>\n",
              "      <td>99.0</td>\n",
              "      <td>131.0</td>\n",
              "      <td>735.0</td>\n",
              "      <td>170.0</td>\n",
              "      <td>14847.0</td>\n",
              "      <td>487.0</td>\n",
              "    </tr>\n",
              "    <tr>\n",
              "      <th>small</th>\n",
              "      <td>185.0</td>\n",
              "      <td>933.0</td>\n",
              "      <td>324.0</td>\n",
              "      <td>574.0</td>\n",
              "      <td>12.0</td>\n",
              "      <td>1372.0</td>\n",
              "      <td>178.0</td>\n",
              "      <td>247.0</td>\n",
              "      <td>439.0</td>\n",
              "      <td>4520.0</td>\n",
              "      <td>...</td>\n",
              "      <td>2621.0</td>\n",
              "      <td>930.0</td>\n",
              "      <td>3099.0</td>\n",
              "      <td>166.0</td>\n",
              "      <td>99.0</td>\n",
              "      <td>810.0</td>\n",
              "      <td>1475.0</td>\n",
              "      <td>49.0</td>\n",
              "      <td>15294.0</td>\n",
              "      <td>6.0</td>\n",
              "    </tr>\n",
              "    <tr>\n",
              "      <th>suv</th>\n",
              "      <td>NaN</td>\n",
              "      <td>18.0</td>\n",
              "      <td>189.0</td>\n",
              "      <td>146.0</td>\n",
              "      <td>12.0</td>\n",
              "      <td>8.0</td>\n",
              "      <td>46.0</td>\n",
              "      <td>1.0</td>\n",
              "      <td>46.0</td>\n",
              "      <td>17.0</td>\n",
              "      <td>...</td>\n",
              "      <td>1.0</td>\n",
              "      <td>7.0</td>\n",
              "      <td>NaN</td>\n",
              "      <td>174.0</td>\n",
              "      <td>42.0</td>\n",
              "      <td>557.0</td>\n",
              "      <td>252.0</td>\n",
              "      <td>NaN</td>\n",
              "      <td>247.0</td>\n",
              "      <td>30.0</td>\n",
              "    </tr>\n",
              "    <tr>\n",
              "      <th>wagon</th>\n",
              "      <td>388.0</td>\n",
              "      <td>6422.0</td>\n",
              "      <td>4997.0</td>\n",
              "      <td>83.0</td>\n",
              "      <td>183.0</td>\n",
              "      <td>497.0</td>\n",
              "      <td>227.0</td>\n",
              "      <td>36.0</td>\n",
              "      <td>16.0</td>\n",
              "      <td>370.0</td>\n",
              "      <td>...</td>\n",
              "      <td>215.0</td>\n",
              "      <td>1763.0</td>\n",
              "      <td>9.0</td>\n",
              "      <td>104.0</td>\n",
              "      <td>241.0</td>\n",
              "      <td>84.0</td>\n",
              "      <td>449.0</td>\n",
              "      <td>66.0</td>\n",
              "      <td>9704.0</td>\n",
              "      <td>1655.0</td>\n",
              "    </tr>\n",
              "  </tbody>\n",
              "</table>\n",
              "<p>8 rows × 40 columns</p>\n",
              "</div>\n",
              "      <button class=\"colab-df-convert\" onclick=\"convertToInteractive('df-ea3be9d6-4fd1-49ed-961e-286c41e6cc22')\"\n",
              "              title=\"Convert this dataframe to an interactive table.\"\n",
              "              style=\"display:none;\">\n",
              "        \n",
              "  <svg xmlns=\"http://www.w3.org/2000/svg\" height=\"24px\"viewBox=\"0 0 24 24\"\n",
              "       width=\"24px\">\n",
              "    <path d=\"M0 0h24v24H0V0z\" fill=\"none\"/>\n",
              "    <path d=\"M18.56 5.44l.94 2.06.94-2.06 2.06-.94-2.06-.94-.94-2.06-.94 2.06-2.06.94zm-11 1L8.5 8.5l.94-2.06 2.06-.94-2.06-.94L8.5 2.5l-.94 2.06-2.06.94zm10 10l.94 2.06.94-2.06 2.06-.94-2.06-.94-.94-2.06-.94 2.06-2.06.94z\"/><path d=\"M17.41 7.96l-1.37-1.37c-.4-.4-.92-.59-1.43-.59-.52 0-1.04.2-1.43.59L10.3 9.45l-7.72 7.72c-.78.78-.78 2.05 0 2.83L4 21.41c.39.39.9.59 1.41.59.51 0 1.02-.2 1.41-.59l7.78-7.78 2.81-2.81c.8-.78.8-2.07 0-2.86zM5.41 20L4 18.59l7.72-7.72 1.47 1.35L5.41 20z\"/>\n",
              "  </svg>\n",
              "      </button>\n",
              "      \n",
              "  <style>\n",
              "    .colab-df-container {\n",
              "      display:flex;\n",
              "      flex-wrap:wrap;\n",
              "      gap: 12px;\n",
              "    }\n",
              "\n",
              "    .colab-df-convert {\n",
              "      background-color: #E8F0FE;\n",
              "      border: none;\n",
              "      border-radius: 50%;\n",
              "      cursor: pointer;\n",
              "      display: none;\n",
              "      fill: #1967D2;\n",
              "      height: 32px;\n",
              "      padding: 0 0 0 0;\n",
              "      width: 32px;\n",
              "    }\n",
              "\n",
              "    .colab-df-convert:hover {\n",
              "      background-color: #E2EBFA;\n",
              "      box-shadow: 0px 1px 2px rgba(60, 64, 67, 0.3), 0px 1px 3px 1px rgba(60, 64, 67, 0.15);\n",
              "      fill: #174EA6;\n",
              "    }\n",
              "\n",
              "    [theme=dark] .colab-df-convert {\n",
              "      background-color: #3B4455;\n",
              "      fill: #D2E3FC;\n",
              "    }\n",
              "\n",
              "    [theme=dark] .colab-df-convert:hover {\n",
              "      background-color: #434B5C;\n",
              "      box-shadow: 0px 1px 3px 1px rgba(0, 0, 0, 0.15);\n",
              "      filter: drop-shadow(0px 1px 2px rgba(0, 0, 0, 0.3));\n",
              "      fill: #FFFFFF;\n",
              "    }\n",
              "  </style>\n",
              "\n",
              "      <script>\n",
              "        const buttonEl =\n",
              "          document.querySelector('#df-ea3be9d6-4fd1-49ed-961e-286c41e6cc22 button.colab-df-convert');\n",
              "        buttonEl.style.display =\n",
              "          google.colab.kernel.accessAllowed ? 'block' : 'none';\n",
              "\n",
              "        async function convertToInteractive(key) {\n",
              "          const element = document.querySelector('#df-ea3be9d6-4fd1-49ed-961e-286c41e6cc22');\n",
              "          const dataTable =\n",
              "            await google.colab.kernel.invokeFunction('convertToInteractive',\n",
              "                                                     [key], {});\n",
              "          if (!dataTable) return;\n",
              "\n",
              "          const docLinkHtml = 'Like what you see? Visit the ' +\n",
              "            '<a target=\"_blank\" href=https://colab.research.google.com/notebooks/data_table.ipynb>data table notebook</a>'\n",
              "            + ' to learn more about interactive tables.';\n",
              "          element.innerHTML = '';\n",
              "          dataTable['output_type'] = 'display_data';\n",
              "          await google.colab.output.renderOutput(dataTable, element);\n",
              "          const docLink = document.createElement('div');\n",
              "          docLink.innerHTML = docLinkHtml;\n",
              "          element.appendChild(docLink);\n",
              "        }\n",
              "      </script>\n",
              "    </div>\n",
              "  </div>\n",
              "  "
            ],
            "text/plain": [
              "                 count                                                     \\\n",
              "                 Price                                                      \n",
              "Brand       alfa_romeo    audi      bmw chevrolet chrysler citroen  dacia   \n",
              "VehicleType                                                                 \n",
              "bus                NaN    10.0      4.0      98.0    370.0  1040.0   15.0   \n",
              "convertible      111.0   667.0   1636.0       6.0    195.0    96.0    NaN   \n",
              "coupe            180.0   651.0   2570.0      45.0     17.0   137.0    NaN   \n",
              "other             10.0    83.0    187.0      18.0      6.0    95.0    5.0   \n",
              "sedan            777.0  7828.0  11309.0     146.0    205.0   538.0   97.0   \n",
              "small            185.0   933.0    324.0     574.0     12.0  1372.0  178.0   \n",
              "suv                NaN    18.0    189.0     146.0     12.0     8.0   46.0   \n",
              "wagon            388.0  6422.0   4997.0      83.0    183.0   497.0  227.0   \n",
              "\n",
              "                                     ...                          \\\n",
              "                                     ...                           \n",
              "Brand       daewoo daihatsu    fiat  ...    seat   skoda   smart   \n",
              "VehicleType                          ...                           \n",
              "bus           26.0     31.0   707.0  ...   485.0   158.0     1.0   \n",
              "convertible    1.0      8.0   257.0  ...     NaN     3.0   988.0   \n",
              "coupe          2.0      NaN   151.0  ...    64.0     6.0   318.0   \n",
              "other          5.0      9.0   151.0  ...    47.0    21.0     8.0   \n",
              "sedan         87.0     35.0   796.0  ...  1220.0   694.0    26.0   \n",
              "small        247.0    439.0  4520.0  ...  2621.0   930.0  3099.0   \n",
              "suv            1.0     46.0    17.0  ...     1.0     7.0     NaN   \n",
              "wagon         36.0     16.0   370.0  ...   215.0  1763.0     9.0   \n",
              "\n",
              "                                                                             \n",
              "                                                                             \n",
              "Brand       sonstige_autos subaru suzuki  toyota trabant volkswagen   volvo  \n",
              "VehicleType                                                                  \n",
              "bus                  140.0   16.0   27.0   341.0     NaN     5936.0     NaN  \n",
              "convertible          161.0    NaN   32.0    47.0    30.0     2029.0    35.0  \n",
              "coupe                 79.0    3.0    4.0   178.0     2.0      740.0    50.0  \n",
              "other                167.0    5.0   10.0    15.0     4.0      586.0     NaN  \n",
              "sedan                257.0   99.0  131.0   735.0   170.0    14847.0   487.0  \n",
              "small                166.0   99.0  810.0  1475.0    49.0    15294.0     6.0  \n",
              "suv                  174.0   42.0  557.0   252.0     NaN      247.0    30.0  \n",
              "wagon                104.0  241.0   84.0   449.0    66.0     9704.0  1655.0  \n",
              "\n",
              "[8 rows x 40 columns]"
            ]
          },
          "metadata": {},
          "output_type": "display_data"
        },
        {
          "data": {
            "text/plain": [
              "sedan          777\n",
              "wagon          388\n",
              "small          185\n",
              "coupe          180\n",
              "convertible    111\n",
              "other           10\n",
              "Name: VehicleType, dtype: int64"
            ]
          },
          "execution_count": 20,
          "metadata": {},
          "output_type": "execute_result"
        }
      ],
      "source": [
        "vehicle_type_pivot_table = filtred_autos_data.pivot_table(index=['VehicleType'], \n",
        "                                                          columns=['Brand'],\n",
        "                                                          values=['Price'],\n",
        "                                                          aggfunc=['count'])\n",
        "display(vehicle_type_pivot_table)\n",
        "filtred_autos_data[filtred_autos_data['Brand'] == 'alfa_romeo']['VehicleType'].value_counts()"
      ]
    },
    {
      "cell_type": "code",
      "execution_count": null,
      "metadata": {
        "colab": {
          "base_uri": "https://localhost:8080/",
          "height": 425
        },
        "id": "Qi8FEeHnRoyu",
        "outputId": "aa686e64-71e9-41b7-b4b5-3748e926d3f8",
        "scrolled": true
      },
      "outputs": [
        {
          "data": {
            "text/html": [
              "\n",
              "  <div id=\"df-46a68c3d-5e2f-4ed6-902b-581707cb66bd\">\n",
              "    <div class=\"colab-df-container\">\n",
              "      <div>\n",
              "<style scoped>\n",
              "    .dataframe tbody tr th:only-of-type {\n",
              "        vertical-align: middle;\n",
              "    }\n",
              "\n",
              "    .dataframe tbody tr th {\n",
              "        vertical-align: top;\n",
              "    }\n",
              "\n",
              "    .dataframe thead th {\n",
              "        text-align: right;\n",
              "    }\n",
              "</style>\n",
              "<table border=\"1\" class=\"dataframe\">\n",
              "  <thead>\n",
              "    <tr style=\"text-align: right;\">\n",
              "      <th>Brand</th>\n",
              "      <th>alfa_romeo</th>\n",
              "      <th>audi</th>\n",
              "      <th>bmw</th>\n",
              "      <th>chevrolet</th>\n",
              "      <th>chrysler</th>\n",
              "      <th>citroen</th>\n",
              "      <th>dacia</th>\n",
              "      <th>daewoo</th>\n",
              "      <th>daihatsu</th>\n",
              "      <th>fiat</th>\n",
              "      <th>...</th>\n",
              "      <th>seat</th>\n",
              "      <th>skoda</th>\n",
              "      <th>smart</th>\n",
              "      <th>sonstige_autos</th>\n",
              "      <th>subaru</th>\n",
              "      <th>suzuki</th>\n",
              "      <th>toyota</th>\n",
              "      <th>trabant</th>\n",
              "      <th>volkswagen</th>\n",
              "      <th>volvo</th>\n",
              "    </tr>\n",
              "    <tr>\n",
              "      <th>VehicleType</th>\n",
              "      <th></th>\n",
              "      <th></th>\n",
              "      <th></th>\n",
              "      <th></th>\n",
              "      <th></th>\n",
              "      <th></th>\n",
              "      <th></th>\n",
              "      <th></th>\n",
              "      <th></th>\n",
              "      <th></th>\n",
              "      <th></th>\n",
              "      <th></th>\n",
              "      <th></th>\n",
              "      <th></th>\n",
              "      <th></th>\n",
              "      <th></th>\n",
              "      <th></th>\n",
              "      <th></th>\n",
              "      <th></th>\n",
              "      <th></th>\n",
              "      <th></th>\n",
              "    </tr>\n",
              "  </thead>\n",
              "  <tbody>\n",
              "    <tr>\n",
              "      <th>bus</th>\n",
              "      <td>NaN</td>\n",
              "      <td>10.0</td>\n",
              "      <td>4.0</td>\n",
              "      <td>98.0</td>\n",
              "      <td>370.0</td>\n",
              "      <td>1040.0</td>\n",
              "      <td>15.0</td>\n",
              "      <td>26.0</td>\n",
              "      <td>31.0</td>\n",
              "      <td>707.0</td>\n",
              "      <td>...</td>\n",
              "      <td>485.0</td>\n",
              "      <td>158.0</td>\n",
              "      <td>1.0</td>\n",
              "      <td>140.0</td>\n",
              "      <td>16.0</td>\n",
              "      <td>27.0</td>\n",
              "      <td>341.0</td>\n",
              "      <td>NaN</td>\n",
              "      <td>5936.0</td>\n",
              "      <td>NaN</td>\n",
              "    </tr>\n",
              "    <tr>\n",
              "      <th>convertible</th>\n",
              "      <td>111.0</td>\n",
              "      <td>667.0</td>\n",
              "      <td>1636.0</td>\n",
              "      <td>6.0</td>\n",
              "      <td>195.0</td>\n",
              "      <td>96.0</td>\n",
              "      <td>NaN</td>\n",
              "      <td>1.0</td>\n",
              "      <td>8.0</td>\n",
              "      <td>257.0</td>\n",
              "      <td>...</td>\n",
              "      <td>NaN</td>\n",
              "      <td>3.0</td>\n",
              "      <td>988.0</td>\n",
              "      <td>161.0</td>\n",
              "      <td>NaN</td>\n",
              "      <td>32.0</td>\n",
              "      <td>47.0</td>\n",
              "      <td>30.0</td>\n",
              "      <td>2029.0</td>\n",
              "      <td>35.0</td>\n",
              "    </tr>\n",
              "    <tr>\n",
              "      <th>coupe</th>\n",
              "      <td>180.0</td>\n",
              "      <td>651.0</td>\n",
              "      <td>2570.0</td>\n",
              "      <td>45.0</td>\n",
              "      <td>17.0</td>\n",
              "      <td>137.0</td>\n",
              "      <td>NaN</td>\n",
              "      <td>2.0</td>\n",
              "      <td>NaN</td>\n",
              "      <td>151.0</td>\n",
              "      <td>...</td>\n",
              "      <td>64.0</td>\n",
              "      <td>6.0</td>\n",
              "      <td>318.0</td>\n",
              "      <td>79.0</td>\n",
              "      <td>3.0</td>\n",
              "      <td>4.0</td>\n",
              "      <td>178.0</td>\n",
              "      <td>2.0</td>\n",
              "      <td>740.0</td>\n",
              "      <td>50.0</td>\n",
              "    </tr>\n",
              "    <tr>\n",
              "      <th>other</th>\n",
              "      <td>10.0</td>\n",
              "      <td>83.0</td>\n",
              "      <td>187.0</td>\n",
              "      <td>18.0</td>\n",
              "      <td>6.0</td>\n",
              "      <td>95.0</td>\n",
              "      <td>5.0</td>\n",
              "      <td>5.0</td>\n",
              "      <td>9.0</td>\n",
              "      <td>151.0</td>\n",
              "      <td>...</td>\n",
              "      <td>47.0</td>\n",
              "      <td>21.0</td>\n",
              "      <td>8.0</td>\n",
              "      <td>167.0</td>\n",
              "      <td>5.0</td>\n",
              "      <td>10.0</td>\n",
              "      <td>15.0</td>\n",
              "      <td>4.0</td>\n",
              "      <td>586.0</td>\n",
              "      <td>NaN</td>\n",
              "    </tr>\n",
              "    <tr>\n",
              "      <th>sedan</th>\n",
              "      <td>777.0</td>\n",
              "      <td>7828.0</td>\n",
              "      <td>11309.0</td>\n",
              "      <td>146.0</td>\n",
              "      <td>205.0</td>\n",
              "      <td>538.0</td>\n",
              "      <td>97.0</td>\n",
              "      <td>87.0</td>\n",
              "      <td>35.0</td>\n",
              "      <td>796.0</td>\n",
              "      <td>...</td>\n",
              "      <td>1220.0</td>\n",
              "      <td>694.0</td>\n",
              "      <td>26.0</td>\n",
              "      <td>257.0</td>\n",
              "      <td>99.0</td>\n",
              "      <td>131.0</td>\n",
              "      <td>735.0</td>\n",
              "      <td>170.0</td>\n",
              "      <td>14847.0</td>\n",
              "      <td>487.0</td>\n",
              "    </tr>\n",
              "    <tr>\n",
              "      <th>small</th>\n",
              "      <td>185.0</td>\n",
              "      <td>933.0</td>\n",
              "      <td>324.0</td>\n",
              "      <td>574.0</td>\n",
              "      <td>12.0</td>\n",
              "      <td>1372.0</td>\n",
              "      <td>178.0</td>\n",
              "      <td>247.0</td>\n",
              "      <td>439.0</td>\n",
              "      <td>4520.0</td>\n",
              "      <td>...</td>\n",
              "      <td>2621.0</td>\n",
              "      <td>930.0</td>\n",
              "      <td>3099.0</td>\n",
              "      <td>166.0</td>\n",
              "      <td>99.0</td>\n",
              "      <td>810.0</td>\n",
              "      <td>1475.0</td>\n",
              "      <td>49.0</td>\n",
              "      <td>15294.0</td>\n",
              "      <td>6.0</td>\n",
              "    </tr>\n",
              "    <tr>\n",
              "      <th>suv</th>\n",
              "      <td>NaN</td>\n",
              "      <td>18.0</td>\n",
              "      <td>189.0</td>\n",
              "      <td>146.0</td>\n",
              "      <td>12.0</td>\n",
              "      <td>8.0</td>\n",
              "      <td>46.0</td>\n",
              "      <td>1.0</td>\n",
              "      <td>46.0</td>\n",
              "      <td>17.0</td>\n",
              "      <td>...</td>\n",
              "      <td>1.0</td>\n",
              "      <td>7.0</td>\n",
              "      <td>NaN</td>\n",
              "      <td>174.0</td>\n",
              "      <td>42.0</td>\n",
              "      <td>557.0</td>\n",
              "      <td>252.0</td>\n",
              "      <td>NaN</td>\n",
              "      <td>247.0</td>\n",
              "      <td>30.0</td>\n",
              "    </tr>\n",
              "    <tr>\n",
              "      <th>wagon</th>\n",
              "      <td>388.0</td>\n",
              "      <td>6422.0</td>\n",
              "      <td>4997.0</td>\n",
              "      <td>83.0</td>\n",
              "      <td>183.0</td>\n",
              "      <td>497.0</td>\n",
              "      <td>227.0</td>\n",
              "      <td>36.0</td>\n",
              "      <td>16.0</td>\n",
              "      <td>370.0</td>\n",
              "      <td>...</td>\n",
              "      <td>215.0</td>\n",
              "      <td>1763.0</td>\n",
              "      <td>9.0</td>\n",
              "      <td>104.0</td>\n",
              "      <td>241.0</td>\n",
              "      <td>84.0</td>\n",
              "      <td>449.0</td>\n",
              "      <td>66.0</td>\n",
              "      <td>9704.0</td>\n",
              "      <td>1655.0</td>\n",
              "    </tr>\n",
              "  </tbody>\n",
              "</table>\n",
              "<p>8 rows × 40 columns</p>\n",
              "</div>\n",
              "      <button class=\"colab-df-convert\" onclick=\"convertToInteractive('df-46a68c3d-5e2f-4ed6-902b-581707cb66bd')\"\n",
              "              title=\"Convert this dataframe to an interactive table.\"\n",
              "              style=\"display:none;\">\n",
              "        \n",
              "  <svg xmlns=\"http://www.w3.org/2000/svg\" height=\"24px\"viewBox=\"0 0 24 24\"\n",
              "       width=\"24px\">\n",
              "    <path d=\"M0 0h24v24H0V0z\" fill=\"none\"/>\n",
              "    <path d=\"M18.56 5.44l.94 2.06.94-2.06 2.06-.94-2.06-.94-.94-2.06-.94 2.06-2.06.94zm-11 1L8.5 8.5l.94-2.06 2.06-.94-2.06-.94L8.5 2.5l-.94 2.06-2.06.94zm10 10l.94 2.06.94-2.06 2.06-.94-2.06-.94-.94-2.06-.94 2.06-2.06.94z\"/><path d=\"M17.41 7.96l-1.37-1.37c-.4-.4-.92-.59-1.43-.59-.52 0-1.04.2-1.43.59L10.3 9.45l-7.72 7.72c-.78.78-.78 2.05 0 2.83L4 21.41c.39.39.9.59 1.41.59.51 0 1.02-.2 1.41-.59l7.78-7.78 2.81-2.81c.8-.78.8-2.07 0-2.86zM5.41 20L4 18.59l7.72-7.72 1.47 1.35L5.41 20z\"/>\n",
              "  </svg>\n",
              "      </button>\n",
              "      \n",
              "  <style>\n",
              "    .colab-df-container {\n",
              "      display:flex;\n",
              "      flex-wrap:wrap;\n",
              "      gap: 12px;\n",
              "    }\n",
              "\n",
              "    .colab-df-convert {\n",
              "      background-color: #E8F0FE;\n",
              "      border: none;\n",
              "      border-radius: 50%;\n",
              "      cursor: pointer;\n",
              "      display: none;\n",
              "      fill: #1967D2;\n",
              "      height: 32px;\n",
              "      padding: 0 0 0 0;\n",
              "      width: 32px;\n",
              "    }\n",
              "\n",
              "    .colab-df-convert:hover {\n",
              "      background-color: #E2EBFA;\n",
              "      box-shadow: 0px 1px 2px rgba(60, 64, 67, 0.3), 0px 1px 3px 1px rgba(60, 64, 67, 0.15);\n",
              "      fill: #174EA6;\n",
              "    }\n",
              "\n",
              "    [theme=dark] .colab-df-convert {\n",
              "      background-color: #3B4455;\n",
              "      fill: #D2E3FC;\n",
              "    }\n",
              "\n",
              "    [theme=dark] .colab-df-convert:hover {\n",
              "      background-color: #434B5C;\n",
              "      box-shadow: 0px 1px 3px 1px rgba(0, 0, 0, 0.15);\n",
              "      filter: drop-shadow(0px 1px 2px rgba(0, 0, 0, 0.3));\n",
              "      fill: #FFFFFF;\n",
              "    }\n",
              "  </style>\n",
              "\n",
              "      <script>\n",
              "        const buttonEl =\n",
              "          document.querySelector('#df-46a68c3d-5e2f-4ed6-902b-581707cb66bd button.colab-df-convert');\n",
              "        buttonEl.style.display =\n",
              "          google.colab.kernel.accessAllowed ? 'block' : 'none';\n",
              "\n",
              "        async function convertToInteractive(key) {\n",
              "          const element = document.querySelector('#df-46a68c3d-5e2f-4ed6-902b-581707cb66bd');\n",
              "          const dataTable =\n",
              "            await google.colab.kernel.invokeFunction('convertToInteractive',\n",
              "                                                     [key], {});\n",
              "          if (!dataTable) return;\n",
              "\n",
              "          const docLinkHtml = 'Like what you see? Visit the ' +\n",
              "            '<a target=\"_blank\" href=https://colab.research.google.com/notebooks/data_table.ipynb>data table notebook</a>'\n",
              "            + ' to learn more about interactive tables.';\n",
              "          element.innerHTML = '';\n",
              "          dataTable['output_type'] = 'display_data';\n",
              "          await google.colab.output.renderOutput(dataTable, element);\n",
              "          const docLink = document.createElement('div');\n",
              "          docLink.innerHTML = docLinkHtml;\n",
              "          element.appendChild(docLink);\n",
              "        }\n",
              "      </script>\n",
              "    </div>\n",
              "  </div>\n",
              "  "
            ],
            "text/plain": [
              "Brand        alfa_romeo    audi      bmw  chevrolet  chrysler  citroen  dacia  \\\n",
              "VehicleType                                                                     \n",
              "bus                 NaN    10.0      4.0       98.0     370.0   1040.0   15.0   \n",
              "convertible       111.0   667.0   1636.0        6.0     195.0     96.0    NaN   \n",
              "coupe             180.0   651.0   2570.0       45.0      17.0    137.0    NaN   \n",
              "other              10.0    83.0    187.0       18.0       6.0     95.0    5.0   \n",
              "sedan             777.0  7828.0  11309.0      146.0     205.0    538.0   97.0   \n",
              "small             185.0   933.0    324.0      574.0      12.0   1372.0  178.0   \n",
              "suv                 NaN    18.0    189.0      146.0      12.0      8.0   46.0   \n",
              "wagon             388.0  6422.0   4997.0       83.0     183.0    497.0  227.0   \n",
              "\n",
              "Brand        daewoo  daihatsu    fiat  ...    seat   skoda   smart  \\\n",
              "VehicleType                            ...                           \n",
              "bus            26.0      31.0   707.0  ...   485.0   158.0     1.0   \n",
              "convertible     1.0       8.0   257.0  ...     NaN     3.0   988.0   \n",
              "coupe           2.0       NaN   151.0  ...    64.0     6.0   318.0   \n",
              "other           5.0       9.0   151.0  ...    47.0    21.0     8.0   \n",
              "sedan          87.0      35.0   796.0  ...  1220.0   694.0    26.0   \n",
              "small         247.0     439.0  4520.0  ...  2621.0   930.0  3099.0   \n",
              "suv             1.0      46.0    17.0  ...     1.0     7.0     NaN   \n",
              "wagon          36.0      16.0   370.0  ...   215.0  1763.0     9.0   \n",
              "\n",
              "Brand        sonstige_autos  subaru  suzuki  toyota  trabant  volkswagen  \\\n",
              "VehicleType                                                                \n",
              "bus                   140.0    16.0    27.0   341.0      NaN      5936.0   \n",
              "convertible           161.0     NaN    32.0    47.0     30.0      2029.0   \n",
              "coupe                  79.0     3.0     4.0   178.0      2.0       740.0   \n",
              "other                 167.0     5.0    10.0    15.0      4.0       586.0   \n",
              "sedan                 257.0    99.0   131.0   735.0    170.0     14847.0   \n",
              "small                 166.0    99.0   810.0  1475.0     49.0     15294.0   \n",
              "suv                   174.0    42.0   557.0   252.0      NaN       247.0   \n",
              "wagon                 104.0   241.0    84.0   449.0     66.0      9704.0   \n",
              "\n",
              "Brand         volvo  \n",
              "VehicleType          \n",
              "bus             NaN  \n",
              "convertible    35.0  \n",
              "coupe          50.0  \n",
              "other           NaN  \n",
              "sedan         487.0  \n",
              "small           6.0  \n",
              "suv            30.0  \n",
              "wagon        1655.0  \n",
              "\n",
              "[8 rows x 40 columns]"
            ]
          },
          "execution_count": 21,
          "metadata": {},
          "output_type": "execute_result"
        }
      ],
      "source": [
        "vehicle_type_pivot_table = vehicle_type_pivot_table['count']['Price']\n",
        "vehicle_type_pivot_table"
      ]
    },
    {
      "cell_type": "markdown",
      "metadata": {
        "id": "ZNs7n8FSRoyu"
      },
      "source": [
        "Заполню словарь брендов и популярных типов машин и заполню пропуски по столбцу VehicleType."
      ]
    },
    {
      "cell_type": "code",
      "execution_count": null,
      "metadata": {
        "colab": {
          "base_uri": "https://localhost:8080/"
        },
        "id": "lodro9CxRoyu",
        "outputId": "2f26e283-3431-4be3-d2b8-00fd2175d5dd",
        "scrolled": true
      },
      "outputs": [
        {
          "name": "stdout",
          "output_type": "stream",
          "text": [
            "<class 'pandas.core.frame.DataFrame'>\n",
            "Int64Index: 247665 entries, 0 to 354368\n",
            "Data columns (total 10 columns):\n",
            " #   Column            Non-Null Count   Dtype \n",
            "---  ------            --------------   ----- \n",
            " 0   VehicleType       233142 non-null  object\n",
            " 1   Gearbox           247665 non-null  object\n",
            " 2   Power             247665 non-null  int64 \n",
            " 3   Kilometer         247665 non-null  int64 \n",
            " 4   FuelType          229443 non-null  object\n",
            " 5   Brand             247665 non-null  object\n",
            " 6   NotRepaired       247665 non-null  object\n",
            " 7   RegistrationYear  247665 non-null  int64 \n",
            " 8   Model             247665 non-null  object\n",
            " 9   Price             247665 non-null  int64 \n",
            "dtypes: int64(4), object(6)\n",
            "memory usage: 20.8+ MB\n"
          ]
        }
      ],
      "source": [
        "filtred_autos_data.info()"
      ]
    },
    {
      "cell_type": "code",
      "execution_count": null,
      "metadata": {
        "colab": {
          "base_uri": "https://localhost:8080/",
          "height": 191
        },
        "id": "lrTCoh8NRoyu",
        "outputId": "b4ed9a0d-858a-471a-a46d-683403cd0990",
        "scrolled": false
      },
      "outputs": [
        {
          "data": {
            "text/plain": [
              "0"
            ]
          },
          "metadata": {},
          "output_type": "display_data"
        },
        {
          "data": {
            "text/plain": [
              "small          76545\n",
              "sedan          71693\n",
              "wagon          47556\n",
              "bus            21144\n",
              "convertible    12662\n",
              "coupe          10330\n",
              "suv             5285\n",
              "other           2450\n",
              "Name: VehicleType, dtype: int64"
            ]
          },
          "execution_count": 23,
          "metadata": {},
          "output_type": "execute_result"
        }
      ],
      "source": [
        "filtred_autos_data.fillna({'VehicleType':0},inplace=True)\n",
        "\n",
        "def fillna_by_brand(row, row_number, vehicle_type_pivot_table):\n",
        "    brand = row[5]\n",
        "    fill_value = row[row_number]\n",
        "    if row[row_number] == 0:\n",
        "        fill_value = vehicle_type_pivot_table[brand].idxmax()\n",
        "    return fill_value\n",
        "\n",
        "filtred_autos_data['VehicleType'] = filtred_autos_data.apply(\n",
        "                                fillna_by_brand, \n",
        "                                args=[0, vehicle_type_pivot_table],\n",
        "                                axis=1)\n",
        "display(filtred_autos_data['VehicleType'].isna().sum())\n",
        "filtred_autos_data['VehicleType'].value_counts()"
      ]
    },
    {
      "cell_type": "markdown",
      "metadata": {
        "id": "8jO82RCuRoyv"
      },
      "source": [
        "Заполню пропуски в FuelType по похожему принципу."
      ]
    },
    {
      "cell_type": "code",
      "execution_count": null,
      "metadata": {
        "colab": {
          "base_uri": "https://localhost:8080/",
          "height": 654
        },
        "id": "uD6TA_9dRoyv",
        "outputId": "2c5bcb15-3906-4dbc-a652-2aba00fe7dcf",
        "scrolled": true
      },
      "outputs": [
        {
          "data": {
            "text/html": [
              "\n",
              "  <div id=\"df-d6163c31-a307-42c5-93e8-12963f119b48\">\n",
              "    <div class=\"colab-df-container\">\n",
              "      <div>\n",
              "<style scoped>\n",
              "    .dataframe tbody tr th:only-of-type {\n",
              "        vertical-align: middle;\n",
              "    }\n",
              "\n",
              "    .dataframe tbody tr th {\n",
              "        vertical-align: top;\n",
              "    }\n",
              "\n",
              "    .dataframe thead th {\n",
              "        text-align: right;\n",
              "    }\n",
              "</style>\n",
              "<table border=\"1\" class=\"dataframe\">\n",
              "  <thead>\n",
              "    <tr style=\"text-align: right;\">\n",
              "      <th>Brand</th>\n",
              "      <th>alfa_romeo</th>\n",
              "      <th>audi</th>\n",
              "      <th>bmw</th>\n",
              "      <th>chevrolet</th>\n",
              "      <th>chrysler</th>\n",
              "      <th>citroen</th>\n",
              "      <th>dacia</th>\n",
              "      <th>daewoo</th>\n",
              "      <th>daihatsu</th>\n",
              "      <th>fiat</th>\n",
              "      <th>...</th>\n",
              "      <th>seat</th>\n",
              "      <th>skoda</th>\n",
              "      <th>smart</th>\n",
              "      <th>sonstige_autos</th>\n",
              "      <th>subaru</th>\n",
              "      <th>suzuki</th>\n",
              "      <th>toyota</th>\n",
              "      <th>trabant</th>\n",
              "      <th>volkswagen</th>\n",
              "      <th>volvo</th>\n",
              "    </tr>\n",
              "    <tr>\n",
              "      <th>FuelType</th>\n",
              "      <th></th>\n",
              "      <th></th>\n",
              "      <th></th>\n",
              "      <th></th>\n",
              "      <th></th>\n",
              "      <th></th>\n",
              "      <th></th>\n",
              "      <th></th>\n",
              "      <th></th>\n",
              "      <th></th>\n",
              "      <th></th>\n",
              "      <th></th>\n",
              "      <th></th>\n",
              "      <th></th>\n",
              "      <th></th>\n",
              "      <th></th>\n",
              "      <th></th>\n",
              "      <th></th>\n",
              "      <th></th>\n",
              "      <th></th>\n",
              "      <th></th>\n",
              "    </tr>\n",
              "  </thead>\n",
              "  <tbody>\n",
              "    <tr>\n",
              "      <th>cng</th>\n",
              "      <td>NaN</td>\n",
              "      <td>1.0</td>\n",
              "      <td>6.0</td>\n",
              "      <td>4.0</td>\n",
              "      <td>NaN</td>\n",
              "      <td>7.0</td>\n",
              "      <td>2.0</td>\n",
              "      <td>NaN</td>\n",
              "      <td>NaN</td>\n",
              "      <td>63.0</td>\n",
              "      <td>...</td>\n",
              "      <td>NaN</td>\n",
              "      <td>4.0</td>\n",
              "      <td>2.0</td>\n",
              "      <td>NaN</td>\n",
              "      <td>2.0</td>\n",
              "      <td>NaN</td>\n",
              "      <td>NaN</td>\n",
              "      <td>NaN</td>\n",
              "      <td>125.0</td>\n",
              "      <td>14.0</td>\n",
              "    </tr>\n",
              "    <tr>\n",
              "      <th>electric</th>\n",
              "      <td>NaN</td>\n",
              "      <td>1.0</td>\n",
              "      <td>3.0</td>\n",
              "      <td>NaN</td>\n",
              "      <td>NaN</td>\n",
              "      <td>NaN</td>\n",
              "      <td>NaN</td>\n",
              "      <td>NaN</td>\n",
              "      <td>1.0</td>\n",
              "      <td>2.0</td>\n",
              "      <td>...</td>\n",
              "      <td>NaN</td>\n",
              "      <td>NaN</td>\n",
              "      <td>1.0</td>\n",
              "      <td>16.0</td>\n",
              "      <td>NaN</td>\n",
              "      <td>NaN</td>\n",
              "      <td>NaN</td>\n",
              "      <td>NaN</td>\n",
              "      <td>1.0</td>\n",
              "      <td>NaN</td>\n",
              "    </tr>\n",
              "    <tr>\n",
              "      <th>gasoline</th>\n",
              "      <td>480.0</td>\n",
              "      <td>6502.0</td>\n",
              "      <td>5073.0</td>\n",
              "      <td>66.0</td>\n",
              "      <td>264.0</td>\n",
              "      <td>1181.0</td>\n",
              "      <td>98.0</td>\n",
              "      <td>1.0</td>\n",
              "      <td>4.0</td>\n",
              "      <td>1243.0</td>\n",
              "      <td>...</td>\n",
              "      <td>1229.0</td>\n",
              "      <td>1145.0</td>\n",
              "      <td>807.0</td>\n",
              "      <td>297.0</td>\n",
              "      <td>10.0</td>\n",
              "      <td>145.0</td>\n",
              "      <td>679.0</td>\n",
              "      <td>1.0</td>\n",
              "      <td>16655.0</td>\n",
              "      <td>582.0</td>\n",
              "    </tr>\n",
              "    <tr>\n",
              "      <th>hybrid</th>\n",
              "      <td>NaN</td>\n",
              "      <td>NaN</td>\n",
              "      <td>NaN</td>\n",
              "      <td>NaN</td>\n",
              "      <td>NaN</td>\n",
              "      <td>NaN</td>\n",
              "      <td>NaN</td>\n",
              "      <td>NaN</td>\n",
              "      <td>NaN</td>\n",
              "      <td>3.0</td>\n",
              "      <td>...</td>\n",
              "      <td>1.0</td>\n",
              "      <td>NaN</td>\n",
              "      <td>1.0</td>\n",
              "      <td>NaN</td>\n",
              "      <td>NaN</td>\n",
              "      <td>NaN</td>\n",
              "      <td>35.0</td>\n",
              "      <td>NaN</td>\n",
              "      <td>5.0</td>\n",
              "      <td>NaN</td>\n",
              "    </tr>\n",
              "    <tr>\n",
              "      <th>lpg</th>\n",
              "      <td>30.0</td>\n",
              "      <td>356.0</td>\n",
              "      <td>606.0</td>\n",
              "      <td>139.0</td>\n",
              "      <td>77.0</td>\n",
              "      <td>63.0</td>\n",
              "      <td>35.0</td>\n",
              "      <td>23.0</td>\n",
              "      <td>5.0</td>\n",
              "      <td>64.0</td>\n",
              "      <td>...</td>\n",
              "      <td>56.0</td>\n",
              "      <td>48.0</td>\n",
              "      <td>3.0</td>\n",
              "      <td>58.0</td>\n",
              "      <td>25.0</td>\n",
              "      <td>18.0</td>\n",
              "      <td>18.0</td>\n",
              "      <td>NaN</td>\n",
              "      <td>454.0</td>\n",
              "      <td>100.0</td>\n",
              "    </tr>\n",
              "    <tr>\n",
              "      <th>other</th>\n",
              "      <td>NaN</td>\n",
              "      <td>2.0</td>\n",
              "      <td>5.0</td>\n",
              "      <td>NaN</td>\n",
              "      <td>NaN</td>\n",
              "      <td>2.0</td>\n",
              "      <td>NaN</td>\n",
              "      <td>1.0</td>\n",
              "      <td>NaN</td>\n",
              "      <td>3.0</td>\n",
              "      <td>...</td>\n",
              "      <td>NaN</td>\n",
              "      <td>NaN</td>\n",
              "      <td>1.0</td>\n",
              "      <td>16.0</td>\n",
              "      <td>NaN</td>\n",
              "      <td>1.0</td>\n",
              "      <td>NaN</td>\n",
              "      <td>31.0</td>\n",
              "      <td>14.0</td>\n",
              "      <td>2.0</td>\n",
              "    </tr>\n",
              "    <tr>\n",
              "      <th>petrol</th>\n",
              "      <td>1124.0</td>\n",
              "      <td>9465.0</td>\n",
              "      <td>14948.0</td>\n",
              "      <td>884.0</td>\n",
              "      <td>642.0</td>\n",
              "      <td>2499.0</td>\n",
              "      <td>424.0</td>\n",
              "      <td>374.0</td>\n",
              "      <td>564.0</td>\n",
              "      <td>5496.0</td>\n",
              "      <td>...</td>\n",
              "      <td>3333.0</td>\n",
              "      <td>2333.0</td>\n",
              "      <td>3604.0</td>\n",
              "      <td>784.0</td>\n",
              "      <td>453.0</td>\n",
              "      <td>1457.0</td>\n",
              "      <td>2736.0</td>\n",
              "      <td>242.0</td>\n",
              "      <td>31839.0</td>\n",
              "      <td>1507.0</td>\n",
              "    </tr>\n",
              "  </tbody>\n",
              "</table>\n",
              "<p>7 rows × 40 columns</p>\n",
              "</div>\n",
              "      <button class=\"colab-df-convert\" onclick=\"convertToInteractive('df-d6163c31-a307-42c5-93e8-12963f119b48')\"\n",
              "              title=\"Convert this dataframe to an interactive table.\"\n",
              "              style=\"display:none;\">\n",
              "        \n",
              "  <svg xmlns=\"http://www.w3.org/2000/svg\" height=\"24px\"viewBox=\"0 0 24 24\"\n",
              "       width=\"24px\">\n",
              "    <path d=\"M0 0h24v24H0V0z\" fill=\"none\"/>\n",
              "    <path d=\"M18.56 5.44l.94 2.06.94-2.06 2.06-.94-2.06-.94-.94-2.06-.94 2.06-2.06.94zm-11 1L8.5 8.5l.94-2.06 2.06-.94-2.06-.94L8.5 2.5l-.94 2.06-2.06.94zm10 10l.94 2.06.94-2.06 2.06-.94-2.06-.94-.94-2.06-.94 2.06-2.06.94z\"/><path d=\"M17.41 7.96l-1.37-1.37c-.4-.4-.92-.59-1.43-.59-.52 0-1.04.2-1.43.59L10.3 9.45l-7.72 7.72c-.78.78-.78 2.05 0 2.83L4 21.41c.39.39.9.59 1.41.59.51 0 1.02-.2 1.41-.59l7.78-7.78 2.81-2.81c.8-.78.8-2.07 0-2.86zM5.41 20L4 18.59l7.72-7.72 1.47 1.35L5.41 20z\"/>\n",
              "  </svg>\n",
              "      </button>\n",
              "      \n",
              "  <style>\n",
              "    .colab-df-container {\n",
              "      display:flex;\n",
              "      flex-wrap:wrap;\n",
              "      gap: 12px;\n",
              "    }\n",
              "\n",
              "    .colab-df-convert {\n",
              "      background-color: #E8F0FE;\n",
              "      border: none;\n",
              "      border-radius: 50%;\n",
              "      cursor: pointer;\n",
              "      display: none;\n",
              "      fill: #1967D2;\n",
              "      height: 32px;\n",
              "      padding: 0 0 0 0;\n",
              "      width: 32px;\n",
              "    }\n",
              "\n",
              "    .colab-df-convert:hover {\n",
              "      background-color: #E2EBFA;\n",
              "      box-shadow: 0px 1px 2px rgba(60, 64, 67, 0.3), 0px 1px 3px 1px rgba(60, 64, 67, 0.15);\n",
              "      fill: #174EA6;\n",
              "    }\n",
              "\n",
              "    [theme=dark] .colab-df-convert {\n",
              "      background-color: #3B4455;\n",
              "      fill: #D2E3FC;\n",
              "    }\n",
              "\n",
              "    [theme=dark] .colab-df-convert:hover {\n",
              "      background-color: #434B5C;\n",
              "      box-shadow: 0px 1px 3px 1px rgba(0, 0, 0, 0.15);\n",
              "      filter: drop-shadow(0px 1px 2px rgba(0, 0, 0, 0.3));\n",
              "      fill: #FFFFFF;\n",
              "    }\n",
              "  </style>\n",
              "\n",
              "      <script>\n",
              "        const buttonEl =\n",
              "          document.querySelector('#df-d6163c31-a307-42c5-93e8-12963f119b48 button.colab-df-convert');\n",
              "        buttonEl.style.display =\n",
              "          google.colab.kernel.accessAllowed ? 'block' : 'none';\n",
              "\n",
              "        async function convertToInteractive(key) {\n",
              "          const element = document.querySelector('#df-d6163c31-a307-42c5-93e8-12963f119b48');\n",
              "          const dataTable =\n",
              "            await google.colab.kernel.invokeFunction('convertToInteractive',\n",
              "                                                     [key], {});\n",
              "          if (!dataTable) return;\n",
              "\n",
              "          const docLinkHtml = 'Like what you see? Visit the ' +\n",
              "            '<a target=\"_blank\" href=https://colab.research.google.com/notebooks/data_table.ipynb>data table notebook</a>'\n",
              "            + ' to learn more about interactive tables.';\n",
              "          element.innerHTML = '';\n",
              "          dataTable['output_type'] = 'display_data';\n",
              "          await google.colab.output.renderOutput(dataTable, element);\n",
              "          const docLink = document.createElement('div');\n",
              "          docLink.innerHTML = docLinkHtml;\n",
              "          element.appendChild(docLink);\n",
              "        }\n",
              "      </script>\n",
              "    </div>\n",
              "  </div>\n",
              "  "
            ],
            "text/plain": [
              "Brand     alfa_romeo    audi      bmw  chevrolet  chrysler  citroen  dacia  \\\n",
              "FuelType                                                                     \n",
              "cng              NaN     1.0      6.0        4.0       NaN      7.0    2.0   \n",
              "electric         NaN     1.0      3.0        NaN       NaN      NaN    NaN   \n",
              "gasoline       480.0  6502.0   5073.0       66.0     264.0   1181.0   98.0   \n",
              "hybrid           NaN     NaN      NaN        NaN       NaN      NaN    NaN   \n",
              "lpg             30.0   356.0    606.0      139.0      77.0     63.0   35.0   \n",
              "other            NaN     2.0      5.0        NaN       NaN      2.0    NaN   \n",
              "petrol        1124.0  9465.0  14948.0      884.0     642.0   2499.0  424.0   \n",
              "\n",
              "Brand     daewoo  daihatsu    fiat  ...    seat   skoda   smart  \\\n",
              "FuelType                            ...                           \n",
              "cng          NaN       NaN    63.0  ...     NaN     4.0     2.0   \n",
              "electric     NaN       1.0     2.0  ...     NaN     NaN     1.0   \n",
              "gasoline     1.0       4.0  1243.0  ...  1229.0  1145.0   807.0   \n",
              "hybrid       NaN       NaN     3.0  ...     1.0     NaN     1.0   \n",
              "lpg         23.0       5.0    64.0  ...    56.0    48.0     3.0   \n",
              "other        1.0       NaN     3.0  ...     NaN     NaN     1.0   \n",
              "petrol     374.0     564.0  5496.0  ...  3333.0  2333.0  3604.0   \n",
              "\n",
              "Brand     sonstige_autos  subaru  suzuki  toyota  trabant  volkswagen   volvo  \n",
              "FuelType                                                                       \n",
              "cng                  NaN     2.0     NaN     NaN      NaN       125.0    14.0  \n",
              "electric            16.0     NaN     NaN     NaN      NaN         1.0     NaN  \n",
              "gasoline           297.0    10.0   145.0   679.0      1.0     16655.0   582.0  \n",
              "hybrid               NaN     NaN     NaN    35.0      NaN         5.0     NaN  \n",
              "lpg                 58.0    25.0    18.0    18.0      NaN       454.0   100.0  \n",
              "other               16.0     NaN     1.0     NaN     31.0        14.0     2.0  \n",
              "petrol             784.0   453.0  1457.0  2736.0    242.0     31839.0  1507.0  \n",
              "\n",
              "[7 rows x 40 columns]"
            ]
          },
          "metadata": {},
          "output_type": "display_data"
        },
        {
          "data": {
            "text/plain": [
              "0"
            ]
          },
          "metadata": {},
          "output_type": "display_data"
        },
        {
          "data": {
            "text/plain": [
              "petrol      162858\n",
              "gasoline     61661\n",
              "small        12152\n",
              "sedan         5523\n",
              "lpg           4241\n",
              "cng            431\n",
              "wagon          390\n",
              "other          115\n",
              "hybrid          83\n",
              "bus             74\n",
              "suv             62\n",
              "electric        54\n",
              "coupe           21\n",
              "Name: FuelType, dtype: int64"
            ]
          },
          "execution_count": 24,
          "metadata": {},
          "output_type": "execute_result"
        }
      ],
      "source": [
        "filtred_autos_data['FuelType'].value_counts()\n",
        "fuel_type_pivot_table = filtred_autos_data.pivot_table(index=['FuelType'], \n",
        "                                                          columns=['Brand'],\n",
        "                                                          values=['Price'],\n",
        "                                                          aggfunc=['count'])\n",
        "fuel_type_pivot_table = fuel_type_pivot_table['count']['Price']\n",
        "display(fuel_type_pivot_table)\n",
        "\n",
        "filtred_autos_data.fillna({'FuelType':0},inplace=True)\n",
        "\n",
        "filtred_autos_data['FuelType'] = filtred_autos_data.apply(\n",
        "                                fillna_by_brand, \n",
        "                                args=[4, vehicle_type_pivot_table],\n",
        "                                axis=1)\n",
        "display(filtred_autos_data['FuelType'].isna().sum())\n",
        "filtred_autos_data['FuelType'].value_counts()"
      ]
    },
    {
      "cell_type": "code",
      "execution_count": null,
      "metadata": {
        "colab": {
          "base_uri": "https://localhost:8080/"
        },
        "id": "IFYxpwlrRoyv",
        "outputId": "8a19b6a2-6e2d-44c1-9009-edcd4ec8ffd7",
        "scrolled": true
      },
      "outputs": [
        {
          "data": {
            "text/plain": [
              "VehicleType         0.0\n",
              "Gearbox             0.0\n",
              "Power               0.0\n",
              "Kilometer           0.0\n",
              "FuelType            0.0\n",
              "Brand               0.0\n",
              "NotRepaired         0.0\n",
              "RegistrationYear    0.0\n",
              "Model               0.0\n",
              "Price               0.0\n",
              "dtype: float64"
            ]
          },
          "execution_count": 25,
          "metadata": {},
          "output_type": "execute_result"
        }
      ],
      "source": [
        "filtred_autos_data.isna().mean()"
      ]
    },
    {
      "cell_type": "markdown",
      "metadata": {
        "id": "XcpOOvc_Royv"
      },
      "source": [
        "Пропуски убраны. Теперь некорректные значения в столбце Power."
      ]
    },
    {
      "cell_type": "code",
      "execution_count": null,
      "metadata": {
        "colab": {
          "base_uri": "https://localhost:8080/",
          "height": 695
        },
        "id": "4q4KscZ-Royv",
        "outputId": "5e9c0f99-1fce-4a88-8bc2-89a879877828",
        "scrolled": true
      },
      "outputs": [
        {
          "data": {
            "text/plain": [
              "count    247665.000000\n",
              "mean        102.053181\n",
              "std         182.583893\n",
              "min           0.000000\n",
              "25%          67.000000\n",
              "50%         101.000000\n",
              "75%         131.000000\n",
              "max       20000.000000\n",
              "Name: Power, dtype: float64"
            ]
          },
          "execution_count": 26,
          "metadata": {},
          "output_type": "execute_result"
        },
        {
          "data": {
            "image/png": "[encoded data removed]",
            "text/plain": [
              "<Figure size 864x648 with 1 Axes>"
            ]
          },
          "metadata": {
            "needs_background": "light"
          },
          "output_type": "display_data"
        }
      ],
      "source": [
        "filtred_autos_data['Power'].hist(bins=100, figsize=(12,9))\n",
        "filtred_autos_data['Power'].describe()"
      ]
    },
    {
      "cell_type": "markdown",
      "metadata": {
        "id": "hh_J8fpORoyw"
      },
      "source": [
        "Раброс очень сильный, усечем выбросы больше 1000 л.с."
      ]
    },
    {
      "cell_type": "code",
      "execution_count": null,
      "metadata": {
        "colab": {
          "base_uri": "https://localhost:8080/",
          "height": 693
        },
        "id": "a7PgX-Y_Royw",
        "outputId": "e06296c4-6f74-4d6b-d538-63907865ebe9",
        "scrolled": true
      },
      "outputs": [
        {
          "data": {
            "text/plain": [
              "count    247451.000000\n",
              "mean         98.693652\n",
              "std          54.774902\n",
              "min           0.000000\n",
              "25%          67.000000\n",
              "50%         101.000000\n",
              "75%         131.000000\n",
              "max        1000.000000\n",
              "Name: Power, dtype: float64"
            ]
          },
          "execution_count": 27,
          "metadata": {},
          "output_type": "execute_result"
        },
        {
          "data": {
            "image/png": "[encoded data removed]",
            "text/plain": [
              "<Figure size 864x648 with 1 Axes>"
            ]
          },
          "metadata": {
            "needs_background": "light"
          },
          "output_type": "display_data"
        }
      ],
      "source": [
        "filtred_autos_data = filtred_autos_data.query('Power < 1001')\n",
        "filtred_autos_data['Power'].hist(bins=100, figsize=(12,9))\n",
        "filtred_autos_data['Power'].describe()"
      ]
    },
    {
      "cell_type": "markdown",
      "metadata": {
        "id": "FC26cDM-Royw"
      },
      "source": [
        "Из графика видно, что многие машины имеют мощность 0. Эти строки не подлежат восстановлению и будут удалены. По правому отсечению выберем границу в 400 л.с."
      ]
    },
    {
      "cell_type": "code",
      "execution_count": null,
      "metadata": {
        "colab": {
          "base_uri": "https://localhost:8080/",
          "height": 693
        },
        "id": "ZEAAW7ykRoyw",
        "outputId": "ca69680e-c7a4-4582-c762-304d8a873cf9",
        "scrolled": true
      },
      "outputs": [
        {
          "data": {
            "text/plain": [
              "count    221862.000000\n",
              "mean        109.824012\n",
              "std          44.434962\n",
              "min           1.000000\n",
              "25%          75.000000\n",
              "50%         103.000000\n",
              "75%         136.000000\n",
              "max         400.000000\n",
              "Name: Power, dtype: float64"
            ]
          },
          "execution_count": 28,
          "metadata": {},
          "output_type": "execute_result"
        },
        {
          "data": {
            "image/png": "[encoded data removed]",
            "text/plain": [
              "<Figure size 864x648 with 1 Axes>"
            ]
          },
          "metadata": {
            "needs_background": "light"
          },
          "output_type": "display_data"
        }
      ],
      "source": [
        "filtred_autos_data = filtred_autos_data.query('0 < Power < 401')\n",
        "filtred_autos_data['Power'].hist(bins=100, figsize=(12,9))\n",
        "filtred_autos_data['Power'].describe()"
      ]
    },
    {
      "cell_type": "markdown",
      "metadata": {
        "id": "mhNacaKZRoyw"
      },
      "source": [
        "Следующими границами выберу 25 и 350 л.с."
      ]
    },
    {
      "cell_type": "code",
      "execution_count": null,
      "metadata": {
        "colab": {
          "base_uri": "https://localhost:8080/",
          "height": 693
        },
        "id": "565xYPj7Royx",
        "outputId": "6618f86d-9ab7-4a5a-8e87-2fd8163e1d75",
        "scrolled": true
      },
      "outputs": [
        {
          "data": {
            "text/plain": [
              "count    221412.000000\n",
              "mean        109.878900\n",
              "std          43.985727\n",
              "min          25.000000\n",
              "25%          75.000000\n",
              "50%         103.000000\n",
              "75%         136.000000\n",
              "max         350.000000\n",
              "Name: Power, dtype: float64"
            ]
          },
          "execution_count": 29,
          "metadata": {},
          "output_type": "execute_result"
        },
        {
          "data": {
            "image/png": "[encoded data removed]",
            "text/plain": [
              "<Figure size 864x648 with 1 Axes>"
            ]
          },
          "metadata": {
            "needs_background": "light"
          },
          "output_type": "display_data"
        }
      ],
      "source": [
        "good_autos_data = filtred_autos_data.query('24 < Power < 351')\n",
        "good_autos_data['Power'].hist(bins=100, figsize=(12,9))\n",
        "good_autos_data['Power'].describe()"
      ]
    },
    {
      "cell_type": "code",
      "execution_count": null,
      "metadata": {
        "colab": {
          "base_uri": "https://localhost:8080/"
        },
        "id": "bd6OTfPsRoyx",
        "outputId": "10621ce9-afe1-493b-a559-f39dbb61a3bc",
        "scrolled": true
      },
      "outputs": [
        {
          "name": "stdout",
          "output_type": "stream",
          "text": [
            "<class 'pandas.core.frame.DataFrame'>\n",
            "Int64Index: 221412 entries, 3 to 354368\n",
            "Data columns (total 10 columns):\n",
            " #   Column            Non-Null Count   Dtype \n",
            "---  ------            --------------   ----- \n",
            " 0   VehicleType       221412 non-null  object\n",
            " 1   Gearbox           221412 non-null  object\n",
            " 2   Power             221412 non-null  int64 \n",
            " 3   Kilometer         221412 non-null  int64 \n",
            " 4   FuelType          221412 non-null  object\n",
            " 5   Brand             221412 non-null  object\n",
            " 6   NotRepaired       221412 non-null  object\n",
            " 7   RegistrationYear  221412 non-null  int64 \n",
            " 8   Model             221412 non-null  object\n",
            " 9   Price             221412 non-null  int64 \n",
            "dtypes: int64(4), object(6)\n",
            "memory usage: 18.6+ MB\n"
          ]
        }
      ],
      "source": [
        "good_autos_data.info()"
      ]
    },
    {
      "cell_type": "markdown",
      "metadata": {
        "id": "F8nP-k6ORoyx"
      },
      "source": [
        "Проведу замену столбцов Gearbox и NotRepaired на булев тип.\n",
        "\n",
        "* IsManualGearbox. 1 (manual) - означает механическую коробку передач. 0 (auto) - автоматическую.\n",
        "* IsNotRepaired. 0 (no) - означает машину без ремонта. 1 (yes) - с ремонтом."
      ]
    },
    {
      "cell_type": "code",
      "execution_count": null,
      "metadata": {
        "colab": {
          "base_uri": "https://localhost:8080/",
          "height": 121
        },
        "id": "-sqHCzD1Royx",
        "outputId": "8e7e8799-60d7-4cb0-a996-89c7fe059e41",
        "scrolled": true
      },
      "outputs": [
        {
          "data": {
            "text/plain": [
              "1    186647\n",
              "0     34765\n",
              "Name: IsManualGearbox, dtype: int64"
            ]
          },
          "metadata": {},
          "output_type": "display_data"
        },
        {
          "data": {
            "text/plain": [
              "manual    186647\n",
              "auto       34765\n",
              "Name: Gearbox, dtype: int64"
            ]
          },
          "execution_count": 31,
          "metadata": {},
          "output_type": "execute_result"
        }
      ],
      "source": [
        "good_autos_data['IsManualGearbox'] = 0\n",
        "good_autos_data.loc[good_autos_data['Gearbox'] == 'manual', 'IsManualGearbox'] = 1\n",
        "display(good_autos_data['IsManualGearbox'].value_counts())\n",
        "good_autos_data['Gearbox'].value_counts()"
      ]
    },
    {
      "cell_type": "code",
      "execution_count": null,
      "metadata": {
        "colab": {
          "base_uri": "https://localhost:8080/",
          "height": 139
        },
        "id": "uy06OdiYRoyx",
        "outputId": "6fd8ddf0-02d7-48ed-c2d3-0f9071aad493",
        "scrolled": true
      },
      "outputs": [
        {
          "data": {
            "text/plain": [
              "1    197739\n",
              "0     23673\n",
              "Name: IsNotRepaired, dtype: int64"
            ]
          },
          "metadata": {},
          "output_type": "display_data"
        },
        {
          "data": {
            "text/plain": [
              "no                163035\n",
              "unknown_repair     34704\n",
              "yes                23673\n",
              "Name: NotRepaired, dtype: int64"
            ]
          },
          "execution_count": 32,
          "metadata": {},
          "output_type": "execute_result"
        }
      ],
      "source": [
        "good_autos_data['IsNotRepaired'] = 1\n",
        "good_autos_data.loc[good_autos_data['NotRepaired'] == 'yes', 'IsNotRepaired'] = 0\n",
        "display(good_autos_data['IsNotRepaired'].value_counts())\n",
        "good_autos_data['NotRepaired'].value_counts()"
      ]
    },
    {
      "cell_type": "markdown",
      "metadata": {
        "id": "eyILYvmJRoyy"
      },
      "source": [
        "Удалю ненужные столбцы и уменьшу размерность хранения типа для ускорения работы с дата фреймом."
      ]
    },
    {
      "cell_type": "code",
      "execution_count": null,
      "metadata": {
        "colab": {
          "base_uri": "https://localhost:8080/"
        },
        "id": "oR3SrPvgRoyy",
        "outputId": "309b787a-8c3a-4f7a-dcb5-c97a7f191379",
        "scrolled": true
      },
      "outputs": [
        {
          "name": "stdout",
          "output_type": "stream",
          "text": [
            "<class 'pandas.core.frame.DataFrame'>\n",
            "Int64Index: 221412 entries, 3 to 354368\n",
            "Data columns (total 10 columns):\n",
            " #   Column            Non-Null Count   Dtype \n",
            "---  ------            --------------   ----- \n",
            " 0   VehicleType       221412 non-null  object\n",
            " 1   Power             221412 non-null  int16 \n",
            " 2   Kilometer         221412 non-null  int32 \n",
            " 3   FuelType          221412 non-null  object\n",
            " 4   Brand             221412 non-null  object\n",
            " 5   RegistrationYear  221412 non-null  int16 \n",
            " 6   Model             221412 non-null  object\n",
            " 7   Price             221412 non-null  int16 \n",
            " 8   IsManualGearbox   221412 non-null  int8  \n",
            " 9   IsNotRepaired     221412 non-null  int8  \n",
            "dtypes: int16(3), int32(1), int8(2), object(4)\n",
            "memory usage: 11.0+ MB\n"
          ]
        }
      ],
      "source": [
        "good_autos_data.drop(['NotRepaired','Gearbox'], inplace=True, axis=1)\n",
        "good_autos_data['IsNotRepaired'] = pd.to_numeric(good_autos_data['IsNotRepaired'], downcast='integer')\n",
        "good_autos_data['IsManualGearbox'] = pd.to_numeric(good_autos_data['IsManualGearbox'], downcast='integer')\n",
        "good_autos_data['RegistrationYear'] = pd.to_numeric(good_autos_data['RegistrationYear'], downcast='integer')\n",
        "good_autos_data['Power'] = pd.to_numeric(good_autos_data['Power'], downcast='integer')\n",
        "good_autos_data['Kilometer'] = pd.to_numeric(good_autos_data['Kilometer'], downcast='integer')\n",
        "good_autos_data['Price'] = pd.to_numeric(good_autos_data['Price'], downcast='integer')\n",
        "good_autos_data.info()"
      ]
    },
    {
      "cell_type": "code",
      "execution_count": null,
      "metadata": {
        "colab": {
          "base_uri": "https://localhost:8080/"
        },
        "id": "4I3Uqss1Royy",
        "outputId": "a881cdee-b99c-486f-fe5f-1cdd16359aa3",
        "scrolled": true
      },
      "outputs": [
        {
          "name": "stdout",
          "output_type": "stream",
          "text": [
            "Уменьшение использования памяти на 75.29%\n"
          ]
        }
      ],
      "source": [
        "print('Уменьшение использования памяти на {:.2%}'.format(1 - 10.7/43.3))"
      ]
    },
    {
      "cell_type": "markdown",
      "metadata": {
        "id": "gsygRACiRoyy"
      },
      "source": [
        "### Вывод\n",
        "\n",
        "* Была изучена таблица данных.\n",
        "* Выведены аномальные и пропущенные значения.\n",
        "* Отобраны небходимые столбцы для обучения модели.\n",
        "* Заполнены пропуски в столбцах и удалены некорректные значения.\n",
        "* Заменены два категориальных признака на численные.\n",
        "* Выигрыш в памяти составляет 75%, что ускорит обращение к памяти при обучении модели."
      ]
    },
    {
      "cell_type": "markdown",
      "metadata": {
        "id": "xlLXjvZbRoyy"
      },
      "source": [
        "## Обучение моделей"
      ]
    },
    {
      "cell_type": "markdown",
      "metadata": {
        "id": "zOEDXWi4Royz"
      },
      "source": [
        "Выберу следующие регрессоры для обучения модели:\n",
        "\n",
        "* LinearRegression\n",
        "* Ridge\n",
        "* DecisionTreeRegressor\n",
        "* CatBoostRegressor\n",
        "* LGBMRegressor\n",
        "\n",
        "В качестве метрики для всех моделей будем использовать MSE и в финальной таблице переведем в RMSE. Качество моделей буду проверять на кроссвалидации.\n",
        "\n",
        "Подготовлю три типа признаков для кроссвалидации:\n",
        "\n",
        "* Неизмененные. Название original_features.\n",
        "* Закодированные методом OHE. Название ohe_features.\n",
        "* Закодированные методом OE. Название ordinal_features."
      ]
    },
    {
      "cell_type": "code",
      "execution_count": null,
      "metadata": {
        "id": "GGQ5B_XRRoyz"
      },
      "outputs": [],
      "source": [
        "# Неизмененные принаки\n",
        "original_features = good_autos_data.drop('Price', axis=1)\n",
        "\n",
        "# Прямое кодирование\n",
        "encoder = OrdinalEncoder()\n",
        "cat_columns = ['VehicleType','FuelType','Brand','Model']\n",
        "cat_features = original_features[cat_columns]\n",
        "cat_features = pd.DataFrame(encoder.fit_transform(cat_features),\n",
        "                                columns=cat_features.columns, \n",
        "                                index=cat_features.index)\n",
        "ordinal_features = original_features.copy()\n",
        "for column in cat_columns:\n",
        "    ordinal_features[column] = cat_features[column]\n",
        "\n",
        "# OHE кодирование\n",
        "ohe_features = pd.get_dummies(original_features, drop_first=True)\n",
        "\n",
        "# Целевой признак\n",
        "target = good_autos_data['Price']"
      ]
    },
    {
      "cell_type": "code",
      "execution_count": null,
      "metadata": {
        "id": "qM0pa81LRoyz"
      },
      "outputs": [],
      "source": [
        "original_features_train, original_features_test, target_train, target_test = train_test_split(\n",
        "    original_features, target, test_size=0.25, random_state=16052022)\n",
        "\n",
        "ordinal_features_train = ordinal_features.loc[original_features_train.index, :]\n",
        "ordinal_features_test = ordinal_features.loc[original_features_test.index, :]\n",
        "\n",
        "ohe_features_train = ohe_features.loc[original_features_train.index, :]\n",
        "ohe_features_test = ohe_features.loc[original_features_test.index, :]"
      ]
    },
    {
      "cell_type": "markdown",
      "metadata": {
        "id": "NJQTEnEMRoyz"
      },
      "source": [
        "### Линейная регрессия"
      ]
    },
    {
      "cell_type": "code",
      "execution_count": null,
      "metadata": {
        "colab": {
          "base_uri": "https://localhost:8080/"
        },
        "id": "8TVLYMPyRoyz",
        "outputId": "df35f0fd-b455-444a-8425-93b4a3a89ccb",
        "scrolled": true
      },
      "outputs": [
        {
          "name": "stdout",
          "output_type": "stream",
          "text": [
            "# Train for root_mean_squared_error\n",
            "\n",
            "Mean RMSE from CV of LinearRegression = 1351.121417811355\n",
            "CPU times: user 40.6 s, sys: 2.94 s, total: 43.5 s\n",
            "Wall time: 24.2 s\n"
          ]
        }
      ],
      "source": [
        "%%time\n",
        "\n",
        "regressor = LinearRegression()\n",
        "print('# Train for root_mean_squared_error')\n",
        "print()\n",
        "cv_RMSE_LR = (cross_val_score(regressor, \n",
        "                             ohe_features_train, \n",
        "                             target_train, \n",
        "                             cv=5, \n",
        "                             scoring='neg_mean_squared_error').mean() * -1) ** 0.5\n",
        "print('Mean RMSE from CV of LinearRegression =', cv_RMSE_LR)"
      ]
    },
    {
      "cell_type": "code",
      "execution_count": null,
      "metadata": {
        "colab": {
          "base_uri": "https://localhost:8080/"
        },
        "id": "re5hEJ5dRoy0",
        "outputId": "dc1ec330-7e99-4b9b-9c97-b3bb7295fe75"
      },
      "outputs": [
        {
          "name": "stdout",
          "output_type": "stream",
          "text": [
            "# Train for root_mean_squared_error\n",
            "\n",
            "Mean RMSE from CV of LinearRegression = 6500514157425.154\n",
            "CPU times: user 44 s, sys: 3.12 s, total: 47.2 s\n",
            "Wall time: 27.8 s\n"
          ]
        }
      ],
      "source": [
        "%%time\n",
        "\n",
        "regressor = LinearRegression()\n",
        "scaller = StandardScaler()\n",
        "pipeline = Pipeline([(\"standard_scaller\", scaller),(\"linear_regression\", regressor)])\n",
        "print('# Train for root_mean_squared_error')\n",
        "print()\n",
        "cv_RMSE_LR_S = (cross_val_score(pipeline,\n",
        "                                ohe_features_train, \n",
        "                                target_train, \n",
        "                                cv=5, \n",
        "                                scoring='neg_mean_squared_error').mean() * -1) ** 0.5\n",
        "print('Mean RMSE from CV of LinearRegression =', cv_RMSE_LR_S)"
      ]
    },
    {
      "cell_type": "markdown",
      "metadata": {
        "id": "J3QDR0uaRoy0"
      },
      "source": [
        "Масштабирование признаков ухудшает модель. Откажусь от применение масштаба."
      ]
    },
    {
      "cell_type": "markdown",
      "metadata": {
        "id": "9I_M4IPgRoy0"
      },
      "source": [
        "### Регрессия Ridge"
      ]
    },
    {
      "cell_type": "code",
      "execution_count": null,
      "metadata": {
        "colab": {
          "base_uri": "https://localhost:8080/"
        },
        "id": "fiFDGXKTRoy0",
        "outputId": "2b00f18b-f5d6-407d-ebe9-98fc91cbc3af"
      },
      "outputs": [
        {
          "name": "stdout",
          "output_type": "stream",
          "text": [
            "# Tuning hyper-parameters for root_mean_squared_error\n",
            "\n",
            "Best parameters set found on development set:\n",
            "\n",
            "{'solver': 'auto'}\n",
            "\n",
            "Grid scores on development set:\n",
            "\n",
            "1350.781822 for {'solver': 'auto'}\n",
            "1350.781822 for {'solver': 'svd'}\n",
            "1350.781822 for {'solver': 'cholesky'}\n",
            "1963.210818 for {'solver': 'lsqr'}\n",
            "1769.934861 for {'solver': 'sparse_cg'}\n",
            "\n",
            "CPU times: user 1min 46s, sys: 9.9 s, total: 1min 56s\n",
            "Wall time: 1min 8s\n"
          ]
        }
      ],
      "source": [
        "%%time\n",
        "\n",
        "regressor = Ridge()\n",
        "hyperparams = [{'solver':['auto', 'svd', 'cholesky', 'lsqr','sparse_cg']}]\n",
        "\n",
        "\n",
        "print('# Tuning hyper-parameters for root_mean_squared_error')\n",
        "print()\n",
        "clf = GridSearchCV(regressor, hyperparams, scoring='neg_mean_squared_error')\n",
        "clf.fit(ohe_features_train, target_train)\n",
        "print(\"Best parameters set found on development set:\")\n",
        "print()\n",
        "print(clf.best_params_)\n",
        "print()\n",
        "print(\"Grid scores on development set:\")\n",
        "print()\n",
        "means = clf.cv_results_['mean_test_score']\n",
        "stds = clf.cv_results_['std_test_score']\n",
        "for mean, std, params in zip(means, stds, clf.cv_results_['params']):\n",
        "    print(\"%0.6f for %r\"% ((mean*-1)** 0.5, params))\n",
        "print()\n",
        "\n",
        "cv_RMSE_R = (max(means)*-1) ** 0.5"
      ]
    },
    {
      "cell_type": "markdown",
      "metadata": {
        "id": "bJPUeyxnRoy0"
      },
      "source": [
        "### Регрессия DecisionTreeRegressor"
      ]
    },
    {
      "cell_type": "markdown",
      "metadata": {
        "id": "-Hlk2m-_Roy0"
      },
      "source": [
        "Проведу два эксперимента:\n",
        "\n",
        "* Проверю модель на признаках, закодированных по методу OHE.\n",
        "* На признаках, закодированных по методу OE."
      ]
    },
    {
      "cell_type": "code",
      "execution_count": null,
      "metadata": {
        "colab": {
          "base_uri": "https://localhost:8080/"
        },
        "id": "HvsohnGXRoy1",
        "outputId": "eb717825-90a3-43ae-edeb-30163bf863e8"
      },
      "outputs": [
        {
          "name": "stdout",
          "output_type": "stream",
          "text": [
            "# Tuning hyper-parameters for root_mean_squared_error\n",
            "\n",
            "Best parameters set found on development set:\n",
            "\n",
            "{'criterion': 'mse', 'max_depth': 17, 'random_state': 16052022}\n",
            "\n",
            "Grid scores on development set:\n",
            "\n",
            "1553.097714 for {'criterion': 'mse', 'max_depth': 2, 'random_state': 16052022}\n",
            "1472.016110 for {'criterion': 'mse', 'max_depth': 3, 'random_state': 16052022}\n",
            "1377.430993 for {'criterion': 'mse', 'max_depth': 4, 'random_state': 16052022}\n",
            "1302.625821 for {'criterion': 'mse', 'max_depth': 5, 'random_state': 16052022}\n",
            "1250.558053 for {'criterion': 'mse', 'max_depth': 6, 'random_state': 16052022}\n",
            "1207.317255 for {'criterion': 'mse', 'max_depth': 7, 'random_state': 16052022}\n",
            "1171.442693 for {'criterion': 'mse', 'max_depth': 8, 'random_state': 16052022}\n",
            "1140.851287 for {'criterion': 'mse', 'max_depth': 9, 'random_state': 16052022}\n",
            "1112.469217 for {'criterion': 'mse', 'max_depth': 10, 'random_state': 16052022}\n",
            "1088.383290 for {'criterion': 'mse', 'max_depth': 11, 'random_state': 16052022}\n",
            "1071.712201 for {'criterion': 'mse', 'max_depth': 12, 'random_state': 16052022}\n",
            "1058.176624 for {'criterion': 'mse', 'max_depth': 13, 'random_state': 16052022}\n",
            "1049.701499 for {'criterion': 'mse', 'max_depth': 14, 'random_state': 16052022}\n",
            "1042.246683 for {'criterion': 'mse', 'max_depth': 15, 'random_state': 16052022}\n",
            "1038.878454 for {'criterion': 'mse', 'max_depth': 16, 'random_state': 16052022}\n",
            "1038.838878 for {'criterion': 'mse', 'max_depth': 17, 'random_state': 16052022}\n",
            "1040.233694 for {'criterion': 'mse', 'max_depth': 18, 'random_state': 16052022}\n",
            "1042.976537 for {'criterion': 'mse', 'max_depth': 19, 'random_state': 16052022}\n",
            "1046.030463 for {'criterion': 'mse', 'max_depth': 20, 'random_state': 16052022}\n",
            "1050.542442 for {'criterion': 'mse', 'max_depth': 21, 'random_state': 16052022}\n",
            "1052.965589 for {'criterion': 'mse', 'max_depth': 22, 'random_state': 16052022}\n",
            "1054.997034 for {'criterion': 'mse', 'max_depth': 23, 'random_state': 16052022}\n",
            "1059.786300 for {'criterion': 'mse', 'max_depth': 24, 'random_state': 16052022}\n",
            "1064.691373 for {'criterion': 'mse', 'max_depth': 25, 'random_state': 16052022}\n",
            "1066.525946 for {'criterion': 'mse', 'max_depth': 26, 'random_state': 16052022}\n",
            "1069.386415 for {'criterion': 'mse', 'max_depth': 27, 'random_state': 16052022}\n",
            "1072.311605 for {'criterion': 'mse', 'max_depth': 28, 'random_state': 16052022}\n",
            "1073.720212 for {'criterion': 'mse', 'max_depth': 29, 'random_state': 16052022}\n",
            "1076.086065 for {'criterion': 'mse', 'max_depth': 30, 'random_state': 16052022}\n",
            "\n",
            "CPU times: user 7min 21s, sys: 974 ms, total: 7min 22s\n",
            "Wall time: 7min 19s\n"
          ]
        }
      ],
      "source": [
        "%%time\n",
        "\n",
        "regressor = DecisionTreeRegressor() \n",
        "max_depth_list = [x for x in range(2, 31)]\n",
        "hyperparams = [{'criterion':['mse'], \n",
        "                'max_depth':max_depth_list, \n",
        "                'random_state':[16052022]}]\n",
        "\n",
        "print('# Tuning hyper-parameters for root_mean_squared_error')\n",
        "print()\n",
        "clf = GridSearchCV(regressor, hyperparams, scoring='neg_mean_squared_error')\n",
        "clf.fit(ohe_features_train, target_train)\n",
        "print(\"Best parameters set found on development set:\")\n",
        "print()\n",
        "print(clf.best_params_)\n",
        "print()\n",
        "print(\"Grid scores on development set:\")\n",
        "print()\n",
        "means = clf.cv_results_['mean_test_score']\n",
        "stds = clf.cv_results_['std_test_score']\n",
        "for mean, std, params in zip(means, stds, clf.cv_results_['params']):\n",
        "    print(\"%0.6f for %r\"% ((mean*-1)** 0.5, params))\n",
        "print()\n",
        "\n",
        "cv_RMSE_DTR_ohe = (max(means)*-1) ** 0.5"
      ]
    },
    {
      "cell_type": "code",
      "execution_count": null,
      "metadata": {
        "colab": {
          "base_uri": "https://localhost:8080/"
        },
        "id": "ldKnWp_dRoy1",
        "outputId": "5b0e45ed-3e96-48ad-f0cb-aef6746825f9"
      },
      "outputs": [
        {
          "name": "stdout",
          "output_type": "stream",
          "text": [
            "# Tuning hyper-parameters for root_mean_squared_error\n",
            "\n",
            "Best parameters set found on development set:\n",
            "\n",
            "{'criterion': 'mse', 'max_depth': 14, 'random_state': 16052022}\n",
            "\n",
            "Grid scores on development set:\n",
            "\n",
            "1553.097714 for {'criterion': 'mse', 'max_depth': 2, 'random_state': 16052022}\n",
            "1470.113387 for {'criterion': 'mse', 'max_depth': 3, 'random_state': 16052022}\n",
            "1377.239758 for {'criterion': 'mse', 'max_depth': 4, 'random_state': 16052022}\n",
            "1299.184787 for {'criterion': 'mse', 'max_depth': 5, 'random_state': 16052022}\n",
            "1245.939718 for {'criterion': 'mse', 'max_depth': 6, 'random_state': 16052022}\n",
            "1202.638824 for {'criterion': 'mse', 'max_depth': 7, 'random_state': 16052022}\n",
            "1164.443436 for {'criterion': 'mse', 'max_depth': 8, 'random_state': 16052022}\n",
            "1129.947934 for {'criterion': 'mse', 'max_depth': 9, 'random_state': 16052022}\n",
            "1102.739750 for {'criterion': 'mse', 'max_depth': 10, 'random_state': 16052022}\n",
            "1078.290927 for {'criterion': 'mse', 'max_depth': 11, 'random_state': 16052022}\n",
            "1060.069053 for {'criterion': 'mse', 'max_depth': 12, 'random_state': 16052022}\n",
            "1047.786645 for {'criterion': 'mse', 'max_depth': 13, 'random_state': 16052022}\n",
            "1044.779072 for {'criterion': 'mse', 'max_depth': 14, 'random_state': 16052022}\n",
            "1047.823353 for {'criterion': 'mse', 'max_depth': 15, 'random_state': 16052022}\n",
            "1052.760592 for {'criterion': 'mse', 'max_depth': 16, 'random_state': 16052022}\n",
            "1060.202624 for {'criterion': 'mse', 'max_depth': 17, 'random_state': 16052022}\n",
            "1068.596654 for {'criterion': 'mse', 'max_depth': 18, 'random_state': 16052022}\n",
            "1075.931101 for {'criterion': 'mse', 'max_depth': 19, 'random_state': 16052022}\n",
            "1086.333554 for {'criterion': 'mse', 'max_depth': 20, 'random_state': 16052022}\n",
            "1090.904700 for {'criterion': 'mse', 'max_depth': 21, 'random_state': 16052022}\n",
            "1093.143111 for {'criterion': 'mse', 'max_depth': 22, 'random_state': 16052022}\n",
            "1098.136133 for {'criterion': 'mse', 'max_depth': 23, 'random_state': 16052022}\n",
            "1101.474515 for {'criterion': 'mse', 'max_depth': 24, 'random_state': 16052022}\n",
            "1102.376476 for {'criterion': 'mse', 'max_depth': 25, 'random_state': 16052022}\n",
            "1103.907765 for {'criterion': 'mse', 'max_depth': 26, 'random_state': 16052022}\n",
            "1104.998713 for {'criterion': 'mse', 'max_depth': 27, 'random_state': 16052022}\n",
            "1105.624730 for {'criterion': 'mse', 'max_depth': 28, 'random_state': 16052022}\n",
            "1105.448854 for {'criterion': 'mse', 'max_depth': 29, 'random_state': 16052022}\n",
            "1105.230376 for {'criterion': 'mse', 'max_depth': 30, 'random_state': 16052022}\n",
            "\n",
            "CPU times: user 50 s, sys: 186 ms, total: 50.2 s\n",
            "Wall time: 49.9 s\n"
          ]
        }
      ],
      "source": [
        "%%time\n",
        "\n",
        "regressor = DecisionTreeRegressor() \n",
        "max_depth_list = [x for x in range(2, 31)]\n",
        "hyperparams = [{'criterion':['mse'], \n",
        "                'max_depth':max_depth_list, \n",
        "                'random_state':[16052022]}]\n",
        "\n",
        "print('# Tuning hyper-parameters for root_mean_squared_error')\n",
        "print()\n",
        "clf = GridSearchCV(regressor, hyperparams, scoring='neg_mean_squared_error')\n",
        "clf.fit(ordinal_features_train, target_train)\n",
        "print(\"Best parameters set found on development set:\")\n",
        "print()\n",
        "print(clf.best_params_)\n",
        "print()\n",
        "print(\"Grid scores on development set:\")\n",
        "print()\n",
        "means = clf.cv_results_['mean_test_score']\n",
        "stds = clf.cv_results_['std_test_score']\n",
        "for mean, std, params in zip(means, stds, clf.cv_results_['params']):\n",
        "    print(\"%0.6f for %r\"% ((mean*-1)** 0.5, params))\n",
        "print()\n",
        "\n",
        "cv_RMSE_DTR_ordinal = (max(means)*-1) ** 0.5"
      ]
    },
    {
      "cell_type": "markdown",
      "metadata": {
        "id": "a89sPawGRoy1"
      },
      "source": [
        "Обучение на OHE данных дало похожий результат, что и порядковое кодирование признаков. Занесем оба эксперимента в финальную таблицу."
      ]
    },
    {
      "cell_type": "markdown",
      "metadata": {
        "id": "bggolJ4lRoy1"
      },
      "source": [
        "### Регрессия CatBoostRegressor"
      ]
    },
    {
      "cell_type": "markdown",
      "metadata": {
        "id": "Bj54THcFRoy1"
      },
      "source": [
        "Проведу два эксперимента:\n",
        "\n",
        "* Обучу модель на данных, закодированных по методу OE.\n",
        "* Обучу на оригинальных данных с указанием категорий."
      ]
    },
    {
      "cell_type": "code",
      "execution_count": null,
      "metadata": {
        "colab": {
          "base_uri": "https://localhost:8080/"
        },
        "id": "inhF2YrBRoy2",
        "outputId": "f811390d-f576-4802-fb98-8a7bfa54476b"
      },
      "outputs": [
        {
          "name": "stdout",
          "output_type": "stream",
          "text": [
            "# Tuning hyper-parameters for root_mean_squared_error\n",
            "\n",
            "Best parameters set found on development set:\n",
            "\n",
            "{'learning_rate': 0.5, 'random_state': 16052022, 'verbose': False}\n",
            "\n",
            "Grid scores on development set:\n",
            "\n",
            "927.272660 for {'learning_rate': 0.1, 'random_state': 16052022, 'verbose': False}\n",
            "917.377859 for {'learning_rate': 0.5, 'random_state': 16052022, 'verbose': False}\n",
            "929.040704 for {'learning_rate': 0.8, 'random_state': 16052022, 'verbose': False}\n",
            "\n",
            "CPU times: user 8min 33s, sys: 9.03 s, total: 8min 42s\n",
            "Wall time: 4min 29s\n"
          ]
        }
      ],
      "source": [
        "%%time\n",
        "\n",
        "regressor = CatBoostRegressor() \n",
        "hyperparams = [{'learning_rate':[0.1, 0.5, 0.8],\n",
        "                'random_state':[16052022],\n",
        "                'verbose':[False]}]\n",
        "\n",
        "print('# Tuning hyper-parameters for root_mean_squared_error')\n",
        "print()\n",
        "clf = GridSearchCV(regressor, hyperparams, scoring='neg_mean_squared_error')\n",
        "clf.fit(ordinal_features_train, target_train)\n",
        "print(\"Best parameters set found on development set:\")\n",
        "print()\n",
        "print(clf.best_params_)\n",
        "print()\n",
        "print(\"Grid scores on development set:\")\n",
        "print()\n",
        "means = clf.cv_results_['mean_test_score']\n",
        "stds = clf.cv_results_['std_test_score']\n",
        "for mean, std, params in zip(means, stds, clf.cv_results_['params']):\n",
        "    print(\"%0.6f for %r\"% ((mean*-1)** 0.5, params))\n",
        "print()\n",
        "\n",
        "cv_RMSE_CBR_ordinal = (max(means)*-1) ** 0.5"
      ]
    },
    {
      "cell_type": "code",
      "execution_count": null,
      "metadata": {
        "colab": {
          "base_uri": "https://localhost:8080/"
        },
        "id": "MEPikZDKRoy2",
        "outputId": "1bb8dedc-65f2-4ef2-bb6f-e50a7be9efac"
      },
      "outputs": [
        {
          "name": "stdout",
          "output_type": "stream",
          "text": [
            "# Train for root_mean_squared_error\n",
            "\n",
            "Mean RMSE from CV of CatBoostRegressor = 935.4862278527157\n",
            "CPU times: user 3min, sys: 2.21 s, total: 3min 2s\n",
            "Wall time: 1min 34s\n"
          ]
        }
      ],
      "source": [
        "%%time\n",
        "\n",
        "regressor = CatBoostRegressor(learning_rate=0.5,\n",
        "                              iterations = 200,\n",
        "                              random_state=16052022, \n",
        "                              verbose=False, \n",
        "                              cat_features=['VehicleType','FuelType','Brand','Model']) \n",
        "print('# Train for root_mean_squared_error')\n",
        "print()\n",
        "cv_RMSE_CBR_original = (cross_val_score(regressor,\n",
        "                                original_features_train, \n",
        "                                target_train, \n",
        "                                cv=5, \n",
        "                                scoring='neg_mean_squared_error').mean() * -1) ** 0.5\n",
        "print('Mean RMSE from CV of CatBoostRegressor =', cv_RMSE_CBR_original)"
      ]
    },
    {
      "cell_type": "markdown",
      "metadata": {
        "id": "uQZo7NYvRoy2"
      },
      "source": [
        "### Регрессия LGBMRegressor"
      ]
    },
    {
      "cell_type": "code",
      "execution_count": null,
      "metadata": {
        "colab": {
          "base_uri": "https://localhost:8080/"
        },
        "id": "hufhdurDRoy2",
        "outputId": "75ec8223-2c6a-494f-ff7b-2b639c9e4f53"
      },
      "outputs": [
        {
          "name": "stdout",
          "output_type": "stream",
          "text": [
            "# Tuning hyper-parameters for root_mean_squared_error\n",
            "\n",
            "Best parameters set found on development set:\n",
            "\n",
            "{'learning_rate': 0.3, 'num_leaves': 200, 'random_state': 16052022}\n",
            "\n",
            "Grid scores on development set:\n",
            "\n",
            "964.519177 for {'learning_rate': 0.1, 'num_leaves': 31, 'random_state': 16052022}\n",
            "927.102709 for {'learning_rate': 0.1, 'num_leaves': 100, 'random_state': 16052022}\n",
            "913.082273 for {'learning_rate': 0.1, 'num_leaves': 200, 'random_state': 16052022}\n",
            "937.391344 for {'learning_rate': 0.3, 'num_leaves': 31, 'random_state': 16052022}\n",
            "916.136765 for {'learning_rate': 0.3, 'num_leaves': 100, 'random_state': 16052022}\n",
            "912.866600 for {'learning_rate': 0.3, 'num_leaves': 200, 'random_state': 16052022}\n",
            "936.914010 for {'learning_rate': 0.5, 'num_leaves': 31, 'random_state': 16052022}\n",
            "928.334289 for {'learning_rate': 0.5, 'num_leaves': 100, 'random_state': 16052022}\n",
            "928.502565 for {'learning_rate': 0.5, 'num_leaves': 200, 'random_state': 16052022}\n",
            "\n",
            "CPU times: user 1min 59s, sys: 2.29 s, total: 2min 1s\n",
            "Wall time: 1min 3s\n"
          ]
        }
      ],
      "source": [
        "%%time\n",
        "\n",
        "regressor = LGBMRegressor() \n",
        "hyperparams = [{'num_leaves':[31, 100, 200], \n",
        "                'learning_rate':[0.1, 0.3, 0.5],\n",
        "                'random_state':[16052022]}]\n",
        "\n",
        "print('# Tuning hyper-parameters for root_mean_squared_error')\n",
        "print()\n",
        "clf = GridSearchCV(regressor, hyperparams, scoring='neg_mean_squared_error')\n",
        "clf.fit(ordinal_features_train, target_train)\n",
        "print(\"Best parameters set found on development set:\")\n",
        "print()\n",
        "print(clf.best_params_)\n",
        "print()\n",
        "print(\"Grid scores on development set:\")\n",
        "print()\n",
        "means = clf.cv_results_['mean_test_score']\n",
        "stds = clf.cv_results_['std_test_score']\n",
        "for mean, std, params in zip(means, stds, clf.cv_results_['params']):\n",
        "    print(\"%0.6f for %r\"% ((mean*-1)** 0.5, params))\n",
        "print()\n",
        "\n",
        "cv_RMSE_LGBMR = (max(means)*-1) ** 0.5"
      ]
    },
    {
      "cell_type": "markdown",
      "metadata": {
        "id": "VLYFa4D4Roy2"
      },
      "source": [
        "### Вывод\n",
        "\n",
        "Были изучены 5 регрессионных моделей. Зафиксированы лучшие гиперпараметры и время их выполнения."
      ]
    },
    {
      "cell_type": "markdown",
      "metadata": {
        "id": "MXJ9p4uPRoy3"
      },
      "source": [
        "## Анализ моделей"
      ]
    },
    {
      "cell_type": "markdown",
      "metadata": {
        "id": "We0zY9e8Roy3"
      },
      "source": [
        "Проведу обучение на каждой модели с лучшими гиперпараметрами."
      ]
    },
    {
      "cell_type": "markdown",
      "metadata": {
        "id": "6rcu5fPYRoy3"
      },
      "source": [
        "### Линейная регрессия"
      ]
    },
    {
      "cell_type": "code",
      "execution_count": null,
      "metadata": {
        "colab": {
          "base_uri": "https://localhost:8080/"
        },
        "id": "Q_5anSq5Roy3",
        "outputId": "58a6933b-f183-4fb2-b184-d74998c108e5"
      },
      "outputs": [
        {
          "name": "stdout",
          "output_type": "stream",
          "text": [
            "CPU times: user 10 s, sys: 551 ms, total: 10.6 s\n",
            "Wall time: 5.73 s\n"
          ]
        }
      ],
      "source": [
        "%%time\n",
        "\n",
        "model = LinearRegression()\n",
        "model.fit(ohe_features_train, target_train)"
      ]
    },
    {
      "cell_type": "code",
      "execution_count": null,
      "metadata": {
        "colab": {
          "base_uri": "https://localhost:8080/"
        },
        "id": "hbExLRekRoy3",
        "outputId": "542c99d6-05c0-45d5-bd55-130671c21cb5"
      },
      "outputs": [
        {
          "name": "stdout",
          "output_type": "stream",
          "text": [
            "CPU times: user 151 ms, sys: 71 ms, total: 222 ms\n",
            "Wall time: 153 ms\n"
          ]
        }
      ],
      "source": [
        "%%time\n",
        "\n",
        "target_predict = model.predict(ohe_features_test)"
      ]
    },
    {
      "cell_type": "code",
      "execution_count": null,
      "metadata": {
        "id": "IgEJEew7Roy3"
      },
      "outputs": [],
      "source": [
        "final_RMSE_LR = mean_squared_error(target_test, target_predict) ** 0.5"
      ]
    },
    {
      "cell_type": "markdown",
      "metadata": {
        "id": "UmpskU3kRoy3"
      },
      "source": [
        "### Регрессия Ridge"
      ]
    },
    {
      "cell_type": "code",
      "execution_count": null,
      "metadata": {
        "colab": {
          "base_uri": "https://localhost:8080/"
        },
        "id": "hLqudChuRoy4",
        "outputId": "e7801b80-a7d6-4f8d-efb7-1ba5fb57998c"
      },
      "outputs": [
        {
          "name": "stdout",
          "output_type": "stream",
          "text": [
            "CPU times: user 19.6 s, sys: 869 ms, total: 20.5 s\n",
            "Wall time: 10.9 s\n"
          ]
        }
      ],
      "source": [
        "%%time\n",
        "\n",
        "model = Ridge(solver='svd')\n",
        "model.fit(ohe_features_train, target_train)"
      ]
    },
    {
      "cell_type": "code",
      "execution_count": null,
      "metadata": {
        "colab": {
          "base_uri": "https://localhost:8080/"
        },
        "id": "If9Z_O20Roy4",
        "outputId": "4f215fbc-4bce-465a-b16b-2c491e638407"
      },
      "outputs": [
        {
          "name": "stdout",
          "output_type": "stream",
          "text": [
            "CPU times: user 163 ms, sys: 96 ms, total: 259 ms\n",
            "Wall time: 159 ms\n"
          ]
        }
      ],
      "source": [
        "%%time\n",
        "\n",
        "target_predict = model.predict(ohe_features_test)"
      ]
    },
    {
      "cell_type": "code",
      "execution_count": null,
      "metadata": {
        "id": "_yRNJ7DmRoy4"
      },
      "outputs": [],
      "source": [
        "final_RMSE_R = mean_squared_error(target_test, target_predict) ** 0.5"
      ]
    },
    {
      "cell_type": "markdown",
      "metadata": {
        "id": "ekFbAqmVRoy4"
      },
      "source": [
        "### Регрессия DecisionTreeRegressor"
      ]
    },
    {
      "cell_type": "code",
      "execution_count": null,
      "metadata": {
        "colab": {
          "base_uri": "https://localhost:8080/"
        },
        "id": "_773cJWPRoy4",
        "outputId": "ce464892-69f6-4d75-c0d8-3510dacdba9f"
      },
      "outputs": [
        {
          "name": "stdout",
          "output_type": "stream",
          "text": [
            "CPU times: user 3.87 s, sys: 66.8 ms, total: 3.94 s\n",
            "Wall time: 3.87 s\n"
          ]
        }
      ],
      "source": [
        "%%time\n",
        "\n",
        "model = DecisionTreeRegressor(criterion='mse', \n",
        "                              max_depth=15, \n",
        "                              random_state=16052022) \n",
        "model.fit(ohe_features_train, target_train)"
      ]
    },
    {
      "cell_type": "code",
      "execution_count": null,
      "metadata": {
        "colab": {
          "base_uri": "https://localhost:8080/"
        },
        "id": "jN7l5OStRoy5",
        "outputId": "134b8d2b-1b51-4252-e8af-4029cc213bfb"
      },
      "outputs": [
        {
          "name": "stdout",
          "output_type": "stream",
          "text": [
            "CPU times: user 73 ms, sys: 3 ms, total: 76 ms\n",
            "Wall time: 75.1 ms\n"
          ]
        }
      ],
      "source": [
        "%%time\n",
        "\n",
        "target_predict = model.predict(ohe_features_test)"
      ]
    },
    {
      "cell_type": "code",
      "execution_count": null,
      "metadata": {
        "id": "TMFVuxOdRoy5"
      },
      "outputs": [],
      "source": [
        "final_RMSE_DTR_ohe = mean_squared_error(target_test, target_predict) ** 0.5"
      ]
    },
    {
      "cell_type": "code",
      "execution_count": null,
      "metadata": {
        "colab": {
          "base_uri": "https://localhost:8080/"
        },
        "id": "7yhq6PMzRoy5",
        "outputId": "6ee6a0a3-d9bb-4e52-82b7-5345c63e9193"
      },
      "outputs": [
        {
          "name": "stdout",
          "output_type": "stream",
          "text": [
            "CPU times: user 395 ms, sys: 1.04 ms, total: 396 ms\n",
            "Wall time: 398 ms\n"
          ]
        }
      ],
      "source": [
        "%%time\n",
        "\n",
        "model = DecisionTreeRegressor(criterion='mse', \n",
        "                              max_depth=13, \n",
        "                              random_state=16052022) \n",
        "model.fit(ordinal_features_train, target_train)"
      ]
    },
    {
      "cell_type": "code",
      "execution_count": null,
      "metadata": {
        "colab": {
          "base_uri": "https://localhost:8080/"
        },
        "id": "gXnFbztiRoy5",
        "outputId": "5c3490f3-0a39-43d0-ab69-4b20d9624fea"
      },
      "outputs": [
        {
          "name": "stdout",
          "output_type": "stream",
          "text": [
            "CPU times: user 15.3 ms, sys: 7 µs, total: 15.3 ms\n",
            "Wall time: 15.6 ms\n"
          ]
        }
      ],
      "source": [
        "%%time\n",
        "\n",
        "target_predict = model.predict(ordinal_features_test)"
      ]
    },
    {
      "cell_type": "code",
      "execution_count": null,
      "metadata": {
        "id": "FMKiyZKeRoy5"
      },
      "outputs": [],
      "source": [
        "final_RMSE_DTR_ordinal = mean_squared_error(target_test, target_predict) ** 0.5"
      ]
    },
    {
      "cell_type": "markdown",
      "metadata": {
        "id": "OTlkcCwbRoy5"
      },
      "source": [
        "### Регрессия CatBoostRegressor"
      ]
    },
    {
      "cell_type": "code",
      "execution_count": null,
      "metadata": {
        "colab": {
          "base_uri": "https://localhost:8080/"
        },
        "id": "bkmnJtvxRoy6",
        "outputId": "790512f2-7436-4cca-86b4-4e7b5135ca38"
      },
      "outputs": [
        {
          "name": "stdout",
          "output_type": "stream",
          "text": [
            "CPU times: user 39 s, sys: 646 ms, total: 39.6 s\n",
            "Wall time: 20.5 s\n"
          ]
        }
      ],
      "source": [
        "%%time\n",
        "\n",
        "model = CatBoostRegressor(learning_rate=0.5, \n",
        "                          random_state=16052022, \n",
        "                          verbose=False) \n",
        "model.fit(ordinal_features_train, target_train)"
      ]
    },
    {
      "cell_type": "code",
      "execution_count": null,
      "metadata": {
        "colab": {
          "base_uri": "https://localhost:8080/"
        },
        "id": "NR0dFMCKRoy6",
        "outputId": "23149461-5cb8-4586-c7ba-7289b358bde3"
      },
      "outputs": [
        {
          "name": "stdout",
          "output_type": "stream",
          "text": [
            "CPU times: user 125 ms, sys: 0 ns, total: 125 ms\n",
            "Wall time: 72.1 ms\n"
          ]
        }
      ],
      "source": [
        "%%time\n",
        "\n",
        "target_predict = model.predict(ordinal_features_test)"
      ]
    },
    {
      "cell_type": "code",
      "execution_count": null,
      "metadata": {
        "id": "fJJ4DoSaRoy6"
      },
      "outputs": [],
      "source": [
        "final_RMSE_CBR_ordinal = mean_squared_error(target_test, target_predict) ** 0.5"
      ]
    },
    {
      "cell_type": "code",
      "execution_count": null,
      "metadata": {
        "colab": {
          "base_uri": "https://localhost:8080/"
        },
        "id": "M4f8DNhnRoy6",
        "outputId": "b4f246c3-4608-494d-c3ec-241a0871daf8"
      },
      "outputs": [
        {
          "name": "stdout",
          "output_type": "stream",
          "text": [
            "CPU times: user 44.9 s, sys: 487 ms, total: 45.3 s\n",
            "Wall time: 23.6 s\n"
          ]
        }
      ],
      "source": [
        "%%time\n",
        "\n",
        "model = CatBoostRegressor(learning_rate=0.5, \n",
        "                          iterations = 200, \n",
        "                          random_state=16052022, \n",
        "                          verbose=False,\n",
        "                          cat_features=['VehicleType','FuelType','Brand','Model']) \n",
        "model.fit(original_features_train, target_train)"
      ]
    },
    {
      "cell_type": "code",
      "execution_count": null,
      "metadata": {
        "colab": {
          "base_uri": "https://localhost:8080/"
        },
        "id": "EjagRTn0Roy6",
        "outputId": "3ad6e522-a966-49e8-f765-3d42176be8ea"
      },
      "outputs": [
        {
          "name": "stdout",
          "output_type": "stream",
          "text": [
            "CPU times: user 231 ms, sys: 7 ms, total: 238 ms\n",
            "Wall time: 141 ms\n"
          ]
        }
      ],
      "source": [
        "%%time\n",
        "\n",
        "target_predict = model.predict(original_features_test)"
      ]
    },
    {
      "cell_type": "code",
      "execution_count": null,
      "metadata": {
        "id": "Q27e8Rd9Roy6"
      },
      "outputs": [],
      "source": [
        "final_RMSE_CBR_original = mean_squared_error(target_test, target_predict) ** 0.5"
      ]
    },
    {
      "cell_type": "markdown",
      "metadata": {
        "id": "ySgc8T9MRoy7"
      },
      "source": [
        "### Регрессия LGBMRegressor"
      ]
    },
    {
      "cell_type": "code",
      "execution_count": null,
      "metadata": {
        "colab": {
          "base_uri": "https://localhost:8080/"
        },
        "id": "fP1zuOrcRoy7",
        "outputId": "d78fa0a1-f135-4f5b-c31b-d6bf71c51196"
      },
      "outputs": [
        {
          "name": "stdout",
          "output_type": "stream",
          "text": [
            "CPU times: user 4.13 s, sys: 105 ms, total: 4.23 s\n",
            "Wall time: 2.22 s\n"
          ]
        }
      ],
      "source": [
        "%%time\n",
        "\n",
        "model = LGBMRegressor(learning_rate=0.1, \n",
        "                      num_leaves=200, \n",
        "                      random_state=16052022)\n",
        "model.fit(ordinal_features_train, target_train)"
      ]
    },
    {
      "cell_type": "code",
      "execution_count": null,
      "metadata": {
        "colab": {
          "base_uri": "https://localhost:8080/"
        },
        "id": "G5nZxbCoRoy7",
        "outputId": "cc3b1f4b-bdb6-4c7a-f25d-8162665c32c7"
      },
      "outputs": [
        {
          "name": "stdout",
          "output_type": "stream",
          "text": [
            "CPU times: user 990 ms, sys: 7.91 ms, total: 998 ms\n",
            "Wall time: 527 ms\n"
          ]
        }
      ],
      "source": [
        "%%time\n",
        "\n",
        "target_predict = model.predict(ordinal_features_test)"
      ]
    },
    {
      "cell_type": "code",
      "execution_count": null,
      "metadata": {
        "id": "O-ZAammqRoy7"
      },
      "outputs": [],
      "source": [
        "final_RMSE_LGBMR = mean_squared_error(target_test, target_predict) ** 0.5"
      ]
    },
    {
      "cell_type": "markdown",
      "metadata": {
        "id": "0p-FBrXKRoy7"
      },
      "source": [
        "### Сравнение моделей"
      ]
    },
    {
      "cell_type": "markdown",
      "metadata": {
        "id": "S75clbEqRoy7"
      },
      "source": [
        "Создам таблицу для сравнения параметров."
      ]
    },
    {
      "cell_type": "code",
      "execution_count": null,
      "metadata": {
        "colab": {
          "base_uri": "https://localhost:8080/",
          "height": 400
        },
        "id": "iE0osFgxRoy8",
        "outputId": "d0119b66-1787-4394-e7f3-480790b377a2"
      },
      "outputs": [
        {
          "data": {
            "text/html": [
              "\n",
              "  <div id=\"df-bc6887f9-bbac-42dc-b855-ffaead67f000\">\n",
              "    <div class=\"colab-df-container\">\n",
              "      <div>\n",
              "<style scoped>\n",
              "    .dataframe tbody tr th:only-of-type {\n",
              "        vertical-align: middle;\n",
              "    }\n",
              "\n",
              "    .dataframe tbody tr th {\n",
              "        vertical-align: top;\n",
              "    }\n",
              "\n",
              "    .dataframe thead th {\n",
              "        text-align: right;\n",
              "    }\n",
              "</style>\n",
              "<table border=\"1\" class=\"dataframe\">\n",
              "  <thead>\n",
              "    <tr style=\"text-align: right;\">\n",
              "      <th></th>\n",
              "      <th>RMSE на CV, евро</th>\n",
              "      <th>Время обучения на CV, сек</th>\n",
              "      <th>RMSE модели на тестовой выборке, евро</th>\n",
              "      <th>Время обучения модели, сек</th>\n",
              "      <th>Время предсказания модели, сек</th>\n",
              "      <th>Рейтинг RMSE</th>\n",
              "      <th>Рейтинг времени обучения</th>\n",
              "      <th>Рейтинг времени предсказания</th>\n",
              "      <th>Итоговый рейтинг</th>\n",
              "    </tr>\n",
              "  </thead>\n",
              "  <tbody>\n",
              "    <tr>\n",
              "      <th>LinearRegression</th>\n",
              "      <td>1351.121418</td>\n",
              "      <td>79</td>\n",
              "      <td>1361.688180</td>\n",
              "      <td>18.100</td>\n",
              "      <td>0.194</td>\n",
              "      <td>0.675636</td>\n",
              "      <td>0.026464</td>\n",
              "      <td>0.067010</td>\n",
              "      <td>0.769111</td>\n",
              "    </tr>\n",
              "    <tr>\n",
              "      <th>Ridge</th>\n",
              "      <td>1350.781822</td>\n",
              "      <td>125</td>\n",
              "      <td>1361.791392</td>\n",
              "      <td>31.500</td>\n",
              "      <td>0.103</td>\n",
              "      <td>0.675806</td>\n",
              "      <td>0.015206</td>\n",
              "      <td>0.126214</td>\n",
              "      <td>0.817226</td>\n",
              "    </tr>\n",
              "    <tr>\n",
              "      <th>DecisionTreeRegressor on OHE features</th>\n",
              "      <td>1038.838878</td>\n",
              "      <td>285</td>\n",
              "      <td>1033.875960</td>\n",
              "      <td>4.830</td>\n",
              "      <td>0.110</td>\n",
              "      <td>0.878737</td>\n",
              "      <td>0.099172</td>\n",
              "      <td>0.118182</td>\n",
              "      <td>1.096091</td>\n",
              "    </tr>\n",
              "    <tr>\n",
              "      <th>DecisionTreeRegressor on OE features</th>\n",
              "      <td>1044.779072</td>\n",
              "      <td>32</td>\n",
              "      <td>1048.266176</td>\n",
              "      <td>0.479</td>\n",
              "      <td>0.013</td>\n",
              "      <td>0.873741</td>\n",
              "      <td>1.000000</td>\n",
              "      <td>1.000000</td>\n",
              "      <td>2.873741</td>\n",
              "    </tr>\n",
              "    <tr>\n",
              "      <th>CatBoostRegressor on OE features</th>\n",
              "      <td>917.377859</td>\n",
              "      <td>989</td>\n",
              "      <td>916.452092</td>\n",
              "      <td>126.000</td>\n",
              "      <td>0.066</td>\n",
              "      <td>0.995082</td>\n",
              "      <td>0.003802</td>\n",
              "      <td>0.196970</td>\n",
              "      <td>1.195854</td>\n",
              "    </tr>\n",
              "    <tr>\n",
              "      <th>CatBoostRegressor on original features</th>\n",
              "      <td>935.486228</td>\n",
              "      <td>376</td>\n",
              "      <td>934.362787</td>\n",
              "      <td>89.000</td>\n",
              "      <td>0.303</td>\n",
              "      <td>0.975820</td>\n",
              "      <td>0.005382</td>\n",
              "      <td>0.042904</td>\n",
              "      <td>1.024107</td>\n",
              "    </tr>\n",
              "    <tr>\n",
              "      <th>LGBMRegressor</th>\n",
              "      <td>912.866600</td>\n",
              "      <td>249</td>\n",
              "      <td>912.790373</td>\n",
              "      <td>14.700</td>\n",
              "      <td>1.190</td>\n",
              "      <td>1.000000</td>\n",
              "      <td>0.032585</td>\n",
              "      <td>0.010924</td>\n",
              "      <td>1.043509</td>\n",
              "    </tr>\n",
              "  </tbody>\n",
              "</table>\n",
              "</div>\n",
              "      <button class=\"colab-df-convert\" onclick=\"convertToInteractive('df-bc6887f9-bbac-42dc-b855-ffaead67f000')\"\n",
              "              title=\"Convert this dataframe to an interactive table.\"\n",
              "              style=\"display:none;\">\n",
              "        \n",
              "  <svg xmlns=\"http://www.w3.org/2000/svg\" height=\"24px\"viewBox=\"0 0 24 24\"\n",
              "       width=\"24px\">\n",
              "    <path d=\"M0 0h24v24H0V0z\" fill=\"none\"/>\n",
              "    <path d=\"M18.56 5.44l.94 2.06.94-2.06 2.06-.94-2.06-.94-.94-2.06-.94 2.06-2.06.94zm-11 1L8.5 8.5l.94-2.06 2.06-.94-2.06-.94L8.5 2.5l-.94 2.06-2.06.94zm10 10l.94 2.06.94-2.06 2.06-.94-2.06-.94-.94-2.06-.94 2.06-2.06.94z\"/><path d=\"M17.41 7.96l-1.37-1.37c-.4-.4-.92-.59-1.43-.59-.52 0-1.04.2-1.43.59L10.3 9.45l-7.72 7.72c-.78.78-.78 2.05 0 2.83L4 21.41c.39.39.9.59 1.41.59.51 0 1.02-.2 1.41-.59l7.78-7.78 2.81-2.81c.8-.78.8-2.07 0-2.86zM5.41 20L4 18.59l7.72-7.72 1.47 1.35L5.41 20z\"/>\n",
              "  </svg>\n",
              "      </button>\n",
              "      \n",
              "  <style>\n",
              "    .colab-df-container {\n",
              "      display:flex;\n",
              "      flex-wrap:wrap;\n",
              "      gap: 12px;\n",
              "    }\n",
              "\n",
              "    .colab-df-convert {\n",
              "      background-color: #E8F0FE;\n",
              "      border: none;\n",
              "      border-radius: 50%;\n",
              "      cursor: pointer;\n",
              "      display: none;\n",
              "      fill: #1967D2;\n",
              "      height: 32px;\n",
              "      padding: 0 0 0 0;\n",
              "      width: 32px;\n",
              "    }\n",
              "\n",
              "    .colab-df-convert:hover {\n",
              "      background-color: #E2EBFA;\n",
              "      box-shadow: 0px 1px 2px rgba(60, 64, 67, 0.3), 0px 1px 3px 1px rgba(60, 64, 67, 0.15);\n",
              "      fill: #174EA6;\n",
              "    }\n",
              "\n",
              "    [theme=dark] .colab-df-convert {\n",
              "      background-color: #3B4455;\n",
              "      fill: #D2E3FC;\n",
              "    }\n",
              "\n",
              "    [theme=dark] .colab-df-convert:hover {\n",
              "      background-color: #434B5C;\n",
              "      box-shadow: 0px 1px 3px 1px rgba(0, 0, 0, 0.15);\n",
              "      filter: drop-shadow(0px 1px 2px rgba(0, 0, 0, 0.3));\n",
              "      fill: #FFFFFF;\n",
              "    }\n",
              "  </style>\n",
              "\n",
              "      <script>\n",
              "        const buttonEl =\n",
              "          document.querySelector('#df-bc6887f9-bbac-42dc-b855-ffaead67f000 button.colab-df-convert');\n",
              "        buttonEl.style.display =\n",
              "          google.colab.kernel.accessAllowed ? 'block' : 'none';\n",
              "\n",
              "        async function convertToInteractive(key) {\n",
              "          const element = document.querySelector('#df-bc6887f9-bbac-42dc-b855-ffaead67f000');\n",
              "          const dataTable =\n",
              "            await google.colab.kernel.invokeFunction('convertToInteractive',\n",
              "                                                     [key], {});\n",
              "          if (!dataTable) return;\n",
              "\n",
              "          const docLinkHtml = 'Like what you see? Visit the ' +\n",
              "            '<a target=\"_blank\" href=https://colab.research.google.com/notebooks/data_table.ipynb>data table notebook</a>'\n",
              "            + ' to learn more about interactive tables.';\n",
              "          element.innerHTML = '';\n",
              "          dataTable['output_type'] = 'display_data';\n",
              "          await google.colab.output.renderOutput(dataTable, element);\n",
              "          const docLink = document.createElement('div');\n",
              "          docLink.innerHTML = docLinkHtml;\n",
              "          element.appendChild(docLink);\n",
              "        }\n",
              "      </script>\n",
              "    </div>\n",
              "  </div>\n",
              "  "
            ],
            "text/plain": [
              "                                        RMSE на CV, евро  \\\n",
              "LinearRegression                             1351.121418   \n",
              "Ridge                                        1350.781822   \n",
              "DecisionTreeRegressor on OHE features        1038.838878   \n",
              "DecisionTreeRegressor on OE features         1044.779072   \n",
              "CatBoostRegressor on OE features              917.377859   \n",
              "CatBoostRegressor on original features        935.486228   \n",
              "LGBMRegressor                                 912.866600   \n",
              "\n",
              "                                        Время обучения на CV, сек  \\\n",
              "LinearRegression                                               79   \n",
              "Ridge                                                         125   \n",
              "DecisionTreeRegressor on OHE features                         285   \n",
              "DecisionTreeRegressor on OE features                           32   \n",
              "CatBoostRegressor on OE features                              989   \n",
              "CatBoostRegressor on original features                        376   \n",
              "LGBMRegressor                                                 249   \n",
              "\n",
              "                                        RMSE модели на тестовой выборке, евро  \\\n",
              "LinearRegression                                                  1361.688180   \n",
              "Ridge                                                             1361.791392   \n",
              "DecisionTreeRegressor on OHE features                             1033.875960   \n",
              "DecisionTreeRegressor on OE features                              1048.266176   \n",
              "CatBoostRegressor on OE features                                   916.452092   \n",
              "CatBoostRegressor on original features                             934.362787   \n",
              "LGBMRegressor                                                      912.790373   \n",
              "\n",
              "                                        Время обучения модели, сек  \\\n",
              "LinearRegression                                            18.100   \n",
              "Ridge                                                       31.500   \n",
              "DecisionTreeRegressor on OHE features                        4.830   \n",
              "DecisionTreeRegressor on OE features                         0.479   \n",
              "CatBoostRegressor on OE features                           126.000   \n",
              "CatBoostRegressor on original features                      89.000   \n",
              "LGBMRegressor                                               14.700   \n",
              "\n",
              "                                        Время предсказания модели, сек  \\\n",
              "LinearRegression                                                 0.194   \n",
              "Ridge                                                            0.103   \n",
              "DecisionTreeRegressor on OHE features                            0.110   \n",
              "DecisionTreeRegressor on OE features                             0.013   \n",
              "CatBoostRegressor on OE features                                 0.066   \n",
              "CatBoostRegressor on original features                           0.303   \n",
              "LGBMRegressor                                                    1.190   \n",
              "\n",
              "                                        Рейтинг RMSE  \\\n",
              "LinearRegression                            0.675636   \n",
              "Ridge                                       0.675806   \n",
              "DecisionTreeRegressor on OHE features       0.878737   \n",
              "DecisionTreeRegressor on OE features        0.873741   \n",
              "CatBoostRegressor on OE features            0.995082   \n",
              "CatBoostRegressor on original features      0.975820   \n",
              "LGBMRegressor                               1.000000   \n",
              "\n",
              "                                        Рейтинг времени обучения  \\\n",
              "LinearRegression                                        0.026464   \n",
              "Ridge                                                   0.015206   \n",
              "DecisionTreeRegressor on OHE features                   0.099172   \n",
              "DecisionTreeRegressor on OE features                    1.000000   \n",
              "CatBoostRegressor on OE features                        0.003802   \n",
              "CatBoostRegressor on original features                  0.005382   \n",
              "LGBMRegressor                                           0.032585   \n",
              "\n",
              "                                        Рейтинг времени предсказания  \\\n",
              "LinearRegression                                            0.067010   \n",
              "Ridge                                                       0.126214   \n",
              "DecisionTreeRegressor on OHE features                       0.118182   \n",
              "DecisionTreeRegressor on OE features                        1.000000   \n",
              "CatBoostRegressor on OE features                            0.196970   \n",
              "CatBoostRegressor on original features                      0.042904   \n",
              "LGBMRegressor                                               0.010924   \n",
              "\n",
              "                                        Итоговый рейтинг  \n",
              "LinearRegression                                0.769111  \n",
              "Ridge                                           0.817226  \n",
              "DecisionTreeRegressor on OHE features           1.096091  \n",
              "DecisionTreeRegressor on OE features            2.873741  \n",
              "CatBoostRegressor on OE features                1.195854  \n",
              "CatBoostRegressor on original features          1.024107  \n",
              "LGBMRegressor                                   1.043509  "
            ]
          },
          "execution_count": 66,
          "metadata": {},
          "output_type": "execute_result"
        }
      ],
      "source": [
        "index = ['LinearRegression',\n",
        "         'Ridge',\n",
        "         'DecisionTreeRegressor on OHE features',\n",
        "         'DecisionTreeRegressor on OE features',\n",
        "         'CatBoostRegressor on OE features',\n",
        "         'CatBoostRegressor on original features',\n",
        "         'LGBMRegressor']\n",
        "data = {'RMSE на CV, евро':[cv_RMSE_LR,\n",
        "                            cv_RMSE_R,\n",
        "                            cv_RMSE_DTR_ohe,\n",
        "                            cv_RMSE_DTR_ordinal,\n",
        "                            cv_RMSE_CBR_ordinal,\n",
        "                            cv_RMSE_CBR_original,\n",
        "                            cv_RMSE_LGBMR],\n",
        "        'Время обучения на CV, сек':[79,\n",
        "                                     125,\n",
        "                                     285,\n",
        "                                     32,\n",
        "                                     989,\n",
        "                                     376,\n",
        "                                     249],\n",
        "        'RMSE модели на тестовой выборке, евро':[final_RMSE_LR,\n",
        "                                                final_RMSE_R,\n",
        "                                                final_RMSE_DTR_ohe,\n",
        "                                                final_RMSE_DTR_ordinal,\n",
        "                                                final_RMSE_CBR_ordinal,\n",
        "                                                final_RMSE_CBR_original,\n",
        "                                                final_RMSE_LGBMR],\n",
        "        'Время обучения модели, сек':[18.1,\n",
        "                                      31.5,\n",
        "                                      4.83,\n",
        "                                      0.479,\n",
        "                                      126,\n",
        "                                      89,\n",
        "                                      14.7],\n",
        "        'Время предсказания модели, сек':[0.194,\n",
        "                                          0.103,\n",
        "                                          0.110,\n",
        "                                          0.013,\n",
        "                                          0.066,\n",
        "                                          0.303,\n",
        "                                          1.19]}\n",
        "\n",
        "scores_data = pd.DataFrame(data=data, index=index)\n",
        "scores_data['Рейтинг RMSE'] = (scores_data['RMSE на CV, евро'].min() /\n",
        "                              scores_data['RMSE на CV, евро'])\n",
        "scores_data['Рейтинг времени обучения'] = (scores_data['Время обучения модели, сек'].min() / \n",
        "                              scores_data['Время обучения модели, сек'])\n",
        "scores_data['Рейтинг времени предсказания'] = (scores_data['Время предсказания модели, сек'].min() / \n",
        "                              scores_data['Время предсказания модели, сек'])\n",
        "scores_data['Итоговый рейтинг'] = (scores_data['Рейтинг RMSE'] +\n",
        "                                   scores_data['Рейтинг времени обучения'] +\n",
        "                                   scores_data['Рейтинг времени предсказания'])\n",
        "scores_data"
      ]
    },
    {
      "cell_type": "markdown",
      "metadata": {
        "id": "T2vpTHLqRoy8"
      },
      "source": [
        "## Итоговый вывод\n",
        "\n",
        "В ходе работы было выполнено:\n",
        "\n",
        "* Загружены данные и проведена предобработка.\n",
        "* Выполнено сравнение моделей с использованием различных наборов гиперпараметров.\n",
        "* Выбрана лучшая модель по результатам метрики RMSE и времени обучения.\n",
        "\n",
        "Для общей оценки по трем параметрам был создан относительный рейтинг. 1 получает регрессор с самым минмальным временем или RMSE. Остальные получают рейтинг как отношение лучшего в столбце к своему значению. Считаем, что все параметры равноценны.\n",
        "\n",
        "На выбор модели не влияло время обучения на кросвалидации, так как на одном типе данных ее проводят один раз. В то время переобучить модель на новых данных приходится намного чаще.\n",
        "\n",
        "* Лучшей моделью по трем параметрам качество, скорость обучения и скорость предсказания можно считать DecisionTreeRegressor. Сочетания скорости и точности на подготовленных данных выводит его в лидеры рейтинга. Все остальные показали себя в целом хуже.\n",
        "\n",
        "* Если рассматривать только оценивание точности, то в лидеры выходит LGBMRegressor. Следом за ним идет CatBoostRegressor и DecisionTreeRegressor занимает третье место.\n",
        "\n",
        "* LinearRegression и Ridge показали себя на этой задачи очень слабо.\n",
        "\n",
        "Исходя из полученного рейтинга можно выделить специфику задач для регрессоров.\n",
        "\n",
        "* Для быстрых решений с хорошей точностью подойдет DecisionTreeRegressor с подготовленными признаками.\n",
        "* Если в деле важна точность и есть время регрессор LGBMRegressor поможет предсказать лучше всех.\n",
        "* Для задач, не требующих сильной предобработки и заготовки данных CatBoostRegressor может показать себя очень хорошо."
      ]
    },
    {
      "cell_type": "code",
      "execution_count": null,
      "metadata": {
        "id": "iz2gqcEORoy9"
      },
      "outputs": [],
      "source": []
    }
  ],
  "metadata": {
    "ExecuteTimeLog": [
      {
        "duration": 2494,
        "start_time": "2022-05-16T18:09:56.514Z"
      },
      {
        "duration": 1352,
        "start_time": "2022-05-16T18:10:12.938Z"
      },
      {
        "duration": 170,
        "start_time": "2022-05-16T18:11:39.468Z"
      },
      {
        "duration": 5,
        "start_time": "2022-05-16T18:12:11.538Z"
      },
      {
        "duration": 502,
        "start_time": "2022-05-16T18:12:43.098Z"
      },
      {
        "duration": 185,
        "start_time": "2022-05-16T18:14:50.857Z"
      },
      {
        "duration": 11,
        "start_time": "2022-05-16T18:14:57.285Z"
      },
      {
        "duration": 22,
        "start_time": "2022-05-16T18:15:03.138Z"
      },
      {
        "duration": 134,
        "start_time": "2022-05-16T18:15:14.913Z"
      },
      {
        "duration": 123,
        "start_time": "2022-05-16T18:15:20.234Z"
      },
      {
        "duration": 140,
        "start_time": "2022-05-16T19:16:35.822Z"
      },
      {
        "duration": 19,
        "start_time": "2022-05-16T19:17:21.154Z"
      },
      {
        "duration": 103,
        "start_time": "2022-05-16T19:17:44.613Z"
      },
      {
        "duration": 578,
        "start_time": "2022-05-16T19:18:00.728Z"
      },
      {
        "duration": 105,
        "start_time": "2022-05-16T19:18:18.062Z"
      },
      {
        "duration": 16,
        "start_time": "2022-05-16T19:18:31.238Z"
      },
      {
        "duration": 124,
        "start_time": "2022-05-16T19:19:47.057Z"
      },
      {
        "duration": 451,
        "start_time": "2022-05-16T19:20:15.135Z"
      },
      {
        "duration": 92,
        "start_time": "2022-05-16T19:20:52.886Z"
      },
      {
        "duration": 632,
        "start_time": "2022-05-16T19:21:45.396Z"
      },
      {
        "duration": 375,
        "start_time": "2022-05-16T19:22:21.872Z"
      },
      {
        "duration": 116,
        "start_time": "2022-05-16T19:22:51.993Z"
      },
      {
        "duration": 49,
        "start_time": "2022-05-16T19:23:28.524Z"
      },
      {
        "duration": 153,
        "start_time": "2022-05-16T19:23:58.111Z"
      },
      {
        "duration": 45,
        "start_time": "2022-05-16T19:24:24.280Z"
      },
      {
        "duration": 112,
        "start_time": "2022-05-16T19:24:48.955Z"
      },
      {
        "duration": 81,
        "start_time": "2022-05-16T19:24:59.801Z"
      },
      {
        "duration": 5190,
        "start_time": "2022-05-16T19:25:14.176Z"
      },
      {
        "duration": 5889,
        "start_time": "2022-05-16T19:25:48.586Z"
      },
      {
        "duration": 74,
        "start_time": "2022-05-16T19:26:00.100Z"
      },
      {
        "duration": 467,
        "start_time": "2022-05-16T19:26:37.648Z"
      },
      {
        "duration": 487,
        "start_time": "2022-05-16T19:27:04.301Z"
      },
      {
        "duration": 532,
        "start_time": "2022-05-16T19:27:46.316Z"
      },
      {
        "duration": 614,
        "start_time": "2022-05-16T19:28:08.313Z"
      },
      {
        "duration": 73,
        "start_time": "2022-05-16T19:28:39.106Z"
      },
      {
        "duration": 62,
        "start_time": "2022-05-16T19:29:23.526Z"
      },
      {
        "duration": 59,
        "start_time": "2022-05-16T19:29:33.204Z"
      },
      {
        "duration": 244,
        "start_time": "2022-05-16T19:30:05.091Z"
      },
      {
        "duration": 5,
        "start_time": "2022-05-16T19:30:37.027Z"
      },
      {
        "duration": 818,
        "start_time": "2022-05-16T19:54:35.606Z"
      },
      {
        "duration": 461,
        "start_time": "2022-05-16T19:55:05.198Z"
      },
      {
        "duration": 82945,
        "start_time": "2022-05-16T19:57:02.582Z"
      },
      {
        "duration": 94112,
        "start_time": "2022-05-16T19:58:42.213Z"
      },
      {
        "duration": 2072,
        "start_time": "2022-05-16T20:28:40.786Z"
      },
      {
        "duration": 1312,
        "start_time": "2022-05-16T20:28:42.861Z"
      },
      {
        "duration": 179,
        "start_time": "2022-05-16T20:28:44.175Z"
      },
      {
        "duration": 5,
        "start_time": "2022-05-16T20:28:44.357Z"
      },
      {
        "duration": 475,
        "start_time": "2022-05-16T20:28:44.364Z"
      },
      {
        "duration": 135,
        "start_time": "2022-05-16T20:28:44.841Z"
      },
      {
        "duration": 146,
        "start_time": "2022-05-16T20:28:44.979Z"
      },
      {
        "duration": 15,
        "start_time": "2022-05-16T20:28:45.127Z"
      },
      {
        "duration": 599,
        "start_time": "2022-05-16T20:28:45.144Z"
      },
      {
        "duration": 17,
        "start_time": "2022-05-16T20:28:45.747Z"
      },
      {
        "duration": 153,
        "start_time": "2022-05-16T20:28:45.766Z"
      },
      {
        "duration": 448,
        "start_time": "2022-05-16T20:28:45.922Z"
      },
      {
        "duration": 100,
        "start_time": "2022-05-16T20:28:46.372Z"
      },
      {
        "duration": 617,
        "start_time": "2022-05-16T20:28:46.474Z"
      },
      {
        "duration": 397,
        "start_time": "2022-05-16T20:28:47.094Z"
      },
      {
        "duration": 130,
        "start_time": "2022-05-16T20:28:47.493Z"
      },
      {
        "duration": 47,
        "start_time": "2022-05-16T20:28:47.625Z"
      },
      {
        "duration": 172,
        "start_time": "2022-05-16T20:28:47.674Z"
      },
      {
        "duration": 44,
        "start_time": "2022-05-16T20:28:47.848Z"
      },
      {
        "duration": 104,
        "start_time": "2022-05-16T20:28:47.894Z"
      },
      {
        "duration": 4912,
        "start_time": "2022-05-16T20:28:48.000Z"
      },
      {
        "duration": 5239,
        "start_time": "2022-05-16T20:28:52.915Z"
      },
      {
        "duration": 87,
        "start_time": "2022-05-16T20:28:58.156Z"
      },
      {
        "duration": 492,
        "start_time": "2022-05-16T20:28:58.246Z"
      },
      {
        "duration": 491,
        "start_time": "2022-05-16T20:28:58.740Z"
      },
      {
        "duration": 522,
        "start_time": "2022-05-16T20:28:59.233Z"
      },
      {
        "duration": 519,
        "start_time": "2022-05-16T20:28:59.758Z"
      },
      {
        "duration": 82,
        "start_time": "2022-05-16T20:29:00.284Z"
      },
      {
        "duration": 85,
        "start_time": "2022-05-16T20:29:00.369Z"
      },
      {
        "duration": 78,
        "start_time": "2022-05-16T20:29:00.457Z"
      },
      {
        "duration": 287,
        "start_time": "2022-05-16T20:29:00.538Z"
      },
      {
        "duration": 5,
        "start_time": "2022-05-16T20:29:00.828Z"
      },
      {
        "duration": 1275,
        "start_time": "2022-05-16T20:29:00.836Z"
      },
      {
        "duration": 504,
        "start_time": "2022-05-16T20:29:02.113Z"
      },
      {
        "duration": 79605,
        "start_time": "2022-05-16T20:29:02.623Z"
      },
      {
        "duration": 86695,
        "start_time": "2022-05-16T20:30:22.232Z"
      },
      {
        "duration": 2039,
        "start_time": "2022-05-16T20:56:13.207Z"
      },
      {
        "duration": 1317,
        "start_time": "2022-05-16T20:56:15.249Z"
      },
      {
        "duration": 180,
        "start_time": "2022-05-16T20:56:16.568Z"
      },
      {
        "duration": 4,
        "start_time": "2022-05-16T20:56:16.751Z"
      },
      {
        "duration": 482,
        "start_time": "2022-05-16T20:56:16.757Z"
      },
      {
        "duration": 139,
        "start_time": "2022-05-16T20:56:17.241Z"
      },
      {
        "duration": 153,
        "start_time": "2022-05-16T20:56:17.383Z"
      },
      {
        "duration": 17,
        "start_time": "2022-05-16T20:56:17.539Z"
      },
      {
        "duration": 699,
        "start_time": "2022-05-16T20:56:17.558Z"
      },
      {
        "duration": 16,
        "start_time": "2022-05-16T20:56:18.261Z"
      },
      {
        "duration": 147,
        "start_time": "2022-05-16T20:56:18.279Z"
      },
      {
        "duration": 470,
        "start_time": "2022-05-16T20:56:18.428Z"
      },
      {
        "duration": 99,
        "start_time": "2022-05-16T20:56:18.901Z"
      },
      {
        "duration": 611,
        "start_time": "2022-05-16T20:56:19.003Z"
      },
      {
        "duration": 408,
        "start_time": "2022-05-16T20:56:19.616Z"
      },
      {
        "duration": 126,
        "start_time": "2022-05-16T20:56:20.027Z"
      },
      {
        "duration": 48,
        "start_time": "2022-05-16T20:56:20.155Z"
      },
      {
        "duration": 181,
        "start_time": "2022-05-16T20:56:20.205Z"
      },
      {
        "duration": 59,
        "start_time": "2022-05-16T20:56:20.388Z"
      },
      {
        "duration": 92,
        "start_time": "2022-05-16T20:56:20.449Z"
      },
      {
        "duration": 4918,
        "start_time": "2022-05-16T20:56:20.543Z"
      },
      {
        "duration": 5377,
        "start_time": "2022-05-16T20:56:25.463Z"
      },
      {
        "duration": 84,
        "start_time": "2022-05-16T20:56:30.842Z"
      },
      {
        "duration": 496,
        "start_time": "2022-05-16T20:56:30.928Z"
      },
      {
        "duration": 509,
        "start_time": "2022-05-16T20:56:31.426Z"
      },
      {
        "duration": 536,
        "start_time": "2022-05-16T20:56:31.938Z"
      },
      {
        "duration": 520,
        "start_time": "2022-05-16T20:56:32.477Z"
      },
      {
        "duration": 81,
        "start_time": "2022-05-16T20:56:33.002Z"
      },
      {
        "duration": 76,
        "start_time": "2022-05-16T20:56:33.086Z"
      },
      {
        "duration": 77,
        "start_time": "2022-05-16T20:56:33.165Z"
      },
      {
        "duration": 261,
        "start_time": "2022-05-16T20:56:33.244Z"
      },
      {
        "duration": 5,
        "start_time": "2022-05-16T20:56:33.508Z"
      },
      {
        "duration": 773,
        "start_time": "2022-05-16T20:56:33.525Z"
      },
      {
        "duration": 470,
        "start_time": "2022-05-16T20:56:34.300Z"
      },
      {
        "duration": 86559,
        "start_time": "2022-05-16T20:56:34.772Z"
      },
      {
        "duration": 91503,
        "start_time": "2022-05-16T20:58:01.424Z"
      },
      {
        "duration": 2136,
        "start_time": "2022-05-16T21:10:01.650Z"
      },
      {
        "duration": 1385,
        "start_time": "2022-05-16T21:10:03.789Z"
      },
      {
        "duration": 194,
        "start_time": "2022-05-16T21:10:05.177Z"
      },
      {
        "duration": 6,
        "start_time": "2022-05-16T21:10:05.375Z"
      },
      {
        "duration": 515,
        "start_time": "2022-05-16T21:10:05.383Z"
      },
      {
        "duration": 142,
        "start_time": "2022-05-16T21:10:05.901Z"
      },
      {
        "duration": 167,
        "start_time": "2022-05-16T21:10:06.045Z"
      },
      {
        "duration": 16,
        "start_time": "2022-05-16T21:10:06.215Z"
      },
      {
        "duration": 633,
        "start_time": "2022-05-16T21:10:06.234Z"
      },
      {
        "duration": 17,
        "start_time": "2022-05-16T21:10:06.872Z"
      },
      {
        "duration": 149,
        "start_time": "2022-05-16T21:10:06.891Z"
      },
      {
        "duration": 458,
        "start_time": "2022-05-16T21:10:07.042Z"
      },
      {
        "duration": 90,
        "start_time": "2022-05-16T21:10:07.502Z"
      },
      {
        "duration": 618,
        "start_time": "2022-05-16T21:10:07.594Z"
      },
      {
        "duration": 406,
        "start_time": "2022-05-16T21:10:08.215Z"
      },
      {
        "duration": 128,
        "start_time": "2022-05-16T21:10:08.625Z"
      },
      {
        "duration": 49,
        "start_time": "2022-05-16T21:10:08.755Z"
      },
      {
        "duration": 158,
        "start_time": "2022-05-16T21:10:08.824Z"
      },
      {
        "duration": 60,
        "start_time": "2022-05-16T21:10:08.984Z"
      },
      {
        "duration": 88,
        "start_time": "2022-05-16T21:10:09.047Z"
      },
      {
        "duration": 5080,
        "start_time": "2022-05-16T21:10:09.137Z"
      },
      {
        "duration": 5406,
        "start_time": "2022-05-16T21:10:14.223Z"
      },
      {
        "duration": 73,
        "start_time": "2022-05-16T21:10:19.631Z"
      },
      {
        "duration": 486,
        "start_time": "2022-05-16T21:10:19.706Z"
      },
      {
        "duration": 507,
        "start_time": "2022-05-16T21:10:20.195Z"
      },
      {
        "duration": 525,
        "start_time": "2022-05-16T21:10:20.704Z"
      },
      {
        "duration": 501,
        "start_time": "2022-05-16T21:10:21.232Z"
      },
      {
        "duration": 85,
        "start_time": "2022-05-16T21:10:21.739Z"
      },
      {
        "duration": 61,
        "start_time": "2022-05-16T21:10:21.827Z"
      },
      {
        "duration": 79,
        "start_time": "2022-05-16T21:10:21.890Z"
      },
      {
        "duration": 261,
        "start_time": "2022-05-16T21:10:21.971Z"
      },
      {
        "duration": 5,
        "start_time": "2022-05-16T21:10:22.234Z"
      },
      {
        "duration": 815,
        "start_time": "2022-05-16T21:10:22.241Z"
      },
      {
        "duration": 485,
        "start_time": "2022-05-16T21:10:23.059Z"
      },
      {
        "duration": 76684,
        "start_time": "2022-05-16T21:10:23.547Z"
      },
      {
        "duration": 85009,
        "start_time": "2022-05-16T21:11:40.324Z"
      },
      {
        "duration": 2078,
        "start_time": "2022-05-16T22:53:12.783Z"
      },
      {
        "duration": 1350,
        "start_time": "2022-05-16T22:53:14.864Z"
      },
      {
        "duration": 167,
        "start_time": "2022-05-16T22:53:16.223Z"
      },
      {
        "duration": 46,
        "start_time": "2022-05-16T22:53:16.393Z"
      },
      {
        "duration": 472,
        "start_time": "2022-05-16T22:53:16.441Z"
      },
      {
        "duration": 141,
        "start_time": "2022-05-16T22:53:16.915Z"
      },
      {
        "duration": 153,
        "start_time": "2022-05-16T22:53:17.059Z"
      },
      {
        "duration": 23,
        "start_time": "2022-05-16T22:53:17.214Z"
      },
      {
        "duration": 599,
        "start_time": "2022-05-16T22:53:17.239Z"
      },
      {
        "duration": 17,
        "start_time": "2022-05-16T22:53:17.842Z"
      },
      {
        "duration": 147,
        "start_time": "2022-05-16T22:53:17.861Z"
      },
      {
        "duration": 454,
        "start_time": "2022-05-16T22:53:18.010Z"
      },
      {
        "duration": 95,
        "start_time": "2022-05-16T22:53:18.466Z"
      },
      {
        "duration": 611,
        "start_time": "2022-05-16T22:53:18.563Z"
      },
      {
        "duration": 424,
        "start_time": "2022-05-16T22:53:19.176Z"
      },
      {
        "duration": 114,
        "start_time": "2022-05-16T22:53:19.602Z"
      },
      {
        "duration": 50,
        "start_time": "2022-05-16T22:53:19.719Z"
      },
      {
        "duration": 160,
        "start_time": "2022-05-16T22:53:19.771Z"
      },
      {
        "duration": 44,
        "start_time": "2022-05-16T22:53:19.933Z"
      },
      {
        "duration": 87,
        "start_time": "2022-05-16T22:53:19.979Z"
      },
      {
        "duration": 5113,
        "start_time": "2022-05-16T22:53:20.068Z"
      },
      {
        "duration": 5364,
        "start_time": "2022-05-16T22:53:25.183Z"
      },
      {
        "duration": 83,
        "start_time": "2022-05-16T22:53:30.550Z"
      },
      {
        "duration": 482,
        "start_time": "2022-05-16T22:53:30.636Z"
      },
      {
        "duration": 507,
        "start_time": "2022-05-16T22:53:31.125Z"
      },
      {
        "duration": 529,
        "start_time": "2022-05-16T22:53:31.634Z"
      },
      {
        "duration": 506,
        "start_time": "2022-05-16T22:53:32.165Z"
      },
      {
        "duration": 81,
        "start_time": "2022-05-16T22:53:32.676Z"
      },
      {
        "duration": 83,
        "start_time": "2022-05-16T22:53:32.760Z"
      },
      {
        "duration": 80,
        "start_time": "2022-05-16T22:53:32.846Z"
      },
      {
        "duration": 265,
        "start_time": "2022-05-16T22:53:32.929Z"
      },
      {
        "duration": 5,
        "start_time": "2022-05-16T22:53:33.197Z"
      },
      {
        "duration": 813,
        "start_time": "2022-05-16T22:53:33.204Z"
      },
      {
        "duration": 493,
        "start_time": "2022-05-16T22:53:34.020Z"
      },
      {
        "duration": 74211,
        "start_time": "2022-05-16T22:53:34.516Z"
      },
      {
        "duration": 82201,
        "start_time": "2022-05-16T22:54:48.731Z"
      },
      {
        "duration": 2273,
        "start_time": "2022-05-17T08:30:04.741Z"
      },
      {
        "duration": 1295,
        "start_time": "2022-05-17T08:30:07.017Z"
      },
      {
        "duration": 183,
        "start_time": "2022-05-17T08:30:08.315Z"
      },
      {
        "duration": 4,
        "start_time": "2022-05-17T08:30:08.503Z"
      },
      {
        "duration": 484,
        "start_time": "2022-05-17T08:30:08.509Z"
      },
      {
        "duration": 137,
        "start_time": "2022-05-17T08:30:08.995Z"
      },
      {
        "duration": 154,
        "start_time": "2022-05-17T08:30:09.135Z"
      },
      {
        "duration": 17,
        "start_time": "2022-05-17T08:30:09.292Z"
      },
      {
        "duration": 599,
        "start_time": "2022-05-17T08:30:09.312Z"
      },
      {
        "duration": 16,
        "start_time": "2022-05-17T08:30:09.915Z"
      },
      {
        "duration": 147,
        "start_time": "2022-05-17T08:30:09.933Z"
      },
      {
        "duration": 456,
        "start_time": "2022-05-17T08:30:10.083Z"
      },
      {
        "duration": 96,
        "start_time": "2022-05-17T08:30:10.542Z"
      },
      {
        "duration": 615,
        "start_time": "2022-05-17T08:30:10.641Z"
      },
      {
        "duration": 405,
        "start_time": "2022-05-17T08:30:11.260Z"
      },
      {
        "duration": 134,
        "start_time": "2022-05-17T08:30:11.668Z"
      },
      {
        "duration": 61,
        "start_time": "2022-05-17T08:30:11.804Z"
      },
      {
        "duration": 168,
        "start_time": "2022-05-17T08:30:11.867Z"
      },
      {
        "duration": 59,
        "start_time": "2022-05-17T08:30:12.038Z"
      },
      {
        "duration": 166,
        "start_time": "2022-05-17T08:30:12.099Z"
      },
      {
        "duration": 8310,
        "start_time": "2022-05-17T08:30:12.269Z"
      },
      {
        "duration": 5355,
        "start_time": "2022-05-17T08:30:20.582Z"
      },
      {
        "duration": 80,
        "start_time": "2022-05-17T08:30:25.939Z"
      },
      {
        "duration": 478,
        "start_time": "2022-05-17T08:30:26.021Z"
      },
      {
        "duration": 487,
        "start_time": "2022-05-17T08:30:26.501Z"
      },
      {
        "duration": 514,
        "start_time": "2022-05-17T08:30:26.990Z"
      },
      {
        "duration": 505,
        "start_time": "2022-05-17T08:30:27.507Z"
      },
      {
        "duration": 80,
        "start_time": "2022-05-17T08:30:28.019Z"
      },
      {
        "duration": 87,
        "start_time": "2022-05-17T08:30:28.102Z"
      },
      {
        "duration": 77,
        "start_time": "2022-05-17T08:30:28.191Z"
      },
      {
        "duration": 245,
        "start_time": "2022-05-17T08:30:28.271Z"
      },
      {
        "duration": 5,
        "start_time": "2022-05-17T08:30:28.519Z"
      },
      {
        "duration": 905,
        "start_time": "2022-05-17T08:30:28.526Z"
      },
      {
        "duration": 812,
        "start_time": "2022-05-17T08:30:29.433Z"
      },
      {
        "duration": 121613,
        "start_time": "2022-05-17T08:30:30.248Z"
      },
      {
        "duration": 121997,
        "start_time": "2022-05-17T08:32:31.865Z"
      },
      {
        "duration": 339,
        "start_time": "2022-05-17T08:51:14.755Z"
      },
      {
        "duration": 2156,
        "start_time": "2022-05-18T07:36:16.679Z"
      },
      {
        "duration": 53,
        "start_time": "2022-05-18T07:36:18.837Z"
      },
      {
        "duration": 0,
        "start_time": "2022-05-18T07:36:18.893Z"
      },
      {
        "duration": 0,
        "start_time": "2022-05-18T07:36:18.894Z"
      },
      {
        "duration": 0,
        "start_time": "2022-05-18T07:36:18.895Z"
      },
      {
        "duration": 0,
        "start_time": "2022-05-18T07:36:18.897Z"
      },
      {
        "duration": 0,
        "start_time": "2022-05-18T07:36:18.898Z"
      },
      {
        "duration": 0,
        "start_time": "2022-05-18T07:36:18.899Z"
      },
      {
        "duration": 0,
        "start_time": "2022-05-18T07:36:18.900Z"
      },
      {
        "duration": 0,
        "start_time": "2022-05-18T07:36:18.901Z"
      },
      {
        "duration": 0,
        "start_time": "2022-05-18T07:36:18.902Z"
      },
      {
        "duration": 0,
        "start_time": "2022-05-18T07:36:18.903Z"
      },
      {
        "duration": 0,
        "start_time": "2022-05-18T07:36:18.904Z"
      },
      {
        "duration": 0,
        "start_time": "2022-05-18T07:36:18.905Z"
      },
      {
        "duration": 0,
        "start_time": "2022-05-18T07:36:18.906Z"
      },
      {
        "duration": 0,
        "start_time": "2022-05-18T07:36:18.906Z"
      },
      {
        "duration": 0,
        "start_time": "2022-05-18T07:36:18.908Z"
      },
      {
        "duration": 0,
        "start_time": "2022-05-18T07:36:18.909Z"
      },
      {
        "duration": 0,
        "start_time": "2022-05-18T07:36:18.909Z"
      },
      {
        "duration": 0,
        "start_time": "2022-05-18T07:36:18.910Z"
      },
      {
        "duration": 0,
        "start_time": "2022-05-18T07:36:18.911Z"
      },
      {
        "duration": 0,
        "start_time": "2022-05-18T07:36:18.912Z"
      },
      {
        "duration": 0,
        "start_time": "2022-05-18T07:36:18.913Z"
      },
      {
        "duration": 0,
        "start_time": "2022-05-18T07:36:18.914Z"
      },
      {
        "duration": 0,
        "start_time": "2022-05-18T07:36:18.916Z"
      },
      {
        "duration": 0,
        "start_time": "2022-05-18T07:36:18.917Z"
      },
      {
        "duration": 0,
        "start_time": "2022-05-18T07:36:18.917Z"
      },
      {
        "duration": 0,
        "start_time": "2022-05-18T07:36:18.918Z"
      },
      {
        "duration": 0,
        "start_time": "2022-05-18T07:36:18.959Z"
      },
      {
        "duration": 0,
        "start_time": "2022-05-18T07:36:18.960Z"
      },
      {
        "duration": 0,
        "start_time": "2022-05-18T07:36:18.961Z"
      },
      {
        "duration": 0,
        "start_time": "2022-05-18T07:36:18.962Z"
      },
      {
        "duration": 0,
        "start_time": "2022-05-18T07:36:18.963Z"
      },
      {
        "duration": 0,
        "start_time": "2022-05-18T07:36:18.964Z"
      },
      {
        "duration": 0,
        "start_time": "2022-05-18T07:36:18.965Z"
      },
      {
        "duration": 0,
        "start_time": "2022-05-18T07:36:18.966Z"
      },
      {
        "duration": 0,
        "start_time": "2022-05-18T07:36:18.966Z"
      },
      {
        "duration": 0,
        "start_time": "2022-05-18T07:36:18.968Z"
      },
      {
        "duration": 0,
        "start_time": "2022-05-18T07:36:18.969Z"
      },
      {
        "duration": 0,
        "start_time": "2022-05-18T07:36:18.969Z"
      },
      {
        "duration": 0,
        "start_time": "2022-05-18T07:36:18.970Z"
      },
      {
        "duration": 0,
        "start_time": "2022-05-18T07:36:18.972Z"
      },
      {
        "duration": 0,
        "start_time": "2022-05-18T07:36:18.972Z"
      },
      {
        "duration": 0,
        "start_time": "2022-05-18T07:36:18.973Z"
      },
      {
        "duration": 0,
        "start_time": "2022-05-18T07:36:18.974Z"
      },
      {
        "duration": 0,
        "start_time": "2022-05-18T07:36:18.975Z"
      },
      {
        "duration": 0,
        "start_time": "2022-05-18T07:36:18.976Z"
      },
      {
        "duration": 0,
        "start_time": "2022-05-18T07:36:18.977Z"
      },
      {
        "duration": 0,
        "start_time": "2022-05-18T07:36:18.978Z"
      },
      {
        "duration": 0,
        "start_time": "2022-05-18T07:36:18.979Z"
      },
      {
        "duration": 0,
        "start_time": "2022-05-18T07:36:18.980Z"
      },
      {
        "duration": 0,
        "start_time": "2022-05-18T07:36:18.981Z"
      },
      {
        "duration": 0,
        "start_time": "2022-05-18T07:36:18.982Z"
      },
      {
        "duration": 0,
        "start_time": "2022-05-18T07:36:18.983Z"
      },
      {
        "duration": 0,
        "start_time": "2022-05-18T07:36:18.984Z"
      },
      {
        "duration": 0,
        "start_time": "2022-05-18T07:36:18.985Z"
      },
      {
        "duration": 0,
        "start_time": "2022-05-18T07:36:18.985Z"
      },
      {
        "duration": 1,
        "start_time": "2022-05-18T07:36:18.986Z"
      },
      {
        "duration": 0,
        "start_time": "2022-05-18T07:36:18.987Z"
      },
      {
        "duration": 0,
        "start_time": "2022-05-18T07:36:18.988Z"
      },
      {
        "duration": 0,
        "start_time": "2022-05-18T07:36:18.989Z"
      },
      {
        "duration": 0,
        "start_time": "2022-05-18T07:36:18.990Z"
      },
      {
        "duration": 0,
        "start_time": "2022-05-18T07:36:18.991Z"
      },
      {
        "duration": 0,
        "start_time": "2022-05-18T07:36:18.992Z"
      },
      {
        "duration": 0,
        "start_time": "2022-05-18T07:36:18.993Z"
      },
      {
        "duration": 0,
        "start_time": "2022-05-18T07:36:18.994Z"
      },
      {
        "duration": 0,
        "start_time": "2022-05-18T07:36:18.995Z"
      },
      {
        "duration": 2075,
        "start_time": "2022-05-18T07:36:57.465Z"
      },
      {
        "duration": 1517,
        "start_time": "2022-05-18T07:36:59.542Z"
      },
      {
        "duration": 1712,
        "start_time": "2022-05-18T07:37:01.061Z"
      },
      {
        "duration": 139,
        "start_time": "2022-05-18T07:37:02.775Z"
      },
      {
        "duration": 144,
        "start_time": "2022-05-18T07:37:02.915Z"
      },
      {
        "duration": 3,
        "start_time": "2022-05-18T07:37:03.061Z"
      },
      {
        "duration": 271,
        "start_time": "2022-05-18T07:37:03.066Z"
      },
      {
        "duration": 130,
        "start_time": "2022-05-18T07:37:03.338Z"
      },
      {
        "duration": 96,
        "start_time": "2022-05-18T07:37:03.470Z"
      },
      {
        "duration": 10,
        "start_time": "2022-05-18T07:37:03.569Z"
      },
      {
        "duration": 335,
        "start_time": "2022-05-18T07:37:03.580Z"
      },
      {
        "duration": 11,
        "start_time": "2022-05-18T07:37:03.916Z"
      },
      {
        "duration": 97,
        "start_time": "2022-05-18T07:37:03.928Z"
      },
      {
        "duration": 253,
        "start_time": "2022-05-18T07:37:04.026Z"
      },
      {
        "duration": 58,
        "start_time": "2022-05-18T07:37:04.281Z"
      },
      {
        "duration": 291,
        "start_time": "2022-05-18T07:37:04.341Z"
      },
      {
        "duration": 224,
        "start_time": "2022-05-18T07:37:04.633Z"
      },
      {
        "duration": 85,
        "start_time": "2022-05-18T07:37:04.859Z"
      },
      {
        "duration": 42,
        "start_time": "2022-05-18T07:37:04.945Z"
      },
      {
        "duration": 114,
        "start_time": "2022-05-18T07:37:04.989Z"
      },
      {
        "duration": 28,
        "start_time": "2022-05-18T07:37:05.104Z"
      },
      {
        "duration": 76,
        "start_time": "2022-05-18T07:37:05.134Z"
      },
      {
        "duration": 2951,
        "start_time": "2022-05-18T07:37:05.211Z"
      },
      {
        "duration": 3068,
        "start_time": "2022-05-18T07:37:08.164Z"
      },
      {
        "duration": 59,
        "start_time": "2022-05-18T07:37:11.234Z"
      },
      {
        "duration": 355,
        "start_time": "2022-05-18T07:37:11.294Z"
      },
      {
        "duration": 284,
        "start_time": "2022-05-18T07:37:11.651Z"
      },
      {
        "duration": 297,
        "start_time": "2022-05-18T07:37:11.939Z"
      },
      {
        "duration": 311,
        "start_time": "2022-05-18T07:37:12.238Z"
      },
      {
        "duration": 58,
        "start_time": "2022-05-18T07:37:12.550Z"
      },
      {
        "duration": 54,
        "start_time": "2022-05-18T07:37:12.609Z"
      },
      {
        "duration": 52,
        "start_time": "2022-05-18T07:37:12.664Z"
      },
      {
        "duration": 110,
        "start_time": "2022-05-18T07:37:12.718Z"
      },
      {
        "duration": 3,
        "start_time": "2022-05-18T07:37:12.829Z"
      },
      {
        "duration": 634,
        "start_time": "2022-05-18T07:37:12.834Z"
      },
      {
        "duration": 335,
        "start_time": "2022-05-18T07:37:13.470Z"
      },
      {
        "duration": 61953,
        "start_time": "2022-05-18T07:37:13.807Z"
      },
      {
        "duration": 67697,
        "start_time": "2022-05-18T07:38:15.762Z"
      },
      {
        "duration": 2952,
        "start_time": "2022-05-18T07:43:09.351Z"
      },
      {
        "duration": 1429,
        "start_time": "2022-05-18T07:43:12.305Z"
      },
      {
        "duration": 1352,
        "start_time": "2022-05-18T07:43:13.736Z"
      },
      {
        "duration": 145,
        "start_time": "2022-05-18T07:43:15.091Z"
      },
      {
        "duration": 124,
        "start_time": "2022-05-18T07:43:15.237Z"
      },
      {
        "duration": 2,
        "start_time": "2022-05-18T07:43:15.364Z"
      },
      {
        "duration": 298,
        "start_time": "2022-05-18T07:43:15.368Z"
      },
      {
        "duration": 106,
        "start_time": "2022-05-18T07:43:15.668Z"
      },
      {
        "duration": 108,
        "start_time": "2022-05-18T07:43:15.775Z"
      },
      {
        "duration": 8,
        "start_time": "2022-05-18T07:43:15.885Z"
      },
      {
        "duration": 341,
        "start_time": "2022-05-18T07:43:15.895Z"
      },
      {
        "duration": 22,
        "start_time": "2022-05-18T07:43:16.238Z"
      },
      {
        "duration": 79,
        "start_time": "2022-05-18T07:43:16.261Z"
      },
      {
        "duration": 278,
        "start_time": "2022-05-18T07:43:16.341Z"
      },
      {
        "duration": 67,
        "start_time": "2022-05-18T07:43:16.622Z"
      },
      {
        "duration": 298,
        "start_time": "2022-05-18T07:43:16.691Z"
      },
      {
        "duration": 279,
        "start_time": "2022-05-18T07:43:16.991Z"
      },
      {
        "duration": 124,
        "start_time": "2022-05-18T07:43:17.273Z"
      },
      {
        "duration": 36,
        "start_time": "2022-05-18T07:43:17.399Z"
      },
      {
        "duration": 101,
        "start_time": "2022-05-18T07:43:17.436Z"
      },
      {
        "duration": 39,
        "start_time": "2022-05-18T07:43:17.539Z"
      },
      {
        "duration": 60,
        "start_time": "2022-05-18T07:43:17.580Z"
      },
      {
        "duration": 2872,
        "start_time": "2022-05-18T07:43:17.642Z"
      },
      {
        "duration": 3139,
        "start_time": "2022-05-18T07:43:20.515Z"
      },
      {
        "duration": 52,
        "start_time": "2022-05-18T07:43:23.659Z"
      },
      {
        "duration": 277,
        "start_time": "2022-05-18T07:43:23.712Z"
      },
      {
        "duration": 371,
        "start_time": "2022-05-18T07:43:23.991Z"
      },
      {
        "duration": 304,
        "start_time": "2022-05-18T07:43:24.366Z"
      },
      {
        "duration": 288,
        "start_time": "2022-05-18T07:43:24.672Z"
      },
      {
        "duration": 54,
        "start_time": "2022-05-18T07:43:24.961Z"
      },
      {
        "duration": 55,
        "start_time": "2022-05-18T07:43:25.017Z"
      },
      {
        "duration": 39,
        "start_time": "2022-05-18T07:43:25.073Z"
      },
      {
        "duration": 101,
        "start_time": "2022-05-18T07:43:25.113Z"
      },
      {
        "duration": 3,
        "start_time": "2022-05-18T07:43:25.216Z"
      },
      {
        "duration": 657,
        "start_time": "2022-05-18T07:43:25.221Z"
      },
      {
        "duration": 340,
        "start_time": "2022-05-18T07:43:25.879Z"
      },
      {
        "duration": 62552,
        "start_time": "2022-05-18T07:43:26.221Z"
      },
      {
        "duration": 68686,
        "start_time": "2022-05-18T07:44:28.775Z"
      }
    ],
    "colab": {
      "collapsed_sections": [],
      "name": "1d1fd3e2-6000-4ebf-817c-61710d58ea16.ipynb",
      "provenance": []
    },
    "kernelspec": {
      "display_name": "Python 3 (ipykernel)",
      "language": "python",
      "name": "python3"
    },
    "language_info": {
      "codemirror_mode": {
        "name": "ipython",
        "version": 3
      },
      "file_extension": ".py",
      "mimetype": "text/x-python",
      "name": "python",
      "nbconvert_exporter": "python",
      "pygments_lexer": "ipython3",
      "version": "3.9.5"
    },
    "toc": {
      "base_numbering": 1,
      "nav_menu": {},
      "number_sections": true,
      "sideBar": true,
      "skip_h1_title": true,
      "title_cell": "Table of Contents",
      "title_sidebar": "Contents",
      "toc_cell": false,
      "toc_position": {},
      "toc_section_display": true,
      "toc_window_display": true
    }
  },
  "nbformat": 4,
  "nbformat_minor": 0
}
