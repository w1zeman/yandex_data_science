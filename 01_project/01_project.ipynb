{
  "cells": [
    {
      "cell_type": "markdown",
      "metadata": {
        "id": "E0vqbgi9ay0H"
      },
      "source": [
        "# Яндекс.Музыка"
      ]
    },
    {
      "cell_type": "markdown",
      "metadata": {
        "id": "VUC88oWjTJw2"
      },
      "source": [
        "Сравнение Москвы и Петербурга окружено мифами. Например:\n",
        " * Москва — мегаполис, подчинённый жёсткому ритму рабочей недели;\n",
        " * Петербург — культурная столица, со своими вкусами.\n",
        "\n",
        "На данных Яндекс.Музыки вы сравните поведение пользователей двух столиц.\n",
        "\n",
        "**Цель исследования** — проверьте три гипотезы:\n",
        "1. Активность пользователей зависит от дня недели. Причём в Москве и Петербурге это проявляется по-разному.\n",
        "2. В понедельник утром в Москве преобладают одни жанры, а в Петербурге — другие. Так же и вечером пятницы преобладают разные жанры — в зависимости от города. \n",
        "3. Москва и Петербург предпочитают разные жанры музыки. В Москве чаще слушают поп-музыку, в Петербурге — русский рэп.\n",
        "\n",
        "**Ход исследования**\n",
        "\n",
        "Данные о поведении пользователей вы получите из файла `yandex_music_project.csv`. О качестве данных ничего не известно. Поэтому перед проверкой гипотез понадобится обзор данных. \n",
        "\n",
        "Вы проверите данные на ошибки и оцените их влияние на исследование. Затем, на этапе предобработки вы поищете возможность исправить самые критичные ошибки данных.\n",
        " \n",
        "Таким образом, исследование пройдёт в три этапа:\n",
        " 1. Обзор данных.\n",
        " 2. Предобработка данных.\n",
        " 3. Проверка гипотез.\n",
        "\n"
      ]
    },
    {
      "cell_type": "markdown",
      "metadata": {
        "id": "Ml1hmfXC_Zcs"
      },
      "source": [
        "## Обзор данных\n",
        "\n",
        "Составьте первое представление о данных Яндекс.Музыки.\n",
        "\n",
        "\n"
      ]
    },
    {
      "cell_type": "markdown",
      "metadata": {
        "id": "57eAOGIz_Zcs"
      },
      "source": [
        "Основной инструмент аналитика — `pandas`. Импортируйте эту библиотеку."
      ]
    },
    {
      "cell_type": "code",
      "execution_count": null,
      "metadata": {
        "id": "AXN7PHPN_Zcs"
      },
      "outputs": [],
      "source": [
        "# импорт библиотеки pandas\n",
        "import pandas as pd"
      ]
    },
    {
      "cell_type": "markdown",
      "metadata": {
        "id": "SG23P8tt_Zcs"
      },
      "source": [
        "Прочитайте файл `yandex_music_project.csv` из папки `/datasets` и сохраните его в переменной `df`:"
      ]
    },
    {
      "cell_type": "code",
      "execution_count": null,
      "metadata": {
        "id": "fFVu7vqh_Zct"
      },
      "outputs": [],
      "source": [
        "# чтение файла с данными и сохранение в df\n",
        "df = pd.read_csv('/datasets/yandex_music_project.csv')"
      ]
    },
    {
      "cell_type": "markdown",
      "metadata": {
        "id": "rDoOMd3uTqnZ"
      },
      "source": [
        "Выведите на экран первые десять строк таблицы:"
      ]
    },
    {
      "cell_type": "code",
      "execution_count": null,
      "metadata": {
        "id": "oWTVX3gW_Zct",
        "outputId": "7085c192-01ba-4441-99a0-972f6d23e90c"
      },
      "outputs": [
        {
          "data": {
            "text/html": [
              "<div>\n",
              "<style scoped>\n",
              "    .dataframe tbody tr th:only-of-type {\n",
              "        vertical-align: middle;\n",
              "    }\n",
              "\n",
              "    .dataframe tbody tr th {\n",
              "        vertical-align: top;\n",
              "    }\n",
              "\n",
              "    .dataframe thead th {\n",
              "        text-align: right;\n",
              "    }\n",
              "</style>\n",
              "<table border=\"1\" class=\"dataframe\">\n",
              "  <thead>\n",
              "    <tr style=\"text-align: right;\">\n",
              "      <th></th>\n",
              "      <th>userID</th>\n",
              "      <th>Track</th>\n",
              "      <th>artist</th>\n",
              "      <th>genre</th>\n",
              "      <th>City</th>\n",
              "      <th>time</th>\n",
              "      <th>Day</th>\n",
              "    </tr>\n",
              "  </thead>\n",
              "  <tbody>\n",
              "    <tr>\n",
              "      <td>0</td>\n",
              "      <td>FFB692EC</td>\n",
              "      <td>Kamigata To Boots</td>\n",
              "      <td>The Mass Missile</td>\n",
              "      <td>rock</td>\n",
              "      <td>Saint-Petersburg</td>\n",
              "      <td>20:28:33</td>\n",
              "      <td>Wednesday</td>\n",
              "    </tr>\n",
              "    <tr>\n",
              "      <td>1</td>\n",
              "      <td>55204538</td>\n",
              "      <td>Delayed Because of Accident</td>\n",
              "      <td>Andreas Rönnberg</td>\n",
              "      <td>rock</td>\n",
              "      <td>Moscow</td>\n",
              "      <td>14:07:09</td>\n",
              "      <td>Friday</td>\n",
              "    </tr>\n",
              "    <tr>\n",
              "      <td>2</td>\n",
              "      <td>20EC38</td>\n",
              "      <td>Funiculì funiculà</td>\n",
              "      <td>Mario Lanza</td>\n",
              "      <td>pop</td>\n",
              "      <td>Saint-Petersburg</td>\n",
              "      <td>20:58:07</td>\n",
              "      <td>Wednesday</td>\n",
              "    </tr>\n",
              "    <tr>\n",
              "      <td>3</td>\n",
              "      <td>A3DD03C9</td>\n",
              "      <td>Dragons in the Sunset</td>\n",
              "      <td>Fire + Ice</td>\n",
              "      <td>folk</td>\n",
              "      <td>Saint-Petersburg</td>\n",
              "      <td>08:37:09</td>\n",
              "      <td>Monday</td>\n",
              "    </tr>\n",
              "    <tr>\n",
              "      <td>4</td>\n",
              "      <td>E2DC1FAE</td>\n",
              "      <td>Soul People</td>\n",
              "      <td>Space Echo</td>\n",
              "      <td>dance</td>\n",
              "      <td>Moscow</td>\n",
              "      <td>08:34:34</td>\n",
              "      <td>Monday</td>\n",
              "    </tr>\n",
              "    <tr>\n",
              "      <td>5</td>\n",
              "      <td>842029A1</td>\n",
              "      <td>Преданная</td>\n",
              "      <td>IMPERVTOR</td>\n",
              "      <td>rusrap</td>\n",
              "      <td>Saint-Petersburg</td>\n",
              "      <td>13:09:41</td>\n",
              "      <td>Friday</td>\n",
              "    </tr>\n",
              "    <tr>\n",
              "      <td>6</td>\n",
              "      <td>4CB90AA5</td>\n",
              "      <td>True</td>\n",
              "      <td>Roman Messer</td>\n",
              "      <td>dance</td>\n",
              "      <td>Moscow</td>\n",
              "      <td>13:00:07</td>\n",
              "      <td>Wednesday</td>\n",
              "    </tr>\n",
              "    <tr>\n",
              "      <td>7</td>\n",
              "      <td>F03E1C1F</td>\n",
              "      <td>Feeling This Way</td>\n",
              "      <td>Polina Griffith</td>\n",
              "      <td>dance</td>\n",
              "      <td>Moscow</td>\n",
              "      <td>20:47:49</td>\n",
              "      <td>Wednesday</td>\n",
              "    </tr>\n",
              "    <tr>\n",
              "      <td>8</td>\n",
              "      <td>8FA1D3BE</td>\n",
              "      <td>И вновь продолжается бой</td>\n",
              "      <td>NaN</td>\n",
              "      <td>ruspop</td>\n",
              "      <td>Moscow</td>\n",
              "      <td>09:17:40</td>\n",
              "      <td>Friday</td>\n",
              "    </tr>\n",
              "    <tr>\n",
              "      <td>9</td>\n",
              "      <td>E772D5C0</td>\n",
              "      <td>Pessimist</td>\n",
              "      <td>NaN</td>\n",
              "      <td>dance</td>\n",
              "      <td>Saint-Petersburg</td>\n",
              "      <td>21:20:49</td>\n",
              "      <td>Wednesday</td>\n",
              "    </tr>\n",
              "  </tbody>\n",
              "</table>\n",
              "</div>"
            ],
            "text/plain": [
              "     userID                        Track            artist   genre  \\\n",
              "0  FFB692EC            Kamigata To Boots  The Mass Missile    rock   \n",
              "1  55204538  Delayed Because of Accident  Andreas Rönnberg    rock   \n",
              "2    20EC38            Funiculì funiculà       Mario Lanza     pop   \n",
              "3  A3DD03C9        Dragons in the Sunset        Fire + Ice    folk   \n",
              "4  E2DC1FAE                  Soul People        Space Echo   dance   \n",
              "5  842029A1                    Преданная         IMPERVTOR  rusrap   \n",
              "6  4CB90AA5                         True      Roman Messer   dance   \n",
              "7  F03E1C1F             Feeling This Way   Polina Griffith   dance   \n",
              "8  8FA1D3BE     И вновь продолжается бой               NaN  ruspop   \n",
              "9  E772D5C0                    Pessimist               NaN   dance   \n",
              "\n",
              "             City        time        Day  \n",
              "0  Saint-Petersburg  20:28:33  Wednesday  \n",
              "1            Moscow  14:07:09     Friday  \n",
              "2  Saint-Petersburg  20:58:07  Wednesday  \n",
              "3  Saint-Petersburg  08:37:09     Monday  \n",
              "4            Moscow  08:34:34     Monday  \n",
              "5  Saint-Petersburg  13:09:41     Friday  \n",
              "6            Moscow  13:00:07  Wednesday  \n",
              "7            Moscow  20:47:49  Wednesday  \n",
              "8            Moscow  09:17:40     Friday  \n",
              "9  Saint-Petersburg  21:20:49  Wednesday  "
            ]
          },
          "execution_count": 3,
          "metadata": {},
          "output_type": "execute_result"
        }
      ],
      "source": [
        "# получение первых 10 строк таблицы df\n",
        "df.head(10)"
      ]
    },
    {
      "cell_type": "markdown",
      "metadata": {
        "id": "EO73Kwic_Zct"
      },
      "source": [
        "Одной командой получить общую информацию о таблице:"
      ]
    },
    {
      "cell_type": "code",
      "execution_count": null,
      "metadata": {
        "id": "DSf2kIb-_Zct",
        "outputId": "cf5fb80e-86f8-45c3-d5ee-0cbc1117701a"
      },
      "outputs": [
        {
          "name": "stdout",
          "output_type": "stream",
          "text": [
            "<class 'pandas.core.frame.DataFrame'>\n",
            "RangeIndex: 65079 entries, 0 to 65078\n",
            "Data columns (total 7 columns):\n",
            "  userID    65079 non-null object\n",
            "Track       63848 non-null object\n",
            "artist      57876 non-null object\n",
            "genre       63881 non-null object\n",
            "  City      65079 non-null object\n",
            "time        65079 non-null object\n",
            "Day         65079 non-null object\n",
            "dtypes: object(7)\n",
            "memory usage: 3.5+ MB\n"
          ]
        }
      ],
      "source": [
        "# получение общей информации о данных в таблице df\n",
        "df.info()"
      ]
    },
    {
      "cell_type": "markdown",
      "metadata": {
        "id": "MCB6-dXG_Zct"
      },
      "source": [
        "**Выводы**\n",
        "\n",
        "В каждой строке таблицы — данные о прослушанном треке. Часть колонок описывает саму композицию: название, исполнителя и жанр. Остальные данные рассказывают о пользователе: из какого он города, когда он слушал музыку. \n",
        "\n",
        "Предварительно можно утверждать, что, данных достаточно для проверки гипотез. Но встречаются пропуски в данных, а в названиях колонок — расхождения с хорошим стилем.\n",
        "\n",
        "Чтобы двигаться дальше, нужно устранить проблемы в данных."
      ]
    },
    {
      "cell_type": "markdown",
      "metadata": {
        "id": "SjYF6Ub9_Zct"
      },
      "source": [
        "## Предобработка данных\n",
        "Исправьте стиль в заголовках столбцов, исключите пропуски. Затем проверьте данные на дубликаты."
      ]
    },
    {
      "cell_type": "markdown",
      "metadata": {
        "id": "dIaKXr29_Zct"
      },
      "source": [
        "### Стиль заголовков\n",
        "Выведите на экран названия столбцов:"
      ]
    },
    {
      "cell_type": "code",
      "execution_count": null,
      "metadata": {
        "id": "oKOTdF_Q_Zct",
        "outputId": "e2d2748b-a985-4fe0-dba2-55902ad27a77"
      },
      "outputs": [
        {
          "data": {
            "text/plain": [
              "Index(['  userID', 'Track', 'artist', 'genre', '  City  ', 'time', 'Day'], dtype='object')"
            ]
          },
          "execution_count": 5,
          "metadata": {},
          "output_type": "execute_result"
        }
      ],
      "source": [
        "# перечень названий столбцов таблицы df\n",
        "df.columns"
      ]
    },
    {
      "cell_type": "markdown",
      "metadata": {
        "id": "FPZA3ki8xe7T"
      },
      "source": [
        ""
      ]
    },
    {
      "cell_type": "markdown",
      "metadata": {
        "id": "zj5534cv_Zct"
      },
      "source": [
        "Приведите названия в соответствие с хорошим стилем:\n",
        "* несколько слов в названии запишите в «змеином_регистре»,\n",
        "* все символы сделайте строчными,\n",
        "* устраните пробелы.\n",
        "\n",
        "Для этого переименуйте колонки так:\n",
        "* `'  userID'` → `'user_id'`;\n",
        "* `'Track'` → `'track'`;\n",
        "* `'  City  '` → `'city'`;\n",
        "* `'Day'` → `'day'`."
      ]
    },
    {
      "cell_type": "code",
      "execution_count": null,
      "metadata": {
        "id": "ISlFqs5y_Zct"
      },
      "outputs": [],
      "source": [
        "# переименование столбцов\n",
        "df = df.rename(columns={\n",
        "'  userID': 'user_id',\n",
        "'Track': 'track',\n",
        "'  City  ': 'city',\n",
        "'Day': 'day'\n",
        "})"
      ]
    },
    {
      "cell_type": "markdown",
      "metadata": {
        "id": "1dqbh00J_Zct"
      },
      "source": [
        "Проверьте результат. Для этого ещё раз выведите на экран названия столбцов:"
      ]
    },
    {
      "cell_type": "code",
      "execution_count": null,
      "metadata": {
        "id": "d4NOAmTW_Zct",
        "outputId": "cbb4d937-3217-4b63-e1af-46890a49bec9"
      },
      "outputs": [
        {
          "data": {
            "text/plain": [
              "Index(['user_id', 'track', 'artist', 'genre', 'city', 'time', 'day'], dtype='object')"
            ]
          },
          "execution_count": 7,
          "metadata": {},
          "output_type": "execute_result"
        }
      ],
      "source": [
        "# проверка результатов - перечень названий столбцов\n",
        "df.columns"
      ]
    },
    {
      "cell_type": "markdown",
      "metadata": {
        "id": "5ISfbcfY_Zct"
      },
      "source": [
        "### Пропуски значений\n",
        "Сначала посчитайте, сколько в таблице пропущенных значений. Для этого достаточно двух методов `pandas`:"
      ]
    },
    {
      "cell_type": "code",
      "execution_count": null,
      "metadata": {
        "id": "RskX29qr_Zct",
        "outputId": "c74c6590-044b-4b57-e324-c14383a154c3"
      },
      "outputs": [
        {
          "data": {
            "text/plain": [
              "user_id       0\n",
              "track      1231\n",
              "artist     7203\n",
              "genre      1198\n",
              "city          0\n",
              "time          0\n",
              "day           0\n",
              "dtype: int64"
            ]
          },
          "execution_count": 8,
          "metadata": {},
          "output_type": "execute_result"
        }
      ],
      "source": [
        "# подсчёт пропусков\n",
        "df.isna().sum()"
      ]
    },
    {
      "cell_type": "markdown",
      "metadata": {
        "id": "qubhgnlO_Zct"
      },
      "source": [
        "Не все пропущенные значения влияют на исследование. Так в `track` и `artist` пропуски не важны для вашей работы. Достаточно заменить их явными обозначениями.\n",
        "\n",
        "Но пропуски в `genre` могут помешать сравнению музыкальных вкусов в Москве и Санкт-Петербурге. На практике было бы правильно установить причину пропусков и восстановить данные. Такой возможности нет в учебном проекте. Придётся:\n",
        "* заполнить и эти пропуски явными обозначениями,\n",
        "* оценить, насколько они повредят расчётам. "
      ]
    },
    {
      "cell_type": "markdown",
      "metadata": {
        "id": "fSv2laPA_Zct"
      },
      "source": [
        "Замените пропущенные значения в столбцах `track`, `artist` и `genre` на строку `'unknown'`. Для этого создайте список `columns_to_replace`, переберите его элементы циклом `for` и для каждого столбца выполните замену пропущенных значений:"
      ]
    },
    {
      "cell_type": "code",
      "execution_count": null,
      "metadata": {
        "id": "KplB5qWs_Zct"
      },
      "outputs": [],
      "source": [
        "# перебор названий столбцов в цикле и замена пропущенных значений на 'unknown'\n",
        "columns_to_replace = ['track', 'artist', 'genre']\n",
        "for column in columns_to_replace:\n",
        "    df[column] = df[column].fillna('unknown')"
      ]
    },
    {
      "cell_type": "markdown",
      "metadata": {
        "id": "Ilsm-MZo_Zct"
      },
      "source": [
        "Убедитесь, что в таблице не осталось пропусков. Для этого ещё раз посчитайте пропущенные значения."
      ]
    },
    {
      "cell_type": "code",
      "execution_count": null,
      "metadata": {
        "id": "Tq4nYRX4_Zct",
        "outputId": "8ad22241-0e07-473a-de9c-90baf59f6069"
      },
      "outputs": [
        {
          "data": {
            "text/plain": [
              "user_id    0\n",
              "track      0\n",
              "artist     0\n",
              "genre      0\n",
              "city       0\n",
              "time       0\n",
              "day        0\n",
              "dtype: int64"
            ]
          },
          "execution_count": 10,
          "metadata": {},
          "output_type": "execute_result"
        }
      ],
      "source": [
        "# подсчёт пропусков\n",
        "df.isna().sum()"
      ]
    },
    {
      "cell_type": "markdown",
      "metadata": {
        "id": "BWKRtBJ3_Zct"
      },
      "source": [
        "### Дубликаты\n",
        "Посчитайте явные дубликаты в таблице одной командой:"
      ]
    },
    {
      "cell_type": "code",
      "execution_count": null,
      "metadata": {
        "id": "36eES_S0_Zct",
        "outputId": "608dbc50-a023-4ee7-ad84-fb027d629850"
      },
      "outputs": [
        {
          "data": {
            "text/plain": [
              "3826"
            ]
          },
          "execution_count": 11,
          "metadata": {},
          "output_type": "execute_result"
        }
      ],
      "source": [
        "# подсчёт явных дубликатов\n",
        "df.duplicated().sum()"
      ]
    },
    {
      "cell_type": "markdown",
      "metadata": {
        "id": "Ot25h6XR_Zct"
      },
      "source": [
        "Вызовите специальный метод `pandas`, чтобы удалить явные дубликаты:"
      ]
    },
    {
      "cell_type": "code",
      "execution_count": null,
      "metadata": {
        "id": "exFHq6tt_Zct"
      },
      "outputs": [],
      "source": [
        "# удаление явных дубликатов (с удалением старых индексов и формированием новых)\n",
        "df = df.drop_duplicates().reset_index(drop=True)"
      ]
    },
    {
      "cell_type": "markdown",
      "metadata": {
        "id": "Im2YwBEG_Zct"
      },
      "source": [
        "Ещё раз посчитайте явные дубликаты в таблице — убедитесь, что полностью от них избавились:"
      ]
    },
    {
      "cell_type": "code",
      "execution_count": null,
      "metadata": {
        "id": "-8PuNWQ0_Zct",
        "outputId": "ddb04830-367c-43f9-e382-5680deeb571a"
      },
      "outputs": [
        {
          "data": {
            "text/plain": [
              "0"
            ]
          },
          "execution_count": 13,
          "metadata": {},
          "output_type": "execute_result"
        }
      ],
      "source": [
        "# проверка на отсутствие дубликатов\n",
        "df.duplicated().sum()"
      ]
    },
    {
      "cell_type": "markdown",
      "metadata": {
        "id": "QlFBsxAr_Zct"
      },
      "source": [
        "Теперь избавьтесь от неявных дубликатов в колонке `genre`. Например, название одного и того же жанра может быть записано немного по-разному. Такие ошибки тоже повлияют на результат исследования."
      ]
    },
    {
      "cell_type": "markdown",
      "metadata": {
        "id": "eSjWwsOh_Zct"
      },
      "source": [
        "Выведите на экран список уникальных названий жанров, отсортированный в алфавитном порядке. Для этого:\n",
        "* извлеките нужный столбец датафрейма, \n",
        "* примените к нему метод сортировки,\n",
        "* для отсортированного столбца вызовите метод, который вернёт уникальные значения из столбца."
      ]
    },
    {
      "cell_type": "code",
      "execution_count": null,
      "metadata": {
        "id": "JIUcqzZN_Zct",
        "outputId": "fe106e3d-b6cb-4c70-df07-e529014956dd"
      },
      "outputs": [
        {
          "data": {
            "text/plain": [
              "array(['acid', 'acoustic', 'action', 'adult', 'africa', 'afrikaans',\n",
              "       'alternative', 'alternativepunk', 'ambient', 'americana',\n",
              "       'animated', 'anime', 'arabesk', 'arabic', 'arena',\n",
              "       'argentinetango', 'art', 'audiobook', 'author', 'avantgarde',\n",
              "       'axé', 'baile', 'balkan', 'beats', 'bigroom', 'black', 'bluegrass',\n",
              "       'blues', 'bollywood', 'bossa', 'brazilian', 'breakbeat', 'breaks',\n",
              "       'broadway', 'cantautori', 'cantopop', 'canzone', 'caribbean',\n",
              "       'caucasian', 'celtic', 'chamber', 'chanson', 'children', 'chill',\n",
              "       'chinese', 'choral', 'christian', 'christmas', 'classical',\n",
              "       'classicmetal', 'club', 'colombian', 'comedy', 'conjazz',\n",
              "       'contemporary', 'country', 'cuban', 'dance', 'dancehall',\n",
              "       'dancepop', 'dark', 'death', 'deep', 'deutschrock', 'deutschspr',\n",
              "       'dirty', 'disco', 'dnb', 'documentary', 'downbeat', 'downtempo',\n",
              "       'drum', 'dub', 'dubstep', 'eastern', 'easy', 'electronic',\n",
              "       'electropop', 'emo', 'entehno', 'epicmetal', 'estrada', 'ethnic',\n",
              "       'eurofolk', 'european', 'experimental', 'extrememetal', 'fado',\n",
              "       'fairytail', 'film', 'fitness', 'flamenco', 'folk', 'folklore',\n",
              "       'folkmetal', 'folkrock', 'folktronica', 'forró', 'frankreich',\n",
              "       'französisch', 'french', 'funk', 'future', 'gangsta', 'garage',\n",
              "       'german', 'ghazal', 'gitarre', 'glitch', 'gospel', 'gothic',\n",
              "       'grime', 'grunge', 'gypsy', 'handsup', \"hard'n'heavy\", 'hardcore',\n",
              "       'hardstyle', 'hardtechno', 'hip', 'hip-hop', 'hiphop',\n",
              "       'historisch', 'holiday', 'hop', 'horror', 'house', 'hymn', 'idm',\n",
              "       'independent', 'indian', 'indie', 'indipop', 'industrial',\n",
              "       'inspirational', 'instrumental', 'international', 'irish', 'jam',\n",
              "       'japanese', 'jazz', 'jewish', 'jpop', 'jungle', 'k-pop',\n",
              "       'karadeniz', 'karaoke', 'kayokyoku', 'korean', 'laiko', 'latin',\n",
              "       'latino', 'leftfield', 'local', 'lounge', 'loungeelectronic',\n",
              "       'lovers', 'malaysian', 'mandopop', 'marschmusik', 'meditative',\n",
              "       'mediterranean', 'melodic', 'metal', 'metalcore', 'mexican',\n",
              "       'middle', 'minimal', 'miscellaneous', 'modern', 'mood', 'mpb',\n",
              "       'muslim', 'native', 'neoklassik', 'neue', 'new', 'newage',\n",
              "       'newwave', 'nu', 'nujazz', 'numetal', 'oceania', 'old', 'opera',\n",
              "       'orchestral', 'other', 'piano', 'podcasts', 'pop', 'popdance',\n",
              "       'popelectronic', 'popeurodance', 'poprussian', 'post',\n",
              "       'posthardcore', 'postrock', 'power', 'progmetal', 'progressive',\n",
              "       'psychedelic', 'punjabi', 'punk', 'quebecois', 'ragga', 'ram',\n",
              "       'rancheras', 'rap', 'rave', 'reggae', 'reggaeton', 'regional',\n",
              "       'relax', 'religious', 'retro', 'rhythm', 'rnb', 'rnr', 'rock',\n",
              "       'rockabilly', 'rockalternative', 'rockindie', 'rockother',\n",
              "       'romance', 'roots', 'ruspop', 'rusrap', 'rusrock', 'russian',\n",
              "       'salsa', 'samba', 'scenic', 'schlager', 'self', 'sertanejo',\n",
              "       'shanson', 'shoegazing', 'showtunes', 'singer', 'ska', 'skarock',\n",
              "       'slow', 'smooth', 'soft', 'soul', 'soulful', 'sound', 'soundtrack',\n",
              "       'southern', 'specialty', 'speech', 'spiritual', 'sport',\n",
              "       'stonerrock', 'surf', 'swing', 'synthpop', 'synthrock',\n",
              "       'sängerportrait', 'tango', 'tanzorchester', 'taraftar', 'tatar',\n",
              "       'tech', 'techno', 'teen', 'thrash', 'top', 'traditional',\n",
              "       'tradjazz', 'trance', 'tribal', 'trip', 'triphop', 'tropical',\n",
              "       'türk', 'türkçe', 'ukrrock', 'unknown', 'urban', 'uzbek',\n",
              "       'variété', 'vi', 'videogame', 'vocal', 'western', 'world',\n",
              "       'worldbeat', 'ïîï', 'электроника'], dtype=object)"
            ]
          },
          "execution_count": 14,
          "metadata": {},
          "output_type": "execute_result"
        }
      ],
      "source": [
        "# Просмотр уникальных названий жанров\n",
        "df['genre'].sort_values().unique()"
      ]
    },
    {
      "cell_type": "markdown",
      "metadata": {
        "id": "qej-Qmuo_Zct"
      },
      "source": [
        "Просмотрите список и найдите неявные дубликаты названия `hiphop`. Это могут быть названия с ошибками или альтернативные названия того же жанра.\n",
        "\n",
        "Вы увидите следующие неявные дубликаты:\n",
        "* *hip*,\n",
        "* *hop*,\n",
        "* *hip-hop*.\n",
        "\n",
        "Чтобы очистить от них таблицу, напишите функцию `replace_wrong_genres()` с двумя параметрами: \n",
        "* `wrong_genres` — список дубликатов,\n",
        "* `correct_genre` — строка с правильным значением.\n",
        "\n",
        "Функция должна исправить колонку `genre` в таблице `df`: заменить каждое значение из списка `wrong_genres` на значение из `correct_genre`."
      ]
    },
    {
      "cell_type": "code",
      "execution_count": null,
      "metadata": {
        "id": "ErNDkmns_Zct"
      },
      "outputs": [],
      "source": [
        "# Функция для замены неявных дубликатов\n",
        "def replace_wrong_genres(wrong_genres, correct_genre):\n",
        "    for wrong_genre in wrong_genres:\n",
        "        df['genre'] = df['genre'].replace(wrong_genre, correct_genre)"
      ]
    },
    {
      "cell_type": "markdown",
      "metadata": {
        "id": "aDoBJxbA_Zct"
      },
      "source": [
        "Вызовите `replace_wrong_genres()` и передайте ей такие аргументы, чтобы она устранила неявные дубликаты: вместо `hip`, `hop` и `hip-hop` в таблице должно быть значение `hiphop`:"
      ]
    },
    {
      "cell_type": "code",
      "execution_count": null,
      "metadata": {
        "id": "YN5i2hpmSo09"
      },
      "outputs": [],
      "source": [
        "# Устранение неявных дубликатов\n",
        "wrong = ['hip', 'hop', 'hip-hop']\n",
        "correct = 'hiphop'\n",
        "replace_wrong_genres(wrong, correct)"
      ]
    },
    {
      "cell_type": "markdown",
      "metadata": {
        "id": "zQKF16_RG15m"
      },
      "source": [
        "Проверьте, что заменили неправильные названия:\n",
        "\n",
        "*   hip\n",
        "*   hop\n",
        "*   hip-hop\n",
        "\n",
        "Выведите отсортированный список уникальных значений столбца `genre`:"
      ]
    },
    {
      "cell_type": "code",
      "execution_count": null,
      "metadata": {
        "id": "wvixALnFG15m",
        "outputId": "2e9c4d8c-9255-42d4-dd01-985023fad3a1"
      },
      "outputs": [
        {
          "data": {
            "text/plain": [
              "array(['acid', 'acoustic', 'action', 'adult', 'africa', 'afrikaans',\n",
              "       'alternative', 'alternativepunk', 'ambient', 'americana',\n",
              "       'animated', 'anime', 'arabesk', 'arabic', 'arena',\n",
              "       'argentinetango', 'art', 'audiobook', 'author', 'avantgarde',\n",
              "       'axé', 'baile', 'balkan', 'beats', 'bigroom', 'black', 'bluegrass',\n",
              "       'blues', 'bollywood', 'bossa', 'brazilian', 'breakbeat', 'breaks',\n",
              "       'broadway', 'cantautori', 'cantopop', 'canzone', 'caribbean',\n",
              "       'caucasian', 'celtic', 'chamber', 'chanson', 'children', 'chill',\n",
              "       'chinese', 'choral', 'christian', 'christmas', 'classical',\n",
              "       'classicmetal', 'club', 'colombian', 'comedy', 'conjazz',\n",
              "       'contemporary', 'country', 'cuban', 'dance', 'dancehall',\n",
              "       'dancepop', 'dark', 'death', 'deep', 'deutschrock', 'deutschspr',\n",
              "       'dirty', 'disco', 'dnb', 'documentary', 'downbeat', 'downtempo',\n",
              "       'drum', 'dub', 'dubstep', 'eastern', 'easy', 'electronic',\n",
              "       'electropop', 'emo', 'entehno', 'epicmetal', 'estrada', 'ethnic',\n",
              "       'eurofolk', 'european', 'experimental', 'extrememetal', 'fado',\n",
              "       'fairytail', 'film', 'fitness', 'flamenco', 'folk', 'folklore',\n",
              "       'folkmetal', 'folkrock', 'folktronica', 'forró', 'frankreich',\n",
              "       'französisch', 'french', 'funk', 'future', 'gangsta', 'garage',\n",
              "       'german', 'ghazal', 'gitarre', 'glitch', 'gospel', 'gothic',\n",
              "       'grime', 'grunge', 'gypsy', 'handsup', \"hard'n'heavy\", 'hardcore',\n",
              "       'hardstyle', 'hardtechno', 'hiphop', 'historisch', 'holiday',\n",
              "       'horror', 'house', 'hymn', 'idm', 'independent', 'indian', 'indie',\n",
              "       'indipop', 'industrial', 'inspirational', 'instrumental',\n",
              "       'international', 'irish', 'jam', 'japanese', 'jazz', 'jewish',\n",
              "       'jpop', 'jungle', 'k-pop', 'karadeniz', 'karaoke', 'kayokyoku',\n",
              "       'korean', 'laiko', 'latin', 'latino', 'leftfield', 'local',\n",
              "       'lounge', 'loungeelectronic', 'lovers', 'malaysian', 'mandopop',\n",
              "       'marschmusik', 'meditative', 'mediterranean', 'melodic', 'metal',\n",
              "       'metalcore', 'mexican', 'middle', 'minimal', 'miscellaneous',\n",
              "       'modern', 'mood', 'mpb', 'muslim', 'native', 'neoklassik', 'neue',\n",
              "       'new', 'newage', 'newwave', 'nu', 'nujazz', 'numetal', 'oceania',\n",
              "       'old', 'opera', 'orchestral', 'other', 'piano', 'podcasts', 'pop',\n",
              "       'popdance', 'popelectronic', 'popeurodance', 'poprussian', 'post',\n",
              "       'posthardcore', 'postrock', 'power', 'progmetal', 'progressive',\n",
              "       'psychedelic', 'punjabi', 'punk', 'quebecois', 'ragga', 'ram',\n",
              "       'rancheras', 'rap', 'rave', 'reggae', 'reggaeton', 'regional',\n",
              "       'relax', 'religious', 'retro', 'rhythm', 'rnb', 'rnr', 'rock',\n",
              "       'rockabilly', 'rockalternative', 'rockindie', 'rockother',\n",
              "       'romance', 'roots', 'ruspop', 'rusrap', 'rusrock', 'russian',\n",
              "       'salsa', 'samba', 'scenic', 'schlager', 'self', 'sertanejo',\n",
              "       'shanson', 'shoegazing', 'showtunes', 'singer', 'ska', 'skarock',\n",
              "       'slow', 'smooth', 'soft', 'soul', 'soulful', 'sound', 'soundtrack',\n",
              "       'southern', 'specialty', 'speech', 'spiritual', 'sport',\n",
              "       'stonerrock', 'surf', 'swing', 'synthpop', 'synthrock',\n",
              "       'sängerportrait', 'tango', 'tanzorchester', 'taraftar', 'tatar',\n",
              "       'tech', 'techno', 'teen', 'thrash', 'top', 'traditional',\n",
              "       'tradjazz', 'trance', 'tribal', 'trip', 'triphop', 'tropical',\n",
              "       'türk', 'türkçe', 'ukrrock', 'unknown', 'urban', 'uzbek',\n",
              "       'variété', 'vi', 'videogame', 'vocal', 'western', 'world',\n",
              "       'worldbeat', 'ïîï', 'электроника'], dtype=object)"
            ]
          },
          "execution_count": 17,
          "metadata": {},
          "output_type": "execute_result"
        }
      ],
      "source": [
        "# Проверка на неявные дубликаты\n",
        "df['genre'].sort_values().unique()"
      ]
    },
    {
      "cell_type": "markdown",
      "metadata": {
        "id": "jz6a9-7HQUDd"
      },
      "source": [
        "**Выводы**\n",
        "\n",
        "Предобработка обнаружила три проблемы в данных:\n",
        "\n",
        "- нарушения в стиле заголовков,\n",
        "- пропущенные значения,\n",
        "- дубликаты — явные и неявные.\n",
        "\n",
        "Вы исправили заголовки, чтобы упростить работу с таблицей. Без дубликатов исследование станет более точным.\n",
        "\n",
        "Пропущенные значения вы заменили на `'unknown'`. Ещё предстоит увидеть, не повредят ли исследованию пропуски в колонке `genre`.\n",
        "\n",
        "Теперь можно перейти к проверке гипотез. "
      ]
    },
    {
      "cell_type": "markdown",
      "metadata": {
        "id": "WttZHXH0SqKk"
      },
      "source": [
        "## Проверка гипотез"
      ]
    },
    {
      "cell_type": "markdown",
      "metadata": {
        "id": "Im936VVi_Zcu"
      },
      "source": [
        "### Сравнение поведения пользователей двух столиц"
      ]
    },
    {
      "cell_type": "markdown",
      "metadata": {
        "id": "nwt_MuaL_Zcu"
      },
      "source": [
        "Первая гипотеза утверждает, что пользователи по-разному слушают музыку в Москве и Санкт-Петербурге. Проверьте это предположение по данным о трёх днях недели — понедельнике, среде и пятнице. Для этого:\n",
        "\n",
        "* Разделите пользователей Москвы и Санкт-Петербурга\n",
        "* Сравните, сколько треков послушала каждая группа пользователей в понедельник, среду и пятницу.\n"
      ]
    },
    {
      "cell_type": "markdown",
      "metadata": {
        "id": "8Dw_YMmT_Zcu"
      },
      "source": [
        "Для тренировки сначала выполните каждый из расчётов по отдельности. \n",
        "\n",
        "Оцените активность пользователей в каждом городе. Сгруппируйте данные по городу и посчитайте прослушивания в каждой группе.\n",
        "\n"
      ]
    },
    {
      "cell_type": "code",
      "execution_count": null,
      "metadata": {
        "id": "0_Qs96oh_Zcu",
        "outputId": "a2e86b17-078b-4c17-fd4f-c292f5f61a15"
      },
      "outputs": [
        {
          "data": {
            "text/plain": [
              "city\n",
              "Moscow              42741\n",
              "Saint-Petersburg    18512\n",
              "Name: time, dtype: int64"
            ]
          },
          "execution_count": 18,
          "metadata": {},
          "output_type": "execute_result"
        }
      ],
      "source": [
        "# Подсчёт прослушиваний в каждом городе\n",
        "df.groupby('city')['time'].count()"
      ]
    },
    {
      "cell_type": "markdown",
      "metadata": {
        "id": "dzli3w8o_Zcu"
      },
      "source": [
        "В Москве прослушиваний больше, чем в Петербурге. Из этого не следует, что московские пользователи чаще слушают музыку. Просто самих пользователей в Москве больше.\n",
        "\n",
        "Теперь сгруппируйте данные по дню недели и подсчитайте прослушивания в понедельник, среду и пятницу. Учтите, что в данных есть информация только о прослушиваниях только за эти дни.\n"
      ]
    },
    {
      "cell_type": "code",
      "execution_count": null,
      "metadata": {
        "id": "uZMKjiJz_Zcu",
        "outputId": "196da7e8-3bef-48f9-8c1b-2fac7cbddd1b"
      },
      "outputs": [
        {
          "data": {
            "text/plain": [
              "day\n",
              "Friday       21840\n",
              "Monday       21354\n",
              "Wednesday    18059\n",
              "Name: time, dtype: int64"
            ]
          },
          "execution_count": 19,
          "metadata": {},
          "output_type": "execute_result"
        }
      ],
      "source": [
        "# Подсчёт прослушиваний в каждый из трёх дней\n",
        "df.groupby('day')['time'].count()"
      ]
    },
    {
      "cell_type": "markdown",
      "metadata": {
        "id": "cC2tNrlL_Zcu"
      },
      "source": [
        "В среднем пользователи из двух городов менее активны по средам. Но картина может измениться, если рассмотреть каждый город в отдельности."
      ]
    },
    {
      "cell_type": "markdown",
      "metadata": {
        "id": "POzs8bGa_Zcu"
      },
      "source": [
        "Вы видели, как работает группировка по городу и по дням недели. Теперь напишите функцию, которая объединит два эти расчёта.\n",
        "\n",
        "Создайте функцию `number_tracks()`, которая посчитает прослушивания для заданного дня и города. Ей понадобятся два параметра:\n",
        "* день недели,\n",
        "* название города.\n",
        "\n",
        "В функции сохраните в переменную строки исходной таблицы, у которых значение:\n",
        "  * в колонке `day` равно параметру `day`,\n",
        "  * в колонке `city` равно параметру `city`.\n",
        "\n",
        "Для этого примените последовательную фильтрацию с логической индексацией.\n",
        "\n",
        "Затем посчитайте значения в столбце `user_id` получившейся таблицы. Результат сохраните в новую переменную. Верните эту переменную из функции."
      ]
    },
    {
      "cell_type": "code",
      "execution_count": null,
      "metadata": {
        "id": "Nz3GdQB1_Zcu"
      },
      "outputs": [],
      "source": [
        "# <создание функции number_tracks()>\n",
        "# Объявляется функция с двумя параметрами: day, city.\n",
        "# В переменной track_list сохраняются те строки таблицы df, для которых\n",
        "# значение в столбце 'day' равно параметру day и одновременно значение\n",
        "# в столбце 'city' равно параметру city (используйте последовательную фильтрацию\n",
        "# с помощью логической индексации).\n",
        "# В переменной track_list_count сохраняется число значений столбца 'user_id',\n",
        "# рассчитанное методом count() для таблицы track_list.\n",
        "# Функция возвращает число - значение track_list_count.\n",
        "# Функция для подсчёта прослушиваний для конкретного города и дня.\n",
        "# С помощью последовательной фильтрации с логической индексацией она \n",
        "# сначала получит из исходной таблицы строки с нужным днём,\n",
        "# затем из результата отфильтрует строки с нужным городом,\n",
        "# методом count() посчитает количество значений в колонке user_id. \n",
        "# Это количество функция вернёт в качестве результата\n",
        "def number_tracks(day, city):\n",
        "    track_list = df[df['day'] == day]\n",
        "    track_list = track_list[track_list['city'] == city]\n",
        "    track_list_count = track_list['user_id'].count()\n",
        "    return track_list_count"
      ]
    },
    {
      "cell_type": "markdown",
      "metadata": {
        "id": "ytf7xFrFJQ2r"
      },
      "source": [
        "Вызовите `number_tracks()` шесть раз, меняя значение параметров — так, чтобы получить данные для каждого города в каждый из трёх дней."
      ]
    },
    {
      "cell_type": "code",
      "execution_count": null,
      "metadata": {
        "id": "rJcRATNQ_Zcu",
        "outputId": "a75526e8-2805-466f-d948-41830136ad5a"
      },
      "outputs": [
        {
          "data": {
            "text/plain": [
              "15740"
            ]
          },
          "execution_count": 21,
          "metadata": {},
          "output_type": "execute_result"
        }
      ],
      "source": [
        "# количество прослушиваний в Москве по понедельникам\n",
        "number_tracks('Monday', 'Moscow')"
      ]
    },
    {
      "cell_type": "code",
      "execution_count": null,
      "metadata": {
        "id": "hq_ncZ5T_Zcu",
        "outputId": "e639cf75-619f-40bf-aa24-b3f1fd17dd7f"
      },
      "outputs": [
        {
          "data": {
            "text/plain": [
              "5614"
            ]
          },
          "execution_count": 22,
          "metadata": {},
          "output_type": "execute_result"
        }
      ],
      "source": [
        "# количество прослушиваний в Санкт-Петербурге по понедельникам\n",
        "number_tracks('Monday', 'Saint-Petersburg')"
      ]
    },
    {
      "cell_type": "code",
      "execution_count": null,
      "metadata": {
        "id": "_NTy2VPU_Zcu",
        "outputId": "6f6846ec-8708-4cb7-a7d2-d8a088e875be"
      },
      "outputs": [
        {
          "data": {
            "text/plain": [
              "11056"
            ]
          },
          "execution_count": 23,
          "metadata": {},
          "output_type": "execute_result"
        }
      ],
      "source": [
        "# количество прослушиваний в Москве по средам\n",
        "number_tracks('Wednesday', 'Moscow')"
      ]
    },
    {
      "cell_type": "code",
      "execution_count": null,
      "metadata": {
        "id": "j2y3TAwo_Zcu",
        "outputId": "6921eef3-5f39-4136-dae0-e6f459396263"
      },
      "outputs": [
        {
          "data": {
            "text/plain": [
              "7003"
            ]
          },
          "execution_count": 24,
          "metadata": {},
          "output_type": "execute_result"
        }
      ],
      "source": [
        "# количество прослушиваний в Санкт-Петербурге по средам\n",
        "number_tracks('Wednesday', 'Saint-Petersburg')"
      ]
    },
    {
      "cell_type": "code",
      "execution_count": null,
      "metadata": {
        "id": "vYDw5u_K_Zcu",
        "outputId": "5f9b985d-8f47-4fcc-919d-7c3fa4cb2eda"
      },
      "outputs": [
        {
          "data": {
            "text/plain": [
              "15945"
            ]
          },
          "execution_count": 25,
          "metadata": {},
          "output_type": "execute_result"
        }
      ],
      "source": [
        "# количество прослушиваний в Москве по пятницам\n",
        "number_tracks('Friday', 'Moscow')"
      ]
    },
    {
      "cell_type": "code",
      "execution_count": null,
      "metadata": {
        "id": "8_yzFtW3_Zcu",
        "outputId": "bb9bc832-8bbb-4967-faf0-cf71bb74c743"
      },
      "outputs": [
        {
          "data": {
            "text/plain": [
              "5895"
            ]
          },
          "execution_count": 26,
          "metadata": {},
          "output_type": "execute_result"
        }
      ],
      "source": [
        "# количество прослушиваний в Санкт-Петербурге по пятницам\n",
        "number_tracks('Friday', 'Saint-Petersburg')"
      ]
    },
    {
      "cell_type": "markdown",
      "metadata": {
        "id": "7QXffbO-_Zcu"
      },
      "source": [
        "Создайте c помощью конструктора `pd.DataFrame` таблицу, где\n",
        "* названия колонок — `['city', 'monday', 'wednesday', 'friday']`;\n",
        "* данные — результаты, которые вы получили с помощью `number_tracks`."
      ]
    },
    {
      "cell_type": "code",
      "execution_count": null,
      "metadata": {
        "id": "APAcLpOr_Zcu",
        "outputId": "f0daf234-1018-40e4-ffbb-8c2d99d7d26f"
      },
      "outputs": [
        {
          "data": {
            "text/html": [
              "<div>\n",
              "<style scoped>\n",
              "    .dataframe tbody tr th:only-of-type {\n",
              "        vertical-align: middle;\n",
              "    }\n",
              "\n",
              "    .dataframe tbody tr th {\n",
              "        vertical-align: top;\n",
              "    }\n",
              "\n",
              "    .dataframe thead th {\n",
              "        text-align: right;\n",
              "    }\n",
              "</style>\n",
              "<table border=\"1\" class=\"dataframe\">\n",
              "  <thead>\n",
              "    <tr style=\"text-align: right;\">\n",
              "      <th></th>\n",
              "      <th>city</th>\n",
              "      <th>monday</th>\n",
              "      <th>wednesday</th>\n",
              "      <th>friday</th>\n",
              "    </tr>\n",
              "  </thead>\n",
              "  <tbody>\n",
              "    <tr>\n",
              "      <td>0</td>\n",
              "      <td>Moscow</td>\n",
              "      <td>15740</td>\n",
              "      <td>11056</td>\n",
              "      <td>15945</td>\n",
              "    </tr>\n",
              "    <tr>\n",
              "      <td>1</td>\n",
              "      <td>Saint-Petersburg</td>\n",
              "      <td>5614</td>\n",
              "      <td>7003</td>\n",
              "      <td>5895</td>\n",
              "    </tr>\n",
              "  </tbody>\n",
              "</table>\n",
              "</div>"
            ],
            "text/plain": [
              "               city  monday  wednesday  friday\n",
              "0            Moscow   15740      11056   15945\n",
              "1  Saint-Petersburg    5614       7003    5895"
            ]
          },
          "execution_count": 27,
          "metadata": {},
          "output_type": "execute_result"
        }
      ],
      "source": [
        "# Таблица с результатами\n",
        "data = [['Moscow', 15740, 11056, 15945],\n",
        "       ['Saint-Petersburg', 5614, 7003, 5895]]\n",
        "columns = ['city', 'monday', 'wednesday', 'friday']\n",
        "\n",
        "pd.DataFrame(data=data,columns=columns)"
      ]
    },
    {
      "cell_type": "markdown",
      "metadata": {
        "id": "-EgPIHYu_Zcu"
      },
      "source": [
        "**Выводы**\n",
        "\n",
        "Данные показывают разницу поведения пользователей:\n",
        "\n",
        "- В Москве пик прослушиваний приходится на понедельник и пятницу, а в среду заметен спад.\n",
        "- В Петербурге, наоборот, больше слушают музыку по средам. Активность в понедельник и пятницу здесь почти в равной мере уступает среде.\n",
        "\n",
        "Значит, данные говорят в пользу первой гипотезы."
      ]
    },
    {
      "cell_type": "markdown",
      "metadata": {
        "id": "atZAxtq4_Zcu"
      },
      "source": [
        "### Музыка в начале и в конце недели"
      ]
    },
    {
      "cell_type": "markdown",
      "metadata": {
        "id": "eXrQqXFH_Zcu"
      },
      "source": [
        "Согласно второй гипотезе, утром в понедельник в Москве преобладают одни жанры, а в Петербурге — другие. Так же и вечером пятницы преобладают разные жанры — в зависимости от города."
      ]
    },
    {
      "cell_type": "markdown",
      "metadata": {
        "id": "S8UcW6Hw_Zcu"
      },
      "source": [
        "Сохраните таблицы с данными в две переменные:\n",
        "* по Москве — в `moscow_general`;\n",
        "* по Санкт-Петербургу — в `spb_general`."
      ]
    },
    {
      "cell_type": "code",
      "execution_count": null,
      "metadata": {
        "id": "qeaFfM_P_Zcu"
      },
      "outputs": [],
      "source": [
        "# получение таблицы moscow_general из тех строк таблицы df, \n",
        "# для которых значение в столбце 'city' равно 'Moscow'\n",
        "moscow_general = df[df['city'] == 'Moscow']"
      ]
    },
    {
      "cell_type": "code",
      "execution_count": null,
      "metadata": {
        "id": "ORaVRKto_Zcu"
      },
      "outputs": [],
      "source": [
        "# получение таблицы spb_general из тех строк таблицы df,\n",
        "# для которых значение в столбце 'city' равно 'Saint-Petersburg'\n",
        "spb_general = df[df['city'] == 'Saint-Petersburg']"
      ]
    },
    {
      "cell_type": "markdown",
      "metadata": {
        "id": "MEJV-CX2_Zcu"
      },
      "source": [
        "Создайте функцию `genre_weekday()` с четырьмя параметрами:\n",
        "* таблица (датафрейм) с данными,\n",
        "* день недели,\n",
        "* начальная временная метка в формате 'hh:mm', \n",
        "* последняя временная метка в формате 'hh:mm'.\n",
        "\n",
        "Функция должна вернуть информацию о топ-10 жанров тех треков, которые прослушивали в указанный день, в промежутке между двумя отметками времени."
      ]
    },
    {
      "cell_type": "code",
      "execution_count": null,
      "metadata": {
        "id": "laJT9BYl_Zcu"
      },
      "outputs": [],
      "source": [
        "# Объявление функции genre_weekday() с параметрами table, day, time1, time2,\n",
        "# которая возвращает информацию о самых популярных жанрах в указанный день в\n",
        "# заданное время:\n",
        "# 1) в переменную genre_df сохраняются те строки переданного датафрейма table, для\n",
        "#    которых одновременно:\n",
        "#    - значение в столбце day равно значению аргумента day\n",
        "#    - значение в столбце time больше значения аргумента time1\n",
        "#    - значение в столбце time меньше значения аргумента time2\n",
        "#    Используйте последовательную фильтрацию с помощью логической индексации.\n",
        "# 2) сгруппировать датафрейм genre_df по столбцу genre, взять один из его\n",
        "#    столбцов и посчитать методом count() количество записей для каждого из\n",
        "#    присутствующих жанров, получившийся Series записать в переменную\n",
        "#    genre_df_count\n",
        "# 3) отсортировать genre_df_count по убыванию встречаемости и сохранить\n",
        "#    в переменную genre_df_sorted\n",
        "# 4) вернуть Series из 10 первых значений genre_df_sorted, это будут топ-10\n",
        "#    популярных жанров (в указанный день, в заданное время)\n",
        "def genre_weekday(table, day, time1, time2):\n",
        "    genre_df = table[table['day'] == day]\n",
        "    genre_df = genre_df[genre_df['time'] > time1]\n",
        "    genre_df = genre_df[genre_df['time'] < time2]\n",
        "    genre_df_count = genre_df.groupby('genre')['genre'].count()\n",
        "    genre_df_sorted = genre_df_count.sort_values(ascending=False)\n",
        "    return genre_df_sorted.head(10)"
      ]
    },
    {
      "cell_type": "markdown",
      "metadata": {
        "id": "la2s2_PF_Zcu"
      },
      "source": [
        "Cравните результаты функции `genre_weekday()` для Москвы и Санкт-Петербурга в понедельник утром (с 7:00 до 11:00) и в пятницу вечером (с 17:00 до 23:00):"
      ]
    },
    {
      "cell_type": "code",
      "execution_count": null,
      "metadata": {
        "id": "yz7itPUQ_Zcu",
        "outputId": "d18c1676-f12d-4eb2-9d3e-f597d3ab6a15"
      },
      "outputs": [
        {
          "data": {
            "text/plain": [
              "genre\n",
              "pop            781\n",
              "dance          549\n",
              "electronic     480\n",
              "rock           474\n",
              "hiphop         286\n",
              "ruspop         186\n",
              "world          181\n",
              "rusrap         175\n",
              "alternative    164\n",
              "unknown        161\n",
              "Name: genre, dtype: int64"
            ]
          },
          "execution_count": 31,
          "metadata": {},
          "output_type": "execute_result"
        }
      ],
      "source": [
        "# вызов функции для утра понедельника в Москве (вместо df — таблица moscow_general)\n",
        "# объекты, хранящие время, являются строками и сравниваются как строки\n",
        "# пример вызова: genre_weekday(moscow_general, 'Monday', '07:00', '11:00')\n",
        "genre_weekday(moscow_general, 'Monday', '07:00', '11:00')"
      ]
    },
    {
      "cell_type": "code",
      "execution_count": null,
      "metadata": {
        "id": "kwUcHPdy_Zcu",
        "outputId": "1e9f87e2-47fc-4199-ed00-6fb28108529f"
      },
      "outputs": [
        {
          "data": {
            "text/plain": [
              "genre\n",
              "pop            218\n",
              "dance          182\n",
              "rock           162\n",
              "electronic     147\n",
              "hiphop          80\n",
              "ruspop          64\n",
              "alternative     58\n",
              "rusrap          55\n",
              "jazz            44\n",
              "classical       40\n",
              "Name: genre, dtype: int64"
            ]
          },
          "execution_count": 32,
          "metadata": {},
          "output_type": "execute_result"
        }
      ],
      "source": [
        "# вызов функции для утра понедельника в Петербурге (вместо df — таблица spb_general)\n",
        "genre_weekday(spb_general, 'Monday', '07:00', '11:00')"
      ]
    },
    {
      "cell_type": "code",
      "execution_count": null,
      "metadata": {
        "id": "EzXVRE1o_Zcu",
        "outputId": "eda34bfb-2a5e-4846-8483-02d91597fe38"
      },
      "outputs": [
        {
          "data": {
            "text/plain": [
              "genre\n",
              "pop            713\n",
              "rock           517\n",
              "dance          495\n",
              "electronic     482\n",
              "hiphop         273\n",
              "world          208\n",
              "ruspop         170\n",
              "alternative    163\n",
              "classical      163\n",
              "rusrap         142\n",
              "Name: genre, dtype: int64"
            ]
          },
          "execution_count": 33,
          "metadata": {},
          "output_type": "execute_result"
        }
      ],
      "source": [
        "# вызов функции для вечера пятницы в Москве\n",
        "genre_weekday(moscow_general, 'Friday', '17:00', '23:00')"
      ]
    },
    {
      "cell_type": "code",
      "execution_count": null,
      "metadata": {
        "id": "JZaEKu5v_Zcu",
        "outputId": "dc72f882-7992-410a-f2ea-1bfec5ee9168"
      },
      "outputs": [
        {
          "data": {
            "text/plain": [
              "genre\n",
              "pop            256\n",
              "rock           216\n",
              "electronic     216\n",
              "dance          210\n",
              "hiphop          97\n",
              "alternative     63\n",
              "jazz            61\n",
              "classical       60\n",
              "rusrap          59\n",
              "world           54\n",
              "Name: genre, dtype: int64"
            ]
          },
          "execution_count": 34,
          "metadata": {},
          "output_type": "execute_result"
        }
      ],
      "source": [
        "# вызов функции для вечера пятницы в Петербурге\n",
        "genre_weekday(spb_general, 'Friday', '17:00', '23:00')"
      ]
    },
    {
      "cell_type": "markdown",
      "metadata": {
        "id": "wrCe4MNX_Zcu"
      },
      "source": [
        "**Выводы**\n",
        "\n",
        "Если сравнить топ-10 жанров в понедельник утром, можно сделать такие выводы:\n",
        "\n",
        "1. В Москве и Петербурге слушают похожую музыку. Единственное отличие — в московский рейтинг вошёл жанр “world”, а в петербургский — джаз и классика.\n",
        "\n",
        "2. В Москве пропущенных значений оказалось так много, что значение `'unknown'` заняло десятое место среди самых популярных жанров. Значит, пропущенные значения занимают существенную долю в данных и угрожают достоверности исследования.\n",
        "\n",
        "Вечер пятницы не меняет эту картину. Некоторые жанры поднимаются немного выше, другие спускаются, но в целом топ-10 остаётся тем же самым.\n",
        "\n",
        "Таким образом, вторая гипотеза подтвердилась лишь частично:\n",
        "* Пользователи слушают похожую музыку в начале недели и в конце.\n",
        "* Разница между Москвой и Петербургом не слишком выражена. В Москве чаще слушают русскую популярную музыку, в Петербурге — джаз.\n",
        "\n",
        "Однако пропуски в данных ставят под сомнение этот результат. В Москве их так много, что рейтинг топ-10 мог бы выглядеть иначе, если бы не утерянные  данные о жанрах."
      ]
    },
    {
      "cell_type": "markdown",
      "metadata": {
        "id": "JolODAqr_Zcu"
      },
      "source": [
        "### Жанровые предпочтения в Москве и Петербурге\n",
        "\n",
        "Гипотеза: Петербург — столица рэпа, музыку этого жанра там слушают чаще, чем в Москве.  А Москва — город контрастов, в котором, тем не менее, преобладает поп-музыка."
      ]
    },
    {
      "cell_type": "markdown",
      "metadata": {
        "id": "DlegSvaT_Zcu"
      },
      "source": [
        "Сгруппируйте таблицу `moscow_general` по жанру и посчитайте прослушивания треков каждого жанра методом `count()`. Затем отсортируйте результат в порядке убывания и сохраните его в таблице `moscow_genres`."
      ]
    },
    {
      "cell_type": "code",
      "execution_count": null,
      "metadata": {
        "id": "r19lIPke_Zcu"
      },
      "outputs": [],
      "source": [
        "# одной строкой: группировка таблицы moscow_general по столбцу 'genre', \n",
        "# подсчёт числа значений 'genre' в этой группировке методом count(), \n",
        "# сортировка получившегося Series в порядке убывания и сохранение в moscow_genres\n",
        "moscow_genres = moscow_general.groupby('genre')['genre'].count().sort_values(ascending=False)"
      ]
    },
    {
      "cell_type": "markdown",
      "metadata": {
        "id": "6kMuomxTiIr8"
      },
      "source": [
        "Выведите на экран первые десять строк `moscow_genres`:"
      ]
    },
    {
      "cell_type": "code",
      "execution_count": null,
      "metadata": {
        "id": "WhCSooF8_Zcv",
        "outputId": "b1c581c8-8e82-48f0-a248-b8194e1cfb59"
      },
      "outputs": [
        {
          "data": {
            "text/plain": [
              "genre\n",
              "pop            5892\n",
              "dance          4435\n",
              "rock           3965\n",
              "electronic     3786\n",
              "hiphop         2096\n",
              "classical      1616\n",
              "world          1432\n",
              "alternative    1379\n",
              "ruspop         1372\n",
              "rusrap         1161\n",
              "Name: genre, dtype: int64"
            ]
          },
          "execution_count": 36,
          "metadata": {},
          "output_type": "execute_result"
        }
      ],
      "source": [
        "# просмотр первых 10 строк moscow_genres\n",
        "moscow_genres.head(10)"
      ]
    },
    {
      "cell_type": "markdown",
      "metadata": {
        "id": "cnPG2vnN_Zcv"
      },
      "source": [
        "Теперь повторите то же и для Петербурга.\n",
        "\n",
        "Сгруппируйте таблицу `spb_general` по жанру. Посчитайте прослушивания треков каждого жанра. Результат отсортируйте в порядке убывания и сохраните в таблице `spb_genres`:\n"
      ]
    },
    {
      "cell_type": "code",
      "execution_count": null,
      "metadata": {
        "id": "gluLIpE7_Zcv"
      },
      "outputs": [],
      "source": [
        "# одной строкой: группировка таблицы spb_general по столбцу 'genre', \n",
        "# подсчёт числа значений 'genre' в этой группировке методом count(), \n",
        "# сортировка получившегося Series в порядке убывания и сохранение в spb_genres\n",
        "spb_genres = spb_general.groupby('genre')['genre'].count().sort_values(ascending=False)"
      ]
    },
    {
      "cell_type": "markdown",
      "metadata": {
        "id": "5Doha_ODgyQ8"
      },
      "source": [
        "Выведите на экран первые десять строк `spb_genres`:"
      ]
    },
    {
      "cell_type": "code",
      "execution_count": null,
      "metadata": {
        "id": "uaGJHjVU_Zcv",
        "outputId": "7b10dbd2-7dae-40d0-c42b-c87ed6c1d205"
      },
      "outputs": [
        {
          "data": {
            "text/plain": [
              "genre\n",
              "pop            2431\n",
              "dance          1932\n",
              "rock           1879\n",
              "electronic     1736\n",
              "hiphop          960\n",
              "alternative     649\n",
              "classical       646\n",
              "rusrap          564\n",
              "ruspop          538\n",
              "world           515\n",
              "Name: genre, dtype: int64"
            ]
          },
          "execution_count": 38,
          "metadata": {},
          "output_type": "execute_result"
        }
      ],
      "source": [
        "# просмотр первых 10 строк spb_genres\n",
        "spb_genres.head(10)"
      ]
    },
    {
      "cell_type": "markdown",
      "metadata": {
        "id": "RY51YJYu_Zcv"
      },
      "source": [
        "**Выводы**"
      ]
    },
    {
      "cell_type": "markdown",
      "metadata": {
        "id": "nVhnJEm__Zcv"
      },
      "source": [
        "Гипотеза частично подтвердилась:\n",
        "* Поп-музыка — самый популярный жанр в Москве, как и предполагала гипотеза. Более того, в топ-10 жанров встречается близкий жанр — русская популярная музыка.\n",
        "* Вопреки ожиданиям, рэп одинаково популярен в Москве и Петербурге. \n"
      ]
    },
    {
      "cell_type": "markdown",
      "metadata": {
        "id": "ykKQ0N65_Zcv"
      },
      "source": [
        "## Итоги исследования"
      ]
    },
    {
      "cell_type": "markdown",
      "metadata": {
        "id": "tjUwbHb3_Zcv"
      },
      "source": [
        "Вы проверили три гипотезы и установили:\n",
        "\n",
        "1. День недели по-разному влияет на активность пользователей в Москве и Петербурге. \n",
        "\n",
        "Первая гипотеза полностью подтвердилась.\n",
        "\n",
        "2. Музыкальные предпочтения не сильно меняются в течение недели — будь то Москва или Петербург. Небольшие различия заметны в начале недели, по понедельникам:\n",
        "* в Москве слушают музыку жанра “world”,\n",
        "* в Петербурге — джаз и классику.\n",
        "\n",
        "Таким образом, вторая гипотеза подтвердилась лишь отчасти. Этот результат мог оказаться иным, если бы не пропуски в данных.\n",
        "\n",
        "3. Во вкусах пользователей Москвы и Петербурга больше общего чем различий. Вопреки ожиданиям, предпочтения жанров в Петербурге напоминают московские.\n",
        "\n",
        "Третья гипотеза не подтвердилась. Если различия в предпочтениях и существуют, на основной массе пользователей они незаметны.\n",
        "\n",
        "**На практике исследования содержат проверки статистических гипотез.**\n",
        "Из данных одного сервиса не всегда можно сделать вывод о всех жителях города.\n",
        "Проверки статистических гипотез покажут, насколько они достоверны, исходя из имеющихся данных. \n",
        "С методами проверок гипотез вы ещё познакомитесь в следующих темах."
      ]
    },
    {
      "cell_type": "code",
      "execution_count": null,
      "metadata": {
        "id": "Oni85oDXxZRV"
      },
      "outputs": [],
      "source": [
        ""
      ]
    }
  ],
  "metadata": {
    "ExecuteTimeLog": [
      {
        "duration": 2,
        "start_time": "2021-10-26T13:12:51.656Z"
      },
      {
        "duration": 148,
        "start_time": "2021-10-26T13:13:26.151Z"
      },
      {
        "duration": 12,
        "start_time": "2021-10-26T13:13:52.606Z"
      },
      {
        "duration": 26,
        "start_time": "2021-10-26T13:14:08.910Z"
      },
      {
        "duration": 4,
        "start_time": "2021-10-26T13:16:43.329Z"
      },
      {
        "duration": 21,
        "start_time": "2021-10-26T13:19:54.066Z"
      },
      {
        "duration": 5,
        "start_time": "2021-10-26T13:20:03.267Z"
      },
      {
        "duration": 24,
        "start_time": "2021-10-26T13:22:30.061Z"
      },
      {
        "duration": 41,
        "start_time": "2021-10-26T13:25:41.477Z"
      },
      {
        "duration": 417,
        "start_time": "2021-10-26T13:47:20.391Z"
      },
      {
        "duration": 7,
        "start_time": "2021-10-26T13:49:17.683Z"
      },
      {
        "duration": 37,
        "start_time": "2021-10-26T13:55:12.682Z"
      },
      {
        "duration": 18,
        "start_time": "2021-10-26T13:55:20.312Z"
      },
      {
        "duration": 22,
        "start_time": "2021-10-26T13:56:09.205Z"
      },
      {
        "duration": 20,
        "start_time": "2021-10-26T13:56:44.435Z"
      },
      {
        "duration": 18,
        "start_time": "2021-10-26T13:57:18.817Z"
      },
      {
        "duration": 22,
        "start_time": "2021-10-26T13:57:31.862Z"
      },
      {
        "duration": 20,
        "start_time": "2021-10-26T13:57:39.495Z"
      },
      {
        "duration": 13,
        "start_time": "2021-10-26T13:57:44.903Z"
      },
      {
        "duration": 340,
        "start_time": "2021-10-26T13:58:18.659Z"
      },
      {
        "duration": 372,
        "start_time": "2021-10-26T13:58:57.856Z"
      },
      {
        "duration": 124,
        "start_time": "2021-10-26T14:15:04.934Z"
      },
      {
        "duration": 4,
        "start_time": "2021-10-26T14:20:22.650Z"
      },
      {
        "duration": 6,
        "start_time": "2021-10-26T14:23:05.028Z"
      },
      {
        "duration": 17,
        "start_time": "2021-10-26T14:23:49.108Z"
      },
      {
        "duration": 121,
        "start_time": "2021-10-26T14:24:46.573Z"
      },
      {
        "duration": 15,
        "start_time": "2021-10-26T14:24:53.068Z"
      },
      {
        "duration": 389,
        "start_time": "2021-10-26T14:25:00.024Z"
      },
      {
        "duration": 3068,
        "start_time": "2021-10-26T14:25:25.146Z"
      },
      {
        "duration": 350,
        "start_time": "2021-10-26T14:25:56.207Z"
      },
      {
        "duration": 343,
        "start_time": "2021-10-26T14:26:06.367Z"
      },
      {
        "duration": 49,
        "start_time": "2021-10-26T14:27:46.463Z"
      },
      {
        "duration": 407,
        "start_time": "2021-10-26T14:32:07.142Z"
      },
      {
        "duration": 415,
        "start_time": "2021-10-26T14:33:33.568Z"
      },
      {
        "duration": 36,
        "start_time": "2021-10-26T14:35:11.901Z"
      },
      {
        "duration": 56,
        "start_time": "2021-10-26T14:35:50.634Z"
      },
      {
        "duration": 347,
        "start_time": "2021-10-26T14:40:33.476Z"
      },
      {
        "duration": 464,
        "start_time": "2021-10-26T14:45:38.259Z"
      },
      {
        "duration": 7,
        "start_time": "2021-10-26T14:45:48.712Z"
      },
      {
        "duration": 15,
        "start_time": "2021-10-26T14:48:57.378Z"
      },
      {
        "duration": 341,
        "start_time": "2021-10-26T14:49:11.942Z"
      },
      {
        "duration": 6,
        "start_time": "2021-10-26T14:49:21.736Z"
      },
      {
        "duration": 9,
        "start_time": "2021-10-26T14:52:07.820Z"
      },
      {
        "duration": 23,
        "start_time": "2021-10-26T14:52:19.745Z"
      },
      {
        "duration": 23,
        "start_time": "2021-10-26T14:53:50.033Z"
      },
      {
        "duration": 6,
        "start_time": "2021-10-26T14:54:21.936Z"
      },
      {
        "duration": 26,
        "start_time": "2021-10-26T14:54:44.832Z"
      },
      {
        "duration": 4,
        "start_time": "2021-10-26T14:55:01.347Z"
      },
      {
        "duration": 374,
        "start_time": "2021-10-26T15:06:43.700Z"
      },
      {
        "duration": 26,
        "start_time": "2021-10-26T15:09:35.601Z"
      },
      {
        "duration": 45,
        "start_time": "2021-10-26T15:09:42.032Z"
      },
      {
        "duration": 24,
        "start_time": "2021-10-26T15:10:02.048Z"
      },
      {
        "duration": 25,
        "start_time": "2021-10-26T15:10:34.724Z"
      },
      {
        "duration": 23,
        "start_time": "2021-10-26T15:10:42.239Z"
      },
      {
        "duration": 56,
        "start_time": "2021-10-26T15:13:42.147Z"
      },
      {
        "duration": 22,
        "start_time": "2021-10-26T15:14:03.827Z"
      },
      {
        "duration": 9033,
        "start_time": "2021-10-26T15:16:45.890Z"
      },
      {
        "duration": 36,
        "start_time": "2021-10-26T15:17:37.857Z"
      },
      {
        "duration": 9294,
        "start_time": "2021-10-26T15:40:08.781Z"
      },
      {
        "duration": 28,
        "start_time": "2021-10-26T15:42:12.877Z"
      },
      {
        "duration": 3,
        "start_time": "2021-10-26T15:45:36.895Z"
      },
      {
        "duration": 4,
        "start_time": "2021-10-26T15:45:41.797Z"
      },
      {
        "duration": 19,
        "start_time": "2021-10-26T15:46:45.000Z"
      },
      {
        "duration": 24,
        "start_time": "2021-10-26T15:46:48.310Z"
      },
      {
        "duration": 17,
        "start_time": "2021-10-26T15:47:17.778Z"
      },
      {
        "duration": 23,
        "start_time": "2021-10-26T15:47:20.270Z"
      },
      {
        "duration": 56,
        "start_time": "2021-10-26T16:08:02.872Z"
      },
      {
        "duration": 100,
        "start_time": "2021-10-26T16:09:16.922Z"
      },
      {
        "duration": 86,
        "start_time": "2021-10-26T16:09:36.346Z"
      },
      {
        "duration": 41,
        "start_time": "2021-10-26T16:11:45.139Z"
      },
      {
        "duration": 90,
        "start_time": "2021-10-26T16:11:49.148Z"
      },
      {
        "duration": 9,
        "start_time": "2021-10-26T16:13:14.159Z"
      },
      {
        "duration": 8,
        "start_time": "2021-10-26T16:13:22.407Z"
      },
      {
        "duration": 66,
        "start_time": "2021-10-26T16:15:47.139Z"
      },
      {
        "duration": 15,
        "start_time": "2021-10-26T16:17:56.048Z"
      },
      {
        "duration": 361,
        "start_time": "2021-10-26T16:18:56.327Z"
      },
      {
        "duration": 20,
        "start_time": "2021-10-26T16:20:29.065Z"
      },
      {
        "duration": 368,
        "start_time": "2021-10-26T16:20:55.111Z"
      },
      {
        "duration": 383,
        "start_time": "2021-10-26T16:23:28.276Z"
      },
      {
        "duration": 15,
        "start_time": "2021-10-26T16:23:51.896Z"
      },
      {
        "duration": 3,
        "start_time": "2021-10-26T16:27:40.508Z"
      },
      {
        "duration": 755,
        "start_time": "2021-10-26T16:30:40.952Z"
      },
      {
        "duration": 703,
        "start_time": "2021-10-26T16:31:12.872Z"
      },
      {
        "duration": 3,
        "start_time": "2021-10-26T16:31:33.202Z"
      },
      {
        "duration": 772,
        "start_time": "2021-10-26T16:31:35.227Z"
      },
      {
        "duration": 21,
        "start_time": "2021-10-26T16:31:43.865Z"
      },
      {
        "duration": 22,
        "start_time": "2021-10-26T16:31:59.013Z"
      },
      {
        "duration": 16,
        "start_time": "2021-10-26T16:32:06.123Z"
      },
      {
        "duration": 11,
        "start_time": "2021-10-26T16:32:22.043Z"
      },
      {
        "duration": 16,
        "start_time": "2021-10-26T16:33:58.553Z"
      },
      {
        "duration": 52,
        "start_time": "2021-10-26T16:38:38.200Z"
      },
      {
        "duration": 55,
        "start_time": "2021-10-26T16:38:48.202Z"
      },
      {
        "duration": 12,
        "start_time": "2021-10-26T16:40:04.907Z"
      },
      {
        "duration": 11,
        "start_time": "2021-10-26T16:41:47.849Z"
      },
      {
        "duration": 16,
        "start_time": "2021-10-26T16:42:35.443Z"
      },
      {
        "duration": 5,
        "start_time": "2021-10-26T17:00:13.533Z"
      },
      {
        "duration": 363,
        "start_time": "2021-10-26T17:01:59.515Z"
      },
      {
        "duration": 9,
        "start_time": "2021-10-26T17:02:16.287Z"
      },
      {
        "duration": 3,
        "start_time": "2021-10-26T17:02:42.898Z"
      },
      {
        "duration": 9,
        "start_time": "2021-10-26T17:02:45.457Z"
      },
      {
        "duration": 18,
        "start_time": "2021-10-26T17:03:41.024Z"
      },
      {
        "duration": 17,
        "start_time": "2021-10-26T17:05:04.428Z"
      },
      {
        "duration": 16,
        "start_time": "2021-10-26T17:05:09.292Z"
      },
      {
        "duration": 16,
        "start_time": "2021-10-26T17:05:11.924Z"
      },
      {
        "duration": 21,
        "start_time": "2021-10-26T17:05:14.659Z"
      },
      {
        "duration": 16,
        "start_time": "2021-10-26T17:05:15.499Z"
      },
      {
        "duration": 6,
        "start_time": "2021-10-26T17:09:38.049Z"
      },
      {
        "duration": 12,
        "start_time": "2021-10-26T17:11:36.357Z"
      },
      {
        "duration": 11,
        "start_time": "2021-10-26T17:11:55.289Z"
      },
      {
        "duration": 4,
        "start_time": "2021-10-26T17:22:45.898Z"
      },
      {
        "duration": 26,
        "start_time": "2021-10-26T17:23:38.125Z"
      },
      {
        "duration": 30,
        "start_time": "2021-10-26T17:24:21.185Z"
      },
      {
        "duration": 19,
        "start_time": "2021-10-26T17:26:21.386Z"
      },
      {
        "duration": 21,
        "start_time": "2021-10-26T17:26:26.464Z"
      },
      {
        "duration": 26,
        "start_time": "2021-10-26T17:26:40.412Z"
      },
      {
        "duration": 28,
        "start_time": "2021-10-26T17:26:42.796Z"
      },
      {
        "duration": 22,
        "start_time": "2021-10-26T17:26:52.969Z"
      },
      {
        "duration": 16,
        "start_time": "2021-10-26T17:27:25.729Z"
      },
      {
        "duration": 12,
        "start_time": "2021-10-26T17:27:27.332Z"
      },
      {
        "duration": 5,
        "start_time": "2021-10-26T17:27:30.761Z"
      },
      {
        "duration": 40,
        "start_time": "2021-10-26T17:27:33.426Z"
      },
      {
        "duration": 25,
        "start_time": "2021-10-26T17:27:35.905Z"
      },
      {
        "duration": 25,
        "start_time": "2021-10-26T17:27:36.777Z"
      },
      {
        "duration": 11,
        "start_time": "2021-10-26T17:27:44.216Z"
      },
      {
        "duration": 13,
        "start_time": "2021-10-26T17:28:20.051Z"
      },
      {
        "duration": 4,
        "start_time": "2021-10-26T17:29:35.625Z"
      },
      {
        "duration": 28,
        "start_time": "2021-10-26T17:29:39.212Z"
      },
      {
        "duration": 25,
        "start_time": "2021-10-26T17:29:40.408Z"
      },
      {
        "duration": 22,
        "start_time": "2021-10-26T17:30:07.262Z"
      },
      {
        "duration": 25,
        "start_time": "2021-10-26T17:30:09.570Z"
      },
      {
        "duration": 21,
        "start_time": "2021-10-26T17:30:20.304Z"
      },
      {
        "duration": 22,
        "start_time": "2021-10-26T17:30:22.030Z"
      },
      {
        "duration": 23,
        "start_time": "2021-10-26T17:31:17.749Z"
      },
      {
        "duration": 20,
        "start_time": "2021-10-26T17:31:21.838Z"
      },
      {
        "duration": 13,
        "start_time": "2021-10-26T17:31:37.712Z"
      },
      {
        "duration": 10,
        "start_time": "2021-10-26T17:31:38.424Z"
      },
      {
        "duration": 4,
        "start_time": "2021-10-26T17:32:25.434Z"
      },
      {
        "duration": 20,
        "start_time": "2021-10-26T17:32:26.833Z"
      },
      {
        "duration": 13,
        "start_time": "2021-10-26T17:32:27.608Z"
      },
      {
        "duration": 17,
        "start_time": "2021-10-26T17:32:28.354Z"
      },
      {
        "duration": 19,
        "start_time": "2021-10-26T17:32:28.864Z"
      },
      {
        "duration": 12,
        "start_time": "2021-10-26T17:41:48.135Z"
      },
      {
        "duration": 9,
        "start_time": "2021-10-26T17:42:28.433Z"
      },
      {
        "duration": 5,
        "start_time": "2021-10-26T17:42:44.205Z"
      },
      {
        "duration": 10,
        "start_time": "2021-10-26T17:43:15.080Z"
      },
      {
        "duration": 5,
        "start_time": "2021-10-26T17:43:26.942Z"
      },
      {
        "duration": 639,
        "start_time": "2021-10-27T05:12:58.943Z"
      },
      {
        "duration": 144,
        "start_time": "2021-10-27T05:12:59.584Z"
      },
      {
        "duration": 18,
        "start_time": "2021-10-27T05:12:59.730Z"
      },
      {
        "duration": 33,
        "start_time": "2021-10-27T05:12:59.750Z"
      },
      {
        "duration": 5,
        "start_time": "2021-10-27T05:12:59.785Z"
      },
      {
        "duration": 26,
        "start_time": "2021-10-27T05:12:59.792Z"
      },
      {
        "duration": 5,
        "start_time": "2021-10-27T05:12:59.820Z"
      },
      {
        "duration": 54,
        "start_time": "2021-10-27T05:12:59.828Z"
      },
      {
        "duration": 18,
        "start_time": "2021-10-27T05:12:59.885Z"
      },
      {
        "duration": 22,
        "start_time": "2021-10-27T05:12:59.905Z"
      },
      {
        "duration": 80,
        "start_time": "2021-10-27T05:12:59.928Z"
      },
      {
        "duration": 84,
        "start_time": "2021-10-27T05:13:00.010Z"
      },
      {
        "duration": 51,
        "start_time": "2021-10-27T05:13:00.096Z"
      },
      {
        "duration": 21,
        "start_time": "2021-10-27T05:13:00.149Z"
      },
      {
        "duration": 17,
        "start_time": "2021-10-27T05:13:00.172Z"
      },
      {
        "duration": 768,
        "start_time": "2021-10-27T05:13:00.191Z"
      },
      {
        "duration": -220,
        "start_time": "2021-10-27T05:13:01.181Z"
      },
      {
        "duration": -225,
        "start_time": "2021-10-27T05:13:01.187Z"
      },
      {
        "duration": -235,
        "start_time": "2021-10-27T05:13:01.198Z"
      },
      {
        "duration": -242,
        "start_time": "2021-10-27T05:13:01.206Z"
      },
      {
        "duration": -253,
        "start_time": "2021-10-27T05:13:01.218Z"
      },
      {
        "duration": -263,
        "start_time": "2021-10-27T05:13:01.229Z"
      },
      {
        "duration": -267,
        "start_time": "2021-10-27T05:13:01.234Z"
      },
      {
        "duration": -270,
        "start_time": "2021-10-27T05:13:01.238Z"
      },
      {
        "duration": -276,
        "start_time": "2021-10-27T05:13:01.244Z"
      },
      {
        "duration": -281,
        "start_time": "2021-10-27T05:13:01.250Z"
      },
      {
        "duration": -286,
        "start_time": "2021-10-27T05:13:01.256Z"
      },
      {
        "duration": -289,
        "start_time": "2021-10-27T05:13:01.260Z"
      },
      {
        "duration": -293,
        "start_time": "2021-10-27T05:13:01.265Z"
      },
      {
        "duration": -310,
        "start_time": "2021-10-27T05:13:01.282Z"
      },
      {
        "duration": -313,
        "start_time": "2021-10-27T05:13:01.286Z"
      },
      {
        "duration": -318,
        "start_time": "2021-10-27T05:13:01.292Z"
      },
      {
        "duration": -322,
        "start_time": "2021-10-27T05:13:01.297Z"
      },
      {
        "duration": -324,
        "start_time": "2021-10-27T05:13:01.300Z"
      },
      {
        "duration": -329,
        "start_time": "2021-10-27T05:13:01.305Z"
      },
      {
        "duration": -332,
        "start_time": "2021-10-27T05:13:01.309Z"
      },
      {
        "duration": -335,
        "start_time": "2021-10-27T05:13:01.313Z"
      },
      {
        "duration": -337,
        "start_time": "2021-10-27T05:13:01.316Z"
      },
      {
        "duration": 840,
        "start_time": "2021-10-27T08:01:12.785Z"
      },
      {
        "duration": 311,
        "start_time": "2021-10-27T08:01:13.635Z"
      },
      {
        "duration": 61,
        "start_time": "2021-10-27T08:01:13.957Z"
      },
      {
        "duration": 63,
        "start_time": "2021-10-27T08:01:14.021Z"
      },
      {
        "duration": 12,
        "start_time": "2021-10-27T08:01:14.098Z"
      },
      {
        "duration": 51,
        "start_time": "2021-10-27T08:01:14.125Z"
      },
      {
        "duration": 5,
        "start_time": "2021-10-27T08:01:14.180Z"
      },
      {
        "duration": 36,
        "start_time": "2021-10-27T08:01:14.188Z"
      },
      {
        "duration": 22,
        "start_time": "2021-10-27T08:01:14.226Z"
      },
      {
        "duration": 30,
        "start_time": "2021-10-27T08:01:14.251Z"
      },
      {
        "duration": 111,
        "start_time": "2021-10-27T08:01:14.284Z"
      },
      {
        "duration": 111,
        "start_time": "2021-10-27T08:01:14.398Z"
      },
      {
        "duration": 80,
        "start_time": "2021-10-27T08:01:14.512Z"
      },
      {
        "duration": 30,
        "start_time": "2021-10-27T08:01:14.594Z"
      },
      {
        "duration": 4,
        "start_time": "2021-10-27T08:01:14.626Z"
      },
      {
        "duration": 677,
        "start_time": "2021-10-27T08:01:14.633Z"
      },
      {
        "duration": 65,
        "start_time": "2021-10-27T08:01:15.248Z"
      },
      {
        "duration": 60,
        "start_time": "2021-10-27T08:01:15.254Z"
      },
      {
        "duration": 59,
        "start_time": "2021-10-27T08:01:15.257Z"
      },
      {
        "duration": 58,
        "start_time": "2021-10-27T08:01:15.259Z"
      },
      {
        "duration": 56,
        "start_time": "2021-10-27T08:01:15.263Z"
      },
      {
        "duration": 55,
        "start_time": "2021-10-27T08:01:15.265Z"
      },
      {
        "duration": 55,
        "start_time": "2021-10-27T08:01:15.267Z"
      },
      {
        "duration": 53,
        "start_time": "2021-10-27T08:01:15.270Z"
      },
      {
        "duration": 53,
        "start_time": "2021-10-27T08:01:15.272Z"
      },
      {
        "duration": 52,
        "start_time": "2021-10-27T08:01:15.274Z"
      },
      {
        "duration": 46,
        "start_time": "2021-10-27T08:01:15.281Z"
      },
      {
        "duration": 46,
        "start_time": "2021-10-27T08:01:15.283Z"
      },
      {
        "duration": 45,
        "start_time": "2021-10-27T08:01:15.285Z"
      },
      {
        "duration": 45,
        "start_time": "2021-10-27T08:01:15.287Z"
      },
      {
        "duration": 43,
        "start_time": "2021-10-27T08:01:15.290Z"
      },
      {
        "duration": 43,
        "start_time": "2021-10-27T08:01:15.292Z"
      },
      {
        "duration": 40,
        "start_time": "2021-10-27T08:01:15.296Z"
      },
      {
        "duration": 39,
        "start_time": "2021-10-27T08:01:15.298Z"
      },
      {
        "duration": 37,
        "start_time": "2021-10-27T08:01:15.301Z"
      },
      {
        "duration": 37,
        "start_time": "2021-10-27T08:01:15.303Z"
      },
      {
        "duration": 35,
        "start_time": "2021-10-27T08:01:15.306Z"
      },
      {
        "duration": 34,
        "start_time": "2021-10-27T08:01:15.308Z"
      },
      {
        "duration": 1015,
        "start_time": "2021-10-27T08:09:20.471Z"
      },
      {
        "duration": 22,
        "start_time": "2021-10-27T08:12:27.929Z"
      },
      {
        "duration": 6,
        "start_time": "2021-10-27T08:12:56.507Z"
      },
      {
        "duration": 5,
        "start_time": "2021-10-27T08:13:07.274Z"
      },
      {
        "duration": 28,
        "start_time": "2021-10-27T08:13:14.359Z"
      },
      {
        "duration": 27,
        "start_time": "2021-10-27T08:15:03.416Z"
      },
      {
        "duration": 82,
        "start_time": "2021-10-27T08:15:09.825Z"
      },
      {
        "duration": 74,
        "start_time": "2021-10-27T08:15:19.255Z"
      },
      {
        "duration": 14,
        "start_time": "2021-10-27T08:15:26.461Z"
      },
      {
        "duration": 55,
        "start_time": "2021-10-27T08:16:20.342Z"
      },
      {
        "duration": 95,
        "start_time": "2021-10-27T08:16:46.460Z"
      },
      {
        "duration": 4,
        "start_time": "2021-10-27T08:17:21.860Z"
      },
      {
        "duration": 4,
        "start_time": "2021-10-27T08:18:34.937Z"
      },
      {
        "duration": 15,
        "start_time": "2021-10-27T08:18:40.437Z"
      },
      {
        "duration": 13,
        "start_time": "2021-10-27T08:18:47.497Z"
      },
      {
        "duration": 13,
        "start_time": "2021-10-27T08:18:51.960Z"
      },
      {
        "duration": 4,
        "start_time": "2021-10-27T08:25:14.771Z"
      },
      {
        "duration": 14,
        "start_time": "2021-10-27T08:25:18.656Z"
      },
      {
        "duration": 58,
        "start_time": "2021-10-27T08:27:22.956Z"
      },
      {
        "duration": 17,
        "start_time": "2021-10-27T08:28:02.282Z"
      },
      {
        "duration": 15,
        "start_time": "2021-10-27T08:28:07.208Z"
      },
      {
        "duration": 5,
        "start_time": "2021-10-27T08:28:46.392Z"
      },
      {
        "duration": 21,
        "start_time": "2021-10-27T08:28:49.122Z"
      },
      {
        "duration": 18,
        "start_time": "2021-10-27T08:28:49.952Z"
      },
      {
        "duration": 19,
        "start_time": "2021-10-27T08:28:50.480Z"
      },
      {
        "duration": 21,
        "start_time": "2021-10-27T08:28:50.922Z"
      },
      {
        "duration": 21,
        "start_time": "2021-10-27T08:28:51.282Z"
      },
      {
        "duration": 17,
        "start_time": "2021-10-27T08:28:51.730Z"
      },
      {
        "duration": 21,
        "start_time": "2021-10-27T08:29:13.418Z"
      },
      {
        "duration": 19,
        "start_time": "2021-10-27T08:29:13.991Z"
      },
      {
        "duration": 20,
        "start_time": "2021-10-27T08:29:15.091Z"
      },
      {
        "duration": 18,
        "start_time": "2021-10-27T08:29:15.665Z"
      },
      {
        "duration": 21,
        "start_time": "2021-10-27T08:29:16.165Z"
      },
      {
        "duration": 19,
        "start_time": "2021-10-27T08:29:16.782Z"
      },
      {
        "duration": 17,
        "start_time": "2021-10-27T08:29:20.700Z"
      },
      {
        "duration": 13,
        "start_time": "2021-10-27T08:29:27.662Z"
      },
      {
        "duration": 14,
        "start_time": "2021-10-27T08:29:40.396Z"
      },
      {
        "duration": 12,
        "start_time": "2021-10-27T08:29:40.903Z"
      },
      {
        "duration": 6,
        "start_time": "2021-10-27T08:29:45.023Z"
      },
      {
        "duration": 25,
        "start_time": "2021-10-27T08:29:48.753Z"
      },
      {
        "duration": 18,
        "start_time": "2021-10-27T08:30:00.473Z"
      },
      {
        "duration": 24,
        "start_time": "2021-10-27T08:30:01.509Z"
      },
      {
        "duration": 17,
        "start_time": "2021-10-27T08:30:02.417Z"
      },
      {
        "duration": 11,
        "start_time": "2021-10-27T08:30:11.889Z"
      },
      {
        "duration": 11,
        "start_time": "2021-10-27T08:30:39.306Z"
      },
      {
        "duration": 7,
        "start_time": "2021-10-27T08:30:45.843Z"
      },
      {
        "duration": 11,
        "start_time": "2021-10-27T08:30:59.491Z"
      },
      {
        "duration": 6,
        "start_time": "2021-10-27T08:31:00.786Z"
      },
      {
        "duration": 8,
        "start_time": "2021-10-27T08:31:06.070Z"
      },
      {
        "duration": 6,
        "start_time": "2021-10-27T08:31:11.639Z"
      },
      {
        "duration": 745,
        "start_time": "2021-10-27T08:31:44.181Z"
      },
      {
        "duration": 193,
        "start_time": "2021-10-27T08:31:44.929Z"
      },
      {
        "duration": 28,
        "start_time": "2021-10-27T08:31:45.126Z"
      },
      {
        "duration": 34,
        "start_time": "2021-10-27T08:31:45.158Z"
      },
      {
        "duration": 32,
        "start_time": "2021-10-27T08:31:45.194Z"
      },
      {
        "duration": 27,
        "start_time": "2021-10-27T08:31:45.228Z"
      },
      {
        "duration": 5,
        "start_time": "2021-10-27T08:31:45.259Z"
      },
      {
        "duration": 66,
        "start_time": "2021-10-27T08:31:45.269Z"
      },
      {
        "duration": 23,
        "start_time": "2021-10-27T08:31:45.338Z"
      },
      {
        "duration": 36,
        "start_time": "2021-10-27T08:31:45.363Z"
      },
      {
        "duration": 101,
        "start_time": "2021-10-27T08:31:45.402Z"
      },
      {
        "duration": 123,
        "start_time": "2021-10-27T08:31:45.505Z"
      },
      {
        "duration": 76,
        "start_time": "2021-10-27T08:31:45.631Z"
      },
      {
        "duration": 57,
        "start_time": "2021-10-27T08:31:45.722Z"
      },
      {
        "duration": 4,
        "start_time": "2021-10-27T08:31:45.781Z"
      },
      {
        "duration": 36,
        "start_time": "2021-10-27T08:31:45.788Z"
      },
      {
        "duration": 56,
        "start_time": "2021-10-27T08:31:45.826Z"
      },
      {
        "duration": 14,
        "start_time": "2021-10-27T08:31:45.884Z"
      },
      {
        "duration": 34,
        "start_time": "2021-10-27T08:31:45.900Z"
      },
      {
        "duration": 4,
        "start_time": "2021-10-27T08:31:45.937Z"
      },
      {
        "duration": 27,
        "start_time": "2021-10-27T08:31:45.944Z"
      },
      {
        "duration": 49,
        "start_time": "2021-10-27T08:31:45.974Z"
      },
      {
        "duration": 19,
        "start_time": "2021-10-27T08:31:46.027Z"
      },
      {
        "duration": 18,
        "start_time": "2021-10-27T08:31:46.048Z"
      },
      {
        "duration": 20,
        "start_time": "2021-10-27T08:31:46.069Z"
      },
      {
        "duration": 19,
        "start_time": "2021-10-27T08:31:46.122Z"
      },
      {
        "duration": 12,
        "start_time": "2021-10-27T08:31:46.143Z"
      },
      {
        "duration": 15,
        "start_time": "2021-10-27T08:31:46.158Z"
      },
      {
        "duration": 11,
        "start_time": "2021-10-27T08:31:46.176Z"
      },
      {
        "duration": 34,
        "start_time": "2021-10-27T08:31:46.190Z"
      },
      {
        "duration": 37,
        "start_time": "2021-10-27T08:31:46.226Z"
      },
      {
        "duration": 17,
        "start_time": "2021-10-27T08:31:46.266Z"
      },
      {
        "duration": 46,
        "start_time": "2021-10-27T08:31:46.285Z"
      },
      {
        "duration": 16,
        "start_time": "2021-10-27T08:31:46.334Z"
      },
      {
        "duration": 10,
        "start_time": "2021-10-27T08:31:46.352Z"
      },
      {
        "duration": 6,
        "start_time": "2021-10-27T08:31:46.365Z"
      },
      {
        "duration": 49,
        "start_time": "2021-10-27T08:31:46.373Z"
      },
      {
        "duration": 6,
        "start_time": "2021-10-27T08:31:46.425Z"
      },
      {
        "duration": 755,
        "start_time": "2021-10-27T08:38:26.097Z"
      },
      {
        "duration": 184,
        "start_time": "2021-10-27T08:38:26.855Z"
      },
      {
        "duration": 25,
        "start_time": "2021-10-27T08:38:27.042Z"
      },
      {
        "duration": 35,
        "start_time": "2021-10-27T08:38:27.070Z"
      },
      {
        "duration": 5,
        "start_time": "2021-10-27T08:38:27.123Z"
      },
      {
        "duration": 42,
        "start_time": "2021-10-27T08:38:27.130Z"
      },
      {
        "duration": 6,
        "start_time": "2021-10-27T08:38:27.174Z"
      },
      {
        "duration": 44,
        "start_time": "2021-10-27T08:38:27.183Z"
      },
      {
        "duration": 31,
        "start_time": "2021-10-27T08:38:27.230Z"
      },
      {
        "duration": 30,
        "start_time": "2021-10-27T08:38:27.263Z"
      },
      {
        "duration": 96,
        "start_time": "2021-10-27T08:38:27.295Z"
      },
      {
        "duration": 113,
        "start_time": "2021-10-27T08:38:27.393Z"
      },
      {
        "duration": 77,
        "start_time": "2021-10-27T08:38:27.508Z"
      },
      {
        "duration": 71,
        "start_time": "2021-10-27T08:38:27.587Z"
      },
      {
        "duration": 5,
        "start_time": "2021-10-27T08:38:27.660Z"
      },
      {
        "duration": 24,
        "start_time": "2021-10-27T08:38:27.668Z"
      },
      {
        "duration": 98,
        "start_time": "2021-10-27T08:38:27.695Z"
      },
      {
        "duration": 38,
        "start_time": "2021-10-27T08:38:27.796Z"
      },
      {
        "duration": 20,
        "start_time": "2021-10-27T08:38:27.837Z"
      },
      {
        "duration": 6,
        "start_time": "2021-10-27T08:38:27.860Z"
      },
      {
        "duration": 58,
        "start_time": "2021-10-27T08:38:27.869Z"
      },
      {
        "duration": 21,
        "start_time": "2021-10-27T08:38:27.930Z"
      },
      {
        "duration": 31,
        "start_time": "2021-10-27T08:38:27.955Z"
      },
      {
        "duration": 34,
        "start_time": "2021-10-27T08:38:27.989Z"
      },
      {
        "duration": 20,
        "start_time": "2021-10-27T08:38:28.026Z"
      },
      {
        "duration": 19,
        "start_time": "2021-10-27T08:38:28.048Z"
      },
      {
        "duration": 15,
        "start_time": "2021-10-27T08:38:28.069Z"
      },
      {
        "duration": 47,
        "start_time": "2021-10-27T08:38:28.086Z"
      },
      {
        "duration": 25,
        "start_time": "2021-10-27T08:38:28.135Z"
      },
      {
        "duration": 8,
        "start_time": "2021-10-27T08:38:28.163Z"
      },
      {
        "duration": 52,
        "start_time": "2021-10-27T08:38:28.173Z"
      },
      {
        "duration": 19,
        "start_time": "2021-10-27T08:38:28.228Z"
      },
      {
        "duration": 28,
        "start_time": "2021-10-27T08:38:28.250Z"
      },
      {
        "duration": 15,
        "start_time": "2021-10-27T08:38:28.281Z"
      },
      {
        "duration": 31,
        "start_time": "2021-10-27T08:38:28.298Z"
      },
      {
        "duration": 12,
        "start_time": "2021-10-27T08:38:28.331Z"
      },
      {
        "duration": 17,
        "start_time": "2021-10-27T08:38:28.346Z"
      },
      {
        "duration": 17,
        "start_time": "2021-10-27T08:38:28.365Z"
      },
      {
        "duration": 550,
        "start_time": "2021-10-27T14:59:38.676Z"
      },
      {
        "duration": 126,
        "start_time": "2021-10-27T14:59:39.228Z"
      },
      {
        "duration": 14,
        "start_time": "2021-10-27T14:59:39.356Z"
      },
      {
        "duration": 36,
        "start_time": "2021-10-27T14:59:39.372Z"
      },
      {
        "duration": 3,
        "start_time": "2021-10-27T14:59:39.410Z"
      },
      {
        "duration": 20,
        "start_time": "2021-10-27T14:59:39.415Z"
      },
      {
        "duration": 8,
        "start_time": "2021-10-27T14:59:39.437Z"
      },
      {
        "duration": 28,
        "start_time": "2021-10-27T14:59:39.448Z"
      },
      {
        "duration": 28,
        "start_time": "2021-10-27T14:59:39.478Z"
      },
      {
        "duration": 22,
        "start_time": "2021-10-27T14:59:39.508Z"
      },
      {
        "duration": 64,
        "start_time": "2021-10-27T14:59:39.532Z"
      },
      {
        "duration": 63,
        "start_time": "2021-10-27T14:59:39.598Z"
      },
      {
        "duration": 63,
        "start_time": "2021-10-27T14:59:39.663Z"
      },
      {
        "duration": 36,
        "start_time": "2021-10-27T14:59:39.728Z"
      },
      {
        "duration": 3,
        "start_time": "2021-10-27T14:59:39.766Z"
      },
      {
        "duration": 26,
        "start_time": "2021-10-27T14:59:39.770Z"
      },
      {
        "duration": 38,
        "start_time": "2021-10-27T14:59:39.798Z"
      },
      {
        "duration": 11,
        "start_time": "2021-10-27T14:59:39.837Z"
      },
      {
        "duration": 9,
        "start_time": "2021-10-27T14:59:39.849Z"
      },
      {
        "duration": 3,
        "start_time": "2021-10-27T14:59:39.860Z"
      },
      {
        "duration": 38,
        "start_time": "2021-10-27T14:59:39.864Z"
      },
      {
        "duration": 12,
        "start_time": "2021-10-27T14:59:39.904Z"
      },
      {
        "duration": 13,
        "start_time": "2021-10-27T14:59:39.918Z"
      },
      {
        "duration": 12,
        "start_time": "2021-10-27T14:59:39.932Z"
      },
      {
        "duration": 46,
        "start_time": "2021-10-27T14:59:39.946Z"
      },
      {
        "duration": 14,
        "start_time": "2021-10-27T14:59:39.993Z"
      },
      {
        "duration": 7,
        "start_time": "2021-10-27T14:59:40.009Z"
      },
      {
        "duration": 17,
        "start_time": "2021-10-27T14:59:40.018Z"
      },
      {
        "duration": 13,
        "start_time": "2021-10-27T14:59:40.036Z"
      },
      {
        "duration": 3,
        "start_time": "2021-10-27T14:59:40.050Z"
      },
      {
        "duration": 45,
        "start_time": "2021-10-27T14:59:40.055Z"
      },
      {
        "duration": 11,
        "start_time": "2021-10-27T14:59:40.102Z"
      },
      {
        "duration": 13,
        "start_time": "2021-10-27T14:59:40.115Z"
      },
      {
        "duration": 10,
        "start_time": "2021-10-27T14:59:40.130Z"
      },
      {
        "duration": 7,
        "start_time": "2021-10-27T14:59:40.141Z"
      },
      {
        "duration": 4,
        "start_time": "2021-10-27T14:59:40.149Z"
      },
      {
        "duration": 38,
        "start_time": "2021-10-27T14:59:40.154Z"
      },
      {
        "duration": 3,
        "start_time": "2021-10-27T14:59:40.194Z"
      },
      {
        "duration": 516,
        "start_time": "2021-11-10T13:07:21.446Z"
      },
      {
        "duration": 134,
        "start_time": "2021-11-10T13:07:21.964Z"
      },
      {
        "duration": 16,
        "start_time": "2021-11-10T13:07:22.100Z"
      },
      {
        "duration": 25,
        "start_time": "2021-11-10T13:07:22.117Z"
      },
      {
        "duration": 6,
        "start_time": "2021-11-10T13:07:22.144Z"
      },
      {
        "duration": 39,
        "start_time": "2021-11-10T13:07:22.152Z"
      },
      {
        "duration": 4,
        "start_time": "2021-11-10T13:07:22.193Z"
      },
      {
        "duration": 24,
        "start_time": "2021-11-10T13:07:22.199Z"
      },
      {
        "duration": 17,
        "start_time": "2021-11-10T13:07:22.224Z"
      },
      {
        "duration": 25,
        "start_time": "2021-11-10T13:07:22.243Z"
      },
      {
        "duration": 77,
        "start_time": "2021-11-10T13:07:22.269Z"
      },
      {
        "duration": 78,
        "start_time": "2021-11-10T13:07:22.348Z"
      },
      {
        "duration": 51,
        "start_time": "2021-11-10T13:07:22.428Z"
      },
      {
        "duration": 49,
        "start_time": "2021-11-10T13:07:22.480Z"
      },
      {
        "duration": 3,
        "start_time": "2021-11-10T13:07:22.531Z"
      },
      {
        "duration": 13,
        "start_time": "2021-11-10T13:07:22.535Z"
      },
      {
        "duration": 57,
        "start_time": "2021-11-10T13:07:22.550Z"
      },
      {
        "duration": 12,
        "start_time": "2021-11-10T13:07:22.608Z"
      },
      {
        "duration": 12,
        "start_time": "2021-11-10T13:07:22.622Z"
      },
      {
        "duration": 3,
        "start_time": "2021-11-10T13:07:22.635Z"
      },
      {
        "duration": 25,
        "start_time": "2021-11-10T13:07:22.640Z"
      },
      {
        "duration": 35,
        "start_time": "2021-11-10T13:07:22.667Z"
      },
      {
        "duration": 15,
        "start_time": "2021-11-10T13:07:22.705Z"
      },
      {
        "duration": 14,
        "start_time": "2021-11-10T13:07:22.721Z"
      },
      {
        "duration": 16,
        "start_time": "2021-11-10T13:07:22.737Z"
      },
      {
        "duration": 43,
        "start_time": "2021-11-10T13:07:22.755Z"
      },
      {
        "duration": 8,
        "start_time": "2021-11-10T13:07:22.799Z"
      },
      {
        "duration": 13,
        "start_time": "2021-11-10T13:07:22.809Z"
      },
      {
        "duration": 8,
        "start_time": "2021-11-10T13:07:22.824Z"
      },
      {
        "duration": 5,
        "start_time": "2021-11-10T13:07:22.834Z"
      },
      {
        "duration": 29,
        "start_time": "2021-11-10T13:07:22.840Z"
      },
      {
        "duration": 13,
        "start_time": "2021-11-10T13:07:22.892Z"
      },
      {
        "duration": 17,
        "start_time": "2021-11-10T13:07:22.907Z"
      },
      {
        "duration": 12,
        "start_time": "2021-11-10T13:07:22.926Z"
      },
      {
        "duration": 9,
        "start_time": "2021-11-10T13:07:22.940Z"
      },
      {
        "duration": 42,
        "start_time": "2021-11-10T13:07:22.951Z"
      },
      {
        "duration": 7,
        "start_time": "2021-11-10T13:07:22.995Z"
      },
      {
        "duration": 7,
        "start_time": "2021-11-10T13:07:23.004Z"
      }
    ],
    "colab": {
      "collapsed_sections": [
        "E0vqbgi9ay0H",
        "VUC88oWjTJw2"
      ],
      "name": "19d1e770-027a-4013-898f-de09405aebce.ipynb",
      "provenance": []
    },
    "kernelspec": {
      "display_name": "Python 3 (ipykernel)",
      "language": "python",
      "name": "python3"
    },
    "language_info": {
      "codemirror_mode": {
        "name": "ipython",
        "version": 3
      },
      "file_extension": ".py",
      "mimetype": "text/x-python",
      "name": "python",
      "nbconvert_exporter": "python",
      "pygments_lexer": "ipython3",
      "version": "3.9.5"
    },
    "toc": {
      "base_numbering": 1,
      "nav_menu": {},
      "number_sections": true,
      "sideBar": true,
      "skip_h1_title": true,
      "title_cell": "Table of Contents",
      "title_sidebar": "Contents",
      "toc_cell": false,
      "toc_position": {},
      "toc_section_display": true,
      "toc_window_display": true
    }
  },
  "nbformat": 4,
  "nbformat_minor": 0
}